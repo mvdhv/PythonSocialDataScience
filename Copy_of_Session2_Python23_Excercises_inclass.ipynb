{
  "nbformat": 4,
  "nbformat_minor": 0,
  "metadata": {
    "colab": {
      "provenance": [],
      "include_colab_link": true
    },
    "kernelspec": {
      "name": "python3",
      "display_name": "Python 3"
    },
    "language_info": {
      "name": "python"
    }
  },
  "cells": [
    {
      "cell_type": "markdown",
      "metadata": {
        "id": "view-in-github",
        "colab_type": "text"
      },
      "source": [
        "<a href=\"https://colab.research.google.com/github/mvdhv/PythonSocialDataScience/blob/main/Copy_of_Session2_Python23_Excercises_inclass.ipynb\" target=\"_parent\"><img src=\"https://colab.research.google.com/assets/colab-badge.svg\" alt=\"Open In Colab\"/></a>"
      ]
    },
    {
      "cell_type": "markdown",
      "metadata": {
        "id": "0mdbXxoYboqo"
      },
      "source": [
        "#**Session 2**\n",
        "# In Class Excercises"
      ]
    },
    {
      "cell_type": "markdown",
      "metadata": {
        "id": "6ptDtl-Lboqp"
      },
      "source": [
        "**Exercise 1**\n",
        "\n",
        "1. count how the occurence of each letter in the sentence. Hint: use the Counter library in python\n",
        "2. count number of characters/letters only (no white space, no punctuation) - hint use the replace in-built function in python."
      ]
    },
    {
      "cell_type": "code",
      "execution_count": 28,
      "metadata": {
        "collapsed": true,
        "id": "3TE4jk27boqp",
        "colab": {
          "base_uri": "https://localhost:8080/"
        },
        "outputId": "9980bf06-5907-4d1a-ac8b-5e53a092f4cb"
      },
      "outputs": [
        {
          "output_type": "stream",
          "name": "stdout",
          "text": [
            "{'a': 7, 'b': 2, 'c': 1, 'd': 4, 'e': 10, 'f': 3, 'g': 1, 'h': 1, 'i': 5, 'j': 0, 'k': 0, 'l': 8, 'm': 3, 'n': 5, 'o': 7, 'p': 0, 'q': 1, 'r': 3, 's': 2, 't': 7, 'u': 2, 'v': 0, 'w': 1, 'x': 1, 'y': 2, 'z': 0}\n"
          ]
        }
      ],
      "source": [
        "sentence=(\"Hello World, I am so excited; to finally be able to get out of quarantine and meet all my friends\")\n",
        "import string\n",
        "\n",
        "#First, I manipulated the sentence to lower case all characters and remove any punctuations.\n",
        "\n",
        "sentence_new = sentence.lower()\n",
        "sentence_new\n",
        "\n",
        "sentence_new2 = sentence_new.translate(str.maketrans('', '', string.punctuation))\n",
        "sentence_new2\n",
        "\n",
        "#Second, I create an empty dictionary to store the occurence of each English letter/character.\n",
        "\n",
        "import string\n",
        "letters = string.ascii_lowercase[:26]\n",
        "letters\n",
        "\n",
        "letter_dic = dict()\n",
        "\n",
        "for x in range(0, 26):\n",
        "  letter_dic[letters[x]] = 0\n",
        "\n",
        "#Third, I cound the occurences of each letter/character in the non-punctuated sentence and store the values of occurences in the dictionary.\n",
        "\n",
        "for letter in sentence_new2:\n",
        "  if letter == \" \":\n",
        "    continue\n",
        "  else:\n",
        "    letter_dic[letter] = letter_dic[letter] + 1\n",
        "\n",
        "print(letter_dic)"
      ]
    },
    {
      "cell_type": "markdown",
      "metadata": {
        "id": "uOCwmewGboqp"
      },
      "source": [
        "**Excercise 2**\n",
        "\n",
        "why do we see an error message here"
      ]
    },
    {
      "cell_type": "code",
      "execution_count": 29,
      "metadata": {
        "id": "CFwkwLATboqp",
        "outputId": "972f9514-e4f2-4145-b8a3-e2d50c4d6235",
        "colab": {
          "base_uri": "https://localhost:8080/",
          "height": 165
        }
      },
      "outputs": [
        {
          "output_type": "error",
          "ename": "TypeError",
          "evalue": "ignored",
          "traceback": [
            "\u001b[0;31m---------------------------------------------------------------------------\u001b[0m",
            "\u001b[0;31mTypeError\u001b[0m                                 Traceback (most recent call last)",
            "\u001b[0;32m<ipython-input-29-6992eceb69c6>\u001b[0m in \u001b[0;36m<module>\u001b[0;34m\u001b[0m\n\u001b[0;32m----> 1\u001b[0;31m \u001b[0mvar\u001b[0m \u001b[0;34m=\u001b[0m \u001b[0;36m100\u001b[0m \u001b[0;34m+\u001b[0m \u001b[0;34m\"the number 100\"\u001b[0m\u001b[0;34m\u001b[0m\u001b[0;34m\u001b[0m\u001b[0m\n\u001b[0m",
            "\u001b[0;31mTypeError\u001b[0m: unsupported operand type(s) for +: 'int' and 'str'"
          ]
        }
      ],
      "source": [
        "var = 100 + \"the number 100\""
      ]
    },
    {
      "cell_type": "markdown",
      "source": [
        "Answer: We see an error because we are trying to add an integer value to a string value"
      ],
      "metadata": {
        "id": "3o9_2NGrDLJD"
      }
    },
    {
      "cell_type": "markdown",
      "metadata": {
        "id": "IM9GWqo_boqq"
      },
      "source": [
        "**Excercise 3**\n",
        "\n",
        "- Save your first and last name in lowercase in seperate variables: firstname, lastname\n",
        "- Save first and last name together in a new variable fullname\n",
        "- Print your fullname where the first letter of each name is capitalized\n",
        "\n",
        "Hint\n",
        "\n",
        "- Make sure there is space between both names\n"
      ]
    },
    {
      "cell_type": "code",
      "source": [
        "firstname = \"madhav\"\n",
        "lastname = \"singh\"\n",
        "\n",
        "fullname = firstname + \" \" + lastname\n",
        "fullname"
      ],
      "metadata": {
        "colab": {
          "base_uri": "https://localhost:8080/",
          "height": 36
        },
        "id": "2icq5puPDrK9",
        "outputId": "818dad04-2188-4e7c-b20f-b6726e2c08aa"
      },
      "execution_count": 30,
      "outputs": [
        {
          "output_type": "execute_result",
          "data": {
            "text/plain": [
              "'madhav singh'"
            ],
            "application/vnd.google.colaboratory.intrinsic+json": {
              "type": "string"
            }
          },
          "metadata": {},
          "execution_count": 30
        }
      ]
    },
    {
      "cell_type": "code",
      "source": [
        "fullname.title()"
      ],
      "metadata": {
        "colab": {
          "base_uri": "https://localhost:8080/",
          "height": 36
        },
        "id": "PTDBEy9fEC1f",
        "outputId": "b7e39bf9-8c1f-467a-b718-f70aadd9a862"
      },
      "execution_count": 31,
      "outputs": [
        {
          "output_type": "execute_result",
          "data": {
            "text/plain": [
              "'Madhav Singh'"
            ],
            "application/vnd.google.colaboratory.intrinsic+json": {
              "type": "string"
            }
          },
          "metadata": {},
          "execution_count": 31
        }
      ]
    },
    {
      "cell_type": "markdown",
      "metadata": {
        "id": "NbsqJmIyboqq"
      },
      "source": [
        "**Excercise 4**\n",
        "\n",
        "Count number of lowercase and uppercase letters\n",
        "\n",
        "Note: There are several ways to do this"
      ]
    },
    {
      "cell_type": "code",
      "execution_count": 32,
      "metadata": {
        "collapsed": true,
        "id": "8Vp4znNnboqr",
        "colab": {
          "base_uri": "https://localhost:8080/"
        },
        "outputId": "142e685b-b29b-4ad4-e62d-10d0f41aa1fb"
      },
      "outputs": [
        {
          "output_type": "stream",
          "name": "stdout",
          "text": [
            "{'Lower Case': 6, 'Upper Case': 4}\n"
          ]
        }
      ],
      "source": [
        "my_word = \"HelLo WorLd\"\n",
        "\n",
        "diction = {\"Lower Case\": 0, \"Upper Case\": 0}\n",
        "\n",
        "for letter in my_word:\n",
        "  if letter == \" \":\n",
        "    continue\n",
        "  \n",
        "  else:\n",
        "\n",
        "    if letter == letter.lower():\n",
        "      diction[\"Lower Case\"] = diction[\"Lower Case\"] + 1\n",
        "    \n",
        "    else:\n",
        "      diction[\"Upper Case\"] = diction[\"Upper Case\"] + 1\n",
        "\n",
        "print(diction)"
      ]
    },
    {
      "cell_type": "markdown",
      "metadata": {
        "collapsed": true,
        "id": "0qOdYmrtboqr"
      },
      "source": [
        "**Excercise 5** \n",
        "\n",
        "Focusing on manipulating lists!\n",
        "\n",
        "1. count how many times bananas occur\n",
        "2. save last item in the list in the variable \"oneitem\"\n",
        "3. save the third item in the list in the variable \"thirditem\"\n",
        "4. return the items from the beginning to \"chocolate\"\n",
        "5. add a new element to the list called \"beef\"\n",
        "6. remove first element of list, uses pop function\n",
        "7. Insert \"grapes\" instead of oranges\n",
        "8. sort this list in ascending numbers,  numbers=[1,9,8,5,2,7]\n",
        "\n",
        "Make sure you dont overwrite the original list (by creating new lists)"
      ]
    },
    {
      "cell_type": "code",
      "execution_count": 26,
      "metadata": {
        "collapsed": true,
        "id": "g1Hpkk5Cboqs",
        "colab": {
          "base_uri": "https://localhost:8080/"
        },
        "outputId": "8b9e6938-9f43-4115-f4c3-8029ffc3d559"
      },
      "outputs": [
        {
          "output_type": "stream",
          "name": "stdout",
          "text": [
            "2\n",
            "bananas\n",
            "bananas\n",
            "['apples', 'oranges', 'bananas', 'chocolate']\n",
            "['apples', 'oranges', 'bananas', 'chocolate', 'strawberries', 'bananas', 'beef']\n",
            "['oranges', 'grapes', 'chocolate', 'strawberries', 'bananas', 'beef']\n"
          ]
        }
      ],
      "source": [
        "food=[\"apples\",\"oranges\",\"bananas\",\"chocolate\",\"strawberries\",\"bananas\"]\n",
        "\n",
        "#Count how many times bananas occur:\n",
        "\n",
        "from collections import Counter\n",
        "\n",
        "c = Counter(food) \n",
        "print(c[\"bananas\"])\n",
        "\n",
        "#save last item:\n",
        "\n",
        "oneitem = food[-1]\n",
        "print(oneitem)\n",
        "\n",
        "#save third item:\n",
        "\n",
        "thirditem = food[2]\n",
        "print(thirditem)\n",
        "\n",
        "# q4\n",
        "\n",
        "print(food[:4])\n",
        "\n",
        "# q5\n",
        "food.append(\"beef\")\n",
        "print(food)\n",
        "\n",
        "# q6\n",
        "food.pop(0)\n",
        "\n",
        "# q7\n",
        "food[1] = \"grapes\"\n",
        "print(food)\n"
      ]
    },
    {
      "cell_type": "code",
      "execution_count": 27,
      "metadata": {
        "collapsed": true,
        "id": "DJj-YZ48boqs"
      },
      "outputs": [],
      "source": [
        "numbers1 = [1,9,8,5,2,7]\n",
        "numbers1.sort()"
      ]
    },
    {
      "cell_type": "markdown",
      "metadata": {
        "id": "u8S3gMD8boqt"
      },
      "source": [
        "**Excercise 6**\n",
        "\n",
        "Print this string in multi-lines (broken lines) - save in variable \"paragraph\":\n",
        "\n",
        "Line 1: I am going to start writing a paragraph <br\\>\n",
        "Line 2: It shoudldnt be too long <br\\>\n",
        "Line 3: I will keep it short"
      ]
    },
    {
      "cell_type": "code",
      "source": [
        "paragraph = \"I am going to start writing a paragraph\\nIt shouldn't be too long\\nI will keep it short\"\n",
        "\n",
        "print(paragraph)"
      ],
      "metadata": {
        "colab": {
          "base_uri": "https://localhost:8080/"
        },
        "id": "uNpUDF5EJcDi",
        "outputId": "421cdd00-886b-464d-d062-7882e7107519"
      },
      "execution_count": 39,
      "outputs": [
        {
          "output_type": "stream",
          "name": "stdout",
          "text": [
            "I am going to start writing a paragraph\n",
            "It shouldn't be too long\n",
            "I will keep it short\n"
          ]
        }
      ]
    },
    {
      "cell_type": "markdown",
      "metadata": {
        "id": "drFsEWefboqt"
      },
      "source": [
        "**Excercise 7**\n",
        "\n",
        "Use once negative and once positive indexing<br\\>\n",
        "to print the letter n  \n",
        "\n"
      ]
    },
    {
      "cell_type": "code",
      "execution_count": 43,
      "metadata": {
        "collapsed": true,
        "id": "cGWPzXOcboqt",
        "colab": {
          "base_uri": "https://localhost:8080/",
          "height": 36
        },
        "outputId": "baf20ab8-916c-49b6-85fc-a35dd58c9dd3"
      },
      "outputs": [
        {
          "output_type": "execute_result",
          "data": {
            "text/plain": [
              "'n'"
            ],
            "application/vnd.google.colaboratory.intrinsic+json": {
              "type": "string"
            }
          },
          "metadata": {},
          "execution_count": 43
        }
      ],
      "source": [
        "newsentence= \"This is a new sentece for Excercise 7\"\n",
        "\n",
        "newsentence[-21]\n",
        "newsentence[10]"
      ]
    },
    {
      "cell_type": "markdown",
      "metadata": {
        "id": "wmtYTfFkboqt"
      },
      "source": [
        "**Excercise 8**\n",
        "\n",
        "Add space between every letter of the string below\n"
      ]
    },
    {
      "cell_type": "code",
      "execution_count": 59,
      "metadata": {
        "collapsed": true,
        "id": "lujzRIm9boqu",
        "colab": {
          "base_uri": "https://localhost:8080/"
        },
        "outputId": "725dce08-5486-4eec-b028-04d542da77f7"
      },
      "outputs": [
        {
          "output_type": "stream",
          "name": "stdout",
          "text": [
            "T e s t   S t r i n g\n"
          ]
        }
      ],
      "source": [
        "emptystring1 = \"\"\n",
        "string4=\"Test String\"\n",
        "\n",
        "for letter in string4:\n",
        "  if (letter == string4[-1]):\n",
        "    emptystring1 = emptystring1 + letter\n",
        "\n",
        "  else:\n",
        "    emptystring1 = emptystring1 + letter + \" \"\n",
        "  \n",
        "print(emptystring1)\n",
        "\n"
      ]
    },
    {
      "cell_type": "markdown",
      "metadata": {
        "id": "XQ_IURYiboqw"
      },
      "source": [
        "**Excercise 9**\n",
        "\n",
        "Dictionaries \n",
        "1. print all keys in the dictionary below\n",
        "2. print all values in the dictionary below"
      ]
    },
    {
      "cell_type": "code",
      "execution_count": 71,
      "metadata": {
        "collapsed": true,
        "id": "KoZ-hRlvboqw",
        "colab": {
          "base_uri": "https://localhost:8080/"
        },
        "outputId": "de33af88-ab8c-4a9f-ac00-5f96bdb3c57b"
      },
      "outputs": [
        {
          "output_type": "stream",
          "name": "stdout",
          "text": [
            "teaching\n",
            "dissertation\n",
            "coffee\n",
            "2\n",
            "10\n",
            "20\n"
          ]
        },
        {
          "output_type": "execute_result",
          "data": {
            "text/plain": [
              "dict_values([2, 10, 20])"
            ]
          },
          "metadata": {},
          "execution_count": 71
        }
      ],
      "source": [
        "phd_dictionary={\"teaching\": 2,\"dissertation\":10,\"coffee\":20}\n",
        "\n",
        "#Print all the keys:\n",
        "\n",
        "for k,v in phd_dictionary.items():\n",
        "  print(k)\n",
        "\n",
        "#Or\n",
        "\n",
        "phd_dictionary.keys()\n",
        "\n",
        "#Print all the values:\n",
        "\n",
        "for k,v in phd_dictionary.items():\n",
        "  print(v)\n",
        "\n",
        "#Or\n",
        "\n",
        "phd_dictionary.values()\n"
      ]
    },
    {
      "cell_type": "markdown",
      "metadata": {
        "id": "d0BpDlV0boqx"
      },
      "source": [
        "**Excercise 10**\n",
        "\n",
        "1. Please find the numbers that are common from list1 and list2 using list comprehesion. There are several ways to solve this. Hint: remember boolean operations, and check the usage of if in list comprehensions\n",
        "2. Please fine the numbers that are common from list1 and list2 using intersection. Hint: Think how sets can come handy here"
      ]
    },
    {
      "cell_type": "code",
      "execution_count": 10,
      "metadata": {
        "collapsed": true,
        "id": "O0AgvM68boqx",
        "colab": {
          "base_uri": "https://localhost:8080/"
        },
        "outputId": "b56e8b2a-43b9-4e7d-fd9b-18605c76a0a5"
      },
      "outputs": [
        {
          "output_type": "stream",
          "name": "stdout",
          "text": [
            "[2, 3, 4]\n",
            "{2, 3, 4}\n"
          ]
        }
      ],
      "source": [
        "list_a = [1, 2, 3, 4]\n",
        "list_b = [2, 3, 4, 5]\n",
        "\n",
        "# Question 1:\n",
        "newlist = [x for x in list_a if x in list_b]\n",
        "print(newlist)\n",
        "\n",
        "#Question 2:\n",
        "newlist2 = set(list_a).intersection(list_b)\n",
        "print(newlist2)\n"
      ]
    },
    {
      "cell_type": "markdown",
      "metadata": {
        "id": "9JmwXLpeboqx"
      },
      "source": [
        "**Excercise 11**\n",
        "\n",
        "Why is this code showing an error message?"
      ]
    },
    {
      "cell_type": "code",
      "execution_count": null,
      "metadata": {
        "id": "iZDFG_yIboqx",
        "outputId": "62829a8e-bb34-41e7-f9b3-2b727185f2e1"
      },
      "outputs": [
        {
          "ename": "TypeError",
          "evalue": "unhashable type: 'list'",
          "output_type": "error",
          "traceback": [
            "\u001b[0;31m---------------------------------------------------------------------------\u001b[0m",
            "\u001b[0;31mTypeError\u001b[0m                                 Traceback (most recent call last)",
            "\u001b[0;32m<ipython-input-56-ccef57d36bc1>\u001b[0m in \u001b[0;36m<module>\u001b[0;34m()\u001b[0m\n\u001b[0;32m----> 1\u001b[0;31m \u001b[0mmy_set\u001b[0m \u001b[0;34m=\u001b[0m \u001b[0;34m{\u001b[0m\u001b[0;36m1\u001b[0m\u001b[0;34m,\u001b[0m \u001b[0;36m2\u001b[0m\u001b[0;34m,\u001b[0m \u001b[0;34m[\u001b[0m\u001b[0;36m3\u001b[0m\u001b[0;34m,\u001b[0m \u001b[0;36m4\u001b[0m\u001b[0;34m]\u001b[0m\u001b[0;34m}\u001b[0m\u001b[0;34m\u001b[0m\u001b[0;34m\u001b[0m\u001b[0m\n\u001b[0m\u001b[1;32m      2\u001b[0m \u001b[0;34m\u001b[0m\u001b[0m\n",
            "\u001b[0;31mTypeError\u001b[0m: unhashable type: 'list'"
          ]
        }
      ],
      "source": [
        "my_set = {1, 2, [3, 4]}"
      ]
    },
    {
      "cell_type": "markdown",
      "source": [
        "This code is showing an error message because we are trying to save a list as a set."
      ],
      "metadata": {
        "id": "Hp9uWHJT4l3_"
      }
    },
    {
      "cell_type": "markdown",
      "metadata": {
        "id": "9ECAtyuVboqy"
      },
      "source": [
        "**Excercise 12**\n",
        "1. Show the Union between both sets\n",
        "2. Show the Intersection between both sets\n",
        "3. Show Set Difference\n",
        "4. Show Set Systematic Difference"
      ]
    },
    {
      "cell_type": "code",
      "execution_count": 17,
      "metadata": {
        "collapsed": true,
        "id": "KRY6wnokboqy",
        "colab": {
          "base_uri": "https://localhost:8080/"
        },
        "outputId": "3a09ef6c-6ac3-4049-f1ea-e3d67b02af56"
      },
      "outputs": [
        {
          "output_type": "stream",
          "name": "stdout",
          "text": [
            "{800, 100, 200, 300, 400, 500, 600, 700}\n",
            "{400, 500}\n",
            "{200, 100, 300}\n",
            "{800, 100, 300, 600, 700, 200}\n"
          ]
        }
      ],
      "source": [
        "x = {100, 200, 300, 400, 500}\n",
        "z = {400, 500, 600, 700, 800}\n",
        "\n",
        "union = x.union(z)\n",
        "print(union)\n",
        "\n",
        "inter = x.intersection(z)\n",
        "print(inter)\n",
        "\n",
        "set_difference = x.difference(z)\n",
        "print(set_difference)\n",
        "\n",
        "set_diff2 = x.symmetric_difference(z)\n",
        "print(set_diff2)"
      ]
    },
    {
      "cell_type": "markdown",
      "metadata": {
        "id": "kMBCbtxJboqy"
      },
      "source": [
        "**Excercise 13**\n",
        "\n",
        "Nested Dictionaries are dictionaries within dictionaries.\n",
        "1. Print values for birds in general\n",
        "2. Print values of the Orchids\n"
      ]
    },
    {
      "cell_type": "code",
      "execution_count": 18,
      "metadata": {
        "id": "Ap4sZzIwboqy",
        "outputId": "dee5da08-80b8-4ea9-8be6-bf3a57941816",
        "colab": {
          "base_uri": "https://localhost:8080/"
        }
      },
      "outputs": [
        {
          "output_type": "execute_result",
          "data": {
            "text/plain": [
              "{'birds': {'Parrots': 5, 'Owls': 9},\n",
              " 'flowers': {'Sunflower': 2, 'Lilly': 10, 'Orchids': 20}}"
            ]
          },
          "metadata": {},
          "execution_count": 18
        }
      ],
      "source": [
        "nested_dict = { 'birds': {'Parrots': 5, \"Owls\":9},\n",
        "                'flowers': {'Sunflower': 2, \"Lilly\":10,\"Orchids\":20}}\n",
        "nested_dict"
      ]
    },
    {
      "cell_type": "code",
      "execution_count": 20,
      "metadata": {
        "collapsed": true,
        "id": "GB9qNIw6boqz",
        "colab": {
          "base_uri": "https://localhost:8080/"
        },
        "outputId": "75e23725-67ec-43bf-c291-c21a44001e38"
      },
      "outputs": [
        {
          "output_type": "stream",
          "name": "stdout",
          "text": [
            "{'Parrots': 5, 'Owls': 9}\n"
          ]
        }
      ],
      "source": [
        "print(nested_dict[\"birds\"])"
      ]
    },
    {
      "cell_type": "code",
      "execution_count": 27,
      "metadata": {
        "collapsed": true,
        "id": "WaRPWhIcboqz",
        "colab": {
          "base_uri": "https://localhost:8080/"
        },
        "outputId": "6a6d38ed-6bec-4ffa-9cc7-6719ffbafab4"
      },
      "outputs": [
        {
          "output_type": "stream",
          "name": "stdout",
          "text": [
            "20\n"
          ]
        }
      ],
      "source": [
        "print(nested_dict[\"flowers\"][\"Orchids\"])"
      ]
    }
  ]
}