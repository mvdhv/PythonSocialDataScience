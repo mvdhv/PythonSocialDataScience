{
  "cells": [
    {
      "cell_type": "markdown",
      "metadata": {
        "id": "view-in-github",
        "colab_type": "text"
      },
      "source": [
        "<a href=\"https://colab.research.google.com/github/aelshehawy/PythonSocialDataScience/blob/main/Session_2_Python23.ipynb\" target=\"_parent\"><img src=\"https://colab.research.google.com/assets/colab-badge.svg\" alt=\"Open In Colab\"/></a>"
      ]
    },
    {
      "cell_type": "markdown",
      "metadata": {
        "id": "DOvqOb1Vj14A"
      },
      "source": [
        "# **Session 2 Python**\n"
      ]
    },
    {
      "cell_type": "markdown",
      "source": [
        "\n",
        "\n",
        "- In case anyone is interested in how to format in markdown mode nicely in Jupyter notebooks: https://github.com/adam-p/markdown-here/wiki/Markdown-Cheatsheet"
      ],
      "metadata": {
        "id": "_mQ_8JJelRyZ"
      }
    },
    {
      "cell_type": "markdown",
      "metadata": {
        "id": "br0qaHdRj14C"
      },
      "source": [
        "# Main Learning Goals today:\n"
      ]
    },
    {
      "cell_type": "markdown",
      "metadata": {
        "id": "YqKJA9Roj14D"
      },
      "source": [
        "**More on Data Structures**\n",
        "\n",
        "1. Sets\n",
        "2. Lists\n",
        "3. Dictionaries\n",
        "4. Tuples\n",
        "\n",
        "**List comprehesion**\n",
        "\n",
        "**Loops**\n",
        "* for loops\n",
        "* if, else, elif loops - conditional loops\n",
        "* while loops\n",
        "* continue and break commands\n",
        "\n",
        "**Appending Lists**\n",
        "\n",
        "\n",
        "\n"
      ]
    },
    {
      "cell_type": "markdown",
      "metadata": {
        "id": "2gDFH22lbop_"
      },
      "source": [
        "# **Data Structures in Python**"
      ]
    },
    {
      "cell_type": "markdown",
      "metadata": {
        "id": "qmTCjAnKboqA"
      },
      "source": [
        "### Lists\n",
        "\n",
        "ordered, changable, allows duplicated items"
      ]
    },
    {
      "cell_type": "code",
      "source": [
        "list1=[2,3,\"item1\"]\n",
        "print(list)"
      ],
      "metadata": {
        "id": "c5K4iKJdnr74"
      },
      "execution_count": null,
      "outputs": []
    },
    {
      "cell_type": "markdown",
      "source": [
        "create empty list"
      ],
      "metadata": {
        "id": "EViiGhy1EX9p"
      }
    },
    {
      "cell_type": "code",
      "source": [
        "# Create an empty list to hold our users.\n",
        "usernames "
      ],
      "metadata": {
        "id": "yG1Ug2vtEaKl"
      },
      "execution_count": null,
      "outputs": []
    },
    {
      "cell_type": "markdown",
      "source": [
        "append items in list"
      ],
      "metadata": {
        "id": "6UfVFBKznyXq"
      }
    },
    {
      "cell_type": "code",
      "source": [
        "# Add some users.\n"
      ],
      "metadata": {
        "id": "W91FHSbREjJx"
      },
      "execution_count": null,
      "outputs": []
    },
    {
      "cell_type": "markdown",
      "source": [
        "creating lists and checking length"
      ],
      "metadata": {
        "id": "8a1WJ7nHEmsT"
      }
    },
    {
      "cell_type": "markdown",
      "source": [
        "insert list item"
      ],
      "metadata": {
        "id": "tur4fUMVExuJ"
      }
    },
    {
      "cell_type": "markdown",
      "source": [
        "modifying list elements"
      ],
      "metadata": {
        "id": "5cFfqtRnFR42"
      }
    },
    {
      "cell_type": "markdown",
      "metadata": {
        "id": "Svth87UCboqB"
      },
      "source": [
        "**VERY IMPORTANT** In Python counting of items/observations always starts with 0"
      ]
    },
    {
      "cell_type": "markdown",
      "source": [
        "access list items through indexing"
      ],
      "metadata": {
        "id": "w-SHhhl8E_z4"
      }
    },
    {
      "cell_type": "code",
      "source": [
        "#select list items"
      ],
      "metadata": {
        "id": "KngA7NsCoEim"
      },
      "execution_count": null,
      "outputs": []
    },
    {
      "cell_type": "code",
      "execution_count": null,
      "metadata": {
        "id": "H7hG9IgxboqE"
      },
      "outputs": [],
      "source": [
        "#select range, slice slice\n"
      ]
    },
    {
      "cell_type": "code",
      "source": [
        "#accessing last item\n"
      ],
      "metadata": {
        "id": "uFfpOI57FhYG"
      },
      "execution_count": null,
      "outputs": []
    },
    {
      "cell_type": "markdown",
      "source": [
        "sort numerical list"
      ],
      "metadata": {
        "id": "bfHj1fy9EHRz"
      }
    },
    {
      "cell_type": "code",
      "source": [
        "numbers = [1, 3, 4, 2]\n",
        "\n"
      ],
      "metadata": {
        "id": "XWK0XYY4EGdK"
      },
      "execution_count": null,
      "outputs": []
    },
    {
      "cell_type": "code",
      "source": [
        "#reverse sorting\n",
        "numbers = [1, 3, 4, 2]\n",
        "\n"
      ],
      "metadata": {
        "id": "aXSFGabeELkU"
      },
      "execution_count": null,
      "outputs": []
    },
    {
      "cell_type": "markdown",
      "source": [
        "removing items by value\n",
        "\n",
        "Be careful: only the first item with this value is removed. If you have multiple items with the same value, you will have some items with this value left in your list.\n",
        "\n"
      ],
      "metadata": {
        "id": "iGjPWQQ0Dasi"
      }
    },
    {
      "cell_type": "code",
      "source": [
        "letters = ['a', 'b', 'c', 'a', 'b', 'c']\n",
        "# Remove the letter a from the list.\n"
      ],
      "metadata": {
        "id": "ibSb8QgxDdPu"
      },
      "execution_count": null,
      "outputs": []
    },
    {
      "cell_type": "markdown",
      "source": [
        "Popping items from list:\n",
        "\n",
        "The pop() function removes the last item from the list, and gives it to us so we can work with it. \n",
        "\n",
        "This is easier to show with an example:"
      ],
      "metadata": {
        "id": "m3m3TZkUC2dX"
      }
    },
    {
      "cell_type": "code",
      "source": [
        "beach = ['sun', 'sand', 'waves']\n",
        "\n"
      ],
      "metadata": {
        "id": "1geQR8BVC59I"
      },
      "execution_count": null,
      "outputs": []
    },
    {
      "cell_type": "code",
      "source": [
        "#customize pop\n",
        "beach = ['sun', 'sand', 'waves']\n"
      ],
      "metadata": {
        "id": "pUL8AvC2DUo0"
      },
      "execution_count": null,
      "outputs": []
    },
    {
      "cell_type": "markdown",
      "source": [
        "min, max, sum in lists"
      ],
      "metadata": {
        "id": "N1P4poK2CoyE"
      }
    },
    {
      "cell_type": "code",
      "source": [
        "ages = [23, 16, 14, 28, 19, 11, 38]\n",
        "\n"
      ],
      "metadata": {
        "id": "8XCTVhHtCnrO"
      },
      "execution_count": null,
      "outputs": []
    },
    {
      "cell_type": "markdown",
      "source": [
        "item in list? Boolean operations in lists"
      ],
      "metadata": {
        "id": "X2z0OyYhFH13"
      }
    },
    {
      "cell_type": "code",
      "source": [
        "print(38 in ages)\n"
      ],
      "metadata": {
        "id": "nepG3Z-CFJjT"
      },
      "execution_count": null,
      "outputs": []
    },
    {
      "cell_type": "code",
      "source": [],
      "metadata": {
        "id": "wq-kUwa0rYxa"
      },
      "execution_count": null,
      "outputs": []
    },
    {
      "cell_type": "markdown",
      "source": [
        "Change values in lists and print out results!"
      ],
      "metadata": {
        "id": "LRw9P7wrrZ1B"
      }
    },
    {
      "cell_type": "code",
      "source": [
        "x = ['e', 't', 'a']\n",
        "\n"
      ],
      "metadata": {
        "id": "mq55Bp_2rQPS"
      },
      "execution_count": null,
      "outputs": []
    },
    {
      "cell_type": "markdown",
      "metadata": {
        "id": "ZXYj20JcboqG"
      },
      "source": [
        "### Dictionaries"
      ]
    },
    {
      "cell_type": "markdown",
      "metadata": {
        "id": "gMGEBPsVboqG"
      },
      "source": [
        "A dictionary has a key and a corresponding value"
      ]
    },
    {
      "cell_type": "markdown",
      "metadata": {
        "id": "PEXjsV05boqG"
      },
      "source": [
        "How to create a dictionary"
      ]
    },
    {
      "cell_type": "markdown",
      "source": [
        "This is not it!"
      ],
      "metadata": {
        "id": "2g8dNTZVsUWQ"
      }
    },
    {
      "cell_type": "code",
      "execution_count": null,
      "metadata": {
        "id": "ryQG16feboqH"
      },
      "outputs": [],
      "source": [
        "myshoppingitems = ['Pasta', 10, 'Pesto', 20, 'Chocolate', 5]\n"
      ]
    },
    {
      "cell_type": "markdown",
      "source": [
        "This is the correct way to do it, you need a key and a corresponding value ✅"
      ],
      "metadata": {
        "id": "Y-2Ipl4nsV2m"
      }
    },
    {
      "cell_type": "code",
      "execution_count": null,
      "metadata": {
        "id": "c7bRtUZtboqM"
      },
      "outputs": [],
      "source": []
    },
    {
      "cell_type": "markdown",
      "source": [
        "Create an empty dictionary"
      ],
      "metadata": {
        "id": "6S9IvQJTsbSP"
      }
    },
    {
      "cell_type": "code",
      "execution_count": null,
      "metadata": {
        "id": "imO3g0zSboqN"
      },
      "outputs": [],
      "source": []
    },
    {
      "cell_type": "code",
      "source": [],
      "metadata": {
        "id": "plniZMHs1NSO"
      },
      "execution_count": null,
      "outputs": []
    },
    {
      "cell_type": "markdown",
      "metadata": {
        "id": "cMY68xXWboqN"
      },
      "source": [
        "Add first item to the dictionary, dictionary keys should always be unique"
      ]
    },
    {
      "cell_type": "code",
      "execution_count": null,
      "metadata": {
        "id": "HNiOsHofboqN"
      },
      "outputs": [],
      "source": []
    },
    {
      "cell_type": "code",
      "execution_count": null,
      "metadata": {
        "id": "txs1KEAxboqN"
      },
      "outputs": [],
      "source": []
    },
    {
      "cell_type": "markdown",
      "metadata": {
        "id": "cSbr52f4boqO"
      },
      "source": [
        "Access key,item in a dictionary"
      ]
    },
    {
      "cell_type": "code",
      "execution_count": null,
      "metadata": {
        "id": "j1ursVDWboqO"
      },
      "outputs": [],
      "source": []
    },
    {
      "cell_type": "markdown",
      "source": [
        "Nested dictionaries"
      ],
      "metadata": {
        "id": "UUdgVhPBshkz"
      }
    },
    {
      "cell_type": "code",
      "source": [
        "nested_dict = { }"
      ],
      "metadata": {
        "id": "w5OBoHGWsg__"
      },
      "execution_count": null,
      "outputs": []
    },
    {
      "cell_type": "code",
      "source": [
        "print(nested_dict)"
      ],
      "metadata": {
        "id": "_zLvSBPDsfKR"
      },
      "execution_count": null,
      "outputs": []
    },
    {
      "cell_type": "markdown",
      "source": [
        "Mini dictionary for countries name variations! "
      ],
      "metadata": {
        "id": "f11tMTrZymbI"
      }
    },
    {
      "cell_type": "code",
      "source": [
        "ashminidict={\"South Korea\": #this is a key\n",
        " #the corresponding value is another dictionary\n",
        " #so a dictionary within a dictionary\n",
        " { \"yes\": [ # key is yes \n",
        "           #values are variations\n",
        "            \"Korea\",\n",
        "            \"South Korea\",\n",
        "            \"South Korean\",\n",
        "            \"South-Korea\",\n",
        "            \"South-Korean\",\n",
        "            \"South Koreans\",\n",
        "            \"South-Koreans\"\n",
        "        ], #same here\n",
        "        \"no\": [\"North Korea\",\"Democratic People's Republic of Korea\"]\n",
        "    }}\n",
        "\n",
        "\n"
      ],
      "metadata": {
        "id": "95UAU6r8xyya"
      },
      "execution_count": null,
      "outputs": []
    },
    {
      "cell_type": "code",
      "source": [
        "print(ashminidict)   "
      ],
      "metadata": {
        "id": "LJMcowk5zjRs"
      },
      "execution_count": null,
      "outputs": []
    },
    {
      "cell_type": "markdown",
      "source": [
        "how do we grab keys from this dictionary?"
      ],
      "metadata": {
        "id": "qPsdlWBxsusQ"
      }
    },
    {
      "cell_type": "code",
      "source": [],
      "metadata": {
        "id": "VFlAZrRLszAO"
      },
      "execution_count": null,
      "outputs": []
    },
    {
      "cell_type": "markdown",
      "metadata": {
        "id": "wZ5OTvExboqP"
      },
      "source": [
        "### Tuples\n",
        "\n",
        "- immutable sequence of Python objects - you cannot update or change the values of tuple elements\n",
        "- their advantage is that they have a fixed value"
      ]
    },
    {
      "cell_type": "markdown",
      "metadata": {
        "id": "XzH6PsSGboqQ"
      },
      "source": [
        "create tuple of one value, you always need a comma at the end"
      ]
    },
    {
      "cell_type": "markdown",
      "metadata": {
        "id": "_GB31N87boqQ"
      },
      "source": [
        "you can access values"
      ]
    },
    {
      "cell_type": "markdown",
      "metadata": {
        "id": "LPHb7LhpboqS"
      },
      "source": [
        "you can not modify within tuples, but you can concate different tuples"
      ]
    },
    {
      "cell_type": "markdown",
      "metadata": {
        "id": "32aRJz6mboqT"
      },
      "source": [
        "you can not modify within tuples, but you can repeat tuples in a new tuple"
      ]
    },
    {
      "cell_type": "markdown",
      "source": [
        "If you try to add/append something to a tuple, you will get an error:\n",
        "\n"
      ],
      "metadata": {
        "id": "hWCpTnKQB_EU"
      }
    },
    {
      "cell_type": "markdown",
      "source": [
        "\n",
        "**The same kind of thing happens when you try to remove something from a tuple, or modify one of its elements. Once you define a tuple, you can be confident that its values will not change.**\n"
      ],
      "metadata": {
        "id": "bFmLfLmqB_jl"
      }
    },
    {
      "cell_type": "markdown",
      "metadata": {
        "id": "API-Np2RboqY"
      },
      "source": [
        "you can check membership"
      ]
    },
    {
      "cell_type": "markdown",
      "source": [
        "tuples are immutable,  the value in the tuple will never change"
      ],
      "metadata": {
        "id": "04cwzlwQrlvB"
      }
    },
    {
      "cell_type": "markdown",
      "metadata": {
        "id": "eFbazrdkboqZ"
      },
      "source": [
        "### Sets\n",
        "\n",
        "What is a set? It is an unordered collection of items. You can not be sure in which order the items will appear.\n",
        "\n",
        "Elements of the set:\n",
        "1. must be unique - doesnt allow for duplicate elements\n",
        "2. elemenets can not be changed (you can not access items by refering to an index, as done in lists) - but you can add or remove elements from it\n",
        "3. noy ordered\n",
        "\n",
        "The set as a whole is mutable, we can add and remove items from it\n",
        "\n",
        "Usually sets are used to for mathematical operations like, union and intersection"
      ]
    },
    {
      "cell_type": "code",
      "execution_count": null,
      "metadata": {
        "id": "lPHk2QJTboqZ"
      },
      "outputs": [],
      "source": [
        "#creation of sets\n",
        "\n"
      ]
    },
    {
      "cell_type": "code",
      "execution_count": null,
      "metadata": {
        "id": "xyyzZjLpboqZ"
      },
      "outputs": [],
      "source": [
        "# no duplication allowed\n",
        "\n"
      ]
    },
    {
      "cell_type": "code",
      "execution_count": null,
      "metadata": {
        "id": "XiiK-umZboqa"
      },
      "outputs": [],
      "source": [
        "# transform a list to a set\n",
        "\n"
      ]
    },
    {
      "cell_type": "code",
      "execution_count": null,
      "metadata": {
        "id": "s1_ycAt3boqa"
      },
      "outputs": [],
      "source": [
        "#mutability of set\n",
        "\n",
        "#add an item\n",
        "newset.add(2)\n",
        "print(newset)"
      ]
    },
    {
      "cell_type": "code",
      "execution_count": null,
      "metadata": {
        "id": "T7dKqLF3boqb"
      },
      "outputs": [],
      "source": [
        "#to add more than one item you use update\n"
      ]
    },
    {
      "cell_type": "code",
      "execution_count": null,
      "metadata": {
        "id": "MR63XrFAboqc"
      },
      "outputs": [],
      "source": [
        "# discard an item (similar remove - however remove will show an error if the item is not in the set)\n"
      ]
    },
    {
      "cell_type": "markdown",
      "source": [
        "# Excercise Time! \n",
        "\n",
        "Please check in class excercises under Session 2 on GitHub!"
      ],
      "metadata": {
        "id": "hOwe_5NBvw07"
      }
    },
    {
      "cell_type": "markdown",
      "metadata": {
        "id": "WkEGoLLYboqc"
      },
      "source": [
        "# **Loops vs List Comprehension** \n",
        "This is a very important method that will help you a lot in the future!"
      ]
    },
    {
      "cell_type": "markdown",
      "metadata": {
        "id": "H-4JvwPNboqd"
      },
      "source": [
        "Let's very simply compare a loop and list comrepehension <br>\n",
        "In the next days we are putting more focus on loops!"
      ]
    },
    {
      "cell_type": "code",
      "execution_count": null,
      "metadata": {
        "id": "Ri1H8ctsboqe"
      },
      "outputs": [],
      "source": [
        "#Lets define a list\n",
        "letters=[\"a\",\"b\",\"c\"]\n",
        "#we want to print out letter by letter in that list\n",
        "\n",
        "for x in letters:# for each letter in the list, print each letter\n",
        "     print(x)"
      ]
    },
    {
      "cell_type": "code",
      "source": [
        "print(letters[0])"
      ],
      "metadata": {
        "id": "t2lMkWuDARTg"
      },
      "execution_count": null,
      "outputs": []
    },
    {
      "cell_type": "code",
      "execution_count": null,
      "metadata": {
        "id": "BS_gEr3pboqf"
      },
      "outputs": [],
      "source": [
        "letters[0]\n",
        "letters[1]\n",
        "letters[2]"
      ]
    },
    {
      "cell_type": "code",
      "execution_count": null,
      "metadata": {
        "id": "-Yo8ZO7Sboqg"
      },
      "outputs": [],
      "source": [
        "#we can also instead using letter, use x\n",
        "\n",
        "for x in letters:# for each letter in the list, print each letter\n",
        "    print (x) # as you see it is the same outcome"
      ]
    },
    {
      "cell_type": "code",
      "execution_count": null,
      "metadata": {
        "id": "WBWsowYsboqg"
      },
      "outputs": [],
      "source": [
        "#simple loop to go through the elements and multiply them \n",
        "#we dont have to save the list before the loop, we can also integrate it within the loop\n"
      ]
    },
    {
      "cell_type": "code",
      "execution_count": null,
      "metadata": {
        "id": "aVAvjaXWboqh"
      },
      "outputs": [],
      "source": [
        "#lets move to list comprehension\n",
        "#again we have a list of numbers we can print each number * 2 through a lopp\n",
        "numbers=[1,2,3,4,5,6]\n",
        "numbers\n",
        "\n"
      ]
    },
    {
      "cell_type": "markdown",
      "metadata": {
        "id": "wOEI2ZaDboqh"
      },
      "source": [
        "**Why do we use list comprehesion?**\n",
        "\n",
        "Basically to create a list based on another items of a list.\n",
        "\n",
        "Its fast and efficient!\n",
        "\n",
        "We go through each element of the list. "
      ]
    },
    {
      "cell_type": "code",
      "execution_count": null,
      "metadata": {
        "collapsed": true,
        "id": "J8oXmT_vboqi"
      },
      "outputs": [],
      "source": [
        "numbers=[1,2,3,4,5,6]\n"
      ]
    },
    {
      "cell_type": "code",
      "execution_count": null,
      "metadata": {
        "id": "5G_YUmqjboqm"
      },
      "outputs": [],
      "source": [
        "\n",
        "squares = [x**2 for x in numbers]\n",
        "squares"
      ]
    },
    {
      "cell_type": "code",
      "execution_count": null,
      "metadata": {
        "id": "pLdXzHhLboqn"
      },
      "outputs": [],
      "source": [
        "#lets define a  string and use list comprehension to lower case\n",
        "\n",
        "random = 'Today is a sunny day, I need some Vitamin D'\n",
        "#to lower text\n"
      ]
    },
    {
      "cell_type": "code",
      "execution_count": null,
      "metadata": {
        "id": "BdwtroLEboqo"
      },
      "outputs": [],
      "source": [
        "#pick the grades that passed\n",
        "grades = [88, 94,100, 99, 70,98,55,20]\n",
        "\n",
        "\n",
        "# to choose grades above 80\n",
        "\n",
        "\n",
        "# for each grade (we call it here g) in the grades list give back the numbers if they are above 80\n"
      ]
    },
    {
      "cell_type": "markdown",
      "source": [
        "Let's consider how we might make a list of the first ten square numbers. \n",
        "\n",
        "**Set out a plan for loopig:**\n",
        "\n",
        "1. create empty list\n",
        "2. go through each number in a range from 1:10\n",
        "3. do something: in that case square the numbers\n",
        "4. save it in a list - also called appending\n",
        "5. check that you have saved correct numbers - by printing the list\n",
        "\n"
      ],
      "metadata": {
        "id": "N925TWruugZL"
      }
    },
    {
      "cell_type": "code",
      "source": [
        "# Store the first ten square numbers in a list.\n",
        "# Make an empty list that will hold our square numbers.\n",
        "squares = []\n",
        "\n",
        "# Go through the first ten numbers only, square them, and add them to our list.\n",
        "\n",
        "# Show that our list is correct.\n"
      ],
      "metadata": {
        "id": "n8gEpELbuarD"
      },
      "execution_count": null,
      "outputs": []
    },
    {
      "cell_type": "markdown",
      "source": [
        "**shorter code through list comprehension - compare with above code**\n"
      ],
      "metadata": {
        "id": "YjsdiU-awFkX"
      }
    },
    {
      "cell_type": "code",
      "source": [
        "# Store the first ten square numbers in a list.\n",
        "\n",
        "# Show that our list is correct.\n"
      ],
      "metadata": {
        "id": "AOele0vVwC3v"
      },
      "execution_count": null,
      "outputs": []
    },
    {
      "cell_type": "markdown",
      "metadata": {
        "collapsed": true,
        "id": "t4NyVQhHj14F"
      },
      "source": [
        "# **Focus on Loops**\n",
        "\n",
        "Important if you want to carry out operations in sequence."
      ]
    },
    {
      "cell_type": "markdown",
      "metadata": {
        "id": "8Ub-bxloj14G"
      },
      "source": [
        "![Pandas](https://media.giphy.com/media/ieaUdBJJC19uw/giphy.gif)\n"
      ]
    },
    {
      "cell_type": "markdown",
      "metadata": {
        "collapsed": true,
        "id": "T4Y_IOdNj14G"
      },
      "source": [
        "## For loops\n",
        "\n",
        "Executes a sequence of statements multiple times and abbreviates the code that manages the loop variable."
      ]
    },
    {
      "cell_type": "code",
      "execution_count": null,
      "metadata": {
        "id": "ucLFhyAlj14H"
      },
      "outputs": [],
      "source": [
        "#simple loops\n",
        "\n",
        "\n",
        "for l in [\"a\",\"b\",\"c\"]: # for each letter in the list, print each letter\n",
        "    print(l)\n",
        "    \n"
      ]
    },
    {
      "cell_type": "code",
      "execution_count": null,
      "metadata": {
        "id": "3RbRTnazj14I"
      },
      "outputs": [],
      "source": [
        "for number in [\"100\",\"300\",\"8\"]: # for each number in the list, print each number\n",
        "    print(number)"
      ]
    },
    {
      "cell_type": "code",
      "execution_count": null,
      "metadata": {
        "id": "FM6hZIOej14J"
      },
      "outputs": [],
      "source": [
        "#range from 2 -6 - print each number\n",
        "\n"
      ]
    },
    {
      "cell_type": "code",
      "execution_count": null,
      "metadata": {
        "id": "p4qEW3Wjj14J"
      },
      "outputs": [],
      "source": [
        "#we can try with tuples\n",
        "tuple1 = (\"new\", 'tuple', 1,2,2)\n",
        "\n",
        "\n"
      ]
    },
    {
      "cell_type": "code",
      "execution_count": null,
      "metadata": {
        "id": "Xejs-4bFj14K"
      },
      "outputs": [],
      "source": [
        "#tuples within a list\n",
        "cities_continents = [('Alexandria', 'Africa'),('Berlin', 'Europe')\\\n",
        "                     ,('New York', 'North America'),\\\n",
        "                     ('Mexico City', 'North America')]\n",
        "cities_continents"
      ]
    },
    {
      "cell_type": "markdown",
      "metadata": {
        "id": "CeYNzcBtj14L"
      },
      "source": [
        "**Excercise**"
      ]
    },
    {
      "cell_type": "code",
      "execution_count": null,
      "metadata": {
        "collapsed": true,
        "id": "P-60TQkWj14M"
      },
      "outputs": [],
      "source": [
        "#what if we want to always print out the the city and its corresponding continent\n",
        "#there are several ways to do this\n"
      ]
    },
    {
      "cell_type": "code",
      "execution_count": null,
      "metadata": {
        "id": "Balp3oLRj14M"
      },
      "outputs": [],
      "source": [
        "#answer \n"
      ]
    },
    {
      "cell_type": "markdown",
      "metadata": {
        "id": "9NR7mLELj14O"
      },
      "source": [
        "**Continue and break statements in for-loops**\n",
        "\n",
        "- Use break when you want to escape the loop\n",
        "- Use continue to continue with the next iteration of the loop after a specified value"
      ]
    },
    {
      "cell_type": "code",
      "execution_count": null,
      "metadata": {
        "id": "dL7JnPalj14O"
      },
      "outputs": [],
      "source": [
        "greeting = \"Good-morning\"\n",
        "\n",
        "for l in greeting:\n",
        "    print(l)\n",
        "    if l ==\"m\":\n",
        "        break"
      ]
    },
    {
      "cell_type": "code",
      "execution_count": null,
      "metadata": {
        "id": "IiGFgMrCj14P"
      },
      "outputs": [],
      "source": [
        "word = \"Good-morning\"\n",
        "\n",
        "for letter in word:\n",
        "    if letter ==\"o\":\n",
        "        continue\n",
        "    print(letter)"
      ]
    },
    {
      "cell_type": "code",
      "source": [
        "#remember ashminidict?\n",
        "\n",
        "print(ashminidict)"
      ],
      "metadata": {
        "id": "EPGVJJV30cxs"
      },
      "execution_count": null,
      "outputs": []
    },
    {
      "cell_type": "markdown",
      "source": [
        "What if we want to print just the keys?"
      ],
      "metadata": {
        "id": "xnUDS6RV0iJ_"
      }
    },
    {
      "cell_type": "code",
      "source": [
        "for k, v in ashminidict.items():\n",
        "    for k1, v1 in v.items():\n",
        "        print(k1)"
      ],
      "metadata": {
        "id": "4C1quewQ0cGe"
      },
      "execution_count": null,
      "outputs": []
    },
    {
      "cell_type": "markdown",
      "metadata": {
        "collapsed": true,
        "id": "uYJCHZ4Oj14P"
      },
      "source": [
        "## If-else-statements with loops - Conditional Statements\n",
        "\n"
      ]
    },
    {
      "cell_type": "markdown",
      "metadata": {
        "id": "Gwgr8SD_j14P"
      },
      "source": [
        "### Lets start with simple cases"
      ]
    },
    {
      "cell_type": "code",
      "execution_count": null,
      "metadata": {
        "id": "GT4LWGJ0j14Q"
      },
      "outputs": [],
      "source": [
        "#if then loop\n",
        "\n",
        "for i in range(10): #for all numbers in the range from 0-9\n",
        "    if i < 5: # print the numbers that are less then 5\n",
        "        print (i)\n",
        "        \n",
        "    "
      ]
    },
    {
      "cell_type": "code",
      "execution_count": null,
      "metadata": {
        "collapsed": true,
        "id": "-H-uChxmj14Q"
      },
      "outputs": [],
      "source": [
        "time_appointment = 13\n",
        "time_showup = 14\n",
        "\n",
        "\n",
        "#print you are late if they show up after 1"
      ]
    },
    {
      "cell_type": "markdown",
      "metadata": {
        "id": "jFmBH9z3j14Q"
      },
      "source": [
        "### If-else statements\n"
      ]
    },
    {
      "cell_type": "code",
      "execution_count": null,
      "metadata": {
        "id": "ZlukqESSj14Q"
      },
      "outputs": [],
      "source": [
        "#indentation matters\n",
        "#check the structure\n",
        "#if an item in a list start with r print - item starts with r, otheriwse doesnt start with r\n",
        "\n"
      ]
    },
    {
      "cell_type": "markdown",
      "metadata": {
        "id": "81HGD7Zcj14R"
      },
      "source": [
        "What is going on in here?\n",
        "\n",
        "- For each item in the list\n",
        "- If the item starts with the letter r (use startswith() function)\n",
        "- Then print the item name and the sentence \"starts with letter r\"\n",
        "- ELSE: If the item doesnt start with the letter r - this is why we use else\n",
        "- Then print the item name and the sentence \"doesnt starts with letter r\""
      ]
    },
    {
      "cell_type": "markdown",
      "metadata": {
        "id": "VpEF9CtYj14R"
      },
      "source": [
        "### If-elif-else statement\n",
        "\n",
        "We check different conditions if they hold\n",
        "\n",
        "- check multiple expressions for TRUE \n",
        "- run code until one of the conditions becomes to TRUE\n",
        "- if no condition is found to be TRUE, else will be executed"
      ]
    },
    {
      "cell_type": "code",
      "execution_count": null,
      "metadata": {
        "id": "gT8TSDGCj14R"
      },
      "outputs": [],
      "source": [
        "luckynumber = 100\n",
        "\n"
      ]
    },
    {
      "cell_type": "code",
      "execution_count": null,
      "metadata": {
        "id": "CYyg7TMKj14S"
      },
      "outputs": [],
      "source": []
    },
    {
      "cell_type": "markdown",
      "metadata": {
        "id": "gUPyulFcj14U"
      },
      "source": [
        "# **Appending: Storing items in a list**"
      ]
    },
    {
      "cell_type": "code",
      "execution_count": null,
      "metadata": {
        "id": "64XJP9K6j14U"
      },
      "outputs": [],
      "source": [
        "list1 = []\n",
        "for i in range(2, 4): # we know that python will discard in that range the last number which is 4\n",
        "    list1.append(i*2)\n",
        "    \n",
        "list1"
      ]
    },
    {
      "cell_type": "code",
      "execution_count": null,
      "metadata": {
        "id": "uDAfEcglj14U"
      },
      "outputs": [],
      "source": [
        "#list of lists\n",
        "\n",
        "\n",
        "cities = [ ['Alexandria', 'Cairo', 'Suez', 'Ismalia',\"Africa\",4], \n",
        "             ['Berlin', 'Mannheim', 'Cologne', 'Munich',\"Europe\",4], \n",
        "             ['London', 'Oxford','Cambridge', 'Manchester',\"Europe\",5] ]\n",
        "\n",
        "european_list = []\n",
        "\"\"\"I want to save a new list that I will call European.\n",
        "Where if the nested list mentions Europe, I will extract the second city,\n",
        "which means my list will have Mannheim and Oxford in them.\n",
        "How can I do this?\n",
        "\"\"\"\n"
      ]
    },
    {
      "cell_type": "markdown",
      "metadata": {
        "id": "NwxpzkaTj14U"
      },
      "source": [
        "# Small revision of list comprehension again\n",
        "list_variable = [x for x in iterable]\n",
        "\n"
      ]
    },
    {
      "cell_type": "code",
      "execution_count": null,
      "metadata": {
        "id": "oMT2Q-7bj14V"
      },
      "outputs": [],
      "source": [
        "a = [x**2 for x in range(10)]\n",
        "b = [2*m for m in range(13)]\n",
        "\n"
      ]
    },
    {
      "cell_type": "code",
      "source": [
        "#how do I print the letter a 10 times using list comprehension\n"
      ],
      "metadata": {
        "id": "aMMYVze-8_L-"
      },
      "execution_count": null,
      "outputs": []
    },
    {
      "cell_type": "markdown",
      "metadata": {
        "id": "t0ehAACuj14V"
      },
      "source": [
        "**Alternative to for loops**\n",
        "\n",
        "Lets say I want to create a list"
      ]
    },
    {
      "cell_type": "code",
      "execution_count": null,
      "metadata": {
        "id": "6bZDMDkqj14V"
      },
      "outputs": [],
      "source": [
        "randomrange=range(5)\n",
        "loopoption = []\n",
        "\n",
        "# Add values to `new_list`\n",
        "for x in randomrange:\n",
        "    if x/2==0:\n",
        "        print(x)\n",
        "        loopoption.append(x+1)\n",
        "\n",
        "# Print `new_list`\n",
        "print(loopoption)"
      ]
    },
    {
      "cell_type": "code",
      "execution_count": null,
      "metadata": {
        "id": "v_pSE3pGj14V"
      },
      "outputs": [],
      "source": [
        "comprehesionoption # how can i do this using list comprehension"
      ]
    },
    {
      "cell_type": "markdown",
      "metadata": {
        "id": "GoTYSPF7j14W"
      },
      "source": [
        "Basic Pre-Processing of text"
      ]
    },
    {
      "cell_type": "code",
      "execution_count": null,
      "metadata": {
        "collapsed": true,
        "id": "cBJdRLVNj14W"
      },
      "outputs": [],
      "source": [
        "random = 'Today is a sunny day, I need some Vitamin D'\n"
      ]
    },
    {
      "cell_type": "code",
      "execution_count": null,
      "metadata": {
        "id": "5_E3-HGNj14X"
      },
      "outputs": [],
      "source": [
        "#lower case and tokenize using list comprehension"
      ]
    },
    {
      "cell_type": "code",
      "execution_count": null,
      "metadata": {
        "collapsed": true,
        "id": "RNkK-R-vj14Y"
      },
      "outputs": [],
      "source": [
        "#What does split do?\n"
      ]
    },
    {
      "cell_type": "markdown",
      "source": [
        "# **Compound data structures!**\n",
        "\n",
        "We will use a country dictionary as I promised last time 🌟\n",
        "\n",
        "Do not worry we will learn more about how to load files in Python next time! This is just a teaser.\n",
        "\n",
        "Load the country dictionary - data on GitHub here: https://github.com/aelshehawy/PythonSocialDataScience/tree/main/Session2/data"
      ],
      "metadata": {
        "id": "GCinouhBtJeB"
      }
    },
    {
      "cell_type": "markdown",
      "source": [
        "![Screenshot 2023-02-06 at 17.23.58.png](data:image/png;base64,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)"
      ],
      "metadata": {
        "id": "ygdTzk2hwhsh"
      }
    },
    {
      "cell_type": "code",
      "source": [
        "#conntect to google drive to load data"
      ],
      "metadata": {
        "id": "KGhkJMwbtNM8"
      },
      "execution_count": null,
      "outputs": []
    },
    {
      "cell_type": "code",
      "source": [],
      "metadata": {
        "id": "WT-5oJequSEi"
      },
      "execution_count": null,
      "outputs": []
    },
    {
      "cell_type": "code",
      "source": [
        "#import json file and load to python\n",
        "\n"
      ],
      "metadata": {
        "id": "STC-y7GpuWm1"
      },
      "execution_count": null,
      "outputs": []
    },
    {
      "cell_type": "code",
      "source": [
        "#check data type"
      ],
      "metadata": {
        "id": "jX1e-krLvgHU"
      },
      "execution_count": null,
      "outputs": []
    },
    {
      "cell_type": "markdown",
      "source": [
        "Task: I just want to extract country names\n",
        "\n",
        "Mini into to Pandas"
      ],
      "metadata": {
        "id": "4dyTYLd7xR8j"
      }
    }
  ],
  "metadata": {
    "kernelspec": {
      "display_name": "Python 3",
      "language": "python",
      "name": "python3"
    },
    "language_info": {
      "codemirror_mode": {
        "name": "ipython",
        "version": 3
      },
      "file_extension": ".py",
      "mimetype": "text/x-python",
      "name": "python",
      "nbconvert_exporter": "python",
      "pygments_lexer": "ipython3",
      "version": "3.8.5"
    },
    "colab": {
      "provenance": [],
      "toc_visible": true,
      "include_colab_link": true
    }
  },
  "nbformat": 4,
  "nbformat_minor": 0
}
