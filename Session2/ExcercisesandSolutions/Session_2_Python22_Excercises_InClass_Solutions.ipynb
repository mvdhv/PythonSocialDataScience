{
  "cells": [
    {
      "cell_type": "markdown",
      "metadata": {
        "id": "view-in-github",
        "colab_type": "text"
      },
      "source": [
        "<a href=\"https://colab.research.google.com/github/aelshehawy/PythonSocialDataScience/blob/main/Session_2_Python22_Excercises_InClass_Solutions.ipynb\" target=\"_parent\"><img src=\"https://colab.research.google.com/assets/colab-badge.svg\" alt=\"Open In Colab\"/></a>"
      ]
    },
    {
      "cell_type": "markdown",
      "metadata": {
        "id": "8GKq7guKfzss"
      },
      "source": [
        "# **Session 2**\n",
        "# In Class Excercises -  Solutions\n"
      ]
    },
    {
      "cell_type": "markdown",
      "metadata": {
        "id": "OxXQtdHQfzss"
      },
      "source": [
        "**Exercise 1**\n",
        "\n",
        "1. count how the occurence of each letter in the sentence. Hint: use the Counter library in python\n",
        "2. count number of characters/letters only (no white space, no punctuation) - hint use the replace in-built function in python."
      ]
    },
    {
      "cell_type": "code",
      "execution_count": null,
      "metadata": {
        "collapsed": true,
        "id": "ZGD4rFZXfzss"
      },
      "outputs": [],
      "source": [
        "sentence=(\"Hello World, I am so excited; to finally be able to get out of quarantine and meet all my friends\")"
      ]
    },
    {
      "cell_type": "code",
      "execution_count": null,
      "metadata": {
        "id": "KU6cWlacfzss",
        "outputId": "506cefcc-3528-4ed9-ae11-1d5af31a94c0",
        "colab": {
          "base_uri": "https://localhost:8080/"
        }
      },
      "outputs": [
        {
          "output_type": "execute_result",
          "data": {
            "text/plain": [
              "Counter({' ': 19,\n",
              "         ',': 1,\n",
              "         ';': 1,\n",
              "         'H': 1,\n",
              "         'I': 1,\n",
              "         'W': 1,\n",
              "         'a': 7,\n",
              "         'b': 2,\n",
              "         'c': 1,\n",
              "         'd': 4,\n",
              "         'e': 10,\n",
              "         'f': 3,\n",
              "         'g': 1,\n",
              "         'i': 4,\n",
              "         'l': 8,\n",
              "         'm': 3,\n",
              "         'n': 5,\n",
              "         'o': 7,\n",
              "         'q': 1,\n",
              "         'r': 3,\n",
              "         's': 2,\n",
              "         't': 7,\n",
              "         'u': 2,\n",
              "         'x': 1,\n",
              "         'y': 2})"
            ]
          },
          "metadata": {},
          "execution_count": 5
        }
      ],
      "source": [
        "#1\n",
        "from collections import Counter\n",
        "counter_occurences = Counter(sentence)\n",
        "counter_occurences"
      ]
    },
    {
      "cell_type": "code",
      "execution_count": null,
      "metadata": {
        "id": "875LE7shfzss",
        "outputId": "886356f2-5f66-4a91-b7e5-85cce9d12031",
        "colab": {
          "base_uri": "https://localhost:8080/"
        }
      },
      "outputs": [
        {
          "output_type": "stream",
          "name": "stdout",
          "text": [
            "HelloWorldIamsoexcitedtofinallybeabletogetoutofquarantineandmeetallmyfriends\n"
          ]
        },
        {
          "output_type": "execute_result",
          "data": {
            "text/plain": [
              "76"
            ]
          },
          "metadata": {},
          "execution_count": 6
        }
      ],
      "source": [
        "#2\n",
        "sentence=sentence.replace(\" \", \"\")\n",
        "sentence=sentence.replace(\",\", \"\")\n",
        "sentence=sentence.replace(\";\", \"\")\n",
        "print(sentence)\n",
        "len(sentence)"
      ]
    },
    {
      "cell_type": "markdown",
      "metadata": {
        "id": "8ViOWN1Ofzss"
      },
      "source": [
        "**Excercise 2**\n",
        "\n",
        "why do we see an error message here"
      ]
    },
    {
      "cell_type": "code",
      "execution_count": null,
      "metadata": {
        "id": "NvNt_QQNfzst",
        "outputId": "4641cb2a-d441-4e14-92df-022aff0b70fe",
        "colab": {
          "base_uri": "https://localhost:8080/",
          "height": 168
        }
      },
      "outputs": [
        {
          "output_type": "error",
          "ename": "TypeError",
          "evalue": "ignored",
          "traceback": [
            "\u001b[0;31m---------------------------------------------------------------------------\u001b[0m",
            "\u001b[0;31mTypeError\u001b[0m                                 Traceback (most recent call last)",
            "\u001b[0;32m<ipython-input-4-6992eceb69c6>\u001b[0m in \u001b[0;36m<module>\u001b[0;34m()\u001b[0m\n\u001b[0;32m----> 1\u001b[0;31m \u001b[0mvar\u001b[0m \u001b[0;34m=\u001b[0m \u001b[0;36m100\u001b[0m \u001b[0;34m+\u001b[0m \u001b[0;34m\"the number 100\"\u001b[0m\u001b[0;34m\u001b[0m\u001b[0;34m\u001b[0m\u001b[0m\n\u001b[0m",
            "\u001b[0;31mTypeError\u001b[0m: unsupported operand type(s) for +: 'int' and 'str'"
          ]
        }
      ],
      "source": [
        "var = 100 + \"the number 100\""
      ]
    },
    {
      "cell_type": "code",
      "execution_count": null,
      "metadata": {
        "id": "rev2JD-Pfzst",
        "outputId": "1b4ae076-8f6f-4913-cf2b-8bfc5dd2261a",
        "colab": {
          "base_uri": "https://localhost:8080/"
        }
      },
      "outputs": [
        {
          "output_type": "execute_result",
          "data": {
            "text/plain": [
              "(100, 'the number 100')"
            ]
          },
          "metadata": {},
          "execution_count": 6
        }
      ],
      "source": [
        "var=100, \"the number 100\"\n",
        "var"
      ]
    },
    {
      "cell_type": "markdown",
      "metadata": {
        "id": "5XNyfj4yfzst"
      },
      "source": [
        "**Excercise 3**\n",
        "\n",
        "- Save your first and last name in lowercase in seperate variables: firstname, lastname\n",
        "- Save first and last name together in a new variable fullname\n",
        "- Print your fullname where the first letter of each name is capitalized\n",
        "\n",
        "Hint\n",
        "\n",
        "- Make sure there is space between both names\n"
      ]
    },
    {
      "cell_type": "code",
      "execution_count": null,
      "metadata": {
        "id": "NCKTUHwefzst",
        "outputId": "5e98d02e-dad8-457d-9aa8-5004ef1b417c",
        "colab": {
          "base_uri": "https://localhost:8080/",
          "height": 35
        }
      },
      "outputs": [
        {
          "output_type": "execute_result",
          "data": {
            "text/plain": [
              "'ashrakat elshehawy'"
            ],
            "application/vnd.google.colaboratory.intrinsic+json": {
              "type": "string"
            }
          },
          "metadata": {},
          "execution_count": 7
        }
      ],
      "source": [
        "lastname=\"elshehawy\"\n",
        "firstname=\"ashrakat\"\n",
        "\n",
        "fullname=firstname +\" \" +lastname\n",
        "fullname"
      ]
    },
    {
      "cell_type": "code",
      "execution_count": null,
      "metadata": {
        "id": "eUHST8PNfzst",
        "outputId": "f478cd5a-d29e-4893-d588-0c9a900b97ee",
        "colab": {
          "base_uri": "https://localhost:8080/"
        }
      },
      "outputs": [
        {
          "output_type": "stream",
          "name": "stdout",
          "text": [
            "Ashrakat Elshehawy\n"
          ]
        }
      ],
      "source": [
        "print(fullname.title())\n"
      ]
    },
    {
      "cell_type": "markdown",
      "metadata": {
        "id": "IiUs9zfXfzsu"
      },
      "source": [
        "**Excercise 4**\n",
        "\n",
        "Count number of lowercase and uppercase words\n",
        "\n",
        "Note: There are several ways to do this"
      ]
    },
    {
      "cell_type": "code",
      "execution_count": null,
      "metadata": {
        "id": "YRpcsVF_fzsu",
        "outputId": "d37eebbf-06d5-4fd3-8a1b-e00fe0d14b94",
        "colab": {
          "base_uri": "https://localhost:8080/"
        }
      },
      "outputs": [
        {
          "output_type": "execute_result",
          "data": {
            "text/plain": [
              "4"
            ]
          },
          "metadata": {},
          "execution_count": 7
        }
      ],
      "source": [
        "my_word = \"HelLo WorLd\"\n",
        "lower_count = sum(map(str.islower, my_word))\n",
        "upper_count = sum(map(str.isupper, my_word))\n",
        "#map: allows you to process and transform all the items in an iterable without using an explicit for loop\n",
        "lower_count\n",
        "upper_count"
      ]
    },
    {
      "cell_type": "markdown",
      "metadata": {
        "collapsed": true,
        "id": "xwI9yNz7fzsu"
      },
      "source": [
        "**Excercise 5** \n",
        "\n",
        "Focusing on manipulating lists!\n",
        "\n",
        "1. count how many times bananas occur\n",
        "2. save last item in the list in the variable \"oneitem\"\n",
        "3. save the third item in the list in the variable \"thirditem\"\n",
        "4. return the items from the beginning to \"chocolate\"\n",
        "5. add a new element to the list called \"beef\"\n",
        "6. remove first element of list, uses pop function\n",
        "7. Insert \"grapes\" instead of oranges\n",
        "8. sort this list in ascending numbers,  numbers=[1,9,8,5,2,7]\n",
        "\n",
        "Make sure you dont overwrite the original list (by creating new lists)"
      ]
    },
    {
      "cell_type": "code",
      "execution_count": null,
      "metadata": {
        "collapsed": true,
        "id": "-m9dFqZKfzsv"
      },
      "outputs": [],
      "source": [
        "food=[\"apples\",\"oranges\",\"bananas\",\"chocolate\",\"strawberries\",\"bananas\"]\n"
      ]
    },
    {
      "cell_type": "code",
      "execution_count": null,
      "metadata": {
        "id": "kvl7emSsfzsv",
        "outputId": "0d039a9c-16aa-42df-bb31-a37640616483",
        "colab": {
          "base_uri": "https://localhost:8080/"
        }
      },
      "outputs": [
        {
          "output_type": "execute_result",
          "data": {
            "text/plain": [
              "2"
            ]
          },
          "metadata": {},
          "execution_count": 11
        }
      ],
      "source": [
        "#1\n",
        "food.count(\"bananas\")"
      ]
    },
    {
      "cell_type": "code",
      "execution_count": null,
      "metadata": {
        "id": "QR7g-Pl5fzsv",
        "outputId": "e712b47f-c1ad-4c3a-d802-f97ab97eed71",
        "colab": {
          "base_uri": "https://localhost:8080/",
          "height": 35
        }
      },
      "outputs": [
        {
          "output_type": "execute_result",
          "data": {
            "text/plain": [
              "'bananas'"
            ],
            "application/vnd.google.colaboratory.intrinsic+json": {
              "type": "string"
            }
          },
          "metadata": {},
          "execution_count": 12
        }
      ],
      "source": [
        "#2\n",
        "#negative indexing, you receive last item\n",
        "oneitem=food[-1] \n",
        "oneitem"
      ]
    },
    {
      "cell_type": "code",
      "execution_count": null,
      "metadata": {
        "id": "9O6UK5zlfzsw",
        "outputId": "c2e226d8-5053-4cf6-eab5-8168b1cb7ea0",
        "colab": {
          "base_uri": "https://localhost:8080/",
          "height": 35
        }
      },
      "outputs": [
        {
          "output_type": "execute_result",
          "data": {
            "text/plain": [
              "'bananas'"
            ],
            "application/vnd.google.colaboratory.intrinsic+json": {
              "type": "string"
            }
          },
          "metadata": {},
          "execution_count": 13
        }
      ],
      "source": [
        "#3\n",
        "thirditem=food[2] \n",
        "thirditem"
      ]
    },
    {
      "cell_type": "code",
      "execution_count": null,
      "metadata": {
        "id": "XRORNiIBfzsw",
        "outputId": "eba7ecf6-c060-4772-b306-309bc0b438d2",
        "colab": {
          "base_uri": "https://localhost:8080/"
        }
      },
      "outputs": [
        {
          "output_type": "stream",
          "name": "stdout",
          "text": [
            "['apples', 'oranges', 'bananas', 'chocolate']\n"
          ]
        }
      ],
      "source": [
        "#4\n",
        "print(food[:4]) #By leaving out the end value, the range will go on to the end of the list\n"
      ]
    },
    {
      "cell_type": "code",
      "execution_count": null,
      "metadata": {
        "id": "XuqiRNm8fzsw",
        "outputId": "b9ce19ff-cdfd-40ab-ec0d-878652ea99f9",
        "colab": {
          "base_uri": "https://localhost:8080/"
        }
      },
      "outputs": [
        {
          "output_type": "stream",
          "name": "stdout",
          "text": [
            "['apples', 'oranges', 'bananas', 'chocolate', 'strawberries', 'bananas', 'beef']\n"
          ]
        }
      ],
      "source": [
        "#5\n",
        "# add a new element\n",
        "food2=food\n",
        "food2.append(\"beef\")\n",
        "\n",
        "print(food)"
      ]
    },
    {
      "cell_type": "code",
      "execution_count": null,
      "metadata": {
        "id": "yu1o4ChNfzsw",
        "outputId": "a3cf4725-dc6b-41ee-c7b9-0072a7a5f58f",
        "colab": {
          "base_uri": "https://localhost:8080/"
        }
      },
      "outputs": [
        {
          "output_type": "stream",
          "name": "stdout",
          "text": [
            "['oranges', 'bananas', 'chocolate', 'strawberries', 'bananas', 'beef']\n"
          ]
        }
      ],
      "source": [
        "# 6\n",
        "# remove an element\n",
        "food3=food\n",
        "food3.pop(0)\n",
        "\n",
        "print (food)"
      ]
    },
    {
      "cell_type": "code",
      "execution_count": null,
      "metadata": {
        "id": "ut_1Xytbfzsx",
        "outputId": "062664a6-ee2e-400f-a43e-5da01ea5c560",
        "colab": {
          "base_uri": "https://localhost:8080/"
        }
      },
      "outputs": [
        {
          "output_type": "execute_result",
          "data": {
            "text/plain": [
              "['oranges',\n",
              " 'bananas',\n",
              " 'grapes',\n",
              " 'chocolate',\n",
              " 'strawberries',\n",
              " 'bananas',\n",
              " 'beef']"
            ]
          },
          "metadata": {},
          "execution_count": 17
        }
      ],
      "source": [
        "#7\n",
        "food4=food\n",
        "food4.insert(2,\"grapes\")   # Insert item at position i\n",
        "food"
      ]
    },
    {
      "cell_type": "code",
      "execution_count": null,
      "metadata": {
        "id": "MR9UEfMOfzsx",
        "outputId": "23cc9aea-d6e4-4e70-bdd5-741389f534ee",
        "colab": {
          "base_uri": "https://localhost:8080/"
        }
      },
      "outputs": [
        {
          "output_type": "execute_result",
          "data": {
            "text/plain": [
              "[1, 2, 5, 7, 8, 9]"
            ]
          },
          "metadata": {},
          "execution_count": 18
        }
      ],
      "source": [
        "#8\n",
        "numbers=[1,9,8,5,2,7]\n",
        "numbers.sort()\n",
        "numbers"
      ]
    },
    {
      "cell_type": "markdown",
      "metadata": {
        "id": "noNVfU_dfzsx"
      },
      "source": [
        "**Excercise 6**\n",
        "\n",
        "Print this string in multi-lines (broken lines) - save in variable \"paragraph\":\n",
        "\n",
        "Line 1: I am going to start writing a paragraph <br\\>\n",
        "Line 2: It shoudldnt be too long <br\\>\n",
        "Line 3: I will keep it short"
      ]
    },
    {
      "cell_type": "code",
      "execution_count": null,
      "metadata": {
        "id": "SLTd3pWLfzsx",
        "outputId": "0e2b0a7b-5db9-4986-e5ff-41ca1f9d4d69",
        "colab": {
          "base_uri": "https://localhost:8080/"
        }
      },
      "outputs": [
        {
          "output_type": "stream",
          "name": "stdout",
          "text": [
            "I am going to start writing a paragraph\n",
            "It shoudldnt be too long\n",
            "I will keep it short\n"
          ]
        }
      ],
      "source": [
        "# you can use \\n\\\n",
        "\n",
        "# This example also works with single-quotes.\n",
        "paragraph = \"I am going to start writing a paragraph\\n\\\n",
        "It shoudldnt be too long\\n\\\n",
        "I will keep it short\"\n",
        "\n",
        "print(paragraph)"
      ]
    },
    {
      "cell_type": "code",
      "execution_count": null,
      "metadata": {
        "id": "Jhs2AUknfzsy",
        "outputId": "d26a026e-229f-48d8-ef6d-0185fabc4220",
        "colab": {
          "base_uri": "https://localhost:8080/"
        }
      },
      "outputs": [
        {
          "output_type": "stream",
          "name": "stdout",
          "text": [
            "I am going to start writing a paragraph\n",
            "It shoudldnt be too long\n",
            "I will keep it short\n"
          ]
        }
      ],
      "source": [
        "#or triple quotations\n",
        "paragraph = \"\"\"I am going to start writing a paragraph\n",
        "It shoudldnt be too long\n",
        "I will keep it short\"\"\"\n",
        "print(paragraph)"
      ]
    },
    {
      "cell_type": "markdown",
      "metadata": {
        "id": "vo9HfKpdfzsy"
      },
      "source": [
        "**Excercise 7**\n",
        "\n",
        "Use once negative and once positive indexing<br>\n",
        "to print the letter n  \n",
        "\n"
      ]
    },
    {
      "cell_type": "code",
      "execution_count": null,
      "metadata": {
        "collapsed": true,
        "id": "r2aAcnYufzsy"
      },
      "outputs": [],
      "source": [
        "newsentence= \"This is a new sentece for Excercise 7\"\n"
      ]
    },
    {
      "cell_type": "code",
      "execution_count": null,
      "metadata": {
        "id": "B6Blw-aXfzsy",
        "outputId": "6bbd1e73-2058-4d36-81d5-5317ba7e5410",
        "colab": {
          "base_uri": "https://localhost:8080/"
        }
      },
      "outputs": [
        {
          "output_type": "stream",
          "name": "stdout",
          "text": [
            "n\n"
          ]
        }
      ],
      "source": [
        "#positive sequencing\n",
        "print(newsentence[10])"
      ]
    },
    {
      "cell_type": "code",
      "execution_count": null,
      "metadata": {
        "id": "bpch1FVofzsy",
        "outputId": "b37b93d8-83b1-4702-c773-e7377e6bfda2",
        "colab": {
          "base_uri": "https://localhost:8080/"
        }
      },
      "outputs": [
        {
          "output_type": "stream",
          "name": "stdout",
          "text": [
            "n\n"
          ]
        }
      ],
      "source": [
        "#negative sequencing\n",
        "print(newsentence[-21])"
      ]
    },
    {
      "cell_type": "markdown",
      "metadata": {
        "id": "kSI2E6o0fzsz"
      },
      "source": [
        "**Excercise 8**\n",
        "\n",
        "Add space between every letter of the string below\n"
      ]
    },
    {
      "cell_type": "code",
      "execution_count": null,
      "metadata": {
        "collapsed": true,
        "id": "i-3eC9Ucfzs0"
      },
      "outputs": [],
      "source": [
        "\n",
        "string4=\"Test String\"\n"
      ]
    },
    {
      "cell_type": "code",
      "execution_count": null,
      "metadata": {
        "id": "Qo1CYwnjfzs0",
        "outputId": "ffdd44e7-d3d1-4226-ea16-e30e5b5cc1c9",
        "colab": {
          "base_uri": "https://localhost:8080/"
        }
      },
      "outputs": [
        {
          "output_type": "stream",
          "name": "stdout",
          "text": [
            "T e s t   S t r i n g\n"
          ]
        }
      ],
      "source": [
        "#The join in Python takes all the elements of an iterable and joins them into a single string\n",
        "string_revised=\" \".join(string4)\n",
        "print (string_revised)"
      ]
    },
    {
      "cell_type": "markdown",
      "metadata": {
        "id": "itjpxPknfzs1"
      },
      "source": [
        "**Excercise 9**\n",
        "\n",
        "Dictionaries \n",
        "1. print all keys in the dictionary below\n",
        "2. print all values in the dictionary below"
      ]
    },
    {
      "cell_type": "code",
      "execution_count": null,
      "metadata": {
        "collapsed": true,
        "id": "DOc8rkNgfzs2"
      },
      "outputs": [],
      "source": [
        "phd_dictionary={\"teaching\": 2,\"dissertation\":10,\"coffee\":20}"
      ]
    },
    {
      "cell_type": "code",
      "execution_count": null,
      "metadata": {
        "id": "wZrzwE9sfzs2",
        "outputId": "fbf068aa-04d4-4d58-c702-8ff1ba29c129",
        "colab": {
          "base_uri": "https://localhost:8080/"
        }
      },
      "outputs": [
        {
          "output_type": "execute_result",
          "data": {
            "text/plain": [
              "dict_keys(['teaching', 'dissertation', 'coffee'])"
            ]
          },
          "metadata": {},
          "execution_count": 27
        }
      ],
      "source": [
        "phd_dictionary_keys = phd_dictionary.keys()\n",
        "phd_dictionary_keys"
      ]
    },
    {
      "cell_type": "code",
      "execution_count": null,
      "metadata": {
        "id": "WJolFsKkfzs2",
        "outputId": "b7a9b2e2-8b23-4b18-b515-c9988a0104fa",
        "colab": {
          "base_uri": "https://localhost:8080/"
        }
      },
      "outputs": [
        {
          "output_type": "execute_result",
          "data": {
            "text/plain": [
              "dict_values([2, 10, 20])"
            ]
          },
          "metadata": {},
          "execution_count": 28
        }
      ],
      "source": [
        "phd_dictionary_values = phd_dictionary.values()\n",
        "phd_dictionary_values"
      ]
    },
    {
      "cell_type": "markdown",
      "metadata": {
        "id": "Kf3-Kf_Rfzs5"
      },
      "source": [
        "**Excercise 10**\n",
        "\n",
        "1. Please find the numbers that are common from list1 and list2 using list comprehesion. There are several ways to solve this. Hint: remember boolean operations, and check the usage of if in list comprehensions\n",
        "2. Please fine the numbers that are common from list1 and list2 using intersection. Hint: Think how sets can come handy here"
      ]
    },
    {
      "cell_type": "code",
      "execution_count": null,
      "metadata": {
        "collapsed": true,
        "id": "_eikKijqfzs5"
      },
      "outputs": [],
      "source": [
        "list_a = [1, 2, 3, 4]\n",
        "list_b = [2, 3, 4, 5]"
      ]
    },
    {
      "cell_type": "code",
      "execution_count": null,
      "metadata": {
        "collapsed": true,
        "id": "0j5gWrqgfzs5",
        "colab": {
          "base_uri": "https://localhost:8080/"
        },
        "outputId": "588653a2-c6f1-480a-a2e2-98f32f8ca1ee"
      },
      "outputs": [
        {
          "output_type": "execute_result",
          "data": {
            "text/plain": [
              "[2, 3, 4]"
            ]
          },
          "metadata": {},
          "execution_count": 12
        }
      ],
      "source": [
        "#1\n",
        "common_num = [a for a in list_a for b in list_b if a == b]\n",
        "common_num"
      ]
    },
    {
      "cell_type": "code",
      "execution_count": null,
      "metadata": {
        "collapsed": true,
        "id": "rx2in8YZfzs5",
        "colab": {
          "base_uri": "https://localhost:8080/"
        },
        "outputId": "428641fe-94ee-4cb1-f01a-8c374f9e5e48"
      },
      "outputs": [
        {
          "output_type": "execute_result",
          "data": {
            "text/plain": [
              "[2, 3, 4]"
            ]
          },
          "metadata": {},
          "execution_count": 13
        }
      ],
      "source": [
        "common_num1= [element for element in list_a if element in list_b]\n",
        "common_num1"
      ]
    },
    {
      "cell_type": "code",
      "execution_count": null,
      "metadata": {
        "collapsed": true,
        "id": "1tpOLn9dfzs5",
        "colab": {
          "base_uri": "https://localhost:8080/"
        },
        "outputId": "5cbdb180-4263-4695-98b7-c92c2c86cd0e"
      },
      "outputs": [
        {
          "output_type": "execute_result",
          "data": {
            "text/plain": [
              "{2, 3, 4}"
            ]
          },
          "metadata": {},
          "execution_count": 14
        }
      ],
      "source": [
        "#2\n",
        "list_a_set = set(list_a)\n",
        "intersection = list_a_set.intersection(list_b)\n",
        "intersection"
      ]
    },
    {
      "cell_type": "code",
      "execution_count": null,
      "metadata": {
        "collapsed": true,
        "id": "pfyu_Dtxfzs6",
        "colab": {
          "base_uri": "https://localhost:8080/"
        },
        "outputId": "d7543334-af1f-4f77-f7c6-db3334afdc1a"
      },
      "outputs": [
        {
          "output_type": "execute_result",
          "data": {
            "text/plain": [
              "[2, 3, 4]"
            ]
          },
          "metadata": {},
          "execution_count": 15
        }
      ],
      "source": [
        "#another way to do two\n",
        "list(set(list_a).intersection(list_b))"
      ]
    },
    {
      "cell_type": "markdown",
      "metadata": {
        "id": "by26qnHsfzs6"
      },
      "source": [
        "**Excercise 11**\n",
        "\n",
        "Why is this code showing an error message?"
      ]
    },
    {
      "cell_type": "code",
      "execution_count": null,
      "metadata": {
        "id": "DPaHwDFDfzs6",
        "outputId": "79b62f7f-75bb-40e1-b64a-b1d78afa95d6",
        "colab": {
          "base_uri": "https://localhost:8080/",
          "height": 235
        }
      },
      "outputs": [
        {
          "output_type": "error",
          "ename": "TypeError",
          "evalue": "ignored",
          "traceback": [
            "\u001b[0;31m---------------------------------------------------------------------------\u001b[0m",
            "\u001b[0;31mTypeError\u001b[0m                                 Traceback (most recent call last)",
            "\u001b[0;32m<ipython-input-16-1518eb923562>\u001b[0m in \u001b[0;36m<module>\u001b[0;34m()\u001b[0m\n\u001b[0;32m----> 1\u001b[0;31m \u001b[0mmy_set\u001b[0m \u001b[0;34m=\u001b[0m \u001b[0;34m{\u001b[0m\u001b[0;36m1\u001b[0m\u001b[0;34m,\u001b[0m \u001b[0;36m2\u001b[0m\u001b[0;34m,\u001b[0m \u001b[0;34m[\u001b[0m\u001b[0;36m3\u001b[0m\u001b[0;34m,\u001b[0m \u001b[0;36m4\u001b[0m\u001b[0;34m]\u001b[0m\u001b[0;34m}\u001b[0m\u001b[0;34m\u001b[0m\u001b[0;34m\u001b[0m\u001b[0m\n\u001b[0m\u001b[1;32m      2\u001b[0m \u001b[0;34m\u001b[0m\u001b[0m\n\u001b[1;32m      3\u001b[0m \u001b[0;34m\u001b[0m\u001b[0m\n\u001b[1;32m      4\u001b[0m \u001b[0;31m# set cannot have mutable items\u001b[0m\u001b[0;34m\u001b[0m\u001b[0;34m\u001b[0m\u001b[0;34m\u001b[0m\u001b[0m\n\u001b[1;32m      5\u001b[0m \u001b[0;31m# here [3, 4] is a mutable list\u001b[0m\u001b[0;34m\u001b[0m\u001b[0;34m\u001b[0m\u001b[0;34m\u001b[0m\u001b[0m\n",
            "\u001b[0;31mTypeError\u001b[0m: unhashable type: 'list'"
          ]
        }
      ],
      "source": [
        "my_set = {1, 2, [3, 4]}\n",
        "\n",
        "\n",
        "# set cannot have mutable items\n",
        "# here [3, 4] is a mutable list\n",
        "# this will cause an error."
      ]
    },
    {
      "cell_type": "markdown",
      "metadata": {
        "id": "LnmI3XQ-fzs6"
      },
      "source": [
        "**Excercise 12**\n",
        "1. Show the Union between both sets\n",
        "2. Show the Intersection between both sets\n",
        "3. Show Set Difference\n",
        "4. Show Set Symmetric Difference"
      ]
    },
    {
      "cell_type": "code",
      "execution_count": null,
      "metadata": {
        "collapsed": true,
        "id": "RdFKo2A1fzs6"
      },
      "outputs": [],
      "source": [
        "x = {100, 200, 300, 400, 500}\n",
        "z = {400, 500, 600, 700, 800}"
      ]
    },
    {
      "cell_type": "code",
      "execution_count": null,
      "metadata": {
        "id": "xDDHgmncfzs7",
        "outputId": "e474ac8b-5ffc-4174-aa9f-4d9c8a5b114e",
        "colab": {
          "base_uri": "https://localhost:8080/",
          "height": 122
        }
      },
      "outputs": [
        {
          "output_type": "stream",
          "name": "stdout",
          "text": [
            "{800, 100, 200, 300, 400, 500, 600, 700}\n",
            "{400, 500}\n",
            "{200, 100, 300}\n",
            "{800, 100, 300, 600, 700, 200}\n"
          ]
        },
        {
          "output_type": "execute_result",
          "data": {
            "text/plain": [
              "'The symmetric difference of set A with respect to set B is the set of elements which are in either of the sets A and B, \\nbut not in their intersection. '"
            ],
            "application/vnd.google.colaboratory.intrinsic+json": {
              "type": "string"
            }
          },
          "metadata": {},
          "execution_count": 17
        }
      ],
      "source": [
        "#1\n",
        "print(x | z)\n",
        "#2\n",
        "print(x & z)\n",
        "#3\n",
        "print(x-z)\n",
        "#4\n",
        "print(x^z)\n",
        "\"\"\"The symmetric difference of set A with respect to set B is the set of elements which are in either of the sets A and B, \n",
        "but not in their intersection. \"\"\""
      ]
    },
    {
      "cell_type": "markdown",
      "metadata": {
        "id": "Um35mp1qfzs7"
      },
      "source": [
        "**Excercise 13**\n",
        "\n",
        "Nested Dictionaries are dictionaries within dictionaries.\n",
        "1. Print values for birds in general\n",
        "2. Print values of the Orchids\n"
      ]
    },
    {
      "cell_type": "code",
      "execution_count": null,
      "metadata": {
        "id": "q337_14ofzs7",
        "outputId": "3de71ff9-6803-4590-865b-d268f6bf847e",
        "colab": {
          "base_uri": "https://localhost:8080/"
        }
      },
      "outputs": [
        {
          "output_type": "execute_result",
          "data": {
            "text/plain": [
              "{'birds': {'Owls': 9, 'Parrots': 5},\n",
              " 'flowers': {'Lilly': 10, 'Orchids': 20, 'Sunflower': 2}}"
            ]
          },
          "metadata": {},
          "execution_count": 37
        }
      ],
      "source": [
        "nested_dict = { 'birds': {'Parrots': 5, \"Owls\":9},\n",
        "                'flowers': {'Sunflower': 2, \"Lilly\":10,\"Orchids\":20}}\n",
        "nested_dict"
      ]
    },
    {
      "cell_type": "code",
      "execution_count": null,
      "metadata": {
        "id": "rgBL0B5Ifzs7",
        "outputId": "744df9f8-a0d7-4aee-9b9b-0ebcd564382b",
        "colab": {
          "base_uri": "https://localhost:8080/"
        }
      },
      "outputs": [
        {
          "output_type": "stream",
          "name": "stdout",
          "text": [
            "{'Parrots': 5, 'Owls': 9}\n"
          ]
        }
      ],
      "source": [
        "#1\n",
        "print(nested_dict['birds']) \n"
      ]
    },
    {
      "cell_type": "code",
      "execution_count": null,
      "metadata": {
        "id": "8rsh4srRfzs7",
        "outputId": "43a4ee0a-08ec-4f93-d066-7f9e85b6228d",
        "colab": {
          "base_uri": "https://localhost:8080/"
        }
      },
      "outputs": [
        {
          "output_type": "stream",
          "name": "stdout",
          "text": [
            "20\n"
          ]
        }
      ],
      "source": [
        "#2\n",
        "print(nested_dict['flowers'][\"Orchids\"]) \n"
      ]
    }
  ],
  "metadata": {
    "kernelspec": {
      "display_name": "Python 3",
      "language": "python",
      "name": "python3"
    },
    "language_info": {
      "codemirror_mode": {
        "name": "ipython",
        "version": 3
      },
      "file_extension": ".py",
      "mimetype": "text/x-python",
      "name": "python",
      "nbconvert_exporter": "python",
      "pygments_lexer": "ipython3",
      "version": "3.6.8"
    },
    "colab": {
      "provenance": [],
      "include_colab_link": true
    }
  },
  "nbformat": 4,
  "nbformat_minor": 0
}
