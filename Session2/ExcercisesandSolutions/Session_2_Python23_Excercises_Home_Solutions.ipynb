{
  "nbformat": 4,
  "nbformat_minor": 0,
  "metadata": {
    "colab": {
      "provenance": [],
      "authorship_tag": "ABX9TyMUtRqoqDLuwmhHKaWWj2ec",
      "include_colab_link": true
    },
    "kernelspec": {
      "name": "python3",
      "display_name": "Python 3"
    },
    "language_info": {
      "name": "python"
    }
  },
  "cells": [
    {
      "cell_type": "markdown",
      "metadata": {
        "id": "view-in-github",
        "colab_type": "text"
      },
      "source": [
        "<a href=\"https://colab.research.google.com/github/aelshehawy/PythonSocialDataScience/blob/main/Session_2_Python23_Excercises_Home_Solutions.ipynb\" target=\"_parent\"><img src=\"https://colab.research.google.com/assets/colab-badge.svg\" alt=\"Open In Colab\"/></a>"
      ]
    },
    {
      "cell_type": "markdown",
      "metadata": {
        "id": "8Ock4tQVj15I"
      },
      "source": [
        "#**Session 2**\n",
        "# Excercises and Solutions"
      ]
    },
    {
      "cell_type": "markdown",
      "metadata": {
        "id": "1wzATc8jqnuN"
      },
      "source": [
        "**Excercise 1**\n",
        "\n",
        "List comprehension: <br>\n",
        "1. Split the sentece below, into list items\n",
        "2. Lowercase all words\n",
        "2. Count the number of charcters for every word in the list, excluding the word \"the\"\n",
        "\n",
        "Use list comprehesion to perform 2 and 3"
      ]
    },
    {
      "cell_type": "code",
      "execution_count": null,
      "metadata": {
        "id": "Y-HGOM5lrLsW",
        "outputId": "e7ef8a5c-2f04-4316-ed11-515f7712e190"
      },
      "outputs": [
        {
          "data": {
            "text/plain": [
              "['The', 'hand', 'sanitizer', 'was', 'actually', 'clear', 'glue.']"
            ]
          },
          "execution_count": 68,
          "metadata": {},
          "output_type": "execute_result"
        }
      ],
      "source": [
        "sentence = \"The hand sanitizer was actually clear glue.\"\n",
        "words = sentence.split()\n",
        "words"
      ]
    },
    {
      "cell_type": "code",
      "execution_count": null,
      "metadata": {
        "id": "k6xYh3YKrLsX",
        "outputId": "56c1f72f-eb6e-415c-e026-d095c52c94ae"
      },
      "outputs": [
        {
          "data": {
            "text/plain": [
              "['the', 'hand', 'sanitizer', 'was', 'actually', 'clear', 'glue.']"
            ]
          },
          "execution_count": 69,
          "metadata": {},
          "output_type": "execute_result"
        }
      ],
      "source": [
        "words_lower = [item.lower() for item in words]\n",
        "words_lower"
      ]
    },
    {
      "cell_type": "code",
      "execution_count": null,
      "metadata": {
        "id": "9f5BGQDVrLsX",
        "outputId": "37dac157-9d3b-44af-bb40-ef01f74701af"
      },
      "outputs": [
        {
          "name": "stdout",
          "output_type": "stream",
          "text": [
            "[4, 9, 3, 8, 5, 5]\n"
          ]
        }
      ],
      "source": [
        "word_lengths = [len(word) for word in words_lower if word != \"the\"]\n",
        "print(word_lengths)"
      ]
    },
    {
      "cell_type": "code",
      "execution_count": null,
      "metadata": {
        "collapsed": true,
        "id": "VcdWvWWYj15Q"
      },
      "outputs": [],
      "source": []
    },
    {
      "cell_type": "markdown",
      "metadata": {
        "id": "RYPRL41prj8L"
      },
      "source": [
        "**Excercise 2**\n",
        "\n",
        "print the items in the list below in reverse one by one. <br/>\n",
        "Outcome should look like: <br/>\n",
        "10<br/>\n",
        "7<br/>\n",
        "3<br/>\n",
        "2<br/>\n",
        "1<br/>\n",
        "800<br/>\n",
        "100<br/>\n",
        "66<br/>"
      ]
    },
    {
      "cell_type": "code",
      "execution_count": null,
      "metadata": {
        "id": "rqsBBn19rj8L",
        "outputId": "a70e5507-3f48-465c-d074-e759145e957d"
      },
      "outputs": [
        {
          "name": "stdout",
          "output_type": "stream",
          "text": [
            "10\n",
            "7\n",
            "3\n",
            "2\n",
            "1\n",
            "800\n",
            "100\n",
            "66\n"
          ]
        }
      ],
      "source": [
        "a_random_list = [66,100,800,1,2,3,7,10]\n",
        "\n",
        "for a in a_random_list[::-1]:\n",
        "    print(a)"
      ]
    },
    {
      "cell_type": "markdown",
      "metadata": {
        "id": "G4QIVB5Prj8L"
      },
      "source": [
        "**Excercise 3**\n",
        "\n",
        "1. Requests the name of the user\n",
        "2. Ask users if they had a break today\n",
        "3. Print a message saying that \"take a break :)\", if they didnt, if they did print \"good for you\""
      ]
    },
    {
      "cell_type": "code",
      "execution_count": null,
      "metadata": {
        "id": "AwEz7lPXrj8M",
        "outputId": "f4269854-2e25-424d-9a1e-18738776ff09",
        "colab": {
          "base_uri": "https://localhost:8080/"
        }
      },
      "outputs": [
        {
          "name": "stdout",
          "output_type": "stream",
          "text": [
            "Whats your name? \tash\n"
          ]
        }
      ],
      "source": [
        "name=input(\"Whats your name? \\t\")\n"
      ]
    },
    {
      "cell_type": "code",
      "execution_count": null,
      "metadata": {
        "id": "B-VMdoLrrj8M",
        "outputId": "ea7dbd82-4546-4ac0-a1bb-54a913223455",
        "colab": {
          "base_uri": "https://localhost:8080/"
        }
      },
      "outputs": [
        {
          "name": "stdout",
          "output_type": "stream",
          "text": [
            "Did you have a break today  ?\tyes\n"
          ]
        }
      ],
      "source": [
        "answer=input(\"Did you have a break today  ?\\t\")\n"
      ]
    },
    {
      "cell_type": "code",
      "execution_count": null,
      "metadata": {
        "id": "MIfnz7wXrj8M",
        "outputId": "31c25926-a2eb-4aad-94d7-471f9a6fdf93"
      },
      "outputs": [
        {
          "name": "stdout",
          "output_type": "stream",
          "text": [
            "<class 'int'>\n"
          ]
        }
      ],
      "source": [
        "print(type(answer))"
      ]
    },
    {
      "cell_type": "code",
      "execution_count": null,
      "metadata": {
        "id": "PBmsV8yDrj8N",
        "outputId": "83cd96b3-a82b-44bb-d3a6-fe6b6a88724d",
        "colab": {
          "base_uri": "https://localhost:8080/"
        }
      },
      "outputs": [
        {
          "output_type": "stream",
          "name": "stdout",
          "text": [
            "ash good for you\n"
          ]
        }
      ],
      "source": [
        "if answer==\"yes\":\n",
        "    print(name, \"good for you\")\n",
        "else:\n",
        "    print(name, \"take a break :)\")"
      ]
    },
    {
      "cell_type": "markdown",
      "metadata": {
        "id": "QLppcMMMrj8N"
      },
      "source": [
        "**Excercise 4**\n",
        "\n",
        "- Define a varibale x to take a number as *input*, you will ask the user to enter any number. Tip:  you will need to understand and use the eval() function, why is it important here?\n",
        "- Store in a list called \"todolist\", x (the number you have chose) items one at a time that the user has to do today. You do that by using the input function. So to say if the x variable is 2, users should be asked twice. Hint: To do that you need a for loop.\n",
        "- Print the todolist"
      ]
    },
    {
      "cell_type": "code",
      "execution_count": null,
      "metadata": {
        "id": "s1jZTuNMrj8N",
        "outputId": "658f51d7-7ff6-46d3-9a28-5e943d8fe2d3",
        "colab": {
          "base_uri": "https://localhost:8080/"
        }
      },
      "outputs": [
        {
          "name": "stdout",
          "output_type": "stream",
          "text": [
            "Please enter any number\n",
            "2\n"
          ]
        }
      ],
      "source": [
        "x=eval(input(\"Please enter any number\\n\"))\n"
      ]
    },
    {
      "cell_type": "code",
      "execution_count": null,
      "metadata": {
        "id": "01b3xsP7rj8N",
        "outputId": "78ddf862-f75f-4e67-d188-3fb5f021a9bd",
        "colab": {
          "base_uri": "https://localhost:8080/"
        }
      },
      "outputs": [
        {
          "output_type": "stream",
          "name": "stdout",
          "text": [
            "coding\n",
            "teaching\n",
            "['coding', 'teaching']\n"
          ]
        }
      ],
      "source": [
        "todolist=[]\n",
        "for i in range (x):\n",
        "    todo=input(\"\")\n",
        "    todolist.append(todo)\n",
        "\n",
        "print(todolist)    "
      ]
    },
    {
      "cell_type": "markdown",
      "metadata": {
        "id": "nlYszXhUrj8O"
      },
      "source": [
        "**Excercise 5**\n",
        "\n",
        "Use a loop over the number and letter lists below.  Think about how to write code that will produce the output below. Hint: you need two loops\n",
        "\n",
        "1 <br>\n",
        "a <br>\n",
        "b<br>\n",
        "c<br>\n",
        "2<br>\n",
        "a<br>\n",
        "b<br>\n",
        "c<br>\n",
        "3<br>\n",
        "a<br>\n",
        "b<br>\n",
        "c<br>"
      ]
    },
    {
      "cell_type": "code",
      "execution_count": null,
      "metadata": {
        "collapsed": true,
        "id": "XTNTZvPzrj8O"
      },
      "outputs": [],
      "source": [
        "numbers = [1, 2, 3]\n",
        "letters = ['a', 'b', 'c']"
      ]
    },
    {
      "cell_type": "code",
      "execution_count": null,
      "metadata": {
        "id": "teYpLUTkrj8P",
        "outputId": "0a7ba81a-4148-45c5-e947-6f2d4fdf949e"
      },
      "outputs": [
        {
          "name": "stdout",
          "output_type": "stream",
          "text": [
            "1\n",
            "a\n",
            "b\n",
            "c\n",
            "2\n",
            "a\n",
            "b\n",
            "c\n",
            "3\n",
            "a\n",
            "b\n",
            "c\n"
          ]
        }
      ],
      "source": [
        "for x in numbers:\n",
        "    print(x)\n",
        "    for a in letters:\n",
        "        print(a)"
      ]
    },
    {
      "cell_type": "code",
      "execution_count": null,
      "metadata": {
        "collapsed": true,
        "id": "tONKAWa_rj8P"
      },
      "outputs": [],
      "source": []
    },
    {
      "cell_type": "markdown",
      "metadata": {
        "id": "iLN3vJgGrj8P"
      },
      "source": [
        "**Excercise 6**\n",
        "\n",
        "- Define a function that returns absolute values. This function will use if and else statetemts so that it always returns the absolute value even if the inputted number is negative.\n",
        "- Try this function out, once with the numbers -222 and 100\n"
      ]
    },
    {
      "cell_type": "code",
      "execution_count": null,
      "metadata": {
        "collapsed": true,
        "id": "QAWt-AA1rj8P"
      },
      "outputs": [],
      "source": [
        "def absolute(x):\n",
        "    if x >= 0:\n",
        "        print( x)\n",
        "    else:\n",
        "        print( -x)"
      ]
    },
    {
      "cell_type": "code",
      "execution_count": null,
      "metadata": {
        "id": "rqbfh5ZFrj8Q",
        "outputId": "e178aac9-4175-4c2b-bbf5-77c84c27abdb"
      },
      "outputs": [
        {
          "name": "stdout",
          "output_type": "stream",
          "text": [
            "222\n",
            "100\n"
          ]
        }
      ],
      "source": [
        "absolute(-222)\n",
        "absolute(100)\n"
      ]
    },
    {
      "cell_type": "markdown",
      "metadata": {
        "id": "2Tsoib_0rj8Q"
      },
      "source": [
        "**Excersise 7**\n",
        "\n",
        "Looping over dictionaries\n",
        "\n",
        "1. Create a dictionary with keys that have names of states in the US and the values are their capital\n",
        "2. Print the keys of the dictionary\n",
        "3. Print the values of the dictionary\n"
      ]
    },
    {
      "cell_type": "code",
      "execution_count": null,
      "metadata": {
        "id": "pkGB-jiorj8R",
        "outputId": "09b213c3-67e9-40c5-b1c0-19264c6d2047",
        "colab": {
          "base_uri": "https://localhost:8080/"
        }
      },
      "outputs": [
        {
          "output_type": "execute_result",
          "data": {
            "text/plain": [
              "{'California': 'Sacramento',\n",
              " 'Ohio': 'Columbus',\n",
              " 'Pennsylvania': 'Harrisburg',\n",
              " 'Texas': 'Austin'}"
            ]
          },
          "metadata": {},
          "execution_count": 8
        }
      ],
      "source": [
        "states_capital= {'Texas' : 'Austin', 'California' : 'Sacramento', \n",
        "                'Ohio' : 'Columbus', 'Pennsylvania' : 'Harrisburg'} \n",
        "states_capital"
      ]
    },
    {
      "cell_type": "code",
      "execution_count": null,
      "metadata": {
        "id": "KEkAbQuYrj8R",
        "outputId": "bbf698c7-be04-4b9f-f065-7a78c44034e2",
        "colab": {
          "base_uri": "https://localhost:8080/"
        }
      },
      "outputs": [
        {
          "output_type": "stream",
          "name": "stdout",
          "text": [
            "Texas\n",
            "California\n",
            "Ohio\n",
            "Pennsylvania\n"
          ]
        }
      ],
      "source": [
        "for key in states_capital:\n",
        "    print(key)"
      ]
    },
    {
      "cell_type": "code",
      "execution_count": null,
      "metadata": {
        "id": "lUnjMSadrj8S",
        "outputId": "ebbb0802-2704-4cc2-fce2-0966cf3ccbf0",
        "colab": {
          "base_uri": "https://localhost:8080/"
        }
      },
      "outputs": [
        {
          "output_type": "stream",
          "name": "stdout",
          "text": [
            "Austin\n",
            "Sacramento\n",
            "Columbus\n",
            "Harrisburg\n"
          ]
        }
      ],
      "source": [
        "for value in states_capital.values(): \n",
        "    print(value)"
      ]
    },
    {
      "cell_type": "code",
      "source": [
        "for k,v in states_capital.items():\n",
        "     print(str(k)+': '  + str(v))"
      ],
      "metadata": {
        "colab": {
          "base_uri": "https://localhost:8080/"
        },
        "id": "fRQdw0opMmBO",
        "outputId": "985d822b-fd42-413a-fbcc-4dada2486263"
      },
      "execution_count": null,
      "outputs": [
        {
          "output_type": "stream",
          "name": "stdout",
          "text": [
            "Texas: Austin\n",
            "California: Sacramento\n",
            "Ohio: Columbus\n",
            "Pennsylvania: Harrisburg\n"
          ]
        }
      ]
    },
    {
      "cell_type": "markdown",
      "metadata": {
        "id": "zi3wzcsKrj8S"
      },
      "source": [
        "**Excercise 8**\n",
        "\n",
        "Looping and indexing. \n",
        "\n",
        "Print each letter in the word \"awesome\". Do that by using a for loop. \n",
        "\n",
        "Hint: Check out the range function."
      ]
    },
    {
      "cell_type": "code",
      "source": [
        "word= (\"awesome\")\n",
        "\n",
        "for i in word:#pull out all elements you wanna work with\n",
        "    print(i)"
      ],
      "metadata": {
        "colab": {
          "base_uri": "https://localhost:8080/"
        },
        "id": "gjsw7ag1M4wF",
        "outputId": "010ec8fd-6a29-4ea0-aa44-8ad012133054"
      },
      "execution_count": null,
      "outputs": [
        {
          "output_type": "stream",
          "name": "stdout",
          "text": [
            "a\n",
            "w\n",
            "e\n",
            "s\n",
            "o\n",
            "m\n",
            "e\n"
          ]
        }
      ]
    },
    {
      "cell_type": "code",
      "execution_count": null,
      "metadata": {
        "id": "RJX2Nk6yrj8T",
        "outputId": "2d6801d6-6bf2-4020-9a4b-1c841fdf7df3",
        "colab": {
          "base_uri": "https://localhost:8080/"
        }
      },
      "outputs": [
        {
          "output_type": "stream",
          "name": "stdout",
          "text": [
            "a\n",
            "w\n",
            "e\n",
            "s\n",
            "o\n",
            "m\n",
            "e\n"
          ]
        }
      ],
      "source": [
        "word= (\"awesome\")\n",
        "\n",
        "for i in range(len(word)):#pull out all elements you wanna work with\n",
        "    print(word[i])"
      ]
    },
    {
      "cell_type": "code",
      "execution_count": null,
      "metadata": {
        "id": "GLlcVg08rj8T",
        "outputId": "37d62d06-27a0-4b6b-adbd-bed53434ea66",
        "colab": {
          "base_uri": "https://localhost:8080/",
          "height": 35
        }
      },
      "outputs": [
        {
          "output_type": "execute_result",
          "data": {
            "text/plain": [
              "'e'"
            ],
            "application/vnd.google.colaboratory.intrinsic+json": {
              "type": "string"
            }
          },
          "metadata": {},
          "execution_count": 16
        }
      ],
      "source": [
        "word[2]"
      ]
    }
  ]
}
