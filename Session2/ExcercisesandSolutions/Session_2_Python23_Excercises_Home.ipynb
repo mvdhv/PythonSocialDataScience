{
  "nbformat": 4,
  "nbformat_minor": 0,
  "metadata": {
    "colab": {
      "provenance": [],
      "authorship_tag": "ABX9TyO8+SgL77rWQv7FXWSMb0+O",
      "include_colab_link": true
    },
    "kernelspec": {
      "name": "python3",
      "display_name": "Python 3"
    },
    "language_info": {
      "name": "python"
    }
  },
  "cells": [
    {
      "cell_type": "markdown",
      "metadata": {
        "id": "view-in-github",
        "colab_type": "text"
      },
      "source": [
        "<a href=\"https://colab.research.google.com/github/aelshehawy/PythonSocialDataScience/blob/main/Session_2_Python23_Excercises.ipynb\" target=\"_parent\"><img src=\"https://colab.research.google.com/assets/colab-badge.svg\" alt=\"Open In Colab\"/></a>"
      ]
    },
    {
      "cell_type": "markdown",
      "metadata": {
        "id": "8Ock4tQVj15I"
      },
      "source": [
        "#**Session 2**\n",
        "# Excercises Take Home"
      ]
    },
    {
      "cell_type": "markdown",
      "metadata": {
        "id": "1wzATc8jqnuN"
      },
      "source": [
        "**Excercise 1**\n",
        "\n",
        "List comprehension: <br>\n",
        "1. Split the sentece below, into list items\n",
        "2. Lowercase all words\n",
        "2. Count the number of charcters for every word in the list, excluding the word \"the\"\n",
        "\n",
        "Use list comprehesion to perform 2 and 3"
      ]
    },
    {
      "cell_type": "code",
      "execution_count": null,
      "metadata": {
        "id": "Y-HGOM5lrLsW"
      },
      "outputs": [],
      "source": [
        "sentence = \"The hand sanitizer was actually clear glue.\"\n"
      ]
    },
    {
      "cell_type": "code",
      "execution_count": null,
      "metadata": {
        "collapsed": true,
        "id": "VcdWvWWYj15Q"
      },
      "outputs": [],
      "source": []
    },
    {
      "cell_type": "markdown",
      "metadata": {
        "id": "RYPRL41prj8L"
      },
      "source": [
        "**Excercise 2**\n",
        "\n",
        "print the items in the list below in reverse one by one. <br/>\n",
        "Outcome should look like: <br/>\n",
        "10<br/>\n",
        "7<br/>\n",
        "3<br/>\n",
        "2<br/>\n",
        "1<br/>\n",
        "800<br/>\n",
        "100<br/>\n",
        "66<br/>"
      ]
    },
    {
      "cell_type": "code",
      "execution_count": null,
      "metadata": {
        "id": "rqsBBn19rj8L"
      },
      "outputs": [],
      "source": [
        "a_random_list = [66,100,800,1,2,3,7,10]\n",
        "\n"
      ]
    },
    {
      "cell_type": "markdown",
      "metadata": {
        "id": "G4QIVB5Prj8L"
      },
      "source": [
        "**Excercise 3**\n",
        "\n",
        "1. Requests the name of the user\n",
        "2. Ask users if they had a break today\n",
        "3. Print a message saying that \"take a break :)\", if they didnt, if they did print \"good for you\""
      ]
    },
    {
      "cell_type": "markdown",
      "metadata": {
        "id": "QLppcMMMrj8N"
      },
      "source": [
        "**Excercise 4**\n",
        "\n",
        "- Define a varibale x to take a number as *input*, you will ask the user to enter any number. Tip:  you will need to understand and use the eval() function, why is it important here?\n",
        "- Store in a list called \"todolist\", x (the number you have chose) items one at a time that the user has to do today. You do that by using the input function. So to say if the x variable is 2, users should be asked twice. Hint: To do that you need a for loop.\n",
        "- Print the todolist"
      ]
    },
    {
      "cell_type": "markdown",
      "metadata": {
        "id": "nlYszXhUrj8O"
      },
      "source": [
        "**Excercise 5**\n",
        "\n",
        "Use a loop over the number and letter lists below.  Think about how to write code that will produce the output below. Hint: you need two loops\n",
        "\n",
        "1 <br>\n",
        "a <br>\n",
        "b<br>\n",
        "c<br>\n",
        "2<br>\n",
        "a<br>\n",
        "b<br>\n",
        "c<br>\n",
        "3<br>\n",
        "a<br>\n",
        "b<br>\n",
        "c<br>"
      ]
    },
    {
      "cell_type": "code",
      "execution_count": null,
      "metadata": {
        "collapsed": true,
        "id": "XTNTZvPzrj8O"
      },
      "outputs": [],
      "source": [
        "numbers = [1, 2, 3]\n",
        "letters = ['a', 'b', 'c']"
      ]
    },
    {
      "cell_type": "code",
      "execution_count": null,
      "metadata": {
        "collapsed": true,
        "id": "tONKAWa_rj8P"
      },
      "outputs": [],
      "source": []
    },
    {
      "cell_type": "markdown",
      "metadata": {
        "id": "iLN3vJgGrj8P"
      },
      "source": [
        "**Excercise 6**\n",
        "\n",
        "- Define a function that returns absolute values. This function will use if and else statetemts so that it always returns the absolute value even if the inputted number is negative.\n",
        "- Try this function out, once with the numbers -222 and 100\n"
      ]
    },
    {
      "cell_type": "markdown",
      "metadata": {
        "id": "2Tsoib_0rj8Q"
      },
      "source": [
        "**Excersise 7**\n",
        "\n",
        "Looping over dictionaries\n",
        "\n",
        "1. Create a dictionary with keys that have names of states in the US and the values are their capital\n",
        "2. Print the keys of the dictionary\n",
        "3. Print the values of the dictionary\n"
      ]
    },
    {
      "cell_type": "markdown",
      "metadata": {
        "id": "zi3wzcsKrj8S"
      },
      "source": [
        "**Excercise 8**\n",
        "\n",
        "Looping and indexing. \n",
        "\n",
        "Print each letter in the word \"awesome\". Do that by using a for loop. \n",
        "\n",
        "Hint: Check out the range function."
      ]
    },
    {
      "cell_type": "code",
      "source": [
        "word= (\"awesome\")\n",
        "\n"
      ],
      "metadata": {
        "id": "gjsw7ag1M4wF"
      },
      "execution_count": null,
      "outputs": []
    }
  ]
}
