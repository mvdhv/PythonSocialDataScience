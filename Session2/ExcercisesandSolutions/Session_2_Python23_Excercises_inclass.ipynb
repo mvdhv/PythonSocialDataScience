{
  "nbformat": 4,
  "nbformat_minor": 0,
  "metadata": {
    "colab": {
      "provenance": [],
      "authorship_tag": "ABX9TyOnED/5yxqM1kKaYkDLWUKo",
      "include_colab_link": true
    },
    "kernelspec": {
      "name": "python3",
      "display_name": "Python 3"
    },
    "language_info": {
      "name": "python"
    }
  },
  "cells": [
    {
      "cell_type": "markdown",
      "metadata": {
        "id": "view-in-github",
        "colab_type": "text"
      },
      "source": [
        "<a href=\"https://colab.research.google.com/github/aelshehawy/PythonSocialDataScience/blob/main/Session2_Python23_Excercises_inclass.ipynb\" target=\"_parent\"><img src=\"https://colab.research.google.com/assets/colab-badge.svg\" alt=\"Open In Colab\"/></a>"
      ]
    },
    {
      "cell_type": "markdown",
      "metadata": {
        "id": "0mdbXxoYboqo"
      },
      "source": [
        "#**Session 2**\n",
        "# In Class Excercises"
      ]
    },
    {
      "cell_type": "markdown",
      "metadata": {
        "id": "6ptDtl-Lboqp"
      },
      "source": [
        "**Exercise 1**\n",
        "\n",
        "1. count how the occurence of each letter in the sentence. Hint: use the Counter library in python\n",
        "2. count number of characters/letters only (no white space, no punctuation) - hint use the replace in-built function in python."
      ]
    },
    {
      "cell_type": "code",
      "execution_count": null,
      "metadata": {
        "collapsed": true,
        "id": "3TE4jk27boqp"
      },
      "outputs": [],
      "source": [
        "sentence=(\"Hello World, I am so excited; to finally be able to get out of quarantine and meet all my friends\")"
      ]
    },
    {
      "cell_type": "markdown",
      "metadata": {
        "id": "uOCwmewGboqp"
      },
      "source": [
        "**Excercise 2**\n",
        "\n",
        "why do we see an error message here"
      ]
    },
    {
      "cell_type": "code",
      "execution_count": null,
      "metadata": {
        "id": "CFwkwLATboqp",
        "outputId": "aee393a0-1b7a-4daa-9b19-761afdfd460b"
      },
      "outputs": [
        {
          "ename": "TypeError",
          "evalue": "unsupported operand type(s) for +: 'int' and 'str'",
          "output_type": "error",
          "traceback": [
            "\u001b[0;31m---------------------------------------------------------------------------\u001b[0m",
            "\u001b[0;31mTypeError\u001b[0m                                 Traceback (most recent call last)",
            "\u001b[0;32m<ipython-input-48-d0daa1f1a93d>\u001b[0m in \u001b[0;36m<module>\u001b[0;34m()\u001b[0m\n\u001b[0;32m----> 1\u001b[0;31m \u001b[0mvar\u001b[0m \u001b[0;34m=\u001b[0m \u001b[0;36m100\u001b[0m \u001b[0;34m+\u001b[0m \u001b[0;34m\"the number 100\"\u001b[0m\u001b[0;34m\u001b[0m\u001b[0;34m\u001b[0m\u001b[0m\n\u001b[0m",
            "\u001b[0;31mTypeError\u001b[0m: unsupported operand type(s) for +: 'int' and 'str'"
          ]
        }
      ],
      "source": [
        "var = 100 + \"the number 100\""
      ]
    },
    {
      "cell_type": "markdown",
      "metadata": {
        "id": "IM9GWqo_boqq"
      },
      "source": [
        "**Excercise 3**\n",
        "\n",
        "- Save your first and last name in lowercase in seperate variables: firstname, lastname\n",
        "- Save first and last name together in a new variable fullname\n",
        "- Print your fullname where the first letter of each name is capitalized\n",
        "\n",
        "Hint\n",
        "\n",
        "- Make sure there is space between both names\n"
      ]
    },
    {
      "cell_type": "markdown",
      "metadata": {
        "id": "NbsqJmIyboqq"
      },
      "source": [
        "**Excercise 4**\n",
        "\n",
        "Count number of lowercase and uppercase letters\n",
        "\n",
        "Note: There are several ways to do this"
      ]
    },
    {
      "cell_type": "code",
      "execution_count": null,
      "metadata": {
        "collapsed": true,
        "id": "8Vp4znNnboqr"
      },
      "outputs": [],
      "source": [
        "my_word = \"HelLo WorLd\"\n"
      ]
    },
    {
      "cell_type": "markdown",
      "metadata": {
        "collapsed": true,
        "id": "0qOdYmrtboqr"
      },
      "source": [
        "**Excercise 5** \n",
        "\n",
        "Focusing on manipulating lists!\n",
        "\n",
        "1. count how many times bananas occur\n",
        "2. save last item in the list in the variable \"oneitem\"\n",
        "3. save the third item in the list in the variable \"thirditem\"\n",
        "4. return the items from the beginning to \"chocolate\"\n",
        "5. add a new element to the list called \"beef\"\n",
        "6. remove first element of list, uses pop function\n",
        "7. Insert \"grapes\" instead of oranges\n",
        "8. sort this list in ascending numbers,  numbers=[1,9,8,5,2,7]\n",
        "\n",
        "Make sure you dont overwrite the original list (by creating new lists)"
      ]
    },
    {
      "cell_type": "code",
      "execution_count": null,
      "metadata": {
        "collapsed": true,
        "id": "g1Hpkk5Cboqs"
      },
      "outputs": [],
      "source": [
        "food=[\"apples\",\"oranges\",\"bananas\",\"chocolate\",\"strawberries\",\"bananas\"]\n"
      ]
    },
    {
      "cell_type": "code",
      "execution_count": null,
      "metadata": {
        "collapsed": true,
        "id": "DJj-YZ48boqs"
      },
      "outputs": [],
      "source": []
    },
    {
      "cell_type": "markdown",
      "metadata": {
        "id": "u8S3gMD8boqt"
      },
      "source": [
        "**Excercise 6**\n",
        "\n",
        "Print this string in multi-lines (broken lines) - save in variable \"paragraph\":\n",
        "\n",
        "Line 1: I am going to start writing a paragraph <br\\>\n",
        "Line 2: It shoudldnt be too long <br\\>\n",
        "Line 3: I will keep it short"
      ]
    },
    {
      "cell_type": "markdown",
      "metadata": {
        "id": "drFsEWefboqt"
      },
      "source": [
        "**Excercise 7**\n",
        "\n",
        "Use once negative and once positive indexing<br\\>\n",
        "to print the letter n  \n",
        "\n"
      ]
    },
    {
      "cell_type": "code",
      "execution_count": null,
      "metadata": {
        "collapsed": true,
        "id": "cGWPzXOcboqt"
      },
      "outputs": [],
      "source": [
        "newsentence= \"This is a new sentece for Excercise 7\"\n"
      ]
    },
    {
      "cell_type": "markdown",
      "metadata": {
        "id": "wmtYTfFkboqt"
      },
      "source": [
        "**Excercise 8**\n",
        "\n",
        "Add space between every letter of the string below\n"
      ]
    },
    {
      "cell_type": "code",
      "execution_count": null,
      "metadata": {
        "collapsed": true,
        "id": "lujzRIm9boqu"
      },
      "outputs": [],
      "source": [
        "\n",
        "string4=\"Test String\"\n"
      ]
    },
    {
      "cell_type": "markdown",
      "metadata": {
        "id": "XQ_IURYiboqw"
      },
      "source": [
        "**Excercise 9**\n",
        "\n",
        "Dictionaries \n",
        "1. print all keys in the dictionary below\n",
        "2. print all values in the dictionary below"
      ]
    },
    {
      "cell_type": "code",
      "execution_count": null,
      "metadata": {
        "collapsed": true,
        "id": "KoZ-hRlvboqw"
      },
      "outputs": [],
      "source": [
        "phd_dictionary={\"teaching\": 2,\"dissertation\":10,\"coffee\":20}"
      ]
    },
    {
      "cell_type": "markdown",
      "metadata": {
        "id": "d0BpDlV0boqx"
      },
      "source": [
        "**Excercise 10**\n",
        "\n",
        "1. Please find the numbers that are common from list1 and list2 using list comprehesion. There are several ways to solve this. Hint: remember boolean operations, and check the usage of if in list comprehensions\n",
        "2. Please fine the numbers that are common from list1 and list2 using intersection. Hint: Think how sets can come handy here"
      ]
    },
    {
      "cell_type": "code",
      "execution_count": null,
      "metadata": {
        "collapsed": true,
        "id": "O0AgvM68boqx"
      },
      "outputs": [],
      "source": [
        "list_a = [1, 2, 3, 4]\n",
        "list_b = [2, 3, 4, 5]\n"
      ]
    },
    {
      "cell_type": "markdown",
      "metadata": {
        "id": "9JmwXLpeboqx"
      },
      "source": [
        "**Excercise 11**\n",
        "\n",
        "Why is this code showing an error message?"
      ]
    },
    {
      "cell_type": "code",
      "execution_count": null,
      "metadata": {
        "id": "iZDFG_yIboqx",
        "outputId": "62829a8e-bb34-41e7-f9b3-2b727185f2e1"
      },
      "outputs": [
        {
          "ename": "TypeError",
          "evalue": "unhashable type: 'list'",
          "output_type": "error",
          "traceback": [
            "\u001b[0;31m---------------------------------------------------------------------------\u001b[0m",
            "\u001b[0;31mTypeError\u001b[0m                                 Traceback (most recent call last)",
            "\u001b[0;32m<ipython-input-56-ccef57d36bc1>\u001b[0m in \u001b[0;36m<module>\u001b[0;34m()\u001b[0m\n\u001b[0;32m----> 1\u001b[0;31m \u001b[0mmy_set\u001b[0m \u001b[0;34m=\u001b[0m \u001b[0;34m{\u001b[0m\u001b[0;36m1\u001b[0m\u001b[0;34m,\u001b[0m \u001b[0;36m2\u001b[0m\u001b[0;34m,\u001b[0m \u001b[0;34m[\u001b[0m\u001b[0;36m3\u001b[0m\u001b[0;34m,\u001b[0m \u001b[0;36m4\u001b[0m\u001b[0;34m]\u001b[0m\u001b[0;34m}\u001b[0m\u001b[0;34m\u001b[0m\u001b[0;34m\u001b[0m\u001b[0m\n\u001b[0m\u001b[1;32m      2\u001b[0m \u001b[0;34m\u001b[0m\u001b[0m\n",
            "\u001b[0;31mTypeError\u001b[0m: unhashable type: 'list'"
          ]
        }
      ],
      "source": [
        "my_set = {1, 2, [3, 4]}\n",
        "\n"
      ]
    },
    {
      "cell_type": "markdown",
      "metadata": {
        "id": "9ECAtyuVboqy"
      },
      "source": [
        "**Excercise 12**\n",
        "1. Show the Union between both sets\n",
        "2. Show the Intersection between both sets\n",
        "3. Show Set Difference\n",
        "4. Show Set Systematic Difference"
      ]
    },
    {
      "cell_type": "code",
      "execution_count": null,
      "metadata": {
        "collapsed": true,
        "id": "KRY6wnokboqy"
      },
      "outputs": [],
      "source": [
        "x = {100, 200, 300, 400, 500}\n",
        "z = {400, 500, 600, 700, 800}"
      ]
    },
    {
      "cell_type": "markdown",
      "metadata": {
        "id": "kMBCbtxJboqy"
      },
      "source": [
        "**Excercise 13**\n",
        "\n",
        "Nested Dictionaries are dictionaries within dictionaries.\n",
        "1. Print values for birds in general\n",
        "2. Print values of the Orchids\n"
      ]
    },
    {
      "cell_type": "code",
      "execution_count": null,
      "metadata": {
        "id": "Ap4sZzIwboqy",
        "outputId": "918f82ac-3793-435e-d859-7e86d35a16a2"
      },
      "outputs": [
        {
          "data": {
            "text/plain": [
              "{'birds': {'Owls': 9, 'Parrots': 5},\n",
              " 'flowers': {'Lilly': 10, 'Orchids': 20, 'Sunflower': 2}}"
            ]
          },
          "execution_count": 58,
          "metadata": {},
          "output_type": "execute_result"
        }
      ],
      "source": [
        "nested_dict = { 'birds': {'Parrots': 5, \"Owls\":9},\n",
        "                'flowers': {'Sunflower': 2, \"Lilly\":10,\"Orchids\":20}}\n",
        "nested_dict"
      ]
    },
    {
      "cell_type": "code",
      "execution_count": null,
      "metadata": {
        "collapsed": true,
        "id": "GB9qNIw6boqz"
      },
      "outputs": [],
      "source": []
    },
    {
      "cell_type": "code",
      "execution_count": null,
      "metadata": {
        "collapsed": true,
        "id": "WaRPWhIcboqz"
      },
      "outputs": [],
      "source": []
    }
  ]
}
