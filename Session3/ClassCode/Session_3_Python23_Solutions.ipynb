{
  "nbformat": 4,
  "nbformat_minor": 0,
  "metadata": {
    "colab": {
      "provenance": [],
      "authorship_tag": "ABX9TyMlzZN3J6Heu1uSNRTEO5Eu",
      "include_colab_link": true
    },
    "kernelspec": {
      "name": "python3",
      "display_name": "Python 3"
    },
    "language_info": {
      "name": "python"
    }
  },
  "cells": [
    {
      "cell_type": "markdown",
      "metadata": {
        "id": "view-in-github",
        "colab_type": "text"
      },
      "source": [
        "<a href=\"https://colab.research.google.com/github/aelshehawy/PythonSocialDataScience/blob/main/Session_3_Python23_Solutions.ipynb\" target=\"_parent\"><img src=\"https://colab.research.google.com/assets/colab-badge.svg\" alt=\"Open In Colab\"/></a>"
      ]
    },
    {
      "cell_type": "code",
      "execution_count": null,
      "metadata": {
        "colab": {
          "base_uri": "https://localhost:8080/"
        },
        "id": "sUoFQG5IGDQm",
        "outputId": "9318b1f7-dd2d-4f9b-f9ae-d52fd46b6749"
      },
      "outputs": [
        {
          "output_type": "stream",
          "name": "stdout",
          "text": [
            "\t**********************************************\n",
            "\t\t***  Python is so good!  ***\n",
            "\t**********************************************\n"
          ]
        }
      ],
      "source": [
        "print(\"\\t**********************************************\")\n",
        "print(\"\\t\\t***  Python is so good!  ***\")\n",
        "print(\"\\t**********************************************\")"
      ]
    },
    {
      "cell_type": "markdown",
      "source": [
        "Today:\n",
        "\n",
        "\n",
        "**Revision**\n",
        "\n",
        "1. Appending Lists\n",
        "2. List Comprehension\n",
        "3. For Loops\n",
        "\n",
        " \n",
        "**New Stuff**\n",
        "\n",
        "1. Compound Data Structures\n",
        "2. Functions\n",
        "3. Pandas I\n"
      ],
      "metadata": {
        "id": "ZzHShAOlMdZW"
      }
    },
    {
      "cell_type": "markdown",
      "metadata": {
        "id": "gUPyulFcj14U"
      },
      "source": [
        "# **Appending: Storing items in a list**"
      ]
    },
    {
      "cell_type": "code",
      "execution_count": null,
      "metadata": {
        "id": "64XJP9K6j14U",
        "outputId": "c6219ab3-85ae-46a6-d36e-69d4596f1c0c",
        "colab": {
          "base_uri": "https://localhost:8080/"
        }
      },
      "outputs": [
        {
          "output_type": "execute_result",
          "data": {
            "text/plain": [
              "[4, 6]"
            ]
          },
          "metadata": {},
          "execution_count": 22
        }
      ],
      "source": [
        "list1 = []\n",
        "for i in range(2, 4): # we know that python will discard in that range the last number which is 4\n",
        "    list1.append(i*2)\n",
        "    \n",
        "list1"
      ]
    },
    {
      "cell_type": "code",
      "execution_count": null,
      "metadata": {
        "id": "uDAfEcglj14U",
        "outputId": "d205d800-5c2d-4582-8065-1359939dee10",
        "colab": {
          "base_uri": "https://localhost:8080/"
        }
      },
      "outputs": [
        {
          "output_type": "execute_result",
          "data": {
            "text/plain": [
              "['Mannheim', 'Oxford']"
            ]
          },
          "metadata": {},
          "execution_count": 85
        }
      ],
      "source": [
        "#list of lists\n",
        "\n",
        "\n",
        "cities = [ ['Alexandria', 'Cairo', 'Suez', 'Ismalia',\"Africa\",4], \n",
        "             ['Berlin', 'Mannheim', 'Cologne', 'Munich',\"Europe\",4], \n",
        "             ['London', 'Oxford','Cambridge', 'Manchester',\"Europe\",5] ]\n",
        "\n",
        "european_list = []\n",
        "\"\"\"I want to save a new list that I will call European.\n",
        "Where if the nested list mentions Europe, I will extract the second city,\n",
        "which means my list will have Mannheim and Oxford in them.\n",
        "How can I do this?\n",
        "\"\"\"\n",
        "for city in cities:\n",
        "    if city[4]==\"Europe\":\n",
        "        european_list.append(city[1])\n",
        "european_list"
      ]
    },
    {
      "cell_type": "markdown",
      "metadata": {
        "id": "NwxpzkaTj14U"
      },
      "source": [
        "# **Small revision of list comprehension again**\n",
        "list_variable = [x for x in iterable]\n",
        "\n"
      ]
    },
    {
      "cell_type": "code",
      "execution_count": null,
      "metadata": {
        "id": "oMT2Q-7bj14V",
        "outputId": "07bab073-9c11-4064-ea51-497864c5a8a5",
        "colab": {
          "base_uri": "https://localhost:8080/"
        }
      },
      "outputs": [
        {
          "output_type": "stream",
          "name": "stdout",
          "text": [
            "[0, 1, 4, 9, 16, 25, 36, 49, 64, 81]\n",
            "[0, 2, 4, 6, 8, 10, 12, 14, 16, 18, 20, 22, 24]\n",
            "['a', 'a', 'a', 'a', 'a', 'a', 'a', 'a', 'a', 'a']\n"
          ]
        }
      ],
      "source": [
        "a = [x**2 for x in range(10)]\n",
        "b = [2*m for m in range(13)]\n",
        "print(a)\n",
        "print(b)\n",
        "list2 = [\"a\" for x in range(10)]\n",
        "print(list2)"
      ]
    },
    {
      "cell_type": "markdown",
      "metadata": {
        "id": "t0ehAACuj14V"
      },
      "source": [
        "**Alternative to for loops**\n",
        "\n",
        "Lets say I want to create a list"
      ]
    },
    {
      "cell_type": "code",
      "execution_count": null,
      "metadata": {
        "id": "6bZDMDkqj14V",
        "outputId": "0f8d32b0-2ca0-4dbc-fbe2-4d66043b28f8",
        "colab": {
          "base_uri": "https://localhost:8080/"
        }
      },
      "outputs": [
        {
          "output_type": "stream",
          "name": "stdout",
          "text": [
            "[1]\n"
          ]
        }
      ],
      "source": [
        "randomrange=range(5)\n",
        "loopoption = []\n",
        "\n",
        "# Add values to `new_list`\n",
        "for x in randomrange:\n",
        "    if x/2==0:\n",
        "        loopoption.append(x+1)\n",
        "\n",
        "# Print `new_list`\n",
        "print(loopoption)"
      ]
    },
    {
      "cell_type": "code",
      "execution_count": null,
      "metadata": {
        "id": "v_pSE3pGj14V",
        "outputId": "a9812eaa-7077-4b71-b55c-7b5bf7a26c21",
        "colab": {
          "base_uri": "https://localhost:8080/"
        }
      },
      "outputs": [
        {
          "output_type": "execute_result",
          "data": {
            "text/plain": [
              "[1]"
            ]
          },
          "metadata": {},
          "execution_count": 88
        }
      ],
      "source": [
        "comprehesionoption = [x+1 for x in randomrange if x/2==0]\n",
        "comprehesionoption"
      ]
    },
    {
      "cell_type": "markdown",
      "metadata": {
        "id": "GoTYSPF7j14W"
      },
      "source": [
        "Basic Pre-Processing of text"
      ]
    },
    {
      "cell_type": "code",
      "execution_count": null,
      "metadata": {
        "collapsed": true,
        "id": "cBJdRLVNj14W"
      },
      "outputs": [],
      "source": [
        "random = 'Today is a sunny day, I need some Vitamin D'\n"
      ]
    },
    {
      "cell_type": "code",
      "execution_count": null,
      "metadata": {
        "id": "5_E3-HGNj14X",
        "outputId": "65c33ef6-2649-4de6-f88e-ca60113bcdb0",
        "colab": {
          "base_uri": "https://localhost:8080/"
        }
      },
      "outputs": [
        {
          "output_type": "execute_result",
          "data": {
            "text/plain": [
              "['today', 'is', 'a', 'sunny', 'day,', 'i', 'need', 'some', 'vitamin', 'd']"
            ]
          },
          "metadata": {},
          "execution_count": 90
        }
      ],
      "source": [
        "random_lower = [x.lower() for x in random.split()] #What does split do here?\n",
        "random_lower"
      ]
    },
    {
      "cell_type": "code",
      "execution_count": null,
      "metadata": {
        "collapsed": true,
        "id": "RNkK-R-vj14Y"
      },
      "outputs": [],
      "source": [
        "#What does split do?\n",
        "random_lower = [x.lower() for x in random] "
      ]
    },
    {
      "cell_type": "markdown",
      "source": [
        "# **Compound data structures!**\n",
        "\n",
        "We will use a country dictionary as I promised last time 🌟\n",
        "\n",
        "Do not worry we will learn more about how to load files in Python next time! This is just a teaser.\n",
        "\n",
        "Load the country dictionary - data on GitHub here: https://github.com/aelshehawy/PythonSocialDataScience/tree/main/Session2/data"
      ],
      "metadata": {
        "id": "JhkGeG7h8O95"
      }
    },
    {
      "cell_type": "markdown",
      "source": [
        "![Screenshot 2023-02-06 at 17.23.58.png](data:image/png;base64,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)"
      ],
      "metadata": {
        "id": "1h72IZeW8O96"
      }
    },
    {
      "cell_type": "code",
      "source": [],
      "metadata": {
        "id": "NxSqIoAk8O99"
      },
      "execution_count": null,
      "outputs": []
    },
    {
      "cell_type": "code",
      "source": [
        "from google.colab import drive\n",
        "drive.mount('/content/drive')"
      ],
      "metadata": {
        "colab": {
          "base_uri": "https://localhost:8080/"
        },
        "id": "DeAb2MpZ8O99",
        "outputId": "3fd321ec-05c1-4ddb-974d-c7a4678eb9c8"
      },
      "execution_count": null,
      "outputs": [
        {
          "output_type": "stream",
          "name": "stdout",
          "text": [
            "Mounted at /content/drive\n"
          ]
        }
      ]
    },
    {
      "cell_type": "code",
      "source": [
        "import json\n",
        "\n",
        "with open('/content/drive/MyDrive/Colab Notebooks/Python for Social Data Science/Session 2/data/country_state.json') as json_file:\n",
        "    json_data = json.load(json_file)\n",
        "    print(json_data)\n"
      ],
      "metadata": {
        "colab": {
          "base_uri": "https://localhost:8080/"
        },
        "id": "AdbgwmKk8O99",
        "outputId": "62abb589-5aba-4f60-de37-ef2b809da459"
      },
      "execution_count": null,
      "outputs": [
        {
          "output_type": "stream",
          "name": "stdout",
          "text": [
            "[{'name': 'Andorra', 'countryCode': 'AD', 'countryCodeAlpha3': 'AND', 'phone': '376', 'currency': 'EUR', 'stateProvinces': [{'name': 'Sant Julià de Loria'}, {'name': 'Ordino'}, {'name': 'La Massana'}, {'name': 'Encamp'}, {'name': 'Canillo'}, {'name': 'Andorra la Vella'}, {'name': 'Escaldes-Engordany'}]}, {'name': 'United Arab Emirates', 'countryCode': 'AE', 'countryCodeAlpha3': 'ARE', 'phone': '971', 'currency': 'AED', 'stateProvinces': [{'name': 'Imārat Umm al Qaywayn'}, {'name': 'Raʼs al Khaymah'}, {'name': 'Dubai'}, {'name': 'Sharjah'}, {'name': 'Fujairah'}, {'name': 'Ajman'}, {'name': 'Abu Dhabi'}]}, {'name': 'Afghanistan', 'countryCode': 'AF', 'countryCodeAlpha3': 'AFG', 'phone': '93', 'currency': 'AFN', 'stateProvinces': [{'name': 'Zabul'}, {'name': 'Vardak'}, {'name': 'Takhar'}, {'name': 'Sar-e Pol'}, {'name': 'Samangan'}, {'name': 'Parwan'}, {'name': 'Paktika'}, {'name': 'Paktia'}, {'name': 'Oruzgan'}, {'name': 'Nimroz'}, {'name': 'Nangarhar'}, {'name': 'Logar'}, {'name': 'Laghman'}, {'name': 'Kunduz'}, {'name': 'Kunar'}, {'name': 'Kapisa'}, {'name': 'Kandahar'}, {'name': 'Kabul'}, {'name': 'Jowzjan'}, {'name': 'Herat'}, {'name': 'Helmand'}, {'name': 'Ghowr'}, {'name': 'Ghazni'}, {'name': 'Faryab'}, {'name': 'Farah'}, {'name': 'Bamyan'}, {'name': 'Balkh'}, {'name': 'Baghlan'}, {'name': 'Badghis'}, {'name': 'Badakhshan'}, {'name': 'Khowst'}, {'name': 'Nuristan'}, {'name': 'Daykundi'}, {'name': 'Panjshir'}]}, {'name': 'Antigua and Barbuda', 'countryCode': 'AG', 'countryCodeAlpha3': 'ATG', 'phone': '+1-268', 'currency': 'XCD', 'stateProvinces': [{'name': 'Saint Philip'}, {'name': 'Saint Peter'}, {'name': 'Saint Paul'}, {'name': 'Saint Mary'}, {'name': 'Saint John'}, {'name': 'Saint George'}, {'name': 'Redonda'}, {'name': 'Barbuda'}]}, {'name': 'Anguilla', 'countryCode': 'AI', 'countryCodeAlpha3': 'AIA', 'phone': '+1-264', 'currency': 'XCD', 'stateProvinces': [{'name': 'Blowing Point'}, {'name': 'Sandy Ground'}, {'name': 'Sandy Hill'}, {'name': 'The Valley'}, {'name': 'East End'}, {'name': 'North Hill'}, {'name': 'West End'}, {'name': 'South Hill'}, {'name': 'The Quarter'}, {'name': 'North Side'}, {'name': 'Island Harbour'}, {'name': 'George Hill'}, {'name': 'Stoney Ground'}, {'name': 'The Farrington'}]}, {'name': 'Albania', 'countryCode': 'AL', 'countryCodeAlpha3': 'ALB', 'phone': '355', 'currency': 'ALL', 'stateProvinces': [{'name': 'Berat'}, {'name': 'Dibër'}, {'name': 'Elbasan'}, {'name': 'Gjirokastër'}, {'name': 'Korçë'}, {'name': 'Kukës'}, {'name': 'Durrës'}, {'name': 'Fier'}, {'name': 'Lezhë'}, {'name': 'Shkodër'}, {'name': 'Tirana'}, {'name': 'Vlorë'}]}, {'name': 'Armenia', 'countryCode': 'AM', 'countryCodeAlpha3': 'ARM', 'phone': '374', 'currency': 'AMD', 'stateProvinces': [{'name': 'Ararat'}, {'name': 'Syunik'}, {'name': 'Vayots Dzor'}, {'name': 'Yerevan'}, {'name': 'Aragatsotn'}, {'name': 'Armavir'}, {'name': 'Gegharkunik'}, {'name': 'Kotayk'}, {'name': 'Lori'}, {'name': 'Shirak'}, {'name': 'Tavush'}]}, {'name': 'Angola', 'countryCode': 'AO', 'countryCodeAlpha3': 'AGO', 'phone': '244', 'currency': 'AOA', 'stateProvinces': [{'name': 'Lunda Sul'}, {'name': 'Luanda Norte'}, {'name': 'Moxico'}, {'name': 'Cuando Cobango'}, {'name': 'Zaire'}, {'name': 'Uíge'}, {'name': 'Malanje'}, {'name': 'Luanda'}, {'name': 'Cuanza Norte'}, {'name': 'Cabinda'}, {'name': 'Bengo'}, {'name': 'Namibe'}, {'name': 'Huíla'}, {'name': 'Huambo'}, {'name': 'Cunene'}, {'name': 'Kwanza Sul'}, {'name': 'Bíe'}, {'name': 'Benguela'}]}, {'name': 'Antarctica', 'countryCode': 'AQ', 'countryCodeAlpha3': 'ATA', 'phone': '', 'currency': '', 'stateProvinces': None}, {'name': 'Argentina', 'countryCode': 'AR', 'countryCodeAlpha3': 'ARG', 'phone': '54', 'currency': 'ARS', 'stateProvinces': [{'name': 'Misiones'}, {'name': 'Formosa'}, {'name': 'Buenos Aires F.D.'}, {'name': 'Entre Rios'}, {'name': 'Corrientes'}, {'name': 'Buenos Aires'}, {'name': 'Tucuman'}, {'name': 'Tierra del Fuego'}, {'name': 'Santiago del Estero'}, {'name': 'Santa Fe'}, {'name': 'Santa Cruz'}, {'name': 'San Luis'}, {'name': 'San Juan'}, {'name': 'Salta'}, {'name': 'Rio Negro'}, {'name': 'Neuquen'}, {'name': 'Mendoza'}, {'name': 'La Rioja'}, {'name': 'La Pampa'}, {'name': 'Jujuy'}, {'name': 'Cordoba'}, {'name': 'Chubut'}, {'name': 'Chaco'}, {'name': 'Catamarca'}]}, {'name': 'American Samoa', 'countryCode': 'AS', 'countryCodeAlpha3': 'ASM', 'phone': '+1-684', 'currency': 'USD', 'stateProvinces': [{'name': 'Western District'}, {'name': 'Swains Island'}, {'name': 'Eastern District'}, {'name': \"Manu'a\"}, {'name': 'Rose Island'}]}, {'name': 'Austria', 'countryCode': 'AT', 'countryCodeAlpha3': 'AUT', 'phone': '43', 'currency': 'EUR', 'stateProvinces': [{'name': 'Vienna'}, {'name': 'Vorarlberg'}, {'name': 'Tyrol'}, {'name': 'Styria'}, {'name': 'Salzburg'}, {'name': 'Upper Austria'}, {'name': 'Lower Austria'}, {'name': 'Carinthia'}, {'name': 'Burgenland'}]}, {'name': 'Australia', 'countryCode': 'AU', 'countryCodeAlpha3': 'AUS', 'phone': '61', 'currency': 'AUD', 'stateProvinces': [{'name': 'Western Australia'}, {'name': 'South Australia'}, {'name': 'Northern Territory'}, {'name': 'Victoria'}, {'name': 'Tasmania'}, {'name': 'Queensland'}, {'name': 'New South Wales'}, {'name': 'Australian Capital Territory'}]}, {'name': 'Aruba', 'countryCode': 'AW', 'countryCodeAlpha3': 'ABW', 'phone': '297', 'currency': 'AWG', 'stateProvinces': None}, {'name': 'Aland Islands', 'countryCode': 'AX', 'countryCodeAlpha3': 'ALA', 'phone': '+358-18', 'currency': 'EUR', 'stateProvinces': [{'name': 'Mariehamns stad'}, {'name': 'Ålands landsbygd'}, {'name': 'Ålands skärgård'}]}, {'name': 'Azerbaijan', 'countryCode': 'AZ', 'countryCodeAlpha3': 'AZE', 'phone': '994', 'currency': 'AZN', 'stateProvinces': [{'name': 'Beyləqan'}, {'name': 'Zǝngilan'}, {'name': 'Yardımlı'}, {'name': 'Shusha'}, {'name': 'Salyan'}, {'name': 'Sabirabad'}, {'name': 'Saatlı'}, {'name': 'Bilǝsuvar'}, {'name': 'Neftçala'}, {'name': 'Nakhichevan'}, {'name': 'Masally'}, {'name': 'Lerik'}, {'name': 'Lənkəran'}, {'name': 'Laçın'}, {'name': 'Qubadlı'}, {'name': 'İmişli'}, {'name': 'Füzuli'}, {'name': 'Jabrayil'}, {'name': 'Jalilabad'}, {'name': 'Astara'}, {'name': 'Xocalı'}, {'name': 'Ağcabǝdi'}, {'name': 'Ağdam'}, {'name': 'Shirvan'}, {'name': 'Lankaran Sahari'}, {'name': 'Shusha City'}, {'name': 'Tǝrtǝr'}, {'name': 'Xankǝndi'}, {'name': 'Khojavend'}, {'name': 'Zərdab'}, {'name': 'Zaqatala'}, {'name': 'Yevlax'}, {'name': 'Oğuz'}, {'name': 'Ucar'}, {'name': 'Tovuz'}, {'name': 'Şamaxı'}, {'name': 'Shaki'}, {'name': 'Şǝmkir'}, {'name': 'Kürdǝmir'}, {'name': 'Qǝbǝlǝ'}, {'name': 'Qusar'}, {'name': 'Quba'}, {'name': 'Goygol Rayon'}, {'name': 'Xaçmaz'}, {'name': 'Kalbajar'}, {'name': 'Qazax'}, {'name': 'Goranboy'}, {'name': 'Qax'}, {'name': 'İsmayıllı'}, {'name': 'Göyçay'}, {'name': 'Shabran'}, {'name': 'Daşkǝsǝn'}, {'name': 'Balakǝn'}, {'name': 'Barda'}, {'name': 'Baki'}, {'name': 'Abşeron'}, {'name': 'Ağsu'}, {'name': 'Ağdaş'}, {'name': 'Gǝdǝbǝy'}, {'name': 'Ağstafa'}, {'name': 'Gǝncǝ'}, {'name': 'Mingǝcevir'}, {'name': 'Naftalan'}, {'name': 'Qobustan'}, {'name': 'Samux'}, {'name': 'Shaki City'}, {'name': 'Siyǝzǝn'}, {'name': 'Sumqayit'}, {'name': 'Xızı'}, {'name': 'Yevlax City'}, {'name': 'Hacıqabul'}]}, {'name': 'Bosnia and Herzegovina', 'countryCode': 'BA', 'countryCodeAlpha3': 'BIH', 'phone': '387', 'currency': 'BAM', 'stateProvinces': [{'name': 'Federation of B&H'}, {'name': 'Srpska'}, {'name': 'Brčko'}]}, {'name': 'Barbados', 'countryCode': 'BB', 'countryCodeAlpha3': 'BRB', 'phone': '+1-246', 'currency': 'BBD', 'stateProvinces': [{'name': 'Saint Thomas'}, {'name': 'Saint Philip'}, {'name': 'Saint Peter'}, {'name': 'Saint Michael'}, {'name': 'Saint Lucy'}, {'name': 'Saint Joseph'}, {'name': 'Saint John'}, {'name': 'Saint James'}, {'name': 'Saint George'}, {'name': 'Saint Andrew'}, {'name': 'Christ Church'}]}, {'name': 'Bangladesh', 'countryCode': 'BD', 'countryCodeAlpha3': 'BGD', 'phone': '880', 'currency': 'BDT', 'stateProvinces': [{'name': 'Rajshahi Division'}, {'name': 'Dhaka'}, {'name': 'Chittagong'}, {'name': 'Khulna'}, {'name': 'Barisāl'}, {'name': 'Sylhet'}, {'name': 'Rangpur Division'}, {'name': 'Mymensingh Division'}]}, {'name': 'Belgium', 'countryCode': 'BE', 'countryCodeAlpha3': 'BEL', 'phone': '32', 'currency': 'EUR', 'stateProvinces': [{'name': 'Brussels Capital'}, {'name': 'Wallonia'}, {'name': 'Flanders'}]}, {'name': 'Burkina Faso', 'countryCode': 'BF', 'countryCodeAlpha3': 'BFA', 'phone': '226', 'currency': 'XOF', 'stateProvinces': [{'name': 'Boucle du Mouhoun'}, {'name': 'Cascades'}, {'name': 'Centre'}, {'name': 'Centre-Est'}, {'name': 'Centre-Nord'}, {'name': 'Centre-Ouest'}, {'name': 'Centre-Sud'}, {'name': 'Est'}, {'name': 'Hauts-Bassins'}, {'name': 'Nord'}, {'name': 'Plateau-Central'}, {'name': 'Sahel'}, {'name': 'Sud-Ouest'}]}, {'name': 'Bulgaria', 'countryCode': 'BG', 'countryCodeAlpha3': 'BGR', 'phone': '359', 'currency': 'BGN', 'stateProvinces': [{'name': 'Razgrad'}, {'name': 'Montana'}, {'name': 'Vratsa'}, {'name': 'Varna'}, {'name': 'Dobrich'}, {'name': 'Sofia'}, {'name': 'Ruse'}, {'name': 'Plovdiv'}, {'name': 'Pleven'}, {'name': 'Pernik'}, {'name': 'Pazardzhik'}, {'name': 'Lovech'}, {'name': 'Haskovo'}, {'name': 'Sofia-Capital'}, {'name': 'Burgas'}, {'name': 'Blagoevgrad'}, {'name': 'Gabrovo'}, {'name': 'Kardzhali'}, {'name': 'Kyustendil'}, {'name': 'Shumen'}, {'name': 'Silistra'}, {'name': 'Sliven'}, {'name': 'Smolyan'}, {'name': 'Stara Zagora'}, {'name': 'Targovishte'}, {'name': 'Veliko Tarnovo'}, {'name': 'Vidin'}, {'name': 'Yambol'}]}, {'name': 'Bahrain', 'countryCode': 'BH', 'countryCodeAlpha3': 'BHR', 'phone': '973', 'currency': 'BHD', 'stateProvinces': [{'name': 'Muharraq'}, {'name': 'Manama'}, {'name': 'Southern Governorate'}, {'name': 'Northern'}]}, {'name': 'Burundi', 'countryCode': 'BI', 'countryCodeAlpha3': 'BDI', 'phone': '257', 'currency': 'BIF', 'stateProvinces': [{'name': 'Makamba'}, {'name': 'Bururi'}, {'name': 'Muramvya'}, {'name': 'Gitega'}, {'name': 'Ruyigi'}, {'name': 'Cankuzo'}, {'name': 'Karuzi'}, {'name': 'Bubanza'}, {'name': 'Cibitoke'}, {'name': 'Ngozi'}, {'name': 'Kayanza'}, {'name': 'Muyinga'}, {'name': 'Kirundo'}, {'name': 'Rutana'}, {'name': 'Mwaro'}, {'name': 'Bujumbura Mairie'}, {'name': 'Bujumbura Rural'}, {'name': 'Rumonge'}]}, {'name': 'Benin', 'countryCode': 'BJ', 'countryCodeAlpha3': 'BEN', 'phone': '229', 'currency': 'XOF', 'stateProvinces': [{'name': 'Zou'}, {'name': 'Ouémé'}, {'name': 'Mono'}, {'name': 'Borgou'}, {'name': 'Atlantique'}, {'name': 'Atakora'}, {'name': 'Alibori'}, {'name': 'Collines'}, {'name': 'Kouffo'}, {'name': 'Donga'}, {'name': 'Littoral'}, {'name': 'Plateau'}]}, {'name': 'Saint Barthelemy', 'countryCode': 'BL', 'countryCodeAlpha3': 'BLM', 'phone': '590', 'currency': 'EUR', 'stateProvinces': None}, {'name': 'Bermuda', 'countryCode': 'BM', 'countryCodeAlpha3': 'BMU', 'phone': '+1-441', 'currency': 'BMD', 'stateProvinces': [{'name': 'Warwick'}, {'name': 'Southampton'}, {'name': 'Smithʼs'}, {'name': 'Sandys'}, {'name': 'Saint Georgeʼs'}, {'name': 'Saint George'}, {'name': 'Pembroke'}, {'name': 'Paget'}, {'name': 'Hamilton'}, {'name': 'Hamilton city'}, {'name': 'Devonshire'}]}, {'name': 'Brunei', 'countryCode': 'BN', 'countryCodeAlpha3': 'BRN', 'phone': '673', 'currency': 'BND', 'stateProvinces': [{'name': 'Tutong'}, {'name': 'Temburong'}, {'name': 'Brunei-Muara District'}, {'name': 'Belait'}]}, {'name': 'Bolivia', 'countryCode': 'BO', 'countryCodeAlpha3': 'BOL', 'phone': '591', 'currency': 'BOB', 'stateProvinces': [{'name': 'Tarija'}, {'name': 'Santa Cruz'}, {'name': 'Potosí'}, {'name': 'Pando'}, {'name': 'Oruro'}, {'name': 'La Paz'}, {'name': 'Cochabamba'}, {'name': 'Chuquisaca'}, {'name': 'El Beni'}]}, {'name': 'Bonaire, Saint Eustatius and Saba', 'countryCode': 'BQ', 'countryCodeAlpha3': 'BES', 'phone': '599', 'currency': 'USD', 'stateProvinces': [{'name': 'Bonaire'}, {'name': 'Saba'}, {'name': 'Sint Eustatius'}]}, {'name': 'Brazil', 'countryCode': 'BR', 'countryCodeAlpha3': 'BRA', 'phone': '55', 'currency': 'BRL', 'stateProvinces': [{'name': 'Rio Grande do Norte'}, {'name': 'Piauí'}, {'name': 'Pernambuco'}, {'name': 'Paraíba'}, {'name': 'Pará'}, {'name': 'Maranhão'}, {'name': 'Ceará'}, {'name': 'Amapá'}, {'name': 'Alagoas'}, {'name': 'Sergipe'}, {'name': 'São Paulo'}, {'name': 'Santa Catarina'}, {'name': 'Rio Grande do Sul'}, {'name': 'Rio de Janeiro'}, {'name': 'Paraná'}, {'name': 'Minas Gerais'}, {'name': 'Mato Grosso do Sul'}, {'name': 'Mato Grosso'}, {'name': 'Goiás'}, {'name': 'Federal District'}, {'name': 'Espírito Santo'}, {'name': 'Bahia'}, {'name': 'Tocantins'}, {'name': 'Roraima'}, {'name': 'Amazonas'}, {'name': 'Acre'}, {'name': 'Rondônia'}]}, {'name': 'Bahamas', 'countryCode': 'BS', 'countryCodeAlpha3': 'BHS', 'phone': '+1-242', 'currency': 'BSD', 'stateProvinces': [{'name': 'San Salvador'}, {'name': 'Ragged Island'}, {'name': 'Berry Islands'}, {'name': 'New Providence'}, {'name': 'Mayaguana'}, {'name': 'Long Island'}, {'name': 'Inagua'}, {'name': 'Harbour Island'}, {'name': 'Freeport'}, {'name': 'Exuma'}, {'name': 'Cat Island'}, {'name': 'Bimini'}, {'name': 'Acklins'}, {'name': 'Black Point'}, {'name': 'Central Abaco'}, {'name': 'Central Andros'}, {'name': 'Central Eleuthera'}, {'name': 'Crooked Island and Long Cay'}, {'name': 'East Grand Bahama'}, {'name': 'Grand Cay'}, {'name': 'Hope Town'}, {'name': 'Mangrove Cay'}, {'name': 'Moore’s Island'}, {'name': 'North Abaco'}, {'name': 'North Andros'}, {'name': 'North Eleuthera'}, {'name': 'Rum Cay'}, {'name': 'South Abaco'}, {'name': 'South Andros'}, {'name': 'South Eleuthera'}, {'name': 'Spanish Wells'}, {'name': 'West Grand Bahama'}]}, {'name': 'Bhutan', 'countryCode': 'BT', 'countryCodeAlpha3': 'BTN', 'phone': '975', 'currency': 'BTN', 'stateProvinces': [{'name': 'Bumthang'}, {'name': 'Chukha'}, {'name': 'Dagana'}, {'name': 'Chirang'}, {'name': 'Geylegphug'}, {'name': 'Haa'}, {'name': 'Lhuntse'}, {'name': 'Mongar'}, {'name': 'Paro'}, {'name': 'Pemagatshel'}, {'name': 'Punakha'}, {'name': 'Samchi'}, {'name': 'Samdrup Jongkhar'}, {'name': 'Shemgang'}, {'name': 'Tashigang'}, {'name': 'Thimphu'}, {'name': 'Tongsa'}, {'name': 'Wangdi Phodrang'}, {'name': 'Gasa'}, {'name': 'Trashi Yangste'}]}, {'name': 'Bouvet Island', 'countryCode': 'BV', 'countryCodeAlpha3': 'BVT', 'phone': '', 'currency': 'NOK', 'stateProvinces': None}, {'name': 'Botswana', 'countryCode': 'BW', 'countryCodeAlpha3': 'BWA', 'phone': '267', 'currency': 'BWP', 'stateProvinces': [{'name': 'Ngwaketsi'}, {'name': 'South-East'}, {'name': 'North-East'}, {'name': 'North-West'}, {'name': 'Kweneng'}, {'name': 'Kgatleng'}, {'name': 'Kgalagadi'}, {'name': 'Ghanzi'}, {'name': 'Chobe'}, {'name': 'Central'}, {'name': 'City of Francistown'}, {'name': 'Gaborone'}, {'name': 'Jwaneng'}, {'name': 'Lobatse'}, {'name': 'Selibe Phikwe'}, {'name': 'Sowa Town'}]}, {'name': 'Belarus', 'countryCode': 'BY', 'countryCodeAlpha3': 'BLR', 'phone': '375', 'currency': 'BYN', 'stateProvinces': [{'name': 'Vitebsk'}, {'name': 'Mogilev'}, {'name': 'Minsk'}, {'name': 'Minsk City'}, {'name': 'Grodnenskaya'}, {'name': 'Gomel Oblast'}, {'name': 'Brest'}]}, {'name': 'Belize', 'countryCode': 'BZ', 'countryCodeAlpha3': 'BLZ', 'phone': '501', 'currency': 'BZD', 'stateProvinces': [{'name': 'Toledo'}, {'name': 'Southern District'}, {'name': 'Orange Walk'}, {'name': 'Corozal'}, {'name': 'Cayo'}, {'name': 'Belize'}]}, {'name': 'Canada', 'countryCode': 'CA', 'countryCodeAlpha3': 'CAN', 'phone': '1', 'currency': 'CAD', 'stateProvinces': [{'name': 'Alberta'}, {'name': 'British Columbia'}, {'name': 'Manitoba'}, {'name': 'New Brunswick'}, {'name': 'Northwest Territories'}, {'name': 'Nova Scotia'}, {'name': 'Nunavut'}, {'name': 'Ontario'}, {'name': 'Prince Edward Island'}, {'name': 'Quebec'}, {'name': 'Saskatchewan'}, {'name': 'Yukon'}, {'name': 'Newfoundland and Labrador'}]}, {'name': 'Cocos Islands', 'countryCode': 'CC', 'countryCodeAlpha3': 'CCK', 'phone': '61', 'currency': 'AUD', 'stateProvinces': None}, {'name': 'Democratic Republic of the Congo', 'countryCode': 'CD', 'countryCodeAlpha3': 'COD', 'phone': '243', 'currency': 'CDF', 'stateProvinces': [{'name': 'Tshuapa'}, {'name': 'Tshopo'}, {'name': 'Tanganyika'}, {'name': 'South Kivu'}, {'name': 'Sankuru'}, {'name': 'Nord Kivu'}, {'name': 'Mongala'}, {'name': 'Maniema'}, {'name': 'Kasai-Central'}, {'name': 'Kasaï-Oriental'}, {'name': 'Kasai'}, {'name': 'Ituri'}, {'name': 'Haut-Uele'}, {'name': 'Haut-Lomami'}, {'name': 'Équateur'}, {'name': 'Bas-Uele'}, {'name': 'Lualaba'}, {'name': 'Mai-Ndombe'}, {'name': 'Kwilu'}, {'name': 'Kwango'}, {'name': 'Kinshasa'}, {'name': 'Bas-Congo'}, {'name': 'Haut-Katanga'}, {'name': 'Lomami'}, {'name': 'Nord-Ubangi'}, {'name': 'Sud-Ubangi'}]}, {'name': 'Central African Republic', 'countryCode': 'CF', 'countryCodeAlpha3': 'CAF', 'phone': '236', 'currency': 'XAF', 'stateProvinces': [{'name': 'Vakaga'}, {'name': 'Ouaka'}, {'name': 'Mbomou'}, {'name': 'Haut-Mbomou'}, {'name': 'Haute-Kotto'}, {'name': 'Basse-Kotto'}, {'name': 'Bamingui-Bangoran'}, {'name': 'Sangha-Mbaéré'}, {'name': 'Ouham-Pendé'}, {'name': 'Ouham'}, {'name': \"Ombella-M'Poko\"}, {'name': 'Nana-Mambéré'}, {'name': 'Lobaye'}, {'name': 'Kémo'}, {'name': 'Mambéré-Kadéï'}, {'name': 'Nana-Grébizi'}, {'name': 'Bangui'}]}, {'name': 'Republic of the Congo', 'countryCode': 'CG', 'countryCodeAlpha3': 'COG', 'phone': '242', 'currency': 'XAF', 'stateProvinces': [{'name': 'Sangha'}, {'name': 'Pool'}, {'name': 'Plateaux'}, {'name': 'Niari'}, {'name': 'Likouala'}, {'name': 'Lékoumou'}, {'name': 'Kouilou'}, {'name': 'Cuvette'}, {'name': 'Bouenza'}, {'name': 'Brazzaville'}, {'name': 'Cuvette-Ouest'}, {'name': 'Pointe-Noire'}]}, {'name': 'Switzerland', 'countryCode': 'CH', 'countryCodeAlpha3': 'CHE', 'phone': '41', 'currency': 'CHF', 'stateProvinces': [{'name': 'Zurich'}, {'name': 'Zug'}, {'name': 'Vaud'}, {'name': 'Valais'}, {'name': 'Uri'}, {'name': 'Ticino'}, {'name': 'Thurgau'}, {'name': 'Solothurn'}, {'name': 'Schwyz'}, {'name': 'Schaffhausen'}, {'name': 'Saint Gallen'}, {'name': 'Obwalden'}, {'name': 'Nidwalden'}, {'name': 'Neuchâtel'}, {'name': 'Lucerne'}, {'name': 'Jura'}, {'name': 'Grisons'}, {'name': 'Glarus'}, {'name': 'Geneva'}, {'name': 'Fribourg'}, {'name': 'Bern'}, {'name': 'Basel-City'}, {'name': 'Basel-Landschaft'}, {'name': 'Appenzell Ausserrhoden'}, {'name': 'Appenzell Innerrhoden'}, {'name': 'Aargau'}]}, {'name': 'Ivory Coast', 'countryCode': 'CI', 'countryCodeAlpha3': 'CIV', 'phone': '225', 'currency': 'XOF', 'stateProvinces': [{'name': 'Yamoussoukro'}, {'name': 'Bas-Sassandra'}, {'name': 'Comoé'}, {'name': 'Denguélé'}, {'name': 'Gôh-Djiboua'}, {'name': 'Lacs'}, {'name': 'Lagunes'}, {'name': 'Montagnes'}, {'name': 'Sassandra-Marahoué'}, {'name': 'Savanes'}, {'name': 'Vallée du Bandama'}, {'name': 'Woroba'}, {'name': 'Zanzan'}, {'name': 'Abidjan'}]}, {'name': 'Cook Islands', 'countryCode': 'CK', 'countryCodeAlpha3': 'COK', 'phone': '682', 'currency': 'NZD', 'stateProvinces': [{'name': 'Aitutaki'}, {'name': 'Atiu'}, {'name': 'Mangaia'}, {'name': 'Manihiki'}, {'name': \"Ma'uke\"}, {'name': 'Mitiaro'}, {'name': 'Palmerston'}, {'name': 'Penrhyn'}, {'name': 'Pukapuka'}, {'name': 'Rakahanga'}, {'name': 'Rarotonga'}]}, {'name': 'Chile', 'countryCode': 'CL', 'countryCodeAlpha3': 'CHL', 'phone': '56', 'currency': 'CLP', 'stateProvinces': [{'name': 'Valparaíso'}, {'name': 'Tarapacá'}, {'name': 'Santiago Metropolitan'}, {'name': 'Maule Region'}, {'name': 'Los Lagos Region'}, {'name': \"O'Higgins Region\"}, {'name': 'Coquimbo Region'}, {'name': 'Biobío'}, {'name': 'Atacama'}, {'name': 'Araucanía'}, {'name': 'Antofagasta'}, {'name': 'Aysén'}, {'name': 'Region of Magallanes'}, {'name': 'Arica y Parinacota'}, {'name': 'Los Ríos Region'}, {'name': 'Ñuble'}]}, {'name': 'Cameroon', 'countryCode': 'CM', 'countryCodeAlpha3': 'CMR', 'phone': '237', 'currency': 'XAF', 'stateProvinces': [{'name': 'South-West'}, {'name': 'South'}, {'name': 'West'}, {'name': 'North-West'}, {'name': 'North'}, {'name': 'Littoral'}, {'name': 'Far North'}, {'name': 'East'}, {'name': 'Centre'}, {'name': 'Adamaoua'}]}, {'name': 'China', 'countryCode': 'CN', 'countryCodeAlpha3': 'CHN', 'phone': '86', 'currency': 'CNY', 'stateProvinces': [{'name': 'Tibet'}, {'name': 'Qinghai'}, {'name': 'Xinjiang'}, {'name': 'Zhejiang'}, {'name': 'Yunnan'}, {'name': 'Tianjin'}, {'name': 'Sichuan'}, {'name': 'Shanxi'}, {'name': 'Shanghai'}, {'name': 'Shandong'}, {'name': 'Shaanxi'}, {'name': 'Ningxia Hui Autonomous Region'}, {'name': 'Jiangxi'}, {'name': 'Jiangsu'}, {'name': 'Hunan'}, {'name': 'Hubei'}, {'name': 'Henan'}, {'name': 'Hebei'}, {'name': 'Hainan'}, {'name': 'Guizhou'}, {'name': 'Guangxi'}, {'name': 'Guangdong'}, {'name': 'Gansu'}, {'name': 'Fujian'}, {'name': 'Chongqing'}, {'name': 'Anhui'}, {'name': 'Inner Mongolia'}, {'name': 'Liaoning'}, {'name': 'Jilin'}, {'name': 'Heilongjiang'}, {'name': 'Beijing'}]}, {'name': 'Colombia', 'countryCode': 'CO', 'countryCodeAlpha3': 'COL', 'phone': '57', 'currency': 'COP', 'stateProvinces': [{'name': 'Vichada'}, {'name': 'Vaupés'}, {'name': 'Valle del Cauca'}, {'name': 'Tolima'}, {'name': 'Sucre'}, {'name': 'Santander'}, {'name': 'San Andres y Providencia'}, {'name': 'Risaralda'}, {'name': 'Quindío'}, {'name': 'Putumayo'}, {'name': 'Norte de Santander Department'}, {'name': 'Nariño'}, {'name': 'Meta'}, {'name': 'Magdalena'}, {'name': 'La Guajira Department'}, {'name': 'Huila'}, {'name': 'Guaviare'}, {'name': 'Guainía Department'}, {'name': 'Cundinamarca'}, {'name': 'Córdoba'}, {'name': 'Chocó'}, {'name': 'Cesar'}, {'name': 'Cauca'}, {'name': 'Casanare Department'}, {'name': 'Caquetá'}, {'name': 'Caldas Department'}, {'name': 'Boyacá'}, {'name': 'Bolívar'}, {'name': 'Bogota D.C.'}, {'name': 'Atlántico'}, {'name': 'Departamento de Arauca'}, {'name': 'Antioquia'}, {'name': 'Amazonas'}]}, {'name': 'Costa Rica', 'countryCode': 'CR', 'countryCodeAlpha3': 'CRI', 'phone': '506', 'currency': 'CRC', 'stateProvinces': [{'name': 'San José'}, {'name': 'Puntarenas Province'}, {'name': 'Limón Province'}, {'name': 'Heredia Province'}, {'name': 'Guanacaste Province'}, {'name': 'Cartago Province'}, {'name': 'Alajuela Province'}]}, {'name': 'Cuba', 'countryCode': 'CU', 'countryCodeAlpha3': 'CUB', 'phone': '53', 'currency': 'CUP', 'stateProvinces': [{'name': 'Villa Clara Province'}, {'name': 'Santiago de Cuba'}, {'name': 'Sancti Spíritus Province'}, {'name': 'Pinar del Río'}, {'name': 'Matanzas Province'}, {'name': 'Las Tunas'}, {'name': 'Isla de la Juventud'}, {'name': 'Holguín Province'}, {'name': 'Guantánamo Province'}, {'name': 'Granma Province'}, {'name': 'Havana'}, {'name': 'Cienfuegos Province'}, {'name': 'Ciego de Ávila Province'}, {'name': 'Camagüey'}, {'name': 'Artemisa'}, {'name': 'Mayabeque'}]}, {'name': 'Cabo Verde', 'countryCode': 'CV', 'countryCodeAlpha3': 'CPV', 'phone': '238', 'currency': 'CVE', 'stateProvinces': [{'name': 'Tarrafal'}, {'name': 'São Vicente'}, {'name': 'Santa Catarina'}, {'name': 'Sal'}, {'name': 'Ribeira Grande'}, {'name': 'Praia'}, {'name': 'Paul'}, {'name': 'Maio'}, {'name': 'Brava'}, {'name': 'Boa Vista'}, {'name': 'Mosteiros'}, {'name': 'Santa Cruz'}, {'name': 'São Domingos'}, {'name': 'São Filipe'}, {'name': 'São Miguel'}, {'name': 'Porto Novo'}, {'name': 'Ribeira Brava'}, {'name': 'Santa Catarina do Fogo'}, {'name': 'São Salvador do Mundo'}, {'name': 'Tarrafal de São Nicolau'}, {'name': 'São Lourenço dos Órgãos'}, {'name': 'Ribeira Grande de Santiago'}]}, {'name': 'Curacao', 'countryCode': 'CW', 'countryCodeAlpha3': 'CUW', 'phone': '599', 'currency': 'ANG', 'stateProvinces': None}, {'name': 'Christmas Island', 'countryCode': 'CX', 'countryCodeAlpha3': 'CXR', 'phone': '61', 'currency': 'AUD', 'stateProvinces': None}, {'name': 'Cyprus', 'countryCode': 'CY', 'countryCodeAlpha3': 'CYP', 'phone': '357', 'currency': 'EUR', 'stateProvinces': [{'name': 'Pafos'}, {'name': 'Nicosia'}, {'name': 'Limassol'}, {'name': 'Larnaka'}, {'name': 'Keryneia'}, {'name': 'Ammochostos'}]}, {'name': 'Czechia', 'countryCode': 'CZ', 'countryCodeAlpha3': 'CZE', 'phone': '420', 'currency': 'CZK', 'stateProvinces': [{'name': 'Hlavní město Praha'}, {'name': 'South Moravian'}, {'name': 'Jihočeský kraj'}, {'name': 'Vysočina'}, {'name': 'Karlovarský kraj'}, {'name': 'Královéhradecký kraj'}, {'name': 'Liberecký kraj'}, {'name': 'Olomoucký'}, {'name': 'Moravskoslezský'}, {'name': 'Pardubický'}, {'name': 'Plzeň Region'}, {'name': 'Central Bohemia'}, {'name': 'Ústecký kraj'}, {'name': 'Zlín'}]}, {'name': 'Germany', 'countryCode': 'DE', 'countryCodeAlpha3': 'DEU', 'phone': '49', 'currency': 'EUR', 'stateProvinces': [{'name': 'Thuringia'}, {'name': 'Schleswig-Holstein'}, {'name': 'Saxony-Anhalt'}, {'name': 'Saxony'}, {'name': 'Saarland'}, {'name': 'Rheinland-Pfalz'}, {'name': 'North Rhine-Westphalia'}, {'name': 'Lower Saxony'}, {'name': 'Mecklenburg-Vorpommern'}, {'name': 'Hesse'}, {'name': 'Hamburg'}, {'name': 'Bremen'}, {'name': 'Brandenburg'}, {'name': 'Berlin'}, {'name': 'Bavaria'}, {'name': 'Baden-Wurttemberg'}]}, {'name': 'Djibouti', 'countryCode': 'DJ', 'countryCodeAlpha3': 'DJI', 'phone': '253', 'currency': 'DJF', 'stateProvinces': [{'name': 'Tadjourah'}, {'name': 'Obock'}, {'name': 'Djibouti'}, {'name': 'Dikhil'}, {'name': 'Ali Sabieh'}, {'name': 'Arta'}]}, {'name': 'Denmark', 'countryCode': 'DK', 'countryCodeAlpha3': 'DNK', 'phone': '45', 'currency': 'DKK', 'stateProvinces': [{'name': 'Capital Region'}, {'name': 'Central Jutland'}, {'name': 'North Denmark'}, {'name': 'Zealand'}, {'name': 'South Denmark'}]}, {'name': 'Dominica', 'countryCode': 'DM', 'countryCodeAlpha3': 'DMA', 'phone': '+1-767', 'currency': 'XCD', 'stateProvinces': [{'name': 'Saint Peter'}, {'name': 'Saint Paul'}, {'name': 'Saint Patrick'}, {'name': 'Saint Mark'}, {'name': 'Saint Luke'}, {'name': 'Saint Joseph'}, {'name': 'Saint John'}, {'name': 'Saint George'}, {'name': 'Saint David'}, {'name': 'Saint Andrew'}]}, {'name': 'Dominican Republic', 'countryCode': 'DO', 'countryCodeAlpha3': 'DOM', 'phone': '+1-809 and 1-829', 'currency': 'DOP', 'stateProvinces': [{'name': 'Valverde'}, {'name': 'Santiago Rodríguez'}, {'name': 'Santiago'}, {'name': 'San Pedro de Macorís'}, {'name': 'San Juan'}, {'name': 'San Cristóbal'}, {'name': 'Sánchez Ramírez'}, {'name': 'Samaná'}, {'name': 'Hermanas Mirabal'}, {'name': 'Puerto Plata'}, {'name': 'Peravia'}, {'name': 'Pedernales'}, {'name': 'Nacional'}, {'name': 'Monte Plata'}, {'name': 'Monte Cristi'}, {'name': 'Monseñor Nouel'}, {'name': 'María Trinidad Sánchez'}, {'name': 'La Vega'}, {'name': 'La Romana'}, {'name': 'La Altagracia'}, {'name': 'Independencia'}, {'name': 'Hato Mayor'}, {'name': 'Espaillat'}, {'name': 'El Seíbo'}, {'name': 'Elías Piña'}, {'name': 'Duarte'}, {'name': 'Dajabón'}, {'name': 'Barahona'}, {'name': 'Baoruco'}, {'name': 'Azua'}, {'name': 'San José de Ocoa'}, {'name': 'Santo Domingo'}]}, {'name': 'Algeria', 'countryCode': 'DZ', 'countryCodeAlpha3': 'DZA', 'phone': '213', 'currency': 'DZD', 'stateProvinces': [{'name': 'Tlemcen'}, {'name': 'Tizi Ouzou'}, {'name': 'Tissemsilt'}, {'name': 'Tipaza'}, {'name': 'Tindouf'}, {'name': 'Tiaret'}, {'name': 'Tébessa'}, {'name': 'Tamanrasset'}, {'name': 'Souk Ahras'}, {'name': 'Skikda'}, {'name': 'Sidi Bel Abbès'}, {'name': 'Sétif'}, {'name': 'Saida'}, {'name': 'Relizane'}, {'name': 'Oum el Bouaghi'}, {'name': 'Ouargla'}, {'name': 'Oran'}, {'name': 'Naama'}, {'name': \"M'Sila\"}, {'name': 'Mostaganem'}, {'name': 'Mila'}, {'name': 'Medea'}, {'name': 'Mascara'}, {'name': 'Laghouat'}, {'name': 'Khenchela'}, {'name': 'Jijel'}, {'name': 'Illizi'}, {'name': 'Guelma'}, {'name': 'Ghardaia'}, {'name': 'El Tarf'}, {'name': 'El Oued'}, {'name': 'El Bayadh'}, {'name': 'Djelfa'}, {'name': 'Constantine'}, {'name': 'Chlef'}, {'name': 'Boumerdes'}, {'name': 'Bouira'}, {'name': 'Bordj Bou Arréridj'}, {'name': 'Blida'}, {'name': 'Biskra'}, {'name': 'Béjaïa'}, {'name': 'Béchar'}, {'name': 'Batna'}, {'name': 'Annaba'}, {'name': 'Algiers'}, {'name': 'Aïn Témouchent'}, {'name': 'Aïn Defla'}, {'name': 'Adrar'}, {'name': 'Bordj Badji Mokhtar'}, {'name': 'Timimoun'}, {'name': 'Beni Abbes'}, {'name': 'In Guezzam'}, {'name': 'In Salah'}, {'name': 'Djanet'}, {'name': 'El Menia'}, {'name': 'Touggourt'}, {'name': 'El Mghair'}, {'name': 'Ouled Djellal'}]}, {'name': 'Ecuador', 'countryCode': 'EC', 'countryCodeAlpha3': 'ECU', 'phone': '593', 'currency': 'USD', 'stateProvinces': [{'name': 'Zamora-Chinchipe'}, {'name': 'Tungurahua'}, {'name': 'Pichincha'}, {'name': 'Pastaza'}, {'name': 'Napo'}, {'name': 'Morona-Santiago'}, {'name': 'Manabí'}, {'name': 'Los Ríos'}, {'name': 'Loja'}, {'name': 'Imbabura'}, {'name': 'Guayas'}, {'name': 'Galápagos'}, {'name': 'Esmeraldas'}, {'name': 'El Oro'}, {'name': 'Cotopaxi'}, {'name': 'Chimborazo'}, {'name': 'Carchi'}, {'name': 'Cañar'}, {'name': 'Bolívar'}, {'name': 'Azuay'}, {'name': 'Sucumbios'}, {'name': 'Orellana'}, {'name': 'Santo Domingo de los Tsáchilas'}, {'name': 'Santa Elena'}]}, {'name': 'Estonia', 'countryCode': 'EE', 'countryCodeAlpha3': 'EST', 'phone': '372', 'currency': 'EUR', 'stateProvinces': [{'name': 'Võrumaa'}, {'name': 'Viljandimaa'}, {'name': 'Valgamaa'}, {'name': 'Tartu'}, {'name': 'Saare'}, {'name': 'Raplamaa'}, {'name': 'Põlvamaa'}, {'name': 'Pärnumaa'}, {'name': 'Lääne-Virumaa'}, {'name': 'Lääne'}, {'name': 'Jõgevamaa'}, {'name': 'Järvamaa'}, {'name': 'Ida-Virumaa'}, {'name': 'Hiiumaa'}, {'name': 'Harjumaa'}]}, {'name': 'Egypt', 'countryCode': 'EG', 'countryCodeAlpha3': 'EGY', 'phone': '20', 'currency': 'EGP', 'stateProvinces': [{'name': 'Sohag'}, {'name': 'North Sinai'}, {'name': 'Qena'}, {'name': 'Matruh'}, {'name': 'Kafr el-Sheikh'}, {'name': 'South Sinai'}, {'name': 'Damietta'}, {'name': 'Port Said'}, {'name': 'Beni Suweif'}, {'name': 'Asyut'}, {'name': 'Aswan'}, {'name': 'Suez'}, {'name': 'Sharqia'}, {'name': 'New Valley'}, {'name': 'Qalyubia'}, {'name': 'Cairo'}, {'name': 'Minya'}, {'name': 'Monufia'}, {'name': 'Giza'}, {'name': 'Ismailia'}, {'name': 'Alexandria'}, {'name': 'Gharbia'}, {'name': 'Faiyum'}, {'name': 'Beheira'}, {'name': 'Red Sea'}, {'name': 'Dakahlia'}, {'name': 'Luxor'}]}, {'name': 'Western Sahara', 'countryCode': 'EH', 'countryCodeAlpha3': 'ESH', 'phone': '212', 'currency': 'MAD', 'stateProvinces': None}, {'name': 'Eritrea', 'countryCode': 'ER', 'countryCodeAlpha3': 'ERI', 'phone': '291', 'currency': 'ERN', 'stateProvinces': [{'name': 'Anseba'}, {'name': 'Debub'}, {'name': 'Southern Red Sea'}, {'name': 'Gash-Barka'}, {'name': 'Maekel'}, {'name': 'Northern Red Sea'}]}, {'name': 'Spain', 'countryCode': 'ES', 'countryCodeAlpha3': 'ESP', 'phone': '34', 'currency': 'EUR', 'stateProvinces': [{'name': 'Murcia'}, {'name': 'Ceuta'}, {'name': 'Balearic Islands'}, {'name': 'Andalusia'}, {'name': 'Canary Islands'}, {'name': 'Castille-La Mancha'}, {'name': 'Extremadura'}, {'name': 'Valencia'}, {'name': 'Asturias'}, {'name': 'Navarre'}, {'name': 'Madrid'}, {'name': 'La Rioja'}, {'name': 'Cantabria'}, {'name': 'Aragon'}, {'name': 'Castille and León'}, {'name': 'Catalonia'}, {'name': 'Galicia'}, {'name': 'Basque Country'}, {'name': 'Melilla'}]}, {'name': 'Ethiopia', 'countryCode': 'ET', 'countryCodeAlpha3': 'ETH', 'phone': '251', 'currency': 'ETB', 'stateProvinces': [{'name': 'Addis Ababa'}, {'name': 'Āfar'}, {'name': 'Amhara'}, {'name': 'Bīnshangul Gumuz'}, {'name': 'Dire Dawa'}, {'name': 'Gambela'}, {'name': 'Harari'}, {'name': 'Oromiya'}, {'name': 'Somali'}, {'name': 'Tigray'}, {'name': 'SNNPR'}]}, {'name': 'Finland', 'countryCode': 'FI', 'countryCodeAlpha3': 'FIN', 'phone': '358', 'currency': 'EUR', 'stateProvinces': [{'name': 'Lapland'}, {'name': 'Kainuu'}, {'name': 'North Ostrobothnia'}, {'name': 'Central Ostrobothnia'}, {'name': 'Ostrobothnia'}, {'name': 'South Ostrobothnia'}, {'name': 'Central Finland'}, {'name': 'North Karelia'}, {'name': 'North Savo'}, {'name': 'South Savo'}, {'name': 'South Karelia'}, {'name': 'Kymenlaakso'}, {'name': 'Pirkanmaa'}, {'name': 'Kanta-Häme'}, {'name': 'Southwest Finland'}, {'name': 'Uusimaa'}, {'name': 'Paijat-Hame'}, {'name': 'Satakunta'}]}, {'name': 'Fiji', 'countryCode': 'FJ', 'countryCodeAlpha3': 'FJI', 'phone': '679', 'currency': 'FJD', 'stateProvinces': [{'name': 'Western'}, {'name': 'Northern'}, {'name': 'Central'}, {'name': 'Eastern'}, {'name': 'Rotuma'}]}, {'name': 'Falkland Islands', 'countryCode': 'FK', 'countryCodeAlpha3': 'FLK', 'phone': '500', 'currency': 'FKP', 'stateProvinces': None}, {'name': 'Micronesia', 'countryCode': 'FM', 'countryCodeAlpha3': 'FSM', 'phone': '691', 'currency': 'USD', 'stateProvinces': [{'name': 'Yap'}, {'name': 'Pohnpei'}, {'name': 'Kosrae'}, {'name': 'Chuuk'}]}, {'name': 'Faroe Islands', 'countryCode': 'FO', 'countryCodeAlpha3': 'FRO', 'phone': '298', 'currency': 'DKK', 'stateProvinces': [{'name': 'Vágar'}, {'name': 'Suðuroy'}, {'name': 'Streymoy'}, {'name': 'Sandoy'}, {'name': 'Norðoyar'}, {'name': 'Eysturoy'}]}, {'name': 'France', 'countryCode': 'FR', 'countryCodeAlpha3': 'FRA', 'phone': '33', 'currency': 'EUR', 'stateProvinces': [{'name': \"Provence-Alpes-Côte d'Azur\"}, {'name': 'Pays de la Loire'}, {'name': 'Île-de-France'}, {'name': 'Corsica'}, {'name': 'Centre'}, {'name': 'Brittany'}, {'name': 'Bourgogne-Franche-Comté'}, {'name': 'Nouvelle-Aquitaine'}, {'name': 'Normandy'}, {'name': 'Grand Est'}, {'name': 'Occitanie'}, {'name': 'Hauts-de-France'}, {'name': 'Auvergne-Rhône-Alpes'}]}, {'name': 'Gabon', 'countryCode': 'GA', 'countryCodeAlpha3': 'GAB', 'phone': '241', 'currency': 'XAF', 'stateProvinces': [{'name': 'Woleu-Ntem'}, {'name': 'Ogooué-Maritime'}, {'name': 'Ogooué-Lolo'}, {'name': 'Ogooué-Ivindo'}, {'name': 'Nyanga'}, {'name': 'Ngouni'}, {'name': 'Moyen-Ogooué'}, {'name': 'Haut-Ogooué'}, {'name': 'Estuaire'}]}, {'name': 'United Kingdom', 'countryCode': 'GB', 'countryCodeAlpha3': 'GBR', 'phone': '44', 'currency': 'GBP', 'stateProvinces': [{'name': 'Wales'}, {'name': 'Scotland'}, {'name': 'Northern Ireland'}, {'name': 'England'}]}, {'name': 'Grenada', 'countryCode': 'GD', 'countryCodeAlpha3': 'GRD', 'phone': '+1-473', 'currency': 'XCD', 'stateProvinces': [{'name': 'Saint Patrick'}, {'name': 'Saint Mark'}, {'name': 'Saint John'}, {'name': 'Saint George'}, {'name': 'Saint David'}, {'name': 'Saint Andrew'}, {'name': 'Carriacou and Petite Martinique'}]}, {'name': 'Georgia', 'countryCode': 'GE', 'countryCodeAlpha3': 'GEO', 'phone': '995', 'currency': 'GEL', 'stateProvinces': [{'name': \"T'bilisi\"}, {'name': 'Achara'}, {'name': 'Kvemo Kartli'}, {'name': 'Kakheti'}, {'name': 'Guria'}, {'name': 'Imereti'}, {'name': 'Shida Kartli'}, {'name': 'Mtskheta-Mtianeti'}, {'name': 'Racha-Lechkhumi and Kvemo Svaneti'}, {'name': 'Samegrelo and Zemo Svaneti'}, {'name': 'Samtskhe-Javakheti'}, {'name': 'Abkhazia'}]}, {'name': 'French Guiana', 'countryCode': 'GF', 'countryCodeAlpha3': 'GUF', 'phone': '594', 'currency': 'EUR', 'stateProvinces': [{'name': 'Guyane'}]}, {'name': 'Guernsey', 'countryCode': 'GG', 'countryCodeAlpha3': 'GGY', 'phone': '+44-1481', 'currency': 'GBP', 'stateProvinces': [{'name': 'St Pierre du Bois'}, {'name': 'Torteval'}, {'name': 'Saint Saviour'}, {'name': 'Forest'}, {'name': 'St Martin'}, {'name': 'Saint Andrew'}, {'name': 'St Peter Port'}, {'name': 'Castel'}, {'name': 'Vale'}, {'name': 'St Sampson'}, {'name': 'Alderney'}]}, {'name': 'Ghana', 'countryCode': 'GH', 'countryCodeAlpha3': 'GHA', 'phone': '233', 'currency': 'GHS', 'stateProvinces': [{'name': 'Western'}, {'name': 'Volta'}, {'name': 'Upper West'}, {'name': 'Upper East'}, {'name': 'Northern'}, {'name': 'Greater Accra'}, {'name': 'Eastern'}, {'name': 'Central'}, {'name': 'Ashanti'}, {'name': 'Bono'}, {'name': 'Oti'}, {'name': 'North East'}, {'name': 'Ahafo'}, {'name': 'Bono East'}, {'name': 'Savannah'}, {'name': 'Western North'}]}, {'name': 'Gibraltar', 'countryCode': 'GI', 'countryCodeAlpha3': 'GIB', 'phone': '350', 'currency': 'GIP', 'stateProvinces': None}, {'name': 'Greenland', 'countryCode': 'GL', 'countryCodeAlpha3': 'GRL', 'phone': '299', 'currency': 'DKK', 'stateProvinces': [{'name': 'Kujalleq'}, {'name': 'Qeqqata'}, {'name': 'Sermersooq'}, {'name': 'Qeqertalik'}, {'name': 'Avannaata'}]}, {'name': 'Gambia', 'countryCode': 'GM', 'countryCodeAlpha3': 'GMB', 'phone': '220', 'currency': 'GMD', 'stateProvinces': [{'name': 'Western'}, {'name': 'Upper River'}, {'name': 'North Bank'}, {'name': 'Central River'}, {'name': 'Lower River'}, {'name': 'Banjul'}]}, {'name': 'Guinea', 'countryCode': 'GN', 'countryCodeAlpha3': 'GIN', 'phone': '224', 'currency': 'GNF', 'stateProvinces': [{'name': 'Conakry'}, {'name': 'Boke'}, {'name': 'Faranah'}, {'name': 'Kankan'}, {'name': 'Kindia'}, {'name': 'Labe'}, {'name': 'Mamou'}, {'name': 'Nzerekore'}]}, {'name': 'Guadeloupe', 'countryCode': 'GP', 'countryCodeAlpha3': 'GLP', 'phone': '590', 'currency': 'EUR', 'stateProvinces': [{'name': 'Guadeloupe'}]}, {'name': 'Equatorial Guinea', 'countryCode': 'GQ', 'countryCodeAlpha3': 'GNQ', 'phone': '240', 'currency': 'XAF', 'stateProvinces': [{'name': 'Annobon'}, {'name': 'Bioko Norte'}, {'name': 'Bioko Sur'}, {'name': 'Centro Sur'}, {'name': 'Kié-Ntem'}, {'name': 'Litoral'}, {'name': 'Wele-Nzas'}, {'name': 'Djibloho'}]}, {'name': 'Greece', 'countryCode': 'GR', 'countryCodeAlpha3': 'GRC', 'phone': '30', 'currency': 'EUR', 'stateProvinces': [{'name': 'Mount Athos'}, {'name': 'Attica'}, {'name': 'Central Greece'}, {'name': 'Central Macedonia'}, {'name': 'Crete'}, {'name': 'East Macedonia and Thrace'}, {'name': 'Epirus'}, {'name': 'Ionian Islands'}, {'name': 'North Aegean'}, {'name': 'Peloponnese'}, {'name': 'South Aegean'}, {'name': 'Thessaly'}, {'name': 'West Greece'}, {'name': 'West Macedonia'}]}, {'name': 'South Georgia and the South Sandwich Islands', 'countryCode': 'GS', 'countryCodeAlpha3': 'SGS', 'phone': '', 'currency': 'GBP', 'stateProvinces': None}, {'name': 'Guatemala', 'countryCode': 'GT', 'countryCodeAlpha3': 'GTM', 'phone': '502', 'currency': 'GTQ', 'stateProvinces': [{'name': 'Zacapa'}, {'name': 'Totonicapán'}, {'name': 'Suchitepeque'}, {'name': 'Sololá'}, {'name': 'Santa Rosa Department'}, {'name': 'San Marcos'}, {'name': 'Sacatepéquez'}, {'name': 'Retalhuleu'}, {'name': 'Quiché'}, {'name': 'Quetzaltenango'}, {'name': 'Petén'}, {'name': 'Jutiapa'}, {'name': 'Jalapa'}, {'name': 'Izabal Department'}, {'name': 'Huehuetenango'}, {'name': 'Guatemala'}, {'name': 'Escuintla'}, {'name': 'El Progreso'}, {'name': 'Chiquimula'}, {'name': 'Chimaltenango'}, {'name': 'Baja Verapaz'}, {'name': 'Alta Verapaz'}]}, {'name': 'Guam', 'countryCode': 'GU', 'countryCodeAlpha3': 'GUM', 'phone': '+1-671', 'currency': 'USD', 'stateProvinces': [{'name': 'Piti'}, {'name': 'Santa Rita'}, {'name': 'Sinajana'}, {'name': 'Talofofo'}, {'name': 'Tamuning'}, {'name': 'Umatac'}, {'name': 'Yigo'}, {'name': 'Yona'}, {'name': 'Merizo'}, {'name': 'Mangilao'}, {'name': 'Agana Heights'}, {'name': 'Chalan Pago-Ordot'}, {'name': 'Asan'}, {'name': 'Agat'}, {'name': 'Dededo'}, {'name': 'Barrigada'}, {'name': 'Hagatna'}, {'name': 'Inarajan'}, {'name': 'Mongmong-Toto-Maite'}]}, {'name': 'Guinea-Bissau', 'countryCode': 'GW', 'countryCodeAlpha3': 'GNB', 'phone': '245', 'currency': 'XOF', 'stateProvinces': [{'name': 'Tombali'}, {'name': 'Quinara'}, {'name': 'Oio'}, {'name': 'Gabú'}, {'name': 'Cacheu'}, {'name': 'Bolama'}, {'name': 'Bissau'}, {'name': 'Biombo'}, {'name': 'Bafatá'}]}, {'name': 'Guyana', 'countryCode': 'GY', 'countryCodeAlpha3': 'GUY', 'phone': '592', 'currency': 'GYD', 'stateProvinces': [{'name': 'Upper Takutu-Upper Essequibo'}, {'name': 'Upper Demerara-Berbice'}, {'name': 'Potaro-Siparuni'}, {'name': 'Pomeroon-Supenaam'}, {'name': 'Mahaica-Berbice'}, {'name': 'Essequibo Islands-West Demerara'}, {'name': 'East Berbice-Corentyne'}, {'name': 'Demerara-Mahaica'}, {'name': 'Cuyuni-Mazaruni'}, {'name': 'Barima-Waini'}]}, {'name': 'Hong Kong', 'countryCode': 'HK', 'countryCodeAlpha3': 'HKG', 'phone': '852', 'currency': 'HKD', 'stateProvinces': [{'name': 'Yuen Long'}, {'name': 'Tsuen Wan'}, {'name': 'Tai Po'}, {'name': 'Sai Kung'}, {'name': 'Islands'}, {'name': 'Central and Western'}, {'name': 'Wan Chai'}, {'name': 'Eastern'}, {'name': 'Southern'}, {'name': 'Yau Tsim Mong'}, {'name': 'Sham Shui Po'}, {'name': 'Kowloon City'}, {'name': 'Wong Tai Sin'}, {'name': 'Kwun Tong'}, {'name': 'Kwai Tsing'}, {'name': 'Tuen Mun'}, {'name': 'North'}, {'name': 'Sha Tin'}]}, {'name': 'Heard Island and McDonald Islands', 'countryCode': 'HM', 'countryCodeAlpha3': 'HMD', 'phone': '', 'currency': 'AUD', 'stateProvinces': None}, {'name': 'Honduras', 'countryCode': 'HN', 'countryCodeAlpha3': 'HND', 'phone': '504', 'currency': 'HNL', 'stateProvinces': [{'name': 'Yoro'}, {'name': 'Valle'}, {'name': 'Santa Bárbara'}, {'name': 'Olancho'}, {'name': 'Ocotepeque'}, {'name': 'Lempira'}, {'name': 'La Paz'}, {'name': 'Bay Islands'}, {'name': 'Intibucá'}, {'name': 'Gracias a Dios'}, {'name': 'Francisco Morazán'}, {'name': 'El Paraíso'}, {'name': 'Cortés'}, {'name': 'Copán'}, {'name': 'Comayagua'}, {'name': 'Colón'}, {'name': 'Choluteca'}, {'name': 'Atlántida'}]}, {'name': 'Croatia', 'countryCode': 'HR', 'countryCodeAlpha3': 'HRV', 'phone': '385', 'currency': 'EUR', 'stateProvinces': [{'name': 'Bjelovarsko-Bilogorska'}, {'name': 'Slavonski Brod-Posavina'}, {'name': 'Dubrovačko-Neretvanska'}, {'name': 'Istria'}, {'name': 'Karlovačka'}, {'name': 'Koprivničko-Križevačka'}, {'name': 'Krapinsko-Zagorska'}, {'name': 'Ličko-Senjska'}, {'name': 'Međimurska'}, {'name': 'Osječko-Baranjska'}, {'name': 'Požeško-Slavonska'}, {'name': 'Primorsko-Goranska'}, {'name': 'Šibensko-Kniniska'}, {'name': 'Sisačko-Moslavačka'}, {'name': 'Split-Dalmatia'}, {'name': 'Varaždinska'}, {'name': 'Vukovar-Sirmium'}, {'name': 'Zadarska'}, {'name': 'Zagrebačka'}, {'name': 'City of Zagreb'}, {'name': 'Virovitičk-Podravska'}]}, {'name': 'Haiti', 'countryCode': 'HT', 'countryCodeAlpha3': 'HTI', 'phone': '509', 'currency': 'HTG', 'stateProvinces': [{'name': 'Sud-Est'}, {'name': 'Sud'}, {'name': 'Ouest'}, {'name': 'Nord-Ouest'}, {'name': 'Nord-Est'}, {'name': 'Nord'}, {'name': 'GrandʼAnse'}, {'name': 'Centre'}, {'name': 'Artibonite'}, {'name': 'Nippes'}]}, {'name': 'Hungary', 'countryCode': 'HU', 'countryCodeAlpha3': 'HUN', 'phone': '36', 'currency': 'HUF', 'stateProvinces': [{'name': 'Szabolcs-Szatmár-Bereg'}, {'name': 'Jász-Nagykun-Szolnok'}, {'name': 'Heves'}, {'name': 'Hajdú-Bihar'}, {'name': 'Csongrád'}, {'name': 'Borsod-Abaúj-Zemplén'}, {'name': 'Bekes County'}, {'name': 'Zala'}, {'name': 'Veszprém'}, {'name': 'Vas'}, {'name': 'Tolna'}, {'name': 'Somogy'}, {'name': 'Pest'}, {'name': 'Nógrád'}, {'name': 'Komárom-Esztergom'}, {'name': 'Győr-Moson-Sopron'}, {'name': 'Fejér'}, {'name': 'Budapest'}, {'name': 'Baranya'}, {'name': 'Bács-Kiskun'}]}, {'name': 'Indonesia', 'countryCode': 'ID', 'countryCodeAlpha3': 'IDN', 'phone': '62', 'currency': 'IDR', 'stateProvinces': [{'name': 'North Sumatra'}, {'name': 'Aceh'}, {'name': 'Yogyakarta'}, {'name': 'South Sumatra'}, {'name': 'West Sumatra'}, {'name': 'North Sulawesi'}, {'name': 'Southeast Sulawesi'}, {'name': 'Central Sulawesi'}, {'name': 'South Sulawesi'}, {'name': 'Riau'}, {'name': 'East Nusa Tenggara'}, {'name': 'West Nusa Tenggara'}, {'name': 'Maluku'}, {'name': 'Lampung'}, {'name': 'East Kalimantan'}, {'name': 'Central Kalimantan'}, {'name': 'South Kalimantan'}, {'name': 'West Kalimantan'}, {'name': 'East Java'}, {'name': 'Central Java'}, {'name': 'West Java'}, {'name': 'Jambi'}, {'name': 'Jakarta'}, {'name': 'Papua'}, {'name': 'Bengkulu'}, {'name': 'Bali'}, {'name': 'Banten'}, {'name': 'Gorontalo'}, {'name': 'Bangka–Belitung Islands'}, {'name': 'North Maluku'}, {'name': 'West Papua'}, {'name': 'West Sulawesi'}, {'name': 'Riau Islands'}, {'name': 'North Kalimantan'}, {'name': 'Southwest Papua'}, {'name': 'Central Papua'}, {'name': 'Highland Papua'}, {'name': 'South Papua'}]}, {'name': 'Ireland', 'countryCode': 'IE', 'countryCodeAlpha3': 'IRL', 'phone': '353', 'currency': 'EUR', 'stateProvinces': [{'name': 'Connacht'}, {'name': 'Leinster'}, {'name': 'Munster'}, {'name': 'Ulster'}]}, {'name': 'Israel', 'countryCode': 'IL', 'countryCodeAlpha3': 'ISR', 'phone': '972', 'currency': 'ILS', 'stateProvinces': [{'name': 'Jerusalem'}, {'name': 'Tel Aviv'}, {'name': 'Haifa'}, {'name': 'Northern District'}, {'name': 'Central District'}, {'name': 'Southern District'}, {'name': 'Judea and Samaria Area'}]}, {'name': 'Isle of Man', 'countryCode': 'IM', 'countryCodeAlpha3': 'IMN', 'phone': '+44-1624', 'currency': 'GBP', 'stateProvinces': [{'name': 'Andreas'}, {'name': 'Arbory'}, {'name': 'Ballaugh'}, {'name': 'Braddan'}, {'name': 'Bride'}, {'name': 'Castletown'}, {'name': 'Douglas'}, {'name': 'German'}, {'name': 'Jurby'}, {'name': 'Laxey'}, {'name': 'Lezayre'}, {'name': 'Lonan'}, {'name': 'Malew'}, {'name': 'Marown'}, {'name': 'Maughold'}, {'name': 'Michael'}, {'name': 'Onchan'}, {'name': 'Patrick'}, {'name': 'Peel'}, {'name': 'Port Erin'}, {'name': 'Port St Mary'}, {'name': 'Ramsey'}, {'name': 'Rushen'}, {'name': 'Santon'}]}, {'name': 'India', 'countryCode': 'IN', 'countryCodeAlpha3': 'IND', 'phone': '91', 'currency': 'INR', 'stateProvinces': [{'name': 'West Bengal'}, {'name': 'Uttar Pradesh'}, {'name': 'Tripura'}, {'name': 'Telangana'}, {'name': 'Tamil Nadu'}, {'name': 'Sikkim'}, {'name': 'Rajasthan'}, {'name': 'Punjab'}, {'name': 'Puducherry'}, {'name': 'Odisha'}, {'name': 'Nagaland'}, {'name': 'Mizoram'}, {'name': 'Meghalaya'}, {'name': 'Manipur'}, {'name': 'Maharashtra'}, {'name': 'Madhya Pradesh'}, {'name': 'Laccadives'}, {'name': 'Kerala'}, {'name': 'Karnataka'}, {'name': 'Jammu and Kashmir'}, {'name': 'Himachal Pradesh'}, {'name': 'Haryana'}, {'name': 'Gujarat'}, {'name': 'Goa'}, {'name': 'Delhi'}, {'name': 'Chandigarh'}, {'name': 'Bihar'}, {'name': 'Assam'}, {'name': 'Arunachal Pradesh'}, {'name': 'Andhra Pradesh'}, {'name': 'Andaman and Nicobar'}, {'name': 'Chhattisgarh'}, {'name': 'Jharkhand'}, {'name': 'Uttarakhand'}, {'name': 'Ladakh'}, {'name': 'Dadra and Nagar Haveli and Daman and Diu'}]}, {'name': 'British Indian Ocean Territory', 'countryCode': 'IO', 'countryCodeAlpha3': 'IOT', 'phone': '246', 'currency': 'USD', 'stateProvinces': None}, {'name': 'Iraq', 'countryCode': 'IQ', 'countryCodeAlpha3': 'IRQ', 'phone': '964', 'currency': 'IQD', 'stateProvinces': [{'name': 'Basra'}, {'name': 'Wāsiţ'}, {'name': 'Salah ad Din'}, {'name': 'Nineveh'}, {'name': 'Maysan'}, {'name': 'Karbalāʼ'}, {'name': 'Arbīl'}, {'name': 'Diyālá'}, {'name': 'Dhi Qar'}, {'name': 'Duhok'}, {'name': 'Baghdad'}, {'name': 'Bābil'}, {'name': 'Kirkuk'}, {'name': 'Sulaymaniyah'}, {'name': 'An Najaf'}, {'name': 'Al Qādisīyah'}, {'name': 'Al Muthanná'}, {'name': 'Al Anbar'}, {'name': 'Halabja Governorate'}]}, {'name': 'Iran', 'countryCode': 'IR', 'countryCodeAlpha3': 'IRN', 'phone': '98', 'currency': 'IRR', 'stateProvinces': [{'name': 'Tehran'}, {'name': 'Zanjan'}, {'name': 'Yazd'}, {'name': 'Semnan'}, {'name': 'Māzandarān'}, {'name': 'Markazi'}, {'name': 'Lorestan Province'}, {'name': 'Kordestān'}, {'name': 'Kohgiluyeh and Boyer-Ahmad'}, {'name': 'Khuzestan'}, {'name': 'Kermānshāh'}, {'name': 'Kerman'}, {'name': 'Ilam Province'}, {'name': 'Hormozgan'}, {'name': 'Hamadān'}, {'name': 'Gīlān'}, {'name': 'Fars'}, {'name': 'Chaharmahal and Bakhtiari'}, {'name': 'Bushehr'}, {'name': 'East Azerbaijan'}, {'name': 'West Azerbaijan'}, {'name': 'Ardabīl'}, {'name': 'Isfahan'}, {'name': 'Golestan'}, {'name': 'Qazvīn'}, {'name': 'Qom'}, {'name': 'Sistan and Baluchestan'}, {'name': 'South Khorasan Province'}, {'name': 'Razavi Khorasan'}, {'name': 'North Khorasan'}, {'name': 'Alborz Province'}]}, {'name': 'Iceland', 'countryCode': 'IS', 'countryCodeAlpha3': 'ISL', 'phone': '354', 'currency': 'ISK', 'stateProvinces': [{'name': 'Northwest'}, {'name': 'Northeast'}, {'name': 'East'}, {'name': 'South'}, {'name': 'Capital Region'}, {'name': 'Southern Peninsula'}, {'name': 'West'}, {'name': 'Westfjords'}]}, {'name': 'Italy', 'countryCode': 'IT', 'countryCodeAlpha3': 'ITA', 'phone': '39', 'currency': 'EUR', 'stateProvinces': [{'name': 'Sicily'}, {'name': 'Sardinia'}, {'name': 'Calabria'}, {'name': 'Veneto'}, {'name': 'Aosta Valley'}, {'name': 'Umbria'}, {'name': 'Trentino-Alto Adige'}, {'name': 'Tuscany'}, {'name': 'Apulia'}, {'name': 'Piedmont'}, {'name': 'Molise'}, {'name': 'The Marches'}, {'name': 'Lombardy'}, {'name': 'Liguria'}, {'name': 'Lazio'}, {'name': 'Friuli Venezia Giulia'}, {'name': 'Emilia-Romagna'}, {'name': 'Campania'}, {'name': 'Basilicate'}, {'name': 'Abruzzo'}]}, {'name': 'Jersey', 'countryCode': 'JE', 'countryCodeAlpha3': 'JEY', 'phone': '+44-1534', 'currency': 'GBP', 'stateProvinces': [{'name': 'St Clement'}, {'name': 'St Saviour'}, {'name': 'St. Brelade'}, {'name': 'Grouville'}, {'name': 'St Mary'}, {'name': 'St Lawrence'}, {'name': 'St Peter'}, {'name': 'St Ouen'}, {'name': 'St John'}, {'name': 'Trinity'}, {'name': 'St Martîn'}, {'name': 'St Helier'}]}, {'name': 'Jamaica', 'countryCode': 'JM', 'countryCodeAlpha3': 'JAM', 'phone': '+1-876', 'currency': 'JMD', 'stateProvinces': [{'name': 'Westmoreland'}, {'name': 'Trelawny'}, {'name': 'St. Thomas'}, {'name': 'St. Mary'}, {'name': 'St. James'}, {'name': 'St. Elizabeth'}, {'name': 'Saint Catherine'}, {'name': 'St Ann'}, {'name': 'St. Andrew'}, {'name': 'Portland'}, {'name': 'Manchester'}, {'name': 'Kingston'}, {'name': 'Hanover'}, {'name': 'Clarendon'}]}, {'name': 'Jordan', 'countryCode': 'JO', 'countryCodeAlpha3': 'JOR', 'phone': '962', 'currency': 'JOD', 'stateProvinces': [{'name': 'Ma’an'}, {'name': 'Irbid'}, {'name': 'Zarqa'}, {'name': 'Tafielah'}, {'name': 'Amman'}, {'name': 'Mafraq'}, {'name': 'Karak'}, {'name': 'Balqa'}, {'name': 'Ajlun'}, {'name': 'Jerash'}, {'name': 'Aqaba'}, {'name': 'Madaba'}]}, {'name': 'Japan', 'countryCode': 'JP', 'countryCodeAlpha3': 'JPN', 'phone': '81', 'currency': 'JPY', 'stateProvinces': [{'name': 'Yamanashi'}, {'name': 'Yamaguchi'}, {'name': 'Wakayama'}, {'name': 'Toyama'}, {'name': 'Tottori'}, {'name': 'Tokyo'}, {'name': 'Tokushima'}, {'name': 'Tochigi'}, {'name': 'Shizuoka'}, {'name': 'Shimane'}, {'name': 'Shiga'}, {'name': 'Saitama'}, {'name': 'Saga'}, {'name': 'Ōsaka'}, {'name': 'Okinawa'}, {'name': 'Okayama'}, {'name': 'Oita'}, {'name': 'Niigata'}, {'name': 'Nara'}, {'name': 'Nagasaki'}, {'name': 'Nagano'}, {'name': 'Miyazaki'}, {'name': 'Mie'}, {'name': 'Kyoto'}, {'name': 'Kumamoto'}, {'name': 'Kochi'}, {'name': 'Kanagawa'}, {'name': 'Kagoshima'}, {'name': 'Kagawa'}, {'name': 'Ishikawa'}, {'name': 'Hyōgo'}, {'name': 'Hiroshima'}, {'name': 'Gunma'}, {'name': 'Gifu'}, {'name': 'Fukuoka'}, {'name': 'Fukui'}, {'name': 'Ehime'}, {'name': 'Aichi'}, {'name': 'Yamagata'}, {'name': 'Miyagi'}, {'name': 'Iwate'}, {'name': 'Ibaraki'}, {'name': 'Fukushima'}, {'name': 'Chiba'}, {'name': 'Akita'}, {'name': 'Hokkaido'}, {'name': 'Aomori'}]}, {'name': 'Kenya', 'countryCode': 'KE', 'countryCodeAlpha3': 'KEN', 'phone': '254', 'currency': 'KES', 'stateProvinces': [{'name': 'West Pokot'}, {'name': 'Wajir'}, {'name': 'Uasin Gishu'}, {'name': 'Turkana'}, {'name': 'Trans Nzoia'}, {'name': 'Tharaka - Nithi'}, {'name': 'Tana River'}, {'name': 'Siaya'}, {'name': 'Samburu'}, {'name': 'Nairobi Area'}, {'name': \"Murang'A\"}, {'name': 'Mombasa'}, {'name': 'Meru'}, {'name': 'Marsabit'}, {'name': 'Mandera'}, {'name': 'Laikipia'}, {'name': 'Kwale'}, {'name': 'Kitui'}, {'name': 'Kisumu'}, {'name': 'Kisii'}, {'name': 'Kirinyaga'}, {'name': 'Kilifi'}, {'name': 'Kiambu'}, {'name': 'Kericho'}, {'name': 'Kakamega'}, {'name': 'Isiolo'}, {'name': 'Garissa'}, {'name': 'Embu'}, {'name': 'Busia'}, {'name': 'Bungoma'}, {'name': 'Baringo'}, {'name': 'Nyandarua'}, {'name': 'Vihiga'}, {'name': 'Lamu'}, {'name': 'Machakos'}, {'name': 'Makueni'}, {'name': 'Elegeyo-Marakwet'}, {'name': 'Taita Taveta'}, {'name': 'Kajiado'}, {'name': 'Nyeri'}, {'name': 'Homa Bay'}, {'name': 'Bomet'}, {'name': 'Migori'}, {'name': 'Nakuru'}, {'name': 'Narok'}, {'name': 'Nyamira'}, {'name': 'Nandi'}]}, {'name': 'Kyrgyzstan', 'countryCode': 'KG', 'countryCodeAlpha3': 'KGZ', 'phone': '996', 'currency': 'KGS', 'stateProvinces': [{'name': 'Osh'}, {'name': 'Batken'}, {'name': 'Talas'}, {'name': 'Naryn'}, {'name': 'Issyk-Kul'}, {'name': 'Bishkek'}, {'name': 'Jalal-Abad'}, {'name': 'Chüy'}, {'name': 'Osh City'}]}, {'name': 'Cambodia', 'countryCode': 'KH', 'countryCodeAlpha3': 'KHM', 'phone': '855', 'currency': 'KHR', 'stateProvinces': [{'name': 'Pursat'}, {'name': 'Battambang'}, {'name': 'Takeo'}, {'name': 'Svay Rieng'}, {'name': 'Stung Treng'}, {'name': 'Ŏtâr Méanchey'}, {'name': 'Siem Reap'}, {'name': 'Ratanakiri'}, {'name': 'Prey Veng'}, {'name': 'Preah Vihear'}, {'name': 'Phnom Penh'}, {'name': 'Pailin'}, {'name': 'Mondolkiri'}, {'name': 'Kratie'}, {'name': 'Kep'}, {'name': 'Koh Kong'}, {'name': 'Kandal'}, {'name': 'Kampot'}, {'name': 'Kampong Thom'}, {'name': 'Kampong Speu'}, {'name': 'Kampong Chhnang'}, {'name': 'Kampong Cham'}, {'name': 'Preah Sihanouk'}, {'name': 'Banteay Meanchey'}, {'name': 'Tboung Khmum'}]}, {'name': 'Kiribati', 'countryCode': 'KI', 'countryCodeAlpha3': 'KIR', 'phone': '686', 'currency': 'AUD', 'stateProvinces': [{'name': 'Gilbert Islands'}, {'name': 'Line Islands'}, {'name': 'Phoenix Islands'}]}, {'name': 'Comoros', 'countryCode': 'KM', 'countryCodeAlpha3': 'COM', 'phone': '269', 'currency': 'KMF', 'stateProvinces': [{'name': 'Mohéli'}, {'name': 'Grande Comore'}, {'name': 'Anjouan'}]}, {'name': 'Saint Kitts and Nevis', 'countryCode': 'KN', 'countryCodeAlpha3': 'KNA', 'phone': '+1-869', 'currency': 'XCD', 'stateProvinces': [{'name': 'Trinity Palmetto Point'}, {'name': 'Middle Island'}, {'name': 'Saint Thomas Lowland'}, {'name': 'Saint Peter Basseterre'}, {'name': 'Saint Paul Charlestown'}, {'name': 'Saint Paul Capesterre'}, {'name': 'Saint Mary Cayon'}, {'name': 'Saint John Figtree'}, {'name': 'Saint John Capesterre'}, {'name': 'Saint James Windwa'}, {'name': 'Saint George Gingerland'}, {'name': 'Saint George Basseterre'}, {'name': 'Saint Anne Sandy Point'}, {'name': 'Christ Church Nichola Town'}]}, {'name': 'North Korea', 'countryCode': 'KP', 'countryCodeAlpha3': 'PRK', 'phone': '850', 'currency': 'KPW', 'stateProvinces': [{'name': 'Pyongyang'}, {'name': 'South Pyongan'}, {'name': \"P'yŏngan-bukto\"}, {'name': 'Kangwŏn-do'}, {'name': 'Hwanghae-namdo'}, {'name': 'Hwanghae-bukto'}, {'name': 'Hamgyŏng-namdo'}, {'name': 'Yanggang-do'}, {'name': 'Hambuk'}, {'name': 'Chagang-do'}, {'name': 'Rason'}]}, {'name': 'South Korea', 'countryCode': 'KR', 'countryCodeAlpha3': 'KOR', 'phone': '82', 'currency': 'KRW', 'stateProvinces': [{'name': 'Ulsan'}, {'name': 'Daejeon'}, {'name': 'Daegu'}, {'name': 'Seoul'}, {'name': 'Busan'}, {'name': 'Gyeongsangbuk-do'}, {'name': 'Gyeonggi-do'}, {'name': 'Gwangju'}, {'name': 'Gangwon-do'}, {'name': 'Incheon'}, {'name': 'Chungcheongnam-do'}, {'name': 'North Chungcheong'}, {'name': 'Jeollanam-do'}, {'name': 'Jeollabuk-do'}, {'name': 'Jeju-do'}, {'name': 'Gyeongsangnam-do'}, {'name': 'Sejong-si'}]}, {'name': 'Kosovo', 'countryCode': 'XK', 'countryCodeAlpha3': 'XKX', 'phone': '', 'currency': 'EUR', 'stateProvinces': [{'name': 'Ferizaj'}, {'name': 'Gjakova'}, {'name': 'Gjilan'}, {'name': 'Mitrovica'}, {'name': 'Pec'}, {'name': 'Pristina'}, {'name': 'Prizren'}]}, {'name': 'Kuwait', 'countryCode': 'KW', 'countryCodeAlpha3': 'KWT', 'phone': '965', 'currency': 'KWD', 'stateProvinces': [{'name': 'Hawalli'}, {'name': 'Al Asimah'}, {'name': 'Al Jahrāʼ'}, {'name': 'Al Farwaniyah'}, {'name': 'Al Aḩmadī'}, {'name': 'Mubārak al Kabīr'}]}, {'name': 'Cayman Islands', 'countryCode': 'KY', 'countryCodeAlpha3': 'CYM', 'phone': '+1-345', 'currency': 'KYD', 'stateProvinces': [{'name': 'George Town'}, {'name': 'West Bay'}, {'name': 'Bodden Town'}, {'name': 'North Side'}, {'name': 'East End'}, {'name': 'Sister Island'}]}, {'name': 'Kazakhstan', 'countryCode': 'KZ', 'countryCodeAlpha3': 'KAZ', 'phone': '7', 'currency': 'KZT', 'stateProvinces': [{'name': 'Batys Qazaqstan'}, {'name': 'Mangghystaū'}, {'name': 'Atyraū'}, {'name': 'Aqtöbe'}, {'name': 'East Kazakhstan'}, {'name': 'Aqmola'}, {'name': 'North Kazakhstan'}, {'name': 'Pavlodar Region'}, {'name': 'Qyzylorda'}, {'name': 'Qostanay'}, {'name': 'Karaganda'}, {'name': 'Zhambyl'}, {'name': 'South Kazakhstan'}, {'name': 'Almaty'}, {'name': 'Almaty Oblysy'}, {'name': 'Shymkent'}, {'name': 'Baikonur'}, {'name': 'Astana'}, {'name': 'Abai Region'}, {'name': 'KZ.12510144'}, {'name': 'KZ.12510145'}]}, {'name': 'Laos', 'countryCode': 'LA', 'countryCodeAlpha3': 'LAO', 'phone': '856', 'currency': 'LAK', 'stateProvinces': [{'name': 'Xiangkhoang'}, {'name': 'Xiagnabouli'}, {'name': 'Vientiane'}, {'name': 'Savannahkhét'}, {'name': 'Salavan'}, {'name': 'Phôngsali'}, {'name': 'Oudômxai'}, {'name': 'Louangphabang'}, {'name': 'Loungnamtha'}, {'name': 'Khammouan'}, {'name': 'Houaphan'}, {'name': 'Champasak'}, {'name': 'Attapu'}, {'name': 'Xékong'}, {'name': 'Bokeo'}, {'name': 'Bolikhamsai'}, {'name': 'Vientiane Prefecture'}, {'name': 'Xaisomboun'}]}, {'name': 'Lebanon', 'countryCode': 'LB', 'countryCodeAlpha3': 'LBN', 'phone': '961', 'currency': 'LBP', 'stateProvinces': [{'name': 'Mont-Liban'}, {'name': 'Beyrouth'}, {'name': 'Liban-Nord'}, {'name': 'South Governorate'}, {'name': 'Béqaa'}, {'name': 'Nabatîyé'}, {'name': 'Aakkâr'}, {'name': 'Baalbek-Hermel'}]}, {'name': 'Saint Lucia', 'countryCode': 'LC', 'countryCodeAlpha3': 'LCA', 'phone': '+1-758', 'currency': 'XCD', 'stateProvinces': [{'name': 'Vieux-Fort'}, {'name': 'Soufrière'}, {'name': 'Micoud'}, {'name': 'Laborie'}, {'name': 'Gros-Islet'}, {'name': 'Dennery'}, {'name': 'Choiseul'}, {'name': 'Castries'}, {'name': 'Anse-la-Raye'}, {'name': 'Canaries'}]}, {'name': 'Liechtenstein', 'countryCode': 'LI', 'countryCodeAlpha3': 'LIE', 'phone': '423', 'currency': 'CHF', 'stateProvinces': [{'name': 'Vaduz'}, {'name': 'Triesenberg'}, {'name': 'Triesen'}, {'name': 'Schellenberg'}, {'name': 'Schaan'}, {'name': 'Ruggell'}, {'name': 'Planken'}, {'name': 'Mauren'}, {'name': 'Gamprin'}, {'name': 'Eschen'}, {'name': 'Balzers'}]}, {'name': 'Sri Lanka', 'countryCode': 'LK', 'countryCodeAlpha3': 'LKA', 'phone': '94', 'currency': 'LKR', 'stateProvinces': [{'name': 'Western'}, {'name': 'Uva'}, {'name': 'Southern'}, {'name': 'Sabaragamuwa'}, {'name': 'North Western'}, {'name': 'North Central'}, {'name': 'Central'}, {'name': 'Northern Province'}, {'name': 'Eastern Province'}]}, {'name': 'Liberia', 'countryCode': 'LR', 'countryCodeAlpha3': 'LBR', 'phone': '231', 'currency': 'LRD', 'stateProvinces': [{'name': 'Sinoe'}, {'name': 'Nimba'}, {'name': 'Montserrado'}, {'name': 'Maryland'}, {'name': 'Lofa'}, {'name': 'Grand Gedeh'}, {'name': 'Grand Cape Mount'}, {'name': 'Grand Bassa'}, {'name': 'Bong'}, {'name': 'Bomi'}, {'name': 'Grand Kru'}, {'name': 'Margibi'}, {'name': 'River Cess'}, {'name': 'Gbarpolu'}, {'name': 'River Gee'}]}, {'name': 'Lesotho', 'countryCode': 'LS', 'countryCodeAlpha3': 'LSO', 'phone': '266', 'currency': 'LSL', 'stateProvinces': [{'name': 'Thaba-Tseka'}, {'name': 'Quthing'}, {'name': 'Qachaʼs Nek'}, {'name': 'Mokhotlong'}, {'name': 'Mohaleʼs Hoek'}, {'name': 'Maseru'}, {'name': 'Mafeteng'}, {'name': 'Leribe'}, {'name': 'Butha-Buthe'}, {'name': 'Berea'}]}, {'name': 'Lithuania', 'countryCode': 'LT', 'countryCodeAlpha3': 'LTU', 'phone': '370', 'currency': 'EUR', 'stateProvinces': [{'name': 'Alytus'}, {'name': 'Kaunas'}, {'name': 'Klaipėda County'}, {'name': 'Marijampolė County'}, {'name': 'Panevėžys'}, {'name': 'Siauliai'}, {'name': 'Tauragė County'}, {'name': 'Telsiai'}, {'name': 'Utena'}, {'name': 'Vilnius'}]}, {'name': 'Luxembourg', 'countryCode': 'LU', 'countryCodeAlpha3': 'LUX', 'phone': '352', 'currency': 'EUR', 'stateProvinces': [{'name': 'Wiltz'}, {'name': 'Vianden'}, {'name': 'Remich'}, {'name': 'Redange'}, {'name': 'Mersch'}, {'name': 'Luxembourg'}, {'name': 'Grevenmacher'}, {'name': 'Esch-sur-Alzette'}, {'name': 'Echternach'}, {'name': 'Diekirch'}, {'name': 'Clervaux'}, {'name': 'Capellen'}]}, {'name': 'Latvia', 'countryCode': 'LV', 'countryCodeAlpha3': 'LVA', 'phone': '371', 'currency': 'EUR', 'stateProvinces': [{'name': 'Ventspils Rajons'}, {'name': 'Ventspils'}, {'name': 'Valmiera'}, {'name': 'Valka'}, {'name': 'Tukuma novads'}, {'name': 'Talsi Municipality'}, {'name': 'Saldus Rajons'}, {'name': 'Riga'}, {'name': 'Rēzeknes Novads'}, {'name': 'Rēzekne'}, {'name': 'Preiļu novads'}, {'name': 'Ogre'}, {'name': 'Madona Municipality'}, {'name': 'Ludzas novads'}, {'name': 'Limbažu novads'}, {'name': 'Liepāja'}, {'name': 'Kuldīgas novads'}, {'name': 'Krāslavas novads'}, {'name': 'Jūrmala'}, {'name': 'Jelgavas novads'}, {'name': 'Jelgava'}, {'name': 'Jēkabpils Municipality'}, {'name': 'Gulbenes novads'}, {'name': 'Dobeles novads'}, {'name': 'Daugavpils'}, {'name': 'Cēsu Rajons'}, {'name': 'Bauskas Rajons'}, {'name': 'Balvu Novads'}, {'name': 'Alūksnes Novads'}, {'name': 'Aizkraukles novads'}, {'name': 'Mārupe'}, {'name': 'Olaine'}, {'name': 'Ķekava'}, {'name': 'Salaspils'}, {'name': 'Ādaži'}, {'name': 'Līvāni'}, {'name': 'Varakļāni'}, {'name': 'Ropažu'}, {'name': 'Sigulda'}, {'name': 'Saulkrastu'}, {'name': 'Smiltene'}, {'name': 'South Kurzeme Municipality'}, {'name': 'Augšdaugava Municipality'}]}, {'name': 'Libya', 'countryCode': 'LY', 'countryCodeAlpha3': 'LBY', 'phone': '218', 'currency': 'LYD', 'stateProvinces': [{'name': 'Darnah'}, {'name': 'Banghāzī'}, {'name': 'Al Marj'}, {'name': 'Al Kufrah'}, {'name': 'Al Jabal al Akhḑar'}, {'name': 'Tripoli'}, {'name': 'Surt'}, {'name': 'Sabhā'}, {'name': 'Nālūt'}, {'name': 'Murzuq'}, {'name': 'Mişrātah'}, {'name': 'Ghāt'}, {'name': 'Az Zāwiyah'}, {'name': 'Ash Shāţiʼ'}, {'name': 'Al Jufrah'}, {'name': 'An Nuqāţ al Khams'}, {'name': 'Al Buţnān'}, {'name': 'Jabal al Gharbi'}, {'name': 'Al Jafārah'}, {'name': 'Al Marqab'}, {'name': 'Al Wāḩāt'}, {'name': 'Wādī al Ḩayāt'}]}, {'name': 'Morocco', 'countryCode': 'MA', 'countryCodeAlpha3': 'MAR', 'phone': '212', 'currency': 'MAD', 'stateProvinces': [{'name': 'Tanger-Tetouan-Al Hoceima'}, {'name': 'Oriental'}, {'name': 'Fès-Meknès'}, {'name': 'Rabat-Salé-Kénitra'}, {'name': 'Béni Mellal-Khénifra'}, {'name': 'Casablanca-Settat'}, {'name': 'Marrakesh-Safi'}, {'name': 'Drâa-Tafilalet'}, {'name': 'Souss-Massa'}, {'name': 'Guelmim-Oued Noun'}, {'name': 'Laâyoune-Sakia El Hamra'}, {'name': 'Dakhla-Oued Ed-Dahab'}]}, {'name': 'Monaco', 'countryCode': 'MC', 'countryCodeAlpha3': 'MCO', 'phone': '377', 'currency': 'EUR', 'stateProvinces': [{'name': 'Municipality of Monaco'}]}, {'name': 'Moldova', 'countryCode': 'MD', 'countryCodeAlpha3': 'MDA', 'phone': '373', 'currency': 'MDL', 'stateProvinces': [{'name': 'Raionul Edineţ'}, {'name': 'Ungheni'}, {'name': 'Teleneşti'}, {'name': 'Taraclia'}, {'name': 'Ştefan-Vodă'}, {'name': 'Strășeni'}, {'name': 'Raionul Soroca'}, {'name': 'Rîşcani'}, {'name': 'Rezina'}, {'name': 'Orhei'}, {'name': 'Raionul Ocniţa'}, {'name': 'Anenii Noi'}, {'name': 'Nisporeni'}, {'name': 'Leova'}, {'name': 'Sîngerei'}, {'name': 'Criuleni'}, {'name': 'Ialoveni'}, {'name': 'Chișinău Municipality'}, {'name': 'Căuşeni'}, {'name': 'Cantemir'}, {'name': 'Călăraşi'}, {'name': 'Cahul'}, {'name': 'Glodeni'}, {'name': 'Floreşti'}, {'name': 'Fălești'}, {'name': 'Dubăsari'}, {'name': 'Drochia'}, {'name': 'Donduşeni'}, {'name': 'Cimişlia'}, {'name': 'Briceni'}, {'name': 'Basarabeasca'}, {'name': 'Hînceşti'}, {'name': 'Şoldăneşti'}, {'name': 'Transnistria'}, {'name': 'Găgăuzia'}, {'name': 'Bender Municipality'}, {'name': 'Bălţi'}]}, {'name': 'Montenegro', 'countryCode': 'ME', 'countryCodeAlpha3': 'MNE', 'phone': '382', 'currency': 'EUR', 'stateProvinces': [{'name': 'Rožaje Municipality'}, {'name': 'Opština Žabljak'}, {'name': 'Ulcinj'}, {'name': 'Tivat'}, {'name': 'Podgorica'}, {'name': 'Opština Šavnik'}, {'name': 'Opština Plužine'}, {'name': 'Pljevlja'}, {'name': 'Opština Plav'}, {'name': 'Opština Nikšić'}, {'name': 'Mojkovac'}, {'name': 'Kotor'}, {'name': 'Opština Kolašin'}, {'name': 'Berane'}, {'name': 'Herceg Novi'}, {'name': 'Danilovgrad'}, {'name': 'Cetinje'}, {'name': 'Budva'}, {'name': 'Bijelo Polje'}, {'name': 'Bar'}, {'name': 'Andrijevica'}, {'name': 'Gusinje'}, {'name': 'Petnjica'}, {'name': 'Tuzi'}]}, {'name': 'Saint Martin', 'countryCode': 'MF', 'countryCodeAlpha3': 'MAF', 'phone': '590', 'currency': 'EUR', 'stateProvinces': None}, {'name': 'Madagascar', 'countryCode': 'MG', 'countryCodeAlpha3': 'MDG', 'phone': '261', 'currency': 'MGA', 'stateProvinces': [{'name': 'Diana'}, {'name': 'Sava'}, {'name': 'Sofia'}, {'name': 'Analanjirofo'}, {'name': 'Boeny'}, {'name': 'Betsiboka'}, {'name': 'Alaotra Mangoro'}, {'name': 'Melaky'}, {'name': 'Bongolava'}, {'name': 'Vakinankaratra'}, {'name': 'Itasy'}, {'name': 'Analamanga'}, {'name': 'Atsinanana'}, {'name': 'Menabe'}, {'name': \"Amoron'i Mania\"}, {'name': 'Upper Matsiatra'}, {'name': 'Ihorombe'}, {'name': 'Atsimo-Atsinanana'}, {'name': 'Anosy'}, {'name': 'Androy'}, {'name': 'Atsimo-Andrefana'}, {'name': 'Fitovinany Region'}, {'name': 'Vatovavy Region'}]}, {'name': 'Marshall Islands', 'countryCode': 'MH', 'countryCodeAlpha3': 'MHL', 'phone': '692', 'currency': 'USD', 'stateProvinces': [{'name': 'Ailinginae Atoll'}, {'name': 'Ailinglaplap Atoll'}, {'name': 'Ailuk Atoll'}, {'name': 'Arno Atoll'}, {'name': 'Aur Atoll'}, {'name': 'Bikar Atoll'}, {'name': 'Bikini Atoll'}, {'name': 'Ebon Atoll'}, {'name': 'Enewetak Atoll'}, {'name': 'Erikub Atoll'}, {'name': 'Jaluit Atoll'}, {'name': 'Kwajalein Atoll'}, {'name': 'Lae Atoll'}, {'name': 'Likiep Atoll'}, {'name': 'Majuro Atoll'}, {'name': 'Maloelap Atoll'}, {'name': 'Mili Atoll'}, {'name': 'Namdrik Atoll'}, {'name': 'Namu Atoll'}, {'name': 'Rongelap Atoll'}, {'name': 'Rongrik Atoll'}, {'name': 'Taka Atoll'}, {'name': 'Bokak Atoll'}, {'name': 'Ujae Atoll'}, {'name': 'Ujelang'}, {'name': 'Utrik Atoll'}, {'name': 'Wotho Atoll'}, {'name': 'Wotje Atoll'}, {'name': 'Jabat Island'}, {'name': 'Jemo Island'}, {'name': 'Kili Island'}, {'name': 'Lib Island'}, {'name': 'Mejit Island'}]}, {'name': 'North Macedonia', 'countryCode': 'MK', 'countryCodeAlpha3': 'MKD', 'phone': '389', 'currency': 'MKD', 'stateProvinces': [{'name': 'Valandovo'}, {'name': 'Resen'}, {'name': 'Kratovo'}, {'name': 'Pehchevo'}, {'name': 'Novo Selo'}, {'name': 'Bosilovo'}, {'name': 'Vasilevo'}, {'name': 'Dojran'}, {'name': 'Bogdanci'}, {'name': 'Konche'}, {'name': 'Makedonska Kamenica'}, {'name': 'Zrnovci'}, {'name': 'Karbinci'}, {'name': 'Demir Kapija'}, {'name': 'Rosoman'}, {'name': 'Gradsko'}, {'name': 'Lozovo'}, {'name': 'Češinovo-Obleševo'}, {'name': 'Novaci'}, {'name': 'Berovo'}, {'name': 'Bitola'}, {'name': 'Mogila'}, {'name': 'Arachinovo'}, {'name': 'Bogovinje'}, {'name': 'Brvenica'}, {'name': 'Chashka'}, {'name': 'Centar Zhupa'}, {'name': 'Chucher Sandevo'}, {'name': 'Debar'}, {'name': 'Delchevo'}, {'name': 'Demir Hisar'}, {'name': 'Dolneni'}, {'name': 'Gevgelija'}, {'name': 'Gostivar'}, {'name': 'Ilinden'}, {'name': 'Jegunovce'}, {'name': 'Kavadarci'}, {'name': 'Kichevo'}, {'name': 'Kochani'}, {'name': 'Kriva Palanka'}, {'name': 'Krivogashtani'}, {'name': 'Krushevo'}, {'name': 'Kumanovo'}, {'name': 'Lipkovo'}, {'name': 'Makedonski Brod'}, {'name': 'Negotino'}, {'name': 'Ohrid'}, {'name': 'Petrovec'}, {'name': 'Plasnica'}, {'name': 'Prilep'}, {'name': 'Probishtip'}, {'name': 'Radovish'}, {'name': 'Rankovce'}, {'name': 'Mavrovo and Rostuša'}, {'name': 'Sopište'}, {'name': 'Staro Nagorichane'}, {'name': 'Shtip'}, {'name': 'Struga'}, {'name': 'Strumica'}, {'name': 'Studenichani'}, {'name': 'Sveti Nikole'}, {'name': 'Tearce'}, {'name': 'Tetovo'}, {'name': 'Veles'}, {'name': 'Vevchani'}, {'name': 'Vinica'}, {'name': 'Vrapchishte'}, {'name': 'Zelenikovo'}, {'name': 'Zhelino'}, {'name': 'Debarca'}, {'name': 'Grad Skopje'}]}, {'name': 'Mali', 'countryCode': 'ML', 'countryCodeAlpha3': 'MLI', 'phone': '223', 'currency': 'XOF', 'stateProvinces': [{'name': 'Tombouctou'}, {'name': 'Sikasso'}, {'name': 'Ségou'}, {'name': 'Mopti'}, {'name': 'Koulikoro'}, {'name': 'Kayes'}, {'name': 'Gao'}, {'name': 'Bamako'}, {'name': 'Kidal'}, {'name': 'Taoudénit'}, {'name': 'Ménaka'}]}, {'name': 'Myanmar', 'countryCode': 'MM', 'countryCodeAlpha3': 'MMR', 'phone': '95', 'currency': 'MMK', 'stateProvinces': [{'name': 'Tanintharyi'}, {'name': 'Shan'}, {'name': 'Sagain'}, {'name': 'Yangon'}, {'name': 'Rakhine'}, {'name': 'Bago'}, {'name': 'Mon'}, {'name': 'Mandalay'}, {'name': 'Magway'}, {'name': 'Kayah'}, {'name': 'Kayin'}, {'name': 'Kachin'}, {'name': 'Ayeyarwady'}, {'name': 'Chin'}, {'name': 'Nay Pyi Taw'}]}, {'name': 'Mongolia', 'countryCode': 'MN', 'countryCodeAlpha3': 'MNG', 'phone': '976', 'currency': 'MNT', 'stateProvinces': [{'name': 'Uvs'}, {'name': 'Hovd'}, {'name': 'Govĭ-Altay'}, {'name': 'Dzabkhan'}, {'name': 'Bayan-Ölgiy'}, {'name': 'Bayanhongor'}, {'name': 'Ulaanbaatar'}, {'name': 'Central Aimak'}, {'name': 'Sühbaatar'}, {'name': 'Selenge'}, {'name': 'Övörhangay'}, {'name': 'Ömnögovĭ'}, {'name': 'Hövsgöl'}, {'name': 'Hentiy'}, {'name': 'Middle Govĭ'}, {'name': 'East Gobi Aymag'}, {'name': 'East Aimak'}, {'name': 'Bulgan'}, {'name': 'Arhangay'}, {'name': 'Darhan Uul'}, {'name': 'Govĭ-Sumber'}, {'name': 'Orhon'}]}, {'name': 'Macao', 'countryCode': 'MO', 'countryCodeAlpha3': 'MAC', 'phone': '853', 'currency': 'MOP', 'stateProvinces': [{'name': 'Nossa Senhora de Fátima'}, {'name': 'Santo António'}, {'name': 'São Lázaro'}, {'name': 'Sé'}, {'name': 'São Lourenço'}, {'name': 'Nossa Senhora do Carmo'}, {'name': 'Cotai'}, {'name': 'São Francisco Xavier'}]}, {'name': 'Northern Mariana Islands', 'countryCode': 'MP', 'countryCodeAlpha3': 'MNP', 'phone': '+1-670', 'currency': 'USD', 'stateProvinces': [{'name': 'Rota'}, {'name': 'Saipan'}, {'name': 'Tinian'}, {'name': 'Northern Islands'}]}, {'name': 'Martinique', 'countryCode': 'MQ', 'countryCodeAlpha3': 'MTQ', 'phone': '596', 'currency': 'EUR', 'stateProvinces': [{'name': 'Martinique'}]}, {'name': 'Mauritania', 'countryCode': 'MR', 'countryCodeAlpha3': 'MRT', 'phone': '222', 'currency': 'MRU', 'stateProvinces': [{'name': 'Trarza'}, {'name': 'Tiris Zemmour'}, {'name': 'Tagant'}, {'name': 'Inchiri'}, {'name': 'Hodh El Gharbi'}, {'name': 'Hodh Ech Chargi'}, {'name': 'Guidimaka'}, {'name': 'Gorgol'}, {'name': 'Dakhlet Nouadhibou'}, {'name': 'Brakna'}, {'name': 'Assaba'}, {'name': 'Adrar'}, {'name': 'Nouakchott Ouest'}, {'name': 'Nouakchott Nord'}, {'name': 'Nouakchott Sud'}]}, {'name': 'Montserrat', 'countryCode': 'MS', 'countryCodeAlpha3': 'MSR', 'phone': '+1-664', 'currency': 'XCD', 'stateProvinces': [{'name': 'Saint Peter'}, {'name': 'Saint Georges'}, {'name': 'Saint Anthony'}]}, {'name': 'Malta', 'countryCode': 'MT', 'countryCodeAlpha3': 'MLT', 'phone': '356', 'currency': 'EUR', 'stateProvinces': [{'name': 'Attard'}, {'name': 'Balzan'}, {'name': 'Il-Birgu'}, {'name': 'Birkirkara'}, {'name': 'Birżebbuġa'}, {'name': 'Bormla'}, {'name': 'Dingli'}, {'name': 'Il-Fgura'}, {'name': 'Floriana'}, {'name': 'Il-Fontana'}, {'name': 'Għajnsielem'}, {'name': 'L-Għarb'}, {'name': 'Ħal Għargħur'}, {'name': 'L-Għasri'}, {'name': 'Ħal Għaxaq'}, {'name': 'Il-Gudja'}, {'name': 'Il-Gżira'}, {'name': 'Il-Ħamrun'}, {'name': 'L-Iklin'}, {'name': 'L-Imdina'}, {'name': 'L-Imġarr'}, {'name': 'L-Imqabba'}, {'name': 'L-Imsida'}, {'name': 'Mtarfa'}, {'name': 'Senglea'}, {'name': 'Il-Kalkara'}, {'name': 'Ta’ Kerċem'}, {'name': 'Kirkop'}, {'name': 'Lija'}, {'name': 'Luqa'}, {'name': 'Il-Marsa'}, {'name': 'Marsaskala'}, {'name': 'Marsaxlokk'}, {'name': 'Il-Mellieħa'}, {'name': 'Il-Mosta'}, {'name': 'Il-Munxar'}, {'name': 'In-Nadur'}, {'name': 'In-Naxxar'}, {'name': 'Paola'}, {'name': 'Pembroke'}, {'name': 'Tal-Pietà'}, {'name': 'Il-Qala'}, {'name': 'Qormi'}, {'name': 'Il-Qrendi'}, {'name': 'Ir-Rabat'}, {'name': 'Victoria'}, {'name': 'Safi'}, {'name': 'Saint John'}, {'name': 'Saint Julian'}, {'name': 'Saint Lawrence'}, {'name': 'Saint Lucia'}, {'name': 'Saint Paul’s Bay'}, {'name': 'Saint Venera'}, {'name': 'Sannat'}, {'name': 'Is-Siġġiewi'}, {'name': 'Tas-Sliema'}, {'name': 'Is-Swieqi'}, {'name': 'Tarxien'}, {'name': 'Ta’ Xbiex'}, {'name': 'Ix-Xagħra'}, {'name': 'Ix-Xewkija'}, {'name': 'Ix-Xgħajra'}, {'name': 'Ħaż-Żabbar'}, {'name': 'Ħaż-Żebbuġ'}, {'name': 'Iż-Żebbuġ'}, {'name': 'Iż-Żejtun'}, {'name': 'Iż-Żurrieq'}, {'name': 'Valletta'}]}, {'name': 'Mauritius', 'countryCode': 'MU', 'countryCodeAlpha3': 'MUS', 'phone': '230', 'currency': 'MUR', 'stateProvinces': [{'name': 'Agalega Islands'}, {'name': 'Savanne'}, {'name': 'Rivière du Rempart'}, {'name': 'Port Louis'}, {'name': 'Plaines Wilhems'}, {'name': 'Pamplemousses'}, {'name': 'Moka'}, {'name': 'Grand Port'}, {'name': 'Flacq'}, {'name': 'Black River'}, {'name': 'Cargados Carajos'}, {'name': 'Rodrigues'}]}, {'name': 'Maldives', 'countryCode': 'MV', 'countryCodeAlpha3': 'MDV', 'phone': '960', 'currency': 'MVR', 'stateProvinces': [{'name': 'Vaavu Atholhu'}, {'name': 'Thaa Atholhu'}, {'name': 'Shaviyani Atholhu'}, {'name': 'Seenu'}, {'name': 'Raa Atoll'}, {'name': 'Noonu Atoll'}, {'name': 'Gnyaviyani Atoll'}, {'name': 'Meemu Atholhu'}, {'name': 'Faadhippolhu Atoll'}, {'name': 'Laamu'}, {'name': 'Kaafu Atoll'}, {'name': 'Haa Dhaalu Atholhu'}, {'name': 'Haa Alifu Atholhu'}, {'name': 'Gaafu Dhaalu Atoll'}, {'name': 'Gaafu Alif Atoll'}, {'name': 'Faafu Atholhu'}, {'name': 'Dhaalu Atholhu'}, {'name': 'Baa Atholhu'}, {'name': 'Northern Ari Atoll'}, {'name': 'Male'}, {'name': 'Southern Ari Atoll'}]}, {'name': 'Malawi', 'countryCode': 'MW', 'countryCodeAlpha3': 'MWI', 'phone': '265', 'currency': 'MWK', 'stateProvinces': [{'name': 'Southern Region'}, {'name': 'Northern Region'}, {'name': 'Central Region'}]}, {'name': 'Mexico', 'countryCode': 'MX', 'countryCodeAlpha3': 'MEX', 'phone': '52', 'currency': 'MXN', 'stateProvinces': [{'name': 'Yucatán'}, {'name': 'Veracruz'}, {'name': 'Tlaxcala'}, {'name': 'Tamaulipas'}, {'name': 'Tabasco'}, {'name': 'Quintana Roo'}, {'name': 'Querétaro'}, {'name': 'Puebla'}, {'name': 'Oaxaca'}, {'name': 'Nuevo León'}, {'name': 'Morelos'}, {'name': 'México'}, {'name': 'Hidalgo'}, {'name': 'Guerrero'}, {'name': 'Mexico City'}, {'name': 'Chiapas'}, {'name': 'Campeche'}, {'name': 'Zacatecas'}, {'name': 'Sonora'}, {'name': 'Sinaloa'}, {'name': 'San Luis Potosí'}, {'name': 'Nayarit'}, {'name': 'Michoacán'}, {'name': 'Jalisco'}, {'name': 'Guanajuato'}, {'name': 'Durango'}, {'name': 'Colima'}, {'name': 'Coahuila'}, {'name': 'Chihuahua'}, {'name': 'Baja California Sur'}, {'name': 'Baja California'}, {'name': 'Aguascalientes'}]}, {'name': 'Malaysia', 'countryCode': 'MY', 'countryCodeAlpha3': 'MYS', 'phone': '60', 'currency': 'MYR', 'stateProvinces': [{'name': 'Melaka'}, {'name': 'Terengganu'}, {'name': 'Selangor'}, {'name': 'Sarawak'}, {'name': 'Sabah'}, {'name': 'Perlis'}, {'name': 'Perak'}, {'name': 'Pahang'}, {'name': 'Negeri Sembilan'}, {'name': 'Kelantan'}, {'name': 'Kuala Lumpur'}, {'name': 'Penang'}, {'name': 'Kedah'}, {'name': 'Johor'}, {'name': 'Labuan'}, {'name': 'Putrajaya'}]}, {'name': 'Mozambique', 'countryCode': 'MZ', 'countryCodeAlpha3': 'MOZ', 'phone': '258', 'currency': 'MZN', 'stateProvinces': [{'name': 'Zambézia'}, {'name': 'Tete'}, {'name': 'Sofala'}, {'name': 'Niassa'}, {'name': 'Nampula'}, {'name': 'Maputo Province'}, {'name': 'Manica'}, {'name': 'Inhambane'}, {'name': 'Gaza'}, {'name': 'Cabo Delgado'}, {'name': 'Maputo City'}]}, {'name': 'Namibia', 'countryCode': 'NA', 'countryCodeAlpha3': 'NAM', 'phone': '264', 'currency': 'NAD', 'stateProvinces': [{'name': 'Zambezi'}, {'name': 'Khomas'}, {'name': 'Erongo'}, {'name': 'Hardap'}, {'name': 'Karas'}, {'name': 'Kunene'}, {'name': 'Ohangwena'}, {'name': 'Omaheke'}, {'name': 'Omusati'}, {'name': 'Oshana'}, {'name': 'Oshikoto'}, {'name': 'Otjozondjupa'}, {'name': 'Kavango East'}, {'name': 'Kavango West'}]}, {'name': 'New Caledonia', 'countryCode': 'NC', 'countryCodeAlpha3': 'NCL', 'phone': '687', 'currency': 'XPF', 'stateProvinces': [{'name': 'South Province'}, {'name': 'North Province'}, {'name': 'Loyalty Islands'}]}, {'name': 'Niger', 'countryCode': 'NE', 'countryCodeAlpha3': 'NER', 'phone': '227', 'currency': 'XOF', 'stateProvinces': [{'name': 'Zinder'}, {'name': 'Tahoua'}, {'name': 'Maradi'}, {'name': 'Dosso'}, {'name': 'Diffa'}, {'name': 'Agadez'}, {'name': 'Tillabéri'}, {'name': 'Niamey'}]}, {'name': 'Norfolk Island', 'countryCode': 'NF', 'countryCodeAlpha3': 'NFK', 'phone': '672', 'currency': 'AUD', 'stateProvinces': None}, {'name': 'Nigeria', 'countryCode': 'NG', 'countryCodeAlpha3': 'NGA', 'phone': '234', 'currency': 'NGN', 'stateProvinces': [{'name': 'Sokoto'}, {'name': 'Rivers'}, {'name': 'Plateau'}, {'name': 'Oyo'}, {'name': 'Ondo'}, {'name': 'Ogun'}, {'name': 'Niger'}, {'name': 'Lagos'}, {'name': 'Kwara'}, {'name': 'Katsina'}, {'name': 'Kano'}, {'name': 'Kaduna'}, {'name': 'Imo'}, {'name': 'Cross River'}, {'name': 'Borno'}, {'name': 'Benue'}, {'name': 'Bauchi'}, {'name': 'Anambra'}, {'name': 'Akwa Ibom'}, {'name': 'FCT'}, {'name': 'Abia'}, {'name': 'Delta'}, {'name': 'Adamawa'}, {'name': 'Edo'}, {'name': 'Enugu'}, {'name': 'Jigawa'}, {'name': 'Bayelsa'}, {'name': 'Ebonyi'}, {'name': 'Ekiti'}, {'name': 'Gombe'}, {'name': 'Nassarawa'}, {'name': 'Zamfara'}, {'name': 'Kebbi'}, {'name': 'Kogi'}, {'name': 'Osun'}, {'name': 'Taraba'}, {'name': 'Yobe'}]}, {'name': 'Nicaragua', 'countryCode': 'NI', 'countryCodeAlpha3': 'NIC', 'phone': '505', 'currency': 'NIO', 'stateProvinces': [{'name': 'Rivas'}, {'name': 'Río San Juan Department'}, {'name': 'Nueva Segovia Department'}, {'name': 'Matagalpa Department'}, {'name': 'Masaya Department'}, {'name': 'Managua Department'}, {'name': 'Madriz Department'}, {'name': 'León Department'}, {'name': 'Jinotega Department'}, {'name': 'Granada Department'}, {'name': 'Estelí Department'}, {'name': 'Chontales Department'}, {'name': 'Chinandega'}, {'name': 'Carazo Department'}, {'name': 'Boaco Department'}, {'name': 'North Caribbean Coast'}, {'name': 'South Caribbean Coast'}]}, {'name': 'Netherlands', 'countryCode': 'NL', 'countryCodeAlpha3': 'NLD', 'phone': '31', 'currency': 'EUR', 'stateProvinces': [{'name': 'South Holland'}, {'name': 'Zeeland'}, {'name': 'Utrecht'}, {'name': 'Overijssel'}, {'name': 'North Holland'}, {'name': 'North Brabant'}, {'name': 'Limburg'}, {'name': 'Groningen'}, {'name': 'Gelderland'}, {'name': 'Friesland'}, {'name': 'Drenthe'}, {'name': 'Flevoland'}]}, {'name': 'Norway', 'countryCode': 'NO', 'countryCodeAlpha3': 'NOR', 'phone': '47', 'currency': 'NOK', 'stateProvinces': [{'name': 'Rogaland'}, {'name': 'Oslo'}, {'name': 'Nordland'}, {'name': 'Møre og Romsdal'}, {'name': 'Trøndelag'}, {'name': 'Viken'}, {'name': 'Agder'}, {'name': 'Troms og Finnmark'}, {'name': 'Innlandet'}, {'name': 'Vestfold og Telemark'}, {'name': 'Vestland'}]}, {'name': 'Nepal', 'countryCode': 'NP', 'countryCodeAlpha3': 'NPL', 'phone': '977', 'currency': 'NPR', 'stateProvinces': [{'name': 'Province 1'}, {'name': 'Province 2'}, {'name': 'Bagmati Province'}, {'name': 'Province 4'}, {'name': 'Lumbini Province'}, {'name': 'Karnali Pradesh'}, {'name': 'Sudurpashchim Pradesh'}]}, {'name': 'Nauru', 'countryCode': 'NR', 'countryCodeAlpha3': 'NRU', 'phone': '674', 'currency': 'AUD', 'stateProvinces': [{'name': 'Yaren'}, {'name': 'Uaboe'}, {'name': 'Nibok'}, {'name': 'Meneng'}, {'name': 'Ijuw'}, {'name': 'Ewa'}, {'name': 'Denigomodu'}, {'name': 'Buada'}, {'name': 'Boe'}, {'name': 'Baiti'}, {'name': 'Anibare'}, {'name': 'Anetan'}, {'name': 'Anabar'}, {'name': 'Aiwo'}]}, {'name': 'Niue', 'countryCode': 'NU', 'countryCodeAlpha3': 'NIU', 'phone': '683', 'currency': 'NZD', 'stateProvinces': None}, {'name': 'New Zealand', 'countryCode': 'NZ', 'countryCodeAlpha3': 'NZL', 'phone': '64', 'currency': 'NZD', 'stateProvinces': [{'name': 'Wellington'}, {'name': 'Manawatu-Wanganui'}, {'name': 'Waikato'}, {'name': 'Tasman'}, {'name': 'Taranaki'}, {'name': 'Southland'}, {'name': 'Bay of Plenty'}, {'name': 'Northland'}, {'name': 'Marlborough'}, {'name': \"Hawke's Bay\"}, {'name': 'Gisborne'}, {'name': 'Canterbury'}, {'name': 'Auckland'}, {'name': 'Chatham Islands'}, {'name': 'Nelson'}, {'name': 'Otago'}, {'name': 'West Coast'}]}, {'name': 'Oman', 'countryCode': 'OM', 'countryCodeAlpha3': 'OMN', 'phone': '968', 'currency': 'OMR', 'stateProvinces': [{'name': 'Ad Dakhiliyah'}, {'name': 'Al Batinah South'}, {'name': 'Al Wusta Governorate'}, {'name': 'Southeastern Governorate'}, {'name': 'Ad Dhahirah'}, {'name': 'Muscat'}, {'name': 'Musandam Governorate'}, {'name': 'Dhofar'}, {'name': 'Al Buraimi'}, {'name': 'Northeastern Governorate'}, {'name': 'Al Batinah North'}]}, {'name': 'Panama', 'countryCode': 'PA', 'countryCodeAlpha3': 'PAN', 'phone': '507', 'currency': 'PAB', 'stateProvinces': [{'name': 'Veraguas'}, {'name': 'Guna Yala'}, {'name': 'Panamá'}, {'name': 'Los Santos'}, {'name': 'Herrera'}, {'name': 'Darién'}, {'name': 'Colón'}, {'name': 'Coclé'}, {'name': 'Chiriquí Province'}, {'name': 'Bocas del Toro Province'}, {'name': 'Emberá'}, {'name': 'Ngöbe-Buglé'}, {'name': 'Panamá Oeste Province'}, {'name': 'PA.NT'}]}, {'name': 'Peru', 'countryCode': 'PE', 'countryCodeAlpha3': 'PER', 'phone': '51', 'currency': 'PEN', 'stateProvinces': [{'name': 'Ucayali'}, {'name': 'Tumbes'}, {'name': 'San Martín'}, {'name': 'Piura'}, {'name': 'Loreto'}, {'name': 'Lambayeque'}, {'name': 'La Libertad'}, {'name': 'Huanuco'}, {'name': 'Cajamarca'}, {'name': 'Ancash'}, {'name': 'Amazonas'}, {'name': 'Tacna'}, {'name': 'Puno'}, {'name': 'Pasco'}, {'name': 'Moquegua'}, {'name': 'Madre de Dios'}, {'name': 'Lima'}, {'name': 'Lima region'}, {'name': 'Junin'}, {'name': 'Ica'}, {'name': 'Huancavelica'}, {'name': 'Cusco'}, {'name': 'Callao'}, {'name': 'Ayacucho'}, {'name': 'Arequipa'}, {'name': 'Apurímac'}]}, {'name': 'French Polynesia', 'countryCode': 'PF', 'countryCodeAlpha3': 'PYF', 'phone': '689', 'currency': 'XPF', 'stateProvinces': [{'name': 'Îles Marquises'}, {'name': 'Îles Tuamotu-Gambier'}, {'name': 'Leeward Islands'}, {'name': 'Îles du Vent'}, {'name': 'Îles Australes'}]}, {'name': 'Papua New Guinea', 'countryCode': 'PG', 'countryCodeAlpha3': 'PNG', 'phone': '675', 'currency': 'PGK', 'stateProvinces': [{'name': 'West New Britain'}, {'name': 'Western Province'}, {'name': 'Western Highlands'}, {'name': 'Southern Highlands'}, {'name': 'Sandaun'}, {'name': 'Bougainville'}, {'name': 'Northern Province'}, {'name': 'New Ireland'}, {'name': 'National Capital'}, {'name': 'Morobe'}, {'name': 'Manus'}, {'name': 'Madang'}, {'name': 'Gulf'}, {'name': 'Enga'}, {'name': 'East Sepik'}, {'name': 'East New Britain'}, {'name': 'Eastern Highlands'}, {'name': 'Chimbu'}, {'name': 'Milne Bay'}, {'name': 'Central Province'}, {'name': 'Hela'}, {'name': 'Jiwaka'}]}, {'name': 'Philippines', 'countryCode': 'PH', 'countryCodeAlpha3': 'PHL', 'phone': '63', 'currency': 'PHP', 'stateProvinces': [{'name': 'Autonomous Region in Muslim Mindanao'}, {'name': 'Northern Mindanao'}, {'name': 'Mimaropa'}, {'name': 'Cagayan Valley'}, {'name': 'Soccsksargen'}, {'name': 'Caraga'}, {'name': 'Cordillera'}, {'name': 'Ilocos'}, {'name': 'Calabarzon'}, {'name': 'Western Visayas'}, {'name': 'Central Luzon'}, {'name': 'Central Visayas'}, {'name': 'Eastern Visayas'}, {'name': 'Zamboanga Peninsula'}, {'name': 'Davao'}, {'name': 'Bicol'}, {'name': 'Metro Manila'}]}, {'name': 'Pakistan', 'countryCode': 'PK', 'countryCodeAlpha3': 'PAK', 'phone': '92', 'currency': 'PKR', 'stateProvinces': [{'name': 'Islamabad'}, {'name': 'Sindh'}, {'name': 'Punjab'}, {'name': 'Khyber Pakhtunkhwa'}, {'name': 'Gilgit-Baltistan'}, {'name': 'Balochistan'}, {'name': 'Azad Kashmir'}]}, {'name': 'Poland', 'countryCode': 'PL', 'countryCodeAlpha3': 'POL', 'phone': '48', 'currency': 'PLN', 'stateProvinces': [{'name': 'Lublin'}, {'name': 'Lesser Poland'}, {'name': 'Mazovia'}, {'name': 'Subcarpathia'}, {'name': 'Podlasie'}, {'name': 'Świętokrzyskie'}, {'name': 'Warmia-Masuria'}, {'name': 'Lower Silesia'}, {'name': 'Łódź Voivodeship'}, {'name': 'Lubusz'}, {'name': 'Opole Voivodeship'}, {'name': 'Pomerania'}, {'name': 'Silesia'}, {'name': 'Greater Poland'}, {'name': 'West Pomerania'}, {'name': 'Kujawsko-Pomorskie'}]}, {'name': 'Saint Pierre and Miquelon', 'countryCode': 'PM', 'countryCodeAlpha3': 'SPM', 'phone': '508', 'currency': 'EUR', 'stateProvinces': [{'name': 'Saint-Pierre'}, {'name': 'Miquelon-Langlade'}]}, {'name': 'Pitcairn', 'countryCode': 'PN', 'countryCodeAlpha3': 'PCN', 'phone': '870', 'currency': 'NZD', 'stateProvinces': None}, {'name': 'Puerto Rico', 'countryCode': 'PR', 'countryCodeAlpha3': 'PRI', 'phone': '+1-787 and 1-939', 'currency': 'USD', 'stateProvinces': [{'name': 'Adjuntas'}, {'name': 'Aguada'}, {'name': 'Aguadilla'}, {'name': 'Aguas Buenas'}, {'name': 'Aibonito'}, {'name': 'Añasco'}, {'name': 'Arecibo'}, {'name': 'Arroyo'}, {'name': 'Barceloneta'}, {'name': 'Barranquitas'}, {'name': 'Bayamón'}, {'name': 'Cabo Rojo'}, {'name': 'Caguas'}, {'name': 'Camuy'}, {'name': 'Canóvanas'}, {'name': 'Carolina'}, {'name': 'Cataño'}, {'name': 'Cayey'}, {'name': 'Ceiba'}, {'name': 'Ciales'}, {'name': 'Cidra'}, {'name': 'Coamo'}, {'name': 'Comerío'}, {'name': 'Corozal'}, {'name': 'Culebra'}, {'name': 'Dorado'}, {'name': 'Fajardo'}, {'name': 'Florida'}, {'name': 'Guánica'}, {'name': 'Guayama'}, {'name': 'Guayanilla'}, {'name': 'Guaynabo'}, {'name': 'Gurabo'}, {'name': 'Hatillo'}, {'name': 'Hormigueros'}, {'name': 'Humacao'}, {'name': 'Isabela'}, {'name': 'Jayuya'}, {'name': 'Juana Díaz'}, {'name': 'Juncos'}, {'name': 'Lajas'}, {'name': 'Lares'}, {'name': 'Las Marías'}, {'name': 'Las Piedras'}, {'name': 'Loíza'}, {'name': 'Luquillo'}, {'name': 'Manatí'}, {'name': 'Maricao'}, {'name': 'Maunabo'}, {'name': 'Mayagüez'}, {'name': 'Moca'}, {'name': 'Morovis'}, {'name': 'Naguabo'}, {'name': 'Naranjito'}, {'name': 'Orocovis'}, {'name': 'Patillas'}, {'name': 'Peñuelas'}, {'name': 'Ponce'}, {'name': 'Rincón'}, {'name': 'Quebradillas'}, {'name': 'Río Grande'}, {'name': 'Sabana Grande'}, {'name': 'Salinas'}, {'name': 'San Germán'}, {'name': 'San Juan'}, {'name': 'San Lorenzo'}, {'name': 'San Sebastián'}, {'name': 'Santa Isabel'}, {'name': 'Toa Alta'}, {'name': 'Toa Baja'}, {'name': 'Trujillo Alto'}, {'name': 'Utuado'}, {'name': 'Vega Alta'}, {'name': 'Vega Baja'}, {'name': 'Villalba'}, {'name': 'Yabucoa'}, {'name': 'Yauco'}, {'name': 'Vieques'}]}, {'name': 'Palestinian Territory', 'countryCode': 'PS', 'countryCodeAlpha3': 'PSE', 'phone': '970', 'currency': 'ILS', 'stateProvinces': [{'name': 'Gaza Strip'}, {'name': 'West Bank'}]}, {'name': 'Portugal', 'countryCode': 'PT', 'countryCodeAlpha3': 'PRT', 'phone': '351', 'currency': 'EUR', 'stateProvinces': [{'name': 'District of Setúbal'}, {'name': 'Santarém'}, {'name': 'Portalegre'}, {'name': 'Lisbon'}, {'name': 'Leiria'}, {'name': 'Faro'}, {'name': 'Évora'}, {'name': 'Castelo Branco'}, {'name': 'Beja'}, {'name': 'Madeira'}, {'name': 'Viseu'}, {'name': 'Vila Real'}, {'name': 'Viana do Castelo'}, {'name': 'Porto'}, {'name': 'Guarda'}, {'name': 'Coimbra'}, {'name': 'Bragança'}, {'name': 'Braga'}, {'name': 'Aveiro'}, {'name': 'Azores'}]}, {'name': 'Palau', 'countryCode': 'PW', 'countryCodeAlpha3': 'PLW', 'phone': '680', 'currency': 'USD', 'stateProvinces': [{'name': 'Ngatpang'}, {'name': 'Sonsorol'}, {'name': 'Kayangel'}, {'name': 'Hatohobei'}, {'name': 'Aimeliik'}, {'name': 'Airai'}, {'name': 'Angaur'}, {'name': 'Koror'}, {'name': 'Melekeok'}, {'name': 'Ngaraard'}, {'name': 'Ngchesar'}, {'name': 'Ngarchelong'}, {'name': 'Ngardmau'}, {'name': 'Ngaremlengui'}, {'name': 'Ngiwal'}, {'name': 'Peleliu'}]}, {'name': 'Paraguay', 'countryCode': 'PY', 'countryCodeAlpha3': 'PRY', 'phone': '595', 'currency': 'PYG', 'stateProvinces': [{'name': 'San Pedro'}, {'name': 'Presidente Hayes'}, {'name': 'Paraguarí'}, {'name': 'Ñeembucú'}, {'name': 'Misiones'}, {'name': 'Itapúa'}, {'name': 'Guairá'}, {'name': 'Cordillera'}, {'name': 'Concepción'}, {'name': 'Central'}, {'name': 'Canindeyú'}, {'name': 'Caazapá'}, {'name': 'Caaguazú'}, {'name': 'Amambay'}, {'name': 'Alto Paraná'}, {'name': 'Alto Paraguay'}, {'name': 'Asunción'}, {'name': 'Boquerón'}]}, {'name': 'Qatar', 'countryCode': 'QA', 'countryCodeAlpha3': 'QAT', 'phone': '974', 'currency': 'QAR', 'stateProvinces': [{'name': 'Madīnat ash Shamāl'}, {'name': 'Al Khor'}, {'name': 'Baladīyat Umm Şalāl'}, {'name': 'Baladīyat ar Rayyān'}, {'name': 'Baladīyat ad Dawḩah'}, {'name': 'Al Wakrah'}, {'name': 'Baladīyat az̧ Z̧a‘āyin'}, {'name': 'Al-Shahaniya'}]}, {'name': 'Reunion', 'countryCode': 'RE', 'countryCodeAlpha3': 'REU', 'phone': '262', 'currency': 'EUR', 'stateProvinces': [{'name': 'Réunion'}]}, {'name': 'Romania', 'countryCode': 'RO', 'countryCodeAlpha3': 'ROU', 'phone': '40', 'currency': 'RON', 'stateProvinces': [{'name': 'Vrancea'}, {'name': 'Vâlcea'}, {'name': 'Vaslui'}, {'name': 'Tulcea'}, {'name': 'Timiș'}, {'name': 'Teleorman'}, {'name': 'Suceava'}, {'name': 'Sibiu'}, {'name': 'Satu Mare'}, {'name': 'Sălaj'}, {'name': 'Prahova'}, {'name': 'Olt'}, {'name': 'Neamț'}, {'name': 'Mureș'}, {'name': 'Mehedinți'}, {'name': 'Maramureş'}, {'name': 'Iași'}, {'name': 'Ialomița'}, {'name': 'Hunedoara'}, {'name': 'Harghita'}, {'name': 'Gorj'}, {'name': 'Giurgiu'}, {'name': 'Galați'}, {'name': 'Dolj'}, {'name': 'Dâmbovița'}, {'name': 'Covasna'}, {'name': 'Constanța'}, {'name': 'Cluj'}, {'name': 'Caraș-Severin'}, {'name': 'Călărași'}, {'name': 'Buzău'}, {'name': 'București'}, {'name': 'Brașov'}, {'name': 'Brăila'}, {'name': 'Botoșani'}, {'name': 'Bistrița-Năsăud'}, {'name': 'Bihor'}, {'name': 'Bacău'}, {'name': 'Arges'}, {'name': 'Arad'}, {'name': 'Alba'}, {'name': 'Ilfov'}]}, {'name': 'Serbia', 'countryCode': 'RS', 'countryCodeAlpha3': 'SRB', 'phone': '381', 'currency': 'RSD', 'stateProvinces': [{'name': 'Vojvodina'}, {'name': 'Central Serbia'}]}, {'name': 'Russia', 'countryCode': 'RU', 'countryCodeAlpha3': 'RUS', 'phone': '7', 'currency': 'RUB', 'stateProvinces': [{'name': 'Yaroslavl Oblast'}, {'name': 'Voronezh Oblast'}, {'name': 'Vologda Oblast'}, {'name': 'Volgograd Oblast'}, {'name': 'Ulyanovsk'}, {'name': 'Udmurtiya Republic'}, {'name': 'Tver Oblast'}, {'name': 'Tula Oblast'}, {'name': 'Tatarstan Republic'}, {'name': 'Tambov Oblast'}, {'name': 'Stavropol Kray'}, {'name': 'Smolensk Oblast'}, {'name': 'Saratov Oblast'}, {'name': 'Samara Oblast'}, {'name': 'Ryazan Oblast'}, {'name': 'Rostov'}, {'name': 'Pskov Oblast'}, {'name': 'Perm Krai'}, {'name': 'Penza Oblast'}, {'name': 'Oryol oblast'}, {'name': 'Orenburg Oblast'}, {'name': 'Novgorod Oblast'}, {'name': 'North Ossetia–Alania'}, {'name': 'Nenets'}, {'name': 'Murmansk'}, {'name': 'Moscow'}, {'name': 'Moscow Oblast'}, {'name': 'Mordoviya Republic'}, {'name': 'Mariy-El Republic'}, {'name': 'Lipetsk Oblast'}, {'name': \"Leningradskaya Oblast'\"}, {'name': 'St.-Petersburg'}, {'name': 'Kursk Oblast'}, {'name': 'Krasnodar Krai'}, {'name': 'Kostroma Oblast'}, {'name': 'Komi'}, {'name': 'Kirov Oblast'}, {'name': 'Karelia'}, {'name': 'Karachayevo-Cherkesiya Republic'}, {'name': 'Kaluga Oblast'}, {'name': 'Kalmykiya Republic'}, {'name': 'Kaliningrad Oblast'}, {'name': 'Kabardino-Balkariya Republic'}, {'name': 'Ivanovo Oblast'}, {'name': 'Ingushetiya Republic'}, {'name': 'Nizhny Novgorod Oblast'}, {'name': 'Dagestan'}, {'name': 'Chuvashia'}, {'name': 'Chechnya'}, {'name': 'Bryansk Oblast'}, {'name': 'Belgorod Oblast'}, {'name': 'Bashkortostan Republic'}, {'name': 'Astrakhan Oblast'}, {'name': 'Arkhangelskaya'}, {'name': 'Adygeya Republic'}, {'name': 'Vladimir Oblast'}, {'name': 'Yamalo-Nenets'}, {'name': 'Tyumen Oblast'}, {'name': 'Republic of Tyva'}, {'name': 'Tomsk Oblast'}, {'name': 'Sverdlovsk Oblast'}, {'name': 'Omsk Oblast'}, {'name': 'Novosibirsk Oblast'}, {'name': 'Kurgan Oblast'}, {'name': 'Krasnoyarsk Krai'}, {'name': 'Khanty-Mansia'}, {'name': 'Khakasiya Republic'}, {'name': 'Kuzbass'}, {'name': 'Altai'}, {'name': 'Chelyabinsk'}, {'name': 'Altai Krai'}, {'name': 'Sakha'}, {'name': 'Primorye'}, {'name': 'Khabarovsk'}, {'name': 'Irkutsk Oblast'}, {'name': 'Jewish Autonomous Oblast'}, {'name': 'Amur Oblast'}, {'name': 'Buryatiya Republic'}, {'name': 'Sakhalin Oblast'}, {'name': 'Magadan Oblast'}, {'name': 'Kamchatka'}, {'name': 'Chukotka'}, {'name': 'Zabaykalskiy (Transbaikal) Kray'}]}, {'name': 'Rwanda', 'countryCode': 'RW', 'countryCodeAlpha3': 'RWA', 'phone': '250', 'currency': 'RWF', 'stateProvinces': [{'name': 'Eastern Province'}, {'name': 'Kigali'}, {'name': 'Northern Province'}, {'name': 'Western Province'}, {'name': 'Southern Province'}]}, {'name': 'Saudi Arabia', 'countryCode': 'SA', 'countryCodeAlpha3': 'SAU', 'phone': '966', 'currency': 'SAR', 'stateProvinces': [{'name': 'Tabuk Region'}, {'name': 'Najran Region'}, {'name': 'Mecca Region'}, {'name': 'Jazan Region'}, {'name': \"Ha'il Region\"}, {'name': \"'Asir Region\"}, {'name': 'Eastern Province'}, {'name': 'Riyadh Region'}, {'name': 'Al-Qassim Region'}, {'name': 'Medina Region'}, {'name': 'Al Jawf Region'}, {'name': 'Northern Borders Region'}, {'name': 'Al Bahah Region'}]}, {'name': 'Solomon Islands', 'countryCode': 'SB', 'countryCodeAlpha3': 'SLB', 'phone': '677', 'currency': 'SBD', 'stateProvinces': [{'name': 'Western Province'}, {'name': 'Malaita'}, {'name': 'Isabel'}, {'name': 'Guadalcanal'}, {'name': 'Central Province'}, {'name': 'Temotu'}, {'name': 'Makira'}, {'name': 'Choiseul'}, {'name': 'Rennell and Bellona'}, {'name': 'Honiara'}]}, {'name': 'Seychelles', 'countryCode': 'SC', 'countryCodeAlpha3': 'SYC', 'phone': '248', 'currency': 'SCR', 'stateProvinces': [{'name': 'Takamaka'}, {'name': 'Saint Louis'}, {'name': 'Port Glaud'}, {'name': 'Pointe Larue'}, {'name': 'Plaisance'}, {'name': 'Mont Fleuri'}, {'name': 'Mont Buxton'}, {'name': 'English River'}, {'name': 'La Digue'}, {'name': 'Grand Anse Mahe'}, {'name': 'Grand Anse Praslin'}, {'name': 'Glacis'}, {'name': 'Cascade'}, {'name': 'Bel Ombre'}, {'name': 'Bel Air'}, {'name': 'Beau Vallon'}, {'name': 'Baie Sainte Anne'}, {'name': 'Baie Lazare'}, {'name': 'Anse Royale'}, {'name': 'Anse Etoile'}, {'name': 'Anse Boileau'}, {'name': 'Anse-aux-Pins'}, {'name': 'Les Mamelles'}, {'name': 'Roche Caiman'}, {'name': 'Au Cap'}, {'name': 'Outer Islands'}, {'name': 'Ile Perseverance I'}, {'name': 'Ile Perseverance II'}]}, {'name': 'Sudan', 'countryCode': 'SD', 'countryCodeAlpha3': 'SDN', 'phone': '249', 'currency': 'SDG', 'stateProvinces': [{'name': 'Northern State'}, {'name': 'Khartoum'}, {'name': 'Red Sea'}, {'name': 'Al Jazīrah'}, {'name': 'Al Qaḑārif'}, {'name': 'White Nile'}, {'name': 'Blue Nile'}, {'name': 'Western Darfur'}, {'name': 'West Kordofan State'}, {'name': 'Southern Darfur'}, {'name': 'Southern Kordofan'}, {'name': 'Kassala'}, {'name': 'River Nile'}, {'name': 'Northern Darfur'}, {'name': 'North Kordofan'}, {'name': 'Sinnār'}, {'name': 'Eastern Darfur'}, {'name': 'Central Darfur'}]}, {'name': 'South Sudan', 'countryCode': 'SS', 'countryCodeAlpha3': 'SSD', 'phone': '211', 'currency': 'SSP', 'stateProvinces': [{'name': 'Upper Nile'}, {'name': 'Lakes'}, {'name': 'Unity'}, {'name': 'Central Equatoria'}, {'name': 'Western Equatoria'}, {'name': 'Western Bahr al Ghazal'}, {'name': 'Jonglei'}, {'name': 'Northern Bahr al Ghazal'}, {'name': 'Eastern Equatoria'}, {'name': 'Warrap'}]}, {'name': 'Sweden', 'countryCode': 'SE', 'countryCodeAlpha3': 'SWE', 'phone': '46', 'currency': 'SEK', 'stateProvinces': [{'name': 'Norrbotten'}, {'name': 'Västmanland'}, {'name': 'Västernorrland'}, {'name': 'Västerbotten'}, {'name': 'Värmland'}, {'name': 'Uppsala'}, {'name': 'Stockholm'}, {'name': 'Södermanland'}, {'name': 'Östergötland'}, {'name': 'Örebro'}, {'name': 'Kronoberg'}, {'name': 'Dalarna'}, {'name': 'Kalmar'}, {'name': 'Jönköping'}, {'name': 'Jämtland'}, {'name': 'Halland'}, {'name': 'Gotland'}, {'name': 'Gävleborg'}, {'name': 'Blekinge'}, {'name': 'Skåne'}, {'name': 'Västra Götaland'}]}, {'name': 'Singapore', 'countryCode': 'SG', 'countryCodeAlpha3': 'SGP', 'phone': '65', 'currency': 'SGD', 'stateProvinces': None}, {'name': 'Saint Helena', 'countryCode': 'SH', 'countryCodeAlpha3': 'SHN', 'phone': '290', 'currency': 'SHP', 'stateProvinces': [{'name': 'Ascension'}, {'name': 'Tristan da Cunha'}, {'name': 'Saint Helena'}]}, {'name': 'Slovenia', 'countryCode': 'SI', 'countryCodeAlpha3': 'SVN', 'phone': '386', 'currency': 'EUR', 'stateProvinces': [{'name': 'Žalec'}, {'name': 'Zagorje ob Savi'}, {'name': 'Vrhnika'}, {'name': 'Tržič'}, {'name': 'Trebnje'}, {'name': 'Trbovlje'}, {'name': 'Tolmin'}, {'name': 'Velenje'}, {'name': 'Šmarje pri Jelšah'}, {'name': 'Slovenska Konjice'}, {'name': 'Slovenska Bistrica'}, {'name': 'Slovenj Gradec'}, {'name': 'Škofja Loka'}, {'name': 'Sežana'}, {'name': 'Sevnica'}, {'name': 'Sentjur'}, {'name': 'Ribnica'}, {'name': 'Radovljica'}, {'name': 'Radlje ob Dravi'}, {'name': 'Ptuj'}, {'name': 'Postojna'}, {'name': 'Piran-Pirano'}, {'name': 'Ormož'}, {'name': 'Novo Mesto'}, {'name': 'Nova Gorica'}, {'name': 'Murska Sobota'}, {'name': 'Mozirje'}, {'name': 'Metlika'}, {'name': 'Maribor'}, {'name': 'Logatec'}, {'name': 'Ljutomer'}, {'name': 'Litija'}, {'name': 'Lenart'}, {'name': 'Laško'}, {'name': 'Krško'}, {'name': 'Kranj'}, {'name': 'Koper-Capodistria'}, {'name': 'Kočevje'}, {'name': 'Kamnik'}, {'name': 'Jesenice'}, {'name': 'Izola-Isola'}, {'name': 'Ilirska Bistrica'}, {'name': 'Idrija'}, {'name': 'Hrastnik'}, {'name': 'Grosuplje'}, {'name': 'Gornja Radgona'}, {'name': 'Dravograd'}, {'name': 'Domžale'}, {'name': 'Črnomelj'}, {'name': 'Cerknica'}, {'name': 'Celje'}, {'name': 'Brežice'}, {'name': 'Ajdovščina'}, {'name': 'Hrpelje-Kozina'}, {'name': 'Divača'}, {'name': 'Pivka'}, {'name': 'Loška Dolina'}, {'name': 'Loški Potok'}, {'name': 'Osilnica'}, {'name': 'Velike Lašče'}, {'name': 'Škofljica'}, {'name': 'Ig'}, {'name': 'Brezovica'}, {'name': 'Borovnica'}, {'name': 'Vipava'}, {'name': 'Komen'}, {'name': 'Miren-Kostanjevica'}, {'name': 'Brda'}, {'name': 'Kanal'}, {'name': 'Žiri'}, {'name': 'Cerkno'}, {'name': 'Železniki'}, {'name': 'Gorenja Vas-Poljane'}, {'name': 'Dobrova-Horjul-Polhov Gradec'}, {'name': 'Kobarid'}, {'name': 'Bovec'}, {'name': 'Bohinj'}, {'name': 'Bled'}, {'name': 'Naklo'}, {'name': 'Kranjska Gora'}, {'name': 'Preddvor'}, {'name': 'Cerklje na Gorenjskem'}, {'name': 'Šenčur'}, {'name': 'Vodice'}, {'name': 'Medvode'}, {'name': 'Mengeš'}, {'name': 'Dol pri Ljubljani'}, {'name': 'Moravče'}, {'name': 'Gornji Grad'}, {'name': 'Luče'}, {'name': 'Ravne na Koroškem'}, {'name': 'Mežica'}, {'name': 'Muta'}, {'name': 'Vuzenica'}, {'name': 'Črna na Koroškem'}, {'name': 'Ljubno'}, {'name': 'Šoštanj'}, {'name': 'Šmartno ob Paki'}, {'name': 'Lukovica'}, {'name': 'Radeče'}, {'name': 'Ivančna Gorica'}, {'name': 'Dobrepolje'}, {'name': 'Semič'}, {'name': 'Šentjernej'}, {'name': 'Škocjan'}, {'name': 'Štore'}, {'name': 'Vojnik'}, {'name': 'Vitanje'}, {'name': 'Zreče'}, {'name': 'Mislinja'}, {'name': 'Ruše'}, {'name': 'Kungota'}, {'name': 'Šentilj'}, {'name': 'Pesnica'}, {'name': 'Duplek'}, {'name': 'Rače-Fram'}, {'name': 'Starše'}, {'name': 'Kidričevo'}, {'name': 'Majšperk'}, {'name': 'Videm'}, {'name': 'Rogaška Slatina'}, {'name': 'Rogatec'}, {'name': 'Podčetrtek'}, {'name': 'Kozje'}, {'name': 'Gorišnica'}, {'name': 'Zavrč'}, {'name': 'Dornava'}, {'name': 'Juršinci'}, {'name': 'Sveti Jurij'}, {'name': 'Radenci'}, {'name': 'Puconci'}, {'name': 'Rogašovci'}, {'name': 'Kuzma'}, {'name': 'Gornji Petrovci'}, {'name': 'Moravske Toplice'}, {'name': 'Kobilje'}, {'name': 'Beltinci'}, {'name': 'Turnišče'}, {'name': 'Odranci'}, {'name': 'Črenšovci'}, {'name': 'Nazarje'}, {'name': 'Ljubljana'}, {'name': 'Žirovnica'}, {'name': 'Jezersko'}, {'name': 'Solčava'}, {'name': 'Komenda'}, {'name': 'Horjul'}, {'name': 'Šempeter-Vrtojba'}, {'name': 'Bloke'}, {'name': 'Sodražica'}, {'name': 'Trzin'}, {'name': 'Prevalje'}, {'name': 'Vransko'}, {'name': 'Tabor'}, {'name': 'Braslovče'}, {'name': 'Polzela'}, {'name': 'Prebold'}, {'name': 'Kostel'}, {'name': 'Žužemberk'}, {'name': 'Dolenjske Toplice'}, {'name': 'Mirna Peč'}, {'name': 'Bistrica ob Sotli'}, {'name': 'Dobje'}, {'name': 'Dobrna'}, {'name': 'Oplotnica'}, {'name': 'Podvelka'}, {'name': 'Ribnica na Pohorju'}, {'name': 'Lovrenc na Pohorju'}, {'name': 'Selnica ob Dravi'}, {'name': 'Hoče-Slivnica'}, {'name': 'Miklavž na Dravskem Polju'}, {'name': 'Hajdina'}, {'name': 'Žetale'}, {'name': 'Podlehnik'}, {'name': 'Markovci'}, {'name': 'Destrnik'}, {'name': 'Trnovska Vas'}, {'name': 'Sveti Andraž v Slovenskih Goricah'}, {'name': 'Cerkvenjak'}, {'name': 'Benedikt'}, {'name': 'Sveta Ana'}, {'name': 'Križevci'}, {'name': 'Veržej'}, {'name': 'Velika Polana'}, {'name': 'Lendava-Lendva'}, {'name': 'Dobrovnik-Dobronak'}, {'name': 'Tišina'}, {'name': 'Cankova'}, {'name': 'Grad'}, {'name': 'Hodoš-Hodos'}, {'name': 'Razkrižje'}, {'name': 'Šmartno pri Litiji'}, {'name': 'Šalovci'}, {'name': 'Apače'}, {'name': 'Cirkulane'}, {'name': 'Kostanjevica na Krki'}, {'name': 'Log–Dragomer'}, {'name': 'Makole'}, {'name': 'Mokronog-Trebelno'}, {'name': 'Poljčane'}, {'name': 'Rečica ob Savinji'}, {'name': 'Renče-Vogrsko'}, {'name': 'Središče ob Dravi'}, {'name': 'Straža'}, {'name': 'Sv. Trojica v Slov. Goricah'}, {'name': 'Sveti Tomaž'}, {'name': 'Šentrupert'}, {'name': 'Šmarješke Toplice'}, {'name': 'Sveti Jurij v Slovenskih Goricah'}, {'name': 'Gorje'}, {'name': 'Ankaran'}, {'name': 'Mirna'}]}, {'name': 'Svalbard and Jan Mayen', 'countryCode': 'SJ', 'countryCodeAlpha3': 'SJM', 'phone': '47', 'currency': 'NOK', 'stateProvinces': [{'name': 'Jan Mayen'}, {'name': 'Svalbard'}]}, {'name': 'Slovakia', 'countryCode': 'SK', 'countryCodeAlpha3': 'SVK', 'phone': '421', 'currency': 'EUR', 'stateProvinces': [{'name': 'Košický kraj'}, {'name': 'Prešovský kraj'}, {'name': 'Žilinský kraj'}, {'name': 'Banskobystrický kraj'}, {'name': 'Bratislavský Kraj'}, {'name': 'Nitriansky kraj'}, {'name': 'Trenčiansky kraj'}, {'name': 'Trnava'}]}, {'name': 'Sierra Leone', 'countryCode': 'SL', 'countryCodeAlpha3': 'SLE', 'phone': '232', 'currency': 'SLL', 'stateProvinces': [{'name': 'Western Area'}, {'name': 'Southern Province'}, {'name': 'Northern Province'}, {'name': 'Eastern Province'}, {'name': 'North West'}]}, {'name': 'San Marino', 'countryCode': 'SM', 'countryCodeAlpha3': 'SMR', 'phone': '378', 'currency': 'EUR', 'stateProvinces': [{'name': 'Serravalle'}, {'name': 'Chiesanuova'}, {'name': 'San Marino'}, {'name': 'Acquaviva'}, {'name': 'Borgo Maggiore'}, {'name': 'Domagnano'}, {'name': 'Faetano'}, {'name': 'Fiorentino'}, {'name': 'Montegiardino'}]}, {'name': 'Senegal', 'countryCode': 'SN', 'countryCodeAlpha3': 'SEN', 'phone': '221', 'currency': 'XOF', 'stateProvinces': [{'name': 'Ziguinchor'}, {'name': 'Thiès'}, {'name': 'Tambacounda'}, {'name': 'Saint-Louis'}, {'name': 'Matam'}, {'name': 'Louga'}, {'name': 'Kolda'}, {'name': 'Kaolack'}, {'name': 'Fatick'}, {'name': 'Diourbel'}, {'name': 'Dakar'}, {'name': 'Kaffrine'}, {'name': 'Kédougou'}, {'name': 'Sédhiou'}]}, {'name': 'Somalia', 'countryCode': 'SO', 'countryCodeAlpha3': 'SOM', 'phone': '252', 'currency': 'SOS', 'stateProvinces': [{'name': 'Woqooyi Galbeed'}, {'name': 'Togdheer'}, {'name': 'Lower Shabeelle'}, {'name': 'Middle Shabele'}, {'name': 'Sanaag'}, {'name': 'Nugaal'}, {'name': 'Mudug'}, {'name': 'Lower Juba'}, {'name': 'Middle Juba'}, {'name': 'Hiiraan'}, {'name': 'Gedo'}, {'name': 'Galguduud'}, {'name': 'Bay'}, {'name': 'Bari'}, {'name': 'Banaadir'}, {'name': 'Bakool'}, {'name': 'Awdal'}, {'name': 'Sool'}]}, {'name': 'Suriname', 'countryCode': 'SR', 'countryCodeAlpha3': 'SUR', 'phone': '597', 'currency': 'SRD', 'stateProvinces': [{'name': 'Wanica'}, {'name': 'Sipaliwini'}, {'name': 'Saramacca'}, {'name': 'Paramaribo'}, {'name': 'Para'}, {'name': 'Nickerie'}, {'name': 'Marowijne'}, {'name': 'Coronie'}, {'name': 'Commewijne'}, {'name': 'Brokopondo'}]}, {'name': 'Sao Tome and Principe', 'countryCode': 'ST', 'countryCodeAlpha3': 'STP', 'phone': '239', 'currency': 'STN', 'stateProvinces': [{'name': 'São Tomé Island'}, {'name': 'Príncipe'}]}, {'name': 'El Salvador', 'countryCode': 'SV', 'countryCodeAlpha3': 'SLV', 'phone': '503', 'currency': 'USD', 'stateProvinces': [{'name': 'Usulután'}, {'name': 'Sonsonate'}, {'name': 'San Vicente'}, {'name': 'Santa Ana'}, {'name': 'San Salvador'}, {'name': 'San Miguel'}, {'name': 'Morazán'}, {'name': 'La Unión'}, {'name': 'La Paz'}, {'name': 'La Libertad'}, {'name': 'Cuscatlán'}, {'name': 'Chalatenango'}, {'name': 'Cabañas'}, {'name': 'Ahuachapán'}]}, {'name': 'Sint Maarten', 'countryCode': 'SX', 'countryCodeAlpha3': 'SXM', 'phone': '599', 'currency': 'ANG', 'stateProvinces': None}, {'name': 'Syria', 'countryCode': 'SY', 'countryCodeAlpha3': 'SYR', 'phone': '963', 'currency': 'SYP', 'stateProvinces': [{'name': 'Tartus'}, {'name': 'Dimashq'}, {'name': 'Idlib'}, {'name': 'Homs'}, {'name': 'Hama'}, {'name': 'Aleppo'}, {'name': 'Rif-dimashq'}, {'name': 'Deir ez-Zor'}, {'name': 'Daraa'}, {'name': 'As-Suwayda'}, {'name': 'Ar-Raqqah'}, {'name': 'Quneitra'}, {'name': 'Latakia'}, {'name': 'Al-Hasakah'}]}, {'name': 'Eswatini', 'countryCode': 'SZ', 'countryCodeAlpha3': 'SWZ', 'phone': '268', 'currency': 'SZL', 'stateProvinces': [{'name': 'Shiselweni'}, {'name': 'Manzini'}, {'name': 'Lubombo'}, {'name': 'Hhohho'}]}, {'name': 'Turks and Caicos Islands', 'countryCode': 'TC', 'countryCodeAlpha3': 'TCA', 'phone': '+1-649', 'currency': 'USD', 'stateProvinces': None}, {'name': 'Chad', 'countryCode': 'TD', 'countryCodeAlpha3': 'TCD', 'phone': '235', 'currency': 'XAF', 'stateProvinces': [{'name': 'Salamat'}, {'name': 'Ouadaï'}, {'name': 'Wadi Fira'}, {'name': 'Tandjilé'}, {'name': 'Moyen-Chari'}, {'name': 'Mayo-Kebbi Est'}, {'name': 'Logone Oriental'}, {'name': 'Logone Occidental'}, {'name': 'Lac'}, {'name': 'Kanem'}, {'name': 'Guéra'}, {'name': 'Chari-Baguirmi'}, {'name': 'Batha'}, {'name': 'Borkou'}, {'name': 'Hadjer-Lamis'}, {'name': 'Mandoul'}, {'name': 'Mayo-Kebbi Ouest'}, {'name': 'N’Djaména'}, {'name': 'Barh el Gazel'}, {'name': 'Sila'}, {'name': 'Tibesti'}, {'name': 'Ennedi-Ouest'}, {'name': 'Ennedi-Est'}]}, {'name': 'French Southern Territories', 'countryCode': 'TF', 'countryCodeAlpha3': 'ATF', 'phone': '', 'currency': 'EUR', 'stateProvinces': [{'name': 'Crozet'}, {'name': 'Kerguelen'}, {'name': 'Saint-Paul-et-Amsterdam'}, {'name': 'Îles Éparses'}, {'name': 'Terre-Adélie'}]}, {'name': 'Togo', 'countryCode': 'TG', 'countryCodeAlpha3': 'TGO', 'phone': '228', 'currency': 'XOF', 'stateProvinces': [{'name': 'Savanes'}, {'name': 'Plateaux'}, {'name': 'Maritime'}, {'name': 'Centrale'}, {'name': 'Kara'}]}, {'name': 'Thailand', 'countryCode': 'TH', 'countryCodeAlpha3': 'THA', 'phone': '66', 'currency': 'THB', 'stateProvinces': [{'name': 'Uthai Thani'}, {'name': 'Trang'}, {'name': 'Tak'}, {'name': 'Surat Thani'}, {'name': 'Sukhothai'}, {'name': 'Ratchaburi'}, {'name': 'Ranong'}, {'name': 'Prachuap Khiri Khan'}, {'name': 'Phuket'}, {'name': 'Phetchaburi'}, {'name': 'Phang Nga'}, {'name': 'Mae Hong Son'}, {'name': 'Lamphun'}, {'name': 'Lampang'}, {'name': 'Krabi'}, {'name': 'Kanchanaburi'}, {'name': 'Kamphaeng Phet'}, {'name': 'Chumphon'}, {'name': 'Chiang Rai'}, {'name': 'Chiang Mai'}, {'name': 'Yasothon'}, {'name': 'Yala'}, {'name': 'Uttaradit'}, {'name': 'Trat'}, {'name': 'Surin'}, {'name': 'Suphanburi'}, {'name': 'Songkhla'}, {'name': 'Si Sa Ket'}, {'name': 'Sing Buri'}, {'name': 'Satun'}, {'name': 'Saraburi'}, {'name': 'Samut Songkhram'}, {'name': 'Samut Sakhon'}, {'name': 'Samut Prakan'}, {'name': 'Sakon Nakhon'}, {'name': 'Roi Et'}, {'name': 'Rayong'}, {'name': 'Phra Nakhon Si Ayutthaya'}, {'name': 'Phrae'}, {'name': 'Phitsanulok'}, {'name': 'Phichit'}, {'name': 'Phetchabun'}, {'name': 'Phayao'}, {'name': 'Phatthalung'}, {'name': 'Pattani'}, {'name': 'Pathum Thani'}, {'name': 'Nonthaburi'}, {'name': 'Nong Khai'}, {'name': 'Narathiwat'}, {'name': 'Nan'}, {'name': 'Nakhon Si Thammarat'}, {'name': 'Nakhon Sawan'}, {'name': 'Nakhon Ratchasima'}, {'name': 'Nakhon Phanom'}, {'name': 'Nakhon Pathom'}, {'name': 'Nakhon Nayok'}, {'name': 'Mukdahan'}, {'name': 'Maha Sarakham'}, {'name': 'Lopburi'}, {'name': 'Loei'}, {'name': 'Bangkok'}, {'name': 'Khon Kaen'}, {'name': 'Kalasin'}, {'name': 'Chon Buri'}, {'name': 'Chanthaburi'}, {'name': 'Chaiyaphum'}, {'name': 'Chai Nat'}, {'name': 'Chachoengsao'}, {'name': 'Buriram'}, {'name': 'Ang Thong'}, {'name': 'Udon Thani'}, {'name': 'Prachin Buri'}, {'name': 'Ubon Ratchathani'}, {'name': 'Amnat Charoen'}, {'name': 'Nong Bua Lam Phu'}, {'name': 'Sa Kaeo'}, {'name': 'Bueng Kan'}]}, {'name': 'Tajikistan', 'countryCode': 'TJ', 'countryCodeAlpha3': 'TJK', 'phone': '992', 'currency': 'TJS', 'stateProvinces': [{'name': 'Sughd'}, {'name': 'Gorno-Badakhshan'}, {'name': 'Khatlon'}, {'name': 'Republican Subordination'}, {'name': 'Dushanbe'}]}, {'name': 'Tokelau', 'countryCode': 'TK', 'countryCodeAlpha3': 'TKL', 'phone': '690', 'currency': 'NZD', 'stateProvinces': [{'name': 'Nukunonu'}, {'name': 'Fakaofo'}, {'name': 'Atafu'}]}, {'name': 'Timor Leste', 'countryCode': 'TL', 'countryCodeAlpha3': 'TLS', 'phone': '670', 'currency': 'USD', 'stateProvinces': [{'name': 'Viqueque'}, {'name': 'Manufahi'}, {'name': 'Manatuto'}, {'name': 'Liquiçá'}, {'name': 'Lautém'}, {'name': 'Cova Lima'}, {'name': 'Ermera'}, {'name': 'Díli'}, {'name': 'Bobonaro'}, {'name': 'Baucau'}, {'name': 'Oecusse'}, {'name': 'Ainaro'}, {'name': 'Aileu'}]}, {'name': 'Turkmenistan', 'countryCode': 'TM', 'countryCodeAlpha3': 'TKM', 'phone': '993', 'currency': 'TMT', 'stateProvinces': [{'name': 'Balkan'}, {'name': 'Ahal'}, {'name': 'Ashgabat'}, {'name': 'Daşoguz'}, {'name': 'Mary'}, {'name': 'Lebap'}]}, {'name': 'Tunisia', 'countryCode': 'TN', 'countryCodeAlpha3': 'TUN', 'phone': '216', 'currency': 'TND', 'stateProvinces': [{'name': 'Zaghwān'}, {'name': 'Tūnis'}, {'name': 'Tawzar'}, {'name': 'Tataouine'}, {'name': 'Sūsah'}, {'name': 'Silyānah'}, {'name': 'Sīdī Bū Zayd'}, {'name': 'Şafāqis'}, {'name': 'Qibilī'}, {'name': 'Gafsa'}, {'name': 'Qābis'}, {'name': 'Nābul'}, {'name': 'Madanīn'}, {'name': 'Jundūbah'}, {'name': 'Bin ‘Arūs'}, {'name': 'Banzart'}, {'name': 'Bājah'}, {'name': 'Ariana'}, {'name': 'Kairouan'}, {'name': 'Al Qaşrayn'}, {'name': 'Al Munastīr'}, {'name': 'Al Mahdīyah'}, {'name': 'Kef'}, {'name': 'Manouba'}]}, {'name': 'Tonga', 'countryCode': 'TO', 'countryCodeAlpha3': 'TON', 'phone': '676', 'currency': 'TOP', 'stateProvinces': [{'name': 'Vava‘u'}, {'name': 'Tongatapu'}, {'name': 'Ha‘apai'}, {'name': 'ʻEua'}, {'name': 'Niuas'}]}, {'name': 'Turkey', 'countryCode': 'TR', 'countryCodeAlpha3': 'TUR', 'phone': '90', 'currency': 'TRY', 'stateProvinces': [{'name': 'Yozgat'}, {'name': 'Van'}, {'name': 'Uşak'}, {'name': 'Şanlıurfa'}, {'name': 'Tunceli'}, {'name': 'Sivas'}, {'name': 'Siirt'}, {'name': 'Niğde'}, {'name': 'Nevşehir'}, {'name': 'Muş'}, {'name': 'Muğla'}, {'name': 'Mardin'}, {'name': 'Manisa'}, {'name': 'Malatya'}, {'name': 'Kütahya'}, {'name': 'Konya'}, {'name': 'Kırşehir'}, {'name': 'Kayseri'}, {'name': 'Kahramanmaraş'}, {'name': 'İzmir'}, {'name': 'Isparta'}, {'name': 'Mersin'}, {'name': 'Hatay'}, {'name': 'Hakkâri'}, {'name': 'Gaziantep'}, {'name': 'Eskişehir'}, {'name': 'Erzurum'}, {'name': 'Erzincan'}, {'name': 'Elazığ'}, {'name': 'Diyarbakır'}, {'name': 'Denizli'}, {'name': 'Burdur'}, {'name': 'Bitlis'}, {'name': 'Bingöl'}, {'name': 'Bilecik'}, {'name': 'Balıkesir'}, {'name': 'Aydın'}, {'name': 'Antalya'}, {'name': 'Ankara'}, {'name': 'Ağrı'}, {'name': 'Afyonkarahisar'}, {'name': 'Adıyaman'}, {'name': 'Adana'}, {'name': 'Osmaniye'}, {'name': 'Iğdır'}, {'name': 'Aksaray'}, {'name': 'Batman'}, {'name': 'Karaman'}, {'name': 'Kırıkkale'}, {'name': 'Şırnak'}, {'name': 'Kilis'}, {'name': 'Zonguldak'}, {'name': 'Trabzon'}, {'name': 'Tokat'}, {'name': 'Tekirdağ'}, {'name': 'Sinop'}, {'name': 'Samsun'}, {'name': 'Sakarya'}, {'name': 'Rize'}, {'name': 'Ordu'}, {'name': 'Kocaeli'}, {'name': 'Kırklareli'}, {'name': 'Kastamonu'}, {'name': 'Kars'}, {'name': 'Istanbul'}, {'name': 'Gümüşhane'}, {'name': 'Giresun'}, {'name': 'Edirne'}, {'name': 'Çorum'}, {'name': 'Çankırı'}, {'name': 'Canakkale'}, {'name': 'Bursa'}, {'name': 'Bolu'}, {'name': 'Artvin'}, {'name': 'Amasya'}, {'name': 'Bartın'}, {'name': 'Karabük'}, {'name': 'Yalova'}, {'name': 'Ardahan'}, {'name': 'Bayburt'}, {'name': 'Düzce'}]}, {'name': 'Trinidad and Tobago', 'countryCode': 'TT', 'countryCodeAlpha3': 'TTO', 'phone': '+1-868', 'currency': 'TTD', 'stateProvinces': [{'name': 'Tobago'}, {'name': 'San Fernando'}, {'name': 'Port of Spain'}, {'name': 'Mayaro'}, {'name': 'Borough of Arima'}, {'name': 'Chaguanas'}, {'name': 'Couva-Tabaquite-Talparo'}, {'name': 'Diego Martin'}, {'name': 'Penal/Debe'}, {'name': 'Princes Town'}, {'name': 'Point Fortin'}, {'name': 'Sangre Grande'}, {'name': 'Siparia'}, {'name': 'San Juan/Laventille'}, {'name': 'Tunapuna/Piarco'}]}, {'name': 'Tuvalu', 'countryCode': 'TV', 'countryCodeAlpha3': 'TUV', 'phone': '688', 'currency': 'AUD', 'stateProvinces': [{'name': 'Nui'}, {'name': 'Nanumea'}, {'name': 'Funafuti'}, {'name': 'Niutao'}, {'name': 'Nanumanga'}, {'name': 'Vaitupu'}, {'name': 'Nukufetau'}, {'name': 'Nukulaelae'}]}, {'name': 'Taiwan', 'countryCode': 'TW', 'countryCodeAlpha3': 'TWN', 'phone': '886', 'currency': 'TWD', 'stateProvinces': [{'name': 'Fukien'}, {'name': 'Takao'}, {'name': 'Taipei'}, {'name': 'Taiwan'}]}, {'name': 'Tanzania', 'countryCode': 'TZ', 'countryCodeAlpha3': 'TZA', 'phone': '255', 'currency': 'TZS', 'stateProvinces': [{'name': 'Kagera'}, {'name': 'Zanzibar Urban/West'}, {'name': 'Zanzibar North'}, {'name': 'Zanzibar Central/South'}, {'name': 'Tanga'}, {'name': 'Tabora'}, {'name': 'Singida'}, {'name': 'Shinyanga'}, {'name': 'Rukwa'}, {'name': 'Pwani'}, {'name': 'Pemba South'}, {'name': 'Pemba North'}, {'name': 'Mwanza'}, {'name': 'Morogoro'}, {'name': 'Mbeya'}, {'name': 'Mara'}, {'name': 'Lindi'}, {'name': 'Kilimanjaro'}, {'name': 'Kigoma'}, {'name': 'Iringa'}, {'name': 'Dodoma'}, {'name': 'Dar es Salaam'}, {'name': 'Arusha'}, {'name': 'Manyara'}, {'name': 'Ruvuma'}, {'name': 'Mtwara'}, {'name': 'Simiyu'}, {'name': 'Geita'}, {'name': 'Katavi'}, {'name': 'Njombe'}, {'name': 'Songwe'}]}, {'name': 'Ukraine', 'countryCode': 'UA', 'countryCodeAlpha3': 'UKR', 'phone': '380', 'currency': 'UAH', 'stateProvinces': [{'name': 'Zhytomyr'}, {'name': 'Zaporizhzhia'}, {'name': 'Transcarpathia'}, {'name': 'Volyn'}, {'name': 'Vinnytsia'}, {'name': 'Ternopil'}, {'name': 'Sumy'}, {'name': 'Sevastopol City'}, {'name': 'Rivne'}, {'name': 'Poltava'}, {'name': 'Odessa'}, {'name': 'Mykolaiv'}, {'name': 'Lviv'}, {'name': 'Luhansk'}, {'name': 'Kiev'}, {'name': 'Kyiv City'}, {'name': 'Crimea'}, {'name': 'Kirovohrad'}, {'name': 'Khmelnytskyi'}, {'name': 'Kherson'}, {'name': 'Kharkiv'}, {'name': 'Ivano-Frankivsk'}, {'name': 'Donetsk'}, {'name': 'Dnipropetrovsk'}, {'name': 'Chernivtsi'}, {'name': 'Chernihiv'}, {'name': 'Cherkasy'}]}, {'name': 'Uganda', 'countryCode': 'UG', 'countryCodeAlpha3': 'UGA', 'phone': '256', 'currency': 'UGX', 'stateProvinces': [{'name': 'Central Region'}, {'name': 'Eastern Region'}, {'name': 'Northern Region'}, {'name': 'Western Region'}]}, {'name': 'United States Minor Outlying Islands', 'countryCode': 'UM', 'countryCodeAlpha3': 'UMI', 'phone': '1', 'currency': 'USD', 'stateProvinces': [{'name': 'Wake Island'}, {'name': 'Navassa Island'}, {'name': 'Baker Island'}, {'name': 'Howland Island'}, {'name': 'Jarvis Island'}, {'name': 'Johnston Atoll'}, {'name': 'Kingman Reef'}, {'name': 'Midway Islands'}, {'name': 'Palmyra Atoll'}]}, {'name': 'United States', 'countryCode': 'US', 'countryCodeAlpha3': 'USA', 'phone': '1', 'currency': 'USD', 'stateProvinces': [{'name': 'Arkansas'}, {'name': 'Washington, D.C.'}, {'name': 'Delaware'}, {'name': 'Florida'}, {'name': 'Georgia'}, {'name': 'Kansas'}, {'name': 'Louisiana'}, {'name': 'Maryland'}, {'name': 'Missouri'}, {'name': 'Mississippi'}, {'name': 'North Carolina'}, {'name': 'Oklahoma'}, {'name': 'South Carolina'}, {'name': 'Tennessee'}, {'name': 'Texas'}, {'name': 'West Virginia'}, {'name': 'Alabama'}, {'name': 'Connecticut'}, {'name': 'Iowa'}, {'name': 'Illinois'}, {'name': 'Indiana'}, {'name': 'Maine'}, {'name': 'Michigan'}, {'name': 'Minnesota'}, {'name': 'Nebraska'}, {'name': 'New Hampshire'}, {'name': 'New Jersey'}, {'name': 'New York'}, {'name': 'Ohio'}, {'name': 'Rhode Island'}, {'name': 'Vermont'}, {'name': 'Wisconsin'}, {'name': 'California'}, {'name': 'Colorado'}, {'name': 'New Mexico'}, {'name': 'Nevada'}, {'name': 'Utah'}, {'name': 'Arizona'}, {'name': 'Idaho'}, {'name': 'Montana'}, {'name': 'North Dakota'}, {'name': 'Oregon'}, {'name': 'South Dakota'}, {'name': 'Washington'}, {'name': 'Wyoming'}, {'name': 'Hawaii'}, {'name': 'Alaska'}, {'name': 'Kentucky'}, {'name': 'Massachusetts'}, {'name': 'Pennsylvania'}, {'name': 'Virginia'}]}, {'name': 'Uruguay', 'countryCode': 'UY', 'countryCodeAlpha3': 'URY', 'phone': '598', 'currency': 'UYU', 'stateProvinces': [{'name': 'Treinta y Tres'}, {'name': 'Tacuarembó'}, {'name': 'Soriano'}, {'name': 'San José'}, {'name': 'Salto'}, {'name': 'Rocha'}, {'name': 'Rivera'}, {'name': 'Río Negro'}, {'name': 'Paysandú'}, {'name': 'Montevideo'}, {'name': 'Maldonado'}, {'name': 'Lavalleja'}, {'name': 'Florida'}, {'name': 'Flores'}, {'name': 'Durazno'}, {'name': 'Colonia'}, {'name': 'Cerro Largo'}, {'name': 'Canelones'}, {'name': 'Artigas'}]}, {'name': 'Uzbekistan', 'countryCode': 'UZ', 'countryCodeAlpha3': 'UZB', 'phone': '998', 'currency': 'UZS', 'stateProvinces': [{'name': 'Karakalpakstan'}, {'name': 'Surxondaryo'}, {'name': 'Samarqand'}, {'name': 'Qashqadaryo'}, {'name': 'Bukhara'}, {'name': 'Toshkent'}, {'name': 'Tashkent'}, {'name': 'Sirdaryo Region'}, {'name': 'Navoiy'}, {'name': 'Namangan'}, {'name': 'Xorazm'}, {'name': 'Jizzax'}, {'name': 'Fergana'}, {'name': 'Andijon'}]}, {'name': 'Vatican', 'countryCode': 'VA', 'countryCodeAlpha3': 'VAT', 'phone': '379', 'currency': 'EUR', 'stateProvinces': None}, {'name': 'Saint Vincent and the Grenadines', 'countryCode': 'VC', 'countryCodeAlpha3': 'VCT', 'phone': '+1-784', 'currency': 'XCD', 'stateProvinces': [{'name': 'Saint Patrick'}, {'name': 'Saint George'}, {'name': 'Saint David'}, {'name': 'Saint Andrew'}, {'name': 'Grenadines'}, {'name': 'Charlotte'}]}, {'name': 'Venezuela', 'countryCode': 'VE', 'countryCodeAlpha3': 'VEN', 'phone': '58', 'currency': 'VES', 'stateProvinces': [{'name': 'Zulia'}, {'name': 'Yaracuy'}, {'name': 'Trujillo'}, {'name': 'Táchira'}, {'name': 'Sucre'}, {'name': 'Portuguesa'}, {'name': 'Nueva Esparta'}, {'name': 'Monagas'}, {'name': 'Miranda'}, {'name': 'Mérida'}, {'name': 'Lara'}, {'name': 'Guárico'}, {'name': 'Dependencias Federales'}, {'name': 'Distrito Federal'}, {'name': 'Falcón'}, {'name': 'Delta Amacuro'}, {'name': 'Cojedes'}, {'name': 'Carabobo'}, {'name': 'Bolívar'}, {'name': 'Barinas'}, {'name': 'Aragua'}, {'name': 'Apure'}, {'name': 'Anzoátegui'}, {'name': 'Amazonas'}, {'name': 'Vargas'}]}, {'name': 'British Virgin Islands', 'countryCode': 'VG', 'countryCodeAlpha3': 'VGB', 'phone': '+1-284', 'currency': 'USD', 'stateProvinces': None}, {'name': 'U.S. Virgin Islands', 'countryCode': 'VI', 'countryCodeAlpha3': 'VIR', 'phone': '+1-340', 'currency': 'USD', 'stateProvinces': [{'name': 'Saint Croix Island'}, {'name': 'Saint John Island'}, {'name': 'Saint Thomas Island'}]}, {'name': 'Vietnam', 'countryCode': 'VN', 'countryCodeAlpha3': 'VNM', 'phone': '84', 'currency': 'VND', 'stateProvinces': [{'name': 'Nghệ An'}, {'name': 'Ninh Bình'}, {'name': 'Ninh Thuận'}, {'name': 'Sóc Trăng'}, {'name': 'Trà Vinh'}, {'name': 'Tuyên Quang'}, {'name': 'Vĩnh Long'}, {'name': 'Yên Bái'}, {'name': 'Lào Cai'}, {'name': 'Tiền Giang'}, {'name': 'Thừa Thiên-Huế'}, {'name': 'Kon Tum'}, {'name': 'Thanh Hóa'}, {'name': 'Thái Bình'}, {'name': 'Tây Ninh Province'}, {'name': 'Sơn La'}, {'name': 'Quảng Trị'}, {'name': 'Quảng Ninh'}, {'name': 'Quảng Ngãi Province'}, {'name': 'Quảng Bình'}, {'name': 'Phú Yên'}, {'name': 'Hòa Bình'}, {'name': 'Long An'}, {'name': 'Lạng Sơn'}, {'name': 'Lâm Đồng'}, {'name': 'Lai Châu'}, {'name': 'Kiến Giang'}, {'name': 'Khánh Hòa'}, {'name': 'Ho Chi Minh'}, {'name': 'Hà Tĩnh'}, {'name': 'Hà Giang'}, {'name': 'Gia Lai'}, {'name': 'Hanoi'}, {'name': 'Can Tho'}, {'name': 'Haiphong'}, {'name': 'Bình Thuận'}, {'name': 'Đồng Tháp'}, {'name': 'Đồng Nai'}, {'name': 'Đắk Lắk'}, {'name': 'Bà Rịa-Vũng Tàu'}, {'name': 'Cao Bằng'}, {'name': 'Bình Định'}, {'name': 'Bến Tre'}, {'name': 'An Giang'}, {'name': 'Ðắk Nông'}, {'name': 'Ðiện Biên'}, {'name': 'Bắc Ninh'}, {'name': 'Bắc Giang'}, {'name': 'Da Nang'}, {'name': 'Bình Dương'}, {'name': 'Bình Phước'}, {'name': 'Thái Nguyên'}, {'name': 'Quảng Nam'}, {'name': 'Phú Thọ'}, {'name': 'Nam Định'}, {'name': 'Hà Nam'}, {'name': 'Bắc Kạn'}, {'name': 'Bạc Liêu'}, {'name': 'Cà Mau'}, {'name': 'Hải Dương'}, {'name': 'Hưng Yên'}, {'name': 'Vĩnh Phúc'}, {'name': 'Hậu Giang'}]}, {'name': 'Vanuatu', 'countryCode': 'VU', 'countryCodeAlpha3': 'VUT', 'phone': '678', 'currency': 'VUV', 'stateProvinces': [{'name': 'Tafea'}, {'name': 'Sanma'}, {'name': 'Torba'}, {'name': 'Malampa'}, {'name': 'Penama'}, {'name': 'Shefa'}]}, {'name': 'Wallis and Futuna', 'countryCode': 'WF', 'countryCodeAlpha3': 'WLF', 'phone': '681', 'currency': 'XPF', 'stateProvinces': [{'name': 'Uvea'}, {'name': 'Sigave'}, {'name': 'Alo'}]}, {'name': 'Samoa', 'countryCode': 'WS', 'countryCodeAlpha3': 'WSM', 'phone': '685', 'currency': 'WST', 'stateProvinces': [{'name': 'Vaisigano'}, {'name': 'Va‘a-o-Fonoti'}, {'name': 'Tuamasaga'}, {'name': 'Satupa‘itea'}, {'name': 'Palauli'}, {'name': 'Gagaifomauga'}, {'name': 'Gaga‘emauga'}, {'name': 'Fa‘asaleleaga'}, {'name': 'Atua'}, {'name': 'Aiga-i-le-Tai'}, {'name': \"A'ana\"}]}, {'name': 'Yemen', 'countryCode': 'YE', 'countryCodeAlpha3': 'YEM', 'phone': '967', 'currency': 'YER', 'stateProvinces': [{'name': 'Ta‘izz'}, {'name': 'Shabwah'}, {'name': 'Sanaa'}, {'name': 'Şa‘dah'}, {'name': 'Raymah'}, {'name': 'Ma’rib'}, {'name': 'Al Maḩwīt'}, {'name': 'Al Jawf'}, {'name': 'Muhafazat Hadramaout'}, {'name': 'Dhamār'}, {'name': 'Al Mahrah'}, {'name': 'Al Hudaydah'}, {'name': 'Al Bayda'}, {'name': 'Aden'}, {'name': 'Abyan'}, {'name': 'Aḑ Ḑāli‘'}, {'name': 'Omran'}, {'name': 'Ḩajjah'}, {'name': 'Ibb'}, {'name': 'Laḩij'}, {'name': 'Amanat Alasimah'}, {'name': 'Soqatra'}]}, {'name': 'Mayotte', 'countryCode': 'YT', 'countryCodeAlpha3': 'MYT', 'phone': '262', 'currency': 'EUR', 'stateProvinces': [{'name': 'Acoua'}, {'name': 'Bandraboua'}, {'name': 'Bandrele'}, {'name': 'Bouéni'}, {'name': 'Chiconi'}, {'name': 'Chirongui'}, {'name': 'Dembeni'}, {'name': 'Dzaoudzi'}, {'name': 'Kani-Kéli'}, {'name': 'Koungou'}, {'name': 'Mamoudzou'}, {'name': 'Mtsamboro'}, {'name': \"M'Tsangamouji\"}, {'name': 'Ouangani'}, {'name': 'Pamandzi'}, {'name': 'Sada'}, {'name': 'Tsingoni'}]}, {'name': 'South Africa', 'countryCode': 'ZA', 'countryCodeAlpha3': 'ZAF', 'phone': '27', 'currency': 'ZAR', 'stateProvinces': [{'name': 'Orange Free State'}, {'name': 'KwaZulu-Natal'}, {'name': 'Eastern Cape'}, {'name': 'Gauteng'}, {'name': 'Mpumalanga'}, {'name': 'Northern Cape'}, {'name': 'Limpopo'}, {'name': 'North-West'}, {'name': 'Western Cape'}]}, {'name': 'Zambia', 'countryCode': 'ZM', 'countryCodeAlpha3': 'ZMB', 'phone': '260', 'currency': 'ZMW', 'stateProvinces': [{'name': 'Western'}, {'name': 'Southern'}, {'name': 'North-Western'}, {'name': 'Northern'}, {'name': 'Lusaka'}, {'name': 'Luapula'}, {'name': 'Eastern'}, {'name': 'Copperbelt'}, {'name': 'Central'}, {'name': 'Muchinga'}]}, {'name': 'Zimbabwe', 'countryCode': 'ZW', 'countryCodeAlpha3': 'ZWE', 'phone': '263', 'currency': 'ZWL', 'stateProvinces': [{'name': 'Midlands'}, {'name': 'Matabeleland South'}, {'name': 'Matabeleland North'}, {'name': 'Masvingo'}, {'name': 'Mashonaland West'}, {'name': 'Mashonaland East'}, {'name': 'Mashonaland Central'}, {'name': 'Manicaland'}, {'name': 'Bulawayo'}, {'name': 'Harare'}]}, {'name': 'Serbia and Montenegro', 'countryCode': 'CS', 'countryCodeAlpha3': 'SCG', 'phone': '381', 'currency': 'RSD', 'stateProvinces': None}, {'name': 'Netherlands Antilles', 'countryCode': 'AN', 'countryCodeAlpha3': 'ANT', 'phone': '599', 'currency': 'ANG', 'stateProvinces': None}]\n"
          ]
        }
      ]
    },
    {
      "cell_type": "code",
      "source": [
        "type(json_data)"
      ],
      "metadata": {
        "colab": {
          "base_uri": "https://localhost:8080/"
        },
        "id": "GNQq7dC48O99",
        "outputId": "679adc2a-45e7-4a5b-bd27-6f66f6054352"
      },
      "execution_count": null,
      "outputs": [
        {
          "output_type": "execute_result",
          "data": {
            "text/plain": [
              "list"
            ]
          },
          "metadata": {},
          "execution_count": 94
        }
      ]
    },
    {
      "cell_type": "markdown",
      "source": [
        "Task: I just want to extract country names"
      ],
      "metadata": {
        "id": "_VUaez1H8O99"
      }
    },
    {
      "cell_type": "code",
      "source": [
        "json_data2 = list(map(lambda x: x[\"name\"], json_data))\n",
        "json_data2"
      ],
      "metadata": {
        "colab": {
          "base_uri": "https://localhost:8080/"
        },
        "id": "MVYmT-3T8O99",
        "outputId": "3694838d-64e5-4d98-ba9e-fd335abd3581"
      },
      "execution_count": null,
      "outputs": [
        {
          "output_type": "execute_result",
          "data": {
            "text/plain": [
              "['Andorra',\n",
              " 'United Arab Emirates',\n",
              " 'Afghanistan',\n",
              " 'Antigua and Barbuda',\n",
              " 'Anguilla',\n",
              " 'Albania',\n",
              " 'Armenia',\n",
              " 'Angola',\n",
              " 'Antarctica',\n",
              " 'Argentina',\n",
              " 'American Samoa',\n",
              " 'Austria',\n",
              " 'Australia',\n",
              " 'Aruba',\n",
              " 'Aland Islands',\n",
              " 'Azerbaijan',\n",
              " 'Bosnia and Herzegovina',\n",
              " 'Barbados',\n",
              " 'Bangladesh',\n",
              " 'Belgium',\n",
              " 'Burkina Faso',\n",
              " 'Bulgaria',\n",
              " 'Bahrain',\n",
              " 'Burundi',\n",
              " 'Benin',\n",
              " 'Saint Barthelemy',\n",
              " 'Bermuda',\n",
              " 'Brunei',\n",
              " 'Bolivia',\n",
              " 'Bonaire, Saint Eustatius and Saba',\n",
              " 'Brazil',\n",
              " 'Bahamas',\n",
              " 'Bhutan',\n",
              " 'Bouvet Island',\n",
              " 'Botswana',\n",
              " 'Belarus',\n",
              " 'Belize',\n",
              " 'Canada',\n",
              " 'Cocos Islands',\n",
              " 'Democratic Republic of the Congo',\n",
              " 'Central African Republic',\n",
              " 'Republic of the Congo',\n",
              " 'Switzerland',\n",
              " 'Ivory Coast',\n",
              " 'Cook Islands',\n",
              " 'Chile',\n",
              " 'Cameroon',\n",
              " 'China',\n",
              " 'Colombia',\n",
              " 'Costa Rica',\n",
              " 'Cuba',\n",
              " 'Cabo Verde',\n",
              " 'Curacao',\n",
              " 'Christmas Island',\n",
              " 'Cyprus',\n",
              " 'Czechia',\n",
              " 'Germany',\n",
              " 'Djibouti',\n",
              " 'Denmark',\n",
              " 'Dominica',\n",
              " 'Dominican Republic',\n",
              " 'Algeria',\n",
              " 'Ecuador',\n",
              " 'Estonia',\n",
              " 'Egypt',\n",
              " 'Western Sahara',\n",
              " 'Eritrea',\n",
              " 'Spain',\n",
              " 'Ethiopia',\n",
              " 'Finland',\n",
              " 'Fiji',\n",
              " 'Falkland Islands',\n",
              " 'Micronesia',\n",
              " 'Faroe Islands',\n",
              " 'France',\n",
              " 'Gabon',\n",
              " 'United Kingdom',\n",
              " 'Grenada',\n",
              " 'Georgia',\n",
              " 'French Guiana',\n",
              " 'Guernsey',\n",
              " 'Ghana',\n",
              " 'Gibraltar',\n",
              " 'Greenland',\n",
              " 'Gambia',\n",
              " 'Guinea',\n",
              " 'Guadeloupe',\n",
              " 'Equatorial Guinea',\n",
              " 'Greece',\n",
              " 'South Georgia and the South Sandwich Islands',\n",
              " 'Guatemala',\n",
              " 'Guam',\n",
              " 'Guinea-Bissau',\n",
              " 'Guyana',\n",
              " 'Hong Kong',\n",
              " 'Heard Island and McDonald Islands',\n",
              " 'Honduras',\n",
              " 'Croatia',\n",
              " 'Haiti',\n",
              " 'Hungary',\n",
              " 'Indonesia',\n",
              " 'Ireland',\n",
              " 'Israel',\n",
              " 'Isle of Man',\n",
              " 'India',\n",
              " 'British Indian Ocean Territory',\n",
              " 'Iraq',\n",
              " 'Iran',\n",
              " 'Iceland',\n",
              " 'Italy',\n",
              " 'Jersey',\n",
              " 'Jamaica',\n",
              " 'Jordan',\n",
              " 'Japan',\n",
              " 'Kenya',\n",
              " 'Kyrgyzstan',\n",
              " 'Cambodia',\n",
              " 'Kiribati',\n",
              " 'Comoros',\n",
              " 'Saint Kitts and Nevis',\n",
              " 'North Korea',\n",
              " 'South Korea',\n",
              " 'Kosovo',\n",
              " 'Kuwait',\n",
              " 'Cayman Islands',\n",
              " 'Kazakhstan',\n",
              " 'Laos',\n",
              " 'Lebanon',\n",
              " 'Saint Lucia',\n",
              " 'Liechtenstein',\n",
              " 'Sri Lanka',\n",
              " 'Liberia',\n",
              " 'Lesotho',\n",
              " 'Lithuania',\n",
              " 'Luxembourg',\n",
              " 'Latvia',\n",
              " 'Libya',\n",
              " 'Morocco',\n",
              " 'Monaco',\n",
              " 'Moldova',\n",
              " 'Montenegro',\n",
              " 'Saint Martin',\n",
              " 'Madagascar',\n",
              " 'Marshall Islands',\n",
              " 'North Macedonia',\n",
              " 'Mali',\n",
              " 'Myanmar',\n",
              " 'Mongolia',\n",
              " 'Macao',\n",
              " 'Northern Mariana Islands',\n",
              " 'Martinique',\n",
              " 'Mauritania',\n",
              " 'Montserrat',\n",
              " 'Malta',\n",
              " 'Mauritius',\n",
              " 'Maldives',\n",
              " 'Malawi',\n",
              " 'Mexico',\n",
              " 'Malaysia',\n",
              " 'Mozambique',\n",
              " 'Namibia',\n",
              " 'New Caledonia',\n",
              " 'Niger',\n",
              " 'Norfolk Island',\n",
              " 'Nigeria',\n",
              " 'Nicaragua',\n",
              " 'Netherlands',\n",
              " 'Norway',\n",
              " 'Nepal',\n",
              " 'Nauru',\n",
              " 'Niue',\n",
              " 'New Zealand',\n",
              " 'Oman',\n",
              " 'Panama',\n",
              " 'Peru',\n",
              " 'French Polynesia',\n",
              " 'Papua New Guinea',\n",
              " 'Philippines',\n",
              " 'Pakistan',\n",
              " 'Poland',\n",
              " 'Saint Pierre and Miquelon',\n",
              " 'Pitcairn',\n",
              " 'Puerto Rico',\n",
              " 'Palestinian Territory',\n",
              " 'Portugal',\n",
              " 'Palau',\n",
              " 'Paraguay',\n",
              " 'Qatar',\n",
              " 'Reunion',\n",
              " 'Romania',\n",
              " 'Serbia',\n",
              " 'Russia',\n",
              " 'Rwanda',\n",
              " 'Saudi Arabia',\n",
              " 'Solomon Islands',\n",
              " 'Seychelles',\n",
              " 'Sudan',\n",
              " 'South Sudan',\n",
              " 'Sweden',\n",
              " 'Singapore',\n",
              " 'Saint Helena',\n",
              " 'Slovenia',\n",
              " 'Svalbard and Jan Mayen',\n",
              " 'Slovakia',\n",
              " 'Sierra Leone',\n",
              " 'San Marino',\n",
              " 'Senegal',\n",
              " 'Somalia',\n",
              " 'Suriname',\n",
              " 'Sao Tome and Principe',\n",
              " 'El Salvador',\n",
              " 'Sint Maarten',\n",
              " 'Syria',\n",
              " 'Eswatini',\n",
              " 'Turks and Caicos Islands',\n",
              " 'Chad',\n",
              " 'French Southern Territories',\n",
              " 'Togo',\n",
              " 'Thailand',\n",
              " 'Tajikistan',\n",
              " 'Tokelau',\n",
              " 'Timor Leste',\n",
              " 'Turkmenistan',\n",
              " 'Tunisia',\n",
              " 'Tonga',\n",
              " 'Turkey',\n",
              " 'Trinidad and Tobago',\n",
              " 'Tuvalu',\n",
              " 'Taiwan',\n",
              " 'Tanzania',\n",
              " 'Ukraine',\n",
              " 'Uganda',\n",
              " 'United States Minor Outlying Islands',\n",
              " 'United States',\n",
              " 'Uruguay',\n",
              " 'Uzbekistan',\n",
              " 'Vatican',\n",
              " 'Saint Vincent and the Grenadines',\n",
              " 'Venezuela',\n",
              " 'British Virgin Islands',\n",
              " 'U.S. Virgin Islands',\n",
              " 'Vietnam',\n",
              " 'Vanuatu',\n",
              " 'Wallis and Futuna',\n",
              " 'Samoa',\n",
              " 'Yemen',\n",
              " 'Mayotte',\n",
              " 'South Africa',\n",
              " 'Zambia',\n",
              " 'Zimbabwe',\n",
              " 'Serbia and Montenegro',\n",
              " 'Netherlands Antilles']"
            ]
          },
          "metadata": {},
          "execution_count": 95
        }
      ]
    },
    {
      "cell_type": "code",
      "source": [
        "import pandas as pd\n",
        "df = pd.DataFrame(json_data)\n",
        "df"
      ],
      "metadata": {
        "colab": {
          "base_uri": "https://localhost:8080/",
          "height": 424
        },
        "id": "OPP3zX6V8O99",
        "outputId": "a378a9aa-786c-4724-8817-bbd64a2aac25"
      },
      "execution_count": null,
      "outputs": [
        {
          "output_type": "execute_result",
          "data": {
            "text/plain": [
              "                      name countryCode countryCodeAlpha3   phone currency  \\\n",
              "0                  Andorra          AD               AND     376      EUR   \n",
              "1     United Arab Emirates          AE               ARE     971      AED   \n",
              "2              Afghanistan          AF               AFG      93      AFN   \n",
              "3      Antigua and Barbuda          AG               ATG  +1-268      XCD   \n",
              "4                 Anguilla          AI               AIA  +1-264      XCD   \n",
              "..                     ...         ...               ...     ...      ...   \n",
              "247           South Africa          ZA               ZAF      27      ZAR   \n",
              "248                 Zambia          ZM               ZMB     260      ZMW   \n",
              "249               Zimbabwe          ZW               ZWE     263      ZWL   \n",
              "250  Serbia and Montenegro          CS               SCG     381      RSD   \n",
              "251   Netherlands Antilles          AN               ANT     599      ANG   \n",
              "\n",
              "                                        stateProvinces  \n",
              "0    [{'name': 'Sant Julià de Loria'}, {'name': 'Or...  \n",
              "1    [{'name': 'Imārat Umm al Qaywayn'}, {'name': '...  \n",
              "2    [{'name': 'Zabul'}, {'name': 'Vardak'}, {'name...  \n",
              "3    [{'name': 'Saint Philip'}, {'name': 'Saint Pet...  \n",
              "4    [{'name': 'Blowing Point'}, {'name': 'Sandy Gr...  \n",
              "..                                                 ...  \n",
              "247  [{'name': 'Orange Free State'}, {'name': 'KwaZ...  \n",
              "248  [{'name': 'Western'}, {'name': 'Southern'}, {'...  \n",
              "249  [{'name': 'Midlands'}, {'name': 'Matabeleland ...  \n",
              "250                                               None  \n",
              "251                                               None  \n",
              "\n",
              "[252 rows x 6 columns]"
            ],
            "text/html": [
              "\n",
              "  <div id=\"df-ef1ef4c9-ecd5-4244-9733-3c853908c5dc\">\n",
              "    <div class=\"colab-df-container\">\n",
              "      <div>\n",
              "<style scoped>\n",
              "    .dataframe tbody tr th:only-of-type {\n",
              "        vertical-align: middle;\n",
              "    }\n",
              "\n",
              "    .dataframe tbody tr th {\n",
              "        vertical-align: top;\n",
              "    }\n",
              "\n",
              "    .dataframe thead th {\n",
              "        text-align: right;\n",
              "    }\n",
              "</style>\n",
              "<table border=\"1\" class=\"dataframe\">\n",
              "  <thead>\n",
              "    <tr style=\"text-align: right;\">\n",
              "      <th></th>\n",
              "      <th>name</th>\n",
              "      <th>countryCode</th>\n",
              "      <th>countryCodeAlpha3</th>\n",
              "      <th>phone</th>\n",
              "      <th>currency</th>\n",
              "      <th>stateProvinces</th>\n",
              "    </tr>\n",
              "  </thead>\n",
              "  <tbody>\n",
              "    <tr>\n",
              "      <th>0</th>\n",
              "      <td>Andorra</td>\n",
              "      <td>AD</td>\n",
              "      <td>AND</td>\n",
              "      <td>376</td>\n",
              "      <td>EUR</td>\n",
              "      <td>[{'name': 'Sant Julià de Loria'}, {'name': 'Or...</td>\n",
              "    </tr>\n",
              "    <tr>\n",
              "      <th>1</th>\n",
              "      <td>United Arab Emirates</td>\n",
              "      <td>AE</td>\n",
              "      <td>ARE</td>\n",
              "      <td>971</td>\n",
              "      <td>AED</td>\n",
              "      <td>[{'name': 'Imārat Umm al Qaywayn'}, {'name': '...</td>\n",
              "    </tr>\n",
              "    <tr>\n",
              "      <th>2</th>\n",
              "      <td>Afghanistan</td>\n",
              "      <td>AF</td>\n",
              "      <td>AFG</td>\n",
              "      <td>93</td>\n",
              "      <td>AFN</td>\n",
              "      <td>[{'name': 'Zabul'}, {'name': 'Vardak'}, {'name...</td>\n",
              "    </tr>\n",
              "    <tr>\n",
              "      <th>3</th>\n",
              "      <td>Antigua and Barbuda</td>\n",
              "      <td>AG</td>\n",
              "      <td>ATG</td>\n",
              "      <td>+1-268</td>\n",
              "      <td>XCD</td>\n",
              "      <td>[{'name': 'Saint Philip'}, {'name': 'Saint Pet...</td>\n",
              "    </tr>\n",
              "    <tr>\n",
              "      <th>4</th>\n",
              "      <td>Anguilla</td>\n",
              "      <td>AI</td>\n",
              "      <td>AIA</td>\n",
              "      <td>+1-264</td>\n",
              "      <td>XCD</td>\n",
              "      <td>[{'name': 'Blowing Point'}, {'name': 'Sandy Gr...</td>\n",
              "    </tr>\n",
              "    <tr>\n",
              "      <th>...</th>\n",
              "      <td>...</td>\n",
              "      <td>...</td>\n",
              "      <td>...</td>\n",
              "      <td>...</td>\n",
              "      <td>...</td>\n",
              "      <td>...</td>\n",
              "    </tr>\n",
              "    <tr>\n",
              "      <th>247</th>\n",
              "      <td>South Africa</td>\n",
              "      <td>ZA</td>\n",
              "      <td>ZAF</td>\n",
              "      <td>27</td>\n",
              "      <td>ZAR</td>\n",
              "      <td>[{'name': 'Orange Free State'}, {'name': 'KwaZ...</td>\n",
              "    </tr>\n",
              "    <tr>\n",
              "      <th>248</th>\n",
              "      <td>Zambia</td>\n",
              "      <td>ZM</td>\n",
              "      <td>ZMB</td>\n",
              "      <td>260</td>\n",
              "      <td>ZMW</td>\n",
              "      <td>[{'name': 'Western'}, {'name': 'Southern'}, {'...</td>\n",
              "    </tr>\n",
              "    <tr>\n",
              "      <th>249</th>\n",
              "      <td>Zimbabwe</td>\n",
              "      <td>ZW</td>\n",
              "      <td>ZWE</td>\n",
              "      <td>263</td>\n",
              "      <td>ZWL</td>\n",
              "      <td>[{'name': 'Midlands'}, {'name': 'Matabeleland ...</td>\n",
              "    </tr>\n",
              "    <tr>\n",
              "      <th>250</th>\n",
              "      <td>Serbia and Montenegro</td>\n",
              "      <td>CS</td>\n",
              "      <td>SCG</td>\n",
              "      <td>381</td>\n",
              "      <td>RSD</td>\n",
              "      <td>None</td>\n",
              "    </tr>\n",
              "    <tr>\n",
              "      <th>251</th>\n",
              "      <td>Netherlands Antilles</td>\n",
              "      <td>AN</td>\n",
              "      <td>ANT</td>\n",
              "      <td>599</td>\n",
              "      <td>ANG</td>\n",
              "      <td>None</td>\n",
              "    </tr>\n",
              "  </tbody>\n",
              "</table>\n",
              "<p>252 rows × 6 columns</p>\n",
              "</div>\n",
              "      <button class=\"colab-df-convert\" onclick=\"convertToInteractive('df-ef1ef4c9-ecd5-4244-9733-3c853908c5dc')\"\n",
              "              title=\"Convert this dataframe to an interactive table.\"\n",
              "              style=\"display:none;\">\n",
              "        \n",
              "  <svg xmlns=\"http://www.w3.org/2000/svg\" height=\"24px\"viewBox=\"0 0 24 24\"\n",
              "       width=\"24px\">\n",
              "    <path d=\"M0 0h24v24H0V0z\" fill=\"none\"/>\n",
              "    <path d=\"M18.56 5.44l.94 2.06.94-2.06 2.06-.94-2.06-.94-.94-2.06-.94 2.06-2.06.94zm-11 1L8.5 8.5l.94-2.06 2.06-.94-2.06-.94L8.5 2.5l-.94 2.06-2.06.94zm10 10l.94 2.06.94-2.06 2.06-.94-2.06-.94-.94-2.06-.94 2.06-2.06.94z\"/><path d=\"M17.41 7.96l-1.37-1.37c-.4-.4-.92-.59-1.43-.59-.52 0-1.04.2-1.43.59L10.3 9.45l-7.72 7.72c-.78.78-.78 2.05 0 2.83L4 21.41c.39.39.9.59 1.41.59.51 0 1.02-.2 1.41-.59l7.78-7.78 2.81-2.81c.8-.78.8-2.07 0-2.86zM5.41 20L4 18.59l7.72-7.72 1.47 1.35L5.41 20z\"/>\n",
              "  </svg>\n",
              "      </button>\n",
              "      \n",
              "  <style>\n",
              "    .colab-df-container {\n",
              "      display:flex;\n",
              "      flex-wrap:wrap;\n",
              "      gap: 12px;\n",
              "    }\n",
              "\n",
              "    .colab-df-convert {\n",
              "      background-color: #E8F0FE;\n",
              "      border: none;\n",
              "      border-radius: 50%;\n",
              "      cursor: pointer;\n",
              "      display: none;\n",
              "      fill: #1967D2;\n",
              "      height: 32px;\n",
              "      padding: 0 0 0 0;\n",
              "      width: 32px;\n",
              "    }\n",
              "\n",
              "    .colab-df-convert:hover {\n",
              "      background-color: #E2EBFA;\n",
              "      box-shadow: 0px 1px 2px rgba(60, 64, 67, 0.3), 0px 1px 3px 1px rgba(60, 64, 67, 0.15);\n",
              "      fill: #174EA6;\n",
              "    }\n",
              "\n",
              "    [theme=dark] .colab-df-convert {\n",
              "      background-color: #3B4455;\n",
              "      fill: #D2E3FC;\n",
              "    }\n",
              "\n",
              "    [theme=dark] .colab-df-convert:hover {\n",
              "      background-color: #434B5C;\n",
              "      box-shadow: 0px 1px 3px 1px rgba(0, 0, 0, 0.15);\n",
              "      filter: drop-shadow(0px 1px 2px rgba(0, 0, 0, 0.3));\n",
              "      fill: #FFFFFF;\n",
              "    }\n",
              "  </style>\n",
              "\n",
              "      <script>\n",
              "        const buttonEl =\n",
              "          document.querySelector('#df-ef1ef4c9-ecd5-4244-9733-3c853908c5dc button.colab-df-convert');\n",
              "        buttonEl.style.display =\n",
              "          google.colab.kernel.accessAllowed ? 'block' : 'none';\n",
              "\n",
              "        async function convertToInteractive(key) {\n",
              "          const element = document.querySelector('#df-ef1ef4c9-ecd5-4244-9733-3c853908c5dc');\n",
              "          const dataTable =\n",
              "            await google.colab.kernel.invokeFunction('convertToInteractive',\n",
              "                                                     [key], {});\n",
              "          if (!dataTable) return;\n",
              "\n",
              "          const docLinkHtml = 'Like what you see? Visit the ' +\n",
              "            '<a target=\"_blank\" href=https://colab.research.google.com/notebooks/data_table.ipynb>data table notebook</a>'\n",
              "            + ' to learn more about interactive tables.';\n",
              "          element.innerHTML = '';\n",
              "          dataTable['output_type'] = 'display_data';\n",
              "          await google.colab.output.renderOutput(dataTable, element);\n",
              "          const docLink = document.createElement('div');\n",
              "          docLink.innerHTML = docLinkHtml;\n",
              "          element.appendChild(docLink);\n",
              "        }\n",
              "      </script>\n",
              "    </div>\n",
              "  </div>\n",
              "  "
            ]
          },
          "metadata": {},
          "execution_count": 96
        }
      ]
    },
    {
      "cell_type": "code",
      "source": [
        "x = pd.DataFrame(json_data)['name']\n",
        "x.head()"
      ],
      "metadata": {
        "colab": {
          "base_uri": "https://localhost:8080/"
        },
        "id": "kT-XhtHK8O9-",
        "outputId": "cd489dfc-bf45-4d5f-e16a-e5cb3ed19ecc"
      },
      "execution_count": null,
      "outputs": [
        {
          "output_type": "execute_result",
          "data": {
            "text/plain": [
              "0                 Andorra\n",
              "1    United Arab Emirates\n",
              "2             Afghanistan\n",
              "3     Antigua and Barbuda\n",
              "4                Anguilla\n",
              "Name: name, dtype: object"
            ]
          },
          "metadata": {},
          "execution_count": 97
        }
      ]
    },
    {
      "cell_type": "code",
      "source": [
        "x = pd.DataFrame(json_data)['name'].tolist()\n",
        "x"
      ],
      "metadata": {
        "colab": {
          "base_uri": "https://localhost:8080/"
        },
        "id": "4RdLEnkq8O9-",
        "outputId": "4bafbab6-08da-4671-d400-48c9219b2238"
      },
      "execution_count": null,
      "outputs": [
        {
          "output_type": "execute_result",
          "data": {
            "text/plain": [
              "['Andorra',\n",
              " 'United Arab Emirates',\n",
              " 'Afghanistan',\n",
              " 'Antigua and Barbuda',\n",
              " 'Anguilla',\n",
              " 'Albania',\n",
              " 'Armenia',\n",
              " 'Angola',\n",
              " 'Antarctica',\n",
              " 'Argentina',\n",
              " 'American Samoa',\n",
              " 'Austria',\n",
              " 'Australia',\n",
              " 'Aruba',\n",
              " 'Aland Islands',\n",
              " 'Azerbaijan',\n",
              " 'Bosnia and Herzegovina',\n",
              " 'Barbados',\n",
              " 'Bangladesh',\n",
              " 'Belgium',\n",
              " 'Burkina Faso',\n",
              " 'Bulgaria',\n",
              " 'Bahrain',\n",
              " 'Burundi',\n",
              " 'Benin',\n",
              " 'Saint Barthelemy',\n",
              " 'Bermuda',\n",
              " 'Brunei',\n",
              " 'Bolivia',\n",
              " 'Bonaire, Saint Eustatius and Saba',\n",
              " 'Brazil',\n",
              " 'Bahamas',\n",
              " 'Bhutan',\n",
              " 'Bouvet Island',\n",
              " 'Botswana',\n",
              " 'Belarus',\n",
              " 'Belize',\n",
              " 'Canada',\n",
              " 'Cocos Islands',\n",
              " 'Democratic Republic of the Congo',\n",
              " 'Central African Republic',\n",
              " 'Republic of the Congo',\n",
              " 'Switzerland',\n",
              " 'Ivory Coast',\n",
              " 'Cook Islands',\n",
              " 'Chile',\n",
              " 'Cameroon',\n",
              " 'China',\n",
              " 'Colombia',\n",
              " 'Costa Rica',\n",
              " 'Cuba',\n",
              " 'Cabo Verde',\n",
              " 'Curacao',\n",
              " 'Christmas Island',\n",
              " 'Cyprus',\n",
              " 'Czechia',\n",
              " 'Germany',\n",
              " 'Djibouti',\n",
              " 'Denmark',\n",
              " 'Dominica',\n",
              " 'Dominican Republic',\n",
              " 'Algeria',\n",
              " 'Ecuador',\n",
              " 'Estonia',\n",
              " 'Egypt',\n",
              " 'Western Sahara',\n",
              " 'Eritrea',\n",
              " 'Spain',\n",
              " 'Ethiopia',\n",
              " 'Finland',\n",
              " 'Fiji',\n",
              " 'Falkland Islands',\n",
              " 'Micronesia',\n",
              " 'Faroe Islands',\n",
              " 'France',\n",
              " 'Gabon',\n",
              " 'United Kingdom',\n",
              " 'Grenada',\n",
              " 'Georgia',\n",
              " 'French Guiana',\n",
              " 'Guernsey',\n",
              " 'Ghana',\n",
              " 'Gibraltar',\n",
              " 'Greenland',\n",
              " 'Gambia',\n",
              " 'Guinea',\n",
              " 'Guadeloupe',\n",
              " 'Equatorial Guinea',\n",
              " 'Greece',\n",
              " 'South Georgia and the South Sandwich Islands',\n",
              " 'Guatemala',\n",
              " 'Guam',\n",
              " 'Guinea-Bissau',\n",
              " 'Guyana',\n",
              " 'Hong Kong',\n",
              " 'Heard Island and McDonald Islands',\n",
              " 'Honduras',\n",
              " 'Croatia',\n",
              " 'Haiti',\n",
              " 'Hungary',\n",
              " 'Indonesia',\n",
              " 'Ireland',\n",
              " 'Israel',\n",
              " 'Isle of Man',\n",
              " 'India',\n",
              " 'British Indian Ocean Territory',\n",
              " 'Iraq',\n",
              " 'Iran',\n",
              " 'Iceland',\n",
              " 'Italy',\n",
              " 'Jersey',\n",
              " 'Jamaica',\n",
              " 'Jordan',\n",
              " 'Japan',\n",
              " 'Kenya',\n",
              " 'Kyrgyzstan',\n",
              " 'Cambodia',\n",
              " 'Kiribati',\n",
              " 'Comoros',\n",
              " 'Saint Kitts and Nevis',\n",
              " 'North Korea',\n",
              " 'South Korea',\n",
              " 'Kosovo',\n",
              " 'Kuwait',\n",
              " 'Cayman Islands',\n",
              " 'Kazakhstan',\n",
              " 'Laos',\n",
              " 'Lebanon',\n",
              " 'Saint Lucia',\n",
              " 'Liechtenstein',\n",
              " 'Sri Lanka',\n",
              " 'Liberia',\n",
              " 'Lesotho',\n",
              " 'Lithuania',\n",
              " 'Luxembourg',\n",
              " 'Latvia',\n",
              " 'Libya',\n",
              " 'Morocco',\n",
              " 'Monaco',\n",
              " 'Moldova',\n",
              " 'Montenegro',\n",
              " 'Saint Martin',\n",
              " 'Madagascar',\n",
              " 'Marshall Islands',\n",
              " 'North Macedonia',\n",
              " 'Mali',\n",
              " 'Myanmar',\n",
              " 'Mongolia',\n",
              " 'Macao',\n",
              " 'Northern Mariana Islands',\n",
              " 'Martinique',\n",
              " 'Mauritania',\n",
              " 'Montserrat',\n",
              " 'Malta',\n",
              " 'Mauritius',\n",
              " 'Maldives',\n",
              " 'Malawi',\n",
              " 'Mexico',\n",
              " 'Malaysia',\n",
              " 'Mozambique',\n",
              " 'Namibia',\n",
              " 'New Caledonia',\n",
              " 'Niger',\n",
              " 'Norfolk Island',\n",
              " 'Nigeria',\n",
              " 'Nicaragua',\n",
              " 'Netherlands',\n",
              " 'Norway',\n",
              " 'Nepal',\n",
              " 'Nauru',\n",
              " 'Niue',\n",
              " 'New Zealand',\n",
              " 'Oman',\n",
              " 'Panama',\n",
              " 'Peru',\n",
              " 'French Polynesia',\n",
              " 'Papua New Guinea',\n",
              " 'Philippines',\n",
              " 'Pakistan',\n",
              " 'Poland',\n",
              " 'Saint Pierre and Miquelon',\n",
              " 'Pitcairn',\n",
              " 'Puerto Rico',\n",
              " 'Palestinian Territory',\n",
              " 'Portugal',\n",
              " 'Palau',\n",
              " 'Paraguay',\n",
              " 'Qatar',\n",
              " 'Reunion',\n",
              " 'Romania',\n",
              " 'Serbia',\n",
              " 'Russia',\n",
              " 'Rwanda',\n",
              " 'Saudi Arabia',\n",
              " 'Solomon Islands',\n",
              " 'Seychelles',\n",
              " 'Sudan',\n",
              " 'South Sudan',\n",
              " 'Sweden',\n",
              " 'Singapore',\n",
              " 'Saint Helena',\n",
              " 'Slovenia',\n",
              " 'Svalbard and Jan Mayen',\n",
              " 'Slovakia',\n",
              " 'Sierra Leone',\n",
              " 'San Marino',\n",
              " 'Senegal',\n",
              " 'Somalia',\n",
              " 'Suriname',\n",
              " 'Sao Tome and Principe',\n",
              " 'El Salvador',\n",
              " 'Sint Maarten',\n",
              " 'Syria',\n",
              " 'Eswatini',\n",
              " 'Turks and Caicos Islands',\n",
              " 'Chad',\n",
              " 'French Southern Territories',\n",
              " 'Togo',\n",
              " 'Thailand',\n",
              " 'Tajikistan',\n",
              " 'Tokelau',\n",
              " 'Timor Leste',\n",
              " 'Turkmenistan',\n",
              " 'Tunisia',\n",
              " 'Tonga',\n",
              " 'Turkey',\n",
              " 'Trinidad and Tobago',\n",
              " 'Tuvalu',\n",
              " 'Taiwan',\n",
              " 'Tanzania',\n",
              " 'Ukraine',\n",
              " 'Uganda',\n",
              " 'United States Minor Outlying Islands',\n",
              " 'United States',\n",
              " 'Uruguay',\n",
              " 'Uzbekistan',\n",
              " 'Vatican',\n",
              " 'Saint Vincent and the Grenadines',\n",
              " 'Venezuela',\n",
              " 'British Virgin Islands',\n",
              " 'U.S. Virgin Islands',\n",
              " 'Vietnam',\n",
              " 'Vanuatu',\n",
              " 'Wallis and Futuna',\n",
              " 'Samoa',\n",
              " 'Yemen',\n",
              " 'Mayotte',\n",
              " 'South Africa',\n",
              " 'Zambia',\n",
              " 'Zimbabwe',\n",
              " 'Serbia and Montenegro',\n",
              " 'Netherlands Antilles']"
            ]
          },
          "metadata": {},
          "execution_count": 98
        }
      ]
    },
    {
      "cell_type": "markdown",
      "source": [
        "# **More Looping**\n",
        "## Looping through dictionaries"
      ],
      "metadata": {
        "id": "CNRKrrUj_cuH"
      }
    },
    {
      "cell_type": "markdown",
      "source": [
        "I want to print key and value in my dictionary"
      ],
      "metadata": {
        "id": "3_oyT10sAALi"
      }
    },
    {
      "cell_type": "code",
      "source": [
        "my_dict = {'name1': 'timestamp1',\n",
        "    'name2': 'timestamp2',\n",
        "    'name3': 'timestamp3',\n",
        "    }\n",
        "\n",
        "\n",
        "for key, value in my_dict.items():\n",
        "    print('\\nKey: %s' % key)\n",
        "    print('Value: %s' % value)\n",
        "\n",
        "# .items() pulls all key-value pairs from a dictionary\n",
        "\n",
        "#what does items do here?\n",
        "print(my_dict.items())\n"
      ],
      "metadata": {
        "colab": {
          "base_uri": "https://localhost:8080/"
        },
        "id": "yhU48AO6_b5k",
        "outputId": "765fd8a0-a282-4a03-d353-b40505df82dd"
      },
      "execution_count": null,
      "outputs": [
        {
          "output_type": "stream",
          "name": "stdout",
          "text": [
            "dict_items([('name1', 'timestamp1'), ('name2', 'timestamp2'), ('name3', 'timestamp3')])\n",
            "\n",
            "Key: name1\n",
            "Value: timestamp1\n",
            "\n",
            "Key: name2\n",
            "Value: timestamp2\n",
            "\n",
            "Key: name3\n",
            "Value: timestamp3\n"
          ]
        }
      ]
    },
    {
      "cell_type": "markdown",
      "source": [],
      "metadata": {
        "id": "gqp-25w5AMBo"
      }
    },
    {
      "cell_type": "code",
      "source": [
        "\n",
        "python_words = {'list': 'A collection of values that are not connected, but have an order.',\n",
        "                'dictionary': 'A collection of key-value pairs.',\n",
        "                'function': 'A named set of instructions that defines a set of actions in Python.',\n",
        "                }\n",
        "\n",
        "for word, meaning in python_words.items():\n",
        "    print(\"\\nWord: %s\" % word)\n",
        "    print(\"Meaning: %s\" % meaning)"
      ],
      "metadata": {
        "colab": {
          "base_uri": "https://localhost:8080/"
        },
        "id": "BE460oL8_8RA",
        "outputId": "1a10b06b-15c0-4f5a-8e11-99e526e477f9"
      },
      "execution_count": null,
      "outputs": [
        {
          "output_type": "stream",
          "name": "stdout",
          "text": [
            "\n",
            "Word: list\n",
            "Meaning: A collection of values that are not connected, but have an order.\n",
            "\n",
            "Word: dictionary\n",
            "Meaning: A collection of key-value pairs.\n",
            "\n",
            "Word: function\n",
            "Meaning: A named set of instructions that defines a set of actions in Python.\n"
          ]
        }
      ]
    },
    {
      "cell_type": "markdown",
      "source": [
        "Looping through keys of a dictionary"
      ],
      "metadata": {
        "id": "4fLvTmBjAVwf"
      }
    },
    {
      "cell_type": "code",
      "source": [
        "my_dict = {'key_1': 'value_1',\n",
        "    'key_2': 'value_2',\n",
        "    'key_3': 'value_3',\n",
        "    }\n",
        "\n",
        "for key in my_dict.keys():\n",
        "    print(key)"
      ],
      "metadata": {
        "colab": {
          "base_uri": "https://localhost:8080/"
        },
        "id": "jBpx8mTcAXxA",
        "outputId": "0deb9755-5ff8-4dc2-b818-6c88acf600e3"
      },
      "execution_count": null,
      "outputs": [
        {
          "output_type": "stream",
          "name": "stdout",
          "text": [
            "key_1\n",
            "key_2\n",
            "key_3\n"
          ]
        }
      ]
    },
    {
      "cell_type": "code",
      "source": [
        "my_dict = {'key_1': 'value_1',\n",
        "    'key_2': 'value_2',\n",
        "    'key_3': 'value_3',\n",
        "    }\n",
        "\n",
        "#why did we leave here the .keys() part out?\n",
        "for key in my_dict:\n",
        "    print('Key: %s' % key)"
      ],
      "metadata": {
        "colab": {
          "base_uri": "https://localhost:8080/"
        },
        "id": "yGFNUmboAZ95",
        "outputId": "54d2f66b-5581-4ce8-f6da-1c4fa6c4e654"
      },
      "execution_count": null,
      "outputs": [
        {
          "output_type": "stream",
          "name": "stdout",
          "text": [
            "Key: key_1\n",
            "Key: key_2\n",
            "Key: key_3\n"
          ]
        }
      ]
    },
    {
      "cell_type": "code",
      "source": [],
      "metadata": {
        "id": "4_nvhiSXGJz9"
      },
      "execution_count": null,
      "outputs": []
    },
    {
      "cell_type": "markdown",
      "metadata": {
        "id": "xZlrYculj14Y"
      },
      "source": [
        "# **Functions**\n",
        "\n",
        "Why do we need functions?\n",
        "\n",
        "- Lets say I have 100 different datasets that have different column names.\n",
        "- I want uniform column names to all of them to be able to merge them\n",
        "- I can rename the variables of each of the 100 datasets by writing 100 lines of code\n",
        "- *OR I can write one function that takes the names of the different datasets in and does the work for me*\n",
        "\n",
        "How do we use functions\n",
        "\n",
        "- A function starts with the def command\n",
        "- return ends the function and prints out the results"
      ]
    },
    {
      "cell_type": "code",
      "source": [
        "# Let's define a function.\n",
        "def function_name(argument):\n",
        "\t# Do whatever we want this function to do,\n",
        "\t#  using argument\n",
        "\n",
        "# Use function_name to call the function.\n",
        "function_name(value_1)"
      ],
      "metadata": {
        "id": "XpztLV6-MNmh"
      },
      "execution_count": null,
      "outputs": []
    },
    {
      "cell_type": "markdown",
      "source": [
        "Function\n",
        "\n",
        "1. starts with def\n",
        "2. function needs to have a name\n",
        "3. function takes in an argument\n",
        "4. evaluates it\n",
        "5. output of interest\n",
        "\n",
        "To call your function, you use its name and enter the value that needs to be evaluated within the parenthes"
      ],
      "metadata": {
        "id": "AECv3K5lMeFG"
      }
    },
    {
      "cell_type": "code",
      "source": [
        "def thank_you(name):\n",
        "    # This function prints a two-line personalized thank you message.\n",
        "    print(\"\\nYou are doing fantastic work, %s!\" % name)\n",
        "    print(\"Thank you very much for  attending this class.\")\n",
        "    \n",
        "thank_you(\"ash\") #why do we get an error message?\n"
      ],
      "metadata": {
        "colab": {
          "base_uri": "https://localhost:8080/"
        },
        "id": "OqgprXHGDuXU",
        "outputId": "2fd8416e-d23b-4e35-c130-6350515ca219"
      },
      "execution_count": null,
      "outputs": [
        {
          "output_type": "stream",
          "name": "stdout",
          "text": [
            "\n",
            "You are doing fantastic work, ash!\n",
            "Thank you very much for your attending this class.\n"
          ]
        }
      ]
    },
    {
      "cell_type": "code",
      "source": [
        "name=input(\"Please tell me your name:\\n\")\n",
        "thank_you(name)"
      ],
      "metadata": {
        "id": "1fxHjK9iEBOU",
        "colab": {
          "base_uri": "https://localhost:8080/"
        },
        "outputId": "b1f7fe2a-06ea-43bf-fdd1-3987b615bf7b"
      },
      "execution_count": null,
      "outputs": [
        {
          "output_type": "stream",
          "name": "stdout",
          "text": [
            "Please tell me your name:\n",
            "victoria\n",
            "\n",
            "You are doing fantastic work, victoria!\n",
            "Thank you very much for your attending this class.\n"
          ]
        }
      ]
    },
    {
      "cell_type": "code",
      "source": [],
      "metadata": {
        "id": "ewI2eoIbEJOw"
      },
      "execution_count": null,
      "outputs": []
    },
    {
      "cell_type": "code",
      "execution_count": null,
      "metadata": {
        "collapsed": true,
        "id": "6BD3LguYj14Z"
      },
      "outputs": [],
      "source": [
        "def anything(x):\n",
        "    result = x**1 + 100\n",
        "    return (result) # ends the "
      ]
    },
    {
      "cell_type": "markdown",
      "metadata": {
        "id": "7MHEbxhCj14Z"
      },
      "source": [
        "to call a function"
      ]
    },
    {
      "cell_type": "code",
      "execution_count": null,
      "metadata": {
        "id": "XD5RiANMj14a",
        "outputId": "b4b99939-56b9-4a83-f9fb-8be9977a16b3"
      },
      "outputs": [
        {
          "data": {
            "text/plain": [
              "105"
            ]
          },
          "execution_count": 42,
          "metadata": {},
          "output_type": "execute_result"
        }
      ],
      "source": [
        "anything(5)"
      ]
    },
    {
      "cell_type": "markdown",
      "metadata": {
        "id": "ybwJ6dS0j14a"
      },
      "source": [
        "\n",
        "\n",
        "```\n",
        "# This is formatted as code\n",
        "```\n",
        "\n",
        "Functions + Loops\n"
      ]
    },
    {
      "cell_type": "code",
      "execution_count": null,
      "metadata": {
        "collapsed": true,
        "id": "zEQthzRtj14a"
      },
      "outputs": [],
      "source": [
        "def y(x):\n",
        "    result=pow(2,x)/2\n",
        "    return (result)\n",
        "\n"
      ]
    },
    {
      "cell_type": "code",
      "execution_count": null,
      "metadata": {
        "collapsed": true,
        "id": "8Zzu9Stsj14a"
      },
      "outputs": [],
      "source": [
        "#Appending lists\n",
        "xvalues=[]\n",
        "yvalues=[]\n",
        "for x in range(0,10):\n",
        "    xvalues.append(x)\n",
        "    yvalues.append(y(x))"
      ]
    },
    {
      "cell_type": "code",
      "execution_count": null,
      "metadata": {
        "id": "dUvhK2Nvj14b",
        "outputId": "dfe56930-d615-4b48-d846-ab627126fec5"
      },
      "outputs": [
        {
          "data": {
            "text/plain": [
              "[0, 1, 2, 3, 4, 5, 6, 7, 8, 9]"
            ]
          },
          "execution_count": 45,
          "metadata": {},
          "output_type": "execute_result"
        }
      ],
      "source": [
        "xvalues"
      ]
    },
    {
      "cell_type": "code",
      "execution_count": null,
      "metadata": {
        "id": "1UkmF9H0j14b",
        "outputId": "ca8d334c-0e38-4dd0-9d49-6508a1401092"
      },
      "outputs": [
        {
          "data": {
            "text/plain": [
              "[0.5, 1.0, 2.0, 4.0, 8.0, 16.0, 32.0, 64.0, 128.0, 256.0]"
            ]
          },
          "execution_count": 46,
          "metadata": {},
          "output_type": "execute_result"
        }
      ],
      "source": [
        "yvalues"
      ]
    },
    {
      "cell_type": "markdown",
      "source": [
        "Positional arguments using functions"
      ],
      "metadata": {
        "id": "k0bzxWrnFBdP"
      }
    },
    {
      "cell_type": "code",
      "execution_count": null,
      "metadata": {
        "collapsed": true,
        "id": "iEIJv1ylj14b",
        "colab": {
          "base_uri": "https://localhost:8080/"
        },
        "outputId": "34f70174-daf3-417c-e281-7aabcffb13a4"
      },
      "outputs": [
        {
          "output_type": "stream",
          "name": "stdout",
          "text": [
            "First name: Ash\n",
            "Last name: Elshehawy\n",
            "Age: 27\n",
            "\n",
            "First name: Arwa\n",
            "Last name: Elshahawy\n",
            "Age: 24\n",
            "\n",
            "First name: Leo\n",
            "Last name: Carella\n",
            "Age: 68\n",
            "\n"
          ]
        }
      ],
      "source": [
        "def describe_person(first_name, last_name, age):\n",
        "    # This function takes in a person's first and last name,\n",
        "    #  and their age.\n",
        "    # It then prints this information out in a simple format.\n",
        "    print(\"First name: %s\" % first_name.title())\n",
        "    print(\"Last name: %s\" % last_name.title())\n",
        "    print(\"Age: %d\\n\" % age)\n",
        "\n",
        "describe_person('ash', 'elshehawy', 27)\n",
        "describe_person('arwa', 'elshahawy', 24)\n",
        "describe_person('leo', 'carella', 68)"
      ]
    },
    {
      "cell_type": "markdown",
      "source": [
        "sleep function, super useful for web-scraping"
      ],
      "metadata": {
        "id": "p-5TJt31NftO"
      }
    },
    {
      "cell_type": "code",
      "execution_count": null,
      "metadata": {
        "collapsed": true,
        "id": "T6QQxi4Mj14b",
        "colab": {
          "base_uri": "https://localhost:8080/"
        },
        "outputId": "eac89b6f-5138-48a4-a8db-f9d4823bda8e"
      },
      "outputs": [
        {
          "output_type": "stream",
          "name": "stdout",
          "text": [
            "I'm going to sleep now.\n",
            "I woke up!\n"
          ]
        }
      ],
      "source": [
        "from time import sleep\n",
        "\n",
        "print(\"I'm going to sleep now.\")\n",
        "\n",
        "# Sleep for 3 seconds.\n",
        "sleep(3)\n",
        "\n",
        "print(\"I woke up!\")\n"
      ]
    },
    {
      "cell_type": "code",
      "source": [
        "# Display a title bar.\n",
        "print(\"\\t**********************************************\")\n",
        "print(\"\\t***  Greeter - Hello old and new friends!  ***\")\n",
        "print(\"\\t**********************************************\")\n",
        "\n",
        "# Print a bunch of information, in short intervals\n",
        "names = ['aaron', 'brenda', 'cyrene', 'david', 'eric']\n",
        "\n",
        "# Print each name 5 times.\n",
        "for name in names:\n",
        "    # Pause for 1 second between batches, and then skip two lines.\n",
        "    sleep(1)\n",
        "    print(\"\\n\\n\")\n",
        "    \n",
        "    for x in range(0,5):\n",
        "        print(name.title())"
      ],
      "metadata": {
        "id": "kPWMpHI3Ifyw",
        "colab": {
          "base_uri": "https://localhost:8080/"
        },
        "outputId": "6cfb8b33-3aa7-442a-8e43-486359fe771e"
      },
      "execution_count": null,
      "outputs": [
        {
          "output_type": "stream",
          "name": "stdout",
          "text": [
            "\t**********************************************\n",
            "\t***  Greeter - Hello old and new friends!  ***\n",
            "\t**********************************************\n",
            "\n",
            "\n",
            "\n",
            "Aaron\n",
            "Aaron\n",
            "Aaron\n",
            "Aaron\n",
            "Aaron\n",
            "\n",
            "\n",
            "\n",
            "Brenda\n",
            "Brenda\n",
            "Brenda\n",
            "Brenda\n",
            "Brenda\n",
            "\n",
            "\n",
            "\n",
            "Cyrene\n",
            "Cyrene\n",
            "Cyrene\n",
            "Cyrene\n",
            "Cyrene\n",
            "\n",
            "\n",
            "\n",
            "David\n",
            "David\n",
            "David\n",
            "David\n",
            "David\n",
            "\n",
            "\n",
            "\n",
            "Eric\n",
            "Eric\n",
            "Eric\n",
            "Eric\n",
            "Eric\n"
          ]
        }
      ]
    },
    {
      "cell_type": "markdown",
      "source": [
        "# In-Class Excercises"
      ],
      "metadata": {
        "id": "rPQ7nhOiNM72"
      }
    },
    {
      "cell_type": "code",
      "source": [],
      "metadata": {
        "id": "ufjjalHqMvg6"
      },
      "execution_count": null,
      "outputs": []
    },
    {
      "cell_type": "markdown",
      "metadata": {
        "id": "Qhbas_4Dtd2F"
      },
      "source": [
        "# Pandas"
      ]
    },
    {
      "cell_type": "markdown",
      "metadata": {
        "id": "6ZW5x0Aetd2F"
      },
      "source": [
        "\n",
        "![pandas1](https://media.giphy.com/media/Wa5JDuv6kzoTC/giphy.gif)\n"
      ]
    },
    {
      "cell_type": "markdown",
      "metadata": {
        "id": "SwUxqvTXtd2G"
      },
      "source": [
        "## Why is Pandas AMAZING?"
      ]
    },
    {
      "cell_type": "markdown",
      "metadata": {
        "id": "C9qxYdkjtd2G"
      },
      "source": [
        "1. super easy loading in data\n",
        "2. easy data cleaning\n",
        "3. easy data manipulation\n",
        "4. easy merging and extraction\n"
      ]
    },
    {
      "cell_type": "code",
      "source": [
        "import pandas as pd"
      ],
      "metadata": {
        "id": "6cgbhIvuaGVg"
      },
      "execution_count": null,
      "outputs": []
    },
    {
      "cell_type": "code",
      "source": [
        "pd.Series?"
      ],
      "metadata": {
        "id": "vlr_570DZ_Rz"
      },
      "execution_count": null,
      "outputs": []
    },
    {
      "cell_type": "code",
      "source": [
        "import pandas as pd \n",
        "\n",
        "ser = pd.Series([\"My\", \"name\", \"is\", \"ash\", \"hello\"])\n",
        "ser"
      ],
      "metadata": {
        "colab": {
          "base_uri": "https://localhost:8080/"
        },
        "id": "FsJ1PTt3f-Tb",
        "outputId": "c94ef621-c4c9-4582-e5a5-0a7541ba9466"
      },
      "execution_count": null,
      "outputs": [
        {
          "output_type": "execute_result",
          "data": {
            "text/plain": [
              "0       My\n",
              "1     name\n",
              "2       is\n",
              "3      ash\n",
              "4    hello\n",
              "dtype: object"
            ]
          },
          "metadata": {},
          "execution_count": 4
        }
      ]
    },
    {
      "cell_type": "code",
      "source": [
        "ser = pd.Series([\"My\", \"name\", \"is\", \"ash\", \"hello\"], index = [1,2,3,4,5])\n",
        "ser"
      ],
      "metadata": {
        "colab": {
          "base_uri": "https://localhost:8080/"
        },
        "id": "IcdmYl9egOMz",
        "outputId": "9c5afa9a-e890-43a4-c43b-eb442b0b0048"
      },
      "execution_count": null,
      "outputs": [
        {
          "output_type": "execute_result",
          "data": {
            "text/plain": [
              "1       My\n",
              "2     name\n",
              "3       is\n",
              "4      ash\n",
              "5    hello\n",
              "dtype: object"
            ]
          },
          "metadata": {},
          "execution_count": 5
        }
      ]
    },
    {
      "cell_type": "markdown",
      "source": [
        "Create the data as a dict of lists:\n",
        "\n",
        "We will create again a shopping list!\n"
      ],
      "metadata": {
        "id": "51Yl1adcgblr"
      }
    },
    {
      "cell_type": "code",
      "source": [
        "my_data = {\n",
        "    'drygroceries': [\"pasta\", \"rice\", \"coffee\", \"beans\"],\n",
        "    'milkproducts': [\"cheese\", \"cream\", \"sour cream\", \"yogurt\"],\n",
        "    'drinks': ['tea', 'coffee', 'water', 'juice']\n",
        "}"
      ],
      "metadata": {
        "id": "jiqYxjnWgbFB"
      },
      "execution_count": null,
      "outputs": []
    },
    {
      "cell_type": "code",
      "source": [
        "\n",
        "# Index is also optional\n",
        "my_index = ['a', 'b', 'c', 'd']"
      ],
      "metadata": {
        "id": "WvAjajY3gklb"
      },
      "execution_count": null,
      "outputs": []
    },
    {
      "cell_type": "code",
      "source": [
        "df = pd.DataFrame(data=my_data,index=my_index)\n",
        "df"
      ],
      "metadata": {
        "colab": {
          "base_uri": "https://localhost:8080/",
          "height": 175
        },
        "id": "q_Pdny9WgiJt",
        "outputId": "3476418c-ccd3-4f4d-8432-11c8f0f761dd"
      },
      "execution_count": null,
      "outputs": [
        {
          "output_type": "execute_result",
          "data": {
            "text/plain": [
              "            drygroceries milkproducts  drinks\n",
              "a                  pasta       cheese     tea\n",
              "b                   rice        cream  coffee\n",
              "c                 coffee   sour cream   water\n",
              "pterodactyl        beans       yogurt   juice"
            ],
            "text/html": [
              "\n",
              "  <div id=\"df-43b40df2-2d7c-4acd-bb2b-056483080547\">\n",
              "    <div class=\"colab-df-container\">\n",
              "      <div>\n",
              "<style scoped>\n",
              "    .dataframe tbody tr th:only-of-type {\n",
              "        vertical-align: middle;\n",
              "    }\n",
              "\n",
              "    .dataframe tbody tr th {\n",
              "        vertical-align: top;\n",
              "    }\n",
              "\n",
              "    .dataframe thead th {\n",
              "        text-align: right;\n",
              "    }\n",
              "</style>\n",
              "<table border=\"1\" class=\"dataframe\">\n",
              "  <thead>\n",
              "    <tr style=\"text-align: right;\">\n",
              "      <th></th>\n",
              "      <th>drygroceries</th>\n",
              "      <th>milkproducts</th>\n",
              "      <th>drinks</th>\n",
              "    </tr>\n",
              "  </thead>\n",
              "  <tbody>\n",
              "    <tr>\n",
              "      <th>a</th>\n",
              "      <td>pasta</td>\n",
              "      <td>cheese</td>\n",
              "      <td>tea</td>\n",
              "    </tr>\n",
              "    <tr>\n",
              "      <th>b</th>\n",
              "      <td>rice</td>\n",
              "      <td>cream</td>\n",
              "      <td>coffee</td>\n",
              "    </tr>\n",
              "    <tr>\n",
              "      <th>c</th>\n",
              "      <td>coffee</td>\n",
              "      <td>sour cream</td>\n",
              "      <td>water</td>\n",
              "    </tr>\n",
              "    <tr>\n",
              "      <th>pterodactyl</th>\n",
              "      <td>beans</td>\n",
              "      <td>yogurt</td>\n",
              "      <td>juice</td>\n",
              "    </tr>\n",
              "  </tbody>\n",
              "</table>\n",
              "</div>\n",
              "      <button class=\"colab-df-convert\" onclick=\"convertToInteractive('df-43b40df2-2d7c-4acd-bb2b-056483080547')\"\n",
              "              title=\"Convert this dataframe to an interactive table.\"\n",
              "              style=\"display:none;\">\n",
              "        \n",
              "  <svg xmlns=\"http://www.w3.org/2000/svg\" height=\"24px\"viewBox=\"0 0 24 24\"\n",
              "       width=\"24px\">\n",
              "    <path d=\"M0 0h24v24H0V0z\" fill=\"none\"/>\n",
              "    <path d=\"M18.56 5.44l.94 2.06.94-2.06 2.06-.94-2.06-.94-.94-2.06-.94 2.06-2.06.94zm-11 1L8.5 8.5l.94-2.06 2.06-.94-2.06-.94L8.5 2.5l-.94 2.06-2.06.94zm10 10l.94 2.06.94-2.06 2.06-.94-2.06-.94-.94-2.06-.94 2.06-2.06.94z\"/><path d=\"M17.41 7.96l-1.37-1.37c-.4-.4-.92-.59-1.43-.59-.52 0-1.04.2-1.43.59L10.3 9.45l-7.72 7.72c-.78.78-.78 2.05 0 2.83L4 21.41c.39.39.9.59 1.41.59.51 0 1.02-.2 1.41-.59l7.78-7.78 2.81-2.81c.8-.78.8-2.07 0-2.86zM5.41 20L4 18.59l7.72-7.72 1.47 1.35L5.41 20z\"/>\n",
              "  </svg>\n",
              "      </button>\n",
              "      \n",
              "  <style>\n",
              "    .colab-df-container {\n",
              "      display:flex;\n",
              "      flex-wrap:wrap;\n",
              "      gap: 12px;\n",
              "    }\n",
              "\n",
              "    .colab-df-convert {\n",
              "      background-color: #E8F0FE;\n",
              "      border: none;\n",
              "      border-radius: 50%;\n",
              "      cursor: pointer;\n",
              "      display: none;\n",
              "      fill: #1967D2;\n",
              "      height: 32px;\n",
              "      padding: 0 0 0 0;\n",
              "      width: 32px;\n",
              "    }\n",
              "\n",
              "    .colab-df-convert:hover {\n",
              "      background-color: #E2EBFA;\n",
              "      box-shadow: 0px 1px 2px rgba(60, 64, 67, 0.3), 0px 1px 3px 1px rgba(60, 64, 67, 0.15);\n",
              "      fill: #174EA6;\n",
              "    }\n",
              "\n",
              "    [theme=dark] .colab-df-convert {\n",
              "      background-color: #3B4455;\n",
              "      fill: #D2E3FC;\n",
              "    }\n",
              "\n",
              "    [theme=dark] .colab-df-convert:hover {\n",
              "      background-color: #434B5C;\n",
              "      box-shadow: 0px 1px 3px 1px rgba(0, 0, 0, 0.15);\n",
              "      filter: drop-shadow(0px 1px 2px rgba(0, 0, 0, 0.3));\n",
              "      fill: #FFFFFF;\n",
              "    }\n",
              "  </style>\n",
              "\n",
              "      <script>\n",
              "        const buttonEl =\n",
              "          document.querySelector('#df-43b40df2-2d7c-4acd-bb2b-056483080547 button.colab-df-convert');\n",
              "        buttonEl.style.display =\n",
              "          google.colab.kernel.accessAllowed ? 'block' : 'none';\n",
              "\n",
              "        async function convertToInteractive(key) {\n",
              "          const element = document.querySelector('#df-43b40df2-2d7c-4acd-bb2b-056483080547');\n",
              "          const dataTable =\n",
              "            await google.colab.kernel.invokeFunction('convertToInteractive',\n",
              "                                                     [key], {});\n",
              "          if (!dataTable) return;\n",
              "\n",
              "          const docLinkHtml = 'Like what you see? Visit the ' +\n",
              "            '<a target=\"_blank\" href=https://colab.research.google.com/notebooks/data_table.ipynb>data table notebook</a>'\n",
              "            + ' to learn more about interactive tables.';\n",
              "          element.innerHTML = '';\n",
              "          dataTable['output_type'] = 'display_data';\n",
              "          await google.colab.output.renderOutput(dataTable, element);\n",
              "          const docLink = document.createElement('div');\n",
              "          docLink.innerHTML = docLinkHtml;\n",
              "          element.appendChild(docLink);\n",
              "        }\n",
              "      </script>\n",
              "    </div>\n",
              "  </div>\n",
              "  "
            ]
          },
          "metadata": {},
          "execution_count": 18
        }
      ]
    },
    {
      "cell_type": "code",
      "source": [
        "# We can also do this without the intermediary steps\n",
        "df = pd.DataFrame(\n",
        "    data = {\n",
        "     'drygroceries': [\"pasta\", \"rice\", \"coffee\", \"beans\"],\n",
        "    'milkproducts': [\"cheese\", \"cream\", \"sour cream\", \"yogurt\"],\n",
        "    'drinks': ['tea', 'coffee', 'water', 'juice']\n",
        "    },\n",
        "    index = ['a', 'b', 'c', 'pterodactyl']\n",
        ")\n",
        "df"
      ],
      "metadata": {
        "colab": {
          "base_uri": "https://localhost:8080/",
          "height": 175
        },
        "id": "PnSdpAZYgpel",
        "outputId": "1a40caed-5b1d-4587-daaa-826b225ca88d"
      },
      "execution_count": null,
      "outputs": [
        {
          "output_type": "execute_result",
          "data": {
            "text/plain": [
              "            drygroceries milkproducts  drinks\n",
              "a                  pasta       cheese     tea\n",
              "b                   rice        cream  coffee\n",
              "c                 coffee   sour cream   water\n",
              "pterodactyl        beans       yogurt   juice"
            ],
            "text/html": [
              "\n",
              "  <div id=\"df-986f6904-4e53-48bd-ae1f-381d53a8d4bd\">\n",
              "    <div class=\"colab-df-container\">\n",
              "      <div>\n",
              "<style scoped>\n",
              "    .dataframe tbody tr th:only-of-type {\n",
              "        vertical-align: middle;\n",
              "    }\n",
              "\n",
              "    .dataframe tbody tr th {\n",
              "        vertical-align: top;\n",
              "    }\n",
              "\n",
              "    .dataframe thead th {\n",
              "        text-align: right;\n",
              "    }\n",
              "</style>\n",
              "<table border=\"1\" class=\"dataframe\">\n",
              "  <thead>\n",
              "    <tr style=\"text-align: right;\">\n",
              "      <th></th>\n",
              "      <th>drygroceries</th>\n",
              "      <th>milkproducts</th>\n",
              "      <th>drinks</th>\n",
              "    </tr>\n",
              "  </thead>\n",
              "  <tbody>\n",
              "    <tr>\n",
              "      <th>a</th>\n",
              "      <td>pasta</td>\n",
              "      <td>cheese</td>\n",
              "      <td>tea</td>\n",
              "    </tr>\n",
              "    <tr>\n",
              "      <th>b</th>\n",
              "      <td>rice</td>\n",
              "      <td>cream</td>\n",
              "      <td>coffee</td>\n",
              "    </tr>\n",
              "    <tr>\n",
              "      <th>c</th>\n",
              "      <td>coffee</td>\n",
              "      <td>sour cream</td>\n",
              "      <td>water</td>\n",
              "    </tr>\n",
              "    <tr>\n",
              "      <th>pterodactyl</th>\n",
              "      <td>beans</td>\n",
              "      <td>yogurt</td>\n",
              "      <td>juice</td>\n",
              "    </tr>\n",
              "  </tbody>\n",
              "</table>\n",
              "</div>\n",
              "      <button class=\"colab-df-convert\" onclick=\"convertToInteractive('df-986f6904-4e53-48bd-ae1f-381d53a8d4bd')\"\n",
              "              title=\"Convert this dataframe to an interactive table.\"\n",
              "              style=\"display:none;\">\n",
              "        \n",
              "  <svg xmlns=\"http://www.w3.org/2000/svg\" height=\"24px\"viewBox=\"0 0 24 24\"\n",
              "       width=\"24px\">\n",
              "    <path d=\"M0 0h24v24H0V0z\" fill=\"none\"/>\n",
              "    <path d=\"M18.56 5.44l.94 2.06.94-2.06 2.06-.94-2.06-.94-.94-2.06-.94 2.06-2.06.94zm-11 1L8.5 8.5l.94-2.06 2.06-.94-2.06-.94L8.5 2.5l-.94 2.06-2.06.94zm10 10l.94 2.06.94-2.06 2.06-.94-2.06-.94-.94-2.06-.94 2.06-2.06.94z\"/><path d=\"M17.41 7.96l-1.37-1.37c-.4-.4-.92-.59-1.43-.59-.52 0-1.04.2-1.43.59L10.3 9.45l-7.72 7.72c-.78.78-.78 2.05 0 2.83L4 21.41c.39.39.9.59 1.41.59.51 0 1.02-.2 1.41-.59l7.78-7.78 2.81-2.81c.8-.78.8-2.07 0-2.86zM5.41 20L4 18.59l7.72-7.72 1.47 1.35L5.41 20z\"/>\n",
              "  </svg>\n",
              "      </button>\n",
              "      \n",
              "  <style>\n",
              "    .colab-df-container {\n",
              "      display:flex;\n",
              "      flex-wrap:wrap;\n",
              "      gap: 12px;\n",
              "    }\n",
              "\n",
              "    .colab-df-convert {\n",
              "      background-color: #E8F0FE;\n",
              "      border: none;\n",
              "      border-radius: 50%;\n",
              "      cursor: pointer;\n",
              "      display: none;\n",
              "      fill: #1967D2;\n",
              "      height: 32px;\n",
              "      padding: 0 0 0 0;\n",
              "      width: 32px;\n",
              "    }\n",
              "\n",
              "    .colab-df-convert:hover {\n",
              "      background-color: #E2EBFA;\n",
              "      box-shadow: 0px 1px 2px rgba(60, 64, 67, 0.3), 0px 1px 3px 1px rgba(60, 64, 67, 0.15);\n",
              "      fill: #174EA6;\n",
              "    }\n",
              "\n",
              "    [theme=dark] .colab-df-convert {\n",
              "      background-color: #3B4455;\n",
              "      fill: #D2E3FC;\n",
              "    }\n",
              "\n",
              "    [theme=dark] .colab-df-convert:hover {\n",
              "      background-color: #434B5C;\n",
              "      box-shadow: 0px 1px 3px 1px rgba(0, 0, 0, 0.15);\n",
              "      filter: drop-shadow(0px 1px 2px rgba(0, 0, 0, 0.3));\n",
              "      fill: #FFFFFF;\n",
              "    }\n",
              "  </style>\n",
              "\n",
              "      <script>\n",
              "        const buttonEl =\n",
              "          document.querySelector('#df-986f6904-4e53-48bd-ae1f-381d53a8d4bd button.colab-df-convert');\n",
              "        buttonEl.style.display =\n",
              "          google.colab.kernel.accessAllowed ? 'block' : 'none';\n",
              "\n",
              "        async function convertToInteractive(key) {\n",
              "          const element = document.querySelector('#df-986f6904-4e53-48bd-ae1f-381d53a8d4bd');\n",
              "          const dataTable =\n",
              "            await google.colab.kernel.invokeFunction('convertToInteractive',\n",
              "                                                     [key], {});\n",
              "          if (!dataTable) return;\n",
              "\n",
              "          const docLinkHtml = 'Like what you see? Visit the ' +\n",
              "            '<a target=\"_blank\" href=https://colab.research.google.com/notebooks/data_table.ipynb>data table notebook</a>'\n",
              "            + ' to learn more about interactive tables.';\n",
              "          element.innerHTML = '';\n",
              "          dataTable['output_type'] = 'display_data';\n",
              "          await google.colab.output.renderOutput(dataTable, element);\n",
              "          const docLink = document.createElement('div');\n",
              "          docLink.innerHTML = docLinkHtml;\n",
              "          element.appendChild(docLink);\n",
              "        }\n",
              "      </script>\n",
              "    </div>\n",
              "  </div>\n",
              "  "
            ]
          },
          "metadata": {},
          "execution_count": 21
        }
      ]
    },
    {
      "cell_type": "markdown",
      "metadata": {
        "id": "pLYIH1hHtd2G"
      },
      "source": [
        "### Lets learn to load data in pandas\n",
        "\n",
        "We are going to start with yesterdays data - German Sputnik Newspaper articles"
      ]
    },
    {
      "cell_type": "markdown",
      "metadata": {
        "id": "ZVhHXqTrtd2H"
      },
      "source": [
        "**Lets try with pandas**"
      ]
    },
    {
      "cell_type": "code",
      "execution_count": null,
      "metadata": {
        "id": "8Yw_K_mJtd2H",
        "outputId": "c979ca39-8c43-494c-c8d9-a312d383c932",
        "colab": {
          "base_uri": "https://localhost:8080/",
          "height": 276
        }
      },
      "outputs": [
        {
          "output_type": "error",
          "ename": "ParserError",
          "evalue": "ignored",
          "traceback": [
            "\u001b[0;31m---------------------------------------------------------------------------\u001b[0m",
            "\u001b[0;31mParserError\u001b[0m                               Traceback (most recent call last)",
            "\u001b[0;32m<ipython-input-93-048ac8a8f42d>\u001b[0m in \u001b[0;36m<module>\u001b[0;34m()\u001b[0m\n\u001b[0;32m----> 1\u001b[0;31m \u001b[0msputnikdata1\u001b[0m \u001b[0;34m=\u001b[0m \u001b[0mpd\u001b[0m\u001b[0;34m.\u001b[0m\u001b[0mread_csv\u001b[0m\u001b[0;34m(\u001b[0m\u001b[0;34m'/content/drive/MyDrive/Colab Notebooks/Oxford Text Analysis 22/Python QTA Drive Oxford 2022/Data/sputnikgerman20.tsv'\u001b[0m\u001b[0;34m)\u001b[0m\u001b[0;34m\u001b[0m\u001b[0;34m\u001b[0m\u001b[0m\n\u001b[0m\u001b[1;32m      2\u001b[0m \u001b[0;34m\u001b[0m\u001b[0m\n\u001b[1;32m      3\u001b[0m \u001b[0;31m#why do we get an error message?\u001b[0m\u001b[0;34m\u001b[0m\u001b[0;34m\u001b[0m\u001b[0;34m\u001b[0m\u001b[0m\n",
            "\u001b[0;32m/usr/local/lib/python3.7/dist-packages/pandas/util/_decorators.py\u001b[0m in \u001b[0;36mwrapper\u001b[0;34m(*args, **kwargs)\u001b[0m\n\u001b[1;32m    309\u001b[0m                     \u001b[0mstacklevel\u001b[0m\u001b[0;34m=\u001b[0m\u001b[0mstacklevel\u001b[0m\u001b[0;34m,\u001b[0m\u001b[0;34m\u001b[0m\u001b[0;34m\u001b[0m\u001b[0m\n\u001b[1;32m    310\u001b[0m                 )\n\u001b[0;32m--> 311\u001b[0;31m             \u001b[0;32mreturn\u001b[0m \u001b[0mfunc\u001b[0m\u001b[0;34m(\u001b[0m\u001b[0;34m*\u001b[0m\u001b[0margs\u001b[0m\u001b[0;34m,\u001b[0m \u001b[0;34m**\u001b[0m\u001b[0mkwargs\u001b[0m\u001b[0;34m)\u001b[0m\u001b[0;34m\u001b[0m\u001b[0;34m\u001b[0m\u001b[0m\n\u001b[0m\u001b[1;32m    312\u001b[0m \u001b[0;34m\u001b[0m\u001b[0m\n\u001b[1;32m    313\u001b[0m         \u001b[0;32mreturn\u001b[0m \u001b[0mwrapper\u001b[0m\u001b[0;34m\u001b[0m\u001b[0;34m\u001b[0m\u001b[0m\n",
            "\u001b[0;32m/usr/local/lib/python3.7/dist-packages/pandas/io/parsers/readers.py\u001b[0m in \u001b[0;36mread_csv\u001b[0;34m(filepath_or_buffer, sep, delimiter, header, names, index_col, usecols, squeeze, prefix, mangle_dupe_cols, dtype, engine, converters, true_values, false_values, skipinitialspace, skiprows, skipfooter, nrows, na_values, keep_default_na, na_filter, verbose, skip_blank_lines, parse_dates, infer_datetime_format, keep_date_col, date_parser, dayfirst, cache_dates, iterator, chunksize, compression, thousands, decimal, lineterminator, quotechar, quoting, doublequote, escapechar, comment, encoding, encoding_errors, dialect, error_bad_lines, warn_bad_lines, on_bad_lines, delim_whitespace, low_memory, memory_map, float_precision, storage_options)\u001b[0m\n\u001b[1;32m    584\u001b[0m     \u001b[0mkwds\u001b[0m\u001b[0;34m.\u001b[0m\u001b[0mupdate\u001b[0m\u001b[0;34m(\u001b[0m\u001b[0mkwds_defaults\u001b[0m\u001b[0;34m)\u001b[0m\u001b[0;34m\u001b[0m\u001b[0;34m\u001b[0m\u001b[0m\n\u001b[1;32m    585\u001b[0m \u001b[0;34m\u001b[0m\u001b[0m\n\u001b[0;32m--> 586\u001b[0;31m     \u001b[0;32mreturn\u001b[0m \u001b[0m_read\u001b[0m\u001b[0;34m(\u001b[0m\u001b[0mfilepath_or_buffer\u001b[0m\u001b[0;34m,\u001b[0m \u001b[0mkwds\u001b[0m\u001b[0;34m)\u001b[0m\u001b[0;34m\u001b[0m\u001b[0;34m\u001b[0m\u001b[0m\n\u001b[0m\u001b[1;32m    587\u001b[0m \u001b[0;34m\u001b[0m\u001b[0m\n\u001b[1;32m    588\u001b[0m \u001b[0;34m\u001b[0m\u001b[0m\n",
            "\u001b[0;32m/usr/local/lib/python3.7/dist-packages/pandas/io/parsers/readers.py\u001b[0m in \u001b[0;36m_read\u001b[0;34m(filepath_or_buffer, kwds)\u001b[0m\n\u001b[1;32m    486\u001b[0m \u001b[0;34m\u001b[0m\u001b[0m\n\u001b[1;32m    487\u001b[0m     \u001b[0;32mwith\u001b[0m \u001b[0mparser\u001b[0m\u001b[0;34m:\u001b[0m\u001b[0;34m\u001b[0m\u001b[0;34m\u001b[0m\u001b[0m\n\u001b[0;32m--> 488\u001b[0;31m         \u001b[0;32mreturn\u001b[0m \u001b[0mparser\u001b[0m\u001b[0;34m.\u001b[0m\u001b[0mread\u001b[0m\u001b[0;34m(\u001b[0m\u001b[0mnrows\u001b[0m\u001b[0;34m)\u001b[0m\u001b[0;34m\u001b[0m\u001b[0;34m\u001b[0m\u001b[0m\n\u001b[0m\u001b[1;32m    489\u001b[0m \u001b[0;34m\u001b[0m\u001b[0m\n\u001b[1;32m    490\u001b[0m \u001b[0;34m\u001b[0m\u001b[0m\n",
            "\u001b[0;32m/usr/local/lib/python3.7/dist-packages/pandas/io/parsers/readers.py\u001b[0m in \u001b[0;36mread\u001b[0;34m(self, nrows)\u001b[0m\n\u001b[1;32m   1045\u001b[0m     \u001b[0;32mdef\u001b[0m \u001b[0mread\u001b[0m\u001b[0;34m(\u001b[0m\u001b[0mself\u001b[0m\u001b[0;34m,\u001b[0m \u001b[0mnrows\u001b[0m\u001b[0;34m=\u001b[0m\u001b[0;32mNone\u001b[0m\u001b[0;34m)\u001b[0m\u001b[0;34m:\u001b[0m\u001b[0;34m\u001b[0m\u001b[0;34m\u001b[0m\u001b[0m\n\u001b[1;32m   1046\u001b[0m         \u001b[0mnrows\u001b[0m \u001b[0;34m=\u001b[0m \u001b[0mvalidate_integer\u001b[0m\u001b[0;34m(\u001b[0m\u001b[0;34m\"nrows\"\u001b[0m\u001b[0;34m,\u001b[0m \u001b[0mnrows\u001b[0m\u001b[0;34m)\u001b[0m\u001b[0;34m\u001b[0m\u001b[0;34m\u001b[0m\u001b[0m\n\u001b[0;32m-> 1047\u001b[0;31m         \u001b[0mindex\u001b[0m\u001b[0;34m,\u001b[0m \u001b[0mcolumns\u001b[0m\u001b[0;34m,\u001b[0m \u001b[0mcol_dict\u001b[0m \u001b[0;34m=\u001b[0m \u001b[0mself\u001b[0m\u001b[0;34m.\u001b[0m\u001b[0m_engine\u001b[0m\u001b[0;34m.\u001b[0m\u001b[0mread\u001b[0m\u001b[0;34m(\u001b[0m\u001b[0mnrows\u001b[0m\u001b[0;34m)\u001b[0m\u001b[0;34m\u001b[0m\u001b[0;34m\u001b[0m\u001b[0m\n\u001b[0m\u001b[1;32m   1048\u001b[0m \u001b[0;34m\u001b[0m\u001b[0m\n\u001b[1;32m   1049\u001b[0m         \u001b[0;32mif\u001b[0m \u001b[0mindex\u001b[0m \u001b[0;32mis\u001b[0m \u001b[0;32mNone\u001b[0m\u001b[0;34m:\u001b[0m\u001b[0;34m\u001b[0m\u001b[0;34m\u001b[0m\u001b[0m\n",
            "\u001b[0;32m/usr/local/lib/python3.7/dist-packages/pandas/io/parsers/c_parser_wrapper.py\u001b[0m in \u001b[0;36mread\u001b[0;34m(self, nrows)\u001b[0m\n\u001b[1;32m    222\u001b[0m         \u001b[0;32mtry\u001b[0m\u001b[0;34m:\u001b[0m\u001b[0;34m\u001b[0m\u001b[0;34m\u001b[0m\u001b[0m\n\u001b[1;32m    223\u001b[0m             \u001b[0;32mif\u001b[0m \u001b[0mself\u001b[0m\u001b[0;34m.\u001b[0m\u001b[0mlow_memory\u001b[0m\u001b[0;34m:\u001b[0m\u001b[0;34m\u001b[0m\u001b[0;34m\u001b[0m\u001b[0m\n\u001b[0;32m--> 224\u001b[0;31m                 \u001b[0mchunks\u001b[0m \u001b[0;34m=\u001b[0m \u001b[0mself\u001b[0m\u001b[0;34m.\u001b[0m\u001b[0m_reader\u001b[0m\u001b[0;34m.\u001b[0m\u001b[0mread_low_memory\u001b[0m\u001b[0;34m(\u001b[0m\u001b[0mnrows\u001b[0m\u001b[0;34m)\u001b[0m\u001b[0;34m\u001b[0m\u001b[0;34m\u001b[0m\u001b[0m\n\u001b[0m\u001b[1;32m    225\u001b[0m                 \u001b[0;31m# destructive to chunks\u001b[0m\u001b[0;34m\u001b[0m\u001b[0;34m\u001b[0m\u001b[0;34m\u001b[0m\u001b[0m\n\u001b[1;32m    226\u001b[0m                 \u001b[0mdata\u001b[0m \u001b[0;34m=\u001b[0m \u001b[0m_concatenate_chunks\u001b[0m\u001b[0;34m(\u001b[0m\u001b[0mchunks\u001b[0m\u001b[0;34m)\u001b[0m\u001b[0;34m\u001b[0m\u001b[0;34m\u001b[0m\u001b[0m\n",
            "\u001b[0;32m/usr/local/lib/python3.7/dist-packages/pandas/_libs/parsers.pyx\u001b[0m in \u001b[0;36mpandas._libs.parsers.TextReader.read_low_memory\u001b[0;34m()\u001b[0m\n",
            "\u001b[0;32m/usr/local/lib/python3.7/dist-packages/pandas/_libs/parsers.pyx\u001b[0m in \u001b[0;36mpandas._libs.parsers.TextReader._read_rows\u001b[0;34m()\u001b[0m\n",
            "\u001b[0;32m/usr/local/lib/python3.7/dist-packages/pandas/_libs/parsers.pyx\u001b[0m in \u001b[0;36mpandas._libs.parsers.TextReader._tokenize_rows\u001b[0;34m()\u001b[0m\n",
            "\u001b[0;32m/usr/local/lib/python3.7/dist-packages/pandas/_libs/parsers.pyx\u001b[0m in \u001b[0;36mpandas._libs.parsers.raise_parser_error\u001b[0;34m()\u001b[0m\n",
            "\u001b[0;31mParserError\u001b[0m: Error tokenizing data. C error: Expected 8 fields in line 3, saw 18\n"
          ]
        }
      ],
      "source": [
        "sputnikdata1 = pd.read_csv('/content/drive/MyDrive/Colab Notebooks/Oxford Text Analysis 22/Python QTA Drive Oxford 2022/Data/sputnikgerman20.tsv')\n",
        "\n",
        "#why do we get an error message?"
      ]
    },
    {
      "cell_type": "code",
      "execution_count": null,
      "metadata": {
        "id": "9iLbAFjGtd2I",
        "outputId": "07cec940-f1ad-4fd2-8893-eeef9d5db3ed",
        "colab": {
          "base_uri": "https://localhost:8080/",
          "height": 1000
        }
      },
      "outputs": [
        {
          "output_type": "execute_result",
          "data": {
            "text/plain": [
              "  http://de.sputniknews.compolitik/20160107306965193-Lindner-Merkel-Migrationspolitik-Chaos-Einwanderungsgesetz  \\\n",
              "0  http://de.sputniknews.com/panorama/20150210/30...                                                              \n",
              "1  http://de.sputniknews.compolitik/2018111732299...                                                              \n",
              "2  http://de.sputniknews.compolitik/2018110932290...                                                              \n",
              "3  http://de.sputniknews.compolitik/2016030630828...                                                              \n",
              "4  http://de.sputniknews.compolitik/2015101630498...                                                              \n",
              "\n",
              "  http://web.archive.org/web/20170227192503/https://de.sputniknews.com/amp/politik/20160107306965193-Lindner-Merkel-Migrationspolitik-Chaos-Einwanderungsgesetz/  \\\n",
              "0  http://web.archive.org/web/20150315163311/http...                                                                                                               \n",
              "1  http://web.archive.org/web/20181117160304/http...                                                                                                               \n",
              "2  http://web.archive.org/web/20181123020955/http...                                                                                                               \n",
              "3  http://web.archive.org/web/20181126055753/http...                                                                                                               \n",
              "4  http://web.archive.org/web/20181123212339/http...                                                                                                               \n",
              "\n",
              "   20160107  \\\n",
              "0  20150210   \n",
              "1  20181117   \n",
              "2  20181109   \n",
              "3  20160306   \n",
              "4  20151016   \n",
              "\n",
              "  FDP-Chef Lindner: Merkels Flüchtlingspolitik führt Europa ins Chaos  \\\n",
              "0  Experte: Rund 1,3 Millionen wehrpflichtige Ukr...                    \n",
              "1  So präzisiert Nahles ihre Idee für Hartz IV-Al...                    \n",
              "2  Trump beschränkt drastisch Asylgewährung für i...                    \n",
              "3  Österreich drängt auf deutsches Flüchtlingskon...                    \n",
              "4  Migrationskrise: Warschau wehrt sich gegen Mer...                    \n",
              "\n",
              "  Der Satz „Wir schaffen das“ der Bundeskanzlerin ersetze kein Regierungshandeln, so Lindner. Seiner Meinung nach ist ein „rationales, humanitäres, europäisch abgestimmtes Einwanderungsgesetz“ nötig, welches eine systematisierte Registrierung von Flüchtlingen und deren legale Integration ermöglichen würde. Die CDU/CSU-Politiker hatten von Merkel wiederholt gefordert, den Migranten-Zustrom zu begrenzen. Doch die Kanzlerin hat sich bislang geweigert, eine Obergrenze für Flüchtlinge festzulegen, was die Grenzschließung für neu ankommende Migranten bedeuten würde.  \\\n",
              "0  In letzter Zeit sei knapp einer halben Million...                                                                                                                                                                                                                                                                                                                                                                                                                                                                                                                                     \n",
              "1  {                    \\vars\\\": {               ...                                                                                                                                                                                                                                                                                                                                                                                                                                                                                                                                     \n",
              "2  {                    \\vars\\\": {               ...                                                                                                                                                                                                                                                                                                                                                                                                                                                                                                                                     \n",
              "3  {                    \\vars\\\": {               ...                                                                                                                                                                                                                                                                                                                                                                                                                                                                                                                                     \n",
              "4  {                    \\vars\\\": {               ...                                                                                                                                                                                                                                                                                                                                                                                                                                                                                                                                     \n",
              "\n",
              "   OVER-THRESHOLD                 flüchtlingen migranten flüchtlinge   70  \\\n",
              "0  OVER-THRESHOLD                 flüchtlingsstatus asyl flüchtlinge   43   \n",
              "1  OVER-THRESHOLD                                          migration  884   \n",
              "2  OVER-THRESHOLD                         einwanderer migranten asyl  998   \n",
              "3  OVER-THRESHOLD  asyl flüchtlinge migranten asylanträge flüchtl...  699   \n",
              "4  OVER-THRESHOLD  flüchtlingen migrationskrise migranten flüchtl...  805   \n",
              "\n",
              "   0.572646110198091  \n",
              "0           0.549350  \n",
              "1           0.549179  \n",
              "2           0.548637  \n",
              "3           0.547927  \n",
              "4           0.544957  "
            ],
            "text/html": [
              "\n",
              "  <div id=\"df-95952424-ce35-4232-a25a-2d701179737d\">\n",
              "    <div class=\"colab-df-container\">\n",
              "      <div>\n",
              "<style scoped>\n",
              "    .dataframe tbody tr th:only-of-type {\n",
              "        vertical-align: middle;\n",
              "    }\n",
              "\n",
              "    .dataframe tbody tr th {\n",
              "        vertical-align: top;\n",
              "    }\n",
              "\n",
              "    .dataframe thead th {\n",
              "        text-align: right;\n",
              "    }\n",
              "</style>\n",
              "<table border=\"1\" class=\"dataframe\">\n",
              "  <thead>\n",
              "    <tr style=\"text-align: right;\">\n",
              "      <th></th>\n",
              "      <th>http://de.sputniknews.compolitik/20160107306965193-Lindner-Merkel-Migrationspolitik-Chaos-Einwanderungsgesetz</th>\n",
              "      <th>http://web.archive.org/web/20170227192503/https://de.sputniknews.com/amp/politik/20160107306965193-Lindner-Merkel-Migrationspolitik-Chaos-Einwanderungsgesetz/</th>\n",
              "      <th>20160107</th>\n",
              "      <th>FDP-Chef Lindner: Merkels Flüchtlingspolitik führt Europa ins Chaos</th>\n",
              "      <th>Der Satz „Wir schaffen das“ der Bundeskanzlerin ersetze kein Regierungshandeln, so Lindner. Seiner Meinung nach ist ein „rationales, humanitäres, europäisch abgestimmtes Einwanderungsgesetz“ nötig, welches eine systematisierte Registrierung von Flüchtlingen und deren legale Integration ermöglichen würde. Die CDU/CSU-Politiker hatten von Merkel wiederholt gefordert, den Migranten-Zustrom zu begrenzen. Doch die Kanzlerin hat sich bislang geweigert, eine Obergrenze für Flüchtlinge festzulegen, was die Grenzschließung für neu ankommende Migranten bedeuten würde.</th>\n",
              "      <th>OVER-THRESHOLD</th>\n",
              "      <th>flüchtlingen migranten flüchtlinge</th>\n",
              "      <th>70</th>\n",
              "      <th>0.572646110198091</th>\n",
              "    </tr>\n",
              "  </thead>\n",
              "  <tbody>\n",
              "    <tr>\n",
              "      <th>0</th>\n",
              "      <td>http://de.sputniknews.com/panorama/20150210/30...</td>\n",
              "      <td>http://web.archive.org/web/20150315163311/http...</td>\n",
              "      <td>20150210</td>\n",
              "      <td>Experte: Rund 1,3 Millionen wehrpflichtige Ukr...</td>\n",
              "      <td>In letzter Zeit sei knapp einer halben Million...</td>\n",
              "      <td>OVER-THRESHOLD</td>\n",
              "      <td>flüchtlingsstatus asyl flüchtlinge</td>\n",
              "      <td>43</td>\n",
              "      <td>0.549350</td>\n",
              "    </tr>\n",
              "    <tr>\n",
              "      <th>1</th>\n",
              "      <td>http://de.sputniknews.compolitik/2018111732299...</td>\n",
              "      <td>http://web.archive.org/web/20181117160304/http...</td>\n",
              "      <td>20181117</td>\n",
              "      <td>So präzisiert Nahles ihre Idee für Hartz IV-Al...</td>\n",
              "      <td>{                    \\vars\\\": {               ...</td>\n",
              "      <td>OVER-THRESHOLD</td>\n",
              "      <td>migration</td>\n",
              "      <td>884</td>\n",
              "      <td>0.549179</td>\n",
              "    </tr>\n",
              "    <tr>\n",
              "      <th>2</th>\n",
              "      <td>http://de.sputniknews.compolitik/2018110932290...</td>\n",
              "      <td>http://web.archive.org/web/20181123020955/http...</td>\n",
              "      <td>20181109</td>\n",
              "      <td>Trump beschränkt drastisch Asylgewährung für i...</td>\n",
              "      <td>{                    \\vars\\\": {               ...</td>\n",
              "      <td>OVER-THRESHOLD</td>\n",
              "      <td>einwanderer migranten asyl</td>\n",
              "      <td>998</td>\n",
              "      <td>0.548637</td>\n",
              "    </tr>\n",
              "    <tr>\n",
              "      <th>3</th>\n",
              "      <td>http://de.sputniknews.compolitik/2016030630828...</td>\n",
              "      <td>http://web.archive.org/web/20181126055753/http...</td>\n",
              "      <td>20160306</td>\n",
              "      <td>Österreich drängt auf deutsches Flüchtlingskon...</td>\n",
              "      <td>{                    \\vars\\\": {               ...</td>\n",
              "      <td>OVER-THRESHOLD</td>\n",
              "      <td>asyl flüchtlinge migranten asylanträge flüchtl...</td>\n",
              "      <td>699</td>\n",
              "      <td>0.547927</td>\n",
              "    </tr>\n",
              "    <tr>\n",
              "      <th>4</th>\n",
              "      <td>http://de.sputniknews.compolitik/2015101630498...</td>\n",
              "      <td>http://web.archive.org/web/20181123212339/http...</td>\n",
              "      <td>20151016</td>\n",
              "      <td>Migrationskrise: Warschau wehrt sich gegen Mer...</td>\n",
              "      <td>{                    \\vars\\\": {               ...</td>\n",
              "      <td>OVER-THRESHOLD</td>\n",
              "      <td>flüchtlingen migrationskrise migranten flüchtl...</td>\n",
              "      <td>805</td>\n",
              "      <td>0.544957</td>\n",
              "    </tr>\n",
              "  </tbody>\n",
              "</table>\n",
              "</div>\n",
              "      <button class=\"colab-df-convert\" onclick=\"convertToInteractive('df-95952424-ce35-4232-a25a-2d701179737d')\"\n",
              "              title=\"Convert this dataframe to an interactive table.\"\n",
              "              style=\"display:none;\">\n",
              "        \n",
              "  <svg xmlns=\"http://www.w3.org/2000/svg\" height=\"24px\"viewBox=\"0 0 24 24\"\n",
              "       width=\"24px\">\n",
              "    <path d=\"M0 0h24v24H0V0z\" fill=\"none\"/>\n",
              "    <path d=\"M18.56 5.44l.94 2.06.94-2.06 2.06-.94-2.06-.94-.94-2.06-.94 2.06-2.06.94zm-11 1L8.5 8.5l.94-2.06 2.06-.94-2.06-.94L8.5 2.5l-.94 2.06-2.06.94zm10 10l.94 2.06.94-2.06 2.06-.94-2.06-.94-.94-2.06-.94 2.06-2.06.94z\"/><path d=\"M17.41 7.96l-1.37-1.37c-.4-.4-.92-.59-1.43-.59-.52 0-1.04.2-1.43.59L10.3 9.45l-7.72 7.72c-.78.78-.78 2.05 0 2.83L4 21.41c.39.39.9.59 1.41.59.51 0 1.02-.2 1.41-.59l7.78-7.78 2.81-2.81c.8-.78.8-2.07 0-2.86zM5.41 20L4 18.59l7.72-7.72 1.47 1.35L5.41 20z\"/>\n",
              "  </svg>\n",
              "      </button>\n",
              "      \n",
              "  <style>\n",
              "    .colab-df-container {\n",
              "      display:flex;\n",
              "      flex-wrap:wrap;\n",
              "      gap: 12px;\n",
              "    }\n",
              "\n",
              "    .colab-df-convert {\n",
              "      background-color: #E8F0FE;\n",
              "      border: none;\n",
              "      border-radius: 50%;\n",
              "      cursor: pointer;\n",
              "      display: none;\n",
              "      fill: #1967D2;\n",
              "      height: 32px;\n",
              "      padding: 0 0 0 0;\n",
              "      width: 32px;\n",
              "    }\n",
              "\n",
              "    .colab-df-convert:hover {\n",
              "      background-color: #E2EBFA;\n",
              "      box-shadow: 0px 1px 2px rgba(60, 64, 67, 0.3), 0px 1px 3px 1px rgba(60, 64, 67, 0.15);\n",
              "      fill: #174EA6;\n",
              "    }\n",
              "\n",
              "    [theme=dark] .colab-df-convert {\n",
              "      background-color: #3B4455;\n",
              "      fill: #D2E3FC;\n",
              "    }\n",
              "\n",
              "    [theme=dark] .colab-df-convert:hover {\n",
              "      background-color: #434B5C;\n",
              "      box-shadow: 0px 1px 3px 1px rgba(0, 0, 0, 0.15);\n",
              "      filter: drop-shadow(0px 1px 2px rgba(0, 0, 0, 0.3));\n",
              "      fill: #FFFFFF;\n",
              "    }\n",
              "  </style>\n",
              "\n",
              "      <script>\n",
              "        const buttonEl =\n",
              "          document.querySelector('#df-95952424-ce35-4232-a25a-2d701179737d button.colab-df-convert');\n",
              "        buttonEl.style.display =\n",
              "          google.colab.kernel.accessAllowed ? 'block' : 'none';\n",
              "\n",
              "        async function convertToInteractive(key) {\n",
              "          const element = document.querySelector('#df-95952424-ce35-4232-a25a-2d701179737d');\n",
              "          const dataTable =\n",
              "            await google.colab.kernel.invokeFunction('convertToInteractive',\n",
              "                                                     [key], {});\n",
              "          if (!dataTable) return;\n",
              "\n",
              "          const docLinkHtml = 'Like what you see? Visit the ' +\n",
              "            '<a target=\"_blank\" href=https://colab.research.google.com/notebooks/data_table.ipynb>data table notebook</a>'\n",
              "            + ' to learn more about interactive tables.';\n",
              "          element.innerHTML = '';\n",
              "          dataTable['output_type'] = 'display_data';\n",
              "          await google.colab.output.renderOutput(dataTable, element);\n",
              "          const docLink = document.createElement('div');\n",
              "          docLink.innerHTML = docLinkHtml;\n",
              "          element.appendChild(docLink);\n",
              "        }\n",
              "      </script>\n",
              "    </div>\n",
              "  </div>\n",
              "  "
            ]
          },
          "metadata": {},
          "execution_count": 41
        }
      ],
      "source": [
        "import pandas as pd\n",
        "\n",
        "sputnikdata1 = pd.read_csv('/content/drive/MyDrive/Colab Notebooks/Oxford Text Analysis 22/Python QTA Drive Oxford 2022/Data/sputnikgerman20.tsv',sep='\\t')\n",
        "sputnikdata1.head()\n",
        "#what do we want to change here"
      ]
    },
    {
      "cell_type": "code",
      "execution_count": null,
      "metadata": {
        "id": "I4ddtvO7td2I",
        "outputId": "f7d7fcb0-d1f4-4686-bd77-fa6e7bb58827",
        "colab": {
          "base_uri": "https://localhost:8080/",
          "height": 1000
        }
      },
      "outputs": [
        {
          "output_type": "execute_result",
          "data": {
            "text/plain": [
              "                                                    0  \\\n",
              "0   http://de.sputniknews.compolitik/2016010730696...   \n",
              "1   http://de.sputniknews.com/panorama/20150210/30...   \n",
              "2   http://de.sputniknews.compolitik/2018111732299...   \n",
              "3   http://de.sputniknews.compolitik/2018110932290...   \n",
              "4   http://de.sputniknews.compolitik/2016030630828...   \n",
              "5   http://de.sputniknews.compolitik/2015101630498...   \n",
              "6   http://de.sputniknews.comkarikatur/20151020305...   \n",
              "7   http://de.sputniknews.com/german.ruvr.ru/news/...   \n",
              "8   http://de.sputniknews.compolitik/2018081332193...   \n",
              "9   http://de.sputniknews.compolitik/2017021931460...   \n",
              "10  http://de.sputniknews.companorama/201512283068...   \n",
              "11  http://de.sputniknews.compolitik/2016061431060...   \n",
              "12  http://de.sputniknews.comgesellschaft/20181210...   \n",
              "13  http://de.sputniknews.compolitik/2015110230534...   \n",
              "14  http://de.sputniknews.companorama/201703073148...   \n",
              "15  http://de.sputniknews.compolitik/2017020731442...   \n",
              "16  http://de.sputniknews.comgesellschaft/20180619...   \n",
              "17  http://de.sputniknews.compolitik/2018091432231...   \n",
              "18  http://de.sputniknews.com/german.ruvr.ru/2013_...   \n",
              "19  http://de.sputniknews.companorama/201707153166...   \n",
              "\n",
              "                                                    1         2  \\\n",
              "0   http://web.archive.org/web/20170227192503/http...  20160107   \n",
              "1   http://web.archive.org/web/20150315163311/http...  20150210   \n",
              "2   http://web.archive.org/web/20181117160304/http...  20181117   \n",
              "3   http://web.archive.org/web/20181123020955/http...  20181109   \n",
              "4   http://web.archive.org/web/20181126055753/http...  20160306   \n",
              "5   http://web.archive.org/web/20181123212339/http...  20151016   \n",
              "6   http://web.archive.org/web/20181201153825/http...  20151020   \n",
              "7   http://web.archive.org/web/20150726055154/http...  20140106   \n",
              "8   http://web.archive.org/web/20180813172522/http...  20180813   \n",
              "9   http://web.archive.org/web/20170324060955/http...  20170219   \n",
              "10  http://web.archive.org/web/20181123231931/http...  20151228   \n",
              "11  http://web.archive.org/web/20171008021814/http...  20160614   \n",
              "12  http://web.archive.org/web/20181210233556/http...  20181210   \n",
              "13  http://web.archive.org/web/20181201040148/http...  20151102   \n",
              "14  http://web.archive.org/web/20170307115432/http...  20170307   \n",
              "15  http://web.archive.org/web/20170209143833/http...  20170207   \n",
              "16  http://web.archive.org/web/20181225062127/http...  20180619   \n",
              "17  http://web.archive.org/web/20180914185523/http...  20180914   \n",
              "18  http://web.archive.org/web/20150722052852/http...  20131106   \n",
              "19  http://web.archive.org/web/20170715150527/http...  20170715   \n",
              "\n",
              "                                                    3  \\\n",
              "0   FDP-Chef Lindner: Merkels Flüchtlingspolitik f...   \n",
              "1   Experte: Rund 1,3 Millionen wehrpflichtige Ukr...   \n",
              "2   So präzisiert Nahles ihre Idee für Hartz IV-Al...   \n",
              "3   Trump beschränkt drastisch Asylgewährung für i...   \n",
              "4   Österreich drängt auf deutsches Flüchtlingskon...   \n",
              "5   Migrationskrise: Warschau wehrt sich gegen Mer...   \n",
              "6        Flüchtlingskrise: Ist Abriegeln eine Lösung?   \n",
              "7     Großbritannien will EU-Freizügigkeit verhindern   \n",
              "8   Rückkehr von Flüchtlingen: Syrischer Minister ...   \n",
              "9                          USA verschärfen Asyl-Recht   \n",
              "10     Dänemark will die Flüchtlingskonvention ändern   \n",
              "11  Glaube darf nicht über Gesetz stehen: Bundesju...   \n",
              "12           Gibt es ein Menschenrecht auf Migration?   \n",
              "13  Kabul nimmt abgelehnte Asylbewerber aus Deutsc...   \n",
              "14  EuGH-Urteil: Keine \\humanitären Visa\\\" in EU-A...   \n",
              "15  Kalifornien und Trump erklären einander den Kr...   \n",
              "16  Kinder von Eltern zu trennen ist skrupellos – ...   \n",
              "17  EU will Ungarn „Recht auf Kontrolle eigener Gr...   \n",
              "18    Festung Europa - von Migranten und Flüchtlingen   \n",
              "19  Selbstanzeigen unter Flüchtlingen „wegen Terro...   \n",
              "\n",
              "                                                    4               5  \\\n",
              "0   Der Satz „Wir schaffen das“ der Bundeskanzleri...  OVER-THRESHOLD   \n",
              "1   In letzter Zeit sei knapp einer halben Million...  OVER-THRESHOLD   \n",
              "2   {                    \\vars\\\": {               ...  OVER-THRESHOLD   \n",
              "3   {                    \\vars\\\": {               ...  OVER-THRESHOLD   \n",
              "4   {                    \\vars\\\": {               ...  OVER-THRESHOLD   \n",
              "5   {                    \\vars\\\": {               ...  OVER-THRESHOLD   \n",
              "6   {                    \\vars\\\": {               ...  OVER-THRESHOLD   \n",
              "7   Foto: EPA STIMME RUSSLANDS Die Regierung Großb...  OVER-THRESHOLD   \n",
              "8   Der syrische Minister für lokale Verwaltung un...  OVER-THRESHOLD   \n",
              "9   Nach dem US-Gesetz „Immigration and Nationalit...  OVER-THRESHOLD   \n",
              "10  {                    \\vars\\\": {               ...  OVER-THRESHOLD   \n",
              "11  Bundesjustizminister Heiko Maas will Mehrfach-...  OVER-THRESHOLD   \n",
              "12  {                    \\vars\\\": {               ...  OVER-THRESHOLD   \n",
              "13  {                    \\vars\\\": {               ...  OVER-THRESHOLD   \n",
              "14  Die Behörde argumentierte, dass sich die Famil...  OVER-THRESHOLD   \n",
              "15  „Das ist lächerlich“, so Trump über Kalifornie...  OVER-THRESHOLD   \n",
              "16  {                    \\vars\\\": {               ...  OVER-THRESHOLD   \n",
              "17  Das EU-Rechtsstaatsverfahren gegen Ungarn stel...  OVER-THRESHOLD   \n",
              "18  Foto: Aziz Bozkurt STIMME RUSSLANDS Flüchtling...  OVER-THRESHOLD   \n",
              "19  Mehr als 408.000 Asylanträge hat das Bundesamt...  OVER-THRESHOLD   \n",
              "\n",
              "                                                    6     7         8  \n",
              "0                  flüchtlingen migranten flüchtlinge    70  0.572646  \n",
              "1                  flüchtlingsstatus asyl flüchtlinge    43  0.549350  \n",
              "2                                           migration   884  0.549179  \n",
              "3                          einwanderer migranten asyl   998  0.548637  \n",
              "4   asyl flüchtlinge migranten asylanträge flüchtl...   699  0.547927  \n",
              "5   flüchtlingen migrationskrise migranten flüchtl...   805  0.544957  \n",
              "6           migrationsproblem asylpolitik flüchtlinge   522  0.544158  \n",
              "7                                           migranten    83  0.544010  \n",
              "8                            flüchtlingen flüchtlinge   163  0.543707  \n",
              "9                              migration asylbewerber    79  0.543063  \n",
              "10                  flüchtlingskrise asyl flüchtlinge   981  0.541940  \n",
              "11                                          migranten   135  0.539771  \n",
              "12  flüchtlingen asyl einwanderung flucht flüchtli...  1461  0.537198  \n",
              "13         migrationsproblem asylbewerber flüchtlinge   801  0.536986  \n",
              "14                                   asylanträge asyl   116  0.536182  \n",
              "15                                          migranten   174  0.536121  \n",
              "16                              einwanderer migranten   980  0.533417  \n",
              "17        flüchtlingen flüchtlingspolitik flüchtlinge   179  0.532563  \n",
              "18                 migration asylbewerber flüchtlinge    61  0.532313  \n",
              "19     asylanträge migration asylbewerber flüchtlinge   128  0.531923  "
            ],
            "text/html": [
              "\n",
              "  <div id=\"df-f535f28f-509c-4843-ae3f-32d6f4760cff\">\n",
              "    <div class=\"colab-df-container\">\n",
              "      <div>\n",
              "<style scoped>\n",
              "    .dataframe tbody tr th:only-of-type {\n",
              "        vertical-align: middle;\n",
              "    }\n",
              "\n",
              "    .dataframe tbody tr th {\n",
              "        vertical-align: top;\n",
              "    }\n",
              "\n",
              "    .dataframe thead th {\n",
              "        text-align: right;\n",
              "    }\n",
              "</style>\n",
              "<table border=\"1\" class=\"dataframe\">\n",
              "  <thead>\n",
              "    <tr style=\"text-align: right;\">\n",
              "      <th></th>\n",
              "      <th>0</th>\n",
              "      <th>1</th>\n",
              "      <th>2</th>\n",
              "      <th>3</th>\n",
              "      <th>4</th>\n",
              "      <th>5</th>\n",
              "      <th>6</th>\n",
              "      <th>7</th>\n",
              "      <th>8</th>\n",
              "    </tr>\n",
              "  </thead>\n",
              "  <tbody>\n",
              "    <tr>\n",
              "      <th>0</th>\n",
              "      <td>http://de.sputniknews.compolitik/2016010730696...</td>\n",
              "      <td>http://web.archive.org/web/20170227192503/http...</td>\n",
              "      <td>20160107</td>\n",
              "      <td>FDP-Chef Lindner: Merkels Flüchtlingspolitik f...</td>\n",
              "      <td>Der Satz „Wir schaffen das“ der Bundeskanzleri...</td>\n",
              "      <td>OVER-THRESHOLD</td>\n",
              "      <td>flüchtlingen migranten flüchtlinge</td>\n",
              "      <td>70</td>\n",
              "      <td>0.572646</td>\n",
              "    </tr>\n",
              "    <tr>\n",
              "      <th>1</th>\n",
              "      <td>http://de.sputniknews.com/panorama/20150210/30...</td>\n",
              "      <td>http://web.archive.org/web/20150315163311/http...</td>\n",
              "      <td>20150210</td>\n",
              "      <td>Experte: Rund 1,3 Millionen wehrpflichtige Ukr...</td>\n",
              "      <td>In letzter Zeit sei knapp einer halben Million...</td>\n",
              "      <td>OVER-THRESHOLD</td>\n",
              "      <td>flüchtlingsstatus asyl flüchtlinge</td>\n",
              "      <td>43</td>\n",
              "      <td>0.549350</td>\n",
              "    </tr>\n",
              "    <tr>\n",
              "      <th>2</th>\n",
              "      <td>http://de.sputniknews.compolitik/2018111732299...</td>\n",
              "      <td>http://web.archive.org/web/20181117160304/http...</td>\n",
              "      <td>20181117</td>\n",
              "      <td>So präzisiert Nahles ihre Idee für Hartz IV-Al...</td>\n",
              "      <td>{                    \\vars\\\": {               ...</td>\n",
              "      <td>OVER-THRESHOLD</td>\n",
              "      <td>migration</td>\n",
              "      <td>884</td>\n",
              "      <td>0.549179</td>\n",
              "    </tr>\n",
              "    <tr>\n",
              "      <th>3</th>\n",
              "      <td>http://de.sputniknews.compolitik/2018110932290...</td>\n",
              "      <td>http://web.archive.org/web/20181123020955/http...</td>\n",
              "      <td>20181109</td>\n",
              "      <td>Trump beschränkt drastisch Asylgewährung für i...</td>\n",
              "      <td>{                    \\vars\\\": {               ...</td>\n",
              "      <td>OVER-THRESHOLD</td>\n",
              "      <td>einwanderer migranten asyl</td>\n",
              "      <td>998</td>\n",
              "      <td>0.548637</td>\n",
              "    </tr>\n",
              "    <tr>\n",
              "      <th>4</th>\n",
              "      <td>http://de.sputniknews.compolitik/2016030630828...</td>\n",
              "      <td>http://web.archive.org/web/20181126055753/http...</td>\n",
              "      <td>20160306</td>\n",
              "      <td>Österreich drängt auf deutsches Flüchtlingskon...</td>\n",
              "      <td>{                    \\vars\\\": {               ...</td>\n",
              "      <td>OVER-THRESHOLD</td>\n",
              "      <td>asyl flüchtlinge migranten asylanträge flüchtl...</td>\n",
              "      <td>699</td>\n",
              "      <td>0.547927</td>\n",
              "    </tr>\n",
              "    <tr>\n",
              "      <th>5</th>\n",
              "      <td>http://de.sputniknews.compolitik/2015101630498...</td>\n",
              "      <td>http://web.archive.org/web/20181123212339/http...</td>\n",
              "      <td>20151016</td>\n",
              "      <td>Migrationskrise: Warschau wehrt sich gegen Mer...</td>\n",
              "      <td>{                    \\vars\\\": {               ...</td>\n",
              "      <td>OVER-THRESHOLD</td>\n",
              "      <td>flüchtlingen migrationskrise migranten flüchtl...</td>\n",
              "      <td>805</td>\n",
              "      <td>0.544957</td>\n",
              "    </tr>\n",
              "    <tr>\n",
              "      <th>6</th>\n",
              "      <td>http://de.sputniknews.comkarikatur/20151020305...</td>\n",
              "      <td>http://web.archive.org/web/20181201153825/http...</td>\n",
              "      <td>20151020</td>\n",
              "      <td>Flüchtlingskrise: Ist Abriegeln eine Lösung?</td>\n",
              "      <td>{                    \\vars\\\": {               ...</td>\n",
              "      <td>OVER-THRESHOLD</td>\n",
              "      <td>migrationsproblem asylpolitik flüchtlinge</td>\n",
              "      <td>522</td>\n",
              "      <td>0.544158</td>\n",
              "    </tr>\n",
              "    <tr>\n",
              "      <th>7</th>\n",
              "      <td>http://de.sputniknews.com/german.ruvr.ru/news/...</td>\n",
              "      <td>http://web.archive.org/web/20150726055154/http...</td>\n",
              "      <td>20140106</td>\n",
              "      <td>Großbritannien will EU-Freizügigkeit verhindern</td>\n",
              "      <td>Foto: EPA STIMME RUSSLANDS Die Regierung Großb...</td>\n",
              "      <td>OVER-THRESHOLD</td>\n",
              "      <td>migranten</td>\n",
              "      <td>83</td>\n",
              "      <td>0.544010</td>\n",
              "    </tr>\n",
              "    <tr>\n",
              "      <th>8</th>\n",
              "      <td>http://de.sputniknews.compolitik/2018081332193...</td>\n",
              "      <td>http://web.archive.org/web/20180813172522/http...</td>\n",
              "      <td>20180813</td>\n",
              "      <td>Rückkehr von Flüchtlingen: Syrischer Minister ...</td>\n",
              "      <td>Der syrische Minister für lokale Verwaltung un...</td>\n",
              "      <td>OVER-THRESHOLD</td>\n",
              "      <td>flüchtlingen flüchtlinge</td>\n",
              "      <td>163</td>\n",
              "      <td>0.543707</td>\n",
              "    </tr>\n",
              "    <tr>\n",
              "      <th>9</th>\n",
              "      <td>http://de.sputniknews.compolitik/2017021931460...</td>\n",
              "      <td>http://web.archive.org/web/20170324060955/http...</td>\n",
              "      <td>20170219</td>\n",
              "      <td>USA verschärfen Asyl-Recht</td>\n",
              "      <td>Nach dem US-Gesetz „Immigration and Nationalit...</td>\n",
              "      <td>OVER-THRESHOLD</td>\n",
              "      <td>migration asylbewerber</td>\n",
              "      <td>79</td>\n",
              "      <td>0.543063</td>\n",
              "    </tr>\n",
              "    <tr>\n",
              "      <th>10</th>\n",
              "      <td>http://de.sputniknews.companorama/201512283068...</td>\n",
              "      <td>http://web.archive.org/web/20181123231931/http...</td>\n",
              "      <td>20151228</td>\n",
              "      <td>Dänemark will die Flüchtlingskonvention ändern</td>\n",
              "      <td>{                    \\vars\\\": {               ...</td>\n",
              "      <td>OVER-THRESHOLD</td>\n",
              "      <td>flüchtlingskrise asyl flüchtlinge</td>\n",
              "      <td>981</td>\n",
              "      <td>0.541940</td>\n",
              "    </tr>\n",
              "    <tr>\n",
              "      <th>11</th>\n",
              "      <td>http://de.sputniknews.compolitik/2016061431060...</td>\n",
              "      <td>http://web.archive.org/web/20171008021814/http...</td>\n",
              "      <td>20160614</td>\n",
              "      <td>Glaube darf nicht über Gesetz stehen: Bundesju...</td>\n",
              "      <td>Bundesjustizminister Heiko Maas will Mehrfach-...</td>\n",
              "      <td>OVER-THRESHOLD</td>\n",
              "      <td>migranten</td>\n",
              "      <td>135</td>\n",
              "      <td>0.539771</td>\n",
              "    </tr>\n",
              "    <tr>\n",
              "      <th>12</th>\n",
              "      <td>http://de.sputniknews.comgesellschaft/20181210...</td>\n",
              "      <td>http://web.archive.org/web/20181210233556/http...</td>\n",
              "      <td>20181210</td>\n",
              "      <td>Gibt es ein Menschenrecht auf Migration?</td>\n",
              "      <td>{                    \\vars\\\": {               ...</td>\n",
              "      <td>OVER-THRESHOLD</td>\n",
              "      <td>flüchtlingen asyl einwanderung flucht flüchtli...</td>\n",
              "      <td>1461</td>\n",
              "      <td>0.537198</td>\n",
              "    </tr>\n",
              "    <tr>\n",
              "      <th>13</th>\n",
              "      <td>http://de.sputniknews.compolitik/2015110230534...</td>\n",
              "      <td>http://web.archive.org/web/20181201040148/http...</td>\n",
              "      <td>20151102</td>\n",
              "      <td>Kabul nimmt abgelehnte Asylbewerber aus Deutsc...</td>\n",
              "      <td>{                    \\vars\\\": {               ...</td>\n",
              "      <td>OVER-THRESHOLD</td>\n",
              "      <td>migrationsproblem asylbewerber flüchtlinge</td>\n",
              "      <td>801</td>\n",
              "      <td>0.536986</td>\n",
              "    </tr>\n",
              "    <tr>\n",
              "      <th>14</th>\n",
              "      <td>http://de.sputniknews.companorama/201703073148...</td>\n",
              "      <td>http://web.archive.org/web/20170307115432/http...</td>\n",
              "      <td>20170307</td>\n",
              "      <td>EuGH-Urteil: Keine \\humanitären Visa\\\" in EU-A...</td>\n",
              "      <td>Die Behörde argumentierte, dass sich die Famil...</td>\n",
              "      <td>OVER-THRESHOLD</td>\n",
              "      <td>asylanträge asyl</td>\n",
              "      <td>116</td>\n",
              "      <td>0.536182</td>\n",
              "    </tr>\n",
              "    <tr>\n",
              "      <th>15</th>\n",
              "      <td>http://de.sputniknews.compolitik/2017020731442...</td>\n",
              "      <td>http://web.archive.org/web/20170209143833/http...</td>\n",
              "      <td>20170207</td>\n",
              "      <td>Kalifornien und Trump erklären einander den Kr...</td>\n",
              "      <td>„Das ist lächerlich“, so Trump über Kalifornie...</td>\n",
              "      <td>OVER-THRESHOLD</td>\n",
              "      <td>migranten</td>\n",
              "      <td>174</td>\n",
              "      <td>0.536121</td>\n",
              "    </tr>\n",
              "    <tr>\n",
              "      <th>16</th>\n",
              "      <td>http://de.sputniknews.comgesellschaft/20180619...</td>\n",
              "      <td>http://web.archive.org/web/20181225062127/http...</td>\n",
              "      <td>20180619</td>\n",
              "      <td>Kinder von Eltern zu trennen ist skrupellos – ...</td>\n",
              "      <td>{                    \\vars\\\": {               ...</td>\n",
              "      <td>OVER-THRESHOLD</td>\n",
              "      <td>einwanderer migranten</td>\n",
              "      <td>980</td>\n",
              "      <td>0.533417</td>\n",
              "    </tr>\n",
              "    <tr>\n",
              "      <th>17</th>\n",
              "      <td>http://de.sputniknews.compolitik/2018091432231...</td>\n",
              "      <td>http://web.archive.org/web/20180914185523/http...</td>\n",
              "      <td>20180914</td>\n",
              "      <td>EU will Ungarn „Recht auf Kontrolle eigener Gr...</td>\n",
              "      <td>Das EU-Rechtsstaatsverfahren gegen Ungarn stel...</td>\n",
              "      <td>OVER-THRESHOLD</td>\n",
              "      <td>flüchtlingen flüchtlingspolitik flüchtlinge</td>\n",
              "      <td>179</td>\n",
              "      <td>0.532563</td>\n",
              "    </tr>\n",
              "    <tr>\n",
              "      <th>18</th>\n",
              "      <td>http://de.sputniknews.com/german.ruvr.ru/2013_...</td>\n",
              "      <td>http://web.archive.org/web/20150722052852/http...</td>\n",
              "      <td>20131106</td>\n",
              "      <td>Festung Europa - von Migranten und Flüchtlingen</td>\n",
              "      <td>Foto: Aziz Bozkurt STIMME RUSSLANDS Flüchtling...</td>\n",
              "      <td>OVER-THRESHOLD</td>\n",
              "      <td>migration asylbewerber flüchtlinge</td>\n",
              "      <td>61</td>\n",
              "      <td>0.532313</td>\n",
              "    </tr>\n",
              "    <tr>\n",
              "      <th>19</th>\n",
              "      <td>http://de.sputniknews.companorama/201707153166...</td>\n",
              "      <td>http://web.archive.org/web/20170715150527/http...</td>\n",
              "      <td>20170715</td>\n",
              "      <td>Selbstanzeigen unter Flüchtlingen „wegen Terro...</td>\n",
              "      <td>Mehr als 408.000 Asylanträge hat das Bundesamt...</td>\n",
              "      <td>OVER-THRESHOLD</td>\n",
              "      <td>asylanträge migration asylbewerber flüchtlinge</td>\n",
              "      <td>128</td>\n",
              "      <td>0.531923</td>\n",
              "    </tr>\n",
              "  </tbody>\n",
              "</table>\n",
              "</div>\n",
              "      <button class=\"colab-df-convert\" onclick=\"convertToInteractive('df-f535f28f-509c-4843-ae3f-32d6f4760cff')\"\n",
              "              title=\"Convert this dataframe to an interactive table.\"\n",
              "              style=\"display:none;\">\n",
              "        \n",
              "  <svg xmlns=\"http://www.w3.org/2000/svg\" height=\"24px\"viewBox=\"0 0 24 24\"\n",
              "       width=\"24px\">\n",
              "    <path d=\"M0 0h24v24H0V0z\" fill=\"none\"/>\n",
              "    <path d=\"M18.56 5.44l.94 2.06.94-2.06 2.06-.94-2.06-.94-.94-2.06-.94 2.06-2.06.94zm-11 1L8.5 8.5l.94-2.06 2.06-.94-2.06-.94L8.5 2.5l-.94 2.06-2.06.94zm10 10l.94 2.06.94-2.06 2.06-.94-2.06-.94-.94-2.06-.94 2.06-2.06.94z\"/><path d=\"M17.41 7.96l-1.37-1.37c-.4-.4-.92-.59-1.43-.59-.52 0-1.04.2-1.43.59L10.3 9.45l-7.72 7.72c-.78.78-.78 2.05 0 2.83L4 21.41c.39.39.9.59 1.41.59.51 0 1.02-.2 1.41-.59l7.78-7.78 2.81-2.81c.8-.78.8-2.07 0-2.86zM5.41 20L4 18.59l7.72-7.72 1.47 1.35L5.41 20z\"/>\n",
              "  </svg>\n",
              "      </button>\n",
              "      \n",
              "  <style>\n",
              "    .colab-df-container {\n",
              "      display:flex;\n",
              "      flex-wrap:wrap;\n",
              "      gap: 12px;\n",
              "    }\n",
              "\n",
              "    .colab-df-convert {\n",
              "      background-color: #E8F0FE;\n",
              "      border: none;\n",
              "      border-radius: 50%;\n",
              "      cursor: pointer;\n",
              "      display: none;\n",
              "      fill: #1967D2;\n",
              "      height: 32px;\n",
              "      padding: 0 0 0 0;\n",
              "      width: 32px;\n",
              "    }\n",
              "\n",
              "    .colab-df-convert:hover {\n",
              "      background-color: #E2EBFA;\n",
              "      box-shadow: 0px 1px 2px rgba(60, 64, 67, 0.3), 0px 1px 3px 1px rgba(60, 64, 67, 0.15);\n",
              "      fill: #174EA6;\n",
              "    }\n",
              "\n",
              "    [theme=dark] .colab-df-convert {\n",
              "      background-color: #3B4455;\n",
              "      fill: #D2E3FC;\n",
              "    }\n",
              "\n",
              "    [theme=dark] .colab-df-convert:hover {\n",
              "      background-color: #434B5C;\n",
              "      box-shadow: 0px 1px 3px 1px rgba(0, 0, 0, 0.15);\n",
              "      filter: drop-shadow(0px 1px 2px rgba(0, 0, 0, 0.3));\n",
              "      fill: #FFFFFF;\n",
              "    }\n",
              "  </style>\n",
              "\n",
              "      <script>\n",
              "        const buttonEl =\n",
              "          document.querySelector('#df-f535f28f-509c-4843-ae3f-32d6f4760cff button.colab-df-convert');\n",
              "        buttonEl.style.display =\n",
              "          google.colab.kernel.accessAllowed ? 'block' : 'none';\n",
              "\n",
              "        async function convertToInteractive(key) {\n",
              "          const element = document.querySelector('#df-f535f28f-509c-4843-ae3f-32d6f4760cff');\n",
              "          const dataTable =\n",
              "            await google.colab.kernel.invokeFunction('convertToInteractive',\n",
              "                                                     [key], {});\n",
              "          if (!dataTable) return;\n",
              "\n",
              "          const docLinkHtml = 'Like what you see? Visit the ' +\n",
              "            '<a target=\"_blank\" href=https://colab.research.google.com/notebooks/data_table.ipynb>data table notebook</a>'\n",
              "            + ' to learn more about interactive tables.';\n",
              "          element.innerHTML = '';\n",
              "          dataTable['output_type'] = 'display_data';\n",
              "          await google.colab.output.renderOutput(dataTable, element);\n",
              "          const docLink = document.createElement('div');\n",
              "          docLink.innerHTML = docLinkHtml;\n",
              "          element.appendChild(docLink);\n",
              "        }\n",
              "      </script>\n",
              "    </div>\n",
              "  </div>\n",
              "  "
            ]
          },
          "metadata": {},
          "execution_count": 42
        }
      ],
      "source": [
        "#first line is not header\n",
        "sputnikdata = pd.read_csv('/content/drive/MyDrive/Colab Notebooks/Oxford Text Analysis 22/Python QTA Drive Oxford 2022/Data/sputnikgerman20.tsv',sep='\\t', header=None)\n",
        "sputnikdata"
      ]
    },
    {
      "cell_type": "markdown",
      "metadata": {
        "id": "YYGoYltAtd2I"
      },
      "source": [
        "## Select Column"
      ]
    },
    {
      "cell_type": "markdown",
      "metadata": {
        "id": "IJx-yXALtd2I"
      },
      "source": [
        "### how would I select the date?"
      ]
    },
    {
      "cell_type": "code",
      "execution_count": null,
      "metadata": {
        "id": "yBJbBxe8td2J",
        "outputId": "58796ea9-693f-4714-aa45-df39faed0e0f",
        "colab": {
          "base_uri": "https://localhost:8080/"
        }
      },
      "outputs": [
        {
          "output_type": "execute_result",
          "data": {
            "text/plain": [
              "0     20160107\n",
              "1     20150210\n",
              "2     20181117\n",
              "3     20181109\n",
              "4     20160306\n",
              "5     20151016\n",
              "6     20151020\n",
              "7     20140106\n",
              "8     20180813\n",
              "9     20170219\n",
              "10    20151228\n",
              "11    20160614\n",
              "12    20181210\n",
              "13    20151102\n",
              "14    20170307\n",
              "15    20170207\n",
              "16    20180619\n",
              "17    20180914\n",
              "18    20131106\n",
              "19    20170715\n",
              "Name: 2, dtype: int64"
            ]
          },
          "metadata": {},
          "execution_count": 97
        }
      ],
      "source": [
        "sputnikdata_date=sputnikdata[2]\n",
        "sputnikdata_date"
      ]
    },
    {
      "cell_type": "markdown",
      "metadata": {
        "id": "7WQwCxsQtd2J"
      },
      "source": [
        "### Select only content and title\n"
      ]
    },
    {
      "cell_type": "code",
      "execution_count": null,
      "metadata": {
        "id": "z8taBZFctd2J",
        "outputId": "ef3be5c4-37f1-413f-94f4-46030054a9a4",
        "colab": {
          "base_uri": "https://localhost:8080/",
          "height": 676
        }
      },
      "outputs": [
        {
          "output_type": "execute_result",
          "data": {
            "text/plain": [
              "                                                    3  \\\n",
              "0   FDP-Chef Lindner: Merkels Flüchtlingspolitik f...   \n",
              "1   Experte: Rund 1,3 Millionen wehrpflichtige Ukr...   \n",
              "2   So präzisiert Nahles ihre Idee für Hartz IV-Al...   \n",
              "3   Trump beschränkt drastisch Asylgewährung für i...   \n",
              "4   Österreich drängt auf deutsches Flüchtlingskon...   \n",
              "5   Migrationskrise: Warschau wehrt sich gegen Mer...   \n",
              "6        Flüchtlingskrise: Ist Abriegeln eine Lösung?   \n",
              "7     Großbritannien will EU-Freizügigkeit verhindern   \n",
              "8   Rückkehr von Flüchtlingen: Syrischer Minister ...   \n",
              "9                          USA verschärfen Asyl-Recht   \n",
              "10     Dänemark will die Flüchtlingskonvention ändern   \n",
              "11  Glaube darf nicht über Gesetz stehen: Bundesju...   \n",
              "12           Gibt es ein Menschenrecht auf Migration?   \n",
              "13  Kabul nimmt abgelehnte Asylbewerber aus Deutsc...   \n",
              "14  EuGH-Urteil: Keine \\humanitären Visa\\\" in EU-A...   \n",
              "15  Kalifornien und Trump erklären einander den Kr...   \n",
              "16  Kinder von Eltern zu trennen ist skrupellos – ...   \n",
              "17  EU will Ungarn „Recht auf Kontrolle eigener Gr...   \n",
              "18    Festung Europa - von Migranten und Flüchtlingen   \n",
              "19  Selbstanzeigen unter Flüchtlingen „wegen Terro...   \n",
              "\n",
              "                                                    4  \n",
              "0   Der Satz „Wir schaffen das“ der Bundeskanzleri...  \n",
              "1   In letzter Zeit sei knapp einer halben Million...  \n",
              "2   {                    \\vars\\\": {               ...  \n",
              "3   {                    \\vars\\\": {               ...  \n",
              "4   {                    \\vars\\\": {               ...  \n",
              "5   {                    \\vars\\\": {               ...  \n",
              "6   {                    \\vars\\\": {               ...  \n",
              "7   Foto: EPA STIMME RUSSLANDS Die Regierung Großb...  \n",
              "8   Der syrische Minister für lokale Verwaltung un...  \n",
              "9   Nach dem US-Gesetz „Immigration and Nationalit...  \n",
              "10  {                    \\vars\\\": {               ...  \n",
              "11  Bundesjustizminister Heiko Maas will Mehrfach-...  \n",
              "12  {                    \\vars\\\": {               ...  \n",
              "13  {                    \\vars\\\": {               ...  \n",
              "14  Die Behörde argumentierte, dass sich die Famil...  \n",
              "15  „Das ist lächerlich“, so Trump über Kalifornie...  \n",
              "16  {                    \\vars\\\": {               ...  \n",
              "17  Das EU-Rechtsstaatsverfahren gegen Ungarn stel...  \n",
              "18  Foto: Aziz Bozkurt STIMME RUSSLANDS Flüchtling...  \n",
              "19  Mehr als 408.000 Asylanträge hat das Bundesamt...  "
            ],
            "text/html": [
              "\n",
              "  <div id=\"df-7161740a-bb32-47e1-ba51-705535c94764\">\n",
              "    <div class=\"colab-df-container\">\n",
              "      <div>\n",
              "<style scoped>\n",
              "    .dataframe tbody tr th:only-of-type {\n",
              "        vertical-align: middle;\n",
              "    }\n",
              "\n",
              "    .dataframe tbody tr th {\n",
              "        vertical-align: top;\n",
              "    }\n",
              "\n",
              "    .dataframe thead th {\n",
              "        text-align: right;\n",
              "    }\n",
              "</style>\n",
              "<table border=\"1\" class=\"dataframe\">\n",
              "  <thead>\n",
              "    <tr style=\"text-align: right;\">\n",
              "      <th></th>\n",
              "      <th>3</th>\n",
              "      <th>4</th>\n",
              "    </tr>\n",
              "  </thead>\n",
              "  <tbody>\n",
              "    <tr>\n",
              "      <th>0</th>\n",
              "      <td>FDP-Chef Lindner: Merkels Flüchtlingspolitik f...</td>\n",
              "      <td>Der Satz „Wir schaffen das“ der Bundeskanzleri...</td>\n",
              "    </tr>\n",
              "    <tr>\n",
              "      <th>1</th>\n",
              "      <td>Experte: Rund 1,3 Millionen wehrpflichtige Ukr...</td>\n",
              "      <td>In letzter Zeit sei knapp einer halben Million...</td>\n",
              "    </tr>\n",
              "    <tr>\n",
              "      <th>2</th>\n",
              "      <td>So präzisiert Nahles ihre Idee für Hartz IV-Al...</td>\n",
              "      <td>{                    \\vars\\\": {               ...</td>\n",
              "    </tr>\n",
              "    <tr>\n",
              "      <th>3</th>\n",
              "      <td>Trump beschränkt drastisch Asylgewährung für i...</td>\n",
              "      <td>{                    \\vars\\\": {               ...</td>\n",
              "    </tr>\n",
              "    <tr>\n",
              "      <th>4</th>\n",
              "      <td>Österreich drängt auf deutsches Flüchtlingskon...</td>\n",
              "      <td>{                    \\vars\\\": {               ...</td>\n",
              "    </tr>\n",
              "    <tr>\n",
              "      <th>5</th>\n",
              "      <td>Migrationskrise: Warschau wehrt sich gegen Mer...</td>\n",
              "      <td>{                    \\vars\\\": {               ...</td>\n",
              "    </tr>\n",
              "    <tr>\n",
              "      <th>6</th>\n",
              "      <td>Flüchtlingskrise: Ist Abriegeln eine Lösung?</td>\n",
              "      <td>{                    \\vars\\\": {               ...</td>\n",
              "    </tr>\n",
              "    <tr>\n",
              "      <th>7</th>\n",
              "      <td>Großbritannien will EU-Freizügigkeit verhindern</td>\n",
              "      <td>Foto: EPA STIMME RUSSLANDS Die Regierung Großb...</td>\n",
              "    </tr>\n",
              "    <tr>\n",
              "      <th>8</th>\n",
              "      <td>Rückkehr von Flüchtlingen: Syrischer Minister ...</td>\n",
              "      <td>Der syrische Minister für lokale Verwaltung un...</td>\n",
              "    </tr>\n",
              "    <tr>\n",
              "      <th>9</th>\n",
              "      <td>USA verschärfen Asyl-Recht</td>\n",
              "      <td>Nach dem US-Gesetz „Immigration and Nationalit...</td>\n",
              "    </tr>\n",
              "    <tr>\n",
              "      <th>10</th>\n",
              "      <td>Dänemark will die Flüchtlingskonvention ändern</td>\n",
              "      <td>{                    \\vars\\\": {               ...</td>\n",
              "    </tr>\n",
              "    <tr>\n",
              "      <th>11</th>\n",
              "      <td>Glaube darf nicht über Gesetz stehen: Bundesju...</td>\n",
              "      <td>Bundesjustizminister Heiko Maas will Mehrfach-...</td>\n",
              "    </tr>\n",
              "    <tr>\n",
              "      <th>12</th>\n",
              "      <td>Gibt es ein Menschenrecht auf Migration?</td>\n",
              "      <td>{                    \\vars\\\": {               ...</td>\n",
              "    </tr>\n",
              "    <tr>\n",
              "      <th>13</th>\n",
              "      <td>Kabul nimmt abgelehnte Asylbewerber aus Deutsc...</td>\n",
              "      <td>{                    \\vars\\\": {               ...</td>\n",
              "    </tr>\n",
              "    <tr>\n",
              "      <th>14</th>\n",
              "      <td>EuGH-Urteil: Keine \\humanitären Visa\\\" in EU-A...</td>\n",
              "      <td>Die Behörde argumentierte, dass sich die Famil...</td>\n",
              "    </tr>\n",
              "    <tr>\n",
              "      <th>15</th>\n",
              "      <td>Kalifornien und Trump erklären einander den Kr...</td>\n",
              "      <td>„Das ist lächerlich“, so Trump über Kalifornie...</td>\n",
              "    </tr>\n",
              "    <tr>\n",
              "      <th>16</th>\n",
              "      <td>Kinder von Eltern zu trennen ist skrupellos – ...</td>\n",
              "      <td>{                    \\vars\\\": {               ...</td>\n",
              "    </tr>\n",
              "    <tr>\n",
              "      <th>17</th>\n",
              "      <td>EU will Ungarn „Recht auf Kontrolle eigener Gr...</td>\n",
              "      <td>Das EU-Rechtsstaatsverfahren gegen Ungarn stel...</td>\n",
              "    </tr>\n",
              "    <tr>\n",
              "      <th>18</th>\n",
              "      <td>Festung Europa - von Migranten und Flüchtlingen</td>\n",
              "      <td>Foto: Aziz Bozkurt STIMME RUSSLANDS Flüchtling...</td>\n",
              "    </tr>\n",
              "    <tr>\n",
              "      <th>19</th>\n",
              "      <td>Selbstanzeigen unter Flüchtlingen „wegen Terro...</td>\n",
              "      <td>Mehr als 408.000 Asylanträge hat das Bundesamt...</td>\n",
              "    </tr>\n",
              "  </tbody>\n",
              "</table>\n",
              "</div>\n",
              "      <button class=\"colab-df-convert\" onclick=\"convertToInteractive('df-7161740a-bb32-47e1-ba51-705535c94764')\"\n",
              "              title=\"Convert this dataframe to an interactive table.\"\n",
              "              style=\"display:none;\">\n",
              "        \n",
              "  <svg xmlns=\"http://www.w3.org/2000/svg\" height=\"24px\"viewBox=\"0 0 24 24\"\n",
              "       width=\"24px\">\n",
              "    <path d=\"M0 0h24v24H0V0z\" fill=\"none\"/>\n",
              "    <path d=\"M18.56 5.44l.94 2.06.94-2.06 2.06-.94-2.06-.94-.94-2.06-.94 2.06-2.06.94zm-11 1L8.5 8.5l.94-2.06 2.06-.94-2.06-.94L8.5 2.5l-.94 2.06-2.06.94zm10 10l.94 2.06.94-2.06 2.06-.94-2.06-.94-.94-2.06-.94 2.06-2.06.94z\"/><path d=\"M17.41 7.96l-1.37-1.37c-.4-.4-.92-.59-1.43-.59-.52 0-1.04.2-1.43.59L10.3 9.45l-7.72 7.72c-.78.78-.78 2.05 0 2.83L4 21.41c.39.39.9.59 1.41.59.51 0 1.02-.2 1.41-.59l7.78-7.78 2.81-2.81c.8-.78.8-2.07 0-2.86zM5.41 20L4 18.59l7.72-7.72 1.47 1.35L5.41 20z\"/>\n",
              "  </svg>\n",
              "      </button>\n",
              "      \n",
              "  <style>\n",
              "    .colab-df-container {\n",
              "      display:flex;\n",
              "      flex-wrap:wrap;\n",
              "      gap: 12px;\n",
              "    }\n",
              "\n",
              "    .colab-df-convert {\n",
              "      background-color: #E8F0FE;\n",
              "      border: none;\n",
              "      border-radius: 50%;\n",
              "      cursor: pointer;\n",
              "      display: none;\n",
              "      fill: #1967D2;\n",
              "      height: 32px;\n",
              "      padding: 0 0 0 0;\n",
              "      width: 32px;\n",
              "    }\n",
              "\n",
              "    .colab-df-convert:hover {\n",
              "      background-color: #E2EBFA;\n",
              "      box-shadow: 0px 1px 2px rgba(60, 64, 67, 0.3), 0px 1px 3px 1px rgba(60, 64, 67, 0.15);\n",
              "      fill: #174EA6;\n",
              "    }\n",
              "\n",
              "    [theme=dark] .colab-df-convert {\n",
              "      background-color: #3B4455;\n",
              "      fill: #D2E3FC;\n",
              "    }\n",
              "\n",
              "    [theme=dark] .colab-df-convert:hover {\n",
              "      background-color: #434B5C;\n",
              "      box-shadow: 0px 1px 3px 1px rgba(0, 0, 0, 0.15);\n",
              "      filter: drop-shadow(0px 1px 2px rgba(0, 0, 0, 0.3));\n",
              "      fill: #FFFFFF;\n",
              "    }\n",
              "  </style>\n",
              "\n",
              "      <script>\n",
              "        const buttonEl =\n",
              "          document.querySelector('#df-7161740a-bb32-47e1-ba51-705535c94764 button.colab-df-convert');\n",
              "        buttonEl.style.display =\n",
              "          google.colab.kernel.accessAllowed ? 'block' : 'none';\n",
              "\n",
              "        async function convertToInteractive(key) {\n",
              "          const element = document.querySelector('#df-7161740a-bb32-47e1-ba51-705535c94764');\n",
              "          const dataTable =\n",
              "            await google.colab.kernel.invokeFunction('convertToInteractive',\n",
              "                                                     [key], {});\n",
              "          if (!dataTable) return;\n",
              "\n",
              "          const docLinkHtml = 'Like what you see? Visit the ' +\n",
              "            '<a target=\"_blank\" href=https://colab.research.google.com/notebooks/data_table.ipynb>data table notebook</a>'\n",
              "            + ' to learn more about interactive tables.';\n",
              "          element.innerHTML = '';\n",
              "          dataTable['output_type'] = 'display_data';\n",
              "          await google.colab.output.renderOutput(dataTable, element);\n",
              "          const docLink = document.createElement('div');\n",
              "          docLink.innerHTML = docLinkHtml;\n",
              "          element.appendChild(docLink);\n",
              "        }\n",
              "      </script>\n",
              "    </div>\n",
              "  </div>\n",
              "  "
            ]
          },
          "metadata": {},
          "execution_count": 98
        }
      ],
      "source": [
        "sputnikdata_content_title=sputnikdata[[3,4]]\n",
        "sputnikdata_content_title"
      ]
    },
    {
      "cell_type": "markdown",
      "metadata": {
        "id": "ohmDtLEJtd2J"
      },
      "source": [
        "## Select rows"
      ]
    },
    {
      "cell_type": "code",
      "execution_count": null,
      "metadata": {
        "id": "Xu-HDvtftd2K",
        "outputId": "4810006a-622d-4c11-c156-e6fdd2a50f8d",
        "colab": {
          "base_uri": "https://localhost:8080/",
          "height": 214
        }
      },
      "outputs": [
        {
          "output_type": "execute_result",
          "data": {
            "text/plain": [
              "                                                   0  \\\n",
              "0  http://de.sputniknews.compolitik/2016010730696...   \n",
              "\n",
              "                                                   1         2  \\\n",
              "0  http://web.archive.org/web/20170227192503/http...  20160107   \n",
              "\n",
              "                                                   3  \\\n",
              "0  FDP-Chef Lindner: Merkels Flüchtlingspolitik f...   \n",
              "\n",
              "                                                   4               5  \\\n",
              "0  Der Satz „Wir schaffen das“ der Bundeskanzleri...  OVER-THRESHOLD   \n",
              "\n",
              "                                    6   7         8  \n",
              "0  flüchtlingen migranten flüchtlinge  70  0.572646  "
            ],
            "text/html": [
              "\n",
              "  <div id=\"df-acd263dd-9322-47f5-8951-319737c1848a\">\n",
              "    <div class=\"colab-df-container\">\n",
              "      <div>\n",
              "<style scoped>\n",
              "    .dataframe tbody tr th:only-of-type {\n",
              "        vertical-align: middle;\n",
              "    }\n",
              "\n",
              "    .dataframe tbody tr th {\n",
              "        vertical-align: top;\n",
              "    }\n",
              "\n",
              "    .dataframe thead th {\n",
              "        text-align: right;\n",
              "    }\n",
              "</style>\n",
              "<table border=\"1\" class=\"dataframe\">\n",
              "  <thead>\n",
              "    <tr style=\"text-align: right;\">\n",
              "      <th></th>\n",
              "      <th>0</th>\n",
              "      <th>1</th>\n",
              "      <th>2</th>\n",
              "      <th>3</th>\n",
              "      <th>4</th>\n",
              "      <th>5</th>\n",
              "      <th>6</th>\n",
              "      <th>7</th>\n",
              "      <th>8</th>\n",
              "    </tr>\n",
              "  </thead>\n",
              "  <tbody>\n",
              "    <tr>\n",
              "      <th>0</th>\n",
              "      <td>http://de.sputniknews.compolitik/2016010730696...</td>\n",
              "      <td>http://web.archive.org/web/20170227192503/http...</td>\n",
              "      <td>20160107</td>\n",
              "      <td>FDP-Chef Lindner: Merkels Flüchtlingspolitik f...</td>\n",
              "      <td>Der Satz „Wir schaffen das“ der Bundeskanzleri...</td>\n",
              "      <td>OVER-THRESHOLD</td>\n",
              "      <td>flüchtlingen migranten flüchtlinge</td>\n",
              "      <td>70</td>\n",
              "      <td>0.572646</td>\n",
              "    </tr>\n",
              "  </tbody>\n",
              "</table>\n",
              "</div>\n",
              "      <button class=\"colab-df-convert\" onclick=\"convertToInteractive('df-acd263dd-9322-47f5-8951-319737c1848a')\"\n",
              "              title=\"Convert this dataframe to an interactive table.\"\n",
              "              style=\"display:none;\">\n",
              "        \n",
              "  <svg xmlns=\"http://www.w3.org/2000/svg\" height=\"24px\"viewBox=\"0 0 24 24\"\n",
              "       width=\"24px\">\n",
              "    <path d=\"M0 0h24v24H0V0z\" fill=\"none\"/>\n",
              "    <path d=\"M18.56 5.44l.94 2.06.94-2.06 2.06-.94-2.06-.94-.94-2.06-.94 2.06-2.06.94zm-11 1L8.5 8.5l.94-2.06 2.06-.94-2.06-.94L8.5 2.5l-.94 2.06-2.06.94zm10 10l.94 2.06.94-2.06 2.06-.94-2.06-.94-.94-2.06-.94 2.06-2.06.94z\"/><path d=\"M17.41 7.96l-1.37-1.37c-.4-.4-.92-.59-1.43-.59-.52 0-1.04.2-1.43.59L10.3 9.45l-7.72 7.72c-.78.78-.78 2.05 0 2.83L4 21.41c.39.39.9.59 1.41.59.51 0 1.02-.2 1.41-.59l7.78-7.78 2.81-2.81c.8-.78.8-2.07 0-2.86zM5.41 20L4 18.59l7.72-7.72 1.47 1.35L5.41 20z\"/>\n",
              "  </svg>\n",
              "      </button>\n",
              "      \n",
              "  <style>\n",
              "    .colab-df-container {\n",
              "      display:flex;\n",
              "      flex-wrap:wrap;\n",
              "      gap: 12px;\n",
              "    }\n",
              "\n",
              "    .colab-df-convert {\n",
              "      background-color: #E8F0FE;\n",
              "      border: none;\n",
              "      border-radius: 50%;\n",
              "      cursor: pointer;\n",
              "      display: none;\n",
              "      fill: #1967D2;\n",
              "      height: 32px;\n",
              "      padding: 0 0 0 0;\n",
              "      width: 32px;\n",
              "    }\n",
              "\n",
              "    .colab-df-convert:hover {\n",
              "      background-color: #E2EBFA;\n",
              "      box-shadow: 0px 1px 2px rgba(60, 64, 67, 0.3), 0px 1px 3px 1px rgba(60, 64, 67, 0.15);\n",
              "      fill: #174EA6;\n",
              "    }\n",
              "\n",
              "    [theme=dark] .colab-df-convert {\n",
              "      background-color: #3B4455;\n",
              "      fill: #D2E3FC;\n",
              "    }\n",
              "\n",
              "    [theme=dark] .colab-df-convert:hover {\n",
              "      background-color: #434B5C;\n",
              "      box-shadow: 0px 1px 3px 1px rgba(0, 0, 0, 0.15);\n",
              "      filter: drop-shadow(0px 1px 2px rgba(0, 0, 0, 0.3));\n",
              "      fill: #FFFFFF;\n",
              "    }\n",
              "  </style>\n",
              "\n",
              "      <script>\n",
              "        const buttonEl =\n",
              "          document.querySelector('#df-acd263dd-9322-47f5-8951-319737c1848a button.colab-df-convert');\n",
              "        buttonEl.style.display =\n",
              "          google.colab.kernel.accessAllowed ? 'block' : 'none';\n",
              "\n",
              "        async function convertToInteractive(key) {\n",
              "          const element = document.querySelector('#df-acd263dd-9322-47f5-8951-319737c1848a');\n",
              "          const dataTable =\n",
              "            await google.colab.kernel.invokeFunction('convertToInteractive',\n",
              "                                                     [key], {});\n",
              "          if (!dataTable) return;\n",
              "\n",
              "          const docLinkHtml = 'Like what you see? Visit the ' +\n",
              "            '<a target=\"_blank\" href=https://colab.research.google.com/notebooks/data_table.ipynb>data table notebook</a>'\n",
              "            + ' to learn more about interactive tables.';\n",
              "          element.innerHTML = '';\n",
              "          dataTable['output_type'] = 'display_data';\n",
              "          await google.colab.output.renderOutput(dataTable, element);\n",
              "          const docLink = document.createElement('div');\n",
              "          docLink.innerHTML = docLinkHtml;\n",
              "          element.appendChild(docLink);\n",
              "        }\n",
              "      </script>\n",
              "    </div>\n",
              "  </div>\n",
              "  "
            ]
          },
          "metadata": {},
          "execution_count": 46
        }
      ],
      "source": [
        "#select 0-5\n",
        "\n",
        "sputnikdata_rows=sputnikdata[0:1]\n",
        "sputnikdata_rows"
      ]
    },
    {
      "cell_type": "markdown",
      "metadata": {
        "id": "KzFPSMBgtd2M"
      },
      "source": [
        "## Exporting data from Pandas\n"
      ]
    },
    {
      "cell_type": "code",
      "execution_count": null,
      "metadata": {
        "collapsed": true,
        "id": "plxsmC_5td2N"
      },
      "outputs": [],
      "source": [
        "sputnikdata2.to_csv(\"mydata.csv\", sep='\\t', encoding='utf-8')"
      ]
    },
    {
      "cell_type": "code",
      "source": [],
      "metadata": {
        "id": "_ruTl8ONupCL"
      },
      "execution_count": null,
      "outputs": []
    },
    {
      "cell_type": "code",
      "source": [],
      "metadata": {
        "id": "Q7UX_fdjMved"
      },
      "execution_count": null,
      "outputs": []
    },
    {
      "cell_type": "code",
      "source": [],
      "metadata": {
        "id": "L7XPPrAtMvcP"
      },
      "execution_count": null,
      "outputs": []
    },
    {
      "cell_type": "code",
      "source": [],
      "metadata": {
        "id": "mPbmEdZIMvZx"
      },
      "execution_count": null,
      "outputs": []
    },
    {
      "cell_type": "code",
      "source": [],
      "metadata": {
        "id": "mCa_J55qMvXb"
      },
      "execution_count": null,
      "outputs": []
    },
    {
      "cell_type": "code",
      "source": [],
      "metadata": {
        "id": "JNz-KCHFMvVH"
      },
      "execution_count": null,
      "outputs": []
    },
    {
      "cell_type": "code",
      "source": [],
      "metadata": {
        "id": "Z-SEi267MvSn"
      },
      "execution_count": null,
      "outputs": []
    },
    {
      "cell_type": "markdown",
      "source": [
        "Sources\n",
        "\n",
        "http://introtopython.org/dictionaries.html#Looping-through-a-dictionary"
      ],
      "metadata": {
        "id": "vSenYPWESLfk"
      }
    },
    {
      "cell_type": "markdown",
      "source": [],
      "metadata": {
        "id": "S9Cq5hGGMs53"
      }
    }
  ]
}
