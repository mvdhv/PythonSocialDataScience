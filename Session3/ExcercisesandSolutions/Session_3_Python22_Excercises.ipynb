{
  "nbformat": 4,
  "nbformat_minor": 0,
  "metadata": {
    "colab": {
      "provenance": [],
      "authorship_tag": "ABX9TyPsDhnuO7v8PX9RAKEQFoft",
      "include_colab_link": true
    },
    "kernelspec": {
      "name": "python3",
      "display_name": "Python 3"
    },
    "language_info": {
      "name": "python"
    }
  },
  "cells": [
    {
      "cell_type": "markdown",
      "metadata": {
        "id": "view-in-github",
        "colab_type": "text"
      },
      "source": [
        "<a href=\"https://colab.research.google.com/github/aelshehawy/PythonSocialDataScience/blob/main/Session_3_Python22_Excercises.ipynb\" target=\"_parent\"><img src=\"https://colab.research.google.com/assets/colab-badge.svg\" alt=\"Open In Colab\"/></a>"
      ]
    },
    {
      "cell_type": "markdown",
      "source": [
        "# **Session 3**\n",
        "# Excercises"
      ],
      "metadata": {
        "id": "VJ-1IiAuBNyx"
      }
    },
    {
      "cell_type": "markdown",
      "source": [
        "### List comprehension 1\n",
        "\n",
        "Given dictionary is consisted of vehicles and their weights in kilograms. Contruct a list of the names of vehicles with weight below 5000 kilograms. In the same list comprehension make the key names all upper case.\n",
        "\n",
        "_Hint: dict[i]  can be used to access the value of the key: i in a dictionary named dict_\n",
        "\n"
      ],
      "metadata": {
        "id": "HEJT5HwxOcLq"
      }
    },
    {
      "cell_type": "code",
      "source": [
        "dict={\"Sedan\": 1500, \"SUV\": 2000, \"Pickup\": 2500, \"Minivan\": 1600, \"Van\": 2400, \"Semi\": 13600, \"Bicycle\": 7, \"Motorcycle\": 110}\n",
        "\n",
        "#Type your answer here.\n",
        "\n",
        "lst=[]\n",
        "\n",
        "print(lst)"
      ],
      "metadata": {
        "id": "iJIzfVDxOf6B"
      },
      "execution_count": null,
      "outputs": []
    },
    {
      "cell_type": "markdown",
      "source": [
        "### Mountain Heights 1\n",
        "Wikipedia has a list of the tallest mountains in the world, with each mountain's elevation.\n",
        "https://en.wikipedia.org/wiki/List_of_mountains_by_elevation\n",
        "\n",
        " Pick five mountains from this list.\n",
        "\n",
        "1. Create a dictionary with the mountain names as keys, and the elevations as values.\n",
        "2. Print out just the mountains' names, by looping through the keys of your dictionary.\n",
        "3. Print out just the mountains' elevations, by looping through the values of your dictionary.\n",
        "4. Print out a series of statements telling how tall each mountain is: \"Everest is 8848 meters tall.\"\n",
        "\n",
        "Revise your output, if necessary.\n",
        "\n",
        "- Make sure there is an introductory sentence describing the output for each loop you write.\n",
        "- Make sure there is a blank line between each group of statements.\n",
        "\n"
      ],
      "metadata": {
        "id": "2V3mkUUzBIG6"
      }
    },
    {
      "cell_type": "markdown",
      "source": [
        "### Mountain Heights 2\n",
        "Revise your final output from Mountain Heights 1, so that the information is listed in alphabetical order by each mountain's name.\n",
        "\n",
        "That is, print out a series of statements telling how tall each mountain is: \"Everest is 8848 meters tall.\"\n",
        "Make sure your output is in alphabetical order."
      ],
      "metadata": {
        "id": "9ftsAqcQBlDE"
      }
    },
    {
      "cell_type": "markdown",
      "source": [
        "### Functions\n"
      ],
      "metadata": {
        "id": "qpKlnI1JERsO"
      }
    },
    {
      "cell_type": "markdown",
      "source": [
        "_Favorite Colors_<br>\n",
        "\n",
        "1. Write a function that takes two arguments, a person's name and their favorite color. \n",
        "2. Use the input function to save the name\n",
        "3. Then use the name variable to pass it through the function. The function should print out a statement such as \"Ash's favorite color is violet.\" \n",
        "3. The name needs to be CAPITALIZED in the output\n",
        "\n",
        "Call your function three times, with a different person and color each time."
      ],
      "metadata": {
        "id": "fp8b5q4aEmRc"
      }
    },
    {
      "cell_type": "markdown",
      "source": [
        "### More list comprehension\n",
        "\n",
        "1. Find all of the numbers from 1–1000 that have a 6 in them\n",
        "2. Count the number of spaces in a string (use string above)\n",
        "3.  Find all of the words in a string that are less than 5 letters (use string above)\n"
      ],
      "metadata": {
        "id": "eqS15kATPAb3"
      }
    },
    {
      "cell_type": "code",
      "source": [
        "# Use for the questions above:\n",
        "nums = [i for i in range(1,1001)]\n",
        "string = \"Practice Problems for List Comprehension.\""
      ],
      "metadata": {
        "id": "4fT-gReEO-g_"
      },
      "execution_count": null,
      "outputs": []
    },
    {
      "cell_type": "markdown",
      "source": [
        "### Remove floats\n",
        "\n",
        "Given a list of numbers, remove floats (numbers with decimals)\n"
      ],
      "metadata": {
        "id": "kML_zUBLP3FY"
      }
    },
    {
      "cell_type": "code",
      "source": [
        "original_list = [2,3.75,.04,59.354,6,7.7777,8,9]\n"
      ],
      "metadata": {
        "id": "r7jWR7sdP2g-"
      },
      "execution_count": null,
      "outputs": []
    }
  ]
}
