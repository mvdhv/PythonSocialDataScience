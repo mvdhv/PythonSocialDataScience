{
  "nbformat": 4,
  "nbformat_minor": 0,
  "metadata": {
    "colab": {
      "provenance": [],
      "toc_visible": true,
      "mount_file_id": "1bcggm9lgIedubMkXT7GtY30wzAw4bAXn",
      "authorship_tag": "ABX9TyM/sAeXaZJgAAelJY49zQe0",
      "include_colab_link": true
    },
    "kernelspec": {
      "name": "python3",
      "display_name": "Python 3"
    },
    "language_info": {
      "name": "python"
    }
  },
  "cells": [
    {
      "cell_type": "markdown",
      "metadata": {
        "id": "view-in-github",
        "colab_type": "text"
      },
      "source": [
        "<a href=\"https://colab.research.google.com/github/aelshehawy/PythonSocialDataScience/blob/main/Session_4_Python23.ipynb\" target=\"_parent\"><img src=\"https://colab.research.google.com/assets/colab-badge.svg\" alt=\"Open In Colab\"/></a>"
      ]
    },
    {
      "cell_type": "markdown",
      "source": [
        "Today's session:\n",
        "\n",
        "\n",
        "2. Loading in data to Python\n",
        "3. Pandas Operations\n",
        "4. Data Visualization\n"
      ],
      "metadata": {
        "id": "2oLphy7kHCju"
      }
    },
    {
      "cell_type": "markdown",
      "source": [
        "\n",
        "\n",
        "---\n",
        "\n",
        "<br>\n",
        "<br>\n",
        "**Fast repition of Looping, strings & lists**"
      ],
      "metadata": {
        "id": "3WNXFI2fto9O"
      }
    },
    {
      "cell_type": "code",
      "execution_count": null,
      "metadata": {
        "id": "_JZ5rKg0td13"
      },
      "outputs": [],
      "source": [
        "#we want to start with a single string object - once we write sth we like, we scale up \n",
        "s1=\"Provides for the enforcement of all provisions of law that impose sanctions against countries engaged in gross violations of human rights and that support terrorism against Iraq. Calls on the President to seek multilateral cooperation to: (1) deny dangerous technologies to Iraq; and\"\n",
        "print(s1)"
      ]
    },
    {
      "cell_type": "code",
      "execution_count": null,
      "metadata": {
        "collapsed": true,
        "id": "17p4KZCftd15"
      },
      "outputs": [],
      "source": [
        "# we define a list of women-related words - we put in Iraq. to make sure the test works (we will drop it later)\n",
        "female_dict=[\"woman\",\"women\",\"female\",\"girl\",\"girls\",\"Iraq.\"]"
      ]
    },
    {
      "cell_type": "code",
      "source": [
        "#I want to print out only the hits from the dictionary how do I do that?"
      ],
      "metadata": {
        "id": "DTedp3GrbwqB"
      },
      "execution_count": null,
      "outputs": []
    },
    {
      "cell_type": "code",
      "source": [],
      "metadata": {
        "id": "3F51AIQ8cOVm"
      },
      "execution_count": null,
      "outputs": []
    },
    {
      "cell_type": "markdown",
      "metadata": {
        "id": "6KTGsXKYwlXZ"
      },
      "source": [
        "\n",
        "# Loading Data in Python"
      ]
    },
    {
      "cell_type": "markdown",
      "metadata": {
        "id": "T3-nT0pHwlXZ"
      },
      "source": [
        "- First thing to think about is to specifcy the working directory. I am going to show you how to do that\n",
        "- we want to open the file obamaincairo.txt - This is a famous speech that Obama gave at Cairo University, was discussed a lot in Egyptian Media.\n",
        "\n",
        "**In general we want to learn how to:**\n",
        "\n",
        "``Open, read, save in var, close``"
      ]
    },
    {
      "cell_type": "markdown",
      "metadata": {
        "id": "vgZbItQIwlXa"
      },
      "source": [
        "## This is the basic syntax to open python file \n",
        "```file_object  = open(\"filename\", \"mode\") ```"
      ]
    },
    {
      "cell_type": "code",
      "metadata": {
        "id": "6vvaaViVy3bw"
      },
      "source": [
        "from google.colab import drive\n",
        "drive.mount('/content/drive')"
      ],
      "execution_count": null,
      "outputs": []
    },
    {
      "cell_type": "code",
      "metadata": {
        "id": "gHUDcpCSzD6X"
      },
      "source": [
        "obamafile = "
      ],
      "execution_count": null,
      "outputs": []
    },
    {
      "cell_type": "code",
      "metadata": {
        "id": "5uWpHQo3wlXa"
      },
      "source": [
        "obamafile # we see we can not read the text, we just can see where it is located"
      ],
      "execution_count": null,
      "outputs": []
    },
    {
      "cell_type": "code",
      "source": [
        "obamafile.close() "
      ],
      "metadata": {
        "id": "JrbDBfadcn62"
      },
      "execution_count": null,
      "outputs": []
    },
    {
      "cell_type": "markdown",
      "metadata": {
        "id": "S3ugYL8XwlXc"
      },
      "source": [
        "## How do we print content then?\n",
        "\n"
      ]
    },
    {
      "cell_type": "code",
      "metadata": {
        "id": "Za0NZXfwwlXc"
      },
      "source": [
        "obamafile = "
      ],
      "execution_count": null,
      "outputs": []
    },
    {
      "cell_type": "code",
      "metadata": {
        "id": "rbTnBDeewlXd"
      },
      "source": [
        "print(type(content))"
      ],
      "execution_count": null,
      "outputs": []
    },
    {
      "cell_type": "markdown",
      "metadata": {
        "id": "5JPJKRddwlXd"
      },
      "source": [
        "## How do we split by word? (Naive Tokenization)\n",
        "\n",
        "We use **the split function**, we talked about in the Python Refresher\n",
        "\n",
        "What is a problem that we can spot here?"
      ]
    },
    {
      "cell_type": "code",
      "metadata": {
        "id": "EezXVv-HwlXe"
      },
      "source": [],
      "execution_count": null,
      "outputs": []
    },
    {
      "cell_type": "markdown",
      "metadata": {
        "id": "usivt7eZwlXe"
      },
      "source": [
        "Check the words \"mistrust.\\nSo\" & \"Islam.\\nViolent\" -- these are problems that we need to take care of in cleaning steps.\n",
        "\n",
        "**What can we do then to avoid this?**"
      ]
    },
    {
      "cell_type": "markdown",
      "metadata": {
        "id": "wjz_VopvwlXe"
      },
      "source": [
        "same, but using a loop, what is the main difference here?\n"
      ]
    },
    {
      "cell_type": "code",
      "metadata": {
        "collapsed": true,
        "id": "uZA79qc7wlXe"
      },
      "source": [
        "#recognition of paragraph end. (\\n)"
      ],
      "execution_count": null,
      "outputs": []
    },
    {
      "cell_type": "code",
      "metadata": {
        "id": "TCxsexfzwlXg"
      },
      "source": [
        "with open('/content/drive/MyDrive/Colab Notebooks/Oxford Text Analysis 22/Python QTA Drive Oxford 2022/Data/obamaincairo.txt', 'r') as f:\n",
        "    for word in f:\n",
        "        y = word.split()\n",
        "        print(y) "
      ],
      "execution_count": null,
      "outputs": []
    },
    {
      "cell_type": "markdown",
      "metadata": {
        "id": "-1-5ZYjHwlXi"
      },
      "source": [
        "## Break content by line\n",
        "### We can also use the readlines method\n",
        "\n",
        "**When it encounters a line break, it returns that line**"
      ]
    },
    {
      "cell_type": "code",
      "source": [
        "obamafile = open('/content/drive/MyDrive/Colab Notebooks/Oxford Text Analysis 22/Python QTA Drive Oxford 2022/Data/obamaincairo.txt', \"r\") #open files\n"
      ],
      "metadata": {
        "id": "t6RTqtFPGPly"
      },
      "execution_count": null,
      "outputs": []
    },
    {
      "cell_type": "markdown",
      "source": [
        "**read all lines**"
      ],
      "metadata": {
        "id": "caWS7U9kdV7R"
      }
    },
    {
      "cell_type": "code",
      "metadata": {
        "id": "_-V-qNiKwlXi"
      },
      "source": [
        "obamafile = open('/content/drive/MyDrive/Colab Notebooks/Oxford Text Analysis 22/Python QTA Drive Oxford 2022/Data/obamaincairo.txt', \"r\") #open files\n"
      ],
      "execution_count": null,
      "outputs": []
    },
    {
      "cell_type": "code",
      "metadata": {
        "id": "N4cefOsHwlXl"
      },
      "source": [
        "lines"
      ],
      "execution_count": null,
      "outputs": []
    },
    {
      "cell_type": "code",
      "metadata": {
        "id": "xPx5TdG_wlXl"
      },
      "source": [
        "#read only first 5 lines"
      ],
      "execution_count": null,
      "outputs": []
    },
    {
      "cell_type": "markdown",
      "metadata": {
        "id": "bIKH-ELFwlXm"
      },
      "source": [
        "## Another way to open and read the file line by line breaks\n"
      ]
    },
    {
      "cell_type": "code",
      "metadata": {
        "id": "GVRZxxULwlXm"
      },
      "source": [
        "\n",
        "obamafile = open('/content/drive/MyDrive/Colab Notebooks/Python for Social Data Science/Session 4/obamaincairo.txt', \"r\") #open files\n",
        "\n",
        "    "
      ],
      "execution_count": null,
      "outputs": []
    },
    {
      "cell_type": "code",
      "metadata": {
        "collapsed": true,
        "id": "WxtXV4BnwlXm"
      },
      "source": [],
      "execution_count": null,
      "outputs": []
    },
    {
      "cell_type": "markdown",
      "metadata": {
        "id": "1hw5HZELwlXn"
      },
      "source": [
        "#### what if we want to just read 5 lines"
      ]
    },
    {
      "cell_type": "code",
      "metadata": {
        "id": "_sBYcLRWwlXn"
      },
      "source": [
        "obamafile = open('/content/drive/MyDrive/Colab Notebooks/Python for Social Data Science/Session 4/obamaincairo.txt', \"r\") #open files\n",
        "lines = obamafile.readlines() # a lst of strings, each string refers to one line in the file\n",
        "for i in range(5): #read line by line\n",
        "    print(lines[i]) # why the brackets here? Because content is saved in a list\n",
        "obamafile.close()"
      ],
      "execution_count": null,
      "outputs": []
    },
    {
      "cell_type": "markdown",
      "metadata": {
        "id": "0vrer5K2wWnw"
      },
      "source": [
        "### So what is the difference between\n",
        "- read()\n",
        "- readlines()\n",
        "- readline()"
      ]
    },
    {
      "cell_type": "code",
      "metadata": {
        "id": "37nPhMonwWnx"
      },
      "source": [
        "file1 = open('/content/drive/MyDrive/Colab Notebooks/Python for Social Data Science/Session 4/obamaincairo.txt', 'r')\n",
        "file=file1.read()\n",
        "file\n"
      ],
      "execution_count": null,
      "outputs": []
    },
    {
      "cell_type": "code",
      "metadata": {
        "id": "Sd6mDZeuwWnz"
      },
      "source": [
        "file1 = open('/content/drive/MyDrive/Colab Notebooks/Python for Social Data Science/Session 4/obamaincairo.txt', 'r')\n",
        "file1.readline()"
      ],
      "execution_count": null,
      "outputs": []
    },
    {
      "cell_type": "code",
      "metadata": {
        "id": "nh1AN4ccwWnz"
      },
      "source": [
        "file1.readlines() #recognizes \\n line breaks"
      ],
      "execution_count": null,
      "outputs": []
    },
    {
      "cell_type": "markdown",
      "metadata": {
        "id": "cqyuHvIUBjWB"
      },
      "source": [
        "## Codecs\n",
        "\n"
      ]
    },
    {
      "cell_type": "code",
      "metadata": {
        "id": "Om2UhPy2BtRI"
      },
      "source": [
        "import codecs\n",
        "obama_codecs = codecs.open(\"/content/drive/MyDrive/Colab Notebooks/Python for Social Data Science/Session 4/obamaincairo.txt\",\"r\",\"utf-8\")\n",
        "obama_codecs = obama_codecs.read()\n",
        "obama_codecs"
      ],
      "execution_count": null,
      "outputs": []
    },
    {
      "cell_type": "markdown",
      "metadata": {
        "id": "nQxV5kTWwWn0"
      },
      "source": [
        "## Context manager\n",
        "\n",
        "use this instead open and close\n",
        "\n"
      ]
    },
    {
      "cell_type": "code",
      "metadata": {
        "id": "0djd9oiYwWn0"
      },
      "source": [
        "#here we define the filepath first\n",
        "filepath = \"/content/drive/MyDrive/Colab Notebooks/Python for Social Data Science/Session 4/ihaveadream.txt\"\n",
        "\n",
        "#we use read mode as we have learned before\n",
        "with open(filepath, \"r\") as infile:\n",
        "    content = infile.read()\n",
        "    \n",
        "print(content)"
      ],
      "execution_count": null,
      "outputs": []
    },
    {
      "cell_type": "markdown",
      "metadata": {
        "id": "aGomnKvdwWn2"
      },
      "source": [
        "### Lets try opening another file"
      ]
    },
    {
      "cell_type": "code",
      "source": [
        "sputnik = open('/content/drive/MyDrive/Colab Notebooks/Oxford Text Analysis 22/Python QTA Drive Oxford 2022/Data/sputnikgerman20.tsv', \"r\") #open files\n",
        "lines_sputnik = sputnik.read() \n",
        "lines_sputnik"
      ],
      "metadata": {
        "id": "3eKDDdaxIsXL"
      },
      "execution_count": null,
      "outputs": []
    },
    {
      "cell_type": "code",
      "metadata": {
        "id": "hDdvw6QUwWn3"
      },
      "source": [
        "\n",
        "sputnik = open('/content/drive/MyDrive/Colab Notebooks/Oxford Text Analysis 22/Python QTA Drive Oxford 2022/Data/sputnikgerman20.tsv', \"r\") #open files\n",
        "lines_sputnik = sputnik.readlines() # a lst of strings, each string refers to one line in the file\n",
        "for i in range(5): #read line by line\n",
        "    print(lines_sputnik[i])\n",
        "sputnik.close()"
      ],
      "execution_count": null,
      "outputs": []
    },
    {
      "cell_type": "code",
      "metadata": {
        "id": "oUgYV20PwWn4"
      },
      "source": [
        "print(type(lines_sputnik))"
      ],
      "execution_count": null,
      "outputs": []
    },
    {
      "cell_type": "markdown",
      "metadata": {
        "id": "PVwV2JRqwWn4"
      },
      "source": [
        "## Other ways to load data: CSV library\n",
        "\n",
        "\n",
        "Good for csv and tsv files\n"
      ]
    },
    {
      "cell_type": "code",
      "metadata": {
        "id": "peeS1nNYwWn5"
      },
      "source": [
        "\n",
        "import csv\n",
        "\n",
        "tsv_file = open(\"/content/drive/MyDrive/Colab Notebooks/Oxford Text Analysis 22/Python QTA Drive Oxford 2022/Data/sputnikgerman20.tsv\")\n",
        "read_tsv = csv.reader(tsv_file, delimiter=\"\\t\")\n",
        "read_tsv"
      ],
      "execution_count": null,
      "outputs": []
    },
    {
      "cell_type": "code",
      "metadata": {
        "id": "_uCPnFI_wWn8"
      },
      "source": [
        "for row in read_tsv:\n",
        "    print(row)\n",
        "tsv_file.close() # we see here each row is now saved in a list"
      ],
      "execution_count": null,
      "outputs": []
    },
    {
      "cell_type": "markdown",
      "metadata": {
        "id": "aHSQmpQIwWn8"
      },
      "source": [
        "what if I want to save this in a list to be able to access later.\n",
        "\n",
        "Here loops become handy"
      ]
    },
    {
      "cell_type": "code",
      "metadata": {
        "collapsed": true,
        "id": "8Fre0wnUwWn9"
      },
      "source": [
        "import csv\n",
        "tsv_file = open(\"/content/drive/MyDrive/Colab Notebooks/Oxford Text Analysis 22/Python QTA Drive Oxford 2022/Data/sputnikgerman20.tsv\", encoding=\"utf-8\")\n",
        "read_tsv = csv.reader(tsv_file, delimiter=\"\\t\")\n",
        "savelist = []\n",
        "for row in read_tsv:\n",
        "    savelist.append(row)\n",
        "tsv_file.close() # we see here each row is now saved in a list\n"
      ],
      "execution_count": null,
      "outputs": []
    },
    {
      "cell_type": "code",
      "metadata": {
        "id": "rN5ovu9mwWn_"
      },
      "source": [
        "savelist # list of lists"
      ],
      "execution_count": null,
      "outputs": []
    },
    {
      "cell_type": "code",
      "metadata": {
        "id": "Dlp5M072wWn_"
      },
      "source": [
        "len(savelist)"
      ],
      "execution_count": null,
      "outputs": []
    },
    {
      "cell_type": "code",
      "metadata": {
        "id": "FqT5ccoTwWn_"
      },
      "source": [
        "#we can check the items of the list we created\n",
        "article1=savelist[0]\n",
        "print(article1)"
      ],
      "execution_count": null,
      "outputs": []
    },
    {
      "cell_type": "code",
      "metadata": {
        "id": "xRwGbMj0wWoC"
      },
      "source": [
        "#access items from a list\n",
        "article1[2]"
      ],
      "execution_count": null,
      "outputs": []
    },
    {
      "cell_type": "markdown",
      "metadata": {
        "id": "3l2ozUvKpmVJ"
      },
      "source": [
        "#  Load several texts\n"
      ]
    },
    {
      "cell_type": "markdown",
      "source": [
        "## Glob Module "
      ],
      "metadata": {
        "id": "zObnt5IyroMo"
      }
    },
    {
      "cell_type": "code",
      "execution_count": null,
      "metadata": {
        "collapsed": true,
        "id": "tFLbAndKpmVJ"
      },
      "outputs": [],
      "source": [
        "import glob"
      ]
    },
    {
      "cell_type": "markdown",
      "metadata": {
        "id": "kot54FlIpmVK"
      },
      "source": [
        "### Lets print the filenames in a certain folder"
      ]
    },
    {
      "cell_type": "code",
      "execution_count": null,
      "metadata": {
        "id": "M6ONNnxNpmVK"
      },
      "outputs": [],
      "source": []
    },
    {
      "cell_type": "markdown",
      "metadata": {
        "id": "mhd3KKyIpmVK"
      },
      "source": [
        "### How do we only filter txt files?"
      ]
    },
    {
      "cell_type": "markdown",
      "metadata": {
        "id": "O-LLCeJApmVK"
      },
      "source": [
        "### we want the files that have the same name"
      ]
    },
    {
      "cell_type": "code",
      "execution_count": null,
      "metadata": {
        "collapsed": true,
        "id": "VfbfjMulpmVL"
      },
      "outputs": [],
      "source": []
    },
    {
      "cell_type": "markdown",
      "metadata": {
        "id": "7yBc7LwVpmVL"
      },
      "source": [
        "## OS Module\n",
        "\n",
        "Very powerful:\n",
        "\n",
        "1. can create and remove directories\n",
        "2. check if something is in a directory\n",
        "3. can rename files (os.rename())\n",
        "\n",
        "and much more\n"
      ]
    },
    {
      "cell_type": "markdown",
      "metadata": {
        "id": "Iq7b_uolpmVL"
      },
      "source": [
        "### Windows users"
      ]
    },
    {
      "cell_type": "code",
      "execution_count": null,
      "metadata": {
        "id": "1L81xqiVpmVL"
      },
      "outputs": [],
      "source": [
        "#for windows users to get a path\n",
        "# please use forward slashes\n",
        "\n",
        "import os\n",
        "path = '/home/./Documents'\n",
        "norm_path = os.path.normpath(path) \n",
        "print(norm_path)"
      ]
    },
    {
      "cell_type": "markdown",
      "metadata": {
        "id": "whbOrnpXpmVL"
      },
      "source": [
        "### Get my working directory"
      ]
    },
    {
      "cell_type": "code",
      "execution_count": null,
      "metadata": {
        "id": "0xdckXOZpmVL"
      },
      "outputs": [],
      "source": [
        "import os\n",
        "#which directory am I using right now\n",
        "print(os.getcwd())"
      ]
    },
    {
      "cell_type": "markdown",
      "metadata": {
        "id": "9MRHRG69pmVM"
      },
      "source": [
        "### Check if I am pointing at the correct file"
      ]
    },
    {
      "cell_type": "code",
      "execution_count": null,
      "metadata": {
        "id": "HHM9CH_1pmVM"
      },
      "outputs": [],
      "source": [
        "# let's use a filepath for testing it out:\n",
        "filepath = \"ihaveadream.txt\"\n",
        "filepath\n",
        "\n",
        "os.path.basename(filepath)"
      ]
    },
    {
      "cell_type": "markdown",
      "metadata": {
        "id": "P68YEP2FpmVM"
      },
      "source": [
        "### Check what files are in my directory"
      ]
    },
    {
      "cell_type": "code",
      "execution_count": null,
      "metadata": {
        "id": "UlqCZie9pmVM"
      },
      "outputs": [],
      "source": [
        "\n",
        "#check what is inside a directory\n",
        "os.listdir(\"/content/drive/MyDrive/Colab Notebooks/Python for Social Data Science/Session 4/Data Day 4\")\n"
      ]
    },
    {
      "cell_type": "code",
      "source": [
        "#how to load all csv files containg text and save them in a list"
      ],
      "metadata": {
        "id": "ZP7MudGYSNnY"
      },
      "execution_count": null,
      "outputs": []
    },
    {
      "cell_type": "markdown",
      "metadata": {
        "id": "h8xiGjRLpmVH"
      },
      "source": [
        "# Mini explanations: Outputting data"
      ]
    },
    {
      "cell_type": "markdown",
      "metadata": {
        "id": "Aq5Hdr6VpmVI"
      },
      "source": [
        "## Lists"
      ]
    },
    {
      "cell_type": "code",
      "execution_count": null,
      "metadata": {
        "collapsed": true,
        "id": "dmP7k3tbpmVI"
      },
      "outputs": [],
      "source": [
        "list2=[\"object1\",'object2']"
      ]
    },
    {
      "cell_type": "code",
      "source": [],
      "metadata": {
        "id": "KpsQh8UfnUGG"
      },
      "execution_count": null,
      "outputs": []
    },
    {
      "cell_type": "markdown",
      "metadata": {
        "id": "xeeyRqvapmVJ"
      },
      "source": [
        "## Strings"
      ]
    },
    {
      "cell_type": "code",
      "execution_count": null,
      "metadata": {
        "id": "EtgvjdJLpmVJ"
      },
      "outputs": [],
      "source": [
        "filepath = \"/content/drive/MyDrive/Colab Notebooks/Oxford Text Analysis 22/Python QTA Drive Oxford 2022/Data/ihaveadream.txt\"\n",
        "text=open(filepath)\n",
        "text=text.read()\n",
        "text"
      ]
    },
    {
      "cell_type": "code",
      "execution_count": null,
      "metadata": {
        "collapsed": true,
        "id": "KTraQnnEpmVN"
      },
      "outputs": [],
      "source": []
    },
    {
      "cell_type": "markdown",
      "metadata": {
        "id": "dxQghGUmtd2E"
      },
      "source": [
        "**Lets load our needed libraries**"
      ]
    },
    {
      "cell_type": "code",
      "execution_count": null,
      "metadata": {
        "collapsed": true,
        "id": "5fWDXSZdtd2F"
      },
      "outputs": [],
      "source": [
        "#numpy\n",
        "import numpy as np\n",
        "from numpy import *\n",
        "from numpy import random # random data\n",
        "\n",
        "#pandas\n",
        "import pandas as pd\n",
        "\n",
        "#plotting with matplotlib\n",
        "import matplotlib.pyplot as plt\n",
        "%matplotlib inline\n",
        "\n"
      ]
    },
    {
      "cell_type": "markdown",
      "metadata": {
        "id": "Qhbas_4Dtd2F"
      },
      "source": [
        "# **Pandas**"
      ]
    },
    {
      "cell_type": "markdown",
      "metadata": {
        "id": "6ZW5x0Aetd2F"
      },
      "source": [
        "\n",
        "![pandas1](https://media.giphy.com/media/Wa5JDuv6kzoTC/giphy.gif)\n"
      ]
    },
    {
      "cell_type": "markdown",
      "metadata": {
        "id": "SwUxqvTXtd2G"
      },
      "source": [
        "## Why is Pandas AMAZING?"
      ]
    },
    {
      "cell_type": "markdown",
      "metadata": {
        "id": "C9qxYdkjtd2G"
      },
      "source": [
        "1. super easy loading in data\n",
        "2. easy data cleaning\n",
        "3. easy data manipulation\n",
        "4. easy merging and extraction\n"
      ]
    },
    {
      "cell_type": "code",
      "source": [
        "import pandas as pd"
      ],
      "metadata": {
        "id": "6cgbhIvuaGVg"
      },
      "execution_count": null,
      "outputs": []
    },
    {
      "cell_type": "code",
      "source": [
        "pd.Series?"
      ],
      "metadata": {
        "id": "vlr_570DZ_Rz"
      },
      "execution_count": null,
      "outputs": []
    },
    {
      "cell_type": "code",
      "source": [
        "import pandas as pd \n",
        "\n",
        "ser = pd.Series([\"My\", \"name\", \"is\", \"ash\", \"hello\"])\n",
        "ser"
      ],
      "metadata": {
        "id": "FsJ1PTt3f-Tb"
      },
      "execution_count": null,
      "outputs": []
    },
    {
      "cell_type": "code",
      "source": [
        "ser = pd.Series([\"My\", \"name\", \"is\", \"ash\", \"hello\"], index = [1,2,3,4,5])\n",
        "ser"
      ],
      "metadata": {
        "id": "IcdmYl9egOMz"
      },
      "execution_count": null,
      "outputs": []
    },
    {
      "cell_type": "markdown",
      "source": [
        "Create the data as a dict of lists:\n",
        "\n",
        "We will create again a shopping list!\n"
      ],
      "metadata": {
        "id": "51Yl1adcgblr"
      }
    },
    {
      "cell_type": "code",
      "source": [
        "my_data = {\n",
        "    'drygroceries': [\"pasta\", \"rice\", \"coffee\", \"beans\"],\n",
        "    'milkproducts': [\"cheese\", \"cream\", \"sour cream\", \"yogurt\"],\n",
        "    'drinks': ['tea', 'coffee', 'water', 'juice']\n",
        "}"
      ],
      "metadata": {
        "id": "jiqYxjnWgbFB"
      },
      "execution_count": null,
      "outputs": []
    },
    {
      "cell_type": "code",
      "source": [
        "\n",
        "# Index is also optional\n",
        "my_index = ['a', 'b', 'c', 'd']"
      ],
      "metadata": {
        "id": "WvAjajY3gklb"
      },
      "execution_count": null,
      "outputs": []
    },
    {
      "cell_type": "markdown",
      "source": [
        "How do we transform this dictionary including the index to a -pandas- dataframe? 🐼"
      ],
      "metadata": {
        "id": "IRbLYe_Mndti"
      }
    },
    {
      "cell_type": "code",
      "source": [
        "# We can also do this without the intermediary steps\n",
        "df = pd.DataFrame(\n",
        "    data = {\n",
        "     'drygroceries': [\"pasta\", \"rice\", \"coffee\", \"beans\"],\n",
        "    'milkproducts': [\"cheese\", \"cream\", \"sour cream\", \"yogurt\"],\n",
        "    'drinks': ['tea', 'coffee', 'water', 'juice']\n",
        "    },\n",
        "    index = ['a', 'b', 'c', 'pterodactyl']\n",
        ")\n",
        "df"
      ],
      "metadata": {
        "id": "PnSdpAZYgpel"
      },
      "execution_count": null,
      "outputs": []
    },
    {
      "cell_type": "markdown",
      "metadata": {
        "id": "pLYIH1hHtd2G"
      },
      "source": [
        "### Lets learn to load data in pandas\n",
        "\n",
        "We are going to start with yesterdays data - German Sputnik Newspaper articles"
      ]
    },
    {
      "cell_type": "markdown",
      "metadata": {
        "id": "ZVhHXqTrtd2H"
      },
      "source": [
        "**Lets try with pandas**"
      ]
    },
    {
      "cell_type": "code",
      "execution_count": null,
      "metadata": {
        "id": "8Yw_K_mJtd2H"
      },
      "outputs": [],
      "source": [
        "sputnikdata1 = pd.read_csv('/content/drive/MyDrive/Colab Notebooks/Oxford Text Analysis 22/Python QTA Drive Oxford 2022/Data/sputnikgerman20.tsv')\n",
        "\n"
      ]
    },
    {
      "cell_type": "markdown",
      "source": [
        "**why do we get an error message?**"
      ],
      "metadata": {
        "id": "qGjc58N0nrvr"
      }
    },
    {
      "cell_type": "markdown",
      "metadata": {
        "id": "YYGoYltAtd2I"
      },
      "source": [
        "## Select Column"
      ]
    },
    {
      "cell_type": "markdown",
      "metadata": {
        "id": "IJx-yXALtd2I"
      },
      "source": [
        "### how would I select the date?"
      ]
    },
    {
      "cell_type": "markdown",
      "metadata": {
        "id": "7WQwCxsQtd2J"
      },
      "source": [
        "### Select only content and title\n"
      ]
    },
    {
      "cell_type": "markdown",
      "metadata": {
        "id": "ohmDtLEJtd2J"
      },
      "source": [
        "## Select rows"
      ]
    },
    {
      "cell_type": "markdown",
      "metadata": {
        "id": "KzFPSMBgtd2M"
      },
      "source": [
        "## Exporting data from Pandas\n"
      ]
    },
    {
      "cell_type": "markdown",
      "metadata": {
        "id": "LOPvjGRDQWrZ"
      },
      "source": [
        "\n",
        "\n",
        "```\n",
        "# This is formatted as code\n",
        "```\n",
        "\n",
        "## Rename Columns\n",
        "\n"
      ]
    },
    {
      "cell_type": "code",
      "source": [
        "import pandas as pd \n",
        "import numpy as np\n",
        "\n",
        "df = pd.read_csv('/content/drive/MyDrive/Colab Notebooks/Oxford Text Analysis 22/Python QTA Drive Oxford 2022/Data/sputnikgerman20.tsv',sep='\\t',header=None)\n",
        "df"
      ],
      "metadata": {
        "id": "t27XfwVfUx6S"
      },
      "execution_count": null,
      "outputs": []
    },
    {
      "cell_type": "code",
      "source": [
        "\n",
        "#what if I want to rename colimns?\n"
      ],
      "metadata": {
        "id": "LCh53J71W7Rk"
      },
      "execution_count": null,
      "outputs": []
    },
    {
      "cell_type": "markdown",
      "source": [
        "## Combining Datasets\n",
        "\n",
        "lets first partition our data set"
      ],
      "metadata": {
        "id": "4Be418fmoefR"
      }
    },
    {
      "cell_type": "code",
      "source": [
        "df"
      ],
      "metadata": {
        "id": "HZLErE48U9mK"
      },
      "execution_count": null,
      "outputs": []
    },
    {
      "cell_type": "code",
      "execution_count": null,
      "metadata": {
        "id": "j_5zyvZqQWrZ"
      },
      "outputs": [],
      "source": [
        "df1 = df.loc[:, ['link1', 'link2', 'title']]\n",
        "df2 = df.loc[:, ['date', 'text','link1']]"
      ]
    },
    {
      "cell_type": "code",
      "source": [
        "df1"
      ],
      "metadata": {
        "id": "EgNgKS5dUlRa"
      },
      "execution_count": null,
      "outputs": []
    },
    {
      "cell_type": "code",
      "source": [
        "df2"
      ],
      "metadata": {
        "id": "8zWusFc7UmJ7"
      },
      "execution_count": null,
      "outputs": []
    },
    {
      "cell_type": "markdown",
      "metadata": {
        "id": "eIHZ_PTzQWrZ"
      },
      "source": [
        "### Using `pd.concat`\n",
        "\n",
        "- axis: default is 0, if 1 is used then it means perfom a column-wise concatenation\n"
      ]
    },
    {
      "cell_type": "code",
      "execution_count": null,
      "metadata": {
        "id": "dhlvJJ-mQWrZ"
      },
      "outputs": [],
      "source": [
        "print(df1.shape)\n",
        "print(df2.shape)\n",
        "  "
      ]
    },
    {
      "cell_type": "code",
      "source": [
        "#row wise concatenation\n",
        "\n",
        "print(pd.concat([df1, df2], axis=0, sort=False).shape)\n"
      ],
      "metadata": {
        "id": "Xn8Pstn9Pt5d"
      },
      "execution_count": null,
      "outputs": []
    },
    {
      "cell_type": "code",
      "source": [
        "pd.concat([df1, df2], axis=0, sort=False) "
      ],
      "metadata": {
        "id": "FVi-T3DYPwR5"
      },
      "execution_count": null,
      "outputs": []
    },
    {
      "cell_type": "code",
      "execution_count": null,
      "metadata": {
        "id": "7ONTg-CpQWrZ"
      },
      "outputs": [],
      "source": [
        "print(df1.shape)\n",
        "print(df2.shape)\n",
        "print(pd.concat([df1, df2], axis=1).shape)\n",
        "\n",
        "pd.concat([df1, df2], axis=1)"
      ]
    },
    {
      "cell_type": "code",
      "execution_count": null,
      "metadata": {
        "id": "xaFDOxjWQWrZ"
      },
      "outputs": [],
      "source": [
        "df3 = df.sample(10).loc[:, ['keywords', 'score']]"
      ]
    },
    {
      "cell_type": "code",
      "execution_count": null,
      "metadata": {
        "id": "JtnA_YDyQWrZ"
      },
      "outputs": [],
      "source": [
        "pd.concat([df1, df2, df3], axis=1).info()\n",
        "# Check: why are there differing numbers of NAs?"
      ]
    },
    {
      "cell_type": "code",
      "execution_count": null,
      "metadata": {
        "id": "Aic2V9F9QWrZ"
      },
      "outputs": [],
      "source": [
        "# Check: How many columns, rows, and NAs will the following have?\n",
        "pd.concat([df1, df2, df3], axis=0).info()"
      ]
    },
    {
      "cell_type": "markdown",
      "metadata": {
        "id": "RTEz45CwQWrZ"
      },
      "source": [
        "### `pd.merge`"
      ]
    },
    {
      "cell_type": "code",
      "execution_count": null,
      "metadata": {
        "id": "DHCz3245QWrZ"
      },
      "outputs": [],
      "source": [
        "pd.merge(df1, df2, on=\"link1\")"
      ]
    },
    {
      "cell_type": "code",
      "execution_count": null,
      "metadata": {
        "id": "_ApPno5ZQWrZ"
      },
      "outputs": [],
      "source": [
        "df4 = df.sample(10).loc[:, ['date', 'link1']]"
      ]
    },
    {
      "cell_type": "code",
      "source": [
        "df1"
      ],
      "metadata": {
        "id": "3NdnlXU_Rdgy"
      },
      "execution_count": null,
      "outputs": []
    },
    {
      "cell_type": "code",
      "source": [
        "#delete from here"
      ],
      "metadata": {
        "id": "dK9pSnf5RrPc"
      },
      "execution_count": null,
      "outputs": []
    },
    {
      "cell_type": "code",
      "execution_count": null,
      "metadata": {
        "id": "1tb_jTPtQWrZ"
      },
      "outputs": [],
      "source": [
        "print(df1.index)\n",
        "print(df4.index)\n",
        "for join in ['inner', 'left', 'right', 'outer']:\n",
        "    print(pd.merge(df1, df4, how=join, on=\"link1\").shape)"
      ]
    },
    {
      "cell_type": "code",
      "execution_count": null,
      "metadata": {
        "id": "-cA9taMVQWrZ"
      },
      "outputs": [],
      "source": [
        "df4 = df4.rename({'finalserialno':'serialno'}, axis=1)\n",
        "df4"
      ]
    },
    {
      "cell_type": "code",
      "execution_count": null,
      "metadata": {
        "id": "pg0KPMhOQWra"
      },
      "outputs": [],
      "source": [
        "pd.merge(\n",
        "    df3, df4,\n",
        "    how=\"outer\", left_on=\"finalserialno\", right_on='serialno')"
      ]
    },
    {
      "cell_type": "code",
      "execution_count": null,
      "metadata": {
        "id": "djfN5HuPQWra"
      },
      "outputs": [],
      "source": [
        "# Can check the same with set operations\n",
        "len(set(df3['finalserialno']).intersection(set(df4['serialno'])))"
      ]
    },
    {
      "cell_type": "markdown",
      "metadata": {
        "id": "dCF0cqPxQWra"
      },
      "source": [
        "**Task**:\n",
        "\n",
        "Sample 100 rows of `df` to create a new dataframe and call it `df5`.\n",
        "\n",
        "Left-join `df5` on `df` on a unique key. How many rows and columns are in the resulting dataframe?"
      ]
    },
    {
      "cell_type": "markdown",
      "source": [
        "# Visualization"
      ],
      "metadata": {
        "id": "C3v3R-eQUiGz"
      }
    },
    {
      "cell_type": "markdown",
      "source": [
        "## lets clean our text first through a loop\n",
        "\n",
        "Task:\n",
        "\n",
        "1. Lower case\n",
        "2. Split text by white space\n",
        "3. remove numbers and punctuation\n",
        "4. remove german stopwords"
      ],
      "metadata": {
        "id": "JcRUtwIKSxXj"
      }
    },
    {
      "cell_type": "code",
      "source": [
        "import string\n",
        "exclude = set(string.punctuation) # if you see this not part of the punctuation -->”\n",
        "import nltk\n",
        "nltk.download('stopwords') #you can also download all libraries in nltk at once\n",
        "from nltk.corpus import stopwords\n",
        "stop_word_list = stopwords.words('german')\n",
        "nltk.download('punkt')\n",
        "\n",
        "\n",
        "\n"
      ],
      "metadata": {
        "id": "D1sFZNqTSwxh"
      },
      "execution_count": null,
      "outputs": []
    },
    {
      "cell_type": "code",
      "source": [
        "dataframe = pd.read_csv('/content/drive/MyDrive/Colab Notebooks/Oxford Text Analysis 22/Python QTA Drive Oxford 2022/Data/sputnikgerman20.tsv',sep='\\t',header=None)\n",
        "dataframe"
      ],
      "metadata": {
        "id": "H-qMxNOjQxzt"
      },
      "execution_count": null,
      "outputs": []
    },
    {
      "cell_type": "markdown",
      "source": [
        "Now lets count the 10 most common words"
      ],
      "metadata": {
        "id": "-JfZ1qKTrdaU"
      }
    },
    {
      "cell_type": "markdown",
      "source": [
        "Next lets plot the 10 most common words"
      ],
      "metadata": {
        "id": "J_8aIntLrhov"
      }
    },
    {
      "cell_type": "code",
      "source": [],
      "metadata": {
        "id": "L7XPPrAtMvcP"
      },
      "execution_count": null,
      "outputs": []
    },
    {
      "cell_type": "code",
      "source": [],
      "metadata": {
        "id": "mPbmEdZIMvZx"
      },
      "execution_count": null,
      "outputs": []
    },
    {
      "cell_type": "code",
      "source": [],
      "metadata": {
        "id": "mCa_J55qMvXb"
      },
      "execution_count": null,
      "outputs": []
    },
    {
      "cell_type": "code",
      "source": [],
      "metadata": {
        "id": "JNz-KCHFMvVH"
      },
      "execution_count": null,
      "outputs": []
    },
    {
      "cell_type": "code",
      "source": [],
      "metadata": {
        "id": "F26HRN-FrkuH"
      },
      "execution_count": null,
      "outputs": []
    },
    {
      "cell_type": "code",
      "source": [],
      "metadata": {
        "id": "tGumbTzkrkr6"
      },
      "execution_count": null,
      "outputs": []
    },
    {
      "cell_type": "code",
      "source": [],
      "metadata": {
        "id": "KaWAzI1prkpr"
      },
      "execution_count": null,
      "outputs": []
    },
    {
      "cell_type": "code",
      "source": [],
      "metadata": {
        "id": "EmQ9sKHprklt"
      },
      "execution_count": null,
      "outputs": []
    },
    {
      "cell_type": "code",
      "source": [],
      "metadata": {
        "id": "1qDUlZtrrkjt"
      },
      "execution_count": null,
      "outputs": []
    },
    {
      "cell_type": "code",
      "source": [],
      "metadata": {
        "id": "0_Lp9Dulrkhg"
      },
      "execution_count": null,
      "outputs": []
    },
    {
      "cell_type": "code",
      "source": [],
      "metadata": {
        "id": "jswzTUL1rpLA"
      },
      "execution_count": null,
      "outputs": []
    },
    {
      "cell_type": "code",
      "source": [],
      "metadata": {
        "id": "_yvi6FqcrpI2"
      },
      "execution_count": null,
      "outputs": []
    },
    {
      "cell_type": "code",
      "source": [],
      "metadata": {
        "id": "_U9xjtjCrpGl"
      },
      "execution_count": null,
      "outputs": []
    },
    {
      "cell_type": "code",
      "source": [],
      "metadata": {
        "id": "IFN4B5KKrpEf"
      },
      "execution_count": null,
      "outputs": []
    },
    {
      "cell_type": "code",
      "source": [],
      "metadata": {
        "id": "Q6C-dT8drpCS"
      },
      "execution_count": null,
      "outputs": []
    },
    {
      "cell_type": "code",
      "source": [],
      "metadata": {
        "id": "qGzZCxT1ro_9"
      },
      "execution_count": null,
      "outputs": []
    },
    {
      "cell_type": "code",
      "source": [],
      "metadata": {
        "id": "SU9L59Rnro94"
      },
      "execution_count": null,
      "outputs": []
    },
    {
      "cell_type": "code",
      "source": [],
      "metadata": {
        "id": "UvtIodBjro7h"
      },
      "execution_count": null,
      "outputs": []
    },
    {
      "cell_type": "code",
      "source": [],
      "metadata": {
        "id": "Ob_2hlAOro5b"
      },
      "execution_count": null,
      "outputs": []
    },
    {
      "cell_type": "code",
      "source": [],
      "metadata": {
        "id": "610ulHlhro3F"
      },
      "execution_count": null,
      "outputs": []
    },
    {
      "cell_type": "code",
      "source": [],
      "metadata": {
        "id": "ZPIlaP7tro0v"
      },
      "execution_count": null,
      "outputs": []
    },
    {
      "cell_type": "code",
      "source": [],
      "metadata": {
        "id": "0frYGcNmroyd"
      },
      "execution_count": null,
      "outputs": []
    },
    {
      "cell_type": "code",
      "source": [],
      "metadata": {
        "id": "-EG-VNEsrowU"
      },
      "execution_count": null,
      "outputs": []
    },
    {
      "cell_type": "code",
      "source": [],
      "metadata": {
        "id": "hoQic-Ihrot2"
      },
      "execution_count": null,
      "outputs": []
    },
    {
      "cell_type": "code",
      "source": [],
      "metadata": {
        "id": "MbvjeTYnrkW7"
      },
      "execution_count": null,
      "outputs": []
    },
    {
      "cell_type": "code",
      "source": [],
      "metadata": {
        "id": "Z-SEi267MvSn"
      },
      "execution_count": null,
      "outputs": []
    },
    {
      "cell_type": "markdown",
      "source": [
        "Sources\n",
        "\n",
        "http://introtopython.org/dictionaries.html#Looping-through-a-dictionary"
      ],
      "metadata": {
        "id": "vSenYPWESLfk"
      }
    },
    {
      "cell_type": "markdown",
      "source": [
        "Musashi Harakuwa 2020 Teaching Material"
      ],
      "metadata": {
        "id": "S9Cq5hGGMs53"
      }
    }
  ]
}
