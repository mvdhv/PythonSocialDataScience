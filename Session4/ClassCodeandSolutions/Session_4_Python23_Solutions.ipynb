{
  "nbformat": 4,
  "nbformat_minor": 0,
  "metadata": {
    "colab": {
      "provenance": [],
      "toc_visible": true,
      "mount_file_id": "1bcggm9lgIedubMkXT7GtY30wzAw4bAXn",
      "authorship_tag": "ABX9TyPBnDfdhNJkmJCUmJh6j9wf",
      "include_colab_link": true
    },
    "kernelspec": {
      "name": "python3",
      "display_name": "Python 3"
    },
    "language_info": {
      "name": "python"
    }
  },
  "cells": [
    {
      "cell_type": "markdown",
      "metadata": {
        "id": "view-in-github",
        "colab_type": "text"
      },
      "source": [
        "<a href=\"https://colab.research.google.com/github/aelshehawy/PythonSocialDataScience/blob/main/Session_4_Python23_Solutions.ipynb\" target=\"_parent\"><img src=\"https://colab.research.google.com/assets/colab-badge.svg\" alt=\"Open In Colab\"/></a>"
      ]
    },
    {
      "cell_type": "markdown",
      "source": [
        "Today's session:\n",
        "\n",
        "\n",
        "1. Revise Excercises from last week\n",
        "2. Loading in data to Python\n",
        "3. Pandas Operations\n",
        "4. Data Visualization\n"
      ],
      "metadata": {
        "id": "2oLphy7kHCju"
      }
    },
    {
      "cell_type": "markdown",
      "source": [
        "\n",
        "\n",
        "---\n",
        "\n",
        "<br>\n",
        "<br>\n",
        "**Fast repition of Looping, strings & lists**"
      ],
      "metadata": {
        "id": "3WNXFI2fto9O"
      }
    },
    {
      "cell_type": "code",
      "execution_count": null,
      "metadata": {
        "id": "_JZ5rKg0td13",
        "outputId": "048280ad-621e-4784-dd87-d46f42c5dd74",
        "colab": {
          "base_uri": "https://localhost:8080/"
        }
      },
      "outputs": [
        {
          "output_type": "stream",
          "name": "stdout",
          "text": [
            "Provides for the enforcement of all provisions of law that impose sanctions against countries engaged in gross violations of human rights and that support terrorism against Iraq. Calls on the President to seek multilateral cooperation to: (1) deny dangerous technologies to Iraq; and\n"
          ]
        }
      ],
      "source": [
        "#we want to start with a single string object - once we write sth we like, we scale up \n",
        "s1=\"Provides for the enforcement of all provisions of law that impose sanctions against countries engaged in gross violations of human rights and that support terrorism against Iraq. Calls on the President to seek multilateral cooperation to: (1) deny dangerous technologies to Iraq; and\"\n",
        "print(s1)"
      ]
    },
    {
      "cell_type": "code",
      "execution_count": null,
      "metadata": {
        "collapsed": true,
        "id": "17p4KZCftd15"
      },
      "outputs": [],
      "source": [
        "# we define a list of women-related words - we put in Iraq. to make sure the test works (we will drop it later)\n",
        "female_dict=[\"woman\",\"women\",\"female\",\"girl\",\"girls\",\"Iraq.\"]"
      ]
    },
    {
      "cell_type": "code",
      "execution_count": null,
      "metadata": {
        "collapsed": true,
        "id": "6M-O7KB7td16"
      },
      "outputs": [],
      "source": [
        "# empty list for all women-related things mentions\n",
        "all_women=[]\n",
        "\n",
        "# we will loop over our femal dict list -> each time, the list comprehension will loop over s1 and add to all_women\n",
        "# all instances in which that particular word from female dictionary was found.  Note that .extend takes the elements \n",
        "# of a new list and adds them to an existing list as individual elements, not as new list-element (producing nested lists)\n",
        "# as .append would - experiment with .append! \n",
        "\n",
        "for word in female_dict:\n",
        "    all_women.extend([x for x in s1.split() if x==word])"
      ]
    },
    {
      "cell_type": "code",
      "source": [
        "all_women"
      ],
      "metadata": {
        "colab": {
          "base_uri": "https://localhost:8080/"
        },
        "id": "nDQALtu7A18C",
        "outputId": "2c6d712d-829b-4f57-a567-a93eea200b53"
      },
      "execution_count": null,
      "outputs": [
        {
          "output_type": "execute_result",
          "data": {
            "text/plain": [
              "['Iraq.']"
            ]
          },
          "metadata": {},
          "execution_count": 6
        }
      ]
    },
    {
      "cell_type": "code",
      "source": [
        "# empty list for all women-related things mentions\n",
        "all_women=[]\n",
        "all_women2=[]\n",
        "\n",
        "# we will loop over our femal dict list -> each time, the list comprehension will loop over s1 and add to all_women\n",
        "# all instances in which that particular word from female dictionary was found.  \n",
        "\n",
        "#Note that .extend takes the elements \n",
        "# of a new list and adds them to an existing list as individual elements, not as new list-element (producing nested lists)\n",
        "# as .append would - experiment with .append! \n",
        "\n",
        "for word in female_dict:\n",
        "    all_women.append([x for x in s1.split() if x==word])\n",
        "\n",
        "for word in female_dict:\n",
        "    all_women2.extend([x for x in s1.split() if x==word])   "
      ],
      "metadata": {
        "id": "0yqUgpPEcS5T"
      },
      "execution_count": null,
      "outputs": []
    },
    {
      "cell_type": "markdown",
      "metadata": {
        "id": "6KTGsXKYwlXZ"
      },
      "source": [
        "\n",
        "# Loading Data in Python"
      ]
    },
    {
      "cell_type": "markdown",
      "metadata": {
        "id": "T3-nT0pHwlXZ"
      },
      "source": [
        "- First thing to think about is to specifcy the working directory. I am going to show you how to do that\n",
        "- we want to open the file obamaincairo.txt - This is a famous speech that Obama gave at Cairo University, was discussed a lot in Egyptian Media.\n",
        "\n",
        "**In general we want to learn how to:**\n",
        "\n",
        "``Open, read, save in var, close``"
      ]
    },
    {
      "cell_type": "markdown",
      "metadata": {
        "id": "vgZbItQIwlXa"
      },
      "source": [
        "## This is the basic syntax to open python file \n",
        "```file_object  = open(\"filename\", \"mode\") ```"
      ]
    },
    {
      "cell_type": "code",
      "metadata": {
        "colab": {
          "base_uri": "https://localhost:8080/"
        },
        "id": "6vvaaViVy3bw",
        "outputId": "984d8580-95cb-492f-89a4-6ba297e7bc3f"
      },
      "source": [
        "from google.colab import drive\n",
        "drive.mount('/content/drive')"
      ],
      "execution_count": null,
      "outputs": [
        {
          "output_type": "stream",
          "name": "stdout",
          "text": [
            "Drive already mounted at /content/drive; to attempt to forcibly remount, call drive.mount(\"/content/drive\", force_remount=True).\n"
          ]
        }
      ]
    },
    {
      "cell_type": "code",
      "metadata": {
        "id": "gHUDcpCSzD6X"
      },
      "source": [
        "obamafile = open('/content/drive/MyDrive/Colab Notebooks/Oxford Text Analysis 22/Python QTA Drive Oxford 2022/Data/obamaincairo.txt', encoding=\"utf-8\") #open files in read mode"
      ],
      "execution_count": null,
      "outputs": []
    },
    {
      "cell_type": "code",
      "metadata": {
        "id": "5uWpHQo3wlXa",
        "colab": {
          "base_uri": "https://localhost:8080/"
        },
        "outputId": "fc8d568e-113d-47fe-94b5-dfa59a423058"
      },
      "source": [
        "obamafile # we see we can not read the text, we just can see where it is located"
      ],
      "execution_count": null,
      "outputs": [
        {
          "output_type": "execute_result",
          "data": {
            "text/plain": [
              "<_io.TextIOWrapper name='/content/drive/MyDrive/Colab Notebooks/Oxford Text Analysis 22/Python QTA Drive Oxford 2022/Data/obamaincairo.txt' mode='r' encoding='utf-8'>"
            ]
          },
          "metadata": {},
          "execution_count": 9
        }
      ]
    },
    {
      "cell_type": "code",
      "metadata": {
        "collapsed": true,
        "id": "zEyCkTu1wlXa"
      },
      "source": [
        "obamafile.close() # we close the file that we have opened"
      ],
      "execution_count": null,
      "outputs": []
    },
    {
      "cell_type": "markdown",
      "metadata": {
        "collapsed": true,
        "id": "6eE2dfTCwlXb"
      },
      "source": [
        "We can see that the **default mode here is r** - read mode"
      ]
    },
    {
      "cell_type": "code",
      "metadata": {
        "collapsed": true,
        "id": "d5H3tDVZwlXb"
      },
      "source": [
        "obamafile = open('/content/drive/MyDrive/Colab Notebooks/Oxford Text Analysis 22/Python QTA Drive Oxford 2022/Data/obamaincairo.txt',\"r\") #open files in read mode"
      ],
      "execution_count": null,
      "outputs": []
    },
    {
      "cell_type": "code",
      "metadata": {
        "id": "H4s6h2MrwlXb",
        "colab": {
          "base_uri": "https://localhost:8080/"
        },
        "outputId": "bf12ba6b-89ee-4f25-d221-acce05f668e2"
      },
      "source": [
        "obamafile # we see the same outcome"
      ],
      "execution_count": null,
      "outputs": [
        {
          "output_type": "execute_result",
          "data": {
            "text/plain": [
              "<_io.TextIOWrapper name='/content/drive/MyDrive/Colab Notebooks/Oxford Text Analysis 22/Python QTA Drive Oxford 2022/Data/obamaincairo.txt' mode='r' encoding='UTF-8'>"
            ]
          },
          "metadata": {},
          "execution_count": 12
        }
      ]
    },
    {
      "cell_type": "code",
      "metadata": {
        "collapsed": true,
        "id": "wKXbgodfwlXb"
      },
      "source": [
        "obamafile.close() "
      ],
      "execution_count": null,
      "outputs": []
    },
    {
      "cell_type": "markdown",
      "metadata": {
        "id": "S3ugYL8XwlXc"
      },
      "source": [
        "## How do we print content then?\n",
        "\n"
      ]
    },
    {
      "cell_type": "code",
      "metadata": {
        "id": "Za0NZXfwwlXc",
        "colab": {
          "base_uri": "https://localhost:8080/"
        },
        "outputId": "ded0f519-c3ab-4431-da78-eae69aacf684"
      },
      "source": [
        "obamafile = open('/content/drive/MyDrive/Colab Notebooks/Oxford Text Analysis 22/Python QTA Drive Oxford 2022/Data/obamaincairo.txt', \"r\", encoding=\"utf-8\") #open files\n",
        "content = obamafile.read() # this reads in the file and saves it in a variable\n",
        "print(content)\n",
        "obamafile.close()"
      ],
      "execution_count": null,
      "outputs": [
        {
          "output_type": "stream",
          "name": "stdout",
          "text": [
            "PRESIDENT OBAMA:  Thank you very much.  Good afternoon.  I am honored to be in the timeless city of Cairo, and to be hosted by two remarkable institutions.  For over a thousand years, Al-Azhar has stood as a beacon of Islamic learning; and for over a century, Cairo University has been a source of Egypt's advancement.  And together, you represent the harmony between tradition and progress.  I'm grateful for your hospitality, and the hospitality of the people of Egypt.  And I'm also proud to carry with me the goodwill of the American people, and a greeting of peace from Muslim communities in my country:  Assalaamu alaykum. (Applause.)\n",
            "We meet at a time of great tension between the United States and Muslims around the world -- tension rooted in historical forces that go beyond any current policy debate.  The relationship between Islam and the West includes centuries of coexistence and cooperation, but also conflict and religious wars.  More recently, tension has been fed by colonialism that denied rights and opportunities to many Muslims, and a Cold War in which Muslim-majority countries were too often treated as proxies without regard to their own aspirations.  Moreover, the sweeping change brought by modernity and globalization led many Muslims to view the West as hostile to the traditions of Islam.\n",
            "Violent extremists have exploited these tensions in a small but potent minority of Muslims.  The attacks of September 11, 2001 and the continued efforts of these extremists to engage in violence against civilians has led some in my country to view Islam as inevitably hostile not only to America and Western countries, but also to human rights.  All this has bred more fear and more mistrust.\n",
            "So long as our relationship is defined by our differences, we will empower those who sow hatred rather than peace, those who promote conflict rather than the cooperation that can help all of our people achieve justice and prosperity.  And this cycle of suspicion and discord must end.\n",
            "I've come here to Cairo to seek a new beginning between the United States and Muslims around the world, one based on mutual interest and mutual respect, and one based upon the truth that America and Islam are not exclusive and need not be in competition.  Instead, they overlap, and share common principles -- principles of justice and progress; tolerance and the dignity of all human beings.\n",
            "I do so recognizing that change cannot happen overnight.  I know there's been a lot of publicity about this speech, but no single speech can eradicate years of mistrust, nor can I answer in the time that I have this afternoon all the complex questions that brought us to this point.  But I am convinced that in order to move forward, we must say openly to each other the things we hold in our hearts and that too often are said only behind closed doors.  There must be a sustained effort to listen to each other; to learn from each other; to respect one another; and to seek common ground.  As the Holy Koran tells us, \"Be conscious of God and speak always the truth.\"  (Applause.)  That is what I will try to do today -- to speak the truth as best I can, humbled by the task before us, and firm in my belief that the interests we share as human beings are far more powerful than the forces that drive us apart.\n",
            "Now part of this conviction is rooted in my own experience. I'm a Christian, but my father came from a Kenyan family that includes generations of Muslims.  As a boy, I spent several years in Indonesia and heard the call of the azaan at the break of dawn and at the fall of dusk.  As a young man, I worked in Chicago communities where many found dignity and peace in their Muslim faith.\n",
            "As a student of history, I also know civilization's debt to Islam.  It was Islam -- at places like Al-Azhar -- that carried the light of learning through so many centuries, paving the way for Europe's Renaissance and Enlightenment.  It was innovation in Muslim communities -- (applause) -- it was innovation in Muslim communities that developed the order of algebra; our magnetic compass and tools of navigation; our mastery of pens and printing; our understanding of how disease spreads and how it can be healed.  Islamic culture has given us majestic arches and soaring spires; timeless poetry and cherished music; elegant calligraphy and places of peaceful contemplation.  And throughout history, Islam has demonstrated through words and deeds the possibilities of religious tolerance and racial equality.  (Applause.)\n",
            "I also know that Islam has always been a part of America's story.  The first nation to recognize my country was Morocco.  In signing the Treaty of Tripoli in 1796, our second President, John Adams, wrote, \"The United States has in itself no character of enmity against the laws, religion or tranquility of Muslims.\"  And since our founding, American Muslims have enriched the United States.  They have fought in our wars, they have served in our government, they have stood for civil rights, they have started businesses, they have taught at our universities, they've excelled in our sports arenas, they've won Nobel Prizes, built our tallest building, and lit the Olympic Torch.  And when the first Muslim American was recently elected to Congress, he took the oath to defend our Constitution using the same Holy Koran that one of our Founding Fathers -- Thomas Jefferson -- kept in his personal library.  (Applause.)\n",
            "So I have known Islam on three continents before coming to the region where it was first revealed.  That experience guides my conviction that partnership between America and Islam must be based on what Islam is, not what it isn't.  And I consider it part of my responsibility as President of the United States to fight against negative stereotypes of Islam wherever they appear. (Applause.)\n",
            "But that same principle must apply to Muslim perceptions of America.  (Applause.)  Just as Muslims do not fit a crude stereotype, America is not the crude stereotype of a self-interested empire.  The United States has been one of the greatest sources of progress that the world has ever known.  We were born out of revolution against an empire.  We were founded upon the ideal that all are created equal, and we have shed blood and struggled for centuries to give meaning to those words -- within our borders, and around the world.  We are shaped by every culture, drawn from every end of the Earth, and dedicated to a simple concept:  E pluribus unum -- \"Out of many, one.\"  \n",
            "Now, much has been made of the fact that an African American with the name Barack Hussein Obama could be elected President.  (Applause.)  But my personal story is not so unique.  The dream of opportunity for all people has not come true for everyone in America, but its promise exists for all who come to our shores -- and that includes nearly 7 million American Muslims in our country today who, by the way, enjoy incomes and educational levels that are higher than the American average.  (Applause.)\n",
            "Moreover, freedom in America is indivisible from the freedom to practice one's religion.  That is why there is a mosque in every state in our union, and over 1,200 mosques within our borders.  That's why the United States government has gone to court to protect the right of women and girls to wear the hijab and to punish those who would deny it.  (Applause.)\n",
            "So let there be no doubt:  Islam is a part of America.  And I believe that America holds within her the truth that regardless of race, religion, or station in life, all of us share common aspirations -- to live in peace and security; to get an education and to work with dignity; to love our families, our communities, and our God.  These things we share.  This is the hope of all humanity.\n",
            "Of course, recognizing our common humanity is only the beginning of our task.  Words alone cannot meet the needs of our people.  These needs will be met only if we act boldly in the years ahead; and if we understand that the challenges we face are shared, and our failure to meet them will hurt us all.\n",
            "For we have learned from recent experience that when a financial system weakens in one country, prosperity is hurt everywhere.  When a new flu infects one human being, all are at risk.  When one nation pursues a nuclear weapon, the risk of nuclear attack rises for all nations.  When violent extremists operate in one stretch of mountains, people are endangered across an ocean.  When innocents in Bosnia and Darfur are slaughtered, that is a stain on our collective conscience.  (Applause.)  That is what it means to share this world in the 21st century.  That is the responsibility we have to one another as human beings.\n",
            "And this is a difficult responsibility to embrace.  For human history has often been a record of nations and tribes -- and, yes, religions -- subjugating one another in pursuit of their own interests.  Yet in this new age, such attitudes are self-defeating.  Given our interdependence, any world order that elevates one nation or group of people over another will inevitably fail.  So whatever we think of the past, we must not be prisoners to it.  Our problems must be dealt with through partnership; our progress must be shared.  (Applause.)\n",
            "Now, that does not mean we should ignore sources of tension. Indeed, it suggests the opposite:  We must face these tensions squarely.  And so in that spirit, let me speak as clearly and as plainly as I can about some specific issues that I believe we must finally confront together. \n",
            "The first issue that we have to confront is violent extremism in all of its forms.\n",
            "In Ankara, I made clear that America is not -- and never will be -- at war with Islam.  (Applause.)  We will, however, relentlessly confront violent extremists who pose a grave threat to our security -- because we reject the same thing that people of all faiths reject:  the killing of innocent men, women, and children.  And it is my first duty as President to protect the American people.\n",
            "The situation in Afghanistan demonstrates America's goals, and our need to work together.  Over seven years ago, the United States pursued al Qaeda and the Taliban with broad international support.  We did not go by choice; we went because of necessity. I'm aware that there's still some who would question or even justify the events of 9/11.  But let us be clear:  Al Qaeda killed nearly 3,000 people on that day.  The victims were innocent men, women and children from America and many other nations who had done nothing to harm anybody.  And yet al Qaeda chose to ruthlessly murder these people, claimed credit for the attack, and even now states their determination to kill on a massive scale.  They have affiliates in many countries and are trying to expand their reach.  These are not opinions to be debated; these are facts to be dealt with.\n",
            "Now, make no mistake:  We do not want to keep our troops in Afghanistan.  We see no military -- we seek no military bases there.  It is agonizing for America to lose our young men and women.  It is costly and politically difficult to continue this conflict.  We would gladly bring every single one of our troops home if we could be confident that there were not violent extremists in Afghanistan and now Pakistan determined to kill as many Americans as they possibly can.  But that is not yet the case.\n",
            "And that's why we're partnering with a coalition of 46 countries.  And despite the costs involved, America's commitment will not weaken.  Indeed, none of us should tolerate these extremists.  They have killed in many countries.  They have killed people of different faiths -- but more than any other, they have killed Muslims.  Their actions are irreconcilable with the rights of human beings, the progress of nations, and with Islam.  The Holy Koran teaches that whoever kills an innocent is as -- it is as if he has killed all mankind.  (Applause.)  And the Holy Koran also says whoever saves a person, it is as if he has saved all mankind.  (Applause.)  The enduring faith of over a billion people is so much bigger than the narrow hatred of a few. Islam is not part of the problem in combating violent extremism -- it is an important part of promoting peace. \n",
            "Now, we also know that military power alone is not going to solve the problems in Afghanistan and Pakistan.  That's why we plan to invest $1.5 billion each year over the next five years to partner with Pakistanis to build schools and hospitals, roads and businesses, and hundreds of millions to help those who've been displaced.  That's why we are providing more than $2.8 billion to help Afghans develop their economy and deliver services that people depend on.\n",
            "Let me also address the issue of Iraq.  Unlike Afghanistan, Iraq was a war of choice that provoked strong differences in my country and around the world.  Although I believe that the Iraqi people are ultimately better off without the tyranny of Saddam Hussein, I also believe that events in Iraq have reminded America of the need to use diplomacy and build international consensus to resolve our problems whenever possible.  (Applause.)  Indeed, we can recall the words of Thomas Jefferson, who said:  \"I hope that our wisdom will grow with our power, and teach us that the less we use our power the greater it will be.\"\n",
            "Today, America has a dual responsibility:  to help Iraq forge a better future -- and to leave Iraq to Iraqis.  And I have made it clear to the Iraqi people -- (applause) -- I have made it clear to the Iraqi people that we pursue no bases, and no claim on their territory or resources.  Iraq's sovereignty is its own. And that's why I ordered the removal of our combat brigades by next August.  That is why we will honor our agreement with Iraq's democratically elected government to remove combat troops from Iraqi cities by July, and to remove all of our troops from Iraq by 2012.  (Applause.)  We will help Iraq train its security forces and develop its economy.  But we will support a secure and united Iraq as a partner, and never as a patron.\n",
            "And finally, just as America can never tolerate violence by extremists, we must never alter or forget our principles.  Nine-eleven was an enormous trauma to our country.  The fear and anger that it provoked was understandable, but in some cases, it led us to act contrary to our traditions and our ideals.  We are taking concrete actions to change course.  I have unequivocally prohibited the use of torture by the United States, and I have ordered the prison at Guantanamo Bay closed by early next year.  (Applause.)\n",
            "So America will defend itself, respectful of the sovereignty of nations and the rule of law.  And we will do so in partnership with Muslim communities which are also threatened.  The sooner the extremists are isolated and unwelcome in Muslim communities, the sooner we will all be safer.\n",
            "The second major source of tension that we need to discuss is the situation between Israelis, Palestinians and the Arab world.\n",
            "America's strong bonds with Israel are well known.  This bond is unbreakable.  It is based upon cultural and historical ties, and the recognition that the aspiration for a Jewish homeland is rooted in a tragic history that cannot be denied.\n",
            "Around the world, the Jewish people were persecuted for centuries, and anti-Semitism in Europe culminated in an unprecedented Holocaust.  Tomorrow, I will visit Buchenwald, which was part of a network of camps where Jews were enslaved, tortured, shot and gassed to death by the Third Reich.  Six million Jews were killed -- more than the entire Jewish population of Israel today.  Denying that fact is baseless, it is ignorant, and it is hateful.  Threatening Israel with destruction -- or repeating vile stereotypes about Jews -- is deeply wrong, and only serves to evoke in the minds of Israelis this most painful of memories while preventing the peace that the people of this region deserve.\n",
            "On the other hand, it is also undeniable that the Palestinian people -- Muslims and Christians -- have suffered in pursuit of a homeland.  For more than 60 years they've endured the pain of dislocation.  Many wait in refugee camps in the West Bank, Gaza, and neighboring lands for a life of peace and security that they have never been able to lead.  They endure the daily humiliations -- large and small -- that come with occupation.  So let there be no doubt:  The situation for the Palestinian people is intolerable.  And America will not turn our backs on the legitimate Palestinian aspiration for dignity, opportunity, and a state of their own.  (Applause.)\n",
            "For decades then, there has been a stalemate:  two peoples with legitimate aspirations, each with a painful history that makes compromise elusive.  It's easy to point fingers -- for Palestinians to point to the displacement brought about by Israel's founding, and for Israelis to point to the constant hostility and attacks throughout its history from within its borders as well as beyond.  But if we see this conflict only from one side or the other, then we will be blind to the truth:  The only resolution is for the aspirations of both sides to be met through two states, where Israelis and Palestinians each live in peace and security.  (Applause.)\n",
            "That is in Israel's interest, Palestine's interest, America's interest, and the world's interest.  And that is why I intend to personally pursue this outcome with all the patience and dedication that the task requires.  (Applause.)  The obligations -- the obligations that the parties have agreed to under the road map are clear.  For peace to come, it is time for them -- and all of us -- to live up to our responsibilities.\n",
            "Palestinians must abandon violence.  Resistance through violence and killing is wrong and it does not succeed.  For centuries, black people in America suffered the lash of the whip as slaves and the humiliation of segregation.  But it was not violence that won full and equal rights.  It was a peaceful and determined insistence upon the ideals at the center of America's founding.  This same story can be told by people from South Africa to South Asia; from Eastern Europe to Indonesia.  It's a story with a simple truth:  that violence is a dead end.  It is a sign neither of courage nor power to shoot rockets at sleeping children, or to blow up old women on a bus.  That's not how moral authority is claimed; that's how it is surrendered.\n",
            "Now is the time for Palestinians to focus on what they can build.  The Palestinian Authority must develop its capacity to govern, with institutions that serve the needs of its people. Hamas does have support among some Palestinians, but they also have to recognize they have responsibilities.  To play a role in fulfilling Palestinian aspirations, to unify the Palestinian people, Hamas must put an end to violence, recognize past agreements, recognize Israel's right to exist.\n",
            "At the same time, Israelis must acknowledge that just as Israel's right to exist cannot be denied, neither can Palestine's.  The United States does not accept the legitimacy of continued Israeli settlements.  (Applause.)  This construction violates previous agreements and undermines efforts to achieve peace.  It is time for these settlements to stop.  (Applause.)\n",
            "And Israel must also live up to its obligation to ensure that Palestinians can live and work and develop their society.  Just as it devastates Palestinian families, the continuing humanitarian crisis in Gaza does not serve Israel's security; neither does the continuing lack of opportunity in the West Bank. Progress in the daily lives of the Palestinian people must be a critical part of a road to peace, and Israel must take concrete steps to enable such progress. \n",
            "And finally, the Arab states must recognize that the Arab Peace Initiative was an important beginning, but not the end of their responsibilities.  The Arab-Israeli conflict should no longer be used to distract the people of Arab nations from other problems.  Instead, it must be a cause for action to help the Palestinian people develop the institutions that will sustain their state, to recognize Israel's legitimacy, and to choose progress over a self-defeating focus on the past.\n",
            "America will align our policies with those who pursue peace, and we will say in public what we say in private to Israelis and Palestinians and Arabs.  (Applause.)  We cannot impose peace.  But privately, many Muslims recognize that Israel will not go away.  Likewise, many Israelis recognize the need for a Palestinian state.  It is time for us to act on what everyone knows to be true.\n",
            "Too many tears have been shed.  Too much blood has been shed.  All of us have a responsibility to work for the day when the mothers of Israelis and Palestinians can see their children grow up without fear; when the Holy Land of the three great faiths is the place of peace that God intended it to be; when Jerusalem is a secure and lasting home for Jews and Christians and Muslims, and a place for all of the children of Abraham to mingle peacefully together as in the story of Isra -- (applause) -- as in the story of Isra, when Moses, Jesus, and Mohammed, peace be upon them, joined in prayer.  (Applause.)\n",
            "The third source of tension is our shared interest in the rights and responsibilities of nations on nuclear weapons.\n",
            "This issue has been a source of tension between the United States and the Islamic Republic of Iran.  For many years, Iran has defined itself in part by its opposition to my country, and there is in fact a tumultuous history between us.  In the middle of the Cold War, the United States played a role in the overthrow of a democratically elected Iranian government.  Since the Islamic Revolution, Iran has played a role in acts of hostage-taking and violence against U.S. troops and civilians.  This history is well known.  Rather than remain trapped in the past, I've made it clear to Iran's leaders and people that my country is prepared to move forward.  The question now is not what Iran is against, but rather what future it wants to build.\n",
            "I recognize it will be hard to overcome decades of mistrust, but we will proceed with courage, rectitude, and resolve.  There will be many issues to discuss between our two countries, and we are willing to move forward without preconditions on the basis of mutual respect.  But it is clear to all concerned that when it comes to nuclear weapons, we have reached a decisive point.  This is not simply about America's interests.  It's about preventing a nuclear arms race in the Middle East that could lead this region and the world down a hugely dangerous path.\n",
            "I understand those who protest that some countries have weapons that others do not.  No single nation should pick and choose which nation holds nuclear weapons.  And that's why I strongly reaffirmed America's commitment to seek a world in which no nations hold nuclear weapons.  (Applause.)  And any nation -- including Iran -- should have the right to access peaceful nuclear power if it complies with its responsibilities under the nuclear Non-Proliferation Treaty.  That commitment is at the core of the treaty, and it must be kept for all who fully abide by it. And I'm hopeful that all countries in the region can share in this goal.\n",
            "The fourth issue that I will address is democracy.  (Applause.)\n",
            "I know -- I know there has been controversy about the promotion of democracy in recent years, and much of this controversy is connected to the war in Iraq.  So let me be clear: No system of government can or should be imposed by one nation by any other.\n",
            " \n",
            "That does not lessen my commitment, however, to governments that reflect the will of the people.  Each nation gives life to this principle in its own way, grounded in the traditions of its own people.  America does not presume to know what is best for everyone, just as we would not presume to pick the outcome of a peaceful election.  But I do have an unyielding belief that all people yearn for certain things:  the ability to speak your mind and have a say in how you are governed; confidence in the rule of law and the equal administration of justice; government that is transparent and doesn't steal from the people; the freedom to live as you choose.  These are not just American ideas; they are human rights.  And that is why we will support them everywhere.  (Applause.)\n",
            "Now, there is no straight line to realize this promise.  But this much is clear:  Governments that protect these rights are ultimately more stable, successful and secure.  Suppressing ideas never succeeds in making them go away.  America respects the right of all peaceful and law-abiding voices to be heard around the world, even if we disagree with them.  And we will welcome all elected, peaceful governments -- provided they govern with respect for all their people.\n",
            "This last point is important because there are some who advocate for democracy only when they're out of power; once in power, they are ruthless in suppressing the rights of others.  (Applause.)  So no matter where it takes hold, government of the people and by the people sets a single standard for all who would hold power:  You must maintain your power through consent, not coercion; you must respect the rights of minorities, and participate with a spirit of tolerance and compromise; you must place the interests of your people and the legitimate workings of the political process above your party.  Without these ingredients, elections alone do not make true democracy.\n",
            "AUDIENCE MEMBER:  Barack Obama, we love you!\n",
            "PRESIDENT OBAMA:  Thank you.  (Applause.)  The fifth issue that we must address together is religious freedom.\n",
            "Islam has a proud tradition of tolerance.  We see it in the history of Andalusia and Cordoba during the Inquisition.  I saw it firsthand as a child in Indonesia, where devout Christians worshiped freely in an overwhelmingly Muslim country.  That is the spirit we need today.  People in every country should be free to choose and live their faith based upon the persuasion of the mind and the heart and the soul.  This tolerance is essential for religion to thrive, but it's being challenged in many different ways.\n",
            "Among some Muslims, there's a disturbing tendency to measure one's own faith by the rejection of somebody else's faith.  The richness of religious diversity must be upheld -- whether it is for Maronites in Lebanon or the Copts in Egypt.  (Applause.)  And if we are being honest, fault lines must be closed among Muslims, as well, as the divisions between Sunni and Shia have led to tragic violence, particularly in Iraq.\n",
            "Freedom of religion is central to the ability of peoples to live together.  We must always examine the ways in which we protect it.  For instance, in the United States, rules on charitable giving have made it harder for Muslims to fulfill their religious obligation.  That's why I'm committed to working with American Muslims to ensure that they can fulfill zakat. \n",
            "Likewise, it is important for Western countries to avoid impeding Muslim citizens from practicing religion as they see fit -- for instance, by dictating what clothes a Muslim woman should wear.  We can't disguise hostility towards any religion behind the pretence of liberalism.\n",
            " \n",
            "In fact, faith should bring us together.  And that's why we're forging service projects in America to bring together Christians, Muslims, and Jews.  That's why we welcome efforts like Saudi Arabian King Abdullah's interfaith dialogue and Turkey's leadership in the Alliance of Civilizations.  Around the world, we can turn dialogue into interfaith service, so bridges between peoples lead to action -- whether it is combating malaria in Africa, or providing relief after a natural disaster. \n",
            "The sixth issue -- the sixth issue that I want to address is women's rights.  (Applause.)  I know –- I know -- and you can tell from this audience, that there is a healthy debate about this issue.  I reject the view of some in the West that a woman who chooses to cover her hair is somehow less equal, but I do believe that a woman who is denied an education is denied equality.  (Applause.)  And it is no coincidence that countries where women are well educated are far more likely to be prosperous.\n",
            "Now, let me be clear:  Issues of women's equality are by no means simply an issue for Islam.  In Turkey, Pakistan, Bangladesh, Indonesia, we've seen Muslim-majority countries elect a woman to lead.  Meanwhile, the struggle for women's equality continues in many aspects of American life, and in countries around the world.\n",
            "I am convinced that our daughters can contribute just as much to society as our sons.  (Applause.)  Our common prosperity will be advanced by allowing all humanity -- men and women -- to reach their full potential.  I do not believe that women must make the same choices as men in order to be equal, and I respect those women who choose to live their lives in traditional roles. But it should be their choice.  And that is why the United States will partner with any Muslim-majority country to support expanded literacy for girls, and to help young women pursue employment through micro-financing that helps people live their dreams.  (Applause.)\n",
            "Finally, I want to discuss economic development and opportunity.\n",
            "I know that for many, the face of globalization is contradictory.  The Internet and television can bring knowledge and information, but also offensive sexuality and mindless violence into the home.  Trade can bring new wealth and opportunities, but also huge disruptions and change in communities.  In all nations -- including America -- this change can bring fear.  Fear that because of modernity we lose control over our economic choices, our politics, and most importantly our identities -- those things we most cherish about our communities, our families, our traditions, and our faith. \n",
            "But I also know that human progress cannot be denied.  There need not be contradictions between development and tradition. Countries like Japan and South Korea grew their economies enormously while maintaining distinct cultures.  The same is true for the astonishing progress within Muslim-majority countries from Kuala Lumpur to Dubai.  In ancient times and in our times, Muslim communities have been at the forefront of innovation and education.\n",
            "\n",
            "And this is important because no development strategy can be based only upon what comes out of the ground, nor can it be sustained while young people are out of work.  Many Gulf states have enjoyed great wealth as a consequence of oil, and some are beginning to focus it on broader development.  But all of us must recognize that education and innovation will be the currency of the 21st century -- (applause) -- and in too many Muslim communities, there remains underinvestment in these areas.  I'm emphasizing such investment within my own country.  And while America in the past has focused on oil and gas when it comes to this part of the world, we now seek a broader engagement.\n",
            "On education, we will expand exchange programs, and increase scholarships, like the one that brought my father to America.  (Applause.)  At the same time, we will encourage more Americans to study in Muslim communities.  And we will match promising Muslim students with internships in America; invest in online learning for teachers and children around the world; and create a new online network, so a young person in Kansas can communicate instantly with a young person in Cairo.\n",
            "On economic development, we will create a new corps of business volunteers to partner with counterparts in Muslim-majority countries.  And I will host a Summit on Entrepreneurship this year to identify how we can deepen ties between business leaders, foundations and social entrepreneurs in the United States and Muslim communities around the world.\n",
            "On science and technology, we will launch a new fund to support technological development in Muslim-majority countries, and to help transfer ideas to the marketplace so they can create more jobs.  We'll open centers of scientific excellence in Africa, the Middle East and Southeast Asia, and appoint new science envoys to collaborate on programs that develop new sources of energy, create green jobs, digitize records, clean water, grow new crops.  Today I'm announcing a new global effort with the Organization of the Islamic Conference to eradicate polio.  And we will also expand partnerships with Muslim communities to promote child and maternal health.\n",
            "All these things must be done in partnership.  Americans are ready to join with citizens and governments; community organizations, religious leaders, and businesses in Muslim communities around the world to help our people pursue a better life.\n",
            "The issues that I have described will not be easy to address.  But we have a responsibility to join together on behalf of the world that we seek -- a world where extremists no longer threaten our people, and American troops have come home; a world where Israelis and Palestinians are each secure in a state of their own, and nuclear energy is used for peaceful purposes; a world where governments serve their citizens, and the rights of all God's children are respected.  Those are mutual interests.  That is the world we seek.  But we can only achieve it together.\n",
            "I know there are many -- Muslim and non-Muslim -- who question whether we can forge this new beginning.  Some are eager to stoke the flames of division, and to stand in the way of progress.  Some suggest that it isn't worth the effort -- that we are fated to disagree, and civilizations are doomed to clash. Many more are simply skeptical that real change can occur.  There's so much fear, so much mistrust that has built up over the years.  But if we choose to be bound by the past, we will never move forward.  And I want to particularly say this to young people of every faith, in every country -- you, more than anyone, have the ability to reimagine the world, to remake this world.\n",
            "All of us share this world for but a brief moment in time. The question is whether we spend that time focused on what pushes us apart, or whether we commit ourselves to an effort -- a sustained effort -- to find common ground, to focus on the future we seek for our children, and to respect the dignity of all human beings.\n",
            "It's easier to start wars than to end them.  It's easier to blame others than to look inward.  It's easier to see what is different about someone than to find the things we share.  But we should choose the right path, not just the easy path.  There's one rule that lies at the heart of every religion -- that we do unto others as we would have them do unto us.  (Applause.)  This truth transcends nations and peoples -- a belief that isn't new; that isn't black or white or brown; that isn't Christian or Muslim or Jew.  It's a belief that pulsed in the cradle of civilization, and that still beats in the hearts of billions around the world.  It's a faith in other people, and it's what brought me here today.\n",
            "We have the power to make the world we seek, but only if we have the courage to make a new beginning, keeping in mind what has been written.\n",
            "The Holy Koran tells us:  \"O mankind!  We have created you male and a female; and we have made you into nations and tribes so that you may know one another.\"\n",
            "The Talmud tells us:  \"The whole of the Torah is for the purpose of promoting peace.\"\n",
            "The Holy Bible tells us:  \"Blessed are the peacemakers, for they shall be called sons of God.\"  (Applause.)\n",
            "The people of the world can live together in peace.  We know that is God's vision.  Now that must be our work here on Earth.\n",
            "Thank you.  And may God's peace be upon you.  Thank you very much.  Thank you.  (Applause.)\n",
            "END        \n",
            "2:05 P.M. (Local)\n"
          ]
        }
      ]
    },
    {
      "cell_type": "code",
      "metadata": {
        "id": "rbTnBDeewlXd",
        "colab": {
          "base_uri": "https://localhost:8080/"
        },
        "outputId": "5e38839c-8414-4f72-b5a8-ae5d5454bb3d"
      },
      "source": [
        "print(type(content))"
      ],
      "execution_count": null,
      "outputs": [
        {
          "output_type": "stream",
          "name": "stdout",
          "text": [
            "<class 'str'>\n"
          ]
        }
      ]
    },
    {
      "cell_type": "markdown",
      "metadata": {
        "id": "Q-zjDjTDwlXd"
      },
      "source": [
        " "
      ]
    },
    {
      "cell_type": "markdown",
      "metadata": {
        "id": "5JPJKRddwlXd"
      },
      "source": [
        "## How do we split by word? (Naive Tokenization)\n",
        "\n",
        "We use **the split function**, we talked about in the Python Refresher\n",
        "\n",
        "What is a problem that we can spot here?"
      ]
    },
    {
      "cell_type": "code",
      "metadata": {
        "id": "EezXVv-HwlXe",
        "colab": {
          "base_uri": "https://localhost:8080/"
        },
        "outputId": "af2b7889-e883-4c37-9cc3-194dd7ec6506"
      },
      "source": [
        "obamafile = open('/content/drive/MyDrive/Colab Notebooks/Oxford Text Analysis 22/Python QTA Drive Oxford 2022/Data/obamaincairo.txt', \"r\") #open files\n",
        "content = obamafile.read() # this reads in the file\n",
        "words = content.split(\" \")\n",
        "print (words) # we see here it puts every word in a list, including white spaces"
      ],
      "execution_count": null,
      "outputs": [
        {
          "output_type": "stream",
          "name": "stdout",
          "text": [
            "['PRESIDENT', 'OBAMA:', '', 'Thank', 'you', 'very', 'much.', '', 'Good', 'afternoon.', '', 'I', 'am', 'honored', 'to', 'be', 'in', 'the', 'timeless', 'city', 'of', 'Cairo,', 'and', 'to', 'be', 'hosted', 'by', 'two', 'remarkable', 'institutions.', '', 'For', 'over', 'a', 'thousand', 'years,', 'Al-Azhar', 'has', 'stood', 'as', 'a', 'beacon', 'of', 'Islamic', 'learning;', 'and', 'for', 'over', 'a', 'century,', 'Cairo', 'University', 'has', 'been', 'a', 'source', 'of', \"Egypt's\", 'advancement.', '', 'And', 'together,', 'you', 'represent', 'the', 'harmony', 'between', 'tradition', 'and', 'progress.', '', \"I'm\", 'grateful', 'for', 'your', 'hospitality,', 'and', 'the', 'hospitality', 'of', 'the', 'people', 'of', 'Egypt.', '', 'And', \"I'm\", 'also', 'proud', 'to', 'carry', 'with', 'me', 'the', 'goodwill', 'of', 'the', 'American', 'people,', 'and', 'a', 'greeting', 'of', 'peace', 'from', 'Muslim', 'communities', 'in', 'my', 'country:', '', 'Assalaamu', 'alaykum.', '(Applause.)\\nWe', 'meet', 'at', 'a', 'time', 'of', 'great', 'tension', 'between', 'the', 'United', 'States', 'and', 'Muslims', 'around', 'the', 'world', '--', 'tension', 'rooted', 'in', 'historical', 'forces', 'that', 'go', 'beyond', 'any', 'current', 'policy', 'debate.', '', 'The', 'relationship', 'between', 'Islam', 'and', 'the', 'West', 'includes', 'centuries', 'of', 'coexistence', 'and', 'cooperation,', 'but', 'also', 'conflict', 'and', 'religious', 'wars.', '', 'More', 'recently,', 'tension', 'has', 'been', 'fed', 'by', 'colonialism', 'that', 'denied', 'rights', 'and', 'opportunities', 'to', 'many', 'Muslims,', 'and', 'a', 'Cold', 'War', 'in', 'which', 'Muslim-majority', 'countries', 'were', 'too', 'often', 'treated', 'as', 'proxies', 'without', 'regard', 'to', 'their', 'own', 'aspirations.', '', 'Moreover,', 'the', 'sweeping', 'change', 'brought', 'by', 'modernity', 'and', 'globalization', 'led', 'many', 'Muslims', 'to', 'view', 'the', 'West', 'as', 'hostile', 'to', 'the', 'traditions', 'of', 'Islam.\\nViolent', 'extremists', 'have', 'exploited', 'these', 'tensions', 'in', 'a', 'small', 'but', 'potent', 'minority', 'of', 'Muslims.', '', 'The', 'attacks', 'of', 'September', '11,', '2001', 'and', 'the', 'continued', 'efforts', 'of', 'these', 'extremists', 'to', 'engage', 'in', 'violence', 'against', 'civilians', 'has', 'led', 'some', 'in', 'my', 'country', 'to', 'view', 'Islam', 'as', 'inevitably', 'hostile', 'not', 'only', 'to', 'America', 'and', 'Western', 'countries,', 'but', 'also', 'to', 'human', 'rights.', '', 'All', 'this', 'has', 'bred', 'more', 'fear', 'and', 'more', 'mistrust.\\nSo', 'long', 'as', 'our', 'relationship', 'is', 'defined', 'by', 'our', 'differences,', 'we', 'will', 'empower', 'those', 'who', 'sow', 'hatred', 'rather', 'than', 'peace,', 'those', 'who', 'promote', 'conflict', 'rather', 'than', 'the', 'cooperation', 'that', 'can', 'help', 'all', 'of', 'our', 'people', 'achieve', 'justice', 'and', 'prosperity.', '', 'And', 'this', 'cycle', 'of', 'suspicion', 'and', 'discord', 'must', \"end.\\nI've\", 'come', 'here', 'to', 'Cairo', 'to', 'seek', 'a', 'new', 'beginning', 'between', 'the', 'United', 'States', 'and', 'Muslims', 'around', 'the', 'world,', 'one', 'based', 'on', 'mutual', 'interest', 'and', 'mutual', 'respect,', 'and', 'one', 'based', 'upon', 'the', 'truth', 'that', 'America', 'and', 'Islam', 'are', 'not', 'exclusive', 'and', 'need', 'not', 'be', 'in', 'competition.', '', 'Instead,', 'they', 'overlap,', 'and', 'share', 'common', 'principles', '--', 'principles', 'of', 'justice', 'and', 'progress;', 'tolerance', 'and', 'the', 'dignity', 'of', 'all', 'human', 'beings.\\nI', 'do', 'so', 'recognizing', 'that', 'change', 'cannot', 'happen', 'overnight.', '', 'I', 'know', \"there's\", 'been', 'a', 'lot', 'of', 'publicity', 'about', 'this', 'speech,', 'but', 'no', 'single', 'speech', 'can', 'eradicate', 'years', 'of', 'mistrust,', 'nor', 'can', 'I', 'answer', 'in', 'the', 'time', 'that', 'I', 'have', 'this', 'afternoon', 'all', 'the', 'complex', 'questions', 'that', 'brought', 'us', 'to', 'this', 'point.', '', 'But', 'I', 'am', 'convinced', 'that', 'in', 'order', 'to', 'move', 'forward,', 'we', 'must', 'say', 'openly', 'to', 'each', 'other', 'the', 'things', 'we', 'hold', 'in', 'our', 'hearts', 'and', 'that', 'too', 'often', 'are', 'said', 'only', 'behind', 'closed', 'doors.', '', 'There', 'must', 'be', 'a', 'sustained', 'effort', 'to', 'listen', 'to', 'each', 'other;', 'to', 'learn', 'from', 'each', 'other;', 'to', 'respect', 'one', 'another;', 'and', 'to', 'seek', 'common', 'ground.', '', 'As', 'the', 'Holy', 'Koran', 'tells', 'us,', '\"Be', 'conscious', 'of', 'God', 'and', 'speak', 'always', 'the', 'truth.\"', '', '(Applause.)', '', 'That', 'is', 'what', 'I', 'will', 'try', 'to', 'do', 'today', '--', 'to', 'speak', 'the', 'truth', 'as', 'best', 'I', 'can,', 'humbled', 'by', 'the', 'task', 'before', 'us,', 'and', 'firm', 'in', 'my', 'belief', 'that', 'the', 'interests', 'we', 'share', 'as', 'human', 'beings', 'are', 'far', 'more', 'powerful', 'than', 'the', 'forces', 'that', 'drive', 'us', 'apart.\\nNow', 'part', 'of', 'this', 'conviction', 'is', 'rooted', 'in', 'my', 'own', 'experience.', \"I'm\", 'a', 'Christian,', 'but', 'my', 'father', 'came', 'from', 'a', 'Kenyan', 'family', 'that', 'includes', 'generations', 'of', 'Muslims.', '', 'As', 'a', 'boy,', 'I', 'spent', 'several', 'years', 'in', 'Indonesia', 'and', 'heard', 'the', 'call', 'of', 'the', 'azaan', 'at', 'the', 'break', 'of', 'dawn', 'and', 'at', 'the', 'fall', 'of', 'dusk.', '', 'As', 'a', 'young', 'man,', 'I', 'worked', 'in', 'Chicago', 'communities', 'where', 'many', 'found', 'dignity', 'and', 'peace', 'in', 'their', 'Muslim', 'faith.\\nAs', 'a', 'student', 'of', 'history,', 'I', 'also', 'know', \"civilization's\", 'debt', 'to', 'Islam.', '', 'It', 'was', 'Islam', '--', 'at', 'places', 'like', 'Al-Azhar', '--', 'that', 'carried', 'the', 'light', 'of', 'learning', 'through', 'so', 'many', 'centuries,', 'paving', 'the', 'way', 'for', \"Europe's\", 'Renaissance', 'and', 'Enlightenment.', '', 'It', 'was', 'innovation', 'in', 'Muslim', 'communities', '--', '(applause)', '--', 'it', 'was', 'innovation', 'in', 'Muslim', 'communities', 'that', 'developed', 'the', 'order', 'of', 'algebra;', 'our', 'magnetic', 'compass', 'and', 'tools', 'of', 'navigation;', 'our', 'mastery', 'of', 'pens', 'and', 'printing;', 'our', 'understanding', 'of', 'how', 'disease', 'spreads', 'and', 'how', 'it', 'can', 'be', 'healed.', '', 'Islamic', 'culture', 'has', 'given', 'us', 'majestic', 'arches', 'and', 'soaring', 'spires;', 'timeless', 'poetry', 'and', 'cherished', 'music;', 'elegant', 'calligraphy', 'and', 'places', 'of', 'peaceful', 'contemplation.', '', 'And', 'throughout', 'history,', 'Islam', 'has', 'demonstrated', 'through', 'words', 'and', 'deeds', 'the', 'possibilities', 'of', 'religious', 'tolerance', 'and', 'racial', 'equality.', '', '(Applause.)\\nI', 'also', 'know', 'that', 'Islam', 'has', 'always', 'been', 'a', 'part', 'of', \"America's\", 'story.', '', 'The', 'first', 'nation', 'to', 'recognize', 'my', 'country', 'was', 'Morocco.', '', 'In', 'signing', 'the', 'Treaty', 'of', 'Tripoli', 'in', '1796,', 'our', 'second', 'President,', 'John', 'Adams,', 'wrote,', '\"The', 'United', 'States', 'has', 'in', 'itself', 'no', 'character', 'of', 'enmity', 'against', 'the', 'laws,', 'religion', 'or', 'tranquility', 'of', 'Muslims.\"', '', 'And', 'since', 'our', 'founding,', 'American', 'Muslims', 'have', 'enriched', 'the', 'United', 'States.', '', 'They', 'have', 'fought', 'in', 'our', 'wars,', 'they', 'have', 'served', 'in', 'our', 'government,', 'they', 'have', 'stood', 'for', 'civil', 'rights,', 'they', 'have', 'started', 'businesses,', 'they', 'have', 'taught', 'at', 'our', 'universities,', \"they've\", 'excelled', 'in', 'our', 'sports', 'arenas,', \"they've\", 'won', 'Nobel', 'Prizes,', 'built', 'our', 'tallest', 'building,', 'and', 'lit', 'the', 'Olympic', 'Torch.', '', 'And', 'when', 'the', 'first', 'Muslim', 'American', 'was', 'recently', 'elected', 'to', 'Congress,', 'he', 'took', 'the', 'oath', 'to', 'defend', 'our', 'Constitution', 'using', 'the', 'same', 'Holy', 'Koran', 'that', 'one', 'of', 'our', 'Founding', 'Fathers', '--', 'Thomas', 'Jefferson', '--', 'kept', 'in', 'his', 'personal', 'library.', '', '(Applause.)\\nSo', 'I', 'have', 'known', 'Islam', 'on', 'three', 'continents', 'before', 'coming', 'to', 'the', 'region', 'where', 'it', 'was', 'first', 'revealed.', '', 'That', 'experience', 'guides', 'my', 'conviction', 'that', 'partnership', 'between', 'America', 'and', 'Islam', 'must', 'be', 'based', 'on', 'what', 'Islam', 'is,', 'not', 'what', 'it', \"isn't.\", '', 'And', 'I', 'consider', 'it', 'part', 'of', 'my', 'responsibility', 'as', 'President', 'of', 'the', 'United', 'States', 'to', 'fight', 'against', 'negative', 'stereotypes', 'of', 'Islam', 'wherever', 'they', 'appear.', '(Applause.)\\nBut', 'that', 'same', 'principle', 'must', 'apply', 'to', 'Muslim', 'perceptions', 'of', 'America.', '', '(Applause.)', '', 'Just', 'as', 'Muslims', 'do', 'not', 'fit', 'a', 'crude', 'stereotype,', 'America', 'is', 'not', 'the', 'crude', 'stereotype', 'of', 'a', 'self-interested', 'empire.', '', 'The', 'United', 'States', 'has', 'been', 'one', 'of', 'the', 'greatest', 'sources', 'of', 'progress', 'that', 'the', 'world', 'has', 'ever', 'known.', '', 'We', 'were', 'born', 'out', 'of', 'revolution', 'against', 'an', 'empire.', '', 'We', 'were', 'founded', 'upon', 'the', 'ideal', 'that', 'all', 'are', 'created', 'equal,', 'and', 'we', 'have', 'shed', 'blood', 'and', 'struggled', 'for', 'centuries', 'to', 'give', 'meaning', 'to', 'those', 'words', '--', 'within', 'our', 'borders,', 'and', 'around', 'the', 'world.', '', 'We', 'are', 'shaped', 'by', 'every', 'culture,', 'drawn', 'from', 'every', 'end', 'of', 'the', 'Earth,', 'and', 'dedicated', 'to', 'a', 'simple', 'concept:', '', 'E', 'pluribus', 'unum', '--', '\"Out', 'of', 'many,', 'one.\"', '', '\\nNow,', 'much', 'has', 'been', 'made', 'of', 'the', 'fact', 'that', 'an', 'African', 'American', 'with', 'the', 'name', 'Barack', 'Hussein', 'Obama', 'could', 'be', 'elected', 'President.', '', '(Applause.)', '', 'But', 'my', 'personal', 'story', 'is', 'not', 'so', 'unique.', '', 'The', 'dream', 'of', 'opportunity', 'for', 'all', 'people', 'has', 'not', 'come', 'true', 'for', 'everyone', 'in', 'America,', 'but', 'its', 'promise', 'exists', 'for', 'all', 'who', 'come', 'to', 'our', 'shores', '--', 'and', 'that', 'includes', 'nearly', '7', 'million', 'American', 'Muslims', 'in', 'our', 'country', 'today', 'who,', 'by', 'the', 'way,', 'enjoy', 'incomes', 'and', 'educational', 'levels', 'that', 'are', 'higher', 'than', 'the', 'American', 'average.', '', '(Applause.)\\nMoreover,', 'freedom', 'in', 'America', 'is', 'indivisible', 'from', 'the', 'freedom', 'to', 'practice', \"one's\", 'religion.', '', 'That', 'is', 'why', 'there', 'is', 'a', 'mosque', 'in', 'every', 'state', 'in', 'our', 'union,', 'and', 'over', '1,200', 'mosques', 'within', 'our', 'borders.', '', \"That's\", 'why', 'the', 'United', 'States', 'government', 'has', 'gone', 'to', 'court', 'to', 'protect', 'the', 'right', 'of', 'women', 'and', 'girls', 'to', 'wear', 'the', 'hijab', 'and', 'to', 'punish', 'those', 'who', 'would', 'deny', 'it.', '', '(Applause.)\\nSo', 'let', 'there', 'be', 'no', 'doubt:', '', 'Islam', 'is', 'a', 'part', 'of', 'America.', '', 'And', 'I', 'believe', 'that', 'America', 'holds', 'within', 'her', 'the', 'truth', 'that', 'regardless', 'of', 'race,', 'religion,', 'or', 'station', 'in', 'life,', 'all', 'of', 'us', 'share', 'common', 'aspirations', '--', 'to', 'live', 'in', 'peace', 'and', 'security;', 'to', 'get', 'an', 'education', 'and', 'to', 'work', 'with', 'dignity;', 'to', 'love', 'our', 'families,', 'our', 'communities,', 'and', 'our', 'God.', '', 'These', 'things', 'we', 'share.', '', 'This', 'is', 'the', 'hope', 'of', 'all', 'humanity.\\nOf', 'course,', 'recognizing', 'our', 'common', 'humanity', 'is', 'only', 'the', 'beginning', 'of', 'our', 'task.', '', 'Words', 'alone', 'cannot', 'meet', 'the', 'needs', 'of', 'our', 'people.', '', 'These', 'needs', 'will', 'be', 'met', 'only', 'if', 'we', 'act', 'boldly', 'in', 'the', 'years', 'ahead;', 'and', 'if', 'we', 'understand', 'that', 'the', 'challenges', 'we', 'face', 'are', 'shared,', 'and', 'our', 'failure', 'to', 'meet', 'them', 'will', 'hurt', 'us', 'all.\\nFor', 'we', 'have', 'learned', 'from', 'recent', 'experience', 'that', 'when', 'a', 'financial', 'system', 'weakens', 'in', 'one', 'country,', 'prosperity', 'is', 'hurt', 'everywhere.', '', 'When', 'a', 'new', 'flu', 'infects', 'one', 'human', 'being,', 'all', 'are', 'at', 'risk.', '', 'When', 'one', 'nation', 'pursues', 'a', 'nuclear', 'weapon,', 'the', 'risk', 'of', 'nuclear', 'attack', 'rises', 'for', 'all', 'nations.', '', 'When', 'violent', 'extremists', 'operate', 'in', 'one', 'stretch', 'of', 'mountains,', 'people', 'are', 'endangered', 'across', 'an', 'ocean.', '', 'When', 'innocents', 'in', 'Bosnia', 'and', 'Darfur', 'are', 'slaughtered,', 'that', 'is', 'a', 'stain', 'on', 'our', 'collective', 'conscience.', '', '(Applause.)', '', 'That', 'is', 'what', 'it', 'means', 'to', 'share', 'this', 'world', 'in', 'the', '21st', 'century.', '', 'That', 'is', 'the', 'responsibility', 'we', 'have', 'to', 'one', 'another', 'as', 'human', 'beings.\\nAnd', 'this', 'is', 'a', 'difficult', 'responsibility', 'to', 'embrace.', '', 'For', 'human', 'history', 'has', 'often', 'been', 'a', 'record', 'of', 'nations', 'and', 'tribes', '--', 'and,', 'yes,', 'religions', '--', 'subjugating', 'one', 'another', 'in', 'pursuit', 'of', 'their', 'own', 'interests.', '', 'Yet', 'in', 'this', 'new', 'age,', 'such', 'attitudes', 'are', 'self-defeating.', '', 'Given', 'our', 'interdependence,', 'any', 'world', 'order', 'that', 'elevates', 'one', 'nation', 'or', 'group', 'of', 'people', 'over', 'another', 'will', 'inevitably', 'fail.', '', 'So', 'whatever', 'we', 'think', 'of', 'the', 'past,', 'we', 'must', 'not', 'be', 'prisoners', 'to', 'it.', '', 'Our', 'problems', 'must', 'be', 'dealt', 'with', 'through', 'partnership;', 'our', 'progress', 'must', 'be', 'shared.', '', '(Applause.)\\nNow,', 'that', 'does', 'not', 'mean', 'we', 'should', 'ignore', 'sources', 'of', 'tension.', 'Indeed,', 'it', 'suggests', 'the', 'opposite:', '', 'We', 'must', 'face', 'these', 'tensions', 'squarely.', '', 'And', 'so', 'in', 'that', 'spirit,', 'let', 'me', 'speak', 'as', 'clearly', 'and', 'as', 'plainly', 'as', 'I', 'can', 'about', 'some', 'specific', 'issues', 'that', 'I', 'believe', 'we', 'must', 'finally', 'confront', 'together.', '\\nThe', 'first', 'issue', 'that', 'we', 'have', 'to', 'confront', 'is', 'violent', 'extremism', 'in', 'all', 'of', 'its', 'forms.\\nIn', 'Ankara,', 'I', 'made', 'clear', 'that', 'America', 'is', 'not', '--', 'and', 'never', 'will', 'be', '--', 'at', 'war', 'with', 'Islam.', '', '(Applause.)', '', 'We', 'will,', 'however,', 'relentlessly', 'confront', 'violent', 'extremists', 'who', 'pose', 'a', 'grave', 'threat', 'to', 'our', 'security', '--', 'because', 'we', 'reject', 'the', 'same', 'thing', 'that', 'people', 'of', 'all', 'faiths', 'reject:', '', 'the', 'killing', 'of', 'innocent', 'men,', 'women,', 'and', 'children.', '', 'And', 'it', 'is', 'my', 'first', 'duty', 'as', 'President', 'to', 'protect', 'the', 'American', 'people.\\nThe', 'situation', 'in', 'Afghanistan', 'demonstrates', \"America's\", 'goals,', 'and', 'our', 'need', 'to', 'work', 'together.', '', 'Over', 'seven', 'years', 'ago,', 'the', 'United', 'States', 'pursued', 'al', 'Qaeda', 'and', 'the', 'Taliban', 'with', 'broad', 'international', 'support.', '', 'We', 'did', 'not', 'go', 'by', 'choice;', 'we', 'went', 'because', 'of', 'necessity.', \"I'm\", 'aware', 'that', \"there's\", 'still', 'some', 'who', 'would', 'question', 'or', 'even', 'justify', 'the', 'events', 'of', '9/11.', '', 'But', 'let', 'us', 'be', 'clear:', '', 'Al', 'Qaeda', 'killed', 'nearly', '3,000', 'people', 'on', 'that', 'day.', '', 'The', 'victims', 'were', 'innocent', 'men,', 'women', 'and', 'children', 'from', 'America', 'and', 'many', 'other', 'nations', 'who', 'had', 'done', 'nothing', 'to', 'harm', 'anybody.', '', 'And', 'yet', 'al', 'Qaeda', 'chose', 'to', 'ruthlessly', 'murder', 'these', 'people,', 'claimed', 'credit', 'for', 'the', 'attack,', 'and', 'even', 'now', 'states', 'their', 'determination', 'to', 'kill', 'on', 'a', 'massive', 'scale.', '', 'They', 'have', 'affiliates', 'in', 'many', 'countries', 'and', 'are', 'trying', 'to', 'expand', 'their', 'reach.', '', 'These', 'are', 'not', 'opinions', 'to', 'be', 'debated;', 'these', 'are', 'facts', 'to', 'be', 'dealt', 'with.\\nNow,', 'make', 'no', 'mistake:', '', 'We', 'do', 'not', 'want', 'to', 'keep', 'our', 'troops', 'in', 'Afghanistan.', '', 'We', 'see', 'no', 'military', '--', 'we', 'seek', 'no', 'military', 'bases', 'there.', '', 'It', 'is', 'agonizing', 'for', 'America', 'to', 'lose', 'our', 'young', 'men', 'and', 'women.', '', 'It', 'is', 'costly', 'and', 'politically', 'difficult', 'to', 'continue', 'this', 'conflict.', '', 'We', 'would', 'gladly', 'bring', 'every', 'single', 'one', 'of', 'our', 'troops', 'home', 'if', 'we', 'could', 'be', 'confident', 'that', 'there', 'were', 'not', 'violent', 'extremists', 'in', 'Afghanistan', 'and', 'now', 'Pakistan', 'determined', 'to', 'kill', 'as', 'many', 'Americans', 'as', 'they', 'possibly', 'can.', '', 'But', 'that', 'is', 'not', 'yet', 'the', 'case.\\nAnd', \"that's\", 'why', \"we're\", 'partnering', 'with', 'a', 'coalition', 'of', '46', 'countries.', '', 'And', 'despite', 'the', 'costs', 'involved,', \"America's\", 'commitment', 'will', 'not', 'weaken.', '', 'Indeed,', 'none', 'of', 'us', 'should', 'tolerate', 'these', 'extremists.', '', 'They', 'have', 'killed', 'in', 'many', 'countries.', '', 'They', 'have', 'killed', 'people', 'of', 'different', 'faiths', '--', 'but', 'more', 'than', 'any', 'other,', 'they', 'have', 'killed', 'Muslims.', '', 'Their', 'actions', 'are', 'irreconcilable', 'with', 'the', 'rights', 'of', 'human', 'beings,', 'the', 'progress', 'of', 'nations,', 'and', 'with', 'Islam.', '', 'The', 'Holy', 'Koran', 'teaches', 'that', 'whoever', 'kills', 'an', 'innocent', 'is', 'as', '--', 'it', 'is', 'as', 'if', 'he', 'has', 'killed', 'all', 'mankind.', '', '(Applause.)', '', 'And', 'the', 'Holy', 'Koran', 'also', 'says', 'whoever', 'saves', 'a', 'person,', 'it', 'is', 'as', 'if', 'he', 'has', 'saved', 'all', 'mankind.', '', '(Applause.)', '', 'The', 'enduring', 'faith', 'of', 'over', 'a', 'billion', 'people', 'is', 'so', 'much', 'bigger', 'than', 'the', 'narrow', 'hatred', 'of', 'a', 'few.', 'Islam', 'is', 'not', 'part', 'of', 'the', 'problem', 'in', 'combating', 'violent', 'extremism', '--', 'it', 'is', 'an', 'important', 'part', 'of', 'promoting', 'peace.', '\\nNow,', 'we', 'also', 'know', 'that', 'military', 'power', 'alone', 'is', 'not', 'going', 'to', 'solve', 'the', 'problems', 'in', 'Afghanistan', 'and', 'Pakistan.', '', \"That's\", 'why', 'we', 'plan', 'to', 'invest', '$1.5', 'billion', 'each', 'year', 'over', 'the', 'next', 'five', 'years', 'to', 'partner', 'with', 'Pakistanis', 'to', 'build', 'schools', 'and', 'hospitals,', 'roads', 'and', 'businesses,', 'and', 'hundreds', 'of', 'millions', 'to', 'help', 'those', \"who've\", 'been', 'displaced.', '', \"That's\", 'why', 'we', 'are', 'providing', 'more', 'than', '$2.8', 'billion', 'to', 'help', 'Afghans', 'develop', 'their', 'economy', 'and', 'deliver', 'services', 'that', 'people', 'depend', 'on.\\nLet', 'me', 'also', 'address', 'the', 'issue', 'of', 'Iraq.', '', 'Unlike', 'Afghanistan,', 'Iraq', 'was', 'a', 'war', 'of', 'choice', 'that', 'provoked', 'strong', 'differences', 'in', 'my', 'country', 'and', 'around', 'the', 'world.', '', 'Although', 'I', 'believe', 'that', 'the', 'Iraqi', 'people', 'are', 'ultimately', 'better', 'off', 'without', 'the', 'tyranny', 'of', 'Saddam', 'Hussein,', 'I', 'also', 'believe', 'that', 'events', 'in', 'Iraq', 'have', 'reminded', 'America', 'of', 'the', 'need', 'to', 'use', 'diplomacy', 'and', 'build', 'international', 'consensus', 'to', 'resolve', 'our', 'problems', 'whenever', 'possible.', '', '(Applause.)', '', 'Indeed,', 'we', 'can', 'recall', 'the', 'words', 'of', 'Thomas', 'Jefferson,', 'who', 'said:', '', '\"I', 'hope', 'that', 'our', 'wisdom', 'will', 'grow', 'with', 'our', 'power,', 'and', 'teach', 'us', 'that', 'the', 'less', 'we', 'use', 'our', 'power', 'the', 'greater', 'it', 'will', 'be.\"\\nToday,', 'America', 'has', 'a', 'dual', 'responsibility:', '', 'to', 'help', 'Iraq', 'forge', 'a', 'better', 'future', '--', 'and', 'to', 'leave', 'Iraq', 'to', 'Iraqis.', '', 'And', 'I', 'have', 'made', 'it', 'clear', 'to', 'the', 'Iraqi', 'people', '--', '(applause)', '--', 'I', 'have', 'made', 'it', 'clear', 'to', 'the', 'Iraqi', 'people', 'that', 'we', 'pursue', 'no', 'bases,', 'and', 'no', 'claim', 'on', 'their', 'territory', 'or', 'resources.', '', \"Iraq's\", 'sovereignty', 'is', 'its', 'own.', 'And', \"that's\", 'why', 'I', 'ordered', 'the', 'removal', 'of', 'our', 'combat', 'brigades', 'by', 'next', 'August.', '', 'That', 'is', 'why', 'we', 'will', 'honor', 'our', 'agreement', 'with', \"Iraq's\", 'democratically', 'elected', 'government', 'to', 'remove', 'combat', 'troops', 'from', 'Iraqi', 'cities', 'by', 'July,', 'and', 'to', 'remove', 'all', 'of', 'our', 'troops', 'from', 'Iraq', 'by', '2012.', '', '(Applause.)', '', 'We', 'will', 'help', 'Iraq', 'train', 'its', 'security', 'forces', 'and', 'develop', 'its', 'economy.', '', 'But', 'we', 'will', 'support', 'a', 'secure', 'and', 'united', 'Iraq', 'as', 'a', 'partner,', 'and', 'never', 'as', 'a', 'patron.\\nAnd', 'finally,', 'just', 'as', 'America', 'can', 'never', 'tolerate', 'violence', 'by', 'extremists,', 'we', 'must', 'never', 'alter', 'or', 'forget', 'our', 'principles.', '', 'Nine-eleven', 'was', 'an', 'enormous', 'trauma', 'to', 'our', 'country.', '', 'The', 'fear', 'and', 'anger', 'that', 'it', 'provoked', 'was', 'understandable,', 'but', 'in', 'some', 'cases,', 'it', 'led', 'us', 'to', 'act', 'contrary', 'to', 'our', 'traditions', 'and', 'our', 'ideals.', '', 'We', 'are', 'taking', 'concrete', 'actions', 'to', 'change', 'course.', '', 'I', 'have', 'unequivocally', 'prohibited', 'the', 'use', 'of', 'torture', 'by', 'the', 'United', 'States,', 'and', 'I', 'have', 'ordered', 'the', 'prison', 'at', 'Guantanamo', 'Bay', 'closed', 'by', 'early', 'next', 'year.', '', '(Applause.)\\nSo', 'America', 'will', 'defend', 'itself,', 'respectful', 'of', 'the', 'sovereignty', 'of', 'nations', 'and', 'the', 'rule', 'of', 'law.', '', 'And', 'we', 'will', 'do', 'so', 'in', 'partnership', 'with', 'Muslim', 'communities', 'which', 'are', 'also', 'threatened.', '', 'The', 'sooner', 'the', 'extremists', 'are', 'isolated', 'and', 'unwelcome', 'in', 'Muslim', 'communities,', 'the', 'sooner', 'we', 'will', 'all', 'be', 'safer.\\nThe', 'second', 'major', 'source', 'of', 'tension', 'that', 'we', 'need', 'to', 'discuss', 'is', 'the', 'situation', 'between', 'Israelis,', 'Palestinians', 'and', 'the', 'Arab', \"world.\\nAmerica's\", 'strong', 'bonds', 'with', 'Israel', 'are', 'well', 'known.', '', 'This', 'bond', 'is', 'unbreakable.', '', 'It', 'is', 'based', 'upon', 'cultural', 'and', 'historical', 'ties,', 'and', 'the', 'recognition', 'that', 'the', 'aspiration', 'for', 'a', 'Jewish', 'homeland', 'is', 'rooted', 'in', 'a', 'tragic', 'history', 'that', 'cannot', 'be', 'denied.\\nAround', 'the', 'world,', 'the', 'Jewish', 'people', 'were', 'persecuted', 'for', 'centuries,', 'and', 'anti-Semitism', 'in', 'Europe', 'culminated', 'in', 'an', 'unprecedented', 'Holocaust.', '', 'Tomorrow,', 'I', 'will', 'visit', 'Buchenwald,', 'which', 'was', 'part', 'of', 'a', 'network', 'of', 'camps', 'where', 'Jews', 'were', 'enslaved,', 'tortured,', 'shot', 'and', 'gassed', 'to', 'death', 'by', 'the', 'Third', 'Reich.', '', 'Six', 'million', 'Jews', 'were', 'killed', '--', 'more', 'than', 'the', 'entire', 'Jewish', 'population', 'of', 'Israel', 'today.', '', 'Denying', 'that', 'fact', 'is', 'baseless,', 'it', 'is', 'ignorant,', 'and', 'it', 'is', 'hateful.', '', 'Threatening', 'Israel', 'with', 'destruction', '--', 'or', 'repeating', 'vile', 'stereotypes', 'about', 'Jews', '--', 'is', 'deeply', 'wrong,', 'and', 'only', 'serves', 'to', 'evoke', 'in', 'the', 'minds', 'of', 'Israelis', 'this', 'most', 'painful', 'of', 'memories', 'while', 'preventing', 'the', 'peace', 'that', 'the', 'people', 'of', 'this', 'region', 'deserve.\\nOn', 'the', 'other', 'hand,', 'it', 'is', 'also', 'undeniable', 'that', 'the', 'Palestinian', 'people', '--', 'Muslims', 'and', 'Christians', '--', 'have', 'suffered', 'in', 'pursuit', 'of', 'a', 'homeland.', '', 'For', 'more', 'than', '60', 'years', \"they've\", 'endured', 'the', 'pain', 'of', 'dislocation.', '', 'Many', 'wait', 'in', 'refugee', 'camps', 'in', 'the', 'West', 'Bank,', 'Gaza,', 'and', 'neighboring', 'lands', 'for', 'a', 'life', 'of', 'peace', 'and', 'security', 'that', 'they', 'have', 'never', 'been', 'able', 'to', 'lead.', '', 'They', 'endure', 'the', 'daily', 'humiliations', '--', 'large', 'and', 'small', '--', 'that', 'come', 'with', 'occupation.', '', 'So', 'let', 'there', 'be', 'no', 'doubt:', '', 'The', 'situation', 'for', 'the', 'Palestinian', 'people', 'is', 'intolerable.', '', 'And', 'America', 'will', 'not', 'turn', 'our', 'backs', 'on', 'the', 'legitimate', 'Palestinian', 'aspiration', 'for', 'dignity,', 'opportunity,', 'and', 'a', 'state', 'of', 'their', 'own.', '', '(Applause.)\\nFor', 'decades', 'then,', 'there', 'has', 'been', 'a', 'stalemate:', '', 'two', 'peoples', 'with', 'legitimate', 'aspirations,', 'each', 'with', 'a', 'painful', 'history', 'that', 'makes', 'compromise', 'elusive.', '', \"It's\", 'easy', 'to', 'point', 'fingers', '--', 'for', 'Palestinians', 'to', 'point', 'to', 'the', 'displacement', 'brought', 'about', 'by', \"Israel's\", 'founding,', 'and', 'for', 'Israelis', 'to', 'point', 'to', 'the', 'constant', 'hostility', 'and', 'attacks', 'throughout', 'its', 'history', 'from', 'within', 'its', 'borders', 'as', 'well', 'as', 'beyond.', '', 'But', 'if', 'we', 'see', 'this', 'conflict', 'only', 'from', 'one', 'side', 'or', 'the', 'other,', 'then', 'we', 'will', 'be', 'blind', 'to', 'the', 'truth:', '', 'The', 'only', 'resolution', 'is', 'for', 'the', 'aspirations', 'of', 'both', 'sides', 'to', 'be', 'met', 'through', 'two', 'states,', 'where', 'Israelis', 'and', 'Palestinians', 'each', 'live', 'in', 'peace', 'and', 'security.', '', '(Applause.)\\nThat', 'is', 'in', \"Israel's\", 'interest,', \"Palestine's\", 'interest,', \"America's\", 'interest,', 'and', 'the', \"world's\", 'interest.', '', 'And', 'that', 'is', 'why', 'I', 'intend', 'to', 'personally', 'pursue', 'this', 'outcome', 'with', 'all', 'the', 'patience', 'and', 'dedication', 'that', 'the', 'task', 'requires.', '', '(Applause.)', '', 'The', 'obligations', '--', 'the', 'obligations', 'that', 'the', 'parties', 'have', 'agreed', 'to', 'under', 'the', 'road', 'map', 'are', 'clear.', '', 'For', 'peace', 'to', 'come,', 'it', 'is', 'time', 'for', 'them', '--', 'and', 'all', 'of', 'us', '--', 'to', 'live', 'up', 'to', 'our', 'responsibilities.\\nPalestinians', 'must', 'abandon', 'violence.', '', 'Resistance', 'through', 'violence', 'and', 'killing', 'is', 'wrong', 'and', 'it', 'does', 'not', 'succeed.', '', 'For', 'centuries,', 'black', 'people', 'in', 'America', 'suffered', 'the', 'lash', 'of', 'the', 'whip', 'as', 'slaves', 'and', 'the', 'humiliation', 'of', 'segregation.', '', 'But', 'it', 'was', 'not', 'violence', 'that', 'won', 'full', 'and', 'equal', 'rights.', '', 'It', 'was', 'a', 'peaceful', 'and', 'determined', 'insistence', 'upon', 'the', 'ideals', 'at', 'the', 'center', 'of', \"America's\", 'founding.', '', 'This', 'same', 'story', 'can', 'be', 'told', 'by', 'people', 'from', 'South', 'Africa', 'to', 'South', 'Asia;', 'from', 'Eastern', 'Europe', 'to', 'Indonesia.', '', \"It's\", 'a', 'story', 'with', 'a', 'simple', 'truth:', '', 'that', 'violence', 'is', 'a', 'dead', 'end.', '', 'It', 'is', 'a', 'sign', 'neither', 'of', 'courage', 'nor', 'power', 'to', 'shoot', 'rockets', 'at', 'sleeping', 'children,', 'or', 'to', 'blow', 'up', 'old', 'women', 'on', 'a', 'bus.', '', \"That's\", 'not', 'how', 'moral', 'authority', 'is', 'claimed;', \"that's\", 'how', 'it', 'is', 'surrendered.\\nNow', 'is', 'the', 'time', 'for', 'Palestinians', 'to', 'focus', 'on', 'what', 'they', 'can', 'build.', '', 'The', 'Palestinian', 'Authority', 'must', 'develop', 'its', 'capacity', 'to', 'govern,', 'with', 'institutions', 'that', 'serve', 'the', 'needs', 'of', 'its', 'people.', 'Hamas', 'does', 'have', 'support', 'among', 'some', 'Palestinians,', 'but', 'they', 'also', 'have', 'to', 'recognize', 'they', 'have', 'responsibilities.', '', 'To', 'play', 'a', 'role', 'in', 'fulfilling', 'Palestinian', 'aspirations,', 'to', 'unify', 'the', 'Palestinian', 'people,', 'Hamas', 'must', 'put', 'an', 'end', 'to', 'violence,', 'recognize', 'past', 'agreements,', 'recognize', \"Israel's\", 'right', 'to', 'exist.\\nAt', 'the', 'same', 'time,', 'Israelis', 'must', 'acknowledge', 'that', 'just', 'as', \"Israel's\", 'right', 'to', 'exist', 'cannot', 'be', 'denied,', 'neither', 'can', \"Palestine's.\", '', 'The', 'United', 'States', 'does', 'not', 'accept', 'the', 'legitimacy', 'of', 'continued', 'Israeli', 'settlements.', '', '(Applause.)', '', 'This', 'construction', 'violates', 'previous', 'agreements', 'and', 'undermines', 'efforts', 'to', 'achieve', 'peace.', '', 'It', 'is', 'time', 'for', 'these', 'settlements', 'to', 'stop.', '', '(Applause.)\\nAnd', 'Israel', 'must', 'also', 'live', 'up', 'to', 'its', 'obligation', 'to', 'ensure', 'that', 'Palestinians', 'can', 'live', 'and', 'work', 'and', 'develop', 'their', 'society.', '', 'Just', 'as', 'it', 'devastates', 'Palestinian', 'families,', 'the', 'continuing', 'humanitarian', 'crisis', 'in', 'Gaza', 'does', 'not', 'serve', \"Israel's\", 'security;', 'neither', 'does', 'the', 'continuing', 'lack', 'of', 'opportunity', 'in', 'the', 'West', 'Bank.', 'Progress', 'in', 'the', 'daily', 'lives', 'of', 'the', 'Palestinian', 'people', 'must', 'be', 'a', 'critical', 'part', 'of', 'a', 'road', 'to', 'peace,', 'and', 'Israel', 'must', 'take', 'concrete', 'steps', 'to', 'enable', 'such', 'progress.', '\\nAnd', 'finally,', 'the', 'Arab', 'states', 'must', 'recognize', 'that', 'the', 'Arab', 'Peace', 'Initiative', 'was', 'an', 'important', 'beginning,', 'but', 'not', 'the', 'end', 'of', 'their', 'responsibilities.', '', 'The', 'Arab-Israeli', 'conflict', 'should', 'no', 'longer', 'be', 'used', 'to', 'distract', 'the', 'people', 'of', 'Arab', 'nations', 'from', 'other', 'problems.', '', 'Instead,', 'it', 'must', 'be', 'a', 'cause', 'for', 'action', 'to', 'help', 'the', 'Palestinian', 'people', 'develop', 'the', 'institutions', 'that', 'will', 'sustain', 'their', 'state,', 'to', 'recognize', \"Israel's\", 'legitimacy,', 'and', 'to', 'choose', 'progress', 'over', 'a', 'self-defeating', 'focus', 'on', 'the', 'past.\\nAmerica', 'will', 'align', 'our', 'policies', 'with', 'those', 'who', 'pursue', 'peace,', 'and', 'we', 'will', 'say', 'in', 'public', 'what', 'we', 'say', 'in', 'private', 'to', 'Israelis', 'and', 'Palestinians', 'and', 'Arabs.', '', '(Applause.)', '', 'We', 'cannot', 'impose', 'peace.', '', 'But', 'privately,', 'many', 'Muslims', 'recognize', 'that', 'Israel', 'will', 'not', 'go', 'away.', '', 'Likewise,', 'many', 'Israelis', 'recognize', 'the', 'need', 'for', 'a', 'Palestinian', 'state.', '', 'It', 'is', 'time', 'for', 'us', 'to', 'act', 'on', 'what', 'everyone', 'knows', 'to', 'be', 'true.\\nToo', 'many', 'tears', 'have', 'been', 'shed.', '', 'Too', 'much', 'blood', 'has', 'been', 'shed.', '', 'All', 'of', 'us', 'have', 'a', 'responsibility', 'to', 'work', 'for', 'the', 'day', 'when', 'the', 'mothers', 'of', 'Israelis', 'and', 'Palestinians', 'can', 'see', 'their', 'children', 'grow', 'up', 'without', 'fear;', 'when', 'the', 'Holy', 'Land', 'of', 'the', 'three', 'great', 'faiths', 'is', 'the', 'place', 'of', 'peace', 'that', 'God', 'intended', 'it', 'to', 'be;', 'when', 'Jerusalem', 'is', 'a', 'secure', 'and', 'lasting', 'home', 'for', 'Jews', 'and', 'Christians', 'and', 'Muslims,', 'and', 'a', 'place', 'for', 'all', 'of', 'the', 'children', 'of', 'Abraham', 'to', 'mingle', 'peacefully', 'together', 'as', 'in', 'the', 'story', 'of', 'Isra', '--', '(applause)', '--', 'as', 'in', 'the', 'story', 'of', 'Isra,', 'when', 'Moses,', 'Jesus,', 'and', 'Mohammed,', 'peace', 'be', 'upon', 'them,', 'joined', 'in', 'prayer.', '', '(Applause.)\\nThe', 'third', 'source', 'of', 'tension', 'is', 'our', 'shared', 'interest', 'in', 'the', 'rights', 'and', 'responsibilities', 'of', 'nations', 'on', 'nuclear', 'weapons.\\nThis', 'issue', 'has', 'been', 'a', 'source', 'of', 'tension', 'between', 'the', 'United', 'States', 'and', 'the', 'Islamic', 'Republic', 'of', 'Iran.', '', 'For', 'many', 'years,', 'Iran', 'has', 'defined', 'itself', 'in', 'part', 'by', 'its', 'opposition', 'to', 'my', 'country,', 'and', 'there', 'is', 'in', 'fact', 'a', 'tumultuous', 'history', 'between', 'us.', '', 'In', 'the', 'middle', 'of', 'the', 'Cold', 'War,', 'the', 'United', 'States', 'played', 'a', 'role', 'in', 'the', 'overthrow', 'of', 'a', 'democratically', 'elected', 'Iranian', 'government.', '', 'Since', 'the', 'Islamic', 'Revolution,', 'Iran', 'has', 'played', 'a', 'role', 'in', 'acts', 'of', 'hostage-taking', 'and', 'violence', 'against', 'U.S.', 'troops', 'and', 'civilians.', '', 'This', 'history', 'is', 'well', 'known.', '', 'Rather', 'than', 'remain', 'trapped', 'in', 'the', 'past,', \"I've\", 'made', 'it', 'clear', 'to', \"Iran's\", 'leaders', 'and', 'people', 'that', 'my', 'country', 'is', 'prepared', 'to', 'move', 'forward.', '', 'The', 'question', 'now', 'is', 'not', 'what', 'Iran', 'is', 'against,', 'but', 'rather', 'what', 'future', 'it', 'wants', 'to', 'build.\\nI', 'recognize', 'it', 'will', 'be', 'hard', 'to', 'overcome', 'decades', 'of', 'mistrust,', 'but', 'we', 'will', 'proceed', 'with', 'courage,', 'rectitude,', 'and', 'resolve.', '', 'There', 'will', 'be', 'many', 'issues', 'to', 'discuss', 'between', 'our', 'two', 'countries,', 'and', 'we', 'are', 'willing', 'to', 'move', 'forward', 'without', 'preconditions', 'on', 'the', 'basis', 'of', 'mutual', 'respect.', '', 'But', 'it', 'is', 'clear', 'to', 'all', 'concerned', 'that', 'when', 'it', 'comes', 'to', 'nuclear', 'weapons,', 'we', 'have', 'reached', 'a', 'decisive', 'point.', '', 'This', 'is', 'not', 'simply', 'about', \"America's\", 'interests.', '', \"It's\", 'about', 'preventing', 'a', 'nuclear', 'arms', 'race', 'in', 'the', 'Middle', 'East', 'that', 'could', 'lead', 'this', 'region', 'and', 'the', 'world', 'down', 'a', 'hugely', 'dangerous', 'path.\\nI', 'understand', 'those', 'who', 'protest', 'that', 'some', 'countries', 'have', 'weapons', 'that', 'others', 'do', 'not.', '', 'No', 'single', 'nation', 'should', 'pick', 'and', 'choose', 'which', 'nation', 'holds', 'nuclear', 'weapons.', '', 'And', \"that's\", 'why', 'I', 'strongly', 'reaffirmed', \"America's\", 'commitment', 'to', 'seek', 'a', 'world', 'in', 'which', 'no', 'nations', 'hold', 'nuclear', 'weapons.', '', '(Applause.)', '', 'And', 'any', 'nation', '--', 'including', 'Iran', '--', 'should', 'have', 'the', 'right', 'to', 'access', 'peaceful', 'nuclear', 'power', 'if', 'it', 'complies', 'with', 'its', 'responsibilities', 'under', 'the', 'nuclear', 'Non-Proliferation', 'Treaty.', '', 'That', 'commitment', 'is', 'at', 'the', 'core', 'of', 'the', 'treaty,', 'and', 'it', 'must', 'be', 'kept', 'for', 'all', 'who', 'fully', 'abide', 'by', 'it.', 'And', \"I'm\", 'hopeful', 'that', 'all', 'countries', 'in', 'the', 'region', 'can', 'share', 'in', 'this', 'goal.\\nThe', 'fourth', 'issue', 'that', 'I', 'will', 'address', 'is', 'democracy.', '', '(Applause.)\\nI', 'know', '--', 'I', 'know', 'there', 'has', 'been', 'controversy', 'about', 'the', 'promotion', 'of', 'democracy', 'in', 'recent', 'years,', 'and', 'much', 'of', 'this', 'controversy', 'is', 'connected', 'to', 'the', 'war', 'in', 'Iraq.', '', 'So', 'let', 'me', 'be', 'clear:', 'No', 'system', 'of', 'government', 'can', 'or', 'should', 'be', 'imposed', 'by', 'one', 'nation', 'by', 'any', 'other.\\n', '\\nThat', 'does', 'not', 'lessen', 'my', 'commitment,', 'however,', 'to', 'governments', 'that', 'reflect', 'the', 'will', 'of', 'the', 'people.', '', 'Each', 'nation', 'gives', 'life', 'to', 'this', 'principle', 'in', 'its', 'own', 'way,', 'grounded', 'in', 'the', 'traditions', 'of', 'its', 'own', 'people.', '', 'America', 'does', 'not', 'presume', 'to', 'know', 'what', 'is', 'best', 'for', 'everyone,', 'just', 'as', 'we', 'would', 'not', 'presume', 'to', 'pick', 'the', 'outcome', 'of', 'a', 'peaceful', 'election.', '', 'But', 'I', 'do', 'have', 'an', 'unyielding', 'belief', 'that', 'all', 'people', 'yearn', 'for', 'certain', 'things:', '', 'the', 'ability', 'to', 'speak', 'your', 'mind', 'and', 'have', 'a', 'say', 'in', 'how', 'you', 'are', 'governed;', 'confidence', 'in', 'the', 'rule', 'of', 'law', 'and', 'the', 'equal', 'administration', 'of', 'justice;', 'government', 'that', 'is', 'transparent', 'and', \"doesn't\", 'steal', 'from', 'the', 'people;', 'the', 'freedom', 'to', 'live', 'as', 'you', 'choose.', '', 'These', 'are', 'not', 'just', 'American', 'ideas;', 'they', 'are', 'human', 'rights.', '', 'And', 'that', 'is', 'why', 'we', 'will', 'support', 'them', 'everywhere.', '', '(Applause.)\\nNow,', 'there', 'is', 'no', 'straight', 'line', 'to', 'realize', 'this', 'promise.', '', 'But', 'this', 'much', 'is', 'clear:', '', 'Governments', 'that', 'protect', 'these', 'rights', 'are', 'ultimately', 'more', 'stable,', 'successful', 'and', 'secure.', '', 'Suppressing', 'ideas', 'never', 'succeeds', 'in', 'making', 'them', 'go', 'away.', '', 'America', 'respects', 'the', 'right', 'of', 'all', 'peaceful', 'and', 'law-abiding', 'voices', 'to', 'be', 'heard', 'around', 'the', 'world,', 'even', 'if', 'we', 'disagree', 'with', 'them.', '', 'And', 'we', 'will', 'welcome', 'all', 'elected,', 'peaceful', 'governments', '--', 'provided', 'they', 'govern', 'with', 'respect', 'for', 'all', 'their', 'people.\\nThis', 'last', 'point', 'is', 'important', 'because', 'there', 'are', 'some', 'who', 'advocate', 'for', 'democracy', 'only', 'when', \"they're\", 'out', 'of', 'power;', 'once', 'in', 'power,', 'they', 'are', 'ruthless', 'in', 'suppressing', 'the', 'rights', 'of', 'others.', '', '(Applause.)', '', 'So', 'no', 'matter', 'where', 'it', 'takes', 'hold,', 'government', 'of', 'the', 'people', 'and', 'by', 'the', 'people', 'sets', 'a', 'single', 'standard', 'for', 'all', 'who', 'would', 'hold', 'power:', '', 'You', 'must', 'maintain', 'your', 'power', 'through', 'consent,', 'not', 'coercion;', 'you', 'must', 'respect', 'the', 'rights', 'of', 'minorities,', 'and', 'participate', 'with', 'a', 'spirit', 'of', 'tolerance', 'and', 'compromise;', 'you', 'must', 'place', 'the', 'interests', 'of', 'your', 'people', 'and', 'the', 'legitimate', 'workings', 'of', 'the', 'political', 'process', 'above', 'your', 'party.', '', 'Without', 'these', 'ingredients,', 'elections', 'alone', 'do', 'not', 'make', 'true', 'democracy.\\nAUDIENCE', 'MEMBER:', '', 'Barack', 'Obama,', 'we', 'love', 'you!\\nPRESIDENT', 'OBAMA:', '', 'Thank', 'you.', '', '(Applause.)', '', 'The', 'fifth', 'issue', 'that', 'we', 'must', 'address', 'together', 'is', 'religious', 'freedom.\\nIslam', 'has', 'a', 'proud', 'tradition', 'of', 'tolerance.', '', 'We', 'see', 'it', 'in', 'the', 'history', 'of', 'Andalusia', 'and', 'Cordoba', 'during', 'the', 'Inquisition.', '', 'I', 'saw', 'it', 'firsthand', 'as', 'a', 'child', 'in', 'Indonesia,', 'where', 'devout', 'Christians', 'worshiped', 'freely', 'in', 'an', 'overwhelmingly', 'Muslim', 'country.', '', 'That', 'is', 'the', 'spirit', 'we', 'need', 'today.', '', 'People', 'in', 'every', 'country', 'should', 'be', 'free', 'to', 'choose', 'and', 'live', 'their', 'faith', 'based', 'upon', 'the', 'persuasion', 'of', 'the', 'mind', 'and', 'the', 'heart', 'and', 'the', 'soul.', '', 'This', 'tolerance', 'is', 'essential', 'for', 'religion', 'to', 'thrive,', 'but', \"it's\", 'being', 'challenged', 'in', 'many', 'different', 'ways.\\nAmong', 'some', 'Muslims,', \"there's\", 'a', 'disturbing', 'tendency', 'to', 'measure', \"one's\", 'own', 'faith', 'by', 'the', 'rejection', 'of', 'somebody', \"else's\", 'faith.', '', 'The', 'richness', 'of', 'religious', 'diversity', 'must', 'be', 'upheld', '--', 'whether', 'it', 'is', 'for', 'Maronites', 'in', 'Lebanon', 'or', 'the', 'Copts', 'in', 'Egypt.', '', '(Applause.)', '', 'And', 'if', 'we', 'are', 'being', 'honest,', 'fault', 'lines', 'must', 'be', 'closed', 'among', 'Muslims,', 'as', 'well,', 'as', 'the', 'divisions', 'between', 'Sunni', 'and', 'Shia', 'have', 'led', 'to', 'tragic', 'violence,', 'particularly', 'in', 'Iraq.\\nFreedom', 'of', 'religion', 'is', 'central', 'to', 'the', 'ability', 'of', 'peoples', 'to', 'live', 'together.', '', 'We', 'must', 'always', 'examine', 'the', 'ways', 'in', 'which', 'we', 'protect', 'it.', '', 'For', 'instance,', 'in', 'the', 'United', 'States,', 'rules', 'on', 'charitable', 'giving', 'have', 'made', 'it', 'harder', 'for', 'Muslims', 'to', 'fulfill', 'their', 'religious', 'obligation.', '', \"That's\", 'why', \"I'm\", 'committed', 'to', 'working', 'with', 'American', 'Muslims', 'to', 'ensure', 'that', 'they', 'can', 'fulfill', 'zakat.', '\\nLikewise,', 'it', 'is', 'important', 'for', 'Western', 'countries', 'to', 'avoid', 'impeding', 'Muslim', 'citizens', 'from', 'practicing', 'religion', 'as', 'they', 'see', 'fit', '--', 'for', 'instance,', 'by', 'dictating', 'what', 'clothes', 'a', 'Muslim', 'woman', 'should', 'wear.', '', 'We', \"can't\", 'disguise', 'hostility', 'towards', 'any', 'religion', 'behind', 'the', 'pretence', 'of', 'liberalism.\\n', '\\nIn', 'fact,', 'faith', 'should', 'bring', 'us', 'together.', '', 'And', \"that's\", 'why', \"we're\", 'forging', 'service', 'projects', 'in', 'America', 'to', 'bring', 'together', 'Christians,', 'Muslims,', 'and', 'Jews.', '', \"That's\", 'why', 'we', 'welcome', 'efforts', 'like', 'Saudi', 'Arabian', 'King', \"Abdullah's\", 'interfaith', 'dialogue', 'and', \"Turkey's\", 'leadership', 'in', 'the', 'Alliance', 'of', 'Civilizations.', '', 'Around', 'the', 'world,', 'we', 'can', 'turn', 'dialogue', 'into', 'interfaith', 'service,', 'so', 'bridges', 'between', 'peoples', 'lead', 'to', 'action', '--', 'whether', 'it', 'is', 'combating', 'malaria', 'in', 'Africa,', 'or', 'providing', 'relief', 'after', 'a', 'natural', 'disaster.', '\\nThe', 'sixth', 'issue', '--', 'the', 'sixth', 'issue', 'that', 'I', 'want', 'to', 'address', 'is', \"women's\", 'rights.', '', '(Applause.)', '', 'I', 'know', '–-', 'I', 'know', '--', 'and', 'you', 'can', 'tell', 'from', 'this', 'audience,', 'that', 'there', 'is', 'a', 'healthy', 'debate', 'about', 'this', 'issue.', '', 'I', 'reject', 'the', 'view', 'of', 'some', 'in', 'the', 'West', 'that', 'a', 'woman', 'who', 'chooses', 'to', 'cover', 'her', 'hair', 'is', 'somehow', 'less', 'equal,', 'but', 'I', 'do', 'believe', 'that', 'a', 'woman', 'who', 'is', 'denied', 'an', 'education', 'is', 'denied', 'equality.', '', '(Applause.)', '', 'And', 'it', 'is', 'no', 'coincidence', 'that', 'countries', 'where', 'women', 'are', 'well', 'educated', 'are', 'far', 'more', 'likely', 'to', 'be', 'prosperous.\\nNow,', 'let', 'me', 'be', 'clear:', '', 'Issues', 'of', \"women's\", 'equality', 'are', 'by', 'no', 'means', 'simply', 'an', 'issue', 'for', 'Islam.', '', 'In', 'Turkey,', 'Pakistan,', 'Bangladesh,', 'Indonesia,', \"we've\", 'seen', 'Muslim-majority', 'countries', 'elect', 'a', 'woman', 'to', 'lead.', '', 'Meanwhile,', 'the', 'struggle', 'for', \"women's\", 'equality', 'continues', 'in', 'many', 'aspects', 'of', 'American', 'life,', 'and', 'in', 'countries', 'around', 'the', 'world.\\nI', 'am', 'convinced', 'that', 'our', 'daughters', 'can', 'contribute', 'just', 'as', 'much', 'to', 'society', 'as', 'our', 'sons.', '', '(Applause.)', '', 'Our', 'common', 'prosperity', 'will', 'be', 'advanced', 'by', 'allowing', 'all', 'humanity', '--', 'men', 'and', 'women', '--', 'to', 'reach', 'their', 'full', 'potential.', '', 'I', 'do', 'not', 'believe', 'that', 'women', 'must', 'make', 'the', 'same', 'choices', 'as', 'men', 'in', 'order', 'to', 'be', 'equal,', 'and', 'I', 'respect', 'those', 'women', 'who', 'choose', 'to', 'live', 'their', 'lives', 'in', 'traditional', 'roles.', 'But', 'it', 'should', 'be', 'their', 'choice.', '', 'And', 'that', 'is', 'why', 'the', 'United', 'States', 'will', 'partner', 'with', 'any', 'Muslim-majority', 'country', 'to', 'support', 'expanded', 'literacy', 'for', 'girls,', 'and', 'to', 'help', 'young', 'women', 'pursue', 'employment', 'through', 'micro-financing', 'that', 'helps', 'people', 'live', 'their', 'dreams.', '', '(Applause.)\\nFinally,', 'I', 'want', 'to', 'discuss', 'economic', 'development', 'and', 'opportunity.\\nI', 'know', 'that', 'for', 'many,', 'the', 'face', 'of', 'globalization', 'is', 'contradictory.', '', 'The', 'Internet', 'and', 'television', 'can', 'bring', 'knowledge', 'and', 'information,', 'but', 'also', 'offensive', 'sexuality', 'and', 'mindless', 'violence', 'into', 'the', 'home.', '', 'Trade', 'can', 'bring', 'new', 'wealth', 'and', 'opportunities,', 'but', 'also', 'huge', 'disruptions', 'and', 'change', 'in', 'communities.', '', 'In', 'all', 'nations', '--', 'including', 'America', '--', 'this', 'change', 'can', 'bring', 'fear.', '', 'Fear', 'that', 'because', 'of', 'modernity', 'we', 'lose', 'control', 'over', 'our', 'economic', 'choices,', 'our', 'politics,', 'and', 'most', 'importantly', 'our', 'identities', '--', 'those', 'things', 'we', 'most', 'cherish', 'about', 'our', 'communities,', 'our', 'families,', 'our', 'traditions,', 'and', 'our', 'faith.', '\\nBut', 'I', 'also', 'know', 'that', 'human', 'progress', 'cannot', 'be', 'denied.', '', 'There', 'need', 'not', 'be', 'contradictions', 'between', 'development', 'and', 'tradition.', 'Countries', 'like', 'Japan', 'and', 'South', 'Korea', 'grew', 'their', 'economies', 'enormously', 'while', 'maintaining', 'distinct', 'cultures.', '', 'The', 'same', 'is', 'true', 'for', 'the', 'astonishing', 'progress', 'within', 'Muslim-majority', 'countries', 'from', 'Kuala', 'Lumpur', 'to', 'Dubai.', '', 'In', 'ancient', 'times', 'and', 'in', 'our', 'times,', 'Muslim', 'communities', 'have', 'been', 'at', 'the', 'forefront', 'of', 'innovation', 'and', 'education.\\n\\nAnd', 'this', 'is', 'important', 'because', 'no', 'development', 'strategy', 'can', 'be', 'based', 'only', 'upon', 'what', 'comes', 'out', 'of', 'the', 'ground,', 'nor', 'can', 'it', 'be', 'sustained', 'while', 'young', 'people', 'are', 'out', 'of', 'work.', '', 'Many', 'Gulf', 'states', 'have', 'enjoyed', 'great', 'wealth', 'as', 'a', 'consequence', 'of', 'oil,', 'and', 'some', 'are', 'beginning', 'to', 'focus', 'it', 'on', 'broader', 'development.', '', 'But', 'all', 'of', 'us', 'must', 'recognize', 'that', 'education', 'and', 'innovation', 'will', 'be', 'the', 'currency', 'of', 'the', '21st', 'century', '--', '(applause)', '--', 'and', 'in', 'too', 'many', 'Muslim', 'communities,', 'there', 'remains', 'underinvestment', 'in', 'these', 'areas.', '', \"I'm\", 'emphasizing', 'such', 'investment', 'within', 'my', 'own', 'country.', '', 'And', 'while', 'America', 'in', 'the', 'past', 'has', 'focused', 'on', 'oil', 'and', 'gas', 'when', 'it', 'comes', 'to', 'this', 'part', 'of', 'the', 'world,', 'we', 'now', 'seek', 'a', 'broader', 'engagement.\\nOn', 'education,', 'we', 'will', 'expand', 'exchange', 'programs,', 'and', 'increase', 'scholarships,', 'like', 'the', 'one', 'that', 'brought', 'my', 'father', 'to', 'America.', '', '(Applause.)', '', 'At', 'the', 'same', 'time,', 'we', 'will', 'encourage', 'more', 'Americans', 'to', 'study', 'in', 'Muslim', 'communities.', '', 'And', 'we', 'will', 'match', 'promising', 'Muslim', 'students', 'with', 'internships', 'in', 'America;', 'invest', 'in', 'online', 'learning', 'for', 'teachers', 'and', 'children', 'around', 'the', 'world;', 'and', 'create', 'a', 'new', 'online', 'network,', 'so', 'a', 'young', 'person', 'in', 'Kansas', 'can', 'communicate', 'instantly', 'with', 'a', 'young', 'person', 'in', 'Cairo.\\nOn', 'economic', 'development,', 'we', 'will', 'create', 'a', 'new', 'corps', 'of', 'business', 'volunteers', 'to', 'partner', 'with', 'counterparts', 'in', 'Muslim-majority', 'countries.', '', 'And', 'I', 'will', 'host', 'a', 'Summit', 'on', 'Entrepreneurship', 'this', 'year', 'to', 'identify', 'how', 'we', 'can', 'deepen', 'ties', 'between', 'business', 'leaders,', 'foundations', 'and', 'social', 'entrepreneurs', 'in', 'the', 'United', 'States', 'and', 'Muslim', 'communities', 'around', 'the', 'world.\\nOn', 'science', 'and', 'technology,', 'we', 'will', 'launch', 'a', 'new', 'fund', 'to', 'support', 'technological', 'development', 'in', 'Muslim-majority', 'countries,', 'and', 'to', 'help', 'transfer', 'ideas', 'to', 'the', 'marketplace', 'so', 'they', 'can', 'create', 'more', 'jobs.', '', \"We'll\", 'open', 'centers', 'of', 'scientific', 'excellence', 'in', 'Africa,', 'the', 'Middle', 'East', 'and', 'Southeast', 'Asia,', 'and', 'appoint', 'new', 'science', 'envoys', 'to', 'collaborate', 'on', 'programs', 'that', 'develop', 'new', 'sources', 'of', 'energy,', 'create', 'green', 'jobs,', 'digitize', 'records,', 'clean', 'water,', 'grow', 'new', 'crops.', '', 'Today', \"I'm\", 'announcing', 'a', 'new', 'global', 'effort', 'with', 'the', 'Organization', 'of', 'the', 'Islamic', 'Conference', 'to', 'eradicate', 'polio.', '', 'And', 'we', 'will', 'also', 'expand', 'partnerships', 'with', 'Muslim', 'communities', 'to', 'promote', 'child', 'and', 'maternal', 'health.\\nAll', 'these', 'things', 'must', 'be', 'done', 'in', 'partnership.', '', 'Americans', 'are', 'ready', 'to', 'join', 'with', 'citizens', 'and', 'governments;', 'community', 'organizations,', 'religious', 'leaders,', 'and', 'businesses', 'in', 'Muslim', 'communities', 'around', 'the', 'world', 'to', 'help', 'our', 'people', 'pursue', 'a', 'better', 'life.\\nThe', 'issues', 'that', 'I', 'have', 'described', 'will', 'not', 'be', 'easy', 'to', 'address.', '', 'But', 'we', 'have', 'a', 'responsibility', 'to', 'join', 'together', 'on', 'behalf', 'of', 'the', 'world', 'that', 'we', 'seek', '--', 'a', 'world', 'where', 'extremists', 'no', 'longer', 'threaten', 'our', 'people,', 'and', 'American', 'troops', 'have', 'come', 'home;', 'a', 'world', 'where', 'Israelis', 'and', 'Palestinians', 'are', 'each', 'secure', 'in', 'a', 'state', 'of', 'their', 'own,', 'and', 'nuclear', 'energy', 'is', 'used', 'for', 'peaceful', 'purposes;', 'a', 'world', 'where', 'governments', 'serve', 'their', 'citizens,', 'and', 'the', 'rights', 'of', 'all', \"God's\", 'children', 'are', 'respected.', '', 'Those', 'are', 'mutual', 'interests.', '', 'That', 'is', 'the', 'world', 'we', 'seek.', '', 'But', 'we', 'can', 'only', 'achieve', 'it', 'together.\\nI', 'know', 'there', 'are', 'many', '--', 'Muslim', 'and', 'non-Muslim', '--', 'who', 'question', 'whether', 'we', 'can', 'forge', 'this', 'new', 'beginning.', '', 'Some', 'are', 'eager', 'to', 'stoke', 'the', 'flames', 'of', 'division,', 'and', 'to', 'stand', 'in', 'the', 'way', 'of', 'progress.', '', 'Some', 'suggest', 'that', 'it', \"isn't\", 'worth', 'the', 'effort', '--', 'that', 'we', 'are', 'fated', 'to', 'disagree,', 'and', 'civilizations', 'are', 'doomed', 'to', 'clash.', 'Many', 'more', 'are', 'simply', 'skeptical', 'that', 'real', 'change', 'can', 'occur.', '', \"There's\", 'so', 'much', 'fear,', 'so', 'much', 'mistrust', 'that', 'has', 'built', 'up', 'over', 'the', 'years.', '', 'But', 'if', 'we', 'choose', 'to', 'be', 'bound', 'by', 'the', 'past,', 'we', 'will', 'never', 'move', 'forward.', '', 'And', 'I', 'want', 'to', 'particularly', 'say', 'this', 'to', 'young', 'people', 'of', 'every', 'faith,', 'in', 'every', 'country', '--', 'you,', 'more', 'than', 'anyone,', 'have', 'the', 'ability', 'to', 'reimagine', 'the', 'world,', 'to', 'remake', 'this', 'world.\\nAll', 'of', 'us', 'share', 'this', 'world', 'for', 'but', 'a', 'brief', 'moment', 'in', 'time.', 'The', 'question', 'is', 'whether', 'we', 'spend', 'that', 'time', 'focused', 'on', 'what', 'pushes', 'us', 'apart,', 'or', 'whether', 'we', 'commit', 'ourselves', 'to', 'an', 'effort', '--', 'a', 'sustained', 'effort', '--', 'to', 'find', 'common', 'ground,', 'to', 'focus', 'on', 'the', 'future', 'we', 'seek', 'for', 'our', 'children,', 'and', 'to', 'respect', 'the', 'dignity', 'of', 'all', 'human', \"beings.\\nIt's\", 'easier', 'to', 'start', 'wars', 'than', 'to', 'end', 'them.', '', \"It's\", 'easier', 'to', 'blame', 'others', 'than', 'to', 'look', 'inward.', '', \"It's\", 'easier', 'to', 'see', 'what', 'is', 'different', 'about', 'someone', 'than', 'to', 'find', 'the', 'things', 'we', 'share.', '', 'But', 'we', 'should', 'choose', 'the', 'right', 'path,', 'not', 'just', 'the', 'easy', 'path.', '', \"There's\", 'one', 'rule', 'that', 'lies', 'at', 'the', 'heart', 'of', 'every', 'religion', '--', 'that', 'we', 'do', 'unto', 'others', 'as', 'we', 'would', 'have', 'them', 'do', 'unto', 'us.', '', '(Applause.)', '', 'This', 'truth', 'transcends', 'nations', 'and', 'peoples', '--', 'a', 'belief', 'that', \"isn't\", 'new;', 'that', \"isn't\", 'black', 'or', 'white', 'or', 'brown;', 'that', \"isn't\", 'Christian', 'or', 'Muslim', 'or', 'Jew.', '', \"It's\", 'a', 'belief', 'that', 'pulsed', 'in', 'the', 'cradle', 'of', 'civilization,', 'and', 'that', 'still', 'beats', 'in', 'the', 'hearts', 'of', 'billions', 'around', 'the', 'world.', '', \"It's\", 'a', 'faith', 'in', 'other', 'people,', 'and', \"it's\", 'what', 'brought', 'me', 'here', 'today.\\nWe', 'have', 'the', 'power', 'to', 'make', 'the', 'world', 'we', 'seek,', 'but', 'only', 'if', 'we', 'have', 'the', 'courage', 'to', 'make', 'a', 'new', 'beginning,', 'keeping', 'in', 'mind', 'what', 'has', 'been', 'written.\\nThe', 'Holy', 'Koran', 'tells', 'us:', '', '\"O', 'mankind!', '', 'We', 'have', 'created', 'you', 'male', 'and', 'a', 'female;', 'and', 'we', 'have', 'made', 'you', 'into', 'nations', 'and', 'tribes', 'so', 'that', 'you', 'may', 'know', 'one', 'another.\"\\nThe', 'Talmud', 'tells', 'us:', '', '\"The', 'whole', 'of', 'the', 'Torah', 'is', 'for', 'the', 'purpose', 'of', 'promoting', 'peace.\"\\nThe', 'Holy', 'Bible', 'tells', 'us:', '', '\"Blessed', 'are', 'the', 'peacemakers,', 'for', 'they', 'shall', 'be', 'called', 'sons', 'of', 'God.\"', '', '(Applause.)\\nThe', 'people', 'of', 'the', 'world', 'can', 'live', 'together', 'in', 'peace.', '', 'We', 'know', 'that', 'is', \"God's\", 'vision.', '', 'Now', 'that', 'must', 'be', 'our', 'work', 'here', 'on', 'Earth.\\nThank', 'you.', '', 'And', 'may', \"God's\", 'peace', 'be', 'upon', 'you.', '', 'Thank', 'you', 'very', 'much.', '', 'Thank', 'you.', '', '(Applause.)\\nEND', '', '', '', '', '', '', '', '\\n2:05', 'P.M.', '(Local)']\n"
          ]
        }
      ]
    },
    {
      "cell_type": "markdown",
      "metadata": {
        "id": "usivt7eZwlXe"
      },
      "source": [
        "Check the words \"mistrust.\\nSo\" & \"Islam.\\nViolent\" -- these are problems that we need to take care of in cleaning steps.\n",
        "\n",
        "**What can we do then to avoid this?**"
      ]
    },
    {
      "cell_type": "markdown",
      "metadata": {
        "id": "wjz_VopvwlXe"
      },
      "source": [
        "same, but using a loop, what is the main difference here?\n"
      ]
    },
    {
      "cell_type": "code",
      "metadata": {
        "collapsed": true,
        "id": "uZA79qc7wlXe"
      },
      "source": [
        "#recognition of paragraph end. (\\n)"
      ],
      "execution_count": null,
      "outputs": []
    },
    {
      "cell_type": "code",
      "metadata": {
        "id": "TCxsexfzwlXg",
        "colab": {
          "base_uri": "https://localhost:8080/"
        },
        "outputId": "3b580eaf-2d76-4c72-f728-af2215d56b29"
      },
      "source": [
        "with open('/content/drive/MyDrive/Colab Notebooks/Oxford Text Analysis 22/Python QTA Drive Oxford 2022/Data/obamaincairo.txt', 'r') as f:\n",
        "    for word in f:\n",
        "        y = word.split()\n",
        "        print(y) "
      ],
      "execution_count": null,
      "outputs": [
        {
          "output_type": "stream",
          "name": "stdout",
          "text": [
            "['PRESIDENT', 'OBAMA:', 'Thank', 'you', 'very', 'much.', 'Good', 'afternoon.', 'I', 'am', 'honored', 'to', 'be', 'in', 'the', 'timeless', 'city', 'of', 'Cairo,', 'and', 'to', 'be', 'hosted', 'by', 'two', 'remarkable', 'institutions.', 'For', 'over', 'a', 'thousand', 'years,', 'Al-Azhar', 'has', 'stood', 'as', 'a', 'beacon', 'of', 'Islamic', 'learning;', 'and', 'for', 'over', 'a', 'century,', 'Cairo', 'University', 'has', 'been', 'a', 'source', 'of', \"Egypt's\", 'advancement.', 'And', 'together,', 'you', 'represent', 'the', 'harmony', 'between', 'tradition', 'and', 'progress.', \"I'm\", 'grateful', 'for', 'your', 'hospitality,', 'and', 'the', 'hospitality', 'of', 'the', 'people', 'of', 'Egypt.', 'And', \"I'm\", 'also', 'proud', 'to', 'carry', 'with', 'me', 'the', 'goodwill', 'of', 'the', 'American', 'people,', 'and', 'a', 'greeting', 'of', 'peace', 'from', 'Muslim', 'communities', 'in', 'my', 'country:', 'Assalaamu', 'alaykum.', '(Applause.)']\n",
            "['We', 'meet', 'at', 'a', 'time', 'of', 'great', 'tension', 'between', 'the', 'United', 'States', 'and', 'Muslims', 'around', 'the', 'world', '--', 'tension', 'rooted', 'in', 'historical', 'forces', 'that', 'go', 'beyond', 'any', 'current', 'policy', 'debate.', 'The', 'relationship', 'between', 'Islam', 'and', 'the', 'West', 'includes', 'centuries', 'of', 'coexistence', 'and', 'cooperation,', 'but', 'also', 'conflict', 'and', 'religious', 'wars.', 'More', 'recently,', 'tension', 'has', 'been', 'fed', 'by', 'colonialism', 'that', 'denied', 'rights', 'and', 'opportunities', 'to', 'many', 'Muslims,', 'and', 'a', 'Cold', 'War', 'in', 'which', 'Muslim-majority', 'countries', 'were', 'too', 'often', 'treated', 'as', 'proxies', 'without', 'regard', 'to', 'their', 'own', 'aspirations.', 'Moreover,', 'the', 'sweeping', 'change', 'brought', 'by', 'modernity', 'and', 'globalization', 'led', 'many', 'Muslims', 'to', 'view', 'the', 'West', 'as', 'hostile', 'to', 'the', 'traditions', 'of', 'Islam.']\n",
            "['Violent', 'extremists', 'have', 'exploited', 'these', 'tensions', 'in', 'a', 'small', 'but', 'potent', 'minority', 'of', 'Muslims.', 'The', 'attacks', 'of', 'September', '11,', '2001', 'and', 'the', 'continued', 'efforts', 'of', 'these', 'extremists', 'to', 'engage', 'in', 'violence', 'against', 'civilians', 'has', 'led', 'some', 'in', 'my', 'country', 'to', 'view', 'Islam', 'as', 'inevitably', 'hostile', 'not', 'only', 'to', 'America', 'and', 'Western', 'countries,', 'but', 'also', 'to', 'human', 'rights.', 'All', 'this', 'has', 'bred', 'more', 'fear', 'and', 'more', 'mistrust.']\n",
            "['So', 'long', 'as', 'our', 'relationship', 'is', 'defined', 'by', 'our', 'differences,', 'we', 'will', 'empower', 'those', 'who', 'sow', 'hatred', 'rather', 'than', 'peace,', 'those', 'who', 'promote', 'conflict', 'rather', 'than', 'the', 'cooperation', 'that', 'can', 'help', 'all', 'of', 'our', 'people', 'achieve', 'justice', 'and', 'prosperity.', 'And', 'this', 'cycle', 'of', 'suspicion', 'and', 'discord', 'must', 'end.']\n",
            "[\"I've\", 'come', 'here', 'to', 'Cairo', 'to', 'seek', 'a', 'new', 'beginning', 'between', 'the', 'United', 'States', 'and', 'Muslims', 'around', 'the', 'world,', 'one', 'based', 'on', 'mutual', 'interest', 'and', 'mutual', 'respect,', 'and', 'one', 'based', 'upon', 'the', 'truth', 'that', 'America', 'and', 'Islam', 'are', 'not', 'exclusive', 'and', 'need', 'not', 'be', 'in', 'competition.', 'Instead,', 'they', 'overlap,', 'and', 'share', 'common', 'principles', '--', 'principles', 'of', 'justice', 'and', 'progress;', 'tolerance', 'and', 'the', 'dignity', 'of', 'all', 'human', 'beings.']\n",
            "['I', 'do', 'so', 'recognizing', 'that', 'change', 'cannot', 'happen', 'overnight.', 'I', 'know', \"there's\", 'been', 'a', 'lot', 'of', 'publicity', 'about', 'this', 'speech,', 'but', 'no', 'single', 'speech', 'can', 'eradicate', 'years', 'of', 'mistrust,', 'nor', 'can', 'I', 'answer', 'in', 'the', 'time', 'that', 'I', 'have', 'this', 'afternoon', 'all', 'the', 'complex', 'questions', 'that', 'brought', 'us', 'to', 'this', 'point.', 'But', 'I', 'am', 'convinced', 'that', 'in', 'order', 'to', 'move', 'forward,', 'we', 'must', 'say', 'openly', 'to', 'each', 'other', 'the', 'things', 'we', 'hold', 'in', 'our', 'hearts', 'and', 'that', 'too', 'often', 'are', 'said', 'only', 'behind', 'closed', 'doors.', 'There', 'must', 'be', 'a', 'sustained', 'effort', 'to', 'listen', 'to', 'each', 'other;', 'to', 'learn', 'from', 'each', 'other;', 'to', 'respect', 'one', 'another;', 'and', 'to', 'seek', 'common', 'ground.', 'As', 'the', 'Holy', 'Koran', 'tells', 'us,', '\"Be', 'conscious', 'of', 'God', 'and', 'speak', 'always', 'the', 'truth.\"', '(Applause.)', 'That', 'is', 'what', 'I', 'will', 'try', 'to', 'do', 'today', '--', 'to', 'speak', 'the', 'truth', 'as', 'best', 'I', 'can,', 'humbled', 'by', 'the', 'task', 'before', 'us,', 'and', 'firm', 'in', 'my', 'belief', 'that', 'the', 'interests', 'we', 'share', 'as', 'human', 'beings', 'are', 'far', 'more', 'powerful', 'than', 'the', 'forces', 'that', 'drive', 'us', 'apart.']\n",
            "['Now', 'part', 'of', 'this', 'conviction', 'is', 'rooted', 'in', 'my', 'own', 'experience.', \"I'm\", 'a', 'Christian,', 'but', 'my', 'father', 'came', 'from', 'a', 'Kenyan', 'family', 'that', 'includes', 'generations', 'of', 'Muslims.', 'As', 'a', 'boy,', 'I', 'spent', 'several', 'years', 'in', 'Indonesia', 'and', 'heard', 'the', 'call', 'of', 'the', 'azaan', 'at', 'the', 'break', 'of', 'dawn', 'and', 'at', 'the', 'fall', 'of', 'dusk.', 'As', 'a', 'young', 'man,', 'I', 'worked', 'in', 'Chicago', 'communities', 'where', 'many', 'found', 'dignity', 'and', 'peace', 'in', 'their', 'Muslim', 'faith.']\n",
            "['As', 'a', 'student', 'of', 'history,', 'I', 'also', 'know', \"civilization's\", 'debt', 'to', 'Islam.', 'It', 'was', 'Islam', '--', 'at', 'places', 'like', 'Al-Azhar', '--', 'that', 'carried', 'the', 'light', 'of', 'learning', 'through', 'so', 'many', 'centuries,', 'paving', 'the', 'way', 'for', \"Europe's\", 'Renaissance', 'and', 'Enlightenment.', 'It', 'was', 'innovation', 'in', 'Muslim', 'communities', '--', '(applause)', '--', 'it', 'was', 'innovation', 'in', 'Muslim', 'communities', 'that', 'developed', 'the', 'order', 'of', 'algebra;', 'our', 'magnetic', 'compass', 'and', 'tools', 'of', 'navigation;', 'our', 'mastery', 'of', 'pens', 'and', 'printing;', 'our', 'understanding', 'of', 'how', 'disease', 'spreads', 'and', 'how', 'it', 'can', 'be', 'healed.', 'Islamic', 'culture', 'has', 'given', 'us', 'majestic', 'arches', 'and', 'soaring', 'spires;', 'timeless', 'poetry', 'and', 'cherished', 'music;', 'elegant', 'calligraphy', 'and', 'places', 'of', 'peaceful', 'contemplation.', 'And', 'throughout', 'history,', 'Islam', 'has', 'demonstrated', 'through', 'words', 'and', 'deeds', 'the', 'possibilities', 'of', 'religious', 'tolerance', 'and', 'racial', 'equality.', '(Applause.)']\n",
            "['I', 'also', 'know', 'that', 'Islam', 'has', 'always', 'been', 'a', 'part', 'of', \"America's\", 'story.', 'The', 'first', 'nation', 'to', 'recognize', 'my', 'country', 'was', 'Morocco.', 'In', 'signing', 'the', 'Treaty', 'of', 'Tripoli', 'in', '1796,', 'our', 'second', 'President,', 'John', 'Adams,', 'wrote,', '\"The', 'United', 'States', 'has', 'in', 'itself', 'no', 'character', 'of', 'enmity', 'against', 'the', 'laws,', 'religion', 'or', 'tranquility', 'of', 'Muslims.\"', 'And', 'since', 'our', 'founding,', 'American', 'Muslims', 'have', 'enriched', 'the', 'United', 'States.', 'They', 'have', 'fought', 'in', 'our', 'wars,', 'they', 'have', 'served', 'in', 'our', 'government,', 'they', 'have', 'stood', 'for', 'civil', 'rights,', 'they', 'have', 'started', 'businesses,', 'they', 'have', 'taught', 'at', 'our', 'universities,', \"they've\", 'excelled', 'in', 'our', 'sports', 'arenas,', \"they've\", 'won', 'Nobel', 'Prizes,', 'built', 'our', 'tallest', 'building,', 'and', 'lit', 'the', 'Olympic', 'Torch.', 'And', 'when', 'the', 'first', 'Muslim', 'American', 'was', 'recently', 'elected', 'to', 'Congress,', 'he', 'took', 'the', 'oath', 'to', 'defend', 'our', 'Constitution', 'using', 'the', 'same', 'Holy', 'Koran', 'that', 'one', 'of', 'our', 'Founding', 'Fathers', '--', 'Thomas', 'Jefferson', '--', 'kept', 'in', 'his', 'personal', 'library.', '(Applause.)']\n",
            "['So', 'I', 'have', 'known', 'Islam', 'on', 'three', 'continents', 'before', 'coming', 'to', 'the', 'region', 'where', 'it', 'was', 'first', 'revealed.', 'That', 'experience', 'guides', 'my', 'conviction', 'that', 'partnership', 'between', 'America', 'and', 'Islam', 'must', 'be', 'based', 'on', 'what', 'Islam', 'is,', 'not', 'what', 'it', \"isn't.\", 'And', 'I', 'consider', 'it', 'part', 'of', 'my', 'responsibility', 'as', 'President', 'of', 'the', 'United', 'States', 'to', 'fight', 'against', 'negative', 'stereotypes', 'of', 'Islam', 'wherever', 'they', 'appear.', '(Applause.)']\n",
            "['But', 'that', 'same', 'principle', 'must', 'apply', 'to', 'Muslim', 'perceptions', 'of', 'America.', '(Applause.)', 'Just', 'as', 'Muslims', 'do', 'not', 'fit', 'a', 'crude', 'stereotype,', 'America', 'is', 'not', 'the', 'crude', 'stereotype', 'of', 'a', 'self-interested', 'empire.', 'The', 'United', 'States', 'has', 'been', 'one', 'of', 'the', 'greatest', 'sources', 'of', 'progress', 'that', 'the', 'world', 'has', 'ever', 'known.', 'We', 'were', 'born', 'out', 'of', 'revolution', 'against', 'an', 'empire.', 'We', 'were', 'founded', 'upon', 'the', 'ideal', 'that', 'all', 'are', 'created', 'equal,', 'and', 'we', 'have', 'shed', 'blood', 'and', 'struggled', 'for', 'centuries', 'to', 'give', 'meaning', 'to', 'those', 'words', '--', 'within', 'our', 'borders,', 'and', 'around', 'the', 'world.', 'We', 'are', 'shaped', 'by', 'every', 'culture,', 'drawn', 'from', 'every', 'end', 'of', 'the', 'Earth,', 'and', 'dedicated', 'to', 'a', 'simple', 'concept:', 'E', 'pluribus', 'unum', '--', '\"Out', 'of', 'many,', 'one.\"']\n",
            "['Now,', 'much', 'has', 'been', 'made', 'of', 'the', 'fact', 'that', 'an', 'African', 'American', 'with', 'the', 'name', 'Barack', 'Hussein', 'Obama', 'could', 'be', 'elected', 'President.', '(Applause.)', 'But', 'my', 'personal', 'story', 'is', 'not', 'so', 'unique.', 'The', 'dream', 'of', 'opportunity', 'for', 'all', 'people', 'has', 'not', 'come', 'true', 'for', 'everyone', 'in', 'America,', 'but', 'its', 'promise', 'exists', 'for', 'all', 'who', 'come', 'to', 'our', 'shores', '--', 'and', 'that', 'includes', 'nearly', '7', 'million', 'American', 'Muslims', 'in', 'our', 'country', 'today', 'who,', 'by', 'the', 'way,', 'enjoy', 'incomes', 'and', 'educational', 'levels', 'that', 'are', 'higher', 'than', 'the', 'American', 'average.', '(Applause.)']\n",
            "['Moreover,', 'freedom', 'in', 'America', 'is', 'indivisible', 'from', 'the', 'freedom', 'to', 'practice', \"one's\", 'religion.', 'That', 'is', 'why', 'there', 'is', 'a', 'mosque', 'in', 'every', 'state', 'in', 'our', 'union,', 'and', 'over', '1,200', 'mosques', 'within', 'our', 'borders.', \"That's\", 'why', 'the', 'United', 'States', 'government', 'has', 'gone', 'to', 'court', 'to', 'protect', 'the', 'right', 'of', 'women', 'and', 'girls', 'to', 'wear', 'the', 'hijab', 'and', 'to', 'punish', 'those', 'who', 'would', 'deny', 'it.', '(Applause.)']\n",
            "['So', 'let', 'there', 'be', 'no', 'doubt:', 'Islam', 'is', 'a', 'part', 'of', 'America.', 'And', 'I', 'believe', 'that', 'America', 'holds', 'within', 'her', 'the', 'truth', 'that', 'regardless', 'of', 'race,', 'religion,', 'or', 'station', 'in', 'life,', 'all', 'of', 'us', 'share', 'common', 'aspirations', '--', 'to', 'live', 'in', 'peace', 'and', 'security;', 'to', 'get', 'an', 'education', 'and', 'to', 'work', 'with', 'dignity;', 'to', 'love', 'our', 'families,', 'our', 'communities,', 'and', 'our', 'God.', 'These', 'things', 'we', 'share.', 'This', 'is', 'the', 'hope', 'of', 'all', 'humanity.']\n",
            "['Of', 'course,', 'recognizing', 'our', 'common', 'humanity', 'is', 'only', 'the', 'beginning', 'of', 'our', 'task.', 'Words', 'alone', 'cannot', 'meet', 'the', 'needs', 'of', 'our', 'people.', 'These', 'needs', 'will', 'be', 'met', 'only', 'if', 'we', 'act', 'boldly', 'in', 'the', 'years', 'ahead;', 'and', 'if', 'we', 'understand', 'that', 'the', 'challenges', 'we', 'face', 'are', 'shared,', 'and', 'our', 'failure', 'to', 'meet', 'them', 'will', 'hurt', 'us', 'all.']\n",
            "['For', 'we', 'have', 'learned', 'from', 'recent', 'experience', 'that', 'when', 'a', 'financial', 'system', 'weakens', 'in', 'one', 'country,', 'prosperity', 'is', 'hurt', 'everywhere.', 'When', 'a', 'new', 'flu', 'infects', 'one', 'human', 'being,', 'all', 'are', 'at', 'risk.', 'When', 'one', 'nation', 'pursues', 'a', 'nuclear', 'weapon,', 'the', 'risk', 'of', 'nuclear', 'attack', 'rises', 'for', 'all', 'nations.', 'When', 'violent', 'extremists', 'operate', 'in', 'one', 'stretch', 'of', 'mountains,', 'people', 'are', 'endangered', 'across', 'an', 'ocean.', 'When', 'innocents', 'in', 'Bosnia', 'and', 'Darfur', 'are', 'slaughtered,', 'that', 'is', 'a', 'stain', 'on', 'our', 'collective', 'conscience.', '(Applause.)', 'That', 'is', 'what', 'it', 'means', 'to', 'share', 'this', 'world', 'in', 'the', '21st', 'century.', 'That', 'is', 'the', 'responsibility', 'we', 'have', 'to', 'one', 'another', 'as', 'human', 'beings.']\n",
            "['And', 'this', 'is', 'a', 'difficult', 'responsibility', 'to', 'embrace.', 'For', 'human', 'history', 'has', 'often', 'been', 'a', 'record', 'of', 'nations', 'and', 'tribes', '--', 'and,', 'yes,', 'religions', '--', 'subjugating', 'one', 'another', 'in', 'pursuit', 'of', 'their', 'own', 'interests.', 'Yet', 'in', 'this', 'new', 'age,', 'such', 'attitudes', 'are', 'self-defeating.', 'Given', 'our', 'interdependence,', 'any', 'world', 'order', 'that', 'elevates', 'one', 'nation', 'or', 'group', 'of', 'people', 'over', 'another', 'will', 'inevitably', 'fail.', 'So', 'whatever', 'we', 'think', 'of', 'the', 'past,', 'we', 'must', 'not', 'be', 'prisoners', 'to', 'it.', 'Our', 'problems', 'must', 'be', 'dealt', 'with', 'through', 'partnership;', 'our', 'progress', 'must', 'be', 'shared.', '(Applause.)']\n",
            "['Now,', 'that', 'does', 'not', 'mean', 'we', 'should', 'ignore', 'sources', 'of', 'tension.', 'Indeed,', 'it', 'suggests', 'the', 'opposite:', 'We', 'must', 'face', 'these', 'tensions', 'squarely.', 'And', 'so', 'in', 'that', 'spirit,', 'let', 'me', 'speak', 'as', 'clearly', 'and', 'as', 'plainly', 'as', 'I', 'can', 'about', 'some', 'specific', 'issues', 'that', 'I', 'believe', 'we', 'must', 'finally', 'confront', 'together.']\n",
            "['The', 'first', 'issue', 'that', 'we', 'have', 'to', 'confront', 'is', 'violent', 'extremism', 'in', 'all', 'of', 'its', 'forms.']\n",
            "['In', 'Ankara,', 'I', 'made', 'clear', 'that', 'America', 'is', 'not', '--', 'and', 'never', 'will', 'be', '--', 'at', 'war', 'with', 'Islam.', '(Applause.)', 'We', 'will,', 'however,', 'relentlessly', 'confront', 'violent', 'extremists', 'who', 'pose', 'a', 'grave', 'threat', 'to', 'our', 'security', '--', 'because', 'we', 'reject', 'the', 'same', 'thing', 'that', 'people', 'of', 'all', 'faiths', 'reject:', 'the', 'killing', 'of', 'innocent', 'men,', 'women,', 'and', 'children.', 'And', 'it', 'is', 'my', 'first', 'duty', 'as', 'President', 'to', 'protect', 'the', 'American', 'people.']\n",
            "['The', 'situation', 'in', 'Afghanistan', 'demonstrates', \"America's\", 'goals,', 'and', 'our', 'need', 'to', 'work', 'together.', 'Over', 'seven', 'years', 'ago,', 'the', 'United', 'States', 'pursued', 'al', 'Qaeda', 'and', 'the', 'Taliban', 'with', 'broad', 'international', 'support.', 'We', 'did', 'not', 'go', 'by', 'choice;', 'we', 'went', 'because', 'of', 'necessity.', \"I'm\", 'aware', 'that', \"there's\", 'still', 'some', 'who', 'would', 'question', 'or', 'even', 'justify', 'the', 'events', 'of', '9/11.', 'But', 'let', 'us', 'be', 'clear:', 'Al', 'Qaeda', 'killed', 'nearly', '3,000', 'people', 'on', 'that', 'day.', 'The', 'victims', 'were', 'innocent', 'men,', 'women', 'and', 'children', 'from', 'America', 'and', 'many', 'other', 'nations', 'who', 'had', 'done', 'nothing', 'to', 'harm', 'anybody.', 'And', 'yet', 'al', 'Qaeda', 'chose', 'to', 'ruthlessly', 'murder', 'these', 'people,', 'claimed', 'credit', 'for', 'the', 'attack,', 'and', 'even', 'now', 'states', 'their', 'determination', 'to', 'kill', 'on', 'a', 'massive', 'scale.', 'They', 'have', 'affiliates', 'in', 'many', 'countries', 'and', 'are', 'trying', 'to', 'expand', 'their', 'reach.', 'These', 'are', 'not', 'opinions', 'to', 'be', 'debated;', 'these', 'are', 'facts', 'to', 'be', 'dealt', 'with.']\n",
            "['Now,', 'make', 'no', 'mistake:', 'We', 'do', 'not', 'want', 'to', 'keep', 'our', 'troops', 'in', 'Afghanistan.', 'We', 'see', 'no', 'military', '--', 'we', 'seek', 'no', 'military', 'bases', 'there.', 'It', 'is', 'agonizing', 'for', 'America', 'to', 'lose', 'our', 'young', 'men', 'and', 'women.', 'It', 'is', 'costly', 'and', 'politically', 'difficult', 'to', 'continue', 'this', 'conflict.', 'We', 'would', 'gladly', 'bring', 'every', 'single', 'one', 'of', 'our', 'troops', 'home', 'if', 'we', 'could', 'be', 'confident', 'that', 'there', 'were', 'not', 'violent', 'extremists', 'in', 'Afghanistan', 'and', 'now', 'Pakistan', 'determined', 'to', 'kill', 'as', 'many', 'Americans', 'as', 'they', 'possibly', 'can.', 'But', 'that', 'is', 'not', 'yet', 'the', 'case.']\n",
            "['And', \"that's\", 'why', \"we're\", 'partnering', 'with', 'a', 'coalition', 'of', '46', 'countries.', 'And', 'despite', 'the', 'costs', 'involved,', \"America's\", 'commitment', 'will', 'not', 'weaken.', 'Indeed,', 'none', 'of', 'us', 'should', 'tolerate', 'these', 'extremists.', 'They', 'have', 'killed', 'in', 'many', 'countries.', 'They', 'have', 'killed', 'people', 'of', 'different', 'faiths', '--', 'but', 'more', 'than', 'any', 'other,', 'they', 'have', 'killed', 'Muslims.', 'Their', 'actions', 'are', 'irreconcilable', 'with', 'the', 'rights', 'of', 'human', 'beings,', 'the', 'progress', 'of', 'nations,', 'and', 'with', 'Islam.', 'The', 'Holy', 'Koran', 'teaches', 'that', 'whoever', 'kills', 'an', 'innocent', 'is', 'as', '--', 'it', 'is', 'as', 'if', 'he', 'has', 'killed', 'all', 'mankind.', '(Applause.)', 'And', 'the', 'Holy', 'Koran', 'also', 'says', 'whoever', 'saves', 'a', 'person,', 'it', 'is', 'as', 'if', 'he', 'has', 'saved', 'all', 'mankind.', '(Applause.)', 'The', 'enduring', 'faith', 'of', 'over', 'a', 'billion', 'people', 'is', 'so', 'much', 'bigger', 'than', 'the', 'narrow', 'hatred', 'of', 'a', 'few.', 'Islam', 'is', 'not', 'part', 'of', 'the', 'problem', 'in', 'combating', 'violent', 'extremism', '--', 'it', 'is', 'an', 'important', 'part', 'of', 'promoting', 'peace.']\n",
            "['Now,', 'we', 'also', 'know', 'that', 'military', 'power', 'alone', 'is', 'not', 'going', 'to', 'solve', 'the', 'problems', 'in', 'Afghanistan', 'and', 'Pakistan.', \"That's\", 'why', 'we', 'plan', 'to', 'invest', '$1.5', 'billion', 'each', 'year', 'over', 'the', 'next', 'five', 'years', 'to', 'partner', 'with', 'Pakistanis', 'to', 'build', 'schools', 'and', 'hospitals,', 'roads', 'and', 'businesses,', 'and', 'hundreds', 'of', 'millions', 'to', 'help', 'those', \"who've\", 'been', 'displaced.', \"That's\", 'why', 'we', 'are', 'providing', 'more', 'than', '$2.8', 'billion', 'to', 'help', 'Afghans', 'develop', 'their', 'economy', 'and', 'deliver', 'services', 'that', 'people', 'depend', 'on.']\n",
            "['Let', 'me', 'also', 'address', 'the', 'issue', 'of', 'Iraq.', 'Unlike', 'Afghanistan,', 'Iraq', 'was', 'a', 'war', 'of', 'choice', 'that', 'provoked', 'strong', 'differences', 'in', 'my', 'country', 'and', 'around', 'the', 'world.', 'Although', 'I', 'believe', 'that', 'the', 'Iraqi', 'people', 'are', 'ultimately', 'better', 'off', 'without', 'the', 'tyranny', 'of', 'Saddam', 'Hussein,', 'I', 'also', 'believe', 'that', 'events', 'in', 'Iraq', 'have', 'reminded', 'America', 'of', 'the', 'need', 'to', 'use', 'diplomacy', 'and', 'build', 'international', 'consensus', 'to', 'resolve', 'our', 'problems', 'whenever', 'possible.', '(Applause.)', 'Indeed,', 'we', 'can', 'recall', 'the', 'words', 'of', 'Thomas', 'Jefferson,', 'who', 'said:', '\"I', 'hope', 'that', 'our', 'wisdom', 'will', 'grow', 'with', 'our', 'power,', 'and', 'teach', 'us', 'that', 'the', 'less', 'we', 'use', 'our', 'power', 'the', 'greater', 'it', 'will', 'be.\"']\n",
            "['Today,', 'America', 'has', 'a', 'dual', 'responsibility:', 'to', 'help', 'Iraq', 'forge', 'a', 'better', 'future', '--', 'and', 'to', 'leave', 'Iraq', 'to', 'Iraqis.', 'And', 'I', 'have', 'made', 'it', 'clear', 'to', 'the', 'Iraqi', 'people', '--', '(applause)', '--', 'I', 'have', 'made', 'it', 'clear', 'to', 'the', 'Iraqi', 'people', 'that', 'we', 'pursue', 'no', 'bases,', 'and', 'no', 'claim', 'on', 'their', 'territory', 'or', 'resources.', \"Iraq's\", 'sovereignty', 'is', 'its', 'own.', 'And', \"that's\", 'why', 'I', 'ordered', 'the', 'removal', 'of', 'our', 'combat', 'brigades', 'by', 'next', 'August.', 'That', 'is', 'why', 'we', 'will', 'honor', 'our', 'agreement', 'with', \"Iraq's\", 'democratically', 'elected', 'government', 'to', 'remove', 'combat', 'troops', 'from', 'Iraqi', 'cities', 'by', 'July,', 'and', 'to', 'remove', 'all', 'of', 'our', 'troops', 'from', 'Iraq', 'by', '2012.', '(Applause.)', 'We', 'will', 'help', 'Iraq', 'train', 'its', 'security', 'forces', 'and', 'develop', 'its', 'economy.', 'But', 'we', 'will', 'support', 'a', 'secure', 'and', 'united', 'Iraq', 'as', 'a', 'partner,', 'and', 'never', 'as', 'a', 'patron.']\n",
            "['And', 'finally,', 'just', 'as', 'America', 'can', 'never', 'tolerate', 'violence', 'by', 'extremists,', 'we', 'must', 'never', 'alter', 'or', 'forget', 'our', 'principles.', 'Nine-eleven', 'was', 'an', 'enormous', 'trauma', 'to', 'our', 'country.', 'The', 'fear', 'and', 'anger', 'that', 'it', 'provoked', 'was', 'understandable,', 'but', 'in', 'some', 'cases,', 'it', 'led', 'us', 'to', 'act', 'contrary', 'to', 'our', 'traditions', 'and', 'our', 'ideals.', 'We', 'are', 'taking', 'concrete', 'actions', 'to', 'change', 'course.', 'I', 'have', 'unequivocally', 'prohibited', 'the', 'use', 'of', 'torture', 'by', 'the', 'United', 'States,', 'and', 'I', 'have', 'ordered', 'the', 'prison', 'at', 'Guantanamo', 'Bay', 'closed', 'by', 'early', 'next', 'year.', '(Applause.)']\n",
            "['So', 'America', 'will', 'defend', 'itself,', 'respectful', 'of', 'the', 'sovereignty', 'of', 'nations', 'and', 'the', 'rule', 'of', 'law.', 'And', 'we', 'will', 'do', 'so', 'in', 'partnership', 'with', 'Muslim', 'communities', 'which', 'are', 'also', 'threatened.', 'The', 'sooner', 'the', 'extremists', 'are', 'isolated', 'and', 'unwelcome', 'in', 'Muslim', 'communities,', 'the', 'sooner', 'we', 'will', 'all', 'be', 'safer.']\n",
            "['The', 'second', 'major', 'source', 'of', 'tension', 'that', 'we', 'need', 'to', 'discuss', 'is', 'the', 'situation', 'between', 'Israelis,', 'Palestinians', 'and', 'the', 'Arab', 'world.']\n",
            "[\"America's\", 'strong', 'bonds', 'with', 'Israel', 'are', 'well', 'known.', 'This', 'bond', 'is', 'unbreakable.', 'It', 'is', 'based', 'upon', 'cultural', 'and', 'historical', 'ties,', 'and', 'the', 'recognition', 'that', 'the', 'aspiration', 'for', 'a', 'Jewish', 'homeland', 'is', 'rooted', 'in', 'a', 'tragic', 'history', 'that', 'cannot', 'be', 'denied.']\n",
            "['Around', 'the', 'world,', 'the', 'Jewish', 'people', 'were', 'persecuted', 'for', 'centuries,', 'and', 'anti-Semitism', 'in', 'Europe', 'culminated', 'in', 'an', 'unprecedented', 'Holocaust.', 'Tomorrow,', 'I', 'will', 'visit', 'Buchenwald,', 'which', 'was', 'part', 'of', 'a', 'network', 'of', 'camps', 'where', 'Jews', 'were', 'enslaved,', 'tortured,', 'shot', 'and', 'gassed', 'to', 'death', 'by', 'the', 'Third', 'Reich.', 'Six', 'million', 'Jews', 'were', 'killed', '--', 'more', 'than', 'the', 'entire', 'Jewish', 'population', 'of', 'Israel', 'today.', 'Denying', 'that', 'fact', 'is', 'baseless,', 'it', 'is', 'ignorant,', 'and', 'it', 'is', 'hateful.', 'Threatening', 'Israel', 'with', 'destruction', '--', 'or', 'repeating', 'vile', 'stereotypes', 'about', 'Jews', '--', 'is', 'deeply', 'wrong,', 'and', 'only', 'serves', 'to', 'evoke', 'in', 'the', 'minds', 'of', 'Israelis', 'this', 'most', 'painful', 'of', 'memories', 'while', 'preventing', 'the', 'peace', 'that', 'the', 'people', 'of', 'this', 'region', 'deserve.']\n",
            "['On', 'the', 'other', 'hand,', 'it', 'is', 'also', 'undeniable', 'that', 'the', 'Palestinian', 'people', '--', 'Muslims', 'and', 'Christians', '--', 'have', 'suffered', 'in', 'pursuit', 'of', 'a', 'homeland.', 'For', 'more', 'than', '60', 'years', \"they've\", 'endured', 'the', 'pain', 'of', 'dislocation.', 'Many', 'wait', 'in', 'refugee', 'camps', 'in', 'the', 'West', 'Bank,', 'Gaza,', 'and', 'neighboring', 'lands', 'for', 'a', 'life', 'of', 'peace', 'and', 'security', 'that', 'they', 'have', 'never', 'been', 'able', 'to', 'lead.', 'They', 'endure', 'the', 'daily', 'humiliations', '--', 'large', 'and', 'small', '--', 'that', 'come', 'with', 'occupation.', 'So', 'let', 'there', 'be', 'no', 'doubt:', 'The', 'situation', 'for', 'the', 'Palestinian', 'people', 'is', 'intolerable.', 'And', 'America', 'will', 'not', 'turn', 'our', 'backs', 'on', 'the', 'legitimate', 'Palestinian', 'aspiration', 'for', 'dignity,', 'opportunity,', 'and', 'a', 'state', 'of', 'their', 'own.', '(Applause.)']\n",
            "['For', 'decades', 'then,', 'there', 'has', 'been', 'a', 'stalemate:', 'two', 'peoples', 'with', 'legitimate', 'aspirations,', 'each', 'with', 'a', 'painful', 'history', 'that', 'makes', 'compromise', 'elusive.', \"It's\", 'easy', 'to', 'point', 'fingers', '--', 'for', 'Palestinians', 'to', 'point', 'to', 'the', 'displacement', 'brought', 'about', 'by', \"Israel's\", 'founding,', 'and', 'for', 'Israelis', 'to', 'point', 'to', 'the', 'constant', 'hostility', 'and', 'attacks', 'throughout', 'its', 'history', 'from', 'within', 'its', 'borders', 'as', 'well', 'as', 'beyond.', 'But', 'if', 'we', 'see', 'this', 'conflict', 'only', 'from', 'one', 'side', 'or', 'the', 'other,', 'then', 'we', 'will', 'be', 'blind', 'to', 'the', 'truth:', 'The', 'only', 'resolution', 'is', 'for', 'the', 'aspirations', 'of', 'both', 'sides', 'to', 'be', 'met', 'through', 'two', 'states,', 'where', 'Israelis', 'and', 'Palestinians', 'each', 'live', 'in', 'peace', 'and', 'security.', '(Applause.)']\n",
            "['That', 'is', 'in', \"Israel's\", 'interest,', \"Palestine's\", 'interest,', \"America's\", 'interest,', 'and', 'the', \"world's\", 'interest.', 'And', 'that', 'is', 'why', 'I', 'intend', 'to', 'personally', 'pursue', 'this', 'outcome', 'with', 'all', 'the', 'patience', 'and', 'dedication', 'that', 'the', 'task', 'requires.', '(Applause.)', 'The', 'obligations', '--', 'the', 'obligations', 'that', 'the', 'parties', 'have', 'agreed', 'to', 'under', 'the', 'road', 'map', 'are', 'clear.', 'For', 'peace', 'to', 'come,', 'it', 'is', 'time', 'for', 'them', '--', 'and', 'all', 'of', 'us', '--', 'to', 'live', 'up', 'to', 'our', 'responsibilities.']\n",
            "['Palestinians', 'must', 'abandon', 'violence.', 'Resistance', 'through', 'violence', 'and', 'killing', 'is', 'wrong', 'and', 'it', 'does', 'not', 'succeed.', 'For', 'centuries,', 'black', 'people', 'in', 'America', 'suffered', 'the', 'lash', 'of', 'the', 'whip', 'as', 'slaves', 'and', 'the', 'humiliation', 'of', 'segregation.', 'But', 'it', 'was', 'not', 'violence', 'that', 'won', 'full', 'and', 'equal', 'rights.', 'It', 'was', 'a', 'peaceful', 'and', 'determined', 'insistence', 'upon', 'the', 'ideals', 'at', 'the', 'center', 'of', \"America's\", 'founding.', 'This', 'same', 'story', 'can', 'be', 'told', 'by', 'people', 'from', 'South', 'Africa', 'to', 'South', 'Asia;', 'from', 'Eastern', 'Europe', 'to', 'Indonesia.', \"It's\", 'a', 'story', 'with', 'a', 'simple', 'truth:', 'that', 'violence', 'is', 'a', 'dead', 'end.', 'It', 'is', 'a', 'sign', 'neither', 'of', 'courage', 'nor', 'power', 'to', 'shoot', 'rockets', 'at', 'sleeping', 'children,', 'or', 'to', 'blow', 'up', 'old', 'women', 'on', 'a', 'bus.', \"That's\", 'not', 'how', 'moral', 'authority', 'is', 'claimed;', \"that's\", 'how', 'it', 'is', 'surrendered.']\n",
            "['Now', 'is', 'the', 'time', 'for', 'Palestinians', 'to', 'focus', 'on', 'what', 'they', 'can', 'build.', 'The', 'Palestinian', 'Authority', 'must', 'develop', 'its', 'capacity', 'to', 'govern,', 'with', 'institutions', 'that', 'serve', 'the', 'needs', 'of', 'its', 'people.', 'Hamas', 'does', 'have', 'support', 'among', 'some', 'Palestinians,', 'but', 'they', 'also', 'have', 'to', 'recognize', 'they', 'have', 'responsibilities.', 'To', 'play', 'a', 'role', 'in', 'fulfilling', 'Palestinian', 'aspirations,', 'to', 'unify', 'the', 'Palestinian', 'people,', 'Hamas', 'must', 'put', 'an', 'end', 'to', 'violence,', 'recognize', 'past', 'agreements,', 'recognize', \"Israel's\", 'right', 'to', 'exist.']\n",
            "['At', 'the', 'same', 'time,', 'Israelis', 'must', 'acknowledge', 'that', 'just', 'as', \"Israel's\", 'right', 'to', 'exist', 'cannot', 'be', 'denied,', 'neither', 'can', \"Palestine's.\", 'The', 'United', 'States', 'does', 'not', 'accept', 'the', 'legitimacy', 'of', 'continued', 'Israeli', 'settlements.', '(Applause.)', 'This', 'construction', 'violates', 'previous', 'agreements', 'and', 'undermines', 'efforts', 'to', 'achieve', 'peace.', 'It', 'is', 'time', 'for', 'these', 'settlements', 'to', 'stop.', '(Applause.)']\n",
            "['And', 'Israel', 'must', 'also', 'live', 'up', 'to', 'its', 'obligation', 'to', 'ensure', 'that', 'Palestinians', 'can', 'live', 'and', 'work', 'and', 'develop', 'their', 'society.', 'Just', 'as', 'it', 'devastates', 'Palestinian', 'families,', 'the', 'continuing', 'humanitarian', 'crisis', 'in', 'Gaza', 'does', 'not', 'serve', \"Israel's\", 'security;', 'neither', 'does', 'the', 'continuing', 'lack', 'of', 'opportunity', 'in', 'the', 'West', 'Bank.', 'Progress', 'in', 'the', 'daily', 'lives', 'of', 'the', 'Palestinian', 'people', 'must', 'be', 'a', 'critical', 'part', 'of', 'a', 'road', 'to', 'peace,', 'and', 'Israel', 'must', 'take', 'concrete', 'steps', 'to', 'enable', 'such', 'progress.']\n",
            "['And', 'finally,', 'the', 'Arab', 'states', 'must', 'recognize', 'that', 'the', 'Arab', 'Peace', 'Initiative', 'was', 'an', 'important', 'beginning,', 'but', 'not', 'the', 'end', 'of', 'their', 'responsibilities.', 'The', 'Arab-Israeli', 'conflict', 'should', 'no', 'longer', 'be', 'used', 'to', 'distract', 'the', 'people', 'of', 'Arab', 'nations', 'from', 'other', 'problems.', 'Instead,', 'it', 'must', 'be', 'a', 'cause', 'for', 'action', 'to', 'help', 'the', 'Palestinian', 'people', 'develop', 'the', 'institutions', 'that', 'will', 'sustain', 'their', 'state,', 'to', 'recognize', \"Israel's\", 'legitimacy,', 'and', 'to', 'choose', 'progress', 'over', 'a', 'self-defeating', 'focus', 'on', 'the', 'past.']\n",
            "['America', 'will', 'align', 'our', 'policies', 'with', 'those', 'who', 'pursue', 'peace,', 'and', 'we', 'will', 'say', 'in', 'public', 'what', 'we', 'say', 'in', 'private', 'to', 'Israelis', 'and', 'Palestinians', 'and', 'Arabs.', '(Applause.)', 'We', 'cannot', 'impose', 'peace.', 'But', 'privately,', 'many', 'Muslims', 'recognize', 'that', 'Israel', 'will', 'not', 'go', 'away.', 'Likewise,', 'many', 'Israelis', 'recognize', 'the', 'need', 'for', 'a', 'Palestinian', 'state.', 'It', 'is', 'time', 'for', 'us', 'to', 'act', 'on', 'what', 'everyone', 'knows', 'to', 'be', 'true.']\n",
            "['Too', 'many', 'tears', 'have', 'been', 'shed.', 'Too', 'much', 'blood', 'has', 'been', 'shed.', 'All', 'of', 'us', 'have', 'a', 'responsibility', 'to', 'work', 'for', 'the', 'day', 'when', 'the', 'mothers', 'of', 'Israelis', 'and', 'Palestinians', 'can', 'see', 'their', 'children', 'grow', 'up', 'without', 'fear;', 'when', 'the', 'Holy', 'Land', 'of', 'the', 'three', 'great', 'faiths', 'is', 'the', 'place', 'of', 'peace', 'that', 'God', 'intended', 'it', 'to', 'be;', 'when', 'Jerusalem', 'is', 'a', 'secure', 'and', 'lasting', 'home', 'for', 'Jews', 'and', 'Christians', 'and', 'Muslims,', 'and', 'a', 'place', 'for', 'all', 'of', 'the', 'children', 'of', 'Abraham', 'to', 'mingle', 'peacefully', 'together', 'as', 'in', 'the', 'story', 'of', 'Isra', '--', '(applause)', '--', 'as', 'in', 'the', 'story', 'of', 'Isra,', 'when', 'Moses,', 'Jesus,', 'and', 'Mohammed,', 'peace', 'be', 'upon', 'them,', 'joined', 'in', 'prayer.', '(Applause.)']\n",
            "['The', 'third', 'source', 'of', 'tension', 'is', 'our', 'shared', 'interest', 'in', 'the', 'rights', 'and', 'responsibilities', 'of', 'nations', 'on', 'nuclear', 'weapons.']\n",
            "['This', 'issue', 'has', 'been', 'a', 'source', 'of', 'tension', 'between', 'the', 'United', 'States', 'and', 'the', 'Islamic', 'Republic', 'of', 'Iran.', 'For', 'many', 'years,', 'Iran', 'has', 'defined', 'itself', 'in', 'part', 'by', 'its', 'opposition', 'to', 'my', 'country,', 'and', 'there', 'is', 'in', 'fact', 'a', 'tumultuous', 'history', 'between', 'us.', 'In', 'the', 'middle', 'of', 'the', 'Cold', 'War,', 'the', 'United', 'States', 'played', 'a', 'role', 'in', 'the', 'overthrow', 'of', 'a', 'democratically', 'elected', 'Iranian', 'government.', 'Since', 'the', 'Islamic', 'Revolution,', 'Iran', 'has', 'played', 'a', 'role', 'in', 'acts', 'of', 'hostage-taking', 'and', 'violence', 'against', 'U.S.', 'troops', 'and', 'civilians.', 'This', 'history', 'is', 'well', 'known.', 'Rather', 'than', 'remain', 'trapped', 'in', 'the', 'past,', \"I've\", 'made', 'it', 'clear', 'to', \"Iran's\", 'leaders', 'and', 'people', 'that', 'my', 'country', 'is', 'prepared', 'to', 'move', 'forward.', 'The', 'question', 'now', 'is', 'not', 'what', 'Iran', 'is', 'against,', 'but', 'rather', 'what', 'future', 'it', 'wants', 'to', 'build.']\n",
            "['I', 'recognize', 'it', 'will', 'be', 'hard', 'to', 'overcome', 'decades', 'of', 'mistrust,', 'but', 'we', 'will', 'proceed', 'with', 'courage,', 'rectitude,', 'and', 'resolve.', 'There', 'will', 'be', 'many', 'issues', 'to', 'discuss', 'between', 'our', 'two', 'countries,', 'and', 'we', 'are', 'willing', 'to', 'move', 'forward', 'without', 'preconditions', 'on', 'the', 'basis', 'of', 'mutual', 'respect.', 'But', 'it', 'is', 'clear', 'to', 'all', 'concerned', 'that', 'when', 'it', 'comes', 'to', 'nuclear', 'weapons,', 'we', 'have', 'reached', 'a', 'decisive', 'point.', 'This', 'is', 'not', 'simply', 'about', \"America's\", 'interests.', \"It's\", 'about', 'preventing', 'a', 'nuclear', 'arms', 'race', 'in', 'the', 'Middle', 'East', 'that', 'could', 'lead', 'this', 'region', 'and', 'the', 'world', 'down', 'a', 'hugely', 'dangerous', 'path.']\n",
            "['I', 'understand', 'those', 'who', 'protest', 'that', 'some', 'countries', 'have', 'weapons', 'that', 'others', 'do', 'not.', 'No', 'single', 'nation', 'should', 'pick', 'and', 'choose', 'which', 'nation', 'holds', 'nuclear', 'weapons.', 'And', \"that's\", 'why', 'I', 'strongly', 'reaffirmed', \"America's\", 'commitment', 'to', 'seek', 'a', 'world', 'in', 'which', 'no', 'nations', 'hold', 'nuclear', 'weapons.', '(Applause.)', 'And', 'any', 'nation', '--', 'including', 'Iran', '--', 'should', 'have', 'the', 'right', 'to', 'access', 'peaceful', 'nuclear', 'power', 'if', 'it', 'complies', 'with', 'its', 'responsibilities', 'under', 'the', 'nuclear', 'Non-Proliferation', 'Treaty.', 'That', 'commitment', 'is', 'at', 'the', 'core', 'of', 'the', 'treaty,', 'and', 'it', 'must', 'be', 'kept', 'for', 'all', 'who', 'fully', 'abide', 'by', 'it.', 'And', \"I'm\", 'hopeful', 'that', 'all', 'countries', 'in', 'the', 'region', 'can', 'share', 'in', 'this', 'goal.']\n",
            "['The', 'fourth', 'issue', 'that', 'I', 'will', 'address', 'is', 'democracy.', '(Applause.)']\n",
            "['I', 'know', '--', 'I', 'know', 'there', 'has', 'been', 'controversy', 'about', 'the', 'promotion', 'of', 'democracy', 'in', 'recent', 'years,', 'and', 'much', 'of', 'this', 'controversy', 'is', 'connected', 'to', 'the', 'war', 'in', 'Iraq.', 'So', 'let', 'me', 'be', 'clear:', 'No', 'system', 'of', 'government', 'can', 'or', 'should', 'be', 'imposed', 'by', 'one', 'nation', 'by', 'any', 'other.']\n",
            "[]\n",
            "['That', 'does', 'not', 'lessen', 'my', 'commitment,', 'however,', 'to', 'governments', 'that', 'reflect', 'the', 'will', 'of', 'the', 'people.', 'Each', 'nation', 'gives', 'life', 'to', 'this', 'principle', 'in', 'its', 'own', 'way,', 'grounded', 'in', 'the', 'traditions', 'of', 'its', 'own', 'people.', 'America', 'does', 'not', 'presume', 'to', 'know', 'what', 'is', 'best', 'for', 'everyone,', 'just', 'as', 'we', 'would', 'not', 'presume', 'to', 'pick', 'the', 'outcome', 'of', 'a', 'peaceful', 'election.', 'But', 'I', 'do', 'have', 'an', 'unyielding', 'belief', 'that', 'all', 'people', 'yearn', 'for', 'certain', 'things:', 'the', 'ability', 'to', 'speak', 'your', 'mind', 'and', 'have', 'a', 'say', 'in', 'how', 'you', 'are', 'governed;', 'confidence', 'in', 'the', 'rule', 'of', 'law', 'and', 'the', 'equal', 'administration', 'of', 'justice;', 'government', 'that', 'is', 'transparent', 'and', \"doesn't\", 'steal', 'from', 'the', 'people;', 'the', 'freedom', 'to', 'live', 'as', 'you', 'choose.', 'These', 'are', 'not', 'just', 'American', 'ideas;', 'they', 'are', 'human', 'rights.', 'And', 'that', 'is', 'why', 'we', 'will', 'support', 'them', 'everywhere.', '(Applause.)']\n",
            "['Now,', 'there', 'is', 'no', 'straight', 'line', 'to', 'realize', 'this', 'promise.', 'But', 'this', 'much', 'is', 'clear:', 'Governments', 'that', 'protect', 'these', 'rights', 'are', 'ultimately', 'more', 'stable,', 'successful', 'and', 'secure.', 'Suppressing', 'ideas', 'never', 'succeeds', 'in', 'making', 'them', 'go', 'away.', 'America', 'respects', 'the', 'right', 'of', 'all', 'peaceful', 'and', 'law-abiding', 'voices', 'to', 'be', 'heard', 'around', 'the', 'world,', 'even', 'if', 'we', 'disagree', 'with', 'them.', 'And', 'we', 'will', 'welcome', 'all', 'elected,', 'peaceful', 'governments', '--', 'provided', 'they', 'govern', 'with', 'respect', 'for', 'all', 'their', 'people.']\n",
            "['This', 'last', 'point', 'is', 'important', 'because', 'there', 'are', 'some', 'who', 'advocate', 'for', 'democracy', 'only', 'when', \"they're\", 'out', 'of', 'power;', 'once', 'in', 'power,', 'they', 'are', 'ruthless', 'in', 'suppressing', 'the', 'rights', 'of', 'others.', '(Applause.)', 'So', 'no', 'matter', 'where', 'it', 'takes', 'hold,', 'government', 'of', 'the', 'people', 'and', 'by', 'the', 'people', 'sets', 'a', 'single', 'standard', 'for', 'all', 'who', 'would', 'hold', 'power:', 'You', 'must', 'maintain', 'your', 'power', 'through', 'consent,', 'not', 'coercion;', 'you', 'must', 'respect', 'the', 'rights', 'of', 'minorities,', 'and', 'participate', 'with', 'a', 'spirit', 'of', 'tolerance', 'and', 'compromise;', 'you', 'must', 'place', 'the', 'interests', 'of', 'your', 'people', 'and', 'the', 'legitimate', 'workings', 'of', 'the', 'political', 'process', 'above', 'your', 'party.', 'Without', 'these', 'ingredients,', 'elections', 'alone', 'do', 'not', 'make', 'true', 'democracy.']\n",
            "['AUDIENCE', 'MEMBER:', 'Barack', 'Obama,', 'we', 'love', 'you!']\n",
            "['PRESIDENT', 'OBAMA:', 'Thank', 'you.', '(Applause.)', 'The', 'fifth', 'issue', 'that', 'we', 'must', 'address', 'together', 'is', 'religious', 'freedom.']\n",
            "['Islam', 'has', 'a', 'proud', 'tradition', 'of', 'tolerance.', 'We', 'see', 'it', 'in', 'the', 'history', 'of', 'Andalusia', 'and', 'Cordoba', 'during', 'the', 'Inquisition.', 'I', 'saw', 'it', 'firsthand', 'as', 'a', 'child', 'in', 'Indonesia,', 'where', 'devout', 'Christians', 'worshiped', 'freely', 'in', 'an', 'overwhelmingly', 'Muslim', 'country.', 'That', 'is', 'the', 'spirit', 'we', 'need', 'today.', 'People', 'in', 'every', 'country', 'should', 'be', 'free', 'to', 'choose', 'and', 'live', 'their', 'faith', 'based', 'upon', 'the', 'persuasion', 'of', 'the', 'mind', 'and', 'the', 'heart', 'and', 'the', 'soul.', 'This', 'tolerance', 'is', 'essential', 'for', 'religion', 'to', 'thrive,', 'but', \"it's\", 'being', 'challenged', 'in', 'many', 'different', 'ways.']\n",
            "['Among', 'some', 'Muslims,', \"there's\", 'a', 'disturbing', 'tendency', 'to', 'measure', \"one's\", 'own', 'faith', 'by', 'the', 'rejection', 'of', 'somebody', \"else's\", 'faith.', 'The', 'richness', 'of', 'religious', 'diversity', 'must', 'be', 'upheld', '--', 'whether', 'it', 'is', 'for', 'Maronites', 'in', 'Lebanon', 'or', 'the', 'Copts', 'in', 'Egypt.', '(Applause.)', 'And', 'if', 'we', 'are', 'being', 'honest,', 'fault', 'lines', 'must', 'be', 'closed', 'among', 'Muslims,', 'as', 'well,', 'as', 'the', 'divisions', 'between', 'Sunni', 'and', 'Shia', 'have', 'led', 'to', 'tragic', 'violence,', 'particularly', 'in', 'Iraq.']\n",
            "['Freedom', 'of', 'religion', 'is', 'central', 'to', 'the', 'ability', 'of', 'peoples', 'to', 'live', 'together.', 'We', 'must', 'always', 'examine', 'the', 'ways', 'in', 'which', 'we', 'protect', 'it.', 'For', 'instance,', 'in', 'the', 'United', 'States,', 'rules', 'on', 'charitable', 'giving', 'have', 'made', 'it', 'harder', 'for', 'Muslims', 'to', 'fulfill', 'their', 'religious', 'obligation.', \"That's\", 'why', \"I'm\", 'committed', 'to', 'working', 'with', 'American', 'Muslims', 'to', 'ensure', 'that', 'they', 'can', 'fulfill', 'zakat.']\n",
            "['Likewise,', 'it', 'is', 'important', 'for', 'Western', 'countries', 'to', 'avoid', 'impeding', 'Muslim', 'citizens', 'from', 'practicing', 'religion', 'as', 'they', 'see', 'fit', '--', 'for', 'instance,', 'by', 'dictating', 'what', 'clothes', 'a', 'Muslim', 'woman', 'should', 'wear.', 'We', \"can't\", 'disguise', 'hostility', 'towards', 'any', 'religion', 'behind', 'the', 'pretence', 'of', 'liberalism.']\n",
            "[]\n",
            "['In', 'fact,', 'faith', 'should', 'bring', 'us', 'together.', 'And', \"that's\", 'why', \"we're\", 'forging', 'service', 'projects', 'in', 'America', 'to', 'bring', 'together', 'Christians,', 'Muslims,', 'and', 'Jews.', \"That's\", 'why', 'we', 'welcome', 'efforts', 'like', 'Saudi', 'Arabian', 'King', \"Abdullah's\", 'interfaith', 'dialogue', 'and', \"Turkey's\", 'leadership', 'in', 'the', 'Alliance', 'of', 'Civilizations.', 'Around', 'the', 'world,', 'we', 'can', 'turn', 'dialogue', 'into', 'interfaith', 'service,', 'so', 'bridges', 'between', 'peoples', 'lead', 'to', 'action', '--', 'whether', 'it', 'is', 'combating', 'malaria', 'in', 'Africa,', 'or', 'providing', 'relief', 'after', 'a', 'natural', 'disaster.']\n",
            "['The', 'sixth', 'issue', '--', 'the', 'sixth', 'issue', 'that', 'I', 'want', 'to', 'address', 'is', \"women's\", 'rights.', '(Applause.)', 'I', 'know', '–-', 'I', 'know', '--', 'and', 'you', 'can', 'tell', 'from', 'this', 'audience,', 'that', 'there', 'is', 'a', 'healthy', 'debate', 'about', 'this', 'issue.', 'I', 'reject', 'the', 'view', 'of', 'some', 'in', 'the', 'West', 'that', 'a', 'woman', 'who', 'chooses', 'to', 'cover', 'her', 'hair', 'is', 'somehow', 'less', 'equal,', 'but', 'I', 'do', 'believe', 'that', 'a', 'woman', 'who', 'is', 'denied', 'an', 'education', 'is', 'denied', 'equality.', '(Applause.)', 'And', 'it', 'is', 'no', 'coincidence', 'that', 'countries', 'where', 'women', 'are', 'well', 'educated', 'are', 'far', 'more', 'likely', 'to', 'be', 'prosperous.']\n",
            "['Now,', 'let', 'me', 'be', 'clear:', 'Issues', 'of', \"women's\", 'equality', 'are', 'by', 'no', 'means', 'simply', 'an', 'issue', 'for', 'Islam.', 'In', 'Turkey,', 'Pakistan,', 'Bangladesh,', 'Indonesia,', \"we've\", 'seen', 'Muslim-majority', 'countries', 'elect', 'a', 'woman', 'to', 'lead.', 'Meanwhile,', 'the', 'struggle', 'for', \"women's\", 'equality', 'continues', 'in', 'many', 'aspects', 'of', 'American', 'life,', 'and', 'in', 'countries', 'around', 'the', 'world.']\n",
            "['I', 'am', 'convinced', 'that', 'our', 'daughters', 'can', 'contribute', 'just', 'as', 'much', 'to', 'society', 'as', 'our', 'sons.', '(Applause.)', 'Our', 'common', 'prosperity', 'will', 'be', 'advanced', 'by', 'allowing', 'all', 'humanity', '--', 'men', 'and', 'women', '--', 'to', 'reach', 'their', 'full', 'potential.', 'I', 'do', 'not', 'believe', 'that', 'women', 'must', 'make', 'the', 'same', 'choices', 'as', 'men', 'in', 'order', 'to', 'be', 'equal,', 'and', 'I', 'respect', 'those', 'women', 'who', 'choose', 'to', 'live', 'their', 'lives', 'in', 'traditional', 'roles.', 'But', 'it', 'should', 'be', 'their', 'choice.', 'And', 'that', 'is', 'why', 'the', 'United', 'States', 'will', 'partner', 'with', 'any', 'Muslim-majority', 'country', 'to', 'support', 'expanded', 'literacy', 'for', 'girls,', 'and', 'to', 'help', 'young', 'women', 'pursue', 'employment', 'through', 'micro-financing', 'that', 'helps', 'people', 'live', 'their', 'dreams.', '(Applause.)']\n",
            "['Finally,', 'I', 'want', 'to', 'discuss', 'economic', 'development', 'and', 'opportunity.']\n",
            "['I', 'know', 'that', 'for', 'many,', 'the', 'face', 'of', 'globalization', 'is', 'contradictory.', 'The', 'Internet', 'and', 'television', 'can', 'bring', 'knowledge', 'and', 'information,', 'but', 'also', 'offensive', 'sexuality', 'and', 'mindless', 'violence', 'into', 'the', 'home.', 'Trade', 'can', 'bring', 'new', 'wealth', 'and', 'opportunities,', 'but', 'also', 'huge', 'disruptions', 'and', 'change', 'in', 'communities.', 'In', 'all', 'nations', '--', 'including', 'America', '--', 'this', 'change', 'can', 'bring', 'fear.', 'Fear', 'that', 'because', 'of', 'modernity', 'we', 'lose', 'control', 'over', 'our', 'economic', 'choices,', 'our', 'politics,', 'and', 'most', 'importantly', 'our', 'identities', '--', 'those', 'things', 'we', 'most', 'cherish', 'about', 'our', 'communities,', 'our', 'families,', 'our', 'traditions,', 'and', 'our', 'faith.']\n",
            "['But', 'I', 'also', 'know', 'that', 'human', 'progress', 'cannot', 'be', 'denied.', 'There', 'need', 'not', 'be', 'contradictions', 'between', 'development', 'and', 'tradition.', 'Countries', 'like', 'Japan', 'and', 'South', 'Korea', 'grew', 'their', 'economies', 'enormously', 'while', 'maintaining', 'distinct', 'cultures.', 'The', 'same', 'is', 'true', 'for', 'the', 'astonishing', 'progress', 'within', 'Muslim-majority', 'countries', 'from', 'Kuala', 'Lumpur', 'to', 'Dubai.', 'In', 'ancient', 'times', 'and', 'in', 'our', 'times,', 'Muslim', 'communities', 'have', 'been', 'at', 'the', 'forefront', 'of', 'innovation', 'and', 'education.']\n",
            "[]\n",
            "['And', 'this', 'is', 'important', 'because', 'no', 'development', 'strategy', 'can', 'be', 'based', 'only', 'upon', 'what', 'comes', 'out', 'of', 'the', 'ground,', 'nor', 'can', 'it', 'be', 'sustained', 'while', 'young', 'people', 'are', 'out', 'of', 'work.', 'Many', 'Gulf', 'states', 'have', 'enjoyed', 'great', 'wealth', 'as', 'a', 'consequence', 'of', 'oil,', 'and', 'some', 'are', 'beginning', 'to', 'focus', 'it', 'on', 'broader', 'development.', 'But', 'all', 'of', 'us', 'must', 'recognize', 'that', 'education', 'and', 'innovation', 'will', 'be', 'the', 'currency', 'of', 'the', '21st', 'century', '--', '(applause)', '--', 'and', 'in', 'too', 'many', 'Muslim', 'communities,', 'there', 'remains', 'underinvestment', 'in', 'these', 'areas.', \"I'm\", 'emphasizing', 'such', 'investment', 'within', 'my', 'own', 'country.', 'And', 'while', 'America', 'in', 'the', 'past', 'has', 'focused', 'on', 'oil', 'and', 'gas', 'when', 'it', 'comes', 'to', 'this', 'part', 'of', 'the', 'world,', 'we', 'now', 'seek', 'a', 'broader', 'engagement.']\n",
            "['On', 'education,', 'we', 'will', 'expand', 'exchange', 'programs,', 'and', 'increase', 'scholarships,', 'like', 'the', 'one', 'that', 'brought', 'my', 'father', 'to', 'America.', '(Applause.)', 'At', 'the', 'same', 'time,', 'we', 'will', 'encourage', 'more', 'Americans', 'to', 'study', 'in', 'Muslim', 'communities.', 'And', 'we', 'will', 'match', 'promising', 'Muslim', 'students', 'with', 'internships', 'in', 'America;', 'invest', 'in', 'online', 'learning', 'for', 'teachers', 'and', 'children', 'around', 'the', 'world;', 'and', 'create', 'a', 'new', 'online', 'network,', 'so', 'a', 'young', 'person', 'in', 'Kansas', 'can', 'communicate', 'instantly', 'with', 'a', 'young', 'person', 'in', 'Cairo.']\n",
            "['On', 'economic', 'development,', 'we', 'will', 'create', 'a', 'new', 'corps', 'of', 'business', 'volunteers', 'to', 'partner', 'with', 'counterparts', 'in', 'Muslim-majority', 'countries.', 'And', 'I', 'will', 'host', 'a', 'Summit', 'on', 'Entrepreneurship', 'this', 'year', 'to', 'identify', 'how', 'we', 'can', 'deepen', 'ties', 'between', 'business', 'leaders,', 'foundations', 'and', 'social', 'entrepreneurs', 'in', 'the', 'United', 'States', 'and', 'Muslim', 'communities', 'around', 'the', 'world.']\n",
            "['On', 'science', 'and', 'technology,', 'we', 'will', 'launch', 'a', 'new', 'fund', 'to', 'support', 'technological', 'development', 'in', 'Muslim-majority', 'countries,', 'and', 'to', 'help', 'transfer', 'ideas', 'to', 'the', 'marketplace', 'so', 'they', 'can', 'create', 'more', 'jobs.', \"We'll\", 'open', 'centers', 'of', 'scientific', 'excellence', 'in', 'Africa,', 'the', 'Middle', 'East', 'and', 'Southeast', 'Asia,', 'and', 'appoint', 'new', 'science', 'envoys', 'to', 'collaborate', 'on', 'programs', 'that', 'develop', 'new', 'sources', 'of', 'energy,', 'create', 'green', 'jobs,', 'digitize', 'records,', 'clean', 'water,', 'grow', 'new', 'crops.', 'Today', \"I'm\", 'announcing', 'a', 'new', 'global', 'effort', 'with', 'the', 'Organization', 'of', 'the', 'Islamic', 'Conference', 'to', 'eradicate', 'polio.', 'And', 'we', 'will', 'also', 'expand', 'partnerships', 'with', 'Muslim', 'communities', 'to', 'promote', 'child', 'and', 'maternal', 'health.']\n",
            "['All', 'these', 'things', 'must', 'be', 'done', 'in', 'partnership.', 'Americans', 'are', 'ready', 'to', 'join', 'with', 'citizens', 'and', 'governments;', 'community', 'organizations,', 'religious', 'leaders,', 'and', 'businesses', 'in', 'Muslim', 'communities', 'around', 'the', 'world', 'to', 'help', 'our', 'people', 'pursue', 'a', 'better', 'life.']\n",
            "['The', 'issues', 'that', 'I', 'have', 'described', 'will', 'not', 'be', 'easy', 'to', 'address.', 'But', 'we', 'have', 'a', 'responsibility', 'to', 'join', 'together', 'on', 'behalf', 'of', 'the', 'world', 'that', 'we', 'seek', '--', 'a', 'world', 'where', 'extremists', 'no', 'longer', 'threaten', 'our', 'people,', 'and', 'American', 'troops', 'have', 'come', 'home;', 'a', 'world', 'where', 'Israelis', 'and', 'Palestinians', 'are', 'each', 'secure', 'in', 'a', 'state', 'of', 'their', 'own,', 'and', 'nuclear', 'energy', 'is', 'used', 'for', 'peaceful', 'purposes;', 'a', 'world', 'where', 'governments', 'serve', 'their', 'citizens,', 'and', 'the', 'rights', 'of', 'all', \"God's\", 'children', 'are', 'respected.', 'Those', 'are', 'mutual', 'interests.', 'That', 'is', 'the', 'world', 'we', 'seek.', 'But', 'we', 'can', 'only', 'achieve', 'it', 'together.']\n",
            "['I', 'know', 'there', 'are', 'many', '--', 'Muslim', 'and', 'non-Muslim', '--', 'who', 'question', 'whether', 'we', 'can', 'forge', 'this', 'new', 'beginning.', 'Some', 'are', 'eager', 'to', 'stoke', 'the', 'flames', 'of', 'division,', 'and', 'to', 'stand', 'in', 'the', 'way', 'of', 'progress.', 'Some', 'suggest', 'that', 'it', \"isn't\", 'worth', 'the', 'effort', '--', 'that', 'we', 'are', 'fated', 'to', 'disagree,', 'and', 'civilizations', 'are', 'doomed', 'to', 'clash.', 'Many', 'more', 'are', 'simply', 'skeptical', 'that', 'real', 'change', 'can', 'occur.', \"There's\", 'so', 'much', 'fear,', 'so', 'much', 'mistrust', 'that', 'has', 'built', 'up', 'over', 'the', 'years.', 'But', 'if', 'we', 'choose', 'to', 'be', 'bound', 'by', 'the', 'past,', 'we', 'will', 'never', 'move', 'forward.', 'And', 'I', 'want', 'to', 'particularly', 'say', 'this', 'to', 'young', 'people', 'of', 'every', 'faith,', 'in', 'every', 'country', '--', 'you,', 'more', 'than', 'anyone,', 'have', 'the', 'ability', 'to', 'reimagine', 'the', 'world,', 'to', 'remake', 'this', 'world.']\n",
            "['All', 'of', 'us', 'share', 'this', 'world', 'for', 'but', 'a', 'brief', 'moment', 'in', 'time.', 'The', 'question', 'is', 'whether', 'we', 'spend', 'that', 'time', 'focused', 'on', 'what', 'pushes', 'us', 'apart,', 'or', 'whether', 'we', 'commit', 'ourselves', 'to', 'an', 'effort', '--', 'a', 'sustained', 'effort', '--', 'to', 'find', 'common', 'ground,', 'to', 'focus', 'on', 'the', 'future', 'we', 'seek', 'for', 'our', 'children,', 'and', 'to', 'respect', 'the', 'dignity', 'of', 'all', 'human', 'beings.']\n",
            "[\"It's\", 'easier', 'to', 'start', 'wars', 'than', 'to', 'end', 'them.', \"It's\", 'easier', 'to', 'blame', 'others', 'than', 'to', 'look', 'inward.', \"It's\", 'easier', 'to', 'see', 'what', 'is', 'different', 'about', 'someone', 'than', 'to', 'find', 'the', 'things', 'we', 'share.', 'But', 'we', 'should', 'choose', 'the', 'right', 'path,', 'not', 'just', 'the', 'easy', 'path.', \"There's\", 'one', 'rule', 'that', 'lies', 'at', 'the', 'heart', 'of', 'every', 'religion', '--', 'that', 'we', 'do', 'unto', 'others', 'as', 'we', 'would', 'have', 'them', 'do', 'unto', 'us.', '(Applause.)', 'This', 'truth', 'transcends', 'nations', 'and', 'peoples', '--', 'a', 'belief', 'that', \"isn't\", 'new;', 'that', \"isn't\", 'black', 'or', 'white', 'or', 'brown;', 'that', \"isn't\", 'Christian', 'or', 'Muslim', 'or', 'Jew.', \"It's\", 'a', 'belief', 'that', 'pulsed', 'in', 'the', 'cradle', 'of', 'civilization,', 'and', 'that', 'still', 'beats', 'in', 'the', 'hearts', 'of', 'billions', 'around', 'the', 'world.', \"It's\", 'a', 'faith', 'in', 'other', 'people,', 'and', \"it's\", 'what', 'brought', 'me', 'here', 'today.']\n",
            "['We', 'have', 'the', 'power', 'to', 'make', 'the', 'world', 'we', 'seek,', 'but', 'only', 'if', 'we', 'have', 'the', 'courage', 'to', 'make', 'a', 'new', 'beginning,', 'keeping', 'in', 'mind', 'what', 'has', 'been', 'written.']\n",
            "['The', 'Holy', 'Koran', 'tells', 'us:', '\"O', 'mankind!', 'We', 'have', 'created', 'you', 'male', 'and', 'a', 'female;', 'and', 'we', 'have', 'made', 'you', 'into', 'nations', 'and', 'tribes', 'so', 'that', 'you', 'may', 'know', 'one', 'another.\"']\n",
            "['The', 'Talmud', 'tells', 'us:', '\"The', 'whole', 'of', 'the', 'Torah', 'is', 'for', 'the', 'purpose', 'of', 'promoting', 'peace.\"']\n",
            "['The', 'Holy', 'Bible', 'tells', 'us:', '\"Blessed', 'are', 'the', 'peacemakers,', 'for', 'they', 'shall', 'be', 'called', 'sons', 'of', 'God.\"', '(Applause.)']\n",
            "['The', 'people', 'of', 'the', 'world', 'can', 'live', 'together', 'in', 'peace.', 'We', 'know', 'that', 'is', \"God's\", 'vision.', 'Now', 'that', 'must', 'be', 'our', 'work', 'here', 'on', 'Earth.']\n",
            "['Thank', 'you.', 'And', 'may', \"God's\", 'peace', 'be', 'upon', 'you.', 'Thank', 'you', 'very', 'much.', 'Thank', 'you.', '(Applause.)']\n",
            "['END']\n",
            "['2:05', 'P.M.', '(Local)']\n"
          ]
        }
      ]
    },
    {
      "cell_type": "markdown",
      "metadata": {
        "id": "-1-5ZYjHwlXi"
      },
      "source": [
        "## Break content by line\n",
        "### We can also use the readlines method\n",
        "\n",
        "**When it encounters a line break, it returns that line**"
      ]
    },
    {
      "cell_type": "code",
      "source": [
        "obamafile = open('/content/drive/MyDrive/Colab Notebooks/Oxford Text Analysis 22/Python QTA Drive Oxford 2022/Data/obamaincairo.txt', \"r\") #open files\n",
        "lines = obamafile.readline() # a lst of strings, each string refers to one line in the file\n",
        "print(lines)"
      ],
      "metadata": {
        "colab": {
          "base_uri": "https://localhost:8080/"
        },
        "id": "t6RTqtFPGPly",
        "outputId": "4e89d11b-1e29-4757-ff28-8b571a251e83"
      },
      "execution_count": null,
      "outputs": [
        {
          "output_type": "stream",
          "name": "stdout",
          "text": [
            "PRESIDENT OBAMA:  Thank you very much.  Good afternoon.  I am honored to be in the timeless city of Cairo, and to be hosted by two remarkable institutions.  For over a thousand years, Al-Azhar has stood as a beacon of Islamic learning; and for over a century, Cairo University has been a source of Egypt's advancement.  And together, you represent the harmony between tradition and progress.  I'm grateful for your hospitality, and the hospitality of the people of Egypt.  And I'm also proud to carry with me the goodwill of the American people, and a greeting of peace from Muslim communities in my country:  Assalaamu alaykum. (Applause.)\n",
            "\n"
          ]
        }
      ]
    },
    {
      "cell_type": "code",
      "metadata": {
        "id": "_-V-qNiKwlXi",
        "colab": {
          "base_uri": "https://localhost:8080/"
        },
        "outputId": "f89af26b-cfb9-4ee6-913a-d4200be1d03b"
      },
      "source": [
        "obamafile = open('/content/drive/MyDrive/Colab Notebooks/Oxford Text Analysis 22/Python QTA Drive Oxford 2022/Data/obamaincairo.txt', \"r\") #open files\n",
        "lines = obamafile.readlines() # a lst of strings, each string refers to one line in the file\n",
        "\n",
        "for line in lines: #read line by line\n",
        "    print(line)\n",
        "obamafile.close()"
      ],
      "execution_count": null,
      "outputs": [
        {
          "output_type": "stream",
          "name": "stdout",
          "text": [
            "PRESIDENT OBAMA:  Thank you very much.  Good afternoon.  I am honored to be in the timeless city of Cairo, and to be hosted by two remarkable institutions.  For over a thousand years, Al-Azhar has stood as a beacon of Islamic learning; and for over a century, Cairo University has been a source of Egypt's advancement.  And together, you represent the harmony between tradition and progress.  I'm grateful for your hospitality, and the hospitality of the people of Egypt.  And I'm also proud to carry with me the goodwill of the American people, and a greeting of peace from Muslim communities in my country:  Assalaamu alaykum. (Applause.)\n",
            "\n",
            "We meet at a time of great tension between the United States and Muslims around the world -- tension rooted in historical forces that go beyond any current policy debate.  The relationship between Islam and the West includes centuries of coexistence and cooperation, but also conflict and religious wars.  More recently, tension has been fed by colonialism that denied rights and opportunities to many Muslims, and a Cold War in which Muslim-majority countries were too often treated as proxies without regard to their own aspirations.  Moreover, the sweeping change brought by modernity and globalization led many Muslims to view the West as hostile to the traditions of Islam.\n",
            "\n",
            "Violent extremists have exploited these tensions in a small but potent minority of Muslims.  The attacks of September 11, 2001 and the continued efforts of these extremists to engage in violence against civilians has led some in my country to view Islam as inevitably hostile not only to America and Western countries, but also to human rights.  All this has bred more fear and more mistrust.\n",
            "\n",
            "So long as our relationship is defined by our differences, we will empower those who sow hatred rather than peace, those who promote conflict rather than the cooperation that can help all of our people achieve justice and prosperity.  And this cycle of suspicion and discord must end.\n",
            "\n",
            "I've come here to Cairo to seek a new beginning between the United States and Muslims around the world, one based on mutual interest and mutual respect, and one based upon the truth that America and Islam are not exclusive and need not be in competition.  Instead, they overlap, and share common principles -- principles of justice and progress; tolerance and the dignity of all human beings.\n",
            "\n",
            "I do so recognizing that change cannot happen overnight.  I know there's been a lot of publicity about this speech, but no single speech can eradicate years of mistrust, nor can I answer in the time that I have this afternoon all the complex questions that brought us to this point.  But I am convinced that in order to move forward, we must say openly to each other the things we hold in our hearts and that too often are said only behind closed doors.  There must be a sustained effort to listen to each other; to learn from each other; to respect one another; and to seek common ground.  As the Holy Koran tells us, \"Be conscious of God and speak always the truth.\"  (Applause.)  That is what I will try to do today -- to speak the truth as best I can, humbled by the task before us, and firm in my belief that the interests we share as human beings are far more powerful than the forces that drive us apart.\n",
            "\n",
            "Now part of this conviction is rooted in my own experience. I'm a Christian, but my father came from a Kenyan family that includes generations of Muslims.  As a boy, I spent several years in Indonesia and heard the call of the azaan at the break of dawn and at the fall of dusk.  As a young man, I worked in Chicago communities where many found dignity and peace in their Muslim faith.\n",
            "\n",
            "As a student of history, I also know civilization's debt to Islam.  It was Islam -- at places like Al-Azhar -- that carried the light of learning through so many centuries, paving the way for Europe's Renaissance and Enlightenment.  It was innovation in Muslim communities -- (applause) -- it was innovation in Muslim communities that developed the order of algebra; our magnetic compass and tools of navigation; our mastery of pens and printing; our understanding of how disease spreads and how it can be healed.  Islamic culture has given us majestic arches and soaring spires; timeless poetry and cherished music; elegant calligraphy and places of peaceful contemplation.  And throughout history, Islam has demonstrated through words and deeds the possibilities of religious tolerance and racial equality.  (Applause.)\n",
            "\n",
            "I also know that Islam has always been a part of America's story.  The first nation to recognize my country was Morocco.  In signing the Treaty of Tripoli in 1796, our second President, John Adams, wrote, \"The United States has in itself no character of enmity against the laws, religion or tranquility of Muslims.\"  And since our founding, American Muslims have enriched the United States.  They have fought in our wars, they have served in our government, they have stood for civil rights, they have started businesses, they have taught at our universities, they've excelled in our sports arenas, they've won Nobel Prizes, built our tallest building, and lit the Olympic Torch.  And when the first Muslim American was recently elected to Congress, he took the oath to defend our Constitution using the same Holy Koran that one of our Founding Fathers -- Thomas Jefferson -- kept in his personal library.  (Applause.)\n",
            "\n",
            "So I have known Islam on three continents before coming to the region where it was first revealed.  That experience guides my conviction that partnership between America and Islam must be based on what Islam is, not what it isn't.  And I consider it part of my responsibility as President of the United States to fight against negative stereotypes of Islam wherever they appear. (Applause.)\n",
            "\n",
            "But that same principle must apply to Muslim perceptions of America.  (Applause.)  Just as Muslims do not fit a crude stereotype, America is not the crude stereotype of a self-interested empire.  The United States has been one of the greatest sources of progress that the world has ever known.  We were born out of revolution against an empire.  We were founded upon the ideal that all are created equal, and we have shed blood and struggled for centuries to give meaning to those words -- within our borders, and around the world.  We are shaped by every culture, drawn from every end of the Earth, and dedicated to a simple concept:  E pluribus unum -- \"Out of many, one.\"  \n",
            "\n",
            "Now, much has been made of the fact that an African American with the name Barack Hussein Obama could be elected President.  (Applause.)  But my personal story is not so unique.  The dream of opportunity for all people has not come true for everyone in America, but its promise exists for all who come to our shores -- and that includes nearly 7 million American Muslims in our country today who, by the way, enjoy incomes and educational levels that are higher than the American average.  (Applause.)\n",
            "\n",
            "Moreover, freedom in America is indivisible from the freedom to practice one's religion.  That is why there is a mosque in every state in our union, and over 1,200 mosques within our borders.  That's why the United States government has gone to court to protect the right of women and girls to wear the hijab and to punish those who would deny it.  (Applause.)\n",
            "\n",
            "So let there be no doubt:  Islam is a part of America.  And I believe that America holds within her the truth that regardless of race, religion, or station in life, all of us share common aspirations -- to live in peace and security; to get an education and to work with dignity; to love our families, our communities, and our God.  These things we share.  This is the hope of all humanity.\n",
            "\n",
            "Of course, recognizing our common humanity is only the beginning of our task.  Words alone cannot meet the needs of our people.  These needs will be met only if we act boldly in the years ahead; and if we understand that the challenges we face are shared, and our failure to meet them will hurt us all.\n",
            "\n",
            "For we have learned from recent experience that when a financial system weakens in one country, prosperity is hurt everywhere.  When a new flu infects one human being, all are at risk.  When one nation pursues a nuclear weapon, the risk of nuclear attack rises for all nations.  When violent extremists operate in one stretch of mountains, people are endangered across an ocean.  When innocents in Bosnia and Darfur are slaughtered, that is a stain on our collective conscience.  (Applause.)  That is what it means to share this world in the 21st century.  That is the responsibility we have to one another as human beings.\n",
            "\n",
            "And this is a difficult responsibility to embrace.  For human history has often been a record of nations and tribes -- and, yes, religions -- subjugating one another in pursuit of their own interests.  Yet in this new age, such attitudes are self-defeating.  Given our interdependence, any world order that elevates one nation or group of people over another will inevitably fail.  So whatever we think of the past, we must not be prisoners to it.  Our problems must be dealt with through partnership; our progress must be shared.  (Applause.)\n",
            "\n",
            "Now, that does not mean we should ignore sources of tension. Indeed, it suggests the opposite:  We must face these tensions squarely.  And so in that spirit, let me speak as clearly and as plainly as I can about some specific issues that I believe we must finally confront together. \n",
            "\n",
            "The first issue that we have to confront is violent extremism in all of its forms.\n",
            "\n",
            "In Ankara, I made clear that America is not -- and never will be -- at war with Islam.  (Applause.)  We will, however, relentlessly confront violent extremists who pose a grave threat to our security -- because we reject the same thing that people of all faiths reject:  the killing of innocent men, women, and children.  And it is my first duty as President to protect the American people.\n",
            "\n",
            "The situation in Afghanistan demonstrates America's goals, and our need to work together.  Over seven years ago, the United States pursued al Qaeda and the Taliban with broad international support.  We did not go by choice; we went because of necessity. I'm aware that there's still some who would question or even justify the events of 9/11.  But let us be clear:  Al Qaeda killed nearly 3,000 people on that day.  The victims were innocent men, women and children from America and many other nations who had done nothing to harm anybody.  And yet al Qaeda chose to ruthlessly murder these people, claimed credit for the attack, and even now states their determination to kill on a massive scale.  They have affiliates in many countries and are trying to expand their reach.  These are not opinions to be debated; these are facts to be dealt with.\n",
            "\n",
            "Now, make no mistake:  We do not want to keep our troops in Afghanistan.  We see no military -- we seek no military bases there.  It is agonizing for America to lose our young men and women.  It is costly and politically difficult to continue this conflict.  We would gladly bring every single one of our troops home if we could be confident that there were not violent extremists in Afghanistan and now Pakistan determined to kill as many Americans as they possibly can.  But that is not yet the case.\n",
            "\n",
            "And that's why we're partnering with a coalition of 46 countries.  And despite the costs involved, America's commitment will not weaken.  Indeed, none of us should tolerate these extremists.  They have killed in many countries.  They have killed people of different faiths -- but more than any other, they have killed Muslims.  Their actions are irreconcilable with the rights of human beings, the progress of nations, and with Islam.  The Holy Koran teaches that whoever kills an innocent is as -- it is as if he has killed all mankind.  (Applause.)  And the Holy Koran also says whoever saves a person, it is as if he has saved all mankind.  (Applause.)  The enduring faith of over a billion people is so much bigger than the narrow hatred of a few. Islam is not part of the problem in combating violent extremism -- it is an important part of promoting peace. \n",
            "\n",
            "Now, we also know that military power alone is not going to solve the problems in Afghanistan and Pakistan.  That's why we plan to invest $1.5 billion each year over the next five years to partner with Pakistanis to build schools and hospitals, roads and businesses, and hundreds of millions to help those who've been displaced.  That's why we are providing more than $2.8 billion to help Afghans develop their economy and deliver services that people depend on.\n",
            "\n",
            "Let me also address the issue of Iraq.  Unlike Afghanistan, Iraq was a war of choice that provoked strong differences in my country and around the world.  Although I believe that the Iraqi people are ultimately better off without the tyranny of Saddam Hussein, I also believe that events in Iraq have reminded America of the need to use diplomacy and build international consensus to resolve our problems whenever possible.  (Applause.)  Indeed, we can recall the words of Thomas Jefferson, who said:  \"I hope that our wisdom will grow with our power, and teach us that the less we use our power the greater it will be.\"\n",
            "\n",
            "Today, America has a dual responsibility:  to help Iraq forge a better future -- and to leave Iraq to Iraqis.  And I have made it clear to the Iraqi people -- (applause) -- I have made it clear to the Iraqi people that we pursue no bases, and no claim on their territory or resources.  Iraq's sovereignty is its own. And that's why I ordered the removal of our combat brigades by next August.  That is why we will honor our agreement with Iraq's democratically elected government to remove combat troops from Iraqi cities by July, and to remove all of our troops from Iraq by 2012.  (Applause.)  We will help Iraq train its security forces and develop its economy.  But we will support a secure and united Iraq as a partner, and never as a patron.\n",
            "\n",
            "And finally, just as America can never tolerate violence by extremists, we must never alter or forget our principles.  Nine-eleven was an enormous trauma to our country.  The fear and anger that it provoked was understandable, but in some cases, it led us to act contrary to our traditions and our ideals.  We are taking concrete actions to change course.  I have unequivocally prohibited the use of torture by the United States, and I have ordered the prison at Guantanamo Bay closed by early next year.  (Applause.)\n",
            "\n",
            "So America will defend itself, respectful of the sovereignty of nations and the rule of law.  And we will do so in partnership with Muslim communities which are also threatened.  The sooner the extremists are isolated and unwelcome in Muslim communities, the sooner we will all be safer.\n",
            "\n",
            "The second major source of tension that we need to discuss is the situation between Israelis, Palestinians and the Arab world.\n",
            "\n",
            "America's strong bonds with Israel are well known.  This bond is unbreakable.  It is based upon cultural and historical ties, and the recognition that the aspiration for a Jewish homeland is rooted in a tragic history that cannot be denied.\n",
            "\n",
            "Around the world, the Jewish people were persecuted for centuries, and anti-Semitism in Europe culminated in an unprecedented Holocaust.  Tomorrow, I will visit Buchenwald, which was part of a network of camps where Jews were enslaved, tortured, shot and gassed to death by the Third Reich.  Six million Jews were killed -- more than the entire Jewish population of Israel today.  Denying that fact is baseless, it is ignorant, and it is hateful.  Threatening Israel with destruction -- or repeating vile stereotypes about Jews -- is deeply wrong, and only serves to evoke in the minds of Israelis this most painful of memories while preventing the peace that the people of this region deserve.\n",
            "\n",
            "On the other hand, it is also undeniable that the Palestinian people -- Muslims and Christians -- have suffered in pursuit of a homeland.  For more than 60 years they've endured the pain of dislocation.  Many wait in refugee camps in the West Bank, Gaza, and neighboring lands for a life of peace and security that they have never been able to lead.  They endure the daily humiliations -- large and small -- that come with occupation.  So let there be no doubt:  The situation for the Palestinian people is intolerable.  And America will not turn our backs on the legitimate Palestinian aspiration for dignity, opportunity, and a state of their own.  (Applause.)\n",
            "\n",
            "For decades then, there has been a stalemate:  two peoples with legitimate aspirations, each with a painful history that makes compromise elusive.  It's easy to point fingers -- for Palestinians to point to the displacement brought about by Israel's founding, and for Israelis to point to the constant hostility and attacks throughout its history from within its borders as well as beyond.  But if we see this conflict only from one side or the other, then we will be blind to the truth:  The only resolution is for the aspirations of both sides to be met through two states, where Israelis and Palestinians each live in peace and security.  (Applause.)\n",
            "\n",
            "That is in Israel's interest, Palestine's interest, America's interest, and the world's interest.  And that is why I intend to personally pursue this outcome with all the patience and dedication that the task requires.  (Applause.)  The obligations -- the obligations that the parties have agreed to under the road map are clear.  For peace to come, it is time for them -- and all of us -- to live up to our responsibilities.\n",
            "\n",
            "Palestinians must abandon violence.  Resistance through violence and killing is wrong and it does not succeed.  For centuries, black people in America suffered the lash of the whip as slaves and the humiliation of segregation.  But it was not violence that won full and equal rights.  It was a peaceful and determined insistence upon the ideals at the center of America's founding.  This same story can be told by people from South Africa to South Asia; from Eastern Europe to Indonesia.  It's a story with a simple truth:  that violence is a dead end.  It is a sign neither of courage nor power to shoot rockets at sleeping children, or to blow up old women on a bus.  That's not how moral authority is claimed; that's how it is surrendered.\n",
            "\n",
            "Now is the time for Palestinians to focus on what they can build.  The Palestinian Authority must develop its capacity to govern, with institutions that serve the needs of its people. Hamas does have support among some Palestinians, but they also have to recognize they have responsibilities.  To play a role in fulfilling Palestinian aspirations, to unify the Palestinian people, Hamas must put an end to violence, recognize past agreements, recognize Israel's right to exist.\n",
            "\n",
            "At the same time, Israelis must acknowledge that just as Israel's right to exist cannot be denied, neither can Palestine's.  The United States does not accept the legitimacy of continued Israeli settlements.  (Applause.)  This construction violates previous agreements and undermines efforts to achieve peace.  It is time for these settlements to stop.  (Applause.)\n",
            "\n",
            "And Israel must also live up to its obligation to ensure that Palestinians can live and work and develop their society.  Just as it devastates Palestinian families, the continuing humanitarian crisis in Gaza does not serve Israel's security; neither does the continuing lack of opportunity in the West Bank. Progress in the daily lives of the Palestinian people must be a critical part of a road to peace, and Israel must take concrete steps to enable such progress. \n",
            "\n",
            "And finally, the Arab states must recognize that the Arab Peace Initiative was an important beginning, but not the end of their responsibilities.  The Arab-Israeli conflict should no longer be used to distract the people of Arab nations from other problems.  Instead, it must be a cause for action to help the Palestinian people develop the institutions that will sustain their state, to recognize Israel's legitimacy, and to choose progress over a self-defeating focus on the past.\n",
            "\n",
            "America will align our policies with those who pursue peace, and we will say in public what we say in private to Israelis and Palestinians and Arabs.  (Applause.)  We cannot impose peace.  But privately, many Muslims recognize that Israel will not go away.  Likewise, many Israelis recognize the need for a Palestinian state.  It is time for us to act on what everyone knows to be true.\n",
            "\n",
            "Too many tears have been shed.  Too much blood has been shed.  All of us have a responsibility to work for the day when the mothers of Israelis and Palestinians can see their children grow up without fear; when the Holy Land of the three great faiths is the place of peace that God intended it to be; when Jerusalem is a secure and lasting home for Jews and Christians and Muslims, and a place for all of the children of Abraham to mingle peacefully together as in the story of Isra -- (applause) -- as in the story of Isra, when Moses, Jesus, and Mohammed, peace be upon them, joined in prayer.  (Applause.)\n",
            "\n",
            "The third source of tension is our shared interest in the rights and responsibilities of nations on nuclear weapons.\n",
            "\n",
            "This issue has been a source of tension between the United States and the Islamic Republic of Iran.  For many years, Iran has defined itself in part by its opposition to my country, and there is in fact a tumultuous history between us.  In the middle of the Cold War, the United States played a role in the overthrow of a democratically elected Iranian government.  Since the Islamic Revolution, Iran has played a role in acts of hostage-taking and violence against U.S. troops and civilians.  This history is well known.  Rather than remain trapped in the past, I've made it clear to Iran's leaders and people that my country is prepared to move forward.  The question now is not what Iran is against, but rather what future it wants to build.\n",
            "\n",
            "I recognize it will be hard to overcome decades of mistrust, but we will proceed with courage, rectitude, and resolve.  There will be many issues to discuss between our two countries, and we are willing to move forward without preconditions on the basis of mutual respect.  But it is clear to all concerned that when it comes to nuclear weapons, we have reached a decisive point.  This is not simply about America's interests.  It's about preventing a nuclear arms race in the Middle East that could lead this region and the world down a hugely dangerous path.\n",
            "\n",
            "I understand those who protest that some countries have weapons that others do not.  No single nation should pick and choose which nation holds nuclear weapons.  And that's why I strongly reaffirmed America's commitment to seek a world in which no nations hold nuclear weapons.  (Applause.)  And any nation -- including Iran -- should have the right to access peaceful nuclear power if it complies with its responsibilities under the nuclear Non-Proliferation Treaty.  That commitment is at the core of the treaty, and it must be kept for all who fully abide by it. And I'm hopeful that all countries in the region can share in this goal.\n",
            "\n",
            "The fourth issue that I will address is democracy.  (Applause.)\n",
            "\n",
            "I know -- I know there has been controversy about the promotion of democracy in recent years, and much of this controversy is connected to the war in Iraq.  So let me be clear: No system of government can or should be imposed by one nation by any other.\n",
            "\n",
            " \n",
            "\n",
            "That does not lessen my commitment, however, to governments that reflect the will of the people.  Each nation gives life to this principle in its own way, grounded in the traditions of its own people.  America does not presume to know what is best for everyone, just as we would not presume to pick the outcome of a peaceful election.  But I do have an unyielding belief that all people yearn for certain things:  the ability to speak your mind and have a say in how you are governed; confidence in the rule of law and the equal administration of justice; government that is transparent and doesn't steal from the people; the freedom to live as you choose.  These are not just American ideas; they are human rights.  And that is why we will support them everywhere.  (Applause.)\n",
            "\n",
            "Now, there is no straight line to realize this promise.  But this much is clear:  Governments that protect these rights are ultimately more stable, successful and secure.  Suppressing ideas never succeeds in making them go away.  America respects the right of all peaceful and law-abiding voices to be heard around the world, even if we disagree with them.  And we will welcome all elected, peaceful governments -- provided they govern with respect for all their people.\n",
            "\n",
            "This last point is important because there are some who advocate for democracy only when they're out of power; once in power, they are ruthless in suppressing the rights of others.  (Applause.)  So no matter where it takes hold, government of the people and by the people sets a single standard for all who would hold power:  You must maintain your power through consent, not coercion; you must respect the rights of minorities, and participate with a spirit of tolerance and compromise; you must place the interests of your people and the legitimate workings of the political process above your party.  Without these ingredients, elections alone do not make true democracy.\n",
            "\n",
            "AUDIENCE MEMBER:  Barack Obama, we love you!\n",
            "\n",
            "PRESIDENT OBAMA:  Thank you.  (Applause.)  The fifth issue that we must address together is religious freedom.\n",
            "\n",
            "Islam has a proud tradition of tolerance.  We see it in the history of Andalusia and Cordoba during the Inquisition.  I saw it firsthand as a child in Indonesia, where devout Christians worshiped freely in an overwhelmingly Muslim country.  That is the spirit we need today.  People in every country should be free to choose and live their faith based upon the persuasion of the mind and the heart and the soul.  This tolerance is essential for religion to thrive, but it's being challenged in many different ways.\n",
            "\n",
            "Among some Muslims, there's a disturbing tendency to measure one's own faith by the rejection of somebody else's faith.  The richness of religious diversity must be upheld -- whether it is for Maronites in Lebanon or the Copts in Egypt.  (Applause.)  And if we are being honest, fault lines must be closed among Muslims, as well, as the divisions between Sunni and Shia have led to tragic violence, particularly in Iraq.\n",
            "\n",
            "Freedom of religion is central to the ability of peoples to live together.  We must always examine the ways in which we protect it.  For instance, in the United States, rules on charitable giving have made it harder for Muslims to fulfill their religious obligation.  That's why I'm committed to working with American Muslims to ensure that they can fulfill zakat. \n",
            "\n",
            "Likewise, it is important for Western countries to avoid impeding Muslim citizens from practicing religion as they see fit -- for instance, by dictating what clothes a Muslim woman should wear.  We can't disguise hostility towards any religion behind the pretence of liberalism.\n",
            "\n",
            " \n",
            "\n",
            "In fact, faith should bring us together.  And that's why we're forging service projects in America to bring together Christians, Muslims, and Jews.  That's why we welcome efforts like Saudi Arabian King Abdullah's interfaith dialogue and Turkey's leadership in the Alliance of Civilizations.  Around the world, we can turn dialogue into interfaith service, so bridges between peoples lead to action -- whether it is combating malaria in Africa, or providing relief after a natural disaster. \n",
            "\n",
            "The sixth issue -- the sixth issue that I want to address is women's rights.  (Applause.)  I know –- I know -- and you can tell from this audience, that there is a healthy debate about this issue.  I reject the view of some in the West that a woman who chooses to cover her hair is somehow less equal, but I do believe that a woman who is denied an education is denied equality.  (Applause.)  And it is no coincidence that countries where women are well educated are far more likely to be prosperous.\n",
            "\n",
            "Now, let me be clear:  Issues of women's equality are by no means simply an issue for Islam.  In Turkey, Pakistan, Bangladesh, Indonesia, we've seen Muslim-majority countries elect a woman to lead.  Meanwhile, the struggle for women's equality continues in many aspects of American life, and in countries around the world.\n",
            "\n",
            "I am convinced that our daughters can contribute just as much to society as our sons.  (Applause.)  Our common prosperity will be advanced by allowing all humanity -- men and women -- to reach their full potential.  I do not believe that women must make the same choices as men in order to be equal, and I respect those women who choose to live their lives in traditional roles. But it should be their choice.  And that is why the United States will partner with any Muslim-majority country to support expanded literacy for girls, and to help young women pursue employment through micro-financing that helps people live their dreams.  (Applause.)\n",
            "\n",
            "Finally, I want to discuss economic development and opportunity.\n",
            "\n",
            "I know that for many, the face of globalization is contradictory.  The Internet and television can bring knowledge and information, but also offensive sexuality and mindless violence into the home.  Trade can bring new wealth and opportunities, but also huge disruptions and change in communities.  In all nations -- including America -- this change can bring fear.  Fear that because of modernity we lose control over our economic choices, our politics, and most importantly our identities -- those things we most cherish about our communities, our families, our traditions, and our faith. \n",
            "\n",
            "But I also know that human progress cannot be denied.  There need not be contradictions between development and tradition. Countries like Japan and South Korea grew their economies enormously while maintaining distinct cultures.  The same is true for the astonishing progress within Muslim-majority countries from Kuala Lumpur to Dubai.  In ancient times and in our times, Muslim communities have been at the forefront of innovation and education.\n",
            "\n",
            "\n",
            "\n",
            "And this is important because no development strategy can be based only upon what comes out of the ground, nor can it be sustained while young people are out of work.  Many Gulf states have enjoyed great wealth as a consequence of oil, and some are beginning to focus it on broader development.  But all of us must recognize that education and innovation will be the currency of the 21st century -- (applause) -- and in too many Muslim communities, there remains underinvestment in these areas.  I'm emphasizing such investment within my own country.  And while America in the past has focused on oil and gas when it comes to this part of the world, we now seek a broader engagement.\n",
            "\n",
            "On education, we will expand exchange programs, and increase scholarships, like the one that brought my father to America.  (Applause.)  At the same time, we will encourage more Americans to study in Muslim communities.  And we will match promising Muslim students with internships in America; invest in online learning for teachers and children around the world; and create a new online network, so a young person in Kansas can communicate instantly with a young person in Cairo.\n",
            "\n",
            "On economic development, we will create a new corps of business volunteers to partner with counterparts in Muslim-majority countries.  And I will host a Summit on Entrepreneurship this year to identify how we can deepen ties between business leaders, foundations and social entrepreneurs in the United States and Muslim communities around the world.\n",
            "\n",
            "On science and technology, we will launch a new fund to support technological development in Muslim-majority countries, and to help transfer ideas to the marketplace so they can create more jobs.  We'll open centers of scientific excellence in Africa, the Middle East and Southeast Asia, and appoint new science envoys to collaborate on programs that develop new sources of energy, create green jobs, digitize records, clean water, grow new crops.  Today I'm announcing a new global effort with the Organization of the Islamic Conference to eradicate polio.  And we will also expand partnerships with Muslim communities to promote child and maternal health.\n",
            "\n",
            "All these things must be done in partnership.  Americans are ready to join with citizens and governments; community organizations, religious leaders, and businesses in Muslim communities around the world to help our people pursue a better life.\n",
            "\n",
            "The issues that I have described will not be easy to address.  But we have a responsibility to join together on behalf of the world that we seek -- a world where extremists no longer threaten our people, and American troops have come home; a world where Israelis and Palestinians are each secure in a state of their own, and nuclear energy is used for peaceful purposes; a world where governments serve their citizens, and the rights of all God's children are respected.  Those are mutual interests.  That is the world we seek.  But we can only achieve it together.\n",
            "\n",
            "I know there are many -- Muslim and non-Muslim -- who question whether we can forge this new beginning.  Some are eager to stoke the flames of division, and to stand in the way of progress.  Some suggest that it isn't worth the effort -- that we are fated to disagree, and civilizations are doomed to clash. Many more are simply skeptical that real change can occur.  There's so much fear, so much mistrust that has built up over the years.  But if we choose to be bound by the past, we will never move forward.  And I want to particularly say this to young people of every faith, in every country -- you, more than anyone, have the ability to reimagine the world, to remake this world.\n",
            "\n",
            "All of us share this world for but a brief moment in time. The question is whether we spend that time focused on what pushes us apart, or whether we commit ourselves to an effort -- a sustained effort -- to find common ground, to focus on the future we seek for our children, and to respect the dignity of all human beings.\n",
            "\n",
            "It's easier to start wars than to end them.  It's easier to blame others than to look inward.  It's easier to see what is different about someone than to find the things we share.  But we should choose the right path, not just the easy path.  There's one rule that lies at the heart of every religion -- that we do unto others as we would have them do unto us.  (Applause.)  This truth transcends nations and peoples -- a belief that isn't new; that isn't black or white or brown; that isn't Christian or Muslim or Jew.  It's a belief that pulsed in the cradle of civilization, and that still beats in the hearts of billions around the world.  It's a faith in other people, and it's what brought me here today.\n",
            "\n",
            "We have the power to make the world we seek, but only if we have the courage to make a new beginning, keeping in mind what has been written.\n",
            "\n",
            "The Holy Koran tells us:  \"O mankind!  We have created you male and a female; and we have made you into nations and tribes so that you may know one another.\"\n",
            "\n",
            "The Talmud tells us:  \"The whole of the Torah is for the purpose of promoting peace.\"\n",
            "\n",
            "The Holy Bible tells us:  \"Blessed are the peacemakers, for they shall be called sons of God.\"  (Applause.)\n",
            "\n",
            "The people of the world can live together in peace.  We know that is God's vision.  Now that must be our work here on Earth.\n",
            "\n",
            "Thank you.  And may God's peace be upon you.  Thank you very much.  Thank you.  (Applause.)\n",
            "\n",
            "END        \n",
            "\n",
            "2:05 P.M. (Local)\n"
          ]
        }
      ]
    },
    {
      "cell_type": "code",
      "metadata": {
        "id": "N4cefOsHwlXl",
        "colab": {
          "base_uri": "https://localhost:8080/"
        },
        "outputId": "cd385228-d3b6-442f-d424-700470eb831c"
      },
      "source": [
        "lines"
      ],
      "execution_count": null,
      "outputs": [
        {
          "output_type": "execute_result",
          "data": {
            "text/plain": [
              "[\"PRESIDENT OBAMA:  Thank you very much.  Good afternoon.  I am honored to be in the timeless city of Cairo, and to be hosted by two remarkable institutions.  For over a thousand years, Al-Azhar has stood as a beacon of Islamic learning; and for over a century, Cairo University has been a source of Egypt's advancement.  And together, you represent the harmony between tradition and progress.  I'm grateful for your hospitality, and the hospitality of the people of Egypt.  And I'm also proud to carry with me the goodwill of the American people, and a greeting of peace from Muslim communities in my country:  Assalaamu alaykum. (Applause.)\\n\",\n",
              " 'We meet at a time of great tension between the United States and Muslims around the world -- tension rooted in historical forces that go beyond any current policy debate.  The relationship between Islam and the West includes centuries of coexistence and cooperation, but also conflict and religious wars.  More recently, tension has been fed by colonialism that denied rights and opportunities to many Muslims, and a Cold War in which Muslim-majority countries were too often treated as proxies without regard to their own aspirations.  Moreover, the sweeping change brought by modernity and globalization led many Muslims to view the West as hostile to the traditions of Islam.\\n',\n",
              " 'Violent extremists have exploited these tensions in a small but potent minority of Muslims.  The attacks of September 11, 2001 and the continued efforts of these extremists to engage in violence against civilians has led some in my country to view Islam as inevitably hostile not only to America and Western countries, but also to human rights.  All this has bred more fear and more mistrust.\\n',\n",
              " 'So long as our relationship is defined by our differences, we will empower those who sow hatred rather than peace, those who promote conflict rather than the cooperation that can help all of our people achieve justice and prosperity.  And this cycle of suspicion and discord must end.\\n',\n",
              " \"I've come here to Cairo to seek a new beginning between the United States and Muslims around the world, one based on mutual interest and mutual respect, and one based upon the truth that America and Islam are not exclusive and need not be in competition.  Instead, they overlap, and share common principles -- principles of justice and progress; tolerance and the dignity of all human beings.\\n\",\n",
              " 'I do so recognizing that change cannot happen overnight.  I know there\\'s been a lot of publicity about this speech, but no single speech can eradicate years of mistrust, nor can I answer in the time that I have this afternoon all the complex questions that brought us to this point.  But I am convinced that in order to move forward, we must say openly to each other the things we hold in our hearts and that too often are said only behind closed doors.  There must be a sustained effort to listen to each other; to learn from each other; to respect one another; and to seek common ground.  As the Holy Koran tells us, \"Be conscious of God and speak always the truth.\"  (Applause.)  That is what I will try to do today -- to speak the truth as best I can, humbled by the task before us, and firm in my belief that the interests we share as human beings are far more powerful than the forces that drive us apart.\\n',\n",
              " \"Now part of this conviction is rooted in my own experience. I'm a Christian, but my father came from a Kenyan family that includes generations of Muslims.  As a boy, I spent several years in Indonesia and heard the call of the azaan at the break of dawn and at the fall of dusk.  As a young man, I worked in Chicago communities where many found dignity and peace in their Muslim faith.\\n\",\n",
              " \"As a student of history, I also know civilization's debt to Islam.  It was Islam -- at places like Al-Azhar -- that carried the light of learning through so many centuries, paving the way for Europe's Renaissance and Enlightenment.  It was innovation in Muslim communities -- (applause) -- it was innovation in Muslim communities that developed the order of algebra; our magnetic compass and tools of navigation; our mastery of pens and printing; our understanding of how disease spreads and how it can be healed.  Islamic culture has given us majestic arches and soaring spires; timeless poetry and cherished music; elegant calligraphy and places of peaceful contemplation.  And throughout history, Islam has demonstrated through words and deeds the possibilities of religious tolerance and racial equality.  (Applause.)\\n\",\n",
              " 'I also know that Islam has always been a part of America\\'s story.  The first nation to recognize my country was Morocco.  In signing the Treaty of Tripoli in 1796, our second President, John Adams, wrote, \"The United States has in itself no character of enmity against the laws, religion or tranquility of Muslims.\"  And since our founding, American Muslims have enriched the United States.  They have fought in our wars, they have served in our government, they have stood for civil rights, they have started businesses, they have taught at our universities, they\\'ve excelled in our sports arenas, they\\'ve won Nobel Prizes, built our tallest building, and lit the Olympic Torch.  And when the first Muslim American was recently elected to Congress, he took the oath to defend our Constitution using the same Holy Koran that one of our Founding Fathers -- Thomas Jefferson -- kept in his personal library.  (Applause.)\\n',\n",
              " \"So I have known Islam on three continents before coming to the region where it was first revealed.  That experience guides my conviction that partnership between America and Islam must be based on what Islam is, not what it isn't.  And I consider it part of my responsibility as President of the United States to fight against negative stereotypes of Islam wherever they appear. (Applause.)\\n\",\n",
              " 'But that same principle must apply to Muslim perceptions of America.  (Applause.)  Just as Muslims do not fit a crude stereotype, America is not the crude stereotype of a self-interested empire.  The United States has been one of the greatest sources of progress that the world has ever known.  We were born out of revolution against an empire.  We were founded upon the ideal that all are created equal, and we have shed blood and struggled for centuries to give meaning to those words -- within our borders, and around the world.  We are shaped by every culture, drawn from every end of the Earth, and dedicated to a simple concept:  E pluribus unum -- \"Out of many, one.\"  \\n',\n",
              " 'Now, much has been made of the fact that an African American with the name Barack Hussein Obama could be elected President.  (Applause.)  But my personal story is not so unique.  The dream of opportunity for all people has not come true for everyone in America, but its promise exists for all who come to our shores -- and that includes nearly 7 million American Muslims in our country today who, by the way, enjoy incomes and educational levels that are higher than the American average.  (Applause.)\\n',\n",
              " \"Moreover, freedom in America is indivisible from the freedom to practice one's religion.  That is why there is a mosque in every state in our union, and over 1,200 mosques within our borders.  That's why the United States government has gone to court to protect the right of women and girls to wear the hijab and to punish those who would deny it.  (Applause.)\\n\",\n",
              " 'So let there be no doubt:  Islam is a part of America.  And I believe that America holds within her the truth that regardless of race, religion, or station in life, all of us share common aspirations -- to live in peace and security; to get an education and to work with dignity; to love our families, our communities, and our God.  These things we share.  This is the hope of all humanity.\\n',\n",
              " 'Of course, recognizing our common humanity is only the beginning of our task.  Words alone cannot meet the needs of our people.  These needs will be met only if we act boldly in the years ahead; and if we understand that the challenges we face are shared, and our failure to meet them will hurt us all.\\n',\n",
              " 'For we have learned from recent experience that when a financial system weakens in one country, prosperity is hurt everywhere.  When a new flu infects one human being, all are at risk.  When one nation pursues a nuclear weapon, the risk of nuclear attack rises for all nations.  When violent extremists operate in one stretch of mountains, people are endangered across an ocean.  When innocents in Bosnia and Darfur are slaughtered, that is a stain on our collective conscience.  (Applause.)  That is what it means to share this world in the 21st century.  That is the responsibility we have to one another as human beings.\\n',\n",
              " 'And this is a difficult responsibility to embrace.  For human history has often been a record of nations and tribes -- and, yes, religions -- subjugating one another in pursuit of their own interests.  Yet in this new age, such attitudes are self-defeating.  Given our interdependence, any world order that elevates one nation or group of people over another will inevitably fail.  So whatever we think of the past, we must not be prisoners to it.  Our problems must be dealt with through partnership; our progress must be shared.  (Applause.)\\n',\n",
              " 'Now, that does not mean we should ignore sources of tension. Indeed, it suggests the opposite:  We must face these tensions squarely.  And so in that spirit, let me speak as clearly and as plainly as I can about some specific issues that I believe we must finally confront together. \\n',\n",
              " 'The first issue that we have to confront is violent extremism in all of its forms.\\n',\n",
              " 'In Ankara, I made clear that America is not -- and never will be -- at war with Islam.  (Applause.)  We will, however, relentlessly confront violent extremists who pose a grave threat to our security -- because we reject the same thing that people of all faiths reject:  the killing of innocent men, women, and children.  And it is my first duty as President to protect the American people.\\n',\n",
              " \"The situation in Afghanistan demonstrates America's goals, and our need to work together.  Over seven years ago, the United States pursued al Qaeda and the Taliban with broad international support.  We did not go by choice; we went because of necessity. I'm aware that there's still some who would question or even justify the events of 9/11.  But let us be clear:  Al Qaeda killed nearly 3,000 people on that day.  The victims were innocent men, women and children from America and many other nations who had done nothing to harm anybody.  And yet al Qaeda chose to ruthlessly murder these people, claimed credit for the attack, and even now states their determination to kill on a massive scale.  They have affiliates in many countries and are trying to expand their reach.  These are not opinions to be debated; these are facts to be dealt with.\\n\",\n",
              " 'Now, make no mistake:  We do not want to keep our troops in Afghanistan.  We see no military -- we seek no military bases there.  It is agonizing for America to lose our young men and women.  It is costly and politically difficult to continue this conflict.  We would gladly bring every single one of our troops home if we could be confident that there were not violent extremists in Afghanistan and now Pakistan determined to kill as many Americans as they possibly can.  But that is not yet the case.\\n',\n",
              " \"And that's why we're partnering with a coalition of 46 countries.  And despite the costs involved, America's commitment will not weaken.  Indeed, none of us should tolerate these extremists.  They have killed in many countries.  They have killed people of different faiths -- but more than any other, they have killed Muslims.  Their actions are irreconcilable with the rights of human beings, the progress of nations, and with Islam.  The Holy Koran teaches that whoever kills an innocent is as -- it is as if he has killed all mankind.  (Applause.)  And the Holy Koran also says whoever saves a person, it is as if he has saved all mankind.  (Applause.)  The enduring faith of over a billion people is so much bigger than the narrow hatred of a few. Islam is not part of the problem in combating violent extremism -- it is an important part of promoting peace. \\n\",\n",
              " \"Now, we also know that military power alone is not going to solve the problems in Afghanistan and Pakistan.  That's why we plan to invest $1.5 billion each year over the next five years to partner with Pakistanis to build schools and hospitals, roads and businesses, and hundreds of millions to help those who've been displaced.  That's why we are providing more than $2.8 billion to help Afghans develop their economy and deliver services that people depend on.\\n\",\n",
              " 'Let me also address the issue of Iraq.  Unlike Afghanistan, Iraq was a war of choice that provoked strong differences in my country and around the world.  Although I believe that the Iraqi people are ultimately better off without the tyranny of Saddam Hussein, I also believe that events in Iraq have reminded America of the need to use diplomacy and build international consensus to resolve our problems whenever possible.  (Applause.)  Indeed, we can recall the words of Thomas Jefferson, who said:  \"I hope that our wisdom will grow with our power, and teach us that the less we use our power the greater it will be.\"\\n',\n",
              " \"Today, America has a dual responsibility:  to help Iraq forge a better future -- and to leave Iraq to Iraqis.  And I have made it clear to the Iraqi people -- (applause) -- I have made it clear to the Iraqi people that we pursue no bases, and no claim on their territory or resources.  Iraq's sovereignty is its own. And that's why I ordered the removal of our combat brigades by next August.  That is why we will honor our agreement with Iraq's democratically elected government to remove combat troops from Iraqi cities by July, and to remove all of our troops from Iraq by 2012.  (Applause.)  We will help Iraq train its security forces and develop its economy.  But we will support a secure and united Iraq as a partner, and never as a patron.\\n\",\n",
              " 'And finally, just as America can never tolerate violence by extremists, we must never alter or forget our principles.  Nine-eleven was an enormous trauma to our country.  The fear and anger that it provoked was understandable, but in some cases, it led us to act contrary to our traditions and our ideals.  We are taking concrete actions to change course.  I have unequivocally prohibited the use of torture by the United States, and I have ordered the prison at Guantanamo Bay closed by early next year.  (Applause.)\\n',\n",
              " 'So America will defend itself, respectful of the sovereignty of nations and the rule of law.  And we will do so in partnership with Muslim communities which are also threatened.  The sooner the extremists are isolated and unwelcome in Muslim communities, the sooner we will all be safer.\\n',\n",
              " 'The second major source of tension that we need to discuss is the situation between Israelis, Palestinians and the Arab world.\\n',\n",
              " \"America's strong bonds with Israel are well known.  This bond is unbreakable.  It is based upon cultural and historical ties, and the recognition that the aspiration for a Jewish homeland is rooted in a tragic history that cannot be denied.\\n\",\n",
              " 'Around the world, the Jewish people were persecuted for centuries, and anti-Semitism in Europe culminated in an unprecedented Holocaust.  Tomorrow, I will visit Buchenwald, which was part of a network of camps where Jews were enslaved, tortured, shot and gassed to death by the Third Reich.  Six million Jews were killed -- more than the entire Jewish population of Israel today.  Denying that fact is baseless, it is ignorant, and it is hateful.  Threatening Israel with destruction -- or repeating vile stereotypes about Jews -- is deeply wrong, and only serves to evoke in the minds of Israelis this most painful of memories while preventing the peace that the people of this region deserve.\\n',\n",
              " \"On the other hand, it is also undeniable that the Palestinian people -- Muslims and Christians -- have suffered in pursuit of a homeland.  For more than 60 years they've endured the pain of dislocation.  Many wait in refugee camps in the West Bank, Gaza, and neighboring lands for a life of peace and security that they have never been able to lead.  They endure the daily humiliations -- large and small -- that come with occupation.  So let there be no doubt:  The situation for the Palestinian people is intolerable.  And America will not turn our backs on the legitimate Palestinian aspiration for dignity, opportunity, and a state of their own.  (Applause.)\\n\",\n",
              " \"For decades then, there has been a stalemate:  two peoples with legitimate aspirations, each with a painful history that makes compromise elusive.  It's easy to point fingers -- for Palestinians to point to the displacement brought about by Israel's founding, and for Israelis to point to the constant hostility and attacks throughout its history from within its borders as well as beyond.  But if we see this conflict only from one side or the other, then we will be blind to the truth:  The only resolution is for the aspirations of both sides to be met through two states, where Israelis and Palestinians each live in peace and security.  (Applause.)\\n\",\n",
              " \"That is in Israel's interest, Palestine's interest, America's interest, and the world's interest.  And that is why I intend to personally pursue this outcome with all the patience and dedication that the task requires.  (Applause.)  The obligations -- the obligations that the parties have agreed to under the road map are clear.  For peace to come, it is time for them -- and all of us -- to live up to our responsibilities.\\n\",\n",
              " \"Palestinians must abandon violence.  Resistance through violence and killing is wrong and it does not succeed.  For centuries, black people in America suffered the lash of the whip as slaves and the humiliation of segregation.  But it was not violence that won full and equal rights.  It was a peaceful and determined insistence upon the ideals at the center of America's founding.  This same story can be told by people from South Africa to South Asia; from Eastern Europe to Indonesia.  It's a story with a simple truth:  that violence is a dead end.  It is a sign neither of courage nor power to shoot rockets at sleeping children, or to blow up old women on a bus.  That's not how moral authority is claimed; that's how it is surrendered.\\n\",\n",
              " \"Now is the time for Palestinians to focus on what they can build.  The Palestinian Authority must develop its capacity to govern, with institutions that serve the needs of its people. Hamas does have support among some Palestinians, but they also have to recognize they have responsibilities.  To play a role in fulfilling Palestinian aspirations, to unify the Palestinian people, Hamas must put an end to violence, recognize past agreements, recognize Israel's right to exist.\\n\",\n",
              " \"At the same time, Israelis must acknowledge that just as Israel's right to exist cannot be denied, neither can Palestine's.  The United States does not accept the legitimacy of continued Israeli settlements.  (Applause.)  This construction violates previous agreements and undermines efforts to achieve peace.  It is time for these settlements to stop.  (Applause.)\\n\",\n",
              " \"And Israel must also live up to its obligation to ensure that Palestinians can live and work and develop their society.  Just as it devastates Palestinian families, the continuing humanitarian crisis in Gaza does not serve Israel's security; neither does the continuing lack of opportunity in the West Bank. Progress in the daily lives of the Palestinian people must be a critical part of a road to peace, and Israel must take concrete steps to enable such progress. \\n\",\n",
              " \"And finally, the Arab states must recognize that the Arab Peace Initiative was an important beginning, but not the end of their responsibilities.  The Arab-Israeli conflict should no longer be used to distract the people of Arab nations from other problems.  Instead, it must be a cause for action to help the Palestinian people develop the institutions that will sustain their state, to recognize Israel's legitimacy, and to choose progress over a self-defeating focus on the past.\\n\",\n",
              " 'America will align our policies with those who pursue peace, and we will say in public what we say in private to Israelis and Palestinians and Arabs.  (Applause.)  We cannot impose peace.  But privately, many Muslims recognize that Israel will not go away.  Likewise, many Israelis recognize the need for a Palestinian state.  It is time for us to act on what everyone knows to be true.\\n',\n",
              " 'Too many tears have been shed.  Too much blood has been shed.  All of us have a responsibility to work for the day when the mothers of Israelis and Palestinians can see their children grow up without fear; when the Holy Land of the three great faiths is the place of peace that God intended it to be; when Jerusalem is a secure and lasting home for Jews and Christians and Muslims, and a place for all of the children of Abraham to mingle peacefully together as in the story of Isra -- (applause) -- as in the story of Isra, when Moses, Jesus, and Mohammed, peace be upon them, joined in prayer.  (Applause.)\\n',\n",
              " 'The third source of tension is our shared interest in the rights and responsibilities of nations on nuclear weapons.\\n',\n",
              " \"This issue has been a source of tension between the United States and the Islamic Republic of Iran.  For many years, Iran has defined itself in part by its opposition to my country, and there is in fact a tumultuous history between us.  In the middle of the Cold War, the United States played a role in the overthrow of a democratically elected Iranian government.  Since the Islamic Revolution, Iran has played a role in acts of hostage-taking and violence against U.S. troops and civilians.  This history is well known.  Rather than remain trapped in the past, I've made it clear to Iran's leaders and people that my country is prepared to move forward.  The question now is not what Iran is against, but rather what future it wants to build.\\n\",\n",
              " \"I recognize it will be hard to overcome decades of mistrust, but we will proceed with courage, rectitude, and resolve.  There will be many issues to discuss between our two countries, and we are willing to move forward without preconditions on the basis of mutual respect.  But it is clear to all concerned that when it comes to nuclear weapons, we have reached a decisive point.  This is not simply about America's interests.  It's about preventing a nuclear arms race in the Middle East that could lead this region and the world down a hugely dangerous path.\\n\",\n",
              " \"I understand those who protest that some countries have weapons that others do not.  No single nation should pick and choose which nation holds nuclear weapons.  And that's why I strongly reaffirmed America's commitment to seek a world in which no nations hold nuclear weapons.  (Applause.)  And any nation -- including Iran -- should have the right to access peaceful nuclear power if it complies with its responsibilities under the nuclear Non-Proliferation Treaty.  That commitment is at the core of the treaty, and it must be kept for all who fully abide by it. And I'm hopeful that all countries in the region can share in this goal.\\n\",\n",
              " 'The fourth issue that I will address is democracy.  (Applause.)\\n',\n",
              " 'I know -- I know there has been controversy about the promotion of democracy in recent years, and much of this controversy is connected to the war in Iraq.  So let me be clear: No system of government can or should be imposed by one nation by any other.\\n',\n",
              " ' \\n',\n",
              " \"That does not lessen my commitment, however, to governments that reflect the will of the people.  Each nation gives life to this principle in its own way, grounded in the traditions of its own people.  America does not presume to know what is best for everyone, just as we would not presume to pick the outcome of a peaceful election.  But I do have an unyielding belief that all people yearn for certain things:  the ability to speak your mind and have a say in how you are governed; confidence in the rule of law and the equal administration of justice; government that is transparent and doesn't steal from the people; the freedom to live as you choose.  These are not just American ideas; they are human rights.  And that is why we will support them everywhere.  (Applause.)\\n\",\n",
              " 'Now, there is no straight line to realize this promise.  But this much is clear:  Governments that protect these rights are ultimately more stable, successful and secure.  Suppressing ideas never succeeds in making them go away.  America respects the right of all peaceful and law-abiding voices to be heard around the world, even if we disagree with them.  And we will welcome all elected, peaceful governments -- provided they govern with respect for all their people.\\n',\n",
              " \"This last point is important because there are some who advocate for democracy only when they're out of power; once in power, they are ruthless in suppressing the rights of others.  (Applause.)  So no matter where it takes hold, government of the people and by the people sets a single standard for all who would hold power:  You must maintain your power through consent, not coercion; you must respect the rights of minorities, and participate with a spirit of tolerance and compromise; you must place the interests of your people and the legitimate workings of the political process above your party.  Without these ingredients, elections alone do not make true democracy.\\n\",\n",
              " 'AUDIENCE MEMBER:  Barack Obama, we love you!\\n',\n",
              " 'PRESIDENT OBAMA:  Thank you.  (Applause.)  The fifth issue that we must address together is religious freedom.\\n',\n",
              " \"Islam has a proud tradition of tolerance.  We see it in the history of Andalusia and Cordoba during the Inquisition.  I saw it firsthand as a child in Indonesia, where devout Christians worshiped freely in an overwhelmingly Muslim country.  That is the spirit we need today.  People in every country should be free to choose and live their faith based upon the persuasion of the mind and the heart and the soul.  This tolerance is essential for religion to thrive, but it's being challenged in many different ways.\\n\",\n",
              " \"Among some Muslims, there's a disturbing tendency to measure one's own faith by the rejection of somebody else's faith.  The richness of religious diversity must be upheld -- whether it is for Maronites in Lebanon or the Copts in Egypt.  (Applause.)  And if we are being honest, fault lines must be closed among Muslims, as well, as the divisions between Sunni and Shia have led to tragic violence, particularly in Iraq.\\n\",\n",
              " \"Freedom of religion is central to the ability of peoples to live together.  We must always examine the ways in which we protect it.  For instance, in the United States, rules on charitable giving have made it harder for Muslims to fulfill their religious obligation.  That's why I'm committed to working with American Muslims to ensure that they can fulfill zakat. \\n\",\n",
              " \"Likewise, it is important for Western countries to avoid impeding Muslim citizens from practicing religion as they see fit -- for instance, by dictating what clothes a Muslim woman should wear.  We can't disguise hostility towards any religion behind the pretence of liberalism.\\n\",\n",
              " ' \\n',\n",
              " \"In fact, faith should bring us together.  And that's why we're forging service projects in America to bring together Christians, Muslims, and Jews.  That's why we welcome efforts like Saudi Arabian King Abdullah's interfaith dialogue and Turkey's leadership in the Alliance of Civilizations.  Around the world, we can turn dialogue into interfaith service, so bridges between peoples lead to action -- whether it is combating malaria in Africa, or providing relief after a natural disaster. \\n\",\n",
              " \"The sixth issue -- the sixth issue that I want to address is women's rights.  (Applause.)  I know –- I know -- and you can tell from this audience, that there is a healthy debate about this issue.  I reject the view of some in the West that a woman who chooses to cover her hair is somehow less equal, but I do believe that a woman who is denied an education is denied equality.  (Applause.)  And it is no coincidence that countries where women are well educated are far more likely to be prosperous.\\n\",\n",
              " \"Now, let me be clear:  Issues of women's equality are by no means simply an issue for Islam.  In Turkey, Pakistan, Bangladesh, Indonesia, we've seen Muslim-majority countries elect a woman to lead.  Meanwhile, the struggle for women's equality continues in many aspects of American life, and in countries around the world.\\n\",\n",
              " 'I am convinced that our daughters can contribute just as much to society as our sons.  (Applause.)  Our common prosperity will be advanced by allowing all humanity -- men and women -- to reach their full potential.  I do not believe that women must make the same choices as men in order to be equal, and I respect those women who choose to live their lives in traditional roles. But it should be their choice.  And that is why the United States will partner with any Muslim-majority country to support expanded literacy for girls, and to help young women pursue employment through micro-financing that helps people live their dreams.  (Applause.)\\n',\n",
              " 'Finally, I want to discuss economic development and opportunity.\\n',\n",
              " 'I know that for many, the face of globalization is contradictory.  The Internet and television can bring knowledge and information, but also offensive sexuality and mindless violence into the home.  Trade can bring new wealth and opportunities, but also huge disruptions and change in communities.  In all nations -- including America -- this change can bring fear.  Fear that because of modernity we lose control over our economic choices, our politics, and most importantly our identities -- those things we most cherish about our communities, our families, our traditions, and our faith. \\n',\n",
              " 'But I also know that human progress cannot be denied.  There need not be contradictions between development and tradition. Countries like Japan and South Korea grew their economies enormously while maintaining distinct cultures.  The same is true for the astonishing progress within Muslim-majority countries from Kuala Lumpur to Dubai.  In ancient times and in our times, Muslim communities have been at the forefront of innovation and education.\\n',\n",
              " '\\n',\n",
              " \"And this is important because no development strategy can be based only upon what comes out of the ground, nor can it be sustained while young people are out of work.  Many Gulf states have enjoyed great wealth as a consequence of oil, and some are beginning to focus it on broader development.  But all of us must recognize that education and innovation will be the currency of the 21st century -- (applause) -- and in too many Muslim communities, there remains underinvestment in these areas.  I'm emphasizing such investment within my own country.  And while America in the past has focused on oil and gas when it comes to this part of the world, we now seek a broader engagement.\\n\",\n",
              " 'On education, we will expand exchange programs, and increase scholarships, like the one that brought my father to America.  (Applause.)  At the same time, we will encourage more Americans to study in Muslim communities.  And we will match promising Muslim students with internships in America; invest in online learning for teachers and children around the world; and create a new online network, so a young person in Kansas can communicate instantly with a young person in Cairo.\\n',\n",
              " 'On economic development, we will create a new corps of business volunteers to partner with counterparts in Muslim-majority countries.  And I will host a Summit on Entrepreneurship this year to identify how we can deepen ties between business leaders, foundations and social entrepreneurs in the United States and Muslim communities around the world.\\n',\n",
              " \"On science and technology, we will launch a new fund to support technological development in Muslim-majority countries, and to help transfer ideas to the marketplace so they can create more jobs.  We'll open centers of scientific excellence in Africa, the Middle East and Southeast Asia, and appoint new science envoys to collaborate on programs that develop new sources of energy, create green jobs, digitize records, clean water, grow new crops.  Today I'm announcing a new global effort with the Organization of the Islamic Conference to eradicate polio.  And we will also expand partnerships with Muslim communities to promote child and maternal health.\\n\",\n",
              " 'All these things must be done in partnership.  Americans are ready to join with citizens and governments; community organizations, religious leaders, and businesses in Muslim communities around the world to help our people pursue a better life.\\n',\n",
              " \"The issues that I have described will not be easy to address.  But we have a responsibility to join together on behalf of the world that we seek -- a world where extremists no longer threaten our people, and American troops have come home; a world where Israelis and Palestinians are each secure in a state of their own, and nuclear energy is used for peaceful purposes; a world where governments serve their citizens, and the rights of all God's children are respected.  Those are mutual interests.  That is the world we seek.  But we can only achieve it together.\\n\",\n",
              " \"I know there are many -- Muslim and non-Muslim -- who question whether we can forge this new beginning.  Some are eager to stoke the flames of division, and to stand in the way of progress.  Some suggest that it isn't worth the effort -- that we are fated to disagree, and civilizations are doomed to clash. Many more are simply skeptical that real change can occur.  There's so much fear, so much mistrust that has built up over the years.  But if we choose to be bound by the past, we will never move forward.  And I want to particularly say this to young people of every faith, in every country -- you, more than anyone, have the ability to reimagine the world, to remake this world.\\n\",\n",
              " 'All of us share this world for but a brief moment in time. The question is whether we spend that time focused on what pushes us apart, or whether we commit ourselves to an effort -- a sustained effort -- to find common ground, to focus on the future we seek for our children, and to respect the dignity of all human beings.\\n',\n",
              " \"It's easier to start wars than to end them.  It's easier to blame others than to look inward.  It's easier to see what is different about someone than to find the things we share.  But we should choose the right path, not just the easy path.  There's one rule that lies at the heart of every religion -- that we do unto others as we would have them do unto us.  (Applause.)  This truth transcends nations and peoples -- a belief that isn't new; that isn't black or white or brown; that isn't Christian or Muslim or Jew.  It's a belief that pulsed in the cradle of civilization, and that still beats in the hearts of billions around the world.  It's a faith in other people, and it's what brought me here today.\\n\",\n",
              " 'We have the power to make the world we seek, but only if we have the courage to make a new beginning, keeping in mind what has been written.\\n',\n",
              " 'The Holy Koran tells us:  \"O mankind!  We have created you male and a female; and we have made you into nations and tribes so that you may know one another.\"\\n',\n",
              " 'The Talmud tells us:  \"The whole of the Torah is for the purpose of promoting peace.\"\\n',\n",
              " 'The Holy Bible tells us:  \"Blessed are the peacemakers, for they shall be called sons of God.\"  (Applause.)\\n',\n",
              " \"The people of the world can live together in peace.  We know that is God's vision.  Now that must be our work here on Earth.\\n\",\n",
              " \"Thank you.  And may God's peace be upon you.  Thank you very much.  Thank you.  (Applause.)\\n\",\n",
              " 'END        \\n',\n",
              " '2:05 P.M. (Local)']"
            ]
          },
          "metadata": {},
          "execution_count": 21
        }
      ]
    },
    {
      "cell_type": "code",
      "metadata": {
        "id": "xPx5TdG_wlXl",
        "colab": {
          "base_uri": "https://localhost:8080/"
        },
        "outputId": "036f36b0-29fd-4271-b51d-1cbd5c97885f"
      },
      "source": [
        "lines[0:5]"
      ],
      "execution_count": null,
      "outputs": [
        {
          "output_type": "execute_result",
          "data": {
            "text/plain": [
              "[\"PRESIDENT OBAMA:  Thank you very much.  Good afternoon.  I am honored to be in the timeless city of Cairo, and to be hosted by two remarkable institutions.  For over a thousand years, Al-Azhar has stood as a beacon of Islamic learning; and for over a century, Cairo University has been a source of Egypt's advancement.  And together, you represent the harmony between tradition and progress.  I'm grateful for your hospitality, and the hospitality of the people of Egypt.  And I'm also proud to carry with me the goodwill of the American people, and a greeting of peace from Muslim communities in my country:  Assalaamu alaykum. (Applause.)\\n\",\n",
              " 'We meet at a time of great tension between the United States and Muslims around the world -- tension rooted in historical forces that go beyond any current policy debate.  The relationship between Islam and the West includes centuries of coexistence and cooperation, but also conflict and religious wars.  More recently, tension has been fed by colonialism that denied rights and opportunities to many Muslims, and a Cold War in which Muslim-majority countries were too often treated as proxies without regard to their own aspirations.  Moreover, the sweeping change brought by modernity and globalization led many Muslims to view the West as hostile to the traditions of Islam.\\n',\n",
              " 'Violent extremists have exploited these tensions in a small but potent minority of Muslims.  The attacks of September 11, 2001 and the continued efforts of these extremists to engage in violence against civilians has led some in my country to view Islam as inevitably hostile not only to America and Western countries, but also to human rights.  All this has bred more fear and more mistrust.\\n',\n",
              " 'So long as our relationship is defined by our differences, we will empower those who sow hatred rather than peace, those who promote conflict rather than the cooperation that can help all of our people achieve justice and prosperity.  And this cycle of suspicion and discord must end.\\n',\n",
              " \"I've come here to Cairo to seek a new beginning between the United States and Muslims around the world, one based on mutual interest and mutual respect, and one based upon the truth that America and Islam are not exclusive and need not be in competition.  Instead, they overlap, and share common principles -- principles of justice and progress; tolerance and the dignity of all human beings.\\n\"]"
            ]
          },
          "metadata": {},
          "execution_count": 22
        }
      ]
    },
    {
      "cell_type": "markdown",
      "metadata": {
        "id": "P0sncVp_wlXl"
      },
      "source": [
        "#### How did python know where to break?"
      ]
    },
    {
      "cell_type": "code",
      "metadata": {
        "id": "tGbUFrIWwlXl",
        "colab": {
          "base_uri": "https://localhost:8080/"
        },
        "outputId": "fa37be41-34f9-4972-c89a-bd88012466d0"
      },
      "source": [
        "print(lines)  #note content is saved in a list"
      ],
      "execution_count": null,
      "outputs": [
        {
          "output_type": "stream",
          "name": "stdout",
          "text": [
            "[\"PRESIDENT OBAMA:  Thank you very much.  Good afternoon.  I am honored to be in the timeless city of Cairo, and to be hosted by two remarkable institutions.  For over a thousand years, Al-Azhar has stood as a beacon of Islamic learning; and for over a century, Cairo University has been a source of Egypt's advancement.  And together, you represent the harmony between tradition and progress.  I'm grateful for your hospitality, and the hospitality of the people of Egypt.  And I'm also proud to carry with me the goodwill of the American people, and a greeting of peace from Muslim communities in my country:  Assalaamu alaykum. (Applause.)\\n\", 'We meet at a time of great tension between the United States and Muslims around the world -- tension rooted in historical forces that go beyond any current policy debate.  The relationship between Islam and the West includes centuries of coexistence and cooperation, but also conflict and religious wars.  More recently, tension has been fed by colonialism that denied rights and opportunities to many Muslims, and a Cold War in which Muslim-majority countries were too often treated as proxies without regard to their own aspirations.  Moreover, the sweeping change brought by modernity and globalization led many Muslims to view the West as hostile to the traditions of Islam.\\n', 'Violent extremists have exploited these tensions in a small but potent minority of Muslims.  The attacks of September 11, 2001 and the continued efforts of these extremists to engage in violence against civilians has led some in my country to view Islam as inevitably hostile not only to America and Western countries, but also to human rights.  All this has bred more fear and more mistrust.\\n', 'So long as our relationship is defined by our differences, we will empower those who sow hatred rather than peace, those who promote conflict rather than the cooperation that can help all of our people achieve justice and prosperity.  And this cycle of suspicion and discord must end.\\n', \"I've come here to Cairo to seek a new beginning between the United States and Muslims around the world, one based on mutual interest and mutual respect, and one based upon the truth that America and Islam are not exclusive and need not be in competition.  Instead, they overlap, and share common principles -- principles of justice and progress; tolerance and the dignity of all human beings.\\n\", 'I do so recognizing that change cannot happen overnight.  I know there\\'s been a lot of publicity about this speech, but no single speech can eradicate years of mistrust, nor can I answer in the time that I have this afternoon all the complex questions that brought us to this point.  But I am convinced that in order to move forward, we must say openly to each other the things we hold in our hearts and that too often are said only behind closed doors.  There must be a sustained effort to listen to each other; to learn from each other; to respect one another; and to seek common ground.  As the Holy Koran tells us, \"Be conscious of God and speak always the truth.\"  (Applause.)  That is what I will try to do today -- to speak the truth as best I can, humbled by the task before us, and firm in my belief that the interests we share as human beings are far more powerful than the forces that drive us apart.\\n', \"Now part of this conviction is rooted in my own experience. I'm a Christian, but my father came from a Kenyan family that includes generations of Muslims.  As a boy, I spent several years in Indonesia and heard the call of the azaan at the break of dawn and at the fall of dusk.  As a young man, I worked in Chicago communities where many found dignity and peace in their Muslim faith.\\n\", \"As a student of history, I also know civilization's debt to Islam.  It was Islam -- at places like Al-Azhar -- that carried the light of learning through so many centuries, paving the way for Europe's Renaissance and Enlightenment.  It was innovation in Muslim communities -- (applause) -- it was innovation in Muslim communities that developed the order of algebra; our magnetic compass and tools of navigation; our mastery of pens and printing; our understanding of how disease spreads and how it can be healed.  Islamic culture has given us majestic arches and soaring spires; timeless poetry and cherished music; elegant calligraphy and places of peaceful contemplation.  And throughout history, Islam has demonstrated through words and deeds the possibilities of religious tolerance and racial equality.  (Applause.)\\n\", 'I also know that Islam has always been a part of America\\'s story.  The first nation to recognize my country was Morocco.  In signing the Treaty of Tripoli in 1796, our second President, John Adams, wrote, \"The United States has in itself no character of enmity against the laws, religion or tranquility of Muslims.\"  And since our founding, American Muslims have enriched the United States.  They have fought in our wars, they have served in our government, they have stood for civil rights, they have started businesses, they have taught at our universities, they\\'ve excelled in our sports arenas, they\\'ve won Nobel Prizes, built our tallest building, and lit the Olympic Torch.  And when the first Muslim American was recently elected to Congress, he took the oath to defend our Constitution using the same Holy Koran that one of our Founding Fathers -- Thomas Jefferson -- kept in his personal library.  (Applause.)\\n', \"So I have known Islam on three continents before coming to the region where it was first revealed.  That experience guides my conviction that partnership between America and Islam must be based on what Islam is, not what it isn't.  And I consider it part of my responsibility as President of the United States to fight against negative stereotypes of Islam wherever they appear. (Applause.)\\n\", 'But that same principle must apply to Muslim perceptions of America.  (Applause.)  Just as Muslims do not fit a crude stereotype, America is not the crude stereotype of a self-interested empire.  The United States has been one of the greatest sources of progress that the world has ever known.  We were born out of revolution against an empire.  We were founded upon the ideal that all are created equal, and we have shed blood and struggled for centuries to give meaning to those words -- within our borders, and around the world.  We are shaped by every culture, drawn from every end of the Earth, and dedicated to a simple concept:  E pluribus unum -- \"Out of many, one.\"  \\n', 'Now, much has been made of the fact that an African American with the name Barack Hussein Obama could be elected President.  (Applause.)  But my personal story is not so unique.  The dream of opportunity for all people has not come true for everyone in America, but its promise exists for all who come to our shores -- and that includes nearly 7 million American Muslims in our country today who, by the way, enjoy incomes and educational levels that are higher than the American average.  (Applause.)\\n', \"Moreover, freedom in America is indivisible from the freedom to practice one's religion.  That is why there is a mosque in every state in our union, and over 1,200 mosques within our borders.  That's why the United States government has gone to court to protect the right of women and girls to wear the hijab and to punish those who would deny it.  (Applause.)\\n\", 'So let there be no doubt:  Islam is a part of America.  And I believe that America holds within her the truth that regardless of race, religion, or station in life, all of us share common aspirations -- to live in peace and security; to get an education and to work with dignity; to love our families, our communities, and our God.  These things we share.  This is the hope of all humanity.\\n', 'Of course, recognizing our common humanity is only the beginning of our task.  Words alone cannot meet the needs of our people.  These needs will be met only if we act boldly in the years ahead; and if we understand that the challenges we face are shared, and our failure to meet them will hurt us all.\\n', 'For we have learned from recent experience that when a financial system weakens in one country, prosperity is hurt everywhere.  When a new flu infects one human being, all are at risk.  When one nation pursues a nuclear weapon, the risk of nuclear attack rises for all nations.  When violent extremists operate in one stretch of mountains, people are endangered across an ocean.  When innocents in Bosnia and Darfur are slaughtered, that is a stain on our collective conscience.  (Applause.)  That is what it means to share this world in the 21st century.  That is the responsibility we have to one another as human beings.\\n', 'And this is a difficult responsibility to embrace.  For human history has often been a record of nations and tribes -- and, yes, religions -- subjugating one another in pursuit of their own interests.  Yet in this new age, such attitudes are self-defeating.  Given our interdependence, any world order that elevates one nation or group of people over another will inevitably fail.  So whatever we think of the past, we must not be prisoners to it.  Our problems must be dealt with through partnership; our progress must be shared.  (Applause.)\\n', 'Now, that does not mean we should ignore sources of tension. Indeed, it suggests the opposite:  We must face these tensions squarely.  And so in that spirit, let me speak as clearly and as plainly as I can about some specific issues that I believe we must finally confront together. \\n', 'The first issue that we have to confront is violent extremism in all of its forms.\\n', 'In Ankara, I made clear that America is not -- and never will be -- at war with Islam.  (Applause.)  We will, however, relentlessly confront violent extremists who pose a grave threat to our security -- because we reject the same thing that people of all faiths reject:  the killing of innocent men, women, and children.  And it is my first duty as President to protect the American people.\\n', \"The situation in Afghanistan demonstrates America's goals, and our need to work together.  Over seven years ago, the United States pursued al Qaeda and the Taliban with broad international support.  We did not go by choice; we went because of necessity. I'm aware that there's still some who would question or even justify the events of 9/11.  But let us be clear:  Al Qaeda killed nearly 3,000 people on that day.  The victims were innocent men, women and children from America and many other nations who had done nothing to harm anybody.  And yet al Qaeda chose to ruthlessly murder these people, claimed credit for the attack, and even now states their determination to kill on a massive scale.  They have affiliates in many countries and are trying to expand their reach.  These are not opinions to be debated; these are facts to be dealt with.\\n\", 'Now, make no mistake:  We do not want to keep our troops in Afghanistan.  We see no military -- we seek no military bases there.  It is agonizing for America to lose our young men and women.  It is costly and politically difficult to continue this conflict.  We would gladly bring every single one of our troops home if we could be confident that there were not violent extremists in Afghanistan and now Pakistan determined to kill as many Americans as they possibly can.  But that is not yet the case.\\n', \"And that's why we're partnering with a coalition of 46 countries.  And despite the costs involved, America's commitment will not weaken.  Indeed, none of us should tolerate these extremists.  They have killed in many countries.  They have killed people of different faiths -- but more than any other, they have killed Muslims.  Their actions are irreconcilable with the rights of human beings, the progress of nations, and with Islam.  The Holy Koran teaches that whoever kills an innocent is as -- it is as if he has killed all mankind.  (Applause.)  And the Holy Koran also says whoever saves a person, it is as if he has saved all mankind.  (Applause.)  The enduring faith of over a billion people is so much bigger than the narrow hatred of a few. Islam is not part of the problem in combating violent extremism -- it is an important part of promoting peace. \\n\", \"Now, we also know that military power alone is not going to solve the problems in Afghanistan and Pakistan.  That's why we plan to invest $1.5 billion each year over the next five years to partner with Pakistanis to build schools and hospitals, roads and businesses, and hundreds of millions to help those who've been displaced.  That's why we are providing more than $2.8 billion to help Afghans develop their economy and deliver services that people depend on.\\n\", 'Let me also address the issue of Iraq.  Unlike Afghanistan, Iraq was a war of choice that provoked strong differences in my country and around the world.  Although I believe that the Iraqi people are ultimately better off without the tyranny of Saddam Hussein, I also believe that events in Iraq have reminded America of the need to use diplomacy and build international consensus to resolve our problems whenever possible.  (Applause.)  Indeed, we can recall the words of Thomas Jefferson, who said:  \"I hope that our wisdom will grow with our power, and teach us that the less we use our power the greater it will be.\"\\n', \"Today, America has a dual responsibility:  to help Iraq forge a better future -- and to leave Iraq to Iraqis.  And I have made it clear to the Iraqi people -- (applause) -- I have made it clear to the Iraqi people that we pursue no bases, and no claim on their territory or resources.  Iraq's sovereignty is its own. And that's why I ordered the removal of our combat brigades by next August.  That is why we will honor our agreement with Iraq's democratically elected government to remove combat troops from Iraqi cities by July, and to remove all of our troops from Iraq by 2012.  (Applause.)  We will help Iraq train its security forces and develop its economy.  But we will support a secure and united Iraq as a partner, and never as a patron.\\n\", 'And finally, just as America can never tolerate violence by extremists, we must never alter or forget our principles.  Nine-eleven was an enormous trauma to our country.  The fear and anger that it provoked was understandable, but in some cases, it led us to act contrary to our traditions and our ideals.  We are taking concrete actions to change course.  I have unequivocally prohibited the use of torture by the United States, and I have ordered the prison at Guantanamo Bay closed by early next year.  (Applause.)\\n', 'So America will defend itself, respectful of the sovereignty of nations and the rule of law.  And we will do so in partnership with Muslim communities which are also threatened.  The sooner the extremists are isolated and unwelcome in Muslim communities, the sooner we will all be safer.\\n', 'The second major source of tension that we need to discuss is the situation between Israelis, Palestinians and the Arab world.\\n', \"America's strong bonds with Israel are well known.  This bond is unbreakable.  It is based upon cultural and historical ties, and the recognition that the aspiration for a Jewish homeland is rooted in a tragic history that cannot be denied.\\n\", 'Around the world, the Jewish people were persecuted for centuries, and anti-Semitism in Europe culminated in an unprecedented Holocaust.  Tomorrow, I will visit Buchenwald, which was part of a network of camps where Jews were enslaved, tortured, shot and gassed to death by the Third Reich.  Six million Jews were killed -- more than the entire Jewish population of Israel today.  Denying that fact is baseless, it is ignorant, and it is hateful.  Threatening Israel with destruction -- or repeating vile stereotypes about Jews -- is deeply wrong, and only serves to evoke in the minds of Israelis this most painful of memories while preventing the peace that the people of this region deserve.\\n', \"On the other hand, it is also undeniable that the Palestinian people -- Muslims and Christians -- have suffered in pursuit of a homeland.  For more than 60 years they've endured the pain of dislocation.  Many wait in refugee camps in the West Bank, Gaza, and neighboring lands for a life of peace and security that they have never been able to lead.  They endure the daily humiliations -- large and small -- that come with occupation.  So let there be no doubt:  The situation for the Palestinian people is intolerable.  And America will not turn our backs on the legitimate Palestinian aspiration for dignity, opportunity, and a state of their own.  (Applause.)\\n\", \"For decades then, there has been a stalemate:  two peoples with legitimate aspirations, each with a painful history that makes compromise elusive.  It's easy to point fingers -- for Palestinians to point to the displacement brought about by Israel's founding, and for Israelis to point to the constant hostility and attacks throughout its history from within its borders as well as beyond.  But if we see this conflict only from one side or the other, then we will be blind to the truth:  The only resolution is for the aspirations of both sides to be met through two states, where Israelis and Palestinians each live in peace and security.  (Applause.)\\n\", \"That is in Israel's interest, Palestine's interest, America's interest, and the world's interest.  And that is why I intend to personally pursue this outcome with all the patience and dedication that the task requires.  (Applause.)  The obligations -- the obligations that the parties have agreed to under the road map are clear.  For peace to come, it is time for them -- and all of us -- to live up to our responsibilities.\\n\", \"Palestinians must abandon violence.  Resistance through violence and killing is wrong and it does not succeed.  For centuries, black people in America suffered the lash of the whip as slaves and the humiliation of segregation.  But it was not violence that won full and equal rights.  It was a peaceful and determined insistence upon the ideals at the center of America's founding.  This same story can be told by people from South Africa to South Asia; from Eastern Europe to Indonesia.  It's a story with a simple truth:  that violence is a dead end.  It is a sign neither of courage nor power to shoot rockets at sleeping children, or to blow up old women on a bus.  That's not how moral authority is claimed; that's how it is surrendered.\\n\", \"Now is the time for Palestinians to focus on what they can build.  The Palestinian Authority must develop its capacity to govern, with institutions that serve the needs of its people. Hamas does have support among some Palestinians, but they also have to recognize they have responsibilities.  To play a role in fulfilling Palestinian aspirations, to unify the Palestinian people, Hamas must put an end to violence, recognize past agreements, recognize Israel's right to exist.\\n\", \"At the same time, Israelis must acknowledge that just as Israel's right to exist cannot be denied, neither can Palestine's.  The United States does not accept the legitimacy of continued Israeli settlements.  (Applause.)  This construction violates previous agreements and undermines efforts to achieve peace.  It is time for these settlements to stop.  (Applause.)\\n\", \"And Israel must also live up to its obligation to ensure that Palestinians can live and work and develop their society.  Just as it devastates Palestinian families, the continuing humanitarian crisis in Gaza does not serve Israel's security; neither does the continuing lack of opportunity in the West Bank. Progress in the daily lives of the Palestinian people must be a critical part of a road to peace, and Israel must take concrete steps to enable such progress. \\n\", \"And finally, the Arab states must recognize that the Arab Peace Initiative was an important beginning, but not the end of their responsibilities.  The Arab-Israeli conflict should no longer be used to distract the people of Arab nations from other problems.  Instead, it must be a cause for action to help the Palestinian people develop the institutions that will sustain their state, to recognize Israel's legitimacy, and to choose progress over a self-defeating focus on the past.\\n\", 'America will align our policies with those who pursue peace, and we will say in public what we say in private to Israelis and Palestinians and Arabs.  (Applause.)  We cannot impose peace.  But privately, many Muslims recognize that Israel will not go away.  Likewise, many Israelis recognize the need for a Palestinian state.  It is time for us to act on what everyone knows to be true.\\n', 'Too many tears have been shed.  Too much blood has been shed.  All of us have a responsibility to work for the day when the mothers of Israelis and Palestinians can see their children grow up without fear; when the Holy Land of the three great faiths is the place of peace that God intended it to be; when Jerusalem is a secure and lasting home for Jews and Christians and Muslims, and a place for all of the children of Abraham to mingle peacefully together as in the story of Isra -- (applause) -- as in the story of Isra, when Moses, Jesus, and Mohammed, peace be upon them, joined in prayer.  (Applause.)\\n', 'The third source of tension is our shared interest in the rights and responsibilities of nations on nuclear weapons.\\n', \"This issue has been a source of tension between the United States and the Islamic Republic of Iran.  For many years, Iran has defined itself in part by its opposition to my country, and there is in fact a tumultuous history between us.  In the middle of the Cold War, the United States played a role in the overthrow of a democratically elected Iranian government.  Since the Islamic Revolution, Iran has played a role in acts of hostage-taking and violence against U.S. troops and civilians.  This history is well known.  Rather than remain trapped in the past, I've made it clear to Iran's leaders and people that my country is prepared to move forward.  The question now is not what Iran is against, but rather what future it wants to build.\\n\", \"I recognize it will be hard to overcome decades of mistrust, but we will proceed with courage, rectitude, and resolve.  There will be many issues to discuss between our two countries, and we are willing to move forward without preconditions on the basis of mutual respect.  But it is clear to all concerned that when it comes to nuclear weapons, we have reached a decisive point.  This is not simply about America's interests.  It's about preventing a nuclear arms race in the Middle East that could lead this region and the world down a hugely dangerous path.\\n\", \"I understand those who protest that some countries have weapons that others do not.  No single nation should pick and choose which nation holds nuclear weapons.  And that's why I strongly reaffirmed America's commitment to seek a world in which no nations hold nuclear weapons.  (Applause.)  And any nation -- including Iran -- should have the right to access peaceful nuclear power if it complies with its responsibilities under the nuclear Non-Proliferation Treaty.  That commitment is at the core of the treaty, and it must be kept for all who fully abide by it. And I'm hopeful that all countries in the region can share in this goal.\\n\", 'The fourth issue that I will address is democracy.  (Applause.)\\n', 'I know -- I know there has been controversy about the promotion of democracy in recent years, and much of this controversy is connected to the war in Iraq.  So let me be clear: No system of government can or should be imposed by one nation by any other.\\n', ' \\n', \"That does not lessen my commitment, however, to governments that reflect the will of the people.  Each nation gives life to this principle in its own way, grounded in the traditions of its own people.  America does not presume to know what is best for everyone, just as we would not presume to pick the outcome of a peaceful election.  But I do have an unyielding belief that all people yearn for certain things:  the ability to speak your mind and have a say in how you are governed; confidence in the rule of law and the equal administration of justice; government that is transparent and doesn't steal from the people; the freedom to live as you choose.  These are not just American ideas; they are human rights.  And that is why we will support them everywhere.  (Applause.)\\n\", 'Now, there is no straight line to realize this promise.  But this much is clear:  Governments that protect these rights are ultimately more stable, successful and secure.  Suppressing ideas never succeeds in making them go away.  America respects the right of all peaceful and law-abiding voices to be heard around the world, even if we disagree with them.  And we will welcome all elected, peaceful governments -- provided they govern with respect for all their people.\\n', \"This last point is important because there are some who advocate for democracy only when they're out of power; once in power, they are ruthless in suppressing the rights of others.  (Applause.)  So no matter where it takes hold, government of the people and by the people sets a single standard for all who would hold power:  You must maintain your power through consent, not coercion; you must respect the rights of minorities, and participate with a spirit of tolerance and compromise; you must place the interests of your people and the legitimate workings of the political process above your party.  Without these ingredients, elections alone do not make true democracy.\\n\", 'AUDIENCE MEMBER:  Barack Obama, we love you!\\n', 'PRESIDENT OBAMA:  Thank you.  (Applause.)  The fifth issue that we must address together is religious freedom.\\n', \"Islam has a proud tradition of tolerance.  We see it in the history of Andalusia and Cordoba during the Inquisition.  I saw it firsthand as a child in Indonesia, where devout Christians worshiped freely in an overwhelmingly Muslim country.  That is the spirit we need today.  People in every country should be free to choose and live their faith based upon the persuasion of the mind and the heart and the soul.  This tolerance is essential for religion to thrive, but it's being challenged in many different ways.\\n\", \"Among some Muslims, there's a disturbing tendency to measure one's own faith by the rejection of somebody else's faith.  The richness of religious diversity must be upheld -- whether it is for Maronites in Lebanon or the Copts in Egypt.  (Applause.)  And if we are being honest, fault lines must be closed among Muslims, as well, as the divisions between Sunni and Shia have led to tragic violence, particularly in Iraq.\\n\", \"Freedom of religion is central to the ability of peoples to live together.  We must always examine the ways in which we protect it.  For instance, in the United States, rules on charitable giving have made it harder for Muslims to fulfill their religious obligation.  That's why I'm committed to working with American Muslims to ensure that they can fulfill zakat. \\n\", \"Likewise, it is important for Western countries to avoid impeding Muslim citizens from practicing religion as they see fit -- for instance, by dictating what clothes a Muslim woman should wear.  We can't disguise hostility towards any religion behind the pretence of liberalism.\\n\", ' \\n', \"In fact, faith should bring us together.  And that's why we're forging service projects in America to bring together Christians, Muslims, and Jews.  That's why we welcome efforts like Saudi Arabian King Abdullah's interfaith dialogue and Turkey's leadership in the Alliance of Civilizations.  Around the world, we can turn dialogue into interfaith service, so bridges between peoples lead to action -- whether it is combating malaria in Africa, or providing relief after a natural disaster. \\n\", \"The sixth issue -- the sixth issue that I want to address is women's rights.  (Applause.)  I know –- I know -- and you can tell from this audience, that there is a healthy debate about this issue.  I reject the view of some in the West that a woman who chooses to cover her hair is somehow less equal, but I do believe that a woman who is denied an education is denied equality.  (Applause.)  And it is no coincidence that countries where women are well educated are far more likely to be prosperous.\\n\", \"Now, let me be clear:  Issues of women's equality are by no means simply an issue for Islam.  In Turkey, Pakistan, Bangladesh, Indonesia, we've seen Muslim-majority countries elect a woman to lead.  Meanwhile, the struggle for women's equality continues in many aspects of American life, and in countries around the world.\\n\", 'I am convinced that our daughters can contribute just as much to society as our sons.  (Applause.)  Our common prosperity will be advanced by allowing all humanity -- men and women -- to reach their full potential.  I do not believe that women must make the same choices as men in order to be equal, and I respect those women who choose to live their lives in traditional roles. But it should be their choice.  And that is why the United States will partner with any Muslim-majority country to support expanded literacy for girls, and to help young women pursue employment through micro-financing that helps people live their dreams.  (Applause.)\\n', 'Finally, I want to discuss economic development and opportunity.\\n', 'I know that for many, the face of globalization is contradictory.  The Internet and television can bring knowledge and information, but also offensive sexuality and mindless violence into the home.  Trade can bring new wealth and opportunities, but also huge disruptions and change in communities.  In all nations -- including America -- this change can bring fear.  Fear that because of modernity we lose control over our economic choices, our politics, and most importantly our identities -- those things we most cherish about our communities, our families, our traditions, and our faith. \\n', 'But I also know that human progress cannot be denied.  There need not be contradictions between development and tradition. Countries like Japan and South Korea grew their economies enormously while maintaining distinct cultures.  The same is true for the astonishing progress within Muslim-majority countries from Kuala Lumpur to Dubai.  In ancient times and in our times, Muslim communities have been at the forefront of innovation and education.\\n', '\\n', \"And this is important because no development strategy can be based only upon what comes out of the ground, nor can it be sustained while young people are out of work.  Many Gulf states have enjoyed great wealth as a consequence of oil, and some are beginning to focus it on broader development.  But all of us must recognize that education and innovation will be the currency of the 21st century -- (applause) -- and in too many Muslim communities, there remains underinvestment in these areas.  I'm emphasizing such investment within my own country.  And while America in the past has focused on oil and gas when it comes to this part of the world, we now seek a broader engagement.\\n\", 'On education, we will expand exchange programs, and increase scholarships, like the one that brought my father to America.  (Applause.)  At the same time, we will encourage more Americans to study in Muslim communities.  And we will match promising Muslim students with internships in America; invest in online learning for teachers and children around the world; and create a new online network, so a young person in Kansas can communicate instantly with a young person in Cairo.\\n', 'On economic development, we will create a new corps of business volunteers to partner with counterparts in Muslim-majority countries.  And I will host a Summit on Entrepreneurship this year to identify how we can deepen ties between business leaders, foundations and social entrepreneurs in the United States and Muslim communities around the world.\\n', \"On science and technology, we will launch a new fund to support technological development in Muslim-majority countries, and to help transfer ideas to the marketplace so they can create more jobs.  We'll open centers of scientific excellence in Africa, the Middle East and Southeast Asia, and appoint new science envoys to collaborate on programs that develop new sources of energy, create green jobs, digitize records, clean water, grow new crops.  Today I'm announcing a new global effort with the Organization of the Islamic Conference to eradicate polio.  And we will also expand partnerships with Muslim communities to promote child and maternal health.\\n\", 'All these things must be done in partnership.  Americans are ready to join with citizens and governments; community organizations, religious leaders, and businesses in Muslim communities around the world to help our people pursue a better life.\\n', \"The issues that I have described will not be easy to address.  But we have a responsibility to join together on behalf of the world that we seek -- a world where extremists no longer threaten our people, and American troops have come home; a world where Israelis and Palestinians are each secure in a state of their own, and nuclear energy is used for peaceful purposes; a world where governments serve their citizens, and the rights of all God's children are respected.  Those are mutual interests.  That is the world we seek.  But we can only achieve it together.\\n\", \"I know there are many -- Muslim and non-Muslim -- who question whether we can forge this new beginning.  Some are eager to stoke the flames of division, and to stand in the way of progress.  Some suggest that it isn't worth the effort -- that we are fated to disagree, and civilizations are doomed to clash. Many more are simply skeptical that real change can occur.  There's so much fear, so much mistrust that has built up over the years.  But if we choose to be bound by the past, we will never move forward.  And I want to particularly say this to young people of every faith, in every country -- you, more than anyone, have the ability to reimagine the world, to remake this world.\\n\", 'All of us share this world for but a brief moment in time. The question is whether we spend that time focused on what pushes us apart, or whether we commit ourselves to an effort -- a sustained effort -- to find common ground, to focus on the future we seek for our children, and to respect the dignity of all human beings.\\n', \"It's easier to start wars than to end them.  It's easier to blame others than to look inward.  It's easier to see what is different about someone than to find the things we share.  But we should choose the right path, not just the easy path.  There's one rule that lies at the heart of every religion -- that we do unto others as we would have them do unto us.  (Applause.)  This truth transcends nations and peoples -- a belief that isn't new; that isn't black or white or brown; that isn't Christian or Muslim or Jew.  It's a belief that pulsed in the cradle of civilization, and that still beats in the hearts of billions around the world.  It's a faith in other people, and it's what brought me here today.\\n\", 'We have the power to make the world we seek, but only if we have the courage to make a new beginning, keeping in mind what has been written.\\n', 'The Holy Koran tells us:  \"O mankind!  We have created you male and a female; and we have made you into nations and tribes so that you may know one another.\"\\n', 'The Talmud tells us:  \"The whole of the Torah is for the purpose of promoting peace.\"\\n', 'The Holy Bible tells us:  \"Blessed are the peacemakers, for they shall be called sons of God.\"  (Applause.)\\n', \"The people of the world can live together in peace.  We know that is God's vision.  Now that must be our work here on Earth.\\n\", \"Thank you.  And may God's peace be upon you.  Thank you very much.  Thank you.  (Applause.)\\n\", 'END        \\n', '2:05 P.M. (Local)']\n"
          ]
        }
      ]
    },
    {
      "cell_type": "markdown",
      "metadata": {
        "id": "bIKH-ELFwlXm"
      },
      "source": [
        "## Another way to open and read the file line by line breaks\n"
      ]
    },
    {
      "cell_type": "code",
      "metadata": {
        "id": "GVRZxxULwlXm",
        "colab": {
          "base_uri": "https://localhost:8080/"
        },
        "outputId": "e3e0b5ba-3589-4070-fb06-c7eedd1f3841"
      },
      "source": [
        "\n",
        "obamafile = open('/content/drive/MyDrive/Colab Notebooks/Oxford Text Analysis 22/Python QTA Drive Oxford 2022/Data/obamaincairo.txt', \"r\") #open files\n",
        "for line in obamafile:\n",
        "    words = line.split(\"\\n\") #same result as above\n",
        "    print(words)\n",
        "    "
      ],
      "execution_count": null,
      "outputs": [
        {
          "output_type": "stream",
          "name": "stdout",
          "text": [
            "[\"PRESIDENT OBAMA:  Thank you very much.  Good afternoon.  I am honored to be in the timeless city of Cairo, and to be hosted by two remarkable institutions.  For over a thousand years, Al-Azhar has stood as a beacon of Islamic learning; and for over a century, Cairo University has been a source of Egypt's advancement.  And together, you represent the harmony between tradition and progress.  I'm grateful for your hospitality, and the hospitality of the people of Egypt.  And I'm also proud to carry with me the goodwill of the American people, and a greeting of peace from Muslim communities in my country:  Assalaamu alaykum. (Applause.)\", '']\n",
            "['We meet at a time of great tension between the United States and Muslims around the world -- tension rooted in historical forces that go beyond any current policy debate.  The relationship between Islam and the West includes centuries of coexistence and cooperation, but also conflict and religious wars.  More recently, tension has been fed by colonialism that denied rights and opportunities to many Muslims, and a Cold War in which Muslim-majority countries were too often treated as proxies without regard to their own aspirations.  Moreover, the sweeping change brought by modernity and globalization led many Muslims to view the West as hostile to the traditions of Islam.', '']\n",
            "['Violent extremists have exploited these tensions in a small but potent minority of Muslims.  The attacks of September 11, 2001 and the continued efforts of these extremists to engage in violence against civilians has led some in my country to view Islam as inevitably hostile not only to America and Western countries, but also to human rights.  All this has bred more fear and more mistrust.', '']\n",
            "['So long as our relationship is defined by our differences, we will empower those who sow hatred rather than peace, those who promote conflict rather than the cooperation that can help all of our people achieve justice and prosperity.  And this cycle of suspicion and discord must end.', '']\n",
            "[\"I've come here to Cairo to seek a new beginning between the United States and Muslims around the world, one based on mutual interest and mutual respect, and one based upon the truth that America and Islam are not exclusive and need not be in competition.  Instead, they overlap, and share common principles -- principles of justice and progress; tolerance and the dignity of all human beings.\", '']\n",
            "['I do so recognizing that change cannot happen overnight.  I know there\\'s been a lot of publicity about this speech, but no single speech can eradicate years of mistrust, nor can I answer in the time that I have this afternoon all the complex questions that brought us to this point.  But I am convinced that in order to move forward, we must say openly to each other the things we hold in our hearts and that too often are said only behind closed doors.  There must be a sustained effort to listen to each other; to learn from each other; to respect one another; and to seek common ground.  As the Holy Koran tells us, \"Be conscious of God and speak always the truth.\"  (Applause.)  That is what I will try to do today -- to speak the truth as best I can, humbled by the task before us, and firm in my belief that the interests we share as human beings are far more powerful than the forces that drive us apart.', '']\n",
            "[\"Now part of this conviction is rooted in my own experience. I'm a Christian, but my father came from a Kenyan family that includes generations of Muslims.  As a boy, I spent several years in Indonesia and heard the call of the azaan at the break of dawn and at the fall of dusk.  As a young man, I worked in Chicago communities where many found dignity and peace in their Muslim faith.\", '']\n",
            "[\"As a student of history, I also know civilization's debt to Islam.  It was Islam -- at places like Al-Azhar -- that carried the light of learning through so many centuries, paving the way for Europe's Renaissance and Enlightenment.  It was innovation in Muslim communities -- (applause) -- it was innovation in Muslim communities that developed the order of algebra; our magnetic compass and tools of navigation; our mastery of pens and printing; our understanding of how disease spreads and how it can be healed.  Islamic culture has given us majestic arches and soaring spires; timeless poetry and cherished music; elegant calligraphy and places of peaceful contemplation.  And throughout history, Islam has demonstrated through words and deeds the possibilities of religious tolerance and racial equality.  (Applause.)\", '']\n",
            "['I also know that Islam has always been a part of America\\'s story.  The first nation to recognize my country was Morocco.  In signing the Treaty of Tripoli in 1796, our second President, John Adams, wrote, \"The United States has in itself no character of enmity against the laws, religion or tranquility of Muslims.\"  And since our founding, American Muslims have enriched the United States.  They have fought in our wars, they have served in our government, they have stood for civil rights, they have started businesses, they have taught at our universities, they\\'ve excelled in our sports arenas, they\\'ve won Nobel Prizes, built our tallest building, and lit the Olympic Torch.  And when the first Muslim American was recently elected to Congress, he took the oath to defend our Constitution using the same Holy Koran that one of our Founding Fathers -- Thomas Jefferson -- kept in his personal library.  (Applause.)', '']\n",
            "[\"So I have known Islam on three continents before coming to the region where it was first revealed.  That experience guides my conviction that partnership between America and Islam must be based on what Islam is, not what it isn't.  And I consider it part of my responsibility as President of the United States to fight against negative stereotypes of Islam wherever they appear. (Applause.)\", '']\n",
            "['But that same principle must apply to Muslim perceptions of America.  (Applause.)  Just as Muslims do not fit a crude stereotype, America is not the crude stereotype of a self-interested empire.  The United States has been one of the greatest sources of progress that the world has ever known.  We were born out of revolution against an empire.  We were founded upon the ideal that all are created equal, and we have shed blood and struggled for centuries to give meaning to those words -- within our borders, and around the world.  We are shaped by every culture, drawn from every end of the Earth, and dedicated to a simple concept:  E pluribus unum -- \"Out of many, one.\"  ', '']\n",
            "['Now, much has been made of the fact that an African American with the name Barack Hussein Obama could be elected President.  (Applause.)  But my personal story is not so unique.  The dream of opportunity for all people has not come true for everyone in America, but its promise exists for all who come to our shores -- and that includes nearly 7 million American Muslims in our country today who, by the way, enjoy incomes and educational levels that are higher than the American average.  (Applause.)', '']\n",
            "[\"Moreover, freedom in America is indivisible from the freedom to practice one's religion.  That is why there is a mosque in every state in our union, and over 1,200 mosques within our borders.  That's why the United States government has gone to court to protect the right of women and girls to wear the hijab and to punish those who would deny it.  (Applause.)\", '']\n",
            "['So let there be no doubt:  Islam is a part of America.  And I believe that America holds within her the truth that regardless of race, religion, or station in life, all of us share common aspirations -- to live in peace and security; to get an education and to work with dignity; to love our families, our communities, and our God.  These things we share.  This is the hope of all humanity.', '']\n",
            "['Of course, recognizing our common humanity is only the beginning of our task.  Words alone cannot meet the needs of our people.  These needs will be met only if we act boldly in the years ahead; and if we understand that the challenges we face are shared, and our failure to meet them will hurt us all.', '']\n",
            "['For we have learned from recent experience that when a financial system weakens in one country, prosperity is hurt everywhere.  When a new flu infects one human being, all are at risk.  When one nation pursues a nuclear weapon, the risk of nuclear attack rises for all nations.  When violent extremists operate in one stretch of mountains, people are endangered across an ocean.  When innocents in Bosnia and Darfur are slaughtered, that is a stain on our collective conscience.  (Applause.)  That is what it means to share this world in the 21st century.  That is the responsibility we have to one another as human beings.', '']\n",
            "['And this is a difficult responsibility to embrace.  For human history has often been a record of nations and tribes -- and, yes, religions -- subjugating one another in pursuit of their own interests.  Yet in this new age, such attitudes are self-defeating.  Given our interdependence, any world order that elevates one nation or group of people over another will inevitably fail.  So whatever we think of the past, we must not be prisoners to it.  Our problems must be dealt with through partnership; our progress must be shared.  (Applause.)', '']\n",
            "['Now, that does not mean we should ignore sources of tension. Indeed, it suggests the opposite:  We must face these tensions squarely.  And so in that spirit, let me speak as clearly and as plainly as I can about some specific issues that I believe we must finally confront together. ', '']\n",
            "['The first issue that we have to confront is violent extremism in all of its forms.', '']\n",
            "['In Ankara, I made clear that America is not -- and never will be -- at war with Islam.  (Applause.)  We will, however, relentlessly confront violent extremists who pose a grave threat to our security -- because we reject the same thing that people of all faiths reject:  the killing of innocent men, women, and children.  And it is my first duty as President to protect the American people.', '']\n",
            "[\"The situation in Afghanistan demonstrates America's goals, and our need to work together.  Over seven years ago, the United States pursued al Qaeda and the Taliban with broad international support.  We did not go by choice; we went because of necessity. I'm aware that there's still some who would question or even justify the events of 9/11.  But let us be clear:  Al Qaeda killed nearly 3,000 people on that day.  The victims were innocent men, women and children from America and many other nations who had done nothing to harm anybody.  And yet al Qaeda chose to ruthlessly murder these people, claimed credit for the attack, and even now states their determination to kill on a massive scale.  They have affiliates in many countries and are trying to expand their reach.  These are not opinions to be debated; these are facts to be dealt with.\", '']\n",
            "['Now, make no mistake:  We do not want to keep our troops in Afghanistan.  We see no military -- we seek no military bases there.  It is agonizing for America to lose our young men and women.  It is costly and politically difficult to continue this conflict.  We would gladly bring every single one of our troops home if we could be confident that there were not violent extremists in Afghanistan and now Pakistan determined to kill as many Americans as they possibly can.  But that is not yet the case.', '']\n",
            "[\"And that's why we're partnering with a coalition of 46 countries.  And despite the costs involved, America's commitment will not weaken.  Indeed, none of us should tolerate these extremists.  They have killed in many countries.  They have killed people of different faiths -- but more than any other, they have killed Muslims.  Their actions are irreconcilable with the rights of human beings, the progress of nations, and with Islam.  The Holy Koran teaches that whoever kills an innocent is as -- it is as if he has killed all mankind.  (Applause.)  And the Holy Koran also says whoever saves a person, it is as if he has saved all mankind.  (Applause.)  The enduring faith of over a billion people is so much bigger than the narrow hatred of a few. Islam is not part of the problem in combating violent extremism -- it is an important part of promoting peace. \", '']\n",
            "[\"Now, we also know that military power alone is not going to solve the problems in Afghanistan and Pakistan.  That's why we plan to invest $1.5 billion each year over the next five years to partner with Pakistanis to build schools and hospitals, roads and businesses, and hundreds of millions to help those who've been displaced.  That's why we are providing more than $2.8 billion to help Afghans develop their economy and deliver services that people depend on.\", '']\n",
            "['Let me also address the issue of Iraq.  Unlike Afghanistan, Iraq was a war of choice that provoked strong differences in my country and around the world.  Although I believe that the Iraqi people are ultimately better off without the tyranny of Saddam Hussein, I also believe that events in Iraq have reminded America of the need to use diplomacy and build international consensus to resolve our problems whenever possible.  (Applause.)  Indeed, we can recall the words of Thomas Jefferson, who said:  \"I hope that our wisdom will grow with our power, and teach us that the less we use our power the greater it will be.\"', '']\n",
            "[\"Today, America has a dual responsibility:  to help Iraq forge a better future -- and to leave Iraq to Iraqis.  And I have made it clear to the Iraqi people -- (applause) -- I have made it clear to the Iraqi people that we pursue no bases, and no claim on their territory or resources.  Iraq's sovereignty is its own. And that's why I ordered the removal of our combat brigades by next August.  That is why we will honor our agreement with Iraq's democratically elected government to remove combat troops from Iraqi cities by July, and to remove all of our troops from Iraq by 2012.  (Applause.)  We will help Iraq train its security forces and develop its economy.  But we will support a secure and united Iraq as a partner, and never as a patron.\", '']\n",
            "['And finally, just as America can never tolerate violence by extremists, we must never alter or forget our principles.  Nine-eleven was an enormous trauma to our country.  The fear and anger that it provoked was understandable, but in some cases, it led us to act contrary to our traditions and our ideals.  We are taking concrete actions to change course.  I have unequivocally prohibited the use of torture by the United States, and I have ordered the prison at Guantanamo Bay closed by early next year.  (Applause.)', '']\n",
            "['So America will defend itself, respectful of the sovereignty of nations and the rule of law.  And we will do so in partnership with Muslim communities which are also threatened.  The sooner the extremists are isolated and unwelcome in Muslim communities, the sooner we will all be safer.', '']\n",
            "['The second major source of tension that we need to discuss is the situation between Israelis, Palestinians and the Arab world.', '']\n",
            "[\"America's strong bonds with Israel are well known.  This bond is unbreakable.  It is based upon cultural and historical ties, and the recognition that the aspiration for a Jewish homeland is rooted in a tragic history that cannot be denied.\", '']\n",
            "['Around the world, the Jewish people were persecuted for centuries, and anti-Semitism in Europe culminated in an unprecedented Holocaust.  Tomorrow, I will visit Buchenwald, which was part of a network of camps where Jews were enslaved, tortured, shot and gassed to death by the Third Reich.  Six million Jews were killed -- more than the entire Jewish population of Israel today.  Denying that fact is baseless, it is ignorant, and it is hateful.  Threatening Israel with destruction -- or repeating vile stereotypes about Jews -- is deeply wrong, and only serves to evoke in the minds of Israelis this most painful of memories while preventing the peace that the people of this region deserve.', '']\n",
            "[\"On the other hand, it is also undeniable that the Palestinian people -- Muslims and Christians -- have suffered in pursuit of a homeland.  For more than 60 years they've endured the pain of dislocation.  Many wait in refugee camps in the West Bank, Gaza, and neighboring lands for a life of peace and security that they have never been able to lead.  They endure the daily humiliations -- large and small -- that come with occupation.  So let there be no doubt:  The situation for the Palestinian people is intolerable.  And America will not turn our backs on the legitimate Palestinian aspiration for dignity, opportunity, and a state of their own.  (Applause.)\", '']\n",
            "[\"For decades then, there has been a stalemate:  two peoples with legitimate aspirations, each with a painful history that makes compromise elusive.  It's easy to point fingers -- for Palestinians to point to the displacement brought about by Israel's founding, and for Israelis to point to the constant hostility and attacks throughout its history from within its borders as well as beyond.  But if we see this conflict only from one side or the other, then we will be blind to the truth:  The only resolution is for the aspirations of both sides to be met through two states, where Israelis and Palestinians each live in peace and security.  (Applause.)\", '']\n",
            "[\"That is in Israel's interest, Palestine's interest, America's interest, and the world's interest.  And that is why I intend to personally pursue this outcome with all the patience and dedication that the task requires.  (Applause.)  The obligations -- the obligations that the parties have agreed to under the road map are clear.  For peace to come, it is time for them -- and all of us -- to live up to our responsibilities.\", '']\n",
            "[\"Palestinians must abandon violence.  Resistance through violence and killing is wrong and it does not succeed.  For centuries, black people in America suffered the lash of the whip as slaves and the humiliation of segregation.  But it was not violence that won full and equal rights.  It was a peaceful and determined insistence upon the ideals at the center of America's founding.  This same story can be told by people from South Africa to South Asia; from Eastern Europe to Indonesia.  It's a story with a simple truth:  that violence is a dead end.  It is a sign neither of courage nor power to shoot rockets at sleeping children, or to blow up old women on a bus.  That's not how moral authority is claimed; that's how it is surrendered.\", '']\n",
            "[\"Now is the time for Palestinians to focus on what they can build.  The Palestinian Authority must develop its capacity to govern, with institutions that serve the needs of its people. Hamas does have support among some Palestinians, but they also have to recognize they have responsibilities.  To play a role in fulfilling Palestinian aspirations, to unify the Palestinian people, Hamas must put an end to violence, recognize past agreements, recognize Israel's right to exist.\", '']\n",
            "[\"At the same time, Israelis must acknowledge that just as Israel's right to exist cannot be denied, neither can Palestine's.  The United States does not accept the legitimacy of continued Israeli settlements.  (Applause.)  This construction violates previous agreements and undermines efforts to achieve peace.  It is time for these settlements to stop.  (Applause.)\", '']\n",
            "[\"And Israel must also live up to its obligation to ensure that Palestinians can live and work and develop their society.  Just as it devastates Palestinian families, the continuing humanitarian crisis in Gaza does not serve Israel's security; neither does the continuing lack of opportunity in the West Bank. Progress in the daily lives of the Palestinian people must be a critical part of a road to peace, and Israel must take concrete steps to enable such progress. \", '']\n",
            "[\"And finally, the Arab states must recognize that the Arab Peace Initiative was an important beginning, but not the end of their responsibilities.  The Arab-Israeli conflict should no longer be used to distract the people of Arab nations from other problems.  Instead, it must be a cause for action to help the Palestinian people develop the institutions that will sustain their state, to recognize Israel's legitimacy, and to choose progress over a self-defeating focus on the past.\", '']\n",
            "['America will align our policies with those who pursue peace, and we will say in public what we say in private to Israelis and Palestinians and Arabs.  (Applause.)  We cannot impose peace.  But privately, many Muslims recognize that Israel will not go away.  Likewise, many Israelis recognize the need for a Palestinian state.  It is time for us to act on what everyone knows to be true.', '']\n",
            "['Too many tears have been shed.  Too much blood has been shed.  All of us have a responsibility to work for the day when the mothers of Israelis and Palestinians can see their children grow up without fear; when the Holy Land of the three great faiths is the place of peace that God intended it to be; when Jerusalem is a secure and lasting home for Jews and Christians and Muslims, and a place for all of the children of Abraham to mingle peacefully together as in the story of Isra -- (applause) -- as in the story of Isra, when Moses, Jesus, and Mohammed, peace be upon them, joined in prayer.  (Applause.)', '']\n",
            "['The third source of tension is our shared interest in the rights and responsibilities of nations on nuclear weapons.', '']\n",
            "[\"This issue has been a source of tension between the United States and the Islamic Republic of Iran.  For many years, Iran has defined itself in part by its opposition to my country, and there is in fact a tumultuous history between us.  In the middle of the Cold War, the United States played a role in the overthrow of a democratically elected Iranian government.  Since the Islamic Revolution, Iran has played a role in acts of hostage-taking and violence against U.S. troops and civilians.  This history is well known.  Rather than remain trapped in the past, I've made it clear to Iran's leaders and people that my country is prepared to move forward.  The question now is not what Iran is against, but rather what future it wants to build.\", '']\n",
            "[\"I recognize it will be hard to overcome decades of mistrust, but we will proceed with courage, rectitude, and resolve.  There will be many issues to discuss between our two countries, and we are willing to move forward without preconditions on the basis of mutual respect.  But it is clear to all concerned that when it comes to nuclear weapons, we have reached a decisive point.  This is not simply about America's interests.  It's about preventing a nuclear arms race in the Middle East that could lead this region and the world down a hugely dangerous path.\", '']\n",
            "[\"I understand those who protest that some countries have weapons that others do not.  No single nation should pick and choose which nation holds nuclear weapons.  And that's why I strongly reaffirmed America's commitment to seek a world in which no nations hold nuclear weapons.  (Applause.)  And any nation -- including Iran -- should have the right to access peaceful nuclear power if it complies with its responsibilities under the nuclear Non-Proliferation Treaty.  That commitment is at the core of the treaty, and it must be kept for all who fully abide by it. And I'm hopeful that all countries in the region can share in this goal.\", '']\n",
            "['The fourth issue that I will address is democracy.  (Applause.)', '']\n",
            "['I know -- I know there has been controversy about the promotion of democracy in recent years, and much of this controversy is connected to the war in Iraq.  So let me be clear: No system of government can or should be imposed by one nation by any other.', '']\n",
            "[' ', '']\n",
            "[\"That does not lessen my commitment, however, to governments that reflect the will of the people.  Each nation gives life to this principle in its own way, grounded in the traditions of its own people.  America does not presume to know what is best for everyone, just as we would not presume to pick the outcome of a peaceful election.  But I do have an unyielding belief that all people yearn for certain things:  the ability to speak your mind and have a say in how you are governed; confidence in the rule of law and the equal administration of justice; government that is transparent and doesn't steal from the people; the freedom to live as you choose.  These are not just American ideas; they are human rights.  And that is why we will support them everywhere.  (Applause.)\", '']\n",
            "['Now, there is no straight line to realize this promise.  But this much is clear:  Governments that protect these rights are ultimately more stable, successful and secure.  Suppressing ideas never succeeds in making them go away.  America respects the right of all peaceful and law-abiding voices to be heard around the world, even if we disagree with them.  And we will welcome all elected, peaceful governments -- provided they govern with respect for all their people.', '']\n",
            "[\"This last point is important because there are some who advocate for democracy only when they're out of power; once in power, they are ruthless in suppressing the rights of others.  (Applause.)  So no matter where it takes hold, government of the people and by the people sets a single standard for all who would hold power:  You must maintain your power through consent, not coercion; you must respect the rights of minorities, and participate with a spirit of tolerance and compromise; you must place the interests of your people and the legitimate workings of the political process above your party.  Without these ingredients, elections alone do not make true democracy.\", '']\n",
            "['AUDIENCE MEMBER:  Barack Obama, we love you!', '']\n",
            "['PRESIDENT OBAMA:  Thank you.  (Applause.)  The fifth issue that we must address together is religious freedom.', '']\n",
            "[\"Islam has a proud tradition of tolerance.  We see it in the history of Andalusia and Cordoba during the Inquisition.  I saw it firsthand as a child in Indonesia, where devout Christians worshiped freely in an overwhelmingly Muslim country.  That is the spirit we need today.  People in every country should be free to choose and live their faith based upon the persuasion of the mind and the heart and the soul.  This tolerance is essential for religion to thrive, but it's being challenged in many different ways.\", '']\n",
            "[\"Among some Muslims, there's a disturbing tendency to measure one's own faith by the rejection of somebody else's faith.  The richness of religious diversity must be upheld -- whether it is for Maronites in Lebanon or the Copts in Egypt.  (Applause.)  And if we are being honest, fault lines must be closed among Muslims, as well, as the divisions between Sunni and Shia have led to tragic violence, particularly in Iraq.\", '']\n",
            "[\"Freedom of religion is central to the ability of peoples to live together.  We must always examine the ways in which we protect it.  For instance, in the United States, rules on charitable giving have made it harder for Muslims to fulfill their religious obligation.  That's why I'm committed to working with American Muslims to ensure that they can fulfill zakat. \", '']\n",
            "[\"Likewise, it is important for Western countries to avoid impeding Muslim citizens from practicing religion as they see fit -- for instance, by dictating what clothes a Muslim woman should wear.  We can't disguise hostility towards any religion behind the pretence of liberalism.\", '']\n",
            "[' ', '']\n",
            "[\"In fact, faith should bring us together.  And that's why we're forging service projects in America to bring together Christians, Muslims, and Jews.  That's why we welcome efforts like Saudi Arabian King Abdullah's interfaith dialogue and Turkey's leadership in the Alliance of Civilizations.  Around the world, we can turn dialogue into interfaith service, so bridges between peoples lead to action -- whether it is combating malaria in Africa, or providing relief after a natural disaster. \", '']\n",
            "[\"The sixth issue -- the sixth issue that I want to address is women's rights.  (Applause.)  I know –- I know -- and you can tell from this audience, that there is a healthy debate about this issue.  I reject the view of some in the West that a woman who chooses to cover her hair is somehow less equal, but I do believe that a woman who is denied an education is denied equality.  (Applause.)  And it is no coincidence that countries where women are well educated are far more likely to be prosperous.\", '']\n",
            "[\"Now, let me be clear:  Issues of women's equality are by no means simply an issue for Islam.  In Turkey, Pakistan, Bangladesh, Indonesia, we've seen Muslim-majority countries elect a woman to lead.  Meanwhile, the struggle for women's equality continues in many aspects of American life, and in countries around the world.\", '']\n",
            "['I am convinced that our daughters can contribute just as much to society as our sons.  (Applause.)  Our common prosperity will be advanced by allowing all humanity -- men and women -- to reach their full potential.  I do not believe that women must make the same choices as men in order to be equal, and I respect those women who choose to live their lives in traditional roles. But it should be their choice.  And that is why the United States will partner with any Muslim-majority country to support expanded literacy for girls, and to help young women pursue employment through micro-financing that helps people live their dreams.  (Applause.)', '']\n",
            "['Finally, I want to discuss economic development and opportunity.', '']\n",
            "['I know that for many, the face of globalization is contradictory.  The Internet and television can bring knowledge and information, but also offensive sexuality and mindless violence into the home.  Trade can bring new wealth and opportunities, but also huge disruptions and change in communities.  In all nations -- including America -- this change can bring fear.  Fear that because of modernity we lose control over our economic choices, our politics, and most importantly our identities -- those things we most cherish about our communities, our families, our traditions, and our faith. ', '']\n",
            "['But I also know that human progress cannot be denied.  There need not be contradictions between development and tradition. Countries like Japan and South Korea grew their economies enormously while maintaining distinct cultures.  The same is true for the astonishing progress within Muslim-majority countries from Kuala Lumpur to Dubai.  In ancient times and in our times, Muslim communities have been at the forefront of innovation and education.', '']\n",
            "['', '']\n",
            "[\"And this is important because no development strategy can be based only upon what comes out of the ground, nor can it be sustained while young people are out of work.  Many Gulf states have enjoyed great wealth as a consequence of oil, and some are beginning to focus it on broader development.  But all of us must recognize that education and innovation will be the currency of the 21st century -- (applause) -- and in too many Muslim communities, there remains underinvestment in these areas.  I'm emphasizing such investment within my own country.  And while America in the past has focused on oil and gas when it comes to this part of the world, we now seek a broader engagement.\", '']\n",
            "['On education, we will expand exchange programs, and increase scholarships, like the one that brought my father to America.  (Applause.)  At the same time, we will encourage more Americans to study in Muslim communities.  And we will match promising Muslim students with internships in America; invest in online learning for teachers and children around the world; and create a new online network, so a young person in Kansas can communicate instantly with a young person in Cairo.', '']\n",
            "['On economic development, we will create a new corps of business volunteers to partner with counterparts in Muslim-majority countries.  And I will host a Summit on Entrepreneurship this year to identify how we can deepen ties between business leaders, foundations and social entrepreneurs in the United States and Muslim communities around the world.', '']\n",
            "[\"On science and technology, we will launch a new fund to support technological development in Muslim-majority countries, and to help transfer ideas to the marketplace so they can create more jobs.  We'll open centers of scientific excellence in Africa, the Middle East and Southeast Asia, and appoint new science envoys to collaborate on programs that develop new sources of energy, create green jobs, digitize records, clean water, grow new crops.  Today I'm announcing a new global effort with the Organization of the Islamic Conference to eradicate polio.  And we will also expand partnerships with Muslim communities to promote child and maternal health.\", '']\n",
            "['All these things must be done in partnership.  Americans are ready to join with citizens and governments; community organizations, religious leaders, and businesses in Muslim communities around the world to help our people pursue a better life.', '']\n",
            "[\"The issues that I have described will not be easy to address.  But we have a responsibility to join together on behalf of the world that we seek -- a world where extremists no longer threaten our people, and American troops have come home; a world where Israelis and Palestinians are each secure in a state of their own, and nuclear energy is used for peaceful purposes; a world where governments serve their citizens, and the rights of all God's children are respected.  Those are mutual interests.  That is the world we seek.  But we can only achieve it together.\", '']\n",
            "[\"I know there are many -- Muslim and non-Muslim -- who question whether we can forge this new beginning.  Some are eager to stoke the flames of division, and to stand in the way of progress.  Some suggest that it isn't worth the effort -- that we are fated to disagree, and civilizations are doomed to clash. Many more are simply skeptical that real change can occur.  There's so much fear, so much mistrust that has built up over the years.  But if we choose to be bound by the past, we will never move forward.  And I want to particularly say this to young people of every faith, in every country -- you, more than anyone, have the ability to reimagine the world, to remake this world.\", '']\n",
            "['All of us share this world for but a brief moment in time. The question is whether we spend that time focused on what pushes us apart, or whether we commit ourselves to an effort -- a sustained effort -- to find common ground, to focus on the future we seek for our children, and to respect the dignity of all human beings.', '']\n",
            "[\"It's easier to start wars than to end them.  It's easier to blame others than to look inward.  It's easier to see what is different about someone than to find the things we share.  But we should choose the right path, not just the easy path.  There's one rule that lies at the heart of every religion -- that we do unto others as we would have them do unto us.  (Applause.)  This truth transcends nations and peoples -- a belief that isn't new; that isn't black or white or brown; that isn't Christian or Muslim or Jew.  It's a belief that pulsed in the cradle of civilization, and that still beats in the hearts of billions around the world.  It's a faith in other people, and it's what brought me here today.\", '']\n",
            "['We have the power to make the world we seek, but only if we have the courage to make a new beginning, keeping in mind what has been written.', '']\n",
            "['The Holy Koran tells us:  \"O mankind!  We have created you male and a female; and we have made you into nations and tribes so that you may know one another.\"', '']\n",
            "['The Talmud tells us:  \"The whole of the Torah is for the purpose of promoting peace.\"', '']\n",
            "['The Holy Bible tells us:  \"Blessed are the peacemakers, for they shall be called sons of God.\"  (Applause.)', '']\n",
            "[\"The people of the world can live together in peace.  We know that is God's vision.  Now that must be our work here on Earth.\", '']\n",
            "[\"Thank you.  And may God's peace be upon you.  Thank you very much.  Thank you.  (Applause.)\", '']\n",
            "['END        ', '']\n",
            "['2:05 P.M. (Local)']\n"
          ]
        }
      ]
    },
    {
      "cell_type": "code",
      "metadata": {
        "collapsed": true,
        "id": "WxtXV4BnwlXm"
      },
      "source": [],
      "execution_count": null,
      "outputs": []
    },
    {
      "cell_type": "markdown",
      "metadata": {
        "id": "1hw5HZELwlXn"
      },
      "source": [
        "#### what if we want to just read 5 lines"
      ]
    },
    {
      "cell_type": "code",
      "metadata": {
        "id": "_sBYcLRWwlXn",
        "colab": {
          "base_uri": "https://localhost:8080/"
        },
        "outputId": "bd460fa6-8e33-48fd-82f1-086deb2cc16e"
      },
      "source": [
        "obamafile = open('/content/drive/MyDrive/Colab Notebooks/Oxford Text Analysis 22/Python QTA Drive Oxford 2022/Data/obamaincairo.txt', \"r\") #open files\n",
        "lines = obamafile.readlines() # a lst of strings, each string refers to one line in the file\n",
        "for i in range(5): #read line by line\n",
        "    print(lines[i]) # why the brackets here? Because content is saved in a list\n",
        "obamafile.close()"
      ],
      "execution_count": null,
      "outputs": [
        {
          "output_type": "stream",
          "name": "stdout",
          "text": [
            "PRESIDENT OBAMA:  Thank you very much.  Good afternoon.  I am honored to be in the timeless city of Cairo, and to be hosted by two remarkable institutions.  For over a thousand years, Al-Azhar has stood as a beacon of Islamic learning; and for over a century, Cairo University has been a source of Egypt's advancement.  And together, you represent the harmony between tradition and progress.  I'm grateful for your hospitality, and the hospitality of the people of Egypt.  And I'm also proud to carry with me the goodwill of the American people, and a greeting of peace from Muslim communities in my country:  Assalaamu alaykum. (Applause.)\n",
            "\n",
            "We meet at a time of great tension between the United States and Muslims around the world -- tension rooted in historical forces that go beyond any current policy debate.  The relationship between Islam and the West includes centuries of coexistence and cooperation, but also conflict and religious wars.  More recently, tension has been fed by colonialism that denied rights and opportunities to many Muslims, and a Cold War in which Muslim-majority countries were too often treated as proxies without regard to their own aspirations.  Moreover, the sweeping change brought by modernity and globalization led many Muslims to view the West as hostile to the traditions of Islam.\n",
            "\n",
            "Violent extremists have exploited these tensions in a small but potent minority of Muslims.  The attacks of September 11, 2001 and the continued efforts of these extremists to engage in violence against civilians has led some in my country to view Islam as inevitably hostile not only to America and Western countries, but also to human rights.  All this has bred more fear and more mistrust.\n",
            "\n",
            "So long as our relationship is defined by our differences, we will empower those who sow hatred rather than peace, those who promote conflict rather than the cooperation that can help all of our people achieve justice and prosperity.  And this cycle of suspicion and discord must end.\n",
            "\n",
            "I've come here to Cairo to seek a new beginning between the United States and Muslims around the world, one based on mutual interest and mutual respect, and one based upon the truth that America and Islam are not exclusive and need not be in competition.  Instead, they overlap, and share common principles -- principles of justice and progress; tolerance and the dignity of all human beings.\n",
            "\n"
          ]
        }
      ]
    },
    {
      "cell_type": "markdown",
      "metadata": {
        "id": "0vrer5K2wWnw"
      },
      "source": [
        "### So what is the difference between\n",
        "- read()\n",
        "- readlines()\n",
        "- readline()"
      ]
    },
    {
      "cell_type": "code",
      "metadata": {
        "id": "37nPhMonwWnx",
        "colab": {
          "base_uri": "https://localhost:8080/",
          "height": 161
        },
        "outputId": "991bf142-79a8-4a13-8956-d7d0ceaccbbd"
      },
      "source": [
        "file1 = open('/content/drive/MyDrive/Colab Notebooks/Oxford Text Analysis 22/Python QTA Drive Oxford 2022/Data/obamaincairo.txt', 'r')\n",
        "file=file1.read()\n",
        "file\n"
      ],
      "execution_count": null,
      "outputs": [
        {
          "output_type": "execute_result",
          "data": {
            "text/plain": [
              "'PRESIDENT OBAMA:  Thank you very much.  Good afternoon.  I am honored to be in the timeless city of Cairo, and to be hosted by two remarkable institutions.  For over a thousand years, Al-Azhar has stood as a beacon of Islamic learning; and for over a century, Cairo University has been a source of Egypt\\'s advancement.  And together, you represent the harmony between tradition and progress.  I\\'m grateful for your hospitality, and the hospitality of the people of Egypt.  And I\\'m also proud to carry with me the goodwill of the American people, and a greeting of peace from Muslim communities in my country:  Assalaamu alaykum. (Applause.)\\nWe meet at a time of great tension between the United States and Muslims around the world -- tension rooted in historical forces that go beyond any current policy debate.  The relationship between Islam and the West includes centuries of coexistence and cooperation, but also conflict and religious wars.  More recently, tension has been fed by colonialism that denied rights and opportunities to many Muslims, and a Cold War in which Muslim-majority countries were too often treated as proxies without regard to their own aspirations.  Moreover, the sweeping change brought by modernity and globalization led many Muslims to view the West as hostile to the traditions of Islam.\\nViolent extremists have exploited these tensions in a small but potent minority of Muslims.  The attacks of September 11, 2001 and the continued efforts of these extremists to engage in violence against civilians has led some in my country to view Islam as inevitably hostile not only to America and Western countries, but also to human rights.  All this has bred more fear and more mistrust.\\nSo long as our relationship is defined by our differences, we will empower those who sow hatred rather than peace, those who promote conflict rather than the cooperation that can help all of our people achieve justice and prosperity.  And this cycle of suspicion and discord must end.\\nI\\'ve come here to Cairo to seek a new beginning between the United States and Muslims around the world, one based on mutual interest and mutual respect, and one based upon the truth that America and Islam are not exclusive and need not be in competition.  Instead, they overlap, and share common principles -- principles of justice and progress; tolerance and the dignity of all human beings.\\nI do so recognizing that change cannot happen overnight.  I know there\\'s been a lot of publicity about this speech, but no single speech can eradicate years of mistrust, nor can I answer in the time that I have this afternoon all the complex questions that brought us to this point.  But I am convinced that in order to move forward, we must say openly to each other the things we hold in our hearts and that too often are said only behind closed doors.  There must be a sustained effort to listen to each other; to learn from each other; to respect one another; and to seek common ground.  As the Holy Koran tells us, \"Be conscious of God and speak always the truth.\"  (Applause.)  That is what I will try to do today -- to speak the truth as best I can, humbled by the task before us, and firm in my belief that the interests we share as human beings are far more powerful than the forces that drive us apart.\\nNow part of this conviction is rooted in my own experience. I\\'m a Christian, but my father came from a Kenyan family that includes generations of Muslims.  As a boy, I spent several years in Indonesia and heard the call of the azaan at the break of dawn and at the fall of dusk.  As a young man, I worked in Chicago communities where many found dignity and peace in their Muslim faith.\\nAs a student of history, I also know civilization\\'s debt to Islam.  It was Islam -- at places like Al-Azhar -- that carried the light of learning through so many centuries, paving the way for Europe\\'s Renaissance and Enlightenment.  It was innovation in Muslim communities -- (applause) -- it was innovation in Muslim communities that developed the order of algebra; our magnetic compass and tools of navigation; our mastery of pens and printing; our understanding of how disease spreads and how it can be healed.  Islamic culture has given us majestic arches and soaring spires; timeless poetry and cherished music; elegant calligraphy and places of peaceful contemplation.  And throughout history, Islam has demonstrated through words and deeds the possibilities of religious tolerance and racial equality.  (Applause.)\\nI also know that Islam has always been a part of America\\'s story.  The first nation to recognize my country was Morocco.  In signing the Treaty of Tripoli in 1796, our second President, John Adams, wrote, \"The United States has in itself no character of enmity against the laws, religion or tranquility of Muslims.\"  And since our founding, American Muslims have enriched the United States.  They have fought in our wars, they have served in our government, they have stood for civil rights, they have started businesses, they have taught at our universities, they\\'ve excelled in our sports arenas, they\\'ve won Nobel Prizes, built our tallest building, and lit the Olympic Torch.  And when the first Muslim American was recently elected to Congress, he took the oath to defend our Constitution using the same Holy Koran that one of our Founding Fathers -- Thomas Jefferson -- kept in his personal library.  (Applause.)\\nSo I have known Islam on three continents before coming to the region where it was first revealed.  That experience guides my conviction that partnership between America and Islam must be based on what Islam is, not what it isn\\'t.  And I consider it part of my responsibility as President of the United States to fight against negative stereotypes of Islam wherever they appear. (Applause.)\\nBut that same principle must apply to Muslim perceptions of America.  (Applause.)  Just as Muslims do not fit a crude stereotype, America is not the crude stereotype of a self-interested empire.  The United States has been one of the greatest sources of progress that the world has ever known.  We were born out of revolution against an empire.  We were founded upon the ideal that all are created equal, and we have shed blood and struggled for centuries to give meaning to those words -- within our borders, and around the world.  We are shaped by every culture, drawn from every end of the Earth, and dedicated to a simple concept:  E pluribus unum -- \"Out of many, one.\"  \\nNow, much has been made of the fact that an African American with the name Barack Hussein Obama could be elected President.  (Applause.)  But my personal story is not so unique.  The dream of opportunity for all people has not come true for everyone in America, but its promise exists for all who come to our shores -- and that includes nearly 7 million American Muslims in our country today who, by the way, enjoy incomes and educational levels that are higher than the American average.  (Applause.)\\nMoreover, freedom in America is indivisible from the freedom to practice one\\'s religion.  That is why there is a mosque in every state in our union, and over 1,200 mosques within our borders.  That\\'s why the United States government has gone to court to protect the right of women and girls to wear the hijab and to punish those who would deny it.  (Applause.)\\nSo let there be no doubt:  Islam is a part of America.  And I believe that America holds within her the truth that regardless of race, religion, or station in life, all of us share common aspirations -- to live in peace and security; to get an education and to work with dignity; to love our families, our communities, and our God.  These things we share.  This is the hope of all humanity.\\nOf course, recognizing our common humanity is only the beginning of our task.  Words alone cannot meet the needs of our people.  These needs will be met only if we act boldly in the years ahead; and if we understand that the challenges we face are shared, and our failure to meet them will hurt us all.\\nFor we have learned from recent experience that when a financial system weakens in one country, prosperity is hurt everywhere.  When a new flu infects one human being, all are at risk.  When one nation pursues a nuclear weapon, the risk of nuclear attack rises for all nations.  When violent extremists operate in one stretch of mountains, people are endangered across an ocean.  When innocents in Bosnia and Darfur are slaughtered, that is a stain on our collective conscience.  (Applause.)  That is what it means to share this world in the 21st century.  That is the responsibility we have to one another as human beings.\\nAnd this is a difficult responsibility to embrace.  For human history has often been a record of nations and tribes -- and, yes, religions -- subjugating one another in pursuit of their own interests.  Yet in this new age, such attitudes are self-defeating.  Given our interdependence, any world order that elevates one nation or group of people over another will inevitably fail.  So whatever we think of the past, we must not be prisoners to it.  Our problems must be dealt with through partnership; our progress must be shared.  (Applause.)\\nNow, that does not mean we should ignore sources of tension. Indeed, it suggests the opposite:  We must face these tensions squarely.  And so in that spirit, let me speak as clearly and as plainly as I can about some specific issues that I believe we must finally confront together. \\nThe first issue that we have to confront is violent extremism in all of its forms.\\nIn Ankara, I made clear that America is not -- and never will be -- at war with Islam.  (Applause.)  We will, however, relentlessly confront violent extremists who pose a grave threat to our security -- because we reject the same thing that people of all faiths reject:  the killing of innocent men, women, and children.  And it is my first duty as President to protect the American people.\\nThe situation in Afghanistan demonstrates America\\'s goals, and our need to work together.  Over seven years ago, the United States pursued al Qaeda and the Taliban with broad international support.  We did not go by choice; we went because of necessity. I\\'m aware that there\\'s still some who would question or even justify the events of 9/11.  But let us be clear:  Al Qaeda killed nearly 3,000 people on that day.  The victims were innocent men, women and children from America and many other nations who had done nothing to harm anybody.  And yet al Qaeda chose to ruthlessly murder these people, claimed credit for the attack, and even now states their determination to kill on a massive scale.  They have affiliates in many countries and are trying to expand their reach.  These are not opinions to be debated; these are facts to be dealt with.\\nNow, make no mistake:  We do not want to keep our troops in Afghanistan.  We see no military -- we seek no military bases there.  It is agonizing for America to lose our young men and women.  It is costly and politically difficult to continue this conflict.  We would gladly bring every single one of our troops home if we could be confident that there were not violent extremists in Afghanistan and now Pakistan determined to kill as many Americans as they possibly can.  But that is not yet the case.\\nAnd that\\'s why we\\'re partnering with a coalition of 46 countries.  And despite the costs involved, America\\'s commitment will not weaken.  Indeed, none of us should tolerate these extremists.  They have killed in many countries.  They have killed people of different faiths -- but more than any other, they have killed Muslims.  Their actions are irreconcilable with the rights of human beings, the progress of nations, and with Islam.  The Holy Koran teaches that whoever kills an innocent is as -- it is as if he has killed all mankind.  (Applause.)  And the Holy Koran also says whoever saves a person, it is as if he has saved all mankind.  (Applause.)  The enduring faith of over a billion people is so much bigger than the narrow hatred of a few. Islam is not part of the problem in combating violent extremism -- it is an important part of promoting peace. \\nNow, we also know that military power alone is not going to solve the problems in Afghanistan and Pakistan.  That\\'s why we plan to invest $1.5 billion each year over the next five years to partner with Pakistanis to build schools and hospitals, roads and businesses, and hundreds of millions to help those who\\'ve been displaced.  That\\'s why we are providing more than $2.8 billion to help Afghans develop their economy and deliver services that people depend on.\\nLet me also address the issue of Iraq.  Unlike Afghanistan, Iraq was a war of choice that provoked strong differences in my country and around the world.  Although I believe that the Iraqi people are ultimately better off without the tyranny of Saddam Hussein, I also believe that events in Iraq have reminded America of the need to use diplomacy and build international consensus to resolve our problems whenever possible.  (Applause.)  Indeed, we can recall the words of Thomas Jefferson, who said:  \"I hope that our wisdom will grow with our power, and teach us that the less we use our power the greater it will be.\"\\nToday, America has a dual responsibility:  to help Iraq forge a better future -- and to leave Iraq to Iraqis.  And I have made it clear to the Iraqi people -- (applause) -- I have made it clear to the Iraqi people that we pursue no bases, and no claim on their territory or resources.  Iraq\\'s sovereignty is its own. And that\\'s why I ordered the removal of our combat brigades by next August.  That is why we will honor our agreement with Iraq\\'s democratically elected government to remove combat troops from Iraqi cities by July, and to remove all of our troops from Iraq by 2012.  (Applause.)  We will help Iraq train its security forces and develop its economy.  But we will support a secure and united Iraq as a partner, and never as a patron.\\nAnd finally, just as America can never tolerate violence by extremists, we must never alter or forget our principles.  Nine-eleven was an enormous trauma to our country.  The fear and anger that it provoked was understandable, but in some cases, it led us to act contrary to our traditions and our ideals.  We are taking concrete actions to change course.  I have unequivocally prohibited the use of torture by the United States, and I have ordered the prison at Guantanamo Bay closed by early next year.  (Applause.)\\nSo America will defend itself, respectful of the sovereignty of nations and the rule of law.  And we will do so in partnership with Muslim communities which are also threatened.  The sooner the extremists are isolated and unwelcome in Muslim communities, the sooner we will all be safer.\\nThe second major source of tension that we need to discuss is the situation between Israelis, Palestinians and the Arab world.\\nAmerica\\'s strong bonds with Israel are well known.  This bond is unbreakable.  It is based upon cultural and historical ties, and the recognition that the aspiration for a Jewish homeland is rooted in a tragic history that cannot be denied.\\nAround the world, the Jewish people were persecuted for centuries, and anti-Semitism in Europe culminated in an unprecedented Holocaust.  Tomorrow, I will visit Buchenwald, which was part of a network of camps where Jews were enslaved, tortured, shot and gassed to death by the Third Reich.  Six million Jews were killed -- more than the entire Jewish population of Israel today.  Denying that fact is baseless, it is ignorant, and it is hateful.  Threatening Israel with destruction -- or repeating vile stereotypes about Jews -- is deeply wrong, and only serves to evoke in the minds of Israelis this most painful of memories while preventing the peace that the people of this region deserve.\\nOn the other hand, it is also undeniable that the Palestinian people -- Muslims and Christians -- have suffered in pursuit of a homeland.  For more than 60 years they\\'ve endured the pain of dislocation.  Many wait in refugee camps in the West Bank, Gaza, and neighboring lands for a life of peace and security that they have never been able to lead.  They endure the daily humiliations -- large and small -- that come with occupation.  So let there be no doubt:  The situation for the Palestinian people is intolerable.  And America will not turn our backs on the legitimate Palestinian aspiration for dignity, opportunity, and a state of their own.  (Applause.)\\nFor decades then, there has been a stalemate:  two peoples with legitimate aspirations, each with a painful history that makes compromise elusive.  It\\'s easy to point fingers -- for Palestinians to point to the displacement brought about by Israel\\'s founding, and for Israelis to point to the constant hostility and attacks throughout its history from within its borders as well as beyond.  But if we see this conflict only from one side or the other, then we will be blind to the truth:  The only resolution is for the aspirations of both sides to be met through two states, where Israelis and Palestinians each live in peace and security.  (Applause.)\\nThat is in Israel\\'s interest, Palestine\\'s interest, America\\'s interest, and the world\\'s interest.  And that is why I intend to personally pursue this outcome with all the patience and dedication that the task requires.  (Applause.)  The obligations -- the obligations that the parties have agreed to under the road map are clear.  For peace to come, it is time for them -- and all of us -- to live up to our responsibilities.\\nPalestinians must abandon violence.  Resistance through violence and killing is wrong and it does not succeed.  For centuries, black people in America suffered the lash of the whip as slaves and the humiliation of segregation.  But it was not violence that won full and equal rights.  It was a peaceful and determined insistence upon the ideals at the center of America\\'s founding.  This same story can be told by people from South Africa to South Asia; from Eastern Europe to Indonesia.  It\\'s a story with a simple truth:  that violence is a dead end.  It is a sign neither of courage nor power to shoot rockets at sleeping children, or to blow up old women on a bus.  That\\'s not how moral authority is claimed; that\\'s how it is surrendered.\\nNow is the time for Palestinians to focus on what they can build.  The Palestinian Authority must develop its capacity to govern, with institutions that serve the needs of its people. Hamas does have support among some Palestinians, but they also have to recognize they have responsibilities.  To play a role in fulfilling Palestinian aspirations, to unify the Palestinian people, Hamas must put an end to violence, recognize past agreements, recognize Israel\\'s right to exist.\\nAt the same time, Israelis must acknowledge that just as Israel\\'s right to exist cannot be denied, neither can Palestine\\'s.  The United States does not accept the legitimacy of continued Israeli settlements.  (Applause.)  This construction violates previous agreements and undermines efforts to achieve peace.  It is time for these settlements to stop.  (Applause.)\\nAnd Israel must also live up to its obligation to ensure that Palestinians can live and work and develop their society.  Just as it devastates Palestinian families, the continuing humanitarian crisis in Gaza does not serve Israel\\'s security; neither does the continuing lack of opportunity in the West Bank. Progress in the daily lives of the Palestinian people must be a critical part of a road to peace, and Israel must take concrete steps to enable such progress. \\nAnd finally, the Arab states must recognize that the Arab Peace Initiative was an important beginning, but not the end of their responsibilities.  The Arab-Israeli conflict should no longer be used to distract the people of Arab nations from other problems.  Instead, it must be a cause for action to help the Palestinian people develop the institutions that will sustain their state, to recognize Israel\\'s legitimacy, and to choose progress over a self-defeating focus on the past.\\nAmerica will align our policies with those who pursue peace, and we will say in public what we say in private to Israelis and Palestinians and Arabs.  (Applause.)  We cannot impose peace.  But privately, many Muslims recognize that Israel will not go away.  Likewise, many Israelis recognize the need for a Palestinian state.  It is time for us to act on what everyone knows to be true.\\nToo many tears have been shed.  Too much blood has been shed.  All of us have a responsibility to work for the day when the mothers of Israelis and Palestinians can see their children grow up without fear; when the Holy Land of the three great faiths is the place of peace that God intended it to be; when Jerusalem is a secure and lasting home for Jews and Christians and Muslims, and a place for all of the children of Abraham to mingle peacefully together as in the story of Isra -- (applause) -- as in the story of Isra, when Moses, Jesus, and Mohammed, peace be upon them, joined in prayer.  (Applause.)\\nThe third source of tension is our shared interest in the rights and responsibilities of nations on nuclear weapons.\\nThis issue has been a source of tension between the United States and the Islamic Republic of Iran.  For many years, Iran has defined itself in part by its opposition to my country, and there is in fact a tumultuous history between us.  In the middle of the Cold War, the United States played a role in the overthrow of a democratically elected Iranian government.  Since the Islamic Revolution, Iran has played a role in acts of hostage-taking and violence against U.S. troops and civilians.  This history is well known.  Rather than remain trapped in the past, I\\'ve made it clear to Iran\\'s leaders and people that my country is prepared to move forward.  The question now is not what Iran is against, but rather what future it wants to build.\\nI recognize it will be hard to overcome decades of mistrust, but we will proceed with courage, rectitude, and resolve.  There will be many issues to discuss between our two countries, and we are willing to move forward without preconditions on the basis of mutual respect.  But it is clear to all concerned that when it comes to nuclear weapons, we have reached a decisive point.  This is not simply about America\\'s interests.  It\\'s about preventing a nuclear arms race in the Middle East that could lead this region and the world down a hugely dangerous path.\\nI understand those who protest that some countries have weapons that others do not.  No single nation should pick and choose which nation holds nuclear weapons.  And that\\'s why I strongly reaffirmed America\\'s commitment to seek a world in which no nations hold nuclear weapons.  (Applause.)  And any nation -- including Iran -- should have the right to access peaceful nuclear power if it complies with its responsibilities under the nuclear Non-Proliferation Treaty.  That commitment is at the core of the treaty, and it must be kept for all who fully abide by it. And I\\'m hopeful that all countries in the region can share in this goal.\\nThe fourth issue that I will address is democracy.  (Applause.)\\nI know -- I know there has been controversy about the promotion of democracy in recent years, and much of this controversy is connected to the war in Iraq.  So let me be clear: No system of government can or should be imposed by one nation by any other.\\n \\nThat does not lessen my commitment, however, to governments that reflect the will of the people.  Each nation gives life to this principle in its own way, grounded in the traditions of its own people.  America does not presume to know what is best for everyone, just as we would not presume to pick the outcome of a peaceful election.  But I do have an unyielding belief that all people yearn for certain things:  the ability to speak your mind and have a say in how you are governed; confidence in the rule of law and the equal administration of justice; government that is transparent and doesn\\'t steal from the people; the freedom to live as you choose.  These are not just American ideas; they are human rights.  And that is why we will support them everywhere.  (Applause.)\\nNow, there is no straight line to realize this promise.  But this much is clear:  Governments that protect these rights are ultimately more stable, successful and secure.  Suppressing ideas never succeeds in making them go away.  America respects the right of all peaceful and law-abiding voices to be heard around the world, even if we disagree with them.  And we will welcome all elected, peaceful governments -- provided they govern with respect for all their people.\\nThis last point is important because there are some who advocate for democracy only when they\\'re out of power; once in power, they are ruthless in suppressing the rights of others.  (Applause.)  So no matter where it takes hold, government of the people and by the people sets a single standard for all who would hold power:  You must maintain your power through consent, not coercion; you must respect the rights of minorities, and participate with a spirit of tolerance and compromise; you must place the interests of your people and the legitimate workings of the political process above your party.  Without these ingredients, elections alone do not make true democracy.\\nAUDIENCE MEMBER:  Barack Obama, we love you!\\nPRESIDENT OBAMA:  Thank you.  (Applause.)  The fifth issue that we must address together is religious freedom.\\nIslam has a proud tradition of tolerance.  We see it in the history of Andalusia and Cordoba during the Inquisition.  I saw it firsthand as a child in Indonesia, where devout Christians worshiped freely in an overwhelmingly Muslim country.  That is the spirit we need today.  People in every country should be free to choose and live their faith based upon the persuasion of the mind and the heart and the soul.  This tolerance is essential for religion to thrive, but it\\'s being challenged in many different ways.\\nAmong some Muslims, there\\'s a disturbing tendency to measure one\\'s own faith by the rejection of somebody else\\'s faith.  The richness of religious diversity must be upheld -- whether it is for Maronites in Lebanon or the Copts in Egypt.  (Applause.)  And if we are being honest, fault lines must be closed among Muslims, as well, as the divisions between Sunni and Shia have led to tragic violence, particularly in Iraq.\\nFreedom of religion is central to the ability of peoples to live together.  We must always examine the ways in which we protect it.  For instance, in the United States, rules on charitable giving have made it harder for Muslims to fulfill their religious obligation.  That\\'s why I\\'m committed to working with American Muslims to ensure that they can fulfill zakat. \\nLikewise, it is important for Western countries to avoid impeding Muslim citizens from practicing religion as they see fit -- for instance, by dictating what clothes a Muslim woman should wear.  We can\\'t disguise hostility towards any religion behind the pretence of liberalism.\\n \\nIn fact, faith should bring us together.  And that\\'s why we\\'re forging service projects in America to bring together Christians, Muslims, and Jews.  That\\'s why we welcome efforts like Saudi Arabian King Abdullah\\'s interfaith dialogue and Turkey\\'s leadership in the Alliance of Civilizations.  Around the world, we can turn dialogue into interfaith service, so bridges between peoples lead to action -- whether it is combating malaria in Africa, or providing relief after a natural disaster. \\nThe sixth issue -- the sixth issue that I want to address is women\\'s rights.  (Applause.)  I know –- I know -- and you can tell from this audience, that there is a healthy debate about this issue.  I reject the view of some in the West that a woman who chooses to cover her hair is somehow less equal, but I do believe that a woman who is denied an education is denied equality.  (Applause.)  And it is no coincidence that countries where women are well educated are far more likely to be prosperous.\\nNow, let me be clear:  Issues of women\\'s equality are by no means simply an issue for Islam.  In Turkey, Pakistan, Bangladesh, Indonesia, we\\'ve seen Muslim-majority countries elect a woman to lead.  Meanwhile, the struggle for women\\'s equality continues in many aspects of American life, and in countries around the world.\\nI am convinced that our daughters can contribute just as much to society as our sons.  (Applause.)  Our common prosperity will be advanced by allowing all humanity -- men and women -- to reach their full potential.  I do not believe that women must make the same choices as men in order to be equal, and I respect those women who choose to live their lives in traditional roles. But it should be their choice.  And that is why the United States will partner with any Muslim-majority country to support expanded literacy for girls, and to help young women pursue employment through micro-financing that helps people live their dreams.  (Applause.)\\nFinally, I want to discuss economic development and opportunity.\\nI know that for many, the face of globalization is contradictory.  The Internet and television can bring knowledge and information, but also offensive sexuality and mindless violence into the home.  Trade can bring new wealth and opportunities, but also huge disruptions and change in communities.  In all nations -- including America -- this change can bring fear.  Fear that because of modernity we lose control over our economic choices, our politics, and most importantly our identities -- those things we most cherish about our communities, our families, our traditions, and our faith. \\nBut I also know that human progress cannot be denied.  There need not be contradictions between development and tradition. Countries like Japan and South Korea grew their economies enormously while maintaining distinct cultures.  The same is true for the astonishing progress within Muslim-majority countries from Kuala Lumpur to Dubai.  In ancient times and in our times, Muslim communities have been at the forefront of innovation and education.\\n\\nAnd this is important because no development strategy can be based only upon what comes out of the ground, nor can it be sustained while young people are out of work.  Many Gulf states have enjoyed great wealth as a consequence of oil, and some are beginning to focus it on broader development.  But all of us must recognize that education and innovation will be the currency of the 21st century -- (applause) -- and in too many Muslim communities, there remains underinvestment in these areas.  I\\'m emphasizing such investment within my own country.  And while America in the past has focused on oil and gas when it comes to this part of the world, we now seek a broader engagement.\\nOn education, we will expand exchange programs, and increase scholarships, like the one that brought my father to America.  (Applause.)  At the same time, we will encourage more Americans to study in Muslim communities.  And we will match promising Muslim students with internships in America; invest in online learning for teachers and children around the world; and create a new online network, so a young person in Kansas can communicate instantly with a young person in Cairo.\\nOn economic development, we will create a new corps of business volunteers to partner with counterparts in Muslim-majority countries.  And I will host a Summit on Entrepreneurship this year to identify how we can deepen ties between business leaders, foundations and social entrepreneurs in the United States and Muslim communities around the world.\\nOn science and technology, we will launch a new fund to support technological development in Muslim-majority countries, and to help transfer ideas to the marketplace so they can create more jobs.  We\\'ll open centers of scientific excellence in Africa, the Middle East and Southeast Asia, and appoint new science envoys to collaborate on programs that develop new sources of energy, create green jobs, digitize records, clean water, grow new crops.  Today I\\'m announcing a new global effort with the Organization of the Islamic Conference to eradicate polio.  And we will also expand partnerships with Muslim communities to promote child and maternal health.\\nAll these things must be done in partnership.  Americans are ready to join with citizens and governments; community organizations, religious leaders, and businesses in Muslim communities around the world to help our people pursue a better life.\\nThe issues that I have described will not be easy to address.  But we have a responsibility to join together on behalf of the world that we seek -- a world where extremists no longer threaten our people, and American troops have come home; a world where Israelis and Palestinians are each secure in a state of their own, and nuclear energy is used for peaceful purposes; a world where governments serve their citizens, and the rights of all God\\'s children are respected.  Those are mutual interests.  That is the world we seek.  But we can only achieve it together.\\nI know there are many -- Muslim and non-Muslim -- who question whether we can forge this new beginning.  Some are eager to stoke the flames of division, and to stand in the way of progress.  Some suggest that it isn\\'t worth the effort -- that we are fated to disagree, and civilizations are doomed to clash. Many more are simply skeptical that real change can occur.  There\\'s so much fear, so much mistrust that has built up over the years.  But if we choose to be bound by the past, we will never move forward.  And I want to particularly say this to young people of every faith, in every country -- you, more than anyone, have the ability to reimagine the world, to remake this world.\\nAll of us share this world for but a brief moment in time. The question is whether we spend that time focused on what pushes us apart, or whether we commit ourselves to an effort -- a sustained effort -- to find common ground, to focus on the future we seek for our children, and to respect the dignity of all human beings.\\nIt\\'s easier to start wars than to end them.  It\\'s easier to blame others than to look inward.  It\\'s easier to see what is different about someone than to find the things we share.  But we should choose the right path, not just the easy path.  There\\'s one rule that lies at the heart of every religion -- that we do unto others as we would have them do unto us.  (Applause.)  This truth transcends nations and peoples -- a belief that isn\\'t new; that isn\\'t black or white or brown; that isn\\'t Christian or Muslim or Jew.  It\\'s a belief that pulsed in the cradle of civilization, and that still beats in the hearts of billions around the world.  It\\'s a faith in other people, and it\\'s what brought me here today.\\nWe have the power to make the world we seek, but only if we have the courage to make a new beginning, keeping in mind what has been written.\\nThe Holy Koran tells us:  \"O mankind!  We have created you male and a female; and we have made you into nations and tribes so that you may know one another.\"\\nThe Talmud tells us:  \"The whole of the Torah is for the purpose of promoting peace.\"\\nThe Holy Bible tells us:  \"Blessed are the peacemakers, for they shall be called sons of God.\"  (Applause.)\\nThe people of the world can live together in peace.  We know that is God\\'s vision.  Now that must be our work here on Earth.\\nThank you.  And may God\\'s peace be upon you.  Thank you very much.  Thank you.  (Applause.)\\nEND        \\n2:05 P.M. (Local)'"
            ],
            "application/vnd.google.colaboratory.intrinsic+json": {
              "type": "string"
            }
          },
          "metadata": {},
          "execution_count": 26
        }
      ]
    },
    {
      "cell_type": "code",
      "metadata": {
        "id": "Sd6mDZeuwWnz",
        "colab": {
          "base_uri": "https://localhost:8080/",
          "height": 124
        },
        "outputId": "e21703e4-e699-471c-b890-164e788e58ac"
      },
      "source": [
        "file1 = open('/content/drive/MyDrive/Colab Notebooks/Oxford Text Analysis 22/Python QTA Drive Oxford 2022/Data/obamaincairo.txt', 'r')\n",
        "file1.readline()"
      ],
      "execution_count": null,
      "outputs": [
        {
          "output_type": "execute_result",
          "data": {
            "text/plain": [
              "\"PRESIDENT OBAMA:  Thank you very much.  Good afternoon.  I am honored to be in the timeless city of Cairo, and to be hosted by two remarkable institutions.  For over a thousand years, Al-Azhar has stood as a beacon of Islamic learning; and for over a century, Cairo University has been a source of Egypt's advancement.  And together, you represent the harmony between tradition and progress.  I'm grateful for your hospitality, and the hospitality of the people of Egypt.  And I'm also proud to carry with me the goodwill of the American people, and a greeting of peace from Muslim communities in my country:  Assalaamu alaykum. (Applause.)\\n\""
            ],
            "application/vnd.google.colaboratory.intrinsic+json": {
              "type": "string"
            }
          },
          "metadata": {},
          "execution_count": 27
        }
      ]
    },
    {
      "cell_type": "code",
      "metadata": {
        "id": "nh1AN4ccwWnz",
        "colab": {
          "base_uri": "https://localhost:8080/"
        },
        "outputId": "c57febfc-3c42-470f-afae-30198ed98e1d"
      },
      "source": [
        "file1.readlines() #recognizes \\n line breaks"
      ],
      "execution_count": null,
      "outputs": [
        {
          "output_type": "execute_result",
          "data": {
            "text/plain": [
              "['We meet at a time of great tension between the United States and Muslims around the world -- tension rooted in historical forces that go beyond any current policy debate.  The relationship between Islam and the West includes centuries of coexistence and cooperation, but also conflict and religious wars.  More recently, tension has been fed by colonialism that denied rights and opportunities to many Muslims, and a Cold War in which Muslim-majority countries were too often treated as proxies without regard to their own aspirations.  Moreover, the sweeping change brought by modernity and globalization led many Muslims to view the West as hostile to the traditions of Islam.\\n',\n",
              " 'Violent extremists have exploited these tensions in a small but potent minority of Muslims.  The attacks of September 11, 2001 and the continued efforts of these extremists to engage in violence against civilians has led some in my country to view Islam as inevitably hostile not only to America and Western countries, but also to human rights.  All this has bred more fear and more mistrust.\\n',\n",
              " 'So long as our relationship is defined by our differences, we will empower those who sow hatred rather than peace, those who promote conflict rather than the cooperation that can help all of our people achieve justice and prosperity.  And this cycle of suspicion and discord must end.\\n',\n",
              " \"I've come here to Cairo to seek a new beginning between the United States and Muslims around the world, one based on mutual interest and mutual respect, and one based upon the truth that America and Islam are not exclusive and need not be in competition.  Instead, they overlap, and share common principles -- principles of justice and progress; tolerance and the dignity of all human beings.\\n\",\n",
              " 'I do so recognizing that change cannot happen overnight.  I know there\\'s been a lot of publicity about this speech, but no single speech can eradicate years of mistrust, nor can I answer in the time that I have this afternoon all the complex questions that brought us to this point.  But I am convinced that in order to move forward, we must say openly to each other the things we hold in our hearts and that too often are said only behind closed doors.  There must be a sustained effort to listen to each other; to learn from each other; to respect one another; and to seek common ground.  As the Holy Koran tells us, \"Be conscious of God and speak always the truth.\"  (Applause.)  That is what I will try to do today -- to speak the truth as best I can, humbled by the task before us, and firm in my belief that the interests we share as human beings are far more powerful than the forces that drive us apart.\\n',\n",
              " \"Now part of this conviction is rooted in my own experience. I'm a Christian, but my father came from a Kenyan family that includes generations of Muslims.  As a boy, I spent several years in Indonesia and heard the call of the azaan at the break of dawn and at the fall of dusk.  As a young man, I worked in Chicago communities where many found dignity and peace in their Muslim faith.\\n\",\n",
              " \"As a student of history, I also know civilization's debt to Islam.  It was Islam -- at places like Al-Azhar -- that carried the light of learning through so many centuries, paving the way for Europe's Renaissance and Enlightenment.  It was innovation in Muslim communities -- (applause) -- it was innovation in Muslim communities that developed the order of algebra; our magnetic compass and tools of navigation; our mastery of pens and printing; our understanding of how disease spreads and how it can be healed.  Islamic culture has given us majestic arches and soaring spires; timeless poetry and cherished music; elegant calligraphy and places of peaceful contemplation.  And throughout history, Islam has demonstrated through words and deeds the possibilities of religious tolerance and racial equality.  (Applause.)\\n\",\n",
              " 'I also know that Islam has always been a part of America\\'s story.  The first nation to recognize my country was Morocco.  In signing the Treaty of Tripoli in 1796, our second President, John Adams, wrote, \"The United States has in itself no character of enmity against the laws, religion or tranquility of Muslims.\"  And since our founding, American Muslims have enriched the United States.  They have fought in our wars, they have served in our government, they have stood for civil rights, they have started businesses, they have taught at our universities, they\\'ve excelled in our sports arenas, they\\'ve won Nobel Prizes, built our tallest building, and lit the Olympic Torch.  And when the first Muslim American was recently elected to Congress, he took the oath to defend our Constitution using the same Holy Koran that one of our Founding Fathers -- Thomas Jefferson -- kept in his personal library.  (Applause.)\\n',\n",
              " \"So I have known Islam on three continents before coming to the region where it was first revealed.  That experience guides my conviction that partnership between America and Islam must be based on what Islam is, not what it isn't.  And I consider it part of my responsibility as President of the United States to fight against negative stereotypes of Islam wherever they appear. (Applause.)\\n\",\n",
              " 'But that same principle must apply to Muslim perceptions of America.  (Applause.)  Just as Muslims do not fit a crude stereotype, America is not the crude stereotype of a self-interested empire.  The United States has been one of the greatest sources of progress that the world has ever known.  We were born out of revolution against an empire.  We were founded upon the ideal that all are created equal, and we have shed blood and struggled for centuries to give meaning to those words -- within our borders, and around the world.  We are shaped by every culture, drawn from every end of the Earth, and dedicated to a simple concept:  E pluribus unum -- \"Out of many, one.\"  \\n',\n",
              " 'Now, much has been made of the fact that an African American with the name Barack Hussein Obama could be elected President.  (Applause.)  But my personal story is not so unique.  The dream of opportunity for all people has not come true for everyone in America, but its promise exists for all who come to our shores -- and that includes nearly 7 million American Muslims in our country today who, by the way, enjoy incomes and educational levels that are higher than the American average.  (Applause.)\\n',\n",
              " \"Moreover, freedom in America is indivisible from the freedom to practice one's religion.  That is why there is a mosque in every state in our union, and over 1,200 mosques within our borders.  That's why the United States government has gone to court to protect the right of women and girls to wear the hijab and to punish those who would deny it.  (Applause.)\\n\",\n",
              " 'So let there be no doubt:  Islam is a part of America.  And I believe that America holds within her the truth that regardless of race, religion, or station in life, all of us share common aspirations -- to live in peace and security; to get an education and to work with dignity; to love our families, our communities, and our God.  These things we share.  This is the hope of all humanity.\\n',\n",
              " 'Of course, recognizing our common humanity is only the beginning of our task.  Words alone cannot meet the needs of our people.  These needs will be met only if we act boldly in the years ahead; and if we understand that the challenges we face are shared, and our failure to meet them will hurt us all.\\n',\n",
              " 'For we have learned from recent experience that when a financial system weakens in one country, prosperity is hurt everywhere.  When a new flu infects one human being, all are at risk.  When one nation pursues a nuclear weapon, the risk of nuclear attack rises for all nations.  When violent extremists operate in one stretch of mountains, people are endangered across an ocean.  When innocents in Bosnia and Darfur are slaughtered, that is a stain on our collective conscience.  (Applause.)  That is what it means to share this world in the 21st century.  That is the responsibility we have to one another as human beings.\\n',\n",
              " 'And this is a difficult responsibility to embrace.  For human history has often been a record of nations and tribes -- and, yes, religions -- subjugating one another in pursuit of their own interests.  Yet in this new age, such attitudes are self-defeating.  Given our interdependence, any world order that elevates one nation or group of people over another will inevitably fail.  So whatever we think of the past, we must not be prisoners to it.  Our problems must be dealt with through partnership; our progress must be shared.  (Applause.)\\n',\n",
              " 'Now, that does not mean we should ignore sources of tension. Indeed, it suggests the opposite:  We must face these tensions squarely.  And so in that spirit, let me speak as clearly and as plainly as I can about some specific issues that I believe we must finally confront together. \\n',\n",
              " 'The first issue that we have to confront is violent extremism in all of its forms.\\n',\n",
              " 'In Ankara, I made clear that America is not -- and never will be -- at war with Islam.  (Applause.)  We will, however, relentlessly confront violent extremists who pose a grave threat to our security -- because we reject the same thing that people of all faiths reject:  the killing of innocent men, women, and children.  And it is my first duty as President to protect the American people.\\n',\n",
              " \"The situation in Afghanistan demonstrates America's goals, and our need to work together.  Over seven years ago, the United States pursued al Qaeda and the Taliban with broad international support.  We did not go by choice; we went because of necessity. I'm aware that there's still some who would question or even justify the events of 9/11.  But let us be clear:  Al Qaeda killed nearly 3,000 people on that day.  The victims were innocent men, women and children from America and many other nations who had done nothing to harm anybody.  And yet al Qaeda chose to ruthlessly murder these people, claimed credit for the attack, and even now states their determination to kill on a massive scale.  They have affiliates in many countries and are trying to expand their reach.  These are not opinions to be debated; these are facts to be dealt with.\\n\",\n",
              " 'Now, make no mistake:  We do not want to keep our troops in Afghanistan.  We see no military -- we seek no military bases there.  It is agonizing for America to lose our young men and women.  It is costly and politically difficult to continue this conflict.  We would gladly bring every single one of our troops home if we could be confident that there were not violent extremists in Afghanistan and now Pakistan determined to kill as many Americans as they possibly can.  But that is not yet the case.\\n',\n",
              " \"And that's why we're partnering with a coalition of 46 countries.  And despite the costs involved, America's commitment will not weaken.  Indeed, none of us should tolerate these extremists.  They have killed in many countries.  They have killed people of different faiths -- but more than any other, they have killed Muslims.  Their actions are irreconcilable with the rights of human beings, the progress of nations, and with Islam.  The Holy Koran teaches that whoever kills an innocent is as -- it is as if he has killed all mankind.  (Applause.)  And the Holy Koran also says whoever saves a person, it is as if he has saved all mankind.  (Applause.)  The enduring faith of over a billion people is so much bigger than the narrow hatred of a few. Islam is not part of the problem in combating violent extremism -- it is an important part of promoting peace. \\n\",\n",
              " \"Now, we also know that military power alone is not going to solve the problems in Afghanistan and Pakistan.  That's why we plan to invest $1.5 billion each year over the next five years to partner with Pakistanis to build schools and hospitals, roads and businesses, and hundreds of millions to help those who've been displaced.  That's why we are providing more than $2.8 billion to help Afghans develop their economy and deliver services that people depend on.\\n\",\n",
              " 'Let me also address the issue of Iraq.  Unlike Afghanistan, Iraq was a war of choice that provoked strong differences in my country and around the world.  Although I believe that the Iraqi people are ultimately better off without the tyranny of Saddam Hussein, I also believe that events in Iraq have reminded America of the need to use diplomacy and build international consensus to resolve our problems whenever possible.  (Applause.)  Indeed, we can recall the words of Thomas Jefferson, who said:  \"I hope that our wisdom will grow with our power, and teach us that the less we use our power the greater it will be.\"\\n',\n",
              " \"Today, America has a dual responsibility:  to help Iraq forge a better future -- and to leave Iraq to Iraqis.  And I have made it clear to the Iraqi people -- (applause) -- I have made it clear to the Iraqi people that we pursue no bases, and no claim on their territory or resources.  Iraq's sovereignty is its own. And that's why I ordered the removal of our combat brigades by next August.  That is why we will honor our agreement with Iraq's democratically elected government to remove combat troops from Iraqi cities by July, and to remove all of our troops from Iraq by 2012.  (Applause.)  We will help Iraq train its security forces and develop its economy.  But we will support a secure and united Iraq as a partner, and never as a patron.\\n\",\n",
              " 'And finally, just as America can never tolerate violence by extremists, we must never alter or forget our principles.  Nine-eleven was an enormous trauma to our country.  The fear and anger that it provoked was understandable, but in some cases, it led us to act contrary to our traditions and our ideals.  We are taking concrete actions to change course.  I have unequivocally prohibited the use of torture by the United States, and I have ordered the prison at Guantanamo Bay closed by early next year.  (Applause.)\\n',\n",
              " 'So America will defend itself, respectful of the sovereignty of nations and the rule of law.  And we will do so in partnership with Muslim communities which are also threatened.  The sooner the extremists are isolated and unwelcome in Muslim communities, the sooner we will all be safer.\\n',\n",
              " 'The second major source of tension that we need to discuss is the situation between Israelis, Palestinians and the Arab world.\\n',\n",
              " \"America's strong bonds with Israel are well known.  This bond is unbreakable.  It is based upon cultural and historical ties, and the recognition that the aspiration for a Jewish homeland is rooted in a tragic history that cannot be denied.\\n\",\n",
              " 'Around the world, the Jewish people were persecuted for centuries, and anti-Semitism in Europe culminated in an unprecedented Holocaust.  Tomorrow, I will visit Buchenwald, which was part of a network of camps where Jews were enslaved, tortured, shot and gassed to death by the Third Reich.  Six million Jews were killed -- more than the entire Jewish population of Israel today.  Denying that fact is baseless, it is ignorant, and it is hateful.  Threatening Israel with destruction -- or repeating vile stereotypes about Jews -- is deeply wrong, and only serves to evoke in the minds of Israelis this most painful of memories while preventing the peace that the people of this region deserve.\\n',\n",
              " \"On the other hand, it is also undeniable that the Palestinian people -- Muslims and Christians -- have suffered in pursuit of a homeland.  For more than 60 years they've endured the pain of dislocation.  Many wait in refugee camps in the West Bank, Gaza, and neighboring lands for a life of peace and security that they have never been able to lead.  They endure the daily humiliations -- large and small -- that come with occupation.  So let there be no doubt:  The situation for the Palestinian people is intolerable.  And America will not turn our backs on the legitimate Palestinian aspiration for dignity, opportunity, and a state of their own.  (Applause.)\\n\",\n",
              " \"For decades then, there has been a stalemate:  two peoples with legitimate aspirations, each with a painful history that makes compromise elusive.  It's easy to point fingers -- for Palestinians to point to the displacement brought about by Israel's founding, and for Israelis to point to the constant hostility and attacks throughout its history from within its borders as well as beyond.  But if we see this conflict only from one side or the other, then we will be blind to the truth:  The only resolution is for the aspirations of both sides to be met through two states, where Israelis and Palestinians each live in peace and security.  (Applause.)\\n\",\n",
              " \"That is in Israel's interest, Palestine's interest, America's interest, and the world's interest.  And that is why I intend to personally pursue this outcome with all the patience and dedication that the task requires.  (Applause.)  The obligations -- the obligations that the parties have agreed to under the road map are clear.  For peace to come, it is time for them -- and all of us -- to live up to our responsibilities.\\n\",\n",
              " \"Palestinians must abandon violence.  Resistance through violence and killing is wrong and it does not succeed.  For centuries, black people in America suffered the lash of the whip as slaves and the humiliation of segregation.  But it was not violence that won full and equal rights.  It was a peaceful and determined insistence upon the ideals at the center of America's founding.  This same story can be told by people from South Africa to South Asia; from Eastern Europe to Indonesia.  It's a story with a simple truth:  that violence is a dead end.  It is a sign neither of courage nor power to shoot rockets at sleeping children, or to blow up old women on a bus.  That's not how moral authority is claimed; that's how it is surrendered.\\n\",\n",
              " \"Now is the time for Palestinians to focus on what they can build.  The Palestinian Authority must develop its capacity to govern, with institutions that serve the needs of its people. Hamas does have support among some Palestinians, but they also have to recognize they have responsibilities.  To play a role in fulfilling Palestinian aspirations, to unify the Palestinian people, Hamas must put an end to violence, recognize past agreements, recognize Israel's right to exist.\\n\",\n",
              " \"At the same time, Israelis must acknowledge that just as Israel's right to exist cannot be denied, neither can Palestine's.  The United States does not accept the legitimacy of continued Israeli settlements.  (Applause.)  This construction violates previous agreements and undermines efforts to achieve peace.  It is time for these settlements to stop.  (Applause.)\\n\",\n",
              " \"And Israel must also live up to its obligation to ensure that Palestinians can live and work and develop their society.  Just as it devastates Palestinian families, the continuing humanitarian crisis in Gaza does not serve Israel's security; neither does the continuing lack of opportunity in the West Bank. Progress in the daily lives of the Palestinian people must be a critical part of a road to peace, and Israel must take concrete steps to enable such progress. \\n\",\n",
              " \"And finally, the Arab states must recognize that the Arab Peace Initiative was an important beginning, but not the end of their responsibilities.  The Arab-Israeli conflict should no longer be used to distract the people of Arab nations from other problems.  Instead, it must be a cause for action to help the Palestinian people develop the institutions that will sustain their state, to recognize Israel's legitimacy, and to choose progress over a self-defeating focus on the past.\\n\",\n",
              " 'America will align our policies with those who pursue peace, and we will say in public what we say in private to Israelis and Palestinians and Arabs.  (Applause.)  We cannot impose peace.  But privately, many Muslims recognize that Israel will not go away.  Likewise, many Israelis recognize the need for a Palestinian state.  It is time for us to act on what everyone knows to be true.\\n',\n",
              " 'Too many tears have been shed.  Too much blood has been shed.  All of us have a responsibility to work for the day when the mothers of Israelis and Palestinians can see their children grow up without fear; when the Holy Land of the three great faiths is the place of peace that God intended it to be; when Jerusalem is a secure and lasting home for Jews and Christians and Muslims, and a place for all of the children of Abraham to mingle peacefully together as in the story of Isra -- (applause) -- as in the story of Isra, when Moses, Jesus, and Mohammed, peace be upon them, joined in prayer.  (Applause.)\\n',\n",
              " 'The third source of tension is our shared interest in the rights and responsibilities of nations on nuclear weapons.\\n',\n",
              " \"This issue has been a source of tension between the United States and the Islamic Republic of Iran.  For many years, Iran has defined itself in part by its opposition to my country, and there is in fact a tumultuous history between us.  In the middle of the Cold War, the United States played a role in the overthrow of a democratically elected Iranian government.  Since the Islamic Revolution, Iran has played a role in acts of hostage-taking and violence against U.S. troops and civilians.  This history is well known.  Rather than remain trapped in the past, I've made it clear to Iran's leaders and people that my country is prepared to move forward.  The question now is not what Iran is against, but rather what future it wants to build.\\n\",\n",
              " \"I recognize it will be hard to overcome decades of mistrust, but we will proceed with courage, rectitude, and resolve.  There will be many issues to discuss between our two countries, and we are willing to move forward without preconditions on the basis of mutual respect.  But it is clear to all concerned that when it comes to nuclear weapons, we have reached a decisive point.  This is not simply about America's interests.  It's about preventing a nuclear arms race in the Middle East that could lead this region and the world down a hugely dangerous path.\\n\",\n",
              " \"I understand those who protest that some countries have weapons that others do not.  No single nation should pick and choose which nation holds nuclear weapons.  And that's why I strongly reaffirmed America's commitment to seek a world in which no nations hold nuclear weapons.  (Applause.)  And any nation -- including Iran -- should have the right to access peaceful nuclear power if it complies with its responsibilities under the nuclear Non-Proliferation Treaty.  That commitment is at the core of the treaty, and it must be kept for all who fully abide by it. And I'm hopeful that all countries in the region can share in this goal.\\n\",\n",
              " 'The fourth issue that I will address is democracy.  (Applause.)\\n',\n",
              " 'I know -- I know there has been controversy about the promotion of democracy in recent years, and much of this controversy is connected to the war in Iraq.  So let me be clear: No system of government can or should be imposed by one nation by any other.\\n',\n",
              " ' \\n',\n",
              " \"That does not lessen my commitment, however, to governments that reflect the will of the people.  Each nation gives life to this principle in its own way, grounded in the traditions of its own people.  America does not presume to know what is best for everyone, just as we would not presume to pick the outcome of a peaceful election.  But I do have an unyielding belief that all people yearn for certain things:  the ability to speak your mind and have a say in how you are governed; confidence in the rule of law and the equal administration of justice; government that is transparent and doesn't steal from the people; the freedom to live as you choose.  These are not just American ideas; they are human rights.  And that is why we will support them everywhere.  (Applause.)\\n\",\n",
              " 'Now, there is no straight line to realize this promise.  But this much is clear:  Governments that protect these rights are ultimately more stable, successful and secure.  Suppressing ideas never succeeds in making them go away.  America respects the right of all peaceful and law-abiding voices to be heard around the world, even if we disagree with them.  And we will welcome all elected, peaceful governments -- provided they govern with respect for all their people.\\n',\n",
              " \"This last point is important because there are some who advocate for democracy only when they're out of power; once in power, they are ruthless in suppressing the rights of others.  (Applause.)  So no matter where it takes hold, government of the people and by the people sets a single standard for all who would hold power:  You must maintain your power through consent, not coercion; you must respect the rights of minorities, and participate with a spirit of tolerance and compromise; you must place the interests of your people and the legitimate workings of the political process above your party.  Without these ingredients, elections alone do not make true democracy.\\n\",\n",
              " 'AUDIENCE MEMBER:  Barack Obama, we love you!\\n',\n",
              " 'PRESIDENT OBAMA:  Thank you.  (Applause.)  The fifth issue that we must address together is religious freedom.\\n',\n",
              " \"Islam has a proud tradition of tolerance.  We see it in the history of Andalusia and Cordoba during the Inquisition.  I saw it firsthand as a child in Indonesia, where devout Christians worshiped freely in an overwhelmingly Muslim country.  That is the spirit we need today.  People in every country should be free to choose and live their faith based upon the persuasion of the mind and the heart and the soul.  This tolerance is essential for religion to thrive, but it's being challenged in many different ways.\\n\",\n",
              " \"Among some Muslims, there's a disturbing tendency to measure one's own faith by the rejection of somebody else's faith.  The richness of religious diversity must be upheld -- whether it is for Maronites in Lebanon or the Copts in Egypt.  (Applause.)  And if we are being honest, fault lines must be closed among Muslims, as well, as the divisions between Sunni and Shia have led to tragic violence, particularly in Iraq.\\n\",\n",
              " \"Freedom of religion is central to the ability of peoples to live together.  We must always examine the ways in which we protect it.  For instance, in the United States, rules on charitable giving have made it harder for Muslims to fulfill their religious obligation.  That's why I'm committed to working with American Muslims to ensure that they can fulfill zakat. \\n\",\n",
              " \"Likewise, it is important for Western countries to avoid impeding Muslim citizens from practicing religion as they see fit -- for instance, by dictating what clothes a Muslim woman should wear.  We can't disguise hostility towards any religion behind the pretence of liberalism.\\n\",\n",
              " ' \\n',\n",
              " \"In fact, faith should bring us together.  And that's why we're forging service projects in America to bring together Christians, Muslims, and Jews.  That's why we welcome efforts like Saudi Arabian King Abdullah's interfaith dialogue and Turkey's leadership in the Alliance of Civilizations.  Around the world, we can turn dialogue into interfaith service, so bridges between peoples lead to action -- whether it is combating malaria in Africa, or providing relief after a natural disaster. \\n\",\n",
              " \"The sixth issue -- the sixth issue that I want to address is women's rights.  (Applause.)  I know –- I know -- and you can tell from this audience, that there is a healthy debate about this issue.  I reject the view of some in the West that a woman who chooses to cover her hair is somehow less equal, but I do believe that a woman who is denied an education is denied equality.  (Applause.)  And it is no coincidence that countries where women are well educated are far more likely to be prosperous.\\n\",\n",
              " \"Now, let me be clear:  Issues of women's equality are by no means simply an issue for Islam.  In Turkey, Pakistan, Bangladesh, Indonesia, we've seen Muslim-majority countries elect a woman to lead.  Meanwhile, the struggle for women's equality continues in many aspects of American life, and in countries around the world.\\n\",\n",
              " 'I am convinced that our daughters can contribute just as much to society as our sons.  (Applause.)  Our common prosperity will be advanced by allowing all humanity -- men and women -- to reach their full potential.  I do not believe that women must make the same choices as men in order to be equal, and I respect those women who choose to live their lives in traditional roles. But it should be their choice.  And that is why the United States will partner with any Muslim-majority country to support expanded literacy for girls, and to help young women pursue employment through micro-financing that helps people live their dreams.  (Applause.)\\n',\n",
              " 'Finally, I want to discuss economic development and opportunity.\\n',\n",
              " 'I know that for many, the face of globalization is contradictory.  The Internet and television can bring knowledge and information, but also offensive sexuality and mindless violence into the home.  Trade can bring new wealth and opportunities, but also huge disruptions and change in communities.  In all nations -- including America -- this change can bring fear.  Fear that because of modernity we lose control over our economic choices, our politics, and most importantly our identities -- those things we most cherish about our communities, our families, our traditions, and our faith. \\n',\n",
              " 'But I also know that human progress cannot be denied.  There need not be contradictions between development and tradition. Countries like Japan and South Korea grew their economies enormously while maintaining distinct cultures.  The same is true for the astonishing progress within Muslim-majority countries from Kuala Lumpur to Dubai.  In ancient times and in our times, Muslim communities have been at the forefront of innovation and education.\\n',\n",
              " '\\n',\n",
              " \"And this is important because no development strategy can be based only upon what comes out of the ground, nor can it be sustained while young people are out of work.  Many Gulf states have enjoyed great wealth as a consequence of oil, and some are beginning to focus it on broader development.  But all of us must recognize that education and innovation will be the currency of the 21st century -- (applause) -- and in too many Muslim communities, there remains underinvestment in these areas.  I'm emphasizing such investment within my own country.  And while America in the past has focused on oil and gas when it comes to this part of the world, we now seek a broader engagement.\\n\",\n",
              " 'On education, we will expand exchange programs, and increase scholarships, like the one that brought my father to America.  (Applause.)  At the same time, we will encourage more Americans to study in Muslim communities.  And we will match promising Muslim students with internships in America; invest in online learning for teachers and children around the world; and create a new online network, so a young person in Kansas can communicate instantly with a young person in Cairo.\\n',\n",
              " 'On economic development, we will create a new corps of business volunteers to partner with counterparts in Muslim-majority countries.  And I will host a Summit on Entrepreneurship this year to identify how we can deepen ties between business leaders, foundations and social entrepreneurs in the United States and Muslim communities around the world.\\n',\n",
              " \"On science and technology, we will launch a new fund to support technological development in Muslim-majority countries, and to help transfer ideas to the marketplace so they can create more jobs.  We'll open centers of scientific excellence in Africa, the Middle East and Southeast Asia, and appoint new science envoys to collaborate on programs that develop new sources of energy, create green jobs, digitize records, clean water, grow new crops.  Today I'm announcing a new global effort with the Organization of the Islamic Conference to eradicate polio.  And we will also expand partnerships with Muslim communities to promote child and maternal health.\\n\",\n",
              " 'All these things must be done in partnership.  Americans are ready to join with citizens and governments; community organizations, religious leaders, and businesses in Muslim communities around the world to help our people pursue a better life.\\n',\n",
              " \"The issues that I have described will not be easy to address.  But we have a responsibility to join together on behalf of the world that we seek -- a world where extremists no longer threaten our people, and American troops have come home; a world where Israelis and Palestinians are each secure in a state of their own, and nuclear energy is used for peaceful purposes; a world where governments serve their citizens, and the rights of all God's children are respected.  Those are mutual interests.  That is the world we seek.  But we can only achieve it together.\\n\",\n",
              " \"I know there are many -- Muslim and non-Muslim -- who question whether we can forge this new beginning.  Some are eager to stoke the flames of division, and to stand in the way of progress.  Some suggest that it isn't worth the effort -- that we are fated to disagree, and civilizations are doomed to clash. Many more are simply skeptical that real change can occur.  There's so much fear, so much mistrust that has built up over the years.  But if we choose to be bound by the past, we will never move forward.  And I want to particularly say this to young people of every faith, in every country -- you, more than anyone, have the ability to reimagine the world, to remake this world.\\n\",\n",
              " 'All of us share this world for but a brief moment in time. The question is whether we spend that time focused on what pushes us apart, or whether we commit ourselves to an effort -- a sustained effort -- to find common ground, to focus on the future we seek for our children, and to respect the dignity of all human beings.\\n',\n",
              " \"It's easier to start wars than to end them.  It's easier to blame others than to look inward.  It's easier to see what is different about someone than to find the things we share.  But we should choose the right path, not just the easy path.  There's one rule that lies at the heart of every religion -- that we do unto others as we would have them do unto us.  (Applause.)  This truth transcends nations and peoples -- a belief that isn't new; that isn't black or white or brown; that isn't Christian or Muslim or Jew.  It's a belief that pulsed in the cradle of civilization, and that still beats in the hearts of billions around the world.  It's a faith in other people, and it's what brought me here today.\\n\",\n",
              " 'We have the power to make the world we seek, but only if we have the courage to make a new beginning, keeping in mind what has been written.\\n',\n",
              " 'The Holy Koran tells us:  \"O mankind!  We have created you male and a female; and we have made you into nations and tribes so that you may know one another.\"\\n',\n",
              " 'The Talmud tells us:  \"The whole of the Torah is for the purpose of promoting peace.\"\\n',\n",
              " 'The Holy Bible tells us:  \"Blessed are the peacemakers, for they shall be called sons of God.\"  (Applause.)\\n',\n",
              " \"The people of the world can live together in peace.  We know that is God's vision.  Now that must be our work here on Earth.\\n\",\n",
              " \"Thank you.  And may God's peace be upon you.  Thank you very much.  Thank you.  (Applause.)\\n\",\n",
              " 'END        \\n',\n",
              " '2:05 P.M. (Local)']"
            ]
          },
          "metadata": {},
          "execution_count": 28
        }
      ]
    },
    {
      "cell_type": "markdown",
      "metadata": {
        "id": "cqyuHvIUBjWB"
      },
      "source": [
        "## Codecs\n",
        "\n"
      ]
    },
    {
      "cell_type": "code",
      "metadata": {
        "colab": {
          "base_uri": "https://localhost:8080/",
          "height": 161
        },
        "id": "Om2UhPy2BtRI",
        "outputId": "02febc80-b080-432b-da6d-54bac698f2f8"
      },
      "source": [
        "import codecs\n",
        "obama_codecs = codecs.open(\"/content/drive/MyDrive/Colab Notebooks/Oxford Text Analysis 22/Python QTA Drive Oxford 2022/Data/obamaincairo.txt\",\"r\",\"utf-8\")\n",
        "obama_codecs = obama_codecs.read()\n",
        "obama_codecs"
      ],
      "execution_count": null,
      "outputs": [
        {
          "output_type": "execute_result",
          "data": {
            "text/plain": [
              "'PRESIDENT OBAMA:  Thank you very much.  Good afternoon.  I am honored to be in the timeless city of Cairo, and to be hosted by two remarkable institutions.  For over a thousand years, Al-Azhar has stood as a beacon of Islamic learning; and for over a century, Cairo University has been a source of Egypt\\'s advancement.  And together, you represent the harmony between tradition and progress.  I\\'m grateful for your hospitality, and the hospitality of the people of Egypt.  And I\\'m also proud to carry with me the goodwill of the American people, and a greeting of peace from Muslim communities in my country:  Assalaamu alaykum. (Applause.)\\nWe meet at a time of great tension between the United States and Muslims around the world -- tension rooted in historical forces that go beyond any current policy debate.  The relationship between Islam and the West includes centuries of coexistence and cooperation, but also conflict and religious wars.  More recently, tension has been fed by colonialism that denied rights and opportunities to many Muslims, and a Cold War in which Muslim-majority countries were too often treated as proxies without regard to their own aspirations.  Moreover, the sweeping change brought by modernity and globalization led many Muslims to view the West as hostile to the traditions of Islam.\\nViolent extremists have exploited these tensions in a small but potent minority of Muslims.  The attacks of September 11, 2001 and the continued efforts of these extremists to engage in violence against civilians has led some in my country to view Islam as inevitably hostile not only to America and Western countries, but also to human rights.  All this has bred more fear and more mistrust.\\nSo long as our relationship is defined by our differences, we will empower those who sow hatred rather than peace, those who promote conflict rather than the cooperation that can help all of our people achieve justice and prosperity.  And this cycle of suspicion and discord must end.\\nI\\'ve come here to Cairo to seek a new beginning between the United States and Muslims around the world, one based on mutual interest and mutual respect, and one based upon the truth that America and Islam are not exclusive and need not be in competition.  Instead, they overlap, and share common principles -- principles of justice and progress; tolerance and the dignity of all human beings.\\nI do so recognizing that change cannot happen overnight.  I know there\\'s been a lot of publicity about this speech, but no single speech can eradicate years of mistrust, nor can I answer in the time that I have this afternoon all the complex questions that brought us to this point.  But I am convinced that in order to move forward, we must say openly to each other the things we hold in our hearts and that too often are said only behind closed doors.  There must be a sustained effort to listen to each other; to learn from each other; to respect one another; and to seek common ground.  As the Holy Koran tells us, \"Be conscious of God and speak always the truth.\"  (Applause.)  That is what I will try to do today -- to speak the truth as best I can, humbled by the task before us, and firm in my belief that the interests we share as human beings are far more powerful than the forces that drive us apart.\\nNow part of this conviction is rooted in my own experience. I\\'m a Christian, but my father came from a Kenyan family that includes generations of Muslims.  As a boy, I spent several years in Indonesia and heard the call of the azaan at the break of dawn and at the fall of dusk.  As a young man, I worked in Chicago communities where many found dignity and peace in their Muslim faith.\\nAs a student of history, I also know civilization\\'s debt to Islam.  It was Islam -- at places like Al-Azhar -- that carried the light of learning through so many centuries, paving the way for Europe\\'s Renaissance and Enlightenment.  It was innovation in Muslim communities -- (applause) -- it was innovation in Muslim communities that developed the order of algebra; our magnetic compass and tools of navigation; our mastery of pens and printing; our understanding of how disease spreads and how it can be healed.  Islamic culture has given us majestic arches and soaring spires; timeless poetry and cherished music; elegant calligraphy and places of peaceful contemplation.  And throughout history, Islam has demonstrated through words and deeds the possibilities of religious tolerance and racial equality.  (Applause.)\\nI also know that Islam has always been a part of America\\'s story.  The first nation to recognize my country was Morocco.  In signing the Treaty of Tripoli in 1796, our second President, John Adams, wrote, \"The United States has in itself no character of enmity against the laws, religion or tranquility of Muslims.\"  And since our founding, American Muslims have enriched the United States.  They have fought in our wars, they have served in our government, they have stood for civil rights, they have started businesses, they have taught at our universities, they\\'ve excelled in our sports arenas, they\\'ve won Nobel Prizes, built our tallest building, and lit the Olympic Torch.  And when the first Muslim American was recently elected to Congress, he took the oath to defend our Constitution using the same Holy Koran that one of our Founding Fathers -- Thomas Jefferson -- kept in his personal library.  (Applause.)\\nSo I have known Islam on three continents before coming to the region where it was first revealed.  That experience guides my conviction that partnership between America and Islam must be based on what Islam is, not what it isn\\'t.  And I consider it part of my responsibility as President of the United States to fight against negative stereotypes of Islam wherever they appear. (Applause.)\\nBut that same principle must apply to Muslim perceptions of America.  (Applause.)  Just as Muslims do not fit a crude stereotype, America is not the crude stereotype of a self-interested empire.  The United States has been one of the greatest sources of progress that the world has ever known.  We were born out of revolution against an empire.  We were founded upon the ideal that all are created equal, and we have shed blood and struggled for centuries to give meaning to those words -- within our borders, and around the world.  We are shaped by every culture, drawn from every end of the Earth, and dedicated to a simple concept:  E pluribus unum -- \"Out of many, one.\"  \\nNow, much has been made of the fact that an African American with the name Barack Hussein Obama could be elected President.  (Applause.)  But my personal story is not so unique.  The dream of opportunity for all people has not come true for everyone in America, but its promise exists for all who come to our shores -- and that includes nearly 7 million American Muslims in our country today who, by the way, enjoy incomes and educational levels that are higher than the American average.  (Applause.)\\nMoreover, freedom in America is indivisible from the freedom to practice one\\'s religion.  That is why there is a mosque in every state in our union, and over 1,200 mosques within our borders.  That\\'s why the United States government has gone to court to protect the right of women and girls to wear the hijab and to punish those who would deny it.  (Applause.)\\nSo let there be no doubt:  Islam is a part of America.  And I believe that America holds within her the truth that regardless of race, religion, or station in life, all of us share common aspirations -- to live in peace and security; to get an education and to work with dignity; to love our families, our communities, and our God.  These things we share.  This is the hope of all humanity.\\nOf course, recognizing our common humanity is only the beginning of our task.  Words alone cannot meet the needs of our people.  These needs will be met only if we act boldly in the years ahead; and if we understand that the challenges we face are shared, and our failure to meet them will hurt us all.\\nFor we have learned from recent experience that when a financial system weakens in one country, prosperity is hurt everywhere.  When a new flu infects one human being, all are at risk.  When one nation pursues a nuclear weapon, the risk of nuclear attack rises for all nations.  When violent extremists operate in one stretch of mountains, people are endangered across an ocean.  When innocents in Bosnia and Darfur are slaughtered, that is a stain on our collective conscience.  (Applause.)  That is what it means to share this world in the 21st century.  That is the responsibility we have to one another as human beings.\\nAnd this is a difficult responsibility to embrace.  For human history has often been a record of nations and tribes -- and, yes, religions -- subjugating one another in pursuit of their own interests.  Yet in this new age, such attitudes are self-defeating.  Given our interdependence, any world order that elevates one nation or group of people over another will inevitably fail.  So whatever we think of the past, we must not be prisoners to it.  Our problems must be dealt with through partnership; our progress must be shared.  (Applause.)\\nNow, that does not mean we should ignore sources of tension. Indeed, it suggests the opposite:  We must face these tensions squarely.  And so in that spirit, let me speak as clearly and as plainly as I can about some specific issues that I believe we must finally confront together. \\nThe first issue that we have to confront is violent extremism in all of its forms.\\nIn Ankara, I made clear that America is not -- and never will be -- at war with Islam.  (Applause.)  We will, however, relentlessly confront violent extremists who pose a grave threat to our security -- because we reject the same thing that people of all faiths reject:  the killing of innocent men, women, and children.  And it is my first duty as President to protect the American people.\\nThe situation in Afghanistan demonstrates America\\'s goals, and our need to work together.  Over seven years ago, the United States pursued al Qaeda and the Taliban with broad international support.  We did not go by choice; we went because of necessity. I\\'m aware that there\\'s still some who would question or even justify the events of 9/11.  But let us be clear:  Al Qaeda killed nearly 3,000 people on that day.  The victims were innocent men, women and children from America and many other nations who had done nothing to harm anybody.  And yet al Qaeda chose to ruthlessly murder these people, claimed credit for the attack, and even now states their determination to kill on a massive scale.  They have affiliates in many countries and are trying to expand their reach.  These are not opinions to be debated; these are facts to be dealt with.\\nNow, make no mistake:  We do not want to keep our troops in Afghanistan.  We see no military -- we seek no military bases there.  It is agonizing for America to lose our young men and women.  It is costly and politically difficult to continue this conflict.  We would gladly bring every single one of our troops home if we could be confident that there were not violent extremists in Afghanistan and now Pakistan determined to kill as many Americans as they possibly can.  But that is not yet the case.\\nAnd that\\'s why we\\'re partnering with a coalition of 46 countries.  And despite the costs involved, America\\'s commitment will not weaken.  Indeed, none of us should tolerate these extremists.  They have killed in many countries.  They have killed people of different faiths -- but more than any other, they have killed Muslims.  Their actions are irreconcilable with the rights of human beings, the progress of nations, and with Islam.  The Holy Koran teaches that whoever kills an innocent is as -- it is as if he has killed all mankind.  (Applause.)  And the Holy Koran also says whoever saves a person, it is as if he has saved all mankind.  (Applause.)  The enduring faith of over a billion people is so much bigger than the narrow hatred of a few. Islam is not part of the problem in combating violent extremism -- it is an important part of promoting peace. \\nNow, we also know that military power alone is not going to solve the problems in Afghanistan and Pakistan.  That\\'s why we plan to invest $1.5 billion each year over the next five years to partner with Pakistanis to build schools and hospitals, roads and businesses, and hundreds of millions to help those who\\'ve been displaced.  That\\'s why we are providing more than $2.8 billion to help Afghans develop their economy and deliver services that people depend on.\\nLet me also address the issue of Iraq.  Unlike Afghanistan, Iraq was a war of choice that provoked strong differences in my country and around the world.  Although I believe that the Iraqi people are ultimately better off without the tyranny of Saddam Hussein, I also believe that events in Iraq have reminded America of the need to use diplomacy and build international consensus to resolve our problems whenever possible.  (Applause.)  Indeed, we can recall the words of Thomas Jefferson, who said:  \"I hope that our wisdom will grow with our power, and teach us that the less we use our power the greater it will be.\"\\nToday, America has a dual responsibility:  to help Iraq forge a better future -- and to leave Iraq to Iraqis.  And I have made it clear to the Iraqi people -- (applause) -- I have made it clear to the Iraqi people that we pursue no bases, and no claim on their territory or resources.  Iraq\\'s sovereignty is its own. And that\\'s why I ordered the removal of our combat brigades by next August.  That is why we will honor our agreement with Iraq\\'s democratically elected government to remove combat troops from Iraqi cities by July, and to remove all of our troops from Iraq by 2012.  (Applause.)  We will help Iraq train its security forces and develop its economy.  But we will support a secure and united Iraq as a partner, and never as a patron.\\nAnd finally, just as America can never tolerate violence by extremists, we must never alter or forget our principles.  Nine-eleven was an enormous trauma to our country.  The fear and anger that it provoked was understandable, but in some cases, it led us to act contrary to our traditions and our ideals.  We are taking concrete actions to change course.  I have unequivocally prohibited the use of torture by the United States, and I have ordered the prison at Guantanamo Bay closed by early next year.  (Applause.)\\nSo America will defend itself, respectful of the sovereignty of nations and the rule of law.  And we will do so in partnership with Muslim communities which are also threatened.  The sooner the extremists are isolated and unwelcome in Muslim communities, the sooner we will all be safer.\\nThe second major source of tension that we need to discuss is the situation between Israelis, Palestinians and the Arab world.\\nAmerica\\'s strong bonds with Israel are well known.  This bond is unbreakable.  It is based upon cultural and historical ties, and the recognition that the aspiration for a Jewish homeland is rooted in a tragic history that cannot be denied.\\nAround the world, the Jewish people were persecuted for centuries, and anti-Semitism in Europe culminated in an unprecedented Holocaust.  Tomorrow, I will visit Buchenwald, which was part of a network of camps where Jews were enslaved, tortured, shot and gassed to death by the Third Reich.  Six million Jews were killed -- more than the entire Jewish population of Israel today.  Denying that fact is baseless, it is ignorant, and it is hateful.  Threatening Israel with destruction -- or repeating vile stereotypes about Jews -- is deeply wrong, and only serves to evoke in the minds of Israelis this most painful of memories while preventing the peace that the people of this region deserve.\\nOn the other hand, it is also undeniable that the Palestinian people -- Muslims and Christians -- have suffered in pursuit of a homeland.  For more than 60 years they\\'ve endured the pain of dislocation.  Many wait in refugee camps in the West Bank, Gaza, and neighboring lands for a life of peace and security that they have never been able to lead.  They endure the daily humiliations -- large and small -- that come with occupation.  So let there be no doubt:  The situation for the Palestinian people is intolerable.  And America will not turn our backs on the legitimate Palestinian aspiration for dignity, opportunity, and a state of their own.  (Applause.)\\nFor decades then, there has been a stalemate:  two peoples with legitimate aspirations, each with a painful history that makes compromise elusive.  It\\'s easy to point fingers -- for Palestinians to point to the displacement brought about by Israel\\'s founding, and for Israelis to point to the constant hostility and attacks throughout its history from within its borders as well as beyond.  But if we see this conflict only from one side or the other, then we will be blind to the truth:  The only resolution is for the aspirations of both sides to be met through two states, where Israelis and Palestinians each live in peace and security.  (Applause.)\\nThat is in Israel\\'s interest, Palestine\\'s interest, America\\'s interest, and the world\\'s interest.  And that is why I intend to personally pursue this outcome with all the patience and dedication that the task requires.  (Applause.)  The obligations -- the obligations that the parties have agreed to under the road map are clear.  For peace to come, it is time for them -- and all of us -- to live up to our responsibilities.\\nPalestinians must abandon violence.  Resistance through violence and killing is wrong and it does not succeed.  For centuries, black people in America suffered the lash of the whip as slaves and the humiliation of segregation.  But it was not violence that won full and equal rights.  It was a peaceful and determined insistence upon the ideals at the center of America\\'s founding.  This same story can be told by people from South Africa to South Asia; from Eastern Europe to Indonesia.  It\\'s a story with a simple truth:  that violence is a dead end.  It is a sign neither of courage nor power to shoot rockets at sleeping children, or to blow up old women on a bus.  That\\'s not how moral authority is claimed; that\\'s how it is surrendered.\\nNow is the time for Palestinians to focus on what they can build.  The Palestinian Authority must develop its capacity to govern, with institutions that serve the needs of its people. Hamas does have support among some Palestinians, but they also have to recognize they have responsibilities.  To play a role in fulfilling Palestinian aspirations, to unify the Palestinian people, Hamas must put an end to violence, recognize past agreements, recognize Israel\\'s right to exist.\\nAt the same time, Israelis must acknowledge that just as Israel\\'s right to exist cannot be denied, neither can Palestine\\'s.  The United States does not accept the legitimacy of continued Israeli settlements.  (Applause.)  This construction violates previous agreements and undermines efforts to achieve peace.  It is time for these settlements to stop.  (Applause.)\\nAnd Israel must also live up to its obligation to ensure that Palestinians can live and work and develop their society.  Just as it devastates Palestinian families, the continuing humanitarian crisis in Gaza does not serve Israel\\'s security; neither does the continuing lack of opportunity in the West Bank. Progress in the daily lives of the Palestinian people must be a critical part of a road to peace, and Israel must take concrete steps to enable such progress. \\nAnd finally, the Arab states must recognize that the Arab Peace Initiative was an important beginning, but not the end of their responsibilities.  The Arab-Israeli conflict should no longer be used to distract the people of Arab nations from other problems.  Instead, it must be a cause for action to help the Palestinian people develop the institutions that will sustain their state, to recognize Israel\\'s legitimacy, and to choose progress over a self-defeating focus on the past.\\nAmerica will align our policies with those who pursue peace, and we will say in public what we say in private to Israelis and Palestinians and Arabs.  (Applause.)  We cannot impose peace.  But privately, many Muslims recognize that Israel will not go away.  Likewise, many Israelis recognize the need for a Palestinian state.  It is time for us to act on what everyone knows to be true.\\nToo many tears have been shed.  Too much blood has been shed.  All of us have a responsibility to work for the day when the mothers of Israelis and Palestinians can see their children grow up without fear; when the Holy Land of the three great faiths is the place of peace that God intended it to be; when Jerusalem is a secure and lasting home for Jews and Christians and Muslims, and a place for all of the children of Abraham to mingle peacefully together as in the story of Isra -- (applause) -- as in the story of Isra, when Moses, Jesus, and Mohammed, peace be upon them, joined in prayer.  (Applause.)\\nThe third source of tension is our shared interest in the rights and responsibilities of nations on nuclear weapons.\\nThis issue has been a source of tension between the United States and the Islamic Republic of Iran.  For many years, Iran has defined itself in part by its opposition to my country, and there is in fact a tumultuous history between us.  In the middle of the Cold War, the United States played a role in the overthrow of a democratically elected Iranian government.  Since the Islamic Revolution, Iran has played a role in acts of hostage-taking and violence against U.S. troops and civilians.  This history is well known.  Rather than remain trapped in the past, I\\'ve made it clear to Iran\\'s leaders and people that my country is prepared to move forward.  The question now is not what Iran is against, but rather what future it wants to build.\\nI recognize it will be hard to overcome decades of mistrust, but we will proceed with courage, rectitude, and resolve.  There will be many issues to discuss between our two countries, and we are willing to move forward without preconditions on the basis of mutual respect.  But it is clear to all concerned that when it comes to nuclear weapons, we have reached a decisive point.  This is not simply about America\\'s interests.  It\\'s about preventing a nuclear arms race in the Middle East that could lead this region and the world down a hugely dangerous path.\\nI understand those who protest that some countries have weapons that others do not.  No single nation should pick and choose which nation holds nuclear weapons.  And that\\'s why I strongly reaffirmed America\\'s commitment to seek a world in which no nations hold nuclear weapons.  (Applause.)  And any nation -- including Iran -- should have the right to access peaceful nuclear power if it complies with its responsibilities under the nuclear Non-Proliferation Treaty.  That commitment is at the core of the treaty, and it must be kept for all who fully abide by it. And I\\'m hopeful that all countries in the region can share in this goal.\\nThe fourth issue that I will address is democracy.  (Applause.)\\nI know -- I know there has been controversy about the promotion of democracy in recent years, and much of this controversy is connected to the war in Iraq.  So let me be clear: No system of government can or should be imposed by one nation by any other.\\n \\nThat does not lessen my commitment, however, to governments that reflect the will of the people.  Each nation gives life to this principle in its own way, grounded in the traditions of its own people.  America does not presume to know what is best for everyone, just as we would not presume to pick the outcome of a peaceful election.  But I do have an unyielding belief that all people yearn for certain things:  the ability to speak your mind and have a say in how you are governed; confidence in the rule of law and the equal administration of justice; government that is transparent and doesn\\'t steal from the people; the freedom to live as you choose.  These are not just American ideas; they are human rights.  And that is why we will support them everywhere.  (Applause.)\\nNow, there is no straight line to realize this promise.  But this much is clear:  Governments that protect these rights are ultimately more stable, successful and secure.  Suppressing ideas never succeeds in making them go away.  America respects the right of all peaceful and law-abiding voices to be heard around the world, even if we disagree with them.  And we will welcome all elected, peaceful governments -- provided they govern with respect for all their people.\\nThis last point is important because there are some who advocate for democracy only when they\\'re out of power; once in power, they are ruthless in suppressing the rights of others.  (Applause.)  So no matter where it takes hold, government of the people and by the people sets a single standard for all who would hold power:  You must maintain your power through consent, not coercion; you must respect the rights of minorities, and participate with a spirit of tolerance and compromise; you must place the interests of your people and the legitimate workings of the political process above your party.  Without these ingredients, elections alone do not make true democracy.\\nAUDIENCE MEMBER:  Barack Obama, we love you!\\nPRESIDENT OBAMA:  Thank you.  (Applause.)  The fifth issue that we must address together is religious freedom.\\nIslam has a proud tradition of tolerance.  We see it in the history of Andalusia and Cordoba during the Inquisition.  I saw it firsthand as a child in Indonesia, where devout Christians worshiped freely in an overwhelmingly Muslim country.  That is the spirit we need today.  People in every country should be free to choose and live their faith based upon the persuasion of the mind and the heart and the soul.  This tolerance is essential for religion to thrive, but it\\'s being challenged in many different ways.\\nAmong some Muslims, there\\'s a disturbing tendency to measure one\\'s own faith by the rejection of somebody else\\'s faith.  The richness of religious diversity must be upheld -- whether it is for Maronites in Lebanon or the Copts in Egypt.  (Applause.)  And if we are being honest, fault lines must be closed among Muslims, as well, as the divisions between Sunni and Shia have led to tragic violence, particularly in Iraq.\\nFreedom of religion is central to the ability of peoples to live together.  We must always examine the ways in which we protect it.  For instance, in the United States, rules on charitable giving have made it harder for Muslims to fulfill their religious obligation.  That\\'s why I\\'m committed to working with American Muslims to ensure that they can fulfill zakat. \\nLikewise, it is important for Western countries to avoid impeding Muslim citizens from practicing religion as they see fit -- for instance, by dictating what clothes a Muslim woman should wear.  We can\\'t disguise hostility towards any religion behind the pretence of liberalism.\\n \\nIn fact, faith should bring us together.  And that\\'s why we\\'re forging service projects in America to bring together Christians, Muslims, and Jews.  That\\'s why we welcome efforts like Saudi Arabian King Abdullah\\'s interfaith dialogue and Turkey\\'s leadership in the Alliance of Civilizations.  Around the world, we can turn dialogue into interfaith service, so bridges between peoples lead to action -- whether it is combating malaria in Africa, or providing relief after a natural disaster. \\nThe sixth issue -- the sixth issue that I want to address is women\\'s rights.  (Applause.)  I know –- I know -- and you can tell from this audience, that there is a healthy debate about this issue.  I reject the view of some in the West that a woman who chooses to cover her hair is somehow less equal, but I do believe that a woman who is denied an education is denied equality.  (Applause.)  And it is no coincidence that countries where women are well educated are far more likely to be prosperous.\\nNow, let me be clear:  Issues of women\\'s equality are by no means simply an issue for Islam.  In Turkey, Pakistan, Bangladesh, Indonesia, we\\'ve seen Muslim-majority countries elect a woman to lead.  Meanwhile, the struggle for women\\'s equality continues in many aspects of American life, and in countries around the world.\\nI am convinced that our daughters can contribute just as much to society as our sons.  (Applause.)  Our common prosperity will be advanced by allowing all humanity -- men and women -- to reach their full potential.  I do not believe that women must make the same choices as men in order to be equal, and I respect those women who choose to live their lives in traditional roles. But it should be their choice.  And that is why the United States will partner with any Muslim-majority country to support expanded literacy for girls, and to help young women pursue employment through micro-financing that helps people live their dreams.  (Applause.)\\nFinally, I want to discuss economic development and opportunity.\\nI know that for many, the face of globalization is contradictory.  The Internet and television can bring knowledge and information, but also offensive sexuality and mindless violence into the home.  Trade can bring new wealth and opportunities, but also huge disruptions and change in communities.  In all nations -- including America -- this change can bring fear.  Fear that because of modernity we lose control over our economic choices, our politics, and most importantly our identities -- those things we most cherish about our communities, our families, our traditions, and our faith. \\nBut I also know that human progress cannot be denied.  There need not be contradictions between development and tradition. Countries like Japan and South Korea grew their economies enormously while maintaining distinct cultures.  The same is true for the astonishing progress within Muslim-majority countries from Kuala Lumpur to Dubai.  In ancient times and in our times, Muslim communities have been at the forefront of innovation and education.\\n\\nAnd this is important because no development strategy can be based only upon what comes out of the ground, nor can it be sustained while young people are out of work.  Many Gulf states have enjoyed great wealth as a consequence of oil, and some are beginning to focus it on broader development.  But all of us must recognize that education and innovation will be the currency of the 21st century -- (applause) -- and in too many Muslim communities, there remains underinvestment in these areas.  I\\'m emphasizing such investment within my own country.  And while America in the past has focused on oil and gas when it comes to this part of the world, we now seek a broader engagement.\\nOn education, we will expand exchange programs, and increase scholarships, like the one that brought my father to America.  (Applause.)  At the same time, we will encourage more Americans to study in Muslim communities.  And we will match promising Muslim students with internships in America; invest in online learning for teachers and children around the world; and create a new online network, so a young person in Kansas can communicate instantly with a young person in Cairo.\\nOn economic development, we will create a new corps of business volunteers to partner with counterparts in Muslim-majority countries.  And I will host a Summit on Entrepreneurship this year to identify how we can deepen ties between business leaders, foundations and social entrepreneurs in the United States and Muslim communities around the world.\\nOn science and technology, we will launch a new fund to support technological development in Muslim-majority countries, and to help transfer ideas to the marketplace so they can create more jobs.  We\\'ll open centers of scientific excellence in Africa, the Middle East and Southeast Asia, and appoint new science envoys to collaborate on programs that develop new sources of energy, create green jobs, digitize records, clean water, grow new crops.  Today I\\'m announcing a new global effort with the Organization of the Islamic Conference to eradicate polio.  And we will also expand partnerships with Muslim communities to promote child and maternal health.\\nAll these things must be done in partnership.  Americans are ready to join with citizens and governments; community organizations, religious leaders, and businesses in Muslim communities around the world to help our people pursue a better life.\\nThe issues that I have described will not be easy to address.  But we have a responsibility to join together on behalf of the world that we seek -- a world where extremists no longer threaten our people, and American troops have come home; a world where Israelis and Palestinians are each secure in a state of their own, and nuclear energy is used for peaceful purposes; a world where governments serve their citizens, and the rights of all God\\'s children are respected.  Those are mutual interests.  That is the world we seek.  But we can only achieve it together.\\nI know there are many -- Muslim and non-Muslim -- who question whether we can forge this new beginning.  Some are eager to stoke the flames of division, and to stand in the way of progress.  Some suggest that it isn\\'t worth the effort -- that we are fated to disagree, and civilizations are doomed to clash. Many more are simply skeptical that real change can occur.  There\\'s so much fear, so much mistrust that has built up over the years.  But if we choose to be bound by the past, we will never move forward.  And I want to particularly say this to young people of every faith, in every country -- you, more than anyone, have the ability to reimagine the world, to remake this world.\\nAll of us share this world for but a brief moment in time. The question is whether we spend that time focused on what pushes us apart, or whether we commit ourselves to an effort -- a sustained effort -- to find common ground, to focus on the future we seek for our children, and to respect the dignity of all human beings.\\nIt\\'s easier to start wars than to end them.  It\\'s easier to blame others than to look inward.  It\\'s easier to see what is different about someone than to find the things we share.  But we should choose the right path, not just the easy path.  There\\'s one rule that lies at the heart of every religion -- that we do unto others as we would have them do unto us.  (Applause.)  This truth transcends nations and peoples -- a belief that isn\\'t new; that isn\\'t black or white or brown; that isn\\'t Christian or Muslim or Jew.  It\\'s a belief that pulsed in the cradle of civilization, and that still beats in the hearts of billions around the world.  It\\'s a faith in other people, and it\\'s what brought me here today.\\nWe have the power to make the world we seek, but only if we have the courage to make a new beginning, keeping in mind what has been written.\\nThe Holy Koran tells us:  \"O mankind!  We have created you male and a female; and we have made you into nations and tribes so that you may know one another.\"\\nThe Talmud tells us:  \"The whole of the Torah is for the purpose of promoting peace.\"\\nThe Holy Bible tells us:  \"Blessed are the peacemakers, for they shall be called sons of God.\"  (Applause.)\\nThe people of the world can live together in peace.  We know that is God\\'s vision.  Now that must be our work here on Earth.\\nThank you.  And may God\\'s peace be upon you.  Thank you very much.  Thank you.  (Applause.)\\nEND        \\n2:05 P.M. (Local)'"
            ],
            "application/vnd.google.colaboratory.intrinsic+json": {
              "type": "string"
            }
          },
          "metadata": {},
          "execution_count": 29
        }
      ]
    },
    {
      "cell_type": "markdown",
      "metadata": {
        "id": "nQxV5kTWwWn0"
      },
      "source": [
        "## Context manager\n",
        "\n",
        "use this instead open and close\n",
        "\n"
      ]
    },
    {
      "cell_type": "code",
      "metadata": {
        "id": "0djd9oiYwWn0",
        "colab": {
          "base_uri": "https://localhost:8080/"
        },
        "outputId": "434713e0-d25b-40bf-dc29-e88f08710540"
      },
      "source": [
        "#here we define the filepath first\n",
        "filepath = \"/content/drive/MyDrive/Colab Notebooks/Oxford Text Analysis 22/Python QTA Drive Oxford 2022/Data/ihaveadream.txt\"\n",
        "\n",
        "#we use read mode as we have learned before\n",
        "with open(filepath, \"r\") as infile:\n",
        "    content = infile.read()\n",
        "    \n",
        "print(content)"
      ],
      "execution_count": null,
      "outputs": [
        {
          "output_type": "stream",
          "name": "stdout",
          "text": [
            "I am happy to join with you today in what will go down in history as the greatest demonstration for freedom in the history of our nation.\n",
            "\n",
            "Five score years ago, a great American, in whose symbolic shadow we stand today, signed the Emancipation Proclamation. This momentous decree came as a great beacon light of hope to millions of Negro slaves who had been seared in the flames of withering injustice. It came as a joyous daybreak to end the long night of their captivity.\n",
            "\n",
            "But one hundred years later, the Negro still is not free. One hundred years later, the life of the Negro is still sadly crippled by the manacles of segregation and the chains of discrimination. One hundred years later, the Negro lives on a lonely island of poverty in the midst of a vast ocean of material prosperity. One hundred years later, the Negro is still languished in the corners of American society and finds himself an exile in his own land. And so we've come here today to dramatize a shameful condition.\n",
            "\n",
            "In a sense we've come to our nation's capital to cash a check. When the architects of our republic wrote the magnificent words of the Constitution and the Declaration of Independence, they were signing a promissory note to which every American was to fall heir. This note was a promise that all men, yes, black men as well as white men, would be guaranteed the \"unalienable Rights\" of \"Life, Liberty and the pursuit of Happiness.\" It is obvious today that America has defaulted on this promissory note, insofar as her citizens of color are concerned. Instead of honoring this sacred obligation, America has given the Negro people a bad check, a check which has come back marked \"insufficient funds.\"\n",
            "\n",
            "But we refuse to believe that the bank of justice is bankrupt. We refuse to believe that there are insufficient funds in the great vaults of opportunity of this nation. And so, we've come to cash this check, a check that will give us upon demand the riches of freedom and the security of justice.\n",
            "\n",
            "We have also come to this hallowed spot to remind America of the fierce urgency of Now. This is no time to engage in the luxury of cooling off or to take the tranquilizing drug of gradualism. Now is the time to make real the promises of democracy. Now is the time to rise from the dark and desolate valley of segregation to the sunlit path of racial justice. Now is the time to lift our nation from the quicksands of racial injustice to the solid rock of brotherhood. Now is the time to make justice a reality for all of God's children.\n",
            "\n",
            "It would be fatal for the nation to overlook the urgency of the moment. This sweltering summer of the Negro's legitimate discontent will not pass until there is an invigorating autumn of freedom and equality. Nineteen sixty-three is not an end, but a beginning. And those who hope that the Negro needed to blow off steam and will now be content will have a rude awakening if the nation returns to business as usual. And there will be neither rest nor tranquility in America until the Negro is granted his citizenship rights. The whirlwinds of revolt will continue to shake the foundations of our nation until the bright day of justice emerges.\n",
            "\n",
            "But there is something that I must say to my people, who stand on the warm threshold which leads into the palace of justice: In the process of gaining our rightful place, we must not be guilty of wrongful deeds. Let us not seek to satisfy our thirst for freedom by drinking from the cup of bitterness and hatred. We must forever conduct our struggle on the high plane of dignity and discipline. We must not allow our creative protest to degenerate into physical violence. Again and again, we must rise to the majestic heights of meeting physical force with soul force.\n",
            "\n",
            "The marvelous new militancy which has engulfed the Negro community must not lead us to a distrust of all white people, for many of our white brothers, as evidenced by their presence here today, have come to realize that their destiny is tied up with our destiny. And they have come to realize that their freedom is inextricably bound to our freedom.\n",
            "\n",
            "We cannot walk alone.\n",
            "\n",
            "And as we walk, we must make the pledge that we shall always march ahead.\n",
            "\n",
            "We cannot turn back.\n",
            "\n",
            "There are those who are asking the devotees of civil rights, \"When will you be satisfied?\" We can never be satisfied as long as the Negro is the victim of the unspeakable horrors of police brutality. We can never be satisfied as long as our bodies, heavy with the fatigue of travel, cannot gain lodging in the motels of the highways and the hotels of the cities. **We cannot be satisfied as long as the negro's basic mobility is from a smaller ghetto to a larger one. We can never be satisfied as long as our children are stripped of their self-hood and robbed of their dignity by signs stating: \"For Whites Only.\"** We cannot be satisfied as long as a Negro in Mississippi cannot vote and a Negro in New York believes he has nothing for which to vote. No, no, we are not satisfied, and we will not be satisfied until \"justice rolls down like waters, and righteousness like a mighty stream.\"1\n",
            "\n",
            "I am not unmindful that some of you have come here out of great trials and tribulations. Some of you have come fresh from narrow jail cells. And some of you have come from areas where your quest -- quest for freedom left you battered by the storms of persecution and staggered by the winds of police brutality. You have been the veterans of creative suffering. Continue to work with the faith that unearned suffering is redemptive. Go back to Mississippi, go back to Alabama, go back to South Carolina, go back to Georgia, go back to Louisiana, go back to the slums and ghettos of our northern cities, knowing that somehow this situation can and will be changed.\n",
            "\n",
            "Let us not wallow in the valley of despair, I say to you today, my friends.\n",
            "\n",
            "And so even though we face the difficulties of today and tomorrow, I still have a dream. It is a dream deeply rooted in the American dream.\n",
            "\n",
            "I have a dream that one day this nation will rise up and live out the true meaning of its creed: \"We hold these truths to be self-evident, that all men are created equal.\"\n",
            "\n",
            "I have a dream that one day on the red hills of Georgia, the sons of former slaves and the sons of former slave owners will be able to sit down together at the table of brotherhood.\n",
            "\n",
            "I have a dream that one day even the state of Mississippi, a state sweltering with the heat of injustice, sweltering with the heat of oppression, will be transformed into an oasis of freedom and justice.\n",
            "\n",
            "I have a dream that my four little children will one day live in a nation where they will not be judged by the color of their skin but by the content of their character.\n",
            "\n",
            "I have a dream today!\n",
            "\n",
            "I have a dream that one day, down in Alabama, with its vicious racists, with its governor having his lips dripping with the words of \"interposition\" and \"nullification\" -- one day right there in Alabama little black boys and black girls will be able to join hands with little white boys and white girls as sisters and brothers.\n",
            "\n",
            "I have a dream today!\n",
            "\n",
            "I have a dream that one day every valley shall be exalted, and every hill and mountain shall be made low, the rough places will be made plain, and the crooked places will be made straight; \"and the glory of the Lord shall be revealed and all flesh shall see it together.\"2\n",
            "\n",
            "This is our hope, and this is the faith that I go back to the South with.\n",
            "\n",
            "With this faith, we will be able to hew out of the mountain of despair a stone of hope. With this faith, we will be able to transform the jangling discords of our nation into a beautiful symphony of brotherhood. With this faith, we will be able to work together, to pray together, to struggle together, to go to jail together, to stand up for freedom together, knowing that we will be free one day.\n",
            "\n",
            "And this will be the day -- this will be the day when all of God's children will be able to sing with new meaning:\n",
            "\n",
            "My country 'tis of thee, sweet land of liberty, of thee I sing. Land where my fathers died, land of the Pilgrim's pride,    From every mountainside, let freedom ring!\n",
            "\n",
            "And if America is to be a great nation, this must become true.\n",
            "\n",
            "And so let freedom ring from the prodigious hilltops of New Hampshire.\n",
            "\n",
            "Let freedom ring from the mighty mountains of New York.\n",
            "\n",
            "Let freedom ring from the heightening Alleghenies of Pennsylvania.\n",
            "\n",
            "Let freedom ring from the snow-capped Rockies of Colorado.\n",
            "\n",
            "Let freedom ring from the curvaceous slopes of California.\n",
            "\n",
            "But not only that:\n",
            "\n",
            "Let freedom ring from Stone Mountain of Georgia.\n",
            "\n",
            "Let freedom ring from Lookout Mountain of Tennessee.\n",
            "\n",
            "Let freedom ring from every hill and molehill of Mississippi.\n",
            "\n",
            "From every mountainside, let freedom ring\n",
            "\n",
            "And when this happens, and when we allow freedom ring, when we let it ring from every village and every hamlet, from every state and every city, we will be able to speed up that day when all of God's children, black men and white men, Jews and Gentiles, Protestants and Catholics, will be able to join hands and sing in the words of the old Negro spiritual:\n",
            "\n",
            "Free at last! Free at last!\n",
            "\n",
            "Thank God Almighty, we are free at last!3\n"
          ]
        }
      ]
    },
    {
      "cell_type": "markdown",
      "metadata": {
        "id": "aGomnKvdwWn2"
      },
      "source": [
        "### Lets try opening another file"
      ]
    },
    {
      "cell_type": "code",
      "source": [
        "sputnik = open('/content/drive/MyDrive/Colab Notebooks/Oxford Text Analysis 22/Python QTA Drive Oxford 2022/Data/sputnikgerman20.tsv', \"r\") #open files\n",
        "lines_sputnik = sputnik.read() \n",
        "lines_sputnik"
      ],
      "metadata": {
        "colab": {
          "base_uri": "https://localhost:8080/",
          "height": 161
        },
        "id": "3eKDDdaxIsXL",
        "outputId": "479e39a5-bb28-4d97-df9f-fd9284bb7893"
      },
      "execution_count": null,
      "outputs": [
        {
          "output_type": "execute_result",
          "data": {
            "text/plain": [
              "'\"http://de.sputniknews.compolitik/20160107306965193-Lindner-Merkel-Migrationspolitik-Chaos-Einwanderungsgesetz\"\\t\"http://web.archive.org/web/20170227192503/https://de.sputniknews.com/amp/politik/20160107306965193-Lindner-Merkel-Migrationspolitik-Chaos-Einwanderungsgesetz/\"\\t20160107\\t\"FDP-Chef Lindner: Merkels Flüchtlingspolitik führt Europa ins Chaos\"\\t\"Der Satz „Wir schaffen das“ der Bundeskanzlerin ersetze kein Regierungshandeln, so Lindner. Seiner Meinung nach ist ein „rationales, humanitäres, europäisch abgestimmtes Einwanderungsgesetz“ nötig, welches eine systematisierte Registrierung von Flüchtlingen und deren legale Integration ermöglichen würde. Die CDU/CSU-Politiker hatten von Merkel wiederholt gefordert, den Migranten-Zustrom zu begrenzen. Doch die Kanzlerin hat sich bislang geweigert, eine Obergrenze für Flüchtlinge festzulegen, was die Grenzschließung für neu ankommende Migranten bedeuten würde.\"\\t\"OVER-THRESHOLD\"\\t\"flüchtlingen migranten flüchtlinge\"\\t70\\t0.572646110198091\\n\"http://de.sputniknews.com/panorama/20150210/301052523.html\"\\t\"http://web.archive.org/web/20150315163311/http://de.sputniknews.com/panorama/20150210/301052523.html\"\\t20150210\\t\"Experte: Rund 1,3 Millionen wehrpflichtige Ukrainer nach Russland geflüchtet\"\\t\"In letzter Zeit sei knapp einer halben Million ukrainischer Bürger der Flüchtlingsstatus zuerkannt beziehungsweise befristetes Asyl gewährt worden. „Russland hat keine Pläne, die Grenze für andere zu schließen.“ Zugleich räumte Patruschew erhebliche Probleme bei der Unterbringung immer wieder eintreffender Flüchtlinge ein.\"\\t\"OVER-THRESHOLD\"\\t\"flüchtlingsstatus asyl flüchtlinge\"\\t43\\t0.549349509077681\\n\"http://de.sputniknews.compolitik/20181117322994742-deutschland-spd-nahles-hartz-iv\"\\t\"http://web.archive.org/web/20181117160304/https://de.sputniknews.com/amp/politik/20181117322994742-deutschland-spd-nahles-hartz-iv/\"\\t20181117\\t\"So präzisiert Nahles ihre Idee für Hartz IV-Alternative\"\\t\"{                    \\\\\"vars\\\\\": {                        \\\\\"counterId\\\\\": \\\\\"27090206\\\\\"                    }                }                                    {                            \\\\\"requests\\\\\": {                                \\\\\"pageview\\\\\": \\\\\"http://web.archive.org/web/20181117160304/https://counter.yadro.ru/hit;RS_Total/Sputniki_Total/Sputniknews?u${ampdocUrl};r${documentReferrer};s${screenWidth}*${screenHeight}*32;h${title};${random}\\\\\"                            },                            \\\\\"triggers\\\\\": {                                \\\\\"track pageview\\\\\": {                                    \\\\\"on\\\\\": \\\\\"visible\\\\\",                                    \\\\\"request\\\\\": \\\\\"pageview\\\\\"                                }                            }                        }                    Alle NachrichtenPolitik                        ©                    REUTERS/ Hannibal HanschkeSo präzisiert Nahles ihre Idee für Hartz IV-Alternative12:51 17.11.2018(aktualisiert  13:05 17.11.2018) Zum KurzlinkDie SPD-Parteichefin Andrea Nahles hat in einem Gastbeitrag für die „Frankfurter Allgemeine Zeitung“ eine Ablösung des Hartz-IV-Systems durch höhere Mindestlöhne, Zuschüsse zu Sozialabgaben und Steuerboni gefordert.Beim Debattencamp in\\xa0Berlin vor einer Woche kündigte Nahles einen Komplettumbau des Sozialstaates sowie die Abschaffung von Hartz IV an, dessen monatlicher Satz 416 Euro beträgt. Nun konkretisiert sie ihre Vorstellungen: Viel weniger Menschen als heute sollen auf Grundsicherung angewiesen sein – es sei immer günstiger, Arbeit anstatt Arbeitslosigkeit zu finanzieren.>>>Weitere Sputnik-Artikel: EXKLUSIV: „Mein Schmerzpunkt“ – Ex-Partei-Chef übt Kritik an Politik der Grünen<<<                        ©                    AFP 2018/ DPA/ Arne Dedert„So verhindert Politik bedingungsloses Grundeinkommen“: Ex-Grünen-Chef – EXKLUSIVVor allem die Zahl von zwei Millionen Kindern, die in Hartz-IV-Haushalten lebten, müsse verringert werden. „Diese Erfahrung, ein ‚Hartz-IV-Kind‘ zu sein, prägt fürs Leben. Wir brauchen daher eine eigenständige Kindergrundsicherung, die Kinder aus der Sozialhilfe holt und Teilhabe schafft“, zitieren Nahles deutsche Medien.Ein besseres Wohngeld könne zudem verhindern, „dass Menschen angesichts explodierender Mieten in\\xa0die Grundsicherung getrieben werden“. Nahles kritisierte außerdem das in\\xa0der SPD-Kanzlerschaft vom Altkanzler Gerhard Schröder eingeführte System der Zusammenlegung von Arbeitslosen- und Sozialhilfe und forderte weniger Bürokratie und Härte.>>>Weitere Sputnik-Artikel: Schon wieder Bulgarien – Illegale Migration durch tausendfachen Verkauf von EU-Pässen<<<                        ©                    AP Photo/ Martin Meissner„Wir werden Hartz IV hinter uns lassen“: Nahles verspricht Komplettumbau des Sozialstaates„Zum Symbol für das Misstrauen des Staates gegenüber den Grundsicherungsbeziehern sind die Sanktionen geworden. Sie wirken, als würde den Leistungsbeziehern von vornherein unterstellt, betrügen zu wollen“.Der Bundeswirtschaftsminister, Peter Altmaier, wies die SPD-Forderungen nach einer Hartz-IV-Abschaffung in\\xa0einem Gespräch mit der Zeitung „Die Welt“ zurück.„Wir dürfen und werden Hartz IV nicht abschaffen. Solche Vorschläge sind hoch gefährlich und schaden der Zukunft unseres Landes“, zitieren deutsche Medien den CDU-Politiker.Diskussion\"\\t\"OVER-THRESHOLD\"\\t\"migration\"\\t884\\t0.549179266004771\\n\"http://de.sputniknews.compolitik/20181109322907058-trump-usa-asyl\"\\t\"http://web.archive.org/web/20181123020955/https://de.sputniknews.com/amp/politik/20181109322907058-trump-usa-asyl/\"\\t20181109\\t\"Trump beschränkt drastisch Asylgewährung für illegale Migranten\"\\t\"{                    \\\\\"vars\\\\\": {                        \\\\\"counterId\\\\\": \\\\\"27090206\\\\\"                    }                }                                    {                            \\\\\"requests\\\\\": {                                \\\\\"pageview\\\\\": \\\\\"http://web.archive.org/web/20181123020955/https://counter.yadro.ru/hit;RS_Total/Sputniki_Total/Sputniknews?u${ampdocUrl};r${documentReferrer};s${screenWidth}*${screenHeight}*32;h${title};${random}\\\\\"                            },                            \\\\\"triggers\\\\\": {                                \\\\\"track pageview\\\\\": {                                    \\\\\"on\\\\\": \\\\\"visible\\\\\",                                    \\\\\"request\\\\\": \\\\\"pageview\\\\\"                                }                            }                        }                    Alle NachrichtenPolitik                        ©                    REUTERS/ Jose CabezasTrump beschränkt drastisch Asylgewährung für illegale Migranten15:43 09.11.2018(aktualisiert  17:36 09.11.2018) Zum KurzlinkUS-Präsident Donald Trump hat die Asylgewährung für illegale Migranten drastisch eingeschränkt. Das teilte der Staatschef vor der Presse mit.Wie Trump vor Journalisten sagte, hat er „gerade“ ein entsprechendes Dekret unterzeichnet. Demnach sollen nur noch Menschen Asyl beantragen können, die an einem offiziellen Grenzübergang in\\xa0die USA einreisen. Illegal Eingereiste würden kein Asyl beantragen dürfen.>>> Weitere Sputnik-Artikel: Trump erklärt, warum USA Migranten brauchen                        ©                    REUTERS/ Leah MillisTrump droht mit Schließung der Grenze zu MexikoDie Verweigerung des Rechts auf einen Asylantrag für illegale Migranten sei zeitweilig und betreffe die Ausländer, die die südliche US-Grenze zu Mexiko gesetzwidrig überschreiten würden, geht aus Trumps Proklamation hervor.„Ich treffe befristete Maßnahmen zum Einreisestopp für Ausländer, um das Problem der großen Anzahl von Migranten zu lösen, die über Mexiko kommen, um in\\xa0unser Land ohne richtige Dokumente einzureisen“.>>> Weitere Sputnik-Artikel: Bundestag beschließt Verschärfung des Asylgesetzes                        ©                    AFP 2018/ GERARD JULIENMauer reloaded: EU-Staaten errichten sechs neue „Berliner Mauern“Ein Einwanderer könne dennoch Asyl beantragen, wenn er sich an die US-Grenzbehörden wende, statt zu versuchen, in\\xa0die USA illegal zu gelangen.Laut Trump haben die ankommenden Migranten in\\xa0der Regel keine legalen Gründe, Asyl zu beantragen. Die Ankunft von einer großen Anzahl von Ausländern werde das US-Immigrationssystem überlasten und zur „Freilassung\\\\\" von Tausenden Ausländern innerhalb der USA“ führen.Zuvor hatte das US-Verteidigungsministerium seine Bereitschaft erklärt, bis zu 7000 Militärangehörige an der Grenze zwischen den USA und Mexiko zu stationieren. Trump verkündete, bis zu 15.000 Soldaten an die Grenze zu schicken, wo sich bereits 2100 Mitglieder der Nationalgarde der Vereinigten Staaten befinden.>>> Weitere Sputnik-Artikel: „Kein Menschenrecht auf Migration“: Österreich verlässt UN-Migrationspakt                        ©                    REUTERS/ Carlos Garcia RawlinsMigranten vs. US-Armee: Wer sind die Drahtzieher der Flüchtlingskarawane?Die Maßnahmen werden getroffen, weil eine Karawane mit Tausenden Menschen aus zentralamerikanischen Ländern sich den USA über das Territorium von Mexiko nähert. Weitere zwei Migrantengruppen bewegen sich aus Salvador in\\xa0Richtung USA.Nach Informationen der Nachrichtenagentur France-Presse bezeichnete die Bürgerrechtsorganisation American Civil Liberties Union die Pläne für eine Verschärfung des Asylrechts am Donnerstag als „illegal“. Das US-Recht erlaube Menschen einen Asylantrag unabhängig davon zu stellen, ob sie sich an einem Grenzübergang befinden oder nicht. Dies könne nicht durch ein Dekret „umgangen“ werden.Diskussion\"\\t\"OVER-THRESHOLD\"\\t\"einwanderer migranten asyl\"\\t998\\t0.548636683559343\\n\"http://de.sputniknews.compolitik/20160306308285650-oesterreich-draengt-auf-deutsches-fluechtlingskontingent\"\\t\"http://web.archive.org/web/20181126055753/https://de.sputniknews.com/amp/politik/20160306308285650-oesterreich-draengt-auf-deutsches-fluechtlingskontingent/\"\\t20160306\\t\"Österreich drängt auf deutsches Flüchtlingskontingent\"\\t\"{                    \\\\\"vars\\\\\": {                        \\\\\"counterId\\\\\": \\\\\"27090206\\\\\"                    }                }                                    {                            \\\\\"requests\\\\\": {                                \\\\\"pageview\\\\\": \\\\\"http://web.archive.org/web/20181126055753/https://counter.yadro.ru/hit;RS_Total/Sputniki_Total/Sputniknews?u${ampdocUrl};r${documentReferrer};s${screenWidth}*${screenHeight}*32;h${title};${random}\\\\\"                            },                            \\\\\"triggers\\\\\": {                                \\\\\"track pageview\\\\\": {                                    \\\\\"on\\\\\": \\\\\"visible\\\\\",                                    \\\\\"request\\\\\": \\\\\"pageview\\\\\"                                }                            }                        }                    Alle NachrichtenPolitik                        ©                    AP Photo/ Boris Grdanoski Österreich drängt auf deutsches Flüchtlingskontingent09:56 06.03.2016(aktualisiert  09:57 06.03.2016) Zum KurzlinkDer österreichische Bundeskanzler Werner Faymann hat von Deutschland gefordert, eine Flüchtlingsquote von 400.000 Personen im Jahr einzuführen. Wenn alle EU-Länder dem Beispiel Österreichs folgen würden, könnte die EU, so Faymann, zwei Millionen Flüchtlinge aufnehmen.Im Jahr 2015 hatten etwa 90.000 Menschen in Österreich Asyl beantragt. 2016 will die Regierung die Zahl der positiv beschiedenen Asylanträge auf 37.500 beschränken.                        ©                    AFP 2018/ JOHN MACDOUGALLBundeskanzler Faymann: Merkel sollte Tageskontingente für Flüchtlinge einführen„Deutschland muss endlich Klarheit schaffen, sonst werden weiterhin Flüchtlinge Richtung Deutschland losziehen … Nimmt man den österreichischen Richtwert her, könnte Deutschland rund 400.000 Flüchtlinge als Kontingent nennen“, sagte Faymann im Gespräch mit der Zeitung Kurier.Im Jahr 2015 sind nach Angaben der Agentur Frontex rund 1,8 Million Migranten nach Europa gekommen. Experten zufolge handelt es sich um die größte Flüchtlingskrise seit dem Zweiten Weltkrieg.Diskussion\"\\t\"OVER-THRESHOLD\"\\t\"asyl flüchtlinge migranten asylanträge flüchtlingskrise\"\\t699\\t0.547926894577753\\n\"http://de.sputniknews.compolitik/20151016304983995-warschau-gegen-merkels-fluechtlingsquote\"\\t\"http://web.archive.org/web/20181123212339/https://de.sputniknews.com/amp/politik/20151016304983995-warschau-gegen-merkels-fluechtlingsquote/\"\\t20151016\\t\"Migrationskrise: Warschau wehrt sich gegen Merkels Flüchtlingsquote\"\\t\"{                    \\\\\"vars\\\\\": {                        \\\\\"counterId\\\\\": \\\\\"27090206\\\\\"                    }                }                                    {                            \\\\\"requests\\\\\": {                                \\\\\"pageview\\\\\": \\\\\"http://web.archive.org/web/20181123212339/https://counter.yadro.ru/hit;RS_Total/Sputniki_Total/Sputniknews?u${ampdocUrl};r${documentReferrer};s${screenWidth}*${screenHeight}*32;h${title};${random}\\\\\"                            },                            \\\\\"triggers\\\\\": {                                \\\\\"track pageview\\\\\": {                                    \\\\\"on\\\\\": \\\\\"visible\\\\\",                                    \\\\\"request\\\\\": \\\\\"pageview\\\\\"                                }                            }                        }                    Alle NachrichtenPolitik                        ©                    REUTERS/ Fabrizio Bensch/FilesMigrationskrise: Warschau wehrt sich gegen Merkels Flüchtlingsquote15:10 16.10.2015Zum KurzlinkPolen tritt scharf gegen die von Angela Merkel vorgeschlagene, permanente und verpflichtende Verteilungsquote von Flüchtlingen unter EU-Ländern auf und wird dabei nicht nachgeben, wie Polens Außenminister Grzegorz Schetyna gegenüber dem Radiosender RMF FM erklärte.                        ©                    AFP 2018/ Frederick FlorinFlüchtlingskrise: Merkel und Hollande werben gemeinsam für Solidarität in EU“Wir werden nicht nachgeben. Wir bilden eine entscheidende Mehrheit in\\xa0der EU”, unterstrich Schetyna.Dem Außenminister zufolge sei die Flüchtlingssituation ein Problem der deutschen Innenpolitik, „deswegen werden stets Versuche unternommen, ein besseres Bild und Image zu schaffen“. „Dies beeinflusst jedoch keinesfalls europäische Entscheidungen“, so Schetyna weiter.„Wenn Europa sagt, dass wir sie (Flüchtlinge – d. Red.) weiterhin unter uns aufteilen und uns Quoten neuer Migrationsströme aufzwingen werden, wird es eine Katastrophe geben. Wir werden dem nicht zustimmen“, erklärte Polens Minister.                        ©                    REUTERS/ Kai PfaffenbachFlüchtlingskrise: Osteuropäer lehnen sich gegen EU-Kurs aufSchetyna ist der Ansicht, dass Europa in\\xa0erster Linie „eine Entscheidung über den Schutz von Außengrenzen sowie über Verteilungszentren, die politische Migranten aus dem Nahen Osten registrieren müssen, treffen, nicht aber einen automatischen Verteilungsmechanismus einführen soll“. Letzteren bezeichnete der Minister als Unsinn.Allein bis zum September sind laut der EU-Grenzschutzagentur „Frontex“ rund 630.000 Flüchtlinge in\\xa0die EU gekommen. Die EU-Kommission spricht von der schlimmsten Migrationskrise seit dem Zweiten Weltkrieg.Diskussion\"\\t\"OVER-THRESHOLD\"\\t\"flüchtlingen migrationskrise migranten flüchtlinge\"\\t805\\t0.544957398675781\\n\"http://de.sputniknews.comkarikatur/20151020305076281\"\\t\"http://web.archive.org/web/20181201153825/https://de.sputniknews.com/amp/karikatur/20151020305076281/\"\\t20151020\\t\"Flüchtlingskrise: Ist Abriegeln eine Lösung?\"\\t\"{                    \\\\\"vars\\\\\": {                        \\\\\"counterId\\\\\": \\\\\"27090206\\\\\"                    }                }                                    {                            \\\\\"requests\\\\\": {                                \\\\\"pageview\\\\\": \\\\\"http://web.archive.org/web/20181201153825/https://counter.yadro.ru/hit;RS_Total/Sputniki_Total/Sputniknews?u${ampdocUrl};r${documentReferrer};s${screenWidth}*${screenHeight}*32;h${title};${random}\\\\\"                            },                            \\\\\"triggers\\\\\": {                                \\\\\"track pageview\\\\\": {                                    \\\\\"on\\\\\": \\\\\"visible\\\\\",                                    \\\\\"request\\\\\": \\\\\"pageview\\\\\"                                }                            }                        }                    Alle NachrichtenKarikaturFlüchtlingskrise: Ist Abriegeln eine Lösung?18:18 20.10.2015Zum KurzlinkThemen: Migrationsproblem in EuropaCSU-Politiker Markus Söder hat kürzlich ins Gespräch gebracht, die deutsche Grenze mit Zäunen abzusichern. Wird Bundeskanzlerin Angela Merkel zum Schließen der Grenzen gezwungen sein? Hält eine strengere Asylpolitik Flüchtlinge auf? Lassen sich Menschen, die vor Fassbomben fliehen, von ein paar Zäunen stoppen? Fragen, Fragen, Fragen...Diskussion\"\\t\"OVER-THRESHOLD\"\\t\"migrationsproblem asylpolitik flüchtlinge\"\\t522\\t0.544157704714578\\n\"http://de.sputniknews.com/german.ruvr.ru/news/2014_01_06/Gro-britannien-will-EU-Freizugigkeit-verhindern-2651\"\\t\"http://web.archive.org/web/20150726055154/http://de.sputniknews.com/german.ruvr.ru/news/2014_01_06/Gro-britannien-will-EU-Freizugigkeit-verhindern-2651/\"\\t20140106\\t\"Großbritannien will EU-Freizügigkeit verhindern\"\\t\"Foto: EPA STIMME RUSSLANDS Die Regierung Großbritanniens habe vor, eine Revision der EU-Mitgliedschaftsbedingungen von der EU zu erlangen und die Sperrmaßnahmen gegenüber EU-Migranten zu verteidigen, sagte der britische Regierungschef David Cameron. Cameron zufolge wolle er die allgemeinen Grundsätze der EU nicht in Zweifel ziehen, halte allerdings das Recht der Migranten auf hohes Arbeitslosengeld und kostenlose Medizin in Großbritannien für unfair. Ab dem 1. Januar gilt für Rumänien und Bulgarien eine uneingeschränkte Freizügigkeit. Einschätzungen zufolge muss Großbritannien mit mindestens 300.000 Einwanderern rechnen.\"\\t\"OVER-THRESHOLD\"\\t\"migranten\"\\t83\\t0.544009923707647\\n\"http://de.sputniknews.compolitik/20180813321937555-syrien-deutschland-fluechtlinge-rueckkehr-sanktionen\"\\t\"http://web.archive.org/web/20180813172522/https://de.sputniknews.com/amp/politik/20180813321937555-syrien-deutschland-fluechtlinge-rueckkehr-sanktionen/\"\\t20180813\\t\"Rückkehr von Flüchtlingen: Syrischer Minister appelliert an Deutschland\"\\t\"Der syrische Minister für lokale Verwaltung und Umwelt Hussein Makhlouf hat über Journalisten Deutschland zur Aufhebung der Sanktionen gegen Damaskus aufgerufen. Dies soll laut dem Politiker die Rückkehr der syrischen Flüchtlinge in ihre Heimat fördern. „Ich möchte mich über Sie an die deutsche Regierung wenden und bitten, die einseitigen Sanktionen gegen Syrien aufzuheben“, sagte Makhlouf sich an einen deutschen Journalisten wendend auf einer Pressekonferenz. Mehr zum Thema >>> UN-Flüchtlingskommissar tritt gegen Rückkehr von Flüchtlingen nach Syrien auf  Makhlouf, der auch Chef des syrischen Koordinierungsausschusses für Rückkehr der Flüchtlinge ist, betonte, im Fall einer Aufhebung der Sanktionen werde die Rückkehr der Flüchtlinge beschleunigt. Dies würde den Wideraufbau des Landes fördern. Mehr zum Thema >>> Russland forciert Rückkehr von Syrien-Flüchtlingen Zuvor hatte das russische Zentrum für Aufnahme, Verteilung und Unterbringung beim russischen Verteidigungsministerium mitgeteilt, mehr als 1,7 Millionen Syrer hätten den Wunsch geäußert, aus neun Gastländern in\\xa0ihre Heimat zurückzukehren. Die meisten Heimkehrwilligen halten sich jetzt im Libanon, in\\xa0der Türkei und in\\xa0Deutschland auf.\"\\t\"OVER-THRESHOLD\"\\t\"flüchtlingen flüchtlinge\"\\t163\\t0.543706912424414\\n\"http://de.sputniknews.compolitik/20170219314606917-usa-verschaerfen-asyl-recht\"\\t\"http://web.archive.org/web/20170324060955/https://de.sputniknews.com/amp/politik/20170219314606917-usa-verschaerfen-asyl-recht/\"\\t20170219\\t\"USA verschärfen Asyl-Recht\"\\t\"Nach dem US-Gesetz „Immigration and Nationality Act“ muss ein Asylbewerber seine „begründete Angst“ vor Verfolgung aufgrund seiner Rasse, Religion, Nationalität, Mitgliedschaft in\\xa0einer bestimmten sozialen Gruppe oder politischer Meinung nachweisen. Der Kampf gegen illegale Migration war eines der Hauptthemen der Wahlkampagne des US-Präsidenten Donald Trump. Das von Trump Ende Januar unterzeichnete Terrorschutzgesetz, welches Bürgern aus sieben vorwiegend muslimischen Ländern die Einreise in\\xa0die USA zeitweilig verwehrt, löste landesweit\\xa0 und international heftige Kritik bis hin zu Massenprotesten aus. \\xa0\"\\t\"OVER-THRESHOLD\"\\t\"migration asylbewerber\"\\t79\\t0.543062751396791\\n\"http://de.sputniknews.companorama/20151228306826925-daenemark-tritt-fuer-veraenderung-der-fluechtlingskonvention\"\\t\"http://web.archive.org/web/20181123231931/https://de.sputniknews.com/amp/panorama/20151228306826925-daenemark-tritt-fuer-veraenderung-der-fluechtlingskonvention/\"\\t20151228\\t\"Dänemark will die Flüchtlingskonvention ändern\"\\t\"{                    \\\\\"vars\\\\\": {                        \\\\\"counterId\\\\\": \\\\\"27090206\\\\\"                    }                }                                    {                            \\\\\"requests\\\\\": {                                \\\\\"pageview\\\\\": \\\\\"http://web.archive.org/web/20181123231931/https://counter.yadro.ru/hit;RS_Total/Sputniki_Total/Sputniknews?u${ampdocUrl};r${documentReferrer};s${screenWidth}*${screenHeight}*32;h${title};${random}\\\\\"                            },                            \\\\\"triggers\\\\\": {                                \\\\\"track pageview\\\\\": {                                    \\\\\"on\\\\\": \\\\\"visible\\\\\",                                    \\\\\"request\\\\\": \\\\\"pageview\\\\\"                                }                            }                        }                    Alle NachrichtenPanorama                        ©                    AP Photo/ Joachim LadefogdeDänemark will die Flüchtlingskonvention ändern14:44 28.12.2015(aktualisiert  16:32 28.12.2015) Zum KurzlinkDie Flüchtlingskrise hat Dänemark und Europa vor solche Herausforderungen gestellt, dass nun die UN-Flüchtlingskonvention von 1951 verändert werden muss, wie der dänische Regierungschef Lars Lökke Rasmussen dem Sender TV2 sagte.Wenn die Flüchtlingszahlen weiter ansteigen würden wie bisher, werde der Moment kommen, \\\\\"in dem wir über eine Anpassung der Spielregeln sprechen müssen\\\\\", sagte Rasmussen. Die Flüchtlingskonvention in\\xa0ihrer jetzigen Form entspreche nicht der heutigen globalisierten Welt.Die Konvention definiert den Begriff „Flüchtling“ und die Grundlagen, die für einen Asylantrag erforderlich sind. Einige Rechte, die Flüchtlinge genießen, gleichen denen der Bürger des Aufnahmestaates, andere – denen der Ausländer.                        ©                    REUTERS/ Michaela RehleDänemark besteht auf Konfiskationen: Flüchtlinge sollen Aufenthalt selber bezahlenAls die UN-Flüchtlingskonvention 1951 angenommen wurde, war Dänemark das erste Land, das sie unterzeichnet hat. Nun sei der Ministerpräsident der Auffassung, die von der Konvention auferlegten Verpflichtungen seien eine untragbare Bürde für Dänemark, schreibt die schwedische Zeitung Svenska Dagbladet.Eines der Probleme besteht laut Rasmussen darin, dass verschiedene Gruppen der Flüchtlinge verschiedene Regeln einhalten müssen. So gelten die verschärften Bedingungen für einen Familiennachzug nicht für alle. Die Fristen hängen davon ab, unter welchen Bedingungen das Asyl gewährt wurde.Die von Dänemark getroffenen Maßnahmen für die Reduzierung des Flüchtlingszustroms wirkten „inspirierend“ auf andere Staaten, so der dänische Ministerpräsident. Allerdings dürfe das Asylrecht als solches nicht abgeschafft werden. Dänemark habe nicht vor, alleine die Konvention außer Kraft zu setzen, Dänemark wolle gemeinsam mit anderen Staaten das System von innen verändern, erklärte Rasmussen. Eine der Forderungen könne sein, dass Flüchtlinge in\\xa0dem Land Asyl beantragen müssten, in\\xa0dem sie als erstes angekommen seien.                        ©                    AFP 2018/ Bulent KilicDänemark: Flüchtlinge mit mehr als 400 Euro werden zur Kasse gebetenMit Blick vor allem auf die syrischen Flüchtlinge fragte Ramussen: \\\\\"Wenn jemand, der Schutz vor Krieg sucht, zwei oder drei Jahre in\\xa0der Türkei gelebt hat, sollte er dann nach Europa gehen und dort Asyl beantragen?\\\\\" Die geltenden Regeln würden dies ermöglichen. \\\\\"Aber wir werden darüber eine Diskussion führen\\\\\", sagte er in\\xa0dem Fernsehinterview. In der Türkei leben nach Angaben Ankaras etwa zwei Millionen syrische Bürgerkriegsflüchtlinge.Das Wichtigste ist aus der Sicht des dänischen Politikers die Verständigung innerhalb Europas zu gewährleisten und eine einheitliche Sichtweise zu erarbeiten.„Dänemark kann nicht allein handeln, die anderen müssen auch teilnehmen. Ich kann doch ohne Zustimmung der anderen EU-Staaten das Ausweisungssystem nicht beschließen“, sagte Rasmussen.Diskussion\"\\t\"OVER-THRESHOLD\"\\t\"flüchtlingskrise asyl flüchtlinge\"\\t981\\t0.541940112273363\\n\"http://de.sputniknews.compolitik/20160614310604740-maas-polygamie-verbot\"\\t\"http://web.archive.org/web/20171008021814/https://de.sputniknews.com/amp/politik/20160614310604740-maas-polygamie-verbot/\"\\t20160614\\t\"Glaube darf nicht über Gesetz stehen: Bundesjustizminister will Polygamie verbieten\"\\t\"Bundesjustizminister Heiko Maas will Mehrfach-Ehen unter muslimischen Migranten in Deutschland grundsätzlich die Anerkennung verweigern. Auch eine Gesetzesverschärfung gegen Zwangsehen mit minderjährigen Kindern sei notwendig.  Der Bundesjustizminister will der Anerkennung dieser Praxis in\\xa0Deutschland nun ein Ende bereiten. „Jeder muss sich an Recht und Gesetz halten, egal ob er hier aufgewachsen oder neu bei uns ist“, so Maas gegenüber der „Bild“-Zeitung. „Niemand, der zu uns kommt, hat das Recht, seine kulturelle Verwurzelung oder seinen religiösen Glauben über unsere Gesetze zu stellen“, sagte Maas zu „Bild“. „Deshalb dürfen in\\xa0Deutschland keine Mehrfach-Ehen anerkannt werden.\\\\\" Auch Zwangsehen mit minderjährigen Migranten müssen Maas zufolge in\\xa0Deutschland komplett verboten werden. Dazu sei eine Gesetzesverschärfung notwendig, um Kinder zu schützen. „Wir müssen das sehr sorgfältig prüfen. Zwangsehen dürfen wir nicht dulden, erst recht nicht, wenn minderjährige Mädchen betroffen sind“, so Maas.\"\\t\"OVER-THRESHOLD\"\\t\"migranten\"\\t135\\t0.539771426513455\\n\"http://de.sputniknews.comgesellschaft/20181210323239903-menschenrechte-flucht-migration-pakt\"\\t\"http://web.archive.org/web/20181210233556/https://de.sputniknews.com/amp/gesellschaft/20181210323239903-menschenrechte-flucht-migration-pakt/\"\\t20181210\\t\"Gibt es ein Menschenrecht auf Migration?\"\\t\"{                    \\\\\"vars\\\\\": {                        \\\\\"counterId\\\\\": \\\\\"27090206\\\\\"                    }                }                                    {                            \\\\\"requests\\\\\": {                                \\\\\"pageview\\\\\": \\\\\"http://web.archive.org/web/20181210233556/https://counter.yadro.ru/hit;RS_Total/Sputniki_Total/Sputniknews?u${ampdocUrl};r${documentReferrer};s${screenWidth}*${screenHeight}*32;h${title};${random}\\\\\"                            },                            \\\\\"triggers\\\\\": {                                \\\\\"track pageview\\\\\": {                                    \\\\\"on\\\\\": \\\\\"visible\\\\\",                                    \\\\\"request\\\\\": \\\\\"pageview\\\\\"                                }                            }                        }                    Alle NachrichtenGesellschaft                        ©                    AP Photo/ Marko DrobnjakovicGibt es ein Menschenrecht auf Migration?20:01 10.12.2018Zum KurzlinkPaul LinkeMigration sei kein Menschenrecht, erklärte FPÖ-Chef Heinz-Christian Strache. Damit begründete er unter anderem den Rückzug Österreichs aus dem globalen Migrationspakt der Vereinten Nationen, der nun verabschiedet wurde. Hatte der österreichische Vizekanzler auch wirklich Recht? Zum 70. Jahrestag der UN-Menschenrechte klärt Sputnik auf.Am Montag feiert die Welt ein wichtiges Jubiläum. Die Menschenrechte werden 70 Jahre alt. Am 10. Dezember 1948 einigten sich die Mitglieder der Vereinten Nationen auf die „Allgemeine Erklärung der Menschenrechte“ (AEMR). Heute beziehen sich die meisten demokratischen Staaten auf dieses Dokument.Auch ein anderes Abkommen erblickte am Montag das Licht der Welt. Der sogenannte „Globale Pakt für eine sichere, geordnete und reguläre Migration“. Genau wie bei der Menschenrechtserklärung handelt es sich auch beim UN-Migrationspakt um eine\\xa0 „unverbindliche Vereinbarung“ der Vereinten Nationen. In Marrakesch haben am Montag 164 Staaten den umstrittenen Migrationspakt, an dem 192 Staaten beteiligt waren, offiziell verabschiedet. Die USA nahmen an den Verhandlungen gar nicht erst teil. Mehrere Regierungen lehnten das Papier in\\xa0den letzten Wochen ab. Darunter befinden sich Ungarn, Polen, Tschechien, Bulgarien, Australien, die Slowakei, Israel und Österreich.>>>Andere Sputnik-Artikel: Uno nimmt umstrittenen Migrationspakt an<<<FPÖ-Vize: „Migration ist kein Menschenrecht“Die österreichische Begründung für den Rückzug lautete unter anderem: „Migration ist und darf auch kein Menschenrecht werden“, sagte Vizekanzler Heinz-Christian Strache (FPÖ).                        ©                    AP Photo/ Olmo Calvo„Ein zynisches Spiel“ – Warum der Migrationspakt keine Lösung istDer Aussage stimmt auch Geschäftsmann und ÖVP-Mitglied, Freiherr Norbert van Handel, zu. Migration sei „natürlich“ kein Menschenrecht. „Wir haben eine ganz genaue Definition von Menschenrechten. Freie Meinung, Zugang zum ordentlichen Gericht.“ Auch Reisefreiheit sei zwar ein Menschenrecht, aber eine Reisefreiheit mit dem Ziel, sich in\\xa0einem Land auf Dauer niederzulassen, sei definitiv kein Menschenrecht, erklärte van Handel gegenüber Sputnik.Ob das auch so stimmt, wollte die Sputnik-Redaktion überprüfen. Als Migration versteht man zunächst allgemein eine „Abwanderung in\\xa0ein anderes Land, in\\xa0eine andere Gegend, an einen anderen Ort“, so die „Bedeutungsübersicht“ des Dudens. Damit stellt per Definition auch eine Flucht aus dem eigenen Land aus jedweden Gründen zunächst eine Migration dar.Asyl als MenschenrechtDie Allgemeine Erklärung der Menschenrechte besteht aus 30 Artikeln. Zwei davon beschäftigen sich direkt mit dem Begriff Migration. So der Artikel 13, der auf die Auswanderungsfreiheit eingeht. Dort heißt es dazu: „Jeder hat das Recht, jedes Land, einschließlich seines eigenen, zu verlassen und in\\xa0sein Land zurückzukehren.“Im Artikel 14, der das Menschenrecht auf Asyl beschreibt, heißt es: „Jeder hat das Recht, in\\xa0anderen Ländern vor Verfolgung Asyl zu suchen und zu genießen.“ Im Falle einer Strafverfolgung, „die tatsächlich auf Grund von Verbrechen nichtpolitischer Art oder auf Grund von Handlungen erfolgt, die gegen die Ziele und Grundsätze der Vereinten Nationen verstoßen“, könne jedoch dieses Recht nicht in\\xa0Anspruch genommen werden.So werde Migration zu einem Menschenrecht, spätestens wenn Menschenleben durch äußere Faktoren wie Krieg und andere Katastrophen in\\xa0Gefahr seien, bestätigt der Politikwissenschaftler von der Universität Wien, Prof. Dr. Otmar Höll, im Sputnik-Interview. „Wir haben die Genfer Flüchtlingskonvention, wir haben den Menschenrechtspakt, die in\\xa0diese Richtung weisen. Und tatsächlich sind sie völlig außer Streit zu stellen“, findet Höll.\\xa0 Er bemerkt zudem, dass Österreich seit einigen Monaten im UN-Menschenrechtsbeirat sitzt. Daher würden Straches Äußerungen und der Rückzug aus dem UN-Migrationspakt einen „Bruch mit der guten österreichischen Tradition“ bedeuten.Jedoch bezweifelt der Politologe, dass Migration zu einem Menschenrecht im völkerrechtlichen Sinn in\\xa0naher Zukunft werde könne. „Aber die Migration als solche wird man mit einer derartigen Ablehnung nicht anhalten können“, warnt Professor Höll.>>>Andere Sputnik-Artikel: Nachzug von Flüchtlingen in\\xa0Deutschland: Zahl der Visa weit unter Obergrenze<<<Flucht gleich Migration?Flüchtlinge würden nicht zu Migration gehören, behauptet gegenüber Sputnik der UNHCR-Pressereferent Martin Rentsch: „Per Definition fliehen sie vor Krieg, Folter und Menschenrechtsverletzungen. Das unterscheidet sie von Migranten.“                        ©                    AP Photo/ Emrah GurelAlleine alle Flüchtlinge in EU aufnehmen? – Berlin und Paris haben AngstDer Migrationsforscher von der Technischen Universität Dresden, Dr. Oliviero Angeli,\\xa0 definiert Flucht als „eine Form der Migration, aber nicht die einzige Form von Migration“. Es könne auch darüber diskutiert werden, wer unter dem Begriff Flüchtlinge allgemein verstanden werden kann, bemerkt Angeli. Die deutsche Regierung poche dabei sehr stark auf die Definition der Genfer Flüchtlingskonvention. Danach gilt als Flüchtling eine Person, die „aus der begründeten Furcht vor Verfolgung wegen ihrer Rasse, Religion, Nationalität, Zugehörigkeit zu einer bestimmten sozialen Gruppe oder wegen ihrer politischen Überzeugung sich außerhalb des Landes befindet, dessen Staatsangehörigkeit sie besitzt“.„Kein Recht, in\\xa0andere Länder einzuwandern“Die Frage nach der menschenrechtlichen Basis der Migration\\xa0 ist für Angeli „auf legaler Ebene relativ klar“: „Wir haben Rechte, uns innerhalb der Staaten frei zu bewegen oder aus den Staaten auszuwandern. Aber wir haben bis dato kein Recht, in\\xa0andere Länder einzuwandern. Aus moralischer Sicht kann man für dieses Recht eintreten, aber politisch ist es mittel- bis langfristig schwer umsetzbar“, erklärt der Migrationsforscher. Dass die UN-Menschenrechte bis heute keine rechtlich verbindliche Basis besitzen, schwäche die Position derjenigen, die sich für ein Recht auf Bewegungsfreiheit oder für ein Recht auf Einwanderung stark machen, betont Angeli. Dieses Recht müsse man erst in\\xa0der Menschenrechtskonvention stärker etablieren. „Doch dafür ist der politische Wille momentan nicht vorhanden“, so der Politikwissenschaftler Dr. Oliviero Angeli.Der „Globale Pakt für Migration“ wurde am Montag beim UN-Gipfeltreffen in\\xa0Marokko unterzeichnet. Das 34 Seiten umfassende Dokument soll dazu beitragen, Flucht und Migration besser zu organisieren.Das komplette Interview mit Dr. Oliviero Angeli zum Nachhören:Das komplette Interview mit Prof. Dr. Otmar Höll zum Nachhören:Diskussion\"\\t\"OVER-THRESHOLD\"\\t\"flüchtlingen asyl einwanderung flucht flüchtlinge flüchtling migration\"\\t1461\\t0.537197634217539\\n\"http://de.sputniknews.compolitik/20151102305349847\"\\t\"http://web.archive.org/web/20181201040148/https://de.sputniknews.com/amp/politik/20151102305349847/\"\\t20151102\\t\"Kabul nimmt abgelehnte Asylbewerber aus Deutschland auf\"\\t\"{                    \\\\\"vars\\\\\": {                        \\\\\"counterId\\\\\": \\\\\"27090206\\\\\"                    }                }                                    {                            \\\\\"requests\\\\\": {                                \\\\\"pageview\\\\\": \\\\\"http://web.archive.org/web/20181201040148/https://counter.yadro.ru/hit;RS_Total/Sputniki_Total/Sputniknews?u${ampdocUrl};r${documentReferrer};s${screenWidth}*${screenHeight}*32;h${title};${random}\\\\\"                            },                            \\\\\"triggers\\\\\": {                                \\\\\"track pageview\\\\\": {                                    \\\\\"on\\\\\": \\\\\"visible\\\\\",                                    \\\\\"request\\\\\": \\\\\"pageview\\\\\"                                }                            }                        }                    Alle NachrichtenPolitik                        ©                    AP Photo/ Muhammed MuheisenKabul nimmt abgelehnte Asylbewerber aus Deutschland auf12:37 02.11.2015(aktualisiert  12:42 02.11.2015) Zum KurzlinkThemen: Migrationsproblem in EuropaDie afghanische Regierung hat erklärt, dass sie abgelehnte Asylbewerber aus Deutschland zurücknimmt, meldet Associated Press.Die Ankündigung der Bundesregierung, abgelehnte Asylbewerber aus Afghanistan künftig deutlich häufiger als bisher in\\xa0ihre Heimat abzuschieben, ist von der Regierung in\\xa0Kabul mit Erstaunen und Ablehnung kommentiert worden.                        ©                    AFP 2018/ Robert MichaelAufnahme der Flüchtlinge: „Trotz Finanzstärke – Probleme mentaler Art“ – SoziologeLaut dem afghanischen Minister für Flüchtlingsangelegenheiten, Sayed Hussain Alimi Balkhi weiß seine Regierung von einer solchen Entscheidung nichts. Er habe kürzlich erst einer deutschen Regierungsdelegation in\\xa0Genf gesagt, dass sich die Sicherheitslage in\\xa0Afghanistan verschlechtert habe.„Ich habe sie deshalb ausdrücklich darum gebeten, keine afghanischen Asylbewerber abzuschieben.“ Diese Bitte habe er auch im Gespräch mit dem deutschen Botschafter in\\xa0Afghanistan geäußert.                        ©                    REUTERS/ Kai PfaffenbachDeutschland: Über eine halbe Million Flüchtlinge bereits da - ZeitungDer Präsidentensprecher Safar Haschemi sagte, dass Afghanistan die Asylbewerber zuhause aufnehmen solle. Er fügte hinzu, dass Bundeskanzlerin Angela Merkel und der afghanische Präsident Ashraf Ghani diese Frage vor kurzem besprochen haben.Bis zu einer Million Flüchtlinge könnten in\\xa0diesem Jahr nach Deutschland kommen, wurde schon früher gemeldet. Nach den Angaben des afghanischen Ministeriums für Flüchtlinge und Repatriierung haben in\\xa0diesem Jahr 120.000 Menschen das Land verlassen.Diskussion\"\\t\"OVER-THRESHOLD\"\\t\"migrationsproblem asylbewerber flüchtlinge\"\\t801\\t0.536986114185067\\n\"http://de.sputniknews.companorama/20170307314801061-EuGH-visa-urteil\"\\t\"http://web.archive.org/web/20170307115432/https://de.sputniknews.com/amp/panorama/20170307314801061-EuGH-visa-urteil/\"\\t20170307\\t\"EuGH-Urteil: Keine \\\\\"humanitären Visa\\\\\" in EU-Auslandsbotschaften\"\\t\"Die Behörde argumentierte, dass sich die Familie länger als die mit einem Visum bewilligten 90 Tage in\\xa0Belgien aufhalten wollte\\xa0— schließlich wollten die Syrer dort Asylanträge stellen. Zudem seien EU-Staaten nicht verpflichtet, alle Menschen aufzunehmen, die eine katastrophale Situation durchlebten, hieß es. Der zuständige EuGH-Generalanwalt widersprach dieser Argumentation in\\xa0einem aufsehenerregenden Gutachten. Er schrieb, die Erteilung nationaler Visa werde von einer EU-Verordnung geregelt. Damit gelte auch die Grundrechtecharta der Union. Die wiederum schreibt das Recht auf Asyl fest und verbietet Folter und andere unmenschliche und entwürdigende Behandlung\\xa0— reale Gefahren für die syrische Familie, unterstrich der Gutachter. Damit müsse ein EU-Staat in\\xa0solchen Fällen Visa zur Einreise vergeben und Schutzsuchenden die Möglichkeit geben, in\\xa0Europa Asyl zu verlangen.\"\\t\"OVER-THRESHOLD\"\\t\"asylanträge asyl\"\\t116\\t0.536181733211913\\n\"http://de.sputniknews.compolitik/20170207314424623-kalifornien-trump-krieg\"\\t\"http://web.archive.org/web/20170209143833/https://de.sputniknews.com/amp/politik/20170207314424623-kalifornien-trump-krieg/\"\\t20170207\\t\"Kalifornien und Trump erklären einander den Krieg – WP\"\\t\"„Das ist lächerlich“, so Trump über Kaliforniens Initiative, ein Asyl-Staat zu werden. „Wie Sie wissen, bin ich absolut gegen diese Asyl-Städte. Sie bringen Kriminalität und es gibt viele Probleme.“ Kalifornien sei in\\xa0vieler Hinsicht „außer Kontrolle geraten“, ist der US-Staatschef überzeugt. „Offenbar stimmen mir die Wähler zu, sonst hätten sie nicht für mich gestimmt.“  Wie WP unter Verweis auf die US-Bundespolizei FBI schreibt, ist die Kriminalität in\\xa0sogenannten „Asyl-Städten“ angeblich sogar niedriger als in\\xa0anderen Ortschaften. Was ist eine „Asyl-Stadt“? In den USA gibt es derzeit laut WP etwa 60 Städte mit speziellen Asyl-Gesetzen („Asyl-Städte“ bzw. „Sanctuary Cities“), darunter Los Angeles und New York. Die Gesetzeslage variiert von Stadt zu Stadt, doch im Allgemeinen beschützt sie illegale Einwanderer, die gewaltlose Verbrechen begangen haben, davor, von den Lokalregierungen an die Bundesbehörden übergeben zu werden. Das Verüben von Kavaliersdelikten durch Migranten führt demnach nicht zwingend zu bundesstaatlichem Gewahrsam. Stadtmitarbeiter und Strafverfolgungsbehörden einer sogenannten Asyl-Stadt dürfen zudem nicht nach dem Einwanderungsstatus eines Strafverdächtigen fragen. Gegner der Verordnung argumentieren, dass diese kriminelle Zuwanderer vor der Abschiebung bewahre.\"\\t\"OVER-THRESHOLD\"\\t\"migranten\"\\t174\\t0.536121189018493\\n\"http://de.sputniknews.comgesellschaft/20180619321230321-menschenrechte-migranten-usa\"\\t\"http://web.archive.org/web/20181225062127/https://de.sputniknews.com/amp/gesellschaft/20180619321230321-menschenrechte-migranten-usa/\"\\t20180619\\t\"Kinder von Eltern zu trennen ist skrupellos – UN-Menschenrechtskommissar rügt USA - VIDEO\"\\t\"{                    \\\\\"vars\\\\\": {                        \\\\\"counterId\\\\\": \\\\\"27090206\\\\\"                    }                }                                    {                            \\\\\"requests\\\\\": {                                \\\\\"pageview\\\\\": \\\\\"http://web.archive.org/web/20181225062127/https://counter.yadro.ru/hit;RS_Total/Sputniki_Total/Sputniknews?u${ampdocUrl};r${documentReferrer};s${screenWidth}*${screenHeight}*32;h${title};${random}\\\\\"                            },                            \\\\\"triggers\\\\\": {                                \\\\\"track pageview\\\\\": {                                    \\\\\"on\\\\\": \\\\\"visible\\\\\",                                    \\\\\"request\\\\\": \\\\\"pageview\\\\\"                                }                            }                        }                    Alle NachrichtenGesellschaftKinder von Eltern zu trennen ist skrupellos – UN-Menschenrechtskommissar rügt USA - VIDEOВаш браузер не поддерживает данный формат видео                        ©                    Sputnik/ 14:53 19.06.2018(aktualisiert  18:57 19.06.2018) Zum KurzlinkDer Hochkommissar der Vereinten Nationen für Menschenrechte hat die USA für ihre Praxis gerügt, beim illegalen Grenzübertritt an der mexikanischen Grenze festgenommene Migranten von ihren Kindern zu trennen. Die Idee, Kinder für das Verhalten ihrer Eltern zu bestrafen und diese durch die Misshandlung der Kinder abzuschrecken, sei skrupellos.Der UN-Hochkommissar für Menschenrechte, Zeid Ra’ad Al Hussein, hat in\\xa0Genf die USA scharf angegriffen. Bezugnehmend auf die jüngst forcierte Praxis, an der mexikanisch-US-amerikanischen Grenze festgenommene illegale Einwanderer von ihren Kindern zu trennen, sprach Al Hussein von einer „grausamen Praxis“, die „irreparable Schäden mit lebenslangen Folgen“ nach sich ziehen könnte.\\xa0 Wörtlich sagte der Hochkommissar an die Adresse der US-Regierung: „Die Idee, dass ein Staat versucht, Eltern dadurch abzuschrecken, indem Kindern eine solche Misshandlung zugefügt wird, ist skrupellos.“>>Andere Sputnik-Artikel: Trump: „Menschen in\\xa0Deutschland wenden sich gegen ihre Regierung“Die im Video dokumentierte Passage der Erklärung von Zeid Ra’ad Al Hussein im Wortlaut:„In the United States, I am deeply concerned by\\xa0recently adopted policies which punish children for\\xa0that parent’s actions. In the past\\xa0six weeks, nearly 2,000 children have been forcibly separated from\\xa0their parents. The American Association of\\xa0Pediatrics [APP] has called this cruel practice \\'government-sanctioned child abuse\\' which may cause \\'irreparable harm\\' with \\'lifelong consequences\\'. The thought that any state would seek to\\xa0deter parents by\\xa0inflicting such abuse on\\xa0children is unconscionable. I call on\\xa0the United States to\\xa0immediately end the practice of\\xa0forcible separation of\\xa0these children, and I encourage the government to\\xa0at last ratify the [UN] Convention on\\xa0the Rights of\\xa0the Child, in\\xa0order to\\xa0ensure that the fundamental rights of\\xa0all children, whatever their administrative status, will be at\\xa0the centre of\\xa0all domestic laws and policies.”                        ©                    REUTERS/ Jorge Duenes„Migranten-Karawane“ trifft an Mexikos Grenze zu USA ein – VIDEO“Ich bin zutiefst besorgt über die aktuell in\\xa0den Vereinigten Staaten angewandte Praxis, Kinder für Handlungen ihrer Eltern zu bestrafen. In den vergangenen sechs Wochen wurden beinahe 2.000 Kinder gewaltsam von ihren Eltern getrennt. Die Amerikanische Vereinigung für Kinderheilkunde (APP) nennt diese grausame Praxis „staatlich sanktionierte Kindesmisshandlung, die irreparable Schäden mit lebenslangen Folgen hervorrufen könne“. Die Idee, dass ein Staat versucht, Eltern dadurch abzuschrecken, indem Kindern eine solche Misshandlung zugefügt wird, ist skrupellos. Ich rufe die Vereinigten Staaten auf, unverzüglich die Praxis der gewaltsamen Trennung dieser Kinder zu beenden, und ich ermutige die Regierung, endlich die UN-Konvention für die Rechte der Kinder zu ratifizieren, um sicherzustellen, dass die fundamentalen Rechte aller Kinder, gleich welchen administrativen Status, im Zentrum aller öffentlichen Gesetze und Politik stehen.“>>Andere Sputnik-Artikel: Trump will Migranten „von überall her“Diskussion\"\\t\"OVER-THRESHOLD\"\\t\"einwanderer migranten\"\\t980\\t0.533417092483392\\n\"http://de.sputniknews.compolitik/20180914322316830-eu-ungarn-grenzen-kontrolle\"\\t\"http://web.archive.org/web/20180914185523/https://de.sputniknews.com/amp/politik/20180914322316830-eu-ungarn-grenzen-kontrolle/\"\\t20180914\\t\"EU will Ungarn „Recht auf Kontrolle eigener Grenzen entziehen” – Orban\"\\t\"Das EU-Rechtsstaatsverfahren gegen Ungarn stellt nicht die „geringste Gefahr“ für das Land dar, wie Ungarns Ministerpräsident Viktor Orban in einem Interview mit dem Radiosender Kossuth erklärte. Am vergangenen Mittwoch hat das Europäische Parlament dem Antrag auf ein Strafverfahren gegen Ungarn wegen Verstößen gegen europäische Normen und Prinzipien der Rechtshoheit zugestimmt. Das Europaparlament behandelt erstmals ein Dokument, in\\xa0dem es um die Anwendung von Artikel 7 des EU-Vertrages gegen Ungarn geht. >>>Weitere Sputnik-Artikel: „Dafür würde ich aus dem Amt gejagt“ – Orban zu Merkels Flüchtlingspolitik  „Sie (die EU – Anm. d. Red.) haben einen Plan: Wenn sie Ungarn nicht zur Aufnahme von Flüchtlingen zwingen können, werden sie dem Land das Recht auf Kontrolle der eigenen Grenzen entziehen“, sagte Orban. In Brüssel werden die ungarischen Behörden vor allem für die Weigerung kritisiert, die Entscheidungen der Europäischen Union im Bereich Migrationspolitik zu erfüllen. Mitte Juli hatte die Europäische Kommission beim Europäischen Gerichtshof bereits eine Beschwerde gegen Ungarn eingereicht, da es die EU-Vorschriften zur Asylgewährung für Flüchtlinge nicht befolgt hatte. >>>Weitere Sputnik-Artikel: EU-Kommission reicht beim Europäischen Gerichtshof Klage gegen Ungarn ein\"\\t\"OVER-THRESHOLD\"\\t\"flüchtlingen flüchtlingspolitik flüchtlinge\"\\t179\\t0.532563413304608\\n\"http://de.sputniknews.com/german.ruvr.ru/2013_11_06/Festung-Europa-von-Migranten-und-Fluchtlingen-3563\"\\t\"http://web.archive.org/web/20150722052852/http://de.sputniknews.com/german.ruvr.ru/2013_11_06/Festung-Europa-von-Migranten-und-Fluchtlingen-3563/\"\\t20131106\\t\"Festung Europa - von Migranten und Flüchtlingen\"\\t\"Foto: Aziz Bozkurt STIMME RUSSLANDS Flüchtlinge im Hungerstreik vor dem Brandenburger Tor, Tote in Lampedusa, unerwünschte Asylanten in Hellersdorf und Schneeberg, von Abschiebung bedrohte Asylbewerber in Hamburg. Schottet Europa sich ab? Nimmt Deutschland genug Flüchtlinge auf? Auf diese und andere Fragen antwortet bei uns im Studio Aziz Bozkurt, Landesvorsitzender der AG Migration und Vielfalt in der SPD Berlin.\"\\t\"OVER-THRESHOLD\"\\t\"migration asylbewerber flüchtlinge\"\\t61\\t0.532312736405033\\n\"http://de.sputniknews.companorama/20170715316608060-fluechtlinge-selbstanzeigen-terror\"\\t\"http://web.archive.org/web/20170715150527/https://de.sputniknews.com/amp/panorama/20170715316608060-fluechtlinge-selbstanzeigen-terror/\"\\t20170715\\t\"Selbstanzeigen unter Flüchtlingen „wegen Terrors“ wuchern – aus bizarrem Grund\"\\t\"Mehr als 408.000 Asylanträge hat das Bundesamt für Migration und Flüchtlinge (BAMF) im ersten Halbjahr 2017 entschieden – rund 44 Prozent mehr als im gleichen Zeitraum des Vorjahres, berichtet die „Welt“. „Mit den Selbstanzeigen wegen Terrors in\\xa0laufenden Asylverfahren ist eine massive neue Belastung auf die Strafverfolgungsbehörden zugekommen“, so Stuttgarts Generalstaatsanwalt Achim Brauneisen.  Wie die „Welt“ schreibt, wollen viele Asylbewerber mit der Selbstbezichtigung einer Zwangsmitgliedschaft in\\xa0einer islamistischen Gruppierung der Abschiebung entgehen. Dabei würden sie auf den sogenannten subsidiären Schutz hoffen. Der subsidiäre Schutz ist dann gewährt, wenn die Rückkehr eines Asylbewerbers ins Heimatland zu gefährlich ist. Genauer gesagt, wenn ein Ausländer stichhaltige Gründe für die Annahme vorgebracht hat, dass ihm in\\xa0seinem Herkunftsland ein schwerer Schaden droht – beispielsweise Todesstrafe, Folter, unmenschliche oder erniedrigende Behandlung bzw. Bestrafung.\"\\t\"OVER-THRESHOLD\"\\t\"asylanträge migration asylbewerber flüchtlinge\"\\t128\\t0.53192302021476'"
            ],
            "application/vnd.google.colaboratory.intrinsic+json": {
              "type": "string"
            }
          },
          "metadata": {},
          "execution_count": 31
        }
      ]
    },
    {
      "cell_type": "code",
      "metadata": {
        "id": "hDdvw6QUwWn3",
        "colab": {
          "base_uri": "https://localhost:8080/"
        },
        "outputId": "49b83ba1-0509-4e22-c7a8-9c98822631c3"
      },
      "source": [
        "\n",
        "sputnik = open('/content/drive/MyDrive/Colab Notebooks/Oxford Text Analysis 22/Python QTA Drive Oxford 2022/Data/sputnikgerman20.tsv', \"r\") #open files\n",
        "lines_sputnik = sputnik.readlines() # a lst of strings, each string refers to one line in the file\n",
        "for i in range(5): #read line by line\n",
        "    print(lines_sputnik[i])\n",
        "sputnik.close()"
      ],
      "execution_count": null,
      "outputs": [
        {
          "output_type": "stream",
          "name": "stdout",
          "text": [
            "\"http://de.sputniknews.compolitik/20160107306965193-Lindner-Merkel-Migrationspolitik-Chaos-Einwanderungsgesetz\"\t\"http://web.archive.org/web/20170227192503/https://de.sputniknews.com/amp/politik/20160107306965193-Lindner-Merkel-Migrationspolitik-Chaos-Einwanderungsgesetz/\"\t20160107\t\"FDP-Chef Lindner: Merkels Flüchtlingspolitik führt Europa ins Chaos\"\t\"Der Satz „Wir schaffen das“ der Bundeskanzlerin ersetze kein Regierungshandeln, so Lindner. Seiner Meinung nach ist ein „rationales, humanitäres, europäisch abgestimmtes Einwanderungsgesetz“ nötig, welches eine systematisierte Registrierung von Flüchtlingen und deren legale Integration ermöglichen würde. Die CDU/CSU-Politiker hatten von Merkel wiederholt gefordert, den Migranten-Zustrom zu begrenzen. Doch die Kanzlerin hat sich bislang geweigert, eine Obergrenze für Flüchtlinge festzulegen, was die Grenzschließung für neu ankommende Migranten bedeuten würde.\"\t\"OVER-THRESHOLD\"\t\"flüchtlingen migranten flüchtlinge\"\t70\t0.572646110198091\n",
            "\n",
            "\"http://de.sputniknews.com/panorama/20150210/301052523.html\"\t\"http://web.archive.org/web/20150315163311/http://de.sputniknews.com/panorama/20150210/301052523.html\"\t20150210\t\"Experte: Rund 1,3 Millionen wehrpflichtige Ukrainer nach Russland geflüchtet\"\t\"In letzter Zeit sei knapp einer halben Million ukrainischer Bürger der Flüchtlingsstatus zuerkannt beziehungsweise befristetes Asyl gewährt worden. „Russland hat keine Pläne, die Grenze für andere zu schließen.“ Zugleich räumte Patruschew erhebliche Probleme bei der Unterbringung immer wieder eintreffender Flüchtlinge ein.\"\t\"OVER-THRESHOLD\"\t\"flüchtlingsstatus asyl flüchtlinge\"\t43\t0.549349509077681\n",
            "\n",
            "\"http://de.sputniknews.compolitik/20181117322994742-deutschland-spd-nahles-hartz-iv\"\t\"http://web.archive.org/web/20181117160304/https://de.sputniknews.com/amp/politik/20181117322994742-deutschland-spd-nahles-hartz-iv/\"\t20181117\t\"So präzisiert Nahles ihre Idee für Hartz IV-Alternative\"\t\"{                    \\\"vars\\\": {                        \\\"counterId\\\": \\\"27090206\\\"                    }                }                                    {                            \\\"requests\\\": {                                \\\"pageview\\\": \\\"http://web.archive.org/web/20181117160304/https://counter.yadro.ru/hit;RS_Total/Sputniki_Total/Sputniknews?u${ampdocUrl};r${documentReferrer};s${screenWidth}*${screenHeight}*32;h${title};${random}\\\"                            },                            \\\"triggers\\\": {                                \\\"track pageview\\\": {                                    \\\"on\\\": \\\"visible\\\",                                    \\\"request\\\": \\\"pageview\\\"                                }                            }                        }                    Alle NachrichtenPolitik                        ©                    REUTERS/ Hannibal HanschkeSo präzisiert Nahles ihre Idee für Hartz IV-Alternative12:51 17.11.2018(aktualisiert  13:05 17.11.2018) Zum KurzlinkDie SPD-Parteichefin Andrea Nahles hat in einem Gastbeitrag für die „Frankfurter Allgemeine Zeitung“ eine Ablösung des Hartz-IV-Systems durch höhere Mindestlöhne, Zuschüsse zu Sozialabgaben und Steuerboni gefordert.Beim Debattencamp in Berlin vor einer Woche kündigte Nahles einen Komplettumbau des Sozialstaates sowie die Abschaffung von Hartz IV an, dessen monatlicher Satz 416 Euro beträgt. Nun konkretisiert sie ihre Vorstellungen: Viel weniger Menschen als heute sollen auf Grundsicherung angewiesen sein – es sei immer günstiger, Arbeit anstatt Arbeitslosigkeit zu finanzieren.>>>Weitere Sputnik-Artikel: EXKLUSIV: „Mein Schmerzpunkt“ – Ex-Partei-Chef übt Kritik an Politik der Grünen<<<                        ©                    AFP 2018/ DPA/ Arne Dedert„So verhindert Politik bedingungsloses Grundeinkommen“: Ex-Grünen-Chef – EXKLUSIVVor allem die Zahl von zwei Millionen Kindern, die in Hartz-IV-Haushalten lebten, müsse verringert werden. „Diese Erfahrung, ein ‚Hartz-IV-Kind‘ zu sein, prägt fürs Leben. Wir brauchen daher eine eigenständige Kindergrundsicherung, die Kinder aus der Sozialhilfe holt und Teilhabe schafft“, zitieren Nahles deutsche Medien.Ein besseres Wohngeld könne zudem verhindern, „dass Menschen angesichts explodierender Mieten in die Grundsicherung getrieben werden“. Nahles kritisierte außerdem das in der SPD-Kanzlerschaft vom Altkanzler Gerhard Schröder eingeführte System der Zusammenlegung von Arbeitslosen- und Sozialhilfe und forderte weniger Bürokratie und Härte.>>>Weitere Sputnik-Artikel: Schon wieder Bulgarien – Illegale Migration durch tausendfachen Verkauf von EU-Pässen<<<                        ©                    AP Photo/ Martin Meissner„Wir werden Hartz IV hinter uns lassen“: Nahles verspricht Komplettumbau des Sozialstaates„Zum Symbol für das Misstrauen des Staates gegenüber den Grundsicherungsbeziehern sind die Sanktionen geworden. Sie wirken, als würde den Leistungsbeziehern von vornherein unterstellt, betrügen zu wollen“.Der Bundeswirtschaftsminister, Peter Altmaier, wies die SPD-Forderungen nach einer Hartz-IV-Abschaffung in einem Gespräch mit der Zeitung „Die Welt“ zurück.„Wir dürfen und werden Hartz IV nicht abschaffen. Solche Vorschläge sind hoch gefährlich und schaden der Zukunft unseres Landes“, zitieren deutsche Medien den CDU-Politiker.Diskussion\"\t\"OVER-THRESHOLD\"\t\"migration\"\t884\t0.549179266004771\n",
            "\n",
            "\"http://de.sputniknews.compolitik/20181109322907058-trump-usa-asyl\"\t\"http://web.archive.org/web/20181123020955/https://de.sputniknews.com/amp/politik/20181109322907058-trump-usa-asyl/\"\t20181109\t\"Trump beschränkt drastisch Asylgewährung für illegale Migranten\"\t\"{                    \\\"vars\\\": {                        \\\"counterId\\\": \\\"27090206\\\"                    }                }                                    {                            \\\"requests\\\": {                                \\\"pageview\\\": \\\"http://web.archive.org/web/20181123020955/https://counter.yadro.ru/hit;RS_Total/Sputniki_Total/Sputniknews?u${ampdocUrl};r${documentReferrer};s${screenWidth}*${screenHeight}*32;h${title};${random}\\\"                            },                            \\\"triggers\\\": {                                \\\"track pageview\\\": {                                    \\\"on\\\": \\\"visible\\\",                                    \\\"request\\\": \\\"pageview\\\"                                }                            }                        }                    Alle NachrichtenPolitik                        ©                    REUTERS/ Jose CabezasTrump beschränkt drastisch Asylgewährung für illegale Migranten15:43 09.11.2018(aktualisiert  17:36 09.11.2018) Zum KurzlinkUS-Präsident Donald Trump hat die Asylgewährung für illegale Migranten drastisch eingeschränkt. Das teilte der Staatschef vor der Presse mit.Wie Trump vor Journalisten sagte, hat er „gerade“ ein entsprechendes Dekret unterzeichnet. Demnach sollen nur noch Menschen Asyl beantragen können, die an einem offiziellen Grenzübergang in die USA einreisen. Illegal Eingereiste würden kein Asyl beantragen dürfen.>>> Weitere Sputnik-Artikel: Trump erklärt, warum USA Migranten brauchen                        ©                    REUTERS/ Leah MillisTrump droht mit Schließung der Grenze zu MexikoDie Verweigerung des Rechts auf einen Asylantrag für illegale Migranten sei zeitweilig und betreffe die Ausländer, die die südliche US-Grenze zu Mexiko gesetzwidrig überschreiten würden, geht aus Trumps Proklamation hervor.„Ich treffe befristete Maßnahmen zum Einreisestopp für Ausländer, um das Problem der großen Anzahl von Migranten zu lösen, die über Mexiko kommen, um in unser Land ohne richtige Dokumente einzureisen“.>>> Weitere Sputnik-Artikel: Bundestag beschließt Verschärfung des Asylgesetzes                        ©                    AFP 2018/ GERARD JULIENMauer reloaded: EU-Staaten errichten sechs neue „Berliner Mauern“Ein Einwanderer könne dennoch Asyl beantragen, wenn er sich an die US-Grenzbehörden wende, statt zu versuchen, in die USA illegal zu gelangen.Laut Trump haben die ankommenden Migranten in der Regel keine legalen Gründe, Asyl zu beantragen. Die Ankunft von einer großen Anzahl von Ausländern werde das US-Immigrationssystem überlasten und zur „Freilassung\\\" von Tausenden Ausländern innerhalb der USA“ führen.Zuvor hatte das US-Verteidigungsministerium seine Bereitschaft erklärt, bis zu 7000 Militärangehörige an der Grenze zwischen den USA und Mexiko zu stationieren. Trump verkündete, bis zu 15.000 Soldaten an die Grenze zu schicken, wo sich bereits 2100 Mitglieder der Nationalgarde der Vereinigten Staaten befinden.>>> Weitere Sputnik-Artikel: „Kein Menschenrecht auf Migration“: Österreich verlässt UN-Migrationspakt                        ©                    REUTERS/ Carlos Garcia RawlinsMigranten vs. US-Armee: Wer sind die Drahtzieher der Flüchtlingskarawane?Die Maßnahmen werden getroffen, weil eine Karawane mit Tausenden Menschen aus zentralamerikanischen Ländern sich den USA über das Territorium von Mexiko nähert. Weitere zwei Migrantengruppen bewegen sich aus Salvador in Richtung USA.Nach Informationen der Nachrichtenagentur France-Presse bezeichnete die Bürgerrechtsorganisation American Civil Liberties Union die Pläne für eine Verschärfung des Asylrechts am Donnerstag als „illegal“. Das US-Recht erlaube Menschen einen Asylantrag unabhängig davon zu stellen, ob sie sich an einem Grenzübergang befinden oder nicht. Dies könne nicht durch ein Dekret „umgangen“ werden.Diskussion\"\t\"OVER-THRESHOLD\"\t\"einwanderer migranten asyl\"\t998\t0.548636683559343\n",
            "\n",
            "\"http://de.sputniknews.compolitik/20160306308285650-oesterreich-draengt-auf-deutsches-fluechtlingskontingent\"\t\"http://web.archive.org/web/20181126055753/https://de.sputniknews.com/amp/politik/20160306308285650-oesterreich-draengt-auf-deutsches-fluechtlingskontingent/\"\t20160306\t\"Österreich drängt auf deutsches Flüchtlingskontingent\"\t\"{                    \\\"vars\\\": {                        \\\"counterId\\\": \\\"27090206\\\"                    }                }                                    {                            \\\"requests\\\": {                                \\\"pageview\\\": \\\"http://web.archive.org/web/20181126055753/https://counter.yadro.ru/hit;RS_Total/Sputniki_Total/Sputniknews?u${ampdocUrl};r${documentReferrer};s${screenWidth}*${screenHeight}*32;h${title};${random}\\\"                            },                            \\\"triggers\\\": {                                \\\"track pageview\\\": {                                    \\\"on\\\": \\\"visible\\\",                                    \\\"request\\\": \\\"pageview\\\"                                }                            }                        }                    Alle NachrichtenPolitik                        ©                    AP Photo/ Boris Grdanoski Österreich drängt auf deutsches Flüchtlingskontingent09:56 06.03.2016(aktualisiert  09:57 06.03.2016) Zum KurzlinkDer österreichische Bundeskanzler Werner Faymann hat von Deutschland gefordert, eine Flüchtlingsquote von 400.000 Personen im Jahr einzuführen. Wenn alle EU-Länder dem Beispiel Österreichs folgen würden, könnte die EU, so Faymann, zwei Millionen Flüchtlinge aufnehmen.Im Jahr 2015 hatten etwa 90.000 Menschen in Österreich Asyl beantragt. 2016 will die Regierung die Zahl der positiv beschiedenen Asylanträge auf 37.500 beschränken.                        ©                    AFP 2018/ JOHN MACDOUGALLBundeskanzler Faymann: Merkel sollte Tageskontingente für Flüchtlinge einführen„Deutschland muss endlich Klarheit schaffen, sonst werden weiterhin Flüchtlinge Richtung Deutschland losziehen … Nimmt man den österreichischen Richtwert her, könnte Deutschland rund 400.000 Flüchtlinge als Kontingent nennen“, sagte Faymann im Gespräch mit der Zeitung Kurier.Im Jahr 2015 sind nach Angaben der Agentur Frontex rund 1,8 Million Migranten nach Europa gekommen. Experten zufolge handelt es sich um die größte Flüchtlingskrise seit dem Zweiten Weltkrieg.Diskussion\"\t\"OVER-THRESHOLD\"\t\"asyl flüchtlinge migranten asylanträge flüchtlingskrise\"\t699\t0.547926894577753\n",
            "\n"
          ]
        }
      ]
    },
    {
      "cell_type": "code",
      "metadata": {
        "id": "oUgYV20PwWn4",
        "colab": {
          "base_uri": "https://localhost:8080/"
        },
        "outputId": "b930925f-ec57-482a-dc28-5877a22c7482"
      },
      "source": [
        "print(type(lines_sputnik))"
      ],
      "execution_count": null,
      "outputs": [
        {
          "output_type": "stream",
          "name": "stdout",
          "text": [
            "<class 'list'>\n"
          ]
        }
      ]
    },
    {
      "cell_type": "markdown",
      "metadata": {
        "id": "PVwV2JRqwWn4"
      },
      "source": [
        "## Other ways to load data: CSV library\n",
        "\n",
        "\n",
        "Good for csv and tsv files\n"
      ]
    },
    {
      "cell_type": "code",
      "metadata": {
        "id": "peeS1nNYwWn5",
        "colab": {
          "base_uri": "https://localhost:8080/"
        },
        "outputId": "a32a6f52-97cf-491b-ac2e-84be17abd642"
      },
      "source": [
        "\n",
        "import csv\n",
        "\n",
        "tsv_file = open(\"/content/drive/MyDrive/Colab Notebooks/Oxford Text Analysis 22/Python QTA Drive Oxford 2022/Data/sputnikgerman20.tsv\")\n",
        "read_tsv = csv.reader(tsv_file, delimiter=\"\\t\")\n",
        "read_tsv"
      ],
      "execution_count": null,
      "outputs": [
        {
          "output_type": "execute_result",
          "data": {
            "text/plain": [
              "<_csv.reader at 0x7f8a8a9146d0>"
            ]
          },
          "metadata": {},
          "execution_count": 34
        }
      ]
    },
    {
      "cell_type": "code",
      "metadata": {
        "id": "_uCPnFI_wWn8",
        "colab": {
          "base_uri": "https://localhost:8080/"
        },
        "outputId": "abaf1f6c-9ce2-4ada-bf2e-6e13d423aefe"
      },
      "source": [
        "for row in read_tsv:\n",
        "    print(row)\n",
        "tsv_file.close() # we see here each row is now saved in a list"
      ],
      "execution_count": null,
      "outputs": [
        {
          "output_type": "stream",
          "name": "stdout",
          "text": [
            "['http://de.sputniknews.compolitik/20160107306965193-Lindner-Merkel-Migrationspolitik-Chaos-Einwanderungsgesetz', 'http://web.archive.org/web/20170227192503/https://de.sputniknews.com/amp/politik/20160107306965193-Lindner-Merkel-Migrationspolitik-Chaos-Einwanderungsgesetz/', '20160107', 'FDP-Chef Lindner: Merkels Flüchtlingspolitik führt Europa ins Chaos', 'Der Satz „Wir schaffen das“ der Bundeskanzlerin ersetze kein Regierungshandeln, so Lindner. Seiner Meinung nach ist ein „rationales, humanitäres, europäisch abgestimmtes Einwanderungsgesetz“ nötig, welches eine systematisierte Registrierung von Flüchtlingen und deren legale Integration ermöglichen würde. Die CDU/CSU-Politiker hatten von Merkel wiederholt gefordert, den Migranten-Zustrom zu begrenzen. Doch die Kanzlerin hat sich bislang geweigert, eine Obergrenze für Flüchtlinge festzulegen, was die Grenzschließung für neu ankommende Migranten bedeuten würde.', 'OVER-THRESHOLD', 'flüchtlingen migranten flüchtlinge', '70', '0.572646110198091']\n",
            "['http://de.sputniknews.com/panorama/20150210/301052523.html', 'http://web.archive.org/web/20150315163311/http://de.sputniknews.com/panorama/20150210/301052523.html', '20150210', 'Experte: Rund 1,3 Millionen wehrpflichtige Ukrainer nach Russland geflüchtet', 'In letzter Zeit sei knapp einer halben Million ukrainischer Bürger der Flüchtlingsstatus zuerkannt beziehungsweise befristetes Asyl gewährt worden. „Russland hat keine Pläne, die Grenze für andere zu schließen.“ Zugleich räumte Patruschew erhebliche Probleme bei der Unterbringung immer wieder eintreffender Flüchtlinge ein.', 'OVER-THRESHOLD', 'flüchtlingsstatus asyl flüchtlinge', '43', '0.549349509077681']\n",
            "['http://de.sputniknews.compolitik/20181117322994742-deutschland-spd-nahles-hartz-iv', 'http://web.archive.org/web/20181117160304/https://de.sputniknews.com/amp/politik/20181117322994742-deutschland-spd-nahles-hartz-iv/', '20181117', 'So präzisiert Nahles ihre Idee für Hartz IV-Alternative', '{                    \\\\vars\\\\\": {                        \\\\\"counterId\\\\\": \\\\\"27090206\\\\\"                    }                }                                    {                            \\\\\"requests\\\\\": {                                \\\\\"pageview\\\\\": \\\\\"http://web.archive.org/web/20181117160304/https://counter.yadro.ru/hit;RS_Total/Sputniki_Total/Sputniknews?u${ampdocUrl};r${documentReferrer};s${screenWidth}*${screenHeight}*32;h${title};${random}\\\\\"                            },                            \\\\\"triggers\\\\\": {                                \\\\\"track pageview\\\\\": {                                    \\\\\"on\\\\\": \\\\\"visible\\\\\",                                    \\\\\"request\\\\\": \\\\\"pageview\\\\\"                                }                            }                        }                    Alle NachrichtenPolitik                        ©                    REUTERS/ Hannibal HanschkeSo präzisiert Nahles ihre Idee für Hartz IV-Alternative12:51 17.11.2018(aktualisiert  13:05 17.11.2018) Zum KurzlinkDie SPD-Parteichefin Andrea Nahles hat in einem Gastbeitrag für die „Frankfurter Allgemeine Zeitung“ eine Ablösung des Hartz-IV-Systems durch höhere Mindestlöhne, Zuschüsse zu Sozialabgaben und Steuerboni gefordert.Beim Debattencamp in\\xa0Berlin vor einer Woche kündigte Nahles einen Komplettumbau des Sozialstaates sowie die Abschaffung von Hartz IV an, dessen monatlicher Satz 416 Euro beträgt. Nun konkretisiert sie ihre Vorstellungen: Viel weniger Menschen als heute sollen auf Grundsicherung angewiesen sein – es sei immer günstiger, Arbeit anstatt Arbeitslosigkeit zu finanzieren.>>>Weitere Sputnik-Artikel: EXKLUSIV: „Mein Schmerzpunkt“ – Ex-Partei-Chef übt Kritik an Politik der Grünen<<<                        ©                    AFP 2018/ DPA/ Arne Dedert„So verhindert Politik bedingungsloses Grundeinkommen“: Ex-Grünen-Chef – EXKLUSIVVor allem die Zahl von zwei Millionen Kindern, die in Hartz-IV-Haushalten lebten, müsse verringert werden. „Diese Erfahrung, ein ‚Hartz-IV-Kind‘ zu sein, prägt fürs Leben. Wir brauchen daher eine eigenständige Kindergrundsicherung, die Kinder aus der Sozialhilfe holt und Teilhabe schafft“, zitieren Nahles deutsche Medien.Ein besseres Wohngeld könne zudem verhindern, „dass Menschen angesichts explodierender Mieten in\\xa0die Grundsicherung getrieben werden“. Nahles kritisierte außerdem das in\\xa0der SPD-Kanzlerschaft vom Altkanzler Gerhard Schröder eingeführte System der Zusammenlegung von Arbeitslosen- und Sozialhilfe und forderte weniger Bürokratie und Härte.>>>Weitere Sputnik-Artikel: Schon wieder Bulgarien – Illegale Migration durch tausendfachen Verkauf von EU-Pässen<<<                        ©                    AP Photo/ Martin Meissner„Wir werden Hartz IV hinter uns lassen“: Nahles verspricht Komplettumbau des Sozialstaates„Zum Symbol für das Misstrauen des Staates gegenüber den Grundsicherungsbeziehern sind die Sanktionen geworden. Sie wirken, als würde den Leistungsbeziehern von vornherein unterstellt, betrügen zu wollen“.Der Bundeswirtschaftsminister, Peter Altmaier, wies die SPD-Forderungen nach einer Hartz-IV-Abschaffung in\\xa0einem Gespräch mit der Zeitung „Die Welt“ zurück.„Wir dürfen und werden Hartz IV nicht abschaffen. Solche Vorschläge sind hoch gefährlich und schaden der Zukunft unseres Landes“, zitieren deutsche Medien den CDU-Politiker.Diskussion\"', 'OVER-THRESHOLD', 'migration', '884', '0.549179266004771']\n",
            "['http://de.sputniknews.compolitik/20181109322907058-trump-usa-asyl', 'http://web.archive.org/web/20181123020955/https://de.sputniknews.com/amp/politik/20181109322907058-trump-usa-asyl/', '20181109', 'Trump beschränkt drastisch Asylgewährung für illegale Migranten', '{                    \\\\vars\\\\\": {                        \\\\\"counterId\\\\\": \\\\\"27090206\\\\\"                    }                }                                    {                            \\\\\"requests\\\\\": {                                \\\\\"pageview\\\\\": \\\\\"http://web.archive.org/web/20181123020955/https://counter.yadro.ru/hit;RS_Total/Sputniki_Total/Sputniknews?u${ampdocUrl};r${documentReferrer};s${screenWidth}*${screenHeight}*32;h${title};${random}\\\\\"                            },                            \\\\\"triggers\\\\\": {                                \\\\\"track pageview\\\\\": {                                    \\\\\"on\\\\\": \\\\\"visible\\\\\",                                    \\\\\"request\\\\\": \\\\\"pageview\\\\\"                                }                            }                        }                    Alle NachrichtenPolitik                        ©                    REUTERS/ Jose CabezasTrump beschränkt drastisch Asylgewährung für illegale Migranten15:43 09.11.2018(aktualisiert  17:36 09.11.2018) Zum KurzlinkUS-Präsident Donald Trump hat die Asylgewährung für illegale Migranten drastisch eingeschränkt. Das teilte der Staatschef vor der Presse mit.Wie Trump vor Journalisten sagte, hat er „gerade“ ein entsprechendes Dekret unterzeichnet. Demnach sollen nur noch Menschen Asyl beantragen können, die an einem offiziellen Grenzübergang in\\xa0die USA einreisen. Illegal Eingereiste würden kein Asyl beantragen dürfen.>>> Weitere Sputnik-Artikel: Trump erklärt, warum USA Migranten brauchen                        ©                    REUTERS/ Leah MillisTrump droht mit Schließung der Grenze zu MexikoDie Verweigerung des Rechts auf einen Asylantrag für illegale Migranten sei zeitweilig und betreffe die Ausländer, die die südliche US-Grenze zu Mexiko gesetzwidrig überschreiten würden, geht aus Trumps Proklamation hervor.„Ich treffe befristete Maßnahmen zum Einreisestopp für Ausländer, um das Problem der großen Anzahl von Migranten zu lösen, die über Mexiko kommen, um in\\xa0unser Land ohne richtige Dokumente einzureisen“.>>> Weitere Sputnik-Artikel: Bundestag beschließt Verschärfung des Asylgesetzes                        ©                    AFP 2018/ GERARD JULIENMauer reloaded: EU-Staaten errichten sechs neue „Berliner Mauern“Ein Einwanderer könne dennoch Asyl beantragen, wenn er sich an die US-Grenzbehörden wende, statt zu versuchen, in\\xa0die USA illegal zu gelangen.Laut Trump haben die ankommenden Migranten in\\xa0der Regel keine legalen Gründe, Asyl zu beantragen. Die Ankunft von einer großen Anzahl von Ausländern werde das US-Immigrationssystem überlasten und zur „Freilassung\\\\\" von Tausenden Ausländern innerhalb der USA“ führen.Zuvor hatte das US-Verteidigungsministerium seine Bereitschaft erklärt, bis zu 7000 Militärangehörige an der Grenze zwischen den USA und Mexiko zu stationieren. Trump verkündete, bis zu 15.000 Soldaten an die Grenze zu schicken, wo sich bereits 2100 Mitglieder der Nationalgarde der Vereinigten Staaten befinden.>>> Weitere Sputnik-Artikel: „Kein Menschenrecht auf Migration“: Österreich verlässt UN-Migrationspakt                        ©                    REUTERS/ Carlos Garcia RawlinsMigranten vs. US-Armee: Wer sind die Drahtzieher der Flüchtlingskarawane?Die Maßnahmen werden getroffen, weil eine Karawane mit Tausenden Menschen aus zentralamerikanischen Ländern sich den USA über das Territorium von Mexiko nähert. Weitere zwei Migrantengruppen bewegen sich aus Salvador in\\xa0Richtung USA.Nach Informationen der Nachrichtenagentur France-Presse bezeichnete die Bürgerrechtsorganisation American Civil Liberties Union die Pläne für eine Verschärfung des Asylrechts am Donnerstag als „illegal“. Das US-Recht erlaube Menschen einen Asylantrag unabhängig davon zu stellen, ob sie sich an einem Grenzübergang befinden oder nicht. Dies könne nicht durch ein Dekret „umgangen“ werden.Diskussion\"', 'OVER-THRESHOLD', 'einwanderer migranten asyl', '998', '0.548636683559343']\n",
            "['http://de.sputniknews.compolitik/20160306308285650-oesterreich-draengt-auf-deutsches-fluechtlingskontingent', 'http://web.archive.org/web/20181126055753/https://de.sputniknews.com/amp/politik/20160306308285650-oesterreich-draengt-auf-deutsches-fluechtlingskontingent/', '20160306', 'Österreich drängt auf deutsches Flüchtlingskontingent', '{                    \\\\vars\\\\\": {                        \\\\\"counterId\\\\\": \\\\\"27090206\\\\\"                    }                }                                    {                            \\\\\"requests\\\\\": {                                \\\\\"pageview\\\\\": \\\\\"http://web.archive.org/web/20181126055753/https://counter.yadro.ru/hit;RS_Total/Sputniki_Total/Sputniknews?u${ampdocUrl};r${documentReferrer};s${screenWidth}*${screenHeight}*32;h${title};${random}\\\\\"                            },                            \\\\\"triggers\\\\\": {                                \\\\\"track pageview\\\\\": {                                    \\\\\"on\\\\\": \\\\\"visible\\\\\",                                    \\\\\"request\\\\\": \\\\\"pageview\\\\\"                                }                            }                        }                    Alle NachrichtenPolitik                        ©                    AP Photo/ Boris Grdanoski Österreich drängt auf deutsches Flüchtlingskontingent09:56 06.03.2016(aktualisiert  09:57 06.03.2016) Zum KurzlinkDer österreichische Bundeskanzler Werner Faymann hat von Deutschland gefordert, eine Flüchtlingsquote von 400.000 Personen im Jahr einzuführen. Wenn alle EU-Länder dem Beispiel Österreichs folgen würden, könnte die EU, so Faymann, zwei Millionen Flüchtlinge aufnehmen.Im Jahr 2015 hatten etwa 90.000 Menschen in Österreich Asyl beantragt. 2016 will die Regierung die Zahl der positiv beschiedenen Asylanträge auf 37.500 beschränken.                        ©                    AFP 2018/ JOHN MACDOUGALLBundeskanzler Faymann: Merkel sollte Tageskontingente für Flüchtlinge einführen„Deutschland muss endlich Klarheit schaffen, sonst werden weiterhin Flüchtlinge Richtung Deutschland losziehen … Nimmt man den österreichischen Richtwert her, könnte Deutschland rund 400.000 Flüchtlinge als Kontingent nennen“, sagte Faymann im Gespräch mit der Zeitung Kurier.Im Jahr 2015 sind nach Angaben der Agentur Frontex rund 1,8 Million Migranten nach Europa gekommen. Experten zufolge handelt es sich um die größte Flüchtlingskrise seit dem Zweiten Weltkrieg.Diskussion\"', 'OVER-THRESHOLD', 'asyl flüchtlinge migranten asylanträge flüchtlingskrise', '699', '0.547926894577753']\n",
            "['http://de.sputniknews.compolitik/20151016304983995-warschau-gegen-merkels-fluechtlingsquote', 'http://web.archive.org/web/20181123212339/https://de.sputniknews.com/amp/politik/20151016304983995-warschau-gegen-merkels-fluechtlingsquote/', '20151016', 'Migrationskrise: Warschau wehrt sich gegen Merkels Flüchtlingsquote', '{                    \\\\vars\\\\\": {                        \\\\\"counterId\\\\\": \\\\\"27090206\\\\\"                    }                }                                    {                            \\\\\"requests\\\\\": {                                \\\\\"pageview\\\\\": \\\\\"http://web.archive.org/web/20181123212339/https://counter.yadro.ru/hit;RS_Total/Sputniki_Total/Sputniknews?u${ampdocUrl};r${documentReferrer};s${screenWidth}*${screenHeight}*32;h${title};${random}\\\\\"                            },                            \\\\\"triggers\\\\\": {                                \\\\\"track pageview\\\\\": {                                    \\\\\"on\\\\\": \\\\\"visible\\\\\",                                    \\\\\"request\\\\\": \\\\\"pageview\\\\\"                                }                            }                        }                    Alle NachrichtenPolitik                        ©                    REUTERS/ Fabrizio Bensch/FilesMigrationskrise: Warschau wehrt sich gegen Merkels Flüchtlingsquote15:10 16.10.2015Zum KurzlinkPolen tritt scharf gegen die von Angela Merkel vorgeschlagene, permanente und verpflichtende Verteilungsquote von Flüchtlingen unter EU-Ländern auf und wird dabei nicht nachgeben, wie Polens Außenminister Grzegorz Schetyna gegenüber dem Radiosender RMF FM erklärte.                        ©                    AFP 2018/ Frederick FlorinFlüchtlingskrise: Merkel und Hollande werben gemeinsam für Solidarität in EU“Wir werden nicht nachgeben. Wir bilden eine entscheidende Mehrheit in\\xa0der EU”, unterstrich Schetyna.Dem Außenminister zufolge sei die Flüchtlingssituation ein Problem der deutschen Innenpolitik, „deswegen werden stets Versuche unternommen, ein besseres Bild und Image zu schaffen“. „Dies beeinflusst jedoch keinesfalls europäische Entscheidungen“, so Schetyna weiter.„Wenn Europa sagt, dass wir sie (Flüchtlinge – d. Red.) weiterhin unter uns aufteilen und uns Quoten neuer Migrationsströme aufzwingen werden, wird es eine Katastrophe geben. Wir werden dem nicht zustimmen“, erklärte Polens Minister.                        ©                    REUTERS/ Kai PfaffenbachFlüchtlingskrise: Osteuropäer lehnen sich gegen EU-Kurs aufSchetyna ist der Ansicht, dass Europa in\\xa0erster Linie „eine Entscheidung über den Schutz von Außengrenzen sowie über Verteilungszentren, die politische Migranten aus dem Nahen Osten registrieren müssen, treffen, nicht aber einen automatischen Verteilungsmechanismus einführen soll“. Letzteren bezeichnete der Minister als Unsinn.Allein bis zum September sind laut der EU-Grenzschutzagentur „Frontex“ rund 630.000 Flüchtlinge in\\xa0die EU gekommen. Die EU-Kommission spricht von der schlimmsten Migrationskrise seit dem Zweiten Weltkrieg.Diskussion\"', 'OVER-THRESHOLD', 'flüchtlingen migrationskrise migranten flüchtlinge', '805', '0.544957398675781']\n",
            "['http://de.sputniknews.comkarikatur/20151020305076281', 'http://web.archive.org/web/20181201153825/https://de.sputniknews.com/amp/karikatur/20151020305076281/', '20151020', 'Flüchtlingskrise: Ist Abriegeln eine Lösung?', '{                    \\\\vars\\\\\": {                        \\\\\"counterId\\\\\": \\\\\"27090206\\\\\"                    }                }                                    {                            \\\\\"requests\\\\\": {                                \\\\\"pageview\\\\\": \\\\\"http://web.archive.org/web/20181201153825/https://counter.yadro.ru/hit;RS_Total/Sputniki_Total/Sputniknews?u${ampdocUrl};r${documentReferrer};s${screenWidth}*${screenHeight}*32;h${title};${random}\\\\\"                            },                            \\\\\"triggers\\\\\": {                                \\\\\"track pageview\\\\\": {                                    \\\\\"on\\\\\": \\\\\"visible\\\\\",                                    \\\\\"request\\\\\": \\\\\"pageview\\\\\"                                }                            }                        }                    Alle NachrichtenKarikaturFlüchtlingskrise: Ist Abriegeln eine Lösung?18:18 20.10.2015Zum KurzlinkThemen: Migrationsproblem in EuropaCSU-Politiker Markus Söder hat kürzlich ins Gespräch gebracht, die deutsche Grenze mit Zäunen abzusichern. Wird Bundeskanzlerin Angela Merkel zum Schließen der Grenzen gezwungen sein? Hält eine strengere Asylpolitik Flüchtlinge auf? Lassen sich Menschen, die vor Fassbomben fliehen, von ein paar Zäunen stoppen? Fragen, Fragen, Fragen...Diskussion\"', 'OVER-THRESHOLD', 'migrationsproblem asylpolitik flüchtlinge', '522', '0.544157704714578']\n",
            "['http://de.sputniknews.com/german.ruvr.ru/news/2014_01_06/Gro-britannien-will-EU-Freizugigkeit-verhindern-2651', 'http://web.archive.org/web/20150726055154/http://de.sputniknews.com/german.ruvr.ru/news/2014_01_06/Gro-britannien-will-EU-Freizugigkeit-verhindern-2651/', '20140106', 'Großbritannien will EU-Freizügigkeit verhindern', 'Foto: EPA STIMME RUSSLANDS Die Regierung Großbritanniens habe vor, eine Revision der EU-Mitgliedschaftsbedingungen von der EU zu erlangen und die Sperrmaßnahmen gegenüber EU-Migranten zu verteidigen, sagte der britische Regierungschef David Cameron. Cameron zufolge wolle er die allgemeinen Grundsätze der EU nicht in Zweifel ziehen, halte allerdings das Recht der Migranten auf hohes Arbeitslosengeld und kostenlose Medizin in Großbritannien für unfair. Ab dem 1. Januar gilt für Rumänien und Bulgarien eine uneingeschränkte Freizügigkeit. Einschätzungen zufolge muss Großbritannien mit mindestens 300.000 Einwanderern rechnen.', 'OVER-THRESHOLD', 'migranten', '83', '0.544009923707647']\n",
            "['http://de.sputniknews.compolitik/20180813321937555-syrien-deutschland-fluechtlinge-rueckkehr-sanktionen', 'http://web.archive.org/web/20180813172522/https://de.sputniknews.com/amp/politik/20180813321937555-syrien-deutschland-fluechtlinge-rueckkehr-sanktionen/', '20180813', 'Rückkehr von Flüchtlingen: Syrischer Minister appelliert an Deutschland', 'Der syrische Minister für lokale Verwaltung und Umwelt Hussein Makhlouf hat über Journalisten Deutschland zur Aufhebung der Sanktionen gegen Damaskus aufgerufen. Dies soll laut dem Politiker die Rückkehr der syrischen Flüchtlinge in ihre Heimat fördern. „Ich möchte mich über Sie an die deutsche Regierung wenden und bitten, die einseitigen Sanktionen gegen Syrien aufzuheben“, sagte Makhlouf sich an einen deutschen Journalisten wendend auf einer Pressekonferenz. Mehr zum Thema >>> UN-Flüchtlingskommissar tritt gegen Rückkehr von Flüchtlingen nach Syrien auf  Makhlouf, der auch Chef des syrischen Koordinierungsausschusses für Rückkehr der Flüchtlinge ist, betonte, im Fall einer Aufhebung der Sanktionen werde die Rückkehr der Flüchtlinge beschleunigt. Dies würde den Wideraufbau des Landes fördern. Mehr zum Thema >>> Russland forciert Rückkehr von Syrien-Flüchtlingen Zuvor hatte das russische Zentrum für Aufnahme, Verteilung und Unterbringung beim russischen Verteidigungsministerium mitgeteilt, mehr als 1,7 Millionen Syrer hätten den Wunsch geäußert, aus neun Gastländern in\\xa0ihre Heimat zurückzukehren. Die meisten Heimkehrwilligen halten sich jetzt im Libanon, in\\xa0der Türkei und in\\xa0Deutschland auf.', 'OVER-THRESHOLD', 'flüchtlingen flüchtlinge', '163', '0.543706912424414']\n",
            "['http://de.sputniknews.compolitik/20170219314606917-usa-verschaerfen-asyl-recht', 'http://web.archive.org/web/20170324060955/https://de.sputniknews.com/amp/politik/20170219314606917-usa-verschaerfen-asyl-recht/', '20170219', 'USA verschärfen Asyl-Recht', 'Nach dem US-Gesetz „Immigration and Nationality Act“ muss ein Asylbewerber seine „begründete Angst“ vor Verfolgung aufgrund seiner Rasse, Religion, Nationalität, Mitgliedschaft in\\xa0einer bestimmten sozialen Gruppe oder politischer Meinung nachweisen. Der Kampf gegen illegale Migration war eines der Hauptthemen der Wahlkampagne des US-Präsidenten Donald Trump. Das von Trump Ende Januar unterzeichnete Terrorschutzgesetz, welches Bürgern aus sieben vorwiegend muslimischen Ländern die Einreise in\\xa0die USA zeitweilig verwehrt, löste landesweit\\xa0 und international heftige Kritik bis hin zu Massenprotesten aus. \\xa0', 'OVER-THRESHOLD', 'migration asylbewerber', '79', '0.543062751396791']\n",
            "['http://de.sputniknews.companorama/20151228306826925-daenemark-tritt-fuer-veraenderung-der-fluechtlingskonvention', 'http://web.archive.org/web/20181123231931/https://de.sputniknews.com/amp/panorama/20151228306826925-daenemark-tritt-fuer-veraenderung-der-fluechtlingskonvention/', '20151228', 'Dänemark will die Flüchtlingskonvention ändern', '{                    \\\\vars\\\\\": {                        \\\\\"counterId\\\\\": \\\\\"27090206\\\\\"                    }                }                                    {                            \\\\\"requests\\\\\": {                                \\\\\"pageview\\\\\": \\\\\"http://web.archive.org/web/20181123231931/https://counter.yadro.ru/hit;RS_Total/Sputniki_Total/Sputniknews?u${ampdocUrl};r${documentReferrer};s${screenWidth}*${screenHeight}*32;h${title};${random}\\\\\"                            },                            \\\\\"triggers\\\\\": {                                \\\\\"track pageview\\\\\": {                                    \\\\\"on\\\\\": \\\\\"visible\\\\\",                                    \\\\\"request\\\\\": \\\\\"pageview\\\\\"                                }                            }                        }                    Alle NachrichtenPanorama                        ©                    AP Photo/ Joachim LadefogdeDänemark will die Flüchtlingskonvention ändern14:44 28.12.2015(aktualisiert  16:32 28.12.2015) Zum KurzlinkDie Flüchtlingskrise hat Dänemark und Europa vor solche Herausforderungen gestellt, dass nun die UN-Flüchtlingskonvention von 1951 verändert werden muss, wie der dänische Regierungschef Lars Lökke Rasmussen dem Sender TV2 sagte.Wenn die Flüchtlingszahlen weiter ansteigen würden wie bisher, werde der Moment kommen, \\\\\"in dem wir über eine Anpassung der Spielregeln sprechen müssen\\\\\", sagte Rasmussen. Die Flüchtlingskonvention in\\xa0ihrer jetzigen Form entspreche nicht der heutigen globalisierten Welt.Die Konvention definiert den Begriff „Flüchtling“ und die Grundlagen, die für einen Asylantrag erforderlich sind. Einige Rechte, die Flüchtlinge genießen, gleichen denen der Bürger des Aufnahmestaates, andere – denen der Ausländer.                        ©                    REUTERS/ Michaela RehleDänemark besteht auf Konfiskationen: Flüchtlinge sollen Aufenthalt selber bezahlenAls die UN-Flüchtlingskonvention 1951 angenommen wurde, war Dänemark das erste Land, das sie unterzeichnet hat. Nun sei der Ministerpräsident der Auffassung, die von der Konvention auferlegten Verpflichtungen seien eine untragbare Bürde für Dänemark, schreibt die schwedische Zeitung Svenska Dagbladet.Eines der Probleme besteht laut Rasmussen darin, dass verschiedene Gruppen der Flüchtlinge verschiedene Regeln einhalten müssen. So gelten die verschärften Bedingungen für einen Familiennachzug nicht für alle. Die Fristen hängen davon ab, unter welchen Bedingungen das Asyl gewährt wurde.Die von Dänemark getroffenen Maßnahmen für die Reduzierung des Flüchtlingszustroms wirkten „inspirierend“ auf andere Staaten, so der dänische Ministerpräsident. Allerdings dürfe das Asylrecht als solches nicht abgeschafft werden. Dänemark habe nicht vor, alleine die Konvention außer Kraft zu setzen, Dänemark wolle gemeinsam mit anderen Staaten das System von innen verändern, erklärte Rasmussen. Eine der Forderungen könne sein, dass Flüchtlinge in\\xa0dem Land Asyl beantragen müssten, in\\xa0dem sie als erstes angekommen seien.                        ©                    AFP 2018/ Bulent KilicDänemark: Flüchtlinge mit mehr als 400 Euro werden zur Kasse gebetenMit Blick vor allem auf die syrischen Flüchtlinge fragte Ramussen: \\\\\"Wenn jemand, der Schutz vor Krieg sucht, zwei oder drei Jahre in\\xa0der Türkei gelebt hat, sollte er dann nach Europa gehen und dort Asyl beantragen?\\\\\" Die geltenden Regeln würden dies ermöglichen. \\\\\"Aber wir werden darüber eine Diskussion führen\\\\\", sagte er in\\xa0dem Fernsehinterview. In der Türkei leben nach Angaben Ankaras etwa zwei Millionen syrische Bürgerkriegsflüchtlinge.Das Wichtigste ist aus der Sicht des dänischen Politikers die Verständigung innerhalb Europas zu gewährleisten und eine einheitliche Sichtweise zu erarbeiten.„Dänemark kann nicht allein handeln, die anderen müssen auch teilnehmen. Ich kann doch ohne Zustimmung der anderen EU-Staaten das Ausweisungssystem nicht beschließen“, sagte Rasmussen.Diskussion\"', 'OVER-THRESHOLD', 'flüchtlingskrise asyl flüchtlinge', '981', '0.541940112273363']\n",
            "['http://de.sputniknews.compolitik/20160614310604740-maas-polygamie-verbot', 'http://web.archive.org/web/20171008021814/https://de.sputniknews.com/amp/politik/20160614310604740-maas-polygamie-verbot/', '20160614', 'Glaube darf nicht über Gesetz stehen: Bundesjustizminister will Polygamie verbieten', 'Bundesjustizminister Heiko Maas will Mehrfach-Ehen unter muslimischen Migranten in Deutschland grundsätzlich die Anerkennung verweigern. Auch eine Gesetzesverschärfung gegen Zwangsehen mit minderjährigen Kindern sei notwendig.  Der Bundesjustizminister will der Anerkennung dieser Praxis in\\xa0Deutschland nun ein Ende bereiten. „Jeder muss sich an Recht und Gesetz halten, egal ob er hier aufgewachsen oder neu bei uns ist“, so Maas gegenüber der „Bild“-Zeitung. „Niemand, der zu uns kommt, hat das Recht, seine kulturelle Verwurzelung oder seinen religiösen Glauben über unsere Gesetze zu stellen“, sagte Maas zu „Bild“. „Deshalb dürfen in\\xa0Deutschland keine Mehrfach-Ehen anerkannt werden.\\\\ Auch Zwangsehen mit minderjährigen Migranten müssen Maas zufolge in\\xa0Deutschland komplett verboten werden. Dazu sei eine Gesetzesverschärfung notwendig, um Kinder zu schützen. „Wir müssen das sehr sorgfältig prüfen. Zwangsehen dürfen wir nicht dulden, erst recht nicht, wenn minderjährige Mädchen betroffen sind“, so Maas.\"', 'OVER-THRESHOLD', 'migranten', '135', '0.539771426513455']\n",
            "['http://de.sputniknews.comgesellschaft/20181210323239903-menschenrechte-flucht-migration-pakt', 'http://web.archive.org/web/20181210233556/https://de.sputniknews.com/amp/gesellschaft/20181210323239903-menschenrechte-flucht-migration-pakt/', '20181210', 'Gibt es ein Menschenrecht auf Migration?', '{                    \\\\vars\\\\\": {                        \\\\\"counterId\\\\\": \\\\\"27090206\\\\\"                    }                }                                    {                            \\\\\"requests\\\\\": {                                \\\\\"pageview\\\\\": \\\\\"http://web.archive.org/web/20181210233556/https://counter.yadro.ru/hit;RS_Total/Sputniki_Total/Sputniknews?u${ampdocUrl};r${documentReferrer};s${screenWidth}*${screenHeight}*32;h${title};${random}\\\\\"                            },                            \\\\\"triggers\\\\\": {                                \\\\\"track pageview\\\\\": {                                    \\\\\"on\\\\\": \\\\\"visible\\\\\",                                    \\\\\"request\\\\\": \\\\\"pageview\\\\\"                                }                            }                        }                    Alle NachrichtenGesellschaft                        ©                    AP Photo/ Marko DrobnjakovicGibt es ein Menschenrecht auf Migration?20:01 10.12.2018Zum KurzlinkPaul LinkeMigration sei kein Menschenrecht, erklärte FPÖ-Chef Heinz-Christian Strache. Damit begründete er unter anderem den Rückzug Österreichs aus dem globalen Migrationspakt der Vereinten Nationen, der nun verabschiedet wurde. Hatte der österreichische Vizekanzler auch wirklich Recht? Zum 70. Jahrestag der UN-Menschenrechte klärt Sputnik auf.Am Montag feiert die Welt ein wichtiges Jubiläum. Die Menschenrechte werden 70 Jahre alt. Am 10. Dezember 1948 einigten sich die Mitglieder der Vereinten Nationen auf die „Allgemeine Erklärung der Menschenrechte“ (AEMR). Heute beziehen sich die meisten demokratischen Staaten auf dieses Dokument.Auch ein anderes Abkommen erblickte am Montag das Licht der Welt. Der sogenannte „Globale Pakt für eine sichere, geordnete und reguläre Migration“. Genau wie bei der Menschenrechtserklärung handelt es sich auch beim UN-Migrationspakt um eine\\xa0 „unverbindliche Vereinbarung“ der Vereinten Nationen. In Marrakesch haben am Montag 164 Staaten den umstrittenen Migrationspakt, an dem 192 Staaten beteiligt waren, offiziell verabschiedet. Die USA nahmen an den Verhandlungen gar nicht erst teil. Mehrere Regierungen lehnten das Papier in\\xa0den letzten Wochen ab. Darunter befinden sich Ungarn, Polen, Tschechien, Bulgarien, Australien, die Slowakei, Israel und Österreich.>>>Andere Sputnik-Artikel: Uno nimmt umstrittenen Migrationspakt an<<<FPÖ-Vize: „Migration ist kein Menschenrecht“Die österreichische Begründung für den Rückzug lautete unter anderem: „Migration ist und darf auch kein Menschenrecht werden“, sagte Vizekanzler Heinz-Christian Strache (FPÖ).                        ©                    AP Photo/ Olmo Calvo„Ein zynisches Spiel“ – Warum der Migrationspakt keine Lösung istDer Aussage stimmt auch Geschäftsmann und ÖVP-Mitglied, Freiherr Norbert van Handel, zu. Migration sei „natürlich“ kein Menschenrecht. „Wir haben eine ganz genaue Definition von Menschenrechten. Freie Meinung, Zugang zum ordentlichen Gericht.“ Auch Reisefreiheit sei zwar ein Menschenrecht, aber eine Reisefreiheit mit dem Ziel, sich in\\xa0einem Land auf Dauer niederzulassen, sei definitiv kein Menschenrecht, erklärte van Handel gegenüber Sputnik.Ob das auch so stimmt, wollte die Sputnik-Redaktion überprüfen. Als Migration versteht man zunächst allgemein eine „Abwanderung in\\xa0ein anderes Land, in\\xa0eine andere Gegend, an einen anderen Ort“, so die „Bedeutungsübersicht“ des Dudens. Damit stellt per Definition auch eine Flucht aus dem eigenen Land aus jedweden Gründen zunächst eine Migration dar.Asyl als MenschenrechtDie Allgemeine Erklärung der Menschenrechte besteht aus 30 Artikeln. Zwei davon beschäftigen sich direkt mit dem Begriff Migration. So der Artikel 13, der auf die Auswanderungsfreiheit eingeht. Dort heißt es dazu: „Jeder hat das Recht, jedes Land, einschließlich seines eigenen, zu verlassen und in\\xa0sein Land zurückzukehren.“Im Artikel 14, der das Menschenrecht auf Asyl beschreibt, heißt es: „Jeder hat das Recht, in\\xa0anderen Ländern vor Verfolgung Asyl zu suchen und zu genießen.“ Im Falle einer Strafverfolgung, „die tatsächlich auf Grund von Verbrechen nichtpolitischer Art oder auf Grund von Handlungen erfolgt, die gegen die Ziele und Grundsätze der Vereinten Nationen verstoßen“, könne jedoch dieses Recht nicht in\\xa0Anspruch genommen werden.So werde Migration zu einem Menschenrecht, spätestens wenn Menschenleben durch äußere Faktoren wie Krieg und andere Katastrophen in\\xa0Gefahr seien, bestätigt der Politikwissenschaftler von der Universität Wien, Prof. Dr. Otmar Höll, im Sputnik-Interview. „Wir haben die Genfer Flüchtlingskonvention, wir haben den Menschenrechtspakt, die in\\xa0diese Richtung weisen. Und tatsächlich sind sie völlig außer Streit zu stellen“, findet Höll.\\xa0 Er bemerkt zudem, dass Österreich seit einigen Monaten im UN-Menschenrechtsbeirat sitzt. Daher würden Straches Äußerungen und der Rückzug aus dem UN-Migrationspakt einen „Bruch mit der guten österreichischen Tradition“ bedeuten.Jedoch bezweifelt der Politologe, dass Migration zu einem Menschenrecht im völkerrechtlichen Sinn in\\xa0naher Zukunft werde könne. „Aber die Migration als solche wird man mit einer derartigen Ablehnung nicht anhalten können“, warnt Professor Höll.>>>Andere Sputnik-Artikel: Nachzug von Flüchtlingen in\\xa0Deutschland: Zahl der Visa weit unter Obergrenze<<<Flucht gleich Migration?Flüchtlinge würden nicht zu Migration gehören, behauptet gegenüber Sputnik der UNHCR-Pressereferent Martin Rentsch: „Per Definition fliehen sie vor Krieg, Folter und Menschenrechtsverletzungen. Das unterscheidet sie von Migranten.“                        ©                    AP Photo/ Emrah GurelAlleine alle Flüchtlinge in EU aufnehmen? – Berlin und Paris haben AngstDer Migrationsforscher von der Technischen Universität Dresden, Dr. Oliviero Angeli,\\xa0 definiert Flucht als „eine Form der Migration, aber nicht die einzige Form von Migration“. Es könne auch darüber diskutiert werden, wer unter dem Begriff Flüchtlinge allgemein verstanden werden kann, bemerkt Angeli. Die deutsche Regierung poche dabei sehr stark auf die Definition der Genfer Flüchtlingskonvention. Danach gilt als Flüchtling eine Person, die „aus der begründeten Furcht vor Verfolgung wegen ihrer Rasse, Religion, Nationalität, Zugehörigkeit zu einer bestimmten sozialen Gruppe oder wegen ihrer politischen Überzeugung sich außerhalb des Landes befindet, dessen Staatsangehörigkeit sie besitzt“.„Kein Recht, in\\xa0andere Länder einzuwandern“Die Frage nach der menschenrechtlichen Basis der Migration\\xa0 ist für Angeli „auf legaler Ebene relativ klar“: „Wir haben Rechte, uns innerhalb der Staaten frei zu bewegen oder aus den Staaten auszuwandern. Aber wir haben bis dato kein Recht, in\\xa0andere Länder einzuwandern. Aus moralischer Sicht kann man für dieses Recht eintreten, aber politisch ist es mittel- bis langfristig schwer umsetzbar“, erklärt der Migrationsforscher. Dass die UN-Menschenrechte bis heute keine rechtlich verbindliche Basis besitzen, schwäche die Position derjenigen, die sich für ein Recht auf Bewegungsfreiheit oder für ein Recht auf Einwanderung stark machen, betont Angeli. Dieses Recht müsse man erst in\\xa0der Menschenrechtskonvention stärker etablieren. „Doch dafür ist der politische Wille momentan nicht vorhanden“, so der Politikwissenschaftler Dr. Oliviero Angeli.Der „Globale Pakt für Migration“ wurde am Montag beim UN-Gipfeltreffen in\\xa0Marokko unterzeichnet. Das 34 Seiten umfassende Dokument soll dazu beitragen, Flucht und Migration besser zu organisieren.Das komplette Interview mit Dr. Oliviero Angeli zum Nachhören:Das komplette Interview mit Prof. Dr. Otmar Höll zum Nachhören:Diskussion\"', 'OVER-THRESHOLD', 'flüchtlingen asyl einwanderung flucht flüchtlinge flüchtling migration', '1461', '0.537197634217539']\n",
            "['http://de.sputniknews.compolitik/20151102305349847', 'http://web.archive.org/web/20181201040148/https://de.sputniknews.com/amp/politik/20151102305349847/', '20151102', 'Kabul nimmt abgelehnte Asylbewerber aus Deutschland auf', '{                    \\\\vars\\\\\": {                        \\\\\"counterId\\\\\": \\\\\"27090206\\\\\"                    }                }                                    {                            \\\\\"requests\\\\\": {                                \\\\\"pageview\\\\\": \\\\\"http://web.archive.org/web/20181201040148/https://counter.yadro.ru/hit;RS_Total/Sputniki_Total/Sputniknews?u${ampdocUrl};r${documentReferrer};s${screenWidth}*${screenHeight}*32;h${title};${random}\\\\\"                            },                            \\\\\"triggers\\\\\": {                                \\\\\"track pageview\\\\\": {                                    \\\\\"on\\\\\": \\\\\"visible\\\\\",                                    \\\\\"request\\\\\": \\\\\"pageview\\\\\"                                }                            }                        }                    Alle NachrichtenPolitik                        ©                    AP Photo/ Muhammed MuheisenKabul nimmt abgelehnte Asylbewerber aus Deutschland auf12:37 02.11.2015(aktualisiert  12:42 02.11.2015) Zum KurzlinkThemen: Migrationsproblem in EuropaDie afghanische Regierung hat erklärt, dass sie abgelehnte Asylbewerber aus Deutschland zurücknimmt, meldet Associated Press.Die Ankündigung der Bundesregierung, abgelehnte Asylbewerber aus Afghanistan künftig deutlich häufiger als bisher in\\xa0ihre Heimat abzuschieben, ist von der Regierung in\\xa0Kabul mit Erstaunen und Ablehnung kommentiert worden.                        ©                    AFP 2018/ Robert MichaelAufnahme der Flüchtlinge: „Trotz Finanzstärke – Probleme mentaler Art“ – SoziologeLaut dem afghanischen Minister für Flüchtlingsangelegenheiten, Sayed Hussain Alimi Balkhi weiß seine Regierung von einer solchen Entscheidung nichts. Er habe kürzlich erst einer deutschen Regierungsdelegation in\\xa0Genf gesagt, dass sich die Sicherheitslage in\\xa0Afghanistan verschlechtert habe.„Ich habe sie deshalb ausdrücklich darum gebeten, keine afghanischen Asylbewerber abzuschieben.“ Diese Bitte habe er auch im Gespräch mit dem deutschen Botschafter in\\xa0Afghanistan geäußert.                        ©                    REUTERS/ Kai PfaffenbachDeutschland: Über eine halbe Million Flüchtlinge bereits da - ZeitungDer Präsidentensprecher Safar Haschemi sagte, dass Afghanistan die Asylbewerber zuhause aufnehmen solle. Er fügte hinzu, dass Bundeskanzlerin Angela Merkel und der afghanische Präsident Ashraf Ghani diese Frage vor kurzem besprochen haben.Bis zu einer Million Flüchtlinge könnten in\\xa0diesem Jahr nach Deutschland kommen, wurde schon früher gemeldet. Nach den Angaben des afghanischen Ministeriums für Flüchtlinge und Repatriierung haben in\\xa0diesem Jahr 120.000 Menschen das Land verlassen.Diskussion\"', 'OVER-THRESHOLD', 'migrationsproblem asylbewerber flüchtlinge', '801', '0.536986114185067']\n",
            "['http://de.sputniknews.companorama/20170307314801061-EuGH-visa-urteil', 'http://web.archive.org/web/20170307115432/https://de.sputniknews.com/amp/panorama/20170307314801061-EuGH-visa-urteil/', '20170307', 'EuGH-Urteil: Keine \\\\humanitären Visa\\\\\" in EU-Auslandsbotschaften\"', 'Die Behörde argumentierte, dass sich die Familie länger als die mit einem Visum bewilligten 90 Tage in\\xa0Belgien aufhalten wollte\\xa0— schließlich wollten die Syrer dort Asylanträge stellen. Zudem seien EU-Staaten nicht verpflichtet, alle Menschen aufzunehmen, die eine katastrophale Situation durchlebten, hieß es. Der zuständige EuGH-Generalanwalt widersprach dieser Argumentation in\\xa0einem aufsehenerregenden Gutachten. Er schrieb, die Erteilung nationaler Visa werde von einer EU-Verordnung geregelt. Damit gelte auch die Grundrechtecharta der Union. Die wiederum schreibt das Recht auf Asyl fest und verbietet Folter und andere unmenschliche und entwürdigende Behandlung\\xa0— reale Gefahren für die syrische Familie, unterstrich der Gutachter. Damit müsse ein EU-Staat in\\xa0solchen Fällen Visa zur Einreise vergeben und Schutzsuchenden die Möglichkeit geben, in\\xa0Europa Asyl zu verlangen.', 'OVER-THRESHOLD', 'asylanträge asyl', '116', '0.536181733211913']\n",
            "['http://de.sputniknews.compolitik/20170207314424623-kalifornien-trump-krieg', 'http://web.archive.org/web/20170209143833/https://de.sputniknews.com/amp/politik/20170207314424623-kalifornien-trump-krieg/', '20170207', 'Kalifornien und Trump erklären einander den Krieg – WP', '„Das ist lächerlich“, so Trump über Kaliforniens Initiative, ein Asyl-Staat zu werden. „Wie Sie wissen, bin ich absolut gegen diese Asyl-Städte. Sie bringen Kriminalität und es gibt viele Probleme.“ Kalifornien sei in\\xa0vieler Hinsicht „außer Kontrolle geraten“, ist der US-Staatschef überzeugt. „Offenbar stimmen mir die Wähler zu, sonst hätten sie nicht für mich gestimmt.“  Wie WP unter Verweis auf die US-Bundespolizei FBI schreibt, ist die Kriminalität in\\xa0sogenannten „Asyl-Städten“ angeblich sogar niedriger als in\\xa0anderen Ortschaften. Was ist eine „Asyl-Stadt“? In den USA gibt es derzeit laut WP etwa 60 Städte mit speziellen Asyl-Gesetzen („Asyl-Städte“ bzw. „Sanctuary Cities“), darunter Los Angeles und New York. Die Gesetzeslage variiert von Stadt zu Stadt, doch im Allgemeinen beschützt sie illegale Einwanderer, die gewaltlose Verbrechen begangen haben, davor, von den Lokalregierungen an die Bundesbehörden übergeben zu werden. Das Verüben von Kavaliersdelikten durch Migranten führt demnach nicht zwingend zu bundesstaatlichem Gewahrsam. Stadtmitarbeiter und Strafverfolgungsbehörden einer sogenannten Asyl-Stadt dürfen zudem nicht nach dem Einwanderungsstatus eines Strafverdächtigen fragen. Gegner der Verordnung argumentieren, dass diese kriminelle Zuwanderer vor der Abschiebung bewahre.', 'OVER-THRESHOLD', 'migranten', '174', '0.536121189018493']\n",
            "['http://de.sputniknews.comgesellschaft/20180619321230321-menschenrechte-migranten-usa', 'http://web.archive.org/web/20181225062127/https://de.sputniknews.com/amp/gesellschaft/20180619321230321-menschenrechte-migranten-usa/', '20180619', 'Kinder von Eltern zu trennen ist skrupellos – UN-Menschenrechtskommissar rügt USA - VIDEO', '{                    \\\\vars\\\\\": {                        \\\\\"counterId\\\\\": \\\\\"27090206\\\\\"                    }                }                                    {                            \\\\\"requests\\\\\": {                                \\\\\"pageview\\\\\": \\\\\"http://web.archive.org/web/20181225062127/https://counter.yadro.ru/hit;RS_Total/Sputniki_Total/Sputniknews?u${ampdocUrl};r${documentReferrer};s${screenWidth}*${screenHeight}*32;h${title};${random}\\\\\"                            },                            \\\\\"triggers\\\\\": {                                \\\\\"track pageview\\\\\": {                                    \\\\\"on\\\\\": \\\\\"visible\\\\\",                                    \\\\\"request\\\\\": \\\\\"pageview\\\\\"                                }                            }                        }                    Alle NachrichtenGesellschaftKinder von Eltern zu trennen ist skrupellos – UN-Menschenrechtskommissar rügt USA - VIDEOВаш браузер не поддерживает данный формат видео                        ©                    Sputnik/ 14:53 19.06.2018(aktualisiert  18:57 19.06.2018) Zum KurzlinkDer Hochkommissar der Vereinten Nationen für Menschenrechte hat die USA für ihre Praxis gerügt, beim illegalen Grenzübertritt an der mexikanischen Grenze festgenommene Migranten von ihren Kindern zu trennen. Die Idee, Kinder für das Verhalten ihrer Eltern zu bestrafen und diese durch die Misshandlung der Kinder abzuschrecken, sei skrupellos.Der UN-Hochkommissar für Menschenrechte, Zeid Ra’ad Al Hussein, hat in\\xa0Genf die USA scharf angegriffen. Bezugnehmend auf die jüngst forcierte Praxis, an der mexikanisch-US-amerikanischen Grenze festgenommene illegale Einwanderer von ihren Kindern zu trennen, sprach Al Hussein von einer „grausamen Praxis“, die „irreparable Schäden mit lebenslangen Folgen“ nach sich ziehen könnte.\\xa0 Wörtlich sagte der Hochkommissar an die Adresse der US-Regierung: „Die Idee, dass ein Staat versucht, Eltern dadurch abzuschrecken, indem Kindern eine solche Misshandlung zugefügt wird, ist skrupellos.“>>Andere Sputnik-Artikel: Trump: „Menschen in\\xa0Deutschland wenden sich gegen ihre Regierung“Die im Video dokumentierte Passage der Erklärung von Zeid Ra’ad Al Hussein im Wortlaut:„In the United States, I am deeply concerned by\\xa0recently adopted policies which punish children for\\xa0that parent’s actions. In the past\\xa0six weeks, nearly 2,000 children have been forcibly separated from\\xa0their parents. The American Association of\\xa0Pediatrics [APP] has called this cruel practice \\'government-sanctioned child abuse\\' which may cause \\'irreparable harm\\' with \\'lifelong consequences\\'. The thought that any state would seek to\\xa0deter parents by\\xa0inflicting such abuse on\\xa0children is unconscionable. I call on\\xa0the United States to\\xa0immediately end the practice of\\xa0forcible separation of\\xa0these children, and I encourage the government to\\xa0at last ratify the [UN] Convention on\\xa0the Rights of\\xa0the Child, in\\xa0order to\\xa0ensure that the fundamental rights of\\xa0all children, whatever their administrative status, will be at\\xa0the centre of\\xa0all domestic laws and policies.”                        ©                    REUTERS/ Jorge Duenes„Migranten-Karawane“ trifft an Mexikos Grenze zu USA ein – VIDEO“Ich bin zutiefst besorgt über die aktuell in\\xa0den Vereinigten Staaten angewandte Praxis, Kinder für Handlungen ihrer Eltern zu bestrafen. In den vergangenen sechs Wochen wurden beinahe 2.000 Kinder gewaltsam von ihren Eltern getrennt. Die Amerikanische Vereinigung für Kinderheilkunde (APP) nennt diese grausame Praxis „staatlich sanktionierte Kindesmisshandlung, die irreparable Schäden mit lebenslangen Folgen hervorrufen könne“. Die Idee, dass ein Staat versucht, Eltern dadurch abzuschrecken, indem Kindern eine solche Misshandlung zugefügt wird, ist skrupellos. Ich rufe die Vereinigten Staaten auf, unverzüglich die Praxis der gewaltsamen Trennung dieser Kinder zu beenden, und ich ermutige die Regierung, endlich die UN-Konvention für die Rechte der Kinder zu ratifizieren, um sicherzustellen, dass die fundamentalen Rechte aller Kinder, gleich welchen administrativen Status, im Zentrum aller öffentlichen Gesetze und Politik stehen.“>>Andere Sputnik-Artikel: Trump will Migranten „von überall her“Diskussion\"', 'OVER-THRESHOLD', 'einwanderer migranten', '980', '0.533417092483392']\n",
            "['http://de.sputniknews.compolitik/20180914322316830-eu-ungarn-grenzen-kontrolle', 'http://web.archive.org/web/20180914185523/https://de.sputniknews.com/amp/politik/20180914322316830-eu-ungarn-grenzen-kontrolle/', '20180914', 'EU will Ungarn „Recht auf Kontrolle eigener Grenzen entziehen” – Orban', 'Das EU-Rechtsstaatsverfahren gegen Ungarn stellt nicht die „geringste Gefahr“ für das Land dar, wie Ungarns Ministerpräsident Viktor Orban in einem Interview mit dem Radiosender Kossuth erklärte. Am vergangenen Mittwoch hat das Europäische Parlament dem Antrag auf ein Strafverfahren gegen Ungarn wegen Verstößen gegen europäische Normen und Prinzipien der Rechtshoheit zugestimmt. Das Europaparlament behandelt erstmals ein Dokument, in\\xa0dem es um die Anwendung von Artikel 7 des EU-Vertrages gegen Ungarn geht. >>>Weitere Sputnik-Artikel: „Dafür würde ich aus dem Amt gejagt“ – Orban zu Merkels Flüchtlingspolitik  „Sie (die EU – Anm. d. Red.) haben einen Plan: Wenn sie Ungarn nicht zur Aufnahme von Flüchtlingen zwingen können, werden sie dem Land das Recht auf Kontrolle der eigenen Grenzen entziehen“, sagte Orban. In Brüssel werden die ungarischen Behörden vor allem für die Weigerung kritisiert, die Entscheidungen der Europäischen Union im Bereich Migrationspolitik zu erfüllen. Mitte Juli hatte die Europäische Kommission beim Europäischen Gerichtshof bereits eine Beschwerde gegen Ungarn eingereicht, da es die EU-Vorschriften zur Asylgewährung für Flüchtlinge nicht befolgt hatte. >>>Weitere Sputnik-Artikel: EU-Kommission reicht beim Europäischen Gerichtshof Klage gegen Ungarn ein', 'OVER-THRESHOLD', 'flüchtlingen flüchtlingspolitik flüchtlinge', '179', '0.532563413304608']\n",
            "['http://de.sputniknews.com/german.ruvr.ru/2013_11_06/Festung-Europa-von-Migranten-und-Fluchtlingen-3563', 'http://web.archive.org/web/20150722052852/http://de.sputniknews.com/german.ruvr.ru/2013_11_06/Festung-Europa-von-Migranten-und-Fluchtlingen-3563/', '20131106', 'Festung Europa - von Migranten und Flüchtlingen', 'Foto: Aziz Bozkurt STIMME RUSSLANDS Flüchtlinge im Hungerstreik vor dem Brandenburger Tor, Tote in Lampedusa, unerwünschte Asylanten in Hellersdorf und Schneeberg, von Abschiebung bedrohte Asylbewerber in Hamburg. Schottet Europa sich ab? Nimmt Deutschland genug Flüchtlinge auf? Auf diese und andere Fragen antwortet bei uns im Studio Aziz Bozkurt, Landesvorsitzender der AG Migration und Vielfalt in der SPD Berlin.', 'OVER-THRESHOLD', 'migration asylbewerber flüchtlinge', '61', '0.532312736405033']\n",
            "['http://de.sputniknews.companorama/20170715316608060-fluechtlinge-selbstanzeigen-terror', 'http://web.archive.org/web/20170715150527/https://de.sputniknews.com/amp/panorama/20170715316608060-fluechtlinge-selbstanzeigen-terror/', '20170715', 'Selbstanzeigen unter Flüchtlingen „wegen Terrors“ wuchern – aus bizarrem Grund', 'Mehr als 408.000 Asylanträge hat das Bundesamt für Migration und Flüchtlinge (BAMF) im ersten Halbjahr 2017 entschieden – rund 44 Prozent mehr als im gleichen Zeitraum des Vorjahres, berichtet die „Welt“. „Mit den Selbstanzeigen wegen Terrors in\\xa0laufenden Asylverfahren ist eine massive neue Belastung auf die Strafverfolgungsbehörden zugekommen“, so Stuttgarts Generalstaatsanwalt Achim Brauneisen.  Wie die „Welt“ schreibt, wollen viele Asylbewerber mit der Selbstbezichtigung einer Zwangsmitgliedschaft in\\xa0einer islamistischen Gruppierung der Abschiebung entgehen. Dabei würden sie auf den sogenannten subsidiären Schutz hoffen. Der subsidiäre Schutz ist dann gewährt, wenn die Rückkehr eines Asylbewerbers ins Heimatland zu gefährlich ist. Genauer gesagt, wenn ein Ausländer stichhaltige Gründe für die Annahme vorgebracht hat, dass ihm in\\xa0seinem Herkunftsland ein schwerer Schaden droht – beispielsweise Todesstrafe, Folter, unmenschliche oder erniedrigende Behandlung bzw. Bestrafung.', 'OVER-THRESHOLD', 'asylanträge migration asylbewerber flüchtlinge', '128', '0.53192302021476']\n"
          ]
        }
      ]
    },
    {
      "cell_type": "markdown",
      "metadata": {
        "id": "aHSQmpQIwWn8"
      },
      "source": [
        "what if I want to save this in a list to be able to access later.\n",
        "\n",
        "Here loops become handy"
      ]
    },
    {
      "cell_type": "code",
      "metadata": {
        "collapsed": true,
        "id": "8Fre0wnUwWn9"
      },
      "source": [
        "import csv\n",
        "tsv_file = open(\"/content/drive/MyDrive/Colab Notebooks/Oxford Text Analysis 22/Python QTA Drive Oxford 2022/Data/sputnikgerman20.tsv\", encoding=\"utf-8\")\n",
        "read_tsv = csv.reader(tsv_file, delimiter=\"\\t\")\n",
        "savelist = []\n",
        "for row in read_tsv:\n",
        "    savelist.append(row)\n",
        "tsv_file.close() # we see here each row is now saved in a list\n"
      ],
      "execution_count": null,
      "outputs": []
    },
    {
      "cell_type": "code",
      "metadata": {
        "id": "rN5ovu9mwWn_",
        "colab": {
          "base_uri": "https://localhost:8080/"
        },
        "outputId": "2960e0f6-da18-4dd8-8711-0af2e6a86f9a"
      },
      "source": [
        "savelist # list of lists"
      ],
      "execution_count": null,
      "outputs": [
        {
          "output_type": "execute_result",
          "data": {
            "text/plain": [
              "[['http://de.sputniknews.compolitik/20160107306965193-Lindner-Merkel-Migrationspolitik-Chaos-Einwanderungsgesetz',\n",
              "  'http://web.archive.org/web/20170227192503/https://de.sputniknews.com/amp/politik/20160107306965193-Lindner-Merkel-Migrationspolitik-Chaos-Einwanderungsgesetz/',\n",
              "  '20160107',\n",
              "  'FDP-Chef Lindner: Merkels Flüchtlingspolitik führt Europa ins Chaos',\n",
              "  'Der Satz „Wir schaffen das“ der Bundeskanzlerin ersetze kein Regierungshandeln, so Lindner. Seiner Meinung nach ist ein „rationales, humanitäres, europäisch abgestimmtes Einwanderungsgesetz“ nötig, welches eine systematisierte Registrierung von Flüchtlingen und deren legale Integration ermöglichen würde. Die CDU/CSU-Politiker hatten von Merkel wiederholt gefordert, den Migranten-Zustrom zu begrenzen. Doch die Kanzlerin hat sich bislang geweigert, eine Obergrenze für Flüchtlinge festzulegen, was die Grenzschließung für neu ankommende Migranten bedeuten würde.',\n",
              "  'OVER-THRESHOLD',\n",
              "  'flüchtlingen migranten flüchtlinge',\n",
              "  '70',\n",
              "  '0.572646110198091'],\n",
              " ['http://de.sputniknews.com/panorama/20150210/301052523.html',\n",
              "  'http://web.archive.org/web/20150315163311/http://de.sputniknews.com/panorama/20150210/301052523.html',\n",
              "  '20150210',\n",
              "  'Experte: Rund 1,3 Millionen wehrpflichtige Ukrainer nach Russland geflüchtet',\n",
              "  'In letzter Zeit sei knapp einer halben Million ukrainischer Bürger der Flüchtlingsstatus zuerkannt beziehungsweise befristetes Asyl gewährt worden. „Russland hat keine Pläne, die Grenze für andere zu schließen.“ Zugleich räumte Patruschew erhebliche Probleme bei der Unterbringung immer wieder eintreffender Flüchtlinge ein.',\n",
              "  'OVER-THRESHOLD',\n",
              "  'flüchtlingsstatus asyl flüchtlinge',\n",
              "  '43',\n",
              "  '0.549349509077681'],\n",
              " ['http://de.sputniknews.compolitik/20181117322994742-deutschland-spd-nahles-hartz-iv',\n",
              "  'http://web.archive.org/web/20181117160304/https://de.sputniknews.com/amp/politik/20181117322994742-deutschland-spd-nahles-hartz-iv/',\n",
              "  '20181117',\n",
              "  'So präzisiert Nahles ihre Idee für Hartz IV-Alternative',\n",
              "  '{                    \\\\vars\\\\\": {                        \\\\\"counterId\\\\\": \\\\\"27090206\\\\\"                    }                }                                    {                            \\\\\"requests\\\\\": {                                \\\\\"pageview\\\\\": \\\\\"http://web.archive.org/web/20181117160304/https://counter.yadro.ru/hit;RS_Total/Sputniki_Total/Sputniknews?u${ampdocUrl};r${documentReferrer};s${screenWidth}*${screenHeight}*32;h${title};${random}\\\\\"                            },                            \\\\\"triggers\\\\\": {                                \\\\\"track pageview\\\\\": {                                    \\\\\"on\\\\\": \\\\\"visible\\\\\",                                    \\\\\"request\\\\\": \\\\\"pageview\\\\\"                                }                            }                        }                    Alle NachrichtenPolitik                        ©                    REUTERS/ Hannibal HanschkeSo präzisiert Nahles ihre Idee für Hartz IV-Alternative12:51 17.11.2018(aktualisiert  13:05 17.11.2018) Zum KurzlinkDie SPD-Parteichefin Andrea Nahles hat in einem Gastbeitrag für die „Frankfurter Allgemeine Zeitung“ eine Ablösung des Hartz-IV-Systems durch höhere Mindestlöhne, Zuschüsse zu Sozialabgaben und Steuerboni gefordert.Beim Debattencamp in\\xa0Berlin vor einer Woche kündigte Nahles einen Komplettumbau des Sozialstaates sowie die Abschaffung von Hartz IV an, dessen monatlicher Satz 416 Euro beträgt. Nun konkretisiert sie ihre Vorstellungen: Viel weniger Menschen als heute sollen auf Grundsicherung angewiesen sein – es sei immer günstiger, Arbeit anstatt Arbeitslosigkeit zu finanzieren.>>>Weitere Sputnik-Artikel: EXKLUSIV: „Mein Schmerzpunkt“ – Ex-Partei-Chef übt Kritik an Politik der Grünen<<<                        ©                    AFP 2018/ DPA/ Arne Dedert„So verhindert Politik bedingungsloses Grundeinkommen“: Ex-Grünen-Chef – EXKLUSIVVor allem die Zahl von zwei Millionen Kindern, die in Hartz-IV-Haushalten lebten, müsse verringert werden. „Diese Erfahrung, ein ‚Hartz-IV-Kind‘ zu sein, prägt fürs Leben. Wir brauchen daher eine eigenständige Kindergrundsicherung, die Kinder aus der Sozialhilfe holt und Teilhabe schafft“, zitieren Nahles deutsche Medien.Ein besseres Wohngeld könne zudem verhindern, „dass Menschen angesichts explodierender Mieten in\\xa0die Grundsicherung getrieben werden“. Nahles kritisierte außerdem das in\\xa0der SPD-Kanzlerschaft vom Altkanzler Gerhard Schröder eingeführte System der Zusammenlegung von Arbeitslosen- und Sozialhilfe und forderte weniger Bürokratie und Härte.>>>Weitere Sputnik-Artikel: Schon wieder Bulgarien – Illegale Migration durch tausendfachen Verkauf von EU-Pässen<<<                        ©                    AP Photo/ Martin Meissner„Wir werden Hartz IV hinter uns lassen“: Nahles verspricht Komplettumbau des Sozialstaates„Zum Symbol für das Misstrauen des Staates gegenüber den Grundsicherungsbeziehern sind die Sanktionen geworden. Sie wirken, als würde den Leistungsbeziehern von vornherein unterstellt, betrügen zu wollen“.Der Bundeswirtschaftsminister, Peter Altmaier, wies die SPD-Forderungen nach einer Hartz-IV-Abschaffung in\\xa0einem Gespräch mit der Zeitung „Die Welt“ zurück.„Wir dürfen und werden Hartz IV nicht abschaffen. Solche Vorschläge sind hoch gefährlich und schaden der Zukunft unseres Landes“, zitieren deutsche Medien den CDU-Politiker.Diskussion\"',\n",
              "  'OVER-THRESHOLD',\n",
              "  'migration',\n",
              "  '884',\n",
              "  '0.549179266004771'],\n",
              " ['http://de.sputniknews.compolitik/20181109322907058-trump-usa-asyl',\n",
              "  'http://web.archive.org/web/20181123020955/https://de.sputniknews.com/amp/politik/20181109322907058-trump-usa-asyl/',\n",
              "  '20181109',\n",
              "  'Trump beschränkt drastisch Asylgewährung für illegale Migranten',\n",
              "  '{                    \\\\vars\\\\\": {                        \\\\\"counterId\\\\\": \\\\\"27090206\\\\\"                    }                }                                    {                            \\\\\"requests\\\\\": {                                \\\\\"pageview\\\\\": \\\\\"http://web.archive.org/web/20181123020955/https://counter.yadro.ru/hit;RS_Total/Sputniki_Total/Sputniknews?u${ampdocUrl};r${documentReferrer};s${screenWidth}*${screenHeight}*32;h${title};${random}\\\\\"                            },                            \\\\\"triggers\\\\\": {                                \\\\\"track pageview\\\\\": {                                    \\\\\"on\\\\\": \\\\\"visible\\\\\",                                    \\\\\"request\\\\\": \\\\\"pageview\\\\\"                                }                            }                        }                    Alle NachrichtenPolitik                        ©                    REUTERS/ Jose CabezasTrump beschränkt drastisch Asylgewährung für illegale Migranten15:43 09.11.2018(aktualisiert  17:36 09.11.2018) Zum KurzlinkUS-Präsident Donald Trump hat die Asylgewährung für illegale Migranten drastisch eingeschränkt. Das teilte der Staatschef vor der Presse mit.Wie Trump vor Journalisten sagte, hat er „gerade“ ein entsprechendes Dekret unterzeichnet. Demnach sollen nur noch Menschen Asyl beantragen können, die an einem offiziellen Grenzübergang in\\xa0die USA einreisen. Illegal Eingereiste würden kein Asyl beantragen dürfen.>>> Weitere Sputnik-Artikel: Trump erklärt, warum USA Migranten brauchen                        ©                    REUTERS/ Leah MillisTrump droht mit Schließung der Grenze zu MexikoDie Verweigerung des Rechts auf einen Asylantrag für illegale Migranten sei zeitweilig und betreffe die Ausländer, die die südliche US-Grenze zu Mexiko gesetzwidrig überschreiten würden, geht aus Trumps Proklamation hervor.„Ich treffe befristete Maßnahmen zum Einreisestopp für Ausländer, um das Problem der großen Anzahl von Migranten zu lösen, die über Mexiko kommen, um in\\xa0unser Land ohne richtige Dokumente einzureisen“.>>> Weitere Sputnik-Artikel: Bundestag beschließt Verschärfung des Asylgesetzes                        ©                    AFP 2018/ GERARD JULIENMauer reloaded: EU-Staaten errichten sechs neue „Berliner Mauern“Ein Einwanderer könne dennoch Asyl beantragen, wenn er sich an die US-Grenzbehörden wende, statt zu versuchen, in\\xa0die USA illegal zu gelangen.Laut Trump haben die ankommenden Migranten in\\xa0der Regel keine legalen Gründe, Asyl zu beantragen. Die Ankunft von einer großen Anzahl von Ausländern werde das US-Immigrationssystem überlasten und zur „Freilassung\\\\\" von Tausenden Ausländern innerhalb der USA“ führen.Zuvor hatte das US-Verteidigungsministerium seine Bereitschaft erklärt, bis zu 7000 Militärangehörige an der Grenze zwischen den USA und Mexiko zu stationieren. Trump verkündete, bis zu 15.000 Soldaten an die Grenze zu schicken, wo sich bereits 2100 Mitglieder der Nationalgarde der Vereinigten Staaten befinden.>>> Weitere Sputnik-Artikel: „Kein Menschenrecht auf Migration“: Österreich verlässt UN-Migrationspakt                        ©                    REUTERS/ Carlos Garcia RawlinsMigranten vs. US-Armee: Wer sind die Drahtzieher der Flüchtlingskarawane?Die Maßnahmen werden getroffen, weil eine Karawane mit Tausenden Menschen aus zentralamerikanischen Ländern sich den USA über das Territorium von Mexiko nähert. Weitere zwei Migrantengruppen bewegen sich aus Salvador in\\xa0Richtung USA.Nach Informationen der Nachrichtenagentur France-Presse bezeichnete die Bürgerrechtsorganisation American Civil Liberties Union die Pläne für eine Verschärfung des Asylrechts am Donnerstag als „illegal“. Das US-Recht erlaube Menschen einen Asylantrag unabhängig davon zu stellen, ob sie sich an einem Grenzübergang befinden oder nicht. Dies könne nicht durch ein Dekret „umgangen“ werden.Diskussion\"',\n",
              "  'OVER-THRESHOLD',\n",
              "  'einwanderer migranten asyl',\n",
              "  '998',\n",
              "  '0.548636683559343'],\n",
              " ['http://de.sputniknews.compolitik/20160306308285650-oesterreich-draengt-auf-deutsches-fluechtlingskontingent',\n",
              "  'http://web.archive.org/web/20181126055753/https://de.sputniknews.com/amp/politik/20160306308285650-oesterreich-draengt-auf-deutsches-fluechtlingskontingent/',\n",
              "  '20160306',\n",
              "  'Österreich drängt auf deutsches Flüchtlingskontingent',\n",
              "  '{                    \\\\vars\\\\\": {                        \\\\\"counterId\\\\\": \\\\\"27090206\\\\\"                    }                }                                    {                            \\\\\"requests\\\\\": {                                \\\\\"pageview\\\\\": \\\\\"http://web.archive.org/web/20181126055753/https://counter.yadro.ru/hit;RS_Total/Sputniki_Total/Sputniknews?u${ampdocUrl};r${documentReferrer};s${screenWidth}*${screenHeight}*32;h${title};${random}\\\\\"                            },                            \\\\\"triggers\\\\\": {                                \\\\\"track pageview\\\\\": {                                    \\\\\"on\\\\\": \\\\\"visible\\\\\",                                    \\\\\"request\\\\\": \\\\\"pageview\\\\\"                                }                            }                        }                    Alle NachrichtenPolitik                        ©                    AP Photo/ Boris Grdanoski Österreich drängt auf deutsches Flüchtlingskontingent09:56 06.03.2016(aktualisiert  09:57 06.03.2016) Zum KurzlinkDer österreichische Bundeskanzler Werner Faymann hat von Deutschland gefordert, eine Flüchtlingsquote von 400.000 Personen im Jahr einzuführen. Wenn alle EU-Länder dem Beispiel Österreichs folgen würden, könnte die EU, so Faymann, zwei Millionen Flüchtlinge aufnehmen.Im Jahr 2015 hatten etwa 90.000 Menschen in Österreich Asyl beantragt. 2016 will die Regierung die Zahl der positiv beschiedenen Asylanträge auf 37.500 beschränken.                        ©                    AFP 2018/ JOHN MACDOUGALLBundeskanzler Faymann: Merkel sollte Tageskontingente für Flüchtlinge einführen„Deutschland muss endlich Klarheit schaffen, sonst werden weiterhin Flüchtlinge Richtung Deutschland losziehen … Nimmt man den österreichischen Richtwert her, könnte Deutschland rund 400.000 Flüchtlinge als Kontingent nennen“, sagte Faymann im Gespräch mit der Zeitung Kurier.Im Jahr 2015 sind nach Angaben der Agentur Frontex rund 1,8 Million Migranten nach Europa gekommen. Experten zufolge handelt es sich um die größte Flüchtlingskrise seit dem Zweiten Weltkrieg.Diskussion\"',\n",
              "  'OVER-THRESHOLD',\n",
              "  'asyl flüchtlinge migranten asylanträge flüchtlingskrise',\n",
              "  '699',\n",
              "  '0.547926894577753'],\n",
              " ['http://de.sputniknews.compolitik/20151016304983995-warschau-gegen-merkels-fluechtlingsquote',\n",
              "  'http://web.archive.org/web/20181123212339/https://de.sputniknews.com/amp/politik/20151016304983995-warschau-gegen-merkels-fluechtlingsquote/',\n",
              "  '20151016',\n",
              "  'Migrationskrise: Warschau wehrt sich gegen Merkels Flüchtlingsquote',\n",
              "  '{                    \\\\vars\\\\\": {                        \\\\\"counterId\\\\\": \\\\\"27090206\\\\\"                    }                }                                    {                            \\\\\"requests\\\\\": {                                \\\\\"pageview\\\\\": \\\\\"http://web.archive.org/web/20181123212339/https://counter.yadro.ru/hit;RS_Total/Sputniki_Total/Sputniknews?u${ampdocUrl};r${documentReferrer};s${screenWidth}*${screenHeight}*32;h${title};${random}\\\\\"                            },                            \\\\\"triggers\\\\\": {                                \\\\\"track pageview\\\\\": {                                    \\\\\"on\\\\\": \\\\\"visible\\\\\",                                    \\\\\"request\\\\\": \\\\\"pageview\\\\\"                                }                            }                        }                    Alle NachrichtenPolitik                        ©                    REUTERS/ Fabrizio Bensch/FilesMigrationskrise: Warschau wehrt sich gegen Merkels Flüchtlingsquote15:10 16.10.2015Zum KurzlinkPolen tritt scharf gegen die von Angela Merkel vorgeschlagene, permanente und verpflichtende Verteilungsquote von Flüchtlingen unter EU-Ländern auf und wird dabei nicht nachgeben, wie Polens Außenminister Grzegorz Schetyna gegenüber dem Radiosender RMF FM erklärte.                        ©                    AFP 2018/ Frederick FlorinFlüchtlingskrise: Merkel und Hollande werben gemeinsam für Solidarität in EU“Wir werden nicht nachgeben. Wir bilden eine entscheidende Mehrheit in\\xa0der EU”, unterstrich Schetyna.Dem Außenminister zufolge sei die Flüchtlingssituation ein Problem der deutschen Innenpolitik, „deswegen werden stets Versuche unternommen, ein besseres Bild und Image zu schaffen“. „Dies beeinflusst jedoch keinesfalls europäische Entscheidungen“, so Schetyna weiter.„Wenn Europa sagt, dass wir sie (Flüchtlinge – d. Red.) weiterhin unter uns aufteilen und uns Quoten neuer Migrationsströme aufzwingen werden, wird es eine Katastrophe geben. Wir werden dem nicht zustimmen“, erklärte Polens Minister.                        ©                    REUTERS/ Kai PfaffenbachFlüchtlingskrise: Osteuropäer lehnen sich gegen EU-Kurs aufSchetyna ist der Ansicht, dass Europa in\\xa0erster Linie „eine Entscheidung über den Schutz von Außengrenzen sowie über Verteilungszentren, die politische Migranten aus dem Nahen Osten registrieren müssen, treffen, nicht aber einen automatischen Verteilungsmechanismus einführen soll“. Letzteren bezeichnete der Minister als Unsinn.Allein bis zum September sind laut der EU-Grenzschutzagentur „Frontex“ rund 630.000 Flüchtlinge in\\xa0die EU gekommen. Die EU-Kommission spricht von der schlimmsten Migrationskrise seit dem Zweiten Weltkrieg.Diskussion\"',\n",
              "  'OVER-THRESHOLD',\n",
              "  'flüchtlingen migrationskrise migranten flüchtlinge',\n",
              "  '805',\n",
              "  '0.544957398675781'],\n",
              " ['http://de.sputniknews.comkarikatur/20151020305076281',\n",
              "  'http://web.archive.org/web/20181201153825/https://de.sputniknews.com/amp/karikatur/20151020305076281/',\n",
              "  '20151020',\n",
              "  'Flüchtlingskrise: Ist Abriegeln eine Lösung?',\n",
              "  '{                    \\\\vars\\\\\": {                        \\\\\"counterId\\\\\": \\\\\"27090206\\\\\"                    }                }                                    {                            \\\\\"requests\\\\\": {                                \\\\\"pageview\\\\\": \\\\\"http://web.archive.org/web/20181201153825/https://counter.yadro.ru/hit;RS_Total/Sputniki_Total/Sputniknews?u${ampdocUrl};r${documentReferrer};s${screenWidth}*${screenHeight}*32;h${title};${random}\\\\\"                            },                            \\\\\"triggers\\\\\": {                                \\\\\"track pageview\\\\\": {                                    \\\\\"on\\\\\": \\\\\"visible\\\\\",                                    \\\\\"request\\\\\": \\\\\"pageview\\\\\"                                }                            }                        }                    Alle NachrichtenKarikaturFlüchtlingskrise: Ist Abriegeln eine Lösung?18:18 20.10.2015Zum KurzlinkThemen: Migrationsproblem in EuropaCSU-Politiker Markus Söder hat kürzlich ins Gespräch gebracht, die deutsche Grenze mit Zäunen abzusichern. Wird Bundeskanzlerin Angela Merkel zum Schließen der Grenzen gezwungen sein? Hält eine strengere Asylpolitik Flüchtlinge auf? Lassen sich Menschen, die vor Fassbomben fliehen, von ein paar Zäunen stoppen? Fragen, Fragen, Fragen...Diskussion\"',\n",
              "  'OVER-THRESHOLD',\n",
              "  'migrationsproblem asylpolitik flüchtlinge',\n",
              "  '522',\n",
              "  '0.544157704714578'],\n",
              " ['http://de.sputniknews.com/german.ruvr.ru/news/2014_01_06/Gro-britannien-will-EU-Freizugigkeit-verhindern-2651',\n",
              "  'http://web.archive.org/web/20150726055154/http://de.sputniknews.com/german.ruvr.ru/news/2014_01_06/Gro-britannien-will-EU-Freizugigkeit-verhindern-2651/',\n",
              "  '20140106',\n",
              "  'Großbritannien will EU-Freizügigkeit verhindern',\n",
              "  'Foto: EPA STIMME RUSSLANDS Die Regierung Großbritanniens habe vor, eine Revision der EU-Mitgliedschaftsbedingungen von der EU zu erlangen und die Sperrmaßnahmen gegenüber EU-Migranten zu verteidigen, sagte der britische Regierungschef David Cameron. Cameron zufolge wolle er die allgemeinen Grundsätze der EU nicht in Zweifel ziehen, halte allerdings das Recht der Migranten auf hohes Arbeitslosengeld und kostenlose Medizin in Großbritannien für unfair. Ab dem 1. Januar gilt für Rumänien und Bulgarien eine uneingeschränkte Freizügigkeit. Einschätzungen zufolge muss Großbritannien mit mindestens 300.000 Einwanderern rechnen.',\n",
              "  'OVER-THRESHOLD',\n",
              "  'migranten',\n",
              "  '83',\n",
              "  '0.544009923707647'],\n",
              " ['http://de.sputniknews.compolitik/20180813321937555-syrien-deutschland-fluechtlinge-rueckkehr-sanktionen',\n",
              "  'http://web.archive.org/web/20180813172522/https://de.sputniknews.com/amp/politik/20180813321937555-syrien-deutschland-fluechtlinge-rueckkehr-sanktionen/',\n",
              "  '20180813',\n",
              "  'Rückkehr von Flüchtlingen: Syrischer Minister appelliert an Deutschland',\n",
              "  'Der syrische Minister für lokale Verwaltung und Umwelt Hussein Makhlouf hat über Journalisten Deutschland zur Aufhebung der Sanktionen gegen Damaskus aufgerufen. Dies soll laut dem Politiker die Rückkehr der syrischen Flüchtlinge in ihre Heimat fördern. „Ich möchte mich über Sie an die deutsche Regierung wenden und bitten, die einseitigen Sanktionen gegen Syrien aufzuheben“, sagte Makhlouf sich an einen deutschen Journalisten wendend auf einer Pressekonferenz. Mehr zum Thema >>> UN-Flüchtlingskommissar tritt gegen Rückkehr von Flüchtlingen nach Syrien auf  Makhlouf, der auch Chef des syrischen Koordinierungsausschusses für Rückkehr der Flüchtlinge ist, betonte, im Fall einer Aufhebung der Sanktionen werde die Rückkehr der Flüchtlinge beschleunigt. Dies würde den Wideraufbau des Landes fördern. Mehr zum Thema >>> Russland forciert Rückkehr von Syrien-Flüchtlingen Zuvor hatte das russische Zentrum für Aufnahme, Verteilung und Unterbringung beim russischen Verteidigungsministerium mitgeteilt, mehr als 1,7 Millionen Syrer hätten den Wunsch geäußert, aus neun Gastländern in\\xa0ihre Heimat zurückzukehren. Die meisten Heimkehrwilligen halten sich jetzt im Libanon, in\\xa0der Türkei und in\\xa0Deutschland auf.',\n",
              "  'OVER-THRESHOLD',\n",
              "  'flüchtlingen flüchtlinge',\n",
              "  '163',\n",
              "  '0.543706912424414'],\n",
              " ['http://de.sputniknews.compolitik/20170219314606917-usa-verschaerfen-asyl-recht',\n",
              "  'http://web.archive.org/web/20170324060955/https://de.sputniknews.com/amp/politik/20170219314606917-usa-verschaerfen-asyl-recht/',\n",
              "  '20170219',\n",
              "  'USA verschärfen Asyl-Recht',\n",
              "  'Nach dem US-Gesetz „Immigration and Nationality Act“ muss ein Asylbewerber seine „begründete Angst“ vor Verfolgung aufgrund seiner Rasse, Religion, Nationalität, Mitgliedschaft in\\xa0einer bestimmten sozialen Gruppe oder politischer Meinung nachweisen. Der Kampf gegen illegale Migration war eines der Hauptthemen der Wahlkampagne des US-Präsidenten Donald Trump. Das von Trump Ende Januar unterzeichnete Terrorschutzgesetz, welches Bürgern aus sieben vorwiegend muslimischen Ländern die Einreise in\\xa0die USA zeitweilig verwehrt, löste landesweit\\xa0 und international heftige Kritik bis hin zu Massenprotesten aus. \\xa0',\n",
              "  'OVER-THRESHOLD',\n",
              "  'migration asylbewerber',\n",
              "  '79',\n",
              "  '0.543062751396791'],\n",
              " ['http://de.sputniknews.companorama/20151228306826925-daenemark-tritt-fuer-veraenderung-der-fluechtlingskonvention',\n",
              "  'http://web.archive.org/web/20181123231931/https://de.sputniknews.com/amp/panorama/20151228306826925-daenemark-tritt-fuer-veraenderung-der-fluechtlingskonvention/',\n",
              "  '20151228',\n",
              "  'Dänemark will die Flüchtlingskonvention ändern',\n",
              "  '{                    \\\\vars\\\\\": {                        \\\\\"counterId\\\\\": \\\\\"27090206\\\\\"                    }                }                                    {                            \\\\\"requests\\\\\": {                                \\\\\"pageview\\\\\": \\\\\"http://web.archive.org/web/20181123231931/https://counter.yadro.ru/hit;RS_Total/Sputniki_Total/Sputniknews?u${ampdocUrl};r${documentReferrer};s${screenWidth}*${screenHeight}*32;h${title};${random}\\\\\"                            },                            \\\\\"triggers\\\\\": {                                \\\\\"track pageview\\\\\": {                                    \\\\\"on\\\\\": \\\\\"visible\\\\\",                                    \\\\\"request\\\\\": \\\\\"pageview\\\\\"                                }                            }                        }                    Alle NachrichtenPanorama                        ©                    AP Photo/ Joachim LadefogdeDänemark will die Flüchtlingskonvention ändern14:44 28.12.2015(aktualisiert  16:32 28.12.2015) Zum KurzlinkDie Flüchtlingskrise hat Dänemark und Europa vor solche Herausforderungen gestellt, dass nun die UN-Flüchtlingskonvention von 1951 verändert werden muss, wie der dänische Regierungschef Lars Lökke Rasmussen dem Sender TV2 sagte.Wenn die Flüchtlingszahlen weiter ansteigen würden wie bisher, werde der Moment kommen, \\\\\"in dem wir über eine Anpassung der Spielregeln sprechen müssen\\\\\", sagte Rasmussen. Die Flüchtlingskonvention in\\xa0ihrer jetzigen Form entspreche nicht der heutigen globalisierten Welt.Die Konvention definiert den Begriff „Flüchtling“ und die Grundlagen, die für einen Asylantrag erforderlich sind. Einige Rechte, die Flüchtlinge genießen, gleichen denen der Bürger des Aufnahmestaates, andere – denen der Ausländer.                        ©                    REUTERS/ Michaela RehleDänemark besteht auf Konfiskationen: Flüchtlinge sollen Aufenthalt selber bezahlenAls die UN-Flüchtlingskonvention 1951 angenommen wurde, war Dänemark das erste Land, das sie unterzeichnet hat. Nun sei der Ministerpräsident der Auffassung, die von der Konvention auferlegten Verpflichtungen seien eine untragbare Bürde für Dänemark, schreibt die schwedische Zeitung Svenska Dagbladet.Eines der Probleme besteht laut Rasmussen darin, dass verschiedene Gruppen der Flüchtlinge verschiedene Regeln einhalten müssen. So gelten die verschärften Bedingungen für einen Familiennachzug nicht für alle. Die Fristen hängen davon ab, unter welchen Bedingungen das Asyl gewährt wurde.Die von Dänemark getroffenen Maßnahmen für die Reduzierung des Flüchtlingszustroms wirkten „inspirierend“ auf andere Staaten, so der dänische Ministerpräsident. Allerdings dürfe das Asylrecht als solches nicht abgeschafft werden. Dänemark habe nicht vor, alleine die Konvention außer Kraft zu setzen, Dänemark wolle gemeinsam mit anderen Staaten das System von innen verändern, erklärte Rasmussen. Eine der Forderungen könne sein, dass Flüchtlinge in\\xa0dem Land Asyl beantragen müssten, in\\xa0dem sie als erstes angekommen seien.                        ©                    AFP 2018/ Bulent KilicDänemark: Flüchtlinge mit mehr als 400 Euro werden zur Kasse gebetenMit Blick vor allem auf die syrischen Flüchtlinge fragte Ramussen: \\\\\"Wenn jemand, der Schutz vor Krieg sucht, zwei oder drei Jahre in\\xa0der Türkei gelebt hat, sollte er dann nach Europa gehen und dort Asyl beantragen?\\\\\" Die geltenden Regeln würden dies ermöglichen. \\\\\"Aber wir werden darüber eine Diskussion führen\\\\\", sagte er in\\xa0dem Fernsehinterview. In der Türkei leben nach Angaben Ankaras etwa zwei Millionen syrische Bürgerkriegsflüchtlinge.Das Wichtigste ist aus der Sicht des dänischen Politikers die Verständigung innerhalb Europas zu gewährleisten und eine einheitliche Sichtweise zu erarbeiten.„Dänemark kann nicht allein handeln, die anderen müssen auch teilnehmen. Ich kann doch ohne Zustimmung der anderen EU-Staaten das Ausweisungssystem nicht beschließen“, sagte Rasmussen.Diskussion\"',\n",
              "  'OVER-THRESHOLD',\n",
              "  'flüchtlingskrise asyl flüchtlinge',\n",
              "  '981',\n",
              "  '0.541940112273363'],\n",
              " ['http://de.sputniknews.compolitik/20160614310604740-maas-polygamie-verbot',\n",
              "  'http://web.archive.org/web/20171008021814/https://de.sputniknews.com/amp/politik/20160614310604740-maas-polygamie-verbot/',\n",
              "  '20160614',\n",
              "  'Glaube darf nicht über Gesetz stehen: Bundesjustizminister will Polygamie verbieten',\n",
              "  'Bundesjustizminister Heiko Maas will Mehrfach-Ehen unter muslimischen Migranten in Deutschland grundsätzlich die Anerkennung verweigern. Auch eine Gesetzesverschärfung gegen Zwangsehen mit minderjährigen Kindern sei notwendig.  Der Bundesjustizminister will der Anerkennung dieser Praxis in\\xa0Deutschland nun ein Ende bereiten. „Jeder muss sich an Recht und Gesetz halten, egal ob er hier aufgewachsen oder neu bei uns ist“, so Maas gegenüber der „Bild“-Zeitung. „Niemand, der zu uns kommt, hat das Recht, seine kulturelle Verwurzelung oder seinen religiösen Glauben über unsere Gesetze zu stellen“, sagte Maas zu „Bild“. „Deshalb dürfen in\\xa0Deutschland keine Mehrfach-Ehen anerkannt werden.\\\\ Auch Zwangsehen mit minderjährigen Migranten müssen Maas zufolge in\\xa0Deutschland komplett verboten werden. Dazu sei eine Gesetzesverschärfung notwendig, um Kinder zu schützen. „Wir müssen das sehr sorgfältig prüfen. Zwangsehen dürfen wir nicht dulden, erst recht nicht, wenn minderjährige Mädchen betroffen sind“, so Maas.\"',\n",
              "  'OVER-THRESHOLD',\n",
              "  'migranten',\n",
              "  '135',\n",
              "  '0.539771426513455'],\n",
              " ['http://de.sputniknews.comgesellschaft/20181210323239903-menschenrechte-flucht-migration-pakt',\n",
              "  'http://web.archive.org/web/20181210233556/https://de.sputniknews.com/amp/gesellschaft/20181210323239903-menschenrechte-flucht-migration-pakt/',\n",
              "  '20181210',\n",
              "  'Gibt es ein Menschenrecht auf Migration?',\n",
              "  '{                    \\\\vars\\\\\": {                        \\\\\"counterId\\\\\": \\\\\"27090206\\\\\"                    }                }                                    {                            \\\\\"requests\\\\\": {                                \\\\\"pageview\\\\\": \\\\\"http://web.archive.org/web/20181210233556/https://counter.yadro.ru/hit;RS_Total/Sputniki_Total/Sputniknews?u${ampdocUrl};r${documentReferrer};s${screenWidth}*${screenHeight}*32;h${title};${random}\\\\\"                            },                            \\\\\"triggers\\\\\": {                                \\\\\"track pageview\\\\\": {                                    \\\\\"on\\\\\": \\\\\"visible\\\\\",                                    \\\\\"request\\\\\": \\\\\"pageview\\\\\"                                }                            }                        }                    Alle NachrichtenGesellschaft                        ©                    AP Photo/ Marko DrobnjakovicGibt es ein Menschenrecht auf Migration?20:01 10.12.2018Zum KurzlinkPaul LinkeMigration sei kein Menschenrecht, erklärte FPÖ-Chef Heinz-Christian Strache. Damit begründete er unter anderem den Rückzug Österreichs aus dem globalen Migrationspakt der Vereinten Nationen, der nun verabschiedet wurde. Hatte der österreichische Vizekanzler auch wirklich Recht? Zum 70. Jahrestag der UN-Menschenrechte klärt Sputnik auf.Am Montag feiert die Welt ein wichtiges Jubiläum. Die Menschenrechte werden 70 Jahre alt. Am 10. Dezember 1948 einigten sich die Mitglieder der Vereinten Nationen auf die „Allgemeine Erklärung der Menschenrechte“ (AEMR). Heute beziehen sich die meisten demokratischen Staaten auf dieses Dokument.Auch ein anderes Abkommen erblickte am Montag das Licht der Welt. Der sogenannte „Globale Pakt für eine sichere, geordnete und reguläre Migration“. Genau wie bei der Menschenrechtserklärung handelt es sich auch beim UN-Migrationspakt um eine\\xa0 „unverbindliche Vereinbarung“ der Vereinten Nationen. In Marrakesch haben am Montag 164 Staaten den umstrittenen Migrationspakt, an dem 192 Staaten beteiligt waren, offiziell verabschiedet. Die USA nahmen an den Verhandlungen gar nicht erst teil. Mehrere Regierungen lehnten das Papier in\\xa0den letzten Wochen ab. Darunter befinden sich Ungarn, Polen, Tschechien, Bulgarien, Australien, die Slowakei, Israel und Österreich.>>>Andere Sputnik-Artikel: Uno nimmt umstrittenen Migrationspakt an<<<FPÖ-Vize: „Migration ist kein Menschenrecht“Die österreichische Begründung für den Rückzug lautete unter anderem: „Migration ist und darf auch kein Menschenrecht werden“, sagte Vizekanzler Heinz-Christian Strache (FPÖ).                        ©                    AP Photo/ Olmo Calvo„Ein zynisches Spiel“ – Warum der Migrationspakt keine Lösung istDer Aussage stimmt auch Geschäftsmann und ÖVP-Mitglied, Freiherr Norbert van Handel, zu. Migration sei „natürlich“ kein Menschenrecht. „Wir haben eine ganz genaue Definition von Menschenrechten. Freie Meinung, Zugang zum ordentlichen Gericht.“ Auch Reisefreiheit sei zwar ein Menschenrecht, aber eine Reisefreiheit mit dem Ziel, sich in\\xa0einem Land auf Dauer niederzulassen, sei definitiv kein Menschenrecht, erklärte van Handel gegenüber Sputnik.Ob das auch so stimmt, wollte die Sputnik-Redaktion überprüfen. Als Migration versteht man zunächst allgemein eine „Abwanderung in\\xa0ein anderes Land, in\\xa0eine andere Gegend, an einen anderen Ort“, so die „Bedeutungsübersicht“ des Dudens. Damit stellt per Definition auch eine Flucht aus dem eigenen Land aus jedweden Gründen zunächst eine Migration dar.Asyl als MenschenrechtDie Allgemeine Erklärung der Menschenrechte besteht aus 30 Artikeln. Zwei davon beschäftigen sich direkt mit dem Begriff Migration. So der Artikel 13, der auf die Auswanderungsfreiheit eingeht. Dort heißt es dazu: „Jeder hat das Recht, jedes Land, einschließlich seines eigenen, zu verlassen und in\\xa0sein Land zurückzukehren.“Im Artikel 14, der das Menschenrecht auf Asyl beschreibt, heißt es: „Jeder hat das Recht, in\\xa0anderen Ländern vor Verfolgung Asyl zu suchen und zu genießen.“ Im Falle einer Strafverfolgung, „die tatsächlich auf Grund von Verbrechen nichtpolitischer Art oder auf Grund von Handlungen erfolgt, die gegen die Ziele und Grundsätze der Vereinten Nationen verstoßen“, könne jedoch dieses Recht nicht in\\xa0Anspruch genommen werden.So werde Migration zu einem Menschenrecht, spätestens wenn Menschenleben durch äußere Faktoren wie Krieg und andere Katastrophen in\\xa0Gefahr seien, bestätigt der Politikwissenschaftler von der Universität Wien, Prof. Dr. Otmar Höll, im Sputnik-Interview. „Wir haben die Genfer Flüchtlingskonvention, wir haben den Menschenrechtspakt, die in\\xa0diese Richtung weisen. Und tatsächlich sind sie völlig außer Streit zu stellen“, findet Höll.\\xa0 Er bemerkt zudem, dass Österreich seit einigen Monaten im UN-Menschenrechtsbeirat sitzt. Daher würden Straches Äußerungen und der Rückzug aus dem UN-Migrationspakt einen „Bruch mit der guten österreichischen Tradition“ bedeuten.Jedoch bezweifelt der Politologe, dass Migration zu einem Menschenrecht im völkerrechtlichen Sinn in\\xa0naher Zukunft werde könne. „Aber die Migration als solche wird man mit einer derartigen Ablehnung nicht anhalten können“, warnt Professor Höll.>>>Andere Sputnik-Artikel: Nachzug von Flüchtlingen in\\xa0Deutschland: Zahl der Visa weit unter Obergrenze<<<Flucht gleich Migration?Flüchtlinge würden nicht zu Migration gehören, behauptet gegenüber Sputnik der UNHCR-Pressereferent Martin Rentsch: „Per Definition fliehen sie vor Krieg, Folter und Menschenrechtsverletzungen. Das unterscheidet sie von Migranten.“                        ©                    AP Photo/ Emrah GurelAlleine alle Flüchtlinge in EU aufnehmen? – Berlin und Paris haben AngstDer Migrationsforscher von der Technischen Universität Dresden, Dr. Oliviero Angeli,\\xa0 definiert Flucht als „eine Form der Migration, aber nicht die einzige Form von Migration“. Es könne auch darüber diskutiert werden, wer unter dem Begriff Flüchtlinge allgemein verstanden werden kann, bemerkt Angeli. Die deutsche Regierung poche dabei sehr stark auf die Definition der Genfer Flüchtlingskonvention. Danach gilt als Flüchtling eine Person, die „aus der begründeten Furcht vor Verfolgung wegen ihrer Rasse, Religion, Nationalität, Zugehörigkeit zu einer bestimmten sozialen Gruppe oder wegen ihrer politischen Überzeugung sich außerhalb des Landes befindet, dessen Staatsangehörigkeit sie besitzt“.„Kein Recht, in\\xa0andere Länder einzuwandern“Die Frage nach der menschenrechtlichen Basis der Migration\\xa0 ist für Angeli „auf legaler Ebene relativ klar“: „Wir haben Rechte, uns innerhalb der Staaten frei zu bewegen oder aus den Staaten auszuwandern. Aber wir haben bis dato kein Recht, in\\xa0andere Länder einzuwandern. Aus moralischer Sicht kann man für dieses Recht eintreten, aber politisch ist es mittel- bis langfristig schwer umsetzbar“, erklärt der Migrationsforscher. Dass die UN-Menschenrechte bis heute keine rechtlich verbindliche Basis besitzen, schwäche die Position derjenigen, die sich für ein Recht auf Bewegungsfreiheit oder für ein Recht auf Einwanderung stark machen, betont Angeli. Dieses Recht müsse man erst in\\xa0der Menschenrechtskonvention stärker etablieren. „Doch dafür ist der politische Wille momentan nicht vorhanden“, so der Politikwissenschaftler Dr. Oliviero Angeli.Der „Globale Pakt für Migration“ wurde am Montag beim UN-Gipfeltreffen in\\xa0Marokko unterzeichnet. Das 34 Seiten umfassende Dokument soll dazu beitragen, Flucht und Migration besser zu organisieren.Das komplette Interview mit Dr. Oliviero Angeli zum Nachhören:Das komplette Interview mit Prof. Dr. Otmar Höll zum Nachhören:Diskussion\"',\n",
              "  'OVER-THRESHOLD',\n",
              "  'flüchtlingen asyl einwanderung flucht flüchtlinge flüchtling migration',\n",
              "  '1461',\n",
              "  '0.537197634217539'],\n",
              " ['http://de.sputniknews.compolitik/20151102305349847',\n",
              "  'http://web.archive.org/web/20181201040148/https://de.sputniknews.com/amp/politik/20151102305349847/',\n",
              "  '20151102',\n",
              "  'Kabul nimmt abgelehnte Asylbewerber aus Deutschland auf',\n",
              "  '{                    \\\\vars\\\\\": {                        \\\\\"counterId\\\\\": \\\\\"27090206\\\\\"                    }                }                                    {                            \\\\\"requests\\\\\": {                                \\\\\"pageview\\\\\": \\\\\"http://web.archive.org/web/20181201040148/https://counter.yadro.ru/hit;RS_Total/Sputniki_Total/Sputniknews?u${ampdocUrl};r${documentReferrer};s${screenWidth}*${screenHeight}*32;h${title};${random}\\\\\"                            },                            \\\\\"triggers\\\\\": {                                \\\\\"track pageview\\\\\": {                                    \\\\\"on\\\\\": \\\\\"visible\\\\\",                                    \\\\\"request\\\\\": \\\\\"pageview\\\\\"                                }                            }                        }                    Alle NachrichtenPolitik                        ©                    AP Photo/ Muhammed MuheisenKabul nimmt abgelehnte Asylbewerber aus Deutschland auf12:37 02.11.2015(aktualisiert  12:42 02.11.2015) Zum KurzlinkThemen: Migrationsproblem in EuropaDie afghanische Regierung hat erklärt, dass sie abgelehnte Asylbewerber aus Deutschland zurücknimmt, meldet Associated Press.Die Ankündigung der Bundesregierung, abgelehnte Asylbewerber aus Afghanistan künftig deutlich häufiger als bisher in\\xa0ihre Heimat abzuschieben, ist von der Regierung in\\xa0Kabul mit Erstaunen und Ablehnung kommentiert worden.                        ©                    AFP 2018/ Robert MichaelAufnahme der Flüchtlinge: „Trotz Finanzstärke – Probleme mentaler Art“ – SoziologeLaut dem afghanischen Minister für Flüchtlingsangelegenheiten, Sayed Hussain Alimi Balkhi weiß seine Regierung von einer solchen Entscheidung nichts. Er habe kürzlich erst einer deutschen Regierungsdelegation in\\xa0Genf gesagt, dass sich die Sicherheitslage in\\xa0Afghanistan verschlechtert habe.„Ich habe sie deshalb ausdrücklich darum gebeten, keine afghanischen Asylbewerber abzuschieben.“ Diese Bitte habe er auch im Gespräch mit dem deutschen Botschafter in\\xa0Afghanistan geäußert.                        ©                    REUTERS/ Kai PfaffenbachDeutschland: Über eine halbe Million Flüchtlinge bereits da - ZeitungDer Präsidentensprecher Safar Haschemi sagte, dass Afghanistan die Asylbewerber zuhause aufnehmen solle. Er fügte hinzu, dass Bundeskanzlerin Angela Merkel und der afghanische Präsident Ashraf Ghani diese Frage vor kurzem besprochen haben.Bis zu einer Million Flüchtlinge könnten in\\xa0diesem Jahr nach Deutschland kommen, wurde schon früher gemeldet. Nach den Angaben des afghanischen Ministeriums für Flüchtlinge und Repatriierung haben in\\xa0diesem Jahr 120.000 Menschen das Land verlassen.Diskussion\"',\n",
              "  'OVER-THRESHOLD',\n",
              "  'migrationsproblem asylbewerber flüchtlinge',\n",
              "  '801',\n",
              "  '0.536986114185067'],\n",
              " ['http://de.sputniknews.companorama/20170307314801061-EuGH-visa-urteil',\n",
              "  'http://web.archive.org/web/20170307115432/https://de.sputniknews.com/amp/panorama/20170307314801061-EuGH-visa-urteil/',\n",
              "  '20170307',\n",
              "  'EuGH-Urteil: Keine \\\\humanitären Visa\\\\\" in EU-Auslandsbotschaften\"',\n",
              "  'Die Behörde argumentierte, dass sich die Familie länger als die mit einem Visum bewilligten 90 Tage in\\xa0Belgien aufhalten wollte\\xa0— schließlich wollten die Syrer dort Asylanträge stellen. Zudem seien EU-Staaten nicht verpflichtet, alle Menschen aufzunehmen, die eine katastrophale Situation durchlebten, hieß es. Der zuständige EuGH-Generalanwalt widersprach dieser Argumentation in\\xa0einem aufsehenerregenden Gutachten. Er schrieb, die Erteilung nationaler Visa werde von einer EU-Verordnung geregelt. Damit gelte auch die Grundrechtecharta der Union. Die wiederum schreibt das Recht auf Asyl fest und verbietet Folter und andere unmenschliche und entwürdigende Behandlung\\xa0— reale Gefahren für die syrische Familie, unterstrich der Gutachter. Damit müsse ein EU-Staat in\\xa0solchen Fällen Visa zur Einreise vergeben und Schutzsuchenden die Möglichkeit geben, in\\xa0Europa Asyl zu verlangen.',\n",
              "  'OVER-THRESHOLD',\n",
              "  'asylanträge asyl',\n",
              "  '116',\n",
              "  '0.536181733211913'],\n",
              " ['http://de.sputniknews.compolitik/20170207314424623-kalifornien-trump-krieg',\n",
              "  'http://web.archive.org/web/20170209143833/https://de.sputniknews.com/amp/politik/20170207314424623-kalifornien-trump-krieg/',\n",
              "  '20170207',\n",
              "  'Kalifornien und Trump erklären einander den Krieg – WP',\n",
              "  '„Das ist lächerlich“, so Trump über Kaliforniens Initiative, ein Asyl-Staat zu werden. „Wie Sie wissen, bin ich absolut gegen diese Asyl-Städte. Sie bringen Kriminalität und es gibt viele Probleme.“ Kalifornien sei in\\xa0vieler Hinsicht „außer Kontrolle geraten“, ist der US-Staatschef überzeugt. „Offenbar stimmen mir die Wähler zu, sonst hätten sie nicht für mich gestimmt.“  Wie WP unter Verweis auf die US-Bundespolizei FBI schreibt, ist die Kriminalität in\\xa0sogenannten „Asyl-Städten“ angeblich sogar niedriger als in\\xa0anderen Ortschaften. Was ist eine „Asyl-Stadt“? In den USA gibt es derzeit laut WP etwa 60 Städte mit speziellen Asyl-Gesetzen („Asyl-Städte“ bzw. „Sanctuary Cities“), darunter Los Angeles und New York. Die Gesetzeslage variiert von Stadt zu Stadt, doch im Allgemeinen beschützt sie illegale Einwanderer, die gewaltlose Verbrechen begangen haben, davor, von den Lokalregierungen an die Bundesbehörden übergeben zu werden. Das Verüben von Kavaliersdelikten durch Migranten führt demnach nicht zwingend zu bundesstaatlichem Gewahrsam. Stadtmitarbeiter und Strafverfolgungsbehörden einer sogenannten Asyl-Stadt dürfen zudem nicht nach dem Einwanderungsstatus eines Strafverdächtigen fragen. Gegner der Verordnung argumentieren, dass diese kriminelle Zuwanderer vor der Abschiebung bewahre.',\n",
              "  'OVER-THRESHOLD',\n",
              "  'migranten',\n",
              "  '174',\n",
              "  '0.536121189018493'],\n",
              " ['http://de.sputniknews.comgesellschaft/20180619321230321-menschenrechte-migranten-usa',\n",
              "  'http://web.archive.org/web/20181225062127/https://de.sputniknews.com/amp/gesellschaft/20180619321230321-menschenrechte-migranten-usa/',\n",
              "  '20180619',\n",
              "  'Kinder von Eltern zu trennen ist skrupellos – UN-Menschenrechtskommissar rügt USA - VIDEO',\n",
              "  '{                    \\\\vars\\\\\": {                        \\\\\"counterId\\\\\": \\\\\"27090206\\\\\"                    }                }                                    {                            \\\\\"requests\\\\\": {                                \\\\\"pageview\\\\\": \\\\\"http://web.archive.org/web/20181225062127/https://counter.yadro.ru/hit;RS_Total/Sputniki_Total/Sputniknews?u${ampdocUrl};r${documentReferrer};s${screenWidth}*${screenHeight}*32;h${title};${random}\\\\\"                            },                            \\\\\"triggers\\\\\": {                                \\\\\"track pageview\\\\\": {                                    \\\\\"on\\\\\": \\\\\"visible\\\\\",                                    \\\\\"request\\\\\": \\\\\"pageview\\\\\"                                }                            }                        }                    Alle NachrichtenGesellschaftKinder von Eltern zu trennen ist skrupellos – UN-Menschenrechtskommissar rügt USA - VIDEOВаш браузер не поддерживает данный формат видео                        ©                    Sputnik/ 14:53 19.06.2018(aktualisiert  18:57 19.06.2018) Zum KurzlinkDer Hochkommissar der Vereinten Nationen für Menschenrechte hat die USA für ihre Praxis gerügt, beim illegalen Grenzübertritt an der mexikanischen Grenze festgenommene Migranten von ihren Kindern zu trennen. Die Idee, Kinder für das Verhalten ihrer Eltern zu bestrafen und diese durch die Misshandlung der Kinder abzuschrecken, sei skrupellos.Der UN-Hochkommissar für Menschenrechte, Zeid Ra’ad Al Hussein, hat in\\xa0Genf die USA scharf angegriffen. Bezugnehmend auf die jüngst forcierte Praxis, an der mexikanisch-US-amerikanischen Grenze festgenommene illegale Einwanderer von ihren Kindern zu trennen, sprach Al Hussein von einer „grausamen Praxis“, die „irreparable Schäden mit lebenslangen Folgen“ nach sich ziehen könnte.\\xa0 Wörtlich sagte der Hochkommissar an die Adresse der US-Regierung: „Die Idee, dass ein Staat versucht, Eltern dadurch abzuschrecken, indem Kindern eine solche Misshandlung zugefügt wird, ist skrupellos.“>>Andere Sputnik-Artikel: Trump: „Menschen in\\xa0Deutschland wenden sich gegen ihre Regierung“Die im Video dokumentierte Passage der Erklärung von Zeid Ra’ad Al Hussein im Wortlaut:„In the United States, I am deeply concerned by\\xa0recently adopted policies which punish children for\\xa0that parent’s actions. In the past\\xa0six weeks, nearly 2,000 children have been forcibly separated from\\xa0their parents. The American Association of\\xa0Pediatrics [APP] has called this cruel practice \\'government-sanctioned child abuse\\' which may cause \\'irreparable harm\\' with \\'lifelong consequences\\'. The thought that any state would seek to\\xa0deter parents by\\xa0inflicting such abuse on\\xa0children is unconscionable. I call on\\xa0the United States to\\xa0immediately end the practice of\\xa0forcible separation of\\xa0these children, and I encourage the government to\\xa0at last ratify the [UN] Convention on\\xa0the Rights of\\xa0the Child, in\\xa0order to\\xa0ensure that the fundamental rights of\\xa0all children, whatever their administrative status, will be at\\xa0the centre of\\xa0all domestic laws and policies.”                        ©                    REUTERS/ Jorge Duenes„Migranten-Karawane“ trifft an Mexikos Grenze zu USA ein – VIDEO“Ich bin zutiefst besorgt über die aktuell in\\xa0den Vereinigten Staaten angewandte Praxis, Kinder für Handlungen ihrer Eltern zu bestrafen. In den vergangenen sechs Wochen wurden beinahe 2.000 Kinder gewaltsam von ihren Eltern getrennt. Die Amerikanische Vereinigung für Kinderheilkunde (APP) nennt diese grausame Praxis „staatlich sanktionierte Kindesmisshandlung, die irreparable Schäden mit lebenslangen Folgen hervorrufen könne“. Die Idee, dass ein Staat versucht, Eltern dadurch abzuschrecken, indem Kindern eine solche Misshandlung zugefügt wird, ist skrupellos. Ich rufe die Vereinigten Staaten auf, unverzüglich die Praxis der gewaltsamen Trennung dieser Kinder zu beenden, und ich ermutige die Regierung, endlich die UN-Konvention für die Rechte der Kinder zu ratifizieren, um sicherzustellen, dass die fundamentalen Rechte aller Kinder, gleich welchen administrativen Status, im Zentrum aller öffentlichen Gesetze und Politik stehen.“>>Andere Sputnik-Artikel: Trump will Migranten „von überall her“Diskussion\"',\n",
              "  'OVER-THRESHOLD',\n",
              "  'einwanderer migranten',\n",
              "  '980',\n",
              "  '0.533417092483392'],\n",
              " ['http://de.sputniknews.compolitik/20180914322316830-eu-ungarn-grenzen-kontrolle',\n",
              "  'http://web.archive.org/web/20180914185523/https://de.sputniknews.com/amp/politik/20180914322316830-eu-ungarn-grenzen-kontrolle/',\n",
              "  '20180914',\n",
              "  'EU will Ungarn „Recht auf Kontrolle eigener Grenzen entziehen” – Orban',\n",
              "  'Das EU-Rechtsstaatsverfahren gegen Ungarn stellt nicht die „geringste Gefahr“ für das Land dar, wie Ungarns Ministerpräsident Viktor Orban in einem Interview mit dem Radiosender Kossuth erklärte. Am vergangenen Mittwoch hat das Europäische Parlament dem Antrag auf ein Strafverfahren gegen Ungarn wegen Verstößen gegen europäische Normen und Prinzipien der Rechtshoheit zugestimmt. Das Europaparlament behandelt erstmals ein Dokument, in\\xa0dem es um die Anwendung von Artikel 7 des EU-Vertrages gegen Ungarn geht. >>>Weitere Sputnik-Artikel: „Dafür würde ich aus dem Amt gejagt“ – Orban zu Merkels Flüchtlingspolitik  „Sie (die EU – Anm. d. Red.) haben einen Plan: Wenn sie Ungarn nicht zur Aufnahme von Flüchtlingen zwingen können, werden sie dem Land das Recht auf Kontrolle der eigenen Grenzen entziehen“, sagte Orban. In Brüssel werden die ungarischen Behörden vor allem für die Weigerung kritisiert, die Entscheidungen der Europäischen Union im Bereich Migrationspolitik zu erfüllen. Mitte Juli hatte die Europäische Kommission beim Europäischen Gerichtshof bereits eine Beschwerde gegen Ungarn eingereicht, da es die EU-Vorschriften zur Asylgewährung für Flüchtlinge nicht befolgt hatte. >>>Weitere Sputnik-Artikel: EU-Kommission reicht beim Europäischen Gerichtshof Klage gegen Ungarn ein',\n",
              "  'OVER-THRESHOLD',\n",
              "  'flüchtlingen flüchtlingspolitik flüchtlinge',\n",
              "  '179',\n",
              "  '0.532563413304608'],\n",
              " ['http://de.sputniknews.com/german.ruvr.ru/2013_11_06/Festung-Europa-von-Migranten-und-Fluchtlingen-3563',\n",
              "  'http://web.archive.org/web/20150722052852/http://de.sputniknews.com/german.ruvr.ru/2013_11_06/Festung-Europa-von-Migranten-und-Fluchtlingen-3563/',\n",
              "  '20131106',\n",
              "  'Festung Europa - von Migranten und Flüchtlingen',\n",
              "  'Foto: Aziz Bozkurt STIMME RUSSLANDS Flüchtlinge im Hungerstreik vor dem Brandenburger Tor, Tote in Lampedusa, unerwünschte Asylanten in Hellersdorf und Schneeberg, von Abschiebung bedrohte Asylbewerber in Hamburg. Schottet Europa sich ab? Nimmt Deutschland genug Flüchtlinge auf? Auf diese und andere Fragen antwortet bei uns im Studio Aziz Bozkurt, Landesvorsitzender der AG Migration und Vielfalt in der SPD Berlin.',\n",
              "  'OVER-THRESHOLD',\n",
              "  'migration asylbewerber flüchtlinge',\n",
              "  '61',\n",
              "  '0.532312736405033'],\n",
              " ['http://de.sputniknews.companorama/20170715316608060-fluechtlinge-selbstanzeigen-terror',\n",
              "  'http://web.archive.org/web/20170715150527/https://de.sputniknews.com/amp/panorama/20170715316608060-fluechtlinge-selbstanzeigen-terror/',\n",
              "  '20170715',\n",
              "  'Selbstanzeigen unter Flüchtlingen „wegen Terrors“ wuchern – aus bizarrem Grund',\n",
              "  'Mehr als 408.000 Asylanträge hat das Bundesamt für Migration und Flüchtlinge (BAMF) im ersten Halbjahr 2017 entschieden – rund 44 Prozent mehr als im gleichen Zeitraum des Vorjahres, berichtet die „Welt“. „Mit den Selbstanzeigen wegen Terrors in\\xa0laufenden Asylverfahren ist eine massive neue Belastung auf die Strafverfolgungsbehörden zugekommen“, so Stuttgarts Generalstaatsanwalt Achim Brauneisen.  Wie die „Welt“ schreibt, wollen viele Asylbewerber mit der Selbstbezichtigung einer Zwangsmitgliedschaft in\\xa0einer islamistischen Gruppierung der Abschiebung entgehen. Dabei würden sie auf den sogenannten subsidiären Schutz hoffen. Der subsidiäre Schutz ist dann gewährt, wenn die Rückkehr eines Asylbewerbers ins Heimatland zu gefährlich ist. Genauer gesagt, wenn ein Ausländer stichhaltige Gründe für die Annahme vorgebracht hat, dass ihm in\\xa0seinem Herkunftsland ein schwerer Schaden droht – beispielsweise Todesstrafe, Folter, unmenschliche oder erniedrigende Behandlung bzw. Bestrafung.',\n",
              "  'OVER-THRESHOLD',\n",
              "  'asylanträge migration asylbewerber flüchtlinge',\n",
              "  '128',\n",
              "  '0.53192302021476']]"
            ]
          },
          "metadata": {},
          "execution_count": 37
        }
      ]
    },
    {
      "cell_type": "code",
      "metadata": {
        "id": "Dlp5M072wWn_",
        "colab": {
          "base_uri": "https://localhost:8080/"
        },
        "outputId": "75ea0f78-83d9-490d-ee96-f7e613f58376"
      },
      "source": [
        "len(savelist)"
      ],
      "execution_count": null,
      "outputs": [
        {
          "output_type": "execute_result",
          "data": {
            "text/plain": [
              "20"
            ]
          },
          "metadata": {},
          "execution_count": 38
        }
      ]
    },
    {
      "cell_type": "code",
      "metadata": {
        "id": "FqT5ccoTwWn_",
        "colab": {
          "base_uri": "https://localhost:8080/"
        },
        "outputId": "3dfa3263-87a0-41e2-f8c3-7e5c9b291b11"
      },
      "source": [
        "#we can check the items of the list we created\n",
        "article1=savelist[0]\n",
        "print(article1)"
      ],
      "execution_count": null,
      "outputs": [
        {
          "output_type": "stream",
          "name": "stdout",
          "text": [
            "['http://de.sputniknews.compolitik/20160107306965193-Lindner-Merkel-Migrationspolitik-Chaos-Einwanderungsgesetz', 'http://web.archive.org/web/20170227192503/https://de.sputniknews.com/amp/politik/20160107306965193-Lindner-Merkel-Migrationspolitik-Chaos-Einwanderungsgesetz/', '20160107', 'FDP-Chef Lindner: Merkels Flüchtlingspolitik führt Europa ins Chaos', 'Der Satz „Wir schaffen das“ der Bundeskanzlerin ersetze kein Regierungshandeln, so Lindner. Seiner Meinung nach ist ein „rationales, humanitäres, europäisch abgestimmtes Einwanderungsgesetz“ nötig, welches eine systematisierte Registrierung von Flüchtlingen und deren legale Integration ermöglichen würde. Die CDU/CSU-Politiker hatten von Merkel wiederholt gefordert, den Migranten-Zustrom zu begrenzen. Doch die Kanzlerin hat sich bislang geweigert, eine Obergrenze für Flüchtlinge festzulegen, was die Grenzschließung für neu ankommende Migranten bedeuten würde.', 'OVER-THRESHOLD', 'flüchtlingen migranten flüchtlinge', '70', '0.572646110198091']\n"
          ]
        }
      ]
    },
    {
      "cell_type": "code",
      "metadata": {
        "id": "xRwGbMj0wWoC",
        "colab": {
          "base_uri": "https://localhost:8080/",
          "height": 35
        },
        "outputId": "9ba4e135-57a4-46ac-cb2a-759e9e7cbb1d"
      },
      "source": [
        "#access items from a list\n",
        "article1[2]"
      ],
      "execution_count": null,
      "outputs": [
        {
          "output_type": "execute_result",
          "data": {
            "text/plain": [
              "'20160107'"
            ],
            "application/vnd.google.colaboratory.intrinsic+json": {
              "type": "string"
            }
          },
          "metadata": {},
          "execution_count": 40
        }
      ]
    },
    {
      "cell_type": "code",
      "source": [],
      "metadata": {
        "id": "BHrmtKFnrhKs"
      },
      "execution_count": null,
      "outputs": []
    },
    {
      "cell_type": "markdown",
      "metadata": {
        "id": "3l2ozUvKpmVJ"
      },
      "source": [
        "#  Load several texts\n"
      ]
    },
    {
      "cell_type": "markdown",
      "source": [
        "## Glob Module "
      ],
      "metadata": {
        "id": "zObnt5IyroMo"
      }
    },
    {
      "cell_type": "code",
      "execution_count": null,
      "metadata": {
        "collapsed": true,
        "id": "tFLbAndKpmVJ"
      },
      "outputs": [],
      "source": [
        "import glob"
      ]
    },
    {
      "cell_type": "markdown",
      "metadata": {
        "id": "kot54FlIpmVK"
      },
      "source": [
        "### Lets print the filenames in a certain folder"
      ]
    },
    {
      "cell_type": "code",
      "execution_count": null,
      "metadata": {
        "id": "M6ONNnxNpmVK",
        "colab": {
          "base_uri": "https://localhost:8080/"
        },
        "outputId": "1d1bacf5-b6b7-4e7d-a7c0-b031c81ea4df"
      },
      "outputs": [
        {
          "output_type": "stream",
          "name": "stdout",
          "text": [
            "/content/drive/MyDrive/Colab Notebooks/Oxford Text Analysis 22/Python QTA Drive Oxford 2022/Data/Data Day 4/text1.txt\n",
            "/content/drive/MyDrive/Colab Notebooks/Oxford Text Analysis 22/Python QTA Drive Oxford 2022/Data/Data Day 4/text2.txt\n",
            "/content/drive/MyDrive/Colab Notebooks/Oxford Text Analysis 22/Python QTA Drive Oxford 2022/Data/Data Day 4/text3.txt\n",
            "/content/drive/MyDrive/Colab Notebooks/Oxford Text Analysis 22/Python QTA Drive Oxford 2022/Data/Data Day 4/text4.txt\n",
            "/content/drive/MyDrive/Colab Notebooks/Oxford Text Analysis 22/Python QTA Drive Oxford 2022/Data/Data Day 4/text5.txt\n",
            "/content/drive/MyDrive/Colab Notebooks/Oxford Text Analysis 22/Python QTA Drive Oxford 2022/Data/Data Day 4/text6.txt\n",
            "/content/drive/MyDrive/Colab Notebooks/Oxford Text Analysis 22/Python QTA Drive Oxford 2022/Data/Data Day 4/text7.txt\n",
            "/content/drive/MyDrive/Colab Notebooks/Oxford Text Analysis 22/Python QTA Drive Oxford 2022/Data/Data Day 4/text8.txt\n",
            "/content/drive/MyDrive/Colab Notebooks/Oxford Text Analysis 22/Python QTA Drive Oxford 2022/Data/Data Day 4/text9.txt\n",
            "/content/drive/MyDrive/Colab Notebooks/Oxford Text Analysis 22/Python QTA Drive Oxford 2022/Data/Data Day 4/text10.tsv\n",
            "/content/drive/MyDrive/Colab Notebooks/Oxford Text Analysis 22/Python QTA Drive Oxford 2022/Data/Data Day 4/sputnik11.txt\n",
            "/content/drive/MyDrive/Colab Notebooks/Oxford Text Analysis 22/Python QTA Drive Oxford 2022/Data/Data Day 4/text10\n",
            "/content/drive/MyDrive/Colab Notebooks/Oxford Text Analysis 22/Python QTA Drive Oxford 2022/Data/Data Day 4/trump.json\n"
          ]
        }
      ],
      "source": [
        "\n",
        "for fname in glob.glob(\"/content/drive/MyDrive/Colab Notebooks/Oxford Text Analysis 22/Python QTA Drive Oxford 2022/Data/Data Day 4/*\"):\n",
        "    print(fname)"
      ]
    },
    {
      "cell_type": "markdown",
      "metadata": {
        "id": "mhd3KKyIpmVK"
      },
      "source": [
        "### How do we only filter txt files?"
      ]
    },
    {
      "cell_type": "code",
      "execution_count": null,
      "metadata": {
        "id": "ukQUIOpjpmVK",
        "colab": {
          "base_uri": "https://localhost:8080/"
        },
        "outputId": "ab35645b-c425-47a1-a7de-da60e3a99304"
      },
      "outputs": [
        {
          "output_type": "stream",
          "name": "stdout",
          "text": [
            "/content/drive/MyDrive/Colab Notebooks/Oxford Text Analysis 22/Python QTA Drive Oxford 2022/Data/Data Day 4/text1.txt\n",
            "/content/drive/MyDrive/Colab Notebooks/Oxford Text Analysis 22/Python QTA Drive Oxford 2022/Data/Data Day 4/text2.txt\n",
            "/content/drive/MyDrive/Colab Notebooks/Oxford Text Analysis 22/Python QTA Drive Oxford 2022/Data/Data Day 4/text3.txt\n",
            "/content/drive/MyDrive/Colab Notebooks/Oxford Text Analysis 22/Python QTA Drive Oxford 2022/Data/Data Day 4/text4.txt\n",
            "/content/drive/MyDrive/Colab Notebooks/Oxford Text Analysis 22/Python QTA Drive Oxford 2022/Data/Data Day 4/text5.txt\n",
            "/content/drive/MyDrive/Colab Notebooks/Oxford Text Analysis 22/Python QTA Drive Oxford 2022/Data/Data Day 4/text6.txt\n",
            "/content/drive/MyDrive/Colab Notebooks/Oxford Text Analysis 22/Python QTA Drive Oxford 2022/Data/Data Day 4/text7.txt\n",
            "/content/drive/MyDrive/Colab Notebooks/Oxford Text Analysis 22/Python QTA Drive Oxford 2022/Data/Data Day 4/text8.txt\n",
            "/content/drive/MyDrive/Colab Notebooks/Oxford Text Analysis 22/Python QTA Drive Oxford 2022/Data/Data Day 4/text9.txt\n",
            "/content/drive/MyDrive/Colab Notebooks/Oxford Text Analysis 22/Python QTA Drive Oxford 2022/Data/Data Day 4/sputnik11.txt\n"
          ]
        }
      ],
      "source": [
        "for fname in glob.glob(\"/content/drive/MyDrive/Colab Notebooks/Oxford Text Analysis 22/Python QTA Drive Oxford 2022/Data/Data Day 4/*.txt\"):\n",
        "    print(fname)"
      ]
    },
    {
      "cell_type": "markdown",
      "metadata": {
        "id": "O-LLCeJApmVK"
      },
      "source": [
        "### we want the files that have the same name"
      ]
    },
    {
      "cell_type": "code",
      "execution_count": null,
      "metadata": {
        "id": "9hmtE46YpmVK",
        "colab": {
          "base_uri": "https://localhost:8080/"
        },
        "outputId": "450d2c65-7e3f-4675-b3da-b42363447d16"
      },
      "outputs": [
        {
          "output_type": "stream",
          "name": "stdout",
          "text": [
            "//content/drive/MyDrive/Colab Notebooks/Oxford Text Analysis 22/Python QTA Drive Oxford 2022/Data/Data Day 4/text1.txt\n",
            "//content/drive/MyDrive/Colab Notebooks/Oxford Text Analysis 22/Python QTA Drive Oxford 2022/Data/Data Day 4/text2.txt\n",
            "//content/drive/MyDrive/Colab Notebooks/Oxford Text Analysis 22/Python QTA Drive Oxford 2022/Data/Data Day 4/text3.txt\n",
            "//content/drive/MyDrive/Colab Notebooks/Oxford Text Analysis 22/Python QTA Drive Oxford 2022/Data/Data Day 4/text4.txt\n",
            "//content/drive/MyDrive/Colab Notebooks/Oxford Text Analysis 22/Python QTA Drive Oxford 2022/Data/Data Day 4/text5.txt\n",
            "//content/drive/MyDrive/Colab Notebooks/Oxford Text Analysis 22/Python QTA Drive Oxford 2022/Data/Data Day 4/text6.txt\n",
            "//content/drive/MyDrive/Colab Notebooks/Oxford Text Analysis 22/Python QTA Drive Oxford 2022/Data/Data Day 4/text7.txt\n",
            "//content/drive/MyDrive/Colab Notebooks/Oxford Text Analysis 22/Python QTA Drive Oxford 2022/Data/Data Day 4/text8.txt\n",
            "//content/drive/MyDrive/Colab Notebooks/Oxford Text Analysis 22/Python QTA Drive Oxford 2022/Data/Data Day 4/text9.txt\n"
          ]
        }
      ],
      "source": [
        "for filename in glob.glob(\"//content/drive/MyDrive/Colab Notebooks/Oxford Text Analysis 22/Python QTA Drive Oxford 2022/Data/Data Day 4/text?.txt\"):\n",
        "    print(filename)"
      ]
    },
    {
      "cell_type": "code",
      "source": [],
      "metadata": {
        "id": "7QCt45kZnMNv"
      },
      "execution_count": null,
      "outputs": []
    },
    {
      "cell_type": "markdown",
      "source": [
        "**load all files and save content in a list**"
      ],
      "metadata": {
        "id": "eK9IVv2snMuR"
      }
    },
    {
      "cell_type": "code",
      "execution_count": null,
      "metadata": {
        "collapsed": true,
        "id": "VfbfjMulpmVL",
        "colab": {
          "base_uri": "https://localhost:8080/"
        },
        "outputId": "1693af76-24d7-41b1-f071-51475e78e0e7"
      },
      "outputs": [
        {
          "output_type": "stream",
          "name": "stdout",
          "text": [
            "text2.txt:\n",
            "\"http://de.sputniknews.com/panorama/20150210/301052523.html\"\t\"http://web.archive.org/web/20150315163311/http://de.sputniknews.com/panorama/20150210/301052523.html\"\t20150210\t\"Experte: Rund 1,3 Millionen wehrpflichtige Ukrainer nach Russland geflüchtet\"\t\"In letzter Zeit sei knapp einer halben Million ukrainischer Bürger der Flüchtlingsstatus zuerkannt beziehungsweise befristetes Asyl gewährt worden. „Russland hat keine Pläne, die Grenze für andere zu schließen.“ Zugleich räumte Patruschew erhebliche Probleme bei der Unterbringung immer wieder eintreffender Flüchtlinge ein.\"\t\"OVER-THRESHOLD\"\t\"flüchtlingsstatus asyl flüchtlinge\"\t43\t0.549349509077681\n",
            "\n",
            "\n",
            "text5.txt:\n",
            "\"http://de.sputniknews.compolitik/20160306308285650-oesterreich-draengt-auf-deutsches-fluechtlingskontingent\"\t\"http://web.archive.org/web/20181126055753/https://de.sputniknews.com/amp/politik/20160306308285650-oesterreich-draengt-auf-deutsches-fluechtlingskontingent/\"\t20160306\t\"Österreich drängt auf deutsches Flüchtlingskontingent\"\t\"{                    \\\"vars\\\": {                        \\\"counterId\\\": \\\"27090206\\\"                    }                }                                    {                            \\\"requests\\\": {                                \\\"pageview\\\": \\\"http://web.archive.org/web/20181126055753/https://counter.yadro.ru/hit;RS_Total/Sputniki_Total/Sputniknews?u${ampdocUrl};r${documentReferrer};s${screenWidth}*${screenHeight}*32;h${title};${random}\\\"                            },                            \\\"triggers\\\": {                                \\\"track pageview\\\": {                                    \\\"on\\\": \\\"visible\\\",                                    \\\"request\\\": \\\"pageview\\\"                                }                            }                        }                    Alle NachrichtenPolitik                        ©                    AP Photo/ Boris Grdanoski Österreich drängt auf deutsches Flüchtlingskontingent09:56 06.03.2016(aktualisiert  09:57 06.03.2016) Zum KurzlinkDer österreichische Bundeskanzler Werner Faymann hat von Deutschland gefordert, eine Flüchtlingsquote von 400.000 Personen im Jahr einzuführen. Wenn alle EU-Länder dem Beispiel Österreichs folgen würden, könnte die EU, so Faymann, zwei Millionen Flüchtlinge aufnehmen.Im Jahr 2015 hatten etwa 90.000 Menschen in Österreich Asyl beantragt. 2016 will die Regierung die Zahl der positiv beschiedenen Asylanträge auf 37.500 beschränken.                        ©                    AFP 2018/ JOHN MACDOUGALLBundeskanzler Faymann: Merkel sollte Tageskontingente für Flüchtlinge einführen„Deutschland muss endlich Klarheit schaffen, sonst werden weiterhin Flüchtlinge Richtung Deutschland losziehen … Nimmt man den österreichischen Richtwert her, könnte Deutschland rund 400.000 Flüchtlinge als Kontingent nennen“, sagte Faymann im Gespräch mit der Zeitung Kurier.Im Jahr 2015 sind nach Angaben der Agentur Frontex rund 1,8 Million Migranten nach Europa gekommen. Experten zufolge handelt es sich um die größte Flüchtlingskrise seit dem Zweiten Weltkrieg.Diskussion\"\t\"OVER-THRESHOLD\"\t\"asyl flüchtlinge migranten asylanträge flüchtlingskrise\"\t699\t0.547926894577753\n",
            "\n",
            "\n",
            "text8.txt:\n",
            "\"http://de.sputniknews.compolitik/20180813321937555-syrien-deutschland-fluechtlinge-rueckkehr-sanktionen\"\t\"http://web.archive.org/web/20180813172522/https://de.sputniknews.com/amp/politik/20180813321937555-syrien-deutschland-fluechtlinge-rueckkehr-sanktionen/\"\t20180813\t\"Rückkehr von Flüchtlingen: Syrischer Minister appelliert an Deutschland\"\t\"Der syrische Minister für lokale Verwaltung und Umwelt Hussein Makhlouf hat über Journalisten Deutschland zur Aufhebung der Sanktionen gegen Damaskus aufgerufen. Dies soll laut dem Politiker die Rückkehr der syrischen Flüchtlinge in ihre Heimat fördern. „Ich möchte mich über Sie an die deutsche Regierung wenden und bitten, die einseitigen Sanktionen gegen Syrien aufzuheben“, sagte Makhlouf sich an einen deutschen Journalisten wendend auf einer Pressekonferenz. Mehr zum Thema >>> UN-Flüchtlingskommissar tritt gegen Rückkehr von Flüchtlingen nach Syrien auf  Makhlouf, der auch Chef des syrischen Koordinierungsausschusses für Rückkehr der Flüchtlinge ist, betonte, im Fall einer Aufhebung der Sanktionen werde die Rückkehr der Flüchtlinge beschleunigt. Dies würde den Wideraufbau des Landes fördern. Mehr zum Thema >>> Russland forciert Rückkehr von Syrien-Flüchtlingen Zuvor hatte das russische Zentrum für Aufnahme, Verteilung und Unterbringung beim russischen Verteidigungsministerium mitgeteilt, mehr als 1,7 Millionen Syrer hätten den Wunsch geäußert, aus neun Gastländern in ihre Heimat zurückzukehren. Die meisten Heimkehrwilligen halten sich jetzt im Libanon, in der Türkei und in Deutschland auf.\"\t\"OVER-THRESHOLD\"\t\"flüchtlingen flüchtlinge\"\t163\t0.543706912424414\n",
            "\n",
            "\n",
            "text6.txt:\n",
            "\"http://de.sputniknews.compolitik/20151016304983995-warschau-gegen-merkels-fluechtlingsquote\"\t\"http://web.archive.org/web/20181123212339/https://de.sputniknews.com/amp/politik/20151016304983995-warschau-gegen-merkels-fluechtlingsquote/\"\t20151016\t\"Migrationskrise: Warschau wehrt sich gegen Merkels Flüchtlingsquote\"\t\"{                    \\\"vars\\\": {                        \\\"counterId\\\": \\\"27090206\\\"                    }                }                                    {                            \\\"requests\\\": {                                \\\"pageview\\\": \\\"http://web.archive.org/web/20181123212339/https://counter.yadro.ru/hit;RS_Total/Sputniki_Total/Sputniknews?u${ampdocUrl};r${documentReferrer};s${screenWidth}*${screenHeight}*32;h${title};${random}\\\"                            },                            \\\"triggers\\\": {                                \\\"track pageview\\\": {                                    \\\"on\\\": \\\"visible\\\",                                    \\\"request\\\": \\\"pageview\\\"                                }                            }                        }                    Alle NachrichtenPolitik                        ©                    REUTERS/ Fabrizio Bensch/FilesMigrationskrise: Warschau wehrt sich gegen Merkels Flüchtlingsquote15:10 16.10.2015Zum KurzlinkPolen tritt scharf gegen die von Angela Merkel vorgeschlagene, permanente und verpflichtende Verteilungsquote von Flüchtlingen unter EU-Ländern auf und wird dabei nicht nachgeben, wie Polens Außenminister Grzegorz Schetyna gegenüber dem Radiosender RMF FM erklärte.                        ©                    AFP 2018/ Frederick FlorinFlüchtlingskrise: Merkel und Hollande werben gemeinsam für Solidarität in EU“Wir werden nicht nachgeben. Wir bilden eine entscheidende Mehrheit in der EU”, unterstrich Schetyna.Dem Außenminister zufolge sei die Flüchtlingssituation ein Problem der deutschen Innenpolitik, „deswegen werden stets Versuche unternommen, ein besseres Bild und Image zu schaffen“. „Dies beeinflusst jedoch keinesfalls europäische Entscheidungen“, so Schetyna weiter.„Wenn Europa sagt, dass wir sie (Flüchtlinge – d. Red.) weiterhin unter uns aufteilen und uns Quoten neuer Migrationsströme aufzwingen werden, wird es eine Katastrophe geben. Wir werden dem nicht zustimmen“, erklärte Polens Minister.                        ©                    REUTERS/ Kai PfaffenbachFlüchtlingskrise: Osteuropäer lehnen sich gegen EU-Kurs aufSchetyna ist der Ansicht, dass Europa in erster Linie „eine Entscheidung über den Schutz von Außengrenzen sowie über Verteilungszentren, die politische Migranten aus dem Nahen Osten registrieren müssen, treffen, nicht aber einen automatischen Verteilungsmechanismus einführen soll“. Letzteren bezeichnete der Minister als Unsinn.Allein bis zum September sind laut der EU-Grenzschutzagentur „Frontex“ rund 630.000 Flüchtlinge in die EU gekommen. Die EU-Kommission spricht von der schlimmsten Migrationskrise seit dem Zweiten Weltkrieg.Diskussion\"\t\"OVER-THRESHOLD\"\t\"flüchtlingen migrationskrise migranten flüchtlinge\"\t805\t0.544957398675781\n",
            "\n",
            "\n",
            "text4.txt:\n",
            "\"http://de.sputniknews.compolitik/20181109322907058-trump-usa-asyl\"\t\"http://web.archive.org/web/20181123020955/https://de.sputniknews.com/amp/politik/20181109322907058-trump-usa-asyl/\"\t20181109\t\"Trump beschränkt drastisch Asylgewährung für illegale Migranten\"\t\"{                    \\\"vars\\\": {                        \\\"counterId\\\": \\\"27090206\\\"                    }                }                                    {                            \\\"requests\\\": {                                \\\"pageview\\\": \\\"http://web.archive.org/web/20181123020955/https://counter.yadro.ru/hit;RS_Total/Sputniki_Total/Sputniknews?u${ampdocUrl};r${documentReferrer};s${screenWidth}*${screenHeight}*32;h${title};${random}\\\"                            },                            \\\"triggers\\\": {                                \\\"track pageview\\\": {                                    \\\"on\\\": \\\"visible\\\",                                    \\\"request\\\": \\\"pageview\\\"                                }                            }                        }                    Alle NachrichtenPolitik                        ©                    REUTERS/ Jose CabezasTrump beschränkt drastisch Asylgewährung für illegale Migranten15:43 09.11.2018(aktualisiert  17:36 09.11.2018) Zum KurzlinkUS-Präsident Donald Trump hat die Asylgewährung für illegale Migranten drastisch eingeschränkt. Das teilte der Staatschef vor der Presse mit.Wie Trump vor Journalisten sagte, hat er „gerade“ ein entsprechendes Dekret unterzeichnet. Demnach sollen nur noch Menschen Asyl beantragen können, die an einem offiziellen Grenzübergang in die USA einreisen. Illegal Eingereiste würden kein Asyl beantragen dürfen.>>> Weitere Sputnik-Artikel: Trump erklärt, warum USA Migranten brauchen                        ©                    REUTERS/ Leah MillisTrump droht mit Schließung der Grenze zu MexikoDie Verweigerung des Rechts auf einen Asylantrag für illegale Migranten sei zeitweilig und betreffe die Ausländer, die die südliche US-Grenze zu Mexiko gesetzwidrig überschreiten würden, geht aus Trumps Proklamation hervor.„Ich treffe befristete Maßnahmen zum Einreisestopp für Ausländer, um das Problem der großen Anzahl von Migranten zu lösen, die über Mexiko kommen, um in unser Land ohne richtige Dokumente einzureisen“.>>> Weitere Sputnik-Artikel: Bundestag beschließt Verschärfung des Asylgesetzes                        ©                    AFP 2018/ GERARD JULIENMauer reloaded: EU-Staaten errichten sechs neue „Berliner Mauern“Ein Einwanderer könne dennoch Asyl beantragen, wenn er sich an die US-Grenzbehörden wende, statt zu versuchen, in die USA illegal zu gelangen.Laut Trump haben die ankommenden Migranten in der Regel keine legalen Gründe, Asyl zu beantragen. Die Ankunft von einer großen Anzahl von Ausländern werde das US-Immigrationssystem überlasten und zur „Freilassung\\\" von Tausenden Ausländern innerhalb der USA“ führen.Zuvor hatte das US-Verteidigungsministerium seine Bereitschaft erklärt, bis zu 7000 Militärangehörige an der Grenze zwischen den USA und Mexiko zu stationieren. Trump verkündete, bis zu 15.000 Soldaten an die Grenze zu schicken, wo sich bereits 2100 Mitglieder der Nationalgarde der Vereinigten Staaten befinden.>>> Weitere Sputnik-Artikel: „Kein Menschenrecht auf Migration“: Österreich verlässt UN-Migrationspakt                        ©                    REUTERS/ Carlos Garcia RawlinsMigranten vs. US-Armee: Wer sind die Drahtzieher der Flüchtlingskarawane?Die Maßnahmen werden getroffen, weil eine Karawane mit Tausenden Menschen aus zentralamerikanischen Ländern sich den USA über das Territorium von Mexiko nähert. Weitere zwei Migrantengruppen bewegen sich aus Salvador in Richtung USA.Nach Informationen der Nachrichtenagentur France-Presse bezeichnete die Bürgerrechtsorganisation American Civil Liberties Union die Pläne für eine Verschärfung des Asylrechts am Donnerstag als „illegal“. Das US-Recht erlaube Menschen einen Asylantrag unabhängig davon zu stellen, ob sie sich an einem Grenzübergang befinden oder nicht. Dies könne nicht durch ein Dekret „umgangen“ werden.Diskussion\"\t\"OVER-THRESHOLD\"\t\"einwanderer migranten asyl\"\t998\t0.548636683559343\n",
            "\n",
            "\n",
            "text3.txt:\n",
            "\"http://de.sputniknews.compolitik/20181117322994742-deutschland-spd-nahles-hartz-iv\"\t\"http://web.archive.org/web/20181117160304/https://de.sputniknews.com/amp/politik/20181117322994742-deutschland-spd-nahles-hartz-iv/\"\t20181117\t\"So präzisiert Nahles ihre Idee für Hartz IV-Alternative\"\t\"{                    \\\"vars\\\": {                        \\\"counterId\\\": \\\"27090206\\\"                    }                }                                    {                            \\\"requests\\\": {                                \\\"pageview\\\": \\\"http://web.archive.org/web/20181117160304/https://counter.yadro.ru/hit;RS_Total/Sputniki_Total/Sputniknews?u${ampdocUrl};r${documentReferrer};s${screenWidth}*${screenHeight}*32;h${title};${random}\\\"                            },                            \\\"triggers\\\": {                                \\\"track pageview\\\": {                                    \\\"on\\\": \\\"visible\\\",                                    \\\"request\\\": \\\"pageview\\\"                                }                            }                        }                    Alle NachrichtenPolitik                        ©                    REUTERS/ Hannibal HanschkeSo präzisiert Nahles ihre Idee für Hartz IV-Alternative12:51 17.11.2018(aktualisiert  13:05 17.11.2018) Zum KurzlinkDie SPD-Parteichefin Andrea Nahles hat in einem Gastbeitrag für die „Frankfurter Allgemeine Zeitung“ eine Ablösung des Hartz-IV-Systems durch höhere Mindestlöhne, Zuschüsse zu Sozialabgaben und Steuerboni gefordert.Beim Debattencamp in Berlin vor einer Woche kündigte Nahles einen Komplettumbau des Sozialstaates sowie die Abschaffung von Hartz IV an, dessen monatlicher Satz 416 Euro beträgt. Nun konkretisiert sie ihre Vorstellungen: Viel weniger Menschen als heute sollen auf Grundsicherung angewiesen sein – es sei immer günstiger, Arbeit anstatt Arbeitslosigkeit zu finanzieren.>>>Weitere Sputnik-Artikel: EXKLUSIV: „Mein Schmerzpunkt“ – Ex-Partei-Chef übt Kritik an Politik der Grünen<<<                        ©                    AFP 2018/ DPA/ Arne Dedert„So verhindert Politik bedingungsloses Grundeinkommen“: Ex-Grünen-Chef – EXKLUSIVVor allem die Zahl von zwei Millionen Kindern, die in Hartz-IV-Haushalten lebten, müsse verringert werden. „Diese Erfahrung, ein ‚Hartz-IV-Kind‘ zu sein, prägt fürs Leben. Wir brauchen daher eine eigenständige Kindergrundsicherung, die Kinder aus der Sozialhilfe holt und Teilhabe schafft“, zitieren Nahles deutsche Medien.Ein besseres Wohngeld könne zudem verhindern, „dass Menschen angesichts explodierender Mieten in die Grundsicherung getrieben werden“. Nahles kritisierte außerdem das in der SPD-Kanzlerschaft vom Altkanzler Gerhard Schröder eingeführte System der Zusammenlegung von Arbeitslosen- und Sozialhilfe und forderte weniger Bürokratie und Härte.>>>Weitere Sputnik-Artikel: Schon wieder Bulgarien – Illegale Migration durch tausendfachen Verkauf von EU-Pässen<<<                        ©                    AP Photo/ Martin Meissner„Wir werden Hartz IV hinter uns lassen“: Nahles verspricht Komplettumbau des Sozialstaates„Zum Symbol für das Misstrauen des Staates gegenüber den Grundsicherungsbeziehern sind die Sanktionen geworden. Sie wirken, als würde den Leistungsbeziehern von vornherein unterstellt, betrügen zu wollen“.Der Bundeswirtschaftsminister, Peter Altmaier, wies die SPD-Forderungen nach einer Hartz-IV-Abschaffung in einem Gespräch mit der Zeitung „Die Welt“ zurück.„Wir dürfen und werden Hartz IV nicht abschaffen. Solche Vorschläge sind hoch gefährlich und schaden der Zukunft unseres Landes“, zitieren deutsche Medien den CDU-Politiker.Diskussion\"\t\"OVER-THRESHOLD\"\t\"migration\"\t884\t0.549179266004771\n",
            "\n",
            "\n",
            "text7.txt:\n",
            "\"http://de.sputniknews.comkarikatur/20151020305076281\"\t\"http://web.archive.org/web/20181201153825/https://de.sputniknews.com/amp/karikatur/20151020305076281/\"\t20151020\t\"Flüchtlingskrise: Ist Abriegeln eine Lösung?\"\t\"{                    \\\"vars\\\": {                        \\\"counterId\\\": \\\"27090206\\\"                    }                }                                    {                            \\\"requests\\\": {                                \\\"pageview\\\": \\\"http://web.archive.org/web/20181201153825/https://counter.yadro.ru/hit;RS_Total/Sputniki_Total/Sputniknews?u${ampdocUrl};r${documentReferrer};s${screenWidth}*${screenHeight}*32;h${title};${random}\\\"                            },                            \\\"triggers\\\": {                                \\\"track pageview\\\": {                                    \\\"on\\\": \\\"visible\\\",                                    \\\"request\\\": \\\"pageview\\\"                                }                            }                        }                    Alle NachrichtenKarikaturFlüchtlingskrise: Ist Abriegeln eine Lösung?18:18 20.10.2015Zum KurzlinkThemen: Migrationsproblem in EuropaCSU-Politiker Markus Söder hat kürzlich ins Gespräch gebracht, die deutsche Grenze mit Zäunen abzusichern. Wird Bundeskanzlerin Angela Merkel zum Schließen der Grenzen gezwungen sein? Hält eine strengere Asylpolitik Flüchtlinge auf? Lassen sich Menschen, die vor Fassbomben fliehen, von ein paar Zäunen stoppen? Fragen, Fragen, Fragen...Diskussion\"\t\"OVER-THRESHOLD\"\t\"migrationsproblem asylpolitik flüchtlinge\"\t522\t0.544157704714578\n",
            "\n",
            "\n",
            "sputnik11.txt:\n",
            "\"http://de.sputniknews.companorama/20151228306826925-daenemark-tritt-fuer-veraenderung-der-fluechtlingskonvention\"\t\"http://web.archive.org/web/20181123231931/https://de.sputniknews.com/amp/panorama/20151228306826925-daenemark-tritt-fuer-veraenderung-der-fluechtlingskonvention/\"\t20151228\t\"Dänemark will die Flüchtlingskonvention ändern\"\t\"{                    \\\"vars\\\": {                        \\\"counterId\\\": \\\"27090206\\\"                    }                }                                    {                            \\\"requests\\\": {                                \\\"pageview\\\": \\\"http://web.archive.org/web/20181123231931/https://counter.yadro.ru/hit;RS_Total/Sputniki_Total/Sputniknews?u${ampdocUrl};r${documentReferrer};s${screenWidth}*${screenHeight}*32;h${title};${random}\\\"                            },                            \\\"triggers\\\": {                                \\\"track pageview\\\": {                                    \\\"on\\\": \\\"visible\\\",                                    \\\"request\\\": \\\"pageview\\\"                                }                            }                        }                    Alle NachrichtenPanorama                        ©                    AP Photo/ Joachim LadefogdeDänemark will die Flüchtlingskonvention ändern14:44 28.12.2015(aktualisiert  16:32 28.12.2015) Zum KurzlinkDie Flüchtlingskrise hat Dänemark und Europa vor solche Herausforderungen gestellt, dass nun die UN-Flüchtlingskonvention von 1951 verändert werden muss, wie der dänische Regierungschef Lars Lökke Rasmussen dem Sender TV2 sagte.Wenn die Flüchtlingszahlen weiter ansteigen würden wie bisher, werde der Moment kommen, \\\"in dem wir über eine Anpassung der Spielregeln sprechen müssen\\\", sagte Rasmussen. Die Flüchtlingskonvention in ihrer jetzigen Form entspreche nicht der heutigen globalisierten Welt.Die Konvention definiert den Begriff „Flüchtling“ und die Grundlagen, die für einen Asylantrag erforderlich sind. Einige Rechte, die Flüchtlinge genießen, gleichen denen der Bürger des Aufnahmestaates, andere – denen der Ausländer.                        ©                    REUTERS/ Michaela RehleDänemark besteht auf Konfiskationen: Flüchtlinge sollen Aufenthalt selber bezahlenAls die UN-Flüchtlingskonvention 1951 angenommen wurde, war Dänemark das erste Land, das sie unterzeichnet hat. Nun sei der Ministerpräsident der Auffassung, die von der Konvention auferlegten Verpflichtungen seien eine untragbare Bürde für Dänemark, schreibt die schwedische Zeitung Svenska Dagbladet.Eines der Probleme besteht laut Rasmussen darin, dass verschiedene Gruppen der Flüchtlinge verschiedene Regeln einhalten müssen. So gelten die verschärften Bedingungen für einen Familiennachzug nicht für alle. Die Fristen hängen davon ab, unter welchen Bedingungen das Asyl gewährt wurde.Die von Dänemark getroffenen Maßnahmen für die Reduzierung des Flüchtlingszustroms wirkten „inspirierend“ auf andere Staaten, so der dänische Ministerpräsident. Allerdings dürfe das Asylrecht als solches nicht abgeschafft werden. Dänemark habe nicht vor, alleine die Konvention außer Kraft zu setzen, Dänemark wolle gemeinsam mit anderen Staaten das System von innen verändern, erklärte Rasmussen. Eine der Forderungen könne sein, dass Flüchtlinge in dem Land Asyl beantragen müssten, in dem sie als erstes angekommen seien.                        ©                    AFP 2018/ Bulent KilicDänemark: Flüchtlinge mit mehr als 400 Euro werden zur Kasse gebetenMit Blick vor allem auf die syrischen Flüchtlinge fragte Ramussen: \\\"Wenn jemand, der Schutz vor Krieg sucht, zwei oder drei Jahre in der Türkei gelebt hat, sollte er dann nach Europa gehen und dort Asyl beantragen?\\\" Die geltenden Regeln würden dies ermöglichen. \\\"Aber wir werden darüber eine Diskussion führen\\\", sagte er in dem Fernsehinterview. In der Türkei leben nach Angaben Ankaras etwa zwei Millionen syrische Bürgerkriegsflüchtlinge.Das Wichtigste ist aus der Sicht des dänischen Politikers die Verständigung innerhalb Europas zu gewährleisten und eine einheitliche Sichtweise zu erarbeiten.„Dänemark kann nicht allein handeln, die anderen müssen auch teilnehmen. Ich kann doch ohne Zustimmung der anderen EU-Staaten das Ausweisungssystem nicht beschließen“, sagte Rasmussen.Diskussion\"\t\"OVER-THRESHOLD\"\t\"flüchtlingskrise asyl flüchtlinge\"\t981\t0.541940112273363\n",
            "\n",
            "\n",
            "text9.txt:\n",
            "\"http://de.sputniknews.compolitik/20180813321937555-syrien-deutschland-fluechtlinge-rueckkehr-sanktionen\"\t\"http://web.archive.org/web/20180813172522/https://de.sputniknews.com/amp/politik/20180813321937555-syrien-deutschland-fluechtlinge-rueckkehr-sanktionen/\"\t20180813\t\"Rückkehr von Flüchtlingen: Syrischer Minister appelliert an Deutschland\"\t\"Der syrische Minister für lokale Verwaltung und Umwelt Hussein Makhlouf hat über Journalisten Deutschland zur Aufhebung der Sanktionen gegen Damaskus aufgerufen. Dies soll laut dem Politiker die Rückkehr der syrischen Flüchtlinge in ihre Heimat fördern. „Ich möchte mich über Sie an die deutsche Regierung wenden und bitten, die einseitigen Sanktionen gegen Syrien aufzuheben“, sagte Makhlouf sich an einen deutschen Journalisten wendend auf einer Pressekonferenz. Mehr zum Thema >>> UN-Flüchtlingskommissar tritt gegen Rückkehr von Flüchtlingen nach Syrien auf  Makhlouf, der auch Chef des syrischen Koordinierungsausschusses für Rückkehr der Flüchtlinge ist, betonte, im Fall einer Aufhebung der Sanktionen werde die Rückkehr der Flüchtlinge beschleunigt. Dies würde den Wideraufbau des Landes fördern. Mehr zum Thema >>> Russland forciert Rückkehr von Syrien-Flüchtlingen Zuvor hatte das russische Zentrum für Aufnahme, Verteilung und Unterbringung beim russischen Verteidigungsministerium mitgeteilt, mehr als 1,7 Millionen Syrer hätten den Wunsch geäußert, aus neun Gastländern in ihre Heimat zurückzukehren. Die meisten Heimkehrwilligen halten sich jetzt im Libanon, in der Türkei und in Deutschland auf.\"\t\"OVER-THRESHOLD\"\t\"flüchtlingen flüchtlinge\"\t163\t0.543706912424414\n",
            "\n",
            "\n",
            "text1.txt:\n",
            "\"http://de.sputniknews.compolitik/20160107306965193-Lindner-Merkel-Migrationspolitik-Chaos-Einwanderungsgesetz\"\t\"http://web.archive.org/web/20170227192503/https://de.sputniknews.com/amp/politik/20160107306965193-Lindner-Merkel-Migrationspolitik-Chaos-Einwanderungsgesetz/\"\t20160107\t\"FDP-Chef Lindner: Merkels Flüchtlingspolitik führt Europa ins Chaos\"\t\"Der Satz „Wir schaffen das“ der Bundeskanzlerin ersetze kein Regierungshandeln, so Lindner. Seiner Meinung nach ist ein „rationales, humanitäres, europäisch abgestimmtes Einwanderungsgesetz“ nötig, welches eine systematisierte Registrierung von Flüchtlingen und deren legale Integration ermöglichen würde. Die CDU/CSU-Politiker hatten von Merkel wiederholt gefordert, den Migranten-Zustrom zu begrenzen. Doch die Kanzlerin hat sich bislang geweigert, eine Obergrenze für Flüchtlinge festzulegen, was die Grenzschließung für neu ankommende Migranten bedeuten würde.\"\t\"OVER-THRESHOLD\"\t\"flüchtlingen migranten flüchtlinge\"\t70\t0.572646110198091\n",
            "\n"
          ]
        }
      ],
      "source": [
        "list2=[]\n",
        "for p in Path('/content/drive/MyDrive/Colab Notebooks/Python for Social Data Science/Session 4/Data Day 4').glob('*.txt'):\n",
        "    print(f\"{p.name}:\\n{p.read_text()}\\n\")\n",
        "    text=p.read_text()\n",
        "    list2.append(text)"
      ]
    },
    {
      "cell_type": "code",
      "source": [
        "list2"
      ],
      "metadata": {
        "colab": {
          "base_uri": "https://localhost:8080/"
        },
        "id": "WKFCs5bf7EEy",
        "outputId": "e70a9028-cf98-441e-ecaa-c7fe72092ecd"
      },
      "execution_count": null,
      "outputs": [
        {
          "output_type": "execute_result",
          "data": {
            "text/plain": [
              "['\"http://de.sputniknews.com/panorama/20150210/301052523.html\"\\t\"http://web.archive.org/web/20150315163311/http://de.sputniknews.com/panorama/20150210/301052523.html\"\\t20150210\\t\"Experte: Rund 1,3 Millionen wehrpflichtige Ukrainer nach Russland geflüchtet\"\\t\"In letzter Zeit sei knapp einer halben Million ukrainischer Bürger der Flüchtlingsstatus zuerkannt beziehungsweise befristetes Asyl gewährt worden. „Russland hat keine Pläne, die Grenze für andere zu schließen.“ Zugleich räumte Patruschew erhebliche Probleme bei der Unterbringung immer wieder eintreffender Flüchtlinge ein.\"\\t\"OVER-THRESHOLD\"\\t\"flüchtlingsstatus asyl flüchtlinge\"\\t43\\t0.549349509077681\\n',\n",
              " '\"http://de.sputniknews.compolitik/20160306308285650-oesterreich-draengt-auf-deutsches-fluechtlingskontingent\"\\t\"http://web.archive.org/web/20181126055753/https://de.sputniknews.com/amp/politik/20160306308285650-oesterreich-draengt-auf-deutsches-fluechtlingskontingent/\"\\t20160306\\t\"Österreich drängt auf deutsches Flüchtlingskontingent\"\\t\"{                    \\\\\"vars\\\\\": {                        \\\\\"counterId\\\\\": \\\\\"27090206\\\\\"                    }                }                                    {                            \\\\\"requests\\\\\": {                                \\\\\"pageview\\\\\": \\\\\"http://web.archive.org/web/20181126055753/https://counter.yadro.ru/hit;RS_Total/Sputniki_Total/Sputniknews?u${ampdocUrl};r${documentReferrer};s${screenWidth}*${screenHeight}*32;h${title};${random}\\\\\"                            },                            \\\\\"triggers\\\\\": {                                \\\\\"track pageview\\\\\": {                                    \\\\\"on\\\\\": \\\\\"visible\\\\\",                                    \\\\\"request\\\\\": \\\\\"pageview\\\\\"                                }                            }                        }                    Alle NachrichtenPolitik                        ©                    AP Photo/ Boris Grdanoski Österreich drängt auf deutsches Flüchtlingskontingent09:56 06.03.2016(aktualisiert  09:57 06.03.2016) Zum KurzlinkDer österreichische Bundeskanzler Werner Faymann hat von Deutschland gefordert, eine Flüchtlingsquote von 400.000 Personen im Jahr einzuführen. Wenn alle EU-Länder dem Beispiel Österreichs folgen würden, könnte die EU, so Faymann, zwei Millionen Flüchtlinge aufnehmen.Im Jahr 2015 hatten etwa 90.000 Menschen in Österreich Asyl beantragt. 2016 will die Regierung die Zahl der positiv beschiedenen Asylanträge auf 37.500 beschränken.                        ©                    AFP 2018/ JOHN MACDOUGALLBundeskanzler Faymann: Merkel sollte Tageskontingente für Flüchtlinge einführen„Deutschland muss endlich Klarheit schaffen, sonst werden weiterhin Flüchtlinge Richtung Deutschland losziehen … Nimmt man den österreichischen Richtwert her, könnte Deutschland rund 400.000 Flüchtlinge als Kontingent nennen“, sagte Faymann im Gespräch mit der Zeitung Kurier.Im Jahr 2015 sind nach Angaben der Agentur Frontex rund 1,8 Million Migranten nach Europa gekommen. Experten zufolge handelt es sich um die größte Flüchtlingskrise seit dem Zweiten Weltkrieg.Diskussion\"\\t\"OVER-THRESHOLD\"\\t\"asyl flüchtlinge migranten asylanträge flüchtlingskrise\"\\t699\\t0.547926894577753\\n',\n",
              " '\"http://de.sputniknews.compolitik/20180813321937555-syrien-deutschland-fluechtlinge-rueckkehr-sanktionen\"\\t\"http://web.archive.org/web/20180813172522/https://de.sputniknews.com/amp/politik/20180813321937555-syrien-deutschland-fluechtlinge-rueckkehr-sanktionen/\"\\t20180813\\t\"Rückkehr von Flüchtlingen: Syrischer Minister appelliert an Deutschland\"\\t\"Der syrische Minister für lokale Verwaltung und Umwelt Hussein Makhlouf hat über Journalisten Deutschland zur Aufhebung der Sanktionen gegen Damaskus aufgerufen. Dies soll laut dem Politiker die Rückkehr der syrischen Flüchtlinge in ihre Heimat fördern. „Ich möchte mich über Sie an die deutsche Regierung wenden und bitten, die einseitigen Sanktionen gegen Syrien aufzuheben“, sagte Makhlouf sich an einen deutschen Journalisten wendend auf einer Pressekonferenz. Mehr zum Thema >>> UN-Flüchtlingskommissar tritt gegen Rückkehr von Flüchtlingen nach Syrien auf  Makhlouf, der auch Chef des syrischen Koordinierungsausschusses für Rückkehr der Flüchtlinge ist, betonte, im Fall einer Aufhebung der Sanktionen werde die Rückkehr der Flüchtlinge beschleunigt. Dies würde den Wideraufbau des Landes fördern. Mehr zum Thema >>> Russland forciert Rückkehr von Syrien-Flüchtlingen Zuvor hatte das russische Zentrum für Aufnahme, Verteilung und Unterbringung beim russischen Verteidigungsministerium mitgeteilt, mehr als 1,7 Millionen Syrer hätten den Wunsch geäußert, aus neun Gastländern in\\xa0ihre Heimat zurückzukehren. Die meisten Heimkehrwilligen halten sich jetzt im Libanon, in\\xa0der Türkei und in\\xa0Deutschland auf.\"\\t\"OVER-THRESHOLD\"\\t\"flüchtlingen flüchtlinge\"\\t163\\t0.543706912424414\\n',\n",
              " '\"http://de.sputniknews.compolitik/20151016304983995-warschau-gegen-merkels-fluechtlingsquote\"\\t\"http://web.archive.org/web/20181123212339/https://de.sputniknews.com/amp/politik/20151016304983995-warschau-gegen-merkels-fluechtlingsquote/\"\\t20151016\\t\"Migrationskrise: Warschau wehrt sich gegen Merkels Flüchtlingsquote\"\\t\"{                    \\\\\"vars\\\\\": {                        \\\\\"counterId\\\\\": \\\\\"27090206\\\\\"                    }                }                                    {                            \\\\\"requests\\\\\": {                                \\\\\"pageview\\\\\": \\\\\"http://web.archive.org/web/20181123212339/https://counter.yadro.ru/hit;RS_Total/Sputniki_Total/Sputniknews?u${ampdocUrl};r${documentReferrer};s${screenWidth}*${screenHeight}*32;h${title};${random}\\\\\"                            },                            \\\\\"triggers\\\\\": {                                \\\\\"track pageview\\\\\": {                                    \\\\\"on\\\\\": \\\\\"visible\\\\\",                                    \\\\\"request\\\\\": \\\\\"pageview\\\\\"                                }                            }                        }                    Alle NachrichtenPolitik                        ©                    REUTERS/ Fabrizio Bensch/FilesMigrationskrise: Warschau wehrt sich gegen Merkels Flüchtlingsquote15:10 16.10.2015Zum KurzlinkPolen tritt scharf gegen die von Angela Merkel vorgeschlagene, permanente und verpflichtende Verteilungsquote von Flüchtlingen unter EU-Ländern auf und wird dabei nicht nachgeben, wie Polens Außenminister Grzegorz Schetyna gegenüber dem Radiosender RMF FM erklärte.                        ©                    AFP 2018/ Frederick FlorinFlüchtlingskrise: Merkel und Hollande werben gemeinsam für Solidarität in EU“Wir werden nicht nachgeben. Wir bilden eine entscheidende Mehrheit in\\xa0der EU”, unterstrich Schetyna.Dem Außenminister zufolge sei die Flüchtlingssituation ein Problem der deutschen Innenpolitik, „deswegen werden stets Versuche unternommen, ein besseres Bild und Image zu schaffen“. „Dies beeinflusst jedoch keinesfalls europäische Entscheidungen“, so Schetyna weiter.„Wenn Europa sagt, dass wir sie (Flüchtlinge – d. Red.) weiterhin unter uns aufteilen und uns Quoten neuer Migrationsströme aufzwingen werden, wird es eine Katastrophe geben. Wir werden dem nicht zustimmen“, erklärte Polens Minister.                        ©                    REUTERS/ Kai PfaffenbachFlüchtlingskrise: Osteuropäer lehnen sich gegen EU-Kurs aufSchetyna ist der Ansicht, dass Europa in\\xa0erster Linie „eine Entscheidung über den Schutz von Außengrenzen sowie über Verteilungszentren, die politische Migranten aus dem Nahen Osten registrieren müssen, treffen, nicht aber einen automatischen Verteilungsmechanismus einführen soll“. Letzteren bezeichnete der Minister als Unsinn.Allein bis zum September sind laut der EU-Grenzschutzagentur „Frontex“ rund 630.000 Flüchtlinge in\\xa0die EU gekommen. Die EU-Kommission spricht von der schlimmsten Migrationskrise seit dem Zweiten Weltkrieg.Diskussion\"\\t\"OVER-THRESHOLD\"\\t\"flüchtlingen migrationskrise migranten flüchtlinge\"\\t805\\t0.544957398675781\\n',\n",
              " '\"http://de.sputniknews.compolitik/20181109322907058-trump-usa-asyl\"\\t\"http://web.archive.org/web/20181123020955/https://de.sputniknews.com/amp/politik/20181109322907058-trump-usa-asyl/\"\\t20181109\\t\"Trump beschränkt drastisch Asylgewährung für illegale Migranten\"\\t\"{                    \\\\\"vars\\\\\": {                        \\\\\"counterId\\\\\": \\\\\"27090206\\\\\"                    }                }                                    {                            \\\\\"requests\\\\\": {                                \\\\\"pageview\\\\\": \\\\\"http://web.archive.org/web/20181123020955/https://counter.yadro.ru/hit;RS_Total/Sputniki_Total/Sputniknews?u${ampdocUrl};r${documentReferrer};s${screenWidth}*${screenHeight}*32;h${title};${random}\\\\\"                            },                            \\\\\"triggers\\\\\": {                                \\\\\"track pageview\\\\\": {                                    \\\\\"on\\\\\": \\\\\"visible\\\\\",                                    \\\\\"request\\\\\": \\\\\"pageview\\\\\"                                }                            }                        }                    Alle NachrichtenPolitik                        ©                    REUTERS/ Jose CabezasTrump beschränkt drastisch Asylgewährung für illegale Migranten15:43 09.11.2018(aktualisiert  17:36 09.11.2018) Zum KurzlinkUS-Präsident Donald Trump hat die Asylgewährung für illegale Migranten drastisch eingeschränkt. Das teilte der Staatschef vor der Presse mit.Wie Trump vor Journalisten sagte, hat er „gerade“ ein entsprechendes Dekret unterzeichnet. Demnach sollen nur noch Menschen Asyl beantragen können, die an einem offiziellen Grenzübergang in\\xa0die USA einreisen. Illegal Eingereiste würden kein Asyl beantragen dürfen.>>> Weitere Sputnik-Artikel: Trump erklärt, warum USA Migranten brauchen                        ©                    REUTERS/ Leah MillisTrump droht mit Schließung der Grenze zu MexikoDie Verweigerung des Rechts auf einen Asylantrag für illegale Migranten sei zeitweilig und betreffe die Ausländer, die die südliche US-Grenze zu Mexiko gesetzwidrig überschreiten würden, geht aus Trumps Proklamation hervor.„Ich treffe befristete Maßnahmen zum Einreisestopp für Ausländer, um das Problem der großen Anzahl von Migranten zu lösen, die über Mexiko kommen, um in\\xa0unser Land ohne richtige Dokumente einzureisen“.>>> Weitere Sputnik-Artikel: Bundestag beschließt Verschärfung des Asylgesetzes                        ©                    AFP 2018/ GERARD JULIENMauer reloaded: EU-Staaten errichten sechs neue „Berliner Mauern“Ein Einwanderer könne dennoch Asyl beantragen, wenn er sich an die US-Grenzbehörden wende, statt zu versuchen, in\\xa0die USA illegal zu gelangen.Laut Trump haben die ankommenden Migranten in\\xa0der Regel keine legalen Gründe, Asyl zu beantragen. Die Ankunft von einer großen Anzahl von Ausländern werde das US-Immigrationssystem überlasten und zur „Freilassung\\\\\" von Tausenden Ausländern innerhalb der USA“ führen.Zuvor hatte das US-Verteidigungsministerium seine Bereitschaft erklärt, bis zu 7000 Militärangehörige an der Grenze zwischen den USA und Mexiko zu stationieren. Trump verkündete, bis zu 15.000 Soldaten an die Grenze zu schicken, wo sich bereits 2100 Mitglieder der Nationalgarde der Vereinigten Staaten befinden.>>> Weitere Sputnik-Artikel: „Kein Menschenrecht auf Migration“: Österreich verlässt UN-Migrationspakt                        ©                    REUTERS/ Carlos Garcia RawlinsMigranten vs. US-Armee: Wer sind die Drahtzieher der Flüchtlingskarawane?Die Maßnahmen werden getroffen, weil eine Karawane mit Tausenden Menschen aus zentralamerikanischen Ländern sich den USA über das Territorium von Mexiko nähert. Weitere zwei Migrantengruppen bewegen sich aus Salvador in\\xa0Richtung USA.Nach Informationen der Nachrichtenagentur France-Presse bezeichnete die Bürgerrechtsorganisation American Civil Liberties Union die Pläne für eine Verschärfung des Asylrechts am Donnerstag als „illegal“. Das US-Recht erlaube Menschen einen Asylantrag unabhängig davon zu stellen, ob sie sich an einem Grenzübergang befinden oder nicht. Dies könne nicht durch ein Dekret „umgangen“ werden.Diskussion\"\\t\"OVER-THRESHOLD\"\\t\"einwanderer migranten asyl\"\\t998\\t0.548636683559343\\n',\n",
              " '\"http://de.sputniknews.compolitik/20181117322994742-deutschland-spd-nahles-hartz-iv\"\\t\"http://web.archive.org/web/20181117160304/https://de.sputniknews.com/amp/politik/20181117322994742-deutschland-spd-nahles-hartz-iv/\"\\t20181117\\t\"So präzisiert Nahles ihre Idee für Hartz IV-Alternative\"\\t\"{                    \\\\\"vars\\\\\": {                        \\\\\"counterId\\\\\": \\\\\"27090206\\\\\"                    }                }                                    {                            \\\\\"requests\\\\\": {                                \\\\\"pageview\\\\\": \\\\\"http://web.archive.org/web/20181117160304/https://counter.yadro.ru/hit;RS_Total/Sputniki_Total/Sputniknews?u${ampdocUrl};r${documentReferrer};s${screenWidth}*${screenHeight}*32;h${title};${random}\\\\\"                            },                            \\\\\"triggers\\\\\": {                                \\\\\"track pageview\\\\\": {                                    \\\\\"on\\\\\": \\\\\"visible\\\\\",                                    \\\\\"request\\\\\": \\\\\"pageview\\\\\"                                }                            }                        }                    Alle NachrichtenPolitik                        ©                    REUTERS/ Hannibal HanschkeSo präzisiert Nahles ihre Idee für Hartz IV-Alternative12:51 17.11.2018(aktualisiert  13:05 17.11.2018) Zum KurzlinkDie SPD-Parteichefin Andrea Nahles hat in einem Gastbeitrag für die „Frankfurter Allgemeine Zeitung“ eine Ablösung des Hartz-IV-Systems durch höhere Mindestlöhne, Zuschüsse zu Sozialabgaben und Steuerboni gefordert.Beim Debattencamp in\\xa0Berlin vor einer Woche kündigte Nahles einen Komplettumbau des Sozialstaates sowie die Abschaffung von Hartz IV an, dessen monatlicher Satz 416 Euro beträgt. Nun konkretisiert sie ihre Vorstellungen: Viel weniger Menschen als heute sollen auf Grundsicherung angewiesen sein – es sei immer günstiger, Arbeit anstatt Arbeitslosigkeit zu finanzieren.>>>Weitere Sputnik-Artikel: EXKLUSIV: „Mein Schmerzpunkt“ – Ex-Partei-Chef übt Kritik an Politik der Grünen<<<                        ©                    AFP 2018/ DPA/ Arne Dedert„So verhindert Politik bedingungsloses Grundeinkommen“: Ex-Grünen-Chef – EXKLUSIVVor allem die Zahl von zwei Millionen Kindern, die in Hartz-IV-Haushalten lebten, müsse verringert werden. „Diese Erfahrung, ein ‚Hartz-IV-Kind‘ zu sein, prägt fürs Leben. Wir brauchen daher eine eigenständige Kindergrundsicherung, die Kinder aus der Sozialhilfe holt und Teilhabe schafft“, zitieren Nahles deutsche Medien.Ein besseres Wohngeld könne zudem verhindern, „dass Menschen angesichts explodierender Mieten in\\xa0die Grundsicherung getrieben werden“. Nahles kritisierte außerdem das in\\xa0der SPD-Kanzlerschaft vom Altkanzler Gerhard Schröder eingeführte System der Zusammenlegung von Arbeitslosen- und Sozialhilfe und forderte weniger Bürokratie und Härte.>>>Weitere Sputnik-Artikel: Schon wieder Bulgarien – Illegale Migration durch tausendfachen Verkauf von EU-Pässen<<<                        ©                    AP Photo/ Martin Meissner„Wir werden Hartz IV hinter uns lassen“: Nahles verspricht Komplettumbau des Sozialstaates„Zum Symbol für das Misstrauen des Staates gegenüber den Grundsicherungsbeziehern sind die Sanktionen geworden. Sie wirken, als würde den Leistungsbeziehern von vornherein unterstellt, betrügen zu wollen“.Der Bundeswirtschaftsminister, Peter Altmaier, wies die SPD-Forderungen nach einer Hartz-IV-Abschaffung in\\xa0einem Gespräch mit der Zeitung „Die Welt“ zurück.„Wir dürfen und werden Hartz IV nicht abschaffen. Solche Vorschläge sind hoch gefährlich und schaden der Zukunft unseres Landes“, zitieren deutsche Medien den CDU-Politiker.Diskussion\"\\t\"OVER-THRESHOLD\"\\t\"migration\"\\t884\\t0.549179266004771\\n',\n",
              " '\"http://de.sputniknews.comkarikatur/20151020305076281\"\\t\"http://web.archive.org/web/20181201153825/https://de.sputniknews.com/amp/karikatur/20151020305076281/\"\\t20151020\\t\"Flüchtlingskrise: Ist Abriegeln eine Lösung?\"\\t\"{                    \\\\\"vars\\\\\": {                        \\\\\"counterId\\\\\": \\\\\"27090206\\\\\"                    }                }                                    {                            \\\\\"requests\\\\\": {                                \\\\\"pageview\\\\\": \\\\\"http://web.archive.org/web/20181201153825/https://counter.yadro.ru/hit;RS_Total/Sputniki_Total/Sputniknews?u${ampdocUrl};r${documentReferrer};s${screenWidth}*${screenHeight}*32;h${title};${random}\\\\\"                            },                            \\\\\"triggers\\\\\": {                                \\\\\"track pageview\\\\\": {                                    \\\\\"on\\\\\": \\\\\"visible\\\\\",                                    \\\\\"request\\\\\": \\\\\"pageview\\\\\"                                }                            }                        }                    Alle NachrichtenKarikaturFlüchtlingskrise: Ist Abriegeln eine Lösung?18:18 20.10.2015Zum KurzlinkThemen: Migrationsproblem in EuropaCSU-Politiker Markus Söder hat kürzlich ins Gespräch gebracht, die deutsche Grenze mit Zäunen abzusichern. Wird Bundeskanzlerin Angela Merkel zum Schließen der Grenzen gezwungen sein? Hält eine strengere Asylpolitik Flüchtlinge auf? Lassen sich Menschen, die vor Fassbomben fliehen, von ein paar Zäunen stoppen? Fragen, Fragen, Fragen...Diskussion\"\\t\"OVER-THRESHOLD\"\\t\"migrationsproblem asylpolitik flüchtlinge\"\\t522\\t0.544157704714578\\n',\n",
              " '\"http://de.sputniknews.companorama/20151228306826925-daenemark-tritt-fuer-veraenderung-der-fluechtlingskonvention\"\\t\"http://web.archive.org/web/20181123231931/https://de.sputniknews.com/amp/panorama/20151228306826925-daenemark-tritt-fuer-veraenderung-der-fluechtlingskonvention/\"\\t20151228\\t\"Dänemark will die Flüchtlingskonvention ändern\"\\t\"{                    \\\\\"vars\\\\\": {                        \\\\\"counterId\\\\\": \\\\\"27090206\\\\\"                    }                }                                    {                            \\\\\"requests\\\\\": {                                \\\\\"pageview\\\\\": \\\\\"http://web.archive.org/web/20181123231931/https://counter.yadro.ru/hit;RS_Total/Sputniki_Total/Sputniknews?u${ampdocUrl};r${documentReferrer};s${screenWidth}*${screenHeight}*32;h${title};${random}\\\\\"                            },                            \\\\\"triggers\\\\\": {                                \\\\\"track pageview\\\\\": {                                    \\\\\"on\\\\\": \\\\\"visible\\\\\",                                    \\\\\"request\\\\\": \\\\\"pageview\\\\\"                                }                            }                        }                    Alle NachrichtenPanorama                        ©                    AP Photo/ Joachim LadefogdeDänemark will die Flüchtlingskonvention ändern14:44 28.12.2015(aktualisiert  16:32 28.12.2015) Zum KurzlinkDie Flüchtlingskrise hat Dänemark und Europa vor solche Herausforderungen gestellt, dass nun die UN-Flüchtlingskonvention von 1951 verändert werden muss, wie der dänische Regierungschef Lars Lökke Rasmussen dem Sender TV2 sagte.Wenn die Flüchtlingszahlen weiter ansteigen würden wie bisher, werde der Moment kommen, \\\\\"in dem wir über eine Anpassung der Spielregeln sprechen müssen\\\\\", sagte Rasmussen. Die Flüchtlingskonvention in\\xa0ihrer jetzigen Form entspreche nicht der heutigen globalisierten Welt.Die Konvention definiert den Begriff „Flüchtling“ und die Grundlagen, die für einen Asylantrag erforderlich sind. Einige Rechte, die Flüchtlinge genießen, gleichen denen der Bürger des Aufnahmestaates, andere – denen der Ausländer.                        ©                    REUTERS/ Michaela RehleDänemark besteht auf Konfiskationen: Flüchtlinge sollen Aufenthalt selber bezahlenAls die UN-Flüchtlingskonvention 1951 angenommen wurde, war Dänemark das erste Land, das sie unterzeichnet hat. Nun sei der Ministerpräsident der Auffassung, die von der Konvention auferlegten Verpflichtungen seien eine untragbare Bürde für Dänemark, schreibt die schwedische Zeitung Svenska Dagbladet.Eines der Probleme besteht laut Rasmussen darin, dass verschiedene Gruppen der Flüchtlinge verschiedene Regeln einhalten müssen. So gelten die verschärften Bedingungen für einen Familiennachzug nicht für alle. Die Fristen hängen davon ab, unter welchen Bedingungen das Asyl gewährt wurde.Die von Dänemark getroffenen Maßnahmen für die Reduzierung des Flüchtlingszustroms wirkten „inspirierend“ auf andere Staaten, so der dänische Ministerpräsident. Allerdings dürfe das Asylrecht als solches nicht abgeschafft werden. Dänemark habe nicht vor, alleine die Konvention außer Kraft zu setzen, Dänemark wolle gemeinsam mit anderen Staaten das System von innen verändern, erklärte Rasmussen. Eine der Forderungen könne sein, dass Flüchtlinge in\\xa0dem Land Asyl beantragen müssten, in\\xa0dem sie als erstes angekommen seien.                        ©                    AFP 2018/ Bulent KilicDänemark: Flüchtlinge mit mehr als 400 Euro werden zur Kasse gebetenMit Blick vor allem auf die syrischen Flüchtlinge fragte Ramussen: \\\\\"Wenn jemand, der Schutz vor Krieg sucht, zwei oder drei Jahre in\\xa0der Türkei gelebt hat, sollte er dann nach Europa gehen und dort Asyl beantragen?\\\\\" Die geltenden Regeln würden dies ermöglichen. \\\\\"Aber wir werden darüber eine Diskussion führen\\\\\", sagte er in\\xa0dem Fernsehinterview. In der Türkei leben nach Angaben Ankaras etwa zwei Millionen syrische Bürgerkriegsflüchtlinge.Das Wichtigste ist aus der Sicht des dänischen Politikers die Verständigung innerhalb Europas zu gewährleisten und eine einheitliche Sichtweise zu erarbeiten.„Dänemark kann nicht allein handeln, die anderen müssen auch teilnehmen. Ich kann doch ohne Zustimmung der anderen EU-Staaten das Ausweisungssystem nicht beschließen“, sagte Rasmussen.Diskussion\"\\t\"OVER-THRESHOLD\"\\t\"flüchtlingskrise asyl flüchtlinge\"\\t981\\t0.541940112273363\\n',\n",
              " '\"http://de.sputniknews.compolitik/20180813321937555-syrien-deutschland-fluechtlinge-rueckkehr-sanktionen\"\\t\"http://web.archive.org/web/20180813172522/https://de.sputniknews.com/amp/politik/20180813321937555-syrien-deutschland-fluechtlinge-rueckkehr-sanktionen/\"\\t20180813\\t\"Rückkehr von Flüchtlingen: Syrischer Minister appelliert an Deutschland\"\\t\"Der syrische Minister für lokale Verwaltung und Umwelt Hussein Makhlouf hat über Journalisten Deutschland zur Aufhebung der Sanktionen gegen Damaskus aufgerufen. Dies soll laut dem Politiker die Rückkehr der syrischen Flüchtlinge in ihre Heimat fördern. „Ich möchte mich über Sie an die deutsche Regierung wenden und bitten, die einseitigen Sanktionen gegen Syrien aufzuheben“, sagte Makhlouf sich an einen deutschen Journalisten wendend auf einer Pressekonferenz. Mehr zum Thema >>> UN-Flüchtlingskommissar tritt gegen Rückkehr von Flüchtlingen nach Syrien auf  Makhlouf, der auch Chef des syrischen Koordinierungsausschusses für Rückkehr der Flüchtlinge ist, betonte, im Fall einer Aufhebung der Sanktionen werde die Rückkehr der Flüchtlinge beschleunigt. Dies würde den Wideraufbau des Landes fördern. Mehr zum Thema >>> Russland forciert Rückkehr von Syrien-Flüchtlingen Zuvor hatte das russische Zentrum für Aufnahme, Verteilung und Unterbringung beim russischen Verteidigungsministerium mitgeteilt, mehr als 1,7 Millionen Syrer hätten den Wunsch geäußert, aus neun Gastländern in\\xa0ihre Heimat zurückzukehren. Die meisten Heimkehrwilligen halten sich jetzt im Libanon, in\\xa0der Türkei und in\\xa0Deutschland auf.\"\\t\"OVER-THRESHOLD\"\\t\"flüchtlingen flüchtlinge\"\\t163\\t0.543706912424414\\n',\n",
              " '\"http://de.sputniknews.compolitik/20160107306965193-Lindner-Merkel-Migrationspolitik-Chaos-Einwanderungsgesetz\"\\t\"http://web.archive.org/web/20170227192503/https://de.sputniknews.com/amp/politik/20160107306965193-Lindner-Merkel-Migrationspolitik-Chaos-Einwanderungsgesetz/\"\\t20160107\\t\"FDP-Chef Lindner: Merkels Flüchtlingspolitik führt Europa ins Chaos\"\\t\"Der Satz „Wir schaffen das“ der Bundeskanzlerin ersetze kein Regierungshandeln, so Lindner. Seiner Meinung nach ist ein „rationales, humanitäres, europäisch abgestimmtes Einwanderungsgesetz“ nötig, welches eine systematisierte Registrierung von Flüchtlingen und deren legale Integration ermöglichen würde. Die CDU/CSU-Politiker hatten von Merkel wiederholt gefordert, den Migranten-Zustrom zu begrenzen. Doch die Kanzlerin hat sich bislang geweigert, eine Obergrenze für Flüchtlinge festzulegen, was die Grenzschließung für neu ankommende Migranten bedeuten würde.\"\\t\"OVER-THRESHOLD\"\\t\"flüchtlingen migranten flüchtlinge\"\\t70\\t0.572646110198091']"
            ]
          },
          "metadata": {},
          "execution_count": 144
        }
      ]
    },
    {
      "cell_type": "markdown",
      "metadata": {
        "id": "7yBc7LwVpmVL"
      },
      "source": [
        "## OS Module\n",
        "\n",
        "Very powerful:\n",
        "\n",
        "1. can create and remove directories\n",
        "2. check if something is in a directory\n",
        "3. can rename files (os.rename())\n",
        "\n",
        "and much more\n"
      ]
    },
    {
      "cell_type": "markdown",
      "metadata": {
        "id": "Iq7b_uolpmVL"
      },
      "source": [
        "### Windows users"
      ]
    },
    {
      "cell_type": "code",
      "execution_count": null,
      "metadata": {
        "id": "1L81xqiVpmVL",
        "outputId": "651fe1a4-c679-4ea0-a7fd-538c77370cf5",
        "colab": {
          "base_uri": "https://localhost:8080/"
        }
      },
      "outputs": [
        {
          "output_type": "stream",
          "name": "stdout",
          "text": [
            "/home/Documents\n"
          ]
        }
      ],
      "source": [
        "#for windows users to get a path\n",
        "# please use forward slashes\n",
        "\n",
        "import os\n",
        "path = '/home/./Documents'\n",
        "norm_path = os.path.normpath(path) \n",
        "print(norm_path)"
      ]
    },
    {
      "cell_type": "markdown",
      "metadata": {
        "id": "whbOrnpXpmVL"
      },
      "source": [
        "### Get my working directory"
      ]
    },
    {
      "cell_type": "code",
      "execution_count": null,
      "metadata": {
        "id": "0xdckXOZpmVL",
        "outputId": "e5443496-d18b-4372-ac17-658b3afd5ae8",
        "colab": {
          "base_uri": "https://localhost:8080/"
        }
      },
      "outputs": [
        {
          "output_type": "stream",
          "name": "stdout",
          "text": [
            "/content\n"
          ]
        }
      ],
      "source": [
        "import os\n",
        "#which directory am I using right now\n",
        "print(os.getcwd())"
      ]
    },
    {
      "cell_type": "markdown",
      "metadata": {
        "id": "9MRHRG69pmVM"
      },
      "source": [
        "### Check if I am pointing at the correct file"
      ]
    },
    {
      "cell_type": "code",
      "execution_count": null,
      "metadata": {
        "id": "HHM9CH_1pmVM",
        "outputId": "733d7fd1-4780-4178-d928-3e945312b46e",
        "colab": {
          "base_uri": "https://localhost:8080/",
          "height": 35
        }
      },
      "outputs": [
        {
          "output_type": "execute_result",
          "data": {
            "text/plain": [
              "'ihaveadream.txt'"
            ],
            "application/vnd.google.colaboratory.intrinsic+json": {
              "type": "string"
            }
          },
          "metadata": {},
          "execution_count": 47
        }
      ],
      "source": [
        "# let's use a filepath for testing it out:\n",
        "filepath = \"/content/drive/MyDrive/Colab Notebooks/Oxford Text Analysis 22/Python QTA Drive Oxford 2022/Data/ihaveadream.txt\"\n",
        "filepath\n",
        "\n",
        "os.path.basename(filepath)"
      ]
    },
    {
      "cell_type": "markdown",
      "metadata": {
        "id": "P68YEP2FpmVM"
      },
      "source": [
        "### Check what files are in my directory"
      ]
    },
    {
      "cell_type": "code",
      "execution_count": null,
      "metadata": {
        "id": "UlqCZie9pmVM",
        "outputId": "f1e0a121-8ed6-4afd-b87f-14dc32aad834",
        "colab": {
          "base_uri": "https://localhost:8080/"
        }
      },
      "outputs": [
        {
          "output_type": "execute_result",
          "data": {
            "text/plain": [
              "['text1.txt',\n",
              " 'text2.txt',\n",
              " 'text3.txt',\n",
              " 'text4.txt',\n",
              " 'text5.txt',\n",
              " 'text6.txt',\n",
              " 'text7.txt',\n",
              " 'text8.txt',\n",
              " 'text9.txt',\n",
              " 'text10.tsv',\n",
              " 'sputnik11.txt',\n",
              " 'text10',\n",
              " 'trump.json']"
            ]
          },
          "metadata": {},
          "execution_count": 48
        }
      ],
      "source": [
        "\n",
        "#check what is inside a directory\n",
        "os.listdir(\"/content/drive/MyDrive/Colab Notebooks/Python for Social Data Science/Session 4/Data Day 4\")\n"
      ]
    },
    {
      "cell_type": "code",
      "source": [
        "#how to load all csv files containg text"
      ],
      "metadata": {
        "id": "ZP7MudGYSNnY"
      },
      "execution_count": null,
      "outputs": []
    },
    {
      "cell_type": "code",
      "source": [
        "import glob\n",
        "from pathlib import Path\n",
        "\n",
        "\n",
        "list2=[]\n",
        "for p in Path('/content/drive/MyDrive/Colab Notebooks/Python for Social Data Science/Session 4/Data Day 4').glob('*.txt'):\n",
        "    print(f\"{p.name}:\\n{p.read_text()}\\n\")\n"
      ],
      "metadata": {
        "colab": {
          "base_uri": "https://localhost:8080/"
        },
        "id": "ZfAAboMGSUNm",
        "outputId": "a8da7c67-b117-44d4-b8f9-aedfe34c2d8a"
      },
      "execution_count": null,
      "outputs": [
        {
          "output_type": "stream",
          "name": "stdout",
          "text": [
            "text1.txt:\n",
            "\"http://de.sputniknews.compolitik/20160107306965193-Lindner-Merkel-Migrationspolitik-Chaos-Einwanderungsgesetz\"\t\"http://web.archive.org/web/20170227192503/https://de.sputniknews.com/amp/politik/20160107306965193-Lindner-Merkel-Migrationspolitik-Chaos-Einwanderungsgesetz/\"\t20160107\t\"FDP-Chef Lindner: Merkels Flüchtlingspolitik führt Europa ins Chaos\"\t\"Der Satz „Wir schaffen das“ der Bundeskanzlerin ersetze kein Regierungshandeln, so Lindner. Seiner Meinung nach ist ein „rationales, humanitäres, europäisch abgestimmtes Einwanderungsgesetz“ nötig, welches eine systematisierte Registrierung von Flüchtlingen und deren legale Integration ermöglichen würde. Die CDU/CSU-Politiker hatten von Merkel wiederholt gefordert, den Migranten-Zustrom zu begrenzen. Doch die Kanzlerin hat sich bislang geweigert, eine Obergrenze für Flüchtlinge festzulegen, was die Grenzschließung für neu ankommende Migranten bedeuten würde.\"\t\"OVER-THRESHOLD\"\t\"flüchtlingen migranten flüchtlinge\"\t70\t0.572646110198091\n",
            "\n",
            "text2.txt:\n",
            "\"http://de.sputniknews.com/panorama/20150210/301052523.html\"\t\"http://web.archive.org/web/20150315163311/http://de.sputniknews.com/panorama/20150210/301052523.html\"\t20150210\t\"Experte: Rund 1,3 Millionen wehrpflichtige Ukrainer nach Russland geflüchtet\"\t\"In letzter Zeit sei knapp einer halben Million ukrainischer Bürger der Flüchtlingsstatus zuerkannt beziehungsweise befristetes Asyl gewährt worden. „Russland hat keine Pläne, die Grenze für andere zu schließen.“ Zugleich räumte Patruschew erhebliche Probleme bei der Unterbringung immer wieder eintreffender Flüchtlinge ein.\"\t\"OVER-THRESHOLD\"\t\"flüchtlingsstatus asyl flüchtlinge\"\t43\t0.549349509077681\n",
            "\n",
            "\n",
            "text3.txt:\n",
            "\"http://de.sputniknews.compolitik/20181117322994742-deutschland-spd-nahles-hartz-iv\"\t\"http://web.archive.org/web/20181117160304/https://de.sputniknews.com/amp/politik/20181117322994742-deutschland-spd-nahles-hartz-iv/\"\t20181117\t\"So präzisiert Nahles ihre Idee für Hartz IV-Alternative\"\t\"{                    \\\"vars\\\": {                        \\\"counterId\\\": \\\"27090206\\\"                    }                }                                    {                            \\\"requests\\\": {                                \\\"pageview\\\": \\\"http://web.archive.org/web/20181117160304/https://counter.yadro.ru/hit;RS_Total/Sputniki_Total/Sputniknews?u${ampdocUrl};r${documentReferrer};s${screenWidth}*${screenHeight}*32;h${title};${random}\\\"                            },                            \\\"triggers\\\": {                                \\\"track pageview\\\": {                                    \\\"on\\\": \\\"visible\\\",                                    \\\"request\\\": \\\"pageview\\\"                                }                            }                        }                    Alle NachrichtenPolitik                        ©                    REUTERS/ Hannibal HanschkeSo präzisiert Nahles ihre Idee für Hartz IV-Alternative12:51 17.11.2018(aktualisiert  13:05 17.11.2018) Zum KurzlinkDie SPD-Parteichefin Andrea Nahles hat in einem Gastbeitrag für die „Frankfurter Allgemeine Zeitung“ eine Ablösung des Hartz-IV-Systems durch höhere Mindestlöhne, Zuschüsse zu Sozialabgaben und Steuerboni gefordert.Beim Debattencamp in Berlin vor einer Woche kündigte Nahles einen Komplettumbau des Sozialstaates sowie die Abschaffung von Hartz IV an, dessen monatlicher Satz 416 Euro beträgt. Nun konkretisiert sie ihre Vorstellungen: Viel weniger Menschen als heute sollen auf Grundsicherung angewiesen sein – es sei immer günstiger, Arbeit anstatt Arbeitslosigkeit zu finanzieren.>>>Weitere Sputnik-Artikel: EXKLUSIV: „Mein Schmerzpunkt“ – Ex-Partei-Chef übt Kritik an Politik der Grünen<<<                        ©                    AFP 2018/ DPA/ Arne Dedert„So verhindert Politik bedingungsloses Grundeinkommen“: Ex-Grünen-Chef – EXKLUSIVVor allem die Zahl von zwei Millionen Kindern, die in Hartz-IV-Haushalten lebten, müsse verringert werden. „Diese Erfahrung, ein ‚Hartz-IV-Kind‘ zu sein, prägt fürs Leben. Wir brauchen daher eine eigenständige Kindergrundsicherung, die Kinder aus der Sozialhilfe holt und Teilhabe schafft“, zitieren Nahles deutsche Medien.Ein besseres Wohngeld könne zudem verhindern, „dass Menschen angesichts explodierender Mieten in die Grundsicherung getrieben werden“. Nahles kritisierte außerdem das in der SPD-Kanzlerschaft vom Altkanzler Gerhard Schröder eingeführte System der Zusammenlegung von Arbeitslosen- und Sozialhilfe und forderte weniger Bürokratie und Härte.>>>Weitere Sputnik-Artikel: Schon wieder Bulgarien – Illegale Migration durch tausendfachen Verkauf von EU-Pässen<<<                        ©                    AP Photo/ Martin Meissner„Wir werden Hartz IV hinter uns lassen“: Nahles verspricht Komplettumbau des Sozialstaates„Zum Symbol für das Misstrauen des Staates gegenüber den Grundsicherungsbeziehern sind die Sanktionen geworden. Sie wirken, als würde den Leistungsbeziehern von vornherein unterstellt, betrügen zu wollen“.Der Bundeswirtschaftsminister, Peter Altmaier, wies die SPD-Forderungen nach einer Hartz-IV-Abschaffung in einem Gespräch mit der Zeitung „Die Welt“ zurück.„Wir dürfen und werden Hartz IV nicht abschaffen. Solche Vorschläge sind hoch gefährlich und schaden der Zukunft unseres Landes“, zitieren deutsche Medien den CDU-Politiker.Diskussion\"\t\"OVER-THRESHOLD\"\t\"migration\"\t884\t0.549179266004771\n",
            "\n",
            "\n",
            "text4.txt:\n",
            "\"http://de.sputniknews.compolitik/20181109322907058-trump-usa-asyl\"\t\"http://web.archive.org/web/20181123020955/https://de.sputniknews.com/amp/politik/20181109322907058-trump-usa-asyl/\"\t20181109\t\"Trump beschränkt drastisch Asylgewährung für illegale Migranten\"\t\"{                    \\\"vars\\\": {                        \\\"counterId\\\": \\\"27090206\\\"                    }                }                                    {                            \\\"requests\\\": {                                \\\"pageview\\\": \\\"http://web.archive.org/web/20181123020955/https://counter.yadro.ru/hit;RS_Total/Sputniki_Total/Sputniknews?u${ampdocUrl};r${documentReferrer};s${screenWidth}*${screenHeight}*32;h${title};${random}\\\"                            },                            \\\"triggers\\\": {                                \\\"track pageview\\\": {                                    \\\"on\\\": \\\"visible\\\",                                    \\\"request\\\": \\\"pageview\\\"                                }                            }                        }                    Alle NachrichtenPolitik                        ©                    REUTERS/ Jose CabezasTrump beschränkt drastisch Asylgewährung für illegale Migranten15:43 09.11.2018(aktualisiert  17:36 09.11.2018) Zum KurzlinkUS-Präsident Donald Trump hat die Asylgewährung für illegale Migranten drastisch eingeschränkt. Das teilte der Staatschef vor der Presse mit.Wie Trump vor Journalisten sagte, hat er „gerade“ ein entsprechendes Dekret unterzeichnet. Demnach sollen nur noch Menschen Asyl beantragen können, die an einem offiziellen Grenzübergang in die USA einreisen. Illegal Eingereiste würden kein Asyl beantragen dürfen.>>> Weitere Sputnik-Artikel: Trump erklärt, warum USA Migranten brauchen                        ©                    REUTERS/ Leah MillisTrump droht mit Schließung der Grenze zu MexikoDie Verweigerung des Rechts auf einen Asylantrag für illegale Migranten sei zeitweilig und betreffe die Ausländer, die die südliche US-Grenze zu Mexiko gesetzwidrig überschreiten würden, geht aus Trumps Proklamation hervor.„Ich treffe befristete Maßnahmen zum Einreisestopp für Ausländer, um das Problem der großen Anzahl von Migranten zu lösen, die über Mexiko kommen, um in unser Land ohne richtige Dokumente einzureisen“.>>> Weitere Sputnik-Artikel: Bundestag beschließt Verschärfung des Asylgesetzes                        ©                    AFP 2018/ GERARD JULIENMauer reloaded: EU-Staaten errichten sechs neue „Berliner Mauern“Ein Einwanderer könne dennoch Asyl beantragen, wenn er sich an die US-Grenzbehörden wende, statt zu versuchen, in die USA illegal zu gelangen.Laut Trump haben die ankommenden Migranten in der Regel keine legalen Gründe, Asyl zu beantragen. Die Ankunft von einer großen Anzahl von Ausländern werde das US-Immigrationssystem überlasten und zur „Freilassung\\\" von Tausenden Ausländern innerhalb der USA“ führen.Zuvor hatte das US-Verteidigungsministerium seine Bereitschaft erklärt, bis zu 7000 Militärangehörige an der Grenze zwischen den USA und Mexiko zu stationieren. Trump verkündete, bis zu 15.000 Soldaten an die Grenze zu schicken, wo sich bereits 2100 Mitglieder der Nationalgarde der Vereinigten Staaten befinden.>>> Weitere Sputnik-Artikel: „Kein Menschenrecht auf Migration“: Österreich verlässt UN-Migrationspakt                        ©                    REUTERS/ Carlos Garcia RawlinsMigranten vs. US-Armee: Wer sind die Drahtzieher der Flüchtlingskarawane?Die Maßnahmen werden getroffen, weil eine Karawane mit Tausenden Menschen aus zentralamerikanischen Ländern sich den USA über das Territorium von Mexiko nähert. Weitere zwei Migrantengruppen bewegen sich aus Salvador in Richtung USA.Nach Informationen der Nachrichtenagentur France-Presse bezeichnete die Bürgerrechtsorganisation American Civil Liberties Union die Pläne für eine Verschärfung des Asylrechts am Donnerstag als „illegal“. Das US-Recht erlaube Menschen einen Asylantrag unabhängig davon zu stellen, ob sie sich an einem Grenzübergang befinden oder nicht. Dies könne nicht durch ein Dekret „umgangen“ werden.Diskussion\"\t\"OVER-THRESHOLD\"\t\"einwanderer migranten asyl\"\t998\t0.548636683559343\n",
            "\n",
            "\n",
            "text5.txt:\n",
            "\"http://de.sputniknews.compolitik/20160306308285650-oesterreich-draengt-auf-deutsches-fluechtlingskontingent\"\t\"http://web.archive.org/web/20181126055753/https://de.sputniknews.com/amp/politik/20160306308285650-oesterreich-draengt-auf-deutsches-fluechtlingskontingent/\"\t20160306\t\"Österreich drängt auf deutsches Flüchtlingskontingent\"\t\"{                    \\\"vars\\\": {                        \\\"counterId\\\": \\\"27090206\\\"                    }                }                                    {                            \\\"requests\\\": {                                \\\"pageview\\\": \\\"http://web.archive.org/web/20181126055753/https://counter.yadro.ru/hit;RS_Total/Sputniki_Total/Sputniknews?u${ampdocUrl};r${documentReferrer};s${screenWidth}*${screenHeight}*32;h${title};${random}\\\"                            },                            \\\"triggers\\\": {                                \\\"track pageview\\\": {                                    \\\"on\\\": \\\"visible\\\",                                    \\\"request\\\": \\\"pageview\\\"                                }                            }                        }                    Alle NachrichtenPolitik                        ©                    AP Photo/ Boris Grdanoski Österreich drängt auf deutsches Flüchtlingskontingent09:56 06.03.2016(aktualisiert  09:57 06.03.2016) Zum KurzlinkDer österreichische Bundeskanzler Werner Faymann hat von Deutschland gefordert, eine Flüchtlingsquote von 400.000 Personen im Jahr einzuführen. Wenn alle EU-Länder dem Beispiel Österreichs folgen würden, könnte die EU, so Faymann, zwei Millionen Flüchtlinge aufnehmen.Im Jahr 2015 hatten etwa 90.000 Menschen in Österreich Asyl beantragt. 2016 will die Regierung die Zahl der positiv beschiedenen Asylanträge auf 37.500 beschränken.                        ©                    AFP 2018/ JOHN MACDOUGALLBundeskanzler Faymann: Merkel sollte Tageskontingente für Flüchtlinge einführen„Deutschland muss endlich Klarheit schaffen, sonst werden weiterhin Flüchtlinge Richtung Deutschland losziehen … Nimmt man den österreichischen Richtwert her, könnte Deutschland rund 400.000 Flüchtlinge als Kontingent nennen“, sagte Faymann im Gespräch mit der Zeitung Kurier.Im Jahr 2015 sind nach Angaben der Agentur Frontex rund 1,8 Million Migranten nach Europa gekommen. Experten zufolge handelt es sich um die größte Flüchtlingskrise seit dem Zweiten Weltkrieg.Diskussion\"\t\"OVER-THRESHOLD\"\t\"asyl flüchtlinge migranten asylanträge flüchtlingskrise\"\t699\t0.547926894577753\n",
            "\n",
            "\n",
            "text6.txt:\n",
            "\"http://de.sputniknews.compolitik/20151016304983995-warschau-gegen-merkels-fluechtlingsquote\"\t\"http://web.archive.org/web/20181123212339/https://de.sputniknews.com/amp/politik/20151016304983995-warschau-gegen-merkels-fluechtlingsquote/\"\t20151016\t\"Migrationskrise: Warschau wehrt sich gegen Merkels Flüchtlingsquote\"\t\"{                    \\\"vars\\\": {                        \\\"counterId\\\": \\\"27090206\\\"                    }                }                                    {                            \\\"requests\\\": {                                \\\"pageview\\\": \\\"http://web.archive.org/web/20181123212339/https://counter.yadro.ru/hit;RS_Total/Sputniki_Total/Sputniknews?u${ampdocUrl};r${documentReferrer};s${screenWidth}*${screenHeight}*32;h${title};${random}\\\"                            },                            \\\"triggers\\\": {                                \\\"track pageview\\\": {                                    \\\"on\\\": \\\"visible\\\",                                    \\\"request\\\": \\\"pageview\\\"                                }                            }                        }                    Alle NachrichtenPolitik                        ©                    REUTERS/ Fabrizio Bensch/FilesMigrationskrise: Warschau wehrt sich gegen Merkels Flüchtlingsquote15:10 16.10.2015Zum KurzlinkPolen tritt scharf gegen die von Angela Merkel vorgeschlagene, permanente und verpflichtende Verteilungsquote von Flüchtlingen unter EU-Ländern auf und wird dabei nicht nachgeben, wie Polens Außenminister Grzegorz Schetyna gegenüber dem Radiosender RMF FM erklärte.                        ©                    AFP 2018/ Frederick FlorinFlüchtlingskrise: Merkel und Hollande werben gemeinsam für Solidarität in EU“Wir werden nicht nachgeben. Wir bilden eine entscheidende Mehrheit in der EU”, unterstrich Schetyna.Dem Außenminister zufolge sei die Flüchtlingssituation ein Problem der deutschen Innenpolitik, „deswegen werden stets Versuche unternommen, ein besseres Bild und Image zu schaffen“. „Dies beeinflusst jedoch keinesfalls europäische Entscheidungen“, so Schetyna weiter.„Wenn Europa sagt, dass wir sie (Flüchtlinge – d. Red.) weiterhin unter uns aufteilen und uns Quoten neuer Migrationsströme aufzwingen werden, wird es eine Katastrophe geben. Wir werden dem nicht zustimmen“, erklärte Polens Minister.                        ©                    REUTERS/ Kai PfaffenbachFlüchtlingskrise: Osteuropäer lehnen sich gegen EU-Kurs aufSchetyna ist der Ansicht, dass Europa in erster Linie „eine Entscheidung über den Schutz von Außengrenzen sowie über Verteilungszentren, die politische Migranten aus dem Nahen Osten registrieren müssen, treffen, nicht aber einen automatischen Verteilungsmechanismus einführen soll“. Letzteren bezeichnete der Minister als Unsinn.Allein bis zum September sind laut der EU-Grenzschutzagentur „Frontex“ rund 630.000 Flüchtlinge in die EU gekommen. Die EU-Kommission spricht von der schlimmsten Migrationskrise seit dem Zweiten Weltkrieg.Diskussion\"\t\"OVER-THRESHOLD\"\t\"flüchtlingen migrationskrise migranten flüchtlinge\"\t805\t0.544957398675781\n",
            "\n",
            "\n",
            "text7.txt:\n",
            "\"http://de.sputniknews.comkarikatur/20151020305076281\"\t\"http://web.archive.org/web/20181201153825/https://de.sputniknews.com/amp/karikatur/20151020305076281/\"\t20151020\t\"Flüchtlingskrise: Ist Abriegeln eine Lösung?\"\t\"{                    \\\"vars\\\": {                        \\\"counterId\\\": \\\"27090206\\\"                    }                }                                    {                            \\\"requests\\\": {                                \\\"pageview\\\": \\\"http://web.archive.org/web/20181201153825/https://counter.yadro.ru/hit;RS_Total/Sputniki_Total/Sputniknews?u${ampdocUrl};r${documentReferrer};s${screenWidth}*${screenHeight}*32;h${title};${random}\\\"                            },                            \\\"triggers\\\": {                                \\\"track pageview\\\": {                                    \\\"on\\\": \\\"visible\\\",                                    \\\"request\\\": \\\"pageview\\\"                                }                            }                        }                    Alle NachrichtenKarikaturFlüchtlingskrise: Ist Abriegeln eine Lösung?18:18 20.10.2015Zum KurzlinkThemen: Migrationsproblem in EuropaCSU-Politiker Markus Söder hat kürzlich ins Gespräch gebracht, die deutsche Grenze mit Zäunen abzusichern. Wird Bundeskanzlerin Angela Merkel zum Schließen der Grenzen gezwungen sein? Hält eine strengere Asylpolitik Flüchtlinge auf? Lassen sich Menschen, die vor Fassbomben fliehen, von ein paar Zäunen stoppen? Fragen, Fragen, Fragen...Diskussion\"\t\"OVER-THRESHOLD\"\t\"migrationsproblem asylpolitik flüchtlinge\"\t522\t0.544157704714578\n",
            "\n",
            "\n",
            "text8.txt:\n",
            "\"http://de.sputniknews.compolitik/20180813321937555-syrien-deutschland-fluechtlinge-rueckkehr-sanktionen\"\t\"http://web.archive.org/web/20180813172522/https://de.sputniknews.com/amp/politik/20180813321937555-syrien-deutschland-fluechtlinge-rueckkehr-sanktionen/\"\t20180813\t\"Rückkehr von Flüchtlingen: Syrischer Minister appelliert an Deutschland\"\t\"Der syrische Minister für lokale Verwaltung und Umwelt Hussein Makhlouf hat über Journalisten Deutschland zur Aufhebung der Sanktionen gegen Damaskus aufgerufen. Dies soll laut dem Politiker die Rückkehr der syrischen Flüchtlinge in ihre Heimat fördern. „Ich möchte mich über Sie an die deutsche Regierung wenden und bitten, die einseitigen Sanktionen gegen Syrien aufzuheben“, sagte Makhlouf sich an einen deutschen Journalisten wendend auf einer Pressekonferenz. Mehr zum Thema >>> UN-Flüchtlingskommissar tritt gegen Rückkehr von Flüchtlingen nach Syrien auf  Makhlouf, der auch Chef des syrischen Koordinierungsausschusses für Rückkehr der Flüchtlinge ist, betonte, im Fall einer Aufhebung der Sanktionen werde die Rückkehr der Flüchtlinge beschleunigt. Dies würde den Wideraufbau des Landes fördern. Mehr zum Thema >>> Russland forciert Rückkehr von Syrien-Flüchtlingen Zuvor hatte das russische Zentrum für Aufnahme, Verteilung und Unterbringung beim russischen Verteidigungsministerium mitgeteilt, mehr als 1,7 Millionen Syrer hätten den Wunsch geäußert, aus neun Gastländern in ihre Heimat zurückzukehren. Die meisten Heimkehrwilligen halten sich jetzt im Libanon, in der Türkei und in Deutschland auf.\"\t\"OVER-THRESHOLD\"\t\"flüchtlingen flüchtlinge\"\t163\t0.543706912424414\n",
            "\n",
            "\n",
            "text9.txt:\n",
            "\"http://de.sputniknews.compolitik/20180813321937555-syrien-deutschland-fluechtlinge-rueckkehr-sanktionen\"\t\"http://web.archive.org/web/20180813172522/https://de.sputniknews.com/amp/politik/20180813321937555-syrien-deutschland-fluechtlinge-rueckkehr-sanktionen/\"\t20180813\t\"Rückkehr von Flüchtlingen: Syrischer Minister appelliert an Deutschland\"\t\"Der syrische Minister für lokale Verwaltung und Umwelt Hussein Makhlouf hat über Journalisten Deutschland zur Aufhebung der Sanktionen gegen Damaskus aufgerufen. Dies soll laut dem Politiker die Rückkehr der syrischen Flüchtlinge in ihre Heimat fördern. „Ich möchte mich über Sie an die deutsche Regierung wenden und bitten, die einseitigen Sanktionen gegen Syrien aufzuheben“, sagte Makhlouf sich an einen deutschen Journalisten wendend auf einer Pressekonferenz. Mehr zum Thema >>> UN-Flüchtlingskommissar tritt gegen Rückkehr von Flüchtlingen nach Syrien auf  Makhlouf, der auch Chef des syrischen Koordinierungsausschusses für Rückkehr der Flüchtlinge ist, betonte, im Fall einer Aufhebung der Sanktionen werde die Rückkehr der Flüchtlinge beschleunigt. Dies würde den Wideraufbau des Landes fördern. Mehr zum Thema >>> Russland forciert Rückkehr von Syrien-Flüchtlingen Zuvor hatte das russische Zentrum für Aufnahme, Verteilung und Unterbringung beim russischen Verteidigungsministerium mitgeteilt, mehr als 1,7 Millionen Syrer hätten den Wunsch geäußert, aus neun Gastländern in ihre Heimat zurückzukehren. Die meisten Heimkehrwilligen halten sich jetzt im Libanon, in der Türkei und in Deutschland auf.\"\t\"OVER-THRESHOLD\"\t\"flüchtlingen flüchtlinge\"\t163\t0.543706912424414\n",
            "\n",
            "\n",
            "sputnik11.txt:\n",
            "\"http://de.sputniknews.companorama/20151228306826925-daenemark-tritt-fuer-veraenderung-der-fluechtlingskonvention\"\t\"http://web.archive.org/web/20181123231931/https://de.sputniknews.com/amp/panorama/20151228306826925-daenemark-tritt-fuer-veraenderung-der-fluechtlingskonvention/\"\t20151228\t\"Dänemark will die Flüchtlingskonvention ändern\"\t\"{                    \\\"vars\\\": {                        \\\"counterId\\\": \\\"27090206\\\"                    }                }                                    {                            \\\"requests\\\": {                                \\\"pageview\\\": \\\"http://web.archive.org/web/20181123231931/https://counter.yadro.ru/hit;RS_Total/Sputniki_Total/Sputniknews?u${ampdocUrl};r${documentReferrer};s${screenWidth}*${screenHeight}*32;h${title};${random}\\\"                            },                            \\\"triggers\\\": {                                \\\"track pageview\\\": {                                    \\\"on\\\": \\\"visible\\\",                                    \\\"request\\\": \\\"pageview\\\"                                }                            }                        }                    Alle NachrichtenPanorama                        ©                    AP Photo/ Joachim LadefogdeDänemark will die Flüchtlingskonvention ändern14:44 28.12.2015(aktualisiert  16:32 28.12.2015) Zum KurzlinkDie Flüchtlingskrise hat Dänemark und Europa vor solche Herausforderungen gestellt, dass nun die UN-Flüchtlingskonvention von 1951 verändert werden muss, wie der dänische Regierungschef Lars Lökke Rasmussen dem Sender TV2 sagte.Wenn die Flüchtlingszahlen weiter ansteigen würden wie bisher, werde der Moment kommen, \\\"in dem wir über eine Anpassung der Spielregeln sprechen müssen\\\", sagte Rasmussen. Die Flüchtlingskonvention in ihrer jetzigen Form entspreche nicht der heutigen globalisierten Welt.Die Konvention definiert den Begriff „Flüchtling“ und die Grundlagen, die für einen Asylantrag erforderlich sind. Einige Rechte, die Flüchtlinge genießen, gleichen denen der Bürger des Aufnahmestaates, andere – denen der Ausländer.                        ©                    REUTERS/ Michaela RehleDänemark besteht auf Konfiskationen: Flüchtlinge sollen Aufenthalt selber bezahlenAls die UN-Flüchtlingskonvention 1951 angenommen wurde, war Dänemark das erste Land, das sie unterzeichnet hat. Nun sei der Ministerpräsident der Auffassung, die von der Konvention auferlegten Verpflichtungen seien eine untragbare Bürde für Dänemark, schreibt die schwedische Zeitung Svenska Dagbladet.Eines der Probleme besteht laut Rasmussen darin, dass verschiedene Gruppen der Flüchtlinge verschiedene Regeln einhalten müssen. So gelten die verschärften Bedingungen für einen Familiennachzug nicht für alle. Die Fristen hängen davon ab, unter welchen Bedingungen das Asyl gewährt wurde.Die von Dänemark getroffenen Maßnahmen für die Reduzierung des Flüchtlingszustroms wirkten „inspirierend“ auf andere Staaten, so der dänische Ministerpräsident. Allerdings dürfe das Asylrecht als solches nicht abgeschafft werden. Dänemark habe nicht vor, alleine die Konvention außer Kraft zu setzen, Dänemark wolle gemeinsam mit anderen Staaten das System von innen verändern, erklärte Rasmussen. Eine der Forderungen könne sein, dass Flüchtlinge in dem Land Asyl beantragen müssten, in dem sie als erstes angekommen seien.                        ©                    AFP 2018/ Bulent KilicDänemark: Flüchtlinge mit mehr als 400 Euro werden zur Kasse gebetenMit Blick vor allem auf die syrischen Flüchtlinge fragte Ramussen: \\\"Wenn jemand, der Schutz vor Krieg sucht, zwei oder drei Jahre in der Türkei gelebt hat, sollte er dann nach Europa gehen und dort Asyl beantragen?\\\" Die geltenden Regeln würden dies ermöglichen. \\\"Aber wir werden darüber eine Diskussion führen\\\", sagte er in dem Fernsehinterview. In der Türkei leben nach Angaben Ankaras etwa zwei Millionen syrische Bürgerkriegsflüchtlinge.Das Wichtigste ist aus der Sicht des dänischen Politikers die Verständigung innerhalb Europas zu gewährleisten und eine einheitliche Sichtweise zu erarbeiten.„Dänemark kann nicht allein handeln, die anderen müssen auch teilnehmen. Ich kann doch ohne Zustimmung der anderen EU-Staaten das Ausweisungssystem nicht beschließen“, sagte Rasmussen.Diskussion\"\t\"OVER-THRESHOLD\"\t\"flüchtlingskrise asyl flüchtlinge\"\t981\t0.541940112273363\n",
            "\n",
            "\n"
          ]
        }
      ]
    },
    {
      "cell_type": "markdown",
      "metadata": {
        "id": "h8xiGjRLpmVH"
      },
      "source": [
        "# Mini explanations: Outputting data"
      ]
    },
    {
      "cell_type": "markdown",
      "metadata": {
        "id": "Aq5Hdr6VpmVI"
      },
      "source": [
        "## Lists"
      ]
    },
    {
      "cell_type": "code",
      "execution_count": null,
      "metadata": {
        "collapsed": true,
        "id": "dmP7k3tbpmVI"
      },
      "outputs": [],
      "source": [
        "list2=[\"object1\",'object2']"
      ]
    },
    {
      "cell_type": "code",
      "execution_count": null,
      "metadata": {
        "collapsed": true,
        "id": "m7Nxt7QFpmVI"
      },
      "outputs": [],
      "source": [
        "import csv\n",
        "\n",
        "with open(\"out.csv\",\"w\") as f:\n",
        "    wr = csv.writer(f,delimiter=\"\\n\")\n",
        "    wr.writerow(list2)"
      ]
    },
    {
      "cell_type": "code",
      "execution_count": null,
      "metadata": {
        "collapsed": true,
        "id": "IZ6BfIlnpmVI"
      },
      "outputs": [],
      "source": [
        "with open(\"out2.csv\",\"w\") as f:\n",
        "    wr = csv.writer(f,delimiter=\"\\t\")\n",
        "    wr.writerow(list2)"
      ]
    },
    {
      "cell_type": "markdown",
      "metadata": {
        "id": "xeeyRqvapmVJ"
      },
      "source": [
        "## Strings"
      ]
    },
    {
      "cell_type": "code",
      "execution_count": null,
      "metadata": {
        "id": "EtgvjdJLpmVJ",
        "outputId": "c5b9c85e-ef8c-47cc-d962-8e0528d1d8aa",
        "colab": {
          "base_uri": "https://localhost:8080/",
          "height": 161
        }
      },
      "outputs": [
        {
          "output_type": "execute_result",
          "data": {
            "text/plain": [
              "'I am happy to join with you today in what will go down in history as the greatest demonstration for freedom in the history of our nation.\\n\\nFive score years ago, a great American, in whose symbolic shadow we stand today, signed the Emancipation Proclamation. This momentous decree came as a great beacon light of hope to millions of Negro slaves who had been seared in the flames of withering injustice. It came as a joyous daybreak to end the long night of their captivity.\\n\\nBut one hundred years later, the Negro still is not free. One hundred years later, the life of the Negro is still sadly crippled by the manacles of segregation and the chains of discrimination. One hundred years later, the Negro lives on a lonely island of poverty in the midst of a vast ocean of material prosperity. One hundred years later, the Negro is still languished in the corners of American society and finds himself an exile in his own land. And so we\\'ve come here today to dramatize a shameful condition.\\n\\nIn a sense we\\'ve come to our nation\\'s capital to cash a check. When the architects of our republic wrote the magnificent words of the Constitution and the Declaration of Independence, they were signing a promissory note to which every American was to fall heir. This note was a promise that all men, yes, black men as well as white men, would be guaranteed the \"unalienable Rights\" of \"Life, Liberty and the pursuit of Happiness.\" It is obvious today that America has defaulted on this promissory note, insofar as her citizens of color are concerned. Instead of honoring this sacred obligation, America has given the Negro people a bad check, a check which has come back marked \"insufficient funds.\"\\n\\nBut we refuse to believe that the bank of justice is bankrupt. We refuse to believe that there are insufficient funds in the great vaults of opportunity of this nation. And so, we\\'ve come to cash this check, a check that will give us upon demand the riches of freedom and the security of justice.\\n\\nWe have also come to this hallowed spot to remind America of the fierce urgency of Now. This is no time to engage in the luxury of cooling off or to take the tranquilizing drug of gradualism. Now is the time to make real the promises of democracy. Now is the time to rise from the dark and desolate valley of segregation to the sunlit path of racial justice. Now is the time to lift our nation from the quicksands of racial injustice to the solid rock of brotherhood. Now is the time to make justice a reality for all of God\\'s children.\\n\\nIt would be fatal for the nation to overlook the urgency of the moment. This sweltering summer of the Negro\\'s legitimate discontent will not pass until there is an invigorating autumn of freedom and equality. Nineteen sixty-three is not an end, but a beginning. And those who hope that the Negro needed to blow off steam and will now be content will have a rude awakening if the nation returns to business as usual. And there will be neither rest nor tranquility in America until the Negro is granted his citizenship rights. The whirlwinds of revolt will continue to shake the foundations of our nation until the bright day of justice emerges.\\n\\nBut there is something that I must say to my people, who stand on the warm threshold which leads into the palace of justice: In the process of gaining our rightful place, we must not be guilty of wrongful deeds. Let us not seek to satisfy our thirst for freedom by drinking from the cup of bitterness and hatred. We must forever conduct our struggle on the high plane of dignity and discipline. We must not allow our creative protest to degenerate into physical violence. Again and again, we must rise to the majestic heights of meeting physical force with soul force.\\n\\nThe marvelous new militancy which has engulfed the Negro community must not lead us to a distrust of all white people, for many of our white brothers, as evidenced by their presence here today, have come to realize that their destiny is tied up with our destiny. And they have come to realize that their freedom is inextricably bound to our freedom.\\n\\nWe cannot walk alone.\\n\\nAnd as we walk, we must make the pledge that we shall always march ahead.\\n\\nWe cannot turn back.\\n\\nThere are those who are asking the devotees of civil rights, \"When will you be satisfied?\" We can never be satisfied as long as the Negro is the victim of the unspeakable horrors of police brutality. We can never be satisfied as long as our bodies, heavy with the fatigue of travel, cannot gain lodging in the motels of the highways and the hotels of the cities. **We cannot be satisfied as long as the negro\\'s basic mobility is from a smaller ghetto to a larger one. We can never be satisfied as long as our children are stripped of their self-hood and robbed of their dignity by signs stating: \"For Whites Only.\"** We cannot be satisfied as long as a Negro in Mississippi cannot vote and a Negro in New York believes he has nothing for which to vote. No, no, we are not satisfied, and we will not be satisfied until \"justice rolls down like waters, and righteousness like a mighty stream.\"1\\n\\nI am not unmindful that some of you have come here out of great trials and tribulations. Some of you have come fresh from narrow jail cells. And some of you have come from areas where your quest -- quest for freedom left you battered by the storms of persecution and staggered by the winds of police brutality. You have been the veterans of creative suffering. Continue to work with the faith that unearned suffering is redemptive. Go back to Mississippi, go back to Alabama, go back to South Carolina, go back to Georgia, go back to Louisiana, go back to the slums and ghettos of our northern cities, knowing that somehow this situation can and will be changed.\\n\\nLet us not wallow in the valley of despair, I say to you today, my friends.\\n\\nAnd so even though we face the difficulties of today and tomorrow, I still have a dream. It is a dream deeply rooted in the American dream.\\n\\nI have a dream that one day this nation will rise up and live out the true meaning of its creed: \"We hold these truths to be self-evident, that all men are created equal.\"\\n\\nI have a dream that one day on the red hills of Georgia, the sons of former slaves and the sons of former slave owners will be able to sit down together at the table of brotherhood.\\n\\nI have a dream that one day even the state of Mississippi, a state sweltering with the heat of injustice, sweltering with the heat of oppression, will be transformed into an oasis of freedom and justice.\\n\\nI have a dream that my four little children will one day live in a nation where they will not be judged by the color of their skin but by the content of their character.\\n\\nI have a dream today!\\n\\nI have a dream that one day, down in Alabama, with its vicious racists, with its governor having his lips dripping with the words of \"interposition\" and \"nullification\" -- one day right there in Alabama little black boys and black girls will be able to join hands with little white boys and white girls as sisters and brothers.\\n\\nI have a dream today!\\n\\nI have a dream that one day every valley shall be exalted, and every hill and mountain shall be made low, the rough places will be made plain, and the crooked places will be made straight; \"and the glory of the Lord shall be revealed and all flesh shall see it together.\"2\\n\\nThis is our hope, and this is the faith that I go back to the South with.\\n\\nWith this faith, we will be able to hew out of the mountain of despair a stone of hope. With this faith, we will be able to transform the jangling discords of our nation into a beautiful symphony of brotherhood. With this faith, we will be able to work together, to pray together, to struggle together, to go to jail together, to stand up for freedom together, knowing that we will be free one day.\\n\\nAnd this will be the day -- this will be the day when all of God\\'s children will be able to sing with new meaning:\\n\\nMy country \\'tis of thee, sweet land of liberty, of thee I sing. Land where my fathers died, land of the Pilgrim\\'s pride,    From every mountainside, let freedom ring!\\n\\nAnd if America is to be a great nation, this must become true.\\n\\nAnd so let freedom ring from the prodigious hilltops of New Hampshire.\\n\\nLet freedom ring from the mighty mountains of New York.\\n\\nLet freedom ring from the heightening Alleghenies of Pennsylvania.\\n\\nLet freedom ring from the snow-capped Rockies of Colorado.\\n\\nLet freedom ring from the curvaceous slopes of California.\\n\\nBut not only that:\\n\\nLet freedom ring from Stone Mountain of Georgia.\\n\\nLet freedom ring from Lookout Mountain of Tennessee.\\n\\nLet freedom ring from every hill and molehill of Mississippi.\\n\\nFrom every mountainside, let freedom ring\\n\\nAnd when this happens, and when we allow freedom ring, when we let it ring from every village and every hamlet, from every state and every city, we will be able to speed up that day when all of God\\'s children, black men and white men, Jews and Gentiles, Protestants and Catholics, will be able to join hands and sing in the words of the old Negro spiritual:\\n\\nFree at last! Free at last!\\n\\nThank God Almighty, we are free at last!3'"
            ],
            "application/vnd.google.colaboratory.intrinsic+json": {
              "type": "string"
            }
          },
          "metadata": {},
          "execution_count": 52
        }
      ],
      "source": [
        "filepath = \"/content/drive/MyDrive/Colab Notebooks/Oxford Text Analysis 22/Python QTA Drive Oxford 2022/Data/ihaveadream.txt\"\n",
        "text=open(filepath)\n",
        "text=text.read()\n",
        "text"
      ]
    },
    {
      "cell_type": "code",
      "execution_count": null,
      "metadata": {
        "collapsed": true,
        "id": "I1xxA6r3pmVJ"
      },
      "outputs": [],
      "source": [
        "with open('text_test.txt', 'w+') as fh:\n",
        "    fh.write(text)"
      ]
    },
    {
      "cell_type": "code",
      "execution_count": null,
      "metadata": {
        "collapsed": true,
        "id": "KTraQnnEpmVN"
      },
      "outputs": [],
      "source": []
    },
    {
      "cell_type": "markdown",
      "metadata": {
        "id": "dxQghGUmtd2E"
      },
      "source": [
        "**Lets load our needed libraries**"
      ]
    },
    {
      "cell_type": "code",
      "execution_count": null,
      "metadata": {
        "collapsed": true,
        "id": "5fWDXSZdtd2F"
      },
      "outputs": [],
      "source": [
        "#numpy\n",
        "import numpy as np\n",
        "from numpy import *\n",
        "from numpy import random # random data\n",
        "\n",
        "#pandas\n",
        "import pandas as pd\n",
        "\n",
        "#plotting with matplotlib\n",
        "import matplotlib.pyplot as plt\n",
        "%matplotlib inline\n",
        "\n"
      ]
    },
    {
      "cell_type": "markdown",
      "metadata": {
        "id": "Qhbas_4Dtd2F"
      },
      "source": [
        "# **Pandas**"
      ]
    },
    {
      "cell_type": "markdown",
      "metadata": {
        "id": "6ZW5x0Aetd2F"
      },
      "source": [
        "\n",
        "![pandas1](https://media.giphy.com/media/Wa5JDuv6kzoTC/giphy.gif)\n"
      ]
    },
    {
      "cell_type": "markdown",
      "metadata": {
        "id": "SwUxqvTXtd2G"
      },
      "source": [
        "## Why is Pandas AMAZING?"
      ]
    },
    {
      "cell_type": "markdown",
      "metadata": {
        "id": "C9qxYdkjtd2G"
      },
      "source": [
        "1. super easy loading in data\n",
        "2. easy data cleaning\n",
        "3. easy data manipulation\n",
        "4. easy merging and extraction\n"
      ]
    },
    {
      "cell_type": "code",
      "source": [
        "import pandas as pd"
      ],
      "metadata": {
        "id": "6cgbhIvuaGVg"
      },
      "execution_count": null,
      "outputs": []
    },
    {
      "cell_type": "code",
      "source": [
        "pd.Series?"
      ],
      "metadata": {
        "id": "vlr_570DZ_Rz"
      },
      "execution_count": null,
      "outputs": []
    },
    {
      "cell_type": "code",
      "source": [
        "import pandas as pd \n",
        "\n",
        "ser = pd.Series([\"My\", \"name\", \"is\", \"ash\", \"hello\"])\n",
        "ser"
      ],
      "metadata": {
        "colab": {
          "base_uri": "https://localhost:8080/"
        },
        "id": "FsJ1PTt3f-Tb",
        "outputId": "4703ce24-39f1-443d-e68c-f3fcf25ba5b1"
      },
      "execution_count": null,
      "outputs": [
        {
          "output_type": "execute_result",
          "data": {
            "text/plain": [
              "0       My\n",
              "1     name\n",
              "2       is\n",
              "3      ash\n",
              "4    hello\n",
              "dtype: object"
            ]
          },
          "metadata": {},
          "execution_count": 57
        }
      ]
    },
    {
      "cell_type": "code",
      "source": [
        "ser = pd.Series([\"My\", \"name\", \"is\", \"ash\", \"hello\"], index = [1,2,3,4,5])\n",
        "ser"
      ],
      "metadata": {
        "colab": {
          "base_uri": "https://localhost:8080/"
        },
        "id": "IcdmYl9egOMz",
        "outputId": "73e531be-4fa4-4ae6-9130-6e5a1eb5e9c4"
      },
      "execution_count": null,
      "outputs": [
        {
          "output_type": "execute_result",
          "data": {
            "text/plain": [
              "1       My\n",
              "2     name\n",
              "3       is\n",
              "4      ash\n",
              "5    hello\n",
              "dtype: object"
            ]
          },
          "metadata": {},
          "execution_count": 58
        }
      ]
    },
    {
      "cell_type": "markdown",
      "source": [
        "Create the data as a dict of lists:\n",
        "\n",
        "We will create again a shopping list!\n"
      ],
      "metadata": {
        "id": "51Yl1adcgblr"
      }
    },
    {
      "cell_type": "code",
      "source": [
        "my_data = {\n",
        "    'drygroceries': [\"pasta\", \"rice\", \"coffee\", \"beans\"],\n",
        "    'milkproducts': [\"cheese\", \"cream\", \"sour cream\", \"yogurt\"],\n",
        "    'drinks': ['tea', 'coffee', 'water', 'juice']\n",
        "}"
      ],
      "metadata": {
        "id": "jiqYxjnWgbFB"
      },
      "execution_count": null,
      "outputs": []
    },
    {
      "cell_type": "code",
      "source": [
        "\n",
        "# Index is also optional\n",
        "my_index = ['a', 'b', 'c', 'd']"
      ],
      "metadata": {
        "id": "WvAjajY3gklb"
      },
      "execution_count": null,
      "outputs": []
    },
    {
      "cell_type": "code",
      "source": [
        "df = pd.DataFrame(data=my_data,index=my_index)\n",
        "df"
      ],
      "metadata": {
        "colab": {
          "base_uri": "https://localhost:8080/",
          "height": 175
        },
        "id": "q_Pdny9WgiJt",
        "outputId": "1945ae92-adfa-40e0-8947-b9a433f6cbf5"
      },
      "execution_count": null,
      "outputs": [
        {
          "output_type": "execute_result",
          "data": {
            "text/plain": [
              "  drygroceries milkproducts  drinks\n",
              "a        pasta       cheese     tea\n",
              "b         rice        cream  coffee\n",
              "c       coffee   sour cream   water\n",
              "d        beans       yogurt   juice"
            ],
            "text/html": [
              "\n",
              "  <div id=\"df-1b7b2f9f-290f-4464-a74c-f47205a34a7e\">\n",
              "    <div class=\"colab-df-container\">\n",
              "      <div>\n",
              "<style scoped>\n",
              "    .dataframe tbody tr th:only-of-type {\n",
              "        vertical-align: middle;\n",
              "    }\n",
              "\n",
              "    .dataframe tbody tr th {\n",
              "        vertical-align: top;\n",
              "    }\n",
              "\n",
              "    .dataframe thead th {\n",
              "        text-align: right;\n",
              "    }\n",
              "</style>\n",
              "<table border=\"1\" class=\"dataframe\">\n",
              "  <thead>\n",
              "    <tr style=\"text-align: right;\">\n",
              "      <th></th>\n",
              "      <th>drygroceries</th>\n",
              "      <th>milkproducts</th>\n",
              "      <th>drinks</th>\n",
              "    </tr>\n",
              "  </thead>\n",
              "  <tbody>\n",
              "    <tr>\n",
              "      <th>a</th>\n",
              "      <td>pasta</td>\n",
              "      <td>cheese</td>\n",
              "      <td>tea</td>\n",
              "    </tr>\n",
              "    <tr>\n",
              "      <th>b</th>\n",
              "      <td>rice</td>\n",
              "      <td>cream</td>\n",
              "      <td>coffee</td>\n",
              "    </tr>\n",
              "    <tr>\n",
              "      <th>c</th>\n",
              "      <td>coffee</td>\n",
              "      <td>sour cream</td>\n",
              "      <td>water</td>\n",
              "    </tr>\n",
              "    <tr>\n",
              "      <th>d</th>\n",
              "      <td>beans</td>\n",
              "      <td>yogurt</td>\n",
              "      <td>juice</td>\n",
              "    </tr>\n",
              "  </tbody>\n",
              "</table>\n",
              "</div>\n",
              "      <button class=\"colab-df-convert\" onclick=\"convertToInteractive('df-1b7b2f9f-290f-4464-a74c-f47205a34a7e')\"\n",
              "              title=\"Convert this dataframe to an interactive table.\"\n",
              "              style=\"display:none;\">\n",
              "        \n",
              "  <svg xmlns=\"http://www.w3.org/2000/svg\" height=\"24px\"viewBox=\"0 0 24 24\"\n",
              "       width=\"24px\">\n",
              "    <path d=\"M0 0h24v24H0V0z\" fill=\"none\"/>\n",
              "    <path d=\"M18.56 5.44l.94 2.06.94-2.06 2.06-.94-2.06-.94-.94-2.06-.94 2.06-2.06.94zm-11 1L8.5 8.5l.94-2.06 2.06-.94-2.06-.94L8.5 2.5l-.94 2.06-2.06.94zm10 10l.94 2.06.94-2.06 2.06-.94-2.06-.94-.94-2.06-.94 2.06-2.06.94z\"/><path d=\"M17.41 7.96l-1.37-1.37c-.4-.4-.92-.59-1.43-.59-.52 0-1.04.2-1.43.59L10.3 9.45l-7.72 7.72c-.78.78-.78 2.05 0 2.83L4 21.41c.39.39.9.59 1.41.59.51 0 1.02-.2 1.41-.59l7.78-7.78 2.81-2.81c.8-.78.8-2.07 0-2.86zM5.41 20L4 18.59l7.72-7.72 1.47 1.35L5.41 20z\"/>\n",
              "  </svg>\n",
              "      </button>\n",
              "      \n",
              "  <style>\n",
              "    .colab-df-container {\n",
              "      display:flex;\n",
              "      flex-wrap:wrap;\n",
              "      gap: 12px;\n",
              "    }\n",
              "\n",
              "    .colab-df-convert {\n",
              "      background-color: #E8F0FE;\n",
              "      border: none;\n",
              "      border-radius: 50%;\n",
              "      cursor: pointer;\n",
              "      display: none;\n",
              "      fill: #1967D2;\n",
              "      height: 32px;\n",
              "      padding: 0 0 0 0;\n",
              "      width: 32px;\n",
              "    }\n",
              "\n",
              "    .colab-df-convert:hover {\n",
              "      background-color: #E2EBFA;\n",
              "      box-shadow: 0px 1px 2px rgba(60, 64, 67, 0.3), 0px 1px 3px 1px rgba(60, 64, 67, 0.15);\n",
              "      fill: #174EA6;\n",
              "    }\n",
              "\n",
              "    [theme=dark] .colab-df-convert {\n",
              "      background-color: #3B4455;\n",
              "      fill: #D2E3FC;\n",
              "    }\n",
              "\n",
              "    [theme=dark] .colab-df-convert:hover {\n",
              "      background-color: #434B5C;\n",
              "      box-shadow: 0px 1px 3px 1px rgba(0, 0, 0, 0.15);\n",
              "      filter: drop-shadow(0px 1px 2px rgba(0, 0, 0, 0.3));\n",
              "      fill: #FFFFFF;\n",
              "    }\n",
              "  </style>\n",
              "\n",
              "      <script>\n",
              "        const buttonEl =\n",
              "          document.querySelector('#df-1b7b2f9f-290f-4464-a74c-f47205a34a7e button.colab-df-convert');\n",
              "        buttonEl.style.display =\n",
              "          google.colab.kernel.accessAllowed ? 'block' : 'none';\n",
              "\n",
              "        async function convertToInteractive(key) {\n",
              "          const element = document.querySelector('#df-1b7b2f9f-290f-4464-a74c-f47205a34a7e');\n",
              "          const dataTable =\n",
              "            await google.colab.kernel.invokeFunction('convertToInteractive',\n",
              "                                                     [key], {});\n",
              "          if (!dataTable) return;\n",
              "\n",
              "          const docLinkHtml = 'Like what you see? Visit the ' +\n",
              "            '<a target=\"_blank\" href=https://colab.research.google.com/notebooks/data_table.ipynb>data table notebook</a>'\n",
              "            + ' to learn more about interactive tables.';\n",
              "          element.innerHTML = '';\n",
              "          dataTable['output_type'] = 'display_data';\n",
              "          await google.colab.output.renderOutput(dataTable, element);\n",
              "          const docLink = document.createElement('div');\n",
              "          docLink.innerHTML = docLinkHtml;\n",
              "          element.appendChild(docLink);\n",
              "        }\n",
              "      </script>\n",
              "    </div>\n",
              "  </div>\n",
              "  "
            ]
          },
          "metadata": {},
          "execution_count": 61
        }
      ]
    },
    {
      "cell_type": "code",
      "source": [
        "# We can also do this without the intermediary steps\n",
        "df = pd.DataFrame(\n",
        "    data = {\n",
        "     'drygroceries': [\"pasta\", \"rice\", \"coffee\", \"beans\"],\n",
        "    'milkproducts': [\"cheese\", \"cream\", \"sour cream\", \"yogurt\"],\n",
        "    'drinks': ['tea', 'coffee', 'water', 'juice']\n",
        "    },\n",
        "    index = ['a', 'b', 'c', 'pterodactyl']\n",
        ")\n",
        "df"
      ],
      "metadata": {
        "colab": {
          "base_uri": "https://localhost:8080/",
          "height": 175
        },
        "id": "PnSdpAZYgpel",
        "outputId": "120007f2-d44e-4921-d7a5-afee4c027780"
      },
      "execution_count": null,
      "outputs": [
        {
          "output_type": "execute_result",
          "data": {
            "text/plain": [
              "            drygroceries milkproducts  drinks\n",
              "a                  pasta       cheese     tea\n",
              "b                   rice        cream  coffee\n",
              "c                 coffee   sour cream   water\n",
              "pterodactyl        beans       yogurt   juice"
            ],
            "text/html": [
              "\n",
              "  <div id=\"df-3748357a-c04c-48a6-8743-6667c81ca78d\">\n",
              "    <div class=\"colab-df-container\">\n",
              "      <div>\n",
              "<style scoped>\n",
              "    .dataframe tbody tr th:only-of-type {\n",
              "        vertical-align: middle;\n",
              "    }\n",
              "\n",
              "    .dataframe tbody tr th {\n",
              "        vertical-align: top;\n",
              "    }\n",
              "\n",
              "    .dataframe thead th {\n",
              "        text-align: right;\n",
              "    }\n",
              "</style>\n",
              "<table border=\"1\" class=\"dataframe\">\n",
              "  <thead>\n",
              "    <tr style=\"text-align: right;\">\n",
              "      <th></th>\n",
              "      <th>drygroceries</th>\n",
              "      <th>milkproducts</th>\n",
              "      <th>drinks</th>\n",
              "    </tr>\n",
              "  </thead>\n",
              "  <tbody>\n",
              "    <tr>\n",
              "      <th>a</th>\n",
              "      <td>pasta</td>\n",
              "      <td>cheese</td>\n",
              "      <td>tea</td>\n",
              "    </tr>\n",
              "    <tr>\n",
              "      <th>b</th>\n",
              "      <td>rice</td>\n",
              "      <td>cream</td>\n",
              "      <td>coffee</td>\n",
              "    </tr>\n",
              "    <tr>\n",
              "      <th>c</th>\n",
              "      <td>coffee</td>\n",
              "      <td>sour cream</td>\n",
              "      <td>water</td>\n",
              "    </tr>\n",
              "    <tr>\n",
              "      <th>pterodactyl</th>\n",
              "      <td>beans</td>\n",
              "      <td>yogurt</td>\n",
              "      <td>juice</td>\n",
              "    </tr>\n",
              "  </tbody>\n",
              "</table>\n",
              "</div>\n",
              "      <button class=\"colab-df-convert\" onclick=\"convertToInteractive('df-3748357a-c04c-48a6-8743-6667c81ca78d')\"\n",
              "              title=\"Convert this dataframe to an interactive table.\"\n",
              "              style=\"display:none;\">\n",
              "        \n",
              "  <svg xmlns=\"http://www.w3.org/2000/svg\" height=\"24px\"viewBox=\"0 0 24 24\"\n",
              "       width=\"24px\">\n",
              "    <path d=\"M0 0h24v24H0V0z\" fill=\"none\"/>\n",
              "    <path d=\"M18.56 5.44l.94 2.06.94-2.06 2.06-.94-2.06-.94-.94-2.06-.94 2.06-2.06.94zm-11 1L8.5 8.5l.94-2.06 2.06-.94-2.06-.94L8.5 2.5l-.94 2.06-2.06.94zm10 10l.94 2.06.94-2.06 2.06-.94-2.06-.94-.94-2.06-.94 2.06-2.06.94z\"/><path d=\"M17.41 7.96l-1.37-1.37c-.4-.4-.92-.59-1.43-.59-.52 0-1.04.2-1.43.59L10.3 9.45l-7.72 7.72c-.78.78-.78 2.05 0 2.83L4 21.41c.39.39.9.59 1.41.59.51 0 1.02-.2 1.41-.59l7.78-7.78 2.81-2.81c.8-.78.8-2.07 0-2.86zM5.41 20L4 18.59l7.72-7.72 1.47 1.35L5.41 20z\"/>\n",
              "  </svg>\n",
              "      </button>\n",
              "      \n",
              "  <style>\n",
              "    .colab-df-container {\n",
              "      display:flex;\n",
              "      flex-wrap:wrap;\n",
              "      gap: 12px;\n",
              "    }\n",
              "\n",
              "    .colab-df-convert {\n",
              "      background-color: #E8F0FE;\n",
              "      border: none;\n",
              "      border-radius: 50%;\n",
              "      cursor: pointer;\n",
              "      display: none;\n",
              "      fill: #1967D2;\n",
              "      height: 32px;\n",
              "      padding: 0 0 0 0;\n",
              "      width: 32px;\n",
              "    }\n",
              "\n",
              "    .colab-df-convert:hover {\n",
              "      background-color: #E2EBFA;\n",
              "      box-shadow: 0px 1px 2px rgba(60, 64, 67, 0.3), 0px 1px 3px 1px rgba(60, 64, 67, 0.15);\n",
              "      fill: #174EA6;\n",
              "    }\n",
              "\n",
              "    [theme=dark] .colab-df-convert {\n",
              "      background-color: #3B4455;\n",
              "      fill: #D2E3FC;\n",
              "    }\n",
              "\n",
              "    [theme=dark] .colab-df-convert:hover {\n",
              "      background-color: #434B5C;\n",
              "      box-shadow: 0px 1px 3px 1px rgba(0, 0, 0, 0.15);\n",
              "      filter: drop-shadow(0px 1px 2px rgba(0, 0, 0, 0.3));\n",
              "      fill: #FFFFFF;\n",
              "    }\n",
              "  </style>\n",
              "\n",
              "      <script>\n",
              "        const buttonEl =\n",
              "          document.querySelector('#df-3748357a-c04c-48a6-8743-6667c81ca78d button.colab-df-convert');\n",
              "        buttonEl.style.display =\n",
              "          google.colab.kernel.accessAllowed ? 'block' : 'none';\n",
              "\n",
              "        async function convertToInteractive(key) {\n",
              "          const element = document.querySelector('#df-3748357a-c04c-48a6-8743-6667c81ca78d');\n",
              "          const dataTable =\n",
              "            await google.colab.kernel.invokeFunction('convertToInteractive',\n",
              "                                                     [key], {});\n",
              "          if (!dataTable) return;\n",
              "\n",
              "          const docLinkHtml = 'Like what you see? Visit the ' +\n",
              "            '<a target=\"_blank\" href=https://colab.research.google.com/notebooks/data_table.ipynb>data table notebook</a>'\n",
              "            + ' to learn more about interactive tables.';\n",
              "          element.innerHTML = '';\n",
              "          dataTable['output_type'] = 'display_data';\n",
              "          await google.colab.output.renderOutput(dataTable, element);\n",
              "          const docLink = document.createElement('div');\n",
              "          docLink.innerHTML = docLinkHtml;\n",
              "          element.appendChild(docLink);\n",
              "        }\n",
              "      </script>\n",
              "    </div>\n",
              "  </div>\n",
              "  "
            ]
          },
          "metadata": {},
          "execution_count": 62
        }
      ]
    },
    {
      "cell_type": "markdown",
      "metadata": {
        "id": "pLYIH1hHtd2G"
      },
      "source": [
        "### Lets learn to load data in pandas\n",
        "\n",
        "We are going to start with yesterdays data - German Sputnik Newspaper articles"
      ]
    },
    {
      "cell_type": "markdown",
      "metadata": {
        "id": "ZVhHXqTrtd2H"
      },
      "source": [
        "**Lets try with pandas**"
      ]
    },
    {
      "cell_type": "code",
      "execution_count": null,
      "metadata": {
        "id": "8Yw_K_mJtd2H",
        "outputId": "1aca2850-486d-4a20-be38-9c64eee19bf2",
        "colab": {
          "base_uri": "https://localhost:8080/",
          "height": 282
        }
      },
      "outputs": [
        {
          "output_type": "error",
          "ename": "ParserError",
          "evalue": "ignored",
          "traceback": [
            "\u001b[0;31m---------------------------------------------------------------------------\u001b[0m",
            "\u001b[0;31mParserError\u001b[0m                               Traceback (most recent call last)",
            "\u001b[0;32m<ipython-input-63-048ac8a8f42d>\u001b[0m in \u001b[0;36m<module>\u001b[0;34m\u001b[0m\n\u001b[0;32m----> 1\u001b[0;31m \u001b[0msputnikdata1\u001b[0m \u001b[0;34m=\u001b[0m \u001b[0mpd\u001b[0m\u001b[0;34m.\u001b[0m\u001b[0mread_csv\u001b[0m\u001b[0;34m(\u001b[0m\u001b[0;34m'/content/drive/MyDrive/Colab Notebooks/Oxford Text Analysis 22/Python QTA Drive Oxford 2022/Data/sputnikgerman20.tsv'\u001b[0m\u001b[0;34m)\u001b[0m\u001b[0;34m\u001b[0m\u001b[0;34m\u001b[0m\u001b[0m\n\u001b[0m\u001b[1;32m      2\u001b[0m \u001b[0;34m\u001b[0m\u001b[0m\n\u001b[1;32m      3\u001b[0m \u001b[0;31m#why do we get an error message?\u001b[0m\u001b[0;34m\u001b[0m\u001b[0;34m\u001b[0m\u001b[0;34m\u001b[0m\u001b[0m\n",
            "\u001b[0;32m/usr/local/lib/python3.8/dist-packages/pandas/util/_decorators.py\u001b[0m in \u001b[0;36mwrapper\u001b[0;34m(*args, **kwargs)\u001b[0m\n\u001b[1;32m    309\u001b[0m                     \u001b[0mstacklevel\u001b[0m\u001b[0;34m=\u001b[0m\u001b[0mstacklevel\u001b[0m\u001b[0;34m,\u001b[0m\u001b[0;34m\u001b[0m\u001b[0;34m\u001b[0m\u001b[0m\n\u001b[1;32m    310\u001b[0m                 )\n\u001b[0;32m--> 311\u001b[0;31m             \u001b[0;32mreturn\u001b[0m \u001b[0mfunc\u001b[0m\u001b[0;34m(\u001b[0m\u001b[0;34m*\u001b[0m\u001b[0margs\u001b[0m\u001b[0;34m,\u001b[0m \u001b[0;34m**\u001b[0m\u001b[0mkwargs\u001b[0m\u001b[0;34m)\u001b[0m\u001b[0;34m\u001b[0m\u001b[0;34m\u001b[0m\u001b[0m\n\u001b[0m\u001b[1;32m    312\u001b[0m \u001b[0;34m\u001b[0m\u001b[0m\n\u001b[1;32m    313\u001b[0m         \u001b[0;32mreturn\u001b[0m \u001b[0mwrapper\u001b[0m\u001b[0;34m\u001b[0m\u001b[0;34m\u001b[0m\u001b[0m\n",
            "\u001b[0;32m/usr/local/lib/python3.8/dist-packages/pandas/io/parsers/readers.py\u001b[0m in \u001b[0;36mread_csv\u001b[0;34m(filepath_or_buffer, sep, delimiter, header, names, index_col, usecols, squeeze, prefix, mangle_dupe_cols, dtype, engine, converters, true_values, false_values, skipinitialspace, skiprows, skipfooter, nrows, na_values, keep_default_na, na_filter, verbose, skip_blank_lines, parse_dates, infer_datetime_format, keep_date_col, date_parser, dayfirst, cache_dates, iterator, chunksize, compression, thousands, decimal, lineterminator, quotechar, quoting, doublequote, escapechar, comment, encoding, encoding_errors, dialect, error_bad_lines, warn_bad_lines, on_bad_lines, delim_whitespace, low_memory, memory_map, float_precision, storage_options)\u001b[0m\n\u001b[1;32m    584\u001b[0m     \u001b[0mkwds\u001b[0m\u001b[0;34m.\u001b[0m\u001b[0mupdate\u001b[0m\u001b[0;34m(\u001b[0m\u001b[0mkwds_defaults\u001b[0m\u001b[0;34m)\u001b[0m\u001b[0;34m\u001b[0m\u001b[0;34m\u001b[0m\u001b[0m\n\u001b[1;32m    585\u001b[0m \u001b[0;34m\u001b[0m\u001b[0m\n\u001b[0;32m--> 586\u001b[0;31m     \u001b[0;32mreturn\u001b[0m \u001b[0m_read\u001b[0m\u001b[0;34m(\u001b[0m\u001b[0mfilepath_or_buffer\u001b[0m\u001b[0;34m,\u001b[0m \u001b[0mkwds\u001b[0m\u001b[0;34m)\u001b[0m\u001b[0;34m\u001b[0m\u001b[0;34m\u001b[0m\u001b[0m\n\u001b[0m\u001b[1;32m    587\u001b[0m \u001b[0;34m\u001b[0m\u001b[0m\n\u001b[1;32m    588\u001b[0m \u001b[0;34m\u001b[0m\u001b[0m\n",
            "\u001b[0;32m/usr/local/lib/python3.8/dist-packages/pandas/io/parsers/readers.py\u001b[0m in \u001b[0;36m_read\u001b[0;34m(filepath_or_buffer, kwds)\u001b[0m\n\u001b[1;32m    486\u001b[0m \u001b[0;34m\u001b[0m\u001b[0m\n\u001b[1;32m    487\u001b[0m     \u001b[0;32mwith\u001b[0m \u001b[0mparser\u001b[0m\u001b[0;34m:\u001b[0m\u001b[0;34m\u001b[0m\u001b[0;34m\u001b[0m\u001b[0m\n\u001b[0;32m--> 488\u001b[0;31m         \u001b[0;32mreturn\u001b[0m \u001b[0mparser\u001b[0m\u001b[0;34m.\u001b[0m\u001b[0mread\u001b[0m\u001b[0;34m(\u001b[0m\u001b[0mnrows\u001b[0m\u001b[0;34m)\u001b[0m\u001b[0;34m\u001b[0m\u001b[0;34m\u001b[0m\u001b[0m\n\u001b[0m\u001b[1;32m    489\u001b[0m \u001b[0;34m\u001b[0m\u001b[0m\n\u001b[1;32m    490\u001b[0m \u001b[0;34m\u001b[0m\u001b[0m\n",
            "\u001b[0;32m/usr/local/lib/python3.8/dist-packages/pandas/io/parsers/readers.py\u001b[0m in \u001b[0;36mread\u001b[0;34m(self, nrows)\u001b[0m\n\u001b[1;32m   1045\u001b[0m     \u001b[0;32mdef\u001b[0m \u001b[0mread\u001b[0m\u001b[0;34m(\u001b[0m\u001b[0mself\u001b[0m\u001b[0;34m,\u001b[0m \u001b[0mnrows\u001b[0m\u001b[0;34m=\u001b[0m\u001b[0;32mNone\u001b[0m\u001b[0;34m)\u001b[0m\u001b[0;34m:\u001b[0m\u001b[0;34m\u001b[0m\u001b[0;34m\u001b[0m\u001b[0m\n\u001b[1;32m   1046\u001b[0m         \u001b[0mnrows\u001b[0m \u001b[0;34m=\u001b[0m \u001b[0mvalidate_integer\u001b[0m\u001b[0;34m(\u001b[0m\u001b[0;34m\"nrows\"\u001b[0m\u001b[0;34m,\u001b[0m \u001b[0mnrows\u001b[0m\u001b[0;34m)\u001b[0m\u001b[0;34m\u001b[0m\u001b[0;34m\u001b[0m\u001b[0m\n\u001b[0;32m-> 1047\u001b[0;31m         \u001b[0mindex\u001b[0m\u001b[0;34m,\u001b[0m \u001b[0mcolumns\u001b[0m\u001b[0;34m,\u001b[0m \u001b[0mcol_dict\u001b[0m \u001b[0;34m=\u001b[0m \u001b[0mself\u001b[0m\u001b[0;34m.\u001b[0m\u001b[0m_engine\u001b[0m\u001b[0;34m.\u001b[0m\u001b[0mread\u001b[0m\u001b[0;34m(\u001b[0m\u001b[0mnrows\u001b[0m\u001b[0;34m)\u001b[0m\u001b[0;34m\u001b[0m\u001b[0;34m\u001b[0m\u001b[0m\n\u001b[0m\u001b[1;32m   1048\u001b[0m \u001b[0;34m\u001b[0m\u001b[0m\n\u001b[1;32m   1049\u001b[0m         \u001b[0;32mif\u001b[0m \u001b[0mindex\u001b[0m \u001b[0;32mis\u001b[0m \u001b[0;32mNone\u001b[0m\u001b[0;34m:\u001b[0m\u001b[0;34m\u001b[0m\u001b[0;34m\u001b[0m\u001b[0m\n",
            "\u001b[0;32m/usr/local/lib/python3.8/dist-packages/pandas/io/parsers/c_parser_wrapper.py\u001b[0m in \u001b[0;36mread\u001b[0;34m(self, nrows)\u001b[0m\n\u001b[1;32m    222\u001b[0m         \u001b[0;32mtry\u001b[0m\u001b[0;34m:\u001b[0m\u001b[0;34m\u001b[0m\u001b[0;34m\u001b[0m\u001b[0m\n\u001b[1;32m    223\u001b[0m             \u001b[0;32mif\u001b[0m \u001b[0mself\u001b[0m\u001b[0;34m.\u001b[0m\u001b[0mlow_memory\u001b[0m\u001b[0;34m:\u001b[0m\u001b[0;34m\u001b[0m\u001b[0;34m\u001b[0m\u001b[0m\n\u001b[0;32m--> 224\u001b[0;31m                 \u001b[0mchunks\u001b[0m \u001b[0;34m=\u001b[0m \u001b[0mself\u001b[0m\u001b[0;34m.\u001b[0m\u001b[0m_reader\u001b[0m\u001b[0;34m.\u001b[0m\u001b[0mread_low_memory\u001b[0m\u001b[0;34m(\u001b[0m\u001b[0mnrows\u001b[0m\u001b[0;34m)\u001b[0m\u001b[0;34m\u001b[0m\u001b[0;34m\u001b[0m\u001b[0m\n\u001b[0m\u001b[1;32m    225\u001b[0m                 \u001b[0;31m# destructive to chunks\u001b[0m\u001b[0;34m\u001b[0m\u001b[0;34m\u001b[0m\u001b[0;34m\u001b[0m\u001b[0m\n\u001b[1;32m    226\u001b[0m                 \u001b[0mdata\u001b[0m \u001b[0;34m=\u001b[0m \u001b[0m_concatenate_chunks\u001b[0m\u001b[0;34m(\u001b[0m\u001b[0mchunks\u001b[0m\u001b[0;34m)\u001b[0m\u001b[0;34m\u001b[0m\u001b[0;34m\u001b[0m\u001b[0m\n",
            "\u001b[0;32m/usr/local/lib/python3.8/dist-packages/pandas/_libs/parsers.pyx\u001b[0m in \u001b[0;36mpandas._libs.parsers.TextReader.read_low_memory\u001b[0;34m()\u001b[0m\n",
            "\u001b[0;32m/usr/local/lib/python3.8/dist-packages/pandas/_libs/parsers.pyx\u001b[0m in \u001b[0;36mpandas._libs.parsers.TextReader._read_rows\u001b[0;34m()\u001b[0m\n",
            "\u001b[0;32m/usr/local/lib/python3.8/dist-packages/pandas/_libs/parsers.pyx\u001b[0m in \u001b[0;36mpandas._libs.parsers.TextReader._tokenize_rows\u001b[0;34m()\u001b[0m\n",
            "\u001b[0;32m/usr/local/lib/python3.8/dist-packages/pandas/_libs/parsers.pyx\u001b[0m in \u001b[0;36mpandas._libs.parsers.raise_parser_error\u001b[0;34m()\u001b[0m\n",
            "\u001b[0;31mParserError\u001b[0m: Error tokenizing data. C error: Expected 8 fields in line 3, saw 18\n"
          ]
        }
      ],
      "source": [
        "sputnikdata1 = pd.read_csv('/content/drive/MyDrive/Colab Notebooks/Oxford Text Analysis 22/Python QTA Drive Oxford 2022/Data/sputnikgerman20.tsv')\n",
        "\n",
        "#why do we get an error message?"
      ]
    },
    {
      "cell_type": "code",
      "execution_count": null,
      "metadata": {
        "id": "9iLbAFjGtd2I",
        "outputId": "aa5830e3-e19b-41c2-fde7-651cc892ede9",
        "colab": {
          "base_uri": "https://localhost:8080/",
          "height": 1051
        }
      },
      "outputs": [
        {
          "output_type": "execute_result",
          "data": {
            "text/plain": [
              "  http://de.sputniknews.compolitik/20160107306965193-Lindner-Merkel-Migrationspolitik-Chaos-Einwanderungsgesetz  \\\n",
              "0  http://de.sputniknews.com/panorama/20150210/30...                                                              \n",
              "1  http://de.sputniknews.compolitik/2018111732299...                                                              \n",
              "2  http://de.sputniknews.compolitik/2018110932290...                                                              \n",
              "3  http://de.sputniknews.compolitik/2016030630828...                                                              \n",
              "4  http://de.sputniknews.compolitik/2015101630498...                                                              \n",
              "\n",
              "  http://web.archive.org/web/20170227192503/https://de.sputniknews.com/amp/politik/20160107306965193-Lindner-Merkel-Migrationspolitik-Chaos-Einwanderungsgesetz/  \\\n",
              "0  http://web.archive.org/web/20150315163311/http...                                                                                                               \n",
              "1  http://web.archive.org/web/20181117160304/http...                                                                                                               \n",
              "2  http://web.archive.org/web/20181123020955/http...                                                                                                               \n",
              "3  http://web.archive.org/web/20181126055753/http...                                                                                                               \n",
              "4  http://web.archive.org/web/20181123212339/http...                                                                                                               \n",
              "\n",
              "   20160107  \\\n",
              "0  20150210   \n",
              "1  20181117   \n",
              "2  20181109   \n",
              "3  20160306   \n",
              "4  20151016   \n",
              "\n",
              "  FDP-Chef Lindner: Merkels Flüchtlingspolitik führt Europa ins Chaos  \\\n",
              "0  Experte: Rund 1,3 Millionen wehrpflichtige Ukr...                    \n",
              "1  So präzisiert Nahles ihre Idee für Hartz IV-Al...                    \n",
              "2  Trump beschränkt drastisch Asylgewährung für i...                    \n",
              "3  Österreich drängt auf deutsches Flüchtlingskon...                    \n",
              "4  Migrationskrise: Warschau wehrt sich gegen Mer...                    \n",
              "\n",
              "  Der Satz „Wir schaffen das“ der Bundeskanzlerin ersetze kein Regierungshandeln, so Lindner. Seiner Meinung nach ist ein „rationales, humanitäres, europäisch abgestimmtes Einwanderungsgesetz“ nötig, welches eine systematisierte Registrierung von Flüchtlingen und deren legale Integration ermöglichen würde. Die CDU/CSU-Politiker hatten von Merkel wiederholt gefordert, den Migranten-Zustrom zu begrenzen. Doch die Kanzlerin hat sich bislang geweigert, eine Obergrenze für Flüchtlinge festzulegen, was die Grenzschließung für neu ankommende Migranten bedeuten würde.  \\\n",
              "0  In letzter Zeit sei knapp einer halben Million...                                                                                                                                                                                                                                                                                                                                                                                                                                                                                                                                     \n",
              "1  {                    \\vars\\\": {               ...                                                                                                                                                                                                                                                                                                                                                                                                                                                                                                                                     \n",
              "2  {                    \\vars\\\": {               ...                                                                                                                                                                                                                                                                                                                                                                                                                                                                                                                                     \n",
              "3  {                    \\vars\\\": {               ...                                                                                                                                                                                                                                                                                                                                                                                                                                                                                                                                     \n",
              "4  {                    \\vars\\\": {               ...                                                                                                                                                                                                                                                                                                                                                                                                                                                                                                                                     \n",
              "\n",
              "   OVER-THRESHOLD                 flüchtlingen migranten flüchtlinge   70  \\\n",
              "0  OVER-THRESHOLD                 flüchtlingsstatus asyl flüchtlinge   43   \n",
              "1  OVER-THRESHOLD                                          migration  884   \n",
              "2  OVER-THRESHOLD                         einwanderer migranten asyl  998   \n",
              "3  OVER-THRESHOLD  asyl flüchtlinge migranten asylanträge flüchtl...  699   \n",
              "4  OVER-THRESHOLD  flüchtlingen migrationskrise migranten flüchtl...  805   \n",
              "\n",
              "   0.572646110198091  \n",
              "0           0.549350  \n",
              "1           0.549179  \n",
              "2           0.548637  \n",
              "3           0.547927  \n",
              "4           0.544957  "
            ],
            "text/html": [
              "\n",
              "  <div id=\"df-9b05a16f-e102-43e1-a839-6b4cdb84f676\">\n",
              "    <div class=\"colab-df-container\">\n",
              "      <div>\n",
              "<style scoped>\n",
              "    .dataframe tbody tr th:only-of-type {\n",
              "        vertical-align: middle;\n",
              "    }\n",
              "\n",
              "    .dataframe tbody tr th {\n",
              "        vertical-align: top;\n",
              "    }\n",
              "\n",
              "    .dataframe thead th {\n",
              "        text-align: right;\n",
              "    }\n",
              "</style>\n",
              "<table border=\"1\" class=\"dataframe\">\n",
              "  <thead>\n",
              "    <tr style=\"text-align: right;\">\n",
              "      <th></th>\n",
              "      <th>http://de.sputniknews.compolitik/20160107306965193-Lindner-Merkel-Migrationspolitik-Chaos-Einwanderungsgesetz</th>\n",
              "      <th>http://web.archive.org/web/20170227192503/https://de.sputniknews.com/amp/politik/20160107306965193-Lindner-Merkel-Migrationspolitik-Chaos-Einwanderungsgesetz/</th>\n",
              "      <th>20160107</th>\n",
              "      <th>FDP-Chef Lindner: Merkels Flüchtlingspolitik führt Europa ins Chaos</th>\n",
              "      <th>Der Satz „Wir schaffen das“ der Bundeskanzlerin ersetze kein Regierungshandeln, so Lindner. Seiner Meinung nach ist ein „rationales, humanitäres, europäisch abgestimmtes Einwanderungsgesetz“ nötig, welches eine systematisierte Registrierung von Flüchtlingen und deren legale Integration ermöglichen würde. Die CDU/CSU-Politiker hatten von Merkel wiederholt gefordert, den Migranten-Zustrom zu begrenzen. Doch die Kanzlerin hat sich bislang geweigert, eine Obergrenze für Flüchtlinge festzulegen, was die Grenzschließung für neu ankommende Migranten bedeuten würde.</th>\n",
              "      <th>OVER-THRESHOLD</th>\n",
              "      <th>flüchtlingen migranten flüchtlinge</th>\n",
              "      <th>70</th>\n",
              "      <th>0.572646110198091</th>\n",
              "    </tr>\n",
              "  </thead>\n",
              "  <tbody>\n",
              "    <tr>\n",
              "      <th>0</th>\n",
              "      <td>http://de.sputniknews.com/panorama/20150210/30...</td>\n",
              "      <td>http://web.archive.org/web/20150315163311/http...</td>\n",
              "      <td>20150210</td>\n",
              "      <td>Experte: Rund 1,3 Millionen wehrpflichtige Ukr...</td>\n",
              "      <td>In letzter Zeit sei knapp einer halben Million...</td>\n",
              "      <td>OVER-THRESHOLD</td>\n",
              "      <td>flüchtlingsstatus asyl flüchtlinge</td>\n",
              "      <td>43</td>\n",
              "      <td>0.549350</td>\n",
              "    </tr>\n",
              "    <tr>\n",
              "      <th>1</th>\n",
              "      <td>http://de.sputniknews.compolitik/2018111732299...</td>\n",
              "      <td>http://web.archive.org/web/20181117160304/http...</td>\n",
              "      <td>20181117</td>\n",
              "      <td>So präzisiert Nahles ihre Idee für Hartz IV-Al...</td>\n",
              "      <td>{                    \\vars\\\": {               ...</td>\n",
              "      <td>OVER-THRESHOLD</td>\n",
              "      <td>migration</td>\n",
              "      <td>884</td>\n",
              "      <td>0.549179</td>\n",
              "    </tr>\n",
              "    <tr>\n",
              "      <th>2</th>\n",
              "      <td>http://de.sputniknews.compolitik/2018110932290...</td>\n",
              "      <td>http://web.archive.org/web/20181123020955/http...</td>\n",
              "      <td>20181109</td>\n",
              "      <td>Trump beschränkt drastisch Asylgewährung für i...</td>\n",
              "      <td>{                    \\vars\\\": {               ...</td>\n",
              "      <td>OVER-THRESHOLD</td>\n",
              "      <td>einwanderer migranten asyl</td>\n",
              "      <td>998</td>\n",
              "      <td>0.548637</td>\n",
              "    </tr>\n",
              "    <tr>\n",
              "      <th>3</th>\n",
              "      <td>http://de.sputniknews.compolitik/2016030630828...</td>\n",
              "      <td>http://web.archive.org/web/20181126055753/http...</td>\n",
              "      <td>20160306</td>\n",
              "      <td>Österreich drängt auf deutsches Flüchtlingskon...</td>\n",
              "      <td>{                    \\vars\\\": {               ...</td>\n",
              "      <td>OVER-THRESHOLD</td>\n",
              "      <td>asyl flüchtlinge migranten asylanträge flüchtl...</td>\n",
              "      <td>699</td>\n",
              "      <td>0.547927</td>\n",
              "    </tr>\n",
              "    <tr>\n",
              "      <th>4</th>\n",
              "      <td>http://de.sputniknews.compolitik/2015101630498...</td>\n",
              "      <td>http://web.archive.org/web/20181123212339/http...</td>\n",
              "      <td>20151016</td>\n",
              "      <td>Migrationskrise: Warschau wehrt sich gegen Mer...</td>\n",
              "      <td>{                    \\vars\\\": {               ...</td>\n",
              "      <td>OVER-THRESHOLD</td>\n",
              "      <td>flüchtlingen migrationskrise migranten flüchtl...</td>\n",
              "      <td>805</td>\n",
              "      <td>0.544957</td>\n",
              "    </tr>\n",
              "  </tbody>\n",
              "</table>\n",
              "</div>\n",
              "      <button class=\"colab-df-convert\" onclick=\"convertToInteractive('df-9b05a16f-e102-43e1-a839-6b4cdb84f676')\"\n",
              "              title=\"Convert this dataframe to an interactive table.\"\n",
              "              style=\"display:none;\">\n",
              "        \n",
              "  <svg xmlns=\"http://www.w3.org/2000/svg\" height=\"24px\"viewBox=\"0 0 24 24\"\n",
              "       width=\"24px\">\n",
              "    <path d=\"M0 0h24v24H0V0z\" fill=\"none\"/>\n",
              "    <path d=\"M18.56 5.44l.94 2.06.94-2.06 2.06-.94-2.06-.94-.94-2.06-.94 2.06-2.06.94zm-11 1L8.5 8.5l.94-2.06 2.06-.94-2.06-.94L8.5 2.5l-.94 2.06-2.06.94zm10 10l.94 2.06.94-2.06 2.06-.94-2.06-.94-.94-2.06-.94 2.06-2.06.94z\"/><path d=\"M17.41 7.96l-1.37-1.37c-.4-.4-.92-.59-1.43-.59-.52 0-1.04.2-1.43.59L10.3 9.45l-7.72 7.72c-.78.78-.78 2.05 0 2.83L4 21.41c.39.39.9.59 1.41.59.51 0 1.02-.2 1.41-.59l7.78-7.78 2.81-2.81c.8-.78.8-2.07 0-2.86zM5.41 20L4 18.59l7.72-7.72 1.47 1.35L5.41 20z\"/>\n",
              "  </svg>\n",
              "      </button>\n",
              "      \n",
              "  <style>\n",
              "    .colab-df-container {\n",
              "      display:flex;\n",
              "      flex-wrap:wrap;\n",
              "      gap: 12px;\n",
              "    }\n",
              "\n",
              "    .colab-df-convert {\n",
              "      background-color: #E8F0FE;\n",
              "      border: none;\n",
              "      border-radius: 50%;\n",
              "      cursor: pointer;\n",
              "      display: none;\n",
              "      fill: #1967D2;\n",
              "      height: 32px;\n",
              "      padding: 0 0 0 0;\n",
              "      width: 32px;\n",
              "    }\n",
              "\n",
              "    .colab-df-convert:hover {\n",
              "      background-color: #E2EBFA;\n",
              "      box-shadow: 0px 1px 2px rgba(60, 64, 67, 0.3), 0px 1px 3px 1px rgba(60, 64, 67, 0.15);\n",
              "      fill: #174EA6;\n",
              "    }\n",
              "\n",
              "    [theme=dark] .colab-df-convert {\n",
              "      background-color: #3B4455;\n",
              "      fill: #D2E3FC;\n",
              "    }\n",
              "\n",
              "    [theme=dark] .colab-df-convert:hover {\n",
              "      background-color: #434B5C;\n",
              "      box-shadow: 0px 1px 3px 1px rgba(0, 0, 0, 0.15);\n",
              "      filter: drop-shadow(0px 1px 2px rgba(0, 0, 0, 0.3));\n",
              "      fill: #FFFFFF;\n",
              "    }\n",
              "  </style>\n",
              "\n",
              "      <script>\n",
              "        const buttonEl =\n",
              "          document.querySelector('#df-9b05a16f-e102-43e1-a839-6b4cdb84f676 button.colab-df-convert');\n",
              "        buttonEl.style.display =\n",
              "          google.colab.kernel.accessAllowed ? 'block' : 'none';\n",
              "\n",
              "        async function convertToInteractive(key) {\n",
              "          const element = document.querySelector('#df-9b05a16f-e102-43e1-a839-6b4cdb84f676');\n",
              "          const dataTable =\n",
              "            await google.colab.kernel.invokeFunction('convertToInteractive',\n",
              "                                                     [key], {});\n",
              "          if (!dataTable) return;\n",
              "\n",
              "          const docLinkHtml = 'Like what you see? Visit the ' +\n",
              "            '<a target=\"_blank\" href=https://colab.research.google.com/notebooks/data_table.ipynb>data table notebook</a>'\n",
              "            + ' to learn more about interactive tables.';\n",
              "          element.innerHTML = '';\n",
              "          dataTable['output_type'] = 'display_data';\n",
              "          await google.colab.output.renderOutput(dataTable, element);\n",
              "          const docLink = document.createElement('div');\n",
              "          docLink.innerHTML = docLinkHtml;\n",
              "          element.appendChild(docLink);\n",
              "        }\n",
              "      </script>\n",
              "    </div>\n",
              "  </div>\n",
              "  "
            ]
          },
          "metadata": {},
          "execution_count": 64
        }
      ],
      "source": [
        "import pandas as pd\n",
        "\n",
        "sputnikdata1 = pd.read_csv('/content/drive/MyDrive/Colab Notebooks/Oxford Text Analysis 22/Python QTA Drive Oxford 2022/Data/sputnikgerman20.tsv',sep='\\t')\n",
        "sputnikdata1.head()\n",
        "#what do we want to change here"
      ]
    },
    {
      "cell_type": "code",
      "execution_count": null,
      "metadata": {
        "id": "I4ddtvO7td2I",
        "outputId": "8f2f44d8-fa1d-471f-88c7-11001aa621bd",
        "colab": {
          "base_uri": "https://localhost:8080/",
          "height": 1504
        }
      },
      "outputs": [
        {
          "output_type": "execute_result",
          "data": {
            "text/plain": [
              "                                                    0  \\\n",
              "0   http://de.sputniknews.compolitik/2016010730696...   \n",
              "1   http://de.sputniknews.com/panorama/20150210/30...   \n",
              "2   http://de.sputniknews.compolitik/2018111732299...   \n",
              "3   http://de.sputniknews.compolitik/2018110932290...   \n",
              "4   http://de.sputniknews.compolitik/2016030630828...   \n",
              "5   http://de.sputniknews.compolitik/2015101630498...   \n",
              "6   http://de.sputniknews.comkarikatur/20151020305...   \n",
              "7   http://de.sputniknews.com/german.ruvr.ru/news/...   \n",
              "8   http://de.sputniknews.compolitik/2018081332193...   \n",
              "9   http://de.sputniknews.compolitik/2017021931460...   \n",
              "10  http://de.sputniknews.companorama/201512283068...   \n",
              "11  http://de.sputniknews.compolitik/2016061431060...   \n",
              "12  http://de.sputniknews.comgesellschaft/20181210...   \n",
              "13  http://de.sputniknews.compolitik/2015110230534...   \n",
              "14  http://de.sputniknews.companorama/201703073148...   \n",
              "15  http://de.sputniknews.compolitik/2017020731442...   \n",
              "16  http://de.sputniknews.comgesellschaft/20180619...   \n",
              "17  http://de.sputniknews.compolitik/2018091432231...   \n",
              "18  http://de.sputniknews.com/german.ruvr.ru/2013_...   \n",
              "19  http://de.sputniknews.companorama/201707153166...   \n",
              "\n",
              "                                                    1         2  \\\n",
              "0   http://web.archive.org/web/20170227192503/http...  20160107   \n",
              "1   http://web.archive.org/web/20150315163311/http...  20150210   \n",
              "2   http://web.archive.org/web/20181117160304/http...  20181117   \n",
              "3   http://web.archive.org/web/20181123020955/http...  20181109   \n",
              "4   http://web.archive.org/web/20181126055753/http...  20160306   \n",
              "5   http://web.archive.org/web/20181123212339/http...  20151016   \n",
              "6   http://web.archive.org/web/20181201153825/http...  20151020   \n",
              "7   http://web.archive.org/web/20150726055154/http...  20140106   \n",
              "8   http://web.archive.org/web/20180813172522/http...  20180813   \n",
              "9   http://web.archive.org/web/20170324060955/http...  20170219   \n",
              "10  http://web.archive.org/web/20181123231931/http...  20151228   \n",
              "11  http://web.archive.org/web/20171008021814/http...  20160614   \n",
              "12  http://web.archive.org/web/20181210233556/http...  20181210   \n",
              "13  http://web.archive.org/web/20181201040148/http...  20151102   \n",
              "14  http://web.archive.org/web/20170307115432/http...  20170307   \n",
              "15  http://web.archive.org/web/20170209143833/http...  20170207   \n",
              "16  http://web.archive.org/web/20181225062127/http...  20180619   \n",
              "17  http://web.archive.org/web/20180914185523/http...  20180914   \n",
              "18  http://web.archive.org/web/20150722052852/http...  20131106   \n",
              "19  http://web.archive.org/web/20170715150527/http...  20170715   \n",
              "\n",
              "                                                    3  \\\n",
              "0   FDP-Chef Lindner: Merkels Flüchtlingspolitik f...   \n",
              "1   Experte: Rund 1,3 Millionen wehrpflichtige Ukr...   \n",
              "2   So präzisiert Nahles ihre Idee für Hartz IV-Al...   \n",
              "3   Trump beschränkt drastisch Asylgewährung für i...   \n",
              "4   Österreich drängt auf deutsches Flüchtlingskon...   \n",
              "5   Migrationskrise: Warschau wehrt sich gegen Mer...   \n",
              "6        Flüchtlingskrise: Ist Abriegeln eine Lösung?   \n",
              "7     Großbritannien will EU-Freizügigkeit verhindern   \n",
              "8   Rückkehr von Flüchtlingen: Syrischer Minister ...   \n",
              "9                          USA verschärfen Asyl-Recht   \n",
              "10     Dänemark will die Flüchtlingskonvention ändern   \n",
              "11  Glaube darf nicht über Gesetz stehen: Bundesju...   \n",
              "12           Gibt es ein Menschenrecht auf Migration?   \n",
              "13  Kabul nimmt abgelehnte Asylbewerber aus Deutsc...   \n",
              "14  EuGH-Urteil: Keine \\humanitären Visa\\\" in EU-A...   \n",
              "15  Kalifornien und Trump erklären einander den Kr...   \n",
              "16  Kinder von Eltern zu trennen ist skrupellos – ...   \n",
              "17  EU will Ungarn „Recht auf Kontrolle eigener Gr...   \n",
              "18    Festung Europa - von Migranten und Flüchtlingen   \n",
              "19  Selbstanzeigen unter Flüchtlingen „wegen Terro...   \n",
              "\n",
              "                                                    4               5  \\\n",
              "0   Der Satz „Wir schaffen das“ der Bundeskanzleri...  OVER-THRESHOLD   \n",
              "1   In letzter Zeit sei knapp einer halben Million...  OVER-THRESHOLD   \n",
              "2   {                    \\vars\\\": {               ...  OVER-THRESHOLD   \n",
              "3   {                    \\vars\\\": {               ...  OVER-THRESHOLD   \n",
              "4   {                    \\vars\\\": {               ...  OVER-THRESHOLD   \n",
              "5   {                    \\vars\\\": {               ...  OVER-THRESHOLD   \n",
              "6   {                    \\vars\\\": {               ...  OVER-THRESHOLD   \n",
              "7   Foto: EPA STIMME RUSSLANDS Die Regierung Großb...  OVER-THRESHOLD   \n",
              "8   Der syrische Minister für lokale Verwaltung un...  OVER-THRESHOLD   \n",
              "9   Nach dem US-Gesetz „Immigration and Nationalit...  OVER-THRESHOLD   \n",
              "10  {                    \\vars\\\": {               ...  OVER-THRESHOLD   \n",
              "11  Bundesjustizminister Heiko Maas will Mehrfach-...  OVER-THRESHOLD   \n",
              "12  {                    \\vars\\\": {               ...  OVER-THRESHOLD   \n",
              "13  {                    \\vars\\\": {               ...  OVER-THRESHOLD   \n",
              "14  Die Behörde argumentierte, dass sich die Famil...  OVER-THRESHOLD   \n",
              "15  „Das ist lächerlich“, so Trump über Kalifornie...  OVER-THRESHOLD   \n",
              "16  {                    \\vars\\\": {               ...  OVER-THRESHOLD   \n",
              "17  Das EU-Rechtsstaatsverfahren gegen Ungarn stel...  OVER-THRESHOLD   \n",
              "18  Foto: Aziz Bozkurt STIMME RUSSLANDS Flüchtling...  OVER-THRESHOLD   \n",
              "19  Mehr als 408.000 Asylanträge hat das Bundesamt...  OVER-THRESHOLD   \n",
              "\n",
              "                                                    6     7         8  \n",
              "0                  flüchtlingen migranten flüchtlinge    70  0.572646  \n",
              "1                  flüchtlingsstatus asyl flüchtlinge    43  0.549350  \n",
              "2                                           migration   884  0.549179  \n",
              "3                          einwanderer migranten asyl   998  0.548637  \n",
              "4   asyl flüchtlinge migranten asylanträge flüchtl...   699  0.547927  \n",
              "5   flüchtlingen migrationskrise migranten flüchtl...   805  0.544957  \n",
              "6           migrationsproblem asylpolitik flüchtlinge   522  0.544158  \n",
              "7                                           migranten    83  0.544010  \n",
              "8                            flüchtlingen flüchtlinge   163  0.543707  \n",
              "9                              migration asylbewerber    79  0.543063  \n",
              "10                  flüchtlingskrise asyl flüchtlinge   981  0.541940  \n",
              "11                                          migranten   135  0.539771  \n",
              "12  flüchtlingen asyl einwanderung flucht flüchtli...  1461  0.537198  \n",
              "13         migrationsproblem asylbewerber flüchtlinge   801  0.536986  \n",
              "14                                   asylanträge asyl   116  0.536182  \n",
              "15                                          migranten   174  0.536121  \n",
              "16                              einwanderer migranten   980  0.533417  \n",
              "17        flüchtlingen flüchtlingspolitik flüchtlinge   179  0.532563  \n",
              "18                 migration asylbewerber flüchtlinge    61  0.532313  \n",
              "19     asylanträge migration asylbewerber flüchtlinge   128  0.531923  "
            ],
            "text/html": [
              "\n",
              "  <div id=\"df-888280a7-2ac6-4ea5-bff4-89950da4630c\">\n",
              "    <div class=\"colab-df-container\">\n",
              "      <div>\n",
              "<style scoped>\n",
              "    .dataframe tbody tr th:only-of-type {\n",
              "        vertical-align: middle;\n",
              "    }\n",
              "\n",
              "    .dataframe tbody tr th {\n",
              "        vertical-align: top;\n",
              "    }\n",
              "\n",
              "    .dataframe thead th {\n",
              "        text-align: right;\n",
              "    }\n",
              "</style>\n",
              "<table border=\"1\" class=\"dataframe\">\n",
              "  <thead>\n",
              "    <tr style=\"text-align: right;\">\n",
              "      <th></th>\n",
              "      <th>0</th>\n",
              "      <th>1</th>\n",
              "      <th>2</th>\n",
              "      <th>3</th>\n",
              "      <th>4</th>\n",
              "      <th>5</th>\n",
              "      <th>6</th>\n",
              "      <th>7</th>\n",
              "      <th>8</th>\n",
              "    </tr>\n",
              "  </thead>\n",
              "  <tbody>\n",
              "    <tr>\n",
              "      <th>0</th>\n",
              "      <td>http://de.sputniknews.compolitik/2016010730696...</td>\n",
              "      <td>http://web.archive.org/web/20170227192503/http...</td>\n",
              "      <td>20160107</td>\n",
              "      <td>FDP-Chef Lindner: Merkels Flüchtlingspolitik f...</td>\n",
              "      <td>Der Satz „Wir schaffen das“ der Bundeskanzleri...</td>\n",
              "      <td>OVER-THRESHOLD</td>\n",
              "      <td>flüchtlingen migranten flüchtlinge</td>\n",
              "      <td>70</td>\n",
              "      <td>0.572646</td>\n",
              "    </tr>\n",
              "    <tr>\n",
              "      <th>1</th>\n",
              "      <td>http://de.sputniknews.com/panorama/20150210/30...</td>\n",
              "      <td>http://web.archive.org/web/20150315163311/http...</td>\n",
              "      <td>20150210</td>\n",
              "      <td>Experte: Rund 1,3 Millionen wehrpflichtige Ukr...</td>\n",
              "      <td>In letzter Zeit sei knapp einer halben Million...</td>\n",
              "      <td>OVER-THRESHOLD</td>\n",
              "      <td>flüchtlingsstatus asyl flüchtlinge</td>\n",
              "      <td>43</td>\n",
              "      <td>0.549350</td>\n",
              "    </tr>\n",
              "    <tr>\n",
              "      <th>2</th>\n",
              "      <td>http://de.sputniknews.compolitik/2018111732299...</td>\n",
              "      <td>http://web.archive.org/web/20181117160304/http...</td>\n",
              "      <td>20181117</td>\n",
              "      <td>So präzisiert Nahles ihre Idee für Hartz IV-Al...</td>\n",
              "      <td>{                    \\vars\\\": {               ...</td>\n",
              "      <td>OVER-THRESHOLD</td>\n",
              "      <td>migration</td>\n",
              "      <td>884</td>\n",
              "      <td>0.549179</td>\n",
              "    </tr>\n",
              "    <tr>\n",
              "      <th>3</th>\n",
              "      <td>http://de.sputniknews.compolitik/2018110932290...</td>\n",
              "      <td>http://web.archive.org/web/20181123020955/http...</td>\n",
              "      <td>20181109</td>\n",
              "      <td>Trump beschränkt drastisch Asylgewährung für i...</td>\n",
              "      <td>{                    \\vars\\\": {               ...</td>\n",
              "      <td>OVER-THRESHOLD</td>\n",
              "      <td>einwanderer migranten asyl</td>\n",
              "      <td>998</td>\n",
              "      <td>0.548637</td>\n",
              "    </tr>\n",
              "    <tr>\n",
              "      <th>4</th>\n",
              "      <td>http://de.sputniknews.compolitik/2016030630828...</td>\n",
              "      <td>http://web.archive.org/web/20181126055753/http...</td>\n",
              "      <td>20160306</td>\n",
              "      <td>Österreich drängt auf deutsches Flüchtlingskon...</td>\n",
              "      <td>{                    \\vars\\\": {               ...</td>\n",
              "      <td>OVER-THRESHOLD</td>\n",
              "      <td>asyl flüchtlinge migranten asylanträge flüchtl...</td>\n",
              "      <td>699</td>\n",
              "      <td>0.547927</td>\n",
              "    </tr>\n",
              "    <tr>\n",
              "      <th>5</th>\n",
              "      <td>http://de.sputniknews.compolitik/2015101630498...</td>\n",
              "      <td>http://web.archive.org/web/20181123212339/http...</td>\n",
              "      <td>20151016</td>\n",
              "      <td>Migrationskrise: Warschau wehrt sich gegen Mer...</td>\n",
              "      <td>{                    \\vars\\\": {               ...</td>\n",
              "      <td>OVER-THRESHOLD</td>\n",
              "      <td>flüchtlingen migrationskrise migranten flüchtl...</td>\n",
              "      <td>805</td>\n",
              "      <td>0.544957</td>\n",
              "    </tr>\n",
              "    <tr>\n",
              "      <th>6</th>\n",
              "      <td>http://de.sputniknews.comkarikatur/20151020305...</td>\n",
              "      <td>http://web.archive.org/web/20181201153825/http...</td>\n",
              "      <td>20151020</td>\n",
              "      <td>Flüchtlingskrise: Ist Abriegeln eine Lösung?</td>\n",
              "      <td>{                    \\vars\\\": {               ...</td>\n",
              "      <td>OVER-THRESHOLD</td>\n",
              "      <td>migrationsproblem asylpolitik flüchtlinge</td>\n",
              "      <td>522</td>\n",
              "      <td>0.544158</td>\n",
              "    </tr>\n",
              "    <tr>\n",
              "      <th>7</th>\n",
              "      <td>http://de.sputniknews.com/german.ruvr.ru/news/...</td>\n",
              "      <td>http://web.archive.org/web/20150726055154/http...</td>\n",
              "      <td>20140106</td>\n",
              "      <td>Großbritannien will EU-Freizügigkeit verhindern</td>\n",
              "      <td>Foto: EPA STIMME RUSSLANDS Die Regierung Großb...</td>\n",
              "      <td>OVER-THRESHOLD</td>\n",
              "      <td>migranten</td>\n",
              "      <td>83</td>\n",
              "      <td>0.544010</td>\n",
              "    </tr>\n",
              "    <tr>\n",
              "      <th>8</th>\n",
              "      <td>http://de.sputniknews.compolitik/2018081332193...</td>\n",
              "      <td>http://web.archive.org/web/20180813172522/http...</td>\n",
              "      <td>20180813</td>\n",
              "      <td>Rückkehr von Flüchtlingen: Syrischer Minister ...</td>\n",
              "      <td>Der syrische Minister für lokale Verwaltung un...</td>\n",
              "      <td>OVER-THRESHOLD</td>\n",
              "      <td>flüchtlingen flüchtlinge</td>\n",
              "      <td>163</td>\n",
              "      <td>0.543707</td>\n",
              "    </tr>\n",
              "    <tr>\n",
              "      <th>9</th>\n",
              "      <td>http://de.sputniknews.compolitik/2017021931460...</td>\n",
              "      <td>http://web.archive.org/web/20170324060955/http...</td>\n",
              "      <td>20170219</td>\n",
              "      <td>USA verschärfen Asyl-Recht</td>\n",
              "      <td>Nach dem US-Gesetz „Immigration and Nationalit...</td>\n",
              "      <td>OVER-THRESHOLD</td>\n",
              "      <td>migration asylbewerber</td>\n",
              "      <td>79</td>\n",
              "      <td>0.543063</td>\n",
              "    </tr>\n",
              "    <tr>\n",
              "      <th>10</th>\n",
              "      <td>http://de.sputniknews.companorama/201512283068...</td>\n",
              "      <td>http://web.archive.org/web/20181123231931/http...</td>\n",
              "      <td>20151228</td>\n",
              "      <td>Dänemark will die Flüchtlingskonvention ändern</td>\n",
              "      <td>{                    \\vars\\\": {               ...</td>\n",
              "      <td>OVER-THRESHOLD</td>\n",
              "      <td>flüchtlingskrise asyl flüchtlinge</td>\n",
              "      <td>981</td>\n",
              "      <td>0.541940</td>\n",
              "    </tr>\n",
              "    <tr>\n",
              "      <th>11</th>\n",
              "      <td>http://de.sputniknews.compolitik/2016061431060...</td>\n",
              "      <td>http://web.archive.org/web/20171008021814/http...</td>\n",
              "      <td>20160614</td>\n",
              "      <td>Glaube darf nicht über Gesetz stehen: Bundesju...</td>\n",
              "      <td>Bundesjustizminister Heiko Maas will Mehrfach-...</td>\n",
              "      <td>OVER-THRESHOLD</td>\n",
              "      <td>migranten</td>\n",
              "      <td>135</td>\n",
              "      <td>0.539771</td>\n",
              "    </tr>\n",
              "    <tr>\n",
              "      <th>12</th>\n",
              "      <td>http://de.sputniknews.comgesellschaft/20181210...</td>\n",
              "      <td>http://web.archive.org/web/20181210233556/http...</td>\n",
              "      <td>20181210</td>\n",
              "      <td>Gibt es ein Menschenrecht auf Migration?</td>\n",
              "      <td>{                    \\vars\\\": {               ...</td>\n",
              "      <td>OVER-THRESHOLD</td>\n",
              "      <td>flüchtlingen asyl einwanderung flucht flüchtli...</td>\n",
              "      <td>1461</td>\n",
              "      <td>0.537198</td>\n",
              "    </tr>\n",
              "    <tr>\n",
              "      <th>13</th>\n",
              "      <td>http://de.sputniknews.compolitik/2015110230534...</td>\n",
              "      <td>http://web.archive.org/web/20181201040148/http...</td>\n",
              "      <td>20151102</td>\n",
              "      <td>Kabul nimmt abgelehnte Asylbewerber aus Deutsc...</td>\n",
              "      <td>{                    \\vars\\\": {               ...</td>\n",
              "      <td>OVER-THRESHOLD</td>\n",
              "      <td>migrationsproblem asylbewerber flüchtlinge</td>\n",
              "      <td>801</td>\n",
              "      <td>0.536986</td>\n",
              "    </tr>\n",
              "    <tr>\n",
              "      <th>14</th>\n",
              "      <td>http://de.sputniknews.companorama/201703073148...</td>\n",
              "      <td>http://web.archive.org/web/20170307115432/http...</td>\n",
              "      <td>20170307</td>\n",
              "      <td>EuGH-Urteil: Keine \\humanitären Visa\\\" in EU-A...</td>\n",
              "      <td>Die Behörde argumentierte, dass sich die Famil...</td>\n",
              "      <td>OVER-THRESHOLD</td>\n",
              "      <td>asylanträge asyl</td>\n",
              "      <td>116</td>\n",
              "      <td>0.536182</td>\n",
              "    </tr>\n",
              "    <tr>\n",
              "      <th>15</th>\n",
              "      <td>http://de.sputniknews.compolitik/2017020731442...</td>\n",
              "      <td>http://web.archive.org/web/20170209143833/http...</td>\n",
              "      <td>20170207</td>\n",
              "      <td>Kalifornien und Trump erklären einander den Kr...</td>\n",
              "      <td>„Das ist lächerlich“, so Trump über Kalifornie...</td>\n",
              "      <td>OVER-THRESHOLD</td>\n",
              "      <td>migranten</td>\n",
              "      <td>174</td>\n",
              "      <td>0.536121</td>\n",
              "    </tr>\n",
              "    <tr>\n",
              "      <th>16</th>\n",
              "      <td>http://de.sputniknews.comgesellschaft/20180619...</td>\n",
              "      <td>http://web.archive.org/web/20181225062127/http...</td>\n",
              "      <td>20180619</td>\n",
              "      <td>Kinder von Eltern zu trennen ist skrupellos – ...</td>\n",
              "      <td>{                    \\vars\\\": {               ...</td>\n",
              "      <td>OVER-THRESHOLD</td>\n",
              "      <td>einwanderer migranten</td>\n",
              "      <td>980</td>\n",
              "      <td>0.533417</td>\n",
              "    </tr>\n",
              "    <tr>\n",
              "      <th>17</th>\n",
              "      <td>http://de.sputniknews.compolitik/2018091432231...</td>\n",
              "      <td>http://web.archive.org/web/20180914185523/http...</td>\n",
              "      <td>20180914</td>\n",
              "      <td>EU will Ungarn „Recht auf Kontrolle eigener Gr...</td>\n",
              "      <td>Das EU-Rechtsstaatsverfahren gegen Ungarn stel...</td>\n",
              "      <td>OVER-THRESHOLD</td>\n",
              "      <td>flüchtlingen flüchtlingspolitik flüchtlinge</td>\n",
              "      <td>179</td>\n",
              "      <td>0.532563</td>\n",
              "    </tr>\n",
              "    <tr>\n",
              "      <th>18</th>\n",
              "      <td>http://de.sputniknews.com/german.ruvr.ru/2013_...</td>\n",
              "      <td>http://web.archive.org/web/20150722052852/http...</td>\n",
              "      <td>20131106</td>\n",
              "      <td>Festung Europa - von Migranten und Flüchtlingen</td>\n",
              "      <td>Foto: Aziz Bozkurt STIMME RUSSLANDS Flüchtling...</td>\n",
              "      <td>OVER-THRESHOLD</td>\n",
              "      <td>migration asylbewerber flüchtlinge</td>\n",
              "      <td>61</td>\n",
              "      <td>0.532313</td>\n",
              "    </tr>\n",
              "    <tr>\n",
              "      <th>19</th>\n",
              "      <td>http://de.sputniknews.companorama/201707153166...</td>\n",
              "      <td>http://web.archive.org/web/20170715150527/http...</td>\n",
              "      <td>20170715</td>\n",
              "      <td>Selbstanzeigen unter Flüchtlingen „wegen Terro...</td>\n",
              "      <td>Mehr als 408.000 Asylanträge hat das Bundesamt...</td>\n",
              "      <td>OVER-THRESHOLD</td>\n",
              "      <td>asylanträge migration asylbewerber flüchtlinge</td>\n",
              "      <td>128</td>\n",
              "      <td>0.531923</td>\n",
              "    </tr>\n",
              "  </tbody>\n",
              "</table>\n",
              "</div>\n",
              "      <button class=\"colab-df-convert\" onclick=\"convertToInteractive('df-888280a7-2ac6-4ea5-bff4-89950da4630c')\"\n",
              "              title=\"Convert this dataframe to an interactive table.\"\n",
              "              style=\"display:none;\">\n",
              "        \n",
              "  <svg xmlns=\"http://www.w3.org/2000/svg\" height=\"24px\"viewBox=\"0 0 24 24\"\n",
              "       width=\"24px\">\n",
              "    <path d=\"M0 0h24v24H0V0z\" fill=\"none\"/>\n",
              "    <path d=\"M18.56 5.44l.94 2.06.94-2.06 2.06-.94-2.06-.94-.94-2.06-.94 2.06-2.06.94zm-11 1L8.5 8.5l.94-2.06 2.06-.94-2.06-.94L8.5 2.5l-.94 2.06-2.06.94zm10 10l.94 2.06.94-2.06 2.06-.94-2.06-.94-.94-2.06-.94 2.06-2.06.94z\"/><path d=\"M17.41 7.96l-1.37-1.37c-.4-.4-.92-.59-1.43-.59-.52 0-1.04.2-1.43.59L10.3 9.45l-7.72 7.72c-.78.78-.78 2.05 0 2.83L4 21.41c.39.39.9.59 1.41.59.51 0 1.02-.2 1.41-.59l7.78-7.78 2.81-2.81c.8-.78.8-2.07 0-2.86zM5.41 20L4 18.59l7.72-7.72 1.47 1.35L5.41 20z\"/>\n",
              "  </svg>\n",
              "      </button>\n",
              "      \n",
              "  <style>\n",
              "    .colab-df-container {\n",
              "      display:flex;\n",
              "      flex-wrap:wrap;\n",
              "      gap: 12px;\n",
              "    }\n",
              "\n",
              "    .colab-df-convert {\n",
              "      background-color: #E8F0FE;\n",
              "      border: none;\n",
              "      border-radius: 50%;\n",
              "      cursor: pointer;\n",
              "      display: none;\n",
              "      fill: #1967D2;\n",
              "      height: 32px;\n",
              "      padding: 0 0 0 0;\n",
              "      width: 32px;\n",
              "    }\n",
              "\n",
              "    .colab-df-convert:hover {\n",
              "      background-color: #E2EBFA;\n",
              "      box-shadow: 0px 1px 2px rgba(60, 64, 67, 0.3), 0px 1px 3px 1px rgba(60, 64, 67, 0.15);\n",
              "      fill: #174EA6;\n",
              "    }\n",
              "\n",
              "    [theme=dark] .colab-df-convert {\n",
              "      background-color: #3B4455;\n",
              "      fill: #D2E3FC;\n",
              "    }\n",
              "\n",
              "    [theme=dark] .colab-df-convert:hover {\n",
              "      background-color: #434B5C;\n",
              "      box-shadow: 0px 1px 3px 1px rgba(0, 0, 0, 0.15);\n",
              "      filter: drop-shadow(0px 1px 2px rgba(0, 0, 0, 0.3));\n",
              "      fill: #FFFFFF;\n",
              "    }\n",
              "  </style>\n",
              "\n",
              "      <script>\n",
              "        const buttonEl =\n",
              "          document.querySelector('#df-888280a7-2ac6-4ea5-bff4-89950da4630c button.colab-df-convert');\n",
              "        buttonEl.style.display =\n",
              "          google.colab.kernel.accessAllowed ? 'block' : 'none';\n",
              "\n",
              "        async function convertToInteractive(key) {\n",
              "          const element = document.querySelector('#df-888280a7-2ac6-4ea5-bff4-89950da4630c');\n",
              "          const dataTable =\n",
              "            await google.colab.kernel.invokeFunction('convertToInteractive',\n",
              "                                                     [key], {});\n",
              "          if (!dataTable) return;\n",
              "\n",
              "          const docLinkHtml = 'Like what you see? Visit the ' +\n",
              "            '<a target=\"_blank\" href=https://colab.research.google.com/notebooks/data_table.ipynb>data table notebook</a>'\n",
              "            + ' to learn more about interactive tables.';\n",
              "          element.innerHTML = '';\n",
              "          dataTable['output_type'] = 'display_data';\n",
              "          await google.colab.output.renderOutput(dataTable, element);\n",
              "          const docLink = document.createElement('div');\n",
              "          docLink.innerHTML = docLinkHtml;\n",
              "          element.appendChild(docLink);\n",
              "        }\n",
              "      </script>\n",
              "    </div>\n",
              "  </div>\n",
              "  "
            ]
          },
          "metadata": {},
          "execution_count": 65
        }
      ],
      "source": [
        "#first line is not header\n",
        "sputnikdata = pd.read_csv('/content/drive/MyDrive/Colab Notebooks/Oxford Text Analysis 22/Python QTA Drive Oxford 2022/Data/sputnikgerman20.tsv',sep='\\t', header=None)\n",
        "sputnikdata"
      ]
    },
    {
      "cell_type": "markdown",
      "metadata": {
        "id": "YYGoYltAtd2I"
      },
      "source": [
        "## Select Column"
      ]
    },
    {
      "cell_type": "markdown",
      "metadata": {
        "id": "IJx-yXALtd2I"
      },
      "source": [
        "### how would I select the date?"
      ]
    },
    {
      "cell_type": "code",
      "execution_count": null,
      "metadata": {
        "id": "yBJbBxe8td2J",
        "outputId": "179a22f1-b9aa-4381-d0bc-528bff337479",
        "colab": {
          "base_uri": "https://localhost:8080/"
        }
      },
      "outputs": [
        {
          "output_type": "execute_result",
          "data": {
            "text/plain": [
              "0     20160107\n",
              "1     20150210\n",
              "2     20181117\n",
              "3     20181109\n",
              "4     20160306\n",
              "5     20151016\n",
              "6     20151020\n",
              "7     20140106\n",
              "8     20180813\n",
              "9     20170219\n",
              "10    20151228\n",
              "11    20160614\n",
              "12    20181210\n",
              "13    20151102\n",
              "14    20170307\n",
              "15    20170207\n",
              "16    20180619\n",
              "17    20180914\n",
              "18    20131106\n",
              "19    20170715\n",
              "Name: 2, dtype: int64"
            ]
          },
          "metadata": {},
          "execution_count": 66
        }
      ],
      "source": [
        "sputnikdata_date=sputnikdata[2]\n",
        "sputnikdata_date"
      ]
    },
    {
      "cell_type": "markdown",
      "metadata": {
        "id": "7WQwCxsQtd2J"
      },
      "source": [
        "### Select only content and title\n"
      ]
    },
    {
      "cell_type": "code",
      "execution_count": null,
      "metadata": {
        "id": "z8taBZFctd2J",
        "outputId": "e2a4b904-7b35-4dfa-bebe-f113e2d64917",
        "colab": {
          "base_uri": "https://localhost:8080/",
          "height": 677
        }
      },
      "outputs": [
        {
          "output_type": "execute_result",
          "data": {
            "text/plain": [
              "                                                    3  \\\n",
              "0   FDP-Chef Lindner: Merkels Flüchtlingspolitik f...   \n",
              "1   Experte: Rund 1,3 Millionen wehrpflichtige Ukr...   \n",
              "2   So präzisiert Nahles ihre Idee für Hartz IV-Al...   \n",
              "3   Trump beschränkt drastisch Asylgewährung für i...   \n",
              "4   Österreich drängt auf deutsches Flüchtlingskon...   \n",
              "5   Migrationskrise: Warschau wehrt sich gegen Mer...   \n",
              "6        Flüchtlingskrise: Ist Abriegeln eine Lösung?   \n",
              "7     Großbritannien will EU-Freizügigkeit verhindern   \n",
              "8   Rückkehr von Flüchtlingen: Syrischer Minister ...   \n",
              "9                          USA verschärfen Asyl-Recht   \n",
              "10     Dänemark will die Flüchtlingskonvention ändern   \n",
              "11  Glaube darf nicht über Gesetz stehen: Bundesju...   \n",
              "12           Gibt es ein Menschenrecht auf Migration?   \n",
              "13  Kabul nimmt abgelehnte Asylbewerber aus Deutsc...   \n",
              "14  EuGH-Urteil: Keine \\humanitären Visa\\\" in EU-A...   \n",
              "15  Kalifornien und Trump erklären einander den Kr...   \n",
              "16  Kinder von Eltern zu trennen ist skrupellos – ...   \n",
              "17  EU will Ungarn „Recht auf Kontrolle eigener Gr...   \n",
              "18    Festung Europa - von Migranten und Flüchtlingen   \n",
              "19  Selbstanzeigen unter Flüchtlingen „wegen Terro...   \n",
              "\n",
              "                                                    4  \n",
              "0   Der Satz „Wir schaffen das“ der Bundeskanzleri...  \n",
              "1   In letzter Zeit sei knapp einer halben Million...  \n",
              "2   {                    \\vars\\\": {               ...  \n",
              "3   {                    \\vars\\\": {               ...  \n",
              "4   {                    \\vars\\\": {               ...  \n",
              "5   {                    \\vars\\\": {               ...  \n",
              "6   {                    \\vars\\\": {               ...  \n",
              "7   Foto: EPA STIMME RUSSLANDS Die Regierung Großb...  \n",
              "8   Der syrische Minister für lokale Verwaltung un...  \n",
              "9   Nach dem US-Gesetz „Immigration and Nationalit...  \n",
              "10  {                    \\vars\\\": {               ...  \n",
              "11  Bundesjustizminister Heiko Maas will Mehrfach-...  \n",
              "12  {                    \\vars\\\": {               ...  \n",
              "13  {                    \\vars\\\": {               ...  \n",
              "14  Die Behörde argumentierte, dass sich die Famil...  \n",
              "15  „Das ist lächerlich“, so Trump über Kalifornie...  \n",
              "16  {                    \\vars\\\": {               ...  \n",
              "17  Das EU-Rechtsstaatsverfahren gegen Ungarn stel...  \n",
              "18  Foto: Aziz Bozkurt STIMME RUSSLANDS Flüchtling...  \n",
              "19  Mehr als 408.000 Asylanträge hat das Bundesamt...  "
            ],
            "text/html": [
              "\n",
              "  <div id=\"df-5bd9879a-d5f3-4fe1-883f-90b544e9810b\">\n",
              "    <div class=\"colab-df-container\">\n",
              "      <div>\n",
              "<style scoped>\n",
              "    .dataframe tbody tr th:only-of-type {\n",
              "        vertical-align: middle;\n",
              "    }\n",
              "\n",
              "    .dataframe tbody tr th {\n",
              "        vertical-align: top;\n",
              "    }\n",
              "\n",
              "    .dataframe thead th {\n",
              "        text-align: right;\n",
              "    }\n",
              "</style>\n",
              "<table border=\"1\" class=\"dataframe\">\n",
              "  <thead>\n",
              "    <tr style=\"text-align: right;\">\n",
              "      <th></th>\n",
              "      <th>3</th>\n",
              "      <th>4</th>\n",
              "    </tr>\n",
              "  </thead>\n",
              "  <tbody>\n",
              "    <tr>\n",
              "      <th>0</th>\n",
              "      <td>FDP-Chef Lindner: Merkels Flüchtlingspolitik f...</td>\n",
              "      <td>Der Satz „Wir schaffen das“ der Bundeskanzleri...</td>\n",
              "    </tr>\n",
              "    <tr>\n",
              "      <th>1</th>\n",
              "      <td>Experte: Rund 1,3 Millionen wehrpflichtige Ukr...</td>\n",
              "      <td>In letzter Zeit sei knapp einer halben Million...</td>\n",
              "    </tr>\n",
              "    <tr>\n",
              "      <th>2</th>\n",
              "      <td>So präzisiert Nahles ihre Idee für Hartz IV-Al...</td>\n",
              "      <td>{                    \\vars\\\": {               ...</td>\n",
              "    </tr>\n",
              "    <tr>\n",
              "      <th>3</th>\n",
              "      <td>Trump beschränkt drastisch Asylgewährung für i...</td>\n",
              "      <td>{                    \\vars\\\": {               ...</td>\n",
              "    </tr>\n",
              "    <tr>\n",
              "      <th>4</th>\n",
              "      <td>Österreich drängt auf deutsches Flüchtlingskon...</td>\n",
              "      <td>{                    \\vars\\\": {               ...</td>\n",
              "    </tr>\n",
              "    <tr>\n",
              "      <th>5</th>\n",
              "      <td>Migrationskrise: Warschau wehrt sich gegen Mer...</td>\n",
              "      <td>{                    \\vars\\\": {               ...</td>\n",
              "    </tr>\n",
              "    <tr>\n",
              "      <th>6</th>\n",
              "      <td>Flüchtlingskrise: Ist Abriegeln eine Lösung?</td>\n",
              "      <td>{                    \\vars\\\": {               ...</td>\n",
              "    </tr>\n",
              "    <tr>\n",
              "      <th>7</th>\n",
              "      <td>Großbritannien will EU-Freizügigkeit verhindern</td>\n",
              "      <td>Foto: EPA STIMME RUSSLANDS Die Regierung Großb...</td>\n",
              "    </tr>\n",
              "    <tr>\n",
              "      <th>8</th>\n",
              "      <td>Rückkehr von Flüchtlingen: Syrischer Minister ...</td>\n",
              "      <td>Der syrische Minister für lokale Verwaltung un...</td>\n",
              "    </tr>\n",
              "    <tr>\n",
              "      <th>9</th>\n",
              "      <td>USA verschärfen Asyl-Recht</td>\n",
              "      <td>Nach dem US-Gesetz „Immigration and Nationalit...</td>\n",
              "    </tr>\n",
              "    <tr>\n",
              "      <th>10</th>\n",
              "      <td>Dänemark will die Flüchtlingskonvention ändern</td>\n",
              "      <td>{                    \\vars\\\": {               ...</td>\n",
              "    </tr>\n",
              "    <tr>\n",
              "      <th>11</th>\n",
              "      <td>Glaube darf nicht über Gesetz stehen: Bundesju...</td>\n",
              "      <td>Bundesjustizminister Heiko Maas will Mehrfach-...</td>\n",
              "    </tr>\n",
              "    <tr>\n",
              "      <th>12</th>\n",
              "      <td>Gibt es ein Menschenrecht auf Migration?</td>\n",
              "      <td>{                    \\vars\\\": {               ...</td>\n",
              "    </tr>\n",
              "    <tr>\n",
              "      <th>13</th>\n",
              "      <td>Kabul nimmt abgelehnte Asylbewerber aus Deutsc...</td>\n",
              "      <td>{                    \\vars\\\": {               ...</td>\n",
              "    </tr>\n",
              "    <tr>\n",
              "      <th>14</th>\n",
              "      <td>EuGH-Urteil: Keine \\humanitären Visa\\\" in EU-A...</td>\n",
              "      <td>Die Behörde argumentierte, dass sich die Famil...</td>\n",
              "    </tr>\n",
              "    <tr>\n",
              "      <th>15</th>\n",
              "      <td>Kalifornien und Trump erklären einander den Kr...</td>\n",
              "      <td>„Das ist lächerlich“, so Trump über Kalifornie...</td>\n",
              "    </tr>\n",
              "    <tr>\n",
              "      <th>16</th>\n",
              "      <td>Kinder von Eltern zu trennen ist skrupellos – ...</td>\n",
              "      <td>{                    \\vars\\\": {               ...</td>\n",
              "    </tr>\n",
              "    <tr>\n",
              "      <th>17</th>\n",
              "      <td>EU will Ungarn „Recht auf Kontrolle eigener Gr...</td>\n",
              "      <td>Das EU-Rechtsstaatsverfahren gegen Ungarn stel...</td>\n",
              "    </tr>\n",
              "    <tr>\n",
              "      <th>18</th>\n",
              "      <td>Festung Europa - von Migranten und Flüchtlingen</td>\n",
              "      <td>Foto: Aziz Bozkurt STIMME RUSSLANDS Flüchtling...</td>\n",
              "    </tr>\n",
              "    <tr>\n",
              "      <th>19</th>\n",
              "      <td>Selbstanzeigen unter Flüchtlingen „wegen Terro...</td>\n",
              "      <td>Mehr als 408.000 Asylanträge hat das Bundesamt...</td>\n",
              "    </tr>\n",
              "  </tbody>\n",
              "</table>\n",
              "</div>\n",
              "      <button class=\"colab-df-convert\" onclick=\"convertToInteractive('df-5bd9879a-d5f3-4fe1-883f-90b544e9810b')\"\n",
              "              title=\"Convert this dataframe to an interactive table.\"\n",
              "              style=\"display:none;\">\n",
              "        \n",
              "  <svg xmlns=\"http://www.w3.org/2000/svg\" height=\"24px\"viewBox=\"0 0 24 24\"\n",
              "       width=\"24px\">\n",
              "    <path d=\"M0 0h24v24H0V0z\" fill=\"none\"/>\n",
              "    <path d=\"M18.56 5.44l.94 2.06.94-2.06 2.06-.94-2.06-.94-.94-2.06-.94 2.06-2.06.94zm-11 1L8.5 8.5l.94-2.06 2.06-.94-2.06-.94L8.5 2.5l-.94 2.06-2.06.94zm10 10l.94 2.06.94-2.06 2.06-.94-2.06-.94-.94-2.06-.94 2.06-2.06.94z\"/><path d=\"M17.41 7.96l-1.37-1.37c-.4-.4-.92-.59-1.43-.59-.52 0-1.04.2-1.43.59L10.3 9.45l-7.72 7.72c-.78.78-.78 2.05 0 2.83L4 21.41c.39.39.9.59 1.41.59.51 0 1.02-.2 1.41-.59l7.78-7.78 2.81-2.81c.8-.78.8-2.07 0-2.86zM5.41 20L4 18.59l7.72-7.72 1.47 1.35L5.41 20z\"/>\n",
              "  </svg>\n",
              "      </button>\n",
              "      \n",
              "  <style>\n",
              "    .colab-df-container {\n",
              "      display:flex;\n",
              "      flex-wrap:wrap;\n",
              "      gap: 12px;\n",
              "    }\n",
              "\n",
              "    .colab-df-convert {\n",
              "      background-color: #E8F0FE;\n",
              "      border: none;\n",
              "      border-radius: 50%;\n",
              "      cursor: pointer;\n",
              "      display: none;\n",
              "      fill: #1967D2;\n",
              "      height: 32px;\n",
              "      padding: 0 0 0 0;\n",
              "      width: 32px;\n",
              "    }\n",
              "\n",
              "    .colab-df-convert:hover {\n",
              "      background-color: #E2EBFA;\n",
              "      box-shadow: 0px 1px 2px rgba(60, 64, 67, 0.3), 0px 1px 3px 1px rgba(60, 64, 67, 0.15);\n",
              "      fill: #174EA6;\n",
              "    }\n",
              "\n",
              "    [theme=dark] .colab-df-convert {\n",
              "      background-color: #3B4455;\n",
              "      fill: #D2E3FC;\n",
              "    }\n",
              "\n",
              "    [theme=dark] .colab-df-convert:hover {\n",
              "      background-color: #434B5C;\n",
              "      box-shadow: 0px 1px 3px 1px rgba(0, 0, 0, 0.15);\n",
              "      filter: drop-shadow(0px 1px 2px rgba(0, 0, 0, 0.3));\n",
              "      fill: #FFFFFF;\n",
              "    }\n",
              "  </style>\n",
              "\n",
              "      <script>\n",
              "        const buttonEl =\n",
              "          document.querySelector('#df-5bd9879a-d5f3-4fe1-883f-90b544e9810b button.colab-df-convert');\n",
              "        buttonEl.style.display =\n",
              "          google.colab.kernel.accessAllowed ? 'block' : 'none';\n",
              "\n",
              "        async function convertToInteractive(key) {\n",
              "          const element = document.querySelector('#df-5bd9879a-d5f3-4fe1-883f-90b544e9810b');\n",
              "          const dataTable =\n",
              "            await google.colab.kernel.invokeFunction('convertToInteractive',\n",
              "                                                     [key], {});\n",
              "          if (!dataTable) return;\n",
              "\n",
              "          const docLinkHtml = 'Like what you see? Visit the ' +\n",
              "            '<a target=\"_blank\" href=https://colab.research.google.com/notebooks/data_table.ipynb>data table notebook</a>'\n",
              "            + ' to learn more about interactive tables.';\n",
              "          element.innerHTML = '';\n",
              "          dataTable['output_type'] = 'display_data';\n",
              "          await google.colab.output.renderOutput(dataTable, element);\n",
              "          const docLink = document.createElement('div');\n",
              "          docLink.innerHTML = docLinkHtml;\n",
              "          element.appendChild(docLink);\n",
              "        }\n",
              "      </script>\n",
              "    </div>\n",
              "  </div>\n",
              "  "
            ]
          },
          "metadata": {},
          "execution_count": 67
        }
      ],
      "source": [
        "sputnikdata_content_title=sputnikdata[[3,4]]\n",
        "sputnikdata_content_title"
      ]
    },
    {
      "cell_type": "markdown",
      "metadata": {
        "id": "ohmDtLEJtd2J"
      },
      "source": [
        "## Select rows"
      ]
    },
    {
      "cell_type": "code",
      "execution_count": null,
      "metadata": {
        "id": "Xu-HDvtftd2K",
        "outputId": "8d27e901-3da7-4797-d5fc-21ab4256a89b",
        "colab": {
          "base_uri": "https://localhost:8080/",
          "height": 214
        }
      },
      "outputs": [
        {
          "output_type": "execute_result",
          "data": {
            "text/plain": [
              "                                                   0  \\\n",
              "0  http://de.sputniknews.compolitik/2016010730696...   \n",
              "\n",
              "                                                   1         2  \\\n",
              "0  http://web.archive.org/web/20170227192503/http...  20160107   \n",
              "\n",
              "                                                   3  \\\n",
              "0  FDP-Chef Lindner: Merkels Flüchtlingspolitik f...   \n",
              "\n",
              "                                                   4               5  \\\n",
              "0  Der Satz „Wir schaffen das“ der Bundeskanzleri...  OVER-THRESHOLD   \n",
              "\n",
              "                                    6   7         8  \n",
              "0  flüchtlingen migranten flüchtlinge  70  0.572646  "
            ],
            "text/html": [
              "\n",
              "  <div id=\"df-94e0ebcb-11d5-4c21-a21a-4b03e87db9fd\">\n",
              "    <div class=\"colab-df-container\">\n",
              "      <div>\n",
              "<style scoped>\n",
              "    .dataframe tbody tr th:only-of-type {\n",
              "        vertical-align: middle;\n",
              "    }\n",
              "\n",
              "    .dataframe tbody tr th {\n",
              "        vertical-align: top;\n",
              "    }\n",
              "\n",
              "    .dataframe thead th {\n",
              "        text-align: right;\n",
              "    }\n",
              "</style>\n",
              "<table border=\"1\" class=\"dataframe\">\n",
              "  <thead>\n",
              "    <tr style=\"text-align: right;\">\n",
              "      <th></th>\n",
              "      <th>0</th>\n",
              "      <th>1</th>\n",
              "      <th>2</th>\n",
              "      <th>3</th>\n",
              "      <th>4</th>\n",
              "      <th>5</th>\n",
              "      <th>6</th>\n",
              "      <th>7</th>\n",
              "      <th>8</th>\n",
              "    </tr>\n",
              "  </thead>\n",
              "  <tbody>\n",
              "    <tr>\n",
              "      <th>0</th>\n",
              "      <td>http://de.sputniknews.compolitik/2016010730696...</td>\n",
              "      <td>http://web.archive.org/web/20170227192503/http...</td>\n",
              "      <td>20160107</td>\n",
              "      <td>FDP-Chef Lindner: Merkels Flüchtlingspolitik f...</td>\n",
              "      <td>Der Satz „Wir schaffen das“ der Bundeskanzleri...</td>\n",
              "      <td>OVER-THRESHOLD</td>\n",
              "      <td>flüchtlingen migranten flüchtlinge</td>\n",
              "      <td>70</td>\n",
              "      <td>0.572646</td>\n",
              "    </tr>\n",
              "  </tbody>\n",
              "</table>\n",
              "</div>\n",
              "      <button class=\"colab-df-convert\" onclick=\"convertToInteractive('df-94e0ebcb-11d5-4c21-a21a-4b03e87db9fd')\"\n",
              "              title=\"Convert this dataframe to an interactive table.\"\n",
              "              style=\"display:none;\">\n",
              "        \n",
              "  <svg xmlns=\"http://www.w3.org/2000/svg\" height=\"24px\"viewBox=\"0 0 24 24\"\n",
              "       width=\"24px\">\n",
              "    <path d=\"M0 0h24v24H0V0z\" fill=\"none\"/>\n",
              "    <path d=\"M18.56 5.44l.94 2.06.94-2.06 2.06-.94-2.06-.94-.94-2.06-.94 2.06-2.06.94zm-11 1L8.5 8.5l.94-2.06 2.06-.94-2.06-.94L8.5 2.5l-.94 2.06-2.06.94zm10 10l.94 2.06.94-2.06 2.06-.94-2.06-.94-.94-2.06-.94 2.06-2.06.94z\"/><path d=\"M17.41 7.96l-1.37-1.37c-.4-.4-.92-.59-1.43-.59-.52 0-1.04.2-1.43.59L10.3 9.45l-7.72 7.72c-.78.78-.78 2.05 0 2.83L4 21.41c.39.39.9.59 1.41.59.51 0 1.02-.2 1.41-.59l7.78-7.78 2.81-2.81c.8-.78.8-2.07 0-2.86zM5.41 20L4 18.59l7.72-7.72 1.47 1.35L5.41 20z\"/>\n",
              "  </svg>\n",
              "      </button>\n",
              "      \n",
              "  <style>\n",
              "    .colab-df-container {\n",
              "      display:flex;\n",
              "      flex-wrap:wrap;\n",
              "      gap: 12px;\n",
              "    }\n",
              "\n",
              "    .colab-df-convert {\n",
              "      background-color: #E8F0FE;\n",
              "      border: none;\n",
              "      border-radius: 50%;\n",
              "      cursor: pointer;\n",
              "      display: none;\n",
              "      fill: #1967D2;\n",
              "      height: 32px;\n",
              "      padding: 0 0 0 0;\n",
              "      width: 32px;\n",
              "    }\n",
              "\n",
              "    .colab-df-convert:hover {\n",
              "      background-color: #E2EBFA;\n",
              "      box-shadow: 0px 1px 2px rgba(60, 64, 67, 0.3), 0px 1px 3px 1px rgba(60, 64, 67, 0.15);\n",
              "      fill: #174EA6;\n",
              "    }\n",
              "\n",
              "    [theme=dark] .colab-df-convert {\n",
              "      background-color: #3B4455;\n",
              "      fill: #D2E3FC;\n",
              "    }\n",
              "\n",
              "    [theme=dark] .colab-df-convert:hover {\n",
              "      background-color: #434B5C;\n",
              "      box-shadow: 0px 1px 3px 1px rgba(0, 0, 0, 0.15);\n",
              "      filter: drop-shadow(0px 1px 2px rgba(0, 0, 0, 0.3));\n",
              "      fill: #FFFFFF;\n",
              "    }\n",
              "  </style>\n",
              "\n",
              "      <script>\n",
              "        const buttonEl =\n",
              "          document.querySelector('#df-94e0ebcb-11d5-4c21-a21a-4b03e87db9fd button.colab-df-convert');\n",
              "        buttonEl.style.display =\n",
              "          google.colab.kernel.accessAllowed ? 'block' : 'none';\n",
              "\n",
              "        async function convertToInteractive(key) {\n",
              "          const element = document.querySelector('#df-94e0ebcb-11d5-4c21-a21a-4b03e87db9fd');\n",
              "          const dataTable =\n",
              "            await google.colab.kernel.invokeFunction('convertToInteractive',\n",
              "                                                     [key], {});\n",
              "          if (!dataTable) return;\n",
              "\n",
              "          const docLinkHtml = 'Like what you see? Visit the ' +\n",
              "            '<a target=\"_blank\" href=https://colab.research.google.com/notebooks/data_table.ipynb>data table notebook</a>'\n",
              "            + ' to learn more about interactive tables.';\n",
              "          element.innerHTML = '';\n",
              "          dataTable['output_type'] = 'display_data';\n",
              "          await google.colab.output.renderOutput(dataTable, element);\n",
              "          const docLink = document.createElement('div');\n",
              "          docLink.innerHTML = docLinkHtml;\n",
              "          element.appendChild(docLink);\n",
              "        }\n",
              "      </script>\n",
              "    </div>\n",
              "  </div>\n",
              "  "
            ]
          },
          "metadata": {},
          "execution_count": 68
        }
      ],
      "source": [
        "#select 0-5\n",
        "\n",
        "sputnikdata_rows=sputnikdata[0:1]\n",
        "sputnikdata_rows"
      ]
    },
    {
      "cell_type": "markdown",
      "metadata": {
        "id": "KzFPSMBgtd2M"
      },
      "source": [
        "## Exporting data from Pandas\n"
      ]
    },
    {
      "cell_type": "code",
      "execution_count": null,
      "metadata": {
        "collapsed": true,
        "id": "plxsmC_5td2N"
      },
      "outputs": [],
      "source": [
        "df.to_csv(\"mydata.csv\", sep='\\t', encoding='utf-8')"
      ]
    },
    {
      "cell_type": "code",
      "source": [],
      "metadata": {
        "id": "_ruTl8ONupCL"
      },
      "execution_count": null,
      "outputs": []
    },
    {
      "cell_type": "markdown",
      "metadata": {
        "id": "LOPvjGRDQWrZ"
      },
      "source": [
        "## Combining Datasets\n",
        "\n",
        "We look at two commands in particular. For an in-depth explanation, see: https://pandas.pydata.org/pandas-docs/stable/user_guide/merging.html"
      ]
    },
    {
      "cell_type": "code",
      "source": [],
      "metadata": {
        "id": "HRBU2m2JNf9g"
      },
      "execution_count": null,
      "outputs": []
    },
    {
      "cell_type": "code",
      "source": [
        "import pandas as pd \n",
        "import numpy as np\n",
        "\n",
        "df = pd.read_csv('/content/drive/MyDrive/Colab Notebooks/Oxford Text Analysis 22/Python QTA Drive Oxford 2022/Data/sputnikgerman20.tsv',sep='\\t',header=None)\n",
        "df"
      ],
      "metadata": {
        "colab": {
          "base_uri": "https://localhost:8080/",
          "height": 1504
        },
        "id": "t27XfwVfUx6S",
        "outputId": "9715f1cc-fd5f-48af-91ab-083928f5e4ee"
      },
      "execution_count": null,
      "outputs": [
        {
          "output_type": "execute_result",
          "data": {
            "text/plain": [
              "                                                    0  \\\n",
              "0   http://de.sputniknews.compolitik/2016010730696...   \n",
              "1   http://de.sputniknews.com/panorama/20150210/30...   \n",
              "2   http://de.sputniknews.compolitik/2018111732299...   \n",
              "3   http://de.sputniknews.compolitik/2018110932290...   \n",
              "4   http://de.sputniknews.compolitik/2016030630828...   \n",
              "5   http://de.sputniknews.compolitik/2015101630498...   \n",
              "6   http://de.sputniknews.comkarikatur/20151020305...   \n",
              "7   http://de.sputniknews.com/german.ruvr.ru/news/...   \n",
              "8   http://de.sputniknews.compolitik/2018081332193...   \n",
              "9   http://de.sputniknews.compolitik/2017021931460...   \n",
              "10  http://de.sputniknews.companorama/201512283068...   \n",
              "11  http://de.sputniknews.compolitik/2016061431060...   \n",
              "12  http://de.sputniknews.comgesellschaft/20181210...   \n",
              "13  http://de.sputniknews.compolitik/2015110230534...   \n",
              "14  http://de.sputniknews.companorama/201703073148...   \n",
              "15  http://de.sputniknews.compolitik/2017020731442...   \n",
              "16  http://de.sputniknews.comgesellschaft/20180619...   \n",
              "17  http://de.sputniknews.compolitik/2018091432231...   \n",
              "18  http://de.sputniknews.com/german.ruvr.ru/2013_...   \n",
              "19  http://de.sputniknews.companorama/201707153166...   \n",
              "\n",
              "                                                    1         2  \\\n",
              "0   http://web.archive.org/web/20170227192503/http...  20160107   \n",
              "1   http://web.archive.org/web/20150315163311/http...  20150210   \n",
              "2   http://web.archive.org/web/20181117160304/http...  20181117   \n",
              "3   http://web.archive.org/web/20181123020955/http...  20181109   \n",
              "4   http://web.archive.org/web/20181126055753/http...  20160306   \n",
              "5   http://web.archive.org/web/20181123212339/http...  20151016   \n",
              "6   http://web.archive.org/web/20181201153825/http...  20151020   \n",
              "7   http://web.archive.org/web/20150726055154/http...  20140106   \n",
              "8   http://web.archive.org/web/20180813172522/http...  20180813   \n",
              "9   http://web.archive.org/web/20170324060955/http...  20170219   \n",
              "10  http://web.archive.org/web/20181123231931/http...  20151228   \n",
              "11  http://web.archive.org/web/20171008021814/http...  20160614   \n",
              "12  http://web.archive.org/web/20181210233556/http...  20181210   \n",
              "13  http://web.archive.org/web/20181201040148/http...  20151102   \n",
              "14  http://web.archive.org/web/20170307115432/http...  20170307   \n",
              "15  http://web.archive.org/web/20170209143833/http...  20170207   \n",
              "16  http://web.archive.org/web/20181225062127/http...  20180619   \n",
              "17  http://web.archive.org/web/20180914185523/http...  20180914   \n",
              "18  http://web.archive.org/web/20150722052852/http...  20131106   \n",
              "19  http://web.archive.org/web/20170715150527/http...  20170715   \n",
              "\n",
              "                                                    3  \\\n",
              "0   FDP-Chef Lindner: Merkels Flüchtlingspolitik f...   \n",
              "1   Experte: Rund 1,3 Millionen wehrpflichtige Ukr...   \n",
              "2   So präzisiert Nahles ihre Idee für Hartz IV-Al...   \n",
              "3   Trump beschränkt drastisch Asylgewährung für i...   \n",
              "4   Österreich drängt auf deutsches Flüchtlingskon...   \n",
              "5   Migrationskrise: Warschau wehrt sich gegen Mer...   \n",
              "6        Flüchtlingskrise: Ist Abriegeln eine Lösung?   \n",
              "7     Großbritannien will EU-Freizügigkeit verhindern   \n",
              "8   Rückkehr von Flüchtlingen: Syrischer Minister ...   \n",
              "9                          USA verschärfen Asyl-Recht   \n",
              "10     Dänemark will die Flüchtlingskonvention ändern   \n",
              "11  Glaube darf nicht über Gesetz stehen: Bundesju...   \n",
              "12           Gibt es ein Menschenrecht auf Migration?   \n",
              "13  Kabul nimmt abgelehnte Asylbewerber aus Deutsc...   \n",
              "14  EuGH-Urteil: Keine \\humanitären Visa\\\" in EU-A...   \n",
              "15  Kalifornien und Trump erklären einander den Kr...   \n",
              "16  Kinder von Eltern zu trennen ist skrupellos – ...   \n",
              "17  EU will Ungarn „Recht auf Kontrolle eigener Gr...   \n",
              "18    Festung Europa - von Migranten und Flüchtlingen   \n",
              "19  Selbstanzeigen unter Flüchtlingen „wegen Terro...   \n",
              "\n",
              "                                                    4               5  \\\n",
              "0   Der Satz „Wir schaffen das“ der Bundeskanzleri...  OVER-THRESHOLD   \n",
              "1   In letzter Zeit sei knapp einer halben Million...  OVER-THRESHOLD   \n",
              "2   {                    \\vars\\\": {               ...  OVER-THRESHOLD   \n",
              "3   {                    \\vars\\\": {               ...  OVER-THRESHOLD   \n",
              "4   {                    \\vars\\\": {               ...  OVER-THRESHOLD   \n",
              "5   {                    \\vars\\\": {               ...  OVER-THRESHOLD   \n",
              "6   {                    \\vars\\\": {               ...  OVER-THRESHOLD   \n",
              "7   Foto: EPA STIMME RUSSLANDS Die Regierung Großb...  OVER-THRESHOLD   \n",
              "8   Der syrische Minister für lokale Verwaltung un...  OVER-THRESHOLD   \n",
              "9   Nach dem US-Gesetz „Immigration and Nationalit...  OVER-THRESHOLD   \n",
              "10  {                    \\vars\\\": {               ...  OVER-THRESHOLD   \n",
              "11  Bundesjustizminister Heiko Maas will Mehrfach-...  OVER-THRESHOLD   \n",
              "12  {                    \\vars\\\": {               ...  OVER-THRESHOLD   \n",
              "13  {                    \\vars\\\": {               ...  OVER-THRESHOLD   \n",
              "14  Die Behörde argumentierte, dass sich die Famil...  OVER-THRESHOLD   \n",
              "15  „Das ist lächerlich“, so Trump über Kalifornie...  OVER-THRESHOLD   \n",
              "16  {                    \\vars\\\": {               ...  OVER-THRESHOLD   \n",
              "17  Das EU-Rechtsstaatsverfahren gegen Ungarn stel...  OVER-THRESHOLD   \n",
              "18  Foto: Aziz Bozkurt STIMME RUSSLANDS Flüchtling...  OVER-THRESHOLD   \n",
              "19  Mehr als 408.000 Asylanträge hat das Bundesamt...  OVER-THRESHOLD   \n",
              "\n",
              "                                                    6     7         8  \n",
              "0                  flüchtlingen migranten flüchtlinge    70  0.572646  \n",
              "1                  flüchtlingsstatus asyl flüchtlinge    43  0.549350  \n",
              "2                                           migration   884  0.549179  \n",
              "3                          einwanderer migranten asyl   998  0.548637  \n",
              "4   asyl flüchtlinge migranten asylanträge flüchtl...   699  0.547927  \n",
              "5   flüchtlingen migrationskrise migranten flüchtl...   805  0.544957  \n",
              "6           migrationsproblem asylpolitik flüchtlinge   522  0.544158  \n",
              "7                                           migranten    83  0.544010  \n",
              "8                            flüchtlingen flüchtlinge   163  0.543707  \n",
              "9                              migration asylbewerber    79  0.543063  \n",
              "10                  flüchtlingskrise asyl flüchtlinge   981  0.541940  \n",
              "11                                          migranten   135  0.539771  \n",
              "12  flüchtlingen asyl einwanderung flucht flüchtli...  1461  0.537198  \n",
              "13         migrationsproblem asylbewerber flüchtlinge   801  0.536986  \n",
              "14                                   asylanträge asyl   116  0.536182  \n",
              "15                                          migranten   174  0.536121  \n",
              "16                              einwanderer migranten   980  0.533417  \n",
              "17        flüchtlingen flüchtlingspolitik flüchtlinge   179  0.532563  \n",
              "18                 migration asylbewerber flüchtlinge    61  0.532313  \n",
              "19     asylanträge migration asylbewerber flüchtlinge   128  0.531923  "
            ],
            "text/html": [
              "\n",
              "  <div id=\"df-33865a4d-f077-42d4-9ea8-ab67d731dfa0\">\n",
              "    <div class=\"colab-df-container\">\n",
              "      <div>\n",
              "<style scoped>\n",
              "    .dataframe tbody tr th:only-of-type {\n",
              "        vertical-align: middle;\n",
              "    }\n",
              "\n",
              "    .dataframe tbody tr th {\n",
              "        vertical-align: top;\n",
              "    }\n",
              "\n",
              "    .dataframe thead th {\n",
              "        text-align: right;\n",
              "    }\n",
              "</style>\n",
              "<table border=\"1\" class=\"dataframe\">\n",
              "  <thead>\n",
              "    <tr style=\"text-align: right;\">\n",
              "      <th></th>\n",
              "      <th>0</th>\n",
              "      <th>1</th>\n",
              "      <th>2</th>\n",
              "      <th>3</th>\n",
              "      <th>4</th>\n",
              "      <th>5</th>\n",
              "      <th>6</th>\n",
              "      <th>7</th>\n",
              "      <th>8</th>\n",
              "    </tr>\n",
              "  </thead>\n",
              "  <tbody>\n",
              "    <tr>\n",
              "      <th>0</th>\n",
              "      <td>http://de.sputniknews.compolitik/2016010730696...</td>\n",
              "      <td>http://web.archive.org/web/20170227192503/http...</td>\n",
              "      <td>20160107</td>\n",
              "      <td>FDP-Chef Lindner: Merkels Flüchtlingspolitik f...</td>\n",
              "      <td>Der Satz „Wir schaffen das“ der Bundeskanzleri...</td>\n",
              "      <td>OVER-THRESHOLD</td>\n",
              "      <td>flüchtlingen migranten flüchtlinge</td>\n",
              "      <td>70</td>\n",
              "      <td>0.572646</td>\n",
              "    </tr>\n",
              "    <tr>\n",
              "      <th>1</th>\n",
              "      <td>http://de.sputniknews.com/panorama/20150210/30...</td>\n",
              "      <td>http://web.archive.org/web/20150315163311/http...</td>\n",
              "      <td>20150210</td>\n",
              "      <td>Experte: Rund 1,3 Millionen wehrpflichtige Ukr...</td>\n",
              "      <td>In letzter Zeit sei knapp einer halben Million...</td>\n",
              "      <td>OVER-THRESHOLD</td>\n",
              "      <td>flüchtlingsstatus asyl flüchtlinge</td>\n",
              "      <td>43</td>\n",
              "      <td>0.549350</td>\n",
              "    </tr>\n",
              "    <tr>\n",
              "      <th>2</th>\n",
              "      <td>http://de.sputniknews.compolitik/2018111732299...</td>\n",
              "      <td>http://web.archive.org/web/20181117160304/http...</td>\n",
              "      <td>20181117</td>\n",
              "      <td>So präzisiert Nahles ihre Idee für Hartz IV-Al...</td>\n",
              "      <td>{                    \\vars\\\": {               ...</td>\n",
              "      <td>OVER-THRESHOLD</td>\n",
              "      <td>migration</td>\n",
              "      <td>884</td>\n",
              "      <td>0.549179</td>\n",
              "    </tr>\n",
              "    <tr>\n",
              "      <th>3</th>\n",
              "      <td>http://de.sputniknews.compolitik/2018110932290...</td>\n",
              "      <td>http://web.archive.org/web/20181123020955/http...</td>\n",
              "      <td>20181109</td>\n",
              "      <td>Trump beschränkt drastisch Asylgewährung für i...</td>\n",
              "      <td>{                    \\vars\\\": {               ...</td>\n",
              "      <td>OVER-THRESHOLD</td>\n",
              "      <td>einwanderer migranten asyl</td>\n",
              "      <td>998</td>\n",
              "      <td>0.548637</td>\n",
              "    </tr>\n",
              "    <tr>\n",
              "      <th>4</th>\n",
              "      <td>http://de.sputniknews.compolitik/2016030630828...</td>\n",
              "      <td>http://web.archive.org/web/20181126055753/http...</td>\n",
              "      <td>20160306</td>\n",
              "      <td>Österreich drängt auf deutsches Flüchtlingskon...</td>\n",
              "      <td>{                    \\vars\\\": {               ...</td>\n",
              "      <td>OVER-THRESHOLD</td>\n",
              "      <td>asyl flüchtlinge migranten asylanträge flüchtl...</td>\n",
              "      <td>699</td>\n",
              "      <td>0.547927</td>\n",
              "    </tr>\n",
              "    <tr>\n",
              "      <th>5</th>\n",
              "      <td>http://de.sputniknews.compolitik/2015101630498...</td>\n",
              "      <td>http://web.archive.org/web/20181123212339/http...</td>\n",
              "      <td>20151016</td>\n",
              "      <td>Migrationskrise: Warschau wehrt sich gegen Mer...</td>\n",
              "      <td>{                    \\vars\\\": {               ...</td>\n",
              "      <td>OVER-THRESHOLD</td>\n",
              "      <td>flüchtlingen migrationskrise migranten flüchtl...</td>\n",
              "      <td>805</td>\n",
              "      <td>0.544957</td>\n",
              "    </tr>\n",
              "    <tr>\n",
              "      <th>6</th>\n",
              "      <td>http://de.sputniknews.comkarikatur/20151020305...</td>\n",
              "      <td>http://web.archive.org/web/20181201153825/http...</td>\n",
              "      <td>20151020</td>\n",
              "      <td>Flüchtlingskrise: Ist Abriegeln eine Lösung?</td>\n",
              "      <td>{                    \\vars\\\": {               ...</td>\n",
              "      <td>OVER-THRESHOLD</td>\n",
              "      <td>migrationsproblem asylpolitik flüchtlinge</td>\n",
              "      <td>522</td>\n",
              "      <td>0.544158</td>\n",
              "    </tr>\n",
              "    <tr>\n",
              "      <th>7</th>\n",
              "      <td>http://de.sputniknews.com/german.ruvr.ru/news/...</td>\n",
              "      <td>http://web.archive.org/web/20150726055154/http...</td>\n",
              "      <td>20140106</td>\n",
              "      <td>Großbritannien will EU-Freizügigkeit verhindern</td>\n",
              "      <td>Foto: EPA STIMME RUSSLANDS Die Regierung Großb...</td>\n",
              "      <td>OVER-THRESHOLD</td>\n",
              "      <td>migranten</td>\n",
              "      <td>83</td>\n",
              "      <td>0.544010</td>\n",
              "    </tr>\n",
              "    <tr>\n",
              "      <th>8</th>\n",
              "      <td>http://de.sputniknews.compolitik/2018081332193...</td>\n",
              "      <td>http://web.archive.org/web/20180813172522/http...</td>\n",
              "      <td>20180813</td>\n",
              "      <td>Rückkehr von Flüchtlingen: Syrischer Minister ...</td>\n",
              "      <td>Der syrische Minister für lokale Verwaltung un...</td>\n",
              "      <td>OVER-THRESHOLD</td>\n",
              "      <td>flüchtlingen flüchtlinge</td>\n",
              "      <td>163</td>\n",
              "      <td>0.543707</td>\n",
              "    </tr>\n",
              "    <tr>\n",
              "      <th>9</th>\n",
              "      <td>http://de.sputniknews.compolitik/2017021931460...</td>\n",
              "      <td>http://web.archive.org/web/20170324060955/http...</td>\n",
              "      <td>20170219</td>\n",
              "      <td>USA verschärfen Asyl-Recht</td>\n",
              "      <td>Nach dem US-Gesetz „Immigration and Nationalit...</td>\n",
              "      <td>OVER-THRESHOLD</td>\n",
              "      <td>migration asylbewerber</td>\n",
              "      <td>79</td>\n",
              "      <td>0.543063</td>\n",
              "    </tr>\n",
              "    <tr>\n",
              "      <th>10</th>\n",
              "      <td>http://de.sputniknews.companorama/201512283068...</td>\n",
              "      <td>http://web.archive.org/web/20181123231931/http...</td>\n",
              "      <td>20151228</td>\n",
              "      <td>Dänemark will die Flüchtlingskonvention ändern</td>\n",
              "      <td>{                    \\vars\\\": {               ...</td>\n",
              "      <td>OVER-THRESHOLD</td>\n",
              "      <td>flüchtlingskrise asyl flüchtlinge</td>\n",
              "      <td>981</td>\n",
              "      <td>0.541940</td>\n",
              "    </tr>\n",
              "    <tr>\n",
              "      <th>11</th>\n",
              "      <td>http://de.sputniknews.compolitik/2016061431060...</td>\n",
              "      <td>http://web.archive.org/web/20171008021814/http...</td>\n",
              "      <td>20160614</td>\n",
              "      <td>Glaube darf nicht über Gesetz stehen: Bundesju...</td>\n",
              "      <td>Bundesjustizminister Heiko Maas will Mehrfach-...</td>\n",
              "      <td>OVER-THRESHOLD</td>\n",
              "      <td>migranten</td>\n",
              "      <td>135</td>\n",
              "      <td>0.539771</td>\n",
              "    </tr>\n",
              "    <tr>\n",
              "      <th>12</th>\n",
              "      <td>http://de.sputniknews.comgesellschaft/20181210...</td>\n",
              "      <td>http://web.archive.org/web/20181210233556/http...</td>\n",
              "      <td>20181210</td>\n",
              "      <td>Gibt es ein Menschenrecht auf Migration?</td>\n",
              "      <td>{                    \\vars\\\": {               ...</td>\n",
              "      <td>OVER-THRESHOLD</td>\n",
              "      <td>flüchtlingen asyl einwanderung flucht flüchtli...</td>\n",
              "      <td>1461</td>\n",
              "      <td>0.537198</td>\n",
              "    </tr>\n",
              "    <tr>\n",
              "      <th>13</th>\n",
              "      <td>http://de.sputniknews.compolitik/2015110230534...</td>\n",
              "      <td>http://web.archive.org/web/20181201040148/http...</td>\n",
              "      <td>20151102</td>\n",
              "      <td>Kabul nimmt abgelehnte Asylbewerber aus Deutsc...</td>\n",
              "      <td>{                    \\vars\\\": {               ...</td>\n",
              "      <td>OVER-THRESHOLD</td>\n",
              "      <td>migrationsproblem asylbewerber flüchtlinge</td>\n",
              "      <td>801</td>\n",
              "      <td>0.536986</td>\n",
              "    </tr>\n",
              "    <tr>\n",
              "      <th>14</th>\n",
              "      <td>http://de.sputniknews.companorama/201703073148...</td>\n",
              "      <td>http://web.archive.org/web/20170307115432/http...</td>\n",
              "      <td>20170307</td>\n",
              "      <td>EuGH-Urteil: Keine \\humanitären Visa\\\" in EU-A...</td>\n",
              "      <td>Die Behörde argumentierte, dass sich die Famil...</td>\n",
              "      <td>OVER-THRESHOLD</td>\n",
              "      <td>asylanträge asyl</td>\n",
              "      <td>116</td>\n",
              "      <td>0.536182</td>\n",
              "    </tr>\n",
              "    <tr>\n",
              "      <th>15</th>\n",
              "      <td>http://de.sputniknews.compolitik/2017020731442...</td>\n",
              "      <td>http://web.archive.org/web/20170209143833/http...</td>\n",
              "      <td>20170207</td>\n",
              "      <td>Kalifornien und Trump erklären einander den Kr...</td>\n",
              "      <td>„Das ist lächerlich“, so Trump über Kalifornie...</td>\n",
              "      <td>OVER-THRESHOLD</td>\n",
              "      <td>migranten</td>\n",
              "      <td>174</td>\n",
              "      <td>0.536121</td>\n",
              "    </tr>\n",
              "    <tr>\n",
              "      <th>16</th>\n",
              "      <td>http://de.sputniknews.comgesellschaft/20180619...</td>\n",
              "      <td>http://web.archive.org/web/20181225062127/http...</td>\n",
              "      <td>20180619</td>\n",
              "      <td>Kinder von Eltern zu trennen ist skrupellos – ...</td>\n",
              "      <td>{                    \\vars\\\": {               ...</td>\n",
              "      <td>OVER-THRESHOLD</td>\n",
              "      <td>einwanderer migranten</td>\n",
              "      <td>980</td>\n",
              "      <td>0.533417</td>\n",
              "    </tr>\n",
              "    <tr>\n",
              "      <th>17</th>\n",
              "      <td>http://de.sputniknews.compolitik/2018091432231...</td>\n",
              "      <td>http://web.archive.org/web/20180914185523/http...</td>\n",
              "      <td>20180914</td>\n",
              "      <td>EU will Ungarn „Recht auf Kontrolle eigener Gr...</td>\n",
              "      <td>Das EU-Rechtsstaatsverfahren gegen Ungarn stel...</td>\n",
              "      <td>OVER-THRESHOLD</td>\n",
              "      <td>flüchtlingen flüchtlingspolitik flüchtlinge</td>\n",
              "      <td>179</td>\n",
              "      <td>0.532563</td>\n",
              "    </tr>\n",
              "    <tr>\n",
              "      <th>18</th>\n",
              "      <td>http://de.sputniknews.com/german.ruvr.ru/2013_...</td>\n",
              "      <td>http://web.archive.org/web/20150722052852/http...</td>\n",
              "      <td>20131106</td>\n",
              "      <td>Festung Europa - von Migranten und Flüchtlingen</td>\n",
              "      <td>Foto: Aziz Bozkurt STIMME RUSSLANDS Flüchtling...</td>\n",
              "      <td>OVER-THRESHOLD</td>\n",
              "      <td>migration asylbewerber flüchtlinge</td>\n",
              "      <td>61</td>\n",
              "      <td>0.532313</td>\n",
              "    </tr>\n",
              "    <tr>\n",
              "      <th>19</th>\n",
              "      <td>http://de.sputniknews.companorama/201707153166...</td>\n",
              "      <td>http://web.archive.org/web/20170715150527/http...</td>\n",
              "      <td>20170715</td>\n",
              "      <td>Selbstanzeigen unter Flüchtlingen „wegen Terro...</td>\n",
              "      <td>Mehr als 408.000 Asylanträge hat das Bundesamt...</td>\n",
              "      <td>OVER-THRESHOLD</td>\n",
              "      <td>asylanträge migration asylbewerber flüchtlinge</td>\n",
              "      <td>128</td>\n",
              "      <td>0.531923</td>\n",
              "    </tr>\n",
              "  </tbody>\n",
              "</table>\n",
              "</div>\n",
              "      <button class=\"colab-df-convert\" onclick=\"convertToInteractive('df-33865a4d-f077-42d4-9ea8-ab67d731dfa0')\"\n",
              "              title=\"Convert this dataframe to an interactive table.\"\n",
              "              style=\"display:none;\">\n",
              "        \n",
              "  <svg xmlns=\"http://www.w3.org/2000/svg\" height=\"24px\"viewBox=\"0 0 24 24\"\n",
              "       width=\"24px\">\n",
              "    <path d=\"M0 0h24v24H0V0z\" fill=\"none\"/>\n",
              "    <path d=\"M18.56 5.44l.94 2.06.94-2.06 2.06-.94-2.06-.94-.94-2.06-.94 2.06-2.06.94zm-11 1L8.5 8.5l.94-2.06 2.06-.94-2.06-.94L8.5 2.5l-.94 2.06-2.06.94zm10 10l.94 2.06.94-2.06 2.06-.94-2.06-.94-.94-2.06-.94 2.06-2.06.94z\"/><path d=\"M17.41 7.96l-1.37-1.37c-.4-.4-.92-.59-1.43-.59-.52 0-1.04.2-1.43.59L10.3 9.45l-7.72 7.72c-.78.78-.78 2.05 0 2.83L4 21.41c.39.39.9.59 1.41.59.51 0 1.02-.2 1.41-.59l7.78-7.78 2.81-2.81c.8-.78.8-2.07 0-2.86zM5.41 20L4 18.59l7.72-7.72 1.47 1.35L5.41 20z\"/>\n",
              "  </svg>\n",
              "      </button>\n",
              "      \n",
              "  <style>\n",
              "    .colab-df-container {\n",
              "      display:flex;\n",
              "      flex-wrap:wrap;\n",
              "      gap: 12px;\n",
              "    }\n",
              "\n",
              "    .colab-df-convert {\n",
              "      background-color: #E8F0FE;\n",
              "      border: none;\n",
              "      border-radius: 50%;\n",
              "      cursor: pointer;\n",
              "      display: none;\n",
              "      fill: #1967D2;\n",
              "      height: 32px;\n",
              "      padding: 0 0 0 0;\n",
              "      width: 32px;\n",
              "    }\n",
              "\n",
              "    .colab-df-convert:hover {\n",
              "      background-color: #E2EBFA;\n",
              "      box-shadow: 0px 1px 2px rgba(60, 64, 67, 0.3), 0px 1px 3px 1px rgba(60, 64, 67, 0.15);\n",
              "      fill: #174EA6;\n",
              "    }\n",
              "\n",
              "    [theme=dark] .colab-df-convert {\n",
              "      background-color: #3B4455;\n",
              "      fill: #D2E3FC;\n",
              "    }\n",
              "\n",
              "    [theme=dark] .colab-df-convert:hover {\n",
              "      background-color: #434B5C;\n",
              "      box-shadow: 0px 1px 3px 1px rgba(0, 0, 0, 0.15);\n",
              "      filter: drop-shadow(0px 1px 2px rgba(0, 0, 0, 0.3));\n",
              "      fill: #FFFFFF;\n",
              "    }\n",
              "  </style>\n",
              "\n",
              "      <script>\n",
              "        const buttonEl =\n",
              "          document.querySelector('#df-33865a4d-f077-42d4-9ea8-ab67d731dfa0 button.colab-df-convert');\n",
              "        buttonEl.style.display =\n",
              "          google.colab.kernel.accessAllowed ? 'block' : 'none';\n",
              "\n",
              "        async function convertToInteractive(key) {\n",
              "          const element = document.querySelector('#df-33865a4d-f077-42d4-9ea8-ab67d731dfa0');\n",
              "          const dataTable =\n",
              "            await google.colab.kernel.invokeFunction('convertToInteractive',\n",
              "                                                     [key], {});\n",
              "          if (!dataTable) return;\n",
              "\n",
              "          const docLinkHtml = 'Like what you see? Visit the ' +\n",
              "            '<a target=\"_blank\" href=https://colab.research.google.com/notebooks/data_table.ipynb>data table notebook</a>'\n",
              "            + ' to learn more about interactive tables.';\n",
              "          element.innerHTML = '';\n",
              "          dataTable['output_type'] = 'display_data';\n",
              "          await google.colab.output.renderOutput(dataTable, element);\n",
              "          const docLink = document.createElement('div');\n",
              "          docLink.innerHTML = docLinkHtml;\n",
              "          element.appendChild(docLink);\n",
              "        }\n",
              "      </script>\n",
              "    </div>\n",
              "  </div>\n",
              "  "
            ]
          },
          "metadata": {},
          "execution_count": 88
        }
      ]
    },
    {
      "cell_type": "code",
      "source": [
        "\n",
        "#what if I want to rename?\n",
        "\n",
        "col_name_dict =  {\n",
        "    0: 'link1',\n",
        "    1: 'link2',\n",
        "    2: 'date',\n",
        "    3: 'title',\n",
        "    4: 'text',\n",
        "    5: 'marker',\n",
        "    6: 'keywords',\n",
        "    7: 'numberwords',\n",
        "    8: 'score'\n",
        "}\n",
        "df = df.rename(col_name_dict, axis=1)\n",
        "df"
      ],
      "metadata": {
        "id": "LCh53J71W7Rk"
      },
      "execution_count": null,
      "outputs": []
    },
    {
      "cell_type": "code",
      "source": [
        "df"
      ],
      "metadata": {
        "id": "HZLErE48U9mK"
      },
      "execution_count": null,
      "outputs": []
    },
    {
      "cell_type": "code",
      "execution_count": null,
      "metadata": {
        "id": "j_5zyvZqQWrZ"
      },
      "outputs": [],
      "source": [
        "df1 = df.loc[:, ['link1', 'link2', 'title']]\n",
        "df2 = df.loc[:, ['date', 'text','link1']]"
      ]
    },
    {
      "cell_type": "code",
      "source": [
        "df1"
      ],
      "metadata": {
        "id": "EgNgKS5dUlRa"
      },
      "execution_count": null,
      "outputs": []
    },
    {
      "cell_type": "code",
      "source": [
        "df2"
      ],
      "metadata": {
        "id": "8zWusFc7UmJ7"
      },
      "execution_count": null,
      "outputs": []
    },
    {
      "cell_type": "markdown",
      "metadata": {
        "id": "eIHZ_PTzQWrZ"
      },
      "source": [
        "### Using `pd.concat`\n",
        "\n",
        "- axis: default is 0, if 1 is used then it means perfom a column-wise concatenation\n"
      ]
    },
    {
      "cell_type": "code",
      "execution_count": null,
      "metadata": {
        "id": "dhlvJJ-mQWrZ"
      },
      "outputs": [],
      "source": [
        "print(df1.shape)\n",
        "print(df2.shape)\n",
        "  "
      ]
    },
    {
      "cell_type": "code",
      "source": [
        "#row wise concatenation\n",
        "\n",
        "print(pd.concat([df1, df2], axis=0, sort=False).shape)\n"
      ],
      "metadata": {
        "id": "Xn8Pstn9Pt5d"
      },
      "execution_count": null,
      "outputs": []
    },
    {
      "cell_type": "code",
      "source": [
        "pd.concat([df1, df2], axis=0, sort=False) "
      ],
      "metadata": {
        "id": "FVi-T3DYPwR5"
      },
      "execution_count": null,
      "outputs": []
    },
    {
      "cell_type": "code",
      "execution_count": null,
      "metadata": {
        "id": "7ONTg-CpQWrZ"
      },
      "outputs": [],
      "source": [
        "print(df1.shape)\n",
        "print(df2.shape)\n",
        "print(pd.concat([df1, df2], axis=1).shape)\n",
        "\n",
        "pd.concat([df1, df2], axis=1)"
      ]
    },
    {
      "cell_type": "code",
      "execution_count": null,
      "metadata": {
        "id": "xaFDOxjWQWrZ"
      },
      "outputs": [],
      "source": [
        "df3 = df.sample(10).loc[:, ['keywords', 'score']]"
      ]
    },
    {
      "cell_type": "code",
      "execution_count": null,
      "metadata": {
        "id": "JtnA_YDyQWrZ"
      },
      "outputs": [],
      "source": [
        "pd.concat([df1, df2, df3], axis=1).info()\n",
        "# Check: why are there differing numbers of NAs?"
      ]
    },
    {
      "cell_type": "code",
      "execution_count": null,
      "metadata": {
        "id": "Aic2V9F9QWrZ"
      },
      "outputs": [],
      "source": [
        "# Check: How many columns, rows, and NAs will the following have?\n",
        "pd.concat([df1, df2, df3], axis=0).info()"
      ]
    },
    {
      "cell_type": "markdown",
      "metadata": {
        "id": "RTEz45CwQWrZ"
      },
      "source": [
        "### `pd.merge`"
      ]
    },
    {
      "cell_type": "code",
      "execution_count": null,
      "metadata": {
        "id": "DHCz3245QWrZ"
      },
      "outputs": [],
      "source": [
        "pd.merge(df1, df2, on=\"link1\")"
      ]
    },
    {
      "cell_type": "code",
      "execution_count": null,
      "metadata": {
        "id": "_ApPno5ZQWrZ"
      },
      "outputs": [],
      "source": [
        "df4 = df.sample(10).loc[:, ['date', 'link1']]"
      ]
    },
    {
      "cell_type": "code",
      "source": [
        "df1"
      ],
      "metadata": {
        "id": "3NdnlXU_Rdgy"
      },
      "execution_count": null,
      "outputs": []
    },
    {
      "cell_type": "code",
      "source": [
        "#delete from here"
      ],
      "metadata": {
        "id": "dK9pSnf5RrPc"
      },
      "execution_count": null,
      "outputs": []
    },
    {
      "cell_type": "code",
      "execution_count": null,
      "metadata": {
        "id": "1tb_jTPtQWrZ"
      },
      "outputs": [],
      "source": [
        "print(df1.index)\n",
        "print(df4.index)\n",
        "for join in ['inner', 'left', 'right', 'outer']:\n",
        "    print(pd.merge(df1, df4, how=join, on=\"link1\").shape)"
      ]
    },
    {
      "cell_type": "code",
      "execution_count": null,
      "metadata": {
        "id": "-cA9taMVQWrZ"
      },
      "outputs": [],
      "source": [
        "df4 = df4.rename({'finalserialno':'serialno'}, axis=1)\n",
        "df4"
      ]
    },
    {
      "cell_type": "code",
      "execution_count": null,
      "metadata": {
        "id": "pg0KPMhOQWra"
      },
      "outputs": [],
      "source": [
        "pd.merge(\n",
        "    df3, df4,\n",
        "    how=\"outer\", left_on=\"finalserialno\", right_on='serialno')"
      ]
    },
    {
      "cell_type": "code",
      "execution_count": null,
      "metadata": {
        "id": "djfN5HuPQWra"
      },
      "outputs": [],
      "source": [
        "# Can check the same with set operations\n",
        "len(set(df3['finalserialno']).intersection(set(df4['serialno'])))"
      ]
    },
    {
      "cell_type": "markdown",
      "metadata": {
        "id": "dCF0cqPxQWra"
      },
      "source": [
        "**Task**:\n",
        "\n",
        "Sample 100 rows of `df` to create a new dataframe and call it `df5`.\n",
        "\n",
        "Left-join `df5` on `df` on a unique key. How many rows and columns are in the resulting dataframe?"
      ]
    },
    {
      "cell_type": "markdown",
      "source": [
        "# Visualization"
      ],
      "metadata": {
        "id": "C3v3R-eQUiGz"
      }
    },
    {
      "cell_type": "markdown",
      "source": [
        "## Matplot"
      ],
      "metadata": {
        "id": "NO5z_B4wSQsb"
      }
    },
    {
      "cell_type": "code",
      "execution_count": null,
      "metadata": {
        "id": "16WhbKlgQWra",
        "colab": {
          "base_uri": "https://localhost:8080/"
        },
        "outputId": "a6c1fdca-a344-4c1a-e646-880888acf8fa"
      },
      "outputs": [
        {
          "output_type": "execute_result",
          "data": {
            "text/plain": [
              "[('der', 123),\n",
              " ('die', 119),\n",
              " ('in', 78),\n",
              " ('und', 59),\n",
              " ('zu', 55),\n",
              " ('{', 54),\n",
              " ('von', 50),\n",
              " ('für', 46),\n",
              " ('}', 45),\n",
              " ('eine', 35),\n",
              " ('auf', 30),\n",
              " ('dem', 30),\n",
              " ('das', 29),\n",
              " ('nicht', 27),\n",
              " ('ein', 26),\n",
              " ('sich', 26),\n",
              " ('Flüchtlinge', 26),\n",
              " ('den', 25),\n",
              " ('mit', 24),\n",
              " ('©', 23),\n",
              " ('ist', 18),\n",
              " ('einer', 18),\n",
              " ('des', 18),\n",
              " ('als', 18),\n",
              " ('aus', 18),\n",
              " ('Die', 17),\n",
              " ('hat', 17),\n",
              " ('an', 17),\n",
              " ('im', 17),\n",
              " ('gegen', 17),\n",
              " ('dass', 17),\n",
              " ('sie', 16),\n",
              " ('–', 16),\n",
              " ('vor', 15),\n",
              " ('Migranten', 14),\n",
              " ('werden', 14),\n",
              " ('Deutschland', 14),\n",
              " ('sei', 13),\n",
              " ('Asyl', 13),\n",
              " ('Migration', 13),\n",
              " ('USA', 12),\n",
              " ('so', 11),\n",
              " ('nach', 11),\n",
              " ('es', 11),\n",
              " ('Sputnik-Artikel:', 11),\n",
              " ('auch', 11),\n",
              " ('einem', 10),\n",
              " ('einen', 10),\n",
              " ('über', 10),\n",
              " ('haben', 10),\n",
              " ('oder', 10),\n",
              " ('sagte', 10),\n",
              " ('the', 10),\n",
              " ('andere', 9),\n",
              " ('\\\\vars\\\\\":', 9),\n",
              " ('\\\\\"counterId\\\\\":', 9),\n",
              " ('\\\\\"27090206\\\\\"', 9),\n",
              " ('\\\\\"requests\\\\\":', 9),\n",
              " ('\\\\\"pageview\\\\\":', 9),\n",
              " ('},', 9),\n",
              " ('\\\\\"triggers\\\\\":', 9),\n",
              " ('\\\\\"track', 9),\n",
              " ('pageview\\\\\":', 9),\n",
              " ('\\\\\"on\\\\\":', 9),\n",
              " ('\\\\\"visible\\\\\",', 9),\n",
              " ('\\\\\"request\\\\\":', 9),\n",
              " ('\\\\\"pageview\\\\\"', 9),\n",
              " ('Alle', 9),\n",
              " ('REUTERS/', 9),\n",
              " ('Staaten', 9),\n",
              " ('unter', 9),\n",
              " ('Recht', 9),\n",
              " ('kein', 8),\n",
              " ('Grenze', 8),\n",
              " ('Menschen', 8),\n",
              " ('Kinder', 8),\n",
              " ('Trump', 8),\n",
              " ('Das', 8),\n",
              " ('er', 8),\n",
              " ('zum', 8),\n",
              " ('Land', 8),\n",
              " ('Asylbewerber', 8),\n",
              " ('Der', 7),\n",
              " ('In', 7),\n",
              " ('ihre', 7),\n",
              " ('Zum', 7),\n",
              " ('AP', 7),\n",
              " ('Photo/', 7),\n",
              " ('uns', 7),\n",
              " ('um', 7),\n",
              " ('bis', 7),\n",
              " ('Regierung', 7),\n",
              " ('Europa', 7),\n",
              " ('diese', 7),\n",
              " ('Merkel', 6),\n",
              " ('keine', 6),\n",
              " ('Nahles', 6),\n",
              " ('durch', 6),\n",
              " ('AFP', 6),\n",
              " ('2018/', 6)]"
            ]
          },
          "metadata": {},
          "execution_count": 102
        }
      ],
      "source": [
        "from collections import Counter\n",
        "Counter(\" \".join(df[\"text\"]).split()).most_common(100)"
      ]
    },
    {
      "cell_type": "code",
      "source": [],
      "metadata": {
        "id": "GqBb8TEOQHV3"
      },
      "execution_count": null,
      "outputs": []
    },
    {
      "cell_type": "markdown",
      "source": [
        "#lets remove stopwords"
      ],
      "metadata": {
        "id": "JcRUtwIKSxXj"
      }
    },
    {
      "cell_type": "code",
      "source": [
        "import string\n",
        "exclude = set(string.punctuation) # if you see this not part of the punctuation -->”\n",
        "import nltk\n",
        "nltk.download('stopwords') #you can also download all libraries in nltk at once\n",
        "from nltk.corpus import stopwords\n",
        "stop_word_list = stopwords.words('german')\n",
        "nltk.download('punkt')\n",
        "\n",
        "\n",
        "def nlp_simple_pipeline(text):\n",
        "    \n",
        "    #it depends if the words have been lowercased or not\n",
        "    text = text.lower()\n",
        "    text=text.split()\n",
        "    text = [token for token in text if token not in exclude and token.isalpha()]\n",
        "    text = [token for token in text if token not in stop_word_list]\n",
        "\n",
        "    return text\n"
      ],
      "metadata": {
        "colab": {
          "base_uri": "https://localhost:8080/"
        },
        "id": "D1sFZNqTSwxh",
        "outputId": "37656282-aa64-4af0-8bd4-f53d82265d46"
      },
      "execution_count": null,
      "outputs": [
        {
          "output_type": "stream",
          "name": "stderr",
          "text": [
            "[nltk_data] Downloading package stopwords to /root/nltk_data...\n",
            "[nltk_data]   Package stopwords is already up-to-date!\n",
            "[nltk_data] Downloading package punkt to /root/nltk_data...\n",
            "[nltk_data]   Package punkt is already up-to-date!\n"
          ]
        }
      ]
    },
    {
      "cell_type": "code",
      "source": [
        "dataframe = pd.read_csv('/content/drive/MyDrive/Colab Notebooks/Oxford Text Analysis 22/Python QTA Drive Oxford 2022/Data/sputnikgerman20.tsv',sep='\\t',header=None)\n",
        "dataframe"
      ],
      "metadata": {
        "colab": {
          "base_uri": "https://localhost:8080/",
          "height": 1504
        },
        "id": "H-qMxNOjQxzt",
        "outputId": "09cc5293-bf0b-4d5d-bf42-a291bd05ef1c"
      },
      "execution_count": null,
      "outputs": [
        {
          "output_type": "execute_result",
          "data": {
            "text/plain": [
              "                                                    0  \\\n",
              "0   http://de.sputniknews.compolitik/2016010730696...   \n",
              "1   http://de.sputniknews.com/panorama/20150210/30...   \n",
              "2   http://de.sputniknews.compolitik/2018111732299...   \n",
              "3   http://de.sputniknews.compolitik/2018110932290...   \n",
              "4   http://de.sputniknews.compolitik/2016030630828...   \n",
              "5   http://de.sputniknews.compolitik/2015101630498...   \n",
              "6   http://de.sputniknews.comkarikatur/20151020305...   \n",
              "7   http://de.sputniknews.com/german.ruvr.ru/news/...   \n",
              "8   http://de.sputniknews.compolitik/2018081332193...   \n",
              "9   http://de.sputniknews.compolitik/2017021931460...   \n",
              "10  http://de.sputniknews.companorama/201512283068...   \n",
              "11  http://de.sputniknews.compolitik/2016061431060...   \n",
              "12  http://de.sputniknews.comgesellschaft/20181210...   \n",
              "13  http://de.sputniknews.compolitik/2015110230534...   \n",
              "14  http://de.sputniknews.companorama/201703073148...   \n",
              "15  http://de.sputniknews.compolitik/2017020731442...   \n",
              "16  http://de.sputniknews.comgesellschaft/20180619...   \n",
              "17  http://de.sputniknews.compolitik/2018091432231...   \n",
              "18  http://de.sputniknews.com/german.ruvr.ru/2013_...   \n",
              "19  http://de.sputniknews.companorama/201707153166...   \n",
              "\n",
              "                                                    1         2  \\\n",
              "0   http://web.archive.org/web/20170227192503/http...  20160107   \n",
              "1   http://web.archive.org/web/20150315163311/http...  20150210   \n",
              "2   http://web.archive.org/web/20181117160304/http...  20181117   \n",
              "3   http://web.archive.org/web/20181123020955/http...  20181109   \n",
              "4   http://web.archive.org/web/20181126055753/http...  20160306   \n",
              "5   http://web.archive.org/web/20181123212339/http...  20151016   \n",
              "6   http://web.archive.org/web/20181201153825/http...  20151020   \n",
              "7   http://web.archive.org/web/20150726055154/http...  20140106   \n",
              "8   http://web.archive.org/web/20180813172522/http...  20180813   \n",
              "9   http://web.archive.org/web/20170324060955/http...  20170219   \n",
              "10  http://web.archive.org/web/20181123231931/http...  20151228   \n",
              "11  http://web.archive.org/web/20171008021814/http...  20160614   \n",
              "12  http://web.archive.org/web/20181210233556/http...  20181210   \n",
              "13  http://web.archive.org/web/20181201040148/http...  20151102   \n",
              "14  http://web.archive.org/web/20170307115432/http...  20170307   \n",
              "15  http://web.archive.org/web/20170209143833/http...  20170207   \n",
              "16  http://web.archive.org/web/20181225062127/http...  20180619   \n",
              "17  http://web.archive.org/web/20180914185523/http...  20180914   \n",
              "18  http://web.archive.org/web/20150722052852/http...  20131106   \n",
              "19  http://web.archive.org/web/20170715150527/http...  20170715   \n",
              "\n",
              "                                                    3  \\\n",
              "0   FDP-Chef Lindner: Merkels Flüchtlingspolitik f...   \n",
              "1   Experte: Rund 1,3 Millionen wehrpflichtige Ukr...   \n",
              "2   So präzisiert Nahles ihre Idee für Hartz IV-Al...   \n",
              "3   Trump beschränkt drastisch Asylgewährung für i...   \n",
              "4   Österreich drängt auf deutsches Flüchtlingskon...   \n",
              "5   Migrationskrise: Warschau wehrt sich gegen Mer...   \n",
              "6        Flüchtlingskrise: Ist Abriegeln eine Lösung?   \n",
              "7     Großbritannien will EU-Freizügigkeit verhindern   \n",
              "8   Rückkehr von Flüchtlingen: Syrischer Minister ...   \n",
              "9                          USA verschärfen Asyl-Recht   \n",
              "10     Dänemark will die Flüchtlingskonvention ändern   \n",
              "11  Glaube darf nicht über Gesetz stehen: Bundesju...   \n",
              "12           Gibt es ein Menschenrecht auf Migration?   \n",
              "13  Kabul nimmt abgelehnte Asylbewerber aus Deutsc...   \n",
              "14  EuGH-Urteil: Keine \\humanitären Visa\\\" in EU-A...   \n",
              "15  Kalifornien und Trump erklären einander den Kr...   \n",
              "16  Kinder von Eltern zu trennen ist skrupellos – ...   \n",
              "17  EU will Ungarn „Recht auf Kontrolle eigener Gr...   \n",
              "18    Festung Europa - von Migranten und Flüchtlingen   \n",
              "19  Selbstanzeigen unter Flüchtlingen „wegen Terro...   \n",
              "\n",
              "                                                    4               5  \\\n",
              "0   Der Satz „Wir schaffen das“ der Bundeskanzleri...  OVER-THRESHOLD   \n",
              "1   In letzter Zeit sei knapp einer halben Million...  OVER-THRESHOLD   \n",
              "2   {                    \\vars\\\": {               ...  OVER-THRESHOLD   \n",
              "3   {                    \\vars\\\": {               ...  OVER-THRESHOLD   \n",
              "4   {                    \\vars\\\": {               ...  OVER-THRESHOLD   \n",
              "5   {                    \\vars\\\": {               ...  OVER-THRESHOLD   \n",
              "6   {                    \\vars\\\": {               ...  OVER-THRESHOLD   \n",
              "7   Foto: EPA STIMME RUSSLANDS Die Regierung Großb...  OVER-THRESHOLD   \n",
              "8   Der syrische Minister für lokale Verwaltung un...  OVER-THRESHOLD   \n",
              "9   Nach dem US-Gesetz „Immigration and Nationalit...  OVER-THRESHOLD   \n",
              "10  {                    \\vars\\\": {               ...  OVER-THRESHOLD   \n",
              "11  Bundesjustizminister Heiko Maas will Mehrfach-...  OVER-THRESHOLD   \n",
              "12  {                    \\vars\\\": {               ...  OVER-THRESHOLD   \n",
              "13  {                    \\vars\\\": {               ...  OVER-THRESHOLD   \n",
              "14  Die Behörde argumentierte, dass sich die Famil...  OVER-THRESHOLD   \n",
              "15  „Das ist lächerlich“, so Trump über Kalifornie...  OVER-THRESHOLD   \n",
              "16  {                    \\vars\\\": {               ...  OVER-THRESHOLD   \n",
              "17  Das EU-Rechtsstaatsverfahren gegen Ungarn stel...  OVER-THRESHOLD   \n",
              "18  Foto: Aziz Bozkurt STIMME RUSSLANDS Flüchtling...  OVER-THRESHOLD   \n",
              "19  Mehr als 408.000 Asylanträge hat das Bundesamt...  OVER-THRESHOLD   \n",
              "\n",
              "                                                    6     7         8  \n",
              "0                  flüchtlingen migranten flüchtlinge    70  0.572646  \n",
              "1                  flüchtlingsstatus asyl flüchtlinge    43  0.549350  \n",
              "2                                           migration   884  0.549179  \n",
              "3                          einwanderer migranten asyl   998  0.548637  \n",
              "4   asyl flüchtlinge migranten asylanträge flüchtl...   699  0.547927  \n",
              "5   flüchtlingen migrationskrise migranten flüchtl...   805  0.544957  \n",
              "6           migrationsproblem asylpolitik flüchtlinge   522  0.544158  \n",
              "7                                           migranten    83  0.544010  \n",
              "8                            flüchtlingen flüchtlinge   163  0.543707  \n",
              "9                              migration asylbewerber    79  0.543063  \n",
              "10                  flüchtlingskrise asyl flüchtlinge   981  0.541940  \n",
              "11                                          migranten   135  0.539771  \n",
              "12  flüchtlingen asyl einwanderung flucht flüchtli...  1461  0.537198  \n",
              "13         migrationsproblem asylbewerber flüchtlinge   801  0.536986  \n",
              "14                                   asylanträge asyl   116  0.536182  \n",
              "15                                          migranten   174  0.536121  \n",
              "16                              einwanderer migranten   980  0.533417  \n",
              "17        flüchtlingen flüchtlingspolitik flüchtlinge   179  0.532563  \n",
              "18                 migration asylbewerber flüchtlinge    61  0.532313  \n",
              "19     asylanträge migration asylbewerber flüchtlinge   128  0.531923  "
            ],
            "text/html": [
              "\n",
              "  <div id=\"df-7af0ca77-8d27-44be-80ee-d02eff7d68e9\">\n",
              "    <div class=\"colab-df-container\">\n",
              "      <div>\n",
              "<style scoped>\n",
              "    .dataframe tbody tr th:only-of-type {\n",
              "        vertical-align: middle;\n",
              "    }\n",
              "\n",
              "    .dataframe tbody tr th {\n",
              "        vertical-align: top;\n",
              "    }\n",
              "\n",
              "    .dataframe thead th {\n",
              "        text-align: right;\n",
              "    }\n",
              "</style>\n",
              "<table border=\"1\" class=\"dataframe\">\n",
              "  <thead>\n",
              "    <tr style=\"text-align: right;\">\n",
              "      <th></th>\n",
              "      <th>0</th>\n",
              "      <th>1</th>\n",
              "      <th>2</th>\n",
              "      <th>3</th>\n",
              "      <th>4</th>\n",
              "      <th>5</th>\n",
              "      <th>6</th>\n",
              "      <th>7</th>\n",
              "      <th>8</th>\n",
              "    </tr>\n",
              "  </thead>\n",
              "  <tbody>\n",
              "    <tr>\n",
              "      <th>0</th>\n",
              "      <td>http://de.sputniknews.compolitik/2016010730696...</td>\n",
              "      <td>http://web.archive.org/web/20170227192503/http...</td>\n",
              "      <td>20160107</td>\n",
              "      <td>FDP-Chef Lindner: Merkels Flüchtlingspolitik f...</td>\n",
              "      <td>Der Satz „Wir schaffen das“ der Bundeskanzleri...</td>\n",
              "      <td>OVER-THRESHOLD</td>\n",
              "      <td>flüchtlingen migranten flüchtlinge</td>\n",
              "      <td>70</td>\n",
              "      <td>0.572646</td>\n",
              "    </tr>\n",
              "    <tr>\n",
              "      <th>1</th>\n",
              "      <td>http://de.sputniknews.com/panorama/20150210/30...</td>\n",
              "      <td>http://web.archive.org/web/20150315163311/http...</td>\n",
              "      <td>20150210</td>\n",
              "      <td>Experte: Rund 1,3 Millionen wehrpflichtige Ukr...</td>\n",
              "      <td>In letzter Zeit sei knapp einer halben Million...</td>\n",
              "      <td>OVER-THRESHOLD</td>\n",
              "      <td>flüchtlingsstatus asyl flüchtlinge</td>\n",
              "      <td>43</td>\n",
              "      <td>0.549350</td>\n",
              "    </tr>\n",
              "    <tr>\n",
              "      <th>2</th>\n",
              "      <td>http://de.sputniknews.compolitik/2018111732299...</td>\n",
              "      <td>http://web.archive.org/web/20181117160304/http...</td>\n",
              "      <td>20181117</td>\n",
              "      <td>So präzisiert Nahles ihre Idee für Hartz IV-Al...</td>\n",
              "      <td>{                    \\vars\\\": {               ...</td>\n",
              "      <td>OVER-THRESHOLD</td>\n",
              "      <td>migration</td>\n",
              "      <td>884</td>\n",
              "      <td>0.549179</td>\n",
              "    </tr>\n",
              "    <tr>\n",
              "      <th>3</th>\n",
              "      <td>http://de.sputniknews.compolitik/2018110932290...</td>\n",
              "      <td>http://web.archive.org/web/20181123020955/http...</td>\n",
              "      <td>20181109</td>\n",
              "      <td>Trump beschränkt drastisch Asylgewährung für i...</td>\n",
              "      <td>{                    \\vars\\\": {               ...</td>\n",
              "      <td>OVER-THRESHOLD</td>\n",
              "      <td>einwanderer migranten asyl</td>\n",
              "      <td>998</td>\n",
              "      <td>0.548637</td>\n",
              "    </tr>\n",
              "    <tr>\n",
              "      <th>4</th>\n",
              "      <td>http://de.sputniknews.compolitik/2016030630828...</td>\n",
              "      <td>http://web.archive.org/web/20181126055753/http...</td>\n",
              "      <td>20160306</td>\n",
              "      <td>Österreich drängt auf deutsches Flüchtlingskon...</td>\n",
              "      <td>{                    \\vars\\\": {               ...</td>\n",
              "      <td>OVER-THRESHOLD</td>\n",
              "      <td>asyl flüchtlinge migranten asylanträge flüchtl...</td>\n",
              "      <td>699</td>\n",
              "      <td>0.547927</td>\n",
              "    </tr>\n",
              "    <tr>\n",
              "      <th>5</th>\n",
              "      <td>http://de.sputniknews.compolitik/2015101630498...</td>\n",
              "      <td>http://web.archive.org/web/20181123212339/http...</td>\n",
              "      <td>20151016</td>\n",
              "      <td>Migrationskrise: Warschau wehrt sich gegen Mer...</td>\n",
              "      <td>{                    \\vars\\\": {               ...</td>\n",
              "      <td>OVER-THRESHOLD</td>\n",
              "      <td>flüchtlingen migrationskrise migranten flüchtl...</td>\n",
              "      <td>805</td>\n",
              "      <td>0.544957</td>\n",
              "    </tr>\n",
              "    <tr>\n",
              "      <th>6</th>\n",
              "      <td>http://de.sputniknews.comkarikatur/20151020305...</td>\n",
              "      <td>http://web.archive.org/web/20181201153825/http...</td>\n",
              "      <td>20151020</td>\n",
              "      <td>Flüchtlingskrise: Ist Abriegeln eine Lösung?</td>\n",
              "      <td>{                    \\vars\\\": {               ...</td>\n",
              "      <td>OVER-THRESHOLD</td>\n",
              "      <td>migrationsproblem asylpolitik flüchtlinge</td>\n",
              "      <td>522</td>\n",
              "      <td>0.544158</td>\n",
              "    </tr>\n",
              "    <tr>\n",
              "      <th>7</th>\n",
              "      <td>http://de.sputniknews.com/german.ruvr.ru/news/...</td>\n",
              "      <td>http://web.archive.org/web/20150726055154/http...</td>\n",
              "      <td>20140106</td>\n",
              "      <td>Großbritannien will EU-Freizügigkeit verhindern</td>\n",
              "      <td>Foto: EPA STIMME RUSSLANDS Die Regierung Großb...</td>\n",
              "      <td>OVER-THRESHOLD</td>\n",
              "      <td>migranten</td>\n",
              "      <td>83</td>\n",
              "      <td>0.544010</td>\n",
              "    </tr>\n",
              "    <tr>\n",
              "      <th>8</th>\n",
              "      <td>http://de.sputniknews.compolitik/2018081332193...</td>\n",
              "      <td>http://web.archive.org/web/20180813172522/http...</td>\n",
              "      <td>20180813</td>\n",
              "      <td>Rückkehr von Flüchtlingen: Syrischer Minister ...</td>\n",
              "      <td>Der syrische Minister für lokale Verwaltung un...</td>\n",
              "      <td>OVER-THRESHOLD</td>\n",
              "      <td>flüchtlingen flüchtlinge</td>\n",
              "      <td>163</td>\n",
              "      <td>0.543707</td>\n",
              "    </tr>\n",
              "    <tr>\n",
              "      <th>9</th>\n",
              "      <td>http://de.sputniknews.compolitik/2017021931460...</td>\n",
              "      <td>http://web.archive.org/web/20170324060955/http...</td>\n",
              "      <td>20170219</td>\n",
              "      <td>USA verschärfen Asyl-Recht</td>\n",
              "      <td>Nach dem US-Gesetz „Immigration and Nationalit...</td>\n",
              "      <td>OVER-THRESHOLD</td>\n",
              "      <td>migration asylbewerber</td>\n",
              "      <td>79</td>\n",
              "      <td>0.543063</td>\n",
              "    </tr>\n",
              "    <tr>\n",
              "      <th>10</th>\n",
              "      <td>http://de.sputniknews.companorama/201512283068...</td>\n",
              "      <td>http://web.archive.org/web/20181123231931/http...</td>\n",
              "      <td>20151228</td>\n",
              "      <td>Dänemark will die Flüchtlingskonvention ändern</td>\n",
              "      <td>{                    \\vars\\\": {               ...</td>\n",
              "      <td>OVER-THRESHOLD</td>\n",
              "      <td>flüchtlingskrise asyl flüchtlinge</td>\n",
              "      <td>981</td>\n",
              "      <td>0.541940</td>\n",
              "    </tr>\n",
              "    <tr>\n",
              "      <th>11</th>\n",
              "      <td>http://de.sputniknews.compolitik/2016061431060...</td>\n",
              "      <td>http://web.archive.org/web/20171008021814/http...</td>\n",
              "      <td>20160614</td>\n",
              "      <td>Glaube darf nicht über Gesetz stehen: Bundesju...</td>\n",
              "      <td>Bundesjustizminister Heiko Maas will Mehrfach-...</td>\n",
              "      <td>OVER-THRESHOLD</td>\n",
              "      <td>migranten</td>\n",
              "      <td>135</td>\n",
              "      <td>0.539771</td>\n",
              "    </tr>\n",
              "    <tr>\n",
              "      <th>12</th>\n",
              "      <td>http://de.sputniknews.comgesellschaft/20181210...</td>\n",
              "      <td>http://web.archive.org/web/20181210233556/http...</td>\n",
              "      <td>20181210</td>\n",
              "      <td>Gibt es ein Menschenrecht auf Migration?</td>\n",
              "      <td>{                    \\vars\\\": {               ...</td>\n",
              "      <td>OVER-THRESHOLD</td>\n",
              "      <td>flüchtlingen asyl einwanderung flucht flüchtli...</td>\n",
              "      <td>1461</td>\n",
              "      <td>0.537198</td>\n",
              "    </tr>\n",
              "    <tr>\n",
              "      <th>13</th>\n",
              "      <td>http://de.sputniknews.compolitik/2015110230534...</td>\n",
              "      <td>http://web.archive.org/web/20181201040148/http...</td>\n",
              "      <td>20151102</td>\n",
              "      <td>Kabul nimmt abgelehnte Asylbewerber aus Deutsc...</td>\n",
              "      <td>{                    \\vars\\\": {               ...</td>\n",
              "      <td>OVER-THRESHOLD</td>\n",
              "      <td>migrationsproblem asylbewerber flüchtlinge</td>\n",
              "      <td>801</td>\n",
              "      <td>0.536986</td>\n",
              "    </tr>\n",
              "    <tr>\n",
              "      <th>14</th>\n",
              "      <td>http://de.sputniknews.companorama/201703073148...</td>\n",
              "      <td>http://web.archive.org/web/20170307115432/http...</td>\n",
              "      <td>20170307</td>\n",
              "      <td>EuGH-Urteil: Keine \\humanitären Visa\\\" in EU-A...</td>\n",
              "      <td>Die Behörde argumentierte, dass sich die Famil...</td>\n",
              "      <td>OVER-THRESHOLD</td>\n",
              "      <td>asylanträge asyl</td>\n",
              "      <td>116</td>\n",
              "      <td>0.536182</td>\n",
              "    </tr>\n",
              "    <tr>\n",
              "      <th>15</th>\n",
              "      <td>http://de.sputniknews.compolitik/2017020731442...</td>\n",
              "      <td>http://web.archive.org/web/20170209143833/http...</td>\n",
              "      <td>20170207</td>\n",
              "      <td>Kalifornien und Trump erklären einander den Kr...</td>\n",
              "      <td>„Das ist lächerlich“, so Trump über Kalifornie...</td>\n",
              "      <td>OVER-THRESHOLD</td>\n",
              "      <td>migranten</td>\n",
              "      <td>174</td>\n",
              "      <td>0.536121</td>\n",
              "    </tr>\n",
              "    <tr>\n",
              "      <th>16</th>\n",
              "      <td>http://de.sputniknews.comgesellschaft/20180619...</td>\n",
              "      <td>http://web.archive.org/web/20181225062127/http...</td>\n",
              "      <td>20180619</td>\n",
              "      <td>Kinder von Eltern zu trennen ist skrupellos – ...</td>\n",
              "      <td>{                    \\vars\\\": {               ...</td>\n",
              "      <td>OVER-THRESHOLD</td>\n",
              "      <td>einwanderer migranten</td>\n",
              "      <td>980</td>\n",
              "      <td>0.533417</td>\n",
              "    </tr>\n",
              "    <tr>\n",
              "      <th>17</th>\n",
              "      <td>http://de.sputniknews.compolitik/2018091432231...</td>\n",
              "      <td>http://web.archive.org/web/20180914185523/http...</td>\n",
              "      <td>20180914</td>\n",
              "      <td>EU will Ungarn „Recht auf Kontrolle eigener Gr...</td>\n",
              "      <td>Das EU-Rechtsstaatsverfahren gegen Ungarn stel...</td>\n",
              "      <td>OVER-THRESHOLD</td>\n",
              "      <td>flüchtlingen flüchtlingspolitik flüchtlinge</td>\n",
              "      <td>179</td>\n",
              "      <td>0.532563</td>\n",
              "    </tr>\n",
              "    <tr>\n",
              "      <th>18</th>\n",
              "      <td>http://de.sputniknews.com/german.ruvr.ru/2013_...</td>\n",
              "      <td>http://web.archive.org/web/20150722052852/http...</td>\n",
              "      <td>20131106</td>\n",
              "      <td>Festung Europa - von Migranten und Flüchtlingen</td>\n",
              "      <td>Foto: Aziz Bozkurt STIMME RUSSLANDS Flüchtling...</td>\n",
              "      <td>OVER-THRESHOLD</td>\n",
              "      <td>migration asylbewerber flüchtlinge</td>\n",
              "      <td>61</td>\n",
              "      <td>0.532313</td>\n",
              "    </tr>\n",
              "    <tr>\n",
              "      <th>19</th>\n",
              "      <td>http://de.sputniknews.companorama/201707153166...</td>\n",
              "      <td>http://web.archive.org/web/20170715150527/http...</td>\n",
              "      <td>20170715</td>\n",
              "      <td>Selbstanzeigen unter Flüchtlingen „wegen Terro...</td>\n",
              "      <td>Mehr als 408.000 Asylanträge hat das Bundesamt...</td>\n",
              "      <td>OVER-THRESHOLD</td>\n",
              "      <td>asylanträge migration asylbewerber flüchtlinge</td>\n",
              "      <td>128</td>\n",
              "      <td>0.531923</td>\n",
              "    </tr>\n",
              "  </tbody>\n",
              "</table>\n",
              "</div>\n",
              "      <button class=\"colab-df-convert\" onclick=\"convertToInteractive('df-7af0ca77-8d27-44be-80ee-d02eff7d68e9')\"\n",
              "              title=\"Convert this dataframe to an interactive table.\"\n",
              "              style=\"display:none;\">\n",
              "        \n",
              "  <svg xmlns=\"http://www.w3.org/2000/svg\" height=\"24px\"viewBox=\"0 0 24 24\"\n",
              "       width=\"24px\">\n",
              "    <path d=\"M0 0h24v24H0V0z\" fill=\"none\"/>\n",
              "    <path d=\"M18.56 5.44l.94 2.06.94-2.06 2.06-.94-2.06-.94-.94-2.06-.94 2.06-2.06.94zm-11 1L8.5 8.5l.94-2.06 2.06-.94-2.06-.94L8.5 2.5l-.94 2.06-2.06.94zm10 10l.94 2.06.94-2.06 2.06-.94-2.06-.94-.94-2.06-.94 2.06-2.06.94z\"/><path d=\"M17.41 7.96l-1.37-1.37c-.4-.4-.92-.59-1.43-.59-.52 0-1.04.2-1.43.59L10.3 9.45l-7.72 7.72c-.78.78-.78 2.05 0 2.83L4 21.41c.39.39.9.59 1.41.59.51 0 1.02-.2 1.41-.59l7.78-7.78 2.81-2.81c.8-.78.8-2.07 0-2.86zM5.41 20L4 18.59l7.72-7.72 1.47 1.35L5.41 20z\"/>\n",
              "  </svg>\n",
              "      </button>\n",
              "      \n",
              "  <style>\n",
              "    .colab-df-container {\n",
              "      display:flex;\n",
              "      flex-wrap:wrap;\n",
              "      gap: 12px;\n",
              "    }\n",
              "\n",
              "    .colab-df-convert {\n",
              "      background-color: #E8F0FE;\n",
              "      border: none;\n",
              "      border-radius: 50%;\n",
              "      cursor: pointer;\n",
              "      display: none;\n",
              "      fill: #1967D2;\n",
              "      height: 32px;\n",
              "      padding: 0 0 0 0;\n",
              "      width: 32px;\n",
              "    }\n",
              "\n",
              "    .colab-df-convert:hover {\n",
              "      background-color: #E2EBFA;\n",
              "      box-shadow: 0px 1px 2px rgba(60, 64, 67, 0.3), 0px 1px 3px 1px rgba(60, 64, 67, 0.15);\n",
              "      fill: #174EA6;\n",
              "    }\n",
              "\n",
              "    [theme=dark] .colab-df-convert {\n",
              "      background-color: #3B4455;\n",
              "      fill: #D2E3FC;\n",
              "    }\n",
              "\n",
              "    [theme=dark] .colab-df-convert:hover {\n",
              "      background-color: #434B5C;\n",
              "      box-shadow: 0px 1px 3px 1px rgba(0, 0, 0, 0.15);\n",
              "      filter: drop-shadow(0px 1px 2px rgba(0, 0, 0, 0.3));\n",
              "      fill: #FFFFFF;\n",
              "    }\n",
              "  </style>\n",
              "\n",
              "      <script>\n",
              "        const buttonEl =\n",
              "          document.querySelector('#df-7af0ca77-8d27-44be-80ee-d02eff7d68e9 button.colab-df-convert');\n",
              "        buttonEl.style.display =\n",
              "          google.colab.kernel.accessAllowed ? 'block' : 'none';\n",
              "\n",
              "        async function convertToInteractive(key) {\n",
              "          const element = document.querySelector('#df-7af0ca77-8d27-44be-80ee-d02eff7d68e9');\n",
              "          const dataTable =\n",
              "            await google.colab.kernel.invokeFunction('convertToInteractive',\n",
              "                                                     [key], {});\n",
              "          if (!dataTable) return;\n",
              "\n",
              "          const docLinkHtml = 'Like what you see? Visit the ' +\n",
              "            '<a target=\"_blank\" href=https://colab.research.google.com/notebooks/data_table.ipynb>data table notebook</a>'\n",
              "            + ' to learn more about interactive tables.';\n",
              "          element.innerHTML = '';\n",
              "          dataTable['output_type'] = 'display_data';\n",
              "          await google.colab.output.renderOutput(dataTable, element);\n",
              "          const docLink = document.createElement('div');\n",
              "          docLink.innerHTML = docLinkHtml;\n",
              "          element.appendChild(docLink);\n",
              "        }\n",
              "      </script>\n",
              "    </div>\n",
              "  </div>\n",
              "  "
            ]
          },
          "metadata": {},
          "execution_count": 118
        }
      ]
    },
    {
      "cell_type": "code",
      "source": [
        "dataframe[\"cleanedtitle\"]=dataframe[3].apply(nlp_simple_pipeline) \n",
        "dataframe"
      ],
      "metadata": {
        "colab": {
          "base_uri": "https://localhost:8080/",
          "height": 1504
        },
        "id": "mN26tF05O9Pa",
        "outputId": "e1af07ee-e6e0-4714-c7c4-c916993205c7"
      },
      "execution_count": null,
      "outputs": [
        {
          "output_type": "execute_result",
          "data": {
            "text/plain": [
              "                                                    0  \\\n",
              "0   http://de.sputniknews.compolitik/2016010730696...   \n",
              "1   http://de.sputniknews.com/panorama/20150210/30...   \n",
              "2   http://de.sputniknews.compolitik/2018111732299...   \n",
              "3   http://de.sputniknews.compolitik/2018110932290...   \n",
              "4   http://de.sputniknews.compolitik/2016030630828...   \n",
              "5   http://de.sputniknews.compolitik/2015101630498...   \n",
              "6   http://de.sputniknews.comkarikatur/20151020305...   \n",
              "7   http://de.sputniknews.com/german.ruvr.ru/news/...   \n",
              "8   http://de.sputniknews.compolitik/2018081332193...   \n",
              "9   http://de.sputniknews.compolitik/2017021931460...   \n",
              "10  http://de.sputniknews.companorama/201512283068...   \n",
              "11  http://de.sputniknews.compolitik/2016061431060...   \n",
              "12  http://de.sputniknews.comgesellschaft/20181210...   \n",
              "13  http://de.sputniknews.compolitik/2015110230534...   \n",
              "14  http://de.sputniknews.companorama/201703073148...   \n",
              "15  http://de.sputniknews.compolitik/2017020731442...   \n",
              "16  http://de.sputniknews.comgesellschaft/20180619...   \n",
              "17  http://de.sputniknews.compolitik/2018091432231...   \n",
              "18  http://de.sputniknews.com/german.ruvr.ru/2013_...   \n",
              "19  http://de.sputniknews.companorama/201707153166...   \n",
              "\n",
              "                                                    1         2  \\\n",
              "0   http://web.archive.org/web/20170227192503/http...  20160107   \n",
              "1   http://web.archive.org/web/20150315163311/http...  20150210   \n",
              "2   http://web.archive.org/web/20181117160304/http...  20181117   \n",
              "3   http://web.archive.org/web/20181123020955/http...  20181109   \n",
              "4   http://web.archive.org/web/20181126055753/http...  20160306   \n",
              "5   http://web.archive.org/web/20181123212339/http...  20151016   \n",
              "6   http://web.archive.org/web/20181201153825/http...  20151020   \n",
              "7   http://web.archive.org/web/20150726055154/http...  20140106   \n",
              "8   http://web.archive.org/web/20180813172522/http...  20180813   \n",
              "9   http://web.archive.org/web/20170324060955/http...  20170219   \n",
              "10  http://web.archive.org/web/20181123231931/http...  20151228   \n",
              "11  http://web.archive.org/web/20171008021814/http...  20160614   \n",
              "12  http://web.archive.org/web/20181210233556/http...  20181210   \n",
              "13  http://web.archive.org/web/20181201040148/http...  20151102   \n",
              "14  http://web.archive.org/web/20170307115432/http...  20170307   \n",
              "15  http://web.archive.org/web/20170209143833/http...  20170207   \n",
              "16  http://web.archive.org/web/20181225062127/http...  20180619   \n",
              "17  http://web.archive.org/web/20180914185523/http...  20180914   \n",
              "18  http://web.archive.org/web/20150722052852/http...  20131106   \n",
              "19  http://web.archive.org/web/20170715150527/http...  20170715   \n",
              "\n",
              "                                                    3  \\\n",
              "0   FDP-Chef Lindner: Merkels Flüchtlingspolitik f...   \n",
              "1   Experte: Rund 1,3 Millionen wehrpflichtige Ukr...   \n",
              "2   So präzisiert Nahles ihre Idee für Hartz IV-Al...   \n",
              "3   Trump beschränkt drastisch Asylgewährung für i...   \n",
              "4   Österreich drängt auf deutsches Flüchtlingskon...   \n",
              "5   Migrationskrise: Warschau wehrt sich gegen Mer...   \n",
              "6        Flüchtlingskrise: Ist Abriegeln eine Lösung?   \n",
              "7     Großbritannien will EU-Freizügigkeit verhindern   \n",
              "8   Rückkehr von Flüchtlingen: Syrischer Minister ...   \n",
              "9                          USA verschärfen Asyl-Recht   \n",
              "10     Dänemark will die Flüchtlingskonvention ändern   \n",
              "11  Glaube darf nicht über Gesetz stehen: Bundesju...   \n",
              "12           Gibt es ein Menschenrecht auf Migration?   \n",
              "13  Kabul nimmt abgelehnte Asylbewerber aus Deutsc...   \n",
              "14  EuGH-Urteil: Keine \\humanitären Visa\\\" in EU-A...   \n",
              "15  Kalifornien und Trump erklären einander den Kr...   \n",
              "16  Kinder von Eltern zu trennen ist skrupellos – ...   \n",
              "17  EU will Ungarn „Recht auf Kontrolle eigener Gr...   \n",
              "18    Festung Europa - von Migranten und Flüchtlingen   \n",
              "19  Selbstanzeigen unter Flüchtlingen „wegen Terro...   \n",
              "\n",
              "                                                    4               5  \\\n",
              "0   Der Satz „Wir schaffen das“ der Bundeskanzleri...  OVER-THRESHOLD   \n",
              "1   In letzter Zeit sei knapp einer halben Million...  OVER-THRESHOLD   \n",
              "2   {                    \\vars\\\": {               ...  OVER-THRESHOLD   \n",
              "3   {                    \\vars\\\": {               ...  OVER-THRESHOLD   \n",
              "4   {                    \\vars\\\": {               ...  OVER-THRESHOLD   \n",
              "5   {                    \\vars\\\": {               ...  OVER-THRESHOLD   \n",
              "6   {                    \\vars\\\": {               ...  OVER-THRESHOLD   \n",
              "7   Foto: EPA STIMME RUSSLANDS Die Regierung Großb...  OVER-THRESHOLD   \n",
              "8   Der syrische Minister für lokale Verwaltung un...  OVER-THRESHOLD   \n",
              "9   Nach dem US-Gesetz „Immigration and Nationalit...  OVER-THRESHOLD   \n",
              "10  {                    \\vars\\\": {               ...  OVER-THRESHOLD   \n",
              "11  Bundesjustizminister Heiko Maas will Mehrfach-...  OVER-THRESHOLD   \n",
              "12  {                    \\vars\\\": {               ...  OVER-THRESHOLD   \n",
              "13  {                    \\vars\\\": {               ...  OVER-THRESHOLD   \n",
              "14  Die Behörde argumentierte, dass sich die Famil...  OVER-THRESHOLD   \n",
              "15  „Das ist lächerlich“, so Trump über Kalifornie...  OVER-THRESHOLD   \n",
              "16  {                    \\vars\\\": {               ...  OVER-THRESHOLD   \n",
              "17  Das EU-Rechtsstaatsverfahren gegen Ungarn stel...  OVER-THRESHOLD   \n",
              "18  Foto: Aziz Bozkurt STIMME RUSSLANDS Flüchtling...  OVER-THRESHOLD   \n",
              "19  Mehr als 408.000 Asylanträge hat das Bundesamt...  OVER-THRESHOLD   \n",
              "\n",
              "                                                    6     7         8  \\\n",
              "0                  flüchtlingen migranten flüchtlinge    70  0.572646   \n",
              "1                  flüchtlingsstatus asyl flüchtlinge    43  0.549350   \n",
              "2                                           migration   884  0.549179   \n",
              "3                          einwanderer migranten asyl   998  0.548637   \n",
              "4   asyl flüchtlinge migranten asylanträge flüchtl...   699  0.547927   \n",
              "5   flüchtlingen migrationskrise migranten flüchtl...   805  0.544957   \n",
              "6           migrationsproblem asylpolitik flüchtlinge   522  0.544158   \n",
              "7                                           migranten    83  0.544010   \n",
              "8                            flüchtlingen flüchtlinge   163  0.543707   \n",
              "9                              migration asylbewerber    79  0.543063   \n",
              "10                  flüchtlingskrise asyl flüchtlinge   981  0.541940   \n",
              "11                                          migranten   135  0.539771   \n",
              "12  flüchtlingen asyl einwanderung flucht flüchtli...  1461  0.537198   \n",
              "13         migrationsproblem asylbewerber flüchtlinge   801  0.536986   \n",
              "14                                   asylanträge asyl   116  0.536182   \n",
              "15                                          migranten   174  0.536121   \n",
              "16                              einwanderer migranten   980  0.533417   \n",
              "17        flüchtlingen flüchtlingspolitik flüchtlinge   179  0.532563   \n",
              "18                 migration asylbewerber flüchtlinge    61  0.532313   \n",
              "19     asylanträge migration asylbewerber flüchtlinge   128  0.531923   \n",
              "\n",
              "                                         cleanedtitle  \n",
              "0   [merkels, flüchtlingspolitik, führt, europa, c...  \n",
              "1   [rund, millionen, wehrpflichtige, ukrainer, ru...  \n",
              "2                   [präzisiert, nahles, idee, hartz]  \n",
              "3   [trump, beschränkt, drastisch, asylgewährung, ...  \n",
              "4   [österreich, drängt, deutsches, flüchtlingskon...  \n",
              "5        [warschau, wehrt, merkels, flüchtlingsquote]  \n",
              "6                                         [abriegeln]  \n",
              "7                        [großbritannien, verhindern]  \n",
              "8   [rückkehr, syrischer, minister, appelliert, de...  \n",
              "9                                  [usa, verschärfen]  \n",
              "10          [dänemark, flüchtlingskonvention, ändern]  \n",
              "11  [glaube, darf, gesetz, bundesjustizminister, p...  \n",
              "12                              [gibt, menschenrecht]  \n",
              "13  [kabul, nimmt, abgelehnte, asylbewerber, deuts...  \n",
              "14                                                 []  \n",
              "15  [kalifornien, trump, erklären, einander, krieg...  \n",
              "16  [kinder, eltern, trennen, skrupellos, rügt, us...  \n",
              "17   [eu, ungarn, kontrolle, eigener, grenzen, orban]  \n",
              "18         [festung, europa, migranten, flüchtlingen]  \n",
              "19  [selbstanzeigen, flüchtlingen, wuchern, bizarr...  "
            ],
            "text/html": [
              "\n",
              "  <div id=\"df-0e12132d-b60d-48e7-83f5-d6c19f5e9e65\">\n",
              "    <div class=\"colab-df-container\">\n",
              "      <div>\n",
              "<style scoped>\n",
              "    .dataframe tbody tr th:only-of-type {\n",
              "        vertical-align: middle;\n",
              "    }\n",
              "\n",
              "    .dataframe tbody tr th {\n",
              "        vertical-align: top;\n",
              "    }\n",
              "\n",
              "    .dataframe thead th {\n",
              "        text-align: right;\n",
              "    }\n",
              "</style>\n",
              "<table border=\"1\" class=\"dataframe\">\n",
              "  <thead>\n",
              "    <tr style=\"text-align: right;\">\n",
              "      <th></th>\n",
              "      <th>0</th>\n",
              "      <th>1</th>\n",
              "      <th>2</th>\n",
              "      <th>3</th>\n",
              "      <th>4</th>\n",
              "      <th>5</th>\n",
              "      <th>6</th>\n",
              "      <th>7</th>\n",
              "      <th>8</th>\n",
              "      <th>cleanedtitle</th>\n",
              "    </tr>\n",
              "  </thead>\n",
              "  <tbody>\n",
              "    <tr>\n",
              "      <th>0</th>\n",
              "      <td>http://de.sputniknews.compolitik/2016010730696...</td>\n",
              "      <td>http://web.archive.org/web/20170227192503/http...</td>\n",
              "      <td>20160107</td>\n",
              "      <td>FDP-Chef Lindner: Merkels Flüchtlingspolitik f...</td>\n",
              "      <td>Der Satz „Wir schaffen das“ der Bundeskanzleri...</td>\n",
              "      <td>OVER-THRESHOLD</td>\n",
              "      <td>flüchtlingen migranten flüchtlinge</td>\n",
              "      <td>70</td>\n",
              "      <td>0.572646</td>\n",
              "      <td>[merkels, flüchtlingspolitik, führt, europa, c...</td>\n",
              "    </tr>\n",
              "    <tr>\n",
              "      <th>1</th>\n",
              "      <td>http://de.sputniknews.com/panorama/20150210/30...</td>\n",
              "      <td>http://web.archive.org/web/20150315163311/http...</td>\n",
              "      <td>20150210</td>\n",
              "      <td>Experte: Rund 1,3 Millionen wehrpflichtige Ukr...</td>\n",
              "      <td>In letzter Zeit sei knapp einer halben Million...</td>\n",
              "      <td>OVER-THRESHOLD</td>\n",
              "      <td>flüchtlingsstatus asyl flüchtlinge</td>\n",
              "      <td>43</td>\n",
              "      <td>0.549350</td>\n",
              "      <td>[rund, millionen, wehrpflichtige, ukrainer, ru...</td>\n",
              "    </tr>\n",
              "    <tr>\n",
              "      <th>2</th>\n",
              "      <td>http://de.sputniknews.compolitik/2018111732299...</td>\n",
              "      <td>http://web.archive.org/web/20181117160304/http...</td>\n",
              "      <td>20181117</td>\n",
              "      <td>So präzisiert Nahles ihre Idee für Hartz IV-Al...</td>\n",
              "      <td>{                    \\vars\\\": {               ...</td>\n",
              "      <td>OVER-THRESHOLD</td>\n",
              "      <td>migration</td>\n",
              "      <td>884</td>\n",
              "      <td>0.549179</td>\n",
              "      <td>[präzisiert, nahles, idee, hartz]</td>\n",
              "    </tr>\n",
              "    <tr>\n",
              "      <th>3</th>\n",
              "      <td>http://de.sputniknews.compolitik/2018110932290...</td>\n",
              "      <td>http://web.archive.org/web/20181123020955/http...</td>\n",
              "      <td>20181109</td>\n",
              "      <td>Trump beschränkt drastisch Asylgewährung für i...</td>\n",
              "      <td>{                    \\vars\\\": {               ...</td>\n",
              "      <td>OVER-THRESHOLD</td>\n",
              "      <td>einwanderer migranten asyl</td>\n",
              "      <td>998</td>\n",
              "      <td>0.548637</td>\n",
              "      <td>[trump, beschränkt, drastisch, asylgewährung, ...</td>\n",
              "    </tr>\n",
              "    <tr>\n",
              "      <th>4</th>\n",
              "      <td>http://de.sputniknews.compolitik/2016030630828...</td>\n",
              "      <td>http://web.archive.org/web/20181126055753/http...</td>\n",
              "      <td>20160306</td>\n",
              "      <td>Österreich drängt auf deutsches Flüchtlingskon...</td>\n",
              "      <td>{                    \\vars\\\": {               ...</td>\n",
              "      <td>OVER-THRESHOLD</td>\n",
              "      <td>asyl flüchtlinge migranten asylanträge flüchtl...</td>\n",
              "      <td>699</td>\n",
              "      <td>0.547927</td>\n",
              "      <td>[österreich, drängt, deutsches, flüchtlingskon...</td>\n",
              "    </tr>\n",
              "    <tr>\n",
              "      <th>5</th>\n",
              "      <td>http://de.sputniknews.compolitik/2015101630498...</td>\n",
              "      <td>http://web.archive.org/web/20181123212339/http...</td>\n",
              "      <td>20151016</td>\n",
              "      <td>Migrationskrise: Warschau wehrt sich gegen Mer...</td>\n",
              "      <td>{                    \\vars\\\": {               ...</td>\n",
              "      <td>OVER-THRESHOLD</td>\n",
              "      <td>flüchtlingen migrationskrise migranten flüchtl...</td>\n",
              "      <td>805</td>\n",
              "      <td>0.544957</td>\n",
              "      <td>[warschau, wehrt, merkels, flüchtlingsquote]</td>\n",
              "    </tr>\n",
              "    <tr>\n",
              "      <th>6</th>\n",
              "      <td>http://de.sputniknews.comkarikatur/20151020305...</td>\n",
              "      <td>http://web.archive.org/web/20181201153825/http...</td>\n",
              "      <td>20151020</td>\n",
              "      <td>Flüchtlingskrise: Ist Abriegeln eine Lösung?</td>\n",
              "      <td>{                    \\vars\\\": {               ...</td>\n",
              "      <td>OVER-THRESHOLD</td>\n",
              "      <td>migrationsproblem asylpolitik flüchtlinge</td>\n",
              "      <td>522</td>\n",
              "      <td>0.544158</td>\n",
              "      <td>[abriegeln]</td>\n",
              "    </tr>\n",
              "    <tr>\n",
              "      <th>7</th>\n",
              "      <td>http://de.sputniknews.com/german.ruvr.ru/news/...</td>\n",
              "      <td>http://web.archive.org/web/20150726055154/http...</td>\n",
              "      <td>20140106</td>\n",
              "      <td>Großbritannien will EU-Freizügigkeit verhindern</td>\n",
              "      <td>Foto: EPA STIMME RUSSLANDS Die Regierung Großb...</td>\n",
              "      <td>OVER-THRESHOLD</td>\n",
              "      <td>migranten</td>\n",
              "      <td>83</td>\n",
              "      <td>0.544010</td>\n",
              "      <td>[großbritannien, verhindern]</td>\n",
              "    </tr>\n",
              "    <tr>\n",
              "      <th>8</th>\n",
              "      <td>http://de.sputniknews.compolitik/2018081332193...</td>\n",
              "      <td>http://web.archive.org/web/20180813172522/http...</td>\n",
              "      <td>20180813</td>\n",
              "      <td>Rückkehr von Flüchtlingen: Syrischer Minister ...</td>\n",
              "      <td>Der syrische Minister für lokale Verwaltung un...</td>\n",
              "      <td>OVER-THRESHOLD</td>\n",
              "      <td>flüchtlingen flüchtlinge</td>\n",
              "      <td>163</td>\n",
              "      <td>0.543707</td>\n",
              "      <td>[rückkehr, syrischer, minister, appelliert, de...</td>\n",
              "    </tr>\n",
              "    <tr>\n",
              "      <th>9</th>\n",
              "      <td>http://de.sputniknews.compolitik/2017021931460...</td>\n",
              "      <td>http://web.archive.org/web/20170324060955/http...</td>\n",
              "      <td>20170219</td>\n",
              "      <td>USA verschärfen Asyl-Recht</td>\n",
              "      <td>Nach dem US-Gesetz „Immigration and Nationalit...</td>\n",
              "      <td>OVER-THRESHOLD</td>\n",
              "      <td>migration asylbewerber</td>\n",
              "      <td>79</td>\n",
              "      <td>0.543063</td>\n",
              "      <td>[usa, verschärfen]</td>\n",
              "    </tr>\n",
              "    <tr>\n",
              "      <th>10</th>\n",
              "      <td>http://de.sputniknews.companorama/201512283068...</td>\n",
              "      <td>http://web.archive.org/web/20181123231931/http...</td>\n",
              "      <td>20151228</td>\n",
              "      <td>Dänemark will die Flüchtlingskonvention ändern</td>\n",
              "      <td>{                    \\vars\\\": {               ...</td>\n",
              "      <td>OVER-THRESHOLD</td>\n",
              "      <td>flüchtlingskrise asyl flüchtlinge</td>\n",
              "      <td>981</td>\n",
              "      <td>0.541940</td>\n",
              "      <td>[dänemark, flüchtlingskonvention, ändern]</td>\n",
              "    </tr>\n",
              "    <tr>\n",
              "      <th>11</th>\n",
              "      <td>http://de.sputniknews.compolitik/2016061431060...</td>\n",
              "      <td>http://web.archive.org/web/20171008021814/http...</td>\n",
              "      <td>20160614</td>\n",
              "      <td>Glaube darf nicht über Gesetz stehen: Bundesju...</td>\n",
              "      <td>Bundesjustizminister Heiko Maas will Mehrfach-...</td>\n",
              "      <td>OVER-THRESHOLD</td>\n",
              "      <td>migranten</td>\n",
              "      <td>135</td>\n",
              "      <td>0.539771</td>\n",
              "      <td>[glaube, darf, gesetz, bundesjustizminister, p...</td>\n",
              "    </tr>\n",
              "    <tr>\n",
              "      <th>12</th>\n",
              "      <td>http://de.sputniknews.comgesellschaft/20181210...</td>\n",
              "      <td>http://web.archive.org/web/20181210233556/http...</td>\n",
              "      <td>20181210</td>\n",
              "      <td>Gibt es ein Menschenrecht auf Migration?</td>\n",
              "      <td>{                    \\vars\\\": {               ...</td>\n",
              "      <td>OVER-THRESHOLD</td>\n",
              "      <td>flüchtlingen asyl einwanderung flucht flüchtli...</td>\n",
              "      <td>1461</td>\n",
              "      <td>0.537198</td>\n",
              "      <td>[gibt, menschenrecht]</td>\n",
              "    </tr>\n",
              "    <tr>\n",
              "      <th>13</th>\n",
              "      <td>http://de.sputniknews.compolitik/2015110230534...</td>\n",
              "      <td>http://web.archive.org/web/20181201040148/http...</td>\n",
              "      <td>20151102</td>\n",
              "      <td>Kabul nimmt abgelehnte Asylbewerber aus Deutsc...</td>\n",
              "      <td>{                    \\vars\\\": {               ...</td>\n",
              "      <td>OVER-THRESHOLD</td>\n",
              "      <td>migrationsproblem asylbewerber flüchtlinge</td>\n",
              "      <td>801</td>\n",
              "      <td>0.536986</td>\n",
              "      <td>[kabul, nimmt, abgelehnte, asylbewerber, deuts...</td>\n",
              "    </tr>\n",
              "    <tr>\n",
              "      <th>14</th>\n",
              "      <td>http://de.sputniknews.companorama/201703073148...</td>\n",
              "      <td>http://web.archive.org/web/20170307115432/http...</td>\n",
              "      <td>20170307</td>\n",
              "      <td>EuGH-Urteil: Keine \\humanitären Visa\\\" in EU-A...</td>\n",
              "      <td>Die Behörde argumentierte, dass sich die Famil...</td>\n",
              "      <td>OVER-THRESHOLD</td>\n",
              "      <td>asylanträge asyl</td>\n",
              "      <td>116</td>\n",
              "      <td>0.536182</td>\n",
              "      <td>[]</td>\n",
              "    </tr>\n",
              "    <tr>\n",
              "      <th>15</th>\n",
              "      <td>http://de.sputniknews.compolitik/2017020731442...</td>\n",
              "      <td>http://web.archive.org/web/20170209143833/http...</td>\n",
              "      <td>20170207</td>\n",
              "      <td>Kalifornien und Trump erklären einander den Kr...</td>\n",
              "      <td>„Das ist lächerlich“, so Trump über Kalifornie...</td>\n",
              "      <td>OVER-THRESHOLD</td>\n",
              "      <td>migranten</td>\n",
              "      <td>174</td>\n",
              "      <td>0.536121</td>\n",
              "      <td>[kalifornien, trump, erklären, einander, krieg...</td>\n",
              "    </tr>\n",
              "    <tr>\n",
              "      <th>16</th>\n",
              "      <td>http://de.sputniknews.comgesellschaft/20180619...</td>\n",
              "      <td>http://web.archive.org/web/20181225062127/http...</td>\n",
              "      <td>20180619</td>\n",
              "      <td>Kinder von Eltern zu trennen ist skrupellos – ...</td>\n",
              "      <td>{                    \\vars\\\": {               ...</td>\n",
              "      <td>OVER-THRESHOLD</td>\n",
              "      <td>einwanderer migranten</td>\n",
              "      <td>980</td>\n",
              "      <td>0.533417</td>\n",
              "      <td>[kinder, eltern, trennen, skrupellos, rügt, us...</td>\n",
              "    </tr>\n",
              "    <tr>\n",
              "      <th>17</th>\n",
              "      <td>http://de.sputniknews.compolitik/2018091432231...</td>\n",
              "      <td>http://web.archive.org/web/20180914185523/http...</td>\n",
              "      <td>20180914</td>\n",
              "      <td>EU will Ungarn „Recht auf Kontrolle eigener Gr...</td>\n",
              "      <td>Das EU-Rechtsstaatsverfahren gegen Ungarn stel...</td>\n",
              "      <td>OVER-THRESHOLD</td>\n",
              "      <td>flüchtlingen flüchtlingspolitik flüchtlinge</td>\n",
              "      <td>179</td>\n",
              "      <td>0.532563</td>\n",
              "      <td>[eu, ungarn, kontrolle, eigener, grenzen, orban]</td>\n",
              "    </tr>\n",
              "    <tr>\n",
              "      <th>18</th>\n",
              "      <td>http://de.sputniknews.com/german.ruvr.ru/2013_...</td>\n",
              "      <td>http://web.archive.org/web/20150722052852/http...</td>\n",
              "      <td>20131106</td>\n",
              "      <td>Festung Europa - von Migranten und Flüchtlingen</td>\n",
              "      <td>Foto: Aziz Bozkurt STIMME RUSSLANDS Flüchtling...</td>\n",
              "      <td>OVER-THRESHOLD</td>\n",
              "      <td>migration asylbewerber flüchtlinge</td>\n",
              "      <td>61</td>\n",
              "      <td>0.532313</td>\n",
              "      <td>[festung, europa, migranten, flüchtlingen]</td>\n",
              "    </tr>\n",
              "    <tr>\n",
              "      <th>19</th>\n",
              "      <td>http://de.sputniknews.companorama/201707153166...</td>\n",
              "      <td>http://web.archive.org/web/20170715150527/http...</td>\n",
              "      <td>20170715</td>\n",
              "      <td>Selbstanzeigen unter Flüchtlingen „wegen Terro...</td>\n",
              "      <td>Mehr als 408.000 Asylanträge hat das Bundesamt...</td>\n",
              "      <td>OVER-THRESHOLD</td>\n",
              "      <td>asylanträge migration asylbewerber flüchtlinge</td>\n",
              "      <td>128</td>\n",
              "      <td>0.531923</td>\n",
              "      <td>[selbstanzeigen, flüchtlingen, wuchern, bizarr...</td>\n",
              "    </tr>\n",
              "  </tbody>\n",
              "</table>\n",
              "</div>\n",
              "      <button class=\"colab-df-convert\" onclick=\"convertToInteractive('df-0e12132d-b60d-48e7-83f5-d6c19f5e9e65')\"\n",
              "              title=\"Convert this dataframe to an interactive table.\"\n",
              "              style=\"display:none;\">\n",
              "        \n",
              "  <svg xmlns=\"http://www.w3.org/2000/svg\" height=\"24px\"viewBox=\"0 0 24 24\"\n",
              "       width=\"24px\">\n",
              "    <path d=\"M0 0h24v24H0V0z\" fill=\"none\"/>\n",
              "    <path d=\"M18.56 5.44l.94 2.06.94-2.06 2.06-.94-2.06-.94-.94-2.06-.94 2.06-2.06.94zm-11 1L8.5 8.5l.94-2.06 2.06-.94-2.06-.94L8.5 2.5l-.94 2.06-2.06.94zm10 10l.94 2.06.94-2.06 2.06-.94-2.06-.94-.94-2.06-.94 2.06-2.06.94z\"/><path d=\"M17.41 7.96l-1.37-1.37c-.4-.4-.92-.59-1.43-.59-.52 0-1.04.2-1.43.59L10.3 9.45l-7.72 7.72c-.78.78-.78 2.05 0 2.83L4 21.41c.39.39.9.59 1.41.59.51 0 1.02-.2 1.41-.59l7.78-7.78 2.81-2.81c.8-.78.8-2.07 0-2.86zM5.41 20L4 18.59l7.72-7.72 1.47 1.35L5.41 20z\"/>\n",
              "  </svg>\n",
              "      </button>\n",
              "      \n",
              "  <style>\n",
              "    .colab-df-container {\n",
              "      display:flex;\n",
              "      flex-wrap:wrap;\n",
              "      gap: 12px;\n",
              "    }\n",
              "\n",
              "    .colab-df-convert {\n",
              "      background-color: #E8F0FE;\n",
              "      border: none;\n",
              "      border-radius: 50%;\n",
              "      cursor: pointer;\n",
              "      display: none;\n",
              "      fill: #1967D2;\n",
              "      height: 32px;\n",
              "      padding: 0 0 0 0;\n",
              "      width: 32px;\n",
              "    }\n",
              "\n",
              "    .colab-df-convert:hover {\n",
              "      background-color: #E2EBFA;\n",
              "      box-shadow: 0px 1px 2px rgba(60, 64, 67, 0.3), 0px 1px 3px 1px rgba(60, 64, 67, 0.15);\n",
              "      fill: #174EA6;\n",
              "    }\n",
              "\n",
              "    [theme=dark] .colab-df-convert {\n",
              "      background-color: #3B4455;\n",
              "      fill: #D2E3FC;\n",
              "    }\n",
              "\n",
              "    [theme=dark] .colab-df-convert:hover {\n",
              "      background-color: #434B5C;\n",
              "      box-shadow: 0px 1px 3px 1px rgba(0, 0, 0, 0.15);\n",
              "      filter: drop-shadow(0px 1px 2px rgba(0, 0, 0, 0.3));\n",
              "      fill: #FFFFFF;\n",
              "    }\n",
              "  </style>\n",
              "\n",
              "      <script>\n",
              "        const buttonEl =\n",
              "          document.querySelector('#df-0e12132d-b60d-48e7-83f5-d6c19f5e9e65 button.colab-df-convert');\n",
              "        buttonEl.style.display =\n",
              "          google.colab.kernel.accessAllowed ? 'block' : 'none';\n",
              "\n",
              "        async function convertToInteractive(key) {\n",
              "          const element = document.querySelector('#df-0e12132d-b60d-48e7-83f5-d6c19f5e9e65');\n",
              "          const dataTable =\n",
              "            await google.colab.kernel.invokeFunction('convertToInteractive',\n",
              "                                                     [key], {});\n",
              "          if (!dataTable) return;\n",
              "\n",
              "          const docLinkHtml = 'Like what you see? Visit the ' +\n",
              "            '<a target=\"_blank\" href=https://colab.research.google.com/notebooks/data_table.ipynb>data table notebook</a>'\n",
              "            + ' to learn more about interactive tables.';\n",
              "          element.innerHTML = '';\n",
              "          dataTable['output_type'] = 'display_data';\n",
              "          await google.colab.output.renderOutput(dataTable, element);\n",
              "          const docLink = document.createElement('div');\n",
              "          docLink.innerHTML = docLinkHtml;\n",
              "          element.appendChild(docLink);\n",
              "        }\n",
              "      </script>\n",
              "    </div>\n",
              "  </div>\n",
              "  "
            ]
          },
          "metadata": {},
          "execution_count": 119
        }
      ]
    },
    {
      "cell_type": "code",
      "source": [
        "dataframe['text'] =dataframe['cleanedtitle'].apply(lambda x: ' '.join(x))\n"
      ],
      "metadata": {
        "id": "UaPPeZ_BPijl"
      },
      "execution_count": null,
      "outputs": []
    },
    {
      "cell_type": "code",
      "source": [
        "dataframe"
      ],
      "metadata": {
        "colab": {
          "base_uri": "https://localhost:8080/",
          "height": 1522
        },
        "id": "3xOE1JTRPkHL",
        "outputId": "1310d9a6-2f2a-4d3a-e35b-a63f5c7d9d4b"
      },
      "execution_count": null,
      "outputs": [
        {
          "output_type": "execute_result",
          "data": {
            "text/plain": [
              "                                                    0  \\\n",
              "0   http://de.sputniknews.compolitik/2016010730696...   \n",
              "1   http://de.sputniknews.com/panorama/20150210/30...   \n",
              "2   http://de.sputniknews.compolitik/2018111732299...   \n",
              "3   http://de.sputniknews.compolitik/2018110932290...   \n",
              "4   http://de.sputniknews.compolitik/2016030630828...   \n",
              "5   http://de.sputniknews.compolitik/2015101630498...   \n",
              "6   http://de.sputniknews.comkarikatur/20151020305...   \n",
              "7   http://de.sputniknews.com/german.ruvr.ru/news/...   \n",
              "8   http://de.sputniknews.compolitik/2018081332193...   \n",
              "9   http://de.sputniknews.compolitik/2017021931460...   \n",
              "10  http://de.sputniknews.companorama/201512283068...   \n",
              "11  http://de.sputniknews.compolitik/2016061431060...   \n",
              "12  http://de.sputniknews.comgesellschaft/20181210...   \n",
              "13  http://de.sputniknews.compolitik/2015110230534...   \n",
              "14  http://de.sputniknews.companorama/201703073148...   \n",
              "15  http://de.sputniknews.compolitik/2017020731442...   \n",
              "16  http://de.sputniknews.comgesellschaft/20180619...   \n",
              "17  http://de.sputniknews.compolitik/2018091432231...   \n",
              "18  http://de.sputniknews.com/german.ruvr.ru/2013_...   \n",
              "19  http://de.sputniknews.companorama/201707153166...   \n",
              "\n",
              "                                                    1         2  \\\n",
              "0   http://web.archive.org/web/20170227192503/http...  20160107   \n",
              "1   http://web.archive.org/web/20150315163311/http...  20150210   \n",
              "2   http://web.archive.org/web/20181117160304/http...  20181117   \n",
              "3   http://web.archive.org/web/20181123020955/http...  20181109   \n",
              "4   http://web.archive.org/web/20181126055753/http...  20160306   \n",
              "5   http://web.archive.org/web/20181123212339/http...  20151016   \n",
              "6   http://web.archive.org/web/20181201153825/http...  20151020   \n",
              "7   http://web.archive.org/web/20150726055154/http...  20140106   \n",
              "8   http://web.archive.org/web/20180813172522/http...  20180813   \n",
              "9   http://web.archive.org/web/20170324060955/http...  20170219   \n",
              "10  http://web.archive.org/web/20181123231931/http...  20151228   \n",
              "11  http://web.archive.org/web/20171008021814/http...  20160614   \n",
              "12  http://web.archive.org/web/20181210233556/http...  20181210   \n",
              "13  http://web.archive.org/web/20181201040148/http...  20151102   \n",
              "14  http://web.archive.org/web/20170307115432/http...  20170307   \n",
              "15  http://web.archive.org/web/20170209143833/http...  20170207   \n",
              "16  http://web.archive.org/web/20181225062127/http...  20180619   \n",
              "17  http://web.archive.org/web/20180914185523/http...  20180914   \n",
              "18  http://web.archive.org/web/20150722052852/http...  20131106   \n",
              "19  http://web.archive.org/web/20170715150527/http...  20170715   \n",
              "\n",
              "                                                    3  \\\n",
              "0   FDP-Chef Lindner: Merkels Flüchtlingspolitik f...   \n",
              "1   Experte: Rund 1,3 Millionen wehrpflichtige Ukr...   \n",
              "2   So präzisiert Nahles ihre Idee für Hartz IV-Al...   \n",
              "3   Trump beschränkt drastisch Asylgewährung für i...   \n",
              "4   Österreich drängt auf deutsches Flüchtlingskon...   \n",
              "5   Migrationskrise: Warschau wehrt sich gegen Mer...   \n",
              "6        Flüchtlingskrise: Ist Abriegeln eine Lösung?   \n",
              "7     Großbritannien will EU-Freizügigkeit verhindern   \n",
              "8   Rückkehr von Flüchtlingen: Syrischer Minister ...   \n",
              "9                          USA verschärfen Asyl-Recht   \n",
              "10     Dänemark will die Flüchtlingskonvention ändern   \n",
              "11  Glaube darf nicht über Gesetz stehen: Bundesju...   \n",
              "12           Gibt es ein Menschenrecht auf Migration?   \n",
              "13  Kabul nimmt abgelehnte Asylbewerber aus Deutsc...   \n",
              "14  EuGH-Urteil: Keine \\humanitären Visa\\\" in EU-A...   \n",
              "15  Kalifornien und Trump erklären einander den Kr...   \n",
              "16  Kinder von Eltern zu trennen ist skrupellos – ...   \n",
              "17  EU will Ungarn „Recht auf Kontrolle eigener Gr...   \n",
              "18    Festung Europa - von Migranten und Flüchtlingen   \n",
              "19  Selbstanzeigen unter Flüchtlingen „wegen Terro...   \n",
              "\n",
              "                                                    4               5  \\\n",
              "0   Der Satz „Wir schaffen das“ der Bundeskanzleri...  OVER-THRESHOLD   \n",
              "1   In letzter Zeit sei knapp einer halben Million...  OVER-THRESHOLD   \n",
              "2   {                    \\vars\\\": {               ...  OVER-THRESHOLD   \n",
              "3   {                    \\vars\\\": {               ...  OVER-THRESHOLD   \n",
              "4   {                    \\vars\\\": {               ...  OVER-THRESHOLD   \n",
              "5   {                    \\vars\\\": {               ...  OVER-THRESHOLD   \n",
              "6   {                    \\vars\\\": {               ...  OVER-THRESHOLD   \n",
              "7   Foto: EPA STIMME RUSSLANDS Die Regierung Großb...  OVER-THRESHOLD   \n",
              "8   Der syrische Minister für lokale Verwaltung un...  OVER-THRESHOLD   \n",
              "9   Nach dem US-Gesetz „Immigration and Nationalit...  OVER-THRESHOLD   \n",
              "10  {                    \\vars\\\": {               ...  OVER-THRESHOLD   \n",
              "11  Bundesjustizminister Heiko Maas will Mehrfach-...  OVER-THRESHOLD   \n",
              "12  {                    \\vars\\\": {               ...  OVER-THRESHOLD   \n",
              "13  {                    \\vars\\\": {               ...  OVER-THRESHOLD   \n",
              "14  Die Behörde argumentierte, dass sich die Famil...  OVER-THRESHOLD   \n",
              "15  „Das ist lächerlich“, so Trump über Kalifornie...  OVER-THRESHOLD   \n",
              "16  {                    \\vars\\\": {               ...  OVER-THRESHOLD   \n",
              "17  Das EU-Rechtsstaatsverfahren gegen Ungarn stel...  OVER-THRESHOLD   \n",
              "18  Foto: Aziz Bozkurt STIMME RUSSLANDS Flüchtling...  OVER-THRESHOLD   \n",
              "19  Mehr als 408.000 Asylanträge hat das Bundesamt...  OVER-THRESHOLD   \n",
              "\n",
              "                                                    6     7         8  \\\n",
              "0                  flüchtlingen migranten flüchtlinge    70  0.572646   \n",
              "1                  flüchtlingsstatus asyl flüchtlinge    43  0.549350   \n",
              "2                                           migration   884  0.549179   \n",
              "3                          einwanderer migranten asyl   998  0.548637   \n",
              "4   asyl flüchtlinge migranten asylanträge flüchtl...   699  0.547927   \n",
              "5   flüchtlingen migrationskrise migranten flüchtl...   805  0.544957   \n",
              "6           migrationsproblem asylpolitik flüchtlinge   522  0.544158   \n",
              "7                                           migranten    83  0.544010   \n",
              "8                            flüchtlingen flüchtlinge   163  0.543707   \n",
              "9                              migration asylbewerber    79  0.543063   \n",
              "10                  flüchtlingskrise asyl flüchtlinge   981  0.541940   \n",
              "11                                          migranten   135  0.539771   \n",
              "12  flüchtlingen asyl einwanderung flucht flüchtli...  1461  0.537198   \n",
              "13         migrationsproblem asylbewerber flüchtlinge   801  0.536986   \n",
              "14                                   asylanträge asyl   116  0.536182   \n",
              "15                                          migranten   174  0.536121   \n",
              "16                              einwanderer migranten   980  0.533417   \n",
              "17        flüchtlingen flüchtlingspolitik flüchtlinge   179  0.532563   \n",
              "18                 migration asylbewerber flüchtlinge    61  0.532313   \n",
              "19     asylanträge migration asylbewerber flüchtlinge   128  0.531923   \n",
              "\n",
              "                                         cleanedtitle  \\\n",
              "0   [merkels, flüchtlingspolitik, führt, europa, c...   \n",
              "1   [rund, millionen, wehrpflichtige, ukrainer, ru...   \n",
              "2                   [präzisiert, nahles, idee, hartz]   \n",
              "3   [trump, beschränkt, drastisch, asylgewährung, ...   \n",
              "4   [österreich, drängt, deutsches, flüchtlingskon...   \n",
              "5        [warschau, wehrt, merkels, flüchtlingsquote]   \n",
              "6                                         [abriegeln]   \n",
              "7                        [großbritannien, verhindern]   \n",
              "8   [rückkehr, syrischer, minister, appelliert, de...   \n",
              "9                                  [usa, verschärfen]   \n",
              "10          [dänemark, flüchtlingskonvention, ändern]   \n",
              "11  [glaube, darf, gesetz, bundesjustizminister, p...   \n",
              "12                              [gibt, menschenrecht]   \n",
              "13  [kabul, nimmt, abgelehnte, asylbewerber, deuts...   \n",
              "14                                                 []   \n",
              "15  [kalifornien, trump, erklären, einander, krieg...   \n",
              "16  [kinder, eltern, trennen, skrupellos, rügt, us...   \n",
              "17   [eu, ungarn, kontrolle, eigener, grenzen, orban]   \n",
              "18         [festung, europa, migranten, flüchtlingen]   \n",
              "19  [selbstanzeigen, flüchtlingen, wuchern, bizarr...   \n",
              "\n",
              "                                                 text  \n",
              "0       merkels flüchtlingspolitik führt europa chaos  \n",
              "1   rund millionen wehrpflichtige ukrainer russlan...  \n",
              "2                        präzisiert nahles idee hartz  \n",
              "3   trump beschränkt drastisch asylgewährung illeg...  \n",
              "4   österreich drängt deutsches flüchtlingskontingent  \n",
              "5             warschau wehrt merkels flüchtlingsquote  \n",
              "6                                           abriegeln  \n",
              "7                           großbritannien verhindern  \n",
              "8   rückkehr syrischer minister appelliert deutsch...  \n",
              "9                                     usa verschärfen  \n",
              "10              dänemark flüchtlingskonvention ändern  \n",
              "11  glaube darf gesetz bundesjustizminister polyga...  \n",
              "12                                 gibt menschenrecht  \n",
              "13    kabul nimmt abgelehnte asylbewerber deutschland  \n",
              "14                                                     \n",
              "15       kalifornien trump erklären einander krieg wp  \n",
              "16    kinder eltern trennen skrupellos rügt usa video  \n",
              "17          eu ungarn kontrolle eigener grenzen orban  \n",
              "18              festung europa migranten flüchtlingen  \n",
              "19  selbstanzeigen flüchtlingen wuchern bizarrem g...  "
            ],
            "text/html": [
              "\n",
              "  <div id=\"df-e33d9d7c-2279-4949-a363-6681e9e455d2\">\n",
              "    <div class=\"colab-df-container\">\n",
              "      <div>\n",
              "<style scoped>\n",
              "    .dataframe tbody tr th:only-of-type {\n",
              "        vertical-align: middle;\n",
              "    }\n",
              "\n",
              "    .dataframe tbody tr th {\n",
              "        vertical-align: top;\n",
              "    }\n",
              "\n",
              "    .dataframe thead th {\n",
              "        text-align: right;\n",
              "    }\n",
              "</style>\n",
              "<table border=\"1\" class=\"dataframe\">\n",
              "  <thead>\n",
              "    <tr style=\"text-align: right;\">\n",
              "      <th></th>\n",
              "      <th>0</th>\n",
              "      <th>1</th>\n",
              "      <th>2</th>\n",
              "      <th>3</th>\n",
              "      <th>4</th>\n",
              "      <th>5</th>\n",
              "      <th>6</th>\n",
              "      <th>7</th>\n",
              "      <th>8</th>\n",
              "      <th>cleanedtitle</th>\n",
              "      <th>text</th>\n",
              "    </tr>\n",
              "  </thead>\n",
              "  <tbody>\n",
              "    <tr>\n",
              "      <th>0</th>\n",
              "      <td>http://de.sputniknews.compolitik/2016010730696...</td>\n",
              "      <td>http://web.archive.org/web/20170227192503/http...</td>\n",
              "      <td>20160107</td>\n",
              "      <td>FDP-Chef Lindner: Merkels Flüchtlingspolitik f...</td>\n",
              "      <td>Der Satz „Wir schaffen das“ der Bundeskanzleri...</td>\n",
              "      <td>OVER-THRESHOLD</td>\n",
              "      <td>flüchtlingen migranten flüchtlinge</td>\n",
              "      <td>70</td>\n",
              "      <td>0.572646</td>\n",
              "      <td>[merkels, flüchtlingspolitik, führt, europa, c...</td>\n",
              "      <td>merkels flüchtlingspolitik führt europa chaos</td>\n",
              "    </tr>\n",
              "    <tr>\n",
              "      <th>1</th>\n",
              "      <td>http://de.sputniknews.com/panorama/20150210/30...</td>\n",
              "      <td>http://web.archive.org/web/20150315163311/http...</td>\n",
              "      <td>20150210</td>\n",
              "      <td>Experte: Rund 1,3 Millionen wehrpflichtige Ukr...</td>\n",
              "      <td>In letzter Zeit sei knapp einer halben Million...</td>\n",
              "      <td>OVER-THRESHOLD</td>\n",
              "      <td>flüchtlingsstatus asyl flüchtlinge</td>\n",
              "      <td>43</td>\n",
              "      <td>0.549350</td>\n",
              "      <td>[rund, millionen, wehrpflichtige, ukrainer, ru...</td>\n",
              "      <td>rund millionen wehrpflichtige ukrainer russlan...</td>\n",
              "    </tr>\n",
              "    <tr>\n",
              "      <th>2</th>\n",
              "      <td>http://de.sputniknews.compolitik/2018111732299...</td>\n",
              "      <td>http://web.archive.org/web/20181117160304/http...</td>\n",
              "      <td>20181117</td>\n",
              "      <td>So präzisiert Nahles ihre Idee für Hartz IV-Al...</td>\n",
              "      <td>{                    \\vars\\\": {               ...</td>\n",
              "      <td>OVER-THRESHOLD</td>\n",
              "      <td>migration</td>\n",
              "      <td>884</td>\n",
              "      <td>0.549179</td>\n",
              "      <td>[präzisiert, nahles, idee, hartz]</td>\n",
              "      <td>präzisiert nahles idee hartz</td>\n",
              "    </tr>\n",
              "    <tr>\n",
              "      <th>3</th>\n",
              "      <td>http://de.sputniknews.compolitik/2018110932290...</td>\n",
              "      <td>http://web.archive.org/web/20181123020955/http...</td>\n",
              "      <td>20181109</td>\n",
              "      <td>Trump beschränkt drastisch Asylgewährung für i...</td>\n",
              "      <td>{                    \\vars\\\": {               ...</td>\n",
              "      <td>OVER-THRESHOLD</td>\n",
              "      <td>einwanderer migranten asyl</td>\n",
              "      <td>998</td>\n",
              "      <td>0.548637</td>\n",
              "      <td>[trump, beschränkt, drastisch, asylgewährung, ...</td>\n",
              "      <td>trump beschränkt drastisch asylgewährung illeg...</td>\n",
              "    </tr>\n",
              "    <tr>\n",
              "      <th>4</th>\n",
              "      <td>http://de.sputniknews.compolitik/2016030630828...</td>\n",
              "      <td>http://web.archive.org/web/20181126055753/http...</td>\n",
              "      <td>20160306</td>\n",
              "      <td>Österreich drängt auf deutsches Flüchtlingskon...</td>\n",
              "      <td>{                    \\vars\\\": {               ...</td>\n",
              "      <td>OVER-THRESHOLD</td>\n",
              "      <td>asyl flüchtlinge migranten asylanträge flüchtl...</td>\n",
              "      <td>699</td>\n",
              "      <td>0.547927</td>\n",
              "      <td>[österreich, drängt, deutsches, flüchtlingskon...</td>\n",
              "      <td>österreich drängt deutsches flüchtlingskontingent</td>\n",
              "    </tr>\n",
              "    <tr>\n",
              "      <th>5</th>\n",
              "      <td>http://de.sputniknews.compolitik/2015101630498...</td>\n",
              "      <td>http://web.archive.org/web/20181123212339/http...</td>\n",
              "      <td>20151016</td>\n",
              "      <td>Migrationskrise: Warschau wehrt sich gegen Mer...</td>\n",
              "      <td>{                    \\vars\\\": {               ...</td>\n",
              "      <td>OVER-THRESHOLD</td>\n",
              "      <td>flüchtlingen migrationskrise migranten flüchtl...</td>\n",
              "      <td>805</td>\n",
              "      <td>0.544957</td>\n",
              "      <td>[warschau, wehrt, merkels, flüchtlingsquote]</td>\n",
              "      <td>warschau wehrt merkels flüchtlingsquote</td>\n",
              "    </tr>\n",
              "    <tr>\n",
              "      <th>6</th>\n",
              "      <td>http://de.sputniknews.comkarikatur/20151020305...</td>\n",
              "      <td>http://web.archive.org/web/20181201153825/http...</td>\n",
              "      <td>20151020</td>\n",
              "      <td>Flüchtlingskrise: Ist Abriegeln eine Lösung?</td>\n",
              "      <td>{                    \\vars\\\": {               ...</td>\n",
              "      <td>OVER-THRESHOLD</td>\n",
              "      <td>migrationsproblem asylpolitik flüchtlinge</td>\n",
              "      <td>522</td>\n",
              "      <td>0.544158</td>\n",
              "      <td>[abriegeln]</td>\n",
              "      <td>abriegeln</td>\n",
              "    </tr>\n",
              "    <tr>\n",
              "      <th>7</th>\n",
              "      <td>http://de.sputniknews.com/german.ruvr.ru/news/...</td>\n",
              "      <td>http://web.archive.org/web/20150726055154/http...</td>\n",
              "      <td>20140106</td>\n",
              "      <td>Großbritannien will EU-Freizügigkeit verhindern</td>\n",
              "      <td>Foto: EPA STIMME RUSSLANDS Die Regierung Großb...</td>\n",
              "      <td>OVER-THRESHOLD</td>\n",
              "      <td>migranten</td>\n",
              "      <td>83</td>\n",
              "      <td>0.544010</td>\n",
              "      <td>[großbritannien, verhindern]</td>\n",
              "      <td>großbritannien verhindern</td>\n",
              "    </tr>\n",
              "    <tr>\n",
              "      <th>8</th>\n",
              "      <td>http://de.sputniknews.compolitik/2018081332193...</td>\n",
              "      <td>http://web.archive.org/web/20180813172522/http...</td>\n",
              "      <td>20180813</td>\n",
              "      <td>Rückkehr von Flüchtlingen: Syrischer Minister ...</td>\n",
              "      <td>Der syrische Minister für lokale Verwaltung un...</td>\n",
              "      <td>OVER-THRESHOLD</td>\n",
              "      <td>flüchtlingen flüchtlinge</td>\n",
              "      <td>163</td>\n",
              "      <td>0.543707</td>\n",
              "      <td>[rückkehr, syrischer, minister, appelliert, de...</td>\n",
              "      <td>rückkehr syrischer minister appelliert deutsch...</td>\n",
              "    </tr>\n",
              "    <tr>\n",
              "      <th>9</th>\n",
              "      <td>http://de.sputniknews.compolitik/2017021931460...</td>\n",
              "      <td>http://web.archive.org/web/20170324060955/http...</td>\n",
              "      <td>20170219</td>\n",
              "      <td>USA verschärfen Asyl-Recht</td>\n",
              "      <td>Nach dem US-Gesetz „Immigration and Nationalit...</td>\n",
              "      <td>OVER-THRESHOLD</td>\n",
              "      <td>migration asylbewerber</td>\n",
              "      <td>79</td>\n",
              "      <td>0.543063</td>\n",
              "      <td>[usa, verschärfen]</td>\n",
              "      <td>usa verschärfen</td>\n",
              "    </tr>\n",
              "    <tr>\n",
              "      <th>10</th>\n",
              "      <td>http://de.sputniknews.companorama/201512283068...</td>\n",
              "      <td>http://web.archive.org/web/20181123231931/http...</td>\n",
              "      <td>20151228</td>\n",
              "      <td>Dänemark will die Flüchtlingskonvention ändern</td>\n",
              "      <td>{                    \\vars\\\": {               ...</td>\n",
              "      <td>OVER-THRESHOLD</td>\n",
              "      <td>flüchtlingskrise asyl flüchtlinge</td>\n",
              "      <td>981</td>\n",
              "      <td>0.541940</td>\n",
              "      <td>[dänemark, flüchtlingskonvention, ändern]</td>\n",
              "      <td>dänemark flüchtlingskonvention ändern</td>\n",
              "    </tr>\n",
              "    <tr>\n",
              "      <th>11</th>\n",
              "      <td>http://de.sputniknews.compolitik/2016061431060...</td>\n",
              "      <td>http://web.archive.org/web/20171008021814/http...</td>\n",
              "      <td>20160614</td>\n",
              "      <td>Glaube darf nicht über Gesetz stehen: Bundesju...</td>\n",
              "      <td>Bundesjustizminister Heiko Maas will Mehrfach-...</td>\n",
              "      <td>OVER-THRESHOLD</td>\n",
              "      <td>migranten</td>\n",
              "      <td>135</td>\n",
              "      <td>0.539771</td>\n",
              "      <td>[glaube, darf, gesetz, bundesjustizminister, p...</td>\n",
              "      <td>glaube darf gesetz bundesjustizminister polyga...</td>\n",
              "    </tr>\n",
              "    <tr>\n",
              "      <th>12</th>\n",
              "      <td>http://de.sputniknews.comgesellschaft/20181210...</td>\n",
              "      <td>http://web.archive.org/web/20181210233556/http...</td>\n",
              "      <td>20181210</td>\n",
              "      <td>Gibt es ein Menschenrecht auf Migration?</td>\n",
              "      <td>{                    \\vars\\\": {               ...</td>\n",
              "      <td>OVER-THRESHOLD</td>\n",
              "      <td>flüchtlingen asyl einwanderung flucht flüchtli...</td>\n",
              "      <td>1461</td>\n",
              "      <td>0.537198</td>\n",
              "      <td>[gibt, menschenrecht]</td>\n",
              "      <td>gibt menschenrecht</td>\n",
              "    </tr>\n",
              "    <tr>\n",
              "      <th>13</th>\n",
              "      <td>http://de.sputniknews.compolitik/2015110230534...</td>\n",
              "      <td>http://web.archive.org/web/20181201040148/http...</td>\n",
              "      <td>20151102</td>\n",
              "      <td>Kabul nimmt abgelehnte Asylbewerber aus Deutsc...</td>\n",
              "      <td>{                    \\vars\\\": {               ...</td>\n",
              "      <td>OVER-THRESHOLD</td>\n",
              "      <td>migrationsproblem asylbewerber flüchtlinge</td>\n",
              "      <td>801</td>\n",
              "      <td>0.536986</td>\n",
              "      <td>[kabul, nimmt, abgelehnte, asylbewerber, deuts...</td>\n",
              "      <td>kabul nimmt abgelehnte asylbewerber deutschland</td>\n",
              "    </tr>\n",
              "    <tr>\n",
              "      <th>14</th>\n",
              "      <td>http://de.sputniknews.companorama/201703073148...</td>\n",
              "      <td>http://web.archive.org/web/20170307115432/http...</td>\n",
              "      <td>20170307</td>\n",
              "      <td>EuGH-Urteil: Keine \\humanitären Visa\\\" in EU-A...</td>\n",
              "      <td>Die Behörde argumentierte, dass sich die Famil...</td>\n",
              "      <td>OVER-THRESHOLD</td>\n",
              "      <td>asylanträge asyl</td>\n",
              "      <td>116</td>\n",
              "      <td>0.536182</td>\n",
              "      <td>[]</td>\n",
              "      <td></td>\n",
              "    </tr>\n",
              "    <tr>\n",
              "      <th>15</th>\n",
              "      <td>http://de.sputniknews.compolitik/2017020731442...</td>\n",
              "      <td>http://web.archive.org/web/20170209143833/http...</td>\n",
              "      <td>20170207</td>\n",
              "      <td>Kalifornien und Trump erklären einander den Kr...</td>\n",
              "      <td>„Das ist lächerlich“, so Trump über Kalifornie...</td>\n",
              "      <td>OVER-THRESHOLD</td>\n",
              "      <td>migranten</td>\n",
              "      <td>174</td>\n",
              "      <td>0.536121</td>\n",
              "      <td>[kalifornien, trump, erklären, einander, krieg...</td>\n",
              "      <td>kalifornien trump erklären einander krieg wp</td>\n",
              "    </tr>\n",
              "    <tr>\n",
              "      <th>16</th>\n",
              "      <td>http://de.sputniknews.comgesellschaft/20180619...</td>\n",
              "      <td>http://web.archive.org/web/20181225062127/http...</td>\n",
              "      <td>20180619</td>\n",
              "      <td>Kinder von Eltern zu trennen ist skrupellos – ...</td>\n",
              "      <td>{                    \\vars\\\": {               ...</td>\n",
              "      <td>OVER-THRESHOLD</td>\n",
              "      <td>einwanderer migranten</td>\n",
              "      <td>980</td>\n",
              "      <td>0.533417</td>\n",
              "      <td>[kinder, eltern, trennen, skrupellos, rügt, us...</td>\n",
              "      <td>kinder eltern trennen skrupellos rügt usa video</td>\n",
              "    </tr>\n",
              "    <tr>\n",
              "      <th>17</th>\n",
              "      <td>http://de.sputniknews.compolitik/2018091432231...</td>\n",
              "      <td>http://web.archive.org/web/20180914185523/http...</td>\n",
              "      <td>20180914</td>\n",
              "      <td>EU will Ungarn „Recht auf Kontrolle eigener Gr...</td>\n",
              "      <td>Das EU-Rechtsstaatsverfahren gegen Ungarn stel...</td>\n",
              "      <td>OVER-THRESHOLD</td>\n",
              "      <td>flüchtlingen flüchtlingspolitik flüchtlinge</td>\n",
              "      <td>179</td>\n",
              "      <td>0.532563</td>\n",
              "      <td>[eu, ungarn, kontrolle, eigener, grenzen, orban]</td>\n",
              "      <td>eu ungarn kontrolle eigener grenzen orban</td>\n",
              "    </tr>\n",
              "    <tr>\n",
              "      <th>18</th>\n",
              "      <td>http://de.sputniknews.com/german.ruvr.ru/2013_...</td>\n",
              "      <td>http://web.archive.org/web/20150722052852/http...</td>\n",
              "      <td>20131106</td>\n",
              "      <td>Festung Europa - von Migranten und Flüchtlingen</td>\n",
              "      <td>Foto: Aziz Bozkurt STIMME RUSSLANDS Flüchtling...</td>\n",
              "      <td>OVER-THRESHOLD</td>\n",
              "      <td>migration asylbewerber flüchtlinge</td>\n",
              "      <td>61</td>\n",
              "      <td>0.532313</td>\n",
              "      <td>[festung, europa, migranten, flüchtlingen]</td>\n",
              "      <td>festung europa migranten flüchtlingen</td>\n",
              "    </tr>\n",
              "    <tr>\n",
              "      <th>19</th>\n",
              "      <td>http://de.sputniknews.companorama/201707153166...</td>\n",
              "      <td>http://web.archive.org/web/20170715150527/http...</td>\n",
              "      <td>20170715</td>\n",
              "      <td>Selbstanzeigen unter Flüchtlingen „wegen Terro...</td>\n",
              "      <td>Mehr als 408.000 Asylanträge hat das Bundesamt...</td>\n",
              "      <td>OVER-THRESHOLD</td>\n",
              "      <td>asylanträge migration asylbewerber flüchtlinge</td>\n",
              "      <td>128</td>\n",
              "      <td>0.531923</td>\n",
              "      <td>[selbstanzeigen, flüchtlingen, wuchern, bizarr...</td>\n",
              "      <td>selbstanzeigen flüchtlingen wuchern bizarrem g...</td>\n",
              "    </tr>\n",
              "  </tbody>\n",
              "</table>\n",
              "</div>\n",
              "      <button class=\"colab-df-convert\" onclick=\"convertToInteractive('df-e33d9d7c-2279-4949-a363-6681e9e455d2')\"\n",
              "              title=\"Convert this dataframe to an interactive table.\"\n",
              "              style=\"display:none;\">\n",
              "        \n",
              "  <svg xmlns=\"http://www.w3.org/2000/svg\" height=\"24px\"viewBox=\"0 0 24 24\"\n",
              "       width=\"24px\">\n",
              "    <path d=\"M0 0h24v24H0V0z\" fill=\"none\"/>\n",
              "    <path d=\"M18.56 5.44l.94 2.06.94-2.06 2.06-.94-2.06-.94-.94-2.06-.94 2.06-2.06.94zm-11 1L8.5 8.5l.94-2.06 2.06-.94-2.06-.94L8.5 2.5l-.94 2.06-2.06.94zm10 10l.94 2.06.94-2.06 2.06-.94-2.06-.94-.94-2.06-.94 2.06-2.06.94z\"/><path d=\"M17.41 7.96l-1.37-1.37c-.4-.4-.92-.59-1.43-.59-.52 0-1.04.2-1.43.59L10.3 9.45l-7.72 7.72c-.78.78-.78 2.05 0 2.83L4 21.41c.39.39.9.59 1.41.59.51 0 1.02-.2 1.41-.59l7.78-7.78 2.81-2.81c.8-.78.8-2.07 0-2.86zM5.41 20L4 18.59l7.72-7.72 1.47 1.35L5.41 20z\"/>\n",
              "  </svg>\n",
              "      </button>\n",
              "      \n",
              "  <style>\n",
              "    .colab-df-container {\n",
              "      display:flex;\n",
              "      flex-wrap:wrap;\n",
              "      gap: 12px;\n",
              "    }\n",
              "\n",
              "    .colab-df-convert {\n",
              "      background-color: #E8F0FE;\n",
              "      border: none;\n",
              "      border-radius: 50%;\n",
              "      cursor: pointer;\n",
              "      display: none;\n",
              "      fill: #1967D2;\n",
              "      height: 32px;\n",
              "      padding: 0 0 0 0;\n",
              "      width: 32px;\n",
              "    }\n",
              "\n",
              "    .colab-df-convert:hover {\n",
              "      background-color: #E2EBFA;\n",
              "      box-shadow: 0px 1px 2px rgba(60, 64, 67, 0.3), 0px 1px 3px 1px rgba(60, 64, 67, 0.15);\n",
              "      fill: #174EA6;\n",
              "    }\n",
              "\n",
              "    [theme=dark] .colab-df-convert {\n",
              "      background-color: #3B4455;\n",
              "      fill: #D2E3FC;\n",
              "    }\n",
              "\n",
              "    [theme=dark] .colab-df-convert:hover {\n",
              "      background-color: #434B5C;\n",
              "      box-shadow: 0px 1px 3px 1px rgba(0, 0, 0, 0.15);\n",
              "      filter: drop-shadow(0px 1px 2px rgba(0, 0, 0, 0.3));\n",
              "      fill: #FFFFFF;\n",
              "    }\n",
              "  </style>\n",
              "\n",
              "      <script>\n",
              "        const buttonEl =\n",
              "          document.querySelector('#df-e33d9d7c-2279-4949-a363-6681e9e455d2 button.colab-df-convert');\n",
              "        buttonEl.style.display =\n",
              "          google.colab.kernel.accessAllowed ? 'block' : 'none';\n",
              "\n",
              "        async function convertToInteractive(key) {\n",
              "          const element = document.querySelector('#df-e33d9d7c-2279-4949-a363-6681e9e455d2');\n",
              "          const dataTable =\n",
              "            await google.colab.kernel.invokeFunction('convertToInteractive',\n",
              "                                                     [key], {});\n",
              "          if (!dataTable) return;\n",
              "\n",
              "          const docLinkHtml = 'Like what you see? Visit the ' +\n",
              "            '<a target=\"_blank\" href=https://colab.research.google.com/notebooks/data_table.ipynb>data table notebook</a>'\n",
              "            + ' to learn more about interactive tables.';\n",
              "          element.innerHTML = '';\n",
              "          dataTable['output_type'] = 'display_data';\n",
              "          await google.colab.output.renderOutput(dataTable, element);\n",
              "          const docLink = document.createElement('div');\n",
              "          docLink.innerHTML = docLinkHtml;\n",
              "          element.appendChild(docLink);\n",
              "        }\n",
              "      </script>\n",
              "    </div>\n",
              "  </div>\n",
              "  "
            ]
          },
          "metadata": {},
          "execution_count": 121
        }
      ]
    },
    {
      "cell_type": "code",
      "source": [
        "from collections import Counter\n",
        "counts= Counter(\" \".join(dataframe[\"text\"]).split()).most_common(10)\n",
        "counts"
      ],
      "metadata": {
        "colab": {
          "base_uri": "https://localhost:8080/"
        },
        "id": "LLs7h5OWPZxT",
        "outputId": "5e61770d-4968-4bc1-ec6d-448e46994b82"
      },
      "execution_count": null,
      "outputs": [
        {
          "output_type": "execute_result",
          "data": {
            "text/plain": [
              "[('merkels', 2),\n",
              " ('europa', 2),\n",
              " ('trump', 2),\n",
              " ('migranten', 2),\n",
              " ('deutschland', 2),\n",
              " ('usa', 2),\n",
              " ('flüchtlingen', 2),\n",
              " ('flüchtlingspolitik', 1),\n",
              " ('führt', 1),\n",
              " ('chaos', 1)]"
            ]
          },
          "metadata": {},
          "execution_count": 122
        }
      ]
    },
    {
      "cell_type": "code",
      "source": [
        "import matplotlib.pyplot as plt\n",
        "%matplotlib inline\n",
        "\n",
        "pd.DataFrame(counts, #this is what we want to visualize\n",
        "             columns=['text','val']).set_index('text').plot(kind='bar');\n"
      ],
      "metadata": {
        "id": "Q7UX_fdjMved",
        "colab": {
          "base_uri": "https://localhost:8080/",
          "height": 352
        },
        "outputId": "da4ab75a-bd5c-49e8-b627-8223f78df99f"
      },
      "execution_count": null,
      "outputs": [
        {
          "output_type": "display_data",
          "data": {
            "text/plain": [
              "<Figure size 432x288 with 1 Axes>"
            ],
            "image/png": "[encoded data removed]"
          },
          "metadata": {
            "needs_background": "light"
          }
        }
      ]
    },
    {
      "cell_type": "code",
      "source": [],
      "metadata": {
        "id": "L7XPPrAtMvcP"
      },
      "execution_count": null,
      "outputs": []
    },
    {
      "cell_type": "code",
      "source": [],
      "metadata": {
        "id": "mPbmEdZIMvZx"
      },
      "execution_count": null,
      "outputs": []
    },
    {
      "cell_type": "code",
      "source": [],
      "metadata": {
        "id": "mCa_J55qMvXb"
      },
      "execution_count": null,
      "outputs": []
    },
    {
      "cell_type": "code",
      "source": [],
      "metadata": {
        "id": "JNz-KCHFMvVH"
      },
      "execution_count": null,
      "outputs": []
    },
    {
      "cell_type": "code",
      "source": [],
      "metadata": {
        "id": "Z-SEi267MvSn"
      },
      "execution_count": null,
      "outputs": []
    },
    {
      "cell_type": "markdown",
      "source": [
        "Sources\n",
        "\n",
        "http://introtopython.org/dictionaries.html#Looping-through-a-dictionary"
      ],
      "metadata": {
        "id": "vSenYPWESLfk"
      }
    },
    {
      "cell_type": "markdown",
      "source": [],
      "metadata": {
        "id": "S9Cq5hGGMs53"
      }
    }
  ]
}
