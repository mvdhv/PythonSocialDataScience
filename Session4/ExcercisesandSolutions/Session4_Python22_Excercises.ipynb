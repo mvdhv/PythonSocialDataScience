{
  "nbformat": 4,
  "nbformat_minor": 0,
  "metadata": {
    "colab": {
      "provenance": [],
      "authorship_tag": "ABX9TyNvvoWfF5/qK+3eyOf0BL9W",
      "include_colab_link": true
    },
    "kernelspec": {
      "name": "python3",
      "display_name": "Python 3"
    },
    "language_info": {
      "name": "python"
    }
  },
  "cells": [
    {
      "cell_type": "markdown",
      "metadata": {
        "id": "view-in-github",
        "colab_type": "text"
      },
      "source": [
        "<a href=\"https://colab.research.google.com/github/aelshehawy/PythonSocialDataScience/blob/main/Session4_Python22_Excercises_Solutions.ipynb\" target=\"_parent\"><img src=\"https://colab.research.google.com/assets/colab-badge.svg\" alt=\"Open In Colab\"/></a>"
      ]
    },
    {
      "cell_type": "markdown",
      "metadata": {
        "id": "m0XciTsvpk0X"
      },
      "source": [
        "# Excercises"
      ]
    },
    {
      "cell_type": "markdown",
      "metadata": {
        "id": "9hV6N6Z-pk0e"
      },
      "source": [
        "**Excercise 1**\n",
        "\n",
        "The aim is to try out different modes while opening files \n",
        "\n",
        "- open/create a file called \"mytext.txt\"\n",
        "- make sure to find out what the writing mode is\n",
        "- write this sentence in mytext.txt = \"what a beautiful day outside, I wish was sitting in the sun\"\n",
        "- make sure to close file\n",
        "\n",
        "Another question that you should answer using markdown in a new cell. What does the mode r+ do when opening files?"
      ]
    },
    {
      "cell_type": "markdown",
      "metadata": {
        "id": "kaoNj3Bbtd2V"
      },
      "source": [
        "**Excercise 2**\n",
        "\n",
        "In Pandas\n",
        "\n",
        "- a) use sputnikgerman20 data\n",
        "- b) check the length of the dataframe\n",
        "- c) take a random sample of 5 rows\n",
        "- d) remove all columns, but keep columns 2, 3 and 4 (remeber python starts counting at 0)\n",
        "- e) rename those columns date, title, and content (old 2 is date 3 is title, old 4 is content)\n",
        "- f) merge title and content in a new column (while keeping the old columns) - title_content\n",
        "- g) write a datacleaning function, that will remove german stopwords, tokenize, remove punctuations, and numbers\n",
        "- h) clean column title_content\n",
        "- i) in the data variable/column keep only the year (remove months and day)"
      ]
    },
    {
      "cell_type": "markdown",
      "metadata": {
        "collapsed": true,
        "id": "iIpeh4Txv-V4"
      },
      "source": [
        "**Excercise 3**\n",
        "\n",
        "*Practicing Loops*:\n",
        "\n",
        "Print -10 to -1 using for loop"
      ]
    },
    {
      "cell_type": "markdown",
      "metadata": {
        "collapsed": true,
        "id": "gS7EVp7Jv-V4"
      },
      "source": [
        "**Excercise 4**\n",
        "\n",
        "*Practicing Manipulating Data in Pandas*:\n",
        "\n",
        "\n",
        "- Use pandas to create two dataframes from the dictionaries below\n",
        "- Merge both dataframes, so that the second data frame is a new column to the first data frame."
      ]
    },
    {
      "cell_type": "code",
      "execution_count": null,
      "metadata": {
        "collapsed": true,
        "id": "RX5d4sdov-V5"
      },
      "outputs": [],
      "source": [
        "itemsavailable = {'Product': ['Nivea', 'Clinique', 'Dior', 'La_Mer'], 'Quantity': [344535335, 176666995, 199935925 , 71499900]}\n",
        "prices = {'Product': ['Nivea', 'Clinique', 'Dior', 'La_Mer'], 'price': [141, 80, 182 , 160]}"
      ]
    },
    {
      "cell_type": "markdown",
      "source": [
        "\n",
        "**Excercise 5**\n",
        "\n",
        "We have the dataframe below.\n",
        "\n",
        "Task: replace New with New_. So for example New York will be --> New_York"
      ],
      "metadata": {
        "id": "fwjE9F78WhFO"
      }
    },
    {
      "cell_type": "code",
      "execution_count": 3,
      "metadata": {
        "collapsed": true,
        "id": "8bXX0JQjv-V6"
      },
      "outputs": [],
      "source": []
    },
    {
      "cell_type": "code",
      "execution_count": 6,
      "metadata": {
        "collapsed": true,
        "id": "5_C5QLg6v-V6"
      },
      "outputs": [],
      "source": [
        "import pandas as pd\n",
        "  \n",
        "# Let's create a Dataframe\n",
        "df = pd.DataFrame({'City':['New York', 'Parague', 'New Delhi', 'Venice', 'new Orleans'],\n",
        "                    'Event':['Music', 'Poetry', 'Theatre', 'Comedy', 'Tech_Summit'],\n",
        "                    'Cost':[10000, 5000, 15000, 2000, 12000]})\n",
        "  \n",
        "\n",
        "  "
      ]
    },
    {
      "cell_type": "code",
      "execution_count": 7,
      "metadata": {
        "collapsed": true,
        "id": "hgn__bI5v-V6",
        "colab": {
          "base_uri": "https://localhost:8080/",
          "height": 206
        },
        "outputId": "1a21c5c1-87c7-43de-a35d-dc03acb1c759"
      },
      "outputs": [
        {
          "output_type": "execute_result",
          "data": {
            "text/plain": [
              "          City        Event   Cost\n",
              "0     New York        Music  10000\n",
              "1      Parague       Poetry   5000\n",
              "2    New Delhi      Theatre  15000\n",
              "3       Venice       Comedy   2000\n",
              "4  new Orleans  Tech_Summit  12000"
            ],
            "text/html": [
              "\n",
              "  <div id=\"df-ab5a832e-4880-4967-9638-ee520b878e4a\">\n",
              "    <div class=\"colab-df-container\">\n",
              "      <div>\n",
              "<style scoped>\n",
              "    .dataframe tbody tr th:only-of-type {\n",
              "        vertical-align: middle;\n",
              "    }\n",
              "\n",
              "    .dataframe tbody tr th {\n",
              "        vertical-align: top;\n",
              "    }\n",
              "\n",
              "    .dataframe thead th {\n",
              "        text-align: right;\n",
              "    }\n",
              "</style>\n",
              "<table border=\"1\" class=\"dataframe\">\n",
              "  <thead>\n",
              "    <tr style=\"text-align: right;\">\n",
              "      <th></th>\n",
              "      <th>City</th>\n",
              "      <th>Event</th>\n",
              "      <th>Cost</th>\n",
              "    </tr>\n",
              "  </thead>\n",
              "  <tbody>\n",
              "    <tr>\n",
              "      <th>0</th>\n",
              "      <td>New York</td>\n",
              "      <td>Music</td>\n",
              "      <td>10000</td>\n",
              "    </tr>\n",
              "    <tr>\n",
              "      <th>1</th>\n",
              "      <td>Parague</td>\n",
              "      <td>Poetry</td>\n",
              "      <td>5000</td>\n",
              "    </tr>\n",
              "    <tr>\n",
              "      <th>2</th>\n",
              "      <td>New Delhi</td>\n",
              "      <td>Theatre</td>\n",
              "      <td>15000</td>\n",
              "    </tr>\n",
              "    <tr>\n",
              "      <th>3</th>\n",
              "      <td>Venice</td>\n",
              "      <td>Comedy</td>\n",
              "      <td>2000</td>\n",
              "    </tr>\n",
              "    <tr>\n",
              "      <th>4</th>\n",
              "      <td>new Orleans</td>\n",
              "      <td>Tech_Summit</td>\n",
              "      <td>12000</td>\n",
              "    </tr>\n",
              "  </tbody>\n",
              "</table>\n",
              "</div>\n",
              "      <button class=\"colab-df-convert\" onclick=\"convertToInteractive('df-ab5a832e-4880-4967-9638-ee520b878e4a')\"\n",
              "              title=\"Convert this dataframe to an interactive table.\"\n",
              "              style=\"display:none;\">\n",
              "        \n",
              "  <svg xmlns=\"http://www.w3.org/2000/svg\" height=\"24px\"viewBox=\"0 0 24 24\"\n",
              "       width=\"24px\">\n",
              "    <path d=\"M0 0h24v24H0V0z\" fill=\"none\"/>\n",
              "    <path d=\"M18.56 5.44l.94 2.06.94-2.06 2.06-.94-2.06-.94-.94-2.06-.94 2.06-2.06.94zm-11 1L8.5 8.5l.94-2.06 2.06-.94-2.06-.94L8.5 2.5l-.94 2.06-2.06.94zm10 10l.94 2.06.94-2.06 2.06-.94-2.06-.94-.94-2.06-.94 2.06-2.06.94z\"/><path d=\"M17.41 7.96l-1.37-1.37c-.4-.4-.92-.59-1.43-.59-.52 0-1.04.2-1.43.59L10.3 9.45l-7.72 7.72c-.78.78-.78 2.05 0 2.83L4 21.41c.39.39.9.59 1.41.59.51 0 1.02-.2 1.41-.59l7.78-7.78 2.81-2.81c.8-.78.8-2.07 0-2.86zM5.41 20L4 18.59l7.72-7.72 1.47 1.35L5.41 20z\"/>\n",
              "  </svg>\n",
              "      </button>\n",
              "      \n",
              "  <style>\n",
              "    .colab-df-container {\n",
              "      display:flex;\n",
              "      flex-wrap:wrap;\n",
              "      gap: 12px;\n",
              "    }\n",
              "\n",
              "    .colab-df-convert {\n",
              "      background-color: #E8F0FE;\n",
              "      border: none;\n",
              "      border-radius: 50%;\n",
              "      cursor: pointer;\n",
              "      display: none;\n",
              "      fill: #1967D2;\n",
              "      height: 32px;\n",
              "      padding: 0 0 0 0;\n",
              "      width: 32px;\n",
              "    }\n",
              "\n",
              "    .colab-df-convert:hover {\n",
              "      background-color: #E2EBFA;\n",
              "      box-shadow: 0px 1px 2px rgba(60, 64, 67, 0.3), 0px 1px 3px 1px rgba(60, 64, 67, 0.15);\n",
              "      fill: #174EA6;\n",
              "    }\n",
              "\n",
              "    [theme=dark] .colab-df-convert {\n",
              "      background-color: #3B4455;\n",
              "      fill: #D2E3FC;\n",
              "    }\n",
              "\n",
              "    [theme=dark] .colab-df-convert:hover {\n",
              "      background-color: #434B5C;\n",
              "      box-shadow: 0px 1px 3px 1px rgba(0, 0, 0, 0.15);\n",
              "      filter: drop-shadow(0px 1px 2px rgba(0, 0, 0, 0.3));\n",
              "      fill: #FFFFFF;\n",
              "    }\n",
              "  </style>\n",
              "\n",
              "      <script>\n",
              "        const buttonEl =\n",
              "          document.querySelector('#df-ab5a832e-4880-4967-9638-ee520b878e4a button.colab-df-convert');\n",
              "        buttonEl.style.display =\n",
              "          google.colab.kernel.accessAllowed ? 'block' : 'none';\n",
              "\n",
              "        async function convertToInteractive(key) {\n",
              "          const element = document.querySelector('#df-ab5a832e-4880-4967-9638-ee520b878e4a');\n",
              "          const dataTable =\n",
              "            await google.colab.kernel.invokeFunction('convertToInteractive',\n",
              "                                                     [key], {});\n",
              "          if (!dataTable) return;\n",
              "\n",
              "          const docLinkHtml = 'Like what you see? Visit the ' +\n",
              "            '<a target=\"_blank\" href=https://colab.research.google.com/notebooks/data_table.ipynb>data table notebook</a>'\n",
              "            + ' to learn more about interactive tables.';\n",
              "          element.innerHTML = '';\n",
              "          dataTable['output_type'] = 'display_data';\n",
              "          await google.colab.output.renderOutput(dataTable, element);\n",
              "          const docLink = document.createElement('div');\n",
              "          docLink.innerHTML = docLinkHtml;\n",
              "          element.appendChild(docLink);\n",
              "        }\n",
              "      </script>\n",
              "    </div>\n",
              "  </div>\n",
              "  "
            ]
          },
          "metadata": {},
          "execution_count": 7
        }
      ],
      "source": [
        "df"
      ]
    },
    {
      "cell_type": "markdown",
      "source": [
        "**Excercise 6**\n",
        "\n",
        "The dataframe below contains the details about different cities. The names of spme cities contain some additional details enclosed in a bracket. Search for such names and remove the additional details."
      ],
      "metadata": {
        "id": "nXuu7EUOX6n3"
      }
    },
    {
      "cell_type": "code",
      "execution_count": 10,
      "metadata": {
        "collapsed": true,
        "id": "gE7Nx9Qqpk0i"
      },
      "outputs": [],
      "source": [
        "import pandas as pd\n",
        "  \n",
        "# Let's create a Dataframe\n",
        "df = pd.DataFrame({'City':['New York (City)', 'Parague', 'New Delhi (Delhi)', 'Venice', 'new Orleans'],\n",
        "                    'Event':['Music', 'Poetry', 'Theatre', 'Comedy', 'Tech_Summit'],\n",
        "                    'Cost':[10000, 5000, 15000, 2000, 12000]})\n",
        "  "
      ]
    },
    {
      "cell_type": "code",
      "execution_count": null,
      "metadata": {
        "collapsed": true,
        "id": "3vjGT5zspk0i"
      },
      "outputs": [],
      "source": [
        " "
      ]
    }
  ]
}
