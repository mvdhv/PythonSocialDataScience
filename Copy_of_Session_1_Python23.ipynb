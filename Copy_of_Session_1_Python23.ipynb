{
  "cells": [
    {
      "cell_type": "markdown",
      "metadata": {
        "id": "view-in-github",
        "colab_type": "text"
      },
      "source": [
        "<a href=\"https://colab.research.google.com/github/mvdhv/PythonSocialDataScience/blob/main/Copy_of_Session_1_Python23.ipynb\" target=\"_parent\"><img src=\"https://colab.research.google.com/assets/colab-badge.svg\" alt=\"Open In Colab\"/></a>"
      ]
    },
    {
      "cell_type": "markdown",
      "metadata": {
        "id": "gdEwECFbHTAI"
      },
      "source": [
        "# **Welcome to Python for Social Data Science 2023**\n",
        "\n",
        "\n"
      ]
    },
    {
      "cell_type": "markdown",
      "source": [
        "# Python Session 1"
      ],
      "metadata": {
        "id": "YdgLOqd_r9hS"
      }
    },
    {
      "cell_type": "markdown",
      "source": [
        "helloo"
      ],
      "metadata": {
        "id": "wicZMXHNx7Ke"
      }
    },
    {
      "cell_type": "code",
      "source": [
        "from IPython.display import Image\n",
        "Image(url='https://media.giphy.com/media/gG9fVWJdN41NeiHhzk/giphy.gif')"
      ],
      "metadata": {
        "id": "p1znA3btkv77",
        "outputId": "19c2f886-1270-416e-c3f6-fa9f928d469e",
        "colab": {
          "base_uri": "https://localhost:8080/",
          "height": 163
        }
      },
      "execution_count": null,
      "outputs": [
        {
          "output_type": "execute_result",
          "data": {
            "text/html": [
              "<img src=\"https://media.giphy.com/media/gG9fVWJdN41NeiHhzk/giphy.gif\"/>"
            ],
            "text/plain": [
              "<IPython.core.display.Image object>"
            ]
          },
          "metadata": {},
          "execution_count": 6
        }
      ]
    },
    {
      "cell_type": "markdown",
      "source": [
        "Load this code to be able to access data from your Google Drive, this gives permission to Colab to get files/data. Will be super useful in our next sessions."
      ],
      "metadata": {
        "id": "IoUX28f4sDb3"
      }
    },
    {
      "cell_type": "code",
      "source": [
        "from google.colab import drive\n",
        "drive.mount('/content/drive')"
      ],
      "metadata": {
        "id": "6PNyth1iJQj7",
        "outputId": "97d5654e-2adf-4e74-b9ac-fa774ff7b5da",
        "colab": {
          "base_uri": "https://localhost:8080/"
        }
      },
      "execution_count": null,
      "outputs": [
        {
          "output_type": "stream",
          "name": "stdout",
          "text": [
            "Drive already mounted at /content/drive; to attempt to forcibly remount, call drive.mount(\"/content/drive\", force_remount=True).\n"
          ]
        }
      ]
    },
    {
      "cell_type": "markdown",
      "metadata": {
        "id": "aolyrB1SHTAO"
      },
      "source": [
        "# Organizational"
      ]
    },
    {
      "cell_type": "markdown",
      "metadata": {
        "id": "TS05FBQpHTAO"
      },
      "source": [
        "- Class Overview\n",
        "- Class Times and Class Structure\n",
        "- Presentations and Python Lab\n",
        "- Introductions\n",
        "- Questions: Ashrakat.elshehawy@politics.ox.ac.uk"
      ]
    },
    {
      "cell_type": "code",
      "source": [
        "\n",
        "from IPython.display import Image\n",
        "Image(url='https://media.giphy.com/media/dUNNnf1vwvhRuGCBMb/giphy.gif')"
      ],
      "metadata": {
        "id": "1sADw-8JHO-P",
        "colab": {
          "base_uri": "https://localhost:8080/",
          "height": 292
        },
        "outputId": "8203b346-033b-4df7-d3f4-ef9d3dcaac10"
      },
      "execution_count": null,
      "outputs": [
        {
          "output_type": "execute_result",
          "data": {
            "text/html": [
              "<img src=\"https://media.giphy.com/media/dUNNnf1vwvhRuGCBMb/giphy.gif\"/>"
            ],
            "text/plain": [
              "<IPython.core.display.Image object>"
            ]
          },
          "metadata": {},
          "execution_count": 8
        }
      ]
    },
    {
      "cell_type": "markdown",
      "metadata": {
        "id": "rTzYMYslqrbv"
      },
      "source": [
        "# Github\n",
        "\n",
        "**Why use GitHub?**\n",
        "\n",
        "- Open Source\n",
        "- Have your code reviewed by the community\n",
        "- Give your projects visibility\n",
        "- Collaborate and track changes for your code visibly\n",
        "- Newsfeed with latest updates - You can  see what changes have been made in any other repositories you follow. \n",
        "- Explore repositories -  On the right of your dashboard, you can locate suggested repositories to follow — these suggestions are based on repositories you have followed or starrted."
      ]
    },
    {
      "cell_type": "markdown",
      "metadata": {
        "id": "SBrwX_Cqqrbw"
      },
      "source": [
        "**How do we use Github?**\n",
        "\n",
        "- Fork a rep: Create a new project based on a project that already exists - you can fork our repository to have a copy in your profile that you can edit https:/https://github.com/aelshehawy/PythonSocialDataScience <br>\n",
        "Use fork to work on new features and submit pull requests containing your new changes to the original repository.\n",
        "- Pull Request:  Authors of the original repository can see your work & choose if they want to accept it to the official project.\n",
        "- Star: Bookmark repository\n",
        "- Desktop version is really nice, you can work on your computer, have a local copy of ' repositories, fetch updates from their "
      ]
    },
    {
      "cell_type": "markdown",
      "metadata": {
        "id": "AsNVbtEjqrbw"
      },
      "source": [
        "**Download our data for the class**\n",
        "\n",
        "You can download the whole repository with one click: https://github.com/aelshehawy/PythonSocialDataScience\n",
        "\n",
        "If you wanna download a specific Python sheet or csv file\n",
        "\n",
        "1. First click on Raw\n",
        "2. Then, press ctrl+s to save it as **.ipynb** or **csv**\n",
        "\n",
        "**I recommend using GitHub Desktop:**\n",
        "if you have forked our class's repository, then clone my repository on your computer and keep fetching changes.\n",
        "\n",
        "**Just explore and play with GitHub whe you have time**"
      ]
    },
    {
      "cell_type": "markdown",
      "metadata": {
        "id": "NA5ahqc7HTAP"
      },
      "source": [
        "# Install Jupyter Notebooks on your Local Drive"
      ]
    },
    {
      "cell_type": "markdown",
      "metadata": {
        "id": "QwJ1voyNHTAQ"
      },
      "source": [
        "What is a Jupyter Notebook:\n",
        "\n",
        " \"Jupyter Notebook is an open-source web application that allows you to create and share documents that contain live code, equations, visualizations and narrative text.\"\n",
        "\n",
        "_We will use Anaconda_ https://www.anaconda.com/products/distribution\n"
      ]
    },
    {
      "cell_type": "markdown",
      "metadata": {
        "id": "m90iWfa5HTAQ"
      },
      "source": [
        "in your terminal please enter:\n",
        "\n",
        "``pip install jupyterlab``\n",
        "\n",
        "if that doesnt work try:\n",
        "\n",
        "``conda install -c conda-forge jupyterlab``\n"
      ]
    },
    {
      "cell_type": "markdown",
      "metadata": {
        "id": "DWj_K5852UEV"
      },
      "source": [
        "# Google Colab Sheets\n",
        "\n",
        "- Can be used with browsers like Chrome of Firefox\n",
        "- Saves installation time and effort. Easily use available libraries.\n",
        "- All your notebooks can be saved directly in your Google Drive\n",
        "- Excellent for collaborations!\n",
        "- Check this link for more information https://colab.research.google.com/notebooks/basic_features_overview.ipynb"
      ]
    },
    {
      "cell_type": "markdown",
      "metadata": {
        "id": "O2u-LakX4UaF"
      },
      "source": [
        "### So how does it work?\n",
        "\n",
        "1. To create a new cell you click +\n",
        "2. To run a cell you need to press the play button\n",
        "3. You can create cells where you write text by clicking on the + Text button. Here is a cheat sheet [link](https://github.com/adam-p/markdown-here/wiki/Markdown-Cheatsheet) for markdown, probably you have already used it in R. \n",
        "4. If you need to clear everything that is saved in a python notebook (remove saved variables/data etc.). You can click on Edit and choose **clear all output**\n",
        "6. Save notebooks on your Google Drive - Don't forget!\n",
        "7. Useful Shortcuts under Tools: Example: Control m m will convert a code cell to a text cell. Control m y will convert a text cell to a code cell."
      ]
    },
    {
      "cell_type": "code",
      "source": [
        "1+2"
      ],
      "metadata": {
        "id": "YQlIJwJ9Y8hz",
        "outputId": "27b31807-4408-4b51-ade7-d2c40fcc8132",
        "colab": {
          "base_uri": "https://localhost:8080/"
        }
      },
      "execution_count": null,
      "outputs": [
        {
          "output_type": "execute_result",
          "data": {
            "text/plain": [
              "3"
            ]
          },
          "metadata": {},
          "execution_count": 9
        }
      ]
    },
    {
      "cell_type": "markdown",
      "metadata": {
        "id": "jjut3fVbHTAW"
      },
      "source": [
        "# What are we learning in this Python session today\n",
        "\n",
        "Mainly: Basic Operations of Python\n",
        "\n",
        "* Python Interactive Shell: Print Function\n",
        "* Assigning Variables and Values\n",
        "* Understanding Different Types of Objects in Python\n",
        "* Mathematical Operations\n",
        "* Boolean Operations \n",
        "* Transformation of Objects\n",
        "* Input function \n",
        "* Understanding Python Strings\n",
        "* Combining Objects\n",
        "* Libraries in Python\n",
        "* Data Structures and Container"
      ]
    },
    {
      "cell_type": "markdown",
      "metadata": {
        "id": "ijW8C9OkHTAX"
      },
      "source": [
        "# Python Interactive Shell"
      ]
    },
    {
      "cell_type": "markdown",
      "metadata": {
        "id": "tJBmww7lHTAX"
      },
      "source": [
        "### The print function\n",
        "Here you can use print() built in function for python to print strings, intergers etc. <br>\n",
        "To print a string you need to wrap it in \" \""
      ]
    },
    {
      "cell_type": "markdown",
      "metadata": {
        "id": "Jyh5v8UmHTAb"
      },
      "source": [
        "### Assign variable values\n",
        "here we save a value inside of a variable - exactly as we do with other statistical programmes like R and Stata"
      ]
    },
    {
      "cell_type": "code",
      "execution_count": 1,
      "metadata": {
        "collapsed": true,
        "id": "RLu84-oqHTAc",
        "outputId": "61e65b2e-2ae6-4ec9-c7f4-076b7304db7a",
        "colab": {
          "base_uri": "https://localhost:8080/"
        }
      },
      "outputs": [
        {
          "output_type": "stream",
          "name": "stdout",
          "text": [
            "Welcome\n",
            "1\n",
            "2\n"
          ]
        }
      ],
      "source": [
        "print(\"Welcome\")\n",
        "\n",
        "print(1)\n",
        "\n",
        "print(1+1)\n",
        "\n"
      ]
    },
    {
      "cell_type": "code",
      "source": [
        "print(\"I am calculating the sum of 5 and 7:\", 5+7)"
      ],
      "metadata": {
        "colab": {
          "base_uri": "https://localhost:8080/"
        },
        "id": "ympFn45Uzxcx",
        "outputId": "0a63e178-455a-4e6c-d58d-0fc599eaafe6"
      },
      "execution_count": 2,
      "outputs": [
        {
          "output_type": "stream",
          "name": "stdout",
          "text": [
            "I am calculating the sum of 5 and 7: 12\n"
          ]
        }
      ]
    },
    {
      "cell_type": "markdown",
      "metadata": {
        "id": "G3WHiT6PHTAc"
      },
      "source": [
        "as we saved the string within the variable welcome, we can use python's built in function print() to see what we have saved"
      ]
    },
    {
      "cell_type": "markdown",
      "metadata": {
        "id": "Q-J2V1hkHTAd"
      },
      "source": [
        "Same goes with intergers and calculations"
      ]
    },
    {
      "cell_type": "code",
      "execution_count": 7,
      "metadata": {
        "collapsed": true,
        "id": "tWM4LJOmHTAd"
      },
      "outputs": [],
      "source": [
        "calculation = (5+2+2)"
      ]
    },
    {
      "cell_type": "code",
      "source": [
        "print(calculation)"
      ],
      "metadata": {
        "colab": {
          "base_uri": "https://localhost:8080/"
        },
        "id": "WhjAt3PM1E-j",
        "outputId": "98b9c99e-a8f7-4ff0-dd75-a01edc7159a2"
      },
      "execution_count": 8,
      "outputs": [
        {
          "output_type": "stream",
          "name": "stdout",
          "text": [
            "9\n"
          ]
        }
      ]
    },
    {
      "cell_type": "code",
      "execution_count": 4,
      "metadata": {
        "id": "2hI2qoRxHTAd"
      },
      "outputs": [],
      "source": [
        "name=\"madhav\""
      ]
    },
    {
      "cell_type": "code",
      "source": [
        "print(name) #or \n",
        "name"
      ],
      "metadata": {
        "colab": {
          "base_uri": "https://localhost:8080/",
          "height": 53
        },
        "id": "SYfSUTuV00Ms",
        "outputId": "342a0f50-2b66-43fa-e7f0-9a2bac3c84cc"
      },
      "execution_count": 6,
      "outputs": [
        {
          "output_type": "stream",
          "name": "stdout",
          "text": [
            "madhav\n"
          ]
        },
        {
          "output_type": "execute_result",
          "data": {
            "text/plain": [
              "'madhav'"
            ],
            "application/vnd.google.colaboratory.intrinsic+json": {
              "type": "string"
            }
          },
          "metadata": {},
          "execution_count": 6
        }
      ]
    },
    {
      "cell_type": "markdown",
      "metadata": {
        "id": "tWP_pA2sHTAd"
      },
      "source": [
        "**Take care of overwritting**"
      ]
    },
    {
      "cell_type": "code",
      "execution_count": 10,
      "metadata": {
        "id": "j2rdss40HTAd",
        "colab": {
          "base_uri": "https://localhost:8080/"
        },
        "outputId": "0d4805d5-a81e-4bdf-83bf-17bbba874759"
      },
      "outputs": [
        {
          "output_type": "stream",
          "name": "stdout",
          "text": [
            "5+2+2\n"
          ]
        }
      ],
      "source": [
        "calculation = (\"5+2+2\")\n",
        "\n",
        "print(calculation)"
      ]
    },
    {
      "cell_type": "markdown",
      "metadata": {
        "id": "KX9tpbLRHTAe"
      },
      "source": [
        "using variables that we have already assigned"
      ]
    },
    {
      "cell_type": "markdown",
      "metadata": {
        "id": "vYenaUAMHTAg"
      },
      "source": [
        "# What type of Object are we using?"
      ]
    },
    {
      "cell_type": "markdown",
      "metadata": {
        "id": "N3ssE3_1HTAi"
      },
      "source": [
        "# Maths"
      ]
    },
    {
      "cell_type": "code",
      "source": [
        "5+5"
      ],
      "metadata": {
        "colab": {
          "base_uri": "https://localhost:8080/"
        },
        "id": "g9ZGbqR71pem",
        "outputId": "ba0ab449-a03f-4c53-9c7b-cbc2eea0bfe8"
      },
      "execution_count": 11,
      "outputs": [
        {
          "output_type": "execute_result",
          "data": {
            "text/plain": [
              "10"
            ]
          },
          "metadata": {},
          "execution_count": 11
        }
      ]
    },
    {
      "cell_type": "code",
      "source": [
        "math=(5+5)"
      ],
      "metadata": {
        "id": "nlJ_cIVd1sG-"
      },
      "execution_count": 12,
      "outputs": []
    },
    {
      "cell_type": "code",
      "source": [
        "math"
      ],
      "metadata": {
        "colab": {
          "base_uri": "https://localhost:8080/"
        },
        "id": "2wjvhEGA1vd8",
        "outputId": "23ae5f4e-e208-4a78-8d74-d970324e7236"
      },
      "execution_count": 13,
      "outputs": [
        {
          "output_type": "execute_result",
          "data": {
            "text/plain": [
              "10"
            ]
          },
          "metadata": {},
          "execution_count": 13
        }
      ]
    },
    {
      "cell_type": "code",
      "source": [
        "x=9\n",
        "y=10\n",
        "mathoperation = x*y\n",
        "mathoperation\n"
      ],
      "metadata": {
        "colab": {
          "base_uri": "https://localhost:8080/"
        },
        "id": "n54gdTp81xxH",
        "outputId": "52ef2b61-d2d7-44f2-da92-51c2f70bc4bb"
      },
      "execution_count": 14,
      "outputs": [
        {
          "output_type": "execute_result",
          "data": {
            "text/plain": [
              "90"
            ]
          },
          "metadata": {},
          "execution_count": 14
        }
      ]
    },
    {
      "cell_type": "code",
      "source": [
        "A=11//2 #Integer Division\n",
        "B=11/2 #Float Division\n"
      ],
      "metadata": {
        "id": "yZ8yy-lf2AVd"
      },
      "execution_count": 16,
      "outputs": []
    },
    {
      "cell_type": "code",
      "source": [
        "A"
      ],
      "metadata": {
        "colab": {
          "base_uri": "https://localhost:8080/"
        },
        "id": "bwOzeT832PcW",
        "outputId": "52a8c95b-a4c2-4536-e639-2b8ff06b3db7"
      },
      "execution_count": 17,
      "outputs": [
        {
          "output_type": "execute_result",
          "data": {
            "text/plain": [
              "5"
            ]
          },
          "metadata": {},
          "execution_count": 17
        }
      ]
    },
    {
      "cell_type": "code",
      "source": [
        "B"
      ],
      "metadata": {
        "colab": {
          "base_uri": "https://localhost:8080/"
        },
        "id": "NfDZYF3D2RvD",
        "outputId": "dc96652b-33d0-42a4-c0b4-c070f6c06a15"
      },
      "execution_count": 18,
      "outputs": [
        {
          "output_type": "execute_result",
          "data": {
            "text/plain": [
              "5.5"
            ]
          },
          "metadata": {},
          "execution_count": 18
        }
      ]
    },
    {
      "cell_type": "markdown",
      "metadata": {
        "id": "tUmb3F_wqrb_"
      },
      "source": [
        "# Boolean operations\n",
        "\n",
        "In programming you often need to know if an expression is True or False.\n",
        "\n",
        "When you compare two values, the expression is evaluated and Python returns the Boolean answer:\n",
        "\n"
      ]
    },
    {
      "cell_type": "code",
      "source": [
        "print(100<2) #Can use Boolean operations for more complex operations like to find missing values in rows"
      ],
      "metadata": {
        "colab": {
          "base_uri": "https://localhost:8080/"
        },
        "id": "d25gJUF62TCL",
        "outputId": "cfd76b24-22dc-4291-c697-33f5a40d32fb"
      },
      "execution_count": 19,
      "outputs": [
        {
          "output_type": "stream",
          "name": "stdout",
          "text": [
            "False\n"
          ]
        }
      ]
    },
    {
      "cell_type": "code",
      "source": [
        "print(\"dpir\"==\"dpirr\") #For comparing two or more values"
      ],
      "metadata": {
        "colab": {
          "base_uri": "https://localhost:8080/"
        },
        "id": "2KUrp0y72adw",
        "outputId": "1b4ff5ca-9dab-426c-c81c-d0c6c825ecdb"
      },
      "execution_count": 20,
      "outputs": [
        {
          "output_type": "stream",
          "name": "stdout",
          "text": [
            "False\n"
          ]
        }
      ]
    },
    {
      "cell_type": "code",
      "source": [
        "print(\"dpir\"!=\"dpirr\") #Negation sign is the same as R"
      ],
      "metadata": {
        "colab": {
          "base_uri": "https://localhost:8080/"
        },
        "id": "1vvzX13c2h0q",
        "outputId": "f994ce99-ae80-40b3-f2be-aca1f717df9d"
      },
      "execution_count": 21,
      "outputs": [
        {
          "output_type": "stream",
          "name": "stdout",
          "text": [
            "True\n"
          ]
        }
      ]
    },
    {
      "cell_type": "markdown",
      "metadata": {
        "id": "yk6b24y-HTAk"
      },
      "source": [
        "# Transform Objects"
      ]
    },
    {
      "cell_type": "code",
      "source": [
        "number = 1"
      ],
      "metadata": {
        "id": "28XJV-Jo25PC"
      },
      "execution_count": 22,
      "outputs": []
    },
    {
      "cell_type": "code",
      "source": [
        "print(number)"
      ],
      "metadata": {
        "colab": {
          "base_uri": "https://localhost:8080/"
        },
        "id": "sEkAhWYs29CE",
        "outputId": "a3e2c9cf-01e0-42ef-9895-06dabac1a84d"
      },
      "execution_count": 23,
      "outputs": [
        {
          "output_type": "stream",
          "name": "stdout",
          "text": [
            "1\n"
          ]
        }
      ]
    },
    {
      "cell_type": "code",
      "source": [
        "number_v2=str(number) "
      ],
      "metadata": {
        "id": "56XAEAO62_fh"
      },
      "execution_count": 28,
      "outputs": []
    },
    {
      "cell_type": "code",
      "source": [
        "type(number_v2)"
      ],
      "metadata": {
        "colab": {
          "base_uri": "https://localhost:8080/"
        },
        "id": "5oXqivbZ3Laz",
        "outputId": "d58173df-7914-4e86-cc87-dba55e97f54a"
      },
      "execution_count": 27,
      "outputs": [
        {
          "output_type": "execute_result",
          "data": {
            "text/plain": [
              "str"
            ]
          },
          "metadata": {},
          "execution_count": 27
        }
      ]
    },
    {
      "cell_type": "code",
      "source": [
        "print(number_v2)"
      ],
      "metadata": {
        "colab": {
          "base_uri": "https://localhost:8080/"
        },
        "id": "jjzabzC93GyG",
        "outputId": "c022d9f5-70cd-49f8-d217-bfa7abf436b5"
      },
      "execution_count": 26,
      "outputs": [
        {
          "output_type": "stream",
          "name": "stdout",
          "text": [
            "1\n"
          ]
        }
      ]
    },
    {
      "cell_type": "markdown",
      "metadata": {
        "id": "wjfXpWIiHTAl"
      },
      "source": [
        "# Input from keyboard"
      ]
    },
    {
      "cell_type": "code",
      "source": [
        "answer_this_question=input(\"what is your name?\\t\") #\\t is for space, \\n is for breaking a line"
      ],
      "metadata": {
        "colab": {
          "base_uri": "https://localhost:8080/"
        },
        "id": "13w0057g3Pbg",
        "outputId": "eeb48a37-1df2-4656-e55a-b11f255660a3"
      },
      "execution_count": 30,
      "outputs": [
        {
          "name": "stdout",
          "output_type": "stream",
          "text": [
            "what is your name?\tmadhav\n"
          ]
        }
      ]
    },
    {
      "cell_type": "code",
      "source": [
        "answer_this_question=input(\"what is your name?\\n\")"
      ],
      "metadata": {
        "colab": {
          "base_uri": "https://localhost:8080/"
        },
        "id": "EWZ4FZJ_3m0u",
        "outputId": "fed8160f-74dd-4e16-a3d1-6edd4a154252"
      },
      "execution_count": 31,
      "outputs": [
        {
          "name": "stdout",
          "output_type": "stream",
          "text": [
            "what is your name?\n",
            "madhav\n"
          ]
        }
      ]
    },
    {
      "cell_type": "markdown",
      "metadata": {
        "id": "jBPWWqmFbopc"
      },
      "source": [
        "# Combining objects\n"
      ]
    },
    {
      "cell_type": "code",
      "source": [
        "text=\"we\" + \"are\" + \"learning\" + \"python\""
      ],
      "metadata": {
        "id": "GBkmOvcG3Rpb"
      },
      "execution_count": 32,
      "outputs": []
    },
    {
      "cell_type": "code",
      "source": [
        "print(text)"
      ],
      "metadata": {
        "colab": {
          "base_uri": "https://localhost:8080/"
        },
        "id": "wTOlFF1b3zEx",
        "outputId": "2f890443-2168-4c6b-8cc8-15066bdcb4e6"
      },
      "execution_count": 33,
      "outputs": [
        {
          "output_type": "stream",
          "name": "stdout",
          "text": [
            "wearelearningpython\n"
          ]
        }
      ]
    },
    {
      "cell_type": "code",
      "source": [
        "text=\"we\" + \" \" + \"are\" + \" \" + \"learning\" + \" \" + \"python\""
      ],
      "metadata": {
        "id": "ofeJGP1Q31_-"
      },
      "execution_count": 36,
      "outputs": []
    },
    {
      "cell_type": "code",
      "source": [
        "print(text)"
      ],
      "metadata": {
        "colab": {
          "base_uri": "https://localhost:8080/"
        },
        "id": "5mYuq0KU38P5",
        "outputId": "8e76de98-db3f-45a5-8024-f124fa79e627"
      },
      "execution_count": 37,
      "outputs": [
        {
          "output_type": "stream",
          "name": "stdout",
          "text": [
            "we are learning python\n"
          ]
        }
      ]
    },
    {
      "cell_type": "code",
      "source": [
        "text2=\"we\" + \"2\" + \"3\""
      ],
      "metadata": {
        "id": "qKqag3Qx4B7k"
      },
      "execution_count": 38,
      "outputs": []
    },
    {
      "cell_type": "markdown",
      "metadata": {
        "id": "g8Qcp-Ebbopr"
      },
      "source": [
        "# Understanding Python Strings"
      ]
    },
    {
      "cell_type": "markdown",
      "metadata": {
        "id": "vtl5qXiKbops"
      },
      "source": [
        "Inputting a string"
      ]
    },
    {
      "cell_type": "code",
      "execution_count": 39,
      "metadata": {
        "id": "ofJFIPxzbopv"
      },
      "outputs": [],
      "source": [
        "string=\"hello world, this is me\"\n"
      ]
    },
    {
      "cell_type": "code",
      "source": [
        "\"is\" in string #Boolean operation that checks for values in variables"
      ],
      "metadata": {
        "colab": {
          "base_uri": "https://localhost:8080/"
        },
        "id": "LkyufrE54e9h",
        "outputId": "49d6ae7a-84ab-4bd9-96c5-03295924d129"
      },
      "execution_count": 40,
      "outputs": [
        {
          "output_type": "execute_result",
          "data": {
            "text/plain": [
              "True"
            ]
          },
          "metadata": {},
          "execution_count": 40
        }
      ]
    },
    {
      "cell_type": "markdown",
      "metadata": {
        "id": "CwtQvfv0bopw"
      },
      "source": [
        "what if we wanna make sure if there is a specific word in the saved string?\n"
      ]
    },
    {
      "cell_type": "code",
      "execution_count": 42,
      "metadata": {
        "id": "-0ZUmHahbopx",
        "colab": {
          "base_uri": "https://localhost:8080/"
        },
        "outputId": "bff5e472-2ca6-4b92-db5f-1daa55b7cc02"
      },
      "outputs": [
        {
          "output_type": "stream",
          "name": "stdout",
          "text": [
            "HELLO WORLD, THIS IS ME\n"
          ]
        }
      ],
      "source": [
        "print(string.upper())"
      ]
    },
    {
      "cell_type": "code",
      "execution_count": 43,
      "metadata": {
        "id": "WT5UZtMebopx",
        "colab": {
          "base_uri": "https://localhost:8080/"
        },
        "outputId": "0f3bbb7d-88a2-454f-ca93-75349e4b926b"
      },
      "outputs": [
        {
          "output_type": "stream",
          "name": "stdout",
          "text": [
            "hello world, this is me\n"
          ]
        }
      ],
      "source": [
        "print(string.lower())"
      ]
    },
    {
      "cell_type": "code",
      "source": [
        "print(string.title())"
      ],
      "metadata": {
        "colab": {
          "base_uri": "https://localhost:8080/"
        },
        "id": "LO9gIbRv5DRn",
        "outputId": "73a32bc3-fdcb-435a-e2a4-c1d24a57b6c2"
      },
      "execution_count": 44,
      "outputs": [
        {
          "output_type": "stream",
          "name": "stdout",
          "text": [
            "Hello World, This Is Me\n"
          ]
        }
      ]
    },
    {
      "cell_type": "markdown",
      "metadata": {
        "id": "NC9wuKOQbop0"
      },
      "source": [
        "# Manipulate string"
      ]
    },
    {
      "cell_type": "markdown",
      "metadata": {
        "id": "r7TVKxbYbop4"
      },
      "source": [
        "#### Strip space"
      ]
    },
    {
      "cell_type": "code",
      "source": [
        "university = \"University of Oxford\""
      ],
      "metadata": {
        "id": "iSj89_495Hb2"
      },
      "execution_count": 46,
      "outputs": []
    },
    {
      "cell_type": "code",
      "source": [
        "university1=university.strip()\n",
        "print(university1)"
      ],
      "metadata": {
        "colab": {
          "base_uri": "https://localhost:8080/"
        },
        "id": "WTIlc2uH5Mat",
        "outputId": "79bbd59f-80d7-4883-add5-c1497524f462"
      },
      "execution_count": 48,
      "outputs": [
        {
          "output_type": "stream",
          "name": "stdout",
          "text": [
            "University of Oxford\n"
          ]
        }
      ]
    },
    {
      "cell_type": "code",
      "source": [
        "university2 = university.replace(\" \", \"\") #Look for \" \" and replace it with \"\"\n",
        "print(university2)"
      ],
      "metadata": {
        "colab": {
          "base_uri": "https://localhost:8080/"
        },
        "id": "ts-kO1Uq5aLV",
        "outputId": "88b5a629-c286-4b3a-b410-90e0c6742037"
      },
      "execution_count": 50,
      "outputs": [
        {
          "output_type": "stream",
          "name": "stdout",
          "text": [
            "UniversityofOxford\n"
          ]
        }
      ]
    },
    {
      "cell_type": "code",
      "source": [
        "uni = university.replace(\"of\", \" \")"
      ],
      "metadata": {
        "id": "jeA-I5785_yB"
      },
      "execution_count": 53,
      "outputs": []
    },
    {
      "cell_type": "markdown",
      "metadata": {
        "id": "xz03j3vJbop7"
      },
      "source": [
        "#### Count number of words and letters"
      ]
    },
    {
      "cell_type": "code",
      "source": [
        "len(uni) #len function calculates length"
      ],
      "metadata": {
        "colab": {
          "base_uri": "https://localhost:8080/"
        },
        "id": "n6-hxV6j5zYa",
        "outputId": "3f44e5ab-c69d-4247-ac38-2b6ece69fdce"
      },
      "execution_count": 54,
      "outputs": [
        {
          "output_type": "execute_result",
          "data": {
            "text/plain": [
              "19"
            ]
          },
          "metadata": {},
          "execution_count": 54
        }
      ]
    },
    {
      "cell_type": "code",
      "source": [
        "len(uni.split()) #The split function used with length counts words based on character spaces"
      ],
      "metadata": {
        "colab": {
          "base_uri": "https://localhost:8080/"
        },
        "id": "gzgFBpRN5-uX",
        "outputId": "9d3cb410-a31d-479e-88cc-0aa7d40cfdce"
      },
      "execution_count": 56,
      "outputs": [
        {
          "output_type": "execute_result",
          "data": {
            "text/plain": [
              "2"
            ]
          },
          "metadata": {},
          "execution_count": 56
        }
      ]
    },
    {
      "cell_type": "markdown",
      "metadata": {
        "id": "3-bIGrB4bop-"
      },
      "source": [
        "# Libraries in Python"
      ]
    },
    {
      "cell_type": "markdown",
      "metadata": {
        "id": "pUqi5F_nbop_"
      },
      "source": [
        "Usually you enter in terminal ``pip install [project name]``, best is to check source documentation of project. <br\\>\n",
        "Example: https://pypi.org/project/Counter/"
      ]
    },
    {
      "cell_type": "code",
      "execution_count": null,
      "metadata": {
        "id": "_ZfnQfeMbop_"
      },
      "outputs": [],
      "source": [
        "# you need a library to count faster, this is a very powerful library that we wil use in the future\n"
      ]
    },
    {
      "cell_type": "code",
      "source": [
        "\n"
      ],
      "metadata": {
        "id": "2OQF_XwVeChz"
      },
      "execution_count": null,
      "outputs": []
    },
    {
      "cell_type": "markdown",
      "metadata": {
        "id": "2gDFH22lbop_"
      },
      "source": [
        "# Data Structures in Python"
      ]
    },
    {
      "cell_type": "markdown",
      "metadata": {
        "id": "qmTCjAnKboqA"
      },
      "source": [
        "### Lists\n",
        "\n",
        "ordered, changable, allows duplicated items"
      ]
    },
    {
      "cell_type": "markdown",
      "source": [
        "create empty list"
      ],
      "metadata": {
        "id": "EViiGhy1EX9p"
      }
    },
    {
      "cell_type": "code",
      "source": [
        "# Create an empty list to hold our users.\n",
        "usernames = [] #List is created using square brackets\n",
        "print(usernames)\n"
      ],
      "metadata": {
        "id": "yG1Ug2vtEaKl",
        "colab": {
          "base_uri": "https://localhost:8080/"
        },
        "outputId": "10f3bce8-b41a-42a3-e77b-cdf17d240c71"
      },
      "execution_count": 57,
      "outputs": [
        {
          "output_type": "stream",
          "name": "stdout",
          "text": [
            "[]\n"
          ]
        }
      ]
    },
    {
      "cell_type": "markdown",
      "source": [
        "creating lists and checking length"
      ],
      "metadata": {
        "id": "8a1WJ7nHEmsT"
      }
    },
    {
      "cell_type": "code",
      "source": [
        "usernames.append(\"user1\")\n",
        "usernames.append(\"user2\")\n",
        "usernames.append(\"user3\")\n",
        "usernames.append(int(\"3\")) #transforming a string \"3\" into integer\n",
        "\n",
        "usernames"
      ],
      "metadata": {
        "colab": {
          "base_uri": "https://localhost:8080/"
        },
        "id": "dTnBPGsc658f",
        "outputId": "28208370-01b7-47a8-a597-8f3e0ce124d4"
      },
      "execution_count": 58,
      "outputs": [
        {
          "output_type": "execute_result",
          "data": {
            "text/plain": [
              "['user1', 'user2', 'user3', 3]"
            ]
          },
          "metadata": {},
          "execution_count": 58
        }
      ]
    },
    {
      "cell_type": "code",
      "source": [
        "fruits = [\"apples\", \"oranges\", \"strawberries\"]\n",
        "fruits"
      ],
      "metadata": {
        "colab": {
          "base_uri": "https://localhost:8080/"
        },
        "id": "c-UZjwNM7UcY",
        "outputId": "2a29a322-4efd-4a8a-b1b9-cecf91976605"
      },
      "execution_count": 59,
      "outputs": [
        {
          "output_type": "execute_result",
          "data": {
            "text/plain": [
              "['apples', 'oranges', 'strawberries']"
            ]
          },
          "metadata": {},
          "execution_count": 59
        }
      ]
    },
    {
      "cell_type": "code",
      "source": [
        "len(fruits)"
      ],
      "metadata": {
        "colab": {
          "base_uri": "https://localhost:8080/"
        },
        "id": "M-DKvW3j7cQW",
        "outputId": "48703f9a-1d27-4f8d-979a-ea89d83bb09f"
      },
      "execution_count": 60,
      "outputs": [
        {
          "output_type": "execute_result",
          "data": {
            "text/plain": [
              "3"
            ]
          },
          "metadata": {},
          "execution_count": 60
        }
      ]
    },
    {
      "cell_type": "code",
      "source": [
        "listofnumbers = [4, 3, 2, 1]\n",
        "listofnumbers"
      ],
      "metadata": {
        "colab": {
          "base_uri": "https://localhost:8080/"
        },
        "id": "HrSi0T2J7hfZ",
        "outputId": "e78ef499-4d5e-4fa0-e86c-cbee4eac785c"
      },
      "execution_count": 61,
      "outputs": [
        {
          "output_type": "execute_result",
          "data": {
            "text/plain": [
              "[4, 3, 2, 1]"
            ]
          },
          "metadata": {},
          "execution_count": 61
        }
      ]
    },
    {
      "cell_type": "code",
      "source": [
        "listofnumbers[3] #Indexing is done through square brackets; python starts counting from 0"
      ],
      "metadata": {
        "colab": {
          "base_uri": "https://localhost:8080/"
        },
        "id": "1IALEpX67qX5",
        "outputId": "ee6ddff0-0ce8-47aa-b86c-09375cd9748c"
      },
      "execution_count": 62,
      "outputs": [
        {
          "output_type": "execute_result",
          "data": {
            "text/plain": [
              "1"
            ]
          },
          "metadata": {},
          "execution_count": 62
        }
      ]
    },
    {
      "cell_type": "code",
      "source": [
        "listofnumbers[:2] #This is not counted from zero because it is counting two entries from the first (:)"
      ],
      "metadata": {
        "colab": {
          "base_uri": "https://localhost:8080/"
        },
        "id": "p0XMZHiJ7_jL",
        "outputId": "b0242cde-6823-4c27-b7c4-97985af8a482"
      },
      "execution_count": 63,
      "outputs": [
        {
          "output_type": "execute_result",
          "data": {
            "text/plain": [
              "[4, 3]"
            ]
          },
          "metadata": {},
          "execution_count": 63
        }
      ]
    },
    {
      "cell_type": "code",
      "source": [
        "listofnumbers[-1] #Counting from the last"
      ],
      "metadata": {
        "colab": {
          "base_uri": "https://localhost:8080/"
        },
        "id": "m3lsjuyC8atK",
        "outputId": "974b0ba1-6464-4714-8b37-27ff229987bf"
      },
      "execution_count": 64,
      "outputs": [
        {
          "output_type": "execute_result",
          "data": {
            "text/plain": [
              "1"
            ]
          },
          "metadata": {},
          "execution_count": 64
        }
      ]
    },
    {
      "cell_type": "code",
      "source": [
        "listofnumbers.sort() #Sorted from smallest number to biggest\n",
        "listofnumbers"
      ],
      "metadata": {
        "colab": {
          "base_uri": "https://localhost:8080/"
        },
        "id": "KID9Oo4z8uPK",
        "outputId": "2fe92e0d-2acc-4f87-a5e6-74a6c7a5e5b7"
      },
      "execution_count": 66,
      "outputs": [
        {
          "output_type": "execute_result",
          "data": {
            "text/plain": [
              "[1, 2, 3, 4]"
            ]
          },
          "metadata": {},
          "execution_count": 66
        }
      ]
    },
    {
      "cell_type": "markdown",
      "source": [
        "insert list item"
      ],
      "metadata": {
        "id": "tur4fUMVExuJ"
      }
    },
    {
      "cell_type": "markdown",
      "source": [
        "modifying list elements"
      ],
      "metadata": {
        "id": "5cFfqtRnFR42"
      }
    },
    {
      "cell_type": "markdown",
      "metadata": {
        "id": "Svth87UCboqB"
      },
      "source": [
        "**VERY IMPORTANT** In Python counting of items/observations always starts with 0"
      ]
    },
    {
      "cell_type": "markdown",
      "source": [
        "access list items"
      ],
      "metadata": {
        "id": "w-SHhhl8E_z4"
      }
    },
    {
      "cell_type": "code",
      "execution_count": 67,
      "metadata": {
        "id": "lbx37rLDboqC",
        "colab": {
          "base_uri": "https://localhost:8080/"
        },
        "outputId": "b863ec7e-e614-4f69-fd69-8ae8bb3a3a5c"
      },
      "outputs": [
        {
          "output_type": "stream",
          "name": "stdout",
          "text": [
            "['a', 'b', 'c', 'd']\n",
            "['b', 'c', 'd']\n"
          ]
        }
      ],
      "source": [
        "#select items\n",
        "letters = [\"a\", \"b\", \"c\", \"d\"]\n",
        "print(letters)\n",
        "\n",
        "letters.remove(\"a\")\n",
        "print(letters)\n"
      ]
    },
    {
      "cell_type": "code",
      "source": [
        "letters.pop(0) #Another function to remove something from a list; also counts from 0\n",
        "print(letters)"
      ],
      "metadata": {
        "colab": {
          "base_uri": "https://localhost:8080/"
        },
        "id": "K2DSWuYC9GxO",
        "outputId": "d16bc32a-0cd1-4d53-d44b-7e94082d023b"
      },
      "execution_count": 68,
      "outputs": [
        {
          "output_type": "stream",
          "name": "stdout",
          "text": [
            "['c', 'd']\n"
          ]
        }
      ]
    },
    {
      "cell_type": "code",
      "source": [
        "smallest=min(listofnumbers)\n",
        "print(smallest)"
      ],
      "metadata": {
        "colab": {
          "base_uri": "https://localhost:8080/"
        },
        "id": "hteevcPl9QAY",
        "outputId": "5e9e9bcc-e7df-4b9e-c2bd-22bedadad158"
      },
      "execution_count": 69,
      "outputs": [
        {
          "output_type": "stream",
          "name": "stdout",
          "text": [
            "1\n"
          ]
        }
      ]
    },
    {
      "cell_type": "code",
      "execution_count": null,
      "metadata": {
        "id": "H7hG9IgxboqE"
      },
      "outputs": [],
      "source": [
        "#select range, slice slice\n"
      ]
    },
    {
      "cell_type": "code",
      "source": [
        "#accessing last item\n"
      ],
      "metadata": {
        "id": "uFfpOI57FhYG"
      },
      "execution_count": null,
      "outputs": []
    },
    {
      "cell_type": "markdown",
      "source": [
        "sort numerical list"
      ],
      "metadata": {
        "id": "bfHj1fy9EHRz"
      }
    },
    {
      "cell_type": "code",
      "source": [
        "numbers = [1, 3, 4, 2]\n",
        "\n",
        "# sort() puts numbers in increasing order.\n"
      ],
      "metadata": {
        "id": "XWK0XYY4EGdK"
      },
      "execution_count": null,
      "outputs": []
    },
    {
      "cell_type": "code",
      "source": [
        "\n",
        "# The reverse() function also works for numerical lists.\n"
      ],
      "metadata": {
        "id": "aXSFGabeELkU"
      },
      "execution_count": null,
      "outputs": []
    },
    {
      "cell_type": "markdown",
      "source": [
        "removing items by value\n",
        "\n",
        "Be careful: only the first item with this value is removed. If you have multiple items with the same value, you will have some items with this value left in your list.\n",
        "\n"
      ],
      "metadata": {
        "id": "iGjPWQQ0Dasi"
      }
    },
    {
      "cell_type": "code",
      "source": [
        "letters = ['a', 'b', 'c', 'a', 'b', 'c']\n",
        "# Remove the letter a from the list.\n"
      ],
      "metadata": {
        "id": "ibSb8QgxDdPu"
      },
      "execution_count": null,
      "outputs": []
    },
    {
      "cell_type": "markdown",
      "source": [
        "Popping items from list:\n",
        "\n",
        "The pop() function removes the last item from the list, and gives it to us so we can work with it. \n",
        "\n",
        "This is easier to show with an example:"
      ],
      "metadata": {
        "id": "m3m3TZkUC2dX"
      }
    },
    {
      "cell_type": "code",
      "source": [
        "beach = ['sun', 'sand', 'waves']\n"
      ],
      "metadata": {
        "id": "1geQR8BVC59I"
      },
      "execution_count": null,
      "outputs": []
    },
    {
      "cell_type": "code",
      "source": [
        "beach = ['sun', 'sand', 'waves']\n"
      ],
      "metadata": {
        "id": "pUL8AvC2DUo0"
      },
      "execution_count": null,
      "outputs": []
    },
    {
      "cell_type": "markdown",
      "source": [
        "min, max, sum in lists"
      ],
      "metadata": {
        "id": "N1P4poK2CoyE"
      }
    },
    {
      "cell_type": "code",
      "source": [
        "ages = [23, 16, 14, 28, 19, 11, 38]\n",
        "\n"
      ],
      "metadata": {
        "id": "8XCTVhHtCnrO"
      },
      "execution_count": null,
      "outputs": []
    },
    {
      "cell_type": "markdown",
      "source": [
        "item in list?"
      ],
      "metadata": {
        "id": "X2z0OyYhFH13"
      }
    },
    {
      "cell_type": "code",
      "source": [
        "print()\n"
      ],
      "metadata": {
        "id": "nepG3Z-CFJjT"
      },
      "execution_count": null,
      "outputs": []
    },
    {
      "cell_type": "markdown",
      "metadata": {
        "id": "ZXYj20JcboqG"
      },
      "source": [
        "### Dictionaries"
      ]
    },
    {
      "cell_type": "markdown",
      "metadata": {
        "id": "gMGEBPsVboqG"
      },
      "source": [
        "A dictionary has a key and a corresponding value"
      ]
    },
    {
      "cell_type": "markdown",
      "metadata": {
        "id": "PEXjsV05boqG"
      },
      "source": [
        "How to create a dictionary"
      ]
    },
    {
      "cell_type": "code",
      "source": [
        "myshoppingitems = [\"pasta\", 10, \"pesto\", 2, \"chocolate\", 5]\n",
        "myshoppingitems"
      ],
      "metadata": {
        "colab": {
          "base_uri": "https://localhost:8080/"
        },
        "id": "t0yOfEyP9add",
        "outputId": "449c7f6c-dca9-454b-d5ef-19699cf8fcdd"
      },
      "execution_count": 70,
      "outputs": [
        {
          "output_type": "execute_result",
          "data": {
            "text/plain": [
              "['pasta', 10, 'pesto', 2, 'chocolate', 5]"
            ]
          },
          "metadata": {},
          "execution_count": 70
        }
      ]
    },
    {
      "cell_type": "code",
      "source": [
        "myshoppingitems = {\"pasta\":10, \"pesto\":2, \"chocolate\":5} #A dictionary is a nested list??\n",
        "myshoppingitems"
      ],
      "metadata": {
        "colab": {
          "base_uri": "https://localhost:8080/"
        },
        "id": "M8QszA-e9j5v",
        "outputId": "8d711049-e016-4a90-a3fd-c7fc48e5a07b"
      },
      "execution_count": 73,
      "outputs": [
        {
          "output_type": "execute_result",
          "data": {
            "text/plain": [
              "{'pasta': 10, 'pesto': 2, 'chocolate': 5}"
            ]
          },
          "metadata": {},
          "execution_count": 73
        }
      ]
    },
    {
      "cell_type": "markdown",
      "metadata": {
        "id": "cMY68xXWboqN"
      },
      "source": [
        "Add first item to the dictionary, dictionary keys should always be unique"
      ]
    },
    {
      "cell_type": "markdown",
      "metadata": {
        "id": "cSbr52f4boqO"
      },
      "source": [
        "Access key,item in a dictionary"
      ]
    },
    {
      "cell_type": "markdown",
      "metadata": {
        "id": "wZ5OTvExboqP"
      },
      "source": [
        "### Tuples\n",
        "\n",
        "- immutable sequence of Python objects - you cannot update or change the values of tuple elements\n",
        "- their advantage is that they have a fixed value"
      ]
    },
    {
      "cell_type": "markdown",
      "metadata": {
        "id": "XzH6PsSGboqQ"
      },
      "source": [
        "create tuple of one value, you always need a comma at the end"
      ]
    },
    {
      "cell_type": "markdown",
      "metadata": {
        "id": "_GB31N87boqQ"
      },
      "source": [
        "you can access values"
      ]
    },
    {
      "cell_type": "markdown",
      "metadata": {
        "id": "LPHb7LhpboqS"
      },
      "source": [
        "you can not modify within tuples, but you can concate different tuples"
      ]
    },
    {
      "cell_type": "markdown",
      "metadata": {
        "id": "32aRJz6mboqT"
      },
      "source": [
        "you can not modify within tuples, but you can repeat tuples in a new tuple"
      ]
    },
    {
      "cell_type": "markdown",
      "source": [
        "If you try to add something to a tuple, you will get an error:\n",
        "\n"
      ],
      "metadata": {
        "id": "hWCpTnKQB_EU"
      }
    },
    {
      "cell_type": "markdown",
      "source": [
        "The same kind of thing happens when you try to remove something from a tuple, or modify one of its elements. Once you define a tuple, you can be confident that its values will not change.\n",
        "\n"
      ],
      "metadata": {
        "id": "bFmLfLmqB_jl"
      }
    },
    {
      "cell_type": "markdown",
      "metadata": {
        "id": "API-Np2RboqY"
      },
      "source": [
        "you can check membership"
      ]
    },
    {
      "cell_type": "markdown",
      "source": [
        "tuples are immutable,  the value in the tuple will never change"
      ],
      "metadata": {
        "id": "04cwzlwQrlvB"
      }
    },
    {
      "cell_type": "markdown",
      "metadata": {
        "id": "eFbazrdkboqZ"
      },
      "source": [
        "### Sets\n",
        "\n",
        "What is a set? It is an unordered collection of items. You can not be sure in which order the items will appear.\n",
        "\n",
        "Elements of the set:\n",
        "1. must be unique - doesnt allow for duplicate elements\n",
        "2. elemenets can not be changed (you can not access items by refering to an index, as done in lists)\n",
        "\n",
        "The set as a whole is mutable, we can add and remove items from it\n",
        "\n",
        "Usually sets are used to for mathematical operations like, union and intersection"
      ]
    },
    {
      "cell_type": "code",
      "execution_count": null,
      "metadata": {
        "id": "lPHk2QJTboqZ"
      },
      "outputs": [],
      "source": [
        "#creation of sets\n",
        "\n"
      ]
    },
    {
      "cell_type": "code",
      "execution_count": null,
      "metadata": {
        "id": "xyyzZjLpboqZ"
      },
      "outputs": [],
      "source": [
        "# no duplication allowed\n"
      ]
    },
    {
      "cell_type": "code",
      "execution_count": null,
      "metadata": {
        "id": "XiiK-umZboqa"
      },
      "outputs": [],
      "source": [
        "# transform a list to a set\n",
        "\n"
      ]
    },
    {
      "cell_type": "code",
      "execution_count": null,
      "metadata": {
        "id": "s1_ycAt3boqa"
      },
      "outputs": [],
      "source": [
        "#mutability of set\n",
        "\n",
        "#add an item\n"
      ]
    },
    {
      "cell_type": "code",
      "execution_count": null,
      "metadata": {
        "id": "T7dKqLF3boqb"
      },
      "outputs": [],
      "source": [
        "#to add more than one item you use update\n"
      ]
    },
    {
      "cell_type": "code",
      "execution_count": null,
      "metadata": {
        "id": "MR63XrFAboqc"
      },
      "outputs": [],
      "source": [
        "# discard an item (similar remove - however remove will show an error if the item is not in the set)\n"
      ]
    }
  ],
  "metadata": {
    "kernelspec": {
      "display_name": "Python 3",
      "language": "python",
      "name": "python3"
    },
    "language_info": {
      "codemirror_mode": {
        "name": "ipython",
        "version": 3
      },
      "file_extension": ".py",
      "mimetype": "text/x-python",
      "name": "python",
      "nbconvert_exporter": "python",
      "pygments_lexer": "ipython3",
      "version": "3.8.5"
    },
    "colab": {
      "provenance": [],
      "toc_visible": true,
      "include_colab_link": true
    }
  },
  "nbformat": 4,
  "nbformat_minor": 0
}