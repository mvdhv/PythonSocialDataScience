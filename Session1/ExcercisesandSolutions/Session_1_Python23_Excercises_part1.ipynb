{
  "nbformat": 4,
  "nbformat_minor": 0,
  "metadata": {
    "colab": {
      "provenance": [],
      "authorship_tag": "ABX9TyM9Mr3BkGO0M88UXYsAciy8",
      "include_colab_link": true
    },
    "kernelspec": {
      "name": "python3",
      "display_name": "Python 3"
    },
    "language_info": {
      "name": "python"
    }
  },
  "cells": [
    {
      "cell_type": "markdown",
      "metadata": {
        "id": "view-in-github",
        "colab_type": "text"
      },
      "source": [
        "<a href=\"https://colab.research.google.com/github/aelshehawy/PythonSocialDataScience/blob/main/Session_1_Python23_Excercises_part1.ipynb\" target=\"_parent\"><img src=\"https://colab.research.google.com/assets/colab-badge.svg\" alt=\"Open In Colab\"/></a>"
      ]
    },
    {
      "cell_type": "markdown",
      "metadata": {
        "id": "cJapVXDuHTAm"
      },
      "source": [
        "# **Session 1**\n",
        "# Excercises - Part 1"
      ]
    },
    {
      "cell_type": "code",
      "execution_count": null,
      "metadata": {
        "collapsed": true,
        "id": "Rc5LBz8QHTAm"
      },
      "outputs": [],
      "source": [
        "#Excercise 1\n",
        "\n",
        "# a- Print the multiplication of 7 and 8, save them in a variable called mult\n",
        "# b- Calculate 5^2, save in a variable called power\n",
        "# print the results"
      ]
    },
    {
      "cell_type": "code",
      "execution_count": null,
      "metadata": {
        "collapsed": true,
        "id": "B3DC1t1aHTAm"
      },
      "outputs": [],
      "source": [
        "#Excercise 2\n",
        "\n",
        "#calculate how many weeks in 10 years - approximately\n",
        "#hints:\n",
        "#save the number of weeks in a year in a variable called weeks\n",
        "#save the number 10 in a variable called 10 years\n",
        "#specificy and print outcome - variable named weeksin10years\n"
      ]
    },
    {
      "cell_type": "code",
      "execution_count": null,
      "metadata": {
        "collapsed": true,
        "id": "fw-NUXeSHTAm"
      },
      "outputs": [],
      "source": [
        "#Excercise 3\n",
        "\n",
        "# Print the interger of the division of 244 by 5 and save them in a variable called division\n"
      ]
    },
    {
      "cell_type": "code",
      "execution_count": null,
      "metadata": {
        "collapsed": true,
        "id": "tWHRJWj1HTAm"
      },
      "outputs": [],
      "source": [
        "#Excercise 4\n",
        "\n",
        "# Calculate the area of a circle\n",
        "# 1) define the variables that you need - pi and r, in that case r=3\n",
        "# 2) write the equation\n",
        "# 3) make sure you have a float type answer\n",
        "# 4) print out the result\n",
        "\n",
        "\n"
      ]
    },
    {
      "cell_type": "code",
      "execution_count": null,
      "metadata": {
        "collapsed": true,
        "id": "JGoYuOZ3HTAn"
      },
      "outputs": [],
      "source": [
        "#Excercise 5\n",
        "\n",
        "# Request the name of the user\n",
        "# Request the age of a user\n",
        "#print out the name and age of the user in a sentence using the variables you have defined for age and name\n"
      ]
    },
    {
      "cell_type": "code",
      "execution_count": null,
      "metadata": {
        "id": "35mXt3YAHTAn",
        "colab": {
          "base_uri": "https://localhost:8080/",
          "height": 218
        },
        "outputId": "e358ea46-1b8e-4d84-a5c1-e4e572b64319"
      },
      "outputs": [
        {
          "output_type": "error",
          "ename": "NameError",
          "evalue": "ignored",
          "traceback": [
            "\u001b[0;31m---------------------------------------------------------------------------\u001b[0m",
            "\u001b[0;31mNameError\u001b[0m                                 Traceback (most recent call last)",
            "\u001b[0;32m<ipython-input-1-ec3033098c91>\u001b[0m in \u001b[0;36m<module>\u001b[0;34m()\u001b[0m\n\u001b[1;32m      4\u001b[0m \u001b[0;31m# Fix the printout\u001b[0m\u001b[0;34m\u001b[0m\u001b[0;34m\u001b[0m\u001b[0;34m\u001b[0m\u001b[0m\n\u001b[1;32m      5\u001b[0m \u001b[0;34m\u001b[0m\u001b[0m\n\u001b[0;32m----> 6\u001b[0;31m \u001b[0mprint\u001b[0m\u001b[0;34m(\u001b[0m\u001b[0;34m\"I have\"\u001b[0m \u001b[0;34m+\u001b[0m \u001b[0;34m\" \"\u001b[0m \u001b[0;34m+\u001b[0m\u001b[0mrandomnumber1\u001b[0m \u001b[0;34m+\u001b[0m \u001b[0;34m\" of apples and\"\u001b[0m \u001b[0;34m+\u001b[0m \u001b[0;34m\" \"\u001b[0m \u001b[0;34m+\u001b[0m \u001b[0mrandomnumber2\u001b[0m \u001b[0;34m+\u001b[0m \u001b[0;34m\" \"\u001b[0m \u001b[0;34m+\u001b[0m \u001b[0;34m\"of bananas!\"\u001b[0m\u001b[0;34m)\u001b[0m\u001b[0;34m\u001b[0m\u001b[0;34m\u001b[0m\u001b[0m\n\u001b[0m",
            "\u001b[0;31mNameError\u001b[0m: name 'randomnumber1' is not defined"
          ]
        }
      ],
      "source": [
        "#Excercise 6\n",
        "\n",
        "# Fix the errors here\n",
        "# Fix the printout\n",
        "\n",
        "print(\"I have\" + \" \" +randomnumber1 + \" of apples and\" + \" \" + randomnumber2 + \" \" + \"of bananas!\")"
      ]
    },
    {
      "cell_type": "code",
      "execution_count": null,
      "metadata": {
        "collapsed": true,
        "id": "LQXb5V1oHTAn"
      },
      "outputs": [],
      "source": [
        "#Excercise 7\n",
        "\n",
        "#Display “My Name Is [insert your name]” as “My**Name**Is**[insert your name]” using output formatting of a print() function\n",
        "#Hint: understand the \"sep\" command in Python"
      ]
    },
    {
      "cell_type": "code",
      "execution_count": null,
      "metadata": {
        "id": "0tC_b8LMHTAn"
      },
      "outputs": [],
      "source": [
        "#Excercise 8\n",
        "\n",
        "#Display float number with 2 decimal -40400.2233- places using print()\n",
        "\n",
        "\n"
      ]
    },
    {
      "cell_type": "code",
      "execution_count": null,
      "metadata": {
        "id": "XdqRpRv4HTAn"
      },
      "outputs": [],
      "source": [
        "#Excercise 9\n",
        "\n",
        "#fix this code \n",
        "\n",
        "print \"This doesnt work\"\n",
        "print('This doesn't work')\n",
        "input('Input your age: ')\n",
        "print(name"
      ]
    },
    {
      "cell_type": "code",
      "execution_count": null,
      "metadata": {
        "collapsed": true,
        "id": "Vgcg0SyxHTAn"
      },
      "outputs": [],
      "source": [
        "#Excercise 10\n",
        "\n",
        "# a- Ask the user to input a number\n",
        "# b- Ask the user to input another number\n",
        "# c- Calculate the total of the two numbers added together\n",
        "\n",
        "#Hint use input for a and b"
      ]
    }
  ]
}
