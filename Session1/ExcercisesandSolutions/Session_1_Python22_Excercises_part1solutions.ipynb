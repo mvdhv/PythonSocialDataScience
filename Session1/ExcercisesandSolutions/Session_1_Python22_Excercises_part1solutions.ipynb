{
  "cells": [
    {
      "cell_type": "markdown",
      "metadata": {
        "id": "view-in-github",
        "colab_type": "text"
      },
      "source": [
        "<a href=\"https://colab.research.google.com/github/aelshehawy/PythonSocialDataScience/blob/main/Session_1_Python22_Excercises_part1solutions.ipynb\" target=\"_parent\"><img src=\"https://colab.research.google.com/assets/colab-badge.svg\" alt=\"Open In Colab\"/></a>"
      ]
    },
    {
      "cell_type": "markdown",
      "metadata": {
        "id": "nuujoSg0gS-L"
      },
      "source": [
        "# **Session 1**\n",
        "# Excercises - Part 1 Solutions"
      ]
    },
    {
      "cell_type": "code",
      "execution_count": null,
      "metadata": {
        "collapsed": true,
        "id": "QGzYLByGgS-L"
      },
      "outputs": [],
      "source": [
        "#Excercise 1\n",
        "\n",
        "# a- Print the multiplication of 7 and 8, save them in a variable called mult\n",
        "# b- Calculate 5^2, save in a variable called power\n",
        "# print the results"
      ]
    },
    {
      "cell_type": "code",
      "source": [
        "7*8"
      ],
      "metadata": {
        "colab": {
          "base_uri": "https://localhost:8080/"
        },
        "id": "I90uxQvxmA7i",
        "outputId": "5b34924a-5676-4baa-a997-2545ac24ff42"
      },
      "execution_count": null,
      "outputs": [
        {
          "output_type": "execute_result",
          "data": {
            "text/plain": [
              "56"
            ]
          },
          "metadata": {},
          "execution_count": 4
        }
      ]
    },
    {
      "cell_type": "code",
      "execution_count": null,
      "metadata": {
        "id": "kU-bscFegS-L",
        "colab": {
          "base_uri": "https://localhost:8080/"
        },
        "outputId": "2a6cf557-c19f-4eac-b51f-a62e764d7a2d"
      },
      "outputs": [
        {
          "output_type": "stream",
          "name": "stdout",
          "text": [
            "56\n",
            "25\n"
          ]
        }
      ],
      "source": [
        "mult=7*8\n",
        "print(mult)\n",
        "power=5**2\n",
        "print(power)"
      ]
    },
    {
      "cell_type": "code",
      "execution_count": null,
      "metadata": {
        "collapsed": true,
        "id": "mIxYJKQwgS-M"
      },
      "outputs": [],
      "source": [
        "#Excercise 2\n",
        "\n",
        "#calculate how many weeks in 10 years - approximately\n",
        "#hints:\n",
        "#save the number of weeks in a year in a variable called weeks\n",
        "#save the number 10 in a variable called 10 years\n",
        "#specificy and print outcome - variable named weeksin10years\n"
      ]
    },
    {
      "cell_type": "code",
      "execution_count": null,
      "metadata": {
        "id": "QHYQhZtTgS-M",
        "colab": {
          "base_uri": "https://localhost:8080/"
        },
        "outputId": "39ba4da9-fa10-4fbb-c5e0-c8bd862b008a"
      },
      "outputs": [
        {
          "output_type": "stream",
          "name": "stdout",
          "text": [
            "516.0\n"
          ]
        }
      ],
      "source": [
        "weeks=12*4.3\n",
        "years=10\n",
        "weeksin10years=years*weeks\n",
        "print(weeksin10years)"
      ]
    },
    {
      "cell_type": "code",
      "execution_count": null,
      "metadata": {
        "id": "d__865WHgS-M",
        "colab": {
          "base_uri": "https://localhost:8080/"
        },
        "outputId": "2a6c7533-44e7-4ba5-c642-874901af0f93"
      },
      "outputs": [
        {
          "output_type": "execute_result",
          "data": {
            "text/plain": [
              "48"
            ]
          },
          "metadata": {},
          "execution_count": 11
        }
      ],
      "source": [
        "#Excercise 3\n",
        "\n",
        "# Print the interger of the division of 244 by 5 and save them in a variable called division\n",
        "\n",
        "division=244//5\n",
        "division"
      ]
    },
    {
      "cell_type": "code",
      "execution_count": null,
      "metadata": {
        "id": "1J8SlCo3gS-M",
        "colab": {
          "base_uri": "https://localhost:8080/"
        },
        "outputId": "b0cadcd8-ac1e-4b3f-f6bb-e0e6196e0f90"
      },
      "outputs": [
        {
          "output_type": "stream",
          "name": "stdout",
          "text": [
            "<class 'int'>\n"
          ]
        }
      ],
      "source": [
        "print(type(division))"
      ]
    },
    {
      "cell_type": "code",
      "execution_count": null,
      "metadata": {
        "collapsed": true,
        "id": "-NoveJKGgS-N"
      },
      "outputs": [],
      "source": [
        "#Excercise 4\n",
        "\n",
        "# Calculate the area of a circle\n",
        "# 1) define the variables that you need - pi and r, in that case r=3\n",
        "# 2) write the equation\n",
        "# 3) make sure you have a float type answer\n",
        "# 4) print out the result\n",
        "\n"
      ]
    },
    {
      "cell_type": "code",
      "execution_count": null,
      "metadata": {
        "id": "5xm4tyW4gS-N",
        "colab": {
          "base_uri": "https://localhost:8080/"
        },
        "outputId": "1a118449-e4c4-4919-b0c6-67abd6b1b4c8"
      },
      "outputs": [
        {
          "output_type": "execute_result",
          "data": {
            "text/plain": [
              "28.26"
            ]
          },
          "metadata": {},
          "execution_count": 13
        }
      ],
      "source": [
        "pi=3.14\n",
        "r=3\n",
        "A=((r**2)*pi)\n",
        "A"
      ]
    },
    {
      "cell_type": "code",
      "execution_count": null,
      "metadata": {
        "collapsed": true,
        "id": "QCiY08IagS-N"
      },
      "outputs": [],
      "source": [
        "#Excercise 5\n",
        "\n",
        "# Request the name of the user\n",
        "# Request the age of a user\n",
        "# print out the name and age of the user in a sentence using the variables you have defined for age and name\n"
      ]
    },
    {
      "cell_type": "code",
      "execution_count": null,
      "metadata": {
        "id": "gutkopjVgS-N",
        "colab": {
          "base_uri": "https://localhost:8080/"
        },
        "outputId": "e2ac7686-ef30-47af-d790-cd245291d66f"
      },
      "outputs": [
        {
          "name": "stdout",
          "output_type": "stream",
          "text": [
            "Whats your name?\tash\n"
          ]
        }
      ],
      "source": [
        "name=input(\"Whats your name?\\t\")"
      ]
    },
    {
      "cell_type": "code",
      "execution_count": null,
      "metadata": {
        "id": "GbX8rwJFgS-R",
        "colab": {
          "base_uri": "https://localhost:8080/"
        },
        "outputId": "9d5c2e7b-8714-4752-ce72-77d7827f7f4f"
      },
      "outputs": [
        {
          "name": "stdout",
          "output_type": "stream",
          "text": [
            "Whats your age?\n",
            "27\n"
          ]
        }
      ],
      "source": [
        "age=input(\"Whats your age?\\n\")"
      ]
    },
    {
      "cell_type": "code",
      "execution_count": null,
      "metadata": {
        "id": "MzNr4t1AgS-R",
        "colab": {
          "base_uri": "https://localhost:8080/"
        },
        "outputId": "dd2cb664-1c28-48c8-e3dd-5d4a24ca30b0"
      },
      "outputs": [
        {
          "output_type": "stream",
          "name": "stdout",
          "text": [
            "This person's name is \t ashand they are 27years old.\n"
          ]
        }
      ],
      "source": [
        "answer = print(\"This person's name is \\t\", name + \"and they are\"+ \" \" + age + \"years old.\")"
      ]
    },
    {
      "cell_type": "code",
      "execution_count": null,
      "metadata": {
        "id": "88dRSS_1gS-S",
        "colab": {
          "base_uri": "https://localhost:8080/"
        },
        "outputId": "89dab321-3d18-4844-a26c-8798cdb18e25"
      },
      "outputs": [
        {
          "output_type": "stream",
          "name": "stdout",
          "text": [
            "I have 10 of apples and 13 of bananas!\n"
          ]
        }
      ],
      "source": [
        "#Excercise 5\n",
        "\n",
        "#Fix the errors here\n",
        "# Fix the printout\n",
        "randomnumber1=10\n",
        "randomnumber2=13\n",
        "print(\"I have\" + \" \" +str(randomnumber1) + \" of apples and\" + \" \" + str(randomnumber2) + \" \" + \"of bananas!\")"
      ]
    },
    {
      "cell_type": "code",
      "execution_count": null,
      "metadata": {
        "id": "gfHn77lrgS-S"
      },
      "outputs": [],
      "source": [
        "#Excercise 6\n",
        "\n",
        "# Fix the errors here\n",
        "# Fix the printout\n",
        "\n",
        "#define random numbers\n",
        "randomnumber1=7\n",
        "randomnumber2=8\n",
        "#transform numbers to string\n",
        "print(\"I have\" + \" \" +str(randomnumber1) + \" of apples and\" + \" \" + str(randomnumber2) + \" \" + \"of bananas!\")"
      ]
    },
    {
      "cell_type": "code",
      "execution_count": null,
      "metadata": {
        "id": "K8uLnpA6gS-S",
        "colab": {
          "base_uri": "https://localhost:8080/"
        },
        "outputId": "94ada93b-8eff-4dce-e64f-6ea1343a5fd2"
      },
      "outputs": [
        {
          "output_type": "stream",
          "name": "stdout",
          "text": [
            "My**Name**Is**Ash\n"
          ]
        }
      ],
      "source": [
        "#Excercise 7\n",
        "\n",
        "#Display “My Name Is [insert your name]” as “My**Name**Is**[insert your name]” using output formatting of a print() function\n",
        "\n",
        "print(\"My\", 'Name', 'Is', 'Ash', sep='**')\n"
      ]
    },
    {
      "cell_type": "code",
      "execution_count": null,
      "metadata": {
        "id": "zfKA0YFpgS-T",
        "colab": {
          "base_uri": "https://localhost:8080/"
        },
        "outputId": "8fe1211a-933d-442e-cc87-7016c401e60a"
      },
      "outputs": [
        {
          "output_type": "stream",
          "name": "stdout",
          "text": [
            "40400.22\n"
          ]
        }
      ],
      "source": [
        "#Excercise 8\n",
        "\n",
        "#Display this float number with 2 decimal places  -40400.2233-  \n",
        "#Hint use print()\n",
        "\n",
        "\n",
        "print('%.2f' % 40400.2233)"
      ]
    },
    {
      "cell_type": "code",
      "execution_count": null,
      "metadata": {
        "id": "aW0z6cpogS-T"
      },
      "outputs": [],
      "source": [
        "#Excercise 9\n",
        "\n",
        "#fix this code \n",
        "\n",
        "print \"This doesnt work\"\n",
        "print('This doesn't work')\n",
        "input('Input your age: ')\n",
        "print(name"
      ]
    },
    {
      "cell_type": "code",
      "execution_count": null,
      "metadata": {
        "id": "HOghNZj1gS-U",
        "colab": {
          "base_uri": "https://localhost:8080/"
        },
        "outputId": "f98efd2b-919b-471c-f017-20a42995e583"
      },
      "outputs": [
        {
          "output_type": "stream",
          "name": "stdout",
          "text": [
            "This doesnt work\n",
            "This doesn't work\n",
            "Input your age: 27\n",
            "27\n"
          ]
        }
      ],
      "source": [
        "#solutions\n",
        "print (\"This doesnt work\") # we need brackets\n",
        "print(\"This doesn't work\") #we have an extra ' in doesnt\n",
        "age=input('Input your age: ')# we forgot to close brackets, also we havent dfined the variable age that we input\n",
        "print(age) "
      ]
    },
    {
      "cell_type": "code",
      "execution_count": null,
      "metadata": {
        "collapsed": true,
        "id": "taxBtcc0gS-U"
      },
      "outputs": [],
      "source": [
        "#Excercise 10\n",
        "\n",
        "# a- Ask the user to input a random number\n",
        "# b- Ask the user to input another random number\n",
        "# c- calculate the sum of both random numbers - save them in a variable called sum \n",
        "# d- make sure the variable sum is an interger\n",
        "\n",
        "#Hint use input for a and b"
      ]
    },
    {
      "cell_type": "code",
      "execution_count": null,
      "metadata": {
        "id": "sK415OMogS-U",
        "colab": {
          "base_uri": "https://localhost:8080/"
        },
        "outputId": "0959b14c-4c77-411a-ee77-835ecfae291e"
      },
      "outputs": [
        {
          "name": "stdout",
          "output_type": "stream",
          "text": [
            "Please input number 2.4\n",
            "Please input number 2\n"
          ]
        }
      ],
      "source": [
        "number1=input(\"Please input number \")\n",
        "number2=input(\"Please input number \")"
      ]
    },
    {
      "cell_type": "code",
      "execution_count": null,
      "metadata": {
        "id": "DF151B3DgS-V",
        "colab": {
          "base_uri": "https://localhost:8080/",
          "height": 35
        },
        "outputId": "6101fbd2-ee40-4238-afc6-319cdb250a8e"
      },
      "outputs": [
        {
          "output_type": "execute_result",
          "data": {
            "text/plain": [
              "'2.42'"
            ],
            "application/vnd.google.colaboratory.intrinsic+json": {
              "type": "string"
            }
          },
          "metadata": {},
          "execution_count": 38
        }
      ],
      "source": [
        "sum=number1+number2\n",
        "sum"
      ]
    },
    {
      "cell_type": "code",
      "execution_count": null,
      "metadata": {
        "id": "ysd_TnUYgS-V",
        "colab": {
          "base_uri": "https://localhost:8080/"
        },
        "outputId": "9b43b3fc-22cf-4663-f20d-9e4566f15266"
      },
      "outputs": [
        {
          "output_type": "execute_result",
          "data": {
            "text/plain": [
              "str"
            ]
          },
          "metadata": {},
          "execution_count": 39
        }
      ],
      "source": [
        "type(sum)"
      ]
    },
    {
      "cell_type": "code",
      "execution_count": null,
      "metadata": {
        "id": "x6t4CSh5gS-V",
        "colab": {
          "base_uri": "https://localhost:8080/"
        },
        "outputId": "61f521d4-7b78-428c-c67c-9febb015ba38"
      },
      "outputs": [
        {
          "output_type": "execute_result",
          "data": {
            "text/plain": [
              "14"
            ]
          },
          "metadata": {},
          "execution_count": 36
        }
      ],
      "source": [
        "sum=int(sum)\n",
        "sum"
      ]
    }
  ],
  "metadata": {
    "kernelspec": {
      "display_name": "Python 3",
      "language": "python",
      "name": "python3"
    },
    "language_info": {
      "codemirror_mode": {
        "name": "ipython",
        "version": 3
      },
      "file_extension": ".py",
      "mimetype": "text/x-python",
      "name": "python",
      "nbconvert_exporter": "python",
      "pygments_lexer": "ipython3",
      "version": "3.6.8"
    },
    "colab": {
      "provenance": [],
      "toc_visible": true,
      "include_colab_link": true
    }
  },
  "nbformat": 4,
  "nbformat_minor": 0
}
