{
  "cells": [
    {
      "cell_type": "markdown",
      "metadata": {
        "id": "view-in-github",
        "colab_type": "text"
      },
      "source": [
        "<a href=\"https://colab.research.google.com/github/aelshehawy/PythonSocialDataScience/blob/main/Session_1_Python23_solutions.ipynb\" target=\"_parent\"><img src=\"https://colab.research.google.com/assets/colab-badge.svg\" alt=\"Open In Colab\"/></a>"
      ]
    },
    {
      "cell_type": "markdown",
      "metadata": {
        "id": "gdEwECFbHTAI"
      },
      "source": [
        "# **Welcome to Python for Social Data Science 2023**\n",
        "\n",
        "\n"
      ]
    },
    {
      "cell_type": "markdown",
      "source": [
        "# Python Session 1"
      ],
      "metadata": {
        "id": "YdgLOqd_r9hS"
      }
    },
    {
      "cell_type": "code",
      "source": [
        "from IPython.display import Image\n",
        "Image(url='https://media.giphy.com/media/gG9fVWJdN41NeiHhzk/giphy.gif')"
      ],
      "metadata": {
        "id": "p1znA3btkv77",
        "colab": {
          "base_uri": "https://localhost:8080/",
          "height": 162
        },
        "outputId": "23bd8e4f-0776-4b73-8007-33f80905b108"
      },
      "execution_count": null,
      "outputs": [
        {
          "output_type": "execute_result",
          "data": {
            "text/html": [
              "<img src=\"https://media.giphy.com/media/gG9fVWJdN41NeiHhzk/giphy.gif\"/>"
            ],
            "text/plain": [
              "<IPython.core.display.Image object>"
            ]
          },
          "metadata": {},
          "execution_count": 1
        }
      ]
    },
    {
      "cell_type": "markdown",
      "source": [
        "Load this code to be able to access data from your Google Drive, this gives permission to Colab to get files/data. Will be super useful in our next sessions."
      ],
      "metadata": {
        "id": "IoUX28f4sDb3"
      }
    },
    {
      "cell_type": "code",
      "source": [
        "from google.colab import drive\n",
        "drive.mount('/content/drive')"
      ],
      "metadata": {
        "id": "6PNyth1iJQj7"
      },
      "execution_count": null,
      "outputs": []
    },
    {
      "cell_type": "markdown",
      "metadata": {
        "id": "aolyrB1SHTAO"
      },
      "source": [
        "# Organizational"
      ]
    },
    {
      "cell_type": "markdown",
      "metadata": {
        "id": "TS05FBQpHTAO"
      },
      "source": [
        "- Class Overview\n",
        "- Class Times and Class Structure\n",
        "- Presentations and Python Lab\n",
        "- Introductions\n",
        "- Questions: Ashrakat.elshehawy@politics.ox.ac.uk"
      ]
    },
    {
      "cell_type": "code",
      "source": [
        "\n",
        "from IPython.display import Image\n",
        "Image(url='https://media.giphy.com/media/dUNNnf1vwvhRuGCBMb/giphy.gif')"
      ],
      "metadata": {
        "id": "1sADw-8JHO-P",
        "colab": {
          "base_uri": "https://localhost:8080/",
          "height": 291
        },
        "outputId": "c4a7a1eb-ff63-43de-832b-fcc7f1830e6f"
      },
      "execution_count": null,
      "outputs": [
        {
          "output_type": "execute_result",
          "data": {
            "text/html": [
              "<img src=\"https://media.giphy.com/media/dUNNnf1vwvhRuGCBMb/giphy.gif\"/>"
            ],
            "text/plain": [
              "<IPython.core.display.Image object>"
            ]
          },
          "metadata": {},
          "execution_count": 2
        }
      ]
    },
    {
      "cell_type": "markdown",
      "metadata": {
        "id": "rTzYMYslqrbv"
      },
      "source": [
        "# Github\n",
        "\n",
        "**Why use GitHub?**\n",
        "\n",
        "- Open Source\n",
        "- Have your code reviewed by the community\n",
        "- Give your projects visibility\n",
        "- Collaborate and track changes for your code visibly\n",
        "- Newsfeed with latest updates - You can  see what changes have been made in any other repositories you follow. \n",
        "- Explore repositories -  On the right of your dashboard, you can locate suggested repositories to follow — these suggestions are based on repositories you have followed or starrted."
      ]
    },
    {
      "cell_type": "markdown",
      "metadata": {
        "id": "SBrwX_Cqqrbw"
      },
      "source": [
        "**How do we use Github?**\n",
        "\n",
        "- Fork a rep: Create a new project based on a project that already exists - you can fork our repository to have a copy in your profile that you can edit https://github.com/aelshehawy/PythonSocialDataScience <br>\n",
        "Use fork to work on new features and submit pull requests containing your new changes to the original repository.\n",
        "- Pull Request:  Authors of the original repository can see your work & choose if they want to accept it to the official project.\n",
        "- Star: Bookmark repository\n",
        "- Desktop version is really nice, you can work on your computer, have a local copy of ' repositories, fetch updates from their "
      ]
    },
    {
      "cell_type": "markdown",
      "metadata": {
        "id": "AsNVbtEjqrbw"
      },
      "source": [
        "**Download our data for the class**\n",
        "\n",
        "You can download the whole repository with one click: https://github.com/aelshehawy/PythonSocialDataScience\n",
        "\n",
        "If you wanna download a specific Python sheet or csv file\n",
        "\n",
        "1. First click on Raw\n",
        "2. Then, press ctrl+s to save it as **.ipynb** or **csv**\n",
        "\n",
        "**I recommend using GitHub Desktop:** \n",
        "if you have forked our class's repository, then clone my repository on your computer and keep fetching changes.\n",
        "\n",
        "**Just explore and play with GitHub whe you have time**"
      ]
    },
    {
      "cell_type": "markdown",
      "metadata": {
        "id": "NA5ahqc7HTAP"
      },
      "source": [
        "# Install Jupyter Notebooks on your Local Drive"
      ]
    },
    {
      "cell_type": "markdown",
      "metadata": {
        "id": "QwJ1voyNHTAQ"
      },
      "source": [
        "What is a Jupyter Notebook:\n",
        "\n",
        " \"Jupyter Notebook is an open-source web application that allows you to create and share documents that contain live code, equations, visualizations and narrative text.\"\n",
        "\n",
        "_We will use Anaconda_ https://www.anaconda.com/products/distribution\n"
      ]
    },
    {
      "cell_type": "markdown",
      "metadata": {
        "id": "m90iWfa5HTAQ"
      },
      "source": [
        "in your terminal please enter:\n",
        "\n",
        "``pip install jupyterlab``\n",
        "\n",
        "if that doesnt work try:\n",
        "\n",
        "``conda install -c conda-forge jupyterlab``\n"
      ]
    },
    {
      "cell_type": "markdown",
      "metadata": {
        "id": "DWj_K5852UEV"
      },
      "source": [
        "# Google Colab Sheets\n",
        "\n",
        "- Can be used with browsers like Chrome of Firefox\n",
        "- Saves installation time and effort. Easily use available libraries.\n",
        "- All your notebooks can be saved directly in your Google Drive\n",
        "- Excellent for collaborations!\n",
        "- Check this link for more information https://colab.research.google.com/notebooks/basic_features_overview.ipynb"
      ]
    },
    {
      "cell_type": "markdown",
      "metadata": {
        "id": "O2u-LakX4UaF"
      },
      "source": [
        "### So how does it work?\n",
        "\n",
        "1. To create a new cell you click +\n",
        "2. To run a cell you need to press the play button\n",
        "3. You can create cells where you write text by clicking on the + Text button. Here is a cheat sheet [link](https://github.com/adam-p/markdown-here/wiki/Markdown-Cheatsheet) for markdown, probably you have already used it in R. \n",
        "4. If you need to clear everything that is saved in a python notebook (remove saved variables/data etc.). You can click on Edit and choose **clear all output**\n",
        "6. Save notebooks on your Google Drive - Don't forget!\n",
        "7. Useful Shortcuts under Tools: Example: Control m m will convert a code cell to a text cell. Control m y will convert a text cell to a code cell."
      ]
    },
    {
      "cell_type": "code",
      "source": [
        "1+2"
      ],
      "metadata": {
        "id": "YQlIJwJ9Y8hz"
      },
      "execution_count": null,
      "outputs": []
    },
    {
      "cell_type": "markdown",
      "metadata": {
        "id": "jjut3fVbHTAW"
      },
      "source": [
        "# What are we learning in this Python session today\n",
        "\n",
        "Mainly: Basic Operations of Python\n",
        "\n",
        "* Python Interactive Shell: Print Function\n",
        "* Assigning Variables and Values\n",
        "* Understanding Different Types of Objects in Python\n",
        "* Mathematical Operations\n",
        "* Boolean Operations \n",
        "\n",
        "Python Objects:\n",
        "\n",
        "* Transformation of Objects\n",
        "* Input function \n",
        "* Understanding Python Strings\n",
        "* Combining Objects\n",
        "* Libraries in Python\n",
        "* Data Structures and Container"
      ]
    },
    {
      "cell_type": "markdown",
      "metadata": {
        "id": "ijW8C9OkHTAX"
      },
      "source": [
        "# Python Interactive Shell"
      ]
    },
    {
      "cell_type": "markdown",
      "metadata": {
        "id": "tJBmww7lHTAX"
      },
      "source": [
        "### The print function\n",
        "Here you can use print() built in function for python to print strings, intergers etc. <br>\n",
        "To print a string you need to wrap it in \" \""
      ]
    },
    {
      "cell_type": "code",
      "execution_count": null,
      "metadata": {
        "id": "_SGIxfc-HTAY",
        "colab": {
          "base_uri": "https://localhost:8080/"
        },
        "outputId": "6813a7ef-1ded-4d42-9d3a-f68bacd039bb"
      },
      "outputs": [
        {
          "output_type": "stream",
          "name": "stdout",
          "text": [
            "Welcome to Text Analysis Class\n"
          ]
        }
      ],
      "source": [
        "print('Welcome to Text Analysis Class') #we use single or double quotation marks"
      ]
    },
    {
      "cell_type": "code",
      "execution_count": null,
      "metadata": {
        "collapsed": true,
        "id": "JvOKK2TLHTAZ",
        "colab": {
          "base_uri": "https://localhost:8080/"
        },
        "outputId": "03e325f1-a942-4193-a520-f0e3e44d3526"
      },
      "outputs": [
        {
          "output_type": "stream",
          "name": "stdout",
          "text": [
            "Welcome\n"
          ]
        }
      ],
      "source": [
        "print(\"Welcome\")"
      ]
    },
    {
      "cell_type": "code",
      "execution_count": null,
      "metadata": {
        "id": "UElzYfKYHTAa",
        "colab": {
          "base_uri": "https://localhost:8080/"
        },
        "outputId": "679888b5-a06b-4ffd-b05e-978f2e279d9b"
      },
      "outputs": [
        {
          "output_type": "stream",
          "name": "stdout",
          "text": [
            "Using this you can print strings\n"
          ]
        }
      ],
      "source": [
        "print(\"Using this you can print strings\")"
      ]
    },
    {
      "cell_type": "code",
      "execution_count": null,
      "metadata": {
        "id": "l7c18P7AHTAa",
        "colab": {
          "base_uri": "https://localhost:8080/"
        },
        "outputId": "690caba9-bf97-4025-9ce9-3be2cc1b5d63"
      },
      "outputs": [
        {
          "output_type": "stream",
          "name": "stdout",
          "text": [
            "5\n"
          ]
        }
      ],
      "source": [
        "print(5)"
      ]
    },
    {
      "cell_type": "code",
      "execution_count": null,
      "metadata": {
        "id": "s5QjFUn5HTAa",
        "colab": {
          "base_uri": "https://localhost:8080/"
        },
        "outputId": "dd37cd7a-4a70-4c64-8cb4-70aa4ab0650c"
      },
      "outputs": [
        {
          "output_type": "stream",
          "name": "stdout",
          "text": [
            "5 you can print also the digit 5 and combine it with a description\n"
          ]
        }
      ],
      "source": [
        "# you can print intergers and strings together like this - seperate with a comma\n",
        "print(5,\"you can print also the digit 5 and combine it with a description\")"
      ]
    },
    {
      "cell_type": "code",
      "execution_count": null,
      "metadata": {
        "collapsed": true,
        "id": "LRu3eA8JHTAb",
        "colab": {
          "base_uri": "https://localhost:8080/"
        },
        "outputId": "4c4e3f94-fa1c-4d8c-8b19-0a6285954c6c"
      },
      "outputs": [
        {
          "output_type": "stream",
          "name": "stdout",
          "text": [
            "35 you can print also the digits 35 and combine them with a description\n"
          ]
        }
      ],
      "source": [
        "# using the hashtag to comment out lines or comment your code\n",
        "print(5*7,\"you can print also the digits 35 and combine them with a description\")\n",
        "\n"
      ]
    },
    {
      "cell_type": "markdown",
      "metadata": {
        "id": "Jyh5v8UmHTAb"
      },
      "source": [
        "### Assign variable values\n",
        "here we save a value inside of a variable - exactly as we do with other statistical programmes like R and Stata"
      ]
    },
    {
      "cell_type": "code",
      "execution_count": null,
      "metadata": {
        "collapsed": true,
        "id": "RLu84-oqHTAc"
      },
      "outputs": [],
      "source": [
        "welcome=\"Welcome to Text Analysis Class\""
      ]
    },
    {
      "cell_type": "markdown",
      "metadata": {
        "id": "G3WHiT6PHTAc"
      },
      "source": [
        "as we saved the string within the variable welcome, we can use python's built in function print() to see what we have saved"
      ]
    },
    {
      "cell_type": "code",
      "execution_count": null,
      "metadata": {
        "id": "CcedsTZNHTAc",
        "colab": {
          "base_uri": "https://localhost:8080/"
        },
        "outputId": "fa73ad43-caf1-4d3e-eb15-ec04bc0ce675"
      },
      "outputs": [
        {
          "output_type": "stream",
          "name": "stdout",
          "text": [
            "Welcome to Text Analysis Class\n"
          ]
        }
      ],
      "source": [
        "print(welcome)"
      ]
    },
    {
      "cell_type": "code",
      "execution_count": null,
      "metadata": {
        "id": "tQEsAjtJHTAc",
        "colab": {
          "base_uri": "https://localhost:8080/",
          "height": 35
        },
        "outputId": "40a9db73-fc33-4705-e14c-dd5ae789c347"
      },
      "outputs": [
        {
          "output_type": "execute_result",
          "data": {
            "text/plain": [
              "'Welcome to Text Analysis Class'"
            ],
            "application/vnd.google.colaboratory.intrinsic+json": {
              "type": "string"
            }
          },
          "metadata": {},
          "execution_count": 9
        }
      ],
      "source": [
        "welcome"
      ]
    },
    {
      "cell_type": "markdown",
      "metadata": {
        "id": "Q-J2V1hkHTAd"
      },
      "source": [
        "Same goes with intergers and calculations"
      ]
    },
    {
      "cell_type": "code",
      "execution_count": null,
      "metadata": {
        "collapsed": true,
        "id": "tWM4LJOmHTAd"
      },
      "outputs": [],
      "source": [
        "calculation =(5*2*2)"
      ]
    },
    {
      "cell_type": "code",
      "execution_count": null,
      "metadata": {
        "id": "2hI2qoRxHTAd",
        "colab": {
          "base_uri": "https://localhost:8080/"
        },
        "outputId": "fbdfd83f-4900-410b-ff58-aebc1160699f"
      },
      "outputs": [
        {
          "output_type": "stream",
          "name": "stdout",
          "text": [
            "20\n"
          ]
        },
        {
          "output_type": "execute_result",
          "data": {
            "text/plain": [
              "20"
            ]
          },
          "metadata": {},
          "execution_count": 11
        }
      ],
      "source": [
        "print(calculation)\n",
        "calculation #the product of the evaluation"
      ]
    },
    {
      "cell_type": "markdown",
      "metadata": {
        "id": "tWP_pA2sHTAd"
      },
      "source": [
        "**Take care of overwritting**"
      ]
    },
    {
      "cell_type": "code",
      "execution_count": null,
      "metadata": {
        "id": "j2rdss40HTAd",
        "colab": {
          "base_uri": "https://localhost:8080/"
        },
        "outputId": "ac620e33-ce62-401e-d06b-0b69904de9db"
      },
      "outputs": [
        {
          "output_type": "execute_result",
          "data": {
            "text/plain": [
              "100"
            ]
          },
          "metadata": {},
          "execution_count": 12
        }
      ],
      "source": [
        "calculation=(10*10)\n",
        "calculation"
      ]
    },
    {
      "cell_type": "markdown",
      "metadata": {
        "id": "KX9tpbLRHTAe"
      },
      "source": [
        "using variables that we have already assigned"
      ]
    },
    {
      "cell_type": "code",
      "execution_count": null,
      "metadata": {
        "collapsed": true,
        "id": "XOUgong_HTAe"
      },
      "outputs": [],
      "source": [
        "# To calculate m=x+y\n",
        "x=7\n",
        "y=9"
      ]
    },
    {
      "cell_type": "code",
      "execution_count": null,
      "metadata": {
        "id": "CDkhbvmjHTAe",
        "colab": {
          "base_uri": "https://localhost:8080/"
        },
        "outputId": "b3034811-9b9b-404c-f536-2e1eaf5aad28"
      },
      "outputs": [
        {
          "output_type": "execute_result",
          "data": {
            "text/plain": [
              "7"
            ]
          },
          "metadata": {},
          "execution_count": 14
        }
      ],
      "source": [
        "x"
      ]
    },
    {
      "cell_type": "code",
      "execution_count": null,
      "metadata": {
        "id": "pdjBYYLNHTAe",
        "colab": {
          "base_uri": "https://localhost:8080/"
        },
        "outputId": "f6fb28fe-23d0-4520-e341-fd9b5f355a60"
      },
      "outputs": [
        {
          "output_type": "execute_result",
          "data": {
            "text/plain": [
              "9"
            ]
          },
          "metadata": {},
          "execution_count": 15
        }
      ],
      "source": [
        "y"
      ]
    },
    {
      "cell_type": "code",
      "execution_count": null,
      "metadata": {
        "id": "_iN-QP4wHTAf",
        "colab": {
          "base_uri": "https://localhost:8080/"
        },
        "outputId": "c6d0263e-6b05-4297-a2c4-50f316f8d326"
      },
      "outputs": [
        {
          "output_type": "execute_result",
          "data": {
            "text/plain": [
              "16"
            ]
          },
          "metadata": {},
          "execution_count": 16
        }
      ],
      "source": [
        "m=(x+y)\n",
        "m"
      ]
    },
    {
      "cell_type": "code",
      "execution_count": null,
      "metadata": {
        "id": "eDZFfRx0HTAf",
        "colab": {
          "base_uri": "https://localhost:8080/",
          "height": 184
        },
        "outputId": "3d792ad6-2a6f-47ef-a063-518891853d21"
      },
      "outputs": [
        {
          "output_type": "error",
          "ename": "NameError",
          "evalue": "ignored",
          "traceback": [
            "\u001b[0;31m---------------------------------------------------------------------------\u001b[0m",
            "\u001b[0;31mNameError\u001b[0m                                 Traceback (most recent call last)",
            "\u001b[0;32m<ipython-input-17-3e498d45d120>\u001b[0m in \u001b[0;36m<module>\u001b[0;34m\u001b[0m\n\u001b[0;32m----> 1\u001b[0;31m \u001b[0mz\u001b[0m \u001b[0;31m#z is not defined\u001b[0m\u001b[0;34m\u001b[0m\u001b[0;34m\u001b[0m\u001b[0m\n\u001b[0m\u001b[1;32m      2\u001b[0m \u001b[0mprint\u001b[0m\u001b[0;34m(\u001b[0m\u001b[0mz\u001b[0m\u001b[0;34m)\u001b[0m \u001b[0;31m#still not defined\u001b[0m\u001b[0;34m\u001b[0m\u001b[0;34m\u001b[0m\u001b[0m\n",
            "\u001b[0;31mNameError\u001b[0m: name 'z' is not defined"
          ]
        }
      ],
      "source": [
        "z #z is not defined\n",
        "print(z) #still not defined\n"
      ]
    },
    {
      "cell_type": "code",
      "execution_count": null,
      "metadata": {
        "id": "tfyjLIlPHTAg",
        "colab": {
          "base_uri": "https://localhost:8080/"
        },
        "outputId": "c2de3cd6-2141-4f08-a850-9cb6db3f9067"
      },
      "outputs": [
        {
          "output_type": "execute_result",
          "data": {
            "text/plain": [
              "6"
            ]
          },
          "metadata": {},
          "execution_count": 18
        }
      ],
      "source": [
        "A=3\n",
        "r=2\n",
        "multiplication=A*r\n",
        "multiplication"
      ]
    },
    {
      "cell_type": "code",
      "execution_count": null,
      "metadata": {
        "id": "u6QIpFu3HTAg",
        "colab": {
          "base_uri": "https://localhost:8080/"
        },
        "outputId": "c726bd9d-3c74-45aa-8b08-56c5d933cdc0"
      },
      "outputs": [
        {
          "output_type": "execute_result",
          "data": {
            "text/plain": [
              "(100, 'Welcome to Text Analysis Class', 16)"
            ]
          },
          "metadata": {},
          "execution_count": 19
        }
      ],
      "source": [
        "combine = (calculation, welcome, m)\n",
        "combine"
      ]
    },
    {
      "cell_type": "code",
      "execution_count": null,
      "metadata": {
        "id": "c3pe7fQtHTAg",
        "colab": {
          "base_uri": "https://localhost:8080/"
        },
        "outputId": "48eaf115-1b2e-4665-8dec-51c72f2d4a81"
      },
      "outputs": [
        {
          "output_type": "stream",
          "name": "stdout",
          "text": [
            "7\n"
          ]
        }
      ],
      "source": [
        "x=7\n",
        "x\n",
        "print(x)"
      ]
    },
    {
      "cell_type": "markdown",
      "metadata": {
        "id": "vYenaUAMHTAg"
      },
      "source": [
        "# What type of Object are we using?"
      ]
    },
    {
      "cell_type": "code",
      "execution_count": null,
      "metadata": {
        "id": "AJkSd9rYHTAh",
        "colab": {
          "base_uri": "https://localhost:8080/"
        },
        "outputId": "5db3cf5e-3d69-4b01-a94f-19708c088661"
      },
      "outputs": [
        {
          "output_type": "stream",
          "name": "stdout",
          "text": [
            "yes\n"
          ]
        }
      ],
      "source": [
        "object1=(\"yes\")\n",
        "print(object1)\n"
      ]
    },
    {
      "cell_type": "code",
      "execution_count": null,
      "metadata": {
        "id": "hZhiQVl_HTAh",
        "colab": {
          "base_uri": "https://localhost:8080/"
        },
        "outputId": "74d0d4de-61da-4963-beb3-0510e7a05c07"
      },
      "outputs": [
        {
          "output_type": "stream",
          "name": "stdout",
          "text": [
            "<class 'str'>\n"
          ]
        }
      ],
      "source": [
        "print(type(object1))"
      ]
    },
    {
      "cell_type": "code",
      "execution_count": null,
      "metadata": {
        "id": "lgH0dZveHTAh",
        "colab": {
          "base_uri": "https://localhost:8080/"
        },
        "outputId": "ac94bbf9-c362-496d-f344-0440dfc859f4"
      },
      "outputs": [
        {
          "output_type": "stream",
          "name": "stdout",
          "text": [
            "<class 'str'>\n"
          ]
        }
      ],
      "source": [
        "print(type(\"apple\")) "
      ]
    },
    {
      "cell_type": "code",
      "execution_count": null,
      "metadata": {
        "id": "V6ngsRRmHTAh"
      },
      "outputs": [],
      "source": [
        "print(type(5*10))"
      ]
    },
    {
      "cell_type": "code",
      "execution_count": null,
      "metadata": {
        "id": "YyJlXJGjHTAh"
      },
      "outputs": [],
      "source": [
        "#float: a number that has both an integer and fractional part, separated by a point.\n",
        "print(type(1.1))"
      ]
    },
    {
      "cell_type": "markdown",
      "metadata": {
        "id": "N3ssE3_1HTAi"
      },
      "source": [
        "# Maths"
      ]
    },
    {
      "cell_type": "code",
      "execution_count": null,
      "metadata": {
        "id": "Qsntt8WEHTAi"
      },
      "outputs": [],
      "source": [
        "#you can use python to perform mathematical operations\n",
        "5+5"
      ]
    },
    {
      "cell_type": "code",
      "execution_count": null,
      "metadata": {
        "id": "Ae1lvRsDHTAi"
      },
      "outputs": [],
      "source": [
        "#you can also use the print function to achieve the same thing\n",
        "print(5+5)"
      ]
    },
    {
      "cell_type": "code",
      "execution_count": null,
      "metadata": {
        "id": "0scgsSAHHTAi"
      },
      "outputs": [],
      "source": [
        "#multiplication\n",
        "5*5"
      ]
    },
    {
      "cell_type": "code",
      "execution_count": null,
      "metadata": {
        "id": "GU4nkpS6HTAi"
      },
      "outputs": [],
      "source": [
        "#Power\n",
        "5**5"
      ]
    },
    {
      "cell_type": "code",
      "execution_count": null,
      "metadata": {
        "id": "thjEzKk7HTAi"
      },
      "outputs": [],
      "source": [
        "# Multiplication, division interger, division float, remainder, and exponentiation\n",
        "print(3 * 5)\n",
        "print(10 / 3)\n",
        "print(10 // 3)\n",
        "print(18 % 7)\n",
        "print(4 ** 2)"
      ]
    },
    {
      "cell_type": "code",
      "execution_count": null,
      "metadata": {
        "id": "bNP23xGRHTAi"
      },
      "outputs": [],
      "source": [
        "A=11//2 #interger division\n",
        "print(A)"
      ]
    },
    {
      "cell_type": "code",
      "execution_count": null,
      "metadata": {
        "id": "XOWdWcNFHTAj"
      },
      "outputs": [],
      "source": [
        "A=11/2 #float division\n",
        "print(A)"
      ]
    },
    {
      "cell_type": "code",
      "execution_count": null,
      "metadata": {
        "collapsed": true,
        "id": "UBswO4ZPHTAj"
      },
      "outputs": [],
      "source": [
        "#It is important to know that python needs brackets to understand what it should calculate first\n",
        "#Lets experiment"
      ]
    },
    {
      "cell_type": "code",
      "execution_count": null,
      "metadata": {
        "id": "19NZv97xHTAj"
      },
      "outputs": [],
      "source": [
        "(1666-20+40)*(800-10)*(300+20)"
      ]
    },
    {
      "cell_type": "code",
      "execution_count": null,
      "metadata": {
        "id": "5kaUVI0qHTAj"
      },
      "outputs": [],
      "source": [
        "(1666-20+40*800-10*300+20)"
      ]
    },
    {
      "cell_type": "markdown",
      "metadata": {
        "id": "tUmb3F_wqrb_"
      },
      "source": [
        "# Boolean operations\n",
        "\n",
        "In programming you often need to know if an expression is True or False.\n",
        "\n",
        "When you compare two values, the expression is evaluated and Python returns the Boolean answer:\n",
        "\n"
      ]
    },
    {
      "cell_type": "code",
      "metadata": {
        "id": "OV7A25d-xs-_"
      },
      "source": [
        "print(type(True))"
      ],
      "execution_count": null,
      "outputs": []
    },
    {
      "cell_type": "code",
      "metadata": {
        "id": "tywbzI30x0Te",
        "colab": {
          "base_uri": "https://localhost:8080/"
        },
        "outputId": "d70e5f1a-7982-4098-d02c-be8e9d66ef43"
      },
      "source": [
        "print(100 < 2)\n",
        "print(3 > 7)\n",
        "\n"
      ],
      "execution_count": null,
      "outputs": [
        {
          "output_type": "stream",
          "name": "stdout",
          "text": [
            "False\n",
            "False\n"
          ]
        }
      ]
    },
    {
      "cell_type": "code",
      "metadata": {
        "id": "Q_4DyFr6Sj3L",
        "colab": {
          "base_uri": "https://localhost:8080/"
        },
        "outputId": "568e1db8-c8d8-4258-9e33-cd7472ee67df"
      },
      "source": [
        "print(2 <= 3)\n",
        "print(2 <= 2)\n",
        "print(3 >= 99)\n",
        "print(55 == 55)\n",
        "\n",
        "\n"
      ],
      "execution_count": null,
      "outputs": [
        {
          "output_type": "stream",
          "name": "stdout",
          "text": [
            "True\n",
            "True\n",
            "False\n",
            "True\n"
          ]
        }
      ]
    },
    {
      "cell_type": "code",
      "metadata": {
        "id": "f60lNmanSkBn",
        "colab": {
          "base_uri": "https://localhost:8080/"
        },
        "outputId": "2f4c5ef7-f935-4f4f-d5ab-9ebae50903ea"
      },
      "source": [
        "print(\"dpir\" == \"dpir\")\n",
        "print(\"dice\" != \"ice\")"
      ],
      "execution_count": null,
      "outputs": [
        {
          "output_type": "stream",
          "name": "stdout",
          "text": [
            "True\n",
            "True\n"
          ]
        }
      ]
    },
    {
      "cell_type": "code",
      "source": [
        "a=2\n",
        "b=2.5"
      ],
      "metadata": {
        "id": "VijutBpeGq9b"
      },
      "execution_count": null,
      "outputs": []
    },
    {
      "cell_type": "code",
      "metadata": {
        "id": "4OVW8jHyqrb_",
        "colab": {
          "base_uri": "https://localhost:8080/"
        },
        "outputId": "ef47f021-d20a-42c6-8563-299ee20ff062"
      },
      "source": [
        "a == b #these objects are equal to each other?"
      ],
      "execution_count": null,
      "outputs": [
        {
          "output_type": "execute_result",
          "data": {
            "text/plain": [
              "False"
            ]
          },
          "metadata": {},
          "execution_count": 83
        }
      ]
    },
    {
      "cell_type": "code",
      "metadata": {
        "id": "4_sU1mB3qrcA",
        "colab": {
          "base_uri": "https://localhost:8080/"
        },
        "outputId": "b2e6e85b-d668-47aa-fc43-659ea235a4dc"
      },
      "source": [
        "a!=b #these objects are not equal to each other?"
      ],
      "execution_count": null,
      "outputs": [
        {
          "output_type": "execute_result",
          "data": {
            "text/plain": [
              "True"
            ]
          },
          "metadata": {},
          "execution_count": 84
        }
      ]
    },
    {
      "cell_type": "markdown",
      "metadata": {
        "id": "yk6b24y-HTAk"
      },
      "source": [
        "# Transform Objects"
      ]
    },
    {
      "cell_type": "code",
      "execution_count": null,
      "metadata": {
        "id": "EPXPCQQkHTAl",
        "colab": {
          "base_uri": "https://localhost:8080/"
        },
        "outputId": "3dc8af48-e20a-4a93-8a40-252571a51306"
      },
      "outputs": [
        {
          "output_type": "execute_result",
          "data": {
            "text/plain": [
              "100"
            ]
          },
          "metadata": {},
          "execution_count": 85
        }
      ],
      "source": [
        "number1= 100\n",
        "number2= 2.3\n",
        "\n",
        "number1"
      ]
    },
    {
      "cell_type": "code",
      "execution_count": null,
      "metadata": {
        "id": "OFbEjEGvHTAl",
        "colab": {
          "base_uri": "https://localhost:8080/",
          "height": 35
        },
        "outputId": "70f7e35c-af9e-43ef-f882-e0815300587a"
      },
      "outputs": [
        {
          "output_type": "execute_result",
          "data": {
            "text/plain": [
              "'100'"
            ],
            "application/vnd.google.colaboratory.intrinsic+json": {
              "type": "string"
            }
          },
          "metadata": {},
          "execution_count": 86
        }
      ],
      "source": [
        "#transform to string\n",
        "numberx=str(number1)\n",
        "numberx"
      ]
    },
    {
      "cell_type": "code",
      "execution_count": null,
      "metadata": {
        "id": "3e13fkGFHTAl",
        "colab": {
          "base_uri": "https://localhost:8080/"
        },
        "outputId": "579db44b-60c5-4ed7-bd12-b664417f19ff"
      },
      "outputs": [
        {
          "output_type": "execute_result",
          "data": {
            "text/plain": [
              "2"
            ]
          },
          "metadata": {},
          "execution_count": 87
        }
      ],
      "source": [
        "#transform to interger\n",
        "int(number2)"
      ]
    },
    {
      "cell_type": "markdown",
      "metadata": {
        "id": "wjfXpWIiHTAl"
      },
      "source": [
        "# Input from keyboard"
      ]
    },
    {
      "cell_type": "code",
      "execution_count": null,
      "metadata": {
        "id": "kzGYT9VsHTAl",
        "colab": {
          "base_uri": "https://localhost:8080/"
        },
        "outputId": "9b6cc9bb-38d7-4ab9-eaa7-bbb5f203d8aa"
      },
      "outputs": [
        {
          "name": "stdout",
          "output_type": "stream",
          "text": [
            "Why are you here?\n",
            "\tlearn\n"
          ]
        }
      ],
      "source": [
        "answer_this_question = input (\"Why are you here?\\n\\t\")"
      ]
    },
    {
      "cell_type": "code",
      "execution_count": null,
      "metadata": {
        "id": "y11uVUD7HTAm",
        "colab": {
          "base_uri": "https://localhost:8080/",
          "height": 35
        },
        "outputId": "acf9a677-69f2-477b-9f8d-bec0870aef46"
      },
      "outputs": [
        {
          "output_type": "execute_result",
          "data": {
            "text/plain": [
              "'learn'"
            ],
            "application/vnd.google.colaboratory.intrinsic+json": {
              "type": "string"
            }
          },
          "metadata": {},
          "execution_count": 89
        }
      ],
      "source": [
        "answer_this_question"
      ]
    },
    {
      "cell_type": "code",
      "source": [
        "print(type(answer_this_question))"
      ],
      "metadata": {
        "colab": {
          "base_uri": "https://localhost:8080/"
        },
        "id": "lsnUCCSQhcnE",
        "outputId": "57d32294-845b-4702-b15c-61843aa18f12"
      },
      "execution_count": null,
      "outputs": [
        {
          "output_type": "stream",
          "name": "stdout",
          "text": [
            "<class 'str'>\n"
          ]
        }
      ]
    },
    {
      "cell_type": "code",
      "source": [
        "#################################################################################"
      ],
      "metadata": {
        "id": "aFQ5Bk11_IsP"
      },
      "execution_count": null,
      "outputs": []
    },
    {
      "cell_type": "markdown",
      "metadata": {
        "id": "jBPWWqmFbopc"
      },
      "source": [
        "# Combining objects\n"
      ]
    },
    {
      "cell_type": "code",
      "execution_count": null,
      "metadata": {
        "id": "8Xugwb6Abopd",
        "colab": {
          "base_uri": "https://localhost:8080/",
          "height": 35
        },
        "outputId": "1bd0533a-55c0-4492-dd18-28a58ec3ccad"
      },
      "outputs": [
        {
          "output_type": "execute_result",
          "data": {
            "text/plain": [
              "\"weare learning python'\""
            ],
            "application/vnd.google.colaboratory.intrinsic+json": {
              "type": "string"
            }
          },
          "metadata": {},
          "execution_count": 25
        }
      ],
      "source": [
        "#combine strings\n",
        "text = \"we\"+ \" \"+ \"are \"+\"learning \" + \"python'\"\n",
        "\n",
        "text"
      ]
    },
    {
      "cell_type": "code",
      "execution_count": null,
      "metadata": {
        "id": "wg9pxm7Ybopg",
        "colab": {
          "base_uri": "https://localhost:8080/"
        },
        "outputId": "460a9d14-0c9e-4a64-e103-087d49a9951c"
      },
      "outputs": [
        {
          "output_type": "stream",
          "name": "stdout",
          "text": [
            "2 3\n",
            "<class 'str'>\n"
          ]
        }
      ],
      "source": [
        "intergers=\"2\"+\" \"+\"3\"\n",
        "print(intergers)\n",
        "print(type(intergers))"
      ]
    },
    {
      "cell_type": "code",
      "execution_count": null,
      "metadata": {
        "id": "EdeD8b3abopl",
        "colab": {
          "base_uri": "https://localhost:8080/"
        },
        "outputId": "de6e07b1-9220-4ecf-df67-88bb0b5942c4"
      },
      "outputs": [
        {
          "output_type": "stream",
          "name": "stdout",
          "text": [
            "<class 'int'>\n"
          ]
        },
        {
          "output_type": "execute_result",
          "data": {
            "text/plain": [
              "5"
            ]
          },
          "metadata": {},
          "execution_count": 27
        }
      ],
      "source": [
        "intergers=2+3\n",
        "intergers\n",
        "# see the difference between this and the cell above?\n",
        "print(type(intergers))\n",
        "intergers"
      ]
    },
    {
      "cell_type": "code",
      "execution_count": null,
      "metadata": {
        "id": "GW7VtlSTbopn",
        "colab": {
          "base_uri": "https://localhost:8080/"
        },
        "outputId": "5c9582aa-fac4-42b7-b0c5-c21461650fd2"
      },
      "outputs": [
        {
          "output_type": "stream",
          "name": "stdout",
          "text": [
            "555\n"
          ]
        }
      ],
      "source": [
        "#conversions - we talked about transforming types of objects last week\n",
        "#we can save an item as string here s1=\"5\"\n",
        "s1=\"5\"\n",
        "x= s1 *3 #we transform first s1 as interger and then we multiply it by 3\n",
        "print (x) # 5*3=15"
      ]
    },
    {
      "cell_type": "code",
      "execution_count": null,
      "metadata": {
        "id": "4A9j-KvEbopp",
        "colab": {
          "base_uri": "https://localhost:8080/"
        },
        "outputId": "6fff74b2-ebbe-47a0-c4ea-e93205f93092"
      },
      "outputs": [
        {
          "output_type": "execute_result",
          "data": {
            "text/plain": [
              "False"
            ]
          },
          "metadata": {},
          "execution_count": 29
        }
      ],
      "source": [
        "\"a\"==\"A\""
      ]
    },
    {
      "cell_type": "code",
      "source": [],
      "metadata": {
        "id": "sbul4BByb5OR"
      },
      "execution_count": null,
      "outputs": []
    },
    {
      "cell_type": "markdown",
      "metadata": {
        "id": "g8Qcp-Ebbopr"
      },
      "source": [
        "# Understanding Python Strings"
      ]
    },
    {
      "cell_type": "markdown",
      "metadata": {
        "id": "vtl5qXiKbops"
      },
      "source": [
        "Inputting a string"
      ]
    },
    {
      "cell_type": "code",
      "execution_count": null,
      "metadata": {
        "id": "OeuhmDeZbopt",
        "colab": {
          "base_uri": "https://localhost:8080/"
        },
        "outputId": "5973bf08-b0a5-4d1c-bb4d-00985983ad1d"
      },
      "outputs": [
        {
          "output_type": "stream",
          "name": "stdout",
          "text": [
            "Hi this is session one\n"
          ]
        }
      ],
      "source": [
        "#it doesnt matter whether you use single or double quoted strings to save a string object\n",
        "string1 = \"Hi this is session one\"\n",
        "string2 = 'And I am loving python'\n",
        "print (string1)\n",
        "\n"
      ]
    },
    {
      "cell_type": "code",
      "execution_count": null,
      "metadata": {
        "id": "kxzejveYbopu",
        "colab": {
          "base_uri": "https://localhost:8080/"
        },
        "outputId": "81038e19-32e1-4cb9-a7ef-8ab7b668a9e2"
      },
      "outputs": [
        {
          "output_type": "stream",
          "name": "stdout",
          "text": [
            "Hi this is session one\n"
          ]
        }
      ],
      "source": [
        "print(string1)"
      ]
    },
    {
      "cell_type": "code",
      "execution_count": null,
      "metadata": {
        "id": "ofJFIPxzbopv",
        "colab": {
          "base_uri": "https://localhost:8080/"
        },
        "outputId": "c3125e5a-2c27-4e73-fa49-95700e2c539b"
      },
      "outputs": [
        {
          "output_type": "stream",
          "name": "stdout",
          "text": [
            "And I am loving python\n"
          ]
        }
      ],
      "source": [
        "print(string2)"
      ]
    },
    {
      "cell_type": "markdown",
      "metadata": {
        "id": "CwtQvfv0bopw"
      },
      "source": [
        "what if we wanna make sure if there is a specific word in the saved string?\n"
      ]
    },
    {
      "cell_type": "code",
      "execution_count": null,
      "metadata": {
        "id": "-0ZUmHahbopx",
        "colab": {
          "base_uri": "https://localhost:8080/"
        },
        "outputId": "cf331063-188d-48f7-c96a-853599514b08"
      },
      "outputs": [
        {
          "output_type": "execute_result",
          "data": {
            "text/plain": [
              "False"
            ]
          },
          "metadata": {},
          "execution_count": 34
        }
      ],
      "source": [
        "\"is\" in string2"
      ]
    },
    {
      "cell_type": "code",
      "execution_count": null,
      "metadata": {
        "id": "WT5UZtMebopx",
        "colab": {
          "base_uri": "https://localhost:8080/"
        },
        "outputId": "51c63ef9-8292-4e54-e604-2c951d3e792b"
      },
      "outputs": [
        {
          "output_type": "execute_result",
          "data": {
            "text/plain": [
              "True"
            ]
          },
          "metadata": {},
          "execution_count": 35
        }
      ],
      "source": [
        "\"am\" in string2"
      ]
    },
    {
      "cell_type": "markdown",
      "metadata": {
        "id": "NC9wuKOQbop0"
      },
      "source": [
        "# Manipulate string"
      ]
    },
    {
      "cell_type": "code",
      "execution_count": null,
      "metadata": {
        "collapsed": true,
        "id": "y-RFalhFbop1"
      },
      "outputs": [],
      "source": [
        "myname=\"my is ashrakat\""
      ]
    },
    {
      "cell_type": "code",
      "execution_count": null,
      "metadata": {
        "id": "KY5cxCC3bop2",
        "colab": {
          "base_uri": "https://localhost:8080/"
        },
        "outputId": "fee9c2ee-b0a4-481f-bf4d-2c976c63ead8"
      },
      "outputs": [
        {
          "output_type": "stream",
          "name": "stdout",
          "text": [
            "My Is Ashrakat\n"
          ]
        }
      ],
      "source": [
        "#if I want to make letter uppercase\n",
        "print(myname.title())"
      ]
    },
    {
      "cell_type": "code",
      "source": [
        "print (myname.lower())"
      ],
      "metadata": {
        "colab": {
          "base_uri": "https://localhost:8080/"
        },
        "id": "WNQjiQoJr82s",
        "outputId": "f0a41a6f-9291-4ebd-9c3d-c90ae4b21c23"
      },
      "execution_count": null,
      "outputs": [
        {
          "output_type": "stream",
          "name": "stdout",
          "text": [
            "my is ashrakat\n"
          ]
        }
      ]
    },
    {
      "cell_type": "code",
      "execution_count": null,
      "metadata": {
        "id": "e_bj20vtbop3",
        "colab": {
          "base_uri": "https://localhost:8080/"
        },
        "outputId": "1e7b5cc0-c58a-47d0-a454-fb593ba19191"
      },
      "outputs": [
        {
          "output_type": "stream",
          "name": "stdout",
          "text": [
            "MY IS ASHRAKAT\n"
          ]
        }
      ],
      "source": [
        "#if I want to make the whole string uppercase\n",
        "print (myname.upper())"
      ]
    },
    {
      "cell_type": "markdown",
      "metadata": {
        "id": "r7TVKxbYbop4"
      },
      "source": [
        "#### Strip space"
      ]
    },
    {
      "cell_type": "code",
      "execution_count": null,
      "metadata": {
        "collapsed": true,
        "id": "pWnN6cAnbop5",
        "colab": {
          "base_uri": "https://localhost:8080/"
        },
        "outputId": "e848da7d-2731-4556-b1a7-42420e62215d"
      },
      "outputs": [
        {
          "output_type": "stream",
          "name": "stdout",
          "text": [
            " University of Oxford \n"
          ]
        }
      ],
      "source": [
        "university=\" University of Oxford \"\n",
        "print(university)"
      ]
    },
    {
      "cell_type": "code",
      "execution_count": null,
      "metadata": {
        "id": "cxOAZ-w2bop6",
        "colab": {
          "base_uri": "https://localhost:8080/"
        },
        "outputId": "b04d8c9f-c228-461c-f40e-38b9e810ca2f"
      },
      "outputs": [
        {
          "output_type": "stream",
          "name": "stdout",
          "text": [
            "University of Oxford\n"
          ]
        }
      ],
      "source": [
        "#remove all leading and ending spaces\n",
        "university1=university.strip()\n",
        "print(university1)"
      ]
    },
    {
      "cell_type": "code",
      "execution_count": null,
      "metadata": {
        "id": "FKa-F5JYbop6",
        "colab": {
          "base_uri": "https://localhost:8080/",
          "height": 35
        },
        "outputId": "429bdb4d-27ef-4fb0-9559-bcb546aff99b"
      },
      "outputs": [
        {
          "output_type": "execute_result",
          "data": {
            "text/plain": [
              "'UniversityofOxford'"
            ],
            "application/vnd.google.colaboratory.intrinsic+json": {
              "type": "string"
            }
          },
          "metadata": {},
          "execution_count": 42
        }
      ],
      "source": [
        "#remove all space characters in sentence\n",
        "university.replace(\" \", \"\")\n"
      ]
    },
    {
      "cell_type": "code",
      "source": [
        "#we can replace letters as well\n",
        "university2=university.replace(\"U\", \"z\")\n",
        "university2"
      ],
      "metadata": {
        "id": "0PtJ1Rl2pxYl",
        "colab": {
          "base_uri": "https://localhost:8080/",
          "height": 35
        },
        "outputId": "c8af5f33-971b-4d00-c644-af935aea6e2e"
      },
      "execution_count": null,
      "outputs": [
        {
          "output_type": "execute_result",
          "data": {
            "text/plain": [
              "' zniversity of Oxford '"
            ],
            "application/vnd.google.colaboratory.intrinsic+json": {
              "type": "string"
            }
          },
          "metadata": {},
          "execution_count": 43
        }
      ]
    },
    {
      "cell_type": "markdown",
      "metadata": {
        "id": "xz03j3vJbop7"
      },
      "source": [
        "#### Count number of words and letters"
      ]
    },
    {
      "cell_type": "code",
      "execution_count": null,
      "metadata": {
        "id": "Tweo7Tkabop7",
        "colab": {
          "base_uri": "https://localhost:8080/"
        },
        "outputId": "7f06d457-380f-42a0-9313-58b80a522261"
      },
      "outputs": [
        {
          "output_type": "execute_result",
          "data": {
            "text/plain": [
              "26"
            ]
          },
          "metadata": {},
          "execution_count": 44
        }
      ],
      "source": [
        "#count number of charachters incluing white space\n",
        "university=\"University of Oxford in Oxford\"\n",
        "#university=university.replace(\" \", \"\") if we use this we remove the while space and the count without replace\n",
        "len(university.replace(\" \",\"\"))"
      ]
    },
    {
      "cell_type": "code",
      "execution_count": null,
      "metadata": {
        "id": "SrWIkF6ibop9",
        "colab": {
          "base_uri": "https://localhost:8080/"
        },
        "outputId": "cb6f9a1c-68e0-41db-9198-78c09a38a822"
      },
      "outputs": [
        {
          "output_type": "execute_result",
          "data": {
            "text/plain": [
              "5"
            ]
          },
          "metadata": {},
          "execution_count": 45
        }
      ],
      "source": [
        "#count number of words - splitting on white space\n",
        "len(university.split())\n"
      ]
    },
    {
      "cell_type": "code",
      "execution_count": null,
      "metadata": {
        "collapsed": true,
        "id": "RsdoUm61bop9",
        "colab": {
          "base_uri": "https://localhost:8080/"
        },
        "outputId": "fc34edcd-315a-4744-81de-2b1551eed8fa"
      },
      "outputs": [
        {
          "output_type": "execute_result",
          "data": {
            "text/plain": [
              "['University', 'of', 'Oxford', 'in', 'Oxford']"
            ]
          },
          "metadata": {},
          "execution_count": 46
        }
      ],
      "source": [
        "uni=university.split()# split function splits by white-space\n",
        "uni"
      ]
    },
    {
      "cell_type": "code",
      "execution_count": null,
      "metadata": {
        "id": "m8wYO6Vcbop-",
        "colab": {
          "base_uri": "https://localhost:8080/"
        },
        "outputId": "5519149b-5ca7-4e94-baf8-c53d16023f58"
      },
      "outputs": [
        {
          "output_type": "stream",
          "name": "stdout",
          "text": [
            "4\n",
            "1\n"
          ]
        }
      ],
      "source": [
        "#count number of occurence of letter\n",
        "print(university.count(' '))\n",
        "print(university.count('U'))"
      ]
    },
    {
      "cell_type": "markdown",
      "metadata": {
        "id": "3-bIGrB4bop-"
      },
      "source": [
        "# Libraries in Python"
      ]
    },
    {
      "cell_type": "markdown",
      "metadata": {
        "id": "pUqi5F_nbop_"
      },
      "source": [
        "Usually you enter in terminal ``pip install [project name]``, best is to check source documentation of project. <br\\>\n",
        "Example: https://pypi.org/project/Counter/"
      ]
    },
    {
      "cell_type": "code",
      "execution_count": null,
      "metadata": {
        "id": "_ZfnQfeMbop_",
        "colab": {
          "base_uri": "https://localhost:8080/"
        },
        "outputId": "0d0b2e81-7b74-47ce-9adc-7c3015439737"
      },
      "outputs": [
        {
          "output_type": "execute_result",
          "data": {
            "text/plain": [
              "Counter({'U': 1,\n",
              "         'n': 1,\n",
              "         'i': 2,\n",
              "         'v': 1,\n",
              "         'e': 1,\n",
              "         'r': 2,\n",
              "         's': 1,\n",
              "         't': 1,\n",
              "         'y': 1,\n",
              "         ' ': 2,\n",
              "         'o': 2,\n",
              "         'f': 2,\n",
              "         'O': 1,\n",
              "         'x': 1,\n",
              "         'd': 1})"
            ]
          },
          "metadata": {},
          "execution_count": 47
        }
      ],
      "source": [
        "# you need a library to count faster, this is a very powerful library that we wil use in the future\n",
        "from collections import Counter\n",
        "uni=\"University of Oxford\"\n",
        "Counter(uni) # here we count how much each letter appears, counter can do much more"
      ]
    },
    {
      "cell_type": "code",
      "source": [
        "Counter(uni.split())\n"
      ],
      "metadata": {
        "id": "2OQF_XwVeChz",
        "colab": {
          "base_uri": "https://localhost:8080/"
        },
        "outputId": "090e439c-feca-4103-cc4f-f8c59166c6cb"
      },
      "execution_count": null,
      "outputs": [
        {
          "output_type": "execute_result",
          "data": {
            "text/plain": [
              "Counter({'University': 1, 'of': 1, 'Oxford': 1})"
            ]
          },
          "metadata": {},
          "execution_count": 48
        }
      ]
    },
    {
      "cell_type": "markdown",
      "metadata": {
        "id": "2gDFH22lbop_"
      },
      "source": [
        "# Data Structures in Python"
      ]
    },
    {
      "cell_type": "markdown",
      "metadata": {
        "id": "qmTCjAnKboqA"
      },
      "source": [
        "### Lists\n",
        "\n",
        "ordered, changable, allows duplicated items"
      ]
    },
    {
      "cell_type": "markdown",
      "source": [
        "create empty list"
      ],
      "metadata": {
        "id": "EViiGhy1EX9p"
      }
    },
    {
      "cell_type": "code",
      "source": [
        "# Create an empty list to hold our users.\n",
        "usernames = []\n",
        "print(usernames)\n"
      ],
      "metadata": {
        "colab": {
          "base_uri": "https://localhost:8080/",
          "height": 0
        },
        "id": "yG1Ug2vtEaKl",
        "outputId": "c70fb53e-2f94-4e62-9b5b-7e865acae0e9"
      },
      "execution_count": 49,
      "outputs": [
        {
          "output_type": "stream",
          "name": "stdout",
          "text": [
            "[]\n"
          ]
        }
      ]
    },
    {
      "cell_type": "code",
      "source": [
        "# Add some users.\n",
        "usernames.append('user1')\n",
        "usernames.append('user2')\n",
        "usernames.append('user3')\n",
        "usernames.append(int(\"3\"))\n",
        "print(usernames)"
      ],
      "metadata": {
        "colab": {
          "base_uri": "https://localhost:8080/",
          "height": 0
        },
        "id": "W91FHSbREjJx",
        "outputId": "4e5d7997-f3a0-4d5f-ed18-c12ecfb196be"
      },
      "execution_count": 50,
      "outputs": [
        {
          "output_type": "stream",
          "name": "stdout",
          "text": [
            "['user1', 'user2', 'user3', 3]\n"
          ]
        }
      ]
    },
    {
      "cell_type": "markdown",
      "source": [
        "creating lists and checking length"
      ],
      "metadata": {
        "id": "8a1WJ7nHEmsT"
      }
    },
    {
      "cell_type": "code",
      "execution_count": 51,
      "metadata": {
        "id": "cYp0T1c7boqA",
        "colab": {
          "base_uri": "https://localhost:8080/",
          "height": 0
        },
        "outputId": "2c5f056c-563e-41aa-d804-cff44fbf324a"
      },
      "outputs": [
        {
          "output_type": "stream",
          "name": "stdout",
          "text": [
            "['baking', 'zoom', 'productiveness', 'instagram', 'netflix', 'social distancing']\n"
          ]
        }
      ],
      "source": [
        "quarantine =['baking','zoom',\"productiveness\",\"instagram\",\"netflix\",\"social distancing\"]\n",
        "print(quarantine)\n"
      ]
    },
    {
      "cell_type": "code",
      "execution_count": 52,
      "metadata": {
        "id": "g9W6dEfIboqA",
        "colab": {
          "base_uri": "https://localhost:8080/",
          "height": 0
        },
        "outputId": "c1773471-bcea-4794-b1e1-6d39c354a09a"
      },
      "outputs": [
        {
          "output_type": "stream",
          "name": "stdout",
          "text": [
            "[2, 5, 6, 2, 3, 4]\n"
          ]
        }
      ],
      "source": [
        "random=[2,5,6,2,3,4]\n",
        "print(random)"
      ]
    },
    {
      "cell_type": "code",
      "execution_count": 53,
      "metadata": {
        "id": "NUYP6t93boqB",
        "colab": {
          "base_uri": "https://localhost:8080/",
          "height": 0
        },
        "outputId": "e529b786-a98e-4405-fd49-7f2aaa856df2"
      },
      "outputs": [
        {
          "output_type": "stream",
          "name": "stdout",
          "text": [
            "6\n",
            "6\n"
          ]
        }
      ],
      "source": [
        "print(len(quarantine)) # we see we have 6 items in our list\n",
        "print(len(random))"
      ]
    },
    {
      "cell_type": "markdown",
      "source": [
        "insert list item"
      ],
      "metadata": {
        "id": "tur4fUMVExuJ"
      }
    },
    {
      "cell_type": "code",
      "source": [
        "quarantine =['baking','zoom',\"productiveness\",\"instagram\",\"netflix\",\"social distancing\"]\n",
        "quarantine.insert(1,\"masking\")\n",
        "print(quarantine)"
      ],
      "metadata": {
        "colab": {
          "base_uri": "https://localhost:8080/",
          "height": 0
        },
        "id": "swQOXOSDEyFw",
        "outputId": "c02ae6b4-2632-446e-e2d2-83572fa9d957"
      },
      "execution_count": 54,
      "outputs": [
        {
          "output_type": "stream",
          "name": "stdout",
          "text": [
            "['baking', 'masking', 'zoom', 'productiveness', 'instagram', 'netflix', 'social distancing']\n"
          ]
        }
      ]
    },
    {
      "cell_type": "markdown",
      "source": [
        "modifying list elements"
      ],
      "metadata": {
        "id": "5cFfqtRnFR42"
      }
    },
    {
      "cell_type": "code",
      "source": [
        "\n",
        "quarantine[0] = 'lockdown'\n",
        "print(quarantine)"
      ],
      "metadata": {
        "colab": {
          "base_uri": "https://localhost:8080/",
          "height": 0
        },
        "id": "NPqVk_cTFSgo",
        "outputId": "5f189d27-3f03-4662-95dc-237687d6de99"
      },
      "execution_count": 55,
      "outputs": [
        {
          "output_type": "stream",
          "name": "stdout",
          "text": [
            "['lockdown', 'masking', 'zoom', 'productiveness', 'instagram', 'netflix', 'social distancing']\n"
          ]
        }
      ]
    },
    {
      "cell_type": "code",
      "source": [
        "quarantine.insert(0,\"backing\")\n",
        "print(quarantine)"
      ],
      "metadata": {
        "colab": {
          "base_uri": "https://localhost:8080/",
          "height": 0
        },
        "id": "Zfe2gxW7yFYN",
        "outputId": "ddeff42c-2d8d-4754-cbe3-65cf95c8b1f1"
      },
      "execution_count": 56,
      "outputs": [
        {
          "output_type": "stream",
          "name": "stdout",
          "text": [
            "['backing', 'lockdown', 'masking', 'zoom', 'productiveness', 'instagram', 'netflix', 'social distancing']\n"
          ]
        }
      ]
    },
    {
      "cell_type": "markdown",
      "metadata": {
        "id": "Svth87UCboqB"
      },
      "source": [
        "**VERY IMPORTANT** In Python counting of items/observations always starts with 0"
      ]
    },
    {
      "cell_type": "markdown",
      "source": [
        "access list items"
      ],
      "metadata": {
        "id": "w-SHhhl8E_z4"
      }
    },
    {
      "cell_type": "code",
      "source": [
        "quarantine"
      ],
      "metadata": {
        "colab": {
          "base_uri": "https://localhost:8080/",
          "height": 0
        },
        "id": "911sPm_dySvB",
        "outputId": "ab621182-7943-460f-e035-154d2f6b53b9"
      },
      "execution_count": 57,
      "outputs": [
        {
          "output_type": "execute_result",
          "data": {
            "text/plain": [
              "['backing',\n",
              " 'lockdown',\n",
              " 'masking',\n",
              " 'zoom',\n",
              " 'productiveness',\n",
              " 'instagram',\n",
              " 'netflix',\n",
              " 'social distancing']"
            ]
          },
          "metadata": {},
          "execution_count": 57
        }
      ]
    },
    {
      "cell_type": "code",
      "execution_count": 58,
      "metadata": {
        "id": "CioSMBnUboqC",
        "colab": {
          "base_uri": "https://localhost:8080/",
          "height": 0
        },
        "outputId": "71d52544-36cc-4bf5-877f-7512d850983c"
      },
      "outputs": [
        {
          "output_type": "stream",
          "name": "stdout",
          "text": [
            "instagram\n"
          ]
        }
      ],
      "source": [
        "item5=quarantine[5]\n",
        "print(item5)"
      ]
    },
    {
      "cell_type": "code",
      "execution_count": 59,
      "metadata": {
        "id": "lbx37rLDboqC",
        "colab": {
          "base_uri": "https://localhost:8080/",
          "height": 35
        },
        "outputId": "d7147959-b245-4890-eb82-a20393640b74"
      },
      "outputs": [
        {
          "output_type": "execute_result",
          "data": {
            "text/plain": [
              "'backing'"
            ],
            "application/vnd.google.colaboratory.intrinsic+json": {
              "type": "string"
            }
          },
          "metadata": {},
          "execution_count": 59
        }
      ],
      "source": [
        "#select items\n",
        "quarantine_food_edition=quarantine[0] #acess item 1\n",
        "quarantine_food_edition"
      ]
    },
    {
      "cell_type": "code",
      "execution_count": 60,
      "metadata": {
        "id": "H7hG9IgxboqE",
        "colab": {
          "base_uri": "https://localhost:8080/",
          "height": 0
        },
        "outputId": "7f6d13fc-5daa-4014-8d30-b83c36c1947a"
      },
      "outputs": [
        {
          "output_type": "execute_result",
          "data": {
            "text/plain": [
              "['backing', 'lockdown']"
            ]
          },
          "metadata": {},
          "execution_count": 60
        }
      ],
      "source": [
        "#select range, slice slice\n",
        "quarantine_fun_edition=quarantine[:2]\n",
        "quarantine_fun_edition"
      ]
    },
    {
      "cell_type": "code",
      "source": [
        "#accessing last item\n",
        "print(quarantine)\n",
        "quarantine2 = quarantine[-1]\n",
        "print(quarantine2)\n",
        "print(quarantine2.title()) #upper case first letter of each word\n"
      ],
      "metadata": {
        "colab": {
          "base_uri": "https://localhost:8080/",
          "height": 0
        },
        "id": "uFfpOI57FhYG",
        "outputId": "8a915283-ee0f-4548-c544-2b47c9f22690"
      },
      "execution_count": 61,
      "outputs": [
        {
          "output_type": "stream",
          "name": "stdout",
          "text": [
            "['backing', 'lockdown', 'masking', 'zoom', 'productiveness', 'instagram', 'netflix', 'social distancing']\n",
            "social distancing\n",
            "Social Distancing\n"
          ]
        }
      ]
    },
    {
      "cell_type": "markdown",
      "source": [
        "sort numerical list"
      ],
      "metadata": {
        "id": "bfHj1fy9EHRz"
      }
    },
    {
      "cell_type": "code",
      "source": [
        "numbers = [1, 3, 4, 2]\n",
        "\n",
        "# sort() puts numbers in increasing order.\n",
        "numbers.sort()\n",
        "print(numbers)"
      ],
      "metadata": {
        "colab": {
          "base_uri": "https://localhost:8080/",
          "height": 0
        },
        "id": "XWK0XYY4EGdK",
        "outputId": "aedf3970-ba75-4acb-bea6-c908da75b3bf"
      },
      "execution_count": 62,
      "outputs": [
        {
          "output_type": "stream",
          "name": "stdout",
          "text": [
            "[1, 2, 3, 4]\n"
          ]
        }
      ]
    },
    {
      "cell_type": "code",
      "source": [
        "numbers = [1, 3, 4, 2]\n",
        "\n",
        "# The reverse() function also works for numerical lists.\n",
        "numbers.reverse()\n",
        "print(numbers)"
      ],
      "metadata": {
        "colab": {
          "base_uri": "https://localhost:8080/",
          "height": 0
        },
        "id": "aXSFGabeELkU",
        "outputId": "18f9be48-1bf2-4ec1-d155-eb6517f56eba"
      },
      "execution_count": 63,
      "outputs": [
        {
          "output_type": "stream",
          "name": "stdout",
          "text": [
            "[2, 4, 3, 1]\n"
          ]
        }
      ]
    },
    {
      "cell_type": "markdown",
      "source": [
        "removing items by value\n",
        "\n",
        "Be careful: only the first item with this value is removed. If you have multiple items with the same value, you will have some items with this value left in your list.\n",
        "\n"
      ],
      "metadata": {
        "id": "iGjPWQQ0Dasi"
      }
    },
    {
      "cell_type": "code",
      "source": [
        "letters = ['a', 'b', 'c', 'a', 'b', 'c']\n",
        "# Remove the letter a from the list.\n",
        "letters.remove('a')\n",
        "\n",
        "print(letters)"
      ],
      "metadata": {
        "colab": {
          "base_uri": "https://localhost:8080/",
          "height": 0
        },
        "id": "ibSb8QgxDdPu",
        "outputId": "d26b9e65-6fed-4fdd-d375-825ee44f5500"
      },
      "execution_count": 64,
      "outputs": [
        {
          "output_type": "stream",
          "name": "stdout",
          "text": [
            "['b', 'c', 'a', 'b', 'c']\n"
          ]
        }
      ]
    },
    {
      "cell_type": "markdown",
      "source": [
        "Popping items from list:\n",
        "\n",
        "The pop() function removes the last item from the list, and gives it to us so we can work with it. \n",
        "\n",
        "This is easier to show with an example:"
      ],
      "metadata": {
        "id": "m3m3TZkUC2dX"
      }
    },
    {
      "cell_type": "code",
      "source": [
        "beach = ['sun', 'sand', 'waves']\n",
        "last_item_beach = beach.pop()\n",
        "\n",
        "print(last_item_beach)\n",
        "print(beach)\n"
      ],
      "metadata": {
        "colab": {
          "base_uri": "https://localhost:8080/",
          "height": 0
        },
        "id": "1geQR8BVC59I",
        "outputId": "fc93bd2f-9eea-45b8-a338-95b6fc33b6c3"
      },
      "execution_count": 65,
      "outputs": [
        {
          "output_type": "stream",
          "name": "stdout",
          "text": [
            "waves\n",
            "['sun', 'sand']\n"
          ]
        }
      ]
    },
    {
      "cell_type": "code",
      "source": [
        "beach = ['sun', 'sand', 'waves']\n",
        "last_item_beach = beach.pop(0)\n",
        "\n",
        "print(last_item_beach)\n",
        "print(beach)"
      ],
      "metadata": {
        "colab": {
          "base_uri": "https://localhost:8080/",
          "height": 0
        },
        "id": "pUL8AvC2DUo0",
        "outputId": "71b6ec08-81f4-4190-b1b0-1eaafe4b3a37"
      },
      "execution_count": 66,
      "outputs": [
        {
          "output_type": "stream",
          "name": "stdout",
          "text": [
            "sun\n",
            "['sand', 'waves']\n"
          ]
        }
      ]
    },
    {
      "cell_type": "markdown",
      "source": [
        "min, max, sum in lists"
      ],
      "metadata": {
        "id": "N1P4poK2CoyE"
      }
    },
    {
      "cell_type": "code",
      "source": [
        "ages = [23, 16, 14, 28, 19, 11, 38]\n",
        "\n",
        "youngest = min(ages)\n",
        "oldest = max(ages)\n",
        "total_years = sum(ages)\n",
        "\n",
        "print(youngest)\n",
        "print(oldest)\n",
        "print(total_years)"
      ],
      "metadata": {
        "id": "8XCTVhHtCnrO",
        "colab": {
          "base_uri": "https://localhost:8080/"
        },
        "outputId": "48ef6131-6a80-4b8f-b0e1-77fd497807a7"
      },
      "execution_count": null,
      "outputs": [
        {
          "output_type": "stream",
          "name": "stdout",
          "text": [
            "11\n",
            "38\n",
            "149\n"
          ]
        }
      ]
    },
    {
      "cell_type": "markdown",
      "source": [
        "item in list?"
      ],
      "metadata": {
        "id": "X2z0OyYhFH13"
      }
    },
    {
      "cell_type": "code",
      "source": [
        "print(38 in ages)\n"
      ],
      "metadata": {
        "colab": {
          "base_uri": "https://localhost:8080/"
        },
        "id": "nepG3Z-CFJjT",
        "outputId": "d5b3c913-c69d-40ba-f071-4813e0954fb7"
      },
      "execution_count": null,
      "outputs": [
        {
          "output_type": "stream",
          "name": "stdout",
          "text": [
            "True\n"
          ]
        }
      ]
    },
    {
      "cell_type": "markdown",
      "metadata": {
        "id": "ZXYj20JcboqG"
      },
      "source": [
        "### Dictionaries"
      ]
    },
    {
      "cell_type": "markdown",
      "metadata": {
        "id": "gMGEBPsVboqG"
      },
      "source": [
        "A dictionary has a key and a corresponding value"
      ]
    },
    {
      "cell_type": "markdown",
      "metadata": {
        "id": "PEXjsV05boqG"
      },
      "source": [
        "How to create a dictionary"
      ]
    },
    {
      "cell_type": "code",
      "execution_count": null,
      "metadata": {
        "id": "ryQG16feboqH",
        "colab": {
          "base_uri": "https://localhost:8080/"
        },
        "outputId": "3b201420-a05e-4dd0-9fac-51b463f511cf"
      },
      "outputs": [
        {
          "output_type": "execute_result",
          "data": {
            "text/plain": [
              "['Pasta', 10, 'Pesto', 20, 'Chocolate', 5]"
            ]
          },
          "metadata": {},
          "execution_count": 149
        }
      ],
      "source": [
        "myshoppingitems = ['Pasta', 10, 'Pesto', 20, 'Chocolate', 5]\n",
        "myshoppingitems"
      ]
    },
    {
      "cell_type": "code",
      "execution_count": null,
      "metadata": {
        "id": "c7bRtUZtboqM",
        "colab": {
          "base_uri": "https://localhost:8080/"
        },
        "outputId": "18b74a06-f750-48b2-8f1c-6c9cbf28b8ba"
      },
      "outputs": [
        {
          "output_type": "execute_result",
          "data": {
            "text/plain": [
              "{'Chocolate': 5, 'Pasta': 10, 'Pesto': 20}"
            ]
          },
          "metadata": {},
          "execution_count": 150
        }
      ],
      "source": [
        "myshoppingitems = {'Pasta': 10, 'Pesto': 20, 'Chocolate': 5}\n",
        "myshoppingitems"
      ]
    },
    {
      "cell_type": "code",
      "execution_count": null,
      "metadata": {
        "id": "imO3g0zSboqN",
        "colab": {
          "base_uri": "https://localhost:8080/"
        },
        "outputId": "285d5b26-6fd9-481d-f1b2-08349037084d"
      },
      "outputs": [
        {
          "output_type": "execute_result",
          "data": {
            "text/plain": [
              "{}"
            ]
          },
          "metadata": {},
          "execution_count": 153
        }
      ],
      "source": [
        "emptydictionary = dict()\n",
        "emptydictionary"
      ]
    },
    {
      "cell_type": "code",
      "source": [
        "d={}\n",
        "d"
      ],
      "metadata": {
        "colab": {
          "base_uri": "https://localhost:8080/"
        },
        "id": "plniZMHs1NSO",
        "outputId": "49c040d1-b621-4186-e544-aa291c0de55e"
      },
      "execution_count": null,
      "outputs": [
        {
          "output_type": "execute_result",
          "data": {
            "text/plain": [
              "{}"
            ]
          },
          "metadata": {},
          "execution_count": 152
        }
      ]
    },
    {
      "cell_type": "markdown",
      "metadata": {
        "id": "cMY68xXWboqN"
      },
      "source": [
        "Add first item to the dictionary, dictionary keys should always be unique"
      ]
    },
    {
      "cell_type": "code",
      "execution_count": null,
      "metadata": {
        "id": "HNiOsHofboqN",
        "colab": {
          "base_uri": "https://localhost:8080/"
        },
        "outputId": "d7d91c2f-bad2-4e45-d253-d55da072c54a"
      },
      "outputs": [
        {
          "output_type": "stream",
          "name": "stdout",
          "text": [
            "{'Pasta': 10}\n"
          ]
        }
      ],
      "source": [
        "emptydictionary['Pasta'] = 10\n",
        "print(emptydictionary)"
      ]
    },
    {
      "cell_type": "code",
      "execution_count": null,
      "metadata": {
        "id": "txs1KEAxboqN",
        "colab": {
          "base_uri": "https://localhost:8080/"
        },
        "outputId": "8f8fde60-e316-4c93-f11b-8cc47c4d78b0"
      },
      "outputs": [
        {
          "output_type": "execute_result",
          "data": {
            "text/plain": [
              "{'Pasta': 10, 'Pesto': 20}"
            ]
          },
          "metadata": {},
          "execution_count": 155
        }
      ],
      "source": [
        "emptydictionary['Pesto'] = 20\n",
        "emptydictionary"
      ]
    },
    {
      "cell_type": "markdown",
      "metadata": {
        "id": "cSbr52f4boqO"
      },
      "source": [
        "Access key,item in a dictionary"
      ]
    },
    {
      "cell_type": "code",
      "execution_count": null,
      "metadata": {
        "id": "j1ursVDWboqO",
        "colab": {
          "base_uri": "https://localhost:8080/"
        },
        "outputId": "74cd9512-ad56-4fa8-8a6b-da04e6b9a26e"
      },
      "outputs": [
        {
          "output_type": "execute_result",
          "data": {
            "text/plain": [
              "20"
            ]
          },
          "metadata": {},
          "execution_count": 156
        }
      ],
      "source": [
        "emptydictionary['Pesto']"
      ]
    },
    {
      "cell_type": "markdown",
      "metadata": {
        "id": "wZ5OTvExboqP"
      },
      "source": [
        "### Tuples\n",
        "\n",
        "- immutable sequence of Python objects - you cannot update or change the values of tuple elements\n",
        "- their advantage is that they have a fixed value"
      ]
    },
    {
      "cell_type": "code",
      "execution_count": null,
      "metadata": {
        "id": "DOHELH_qboqP",
        "colab": {
          "base_uri": "https://localhost:8080/"
        },
        "outputId": "230c09a4-3254-42bd-9748-3ee3f132a9d1"
      },
      "outputs": [
        {
          "output_type": "stream",
          "name": "stdout",
          "text": [
            "('noon', 'morning', 'afternoon', 'evening')\n"
          ]
        }
      ],
      "source": [
        "tuple1 = ('noon', 'morning', \"afternoon\", \"evening\")\n",
        "print(tuple1)"
      ]
    },
    {
      "cell_type": "markdown",
      "metadata": {
        "id": "XzH6PsSGboqQ"
      },
      "source": [
        "create tuple of one value, you always need a comma at the end"
      ]
    },
    {
      "cell_type": "code",
      "execution_count": null,
      "metadata": {
        "id": "SfZYx6AyboqQ",
        "colab": {
          "base_uri": "https://localhost:8080/"
        },
        "outputId": "2bf6edfc-3779-46a4-e32d-b59271eccfb8"
      },
      "outputs": [
        {
          "output_type": "execute_result",
          "data": {
            "text/plain": [
              "(1,)"
            ]
          },
          "metadata": {},
          "execution_count": 158
        }
      ],
      "source": [
        "tupele2 = (1,)\n",
        "tupele2"
      ]
    },
    {
      "cell_type": "markdown",
      "metadata": {
        "id": "_GB31N87boqQ"
      },
      "source": [
        "you can access values"
      ]
    },
    {
      "cell_type": "code",
      "execution_count": null,
      "metadata": {
        "id": "ocTX-s8JboqQ",
        "colab": {
          "base_uri": "https://localhost:8080/"
        },
        "outputId": "aa7aa65a-2ebb-46e9-99c8-5ad9cfad9976"
      },
      "outputs": [
        {
          "output_type": "stream",
          "name": "stdout",
          "text": [
            "evening\n"
          ]
        }
      ],
      "source": [
        "print(tuple1[3])"
      ]
    },
    {
      "cell_type": "markdown",
      "metadata": {
        "id": "LPHb7LhpboqS"
      },
      "source": [
        "you can not modify within tuples, but you can concate different tuples"
      ]
    },
    {
      "cell_type": "code",
      "execution_count": null,
      "metadata": {
        "id": "7A3-FynBboqT",
        "colab": {
          "base_uri": "https://localhost:8080/"
        },
        "outputId": "f4998b06-2a5a-4828-a820-0bbe66e9024c"
      },
      "outputs": [
        {
          "output_type": "execute_result",
          "data": {
            "text/plain": [
              "('noon', 'morning', 'afternoon', 'evening', '12', '10', '16', '18')"
            ]
          },
          "metadata": {},
          "execution_count": 160
        }
      ],
      "source": [
        "tuple1 = ('noon', 'morning', \"afternoon\", \"evening\")\n",
        "tuple2 = ('12', '10', \"16\", \"18\")\n",
        "tuplemix=tuple1+tuple2\n",
        "tuplemix"
      ]
    },
    {
      "cell_type": "markdown",
      "metadata": {
        "id": "32aRJz6mboqT"
      },
      "source": [
        "you can not modify within tuples, but you can repeat tuples in a new tuple"
      ]
    },
    {
      "cell_type": "code",
      "execution_count": null,
      "metadata": {
        "id": "D-73rY9wboqV",
        "colab": {
          "base_uri": "https://localhost:8080/"
        },
        "outputId": "bd116d63-e97e-4d96-caa6-839efa52ded8"
      },
      "outputs": [
        {
          "output_type": "execute_result",
          "data": {
            "text/plain": [
              "('12', '10', '16', '18', '12', '10', '16', '18')"
            ]
          },
          "metadata": {},
          "execution_count": 161
        }
      ],
      "source": [
        "tuplemultiply=tuple2*2\n",
        "tuplemultiply"
      ]
    },
    {
      "cell_type": "markdown",
      "source": [
        "If you try to add something to a tuple, you will get an error:\n",
        "\n"
      ],
      "metadata": {
        "id": "hWCpTnKQB_EU"
      }
    },
    {
      "cell_type": "code",
      "source": [
        "colors = ('red', 'green', 'blue')\n",
        "colors.append('purple')"
      ],
      "metadata": {
        "id": "NLLvi384B8lp",
        "colab": {
          "base_uri": "https://localhost:8080/",
          "height": 184
        },
        "outputId": "4bef836e-f90a-4508-cffe-214c3916d0a7"
      },
      "execution_count": null,
      "outputs": [
        {
          "output_type": "error",
          "ename": "AttributeError",
          "evalue": "ignored",
          "traceback": [
            "\u001b[0;31m---------------------------------------------------------------------------\u001b[0m",
            "\u001b[0;31mAttributeError\u001b[0m                            Traceback (most recent call last)",
            "\u001b[0;32m<ipython-input-162-83aeaf8e9a14>\u001b[0m in \u001b[0;36m<module>\u001b[0;34m()\u001b[0m\n\u001b[1;32m      1\u001b[0m \u001b[0mcolors\u001b[0m \u001b[0;34m=\u001b[0m \u001b[0;34m(\u001b[0m\u001b[0;34m'red'\u001b[0m\u001b[0;34m,\u001b[0m \u001b[0;34m'green'\u001b[0m\u001b[0;34m,\u001b[0m \u001b[0;34m'blue'\u001b[0m\u001b[0;34m)\u001b[0m\u001b[0;34m\u001b[0m\u001b[0;34m\u001b[0m\u001b[0m\n\u001b[0;32m----> 2\u001b[0;31m \u001b[0mcolors\u001b[0m\u001b[0;34m.\u001b[0m\u001b[0mappend\u001b[0m\u001b[0;34m(\u001b[0m\u001b[0;34m'purple'\u001b[0m\u001b[0;34m)\u001b[0m\u001b[0;34m\u001b[0m\u001b[0;34m\u001b[0m\u001b[0m\n\u001b[0m",
            "\u001b[0;31mAttributeError\u001b[0m: 'tuple' object has no attribute 'append'"
          ]
        }
      ]
    },
    {
      "cell_type": "markdown",
      "source": [
        "The same kind of thing happens when you try to remove something from a tuple, or modify one of its elements. Once you define a tuple, you can be confident that its values will not change.\n",
        "\n"
      ],
      "metadata": {
        "id": "bFmLfLmqB_jl"
      }
    },
    {
      "cell_type": "markdown",
      "metadata": {
        "id": "API-Np2RboqY"
      },
      "source": [
        "you can check membership"
      ]
    },
    {
      "cell_type": "code",
      "execution_count": null,
      "metadata": {
        "id": "7GY1HZXtboqY",
        "colab": {
          "base_uri": "https://localhost:8080/"
        },
        "outputId": "23dac03e-a3c5-4685-86a3-0caa6f742221"
      },
      "outputs": [
        {
          "output_type": "execute_result",
          "data": {
            "text/plain": [
              "False"
            ]
          },
          "metadata": {},
          "execution_count": 163
        }
      ],
      "source": [
        "3 in tuple2"
      ]
    },
    {
      "cell_type": "markdown",
      "source": [
        "tuples are immutable,  the value in the tuple will never change"
      ],
      "metadata": {
        "id": "04cwzlwQrlvB"
      }
    },
    {
      "cell_type": "code",
      "source": [
        "tuplemultiply[8] = 22"
      ],
      "metadata": {
        "colab": {
          "base_uri": "https://localhost:8080/",
          "height": 165
        },
        "id": "ql3Qx7LerWlW",
        "outputId": "904de3a3-2953-48f4-d77a-903a9d1bdc22"
      },
      "execution_count": null,
      "outputs": [
        {
          "output_type": "error",
          "ename": "TypeError",
          "evalue": "ignored",
          "traceback": [
            "\u001b[0;31m---------------------------------------------------------------------------\u001b[0m",
            "\u001b[0;31mTypeError\u001b[0m                                 Traceback (most recent call last)",
            "\u001b[0;32m<ipython-input-164-4c838668a41b>\u001b[0m in \u001b[0;36m<module>\u001b[0;34m()\u001b[0m\n\u001b[0;32m----> 1\u001b[0;31m \u001b[0mtuplemultiply\u001b[0m\u001b[0;34m[\u001b[0m\u001b[0;36m8\u001b[0m\u001b[0;34m]\u001b[0m \u001b[0;34m=\u001b[0m \u001b[0;36m22\u001b[0m\u001b[0;34m\u001b[0m\u001b[0;34m\u001b[0m\u001b[0m\n\u001b[0m",
            "\u001b[0;31mTypeError\u001b[0m: 'tuple' object does not support item assignment"
          ]
        }
      ]
    },
    {
      "cell_type": "markdown",
      "metadata": {
        "id": "eFbazrdkboqZ"
      },
      "source": [
        "### Sets\n",
        "\n",
        "What is a set? It is an unordered collection of items. You can not be sure in which order the items will appear.\n",
        "\n",
        "Elements of the set:\n",
        "1. must be unique - doesnt allow for duplicate elements\n",
        "2. elemenets can not be changed (you can not access items by refering to an index, as done in lists)\n",
        "\n",
        "The set as a whole is mutable, we can add and remove items from it\n",
        "\n",
        "Usually sets are used to for mathematical operations like, union and intersection"
      ]
    },
    {
      "cell_type": "code",
      "execution_count": null,
      "metadata": {
        "id": "lPHk2QJTboqZ",
        "colab": {
          "base_uri": "https://localhost:8080/"
        },
        "outputId": "60d101c3-99d2-4c40-fc3f-e002791b214f"
      },
      "outputs": [
        {
          "output_type": "stream",
          "name": "stdout",
          "text": [
            "{2, 3, 100, 8, 13, 20}\n",
            "{2, 3, 'apple', 'orange'}\n"
          ]
        }
      ],
      "source": [
        "#creation of sets\n",
        "\n",
        "set1 = {8, 2, 3, 20, 13, 100}\n",
        "set2 = {\"apple\",2,3, \"orange\"}\n",
        "print(set1)\n",
        "print(set2)"
      ]
    },
    {
      "cell_type": "code",
      "execution_count": null,
      "metadata": {
        "id": "xyyzZjLpboqZ",
        "colab": {
          "base_uri": "https://localhost:8080/"
        },
        "outputId": "f6954958-4c1a-4320-d01f-3d390d4a4c97"
      },
      "outputs": [
        {
          "output_type": "stream",
          "name": "stdout",
          "text": [
            "{2, 3, 100, 8, 13, 20}\n"
          ]
        }
      ],
      "source": [
        "# no duplication allowed\n",
        "\n",
        "set3 = {8, 2, 3, 20, 13, 100, 20, 3}\n",
        "print(set3)\n"
      ]
    },
    {
      "cell_type": "code",
      "execution_count": null,
      "metadata": {
        "id": "XiiK-umZboqa",
        "colab": {
          "base_uri": "https://localhost:8080/"
        },
        "outputId": "7dd8f448-392e-49fb-92ef-078187cb1eff"
      },
      "outputs": [
        {
          "output_type": "stream",
          "name": "stdout",
          "text": [
            "{8, 33, 20, 400}\n",
            "<class 'set'>\n"
          ]
        }
      ],
      "source": [
        "# transform a list to a set\n",
        "\n",
        "newlist=[8,20,33,400]\n",
        "newset = set(newlist)\n",
        "print(newset)\n",
        "print(type(newset))"
      ]
    },
    {
      "cell_type": "code",
      "execution_count": null,
      "metadata": {
        "id": "s1_ycAt3boqa",
        "colab": {
          "base_uri": "https://localhost:8080/"
        },
        "outputId": "749b8778-433f-4ac9-e364-71cdd5f16dba"
      },
      "outputs": [
        {
          "output_type": "stream",
          "name": "stdout",
          "text": [
            "{33, 2, 8, 400, 20}\n"
          ]
        }
      ],
      "source": [
        "#mutability of set\n",
        "\n",
        "#add an item\n",
        "newset.add(2)\n",
        "print(newset)"
      ]
    },
    {
      "cell_type": "code",
      "execution_count": null,
      "metadata": {
        "id": "T7dKqLF3boqb",
        "outputId": "89981e96-30f7-4a16-be2a-d4c48ea4a88a",
        "colab": {
          "base_uri": "https://localhost:8080/"
        }
      },
      "outputs": [
        {
          "output_type": "stream",
          "name": "stdout",
          "text": [
            "{33, 2, 100, 5, 6, 8, 400, 20}\n"
          ]
        }
      ],
      "source": [
        "#to add more than one item you use update\n",
        "newset.update([100, 5, 6])\n",
        "print(newset)"
      ]
    },
    {
      "cell_type": "code",
      "execution_count": null,
      "metadata": {
        "id": "MR63XrFAboqc",
        "outputId": "cbae5882-971e-4110-9fda-126434c8cf11",
        "colab": {
          "base_uri": "https://localhost:8080/"
        }
      },
      "outputs": [
        {
          "output_type": "stream",
          "name": "stdout",
          "text": [
            "{33, 2, 100, 5, 6, 8, 400, 20}\n"
          ]
        }
      ],
      "source": [
        "# discard an item (similar remove - however remove will show an error if the item is not in the set)\n",
        "newset.discard(3)\n",
        "print(newset)"
      ]
    }
  ],
  "metadata": {
    "kernelspec": {
      "display_name": "Python 3",
      "language": "python",
      "name": "python3"
    },
    "language_info": {
      "codemirror_mode": {
        "name": "ipython",
        "version": 3
      },
      "file_extension": ".py",
      "mimetype": "text/x-python",
      "name": "python",
      "nbconvert_exporter": "python",
      "pygments_lexer": "ipython3",
      "version": "3.8.5"
    },
    "colab": {
      "provenance": [],
      "collapsed_sections": [
        "aolyrB1SHTAO",
        "rTzYMYslqrbv",
        "NA5ahqc7HTAP",
        "DWj_K5852UEV",
        "3-bIGrB4bop-",
        "2gDFH22lbop_"
      ],
      "toc_visible": true,
      "include_colab_link": true
    }
  },
  "nbformat": 4,
  "nbformat_minor": 0
}
