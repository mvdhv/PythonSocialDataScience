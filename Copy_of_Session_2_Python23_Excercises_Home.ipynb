{
  "nbformat": 4,
  "nbformat_minor": 0,
  "metadata": {
    "colab": {
      "provenance": [],
      "include_colab_link": true
    },
    "kernelspec": {
      "name": "python3",
      "display_name": "Python 3"
    },
    "language_info": {
      "name": "python"
    }
  },
  "cells": [
    {
      "cell_type": "markdown",
      "metadata": {
        "id": "view-in-github",
        "colab_type": "text"
      },
      "source": [
        "<a href=\"https://colab.research.google.com/github/mvdhv/PythonSocialDataScience/blob/main/Copy_of_Session_2_Python23_Excercises_Home.ipynb\" target=\"_parent\"><img src=\"https://colab.research.google.com/assets/colab-badge.svg\" alt=\"Open In Colab\"/></a>"
      ]
    },
    {
      "cell_type": "markdown",
      "metadata": {
        "id": "8Ock4tQVj15I"
      },
      "source": [
        "#**Session 2**\n",
        "# Excercises Take Home"
      ]
    },
    {
      "cell_type": "markdown",
      "metadata": {
        "id": "1wzATc8jqnuN"
      },
      "source": [
        "**Excercise 1**\n",
        "\n",
        "List comprehension: <br>\n",
        "1. Split the sentece below, into list items\n",
        "2. Lowercase all words\n",
        "2. Count the number of charcters for every word in the list, excluding the word \"the\"\n",
        "\n",
        "Use list comprehesion to perform 2 and 3"
      ]
    },
    {
      "cell_type": "code",
      "execution_count": 18,
      "metadata": {
        "id": "Y-HGOM5lrLsW",
        "colab": {
          "base_uri": "https://localhost:8080/"
        },
        "outputId": "f354a44b-63a7-49b4-9421-71989818d844"
      },
      "outputs": [
        {
          "output_type": "stream",
          "name": "stdout",
          "text": [
            "['The', 'hand', 'sanitizer', 'was', 'actually', 'clear', 'glue.']\n",
            "['the', 'hand', 'sanitizer', 'was', 'actually', 'clear', 'glue.']\n",
            "{'the': 3, 'hand': 4, 'sanitizer': 9, 'was': 3, 'actually': 8, 'clear': 5, 'glue.': 5}\n",
            "[3, 4, 9, 3, 8, 5, 5]\n"
          ]
        }
      ],
      "source": [
        "sentence = \"The hand sanitizer was actually clear glue.\"\n",
        "new_sentence=[]\n",
        "\n",
        "# for word in sentence.split():\n",
        "  # print(word)\n",
        "\n",
        "# Question 1:\n",
        "new_sentence=sentence.split()\n",
        "print(new_sentence)\n",
        "\n",
        "# Question 2:\n",
        "sentence_lowercase = [x.lower() for x in new_sentence]\n",
        "print(sentence_lowercase)\n",
        "\n",
        "# Question 3:\n",
        "\n",
        "# Using for loop\n",
        "my_dict = dict()\n",
        "for letter in sentence_lowercase:\n",
        "  my_dict[letter] = len(letter)\n",
        "print(my_dict)\n",
        "\n",
        "# Using list comprehension\n",
        "new_list = [len(x) for x in sentence_lowercase]\n",
        "print(new_list)\n",
        "  \n"
      ]
    },
    {
      "cell_type": "markdown",
      "metadata": {
        "id": "RYPRL41prj8L"
      },
      "source": [
        "**Excercise 2**\n",
        "\n",
        "print the items in the list below in reverse one by one. <br/>\n",
        "Outcome should look like: <br/>\n",
        "10<br/>\n",
        "7<br/>\n",
        "3<br/>\n",
        "2<br/>\n",
        "1<br/>\n",
        "800<br/>\n",
        "100<br/>\n",
        "66<br/>"
      ]
    },
    {
      "cell_type": "code",
      "execution_count": 28,
      "metadata": {
        "id": "rqsBBn19rj8L",
        "colab": {
          "base_uri": "https://localhost:8080/"
        },
        "outputId": "82fd5f84-fa63-49b1-9a7a-9dba3e56de45"
      },
      "outputs": [
        {
          "output_type": "stream",
          "name": "stdout",
          "text": [
            "10\n",
            "7\n",
            "3\n",
            "2\n",
            "1\n",
            "800\n",
            "100\n",
            "66\n"
          ]
        }
      ],
      "source": [
        "a_random_list = [66,100,800,1,2,3,7,10]\n",
        "\n",
        "a_random_list.reverse()\n",
        "\n",
        "for items in a_random_list:\n",
        "  print(items)\n"
      ]
    },
    {
      "cell_type": "markdown",
      "metadata": {
        "id": "G4QIVB5Prj8L"
      },
      "source": [
        "**Excercise 3**\n",
        "\n",
        "1. Requests the name of the user\n",
        "2. Ask users if they had a break today\n",
        "3. Print a message saying that \"take a break :)\", if they didnt, if they did print \"good for you\""
      ]
    },
    {
      "cell_type": "code",
      "source": [
        "from prompt_toolkit.shortcuts import input_dialog\n",
        "name = input(\"What is your name?\\n\")\n",
        "\n",
        "break_ask = input(\"Did you take a break today?\\n\")\n",
        "if break_ask.lower() == \"yes\":\n",
        "  print(\"good for you\")\n",
        "else:\n",
        "  if break_ask.lower() == \"no\":\n",
        "    print(\"take a break :)\")\n",
        "  else:\n",
        "    print(\"please answer with either yes or no\")"
      ],
      "metadata": {
        "colab": {
          "base_uri": "https://localhost:8080/"
        },
        "id": "Vbbij7c4BZlG",
        "outputId": "8504cf1b-8aa3-44c4-c241-b95b2294fdd8"
      },
      "execution_count": 35,
      "outputs": [
        {
          "output_type": "stream",
          "name": "stdout",
          "text": [
            "What is your name?\n",
            "mad\n",
            "Did you take a break today?\n",
            "nn\n",
            "please answer with either yes or no\n"
          ]
        }
      ]
    },
    {
      "cell_type": "markdown",
      "metadata": {
        "id": "QLppcMMMrj8N"
      },
      "source": [
        "**Excercise 4**\n",
        "\n",
        "- Define a varibale x to take a number as *input*, you will ask the user to enter any number. Tip:  you will need to understand and use the eval() function, why is it important here?\n",
        "- Store in a list called \"todolist\", x (the number you have chose) items one at a time that the user has to do today. You do that by using the input function. So to say if the x variable is 2, users should be asked twice. Hint: To do that you need a for loop.\n",
        "- Print the todolist"
      ]
    },
    {
      "cell_type": "code",
      "source": [
        "x = int(input(\"Please enter the number of tasks for today:\\n\"))\n",
        "\n",
        "todolist = []\n",
        "for number in range(0, x):\n",
        "  todolist.insert(number, input(\"Please enter the task:\\n\"))\n",
        "\n",
        "print(todolist)"
      ],
      "metadata": {
        "colab": {
          "base_uri": "https://localhost:8080/"
        },
        "id": "LoKCrGKICcAx",
        "outputId": "01e5f4a8-906d-4ba3-cc01-fea8b12fbf84"
      },
      "execution_count": 46,
      "outputs": [
        {
          "output_type": "stream",
          "name": "stdout",
          "text": [
            "Please enter the number of tasks for today:\n",
            "4\n",
            "Please enter the task:\n",
            "wake up\n",
            "Please enter the task:\n",
            "brush\n",
            "Please enter the task:\n",
            "shower\n",
            "Please enter the task:\n",
            "study\n",
            "['wake up', 'brush', 'shower', 'study']\n"
          ]
        }
      ]
    },
    {
      "cell_type": "markdown",
      "metadata": {
        "id": "nlYszXhUrj8O"
      },
      "source": [
        "**Excercise 5**\n",
        "\n",
        "Use a loop over the number and letter lists below.  Think about how to write code that will produce the output below. Hint: you need two loops\n",
        "\n",
        "1 <br>\n",
        "a <br>\n",
        "b<br>\n",
        "c<br>\n",
        "2<br>\n",
        "a<br>\n",
        "b<br>\n",
        "c<br>\n",
        "3<br>\n",
        "a<br>\n",
        "b<br>\n",
        "c<br>"
      ]
    },
    {
      "cell_type": "code",
      "execution_count": 57,
      "metadata": {
        "collapsed": true,
        "id": "XTNTZvPzrj8O"
      },
      "outputs": [],
      "source": [
        "numbers = [1, 2, 3]\n",
        "letters = ['a', 'b', 'c']"
      ]
    },
    {
      "cell_type": "code",
      "execution_count": 63,
      "metadata": {
        "collapsed": true,
        "id": "tONKAWa_rj8P",
        "colab": {
          "base_uri": "https://localhost:8080/"
        },
        "outputId": "a80eca84-87aa-49ca-bd16-b197c0752f99"
      },
      "outputs": [
        {
          "output_type": "stream",
          "name": "stdout",
          "text": [
            "1\n",
            "a\n",
            "b\n",
            "c\n",
            "2\n",
            "a\n",
            "b\n",
            "c\n",
            "3\n",
            "a\n",
            "b\n",
            "c\n"
          ]
        }
      ],
      "source": [
        "for number in numbers:\n",
        "  print(number)\n",
        "  for letter in letters:\n",
        "    print(letter)"
      ]
    },
    {
      "cell_type": "markdown",
      "metadata": {
        "id": "iLN3vJgGrj8P"
      },
      "source": [
        "**Excercise 6**\n",
        "\n",
        "- Define a function that returns absolute values. This function will use if and else statetemts so that it always returns the absolute value even if the inputted number is negative.\n",
        "- Try this function out, once with the numbers -222 and 100\n"
      ]
    },
    {
      "cell_type": "code",
      "source": [
        "enter = int(input(\"Please enter any number:\\n\"))\n",
        "\n",
        "# Here is a function that returns the absolute value of any inputted number:\n",
        "if enter == abs(enter):\n",
        "  print(\"The absolute value of your number is:\", enter)\n",
        "else:\n",
        "  print(\"The absolute value of your number is:\", -enter)\n"
      ],
      "metadata": {
        "colab": {
          "base_uri": "https://localhost:8080/"
        },
        "id": "CNCYbBRZIK_3",
        "outputId": "2408e7f3-e8d9-4223-e569-1dc7237bd910"
      },
      "execution_count": 74,
      "outputs": [
        {
          "output_type": "stream",
          "name": "stdout",
          "text": [
            "Please enter any number:\n",
            "100\n",
            "The absolute value of your number is: 100\n"
          ]
        }
      ]
    },
    {
      "cell_type": "markdown",
      "metadata": {
        "id": "2Tsoib_0rj8Q"
      },
      "source": [
        "**Excersise 7**\n",
        "\n",
        "Looping over dictionaries\n",
        "\n",
        "1. Create a dictionary with keys that have names of states in the US and the values are their capital\n",
        "2. Print the keys of the dictionary\n",
        "3. Print the values of the dictionary\n"
      ]
    },
    {
      "cell_type": "code",
      "source": [
        "us_dict = {\n",
        "    'Alabama': 'Montgomery',\n",
        "    'Alaska': 'Juneau',\n",
        "    'Arizona':'Phoenix',\n",
        "    'Arkansas':'Little Rock',\n",
        "    'California': 'Sacramento',\n",
        "    'Colorado':'Denver',\n",
        "    'Connecticut':'Hartford',\n",
        "    'Delaware':'Dover',\n",
        "    'Florida': 'Tallahassee',\n",
        "    'Georgia': 'Atlanta',\n",
        "    'Hawaii': 'Honolulu',\n",
        "    'Idaho': 'Boise',\n",
        "    'Illinios': 'Springfield',\n",
        "    'Indiana': 'Indianapolis',\n",
        "    'Iowa': 'Des Monies',\n",
        "    'Kansas': 'Topeka',\n",
        "    'Kentucky': 'Frankfort',\n",
        "    'Louisiana': 'Baton Rouge',\n",
        "    'Maine': 'Augusta',\n",
        "    'Maryland': 'Annapolis',\n",
        "    'Massachusetts': 'Boston',\n",
        "    'Michigan': 'Lansing',\n",
        "    'Minnesota': 'St. Paul',\n",
        "    'Mississippi': 'Jackson',\n",
        "    'Missouri': 'Jefferson City',\n",
        "    'Montana': 'Helena',\n",
        "    'Nebraska': 'Lincoln',\n",
        "    'Neveda': 'Carson City',\n",
        "    'New Hampshire': 'Concord',\n",
        "    'New Jersey': 'Trenton',\n",
        "    'New Mexico': 'Santa Fe',\n",
        "    'New York': 'Albany',\n",
        "    'North Carolina': 'Raleigh',\n",
        "    'North Dakota': 'Bismarck',\n",
        "    'Ohio': 'Columbus',\n",
        "    'Oklahoma': 'Oklahoma City',\n",
        "    'Oregon': 'Salem',\n",
        "    'Pennsylvania': 'Harrisburg',\n",
        "    'Rhoda Island': 'Providence',\n",
        "    'South Carolina': 'Columbia',\n",
        "    'South Dakoda': 'Pierre',\n",
        "    'Tennessee': 'Nashville',\n",
        "    'Texas': 'Austin',\n",
        "    'Utah': 'Salt Lake City',\n",
        "    'Vermont': 'Montpelier',\n",
        "    'Virginia': 'Richmond',\n",
        "    'Washington': 'Olympia',\n",
        "    'West Virginia': 'Charleston',\n",
        "    'Wisconsin': 'Madison',\n",
        "    'Wyoming': 'Cheyenne'  \n",
        "}\n",
        "\n",
        "for k, v in us_dict.items():\n",
        "  print(\"The US states are:\", k)\n",
        "\n",
        "for k, v in us_dict.items():\n",
        "  print(\"The capitals of US states are:\", v)\n",
        "\n",
        "# Or\n",
        "\n",
        "for k, v in us_dict.items():\n",
        "  print(\"The capital of\", k, \"is\", v)\n"
      ],
      "metadata": {
        "colab": {
          "base_uri": "https://localhost:8080/"
        },
        "id": "MlOUddz2Jqm-",
        "outputId": "f21d81ea-e233-4d82-ae41-6cd9dd6bd07e"
      },
      "execution_count": 81,
      "outputs": [
        {
          "output_type": "stream",
          "name": "stdout",
          "text": [
            "The US states are: Alabama\n",
            "The US states are: Alaska\n",
            "The US states are: Arizona\n",
            "The US states are: Arkansas\n",
            "The US states are: California\n",
            "The US states are: Colorado\n",
            "The US states are: Connecticut\n",
            "The US states are: Delaware\n",
            "The US states are: Florida\n",
            "The US states are: Georgia\n",
            "The US states are: Hawaii\n",
            "The US states are: Idaho\n",
            "The US states are: Illinios\n",
            "The US states are: Indiana\n",
            "The US states are: Iowa\n",
            "The US states are: Kansas\n",
            "The US states are: Kentucky\n",
            "The US states are: Louisiana\n",
            "The US states are: Maine\n",
            "The US states are: Maryland\n",
            "The US states are: Massachusetts\n",
            "The US states are: Michigan\n",
            "The US states are: Minnesota\n",
            "The US states are: Mississippi\n",
            "The US states are: Missouri\n",
            "The US states are: Montana\n",
            "The US states are: Nebraska\n",
            "The US states are: Neveda\n",
            "The US states are: New Hampshire\n",
            "The US states are: New Jersey\n",
            "The US states are: New Mexico\n",
            "The US states are: New York\n",
            "The US states are: North Carolina\n",
            "The US states are: North Dakota\n",
            "The US states are: Ohio\n",
            "The US states are: Oklahoma\n",
            "The US states are: Oregon\n",
            "The US states are: Pennsylvania\n",
            "The US states are: Rhoda Island\n",
            "The US states are: South Carolina\n",
            "The US states are: South Dakoda\n",
            "The US states are: Tennessee\n",
            "The US states are: Texas\n",
            "The US states are: Utah\n",
            "The US states are: Vermont\n",
            "The US states are: Virginia\n",
            "The US states are: Washington\n",
            "The US states are: West Virginia\n",
            "The US states are: Wisconsin\n",
            "The US states are: Wyoming\n",
            "The capitals of US states are: Montgomery\n",
            "The capitals of US states are: Juneau\n",
            "The capitals of US states are: Phoenix\n",
            "The capitals of US states are: Little Rock\n",
            "The capitals of US states are: Sacramento\n",
            "The capitals of US states are: Denver\n",
            "The capitals of US states are: Hartford\n",
            "The capitals of US states are: Dover\n",
            "The capitals of US states are: Tallahassee\n",
            "The capitals of US states are: Atlanta\n",
            "The capitals of US states are: Honolulu\n",
            "The capitals of US states are: Boise\n",
            "The capitals of US states are: Springfield\n",
            "The capitals of US states are: Indianapolis\n",
            "The capitals of US states are: Des Monies\n",
            "The capitals of US states are: Topeka\n",
            "The capitals of US states are: Frankfort\n",
            "The capitals of US states are: Baton Rouge\n",
            "The capitals of US states are: Augusta\n",
            "The capitals of US states are: Annapolis\n",
            "The capitals of US states are: Boston\n",
            "The capitals of US states are: Lansing\n",
            "The capitals of US states are: St. Paul\n",
            "The capitals of US states are: Jackson\n",
            "The capitals of US states are: Jefferson City\n",
            "The capitals of US states are: Helena\n",
            "The capitals of US states are: Lincoln\n",
            "The capitals of US states are: Carson City\n",
            "The capitals of US states are: Concord\n",
            "The capitals of US states are: Trenton\n",
            "The capitals of US states are: Santa Fe\n",
            "The capitals of US states are: Albany\n",
            "The capitals of US states are: Raleigh\n",
            "The capitals of US states are: Bismarck\n",
            "The capitals of US states are: Columbus\n",
            "The capitals of US states are: Oklahoma City\n",
            "The capitals of US states are: Salem\n",
            "The capitals of US states are: Harrisburg\n",
            "The capitals of US states are: Providence\n",
            "The capitals of US states are: Columbia\n",
            "The capitals of US states are: Pierre\n",
            "The capitals of US states are: Nashville\n",
            "The capitals of US states are: Austin\n",
            "The capitals of US states are: Salt Lake City\n",
            "The capitals of US states are: Montpelier\n",
            "The capitals of US states are: Richmond\n",
            "The capitals of US states are: Olympia\n",
            "The capitals of US states are: Charleston\n",
            "The capitals of US states are: Madison\n",
            "The capitals of US states are: Cheyenne\n",
            "The capital of Alabama is Montgomery\n",
            "The capital of Alaska is Juneau\n",
            "The capital of Arizona is Phoenix\n",
            "The capital of Arkansas is Little Rock\n",
            "The capital of California is Sacramento\n",
            "The capital of Colorado is Denver\n",
            "The capital of Connecticut is Hartford\n",
            "The capital of Delaware is Dover\n",
            "The capital of Florida is Tallahassee\n",
            "The capital of Georgia is Atlanta\n",
            "The capital of Hawaii is Honolulu\n",
            "The capital of Idaho is Boise\n",
            "The capital of Illinios is Springfield\n",
            "The capital of Indiana is Indianapolis\n",
            "The capital of Iowa is Des Monies\n",
            "The capital of Kansas is Topeka\n",
            "The capital of Kentucky is Frankfort\n",
            "The capital of Louisiana is Baton Rouge\n",
            "The capital of Maine is Augusta\n",
            "The capital of Maryland is Annapolis\n",
            "The capital of Massachusetts is Boston\n",
            "The capital of Michigan is Lansing\n",
            "The capital of Minnesota is St. Paul\n",
            "The capital of Mississippi is Jackson\n",
            "The capital of Missouri is Jefferson City\n",
            "The capital of Montana is Helena\n",
            "The capital of Nebraska is Lincoln\n",
            "The capital of Neveda is Carson City\n",
            "The capital of New Hampshire is Concord\n",
            "The capital of New Jersey is Trenton\n",
            "The capital of New Mexico is Santa Fe\n",
            "The capital of New York is Albany\n",
            "The capital of North Carolina is Raleigh\n",
            "The capital of North Dakota is Bismarck\n",
            "The capital of Ohio is Columbus\n",
            "The capital of Oklahoma is Oklahoma City\n",
            "The capital of Oregon is Salem\n",
            "The capital of Pennsylvania is Harrisburg\n",
            "The capital of Rhoda Island is Providence\n",
            "The capital of South Carolina is Columbia\n",
            "The capital of South Dakoda is Pierre\n",
            "The capital of Tennessee is Nashville\n",
            "The capital of Texas is Austin\n",
            "The capital of Utah is Salt Lake City\n",
            "The capital of Vermont is Montpelier\n",
            "The capital of Virginia is Richmond\n",
            "The capital of Washington is Olympia\n",
            "The capital of West Virginia is Charleston\n",
            "The capital of Wisconsin is Madison\n",
            "The capital of Wyoming is Cheyenne\n"
          ]
        }
      ]
    },
    {
      "cell_type": "markdown",
      "metadata": {
        "id": "zi3wzcsKrj8S"
      },
      "source": [
        "**Excercise 8**\n",
        "\n",
        "Looping and indexing. \n",
        "\n",
        "Print each letter in the word \"awesome\". Do that by using a for loop. \n",
        "\n",
        "Hint: Check out the range function."
      ]
    },
    {
      "cell_type": "code",
      "source": [
        "word = (\"awesome\")\n",
        "\n",
        "word_list=[]\n",
        "\n",
        "for letter in word:\n",
        "  print(letter)\n",
        "  \n",
        "  #Or\n",
        "  \n",
        "  word_list.append(letter)\n",
        "print(word_list)\n",
        "\n"
      ],
      "metadata": {
        "id": "gjsw7ag1M4wF",
        "colab": {
          "base_uri": "https://localhost:8080/"
        },
        "outputId": "e6314ca6-de1a-4edb-85a3-c50eb4c99948"
      },
      "execution_count": 88,
      "outputs": [
        {
          "output_type": "stream",
          "name": "stdout",
          "text": [
            "a\n",
            "w\n",
            "e\n",
            "s\n",
            "o\n",
            "m\n",
            "e\n",
            "['a', 'w', 'e', 's', 'o', 'm', 'e']\n"
          ]
        }
      ]
    }
  ]
}