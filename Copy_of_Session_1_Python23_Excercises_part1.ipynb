{
  "nbformat": 4,
  "nbformat_minor": 0,
  "metadata": {
    "colab": {
      "provenance": [],
      "include_colab_link": true
    },
    "kernelspec": {
      "name": "python3",
      "display_name": "Python 3"
    },
    "language_info": {
      "name": "python"
    }
  },
  "cells": [
    {
      "cell_type": "markdown",
      "metadata": {
        "id": "view-in-github",
        "colab_type": "text"
      },
      "source": [
        "<a href=\"https://colab.research.google.com/github/mvdhv/PythonSocialDataScience/blob/main/Copy_of_Session_1_Python23_Excercises_part1.ipynb\" target=\"_parent\"><img src=\"https://colab.research.google.com/assets/colab-badge.svg\" alt=\"Open In Colab\"/></a>"
      ]
    },
    {
      "cell_type": "markdown",
      "metadata": {
        "id": "cJapVXDuHTAm"
      },
      "source": [
        "# **Session 1**\n",
        "# Excercises - Part 1"
      ]
    },
    {
      "cell_type": "code",
      "execution_count": 9,
      "metadata": {
        "collapsed": true,
        "id": "Rc5LBz8QHTAm",
        "outputId": "2cda50b1-aa77-40fc-f159-c9a093bf0c74",
        "colab": {
          "base_uri": "https://localhost:8080/"
        }
      },
      "outputs": [
        {
          "output_type": "stream",
          "name": "stdout",
          "text": [
            "56\n",
            "25\n"
          ]
        }
      ],
      "source": [
        "#Excercise 1\n",
        "\n",
        "# a- Print the multiplication of 7 and 8, save them in a variable called mult\n",
        "mult = 7*8\n",
        "# b- Calculate 5^2, save in a variable called power\n",
        "power = pow(5, 2)\n",
        "# print the results\n",
        "print(mult)\n",
        "print(power)"
      ]
    },
    {
      "cell_type": "code",
      "execution_count": 10,
      "metadata": {
        "collapsed": true,
        "id": "B3DC1t1aHTAm",
        "outputId": "30576e17-1b90-4889-a811-531a3d7d76a5",
        "colab": {
          "base_uri": "https://localhost:8080/"
        }
      },
      "outputs": [
        {
          "output_type": "stream",
          "name": "stdout",
          "text": [
            "520\n"
          ]
        }
      ],
      "source": [
        "#Excercise 2\n",
        "\n",
        "#calculate how many weeks in 10 years - approximately\n",
        "\n",
        "weeks = 52\n",
        "years = 10\n",
        "\n",
        "weeksin10years = 10*52\n",
        "print(weeksin10years)\n",
        "\n",
        "#hints:\n",
        "#save the number of weeks in a year in a variable called weeks\n",
        "#save the number 10 in a variable called 10 years\n",
        "#specificy and print outcome - variable named weeksin10years\n"
      ]
    },
    {
      "cell_type": "code",
      "execution_count": 11,
      "metadata": {
        "collapsed": true,
        "id": "fw-NUXeSHTAm",
        "outputId": "4ab5bc77-fd58-4aba-e796-1d311482de10",
        "colab": {
          "base_uri": "https://localhost:8080/"
        }
      },
      "outputs": [
        {
          "output_type": "stream",
          "name": "stdout",
          "text": [
            "48\n"
          ]
        }
      ],
      "source": [
        "#Excercise 3\n",
        "\n",
        "# Print the interger of the division of 244 by 5 and save them in a variable called division\n",
        "\n",
        "division = 244//5\n",
        "print(division)\n"
      ]
    },
    {
      "cell_type": "code",
      "execution_count": 12,
      "metadata": {
        "collapsed": true,
        "id": "tWHRJWj1HTAm",
        "outputId": "76349c1f-9cbf-466c-9332-c1c7e3261262",
        "colab": {
          "base_uri": "https://localhost:8080/"
        }
      },
      "outputs": [
        {
          "output_type": "stream",
          "name": "stdout",
          "text": [
            "28.26\n"
          ]
        }
      ],
      "source": [
        "#Excercise 4\n",
        "\n",
        "# Calculate the area of a circle\n",
        "# 1) define the variables that you need - pi and r, in that case r=3\n",
        "# 2) write the equation\n",
        "# 3) make sure you have a float type answer\n",
        "# 4) print out the result\n",
        "\n",
        "radius = 3\n",
        "pi = 3.14\n",
        "areaofcircle = (pi*(pow(radius, 2)))\n",
        "print(areaofcircle)\n"
      ]
    },
    {
      "cell_type": "code",
      "execution_count": 13,
      "metadata": {
        "collapsed": true,
        "id": "JGoYuOZ3HTAn",
        "outputId": "dee2f570-9071-4dc2-e679-f4895096695a",
        "colab": {
          "base_uri": "https://localhost:8080/"
        }
      },
      "outputs": [
        {
          "output_type": "stream",
          "name": "stdout",
          "text": [
            "Please enter your name:Madhav\n",
            "Please enter your age:22\n",
            "Madhav 22\n"
          ]
        }
      ],
      "source": [
        "#Excercise 5\n",
        "\n",
        "# Request the name of the user\n",
        "name = input(\"Please enter your name:\")\n",
        "# Request the age of a user\n",
        "age = input(\"Please enter your age:\")\n",
        "#print out the name and age of the user in a sentence using the variables you have defined for age and name\n",
        "print(name, age)\n"
      ]
    },
    {
      "cell_type": "code",
      "execution_count": 18,
      "metadata": {
        "id": "35mXt3YAHTAn",
        "colab": {
          "base_uri": "https://localhost:8080/"
        },
        "outputId": "2c460fa1-9614-4d36-d0d9-e8a9603db8d8"
      },
      "outputs": [
        {
          "output_type": "stream",
          "name": "stdout",
          "text": [
            "I have 10 of apples and 12 of bananas!\n"
          ]
        }
      ],
      "source": [
        "#Excercise 6\n",
        "\n",
        "# Fix the errors here\n",
        "# Fix the printout\n",
        "\n",
        "print(\"I have\", 10, \"of apples and\", 12, \"of bananas!\")"
      ]
    },
    {
      "cell_type": "code",
      "execution_count": null,
      "metadata": {
        "collapsed": true,
        "id": "LQXb5V1oHTAn"
      },
      "outputs": [],
      "source": [
        "#Excercise 7\n",
        "\n",
        "#Display “My Name Is [insert your name]” as “My**Name**Is**[insert your name]” using output formatting of a print() function\n",
        "#Hint: understand the \"sep\" command in Python"
      ]
    },
    {
      "cell_type": "code",
      "source": [
        "print(\"My\", \"Name\", \"Is\", \"Madhav\", sep=\"**\")"
      ],
      "metadata": {
        "colab": {
          "base_uri": "https://localhost:8080/"
        },
        "id": "f_QF4EmTENWI",
        "outputId": "dfb1ab35-04e9-462e-ce61-bb3a2a2bf189"
      },
      "execution_count": 14,
      "outputs": [
        {
          "output_type": "stream",
          "name": "stdout",
          "text": [
            "My**Name**Is**Madhav\n"
          ]
        }
      ]
    },
    {
      "cell_type": "code",
      "execution_count": 17,
      "metadata": {
        "id": "0tC_b8LMHTAn",
        "colab": {
          "base_uri": "https://localhost:8080/"
        },
        "outputId": "cea246d7-f61e-4669-9833-8a3fc94bedbd"
      },
      "outputs": [
        {
          "output_type": "stream",
          "name": "stdout",
          "text": [
            "40400.22\n"
          ]
        }
      ],
      "source": [
        "#Excercise 8\n",
        "\n",
        "#Display float number with 2 decimal -40400.2233- places using print()\n",
        "\n",
        "print(round(40400.2233, 2))\n",
        "\n"
      ]
    },
    {
      "cell_type": "code",
      "execution_count": 6,
      "metadata": {
        "id": "XdqRpRv4HTAn",
        "colab": {
          "base_uri": "https://localhost:8080/"
        },
        "outputId": "c0a73034-a0e6-480f-b06b-a5ace7eee5dc"
      },
      "outputs": [
        {
          "output_type": "stream",
          "name": "stdout",
          "text": [
            "This doesnt work\n",
            "This doesn't work\n",
            "Input your age:22\n",
            "Madhav\n"
          ]
        }
      ],
      "source": [
        "#Excercise 9\n",
        "\n",
        "#fix this code \n",
        "\n",
        "print(\"This doesnt work\")\n",
        "print(\"This doesn't work\")\n",
        "input(\"Input your age:\")\n",
        "print(name)"
      ]
    },
    {
      "cell_type": "code",
      "execution_count": 8,
      "metadata": {
        "collapsed": true,
        "id": "Vgcg0SyxHTAn",
        "colab": {
          "base_uri": "https://localhost:8080/"
        },
        "outputId": "abb47cdf-4bfb-43c4-cec3-64d5c74698a4"
      },
      "outputs": [
        {
          "output_type": "stream",
          "name": "stdout",
          "text": [
            "Please enter the first number:10\n",
            "Please enter the second number:10\n",
            "The sum of your given numbers is: 20\n"
          ]
        }
      ],
      "source": [
        "#Excercise 10\n",
        "\n",
        "# a- Ask the user to input a number\n",
        "# b- Ask the user to input another number\n",
        "# c- Calculate the total of the two numbers added together\n",
        "\n",
        "#Hint use input for a and b\n",
        "\n",
        "a = int(input(\"Please enter the first number:\"))\n",
        "b = int(input(\"Please enter the second number:\"))\n",
        "\n",
        "print(\"The sum of your given numbers is:\", a+b)\n"
      ]
    }
  ]
}